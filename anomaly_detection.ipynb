{
 "cells": [
  {
   "cell_type": "markdown",
   "metadata": {},
   "source": [
    "## Anomaly Detection using Pycaret\n",
    "\n",
    "PyCaret’s Anomaly Detection Module is an unsupervised machine learning module that is used for identifying rare items, events or observations which raise suspicions by differing significantly from the majority of the data. Typically, the anomalous items will translate to some kind of problem such as bank fraud, a structural defect, medical problems or errors . This module provide several pre-processing features that prepares the data for modeling through setup function. This module has over 12 ready-to-use algorithms and several plots to analyze the results of trained models."
   ]
  },
  {
   "cell_type": "code",
   "execution_count": 3,
   "metadata": {},
   "outputs": [
    {
     "name": "stdout",
     "output_type": "stream",
     "text": [
      "\n",
      "Setup Succesfully Completed!\n"
     ]
    },
    {
     "data": {
      "text/html": [
       "<style  type=\"text/css\" >\n",
       "</style><table id=\"T_a0fb6dec_b4b9_11ea_8f21_380025f3998f\" ><thead>    <tr>        <th class=\"blank level0\" ></th>        <th class=\"col_heading level0 col0\" >Description</th>        <th class=\"col_heading level0 col1\" >Value</th>    </tr></thead><tbody>\n",
       "                <tr>\n",
       "                        <th id=\"T_a0fb6dec_b4b9_11ea_8f21_380025f3998flevel0_row0\" class=\"row_heading level0 row0\" >0</th>\n",
       "                        <td id=\"T_a0fb6dec_b4b9_11ea_8f21_380025f3998frow0_col0\" class=\"data row0 col0\" >session_id </td>\n",
       "                        <td id=\"T_a0fb6dec_b4b9_11ea_8f21_380025f3998frow0_col1\" class=\"data row0 col1\" >1474</td>\n",
       "            </tr>\n",
       "            <tr>\n",
       "                        <th id=\"T_a0fb6dec_b4b9_11ea_8f21_380025f3998flevel0_row1\" class=\"row_heading level0 row1\" >1</th>\n",
       "                        <td id=\"T_a0fb6dec_b4b9_11ea_8f21_380025f3998frow1_col0\" class=\"data row1 col0\" >Original Data </td>\n",
       "                        <td id=\"T_a0fb6dec_b4b9_11ea_8f21_380025f3998frow1_col1\" class=\"data row1 col1\" >(1000, 10)</td>\n",
       "            </tr>\n",
       "            <tr>\n",
       "                        <th id=\"T_a0fb6dec_b4b9_11ea_8f21_380025f3998flevel0_row2\" class=\"row_heading level0 row2\" >2</th>\n",
       "                        <td id=\"T_a0fb6dec_b4b9_11ea_8f21_380025f3998frow2_col0\" class=\"data row2 col0\" >Missing Values </td>\n",
       "                        <td id=\"T_a0fb6dec_b4b9_11ea_8f21_380025f3998frow2_col1\" class=\"data row2 col1\" >False</td>\n",
       "            </tr>\n",
       "            <tr>\n",
       "                        <th id=\"T_a0fb6dec_b4b9_11ea_8f21_380025f3998flevel0_row3\" class=\"row_heading level0 row3\" >3</th>\n",
       "                        <td id=\"T_a0fb6dec_b4b9_11ea_8f21_380025f3998frow3_col0\" class=\"data row3 col0\" >Numeric Features </td>\n",
       "                        <td id=\"T_a0fb6dec_b4b9_11ea_8f21_380025f3998frow3_col1\" class=\"data row3 col1\" >10</td>\n",
       "            </tr>\n",
       "            <tr>\n",
       "                        <th id=\"T_a0fb6dec_b4b9_11ea_8f21_380025f3998flevel0_row4\" class=\"row_heading level0 row4\" >4</th>\n",
       "                        <td id=\"T_a0fb6dec_b4b9_11ea_8f21_380025f3998frow4_col0\" class=\"data row4 col0\" >Categorical Features </td>\n",
       "                        <td id=\"T_a0fb6dec_b4b9_11ea_8f21_380025f3998frow4_col1\" class=\"data row4 col1\" >0</td>\n",
       "            </tr>\n",
       "            <tr>\n",
       "                        <th id=\"T_a0fb6dec_b4b9_11ea_8f21_380025f3998flevel0_row5\" class=\"row_heading level0 row5\" >5</th>\n",
       "                        <td id=\"T_a0fb6dec_b4b9_11ea_8f21_380025f3998frow5_col0\" class=\"data row5 col0\" >Ordinal Features </td>\n",
       "                        <td id=\"T_a0fb6dec_b4b9_11ea_8f21_380025f3998frow5_col1\" class=\"data row5 col1\" >False</td>\n",
       "            </tr>\n",
       "            <tr>\n",
       "                        <th id=\"T_a0fb6dec_b4b9_11ea_8f21_380025f3998flevel0_row6\" class=\"row_heading level0 row6\" >6</th>\n",
       "                        <td id=\"T_a0fb6dec_b4b9_11ea_8f21_380025f3998frow6_col0\" class=\"data row6 col0\" >High Cardinality Features </td>\n",
       "                        <td id=\"T_a0fb6dec_b4b9_11ea_8f21_380025f3998frow6_col1\" class=\"data row6 col1\" >False</td>\n",
       "            </tr>\n",
       "            <tr>\n",
       "                        <th id=\"T_a0fb6dec_b4b9_11ea_8f21_380025f3998flevel0_row7\" class=\"row_heading level0 row7\" >7</th>\n",
       "                        <td id=\"T_a0fb6dec_b4b9_11ea_8f21_380025f3998frow7_col0\" class=\"data row7 col0\" >Transformed Data </td>\n",
       "                        <td id=\"T_a0fb6dec_b4b9_11ea_8f21_380025f3998frow7_col1\" class=\"data row7 col1\" >(1000, 10)</td>\n",
       "            </tr>\n",
       "            <tr>\n",
       "                        <th id=\"T_a0fb6dec_b4b9_11ea_8f21_380025f3998flevel0_row8\" class=\"row_heading level0 row8\" >8</th>\n",
       "                        <td id=\"T_a0fb6dec_b4b9_11ea_8f21_380025f3998frow8_col0\" class=\"data row8 col0\" >Numeric Imputer </td>\n",
       "                        <td id=\"T_a0fb6dec_b4b9_11ea_8f21_380025f3998frow8_col1\" class=\"data row8 col1\" >mean</td>\n",
       "            </tr>\n",
       "            <tr>\n",
       "                        <th id=\"T_a0fb6dec_b4b9_11ea_8f21_380025f3998flevel0_row9\" class=\"row_heading level0 row9\" >9</th>\n",
       "                        <td id=\"T_a0fb6dec_b4b9_11ea_8f21_380025f3998frow9_col0\" class=\"data row9 col0\" >Categorical Imputer </td>\n",
       "                        <td id=\"T_a0fb6dec_b4b9_11ea_8f21_380025f3998frow9_col1\" class=\"data row9 col1\" >constant</td>\n",
       "            </tr>\n",
       "            <tr>\n",
       "                        <th id=\"T_a0fb6dec_b4b9_11ea_8f21_380025f3998flevel0_row10\" class=\"row_heading level0 row10\" >10</th>\n",
       "                        <td id=\"T_a0fb6dec_b4b9_11ea_8f21_380025f3998frow10_col0\" class=\"data row10 col0\" >Normalize </td>\n",
       "                        <td id=\"T_a0fb6dec_b4b9_11ea_8f21_380025f3998frow10_col1\" class=\"data row10 col1\" >False</td>\n",
       "            </tr>\n",
       "            <tr>\n",
       "                        <th id=\"T_a0fb6dec_b4b9_11ea_8f21_380025f3998flevel0_row11\" class=\"row_heading level0 row11\" >11</th>\n",
       "                        <td id=\"T_a0fb6dec_b4b9_11ea_8f21_380025f3998frow11_col0\" class=\"data row11 col0\" >Normalize Method </td>\n",
       "                        <td id=\"T_a0fb6dec_b4b9_11ea_8f21_380025f3998frow11_col1\" class=\"data row11 col1\" >None</td>\n",
       "            </tr>\n",
       "            <tr>\n",
       "                        <th id=\"T_a0fb6dec_b4b9_11ea_8f21_380025f3998flevel0_row12\" class=\"row_heading level0 row12\" >12</th>\n",
       "                        <td id=\"T_a0fb6dec_b4b9_11ea_8f21_380025f3998frow12_col0\" class=\"data row12 col0\" >Transformation </td>\n",
       "                        <td id=\"T_a0fb6dec_b4b9_11ea_8f21_380025f3998frow12_col1\" class=\"data row12 col1\" >False</td>\n",
       "            </tr>\n",
       "            <tr>\n",
       "                        <th id=\"T_a0fb6dec_b4b9_11ea_8f21_380025f3998flevel0_row13\" class=\"row_heading level0 row13\" >13</th>\n",
       "                        <td id=\"T_a0fb6dec_b4b9_11ea_8f21_380025f3998frow13_col0\" class=\"data row13 col0\" >Transformation Method </td>\n",
       "                        <td id=\"T_a0fb6dec_b4b9_11ea_8f21_380025f3998frow13_col1\" class=\"data row13 col1\" >None</td>\n",
       "            </tr>\n",
       "            <tr>\n",
       "                        <th id=\"T_a0fb6dec_b4b9_11ea_8f21_380025f3998flevel0_row14\" class=\"row_heading level0 row14\" >14</th>\n",
       "                        <td id=\"T_a0fb6dec_b4b9_11ea_8f21_380025f3998frow14_col0\" class=\"data row14 col0\" >PCA </td>\n",
       "                        <td id=\"T_a0fb6dec_b4b9_11ea_8f21_380025f3998frow14_col1\" class=\"data row14 col1\" >False</td>\n",
       "            </tr>\n",
       "            <tr>\n",
       "                        <th id=\"T_a0fb6dec_b4b9_11ea_8f21_380025f3998flevel0_row15\" class=\"row_heading level0 row15\" >15</th>\n",
       "                        <td id=\"T_a0fb6dec_b4b9_11ea_8f21_380025f3998frow15_col0\" class=\"data row15 col0\" >PCA Method </td>\n",
       "                        <td id=\"T_a0fb6dec_b4b9_11ea_8f21_380025f3998frow15_col1\" class=\"data row15 col1\" >None</td>\n",
       "            </tr>\n",
       "            <tr>\n",
       "                        <th id=\"T_a0fb6dec_b4b9_11ea_8f21_380025f3998flevel0_row16\" class=\"row_heading level0 row16\" >16</th>\n",
       "                        <td id=\"T_a0fb6dec_b4b9_11ea_8f21_380025f3998frow16_col0\" class=\"data row16 col0\" >PCA components </td>\n",
       "                        <td id=\"T_a0fb6dec_b4b9_11ea_8f21_380025f3998frow16_col1\" class=\"data row16 col1\" >None</td>\n",
       "            </tr>\n",
       "            <tr>\n",
       "                        <th id=\"T_a0fb6dec_b4b9_11ea_8f21_380025f3998flevel0_row17\" class=\"row_heading level0 row17\" >17</th>\n",
       "                        <td id=\"T_a0fb6dec_b4b9_11ea_8f21_380025f3998frow17_col0\" class=\"data row17 col0\" >Ignore Low Variance </td>\n",
       "                        <td id=\"T_a0fb6dec_b4b9_11ea_8f21_380025f3998frow17_col1\" class=\"data row17 col1\" >False</td>\n",
       "            </tr>\n",
       "            <tr>\n",
       "                        <th id=\"T_a0fb6dec_b4b9_11ea_8f21_380025f3998flevel0_row18\" class=\"row_heading level0 row18\" >18</th>\n",
       "                        <td id=\"T_a0fb6dec_b4b9_11ea_8f21_380025f3998frow18_col0\" class=\"data row18 col0\" >Combine Rare Levels </td>\n",
       "                        <td id=\"T_a0fb6dec_b4b9_11ea_8f21_380025f3998frow18_col1\" class=\"data row18 col1\" >False</td>\n",
       "            </tr>\n",
       "            <tr>\n",
       "                        <th id=\"T_a0fb6dec_b4b9_11ea_8f21_380025f3998flevel0_row19\" class=\"row_heading level0 row19\" >19</th>\n",
       "                        <td id=\"T_a0fb6dec_b4b9_11ea_8f21_380025f3998frow19_col0\" class=\"data row19 col0\" >Rare Level Threshold </td>\n",
       "                        <td id=\"T_a0fb6dec_b4b9_11ea_8f21_380025f3998frow19_col1\" class=\"data row19 col1\" >None</td>\n",
       "            </tr>\n",
       "            <tr>\n",
       "                        <th id=\"T_a0fb6dec_b4b9_11ea_8f21_380025f3998flevel0_row20\" class=\"row_heading level0 row20\" >20</th>\n",
       "                        <td id=\"T_a0fb6dec_b4b9_11ea_8f21_380025f3998frow20_col0\" class=\"data row20 col0\" >Numeric Binning </td>\n",
       "                        <td id=\"T_a0fb6dec_b4b9_11ea_8f21_380025f3998frow20_col1\" class=\"data row20 col1\" >False</td>\n",
       "            </tr>\n",
       "            <tr>\n",
       "                        <th id=\"T_a0fb6dec_b4b9_11ea_8f21_380025f3998flevel0_row21\" class=\"row_heading level0 row21\" >21</th>\n",
       "                        <td id=\"T_a0fb6dec_b4b9_11ea_8f21_380025f3998frow21_col0\" class=\"data row21 col0\" >Remove Multicollinearity </td>\n",
       "                        <td id=\"T_a0fb6dec_b4b9_11ea_8f21_380025f3998frow21_col1\" class=\"data row21 col1\" >False</td>\n",
       "            </tr>\n",
       "            <tr>\n",
       "                        <th id=\"T_a0fb6dec_b4b9_11ea_8f21_380025f3998flevel0_row22\" class=\"row_heading level0 row22\" >22</th>\n",
       "                        <td id=\"T_a0fb6dec_b4b9_11ea_8f21_380025f3998frow22_col0\" class=\"data row22 col0\" >Multicollinearity Threshold </td>\n",
       "                        <td id=\"T_a0fb6dec_b4b9_11ea_8f21_380025f3998frow22_col1\" class=\"data row22 col1\" >None</td>\n",
       "            </tr>\n",
       "            <tr>\n",
       "                        <th id=\"T_a0fb6dec_b4b9_11ea_8f21_380025f3998flevel0_row23\" class=\"row_heading level0 row23\" >23</th>\n",
       "                        <td id=\"T_a0fb6dec_b4b9_11ea_8f21_380025f3998frow23_col0\" class=\"data row23 col0\" >Group Features </td>\n",
       "                        <td id=\"T_a0fb6dec_b4b9_11ea_8f21_380025f3998frow23_col1\" class=\"data row23 col1\" >False</td>\n",
       "            </tr>\n",
       "    </tbody></table>"
      ],
      "text/plain": [
       "<pandas.io.formats.style.Styler at 0x2086622d988>"
      ]
     },
     "metadata": {},
     "output_type": "display_data"
    }
   ],
   "source": [
    "# importing dependencies here\n",
    "from pycaret.datasets import get_data\n",
    "anomaly = get_data(\"anomaly\")\n",
    "\n",
    "# importing anomaly detection module\n",
    "from pycaret.anomaly import *\n",
    "\n",
    "# initializing the setup function used for pre-processing \n",
    "setup_anomaly_data = setup(anomaly)"
   ]
  },
  {
   "cell_type": "code",
   "execution_count": 4,
   "metadata": {},
   "outputs": [
    {
     "data": {
      "text/html": [
       "<div>\n",
       "<style scoped>\n",
       "    .dataframe tbody tr th:only-of-type {\n",
       "        vertical-align: middle;\n",
       "    }\n",
       "\n",
       "    .dataframe tbody tr th {\n",
       "        vertical-align: top;\n",
       "    }\n",
       "\n",
       "    .dataframe thead th {\n",
       "        text-align: right;\n",
       "    }\n",
       "</style>\n",
       "<table border=\"1\" class=\"dataframe\">\n",
       "  <thead>\n",
       "    <tr style=\"text-align: right;\">\n",
       "      <th></th>\n",
       "      <th>Col1</th>\n",
       "      <th>Col2</th>\n",
       "      <th>Col3</th>\n",
       "      <th>Col4</th>\n",
       "      <th>Col5</th>\n",
       "      <th>Col6</th>\n",
       "      <th>Col7</th>\n",
       "      <th>Col8</th>\n",
       "      <th>Col9</th>\n",
       "      <th>Col10</th>\n",
       "    </tr>\n",
       "  </thead>\n",
       "  <tbody>\n",
       "    <tr>\n",
       "      <th>0</th>\n",
       "      <td>0.263995</td>\n",
       "      <td>0.764929</td>\n",
       "      <td>0.138424</td>\n",
       "      <td>0.935242</td>\n",
       "      <td>0.605867</td>\n",
       "      <td>0.518790</td>\n",
       "      <td>0.912225</td>\n",
       "      <td>0.608234</td>\n",
       "      <td>0.723782</td>\n",
       "      <td>0.733591</td>\n",
       "    </tr>\n",
       "    <tr>\n",
       "      <th>1</th>\n",
       "      <td>0.546092</td>\n",
       "      <td>0.653975</td>\n",
       "      <td>0.065575</td>\n",
       "      <td>0.227772</td>\n",
       "      <td>0.845269</td>\n",
       "      <td>0.837066</td>\n",
       "      <td>0.272379</td>\n",
       "      <td>0.331679</td>\n",
       "      <td>0.429297</td>\n",
       "      <td>0.367422</td>\n",
       "    </tr>\n",
       "    <tr>\n",
       "      <th>2</th>\n",
       "      <td>0.336714</td>\n",
       "      <td>0.538842</td>\n",
       "      <td>0.192801</td>\n",
       "      <td>0.553563</td>\n",
       "      <td>0.074515</td>\n",
       "      <td>0.332993</td>\n",
       "      <td>0.365792</td>\n",
       "      <td>0.861309</td>\n",
       "      <td>0.899017</td>\n",
       "      <td>0.088600</td>\n",
       "    </tr>\n",
       "    <tr>\n",
       "      <th>3</th>\n",
       "      <td>0.092108</td>\n",
       "      <td>0.995017</td>\n",
       "      <td>0.014465</td>\n",
       "      <td>0.176371</td>\n",
       "      <td>0.241530</td>\n",
       "      <td>0.514724</td>\n",
       "      <td>0.562208</td>\n",
       "      <td>0.158963</td>\n",
       "      <td>0.073715</td>\n",
       "      <td>0.208463</td>\n",
       "    </tr>\n",
       "    <tr>\n",
       "      <th>4</th>\n",
       "      <td>0.325261</td>\n",
       "      <td>0.805968</td>\n",
       "      <td>0.957033</td>\n",
       "      <td>0.331665</td>\n",
       "      <td>0.307923</td>\n",
       "      <td>0.355315</td>\n",
       "      <td>0.501899</td>\n",
       "      <td>0.558449</td>\n",
       "      <td>0.885169</td>\n",
       "      <td>0.182754</td>\n",
       "    </tr>\n",
       "    <tr>\n",
       "      <th>...</th>\n",
       "      <td>...</td>\n",
       "      <td>...</td>\n",
       "      <td>...</td>\n",
       "      <td>...</td>\n",
       "      <td>...</td>\n",
       "      <td>...</td>\n",
       "      <td>...</td>\n",
       "      <td>...</td>\n",
       "      <td>...</td>\n",
       "      <td>...</td>\n",
       "    </tr>\n",
       "    <tr>\n",
       "      <th>995</th>\n",
       "      <td>0.305055</td>\n",
       "      <td>0.656837</td>\n",
       "      <td>0.331665</td>\n",
       "      <td>0.822525</td>\n",
       "      <td>0.907127</td>\n",
       "      <td>0.882276</td>\n",
       "      <td>0.855732</td>\n",
       "      <td>0.584786</td>\n",
       "      <td>0.808640</td>\n",
       "      <td>0.242762</td>\n",
       "    </tr>\n",
       "    <tr>\n",
       "      <th>996</th>\n",
       "      <td>0.812627</td>\n",
       "      <td>0.864258</td>\n",
       "      <td>0.616604</td>\n",
       "      <td>0.167966</td>\n",
       "      <td>0.811223</td>\n",
       "      <td>0.938071</td>\n",
       "      <td>0.418462</td>\n",
       "      <td>0.472306</td>\n",
       "      <td>0.348347</td>\n",
       "      <td>0.671129</td>\n",
       "    </tr>\n",
       "    <tr>\n",
       "      <th>997</th>\n",
       "      <td>0.250967</td>\n",
       "      <td>0.138627</td>\n",
       "      <td>0.919703</td>\n",
       "      <td>0.461234</td>\n",
       "      <td>0.886555</td>\n",
       "      <td>0.869888</td>\n",
       "      <td>0.800908</td>\n",
       "      <td>0.530324</td>\n",
       "      <td>0.779433</td>\n",
       "      <td>0.234952</td>\n",
       "    </tr>\n",
       "    <tr>\n",
       "      <th>998</th>\n",
       "      <td>0.502436</td>\n",
       "      <td>0.936820</td>\n",
       "      <td>0.580062</td>\n",
       "      <td>0.540773</td>\n",
       "      <td>0.151995</td>\n",
       "      <td>0.059452</td>\n",
       "      <td>0.225220</td>\n",
       "      <td>0.242755</td>\n",
       "      <td>0.279385</td>\n",
       "      <td>0.538755</td>\n",
       "    </tr>\n",
       "    <tr>\n",
       "      <th>999</th>\n",
       "      <td>0.457991</td>\n",
       "      <td>0.017755</td>\n",
       "      <td>0.714113</td>\n",
       "      <td>0.125992</td>\n",
       "      <td>0.063316</td>\n",
       "      <td>0.154739</td>\n",
       "      <td>0.922974</td>\n",
       "      <td>0.692299</td>\n",
       "      <td>0.816777</td>\n",
       "      <td>0.307592</td>\n",
       "    </tr>\n",
       "  </tbody>\n",
       "</table>\n",
       "<p>1000 rows × 10 columns</p>\n",
       "</div>"
      ],
      "text/plain": [
       "         Col1      Col2      Col3      Col4      Col5      Col6      Col7  \\\n",
       "0    0.263995  0.764929  0.138424  0.935242  0.605867  0.518790  0.912225   \n",
       "1    0.546092  0.653975  0.065575  0.227772  0.845269  0.837066  0.272379   \n",
       "2    0.336714  0.538842  0.192801  0.553563  0.074515  0.332993  0.365792   \n",
       "3    0.092108  0.995017  0.014465  0.176371  0.241530  0.514724  0.562208   \n",
       "4    0.325261  0.805968  0.957033  0.331665  0.307923  0.355315  0.501899   \n",
       "..        ...       ...       ...       ...       ...       ...       ...   \n",
       "995  0.305055  0.656837  0.331665  0.822525  0.907127  0.882276  0.855732   \n",
       "996  0.812627  0.864258  0.616604  0.167966  0.811223  0.938071  0.418462   \n",
       "997  0.250967  0.138627  0.919703  0.461234  0.886555  0.869888  0.800908   \n",
       "998  0.502436  0.936820  0.580062  0.540773  0.151995  0.059452  0.225220   \n",
       "999  0.457991  0.017755  0.714113  0.125992  0.063316  0.154739  0.922974   \n",
       "\n",
       "         Col8      Col9     Col10  \n",
       "0    0.608234  0.723782  0.733591  \n",
       "1    0.331679  0.429297  0.367422  \n",
       "2    0.861309  0.899017  0.088600  \n",
       "3    0.158963  0.073715  0.208463  \n",
       "4    0.558449  0.885169  0.182754  \n",
       "..        ...       ...       ...  \n",
       "995  0.584786  0.808640  0.242762  \n",
       "996  0.472306  0.348347  0.671129  \n",
       "997  0.530324  0.779433  0.234952  \n",
       "998  0.242755  0.279385  0.538755  \n",
       "999  0.692299  0.816777  0.307592  \n",
       "\n",
       "[1000 rows x 10 columns]"
      ]
     },
     "execution_count": 4,
     "metadata": {},
     "output_type": "execute_result"
    }
   ],
   "source": [
    "# checking the dataset\n",
    "anomaly"
   ]
  },
  {
   "cell_type": "markdown",
   "metadata": {},
   "source": [
    "## Creating Anomaly Detection Models"
   ]
  },
  {
   "cell_type": "markdown",
   "metadata": {},
   "source": [
    "### Isolation Forest"
   ]
  },
  {
   "cell_type": "code",
   "execution_count": 5,
   "metadata": {},
   "outputs": [
    {
     "data": {
      "text/html": [
       "        <script type=\"text/javascript\">\n",
       "        window.PlotlyConfig = {MathJaxConfig: 'local'};\n",
       "        if (window.MathJax) {MathJax.Hub.Config({SVG: {font: \"STIX-Web\"}});}\n",
       "        if (typeof require !== 'undefined') {\n",
       "        require.undef(\"plotly\");\n",
       "        requirejs.config({\n",
       "            paths: {\n",
       "                'plotly': ['https://cdn.plot.ly/plotly-latest.min']\n",
       "            }\n",
       "        });\n",
       "        require(['plotly'], function(Plotly) {\n",
       "            window._Plotly = Plotly;\n",
       "        });\n",
       "        }\n",
       "        </script>\n",
       "        "
      ]
     },
     "metadata": {},
     "output_type": "display_data"
    },
    {
     "data": {
      "application/vnd.plotly.v1+json": {
       "config": {
        "plotlyServerURL": "https://plot.ly"
       },
       "data": [
        {
         "customdata": [
          [
           0.263995357
          ],
          [
           0.546092303
          ],
          [
           0.33671410399999996
          ],
          [
           0.092107835
          ],
          [
           0.325261175
          ],
          [
           0.212464853
          ],
          [
           0.258565714
          ],
          [
           0.869236755
          ],
          [
           0.197077957
          ],
          [
           0.292984504
          ],
          [
           0.82178316
          ],
          [
           0.796622959
          ],
          [
           0.045577010999999994
          ],
          [
           0.613660351
          ],
          [
           0.9507445659999999
          ],
          [
           0.33634633700000005
          ],
          [
           0.034440667
          ],
          [
           0.741544275
          ],
          [
           0.18443265
          ],
          [
           0.664514943
          ],
          [
           0.16282485800000002
          ],
          [
           0.729838445
          ],
          [
           0.62837389
          ],
          [
           0.057883660999999996
          ],
          [
           0.445534827
          ],
          [
           0.80183695
          ],
          [
           0.27709612
          ],
          [
           0.228634015
          ],
          [
           0.834860657
          ],
          [
           0.6697665110000001
          ],
          [
           0.532527349
          ],
          [
           0.17045907100000002
          ],
          [
           0.5102884679999999
          ],
          [
           0.977561989
          ],
          [
           0.249775993
          ],
          [
           0.9755006820000001
          ],
          [
           0.613701727
          ],
          [
           0.16742036300000002
          ],
          [
           0.537472516
          ],
          [
           0.379899131
          ],
          [
           0.633897303
          ],
          [
           0.633960424
          ],
          [
           0.5499746529999999
          ],
          [
           0.178172988
          ],
          [
           0.85563814
          ],
          [
           0.321796672
          ],
          [
           0.8174905370000001
          ],
          [
           0.254879417
          ],
          [
           0.344140513
          ],
          [
           0.8061457259999999
          ],
          [
           0.27708167100000003
          ],
          [
           0.544328519
          ],
          [
           0.07708393
          ],
          [
           0.273081458
          ],
          [
           0.390877336
          ],
          [
           0.349621385
          ],
          [
           0.214549744
          ],
          [
           0.206075222
          ],
          [
           0.86461997
          ],
          [
           0.9817088540000001
          ],
          [
           0.33482964600000004
          ],
          [
           0.648387061
          ],
          [
           0.093643561
          ],
          [
           0.837802698
          ],
          [
           0.7603439670000001
          ],
          [
           0.29140417399999996
          ],
          [
           0.3413454
          ],
          [
           0.7611124840000001
          ],
          [
           0.541899775
          ],
          [
           0.684176639
          ],
          [
           0.983535597
          ],
          [
           0.52081245
          ],
          [
           0.328227724
          ],
          [
           0.09715793800000001
          ],
          [
           0.876088593
          ],
          [
           0.870214512
          ],
          [
           0.656086992
          ],
          [
           0.306791514
          ],
          [
           0.48126734
          ],
          [
           0.259559174
          ],
          [
           0.326123655
          ],
          [
           0.930568042
          ],
          [
           0.6583894
          ],
          [
           0.689992335
          ],
          [
           0.315781109
          ],
          [
           0.5669050929999999
          ],
          [
           0.637526619
          ],
          [
           0.687540723
          ],
          [
           0.324300602
          ],
          [
           0.592704906
          ],
          [
           0.7402531259999999
          ],
          [
           0.5940328770000001
          ],
          [
           0.596452977
          ],
          [
           0.27768081699999997
          ],
          [
           0.258329663
          ],
          [
           0.142460864
          ],
          [
           0.435533461
          ],
          [
           0.7024990440000001
          ],
          [
           0.58897535
          ],
          [
           0.653304374
          ],
          [
           0.336968524
          ],
          [
           0.631244736
          ],
          [
           0.73530076
          ],
          [
           0.050390366
          ],
          [
           0.064264924
          ],
          [
           0.665359476
          ],
          [
           0.917835245
          ],
          [
           0.44651012
          ],
          [
           0.661938199
          ],
          [
           0.43935985299999997
          ],
          [
           0.6875724040000001
          ],
          [
           0.363462248
          ],
          [
           0.6542621820000001
          ],
          [
           0.578553536
          ],
          [
           0.065927945
          ],
          [
           0.550148559
          ],
          [
           0.13918281400000002
          ],
          [
           0.080004635
          ],
          [
           0.278228358
          ],
          [
           0.560124266
          ],
          [
           0.53639864
          ],
          [
           0.42653190399999996
          ],
          [
           0.789109796
          ],
          [
           0.742900474
          ],
          [
           0.901692589
          ],
          [
           0.650337401
          ],
          [
           0.114057311
          ],
          [
           0.260812592
          ],
          [
           0.43991232
          ],
          [
           0.964409284
          ],
          [
           0.184401415
          ],
          [
           0.345145446
          ],
          [
           0.17589458100000002
          ],
          [
           0.312514453
          ],
          [
           0.674131879
          ],
          [
           0.32825045
          ],
          [
           0.598231057
          ],
          [
           0.09259881699999999
          ],
          [
           0.497916521
          ],
          [
           0.419776521
          ],
          [
           0.31217670000000003
          ],
          [
           0.937857107
          ],
          [
           0.049030963
          ],
          [
           0.47610452600000003
          ],
          [
           0.447397526
          ],
          [
           0.295806058
          ],
          [
           0.737363977
          ],
          [
           0.625896253
          ],
          [
           0.408813429
          ],
          [
           0.437511156
          ],
          [
           0.691351375
          ],
          [
           0.935555275
          ],
          [
           0.437846654
          ],
          [
           0.072217715
          ],
          [
           0.67636067
          ],
          [
           0.468883999
          ],
          [
           0.543820644
          ],
          [
           0.6555226470000001
          ],
          [
           0.6935289240000001
          ],
          [
           0.10887831199999999
          ],
          [
           0.285463743
          ],
          [
           0
          ],
          [
           0.706495497
          ],
          [
           0.273530633
          ],
          [
           0.292320271
          ],
          [
           0.673984307
          ],
          [
           0.12612182800000002
          ],
          [
           0.9467074590000001
          ],
          [
           0.9363388979999999
          ],
          [
           0.8537553640000001
          ],
          [
           0.7060713609999999
          ],
          [
           0.693682186
          ],
          [
           0.508527882
          ],
          [
           0.34717038899999997
          ],
          [
           0.704154263
          ],
          [
           0.658730088
          ],
          [
           0.155841557
          ],
          [
           0.311085435
          ],
          [
           0.281135347
          ],
          [
           0.094587802
          ],
          [
           0.6832609540000001
          ],
          [
           0.9077292509999999
          ],
          [
           0.29151267399999997
          ],
          [
           0.752734459
          ],
          [
           0.93482964
          ],
          [
           0.071413953
          ],
          [
           0.5948963270000001
          ],
          [
           0.404672015
          ],
          [
           0.13837621
          ],
          [
           0.7473384679999999
          ],
          [
           0.530882486
          ],
          [
           0.282649594
          ],
          [
           0.699335734
          ],
          [
           0.056111250999999994
          ],
          [
           0.855234998
          ],
          [
           0.07789512700000001
          ],
          [
           0.891649583
          ],
          [
           0.38674227899999997
          ],
          [
           0.27113158
          ],
          [
           0.958888961
          ],
          [
           0.085120869
          ],
          [
           0.5269022489999999
          ],
          [
           0.066577785
          ],
          [
           0.841506738
          ],
          [
           0.255342095
          ],
          [
           0.060545771
          ],
          [
           0.073385869
          ],
          [
           0.187493723
          ],
          [
           0.858365688
          ],
          [
           0.090640352
          ],
          [
           0.7097252270000001
          ],
          [
           0.631300647
          ],
          [
           0.24750447399999997
          ],
          [
           0.822843584
          ],
          [
           0.373476759
          ],
          [
           0.625538582
          ],
          [
           0.292951715
          ],
          [
           0.299730324
          ],
          [
           0.25121407
          ],
          [
           0.344480551
          ],
          [
           0.293064767
          ],
          [
           0.7628032240000001
          ],
          [
           0.7384708040000001
          ],
          [
           0.674883265
          ],
          [
           0.719151612
          ],
          [
           0.13098021599999998
          ],
          [
           0.511328036
          ],
          [
           0.04492903
          ],
          [
           0.560914449
          ],
          [
           0.7440406409999999
          ],
          [
           0.266961634
          ],
          [
           0.644231853
          ],
          [
           0.038113352
          ],
          [
           0.05715529900000001
          ],
          [
           0.34139246100000004
          ],
          [
           0.7204636320000001
          ],
          [
           0.402878236
          ],
          [
           0.635148967
          ],
          [
           0.320729467
          ],
          [
           0.09120969400000001
          ],
          [
           0.23414609
          ],
          [
           0.8902211309999999
          ],
          [
           0.602170884
          ],
          [
           0.633652055
          ],
          [
           0.806240837
          ],
          [
           0.739731184
          ],
          [
           0.465231269
          ],
          [
           0.7321109
          ],
          [
           0.373874305
          ],
          [
           0.501587947
          ],
          [
           0.11538315800000001
          ],
          [
           0.7319466040000001
          ],
          [
           0.41829872799999995
          ],
          [
           0.062259590999999996
          ],
          [
           0.391496379
          ],
          [
           0.35984929
          ],
          [
           0.24523562699999998
          ],
          [
           0.610028339
          ],
          [
           0.43540360200000006
          ],
          [
           0.434309675
          ],
          [
           0.523763344
          ],
          [
           0.17118786600000002
          ],
          [
           0.18773430300000002
          ],
          [
           0.945014638
          ],
          [
           0.027851097000000002
          ],
          [
           0.68445706
          ],
          [
           0.178014532
          ],
          [
           0.643427879
          ],
          [
           0.59588355
          ],
          [
           0.372361682
          ],
          [
           0.586103584
          ],
          [
           0.271658852
          ],
          [
           0.59951107
          ],
          [
           0.468363088
          ],
          [
           0.314515565
          ],
          [
           0.21893726
          ],
          [
           0.254716562
          ],
          [
           0.25612815
          ],
          [
           0.602259755
          ],
          [
           0.134381075
          ],
          [
           0.513887424
          ],
          [
           0.624241636
          ],
          [
           0.160251854
          ],
          [
           0.580708108
          ],
          [
           0.270540486
          ],
          [
           0.832919932
          ],
          [
           0.93032134
          ],
          [
           0.719157884
          ],
          [
           0.886720033
          ],
          [
           0.098792281
          ],
          [
           0.787174286
          ],
          [
           0.365592376
          ],
          [
           0.719576193
          ],
          [
           0.8058956
          ],
          [
           0.7555783340000001
          ],
          [
           0.526005909
          ],
          [
           0.68880424
          ],
          [
           0.22111531199999998
          ],
          [
           0.739369477
          ],
          [
           0.408440236
          ],
          [
           0.348926542
          ],
          [
           0.433713763
          ],
          [
           0.5964966070000001
          ],
          [
           0.6942953000000001
          ],
          [
           0.7090309659999999
          ],
          [
           0.867652984
          ],
          [
           0.89332545
          ],
          [
           0.746020922
          ],
          [
           0.538284443
          ],
          [
           0.8922193140000001
          ],
          [
           0.935175765
          ],
          [
           0.260527707
          ],
          [
           0.956780449
          ],
          [
           0.204932484
          ],
          [
           0.687733351
          ],
          [
           0.329063619
          ],
          [
           0.632149831
          ],
          [
           0.463744506
          ],
          [
           0.698859621
          ],
          [
           0.385446564
          ],
          [
           0.47997537700000004
          ],
          [
           0.732279108
          ],
          [
           0.3813543
          ],
          [
           0.459326013
          ],
          [
           0.257401434
          ],
          [
           0.665014804
          ],
          [
           0.103399542
          ],
          [
           0.425284413
          ],
          [
           0.943529051
          ],
          [
           0.594750236
          ],
          [
           0.543776817
          ],
          [
           0.18203988
          ],
          [
           0.23584208399999998
          ],
          [
           0.585984497
          ],
          [
           0.762013168
          ],
          [
           0.6849829070000001
          ],
          [
           0.676936933
          ],
          [
           0.290184964
          ],
          [
           0.48106822200000005
          ],
          [
           0.492766033
          ],
          [
           0.22185623399999999
          ],
          [
           0.053875998
          ],
          [
           0.082751144
          ],
          [
           0.385366225
          ],
          [
           0.702513961
          ],
          [
           0.91553156
          ],
          [
           0.082087436
          ],
          [
           0.251280378
          ],
          [
           0.41672181700000005
          ],
          [
           0.277032672
          ],
          [
           0.579539754
          ],
          [
           0.569363476
          ],
          [
           0.133399703
          ],
          [
           0.265045463
          ],
          [
           0.936571901
          ],
          [
           0.252618554
          ],
          [
           0.054033081
          ],
          [
           0.802481439
          ],
          [
           0.528197693
          ],
          [
           0.9515026
          ],
          [
           0.572121173
          ],
          [
           0.752938227
          ],
          [
           0.143857535
          ],
          [
           0.513484576
          ],
          [
           0.313322389
          ],
          [
           0.6877973959999999
          ],
          [
           0.37705984
          ],
          [
           0.348226142
          ],
          [
           0.67763282
          ],
          [
           0.24138752100000002
          ],
          [
           0.8506501790000001
          ],
          [
           0.22034810300000002
          ],
          [
           0.476445464
          ],
          [
           0.690324025
          ],
          [
           0.364695946
          ],
          [
           0.6492491970000001
          ],
          [
           0.9437019209999999
          ],
          [
           0.529645971
          ],
          [
           0.299097002
          ],
          [
           0.96696247
          ],
          [
           0.272005242
          ],
          [
           0.314161447
          ],
          [
           0.752020991
          ],
          [
           0.221882453
          ],
          [
           0.7203326729999999
          ],
          [
           0.379204782
          ],
          [
           0.60168653
          ],
          [
           0.582932673
          ],
          [
           0.950809853
          ],
          [
           0.58830141
          ],
          [
           0.880887227
          ],
          [
           0.467857701
          ],
          [
           0.8799021709999999
          ],
          [
           0.619844009
          ],
          [
           0.359002573
          ],
          [
           0.291511278
          ],
          [
           0.694157143
          ],
          [
           0.727960353
          ],
          [
           0.617703921
          ],
          [
           0.39581257
          ],
          [
           0.58317282
          ],
          [
           0.710332374
          ],
          [
           0.253753693
          ],
          [
           0.049412227999999996
          ],
          [
           0.728378695
          ],
          [
           0.432432881
          ],
          [
           0.58612345
          ],
          [
           0.052342373
          ],
          [
           0.053483902
          ],
          [
           0.518729378
          ],
          [
           0.933040208
          ],
          [
           0.7035542840000001
          ],
          [
           0.268989899
          ],
          [
           0.733006927
          ],
          [
           0.44435246700000003
          ],
          [
           0.5833946210000001
          ],
          [
           0.871172692
          ],
          [
           0.42876707799999997
          ],
          [
           0.30046084100000003
          ],
          [
           0.9533294590000001
          ],
          [
           0.606443965
          ],
          [
           0.90986815
          ],
          [
           0.714896449
          ],
          [
           0.49734950899999997
          ],
          [
           0.8530974859999999
          ],
          [
           0.721804145
          ],
          [
           0.303467328
          ],
          [
           0.664485096
          ],
          [
           0.27978062
          ],
          [
           0.569481665
          ],
          [
           0.628628926
          ],
          [
           0.088368123
          ],
          [
           0.733567326
          ],
          [
           0.537436778
          ],
          [
           0.638593691
          ],
          [
           0.954726948
          ],
          [
           0.632202332
          ],
          [
           0.642134651
          ],
          [
           0.744653087
          ],
          [
           0.115714007
          ],
          [
           0.48625007299999995
          ],
          [
           0.440356144
          ],
          [
           0.08272289
          ],
          [
           0.511591027
          ],
          [
           0.394627555
          ],
          [
           0.224394
          ],
          [
           0.626927584
          ],
          [
           0.290254057
          ],
          [
           0.779008053
          ],
          [
           0.86610579
          ],
          [
           0.873326081
          ],
          [
           0.49548916
          ],
          [
           0.594297695
          ],
          [
           0.9182015840000001
          ],
          [
           0.5770427539999999
          ],
          [
           0.019467671000000002
          ],
          [
           0.6702982820000001
          ],
          [
           0.546595316
          ],
          [
           0.591665146
          ],
          [
           0.42155819
          ],
          [
           0.6856085590000001
          ],
          [
           0.340303024
          ],
          [
           0.675626741
          ],
          [
           0.319067345
          ],
          [
           0.38849966399999997
          ],
          [
           0.706949589
          ],
          [
           0.559409515
          ],
          [
           0.687663508
          ],
          [
           0.7088045540000001
          ],
          [
           0.6818880940000001
          ],
          [
           0.42253510899999996
          ],
          [
           0.320004605
          ],
          [
           0.6582813679999999
          ],
          [
           0.634154867
          ],
          [
           0.7773320090000001
          ],
          [
           0.812677205
          ],
          [
           0.074280797
          ],
          [
           0.39600217
          ],
          [
           0.054933913
          ],
          [
           0.825058925
          ],
          [
           0.382642009
          ],
          [
           0.8687298179999999
          ],
          [
           0.588043346
          ],
          [
           0.891551577
          ],
          [
           0.10920046
          ],
          [
           0.647682781
          ],
          [
           0.724342512
          ],
          [
           0.07016304400000001
          ],
          [
           0.280882054
          ],
          [
           0.039113261
          ],
          [
           0.579641592
          ],
          [
           0.639000922
          ],
          [
           0.281745925
          ],
          [
           0.647857744
          ],
          [
           0.6479057970000001
          ],
          [
           0.875226264
          ],
          [
           0.567603305
          ],
          [
           0.262940591
          ],
          [
           0.268026042
          ],
          [
           0.40519133
          ],
          [
           0.479965451
          ],
          [
           0.33552403
          ],
          [
           0.777165379
          ],
          [
           0.42548796299999997
          ],
          [
           0.237986115
          ],
          [
           0.142522971
          ],
          [
           0.724176488
          ],
          [
           0.234698933
          ],
          [
           0.07818228099999999
          ],
          [
           0.855990155
          ],
          [
           0.270251765
          ],
          [
           0.435517841
          ],
          [
           0.762697513
          ],
          [
           0.46448725799999996
          ],
          [
           0.396112685
          ],
          [
           0.37638092100000003
          ],
          [
           0.29459467699999997
          ],
          [
           0.6944921209999999
          ],
          [
           0.622767949
          ],
          [
           0.8475597220000001
          ],
          [
           0.301463054
          ],
          [
           0.912937812
          ],
          [
           0.500017182
          ],
          [
           0.902587935
          ],
          [
           0.304517943
          ],
          [
           0.299165673
          ],
          [
           0.092014087
          ],
          [
           0.488548917
          ],
          [
           0.664664437
          ],
          [
           0.26534954899999996
          ],
          [
           0.723657021
          ],
          [
           0.149262385
          ],
          [
           0.04577339
          ],
          [
           0.69661064
          ],
          [
           0.42181486
          ],
          [
           0.733845785
          ],
          [
           0.418795386
          ],
          [
           0.677443529
          ],
          [
           0.26128360300000003
          ],
          [
           0.268527767
          ],
          [
           0.5443222360000001
          ],
          [
           0.431632036
          ],
          [
           0.981018141
          ],
          [
           0.21498072399999998
          ],
          [
           0.39472999299999995
          ],
          [
           0.122224944
          ],
          [
           0.297496875
          ],
          [
           0.37490443100000004
          ],
          [
           0.68698771
          ],
          [
           0.388549207
          ],
          [
           0.039296071
          ],
          [
           0.73553424
          ],
          [
           0.37929489299999997
          ],
          [
           0.7321233859999999
          ],
          [
           0.33922143899999996
          ],
          [
           0.659450594
          ],
          [
           0.054838642
          ],
          [
           0.640112102
          ],
          [
           0.30714170399999996
          ],
          [
           0.39661190700000004
          ],
          [
           0.420439161
          ],
          [
           0.24171497399999997
          ],
          [
           0.065893153
          ],
          [
           0.9105219370000001
          ],
          [
           0.697163103
          ],
          [
           0.072559853
          ],
          [
           0.81825094
          ],
          [
           0.311888815
          ],
          [
           0.961644609
          ],
          [
           0.816325524
          ],
          [
           0.14647302
          ],
          [
           0.548753945
          ],
          [
           0.946158087
          ],
          [
           0.293992717
          ],
          [
           0.331479643
          ],
          [
           0.9062200309999999
          ],
          [
           0.525540416
          ],
          [
           0.83301411
          ],
          [
           0.514849806
          ],
          [
           0.574609024
          ],
          [
           0.46871185299999996
          ],
          [
           0.71002775
          ],
          [
           0.645973276
          ],
          [
           0.229794416
          ],
          [
           0.551783393
          ],
          [
           0.055822990999999995
          ],
          [
           0.331750941
          ],
          [
           0.715520198
          ],
          [
           0.583924357
          ],
          [
           0.30695769100000003
          ],
          [
           0.7914782370000001
          ],
          [
           0.16423663900000002
          ],
          [
           0.065711219
          ],
          [
           0.948993132
          ],
          [
           0.080423835
          ],
          [
           0.052495426
          ],
          [
           0.566346135
          ],
          [
           0.3630266
          ],
          [
           0.605442195
          ],
          [
           0.6308505839999999
          ],
          [
           0.065791238
          ],
          [
           0.28681707100000003
          ],
          [
           0.685462839
          ],
          [
           0.260853706
          ],
          [
           0.659122429
          ],
          [
           0.44317392200000005
          ],
          [
           0.602063986
          ],
          [
           0.060366910999999995
          ],
          [
           0.781903153
          ],
          [
           0.5145798070000001
          ],
          [
           0.48388621299999995
          ],
          [
           0.600213807
          ],
          [
           0.49736405200000006
          ],
          [
           0.411145245
          ],
          [
           0.116999171
          ],
          [
           0.34189014100000004
          ],
          [
           0.746950848
          ],
          [
           0.39629274600000003
          ],
          [
           0.6221438429999999
          ],
          [
           0.335271141
          ],
          [
           0.140257137
          ],
          [
           0.081620681
          ],
          [
           0.069837569
          ],
          [
           0.46894000799999996
          ],
          [
           0.9908574170000001
          ],
          [
           0.896616832
          ],
          [
           0.255310561
          ],
          [
           0.22464526699999998
          ],
          [
           0.01991825
          ],
          [
           0.296480415
          ],
          [
           0.155458996
          ],
          [
           0.577916714
          ],
          [
           0.9563030309999999
          ],
          [
           0.813464394
          ],
          [
           0.529675785
          ],
          [
           0.287671353
          ],
          [
           0.48039136
          ],
          [
           0.28104482199999997
          ],
          [
           0.633196521
          ],
          [
           0.09332537699999999
          ],
          [
           0.28447398100000004
          ],
          [
           0.052223775
          ],
          [
           0.051129385
          ],
          [
           0.967405608
          ],
          [
           0.040045727999999996
          ],
          [
           0.9085829209999999
          ],
          [
           0.6621174160000001
          ],
          [
           0.42470320899999997
          ],
          [
           0.72207806
          ],
          [
           0.666193327
          ],
          [
           0.509681253
          ],
          [
           0.7513536209999999
          ],
          [
           0.279073124
          ],
          [
           0.074927
          ],
          [
           0.916359535
          ],
          [
           0.31040327
          ],
          [
           0.716604052
          ],
          [
           0.485587085
          ],
          [
           0.30607518100000003
          ],
          [
           0.477558204
          ],
          [
           0.7119239409999999
          ],
          [
           0.066348638
          ],
          [
           0.27453935100000004
          ],
          [
           0.31082252
          ],
          [
           0.47607312700000004
          ],
          [
           0.186795565
          ],
          [
           0.26654207
          ],
          [
           0.070231142
          ],
          [
           0.26951927
          ],
          [
           0.800004713
          ],
          [
           0.27363366699999997
          ],
          [
           0.14647919199999998
          ],
          [
           0.378318951
          ],
          [
           0.373849065
          ],
          [
           0.242170835
          ],
          [
           0.249796488
          ],
          [
           0.066591188
          ],
          [
           0.372956798
          ],
          [
           0.501812291
          ],
          [
           0.313097752
          ],
          [
           0.8802021959999999
          ],
          [
           0.51981893
          ],
          [
           0.364138746
          ],
          [
           0.49268289600000004
          ],
          [
           0.285732652
          ],
          [
           0.890114985
          ],
          [
           0.316419561
          ],
          [
           0.26866354
          ],
          [
           0.771975959
          ],
          [
           0.968888992
          ],
          [
           0.080334377
          ],
          [
           0.7368282209999999
          ],
          [
           0.30055807100000004
          ],
          [
           0.9179503929999999
          ],
          [
           0.465815039
          ],
          [
           0.054036682
          ],
          [
           0.963150123
          ],
          [
           0.08965350300000001
          ],
          [
           0.7076932340000001
          ],
          [
           0.636416037
          ],
          [
           0.539521117
          ],
          [
           0.114757161
          ],
          [
           0.357312419
          ],
          [
           0.67639834
          ],
          [
           0.43482839
          ],
          [
           0.032326387000000005
          ],
          [
           0.711365605
          ],
          [
           0.187486519
          ],
          [
           0.052789653
          ],
          [
           0.5058636129999999
          ],
          [
           0.927431873
          ],
          [
           0.6809842559999999
          ],
          [
           0.882822186
          ],
          [
           0.495705441
          ],
          [
           0.596240398
          ],
          [
           0.320610701
          ],
          [
           0.3413685
          ],
          [
           0.159681797
          ],
          [
           0.318133669
          ],
          [
           0.8393010479999999
          ],
          [
           0.06435925099999999
          ],
          [
           0.470216633
          ],
          [
           0.7762522909999999
          ],
          [
           0.635843383
          ],
          [
           0.62510543
          ],
          [
           0.52959065
          ],
          [
           0.986900166
          ],
          [
           0.078585688
          ],
          [
           0.233284267
          ],
          [
           0.363330957
          ],
          [
           0.7167169809999999
          ],
          [
           0.37588979200000006
          ],
          [
           0.223316889
          ],
          [
           0.299343986
          ],
          [
           0.538595767
          ],
          [
           0.730297124
          ],
          [
           0.66033077
          ],
          [
           0.435296009
          ],
          [
           0.326494313
          ],
          [
           0.854402708
          ],
          [
           0.5734938470000001
          ],
          [
           0.757786135
          ],
          [
           0.704743233
          ],
          [
           0.281575597
          ],
          [
           0.671968208
          ],
          [
           0.313726015
          ],
          [
           0.364338275
          ],
          [
           0.368216396
          ],
          [
           0.38629520700000003
          ],
          [
           0.655971865
          ],
          [
           0.5660252729999999
          ],
          [
           0.424999093
          ],
          [
           0.090110371
          ],
          [
           0.772350538
          ],
          [
           0.331047258
          ],
          [
           0.273716188
          ],
          [
           0.23877568
          ],
          [
           0.37307977200000003
          ],
          [
           0.331185868
          ],
          [
           0.256134531
          ],
          [
           0.678373225
          ],
          [
           0.43463833799999996
          ],
          [
           0.654668307
          ],
          [
           0.986681065
          ],
          [
           0.371520495
          ],
          [
           0.408359618
          ],
          [
           0.40932365
          ],
          [
           0.283412082
          ],
          [
           0.395246531
          ],
          [
           0.010984428000000001
          ],
          [
           0.306013869
          ],
          [
           0.266194806
          ],
          [
           0.299318521
          ],
          [
           0.318293946
          ],
          [
           0.74282591
          ],
          [
           0.09766432900000001
          ],
          [
           0.079666942
          ],
          [
           0.613258767
          ],
          [
           0.99443072
          ],
          [
           0.568835082
          ],
          [
           0.7080345159999999
          ],
          [
           0.37059271899999996
          ],
          [
           0.669867361
          ],
          [
           0.651295625
          ],
          [
           0.462531569
          ],
          [
           0.7196256190000001
          ],
          [
           0.45377248
          ],
          [
           0.394863946
          ],
          [
           0.323974831
          ],
          [
           0.146454724
          ],
          [
           0.7790670409999999
          ],
          [
           0.401828915
          ],
          [
           0.601479585
          ],
          [
           0.856423023
          ],
          [
           0.565242962
          ],
          [
           0.301225108
          ],
          [
           0.282108144
          ],
          [
           0.594378011
          ],
          [
           0.705312368
          ],
          [
           0.5408696279999999
          ],
          [
           0.319249574
          ],
          [
           0.36176613799999996
          ],
          [
           0.625000704
          ],
          [
           0.316287401
          ],
          [
           0.047239021
          ],
          [
           0.801182233
          ],
          [
           0.508474436
          ],
          [
           0.8178934109999999
          ],
          [
           0.399235601
          ],
          [
           0.9740519990000001
          ],
          [
           0.72241535
          ],
          [
           0.039564764
          ],
          [
           0.908684108
          ],
          [
           0.47301013399999997
          ],
          [
           0.7180496279999999
          ],
          [
           0.7634790690000001
          ],
          [
           0.6475965370000001
          ],
          [
           0.8949973859999999
          ],
          [
           0.22282590100000002
          ],
          [
           0.359012234
          ],
          [
           0.944910252
          ],
          [
           0.297877816
          ],
          [
           0.172517997
          ],
          [
           0.556586265
          ],
          [
           0.876481735
          ],
          [
           0.48667784299999994
          ],
          [
           0.459496733
          ],
          [
           0.47412637700000004
          ],
          [
           0.70101144
          ],
          [
           0.337597387
          ],
          [
           0.537578886
          ],
          [
           0.966992448
          ],
          [
           0.056849545
          ],
          [
           0.233249065
          ],
          [
           0.380054711
          ],
          [
           0.602929443
          ],
          [
           0.303847999
          ],
          [
           0.170194553
          ],
          [
           0.972168554
          ],
          [
           0.332168927
          ],
          [
           0.6887286890000001
          ],
          [
           0.110773401
          ],
          [
           0.273352065
          ],
          [
           0.572939678
          ],
          [
           0.491457065
          ],
          [
           0.281389999
          ],
          [
           0.821697261
          ],
          [
           0.6749776829999999
          ],
          [
           0.585134549
          ],
          [
           0.7105961159999999
          ],
          [
           0.040488789
          ],
          [
           0.568054311
          ],
          [
           0.321752928
          ],
          [
           0.611850232
          ],
          [
           0.926096887
          ],
          [
           0.618347428
          ],
          [
           0.667629785
          ],
          [
           0.39773346600000004
          ],
          [
           0.290875487
          ],
          [
           0.594375103
          ],
          [
           0.508255233
          ],
          [
           0.338571357
          ],
          [
           0.43230234700000003
          ],
          [
           0.302221978
          ],
          [
           0.87619819
          ],
          [
           0.080204492
          ],
          [
           0.092333532
          ],
          [
           0.09365644699999999
          ],
          [
           0.6084523510000001
          ],
          [
           0.732654598
          ],
          [
           0.944158855
          ],
          [
           0.26742308
          ],
          [
           0.731124201
          ],
          [
           0.661308553
          ],
          [
           0.38776626200000003
          ],
          [
           0.962585273
          ],
          [
           0.322067067
          ],
          [
           0.6340810929999999
          ],
          [
           0.475345002
          ],
          [
           0.35355897299999994
          ],
          [
           0.8859363159999999
          ],
          [
           0.876798106
          ],
          [
           0.221581064
          ],
          [
           0.394362449
          ],
          [
           0.8050356759999999
          ],
          [
           0.452898486
          ],
          [
           0.592520516
          ],
          [
           0.761026394
          ],
          [
           0.245049023
          ],
          [
           0.37213936299999995
          ],
          [
           0.681054822
          ],
          [
           0.7471431479999999
          ],
          [
           0.9207395290000001
          ],
          [
           0.097207945
          ],
          [
           0.699302998
          ],
          [
           0.721647006
          ],
          [
           0.5353561139999999
          ],
          [
           0.738293805
          ],
          [
           0.7064675509999999
          ],
          [
           0.67395061
          ],
          [
           0.7112122909999999
          ],
          [
           0.302558708
          ],
          [
           0.080097855
          ],
          [
           0.707010837
          ],
          [
           0.512248622
          ],
          [
           0.659627472
          ],
          [
           0.657559694
          ],
          [
           0.100645606
          ],
          [
           0.92665363
          ],
          [
           0.892879338
          ],
          [
           0.839157508
          ],
          [
           0.890959718
          ],
          [
           0.556754471
          ],
          [
           0.960361937
          ],
          [
           0.631037864
          ],
          [
           0.029838065
          ],
          [
           0.278843351
          ],
          [
           0.926157705
          ],
          [
           0.551504258
          ],
          [
           0.485942349
          ],
          [
           0.43723469600000003
          ],
          [
           0.25231801800000003
          ],
          [
           0.515466972
          ],
          [
           0.43725229600000004
          ],
          [
           0.493724207
          ],
          [
           0.83324725
          ],
          [
           0.317521477
          ],
          [
           0.28623456199999997
          ],
          [
           0.726833965
          ],
          [
           0.495667033
          ],
          [
           0.028645255
          ],
          [
           0.31967191699999997
          ],
          [
           0.674344598
          ],
          [
           0.7660371890000001
          ],
          [
           0.65456992
          ],
          [
           0.7565143809999999
          ],
          [
           0.528253719
          ],
          [
           0.38971949100000003
          ],
          [
           0.355087459
          ],
          [
           0.87015202
          ],
          [
           0.7390833059999999
          ],
          [
           0.305761846
          ],
          [
           0.411587673
          ],
          [
           0.063633094
          ],
          [
           0.735409395
          ],
          [
           0.605916669
          ],
          [
           0.539395562
          ],
          [
           0.566183532
          ],
          [
           0.674795186
          ],
          [
           0.070993366
          ],
          [
           0.12526410000000002
          ],
          [
           0.279601492
          ],
          [
           0.952174402
          ],
          [
           0.233806762
          ],
          [
           0.43724742899999997
          ],
          [
           0.925423095
          ],
          [
           0.433498634
          ],
          [
           0.52517902
          ],
          [
           0.088435529
          ],
          [
           0.447677638
          ],
          [
           0.647000631
          ],
          [
           0.9036033370000001
          ],
          [
           0.265790738
          ],
          [
           0.66419695
          ],
          [
           0.498120658
          ],
          [
           0.49018894399999996
          ],
          [
           0.747084187
          ],
          [
           0.906783648
          ],
          [
           0.678770917
          ],
          [
           0.348599859
          ],
          [
           0.294839683
          ],
          [
           0.705691827
          ],
          [
           0.211917931
          ],
          [
           0.063201124
          ],
          [
           0.276699543
          ],
          [
           0.672459395
          ],
          [
           0.8082059490000001
          ],
          [
           0.296538373
          ],
          [
           0.16012686199999998
          ],
          [
           0.439385032
          ],
          [
           0.555951416
          ],
          [
           0.386240112
          ],
          [
           0.158689619
          ],
          [
           0.214499855
          ],
          [
           0.299579429
          ],
          [
           0.569161656
          ],
          [
           0.488614799
          ],
          [
           0.8782950209999999
          ],
          [
           0.649380949
          ],
          [
           0.465713341
          ],
          [
           0.16813774
          ],
          [
           0.87529545
          ],
          [
           0.8411323409999999
          ],
          [
           0.33292081
          ],
          [
           0.5130478589999999
          ],
          [
           0.30505507800000004
          ],
          [
           0.8126269909999999
          ],
          [
           0.25096706
          ],
          [
           0.5024355779999999
          ],
          [
           0.45799074100000003
          ]
         ],
         "hoverlabel": {
          "namelength": 0
         },
         "hovertemplate": "0=%{x}<br>1=%{y}<br>2=%{z}<br>Feature=%{customdata[0]}<br>Label=%{marker.color}",
         "legendgroup": "",
         "marker": {
          "color": [
           0,
           0,
           1,
           1,
           0,
           0,
           0,
           1,
           1,
           0,
           0,
           1,
           0,
           0,
           1,
           0,
           0,
           1,
           0,
           0,
           1,
           0,
           0,
           1,
           1,
           1,
           0,
           0,
           1,
           1,
           0,
           0,
           0,
           1,
           1,
           1,
           0,
           0,
           0,
           0,
           0,
           0,
           0,
           1,
           0,
           1,
           0,
           0,
           1,
           0,
           0,
           1,
           0,
           1,
           0,
           1,
           0,
           0,
           0,
           1,
           0,
           0,
           1,
           1,
           1,
           0,
           1,
           0,
           0,
           1,
           0,
           0,
           0,
           0,
           0,
           0,
           0,
           0,
           0,
           0,
           0,
           0,
           0,
           0,
           0,
           0,
           0,
           0,
           0,
           0,
           0,
           0,
           0,
           0,
           0,
           0,
           0,
           0,
           0,
           0,
           0,
           0,
           0,
           0,
           0,
           0,
           0,
           0,
           0,
           0,
           0,
           0,
           0,
           0,
           0,
           0,
           0,
           0,
           0,
           0,
           0,
           0,
           0,
           0,
           0,
           0,
           0,
           0,
           0,
           0,
           1,
           0,
           0,
           0,
           0,
           0,
           0,
           0,
           0,
           0,
           0,
           0,
           0,
           0,
           0,
           0,
           0,
           0,
           0,
           0,
           0,
           0,
           0,
           0,
           0,
           0,
           0,
           0,
           0,
           0,
           0,
           0,
           0,
           0,
           0,
           0,
           0,
           0,
           0,
           0,
           0,
           0,
           0,
           0,
           0,
           0,
           0,
           0,
           0,
           0,
           0,
           0,
           0,
           0,
           1,
           0,
           0,
           0,
           0,
           0,
           0,
           0,
           0,
           0,
           0,
           0,
           0,
           0,
           0,
           0,
           0,
           0,
           0,
           0,
           0,
           0,
           0,
           0,
           0,
           0,
           0,
           0,
           0,
           0,
           0,
           0,
           0,
           0,
           0,
           0,
           0,
           0,
           0,
           0,
           0,
           0,
           0,
           0,
           0,
           1,
           0,
           0,
           0,
           0,
           0,
           0,
           0,
           0,
           0,
           0,
           0,
           0,
           0,
           0,
           0,
           0,
           0,
           0,
           0,
           0,
           0,
           0,
           0,
           0,
           0,
           0,
           0,
           0,
           0,
           0,
           0,
           0,
           0,
           0,
           0,
           0,
           0,
           0,
           0,
           0,
           0,
           0,
           0,
           0,
           0,
           0,
           0,
           0,
           0,
           0,
           0,
           0,
           0,
           0,
           0,
           0,
           0,
           0,
           0,
           0,
           0,
           0,
           0,
           0,
           0,
           0,
           0,
           0,
           0,
           0,
           0,
           0,
           0,
           0,
           0,
           0,
           0,
           0,
           0,
           0,
           0,
           0,
           0,
           0,
           0,
           0,
           0,
           0,
           0,
           0,
           0,
           0,
           0,
           0,
           0,
           0,
           0,
           0,
           0,
           0,
           0,
           0,
           0,
           0,
           0,
           0,
           0,
           0,
           0,
           0,
           0,
           0,
           0,
           0,
           0,
           0,
           0,
           0,
           0,
           0,
           0,
           0,
           0,
           0,
           0,
           0,
           0,
           0,
           0,
           0,
           0,
           0,
           0,
           0,
           0,
           0,
           0,
           0,
           0,
           0,
           0,
           0,
           0,
           0,
           0,
           0,
           0,
           0,
           0,
           0,
           0,
           0,
           0,
           0,
           0,
           0,
           0,
           0,
           0,
           0,
           0,
           0,
           0,
           0,
           0,
           0,
           0,
           0,
           0,
           0,
           0,
           0,
           0,
           0,
           0,
           0,
           0,
           0,
           0,
           0,
           0,
           0,
           0,
           0,
           0,
           0,
           0,
           0,
           0,
           0,
           0,
           0,
           0,
           0,
           0,
           0,
           0,
           0,
           0,
           0,
           0,
           0,
           0,
           0,
           0,
           0,
           0,
           0,
           0,
           0,
           0,
           0,
           0,
           0,
           0,
           0,
           0,
           0,
           0,
           0,
           0,
           0,
           0,
           0,
           0,
           0,
           0,
           0,
           0,
           0,
           0,
           0,
           0,
           0,
           0,
           0,
           0,
           0,
           0,
           0,
           0,
           0,
           0,
           0,
           0,
           0,
           0,
           0,
           0,
           0,
           0,
           0,
           0,
           0,
           0,
           0,
           0,
           0,
           0,
           0,
           0,
           0,
           0,
           0,
           0,
           0,
           0,
           0,
           0,
           0,
           0,
           0,
           0,
           0,
           0,
           0,
           0,
           0,
           0,
           0,
           0,
           0,
           0,
           0,
           0,
           0,
           0,
           0,
           0,
           0,
           0,
           0,
           0,
           1,
           0,
           0,
           0,
           0,
           0,
           0,
           0,
           0,
           0,
           0,
           0,
           0,
           0,
           0,
           0,
           0,
           0,
           0,
           0,
           0,
           0,
           0,
           0,
           0,
           0,
           0,
           0,
           0,
           0,
           0,
           0,
           0,
           0,
           0,
           0,
           0,
           0,
           0,
           0,
           0,
           0,
           0,
           0,
           0,
           0,
           0,
           0,
           0,
           0,
           0,
           0,
           0,
           0,
           0,
           0,
           0,
           0,
           0,
           0,
           0,
           0,
           0,
           0,
           0,
           0,
           0,
           0,
           0,
           0,
           0,
           0,
           0,
           0,
           0,
           0,
           0,
           0,
           0,
           1,
           0,
           0,
           0,
           0,
           0,
           0,
           0,
           0,
           0,
           0,
           0,
           0,
           0,
           0,
           0,
           0,
           0,
           0,
           0,
           0,
           0,
           0,
           0,
           0,
           0,
           0,
           0,
           0,
           0,
           0,
           0,
           0,
           0,
           0,
           0,
           0,
           0,
           0,
           0,
           0,
           0,
           0,
           0,
           0,
           0,
           0,
           0,
           0,
           0,
           0,
           0,
           0,
           0,
           0,
           0,
           0,
           0,
           0,
           0,
           0,
           0,
           0,
           0,
           0,
           0,
           0,
           0,
           0,
           0,
           0,
           0,
           0,
           0,
           0,
           0,
           0,
           0,
           1,
           0,
           0,
           0,
           0,
           0,
           0,
           0,
           0,
           0,
           0,
           0,
           0,
           0,
           0,
           0,
           0,
           0,
           0,
           0,
           1,
           0,
           0,
           1,
           0,
           1,
           0,
           1,
           1,
           0,
           1,
           0,
           0,
           1,
           0,
           0,
           1,
           1,
           1,
           0,
           1,
           0,
           1,
           1,
           1,
           0,
           0,
           0,
           1,
           0,
           0,
           0,
           0,
           0,
           0,
           0,
           0,
           0,
           0,
           0,
           0,
           0,
           0,
           0,
           0,
           0,
           0,
           0,
           0,
           0,
           0,
           0,
           0,
           0,
           0,
           0,
           0,
           0,
           0,
           0,
           0,
           0,
           0,
           0,
           0,
           0,
           0,
           0,
           0,
           0,
           0,
           0,
           0,
           0,
           0,
           0,
           0,
           0,
           0,
           0,
           0,
           0,
           0,
           0,
           0,
           0,
           0,
           0,
           0,
           0,
           0,
           0,
           0,
           0,
           0,
           0,
           0,
           0,
           0,
           1,
           0,
           0,
           0,
           0,
           0,
           0,
           0,
           0,
           0,
           0,
           0,
           0,
           0,
           0,
           0,
           0,
           0,
           0,
           0,
           0,
           0,
           0,
           0,
           0,
           0,
           0,
           0,
           0,
           0,
           0,
           0,
           0,
           0,
           0,
           0,
           0,
           0,
           0,
           0,
           0,
           0,
           0,
           0,
           0,
           0,
           0,
           0,
           0,
           0,
           0,
           0,
           0,
           0,
           0,
           0,
           0,
           0,
           0,
           0,
           0,
           0,
           0,
           0,
           0,
           0,
           0,
           0,
           0,
           0,
           0,
           0,
           0,
           0,
           0,
           0,
           0,
           0,
           0,
           0,
           0,
           0,
           0,
           0,
           0,
           0,
           0,
           0,
           0,
           0,
           0,
           0,
           0,
           0,
           0,
           0,
           0,
           0,
           0,
           0,
           0,
           0,
           0,
           0,
           0,
           0,
           0,
           0,
           0,
           0,
           0,
           0,
           0,
           0,
           0,
           0,
           0,
           0,
           0,
           0,
           0,
           0,
           0,
           0,
           0,
           0,
           0,
           0,
           0,
           0,
           0,
           0,
           0,
           0,
           0,
           0,
           0,
           0,
           0,
           0,
           0,
           0,
           0,
           0,
           0,
           0,
           0,
           0,
           0,
           0,
           0,
           0,
           0,
           0,
           0,
           0,
           0,
           0,
           0,
           0,
           0,
           0,
           0,
           0,
           0,
           0,
           0,
           0,
           0,
           0,
           0,
           0,
           0,
           0,
           0,
           0,
           0,
           0,
           0,
           0,
           0,
           0,
           0,
           0,
           0,
           0,
           0,
           0,
           0,
           0,
           0,
           0,
           0,
           0,
           0,
           0,
           0,
           0,
           0,
           0,
           0
          ],
          "coloraxis": "coloraxis",
          "opacity": 0.7,
          "symbol": "circle"
         },
         "mode": "markers",
         "name": "",
         "scene": "scene",
         "showlegend": false,
         "type": "scatter3d",
         "x": [
          1.5658485889434814,
          1.441886067390442,
          -8.450325965881348,
          -9.27371597290039,
          -14.867121696472168,
          -7.4766011238098145,
          7.566512107849121,
          -16.551347732543945,
          -1.6906013488769531,
          6.248427391052246,
          -17.244836807250977,
          -15.643872261047363,
          -10.173282623291016,
          -0.9538130760192871,
          -10.147625923156738,
          -10.964035987854004,
          -10.207194328308105,
          7.9297380447387695,
          -6.840106010437012,
          -13.737908363342285,
          -6.823607921600342,
          -0.865119457244873,
          -2.031846284866333,
          -2.0926284790039062,
          -8.157186508178711,
          -3.3521456718444824,
          -14.04383659362793,
          1.8755152225494385,
          -15.940068244934082,
          -13.257868766784668,
          -0.042458146810531616,
          0.9697425365447998,
          -1.502134919166565,
          -10.84427547454834,
          6.655727386474609,
          -1.2690205574035645,
          -2.585012435913086,
          2.106611967086792,
          -0.40434446930885315,
          -9.401832580566406,
          15.890361785888672,
          -11.111226081848145,
          12.159717559814453,
          -7.398013591766357,
          -10.508949279785156,
          -11.02795696258545,
          -9.965411186218262,
          -1.6876914501190186,
          -15.217376708984375,
          10.759448051452637,
          -15.978318214416504,
          -5.008472919464111,
          7.756516933441162,
          -10.992926597595215,
          -7.445403575897217,
          3.2414708137512207,
          -5.871123790740967,
          4.4176177978515625,
          -11.048237800598145,
          -10.509906768798828,
          1.8074910640716553,
          7.063284397125244,
          -18.179725646972656,
          -11.105262756347656,
          14.308955192565918,
          -9.134462356567383,
          11.10266399383545,
          7.990055561065674,
          -14.612153053283691,
          -10.761331558227539,
          -17.68739891052246,
          -12.879332542419434,
          1.643602728843689,
          -12.011876106262207,
          8.958826065063477,
          2.6966006755828857,
          -14.19005298614502,
          -14.497193336486816,
          9.136502265930176,
          7.7423272132873535,
          7.964900970458984,
          3.251459836959839,
          -14.223440170288086,
          6.261982440948486,
          6.827716827392578,
          0.7241908311843872,
          12.193765640258789,
          10.289682388305664,
          5.409098148345947,
          0.1866748034954071,
          2.1452174186706543,
          -15.100628852844238,
          11.876160621643066,
          7.720845699310303,
          3.4532978534698486,
          -17.981689453125,
          9.368240356445312,
          2.8014824390411377,
          4.593708515167236,
          -14.24123477935791,
          -0.026577671989798546,
          11.903304100036621,
          2.8208649158477783,
          9.763927459716797,
          -18.93307876586914,
          9.291495323181152,
          7.494324207305908,
          5.420969009399414,
          8.8367280960083,
          -13.600089073181152,
          1.2320566177368164,
          -1.5622918605804443,
          -15.295026779174805,
          7.8156023025512695,
          -13.113005638122559,
          3.5501625537872314,
          11.227469444274902,
          7.667717456817627,
          -10.13656234741211,
          6.62440824508667,
          4.190081596374512,
          3.8989174365997314,
          3.765556573867798,
          12.235208511352539,
          4.155814170837402,
          3.0415401458740234,
          4.555595874786377,
          -10.659439086914062,
          6.062868118286133,
          3.6084558963775635,
          5.477797031402588,
          9.186348915100098,
          -15.63672161102295,
          7.2359299659729,
          12.441798210144043,
          4.1943511962890625,
          -13.05000114440918,
          -13.312898635864258,
          3.6334054470062256,
          2.031933546066284,
          -13.105490684509277,
          0.24120917916297913,
          9.490303993225098,
          -14.856330871582031,
          7.568207740783691,
          7.954509735107422,
          -14.283493995666504,
          11.946224212646484,
          2.624910593032837,
          4.553066253662109,
          0.3073827624320984,
          5.664109230041504,
          1.876589298248291,
          10.537474632263184,
          -0.08728381991386414,
          10.204883575439453,
          14.7894926071167,
          13.872665405273438,
          9.007322311401367,
          -9.840730667114258,
          10.839256286621094,
          8.449294090270996,
          5.5865478515625,
          8.812723159790039,
          -9.752164840698242,
          12.861358642578125,
          -12.8842134475708,
          -14.968344688415527,
          -10.86749267578125,
          5.285363674163818,
          8.312137603759766,
          1.6082783937454224,
          -9.497095108032227,
          -11.538520812988281,
          3.0822107791900635,
          11.165143966674805,
          -8.211189270019531,
          -10.577509880065918,
          2.0105249881744385,
          -12.360201835632324,
          3.108076572418213,
          -12.450484275817871,
          1.1090998649597168,
          -15.909975051879883,
          -15.180855751037598,
          10.123319625854492,
          -11.546660423278809,
          6.321145534515381,
          6.947707653045654,
          4.982522010803223,
          12.216168403625488,
          -15.058342933654785,
          -16.005573272705078,
          -11.797682762145996,
          12.743082046508789,
          9.300315856933594,
          4.0558929443359375,
          4.595693111419678,
          -0.5468623638153076,
          3.626523971557617,
          3.9126768112182617,
          3.3590989112854004,
          5.0221476554870605,
          -14.91524600982666,
          -10.361550331115723,
          1.0358163118362427,
          7.008533000946045,
          4.1841654777526855,
          -12.41962718963623,
          3.9955811500549316,
          4.3086724281311035,
          -12.950926780700684,
          -14.870010375976562,
          2.3611087799072266,
          3.7299933433532715,
          4.478432655334473,
          4.0136308670043945,
          -15.108991622924805,
          -17.473215103149414,
          0.6275619268417358,
          -10.209022521972656,
          5.786035537719727,
          -14.489361763000488,
          9.173659324645996,
          12.349125862121582,
          6.078390121459961,
          12.791651725769043,
          5.583651065826416,
          13.344222068786621,
          -10.772943496704102,
          8.559755325317383,
          12.159052848815918,
          -12.686704635620117,
          -12.969079971313477,
          6.995128154754639,
          5.731814861297607,
          4.063278675079346,
          5.0284318923950195,
          -10.851247787475586,
          -9.501768112182617,
          4.3224873542785645,
          2.653926134109497,
          -9.696151733398438,
          8.282106399536133,
          -14.156318664550781,
          12.223681449890137,
          7.030066013336182,
          7.19570779800415,
          12.661218643188477,
          -12.853948593139648,
          8.991238594055176,
          1.3050321340560913,
          -12.300605773925781,
          8.272279739379883,
          9.067246437072754,
          -0.006057397462427616,
          3.227569103240967,
          9.297957420349121,
          -11.564218521118164,
          7.080343246459961,
          -10.39439582824707,
          7.286771774291992,
          -13.924039840698242,
          2.2441205978393555,
          8.949003219604492,
          7.959688663482666,
          -14.717318534851074,
          12.23889446258545,
          8.716155052185059,
          4.178337097167969,
          5.712557315826416,
          2.566951036453247,
          4.64037561416626,
          -9.53317928314209,
          -9.089897155761719,
          10.760333061218262,
          -16.470598220825195,
          -15.117521286010742,
          5.832377910614014,
          7.1688032150268555,
          12.640832901000977,
          -9.71056842803955,
          7.12247896194458,
          1.9325218200683594,
          -12.871454238891602,
          7.351656436920166,
          8.877669334411621,
          5.524432182312012,
          10.676850318908691,
          -0.3522854745388031,
          -0.2473774254322052,
          6.230545520782471,
          7.27125358581543,
          7.6053786277771,
          6.388486385345459,
          -13.545796394348145,
          -13.054580688476562,
          7.332892894744873,
          5.536294937133789,
          1.5775699615478516,
          -0.11295066028833389,
          8.798415184020996,
          -15.435989379882812,
          -14.248710632324219,
          -11.526163101196289,
          7.248169898986816,
          4.142282009124756,
          6.10952091217041,
          14.90655517578125,
          -15.233099937438965,
          -14.366045951843262,
          13.097126960754395,
          -12.175371170043945,
          -9.640777587890625,
          5.920438289642334,
          2.6489791870117188,
          5.152353763580322,
          7.348576068878174,
          7.909417152404785,
          4.340397834777832,
          0.7438632845878601,
          5.433334827423096,
          -12.864974021911621,
          3.4178643226623535,
          4.1781134605407715,
          0.8874577283859253,
          -14.006407737731934,
          -15.491279602050781,
          -11.144545555114746,
          -11.526715278625488,
          12.232955932617188,
          -15.504016876220703,
          9.289067268371582,
          9.418838500976562,
          10.405413627624512,
          -13.390220642089844,
          3.9167003631591797,
          4.710710525512695,
          -11.726454734802246,
          -14.367119789123535,
          4.868724822998047,
          6.385851860046387,
          -10.146781921386719,
          10.865160942077637,
          -15.883610725402832,
          -12.6414155960083,
          6.878667831420898,
          14.872831344604492,
          -10.769143104553223,
          -15.71737003326416,
          1.0605378150939941,
          5.3239312171936035,
          6.438631057739258,
          2.533698081970215,
          8.944138526916504,
          5.852234363555908,
          7.016636371612549,
          5.089718341827393,
          -18.386964797973633,
          -1.5111724138259888,
          1.886597752571106,
          4.229724407196045,
          2.3377411365509033,
          13.286840438842773,
          -12.30946159362793,
          5.613231658935547,
          -14.150742530822754,
          9.791067123413086,
          9.787515640258789,
          5.729665756225586,
          10.782645225524902,
          4.397385120391846,
          -14.847695350646973,
          -10.79930591583252,
          -12.755481719970703,
          10.943881034851074,
          7.350541591644287,
          -11.541065216064453,
          3.8141613006591797,
          0.2546330988407135,
          -11.621403694152832,
          3.017835855484009,
          7.566506385803223,
          2.9771571159362793,
          2.765631675720215,
          8.725284576416016,
          7.067986965179443,
          5.798383712768555,
          3.2258572578430176,
          -0.6677653193473816,
          9.68200969696045,
          9.564723014831543,
          3.961986541748047,
          5.741570472717285,
          6.247877597808838,
          2.6066293716430664,
          9.160629272460938,
          -13.947197914123535,
          0.53008633852005,
          7.953766345977783,
          6.197022914886475,
          8.228760719299316,
          12.799019813537598,
          0.6333863139152527,
          -15.655560493469238,
          11.483989715576172,
          -11.036133766174316,
          2.9676733016967773,
          -9.815438270568848,
          1.8003466129302979,
          7.767215251922607,
          1.6835592985153198,
          -18.83452033996582,
          6.66387939453125,
          6.665210247039795,
          12.158382415771484,
          10.617094039916992,
          5.359897613525391,
          -15.319266319274902,
          -12.879034996032715,
          -0.8891162872314453,
          7.128252983093262,
          5.95846700668335,
          1.2595345973968506,
          -11.59969425201416,
          11.838947296142578,
          8.173445701599121,
          -11.73394775390625,
          1.2059922218322754,
          -14.127201080322266,
          3.342764139175415,
          9.605864524841309,
          6.531556606292725,
          -11.622730255126953,
          -17.5261173248291,
          2.2934062480926514,
          8.6597261428833,
          -14.353277206420898,
          8.854402542114258,
          -10.721729278564453,
          8.835761070251465,
          8.290081977844238,
          -11.693290710449219,
          -16.606399536132812,
          5.614476203918457,
          -8.810163497924805,
          -16.204805374145508,
          10.336301803588867,
          -11.555259704589844,
          -13.891929626464844,
          8.717019081115723,
          -13.363161087036133,
          11.869152069091797,
          7.0727458000183105,
          -15.06847858428955,
          4.2592878341674805,
          0.7108026742935181,
          -12.274459838867188,
          9.009284019470215,
          2.569668769836426,
          2.486043691635132,
          -12.023680686950684,
          12.314940452575684,
          4.559940814971924,
          -0.5098357200622559,
          2.379934549331665,
          8.783564567565918,
          -17.189435958862305,
          12.742541313171387,
          -11.294427871704102,
          4.872430801391602,
          9.101944923400879,
          12.572257995605469,
          6.255227088928223,
          10.35024356842041,
          12.105082511901855,
          8.602617263793945,
          -10.256244659423828,
          3.153524398803711,
          6.652345657348633,
          13.898002624511719,
          7.465846061706543,
          -11.431994438171387,
          -15.324331283569336,
          10.696227073669434,
          -15.816983222961426,
          1.5086493492126465,
          1.7309024333953857,
          3.901149272918701,
          -10.185938835144043,
          6.235879421234131,
          -13.946242332458496,
          -9.376346588134766,
          -15.823708534240723,
          -10.255407333374023,
          -14.113641738891602,
          2.601224184036255,
          -11.204630851745605,
          9.484954833984375,
          -0.15129518508911133,
          3.775485038757324,
          1.464755892753601,
          0.3464365303516388,
          4.923188209533691,
          1.4242075681686401,
          -10.2925443649292,
          9.582046508789062,
          14.057015419006348,
          1.7332922220230103,
          -11.831735610961914,
          -14.791910171508789,
          14.131134986877441,
          4.469793319702148,
          -13.895278930664062,
          8.483426094055176,
          10.555336952209473,
          10.237342834472656,
          9.539010047912598,
          1.2674989700317383,
          4.114195346832275,
          1.0511553287506104,
          -14.469374656677246,
          -11.088191986083984,
          -11.317070007324219,
          -17.937210083007812,
          12.105545997619629,
          3.2271602153778076,
          8.971981048583984,
          2.4889495372772217,
          3.8401412963867188,
          2.852389097213745,
          -14.373464584350586,
          -11.021105766296387,
          10.719444274902344,
          -12.751775741577148,
          -13.643416404724121,
          1.3580585718154907,
          -15.553911209106445,
          1.5178943872451782,
          4.173436164855957,
          0.6188021302223206,
          -11.48668098449707,
          7.815857410430908,
          2.3684167861938477,
          14.631604194641113,
          -13.565347671508789,
          8.761751174926758,
          -12.044730186462402,
          -13.643239974975586,
          7.662197589874268,
          10.924666404724121,
          2.875030279159546,
          -13.654048919677734,
          9.110302925109863,
          10.224212646484375,
          3.8698971271514893,
          -10.236818313598633,
          8.696823120117188,
          -14.968722343444824,
          0.0852765440940857,
          -16.819721221923828,
          -17.909305572509766,
          11.097455978393555,
          -14.647455215454102,
          8.289053916931152,
          8.453587532043457,
          11.225502967834473,
          1.5519516468048096,
          -15.213272094726562,
          -14.192358016967773,
          1.658240795135498,
          -13.739401817321777,
          -15.670553207397461,
          -16.137142181396484,
          1.2513917684555054,
          -16.12577247619629,
          5.866249084472656,
          10.24341869354248,
          2.2490015029907227,
          3.8639161586761475,
          -0.6160436868667603,
          5.6054205894470215,
          -10.807267189025879,
          5.919480323791504,
          14.907145500183105,
          7.083828926086426,
          3.4094064235687256,
          9.296127319335938,
          11.406661987304688,
          -14.150261878967285,
          8.028162956237793,
          12.986387252807617,
          -0.24485284090042114,
          -15.681835174560547,
          0.8502244353294373,
          9.110472679138184,
          -13.989045143127441,
          -15.301496505737305,
          -10.832910537719727,
          -15.938812255859375,
          -11.870281219482422,
          4.307828903198242,
          -11.284648895263672,
          8.816304206848145,
          -11.802647590637207,
          3.5592968463897705,
          -15.891284942626953,
          -16.76068115234375,
          7.198078632354736,
          0.06854288280010223,
          -10.589322090148926,
          0.8712983727455139,
          1.0072771310806274,
          4.275672912597656,
          4.673925876617432,
          11.690316200256348,
          3.4331209659576416,
          5.013339996337891,
          4.799935817718506,
          3.879765272140503,
          1.2811452150344849,
          8.687132835388184,
          9.267460823059082,
          1.034766435623169,
          -11.092618942260742,
          -17.582380294799805,
          10.579241752624512,
          -13.80982780456543,
          3.5165789127349854,
          4.327680587768555,
          6.6557464599609375,
          4.212025165557861,
          9.759893417358398,
          -14.304789543151855,
          -0.06228405982255936,
          1.515464425086975,
          5.908296585083008,
          1.44040048122406,
          -14.898104667663574,
          1.6514523029327393,
          -10.062071800231934,
          3.96966552734375,
          9.109981536865234,
          0.6429849863052368,
          -15.212419509887695,
          6.068158149719238,
          -10.392830848693848,
          4.495133399963379,
          -17.433212280273438,
          4.730485916137695,
          12.765132904052734,
          10.786843299865723,
          2.8135573863983154,
          -13.541349411010742,
          11.374297142028809,
          2.9684879779815674,
          -14.320656776428223,
          2.6283247470855713,
          5.0424017906188965,
          -14.05235481262207,
          -16.336105346679688,
          7.786360263824463,
          -0.3301982283592224,
          1.7929449081420898,
          -11.903301239013672,
          4.136807918548584,
          -12.25359058380127,
          7.064563751220703,
          4.790220737457275,
          11.386248588562012,
          1.3855229616165161,
          6.546464920043945,
          10.441808700561523,
          2.910963535308838,
          -9.282135963439941,
          11.28630542755127,
          2.4784188270568848,
          -13.794281005859375,
          -12.31694507598877,
          7.3091349601745605,
          -10.444595336914062,
          12.017955780029297,
          5.537633895874023,
          -9.38986873626709,
          12.39302921295166,
          11.647269248962402,
          8.949746131896973,
          15.404072761535645,
          -15.782801628112793,
          -15.389581680297852,
          -14.459460258483887,
          -13.410530090332031,
          -18.359455108642578,
          1.1247330904006958,
          -15.988787651062012,
          -9.99578857421875,
          -0.20618493854999542,
          5.811306476593018,
          9.010936737060547,
          -11.09687614440918,
          3.5037364959716797,
          6.533288478851318,
          -1.009116530418396,
          -15.945854187011719,
          8.399252891540527,
          3.3098554611206055,
          -15.795331001281738,
          -14.993643760681152,
          1.1252992153167725,
          -8.140702247619629,
          -10.416833877563477,
          13.317184448242188,
          5.937786102294922,
          -3.5360310077667236,
          6.730790138244629,
          -7.6745829582214355,
          -7.394039154052734,
          -11.000839233398438,
          6.698709964752197,
          7.651669502258301,
          -6.9559102058410645,
          12.910118103027344,
          0.6231879591941833,
          -4.910023212432861,
          -1.4014440774917603,
          -1.5350154638290405,
          -13.063508033752441,
          -9.613299369812012,
          -11.843038558959961,
          -8.751880645751953,
          4.5454020500183105,
          -15.039938926696777,
          2.3834571838378906,
          4.224913597106934,
          -0.10210537165403366,
          -15.34503173828125,
          2.838899850845337,
          6.624202728271484,
          7.872353553771973,
          -10.956275939941406,
          4.003088474273682,
          1.9949312210083008,
          2.293759346008301,
          -9.836084365844727,
          0.35996824502944946,
          7.374983310699463,
          4.200047016143799,
          -14.30479907989502,
          -11.839645385742188,
          -16.94704818725586,
          1.8409439325332642,
          -14.171194076538086,
          3.314332962036133,
          12.612898826599121,
          12.937997817993164,
          -10.837190628051758,
          7.5135674476623535,
          7.442378520965576,
          -14.249648094177246,
          14.268732070922852,
          -15.747211456298828,
          10.480119705200195,
          9.448712348937988,
          12.192800521850586,
          2.1809611320495605,
          10.028035163879395,
          11.500764846801758,
          -15.272939682006836,
          7.214269161224365,
          -15.843452453613281,
          7.560858249664307,
          2.5154809951782227,
          0.4273039400577545,
          8.425826072692871,
          1.0725293159484863,
          13.426349639892578,
          3.520087242126465,
          3.383665084838867,
          9.716714859008789,
          2.050286054611206,
          4.520995140075684,
          10.565635681152344,
          1.489856481552124,
          0.6279515624046326,
          7.1501078605651855,
          -16.667768478393555,
          7.959602355957031,
          -9.892091751098633,
          8.5954008102417,
          5.170723915100098,
          -16.012346267700195,
          5.874018669128418,
          -11.37038803100586,
          7.857658386230469,
          12.004265785217285,
          0.29293373227119446,
          12.245329856872559,
          -11.65355110168457,
          5.697628498077393,
          11.902875900268555,
          5.7237677574157715,
          3.17773175239563,
          2.109619140625,
          1.3564773797988892,
          -10.098033905029297,
          12.25634479522705,
          10.272857666015625,
          3.292264461517334,
          -13.82565689086914,
          9.945976257324219,
          -13.83041000366211,
          -9.016499519348145,
          8.235730171203613,
          -1.4141347408294678,
          1.0703758001327515,
          -11.485906600952148,
          3.688922166824341,
          -16.60544204711914,
          -8.070464134216309,
          -12.39166259765625,
          -14.810149192810059,
          -9.554471015930176,
          7.89871072769165,
          -0.17046070098876953,
          4.466024875640869,
          9.197959899902344,
          -13.8643217086792,
          7.7664008140563965,
          3.278217077255249,
          -15.392699241638184,
          4.002813816070557,
          -0.13183830678462982,
          -17.29206085205078,
          -9.378122329711914,
          -12.302325248718262,
          -10.855168342590332,
          -16.066940307617188,
          -15.082199096679688,
          -13.94592571258545,
          10.0335054397583,
          4.843928813934326,
          9.486527442932129,
          -12.228157997131348,
          6.194691181182861,
          8.797316551208496,
          -11.302375793457031,
          1.8284459114074707,
          5.411264419555664,
          1.1691029071807861,
          4.23335075378418,
          -10.264033317565918,
          0.9392530918121338,
          10.55441951751709,
          4.520795822143555,
          3.2791571617126465,
          4.407264709472656,
          3.5481371879577637,
          -13.646859169006348,
          7.078823566436768,
          -10.962696075439453,
          -0.006707192864269018,
          6.594770431518555,
          0.055562496185302734,
          3.7722043991088867,
          4.103335380554199,
          -13.346535682678223,
          8.047123908996582,
          5.55374002456665,
          -11.738951683044434,
          0.3005959093570709,
          -14.803990364074707,
          10.785974502563477,
          12.175543785095215,
          1.6345103979110718,
          4.056169033050537,
          9.099812507629395,
          6.133918285369873,
          5.661691188812256,
          1.4183728694915771,
          -10.065910339355469,
          0.13631725311279297,
          5.110444068908691,
          6.4959611892700195,
          -13.144039154052734,
          -14.33699893951416,
          -15.19593620300293,
          2.002519369125366,
          6.484727382659912,
          2.150778293609619,
          -8.869619369506836,
          -14.333924293518066,
          -14.425071716308594,
          -11.159039497375488,
          6.158266544342041,
          -15.554986953735352,
          3.31166934967041,
          4.056393623352051,
          11.491247177124023,
          2.2252464294433594,
          1.4967942237854004,
          5.3802337646484375,
          7.7827348709106445,
          12.862674713134766,
          -17.21420669555664,
          4.129715919494629,
          -14.850968360900879,
          -13.454587936401367,
          1.5041905641555786,
          -10.945165634155273,
          9.281495094299316,
          8.153909683227539,
          8.709749221801758,
          12.059383392333984,
          9.303895950317383,
          -11.686297416687012,
          -14.34007740020752,
          1.7720040082931519,
          3.3511743545532227,
          -13.676279067993164,
          -15.805980682373047,
          0.4485730826854706,
          -15.733654975891113,
          5.4727253913879395,
          7.129735946655273,
          3.81166934967041,
          -0.26166436076164246,
          1.886536955833435,
          2.0915791988372803,
          5.418587684631348,
          4.535736560821533,
          -15.323648452758789,
          9.262264251708984,
          12.000428199768066,
          -16.41935157775879,
          -14.056692123413086,
          -13.403365135192871,
          9.569855690002441,
          -10.049964904785156,
          1.877333641052246,
          -15.167667388916016,
          -10.84093189239502,
          5.938551902770996,
          8.399998664855957,
          -11.316808700561523,
          7.133479595184326,
          -11.963678359985352,
          6.328444480895996,
          4.945858955383301,
          5.467586994171143,
          1.217958688735962,
          3.3031458854675293,
          3.0368244647979736,
          -16.38453483581543,
          -12.923155784606934,
          5.197455406188965,
          10.56292724609375,
          -15.796875953674316,
          -12.360692024230957,
          -9.125323295593262,
          4.829377174377441,
          10.969025611877441,
          7.357994556427002,
          -9.986733436584473,
          8.69298267364502,
          2.4892361164093018,
          14.32368278503418,
          7.1623854637146,
          9.739901542663574,
          -10.779808044433594,
          9.227076530456543,
          -16.501827239990234,
          4.481906414031982,
          5.405864238739014,
          -14.290631294250488,
          6.905470848083496,
          9.38243579864502,
          7.320476531982422,
          -15.895997047424316,
          2.1770005226135254,
          -9.885995864868164,
          -10.694605827331543,
          -0.2078634798526764,
          6.8025078773498535,
          9.424732208251953,
          -15.64654541015625,
          8.446521759033203,
          5.614599227905273,
          -12.8856782913208,
          -13.831161499023438,
          -16.12006378173828,
          -9.955770492553711,
          8.209254264831543,
          5.77274751663208,
          -10.185163497924805,
          -12.433710098266602,
          2.798957347869873,
          7.753774166107178,
          8.204085350036621,
          -11.435470581054688,
          -15.605912208557129
         ],
         "y": [
          1.8791085481643677,
          5.553507328033447,
          -6.372268199920654,
          2.2653708457946777,
          -2.5840914249420166,
          0.611250102519989,
          8.254356384277344,
          0.17319446802139282,
          4.988182544708252,
          0.17182724177837372,
          -2.2894043922424316,
          -8.154033660888672,
          -0.17053763568401337,
          -1.864218831062317,
          0.9663194417953491,
          5.532536506652832,
          -0.18165333569049835,
          2.931896924972534,
          -6.681794166564941,
          -8.514627456665039,
          1.1201640367507935,
          2.532151460647583,
          -2.0107977390289307,
          4.870593070983887,
          -2.831561326980591,
          3.454808473587036,
          -7.842881202697754,
          2.349865198135376,
          3.1189465522766113,
          1.8835564851760864,
          2.8710904121398926,
          3.408515691757202,
          0.12049829959869385,
          2.0838894844055176,
          -4.538371562957764,
          4.30723762512207,
          1.88798987865448,
          2.3292007446289062,
          1.1711199283599854,
          0.2686708867549896,
          0.31800195574760437,
          0.2560112774372101,
          2.698545217514038,
          -3.2178969383239746,
          -0.5457819104194641,
          5.953202724456787,
          0.28315186500549316,
          4.823183059692383,
          -8.067707061767578,
          2.1396164894104004,
          0.4465574026107788,
          -6.466341495513916,
          -3.554619550704956,
          5.729802131652832,
          -1.1082979440689087,
          4.078803539276123,
          -1.8892922401428223,
          6.449451923370361,
          1.8108789920806885,
          -5.968173980712891,
          7.673050880432129,
          2.0506629943847656,
          -3.380852460861206,
          0.3129410147666931,
          1.5226490497589111,
          0.4487747251987457,
          -2.7152326107025146,
          3.7526230812072754,
          -6.993618488311768,
          -4.226493835449219,
          2.073129415512085,
          2.034963846206665,
          -0.7106645703315735,
          0.3862612247467041,
          0.9912185072898865,
          4.626204967498779,
          -4.873900413513184,
          -0.8059450387954712,
          -3.558850049972534,
          -2.148843765258789,
          -1.2929147481918335,
          2.7049028873443604,
          -1.3455376625061035,
          2.1414451599121094,
          5.29344367980957,
          1.8723580837249756,
          4.531200408935547,
          3.0965378284454346,
          -3.6879024505615234,
          0.9563295841217041,
          2.3197317123413086,
          -1.7570749521255493,
          3.329166889190674,
          8.224556922912598,
          3.809443235397339,
          -2.041879892349243,
          -0.7878626585006714,
          0.6625585556030273,
          6.00743293762207,
          -3.678285837173462,
          -0.43500399589538574,
          1.5334643125534058,
          1.2206491231918335,
          -3.591644525527954,
          -1.8841382265090942,
          -0.2992960810661316,
          2.0807559490203857,
          0.8202371597290039,
          0.5343503952026367,
          -0.0196420606225729,
          0.24292127788066864,
          -0.3283688426017761,
          -3.5245816707611084,
          1.7671427726745605,
          -5.84861946105957,
          -0.19813452661037445,
          9.032814979553223,
          8.525373458862305,
          1.0855485200881958,
          5.8474297523498535,
          -0.8254240155220032,
          -3.277679204940796,
          0.22479639947414398,
          1.3855555057525635,
          3.315248966217041,
          3.4410488605499268,
          4.278954982757568,
          1.515829086303711,
          4.8795857429504395,
          2.3412632942199707,
          -6.193674087524414,
          -1.5786796808242798,
          1.4735348224639893,
          4.398861885070801,
          2.806791067123413,
          5.202308654785156,
          -2.4735336303710938,
          3.073087215423584,
          4.565960884094238,
          -1.3305953741073608,
          0.2233368307352066,
          2.6689236164093018,
          -4.25378942489624,
          -3.0145208835601807,
          6.826770782470703,
          -1.2832214832305908,
          -2.004887819290161,
          -0.4554237425327301,
          5.11915922164917,
          0.9774117469787598,
          0.34395265579223633,
          2.0231871604919434,
          -1.7502896785736084,
          -4.403671741485596,
          1.720205307006836,
          -0.34767600893974304,
          1.3319847583770752,
          1.8130818605422974,
          -0.8965855836868286,
          -1.2733650207519531,
          7.690989971160889,
          -6.482731342315674,
          -0.6333279013633728,
          -4.5989298820495605,
          -0.17439280450344086,
          2.4020063877105713,
          1.0962672233581543,
          2.805243492126465,
          -3.744959831237793,
          4.056029796600342,
          2.0192933082580566,
          0.594703197479248,
          -3.390890121459961,
          -4.518851280212402,
          0.8946208357810974,
          2.0865821838378906,
          -2.024087429046631,
          -4.510168075561523,
          4.926441669464111,
          3.2078263759613037,
          -1.3096050024032593,
          -4.952425956726074,
          1.6672964096069336,
          3.5998873710632324,
          3.3656582832336426,
          9.169795989990234,
          -2.0403053760528564,
          -5.706263065338135,
          -0.12420167773962021,
          1.6845636367797852,
          0.17587780952453613,
          -4.132668495178223,
          -1.4689198732376099,
          -5.770390033721924,
          7.126984596252441,
          6.897025108337402,
          -1.7965035438537598,
          -0.36053940653800964,
          -1.726946234703064,
          2.899024486541748,
          -4.922183990478516,
          0.2262277603149414,
          2.8304336071014404,
          -1.7321155071258545,
          -5.96657133102417,
          3.303715705871582,
          -4.177190780639648,
          -5.160953521728516,
          -4.485891819000244,
          5.720461845397949,
          1.0229167938232422,
          -3.8906381130218506,
          -0.7963993549346924,
          0.32322025299072266,
          -3.4229423999786377,
          -1.7574559450149536,
          5.357165336608887,
          -1.5015580654144287,
          -0.8856379389762878,
          -0.8542059063911438,
          -6.551202297210693,
          1.510705590248108,
          -2.756007432937622,
          -0.9032889604568481,
          5.573601722717285,
          -3.8704824447631836,
          1.0775611400604248,
          -0.6048691272735596,
          2.6224513053894043,
          -6.631070613861084,
          6.70453405380249,
          3.3739051818847656,
          2.169502019882202,
          3.1158223152160645,
          7.643707275390625,
          1.0272111892700195,
          7.237852096557617,
          1.6206337213516235,
          1.5301634073257446,
          -4.234853744506836,
          -4.909464359283447,
          -1.4264484643936157,
          -3.047698736190796,
          4.34744119644165,
          0.1540854573249817,
          4.745345115661621,
          2.032097816467285,
          -3.1116507053375244,
          0.40123438835144043,
          -1.0599619150161743,
          -6.766661167144775,
          0.13484080135822296,
          1.9706073999404907,
          -6.1905436515808105,
          -0.8187041282653809,
          4.319505214691162,
          3.1095499992370605,
          5.330365180969238,
          -6.702249050140381,
          7.023777961730957,
          -2.8837738037109375,
          -5.375040054321289,
          -4.037247180938721,
          -0.3480421006679535,
          -6.073033332824707,
          4.099472522735596,
          3.1149837970733643,
          6.839481353759766,
          0.5726829767227173,
          -2.2208642959594727,
          -0.439022421836853,
          1.71441650390625,
          3.8582258224487305,
          -2.618546724319458,
          -0.8328948020935059,
          -3.9855735301971436,
          -2.4984006881713867,
          -4.310225009918213,
          0.8098670244216919,
          0.08615244179964066,
          1.280070424079895,
          -2.4218735694885254,
          -0.37014010548591614,
          5.558535099029541,
          -5.723204612731934,
          0.6523948907852173,
          3.3368098735809326,
          2.003696918487549,
          4.628636360168457,
          -1.6942873001098633,
          1.0957369804382324,
          1.9311037063598633,
          2.061673402786255,
          0.3752448558807373,
          2.0538811683654785,
          -1.6067652702331543,
          -1.8462092876434326,
          -4.62438440322876,
          1.256757378578186,
          3.128321409225464,
          2.575040102005005,
          7.030820846557617,
          1.038118600845337,
          0.7195000052452087,
          -2.097369432449341,
          0.5688090920448303,
          -0.5888778567314148,
          0.2688649296760559,
          -0.019575094804167747,
          3.7084033489227295,
          3.369600772857666,
          -1.3724608421325684,
          -5.365448474884033,
          -3.604376792907715,
          -2.3920133113861084,
          1.8403232097625732,
          4.032602787017822,
          6.125219821929932,
          -0.22812533378601074,
          2.3573994636535645,
          2.168091058731079,
          2.6240601539611816,
          2.471954822540283,
          3.473477363586426,
          -3.396902084350586,
          3.4828479290008545,
          3.735586643218994,
          2.4057812690734863,
          -1.681510329246521,
          -1.6671195030212402,
          7.289369583129883,
          -3.044076442718506,
          -4.578912258148193,
          -0.39710739254951477,
          2.548382043838501,
          -3.9616432189941406,
          3.1739912033081055,
          5.226360321044922,
          -1.687408208847046,
          -4.383362293243408,
          4.235346794128418,
          -2.2748897075653076,
          1.0908796787261963,
          -4.451058387756348,
          0.7267653346061707,
          -1.4940111637115479,
          5.018990993499756,
          0.952099621295929,
          1.0599374771118164,
          -2.7064762115478516,
          1.0587393045425415,
          4.095026016235352,
          7.623124122619629,
          2.2573933601379395,
          3.3773069381713867,
          -1.9547810554504395,
          -3.3355600833892822,
          2.361140727996826,
          -0.8124065399169922,
          3.3387277126312256,
          3.572441577911377,
          0.4932648241519928,
          5.74238920211792,
          -0.002600261243060231,
          1.7076671123504639,
          -0.9521827101707458,
          0.6241036653518677,
          8.461739540100098,
          5.288320541381836,
          1.170492172241211,
          2.931882619857788,
          -4.692461967468262,
          -4.954361438751221,
          -3.085557222366333,
          2.5015156269073486,
          0.8779695630073547,
          0.40734654664993286,
          -1.0625933408737183,
          2.5408356189727783,
          3.460357666015625,
          -0.5987845063209534,
          -1.1876076459884644,
          1.8183743953704834,
          -1.4709701538085938,
          2.9303226470947266,
          -0.523460328578949,
          2.2158608436584473,
          1.460813045501709,
          2.292466878890991,
          -0.6654326319694519,
          0.9283038377761841,
          -0.7687828540802002,
          3.4774417877197266,
          1.524789571762085,
          7.049298286437988,
          2.0010030269622803,
          0.05208149552345276,
          0.558812141418457,
          2.6245272159576416,
          1.4382773637771606,
          5.607375144958496,
          -0.4758814573287964,
          -1.6008305549621582,
          2.6708781719207764,
          2.3564372062683105,
          7.221776008605957,
          -5.387185573577881,
          -1.4850977659225464,
          -2.0450336933135986,
          -0.17453435063362122,
          2.329092025756836,
          2.8715085983276367,
          -0.4059254229068756,
          -0.5044185519218445,
          2.572772979736328,
          3.039726495742798,
          1.3006434440612793,
          5.679448127746582,
          2.3227343559265137,
          -1.6536396741867065,
          -0.8093774318695068,
          0.7242602705955505,
          1.1921343803405762,
          3.9286255836486816,
          -3.8758296966552734,
          3.655932664871216,
          7.032328128814697,
          -1.833570122718811,
          0.19178429245948792,
          -4.559471607208252,
          0.3938203454017639,
          8.600314140319824,
          2.4222190380096436,
          0.2388748973608017,
          1.2753324508666992,
          -0.4542263150215149,
          5.9987921714782715,
          -4.00019645690918,
          -0.17650948464870453,
          -6.492610931396484,
          -0.27194687724113464,
          -3.77372407913208,
          -6.161431312561035,
          -4.071605205535889,
          -2.5819008350372314,
          -2.6614022254943848,
          1.2736101150512695,
          -3.1006102561950684,
          -1.180306315422058,
          -4.533742427825928,
          0.19568899273872375,
          -3.10245680809021,
          1.0294091701507568,
          0.18863892555236816,
          -2.995591640472412,
          4.169267177581787,
          1.953637719154358,
          -2.64111328125,
          -2.8062257766723633,
          -1.9053183794021606,
          2.5742204189300537,
          -5.686849117279053,
          3.826547145843506,
          -2.4906363487243652,
          2.951134443283081,
          2.2326743602752686,
          0.6928510069847107,
          1.6697628498077393,
          2.38435435295105,
          -3.613304853439331,
          -1.5176277160644531,
          7.8300700187683105,
          4.3036298751831055,
          3.0360376834869385,
          0.9445281028747559,
          6.807642936706543,
          6.420546054840088,
          -2.168821096420288,
          4.9221930503845215,
          4.056699752807617,
          0.431196928024292,
          1.0191881656646729,
          -1.607122778892517,
          -2.6922101974487305,
          8.896523475646973,
          -3.596005439758301,
          -0.3443634808063507,
          -0.5793935060501099,
          4.574100494384766,
          -4.297420024871826,
          -2.1930487155914307,
          -2.2082738876342773,
          -4.592798709869385,
          0.9475532174110413,
          -3.3364250659942627,
          -1.9763919115066528,
          -0.37513792514801025,
          -2.0330302715301514,
          -3.8512730598449707,
          0.03733823820948601,
          4.434999942779541,
          2.22391414642334,
          3.170576333999634,
          -3.4563841819763184,
          0.32443633675575256,
          -3.851034164428711,
          -1.3272678852081299,
          -0.21847768127918243,
          -1.3191531896591187,
          -5.5791144371032715,
          -5.267419338226318,
          1.7407032251358032,
          -1.731094479560852,
          -3.7564077377319336,
          -3.9430291652679443,
          -1.390939474105835,
          -6.208897590637207,
          -2.1993963718414307,
          1.095163106918335,
          -1.1302865743637085,
          -1.9141030311584473,
          -0.5859435796737671,
          -4.4777679443359375,
          -1.4814950227737427,
          -1.5927523374557495,
          9.088419914245605,
          -1.0393292903900146,
          6.932743549346924,
          1.3276147842407227,
          1.632875680923462,
          0.9824439287185669,
          -0.3794732987880707,
          -0.499563992023468,
          3.5421464443206787,
          -2.867550849914551,
          3.280315637588501,
          0.7312053442001343,
          -2.431640148162842,
          5.266149997711182,
          -1.770133137702942,
          -1.468498706817627,
          -2.0873727798461914,
          2.036105155944824,
          5.68023157119751,
          1.442106008529663,
          0.8887227177619934,
          -1.1304106712341309,
          -0.35473790764808655,
          -1.7214635610580444,
          -0.557910144329071,
          -2.2578375339508057,
          5.918001174926758,
          -5.673154354095459,
          -0.8177535533905029,
          -3.7537784576416016,
          3.568523406982422,
          -1.2913602590560913,
          1.996364712715149,
          3.30234432220459,
          4.438806533813477,
          -4.326674938201904,
          -0.6364395618438721,
          -3.736565351486206,
          -3.2693870067596436,
          4.385793209075928,
          -3.839181423187256,
          1.7233386039733887,
          1.962634801864624,
          -3.323761224746704,
          -3.909757375717163,
          1.2374000549316406,
          -3.1320712566375732,
          0.7478189468383789,
          -2.8173069953918457,
          3.5842251777648926,
          3.0939407348632812,
          5.539117813110352,
          3.987633228302002,
          4.927051544189453,
          -1.3712141513824463,
          -0.365357905626297,
          -1.2119817733764648,
          -3.373866081237793,
          6.280733108520508,
          0.16107606887817383,
          -4.290881633758545,
          1.7520350217819214,
          0.7864152193069458,
          6.651854038238525,
          0.4127468764781952,
          -0.35780712962150574,
          -1.4557812213897705,
          4.617528915405273,
          1.5019484758377075,
          6.068644046783447,
          -4.628678321838379,
          1.3255434036254883,
          -0.4115913212299347,
          -2.6231305599212646,
          -4.0203046798706055,
          1.6162829399108887,
          -4.022167682647705,
          -6.100058078765869,
          8.041686058044434,
          -3.3271400928497314,
          4.717843055725098,
          1.9886605739593506,
          -3.065380573272705,
          5.484171390533447,
          2.9431333541870117,
          -5.041014671325684,
          0.9749887585639954,
          -1.4173871278762817,
          3.4390780925750732,
          -1.269727349281311,
          -2.7585675716400146,
          -2.5024573802948,
          -4.2042951583862305,
          3.941822052001953,
          1.983245849609375,
          5.263424396514893,
          -3.635105609893799,
          -6.515281677246094,
          1.6595464944839478,
          -2.0631704330444336,
          1.3624722957611084,
          8.095911026000977,
          -6.042092800140381,
          -2.177870035171509,
          -2.5112924575805664,
          -6.5257744789123535,
          -0.14968165755271912,
          -0.45154112577438354,
          -0.9907177686691284,
          0.8810281753540039,
          5.274490833282471,
          -7.030778884887695,
          5.420751094818115,
          -3.2990667819976807,
          6.5920090675354,
          -5.908102512359619,
          5.514216423034668,
          6.9133620262146,
          3.0953164100646973,
          -3.1292285919189453,
          -1.5499680042266846,
          -4.375886917114258,
          6.233563423156738,
          1.2156497240066528,
          3.709627628326416,
          1.116243839263916,
          1.1569757461547852,
          -1.6717956066131592,
          1.579338788986206,
          1.928429365158081,
          3.72031569480896,
          -2.8960676193237305,
          5.32564115524292,
          0.3814218044281006,
          -0.12153180688619614,
          1.7807074785232544,
          -3.3503901958465576,
          3.3183133602142334,
          2.5420377254486084,
          -1.37055242061615,
          7.01777982711792,
          2.8506362438201904,
          4.944544792175293,
          -0.3272475600242615,
          1.0893489122390747,
          -1.7119027376174927,
          -1.690016508102417,
          -6.1631855964660645,
          6.117945671081543,
          -2.0508267879486084,
          -1.5204030275344849,
          5.6652445793151855,
          -3.2050230503082275,
          -0.29443106055259705,
          4.196300983428955,
          -3.345951795578003,
          2.305645704269409,
          4.225198745727539,
          -3.3277008533477783,
          -4.705646514892578,
          1.566574215888977,
          -1.70706307888031,
          0.730880081653595,
          -2.151876211166382,
          2.640249729156494,
          -2.6391079425811768,
          3.2934744358062744,
          -0.3507593870162964,
          0.0488133542239666,
          -1.803916335105896,
          -0.6708144545555115,
          3.6139416694641113,
          -3.541989803314209,
          -1.996446132659912,
          -2.6097378730773926,
          -4.262642860412598,
          -6.173614025115967,
          -1.834615707397461,
          3.1592118740081787,
          1.5865488052368164,
          3.8686461448669434,
          -0.5553098917007446,
          -6.135448932647705,
          5.513882160186768,
          -3.433870553970337,
          1.5822381973266602,
          1.67142653465271,
          4.186966896057129,
          3.4797427654266357,
          3.4280521869659424,
          -2.323096990585327,
          0.7982350587844849,
          5.443586349487305,
          3.534769296646118,
          0.25190168619155884,
          -6.684877395629883,
          9.028498649597168,
          -1.1079329252243042,
          -6.45827579498291,
          -1.1929755210876465,
          0.06305135786533356,
          -4.89911413192749,
          -0.5648534297943115,
          3.3627521991729736,
          0.15113888680934906,
          1.107905626296997,
          -5.427069664001465,
          6.097346782684326,
          6.150933265686035,
          1.7803791761398315,
          -3.1441760063171387,
          0.26398757100105286,
          -3.285818338394165,
          -3.989893674850464,
          -5.190263748168945,
          0.8531315326690674,
          5.636534214019775,
          5.538686275482178,
          -6.015255928039551,
          2.550886869430542,
          -4.379734992980957,
          -2.3983278274536133,
          -2.8649399280548096,
          -3.128673553466797,
          1.5625988245010376,
          4.779142379760742,
          -5.245981216430664,
          3.991356372833252,
          7.191310882568359,
          0.15097995102405548,
          -4.96722412109375,
          -2.1099302768707275,
          -5.043180465698242,
          -3.468174457550049,
          0.1653902679681778,
          3.181828498840332,
          -6.356418609619141,
          1.6867849826812744,
          2.8150720596313477,
          1.8202894926071167,
          8.207433700561523,
          7.297386169433594,
          -4.736175060272217,
          6.4317121505737305,
          -4.56107234954834,
          -1.6549195051193237,
          5.6023383140563965,
          4.153641223907471,
          6.474582195281982,
          4.295793533325195,
          -1.602860450744629,
          -2.0371603965759277,
          -3.010741710662842,
          -0.3127233386039734,
          3.3560163974761963,
          1.0689265727996826,
          7.815610885620117,
          0.869426429271698,
          0.2444096803665161,
          -3.7377912998199463,
          2.51059889793396,
          -3.8480803966522217,
          -1.8605347871780396,
          -4.296669960021973,
          -4.083176136016846,
          2.805785894393921,
          1.1420307159423828,
          -6.1630072593688965,
          0.9567171931266785,
          7.800655364990234,
          2.1364057064056396,
          -0.8256961703300476,
          -1.809465765953064,
          0.022229041904211044,
          -1.2466825246810913,
          -2.547612190246582,
          -0.38789471983909607,
          1.2810662984848022,
          5.5360212326049805,
          -4.632593631744385,
          2.1279940605163574,
          -1.7587037086486816,
          2.6513755321502686,
          0.0025250627659261227,
          3.4605255126953125,
          -3.6459238529205322,
          -5.5725274085998535,
          0.5623230338096619,
          -0.285815954208374,
          0.9958162307739258,
          -1.1333577632904053,
          0.9836871027946472,
          1.6927008628845215,
          -2.0892176628112793,
          0.46128642559051514,
          -3.2648727893829346,
          -3.0981695652008057,
          -5.071091175079346,
          2.724392890930176,
          -1.6958041191101074,
          7.493932247161865,
          -0.19311706721782684,
          -2.6266517639160156,
          2.5303516387939453,
          -0.6407362818717957,
          3.8055648803710938,
          3.483988046646118,
          -2.847402572631836,
          -4.734270095825195,
          -2.6210405826568604,
          -3.098146438598633,
          -5.168521404266357,
          -3.806405544281006,
          -4.187838077545166,
          -2.909533739089966,
          0.1364622414112091,
          -3.674673080444336,
          1.022721290588379,
          1.3115155696868896,
          5.896203994750977,
          -2.3235692977905273,
          -0.8118987083435059,
          -0.3875191807746887,
          -0.1691821962594986,
          3.5236029624938965,
          -1.1887564659118652,
          -1.4922500848770142,
          -3.9392378330230713,
          -0.1608550250530243,
          1.6953073740005493,
          -1.7023508548736572,
          -0.9175947308540344,
          -0.3077888488769531,
          -3.678821563720703,
          -6.287118434906006,
          0.8277028203010559,
          -2.428226947784424,
          3.7444143295288086,
          -2.4285502433776855,
          -1.1217005252838135,
          2.808356285095215,
          8.933730125427246,
          -3.8195674419403076,
          -2.911404848098755,
          2.069871187210083,
          -4.172758102416992,
          -1.8883988857269287,
          4.68065071105957,
          -0.7666734457015991,
          2.3116838932037354,
          1.6616100072860718,
          7.18897819519043,
          -2.681055784225464,
          5.372886657714844,
          -5.1247878074646,
          1.7233730554580688,
          -1.9597394466400146,
          -1.5412423610687256,
          3.028517723083496,
          0.5681613087654114,
          -2.954831600189209,
          3.2770450115203857,
          1.6290820837020874,
          3.1144371032714844,
          -3.807849645614624,
          -3.0873944759368896,
          3.092857599258423,
          -2.9649784564971924,
          -0.6806607842445374,
          4.236457347869873,
          2.6256282329559326,
          5.4500322341918945,
          2.8574845790863037,
          1.5852594375610352,
          4.18483304977417,
          1.8131451606750488,
          -4.97040319442749,
          -1.4576127529144287,
          1.751856803894043,
          -3.314779758453369,
          -1.5015997886657715,
          -1.3885645866394043,
          4.062536239624023,
          -2.7787535190582275,
          -0.8555777668952942,
          0.1665971875190735,
          1.1103137731552124,
          3.4544618129730225,
          0.7605707049369812,
          -5.282952308654785,
          -5.859425067901611,
          5.142246246337891,
          0.7641872763633728,
          -0.9948075413703918,
          -2.8125901222229004,
          -1.0277857780456543,
          1.7047393321990967,
          6.093436241149902,
          0.8429672122001648,
          -1.8652795553207397,
          0.6315794587135315,
          2.339871406555176,
          4.946167945861816,
          1.2163454294204712,
          -1.5901278257369995,
          -5.328018665313721,
          -2.089664936065674,
          4.532048225402832,
          1.5029951333999634,
          0.7207335233688354,
          -4.387795925140381,
          -0.422957181930542,
          -6.019687652587891,
          4.815884590148926,
          -3.197756767272949,
          -5.497541427612305,
          -5.859035491943359,
          -3.748694896697998,
          -1.7388410568237305,
          -0.845894455909729,
          -4.4751973152160645,
          -2.4432315826416016,
          1.905202031135559,
          0.8797910809516907,
          2.9710755348205566,
          5.4516825675964355,
          -0.9280866384506226,
          1.6308079957962036,
          2.563138246536255,
          1.0227400064468384,
          1.2616581916809082,
          -2.0631937980651855,
          -1.1475651264190674,
          -4.882166862487793,
          -3.667600393295288,
          6.790106296539307,
          0.7707743048667908,
          -4.34200382232666,
          -2.2575759887695312,
          5.047792911529541,
          1.9500139951705933,
          0.6871408224105835,
          -0.4826561212539673,
          -3.9809234142303467,
          -4.194041728973389,
          -1.2056477069854736,
          -1.581605315208435,
          4.403301239013672,
          -5.95087194442749,
          -0.4052537977695465,
          4.743371486663818,
          4.032003879547119,
          -2.3393170833587646,
          6.106515407562256,
          -2.3164525032043457,
          -4.699531078338623,
          -0.5915129780769348,
          -4.887284755706787,
          8.764453887939453,
          -1.855960488319397,
          -1.0072686672210693,
          -3.0389530658721924,
          -2.6445486545562744,
          -3.319941520690918,
          -4.077552318572998,
          -0.5965864062309265,
          0.9441453814506531,
          -1.943597674369812,
          -5.976699352264404,
          -3.5561892986297607,
          5.076779842376709,
          5.41024112701416,
          -3.8489913940429688,
          -0.6082305908203125,
          -5.238130569458008
         ],
         "z": [
          5.01884651184082,
          -7.473084926605225,
          8.654631614685059,
          -6.948422431945801,
          9.860152244567871,
          -4.572760105133057,
          -9.575292587280273,
          -5.821652412414551,
          -0.77702397108078,
          5.720611095428467,
          -7.729585647583008,
          6.057601451873779,
          -12.27540397644043,
          2.322330951690674,
          4.220967769622803,
          -1.7054368257522583,
          -12.241713523864746,
          -5.1358466148376465,
          8.26694107055664,
          5.288036823272705,
          -4.184391498565674,
          9.556741714477539,
          2.6488089561462402,
          -1.5309183597564697,
          -2.8534069061279297,
          8.149853706359863,
          5.96157693862915,
          1.1257286071777344,
          3.9666941165924072,
          -0.8999170660972595,
          0.1834246665239334,
          -11.208702087402344,
          4.063335418701172,
          2.7527453899383545,
          -0.03447631001472473,
          9.242834091186523,
          -1.6112743616104126,
          1.5105565786361694,
          7.717594623565674,
          -4.483933448791504,
          -3.3079400062561035,
          0.2819232642650604,
          -0.4419775903224945,
          -0.7920212149620056,
          2.106926202774048,
          -2.4066696166992188,
          1.8903087377548218,
          -1.3349601030349731,
          6.019370079040527,
          -4.812466621398926,
          -9.92050552368164,
          7.796818733215332,
          1.7667980194091797,
          -2.2745375633239746,
          -5.8866376876831055,
          -15.991268157958984,
          -8.576312065124512,
          -12.516932487487793,
          2.169293165206909,
          4.5825395584106445,
          -3.1474034786224365,
          -3.8547356128692627,
          0.376740425825119,
          -0.3451846241950989,
          1.062855839729309,
          1.795843482017517,
          -4.71599006652832,
          -4.712896823883057,
          5.9579057693481445,
          -5.754237174987793,
          0.9811987280845642,
          -4.657776832580566,
          8.197421073913574,
          -9.351017951965332,
          13.200136184692383,
          10.70972728729248,
          4.95418643951416,
          -0.49885112047195435,
          13.956536293029785,
          10.570192337036133,
          10.578739166259766,
          12.501511573791504,
          6.942654132843018,
          -2.7746331691741943,
          -9.29939079284668,
          -8.102980613708496,
          -3.6314637660980225,
          -7.550909519195557,
          -3.430718421936035,
          11.680900573730469,
          10.120476722717285,
          -8.005876541137695,
          0.8354126811027527,
          -7.653820991516113,
          -13.252684593200684,
          0.9249555468559265,
          2.491185188293457,
          -7.272655963897705,
          -2.696183919906616,
          5.145611763000488,
          8.003007888793945,
          -4.63096809387207,
          -6.868679523468018,
          1.6928014755249023,
          -0.4341490864753723,
          5.43805456161499,
          0.5171902179718018,
          -10.596868515014648,
          12.21133804321289,
          -0.45174747705459595,
          13.601012229919434,
          9.406451225280762,
          -10.329134941101074,
          11.06899642944336,
          8.686382293701172,
          12.54171371459961,
          -8.800024032592773,
          -7.490307807922363,
          -8.076128959655762,
          -2.817819595336914,
          12.430399894714355,
          -2.127725124359131,
          -9.98422622680664,
          -2.040813446044922,
          -2.121314287185669,
          -8.261445045471191,
          -12.818840026855469,
          -6.12062406539917,
          -9.073874473571777,
          -8.29160213470459,
          -2.7493810653686523,
          2.2845261096954346,
          -9.174189567565918,
          -11.216118812561035,
          -5.532285213470459,
          7.4072747230529785,
          8.409382820129395,
          -8.349944114685059,
          -9.146257400512695,
          -0.7966768741607666,
          -9.115639686584473,
          12.530851364135742,
          1.182239294052124,
          7.835414409637451,
          -3.4010379314422607,
          7.811193466186523,
          -5.98549222946167,
          -4.959253311157227,
          -8.623908996582031,
          0.875295102596283,
          13.450946807861328,
          12.777068138122559,
          -6.002541542053223,
          0.685661792755127,
          8.808582305908203,
          2.0435922145843506,
          -0.2238430678844452,
          -2.856095552444458,
          16.457120895385742,
          -8.22415542602539,
          -9.732833862304688,
          -1.3729538917541504,
          15.933735847473145,
          12.630128860473633,
          -6.3798017501831055,
          -4.263436317443848,
          -9.243051528930664,
          0.81702721118927,
          5.217206001281738,
          -0.8001229166984558,
          0.8684095740318298,
          -6.951966762542725,
          -4.293152332305908,
          8.978083610534668,
          -3.13189959526062,
          -6.769317626953125,
          -5.5052666664123535,
          8.60883617401123,
          -9.544329643249512,
          -6.950908184051514,
          -4.2075676918029785,
          -4.475438594818115,
          -11.516434669494629,
          -1.9547383785247803,
          -0.01619943603873253,
          -8.265417098999023,
          0.05332821607589722,
          -2.6742470264434814,
          9.14513874053955,
          12.29814338684082,
          -4.626263618469238,
          8.289823532104492,
          -8.184595108032227,
          9.213516235351562,
          -5.4109206199646,
          -10.644827842712402,
          -5.359306812286377,
          -11.264379501342773,
          7.796717643737793,
          -2.800917625427246,
          -1.3880650997161865,
          -0.12877170741558075,
          -13.170941352844238,
          6.793601036071777,
          8.682611465454102,
          -11.768397331237793,
          9.929139137268066,
          -1.962623119354248,
          -5.360726356506348,
          -11.253289222717285,
          -3.4348537921905518,
          -0.4953576624393463,
          1.412000060081482,
          12.949383735656738,
          -2.276453971862793,
          -3.124403953552246,
          -10.411588668823242,
          -1.3645782470703125,
          0.1123230829834938,
          -1.150864601135254,
          9.110344886779785,
          -7.726280689239502,
          6.413949966430664,
          12.623026847839355,
          -6.057943344116211,
          10.58967399597168,
          -0.1591547727584839,
          8.804229736328125,
          -5.658454895019531,
          -0.9611385464668274,
          -9.617560386657715,
          0.7020277380943298,
          -7.39668083190918,
          -7.913349151611328,
          -5.530166149139404,
          -7.673928260803223,
          -9.460148811340332,
          11.75775146484375,
          -5.832515716552734,
          9.581806182861328,
          -2.3595407009124756,
          -8.359517097473145,
          7.235605716705322,
          -7.371243000030518,
          -3.956655502319336,
          -5.70158576965332,
          9.344834327697754,
          15.472193717956543,
          -0.00289174891076982,
          8.781881332397461,
          0.09357396513223648,
          -2.1125526428222656,
          -4.479183673858643,
          -1.5629647970199585,
          6.297733783721924,
          -3.0603537559509277,
          6.304484844207764,
          -6.205650806427002,
          -1.0356184244155884,
          -3.4734973907470703,
          8.31261157989502,
          -1.5359010696411133,
          9.493475914001465,
          -3.9026286602020264,
          1.6234359741210938,
          -7.372719764709473,
          -7.839422702789307,
          -7.280416488647461,
          12.208684921264648,
          -10.823399543762207,
          -9.419507026672363,
          -13.209912300109863,
          8.83751392364502,
          8.363804817199707,
          -7.03754997253418,
          -2.409205675125122,
          0.7805787324905396,
          8.270604133605957,
          -9.451766014099121,
          8.97663688659668,
          -0.7794100642204285,
          8.053123474121094,
          7.453167915344238,
          7.537603855133057,
          7.974091053009033,
          -8.109393119812012,
          -2.657773971557617,
          -7.9805097579956055,
          -7.143161296844482,
          7.035609722137451,
          12.854616165161133,
          -10.5563325881958,
          0.9338915944099426,
          -7.250450134277344,
          -2.537292957305908,
          -10.074193954467773,
          -5.626039981842041,
          12.738412857055664,
          -0.5978101491928101,
          6.698973178863525,
          -8.462092399597168,
          -6.11901330947876,
          0.3646204471588135,
          -4.492968559265137,
          -4.054704189300537,
          15.598852157592773,
          -7.7512054443359375,
          15.090487480163574,
          -3.262195587158203,
          -0.34769001603126526,
          -0.005741716828197241,
          -4.625598430633545,
          -3.6251983642578125,
          9.251214981079102,
          -5.049604415893555,
          6.824522972106934,
          -1.044323205947876,
          -8.1687593460083,
          15.239782333374023,
          -12.903707504272461,
          -8.300165176391602,
          9.91354751586914,
          -5.736653804779053,
          -10.942400932312012,
          12.340965270996094,
          9.37547779083252,
          -6.735982418060303,
          -7.186779499053955,
          4.341054916381836,
          -5.129980564117432,
          -7.11924934387207,
          -0.6647502779960632,
          -2.756345510482788,
          3.8777077198028564,
          -7.596193313598633,
          5.071246147155762,
          -8.361493110656738,
          6.9883623123168945,
          -0.19046685099601746,
          -0.05132446438074112,
          7.147950649261475,
          7.319546222686768,
          -8.366477966308594,
          -0.04092039540410042,
          -5.849651336669922,
          5.56055212020874,
          -11.644219398498535,
          -5.394318103790283,
          -6.7501373291015625,
          -1.204314112663269,
          -1.4656496047973633,
          8.67169189453125,
          -3.4242959022521973,
          -12.988932609558105,
          -2.6216983795166016,
          7.009415626525879,
          0.2667067348957062,
          -6.501351356506348,
          1.2758046388626099,
          9.730049133300781,
          -8.23228931427002,
          -7.48642635345459,
          -0.07511360198259354,
          -3.032320261001587,
          -6.455990314483643,
          15.782822608947754,
          1.0668854713439941,
          -6.375216007232666,
          -5.841922760009766,
          -11.199688911437988,
          -1.3814440965652466,
          -2.450213670730591,
          6.150683403015137,
          3.003455400466919,
          -5.733067989349365,
          -1.2243859767913818,
          13.798009872436523,
          -4.555845737457275,
          -13.307259559631348,
          11.587881088256836,
          -7.687206745147705,
          0.27479657530784607,
          12.976222038269043,
          7.839437961578369,
          -8.375540733337402,
          2.3083572387695312,
          1.3620444536209106,
          0.9952561855316162,
          -3.7332489490509033,
          9.945831298828125,
          -3.370927095413208,
          3.170032024383545,
          10.411986351013184,
          12.025808334350586,
          -4.673705577850342,
          -13.051746368408203,
          5.415384769439697,
          -3.7766573429107666,
          8.385616302490234,
          9.2117919921875,
          -2.593822717666626,
          -3.933833599090576,
          -4.705930233001709,
          -11.531895637512207,
          -4.1289262771606445,
          -7.809857368469238,
          5.963407516479492,
          1.6848256587982178,
          -9.43807601928711,
          -11.000903129577637,
          -7.6217780113220215,
          12.061991691589355,
          -0.6819788813591003,
          15.29387092590332,
          -10.772431373596191,
          0.0851825550198555,
          -7.554790019989014,
          -8.142597198486328,
          -7.649346351623535,
          5.171664237976074,
          10.006782531738281,
          -1.3130223751068115,
          -7.714096546173096,
          -7.285652160644531,
          4.818889617919922,
          -6.060102462768555,
          -9.145425796508789,
          -4.594798564910889,
          7.292059898376465,
          4.62153959274292,
          12.650567054748535,
          -9.440982818603516,
          -3.012990951538086,
          -4.302004337310791,
          1.6150851249694824,
          -4.070103645324707,
          -4.619094371795654,
          6.078409194946289,
          12.693838119506836,
          8.156026840209961,
          6.148352146148682,
          14.118940353393555,
          8.543212890625,
          4.146779537200928,
          -2.0248355865478516,
          -5.895287990570068,
          -0.3164636194705963,
          -1.417266845703125,
          7.526007175445557,
          -4.8817033767700195,
          -3.4482719898223877,
          8.037436485290527,
          -1.6248778104782104,
          15.448278427124023,
          -9.262303352355957,
          -12.995687484741211,
          -3.851573944091797,
          8.34097957611084,
          14.14028549194336,
          9.14407730102539,
          -8.910553932189941,
          7.12627649307251,
          -1.1788290739059448,
          7.36979866027832,
          -1.8772650957107544,
          10.215636253356934,
          11.759408950805664,
          -1.667324423789978,
          -4.683022975921631,
          5.957972049713135,
          11.992667198181152,
          -3.638950824737549,
          -2.811511516571045,
          9.426677703857422,
          -1.2704248428344727,
          -5.502728462219238,
          -10.674771308898926,
          -3.642345428466797,
          5.364490032196045,
          -7.212189674377441,
          -2.9078738689422607,
          -3.422217607498169,
          -3.218231678009033,
          4.253756999969482,
          -8.912202835083008,
          5.013657093048096,
          -6.198623180389404,
          7.145628452301025,
          6.91176176071167,
          10.529690742492676,
          14.887754440307617,
          -9.672717094421387,
          -2.5136358737945557,
          0.9810572266578674,
          6.844926834106445,
          -5.2573699951171875,
          -11.093570709228516,
          -8.932199478149414,
          -0.43147990107536316,
          11.574536323547363,
          -9.145783424377441,
          0.44325628876686096,
          10.093348503112793,
          -3.3476316928863525,
          6.898490905761719,
          9.991488456726074,
          14.526518821716309,
          -5.34401273727417,
          7.7093000411987305,
          -3.9907608032226562,
          8.51254940032959,
          -3.3988778591156006,
          -7.6205973625183105,
          -0.21783806383609772,
          12.968099594116211,
          -1.3925468921661377,
          0.508471667766571,
          14.453152656555176,
          -1.6118509769439697,
          -8.45638656616211,
          9.022294998168945,
          5.452549457550049,
          -1.1461199522018433,
          3.8717026710510254,
          0.35659632086753845,
          -8.00328254699707,
          7.118415832519531,
          -6.085551738739014,
          -3.124270439147949,
          6.987426280975342,
          -6.846510887145996,
          0.2923123836517334,
          -9.504922866821289,
          -1.1026827096939087,
          -9.263065338134766,
          -0.14115135371685028,
          -11.278843879699707,
          6.3525285720825195,
          3.507153272628784,
          -10.946985244750977,
          -1.704161524772644,
          -6.626980781555176,
          -7.688796043395996,
          -9.292410850524902,
          -5.7114949226379395,
          -10.624833106994629,
          7.0727739334106445,
          -6.381654739379883,
          -4.752664089202881,
          7.226651191711426,
          1.0827051401138306,
          8.777881622314453,
          6.665755748748779,
          16.390302658081055,
          -2.1773862838745117,
          -5.68405294418335,
          -9.541060447692871,
          14.453302383422852,
          -7.310312747955322,
          -3.4044041633605957,
          4.689698696136475,
          -0.06756836175918579,
          -2.4393811225891113,
          -6.626521587371826,
          -2.776423215866089,
          10.277400016784668,
          -3.6752636432647705,
          0.13293325901031494,
          -4.905127048492432,
          -8.0134859085083,
          6.276005268096924,
          -8.813225746154785,
          -4.7100934982299805,
          -1.1688002347946167,
          -9.789117813110352,
          0.5623887181282043,
          -7.701169013977051,
          -7.311067581176758,
          7.3946533203125,
          13.22496223449707,
          9.299261093139648,
          14.038321495056152,
          3.5804765224456787,
          -8.381876945495605,
          -3.173335313796997,
          9.601583480834961,
          7.245094299316406,
          -0.3436829745769501,
          -5.824817657470703,
          0.8031644225120544,
          -4.689656734466553,
          -1.5249710083007812,
          -2.140528678894043,
          -4.135737895965576,
          -2.3919832706451416,
          1.3987957239151,
          -5.414076328277588,
          1.2080588340759277,
          -4.183403491973877,
          4.523495674133301,
          -8.646142959594727,
          -1.0219430923461914,
          -3.9137022495269775,
          -9.220641136169434,
          -6.118171215057373,
          -9.275569915771484,
          -6.602760314941406,
          0.6248592138290405,
          -3.0540168285369873,
          -7.152359485626221,
          -1.123631477355957,
          11.834870338439941,
          9.845376968383789,
          7.538736820220947,
          7.2686848640441895,
          -2.646250009536743,
          -4.5999674797058105,
          -4.2670793533325195,
          -1.4528261423110962,
          7.143567085266113,
          -0.3824623227119446,
          0.8749436736106873,
          0.8236291408538818,
          -1.0379574298858643,
          3.950650215148926,
          -3.5363333225250244,
          -9.164202690124512,
          9.362390518188477,
          0.6867406368255615,
          7.6207499504089355,
          -0.4577145576477051,
          -10.542346000671387,
          14.566219329833984,
          6.173048973083496,
          11.399567604064941,
          3.7627644538879395,
          0.39292779564857483,
          -0.8615880608558655,
          -8.962998390197754,
          -2.3104634284973145,
          8.717126846313477,
          -11.517304420471191,
          -10.426529884338379,
          12.224907875061035,
          0.8306496739387512,
          16.201171875,
          6.201705455780029,
          8.864255905151367,
          2.457996129989624,
          9.77212142944336,
          -0.11923698335886002,
          -3.940932035446167,
          -0.27591803669929504,
          -9.117661476135254,
          -6.519486427307129,
          -11.421650886535645,
          5.948291301727295,
          7.7547125816345215,
          1.319405198097229,
          -0.6205549836158752,
          -0.47300413250923157,
          0.6862884163856506,
          -1.815559983253479,
          6.169119834899902,
          -6.3870038986206055,
          -9.7255859375,
          -8.719584465026855,
          -11.458189964294434,
          -11.456932067871094,
          -5.6941328048706055,
          -1.0203020572662354,
          7.079719066619873,
          0.36134329438209534,
          -1.7367855310440063,
          -7.11514139175415,
          0.5954001545906067,
          -10.786507606506348,
          -10.63314437866211,
          -5.351203918457031,
          -11.120268821716309,
          5.0957183837890625,
          -1.0102628469467163,
          7.928768634796143,
          -4.512507915496826,
          -1.3853758573532104,
          -5.760382175445557,
          7.673786163330078,
          -4.426965236663818,
          -7.99204683303833,
          0.1705344170331955,
          1.5960744619369507,
          -0.12137797474861145,
          -0.1858994960784912,
          -5.148242950439453,
          -9.885787963867188,
          -9.762785911560059,
          10.275714874267578,
          10.533716201782227,
          15.539729118347168,
          0.49448075890541077,
          -4.335973262786865,
          10.358359336853027,
          2.366988182067871,
          4.01270866394043,
          8.446331024169922,
          -15.03242015838623,
          -7.172301292419434,
          -0.1465027928352356,
          1.0252530574798584,
          -0.9855580925941467,
          2.522071599960327,
          -2.3395235538482666,
          -0.03226905316114426,
          8.0419340133667,
          2.999406099319458,
          -8.508678436279297,
          -4.372937202453613,
          -3.0036256313323975,
          3.1127686500549316,
          -0.22637249529361725,
          8.293867111206055,
          -7.570725440979004,
          -6.384563446044922,
          7.762701511383057,
          -3.108926296234131,
          3.990471839904785,
          -4.718173503875732,
          -10.4481840133667,
          -5.842426300048828,
          -4.251319885253906,
          -3.642580270767212,
          5.082944393157959,
          -1.3601007461547852,
          -0.580920398235321,
          -3.634063243865967,
          -8.391074180603027,
          12.732701301574707,
          13.704623222351074,
          13.271722793579102,
          -0.06512165069580078,
          0.14379256963729858,
          9.877226829528809,
          8.734374046325684,
          -2.0604636669158936,
          8.49055290222168,
          12.892080307006836,
          11.976302146911621,
          -10.242574691772461,
          8.610456466674805,
          -0.23401810228824615,
          -7.952502250671387,
          6.556713104248047,
          -13.855522155761719,
          -5.482686519622803,
          -1.3230715990066528,
          8.826091766357422,
          10.435059547424316,
          -1.8421287536621094,
          0.006182792596518993,
          -5.4171295166015625,
          -1.3367630243301392,
          0.36963340640068054,
          0.5567206740379333,
          -7.69591760635376,
          6.647096633911133,
          -6.98405122756958,
          -7.8118510246276855,
          7.45107364654541,
          -8.281270980834961,
          8.537862777709961,
          10.45737075805664,
          5.635899543762207,
          -0.7702974081039429,
          -9.502028465270996,
          8.833022117614746,
          -2.2626028060913086,
          0.5928242802619934,
          -4.305675983428955,
          14.702898979187012,
          8.285361289978027,
          13.15968132019043,
          -7.679245948791504,
          -7.269772052764893,
          13.059508323669434,
          15.044831275939941,
          -0.5146552324295044,
          -3.05202317237854,
          -7.337252616882324,
          11.44457721710205,
          10.089401245117188,
          -4.539981365203857,
          10.780139923095703,
          -1.3418068885803223,
          15.556246757507324,
          -6.102809429168701,
          -11.028356552124023,
          0.13935354351997375,
          7.760530948638916,
          13.220634460449219,
          -4.943786144256592,
          -1.7379300594329834,
          1.0535074472427368,
          -2.2380893230438232,
          -8.523694038391113,
          9.708415985107422,
          -4.993119716644287,
          -1.7757656574249268,
          -6.09171724319458,
          -9.261609077453613,
          -1.0373553037643433,
          6.254005432128906,
          -2.8454275131225586,
          14.904672622680664,
          9.622735977172852,
          -7.7051005363464355,
          7.429369926452637,
          -7.083520889282227,
          -3.3200252056121826,
          -4.8038177490234375,
          -6.6247968673706055,
          -6.708696365356445,
          9.144411087036133,
          13.038493156433105,
          -6.728222846984863,
          -6.726818084716797,
          -4.6105451583862305,
          -9.165876388549805,
          11.53666877746582,
          10.086658477783203,
          0.12134430557489395,
          -5.596998691558838,
          10.326748847961426,
          0.6929880380630493,
          -2.2879812717437744,
          8.938329696655273,
          -5.806623458862305,
          5.309818267822266,
          8.89238452911377,
          -6.659474849700928,
          -1.2028400897979736,
          13.124825477600098,
          1.6838147640228271,
          -6.707045555114746,
          -9.66346549987793,
          -8.090425491333008,
          -9.14071273803711,
          -9.40993881225586,
          13.063122749328613,
          13.079204559326172,
          -1.8971188068389893,
          -9.344900131225586,
          10.114745140075684,
          -0.24990497529506683,
          12.639102935791016,
          -3.209064245223999,
          -9.29921817779541,
          -2.673466205596924,
          -10.837843894958496,
          11.257195472717285,
          -1.2383438348770142,
          8.668587684631348,
          10.863691329956055,
          -4.035027503967285,
          11.611367225646973,
          -7.946186065673828,
          -8.185901641845703,
          -7.351112365722656,
          10.264089584350586,
          -6.334468841552734,
          12.058318138122559,
          -5.00310754776001,
          0.8187743425369263,
          -3.9027252197265625,
          12.86573600769043,
          -14.226476669311523,
          -0.24195359647274017,
          -5.029195308685303,
          -4.269912242889404,
          6.172903060913086,
          7.515689373016357,
          13.214707374572754,
          16.56475257873535,
          7.016369342803955,
          -4.288695812225342,
          -3.8861987590789795,
          -10.159611701965332,
          8.578892707824707,
          0.20382243394851685,
          6.44796085357666,
          -1.2043530941009521,
          6.696824550628662,
          -0.5964186191558838,
          4.61183500289917,
          7.4950056076049805,
          -1.0922505855560303,
          12.23151683807373,
          8.405346870422363,
          -6.358786106109619,
          -3.454310178756714,
          -5.797870635986328,
          -7.47347354888916,
          -1.5821077823638916,
          -1.0808347463607788,
          -3.127474784851074,
          12.676188468933105,
          7.319066524505615,
          -5.562500953674316,
          -11.680665969848633,
          4.239601135253906,
          13.065957069396973,
          -5.731583595275879,
          -0.5398953557014465,
          1.1234183311462402,
          13.481876373291016,
          -1.4817734956741333,
          9.313276290893555,
          4.891542434692383,
          -9.28665828704834,
          -10.457772254943848,
          -9.114931106567383,
          9.39172077178955,
          -9.011884689331055,
          -3.106783866882324,
          9.913318634033203,
          -10.17262077331543,
          13.477280616760254,
          -12.717334747314453,
          5.565513610839844,
          -0.878012478351593,
          -9.744298934936523,
          9.508359909057617,
          -0.33681145310401917,
          -3.01442289352417,
          -1.2949250936508179,
          -4.524419784545898,
          4.720607280731201,
          2.285714626312256,
          7.2788543701171875,
          -8.90825080871582,
          -7.103044509887695,
          5.211546421051025,
          -2.6962881088256836,
          13.467912673950195,
          -9.775161743164062,
          15.276196479797363,
          0.1683349609375,
          14.715069770812988,
          9.92065715789795,
          -8.697697639465332,
          -13.186430931091309,
          5.11292839050293,
          1.1822996139526367,
          -3.4966018199920654,
          -6.640239715576172,
          1.1682108640670776,
          -7.549392223358154,
          -9.784029006958008,
          -0.8047776818275452,
          -2.2134511470794678,
          -3.6497108936309814,
          -5.672811985015869,
          -1.068704605102539,
          8.622957229614258,
          14.503754615783691,
          7.50460958480835,
          -3.7520880699157715,
          -6.794309616088867,
          16.43839454650879,
          -0.286752313375473,
          -2.2550718784332275,
          0.29125645756721497,
          13.969375610351562,
          7.198439121246338,
          8.876567840576172,
          9.65107536315918,
          -8.103036880493164,
          -6.935667037963867,
          0.025706147775053978,
          -1.4216392040252686,
          -7.319009780883789,
          -0.741277813911438,
          8.166882514953613,
          12.170496940612793,
          -8.371235847473145,
          -0.5606634020805359,
          -3.841770648956299,
          -3.8160877227783203,
          -5.600022792816162,
          -8.355565071105957,
          5.3738322257995605,
          -7.289093017578125,
          15.3432035446167,
          16.298688888549805,
          7.162502288818359,
          -0.9620685577392578,
          6.3820109367370605,
          -3.2845427989959717,
          11.204838752746582,
          -4.814675331115723,
          5.149099826812744
         ]
        }
       ],
       "layout": {
        "coloraxis": {
         "colorbar": {
          "title": {
           "text": "Label"
          }
         },
         "colorscale": [
          [
           0,
           "#0d0887"
          ],
          [
           0.1111111111111111,
           "#46039f"
          ],
          [
           0.2222222222222222,
           "#7201a8"
          ],
          [
           0.3333333333333333,
           "#9c179e"
          ],
          [
           0.4444444444444444,
           "#bd3786"
          ],
          [
           0.5555555555555556,
           "#d8576b"
          ],
          [
           0.6666666666666666,
           "#ed7953"
          ],
          [
           0.7777777777777778,
           "#fb9f3a"
          ],
          [
           0.8888888888888888,
           "#fdca26"
          ],
          [
           1,
           "#f0f921"
          ]
         ]
        },
        "height": 800,
        "legend": {
         "tracegroupgap": 0
        },
        "scene": {
         "domain": {
          "x": [
           0,
           1
          ],
          "y": [
           0,
           1
          ]
         },
         "xaxis": {
          "title": {
           "text": "0"
          }
         },
         "yaxis": {
          "title": {
           "text": "1"
          }
         },
         "zaxis": {
          "title": {
           "text": "2"
          }
         }
        },
        "template": {
         "data": {
          "bar": [
           {
            "error_x": {
             "color": "#2a3f5f"
            },
            "error_y": {
             "color": "#2a3f5f"
            },
            "marker": {
             "line": {
              "color": "#E5ECF6",
              "width": 0.5
             }
            },
            "type": "bar"
           }
          ],
          "barpolar": [
           {
            "marker": {
             "line": {
              "color": "#E5ECF6",
              "width": 0.5
             }
            },
            "type": "barpolar"
           }
          ],
          "carpet": [
           {
            "aaxis": {
             "endlinecolor": "#2a3f5f",
             "gridcolor": "white",
             "linecolor": "white",
             "minorgridcolor": "white",
             "startlinecolor": "#2a3f5f"
            },
            "baxis": {
             "endlinecolor": "#2a3f5f",
             "gridcolor": "white",
             "linecolor": "white",
             "minorgridcolor": "white",
             "startlinecolor": "#2a3f5f"
            },
            "type": "carpet"
           }
          ],
          "choropleth": [
           {
            "colorbar": {
             "outlinewidth": 0,
             "ticks": ""
            },
            "type": "choropleth"
           }
          ],
          "contour": [
           {
            "colorbar": {
             "outlinewidth": 0,
             "ticks": ""
            },
            "colorscale": [
             [
              0,
              "#0d0887"
             ],
             [
              0.1111111111111111,
              "#46039f"
             ],
             [
              0.2222222222222222,
              "#7201a8"
             ],
             [
              0.3333333333333333,
              "#9c179e"
             ],
             [
              0.4444444444444444,
              "#bd3786"
             ],
             [
              0.5555555555555556,
              "#d8576b"
             ],
             [
              0.6666666666666666,
              "#ed7953"
             ],
             [
              0.7777777777777778,
              "#fb9f3a"
             ],
             [
              0.8888888888888888,
              "#fdca26"
             ],
             [
              1,
              "#f0f921"
             ]
            ],
            "type": "contour"
           }
          ],
          "contourcarpet": [
           {
            "colorbar": {
             "outlinewidth": 0,
             "ticks": ""
            },
            "type": "contourcarpet"
           }
          ],
          "heatmap": [
           {
            "colorbar": {
             "outlinewidth": 0,
             "ticks": ""
            },
            "colorscale": [
             [
              0,
              "#0d0887"
             ],
             [
              0.1111111111111111,
              "#46039f"
             ],
             [
              0.2222222222222222,
              "#7201a8"
             ],
             [
              0.3333333333333333,
              "#9c179e"
             ],
             [
              0.4444444444444444,
              "#bd3786"
             ],
             [
              0.5555555555555556,
              "#d8576b"
             ],
             [
              0.6666666666666666,
              "#ed7953"
             ],
             [
              0.7777777777777778,
              "#fb9f3a"
             ],
             [
              0.8888888888888888,
              "#fdca26"
             ],
             [
              1,
              "#f0f921"
             ]
            ],
            "type": "heatmap"
           }
          ],
          "heatmapgl": [
           {
            "colorbar": {
             "outlinewidth": 0,
             "ticks": ""
            },
            "colorscale": [
             [
              0,
              "#0d0887"
             ],
             [
              0.1111111111111111,
              "#46039f"
             ],
             [
              0.2222222222222222,
              "#7201a8"
             ],
             [
              0.3333333333333333,
              "#9c179e"
             ],
             [
              0.4444444444444444,
              "#bd3786"
             ],
             [
              0.5555555555555556,
              "#d8576b"
             ],
             [
              0.6666666666666666,
              "#ed7953"
             ],
             [
              0.7777777777777778,
              "#fb9f3a"
             ],
             [
              0.8888888888888888,
              "#fdca26"
             ],
             [
              1,
              "#f0f921"
             ]
            ],
            "type": "heatmapgl"
           }
          ],
          "histogram": [
           {
            "marker": {
             "colorbar": {
              "outlinewidth": 0,
              "ticks": ""
             }
            },
            "type": "histogram"
           }
          ],
          "histogram2d": [
           {
            "colorbar": {
             "outlinewidth": 0,
             "ticks": ""
            },
            "colorscale": [
             [
              0,
              "#0d0887"
             ],
             [
              0.1111111111111111,
              "#46039f"
             ],
             [
              0.2222222222222222,
              "#7201a8"
             ],
             [
              0.3333333333333333,
              "#9c179e"
             ],
             [
              0.4444444444444444,
              "#bd3786"
             ],
             [
              0.5555555555555556,
              "#d8576b"
             ],
             [
              0.6666666666666666,
              "#ed7953"
             ],
             [
              0.7777777777777778,
              "#fb9f3a"
             ],
             [
              0.8888888888888888,
              "#fdca26"
             ],
             [
              1,
              "#f0f921"
             ]
            ],
            "type": "histogram2d"
           }
          ],
          "histogram2dcontour": [
           {
            "colorbar": {
             "outlinewidth": 0,
             "ticks": ""
            },
            "colorscale": [
             [
              0,
              "#0d0887"
             ],
             [
              0.1111111111111111,
              "#46039f"
             ],
             [
              0.2222222222222222,
              "#7201a8"
             ],
             [
              0.3333333333333333,
              "#9c179e"
             ],
             [
              0.4444444444444444,
              "#bd3786"
             ],
             [
              0.5555555555555556,
              "#d8576b"
             ],
             [
              0.6666666666666666,
              "#ed7953"
             ],
             [
              0.7777777777777778,
              "#fb9f3a"
             ],
             [
              0.8888888888888888,
              "#fdca26"
             ],
             [
              1,
              "#f0f921"
             ]
            ],
            "type": "histogram2dcontour"
           }
          ],
          "mesh3d": [
           {
            "colorbar": {
             "outlinewidth": 0,
             "ticks": ""
            },
            "type": "mesh3d"
           }
          ],
          "parcoords": [
           {
            "line": {
             "colorbar": {
              "outlinewidth": 0,
              "ticks": ""
             }
            },
            "type": "parcoords"
           }
          ],
          "pie": [
           {
            "automargin": true,
            "type": "pie"
           }
          ],
          "scatter": [
           {
            "marker": {
             "colorbar": {
              "outlinewidth": 0,
              "ticks": ""
             }
            },
            "type": "scatter"
           }
          ],
          "scatter3d": [
           {
            "line": {
             "colorbar": {
              "outlinewidth": 0,
              "ticks": ""
             }
            },
            "marker": {
             "colorbar": {
              "outlinewidth": 0,
              "ticks": ""
             }
            },
            "type": "scatter3d"
           }
          ],
          "scattercarpet": [
           {
            "marker": {
             "colorbar": {
              "outlinewidth": 0,
              "ticks": ""
             }
            },
            "type": "scattercarpet"
           }
          ],
          "scattergeo": [
           {
            "marker": {
             "colorbar": {
              "outlinewidth": 0,
              "ticks": ""
             }
            },
            "type": "scattergeo"
           }
          ],
          "scattergl": [
           {
            "marker": {
             "colorbar": {
              "outlinewidth": 0,
              "ticks": ""
             }
            },
            "type": "scattergl"
           }
          ],
          "scattermapbox": [
           {
            "marker": {
             "colorbar": {
              "outlinewidth": 0,
              "ticks": ""
             }
            },
            "type": "scattermapbox"
           }
          ],
          "scatterpolar": [
           {
            "marker": {
             "colorbar": {
              "outlinewidth": 0,
              "ticks": ""
             }
            },
            "type": "scatterpolar"
           }
          ],
          "scatterpolargl": [
           {
            "marker": {
             "colorbar": {
              "outlinewidth": 0,
              "ticks": ""
             }
            },
            "type": "scatterpolargl"
           }
          ],
          "scatterternary": [
           {
            "marker": {
             "colorbar": {
              "outlinewidth": 0,
              "ticks": ""
             }
            },
            "type": "scatterternary"
           }
          ],
          "surface": [
           {
            "colorbar": {
             "outlinewidth": 0,
             "ticks": ""
            },
            "colorscale": [
             [
              0,
              "#0d0887"
             ],
             [
              0.1111111111111111,
              "#46039f"
             ],
             [
              0.2222222222222222,
              "#7201a8"
             ],
             [
              0.3333333333333333,
              "#9c179e"
             ],
             [
              0.4444444444444444,
              "#bd3786"
             ],
             [
              0.5555555555555556,
              "#d8576b"
             ],
             [
              0.6666666666666666,
              "#ed7953"
             ],
             [
              0.7777777777777778,
              "#fb9f3a"
             ],
             [
              0.8888888888888888,
              "#fdca26"
             ],
             [
              1,
              "#f0f921"
             ]
            ],
            "type": "surface"
           }
          ],
          "table": [
           {
            "cells": {
             "fill": {
              "color": "#EBF0F8"
             },
             "line": {
              "color": "white"
             }
            },
            "header": {
             "fill": {
              "color": "#C8D4E3"
             },
             "line": {
              "color": "white"
             }
            },
            "type": "table"
           }
          ]
         },
         "layout": {
          "annotationdefaults": {
           "arrowcolor": "#2a3f5f",
           "arrowhead": 0,
           "arrowwidth": 1
          },
          "coloraxis": {
           "colorbar": {
            "outlinewidth": 0,
            "ticks": ""
           }
          },
          "colorscale": {
           "diverging": [
            [
             0,
             "#8e0152"
            ],
            [
             0.1,
             "#c51b7d"
            ],
            [
             0.2,
             "#de77ae"
            ],
            [
             0.3,
             "#f1b6da"
            ],
            [
             0.4,
             "#fde0ef"
            ],
            [
             0.5,
             "#f7f7f7"
            ],
            [
             0.6,
             "#e6f5d0"
            ],
            [
             0.7,
             "#b8e186"
            ],
            [
             0.8,
             "#7fbc41"
            ],
            [
             0.9,
             "#4d9221"
            ],
            [
             1,
             "#276419"
            ]
           ],
           "sequential": [
            [
             0,
             "#0d0887"
            ],
            [
             0.1111111111111111,
             "#46039f"
            ],
            [
             0.2222222222222222,
             "#7201a8"
            ],
            [
             0.3333333333333333,
             "#9c179e"
            ],
            [
             0.4444444444444444,
             "#bd3786"
            ],
            [
             0.5555555555555556,
             "#d8576b"
            ],
            [
             0.6666666666666666,
             "#ed7953"
            ],
            [
             0.7777777777777778,
             "#fb9f3a"
            ],
            [
             0.8888888888888888,
             "#fdca26"
            ],
            [
             1,
             "#f0f921"
            ]
           ],
           "sequentialminus": [
            [
             0,
             "#0d0887"
            ],
            [
             0.1111111111111111,
             "#46039f"
            ],
            [
             0.2222222222222222,
             "#7201a8"
            ],
            [
             0.3333333333333333,
             "#9c179e"
            ],
            [
             0.4444444444444444,
             "#bd3786"
            ],
            [
             0.5555555555555556,
             "#d8576b"
            ],
            [
             0.6666666666666666,
             "#ed7953"
            ],
            [
             0.7777777777777778,
             "#fb9f3a"
            ],
            [
             0.8888888888888888,
             "#fdca26"
            ],
            [
             1,
             "#f0f921"
            ]
           ]
          },
          "colorway": [
           "#636efa",
           "#EF553B",
           "#00cc96",
           "#ab63fa",
           "#FFA15A",
           "#19d3f3",
           "#FF6692",
           "#B6E880",
           "#FF97FF",
           "#FECB52"
          ],
          "font": {
           "color": "#2a3f5f"
          },
          "geo": {
           "bgcolor": "white",
           "lakecolor": "white",
           "landcolor": "#E5ECF6",
           "showlakes": true,
           "showland": true,
           "subunitcolor": "white"
          },
          "hoverlabel": {
           "align": "left"
          },
          "hovermode": "closest",
          "mapbox": {
           "style": "light"
          },
          "paper_bgcolor": "white",
          "plot_bgcolor": "#E5ECF6",
          "polar": {
           "angularaxis": {
            "gridcolor": "white",
            "linecolor": "white",
            "ticks": ""
           },
           "bgcolor": "#E5ECF6",
           "radialaxis": {
            "gridcolor": "white",
            "linecolor": "white",
            "ticks": ""
           }
          },
          "scene": {
           "xaxis": {
            "backgroundcolor": "#E5ECF6",
            "gridcolor": "white",
            "gridwidth": 2,
            "linecolor": "white",
            "showbackground": true,
            "ticks": "",
            "zerolinecolor": "white"
           },
           "yaxis": {
            "backgroundcolor": "#E5ECF6",
            "gridcolor": "white",
            "gridwidth": 2,
            "linecolor": "white",
            "showbackground": true,
            "ticks": "",
            "zerolinecolor": "white"
           },
           "zaxis": {
            "backgroundcolor": "#E5ECF6",
            "gridcolor": "white",
            "gridwidth": 2,
            "linecolor": "white",
            "showbackground": true,
            "ticks": "",
            "zerolinecolor": "white"
           }
          },
          "shapedefaults": {
           "line": {
            "color": "#2a3f5f"
           }
          },
          "ternary": {
           "aaxis": {
            "gridcolor": "white",
            "linecolor": "white",
            "ticks": ""
           },
           "baxis": {
            "gridcolor": "white",
            "linecolor": "white",
            "ticks": ""
           },
           "bgcolor": "#E5ECF6",
           "caxis": {
            "gridcolor": "white",
            "linecolor": "white",
            "ticks": ""
           }
          },
          "title": {
           "x": 0.05
          },
          "xaxis": {
           "automargin": true,
           "gridcolor": "white",
           "linecolor": "white",
           "ticks": "",
           "title": {
            "standoff": 15
           },
           "zerolinecolor": "white",
           "zerolinewidth": 2
          },
          "yaxis": {
           "automargin": true,
           "gridcolor": "white",
           "linecolor": "white",
           "ticks": "",
           "title": {
            "standoff": 15
           },
           "zerolinecolor": "white",
           "zerolinewidth": 2
          }
         }
        },
        "title": {
         "text": "3d TSNE Plot for Outliers"
        },
        "width": 900
       }
      },
      "text/html": [
       "<div>\n",
       "        \n",
       "        \n",
       "            <div id=\"5f0ed837-eb30-44e3-9b4b-9e4d2ebb7d0d\" class=\"plotly-graph-div\" style=\"height:800px; width:900px;\"></div>\n",
       "            <script type=\"text/javascript\">\n",
       "                require([\"plotly\"], function(Plotly) {\n",
       "                    window.PLOTLYENV=window.PLOTLYENV || {};\n",
       "                    \n",
       "                if (document.getElementById(\"5f0ed837-eb30-44e3-9b4b-9e4d2ebb7d0d\")) {\n",
       "                    Plotly.newPlot(\n",
       "                        '5f0ed837-eb30-44e3-9b4b-9e4d2ebb7d0d',\n",
       "                        [{\"customdata\": [[0.263995357], [0.546092303], [0.33671410399999996], [0.092107835], [0.325261175], [0.212464853], [0.258565714], [0.869236755], [0.197077957], [0.292984504], [0.82178316], [0.796622959], [0.045577010999999994], [0.613660351], [0.9507445659999999], [0.33634633700000005], [0.034440667], [0.741544275], [0.18443265], [0.664514943], [0.16282485800000002], [0.729838445], [0.62837389], [0.057883660999999996], [0.445534827], [0.80183695], [0.27709612], [0.228634015], [0.834860657], [0.6697665110000001], [0.532527349], [0.17045907100000002], [0.5102884679999999], [0.977561989], [0.249775993], [0.9755006820000001], [0.613701727], [0.16742036300000002], [0.537472516], [0.379899131], [0.633897303], [0.633960424], [0.5499746529999999], [0.178172988], [0.85563814], [0.321796672], [0.8174905370000001], [0.254879417], [0.344140513], [0.8061457259999999], [0.27708167100000003], [0.544328519], [0.07708393], [0.273081458], [0.390877336], [0.349621385], [0.214549744], [0.206075222], [0.86461997], [0.9817088540000001], [0.33482964600000004], [0.648387061], [0.093643561], [0.837802698], [0.7603439670000001], [0.29140417399999996], [0.3413454], [0.7611124840000001], [0.541899775], [0.684176639], [0.983535597], [0.52081245], [0.328227724], [0.09715793800000001], [0.876088593], [0.870214512], [0.656086992], [0.306791514], [0.48126734], [0.259559174], [0.326123655], [0.930568042], [0.6583894], [0.689992335], [0.315781109], [0.5669050929999999], [0.637526619], [0.687540723], [0.324300602], [0.592704906], [0.7402531259999999], [0.5940328770000001], [0.596452977], [0.27768081699999997], [0.258329663], [0.142460864], [0.435533461], [0.7024990440000001], [0.58897535], [0.653304374], [0.336968524], [0.631244736], [0.73530076], [0.050390366], [0.064264924], [0.665359476], [0.917835245], [0.44651012], [0.661938199], [0.43935985299999997], [0.6875724040000001], [0.363462248], [0.6542621820000001], [0.578553536], [0.065927945], [0.550148559], [0.13918281400000002], [0.080004635], [0.278228358], [0.560124266], [0.53639864], [0.42653190399999996], [0.789109796], [0.742900474], [0.901692589], [0.650337401], [0.114057311], [0.260812592], [0.43991232], [0.964409284], [0.184401415], [0.345145446], [0.17589458100000002], [0.312514453], [0.674131879], [0.32825045], [0.598231057], [0.09259881699999999], [0.497916521], [0.419776521], [0.31217670000000003], [0.937857107], [0.049030963], [0.47610452600000003], [0.447397526], [0.295806058], [0.737363977], [0.625896253], [0.408813429], [0.437511156], [0.691351375], [0.935555275], [0.437846654], [0.072217715], [0.67636067], [0.468883999], [0.543820644], [0.6555226470000001], [0.6935289240000001], [0.10887831199999999], [0.285463743], [0.0], [0.706495497], [0.273530633], [0.292320271], [0.673984307], [0.12612182800000002], [0.9467074590000001], [0.9363388979999999], [0.8537553640000001], [0.7060713609999999], [0.693682186], [0.508527882], [0.34717038899999997], [0.704154263], [0.658730088], [0.155841557], [0.311085435], [0.281135347], [0.094587802], [0.6832609540000001], [0.9077292509999999], [0.29151267399999997], [0.752734459], [0.93482964], [0.071413953], [0.5948963270000001], [0.404672015], [0.13837621], [0.7473384679999999], [0.530882486], [0.282649594], [0.699335734], [0.056111250999999994], [0.855234998], [0.07789512700000001], [0.891649583], [0.38674227899999997], [0.27113158], [0.958888961], [0.085120869], [0.5269022489999999], [0.066577785], [0.841506738], [0.255342095], [0.060545771], [0.073385869], [0.187493723], [0.858365688], [0.090640352], [0.7097252270000001], [0.631300647], [0.24750447399999997], [0.822843584], [0.373476759], [0.625538582], [0.292951715], [0.299730324], [0.25121407], [0.344480551], [0.293064767], [0.7628032240000001], [0.7384708040000001], [0.674883265], [0.719151612], [0.13098021599999998], [0.511328036], [0.04492903], [0.560914449], [0.7440406409999999], [0.266961634], [0.644231853], [0.038113352], [0.05715529900000001], [0.34139246100000004], [0.7204636320000001], [0.402878236], [0.635148967], [0.320729467], [0.09120969400000001], [0.23414609], [0.8902211309999999], [0.602170884], [0.633652055], [0.806240837], [0.739731184], [0.465231269], [0.7321109], [0.373874305], [0.501587947], [0.11538315800000001], [0.7319466040000001], [0.41829872799999995], [0.062259590999999996], [0.391496379], [0.35984929], [0.24523562699999998], [0.610028339], [0.43540360200000006], [0.434309675], [0.523763344], [0.17118786600000002], [0.18773430300000002], [0.945014638], [0.027851097000000002], [0.68445706], [0.178014532], [0.643427879], [0.59588355], [0.372361682], [0.586103584], [0.271658852], [0.59951107], [0.468363088], [0.314515565], [0.21893726], [0.254716562], [0.25612815], [0.602259755], [0.134381075], [0.513887424], [0.624241636], [0.160251854], [0.580708108], [0.270540486], [0.832919932], [0.93032134], [0.719157884], [0.886720033], [0.098792281], [0.787174286], [0.365592376], [0.719576193], [0.8058956], [0.7555783340000001], [0.526005909], [0.68880424], [0.22111531199999998], [0.739369477], [0.408440236], [0.348926542], [0.433713763], [0.5964966070000001], [0.6942953000000001], [0.7090309659999999], [0.867652984], [0.89332545], [0.746020922], [0.538284443], [0.8922193140000001], [0.935175765], [0.260527707], [0.956780449], [0.204932484], [0.687733351], [0.329063619], [0.632149831], [0.463744506], [0.698859621], [0.385446564], [0.47997537700000004], [0.732279108], [0.3813543], [0.459326013], [0.257401434], [0.665014804], [0.103399542], [0.425284413], [0.943529051], [0.594750236], [0.543776817], [0.18203988], [0.23584208399999998], [0.585984497], [0.762013168], [0.6849829070000001], [0.676936933], [0.290184964], [0.48106822200000005], [0.492766033], [0.22185623399999999], [0.053875998], [0.082751144], [0.385366225], [0.702513961], [0.91553156], [0.082087436], [0.251280378], [0.41672181700000005], [0.277032672], [0.579539754], [0.569363476], [0.133399703], [0.265045463], [0.936571901], [0.252618554], [0.054033081], [0.802481439], [0.528197693], [0.9515026], [0.572121173], [0.752938227], [0.143857535], [0.513484576], [0.313322389], [0.6877973959999999], [0.37705984], [0.348226142], [0.67763282], [0.24138752100000002], [0.8506501790000001], [0.22034810300000002], [0.476445464], [0.690324025], [0.364695946], [0.6492491970000001], [0.9437019209999999], [0.529645971], [0.299097002], [0.96696247], [0.272005242], [0.314161447], [0.752020991], [0.221882453], [0.7203326729999999], [0.379204782], [0.60168653], [0.582932673], [0.950809853], [0.58830141], [0.880887227], [0.467857701], [0.8799021709999999], [0.619844009], [0.359002573], [0.291511278], [0.694157143], [0.727960353], [0.617703921], [0.39581257], [0.58317282], [0.710332374], [0.253753693], [0.049412227999999996], [0.728378695], [0.432432881], [0.58612345], [0.052342373], [0.053483902], [0.518729378], [0.933040208], [0.7035542840000001], [0.268989899], [0.733006927], [0.44435246700000003], [0.5833946210000001], [0.871172692], [0.42876707799999997], [0.30046084100000003], [0.9533294590000001], [0.606443965], [0.90986815], [0.714896449], [0.49734950899999997], [0.8530974859999999], [0.721804145], [0.303467328], [0.664485096], [0.27978062], [0.569481665], [0.628628926], [0.088368123], [0.733567326], [0.537436778], [0.638593691], [0.954726948], [0.632202332], [0.642134651], [0.744653087], [0.115714007], [0.48625007299999995], [0.440356144], [0.08272289], [0.511591027], [0.394627555], [0.224394], [0.626927584], [0.290254057], [0.779008053], [0.86610579], [0.873326081], [0.49548916], [0.594297695], [0.9182015840000001], [0.5770427539999999], [0.019467671000000002], [0.6702982820000001], [0.546595316], [0.591665146], [0.42155819], [0.6856085590000001], [0.340303024], [0.675626741], [0.319067345], [0.38849966399999997], [0.706949589], [0.559409515], [0.687663508], [0.7088045540000001], [0.6818880940000001], [0.42253510899999996], [0.320004605], [0.6582813679999999], [0.634154867], [0.7773320090000001], [0.812677205], [0.074280797], [0.39600217], [0.054933913], [0.825058925], [0.382642009], [0.8687298179999999], [0.588043346], [0.891551577], [0.10920046], [0.647682781], [0.724342512], [0.07016304400000001], [0.280882054], [0.039113261], [0.579641592], [0.639000922], [0.281745925], [0.647857744], [0.6479057970000001], [0.875226264], [0.567603305], [0.262940591], [0.268026042], [0.40519133], [0.479965451], [0.33552403], [0.777165379], [0.42548796299999997], [0.237986115], [0.142522971], [0.724176488], [0.234698933], [0.07818228099999999], [0.855990155], [0.270251765], [0.435517841], [0.762697513], [0.46448725799999996], [0.396112685], [0.37638092100000003], [0.29459467699999997], [0.6944921209999999], [0.622767949], [0.8475597220000001], [0.301463054], [0.912937812], [0.500017182], [0.902587935], [0.304517943], [0.299165673], [0.092014087], [0.488548917], [0.664664437], [0.26534954899999996], [0.723657021], [0.149262385], [0.04577339], [0.69661064], [0.42181486], [0.733845785], [0.418795386], [0.677443529], [0.26128360300000003], [0.268527767], [0.5443222360000001], [0.431632036], [0.981018141], [0.21498072399999998], [0.39472999299999995], [0.122224944], [0.297496875], [0.37490443100000004], [0.68698771], [0.388549207], [0.039296071], [0.73553424], [0.37929489299999997], [0.7321233859999999], [0.33922143899999996], [0.659450594], [0.054838642], [0.640112102], [0.30714170399999996], [0.39661190700000004], [0.420439161], [0.24171497399999997], [0.065893153], [0.9105219370000001], [0.697163103], [0.072559853], [0.81825094], [0.311888815], [0.961644609], [0.816325524], [0.14647302], [0.548753945], [0.946158087], [0.293992717], [0.331479643], [0.9062200309999999], [0.525540416], [0.83301411], [0.514849806], [0.574609024], [0.46871185299999996], [0.71002775], [0.645973276], [0.229794416], [0.551783393], [0.055822990999999995], [0.331750941], [0.715520198], [0.583924357], [0.30695769100000003], [0.7914782370000001], [0.16423663900000002], [0.065711219], [0.948993132], [0.080423835], [0.052495426], [0.566346135], [0.3630266], [0.605442195], [0.6308505839999999], [0.065791238], [0.28681707100000003], [0.685462839], [0.260853706], [0.659122429], [0.44317392200000005], [0.602063986], [0.060366910999999995], [0.781903153], [0.5145798070000001], [0.48388621299999995], [0.600213807], [0.49736405200000006], [0.411145245], [0.116999171], [0.34189014100000004], [0.746950848], [0.39629274600000003], [0.6221438429999999], [0.335271141], [0.140257137], [0.081620681], [0.069837569], [0.46894000799999996], [0.9908574170000001], [0.896616832], [0.255310561], [0.22464526699999998], [0.01991825], [0.296480415], [0.155458996], [0.577916714], [0.9563030309999999], [0.813464394], [0.529675785], [0.287671353], [0.48039136], [0.28104482199999997], [0.633196521], [0.09332537699999999], [0.28447398100000004], [0.052223775], [0.051129385], [0.967405608], [0.040045727999999996], [0.9085829209999999], [0.6621174160000001], [0.42470320899999997], [0.72207806], [0.666193327], [0.509681253], [0.7513536209999999], [0.279073124], [0.074927], [0.916359535], [0.31040327], [0.716604052], [0.485587085], [0.30607518100000003], [0.477558204], [0.7119239409999999], [0.066348638], [0.27453935100000004], [0.31082252], [0.47607312700000004], [0.186795565], [0.26654207], [0.070231142], [0.26951927], [0.800004713], [0.27363366699999997], [0.14647919199999998], [0.378318951], [0.373849065], [0.242170835], [0.249796488], [0.066591188], [0.372956798], [0.501812291], [0.313097752], [0.8802021959999999], [0.51981893], [0.364138746], [0.49268289600000004], [0.285732652], [0.890114985], [0.316419561], [0.26866354], [0.771975959], [0.968888992], [0.080334377], [0.7368282209999999], [0.30055807100000004], [0.9179503929999999], [0.465815039], [0.054036682], [0.963150123], [0.08965350300000001], [0.7076932340000001], [0.636416037], [0.539521117], [0.114757161], [0.357312419], [0.67639834], [0.43482839], [0.032326387000000005], [0.711365605], [0.187486519], [0.052789653], [0.5058636129999999], [0.927431873], [0.6809842559999999], [0.882822186], [0.495705441], [0.596240398], [0.320610701], [0.3413685], [0.159681797], [0.318133669], [0.8393010479999999], [0.06435925099999999], [0.470216633], [0.7762522909999999], [0.635843383], [0.62510543], [0.52959065], [0.986900166], [0.078585688], [0.233284267], [0.363330957], [0.7167169809999999], [0.37588979200000006], [0.223316889], [0.299343986], [0.538595767], [0.730297124], [0.66033077], [0.435296009], [0.326494313], [0.854402708], [0.5734938470000001], [0.757786135], [0.704743233], [0.281575597], [0.671968208], [0.313726015], [0.364338275], [0.368216396], [0.38629520700000003], [0.655971865], [0.5660252729999999], [0.424999093], [0.090110371], [0.772350538], [0.331047258], [0.273716188], [0.23877568], [0.37307977200000003], [0.331185868], [0.256134531], [0.678373225], [0.43463833799999996], [0.654668307], [0.986681065], [0.371520495], [0.408359618], [0.40932365], [0.283412082], [0.395246531], [0.010984428000000001], [0.306013869], [0.266194806], [0.299318521], [0.318293946], [0.74282591], [0.09766432900000001], [0.079666942], [0.613258767], [0.99443072], [0.568835082], [0.7080345159999999], [0.37059271899999996], [0.669867361], [0.651295625], [0.462531569], [0.7196256190000001], [0.45377248], [0.394863946], [0.323974831], [0.146454724], [0.7790670409999999], [0.401828915], [0.601479585], [0.856423023], [0.565242962], [0.301225108], [0.282108144], [0.594378011], [0.705312368], [0.5408696279999999], [0.319249574], [0.36176613799999996], [0.625000704], [0.316287401], [0.047239021], [0.801182233], [0.508474436], [0.8178934109999999], [0.399235601], [0.9740519990000001], [0.72241535], [0.039564764], [0.908684108], [0.47301013399999997], [0.7180496279999999], [0.7634790690000001], [0.6475965370000001], [0.8949973859999999], [0.22282590100000002], [0.359012234], [0.944910252], [0.297877816], [0.172517997], [0.556586265], [0.876481735], [0.48667784299999994], [0.459496733], [0.47412637700000004], [0.70101144], [0.337597387], [0.537578886], [0.966992448], [0.056849545], [0.233249065], [0.380054711], [0.602929443], [0.303847999], [0.170194553], [0.972168554], [0.332168927], [0.6887286890000001], [0.110773401], [0.273352065], [0.572939678], [0.491457065], [0.281389999], [0.821697261], [0.6749776829999999], [0.585134549], [0.7105961159999999], [0.040488789], [0.568054311], [0.321752928], [0.611850232], [0.926096887], [0.618347428], [0.667629785], [0.39773346600000004], [0.290875487], [0.594375103], [0.508255233], [0.338571357], [0.43230234700000003], [0.302221978], [0.87619819], [0.080204492], [0.092333532], [0.09365644699999999], [0.6084523510000001], [0.732654598], [0.944158855], [0.26742308], [0.731124201], [0.661308553], [0.38776626200000003], [0.962585273], [0.322067067], [0.6340810929999999], [0.475345002], [0.35355897299999994], [0.8859363159999999], [0.876798106], [0.221581064], [0.394362449], [0.8050356759999999], [0.452898486], [0.592520516], [0.761026394], [0.245049023], [0.37213936299999995], [0.681054822], [0.7471431479999999], [0.9207395290000001], [0.097207945], [0.699302998], [0.721647006], [0.5353561139999999], [0.738293805], [0.7064675509999999], [0.67395061], [0.7112122909999999], [0.302558708], [0.080097855], [0.707010837], [0.512248622], [0.659627472], [0.657559694], [0.100645606], [0.92665363], [0.892879338], [0.839157508], [0.890959718], [0.556754471], [0.960361937], [0.631037864], [0.029838065], [0.278843351], [0.926157705], [0.551504258], [0.485942349], [0.43723469600000003], [0.25231801800000003], [0.515466972], [0.43725229600000004], [0.493724207], [0.83324725], [0.317521477], [0.28623456199999997], [0.726833965], [0.495667033], [0.028645255], [0.31967191699999997], [0.674344598], [0.7660371890000001], [0.65456992], [0.7565143809999999], [0.528253719], [0.38971949100000003], [0.355087459], [0.87015202], [0.7390833059999999], [0.305761846], [0.411587673], [0.063633094], [0.735409395], [0.605916669], [0.539395562], [0.566183532], [0.674795186], [0.070993366], [0.12526410000000002], [0.279601492], [0.952174402], [0.233806762], [0.43724742899999997], [0.925423095], [0.433498634], [0.52517902], [0.088435529], [0.447677638], [0.647000631], [0.9036033370000001], [0.265790738], [0.66419695], [0.498120658], [0.49018894399999996], [0.747084187], [0.906783648], [0.678770917], [0.348599859], [0.294839683], [0.705691827], [0.211917931], [0.063201124], [0.276699543], [0.672459395], [0.8082059490000001], [0.296538373], [0.16012686199999998], [0.439385032], [0.555951416], [0.386240112], [0.158689619], [0.214499855], [0.299579429], [0.569161656], [0.488614799], [0.8782950209999999], [0.649380949], [0.465713341], [0.16813774], [0.87529545], [0.8411323409999999], [0.33292081], [0.5130478589999999], [0.30505507800000004], [0.8126269909999999], [0.25096706], [0.5024355779999999], [0.45799074100000003]], \"hoverlabel\": {\"namelength\": 0}, \"hovertemplate\": \"0=%{x}<br>1=%{y}<br>2=%{z}<br>Feature=%{customdata[0]}<br>Label=%{marker.color}\", \"legendgroup\": \"\", \"marker\": {\"color\": [0, 0, 1, 1, 0, 0, 0, 1, 1, 0, 0, 1, 0, 0, 1, 0, 0, 1, 0, 0, 1, 0, 0, 1, 1, 1, 0, 0, 1, 1, 0, 0, 0, 1, 1, 1, 0, 0, 0, 0, 0, 0, 0, 1, 0, 1, 0, 0, 1, 0, 0, 1, 0, 1, 0, 1, 0, 0, 0, 1, 0, 0, 1, 1, 1, 0, 1, 0, 0, 1, 0, 0, 0, 0, 0, 0, 0, 0, 0, 0, 0, 0, 0, 0, 0, 0, 0, 0, 0, 0, 0, 0, 0, 0, 0, 0, 0, 0, 0, 0, 0, 0, 0, 0, 0, 0, 0, 0, 0, 0, 0, 0, 0, 0, 0, 0, 0, 0, 0, 0, 0, 0, 0, 0, 0, 0, 0, 0, 0, 0, 1, 0, 0, 0, 0, 0, 0, 0, 0, 0, 0, 0, 0, 0, 0, 0, 0, 0, 0, 0, 0, 0, 0, 0, 0, 0, 0, 0, 0, 0, 0, 0, 0, 0, 0, 0, 0, 0, 0, 0, 0, 0, 0, 0, 0, 0, 0, 0, 0, 0, 0, 0, 0, 0, 1, 0, 0, 0, 0, 0, 0, 0, 0, 0, 0, 0, 0, 0, 0, 0, 0, 0, 0, 0, 0, 0, 0, 0, 0, 0, 0, 0, 0, 0, 0, 0, 0, 0, 0, 0, 0, 0, 0, 0, 0, 0, 0, 0, 0, 1, 0, 0, 0, 0, 0, 0, 0, 0, 0, 0, 0, 0, 0, 0, 0, 0, 0, 0, 0, 0, 0, 0, 0, 0, 0, 0, 0, 0, 0, 0, 0, 0, 0, 0, 0, 0, 0, 0, 0, 0, 0, 0, 0, 0, 0, 0, 0, 0, 0, 0, 0, 0, 0, 0, 0, 0, 0, 0, 0, 0, 0, 0, 0, 0, 0, 0, 0, 0, 0, 0, 0, 0, 0, 0, 0, 0, 0, 0, 0, 0, 0, 0, 0, 0, 0, 0, 0, 0, 0, 0, 0, 0, 0, 0, 0, 0, 0, 0, 0, 0, 0, 0, 0, 0, 0, 0, 0, 0, 0, 0, 0, 0, 0, 0, 0, 0, 0, 0, 0, 0, 0, 0, 0, 0, 0, 0, 0, 0, 0, 0, 0, 0, 0, 0, 0, 0, 0, 0, 0, 0, 0, 0, 0, 0, 0, 0, 0, 0, 0, 0, 0, 0, 0, 0, 0, 0, 0, 0, 0, 0, 0, 0, 0, 0, 0, 0, 0, 0, 0, 0, 0, 0, 0, 0, 0, 0, 0, 0, 0, 0, 0, 0, 0, 0, 0, 0, 0, 0, 0, 0, 0, 0, 0, 0, 0, 0, 0, 0, 0, 0, 0, 0, 0, 0, 0, 0, 0, 0, 0, 0, 0, 0, 0, 0, 0, 0, 0, 0, 0, 0, 0, 0, 0, 0, 0, 0, 0, 0, 0, 0, 0, 0, 0, 0, 0, 0, 0, 0, 0, 0, 0, 0, 0, 0, 0, 0, 0, 0, 0, 0, 0, 0, 0, 0, 0, 0, 0, 0, 0, 0, 0, 0, 0, 0, 0, 0, 0, 0, 0, 0, 0, 0, 0, 0, 0, 0, 0, 0, 0, 0, 0, 0, 0, 0, 0, 0, 0, 0, 0, 0, 0, 0, 0, 1, 0, 0, 0, 0, 0, 0, 0, 0, 0, 0, 0, 0, 0, 0, 0, 0, 0, 0, 0, 0, 0, 0, 0, 0, 0, 0, 0, 0, 0, 0, 0, 0, 0, 0, 0, 0, 0, 0, 0, 0, 0, 0, 0, 0, 0, 0, 0, 0, 0, 0, 0, 0, 0, 0, 0, 0, 0, 0, 0, 0, 0, 0, 0, 0, 0, 0, 0, 0, 0, 0, 0, 0, 0, 0, 0, 0, 0, 0, 1, 0, 0, 0, 0, 0, 0, 0, 0, 0, 0, 0, 0, 0, 0, 0, 0, 0, 0, 0, 0, 0, 0, 0, 0, 0, 0, 0, 0, 0, 0, 0, 0, 0, 0, 0, 0, 0, 0, 0, 0, 0, 0, 0, 0, 0, 0, 0, 0, 0, 0, 0, 0, 0, 0, 0, 0, 0, 0, 0, 0, 0, 0, 0, 0, 0, 0, 0, 0, 0, 0, 0, 0, 0, 0, 0, 0, 0, 1, 0, 0, 0, 0, 0, 0, 0, 0, 0, 0, 0, 0, 0, 0, 0, 0, 0, 0, 0, 1, 0, 0, 1, 0, 1, 0, 1, 1, 0, 1, 0, 0, 1, 0, 0, 1, 1, 1, 0, 1, 0, 1, 1, 1, 0, 0, 0, 1, 0, 0, 0, 0, 0, 0, 0, 0, 0, 0, 0, 0, 0, 0, 0, 0, 0, 0, 0, 0, 0, 0, 0, 0, 0, 0, 0, 0, 0, 0, 0, 0, 0, 0, 0, 0, 0, 0, 0, 0, 0, 0, 0, 0, 0, 0, 0, 0, 0, 0, 0, 0, 0, 0, 0, 0, 0, 0, 0, 0, 0, 0, 0, 0, 0, 0, 0, 0, 0, 0, 1, 0, 0, 0, 0, 0, 0, 0, 0, 0, 0, 0, 0, 0, 0, 0, 0, 0, 0, 0, 0, 0, 0, 0, 0, 0, 0, 0, 0, 0, 0, 0, 0, 0, 0, 0, 0, 0, 0, 0, 0, 0, 0, 0, 0, 0, 0, 0, 0, 0, 0, 0, 0, 0, 0, 0, 0, 0, 0, 0, 0, 0, 0, 0, 0, 0, 0, 0, 0, 0, 0, 0, 0, 0, 0, 0, 0, 0, 0, 0, 0, 0, 0, 0, 0, 0, 0, 0, 0, 0, 0, 0, 0, 0, 0, 0, 0, 0, 0, 0, 0, 0, 0, 0, 0, 0, 0, 0, 0, 0, 0, 0, 0, 0, 0, 0, 0, 0, 0, 0, 0, 0, 0, 0, 0, 0, 0, 0, 0, 0, 0, 0, 0, 0, 0, 0, 0, 0, 0, 0, 0, 0, 0, 0, 0, 0, 0, 0, 0, 0, 0, 0, 0, 0, 0, 0, 0, 0, 0, 0, 0, 0, 0, 0, 0, 0, 0, 0, 0, 0, 0, 0, 0, 0, 0, 0, 0, 0, 0, 0, 0, 0, 0, 0, 0, 0, 0, 0, 0, 0, 0, 0, 0, 0, 0, 0, 0, 0, 0, 0, 0], \"coloraxis\": \"coloraxis\", \"opacity\": 0.7, \"symbol\": \"circle\"}, \"mode\": \"markers\", \"name\": \"\", \"scene\": \"scene\", \"showlegend\": false, \"type\": \"scatter3d\", \"x\": [1.5658485889434814, 1.441886067390442, -8.450325965881348, -9.27371597290039, -14.867121696472168, -7.4766011238098145, 7.566512107849121, -16.551347732543945, -1.6906013488769531, 6.248427391052246, -17.244836807250977, -15.643872261047363, -10.173282623291016, -0.9538130760192871, -10.147625923156738, -10.964035987854004, -10.207194328308105, 7.9297380447387695, -6.840106010437012, -13.737908363342285, -6.823607921600342, -0.865119457244873, -2.031846284866333, -2.0926284790039062, -8.157186508178711, -3.3521456718444824, -14.04383659362793, 1.8755152225494385, -15.940068244934082, -13.257868766784668, -0.042458146810531616, 0.9697425365447998, -1.502134919166565, -10.84427547454834, 6.655727386474609, -1.2690205574035645, -2.585012435913086, 2.106611967086792, -0.40434446930885315, -9.401832580566406, 15.890361785888672, -11.111226081848145, 12.159717559814453, -7.398013591766357, -10.508949279785156, -11.02795696258545, -9.965411186218262, -1.6876914501190186, -15.217376708984375, 10.759448051452637, -15.978318214416504, -5.008472919464111, 7.756516933441162, -10.992926597595215, -7.445403575897217, 3.2414708137512207, -5.871123790740967, 4.4176177978515625, -11.048237800598145, -10.509906768798828, 1.8074910640716553, 7.063284397125244, -18.179725646972656, -11.105262756347656, 14.308955192565918, -9.134462356567383, 11.10266399383545, 7.990055561065674, -14.612153053283691, -10.761331558227539, -17.68739891052246, -12.879332542419434, 1.643602728843689, -12.011876106262207, 8.958826065063477, 2.6966006755828857, -14.19005298614502, -14.497193336486816, 9.136502265930176, 7.7423272132873535, 7.964900970458984, 3.251459836959839, -14.223440170288086, 6.261982440948486, 6.827716827392578, 0.7241908311843872, 12.193765640258789, 10.289682388305664, 5.409098148345947, 0.1866748034954071, 2.1452174186706543, -15.100628852844238, 11.876160621643066, 7.720845699310303, 3.4532978534698486, -17.981689453125, 9.368240356445312, 2.8014824390411377, 4.593708515167236, -14.24123477935791, -0.026577671989798546, 11.903304100036621, 2.8208649158477783, 9.763927459716797, -18.93307876586914, 9.291495323181152, 7.494324207305908, 5.420969009399414, 8.8367280960083, -13.600089073181152, 1.2320566177368164, -1.5622918605804443, -15.295026779174805, 7.8156023025512695, -13.113005638122559, 3.5501625537872314, 11.227469444274902, 7.667717456817627, -10.13656234741211, 6.62440824508667, 4.190081596374512, 3.8989174365997314, 3.765556573867798, 12.235208511352539, 4.155814170837402, 3.0415401458740234, 4.555595874786377, -10.659439086914062, 6.062868118286133, 3.6084558963775635, 5.477797031402588, 9.186348915100098, -15.63672161102295, 7.2359299659729, 12.441798210144043, 4.1943511962890625, -13.05000114440918, -13.312898635864258, 3.6334054470062256, 2.031933546066284, -13.105490684509277, 0.24120917916297913, 9.490303993225098, -14.856330871582031, 7.568207740783691, 7.954509735107422, -14.283493995666504, 11.946224212646484, 2.624910593032837, 4.553066253662109, 0.3073827624320984, 5.664109230041504, 1.876589298248291, 10.537474632263184, -0.08728381991386414, 10.204883575439453, 14.7894926071167, 13.872665405273438, 9.007322311401367, -9.840730667114258, 10.839256286621094, 8.449294090270996, 5.5865478515625, 8.812723159790039, -9.752164840698242, 12.861358642578125, -12.8842134475708, -14.968344688415527, -10.86749267578125, 5.285363674163818, 8.312137603759766, 1.6082783937454224, -9.497095108032227, -11.538520812988281, 3.0822107791900635, 11.165143966674805, -8.211189270019531, -10.577509880065918, 2.0105249881744385, -12.360201835632324, 3.108076572418213, -12.450484275817871, 1.1090998649597168, -15.909975051879883, -15.180855751037598, 10.123319625854492, -11.546660423278809, 6.321145534515381, 6.947707653045654, 4.982522010803223, 12.216168403625488, -15.058342933654785, -16.005573272705078, -11.797682762145996, 12.743082046508789, 9.300315856933594, 4.0558929443359375, 4.595693111419678, -0.5468623638153076, 3.626523971557617, 3.9126768112182617, 3.3590989112854004, 5.0221476554870605, -14.91524600982666, -10.361550331115723, 1.0358163118362427, 7.008533000946045, 4.1841654777526855, -12.41962718963623, 3.9955811500549316, 4.3086724281311035, -12.950926780700684, -14.870010375976562, 2.3611087799072266, 3.7299933433532715, 4.478432655334473, 4.0136308670043945, -15.108991622924805, -17.473215103149414, 0.6275619268417358, -10.209022521972656, 5.786035537719727, -14.489361763000488, 9.173659324645996, 12.349125862121582, 6.078390121459961, 12.791651725769043, 5.583651065826416, 13.344222068786621, -10.772943496704102, 8.559755325317383, 12.159052848815918, -12.686704635620117, -12.969079971313477, 6.995128154754639, 5.731814861297607, 4.063278675079346, 5.0284318923950195, -10.851247787475586, -9.501768112182617, 4.3224873542785645, 2.653926134109497, -9.696151733398438, 8.282106399536133, -14.156318664550781, 12.223681449890137, 7.030066013336182, 7.19570779800415, 12.661218643188477, -12.853948593139648, 8.991238594055176, 1.3050321340560913, -12.300605773925781, 8.272279739379883, 9.067246437072754, -0.006057397462427616, 3.227569103240967, 9.297957420349121, -11.564218521118164, 7.080343246459961, -10.39439582824707, 7.286771774291992, -13.924039840698242, 2.2441205978393555, 8.949003219604492, 7.959688663482666, -14.717318534851074, 12.23889446258545, 8.716155052185059, 4.178337097167969, 5.712557315826416, 2.566951036453247, 4.64037561416626, -9.53317928314209, -9.089897155761719, 10.760333061218262, -16.470598220825195, -15.117521286010742, 5.832377910614014, 7.1688032150268555, 12.640832901000977, -9.71056842803955, 7.12247896194458, 1.9325218200683594, -12.871454238891602, 7.351656436920166, 8.877669334411621, 5.524432182312012, 10.676850318908691, -0.3522854745388031, -0.2473774254322052, 6.230545520782471, 7.27125358581543, 7.6053786277771, 6.388486385345459, -13.545796394348145, -13.054580688476562, 7.332892894744873, 5.536294937133789, 1.5775699615478516, -0.11295066028833389, 8.798415184020996, -15.435989379882812, -14.248710632324219, -11.526163101196289, 7.248169898986816, 4.142282009124756, 6.10952091217041, 14.90655517578125, -15.233099937438965, -14.366045951843262, 13.097126960754395, -12.175371170043945, -9.640777587890625, 5.920438289642334, 2.6489791870117188, 5.152353763580322, 7.348576068878174, 7.909417152404785, 4.340397834777832, 0.7438632845878601, 5.433334827423096, -12.864974021911621, 3.4178643226623535, 4.1781134605407715, 0.8874577283859253, -14.006407737731934, -15.491279602050781, -11.144545555114746, -11.526715278625488, 12.232955932617188, -15.504016876220703, 9.289067268371582, 9.418838500976562, 10.405413627624512, -13.390220642089844, 3.9167003631591797, 4.710710525512695, -11.726454734802246, -14.367119789123535, 4.868724822998047, 6.385851860046387, -10.146781921386719, 10.865160942077637, -15.883610725402832, -12.6414155960083, 6.878667831420898, 14.872831344604492, -10.769143104553223, -15.71737003326416, 1.0605378150939941, 5.3239312171936035, 6.438631057739258, 2.533698081970215, 8.944138526916504, 5.852234363555908, 7.016636371612549, 5.089718341827393, -18.386964797973633, -1.5111724138259888, 1.886597752571106, 4.229724407196045, 2.3377411365509033, 13.286840438842773, -12.30946159362793, 5.613231658935547, -14.150742530822754, 9.791067123413086, 9.787515640258789, 5.729665756225586, 10.782645225524902, 4.397385120391846, -14.847695350646973, -10.79930591583252, -12.755481719970703, 10.943881034851074, 7.350541591644287, -11.541065216064453, 3.8141613006591797, 0.2546330988407135, -11.621403694152832, 3.017835855484009, 7.566506385803223, 2.9771571159362793, 2.765631675720215, 8.725284576416016, 7.067986965179443, 5.798383712768555, 3.2258572578430176, -0.6677653193473816, 9.68200969696045, 9.564723014831543, 3.961986541748047, 5.741570472717285, 6.247877597808838, 2.6066293716430664, 9.160629272460938, -13.947197914123535, 0.53008633852005, 7.953766345977783, 6.197022914886475, 8.228760719299316, 12.799019813537598, 0.6333863139152527, -15.655560493469238, 11.483989715576172, -11.036133766174316, 2.9676733016967773, -9.815438270568848, 1.8003466129302979, 7.767215251922607, 1.6835592985153198, -18.83452033996582, 6.66387939453125, 6.665210247039795, 12.158382415771484, 10.617094039916992, 5.359897613525391, -15.319266319274902, -12.879034996032715, -0.8891162872314453, 7.128252983093262, 5.95846700668335, 1.2595345973968506, -11.59969425201416, 11.838947296142578, 8.173445701599121, -11.73394775390625, 1.2059922218322754, -14.127201080322266, 3.342764139175415, 9.605864524841309, 6.531556606292725, -11.622730255126953, -17.5261173248291, 2.2934062480926514, 8.6597261428833, -14.353277206420898, 8.854402542114258, -10.721729278564453, 8.835761070251465, 8.290081977844238, -11.693290710449219, -16.606399536132812, 5.614476203918457, -8.810163497924805, -16.204805374145508, 10.336301803588867, -11.555259704589844, -13.891929626464844, 8.717019081115723, -13.363161087036133, 11.869152069091797, 7.0727458000183105, -15.06847858428955, 4.2592878341674805, 0.7108026742935181, -12.274459838867188, 9.009284019470215, 2.569668769836426, 2.486043691635132, -12.023680686950684, 12.314940452575684, 4.559940814971924, -0.5098357200622559, 2.379934549331665, 8.783564567565918, -17.189435958862305, 12.742541313171387, -11.294427871704102, 4.872430801391602, 9.101944923400879, 12.572257995605469, 6.255227088928223, 10.35024356842041, 12.105082511901855, 8.602617263793945, -10.256244659423828, 3.153524398803711, 6.652345657348633, 13.898002624511719, 7.465846061706543, -11.431994438171387, -15.324331283569336, 10.696227073669434, -15.816983222961426, 1.5086493492126465, 1.7309024333953857, 3.901149272918701, -10.185938835144043, 6.235879421234131, -13.946242332458496, -9.376346588134766, -15.823708534240723, -10.255407333374023, -14.113641738891602, 2.601224184036255, -11.204630851745605, 9.484954833984375, -0.15129518508911133, 3.775485038757324, 1.464755892753601, 0.3464365303516388, 4.923188209533691, 1.4242075681686401, -10.2925443649292, 9.582046508789062, 14.057015419006348, 1.7332922220230103, -11.831735610961914, -14.791910171508789, 14.131134986877441, 4.469793319702148, -13.895278930664062, 8.483426094055176, 10.555336952209473, 10.237342834472656, 9.539010047912598, 1.2674989700317383, 4.114195346832275, 1.0511553287506104, -14.469374656677246, -11.088191986083984, -11.317070007324219, -17.937210083007812, 12.105545997619629, 3.2271602153778076, 8.971981048583984, 2.4889495372772217, 3.8401412963867188, 2.852389097213745, -14.373464584350586, -11.021105766296387, 10.719444274902344, -12.751775741577148, -13.643416404724121, 1.3580585718154907, -15.553911209106445, 1.5178943872451782, 4.173436164855957, 0.6188021302223206, -11.48668098449707, 7.815857410430908, 2.3684167861938477, 14.631604194641113, -13.565347671508789, 8.761751174926758, -12.044730186462402, -13.643239974975586, 7.662197589874268, 10.924666404724121, 2.875030279159546, -13.654048919677734, 9.110302925109863, 10.224212646484375, 3.8698971271514893, -10.236818313598633, 8.696823120117188, -14.968722343444824, 0.0852765440940857, -16.819721221923828, -17.909305572509766, 11.097455978393555, -14.647455215454102, 8.289053916931152, 8.453587532043457, 11.225502967834473, 1.5519516468048096, -15.213272094726562, -14.192358016967773, 1.658240795135498, -13.739401817321777, -15.670553207397461, -16.137142181396484, 1.2513917684555054, -16.12577247619629, 5.866249084472656, 10.24341869354248, 2.2490015029907227, 3.8639161586761475, -0.6160436868667603, 5.6054205894470215, -10.807267189025879, 5.919480323791504, 14.907145500183105, 7.083828926086426, 3.4094064235687256, 9.296127319335938, 11.406661987304688, -14.150261878967285, 8.028162956237793, 12.986387252807617, -0.24485284090042114, -15.681835174560547, 0.8502244353294373, 9.110472679138184, -13.989045143127441, -15.301496505737305, -10.832910537719727, -15.938812255859375, -11.870281219482422, 4.307828903198242, -11.284648895263672, 8.816304206848145, -11.802647590637207, 3.5592968463897705, -15.891284942626953, -16.76068115234375, 7.198078632354736, 0.06854288280010223, -10.589322090148926, 0.8712983727455139, 1.0072771310806274, 4.275672912597656, 4.673925876617432, 11.690316200256348, 3.4331209659576416, 5.013339996337891, 4.799935817718506, 3.879765272140503, 1.2811452150344849, 8.687132835388184, 9.267460823059082, 1.034766435623169, -11.092618942260742, -17.582380294799805, 10.579241752624512, -13.80982780456543, 3.5165789127349854, 4.327680587768555, 6.6557464599609375, 4.212025165557861, 9.759893417358398, -14.304789543151855, -0.06228405982255936, 1.515464425086975, 5.908296585083008, 1.44040048122406, -14.898104667663574, 1.6514523029327393, -10.062071800231934, 3.96966552734375, 9.109981536865234, 0.6429849863052368, -15.212419509887695, 6.068158149719238, -10.392830848693848, 4.495133399963379, -17.433212280273438, 4.730485916137695, 12.765132904052734, 10.786843299865723, 2.8135573863983154, -13.541349411010742, 11.374297142028809, 2.9684879779815674, -14.320656776428223, 2.6283247470855713, 5.0424017906188965, -14.05235481262207, -16.336105346679688, 7.786360263824463, -0.3301982283592224, 1.7929449081420898, -11.903301239013672, 4.136807918548584, -12.25359058380127, 7.064563751220703, 4.790220737457275, 11.386248588562012, 1.3855229616165161, 6.546464920043945, 10.441808700561523, 2.910963535308838, -9.282135963439941, 11.28630542755127, 2.4784188270568848, -13.794281005859375, -12.31694507598877, 7.3091349601745605, -10.444595336914062, 12.017955780029297, 5.537633895874023, -9.38986873626709, 12.39302921295166, 11.647269248962402, 8.949746131896973, 15.404072761535645, -15.782801628112793, -15.389581680297852, -14.459460258483887, -13.410530090332031, -18.359455108642578, 1.1247330904006958, -15.988787651062012, -9.99578857421875, -0.20618493854999542, 5.811306476593018, 9.010936737060547, -11.09687614440918, 3.5037364959716797, 6.533288478851318, -1.009116530418396, -15.945854187011719, 8.399252891540527, 3.3098554611206055, -15.795331001281738, -14.993643760681152, 1.1252992153167725, -8.140702247619629, -10.416833877563477, 13.317184448242188, 5.937786102294922, -3.5360310077667236, 6.730790138244629, -7.6745829582214355, -7.394039154052734, -11.000839233398438, 6.698709964752197, 7.651669502258301, -6.9559102058410645, 12.910118103027344, 0.6231879591941833, -4.910023212432861, -1.4014440774917603, -1.5350154638290405, -13.063508033752441, -9.613299369812012, -11.843038558959961, -8.751880645751953, 4.5454020500183105, -15.039938926696777, 2.3834571838378906, 4.224913597106934, -0.10210537165403366, -15.34503173828125, 2.838899850845337, 6.624202728271484, 7.872353553771973, -10.956275939941406, 4.003088474273682, 1.9949312210083008, 2.293759346008301, -9.836084365844727, 0.35996824502944946, 7.374983310699463, 4.200047016143799, -14.30479907989502, -11.839645385742188, -16.94704818725586, 1.8409439325332642, -14.171194076538086, 3.314332962036133, 12.612898826599121, 12.937997817993164, -10.837190628051758, 7.5135674476623535, 7.442378520965576, -14.249648094177246, 14.268732070922852, -15.747211456298828, 10.480119705200195, 9.448712348937988, 12.192800521850586, 2.1809611320495605, 10.028035163879395, 11.500764846801758, -15.272939682006836, 7.214269161224365, -15.843452453613281, 7.560858249664307, 2.5154809951782227, 0.4273039400577545, 8.425826072692871, 1.0725293159484863, 13.426349639892578, 3.520087242126465, 3.383665084838867, 9.716714859008789, 2.050286054611206, 4.520995140075684, 10.565635681152344, 1.489856481552124, 0.6279515624046326, 7.1501078605651855, -16.667768478393555, 7.959602355957031, -9.892091751098633, 8.5954008102417, 5.170723915100098, -16.012346267700195, 5.874018669128418, -11.37038803100586, 7.857658386230469, 12.004265785217285, 0.29293373227119446, 12.245329856872559, -11.65355110168457, 5.697628498077393, 11.902875900268555, 5.7237677574157715, 3.17773175239563, 2.109619140625, 1.3564773797988892, -10.098033905029297, 12.25634479522705, 10.272857666015625, 3.292264461517334, -13.82565689086914, 9.945976257324219, -13.83041000366211, -9.016499519348145, 8.235730171203613, -1.4141347408294678, 1.0703758001327515, -11.485906600952148, 3.688922166824341, -16.60544204711914, -8.070464134216309, -12.39166259765625, -14.810149192810059, -9.554471015930176, 7.89871072769165, -0.17046070098876953, 4.466024875640869, 9.197959899902344, -13.8643217086792, 7.7664008140563965, 3.278217077255249, -15.392699241638184, 4.002813816070557, -0.13183830678462982, -17.29206085205078, -9.378122329711914, -12.302325248718262, -10.855168342590332, -16.066940307617188, -15.082199096679688, -13.94592571258545, 10.0335054397583, 4.843928813934326, 9.486527442932129, -12.228157997131348, 6.194691181182861, 8.797316551208496, -11.302375793457031, 1.8284459114074707, 5.411264419555664, 1.1691029071807861, 4.23335075378418, -10.264033317565918, 0.9392530918121338, 10.55441951751709, 4.520795822143555, 3.2791571617126465, 4.407264709472656, 3.5481371879577637, -13.646859169006348, 7.078823566436768, -10.962696075439453, -0.006707192864269018, 6.594770431518555, 0.055562496185302734, 3.7722043991088867, 4.103335380554199, -13.346535682678223, 8.047123908996582, 5.55374002456665, -11.738951683044434, 0.3005959093570709, -14.803990364074707, 10.785974502563477, 12.175543785095215, 1.6345103979110718, 4.056169033050537, 9.099812507629395, 6.133918285369873, 5.661691188812256, 1.4183728694915771, -10.065910339355469, 0.13631725311279297, 5.110444068908691, 6.4959611892700195, -13.144039154052734, -14.33699893951416, -15.19593620300293, 2.002519369125366, 6.484727382659912, 2.150778293609619, -8.869619369506836, -14.333924293518066, -14.425071716308594, -11.159039497375488, 6.158266544342041, -15.554986953735352, 3.31166934967041, 4.056393623352051, 11.491247177124023, 2.2252464294433594, 1.4967942237854004, 5.3802337646484375, 7.7827348709106445, 12.862674713134766, -17.21420669555664, 4.129715919494629, -14.850968360900879, -13.454587936401367, 1.5041905641555786, -10.945165634155273, 9.281495094299316, 8.153909683227539, 8.709749221801758, 12.059383392333984, 9.303895950317383, -11.686297416687012, -14.34007740020752, 1.7720040082931519, 3.3511743545532227, -13.676279067993164, -15.805980682373047, 0.4485730826854706, -15.733654975891113, 5.4727253913879395, 7.129735946655273, 3.81166934967041, -0.26166436076164246, 1.886536955833435, 2.0915791988372803, 5.418587684631348, 4.535736560821533, -15.323648452758789, 9.262264251708984, 12.000428199768066, -16.41935157775879, -14.056692123413086, -13.403365135192871, 9.569855690002441, -10.049964904785156, 1.877333641052246, -15.167667388916016, -10.84093189239502, 5.938551902770996, 8.399998664855957, -11.316808700561523, 7.133479595184326, -11.963678359985352, 6.328444480895996, 4.945858955383301, 5.467586994171143, 1.217958688735962, 3.3031458854675293, 3.0368244647979736, -16.38453483581543, -12.923155784606934, 5.197455406188965, 10.56292724609375, -15.796875953674316, -12.360692024230957, -9.125323295593262, 4.829377174377441, 10.969025611877441, 7.357994556427002, -9.986733436584473, 8.69298267364502, 2.4892361164093018, 14.32368278503418, 7.1623854637146, 9.739901542663574, -10.779808044433594, 9.227076530456543, -16.501827239990234, 4.481906414031982, 5.405864238739014, -14.290631294250488, 6.905470848083496, 9.38243579864502, 7.320476531982422, -15.895997047424316, 2.1770005226135254, -9.885995864868164, -10.694605827331543, -0.2078634798526764, 6.8025078773498535, 9.424732208251953, -15.64654541015625, 8.446521759033203, 5.614599227905273, -12.8856782913208, -13.831161499023438, -16.12006378173828, -9.955770492553711, 8.209254264831543, 5.77274751663208, -10.185163497924805, -12.433710098266602, 2.798957347869873, 7.753774166107178, 8.204085350036621, -11.435470581054688, -15.605912208557129], \"y\": [1.8791085481643677, 5.553507328033447, -6.372268199920654, 2.2653708457946777, -2.5840914249420166, 0.611250102519989, 8.254356384277344, 0.17319446802139282, 4.988182544708252, 0.17182724177837372, -2.2894043922424316, -8.154033660888672, -0.17053763568401337, -1.864218831062317, 0.9663194417953491, 5.532536506652832, -0.18165333569049835, 2.931896924972534, -6.681794166564941, -8.514627456665039, 1.1201640367507935, 2.532151460647583, -2.0107977390289307, 4.870593070983887, -2.831561326980591, 3.454808473587036, -7.842881202697754, 2.349865198135376, 3.1189465522766113, 1.8835564851760864, 2.8710904121398926, 3.408515691757202, 0.12049829959869385, 2.0838894844055176, -4.538371562957764, 4.30723762512207, 1.88798987865448, 2.3292007446289062, 1.1711199283599854, 0.2686708867549896, 0.31800195574760437, 0.2560112774372101, 2.698545217514038, -3.2178969383239746, -0.5457819104194641, 5.953202724456787, 0.28315186500549316, 4.823183059692383, -8.067707061767578, 2.1396164894104004, 0.4465574026107788, -6.466341495513916, -3.554619550704956, 5.729802131652832, -1.1082979440689087, 4.078803539276123, -1.8892922401428223, 6.449451923370361, 1.8108789920806885, -5.968173980712891, 7.673050880432129, 2.0506629943847656, -3.380852460861206, 0.3129410147666931, 1.5226490497589111, 0.4487747251987457, -2.7152326107025146, 3.7526230812072754, -6.993618488311768, -4.226493835449219, 2.073129415512085, 2.034963846206665, -0.7106645703315735, 0.3862612247467041, 0.9912185072898865, 4.626204967498779, -4.873900413513184, -0.8059450387954712, -3.558850049972534, -2.148843765258789, -1.2929147481918335, 2.7049028873443604, -1.3455376625061035, 2.1414451599121094, 5.29344367980957, 1.8723580837249756, 4.531200408935547, 3.0965378284454346, -3.6879024505615234, 0.9563295841217041, 2.3197317123413086, -1.7570749521255493, 3.329166889190674, 8.224556922912598, 3.809443235397339, -2.041879892349243, -0.7878626585006714, 0.6625585556030273, 6.00743293762207, -3.678285837173462, -0.43500399589538574, 1.5334643125534058, 1.2206491231918335, -3.591644525527954, -1.8841382265090942, -0.2992960810661316, 2.0807559490203857, 0.8202371597290039, 0.5343503952026367, -0.0196420606225729, 0.24292127788066864, -0.3283688426017761, -3.5245816707611084, 1.7671427726745605, -5.84861946105957, -0.19813452661037445, 9.032814979553223, 8.525373458862305, 1.0855485200881958, 5.8474297523498535, -0.8254240155220032, -3.277679204940796, 0.22479639947414398, 1.3855555057525635, 3.315248966217041, 3.4410488605499268, 4.278954982757568, 1.515829086303711, 4.8795857429504395, 2.3412632942199707, -6.193674087524414, -1.5786796808242798, 1.4735348224639893, 4.398861885070801, 2.806791067123413, 5.202308654785156, -2.4735336303710938, 3.073087215423584, 4.565960884094238, -1.3305953741073608, 0.2233368307352066, 2.6689236164093018, -4.25378942489624, -3.0145208835601807, 6.826770782470703, -1.2832214832305908, -2.004887819290161, -0.4554237425327301, 5.11915922164917, 0.9774117469787598, 0.34395265579223633, 2.0231871604919434, -1.7502896785736084, -4.403671741485596, 1.720205307006836, -0.34767600893974304, 1.3319847583770752, 1.8130818605422974, -0.8965855836868286, -1.2733650207519531, 7.690989971160889, -6.482731342315674, -0.6333279013633728, -4.5989298820495605, -0.17439280450344086, 2.4020063877105713, 1.0962672233581543, 2.805243492126465, -3.744959831237793, 4.056029796600342, 2.0192933082580566, 0.594703197479248, -3.390890121459961, -4.518851280212402, 0.8946208357810974, 2.0865821838378906, -2.024087429046631, -4.510168075561523, 4.926441669464111, 3.2078263759613037, -1.3096050024032593, -4.952425956726074, 1.6672964096069336, 3.5998873710632324, 3.3656582832336426, 9.169795989990234, -2.0403053760528564, -5.706263065338135, -0.12420167773962021, 1.6845636367797852, 0.17587780952453613, -4.132668495178223, -1.4689198732376099, -5.770390033721924, 7.126984596252441, 6.897025108337402, -1.7965035438537598, -0.36053940653800964, -1.726946234703064, 2.899024486541748, -4.922183990478516, 0.2262277603149414, 2.8304336071014404, -1.7321155071258545, -5.96657133102417, 3.303715705871582, -4.177190780639648, -5.160953521728516, -4.485891819000244, 5.720461845397949, 1.0229167938232422, -3.8906381130218506, -0.7963993549346924, 0.32322025299072266, -3.4229423999786377, -1.7574559450149536, 5.357165336608887, -1.5015580654144287, -0.8856379389762878, -0.8542059063911438, -6.551202297210693, 1.510705590248108, -2.756007432937622, -0.9032889604568481, 5.573601722717285, -3.8704824447631836, 1.0775611400604248, -0.6048691272735596, 2.6224513053894043, -6.631070613861084, 6.70453405380249, 3.3739051818847656, 2.169502019882202, 3.1158223152160645, 7.643707275390625, 1.0272111892700195, 7.237852096557617, 1.6206337213516235, 1.5301634073257446, -4.234853744506836, -4.909464359283447, -1.4264484643936157, -3.047698736190796, 4.34744119644165, 0.1540854573249817, 4.745345115661621, 2.032097816467285, -3.1116507053375244, 0.40123438835144043, -1.0599619150161743, -6.766661167144775, 0.13484080135822296, 1.9706073999404907, -6.1905436515808105, -0.8187041282653809, 4.319505214691162, 3.1095499992370605, 5.330365180969238, -6.702249050140381, 7.023777961730957, -2.8837738037109375, -5.375040054321289, -4.037247180938721, -0.3480421006679535, -6.073033332824707, 4.099472522735596, 3.1149837970733643, 6.839481353759766, 0.5726829767227173, -2.2208642959594727, -0.439022421836853, 1.71441650390625, 3.8582258224487305, -2.618546724319458, -0.8328948020935059, -3.9855735301971436, -2.4984006881713867, -4.310225009918213, 0.8098670244216919, 0.08615244179964066, 1.280070424079895, -2.4218735694885254, -0.37014010548591614, 5.558535099029541, -5.723204612731934, 0.6523948907852173, 3.3368098735809326, 2.003696918487549, 4.628636360168457, -1.6942873001098633, 1.0957369804382324, 1.9311037063598633, 2.061673402786255, 0.3752448558807373, 2.0538811683654785, -1.6067652702331543, -1.8462092876434326, -4.62438440322876, 1.256757378578186, 3.128321409225464, 2.575040102005005, 7.030820846557617, 1.038118600845337, 0.7195000052452087, -2.097369432449341, 0.5688090920448303, -0.5888778567314148, 0.2688649296760559, -0.019575094804167747, 3.7084033489227295, 3.369600772857666, -1.3724608421325684, -5.365448474884033, -3.604376792907715, -2.3920133113861084, 1.8403232097625732, 4.032602787017822, 6.125219821929932, -0.22812533378601074, 2.3573994636535645, 2.168091058731079, 2.6240601539611816, 2.471954822540283, 3.473477363586426, -3.396902084350586, 3.4828479290008545, 3.735586643218994, 2.4057812690734863, -1.681510329246521, -1.6671195030212402, 7.289369583129883, -3.044076442718506, -4.578912258148193, -0.39710739254951477, 2.548382043838501, -3.9616432189941406, 3.1739912033081055, 5.226360321044922, -1.687408208847046, -4.383362293243408, 4.235346794128418, -2.2748897075653076, 1.0908796787261963, -4.451058387756348, 0.7267653346061707, -1.4940111637115479, 5.018990993499756, 0.952099621295929, 1.0599374771118164, -2.7064762115478516, 1.0587393045425415, 4.095026016235352, 7.623124122619629, 2.2573933601379395, 3.3773069381713867, -1.9547810554504395, -3.3355600833892822, 2.361140727996826, -0.8124065399169922, 3.3387277126312256, 3.572441577911377, 0.4932648241519928, 5.74238920211792, -0.002600261243060231, 1.7076671123504639, -0.9521827101707458, 0.6241036653518677, 8.461739540100098, 5.288320541381836, 1.170492172241211, 2.931882619857788, -4.692461967468262, -4.954361438751221, -3.085557222366333, 2.5015156269073486, 0.8779695630073547, 0.40734654664993286, -1.0625933408737183, 2.5408356189727783, 3.460357666015625, -0.5987845063209534, -1.1876076459884644, 1.8183743953704834, -1.4709701538085938, 2.9303226470947266, -0.523460328578949, 2.2158608436584473, 1.460813045501709, 2.292466878890991, -0.6654326319694519, 0.9283038377761841, -0.7687828540802002, 3.4774417877197266, 1.524789571762085, 7.049298286437988, 2.0010030269622803, 0.05208149552345276, 0.558812141418457, 2.6245272159576416, 1.4382773637771606, 5.607375144958496, -0.4758814573287964, -1.6008305549621582, 2.6708781719207764, 2.3564372062683105, 7.221776008605957, -5.387185573577881, -1.4850977659225464, -2.0450336933135986, -0.17453435063362122, 2.329092025756836, 2.8715085983276367, -0.4059254229068756, -0.5044185519218445, 2.572772979736328, 3.039726495742798, 1.3006434440612793, 5.679448127746582, 2.3227343559265137, -1.6536396741867065, -0.8093774318695068, 0.7242602705955505, 1.1921343803405762, 3.9286255836486816, -3.8758296966552734, 3.655932664871216, 7.032328128814697, -1.833570122718811, 0.19178429245948792, -4.559471607208252, 0.3938203454017639, 8.600314140319824, 2.4222190380096436, 0.2388748973608017, 1.2753324508666992, -0.4542263150215149, 5.9987921714782715, -4.00019645690918, -0.17650948464870453, -6.492610931396484, -0.27194687724113464, -3.77372407913208, -6.161431312561035, -4.071605205535889, -2.5819008350372314, -2.6614022254943848, 1.2736101150512695, -3.1006102561950684, -1.180306315422058, -4.533742427825928, 0.19568899273872375, -3.10245680809021, 1.0294091701507568, 0.18863892555236816, -2.995591640472412, 4.169267177581787, 1.953637719154358, -2.64111328125, -2.8062257766723633, -1.9053183794021606, 2.5742204189300537, -5.686849117279053, 3.826547145843506, -2.4906363487243652, 2.951134443283081, 2.2326743602752686, 0.6928510069847107, 1.6697628498077393, 2.38435435295105, -3.613304853439331, -1.5176277160644531, 7.8300700187683105, 4.3036298751831055, 3.0360376834869385, 0.9445281028747559, 6.807642936706543, 6.420546054840088, -2.168821096420288, 4.9221930503845215, 4.056699752807617, 0.431196928024292, 1.0191881656646729, -1.607122778892517, -2.6922101974487305, 8.896523475646973, -3.596005439758301, -0.3443634808063507, -0.5793935060501099, 4.574100494384766, -4.297420024871826, -2.1930487155914307, -2.2082738876342773, -4.592798709869385, 0.9475532174110413, -3.3364250659942627, -1.9763919115066528, -0.37513792514801025, -2.0330302715301514, -3.8512730598449707, 0.03733823820948601, 4.434999942779541, 2.22391414642334, 3.170576333999634, -3.4563841819763184, 0.32443633675575256, -3.851034164428711, -1.3272678852081299, -0.21847768127918243, -1.3191531896591187, -5.5791144371032715, -5.267419338226318, 1.7407032251358032, -1.731094479560852, -3.7564077377319336, -3.9430291652679443, -1.390939474105835, -6.208897590637207, -2.1993963718414307, 1.095163106918335, -1.1302865743637085, -1.9141030311584473, -0.5859435796737671, -4.4777679443359375, -1.4814950227737427, -1.5927523374557495, 9.088419914245605, -1.0393292903900146, 6.932743549346924, 1.3276147842407227, 1.632875680923462, 0.9824439287185669, -0.3794732987880707, -0.499563992023468, 3.5421464443206787, -2.867550849914551, 3.280315637588501, 0.7312053442001343, -2.431640148162842, 5.266149997711182, -1.770133137702942, -1.468498706817627, -2.0873727798461914, 2.036105155944824, 5.68023157119751, 1.442106008529663, 0.8887227177619934, -1.1304106712341309, -0.35473790764808655, -1.7214635610580444, -0.557910144329071, -2.2578375339508057, 5.918001174926758, -5.673154354095459, -0.8177535533905029, -3.7537784576416016, 3.568523406982422, -1.2913602590560913, 1.996364712715149, 3.30234432220459, 4.438806533813477, -4.326674938201904, -0.6364395618438721, -3.736565351486206, -3.2693870067596436, 4.385793209075928, -3.839181423187256, 1.7233386039733887, 1.962634801864624, -3.323761224746704, -3.909757375717163, 1.2374000549316406, -3.1320712566375732, 0.7478189468383789, -2.8173069953918457, 3.5842251777648926, 3.0939407348632812, 5.539117813110352, 3.987633228302002, 4.927051544189453, -1.3712141513824463, -0.365357905626297, -1.2119817733764648, -3.373866081237793, 6.280733108520508, 0.16107606887817383, -4.290881633758545, 1.7520350217819214, 0.7864152193069458, 6.651854038238525, 0.4127468764781952, -0.35780712962150574, -1.4557812213897705, 4.617528915405273, 1.5019484758377075, 6.068644046783447, -4.628678321838379, 1.3255434036254883, -0.4115913212299347, -2.6231305599212646, -4.0203046798706055, 1.6162829399108887, -4.022167682647705, -6.100058078765869, 8.041686058044434, -3.3271400928497314, 4.717843055725098, 1.9886605739593506, -3.065380573272705, 5.484171390533447, 2.9431333541870117, -5.041014671325684, 0.9749887585639954, -1.4173871278762817, 3.4390780925750732, -1.269727349281311, -2.7585675716400146, -2.5024573802948, -4.2042951583862305, 3.941822052001953, 1.983245849609375, 5.263424396514893, -3.635105609893799, -6.515281677246094, 1.6595464944839478, -2.0631704330444336, 1.3624722957611084, 8.095911026000977, -6.042092800140381, -2.177870035171509, -2.5112924575805664, -6.5257744789123535, -0.14968165755271912, -0.45154112577438354, -0.9907177686691284, 0.8810281753540039, 5.274490833282471, -7.030778884887695, 5.420751094818115, -3.2990667819976807, 6.5920090675354, -5.908102512359619, 5.514216423034668, 6.9133620262146, 3.0953164100646973, -3.1292285919189453, -1.5499680042266846, -4.375886917114258, 6.233563423156738, 1.2156497240066528, 3.709627628326416, 1.116243839263916, 1.1569757461547852, -1.6717956066131592, 1.579338788986206, 1.928429365158081, 3.72031569480896, -2.8960676193237305, 5.32564115524292, 0.3814218044281006, -0.12153180688619614, 1.7807074785232544, -3.3503901958465576, 3.3183133602142334, 2.5420377254486084, -1.37055242061615, 7.01777982711792, 2.8506362438201904, 4.944544792175293, -0.3272475600242615, 1.0893489122390747, -1.7119027376174927, -1.690016508102417, -6.1631855964660645, 6.117945671081543, -2.0508267879486084, -1.5204030275344849, 5.6652445793151855, -3.2050230503082275, -0.29443106055259705, 4.196300983428955, -3.345951795578003, 2.305645704269409, 4.225198745727539, -3.3277008533477783, -4.705646514892578, 1.566574215888977, -1.70706307888031, 0.730880081653595, -2.151876211166382, 2.640249729156494, -2.6391079425811768, 3.2934744358062744, -0.3507593870162964, 0.0488133542239666, -1.803916335105896, -0.6708144545555115, 3.6139416694641113, -3.541989803314209, -1.996446132659912, -2.6097378730773926, -4.262642860412598, -6.173614025115967, -1.834615707397461, 3.1592118740081787, 1.5865488052368164, 3.8686461448669434, -0.5553098917007446, -6.135448932647705, 5.513882160186768, -3.433870553970337, 1.5822381973266602, 1.67142653465271, 4.186966896057129, 3.4797427654266357, 3.4280521869659424, -2.323096990585327, 0.7982350587844849, 5.443586349487305, 3.534769296646118, 0.25190168619155884, -6.684877395629883, 9.028498649597168, -1.1079329252243042, -6.45827579498291, -1.1929755210876465, 0.06305135786533356, -4.89911413192749, -0.5648534297943115, 3.3627521991729736, 0.15113888680934906, 1.107905626296997, -5.427069664001465, 6.097346782684326, 6.150933265686035, 1.7803791761398315, -3.1441760063171387, 0.26398757100105286, -3.285818338394165, -3.989893674850464, -5.190263748168945, 0.8531315326690674, 5.636534214019775, 5.538686275482178, -6.015255928039551, 2.550886869430542, -4.379734992980957, -2.3983278274536133, -2.8649399280548096, -3.128673553466797, 1.5625988245010376, 4.779142379760742, -5.245981216430664, 3.991356372833252, 7.191310882568359, 0.15097995102405548, -4.96722412109375, -2.1099302768707275, -5.043180465698242, -3.468174457550049, 0.1653902679681778, 3.181828498840332, -6.356418609619141, 1.6867849826812744, 2.8150720596313477, 1.8202894926071167, 8.207433700561523, 7.297386169433594, -4.736175060272217, 6.4317121505737305, -4.56107234954834, -1.6549195051193237, 5.6023383140563965, 4.153641223907471, 6.474582195281982, 4.295793533325195, -1.602860450744629, -2.0371603965759277, -3.010741710662842, -0.3127233386039734, 3.3560163974761963, 1.0689265727996826, 7.815610885620117, 0.869426429271698, 0.2444096803665161, -3.7377912998199463, 2.51059889793396, -3.8480803966522217, -1.8605347871780396, -4.296669960021973, -4.083176136016846, 2.805785894393921, 1.1420307159423828, -6.1630072593688965, 0.9567171931266785, 7.800655364990234, 2.1364057064056396, -0.8256961703300476, -1.809465765953064, 0.022229041904211044, -1.2466825246810913, -2.547612190246582, -0.38789471983909607, 1.2810662984848022, 5.5360212326049805, -4.632593631744385, 2.1279940605163574, -1.7587037086486816, 2.6513755321502686, 0.0025250627659261227, 3.4605255126953125, -3.6459238529205322, -5.5725274085998535, 0.5623230338096619, -0.285815954208374, 0.9958162307739258, -1.1333577632904053, 0.9836871027946472, 1.6927008628845215, -2.0892176628112793, 0.46128642559051514, -3.2648727893829346, -3.0981695652008057, -5.071091175079346, 2.724392890930176, -1.6958041191101074, 7.493932247161865, -0.19311706721782684, -2.6266517639160156, 2.5303516387939453, -0.6407362818717957, 3.8055648803710938, 3.483988046646118, -2.847402572631836, -4.734270095825195, -2.6210405826568604, -3.098146438598633, -5.168521404266357, -3.806405544281006, -4.187838077545166, -2.909533739089966, 0.1364622414112091, -3.674673080444336, 1.022721290588379, 1.3115155696868896, 5.896203994750977, -2.3235692977905273, -0.8118987083435059, -0.3875191807746887, -0.1691821962594986, 3.5236029624938965, -1.1887564659118652, -1.4922500848770142, -3.9392378330230713, -0.1608550250530243, 1.6953073740005493, -1.7023508548736572, -0.9175947308540344, -0.3077888488769531, -3.678821563720703, -6.287118434906006, 0.8277028203010559, -2.428226947784424, 3.7444143295288086, -2.4285502433776855, -1.1217005252838135, 2.808356285095215, 8.933730125427246, -3.8195674419403076, -2.911404848098755, 2.069871187210083, -4.172758102416992, -1.8883988857269287, 4.68065071105957, -0.7666734457015991, 2.3116838932037354, 1.6616100072860718, 7.18897819519043, -2.681055784225464, 5.372886657714844, -5.1247878074646, 1.7233730554580688, -1.9597394466400146, -1.5412423610687256, 3.028517723083496, 0.5681613087654114, -2.954831600189209, 3.2770450115203857, 1.6290820837020874, 3.1144371032714844, -3.807849645614624, -3.0873944759368896, 3.092857599258423, -2.9649784564971924, -0.6806607842445374, 4.236457347869873, 2.6256282329559326, 5.4500322341918945, 2.8574845790863037, 1.5852594375610352, 4.18483304977417, 1.8131451606750488, -4.97040319442749, -1.4576127529144287, 1.751856803894043, -3.314779758453369, -1.5015997886657715, -1.3885645866394043, 4.062536239624023, -2.7787535190582275, -0.8555777668952942, 0.1665971875190735, 1.1103137731552124, 3.4544618129730225, 0.7605707049369812, -5.282952308654785, -5.859425067901611, 5.142246246337891, 0.7641872763633728, -0.9948075413703918, -2.8125901222229004, -1.0277857780456543, 1.7047393321990967, 6.093436241149902, 0.8429672122001648, -1.8652795553207397, 0.6315794587135315, 2.339871406555176, 4.946167945861816, 1.2163454294204712, -1.5901278257369995, -5.328018665313721, -2.089664936065674, 4.532048225402832, 1.5029951333999634, 0.7207335233688354, -4.387795925140381, -0.422957181930542, -6.019687652587891, 4.815884590148926, -3.197756767272949, -5.497541427612305, -5.859035491943359, -3.748694896697998, -1.7388410568237305, -0.845894455909729, -4.4751973152160645, -2.4432315826416016, 1.905202031135559, 0.8797910809516907, 2.9710755348205566, 5.4516825675964355, -0.9280866384506226, 1.6308079957962036, 2.563138246536255, 1.0227400064468384, 1.2616581916809082, -2.0631937980651855, -1.1475651264190674, -4.882166862487793, -3.667600393295288, 6.790106296539307, 0.7707743048667908, -4.34200382232666, -2.2575759887695312, 5.047792911529541, 1.9500139951705933, 0.6871408224105835, -0.4826561212539673, -3.9809234142303467, -4.194041728973389, -1.2056477069854736, -1.581605315208435, 4.403301239013672, -5.95087194442749, -0.4052537977695465, 4.743371486663818, 4.032003879547119, -2.3393170833587646, 6.106515407562256, -2.3164525032043457, -4.699531078338623, -0.5915129780769348, -4.887284755706787, 8.764453887939453, -1.855960488319397, -1.0072686672210693, -3.0389530658721924, -2.6445486545562744, -3.319941520690918, -4.077552318572998, -0.5965864062309265, 0.9441453814506531, -1.943597674369812, -5.976699352264404, -3.5561892986297607, 5.076779842376709, 5.41024112701416, -3.8489913940429688, -0.6082305908203125, -5.238130569458008], \"z\": [5.01884651184082, -7.473084926605225, 8.654631614685059, -6.948422431945801, 9.860152244567871, -4.572760105133057, -9.575292587280273, -5.821652412414551, -0.77702397108078, 5.720611095428467, -7.729585647583008, 6.057601451873779, -12.27540397644043, 2.322330951690674, 4.220967769622803, -1.7054368257522583, -12.241713523864746, -5.1358466148376465, 8.26694107055664, 5.288036823272705, -4.184391498565674, 9.556741714477539, 2.6488089561462402, -1.5309183597564697, -2.8534069061279297, 8.149853706359863, 5.96157693862915, 1.1257286071777344, 3.9666941165924072, -0.8999170660972595, 0.1834246665239334, -11.208702087402344, 4.063335418701172, 2.7527453899383545, -0.03447631001472473, 9.242834091186523, -1.6112743616104126, 1.5105565786361694, 7.717594623565674, -4.483933448791504, -3.3079400062561035, 0.2819232642650604, -0.4419775903224945, -0.7920212149620056, 2.106926202774048, -2.4066696166992188, 1.8903087377548218, -1.3349601030349731, 6.019370079040527, -4.812466621398926, -9.92050552368164, 7.796818733215332, 1.7667980194091797, -2.2745375633239746, -5.8866376876831055, -15.991268157958984, -8.576312065124512, -12.516932487487793, 2.169293165206909, 4.5825395584106445, -3.1474034786224365, -3.8547356128692627, 0.376740425825119, -0.3451846241950989, 1.062855839729309, 1.795843482017517, -4.71599006652832, -4.712896823883057, 5.9579057693481445, -5.754237174987793, 0.9811987280845642, -4.657776832580566, 8.197421073913574, -9.351017951965332, 13.200136184692383, 10.70972728729248, 4.95418643951416, -0.49885112047195435, 13.956536293029785, 10.570192337036133, 10.578739166259766, 12.501511573791504, 6.942654132843018, -2.7746331691741943, -9.29939079284668, -8.102980613708496, -3.6314637660980225, -7.550909519195557, -3.430718421936035, 11.680900573730469, 10.120476722717285, -8.005876541137695, 0.8354126811027527, -7.653820991516113, -13.252684593200684, 0.9249555468559265, 2.491185188293457, -7.272655963897705, -2.696183919906616, 5.145611763000488, 8.003007888793945, -4.63096809387207, -6.868679523468018, 1.6928014755249023, -0.4341490864753723, 5.43805456161499, 0.5171902179718018, -10.596868515014648, 12.21133804321289, -0.45174747705459595, 13.601012229919434, 9.406451225280762, -10.329134941101074, 11.06899642944336, 8.686382293701172, 12.54171371459961, -8.800024032592773, -7.490307807922363, -8.076128959655762, -2.817819595336914, 12.430399894714355, -2.127725124359131, -9.98422622680664, -2.040813446044922, -2.121314287185669, -8.261445045471191, -12.818840026855469, -6.12062406539917, -9.073874473571777, -8.29160213470459, -2.7493810653686523, 2.2845261096954346, -9.174189567565918, -11.216118812561035, -5.532285213470459, 7.4072747230529785, 8.409382820129395, -8.349944114685059, -9.146257400512695, -0.7966768741607666, -9.115639686584473, 12.530851364135742, 1.182239294052124, 7.835414409637451, -3.4010379314422607, 7.811193466186523, -5.98549222946167, -4.959253311157227, -8.623908996582031, 0.875295102596283, 13.450946807861328, 12.777068138122559, -6.002541542053223, 0.685661792755127, 8.808582305908203, 2.0435922145843506, -0.2238430678844452, -2.856095552444458, 16.457120895385742, -8.22415542602539, -9.732833862304688, -1.3729538917541504, 15.933735847473145, 12.630128860473633, -6.3798017501831055, -4.263436317443848, -9.243051528930664, 0.81702721118927, 5.217206001281738, -0.8001229166984558, 0.8684095740318298, -6.951966762542725, -4.293152332305908, 8.978083610534668, -3.13189959526062, -6.769317626953125, -5.5052666664123535, 8.60883617401123, -9.544329643249512, -6.950908184051514, -4.2075676918029785, -4.475438594818115, -11.516434669494629, -1.9547383785247803, -0.01619943603873253, -8.265417098999023, 0.05332821607589722, -2.6742470264434814, 9.14513874053955, 12.29814338684082, -4.626263618469238, 8.289823532104492, -8.184595108032227, 9.213516235351562, -5.4109206199646, -10.644827842712402, -5.359306812286377, -11.264379501342773, 7.796717643737793, -2.800917625427246, -1.3880650997161865, -0.12877170741558075, -13.170941352844238, 6.793601036071777, 8.682611465454102, -11.768397331237793, 9.929139137268066, -1.962623119354248, -5.360726356506348, -11.253289222717285, -3.4348537921905518, -0.4953576624393463, 1.412000060081482, 12.949383735656738, -2.276453971862793, -3.124403953552246, -10.411588668823242, -1.3645782470703125, 0.1123230829834938, -1.150864601135254, 9.110344886779785, -7.726280689239502, 6.413949966430664, 12.623026847839355, -6.057943344116211, 10.58967399597168, -0.1591547727584839, 8.804229736328125, -5.658454895019531, -0.9611385464668274, -9.617560386657715, 0.7020277380943298, -7.39668083190918, -7.913349151611328, -5.530166149139404, -7.673928260803223, -9.460148811340332, 11.75775146484375, -5.832515716552734, 9.581806182861328, -2.3595407009124756, -8.359517097473145, 7.235605716705322, -7.371243000030518, -3.956655502319336, -5.70158576965332, 9.344834327697754, 15.472193717956543, -0.00289174891076982, 8.781881332397461, 0.09357396513223648, -2.1125526428222656, -4.479183673858643, -1.5629647970199585, 6.297733783721924, -3.0603537559509277, 6.304484844207764, -6.205650806427002, -1.0356184244155884, -3.4734973907470703, 8.31261157989502, -1.5359010696411133, 9.493475914001465, -3.9026286602020264, 1.6234359741210938, -7.372719764709473, -7.839422702789307, -7.280416488647461, 12.208684921264648, -10.823399543762207, -9.419507026672363, -13.209912300109863, 8.83751392364502, 8.363804817199707, -7.03754997253418, -2.409205675125122, 0.7805787324905396, 8.270604133605957, -9.451766014099121, 8.97663688659668, -0.7794100642204285, 8.053123474121094, 7.453167915344238, 7.537603855133057, 7.974091053009033, -8.109393119812012, -2.657773971557617, -7.9805097579956055, -7.143161296844482, 7.035609722137451, 12.854616165161133, -10.5563325881958, 0.9338915944099426, -7.250450134277344, -2.537292957305908, -10.074193954467773, -5.626039981842041, 12.738412857055664, -0.5978101491928101, 6.698973178863525, -8.462092399597168, -6.11901330947876, 0.3646204471588135, -4.492968559265137, -4.054704189300537, 15.598852157592773, -7.7512054443359375, 15.090487480163574, -3.262195587158203, -0.34769001603126526, -0.005741716828197241, -4.625598430633545, -3.6251983642578125, 9.251214981079102, -5.049604415893555, 6.824522972106934, -1.044323205947876, -8.1687593460083, 15.239782333374023, -12.903707504272461, -8.300165176391602, 9.91354751586914, -5.736653804779053, -10.942400932312012, 12.340965270996094, 9.37547779083252, -6.735982418060303, -7.186779499053955, 4.341054916381836, -5.129980564117432, -7.11924934387207, -0.6647502779960632, -2.756345510482788, 3.8777077198028564, -7.596193313598633, 5.071246147155762, -8.361493110656738, 6.9883623123168945, -0.19046685099601746, -0.05132446438074112, 7.147950649261475, 7.319546222686768, -8.366477966308594, -0.04092039540410042, -5.849651336669922, 5.56055212020874, -11.644219398498535, -5.394318103790283, -6.7501373291015625, -1.204314112663269, -1.4656496047973633, 8.67169189453125, -3.4242959022521973, -12.988932609558105, -2.6216983795166016, 7.009415626525879, 0.2667067348957062, -6.501351356506348, 1.2758046388626099, 9.730049133300781, -8.23228931427002, -7.48642635345459, -0.07511360198259354, -3.032320261001587, -6.455990314483643, 15.782822608947754, 1.0668854713439941, -6.375216007232666, -5.841922760009766, -11.199688911437988, -1.3814440965652466, -2.450213670730591, 6.150683403015137, 3.003455400466919, -5.733067989349365, -1.2243859767913818, 13.798009872436523, -4.555845737457275, -13.307259559631348, 11.587881088256836, -7.687206745147705, 0.27479657530784607, 12.976222038269043, 7.839437961578369, -8.375540733337402, 2.3083572387695312, 1.3620444536209106, 0.9952561855316162, -3.7332489490509033, 9.945831298828125, -3.370927095413208, 3.170032024383545, 10.411986351013184, 12.025808334350586, -4.673705577850342, -13.051746368408203, 5.415384769439697, -3.7766573429107666, 8.385616302490234, 9.2117919921875, -2.593822717666626, -3.933833599090576, -4.705930233001709, -11.531895637512207, -4.1289262771606445, -7.809857368469238, 5.963407516479492, 1.6848256587982178, -9.43807601928711, -11.000903129577637, -7.6217780113220215, 12.061991691589355, -0.6819788813591003, 15.29387092590332, -10.772431373596191, 0.0851825550198555, -7.554790019989014, -8.142597198486328, -7.649346351623535, 5.171664237976074, 10.006782531738281, -1.3130223751068115, -7.714096546173096, -7.285652160644531, 4.818889617919922, -6.060102462768555, -9.145425796508789, -4.594798564910889, 7.292059898376465, 4.62153959274292, 12.650567054748535, -9.440982818603516, -3.012990951538086, -4.302004337310791, 1.6150851249694824, -4.070103645324707, -4.619094371795654, 6.078409194946289, 12.693838119506836, 8.156026840209961, 6.148352146148682, 14.118940353393555, 8.543212890625, 4.146779537200928, -2.0248355865478516, -5.895287990570068, -0.3164636194705963, -1.417266845703125, 7.526007175445557, -4.8817033767700195, -3.4482719898223877, 8.037436485290527, -1.6248778104782104, 15.448278427124023, -9.262303352355957, -12.995687484741211, -3.851573944091797, 8.34097957611084, 14.14028549194336, 9.14407730102539, -8.910553932189941, 7.12627649307251, -1.1788290739059448, 7.36979866027832, -1.8772650957107544, 10.215636253356934, 11.759408950805664, -1.667324423789978, -4.683022975921631, 5.957972049713135, 11.992667198181152, -3.638950824737549, -2.811511516571045, 9.426677703857422, -1.2704248428344727, -5.502728462219238, -10.674771308898926, -3.642345428466797, 5.364490032196045, -7.212189674377441, -2.9078738689422607, -3.422217607498169, -3.218231678009033, 4.253756999969482, -8.912202835083008, 5.013657093048096, -6.198623180389404, 7.145628452301025, 6.91176176071167, 10.529690742492676, 14.887754440307617, -9.672717094421387, -2.5136358737945557, 0.9810572266578674, 6.844926834106445, -5.2573699951171875, -11.093570709228516, -8.932199478149414, -0.43147990107536316, 11.574536323547363, -9.145783424377441, 0.44325628876686096, 10.093348503112793, -3.3476316928863525, 6.898490905761719, 9.991488456726074, 14.526518821716309, -5.34401273727417, 7.7093000411987305, -3.9907608032226562, 8.51254940032959, -3.3988778591156006, -7.6205973625183105, -0.21783806383609772, 12.968099594116211, -1.3925468921661377, 0.508471667766571, 14.453152656555176, -1.6118509769439697, -8.45638656616211, 9.022294998168945, 5.452549457550049, -1.1461199522018433, 3.8717026710510254, 0.35659632086753845, -8.00328254699707, 7.118415832519531, -6.085551738739014, -3.124270439147949, 6.987426280975342, -6.846510887145996, 0.2923123836517334, -9.504922866821289, -1.1026827096939087, -9.263065338134766, -0.14115135371685028, -11.278843879699707, 6.3525285720825195, 3.507153272628784, -10.946985244750977, -1.704161524772644, -6.626980781555176, -7.688796043395996, -9.292410850524902, -5.7114949226379395, -10.624833106994629, 7.0727739334106445, -6.381654739379883, -4.752664089202881, 7.226651191711426, 1.0827051401138306, 8.777881622314453, 6.665755748748779, 16.390302658081055, -2.1773862838745117, -5.68405294418335, -9.541060447692871, 14.453302383422852, -7.310312747955322, -3.4044041633605957, 4.689698696136475, -0.06756836175918579, -2.4393811225891113, -6.626521587371826, -2.776423215866089, 10.277400016784668, -3.6752636432647705, 0.13293325901031494, -4.905127048492432, -8.0134859085083, 6.276005268096924, -8.813225746154785, -4.7100934982299805, -1.1688002347946167, -9.789117813110352, 0.5623887181282043, -7.701169013977051, -7.311067581176758, 7.3946533203125, 13.22496223449707, 9.299261093139648, 14.038321495056152, 3.5804765224456787, -8.381876945495605, -3.173335313796997, 9.601583480834961, 7.245094299316406, -0.3436829745769501, -5.824817657470703, 0.8031644225120544, -4.689656734466553, -1.5249710083007812, -2.140528678894043, -4.135737895965576, -2.3919832706451416, 1.3987957239151, -5.414076328277588, 1.2080588340759277, -4.183403491973877, 4.523495674133301, -8.646142959594727, -1.0219430923461914, -3.9137022495269775, -9.220641136169434, -6.118171215057373, -9.275569915771484, -6.602760314941406, 0.6248592138290405, -3.0540168285369873, -7.152359485626221, -1.123631477355957, 11.834870338439941, 9.845376968383789, 7.538736820220947, 7.2686848640441895, -2.646250009536743, -4.5999674797058105, -4.2670793533325195, -1.4528261423110962, 7.143567085266113, -0.3824623227119446, 0.8749436736106873, 0.8236291408538818, -1.0379574298858643, 3.950650215148926, -3.5363333225250244, -9.164202690124512, 9.362390518188477, 0.6867406368255615, 7.6207499504089355, -0.4577145576477051, -10.542346000671387, 14.566219329833984, 6.173048973083496, 11.399567604064941, 3.7627644538879395, 0.39292779564857483, -0.8615880608558655, -8.962998390197754, -2.3104634284973145, 8.717126846313477, -11.517304420471191, -10.426529884338379, 12.224907875061035, 0.8306496739387512, 16.201171875, 6.201705455780029, 8.864255905151367, 2.457996129989624, 9.77212142944336, -0.11923698335886002, -3.940932035446167, -0.27591803669929504, -9.117661476135254, -6.519486427307129, -11.421650886535645, 5.948291301727295, 7.7547125816345215, 1.319405198097229, -0.6205549836158752, -0.47300413250923157, 0.6862884163856506, -1.815559983253479, 6.169119834899902, -6.3870038986206055, -9.7255859375, -8.719584465026855, -11.458189964294434, -11.456932067871094, -5.6941328048706055, -1.0203020572662354, 7.079719066619873, 0.36134329438209534, -1.7367855310440063, -7.11514139175415, 0.5954001545906067, -10.786507606506348, -10.63314437866211, -5.351203918457031, -11.120268821716309, 5.0957183837890625, -1.0102628469467163, 7.928768634796143, -4.512507915496826, -1.3853758573532104, -5.760382175445557, 7.673786163330078, -4.426965236663818, -7.99204683303833, 0.1705344170331955, 1.5960744619369507, -0.12137797474861145, -0.1858994960784912, -5.148242950439453, -9.885787963867188, -9.762785911560059, 10.275714874267578, 10.533716201782227, 15.539729118347168, 0.49448075890541077, -4.335973262786865, 10.358359336853027, 2.366988182067871, 4.01270866394043, 8.446331024169922, -15.03242015838623, -7.172301292419434, -0.1465027928352356, 1.0252530574798584, -0.9855580925941467, 2.522071599960327, -2.3395235538482666, -0.03226905316114426, 8.0419340133667, 2.999406099319458, -8.508678436279297, -4.372937202453613, -3.0036256313323975, 3.1127686500549316, -0.22637249529361725, 8.293867111206055, -7.570725440979004, -6.384563446044922, 7.762701511383057, -3.108926296234131, 3.990471839904785, -4.718173503875732, -10.4481840133667, -5.842426300048828, -4.251319885253906, -3.642580270767212, 5.082944393157959, -1.3601007461547852, -0.580920398235321, -3.634063243865967, -8.391074180603027, 12.732701301574707, 13.704623222351074, 13.271722793579102, -0.06512165069580078, 0.14379256963729858, 9.877226829528809, 8.734374046325684, -2.0604636669158936, 8.49055290222168, 12.892080307006836, 11.976302146911621, -10.242574691772461, 8.610456466674805, -0.23401810228824615, -7.952502250671387, 6.556713104248047, -13.855522155761719, -5.482686519622803, -1.3230715990066528, 8.826091766357422, 10.435059547424316, -1.8421287536621094, 0.006182792596518993, -5.4171295166015625, -1.3367630243301392, 0.36963340640068054, 0.5567206740379333, -7.69591760635376, 6.647096633911133, -6.98405122756958, -7.8118510246276855, 7.45107364654541, -8.281270980834961, 8.537862777709961, 10.45737075805664, 5.635899543762207, -0.7702974081039429, -9.502028465270996, 8.833022117614746, -2.2626028060913086, 0.5928242802619934, -4.305675983428955, 14.702898979187012, 8.285361289978027, 13.15968132019043, -7.679245948791504, -7.269772052764893, 13.059508323669434, 15.044831275939941, -0.5146552324295044, -3.05202317237854, -7.337252616882324, 11.44457721710205, 10.089401245117188, -4.539981365203857, 10.780139923095703, -1.3418068885803223, 15.556246757507324, -6.102809429168701, -11.028356552124023, 0.13935354351997375, 7.760530948638916, 13.220634460449219, -4.943786144256592, -1.7379300594329834, 1.0535074472427368, -2.2380893230438232, -8.523694038391113, 9.708415985107422, -4.993119716644287, -1.7757656574249268, -6.09171724319458, -9.261609077453613, -1.0373553037643433, 6.254005432128906, -2.8454275131225586, 14.904672622680664, 9.622735977172852, -7.7051005363464355, 7.429369926452637, -7.083520889282227, -3.3200252056121826, -4.8038177490234375, -6.6247968673706055, -6.708696365356445, 9.144411087036133, 13.038493156433105, -6.728222846984863, -6.726818084716797, -4.6105451583862305, -9.165876388549805, 11.53666877746582, 10.086658477783203, 0.12134430557489395, -5.596998691558838, 10.326748847961426, 0.6929880380630493, -2.2879812717437744, 8.938329696655273, -5.806623458862305, 5.309818267822266, 8.89238452911377, -6.659474849700928, -1.2028400897979736, 13.124825477600098, 1.6838147640228271, -6.707045555114746, -9.66346549987793, -8.090425491333008, -9.14071273803711, -9.40993881225586, 13.063122749328613, 13.079204559326172, -1.8971188068389893, -9.344900131225586, 10.114745140075684, -0.24990497529506683, 12.639102935791016, -3.209064245223999, -9.29921817779541, -2.673466205596924, -10.837843894958496, 11.257195472717285, -1.2383438348770142, 8.668587684631348, 10.863691329956055, -4.035027503967285, 11.611367225646973, -7.946186065673828, -8.185901641845703, -7.351112365722656, 10.264089584350586, -6.334468841552734, 12.058318138122559, -5.00310754776001, 0.8187743425369263, -3.9027252197265625, 12.86573600769043, -14.226476669311523, -0.24195359647274017, -5.029195308685303, -4.269912242889404, 6.172903060913086, 7.515689373016357, 13.214707374572754, 16.56475257873535, 7.016369342803955, -4.288695812225342, -3.8861987590789795, -10.159611701965332, 8.578892707824707, 0.20382243394851685, 6.44796085357666, -1.2043530941009521, 6.696824550628662, -0.5964186191558838, 4.61183500289917, 7.4950056076049805, -1.0922505855560303, 12.23151683807373, 8.405346870422363, -6.358786106109619, -3.454310178756714, -5.797870635986328, -7.47347354888916, -1.5821077823638916, -1.0808347463607788, -3.127474784851074, 12.676188468933105, 7.319066524505615, -5.562500953674316, -11.680665969848633, 4.239601135253906, 13.065957069396973, -5.731583595275879, -0.5398953557014465, 1.1234183311462402, 13.481876373291016, -1.4817734956741333, 9.313276290893555, 4.891542434692383, -9.28665828704834, -10.457772254943848, -9.114931106567383, 9.39172077178955, -9.011884689331055, -3.106783866882324, 9.913318634033203, -10.17262077331543, 13.477280616760254, -12.717334747314453, 5.565513610839844, -0.878012478351593, -9.744298934936523, 9.508359909057617, -0.33681145310401917, -3.01442289352417, -1.2949250936508179, -4.524419784545898, 4.720607280731201, 2.285714626312256, 7.2788543701171875, -8.90825080871582, -7.103044509887695, 5.211546421051025, -2.6962881088256836, 13.467912673950195, -9.775161743164062, 15.276196479797363, 0.1683349609375, 14.715069770812988, 9.92065715789795, -8.697697639465332, -13.186430931091309, 5.11292839050293, 1.1822996139526367, -3.4966018199920654, -6.640239715576172, 1.1682108640670776, -7.549392223358154, -9.784029006958008, -0.8047776818275452, -2.2134511470794678, -3.6497108936309814, -5.672811985015869, -1.068704605102539, 8.622957229614258, 14.503754615783691, 7.50460958480835, -3.7520880699157715, -6.794309616088867, 16.43839454650879, -0.286752313375473, -2.2550718784332275, 0.29125645756721497, 13.969375610351562, 7.198439121246338, 8.876567840576172, 9.65107536315918, -8.103036880493164, -6.935667037963867, 0.025706147775053978, -1.4216392040252686, -7.319009780883789, -0.741277813911438, 8.166882514953613, 12.170496940612793, -8.371235847473145, -0.5606634020805359, -3.841770648956299, -3.8160877227783203, -5.600022792816162, -8.355565071105957, 5.3738322257995605, -7.289093017578125, 15.3432035446167, 16.298688888549805, 7.162502288818359, -0.9620685577392578, 6.3820109367370605, -3.2845427989959717, 11.204838752746582, -4.814675331115723, 5.149099826812744]}],\n",
       "                        {\"coloraxis\": {\"colorbar\": {\"title\": {\"text\": \"Label\"}}, \"colorscale\": [[0.0, \"#0d0887\"], [0.1111111111111111, \"#46039f\"], [0.2222222222222222, \"#7201a8\"], [0.3333333333333333, \"#9c179e\"], [0.4444444444444444, \"#bd3786\"], [0.5555555555555556, \"#d8576b\"], [0.6666666666666666, \"#ed7953\"], [0.7777777777777778, \"#fb9f3a\"], [0.8888888888888888, \"#fdca26\"], [1.0, \"#f0f921\"]]}, \"height\": 800, \"legend\": {\"tracegroupgap\": 0}, \"scene\": {\"domain\": {\"x\": [0.0, 1.0], \"y\": [0.0, 1.0]}, \"xaxis\": {\"title\": {\"text\": \"0\"}}, \"yaxis\": {\"title\": {\"text\": \"1\"}}, \"zaxis\": {\"title\": {\"text\": \"2\"}}}, \"template\": {\"data\": {\"bar\": [{\"error_x\": {\"color\": \"#2a3f5f\"}, \"error_y\": {\"color\": \"#2a3f5f\"}, \"marker\": {\"line\": {\"color\": \"#E5ECF6\", \"width\": 0.5}}, \"type\": \"bar\"}], \"barpolar\": [{\"marker\": {\"line\": {\"color\": \"#E5ECF6\", \"width\": 0.5}}, \"type\": \"barpolar\"}], \"carpet\": [{\"aaxis\": {\"endlinecolor\": \"#2a3f5f\", \"gridcolor\": \"white\", \"linecolor\": \"white\", \"minorgridcolor\": \"white\", \"startlinecolor\": \"#2a3f5f\"}, \"baxis\": {\"endlinecolor\": \"#2a3f5f\", \"gridcolor\": \"white\", \"linecolor\": \"white\", \"minorgridcolor\": \"white\", \"startlinecolor\": \"#2a3f5f\"}, \"type\": \"carpet\"}], \"choropleth\": [{\"colorbar\": {\"outlinewidth\": 0, \"ticks\": \"\"}, \"type\": \"choropleth\"}], \"contour\": [{\"colorbar\": {\"outlinewidth\": 0, \"ticks\": \"\"}, \"colorscale\": [[0.0, \"#0d0887\"], [0.1111111111111111, \"#46039f\"], [0.2222222222222222, \"#7201a8\"], [0.3333333333333333, \"#9c179e\"], [0.4444444444444444, \"#bd3786\"], [0.5555555555555556, \"#d8576b\"], [0.6666666666666666, \"#ed7953\"], [0.7777777777777778, \"#fb9f3a\"], [0.8888888888888888, \"#fdca26\"], [1.0, \"#f0f921\"]], \"type\": \"contour\"}], \"contourcarpet\": [{\"colorbar\": {\"outlinewidth\": 0, \"ticks\": \"\"}, \"type\": \"contourcarpet\"}], \"heatmap\": [{\"colorbar\": {\"outlinewidth\": 0, \"ticks\": \"\"}, \"colorscale\": [[0.0, \"#0d0887\"], [0.1111111111111111, \"#46039f\"], [0.2222222222222222, \"#7201a8\"], [0.3333333333333333, \"#9c179e\"], [0.4444444444444444, \"#bd3786\"], [0.5555555555555556, \"#d8576b\"], [0.6666666666666666, \"#ed7953\"], [0.7777777777777778, \"#fb9f3a\"], [0.8888888888888888, \"#fdca26\"], [1.0, \"#f0f921\"]], \"type\": \"heatmap\"}], \"heatmapgl\": [{\"colorbar\": {\"outlinewidth\": 0, \"ticks\": \"\"}, \"colorscale\": [[0.0, \"#0d0887\"], [0.1111111111111111, \"#46039f\"], [0.2222222222222222, \"#7201a8\"], [0.3333333333333333, \"#9c179e\"], [0.4444444444444444, \"#bd3786\"], [0.5555555555555556, \"#d8576b\"], [0.6666666666666666, \"#ed7953\"], [0.7777777777777778, \"#fb9f3a\"], [0.8888888888888888, \"#fdca26\"], [1.0, \"#f0f921\"]], \"type\": \"heatmapgl\"}], \"histogram\": [{\"marker\": {\"colorbar\": {\"outlinewidth\": 0, \"ticks\": \"\"}}, \"type\": \"histogram\"}], \"histogram2d\": [{\"colorbar\": {\"outlinewidth\": 0, \"ticks\": \"\"}, \"colorscale\": [[0.0, \"#0d0887\"], [0.1111111111111111, \"#46039f\"], [0.2222222222222222, \"#7201a8\"], [0.3333333333333333, \"#9c179e\"], [0.4444444444444444, \"#bd3786\"], [0.5555555555555556, \"#d8576b\"], [0.6666666666666666, \"#ed7953\"], [0.7777777777777778, \"#fb9f3a\"], [0.8888888888888888, \"#fdca26\"], [1.0, \"#f0f921\"]], \"type\": \"histogram2d\"}], \"histogram2dcontour\": [{\"colorbar\": {\"outlinewidth\": 0, \"ticks\": \"\"}, \"colorscale\": [[0.0, \"#0d0887\"], [0.1111111111111111, \"#46039f\"], [0.2222222222222222, \"#7201a8\"], [0.3333333333333333, \"#9c179e\"], [0.4444444444444444, \"#bd3786\"], [0.5555555555555556, \"#d8576b\"], [0.6666666666666666, \"#ed7953\"], [0.7777777777777778, \"#fb9f3a\"], [0.8888888888888888, \"#fdca26\"], [1.0, \"#f0f921\"]], \"type\": \"histogram2dcontour\"}], \"mesh3d\": [{\"colorbar\": {\"outlinewidth\": 0, \"ticks\": \"\"}, \"type\": \"mesh3d\"}], \"parcoords\": [{\"line\": {\"colorbar\": {\"outlinewidth\": 0, \"ticks\": \"\"}}, \"type\": \"parcoords\"}], \"pie\": [{\"automargin\": true, \"type\": \"pie\"}], \"scatter\": [{\"marker\": {\"colorbar\": {\"outlinewidth\": 0, \"ticks\": \"\"}}, \"type\": \"scatter\"}], \"scatter3d\": [{\"line\": {\"colorbar\": {\"outlinewidth\": 0, \"ticks\": \"\"}}, \"marker\": {\"colorbar\": {\"outlinewidth\": 0, \"ticks\": \"\"}}, \"type\": \"scatter3d\"}], \"scattercarpet\": [{\"marker\": {\"colorbar\": {\"outlinewidth\": 0, \"ticks\": \"\"}}, \"type\": \"scattercarpet\"}], \"scattergeo\": [{\"marker\": {\"colorbar\": {\"outlinewidth\": 0, \"ticks\": \"\"}}, \"type\": \"scattergeo\"}], \"scattergl\": [{\"marker\": {\"colorbar\": {\"outlinewidth\": 0, \"ticks\": \"\"}}, \"type\": \"scattergl\"}], \"scattermapbox\": [{\"marker\": {\"colorbar\": {\"outlinewidth\": 0, \"ticks\": \"\"}}, \"type\": \"scattermapbox\"}], \"scatterpolar\": [{\"marker\": {\"colorbar\": {\"outlinewidth\": 0, \"ticks\": \"\"}}, \"type\": \"scatterpolar\"}], \"scatterpolargl\": [{\"marker\": {\"colorbar\": {\"outlinewidth\": 0, \"ticks\": \"\"}}, \"type\": \"scatterpolargl\"}], \"scatterternary\": [{\"marker\": {\"colorbar\": {\"outlinewidth\": 0, \"ticks\": \"\"}}, \"type\": \"scatterternary\"}], \"surface\": [{\"colorbar\": {\"outlinewidth\": 0, \"ticks\": \"\"}, \"colorscale\": [[0.0, \"#0d0887\"], [0.1111111111111111, \"#46039f\"], [0.2222222222222222, \"#7201a8\"], [0.3333333333333333, \"#9c179e\"], [0.4444444444444444, \"#bd3786\"], [0.5555555555555556, \"#d8576b\"], [0.6666666666666666, \"#ed7953\"], [0.7777777777777778, \"#fb9f3a\"], [0.8888888888888888, \"#fdca26\"], [1.0, \"#f0f921\"]], \"type\": \"surface\"}], \"table\": [{\"cells\": {\"fill\": {\"color\": \"#EBF0F8\"}, \"line\": {\"color\": \"white\"}}, \"header\": {\"fill\": {\"color\": \"#C8D4E3\"}, \"line\": {\"color\": \"white\"}}, \"type\": \"table\"}]}, \"layout\": {\"annotationdefaults\": {\"arrowcolor\": \"#2a3f5f\", \"arrowhead\": 0, \"arrowwidth\": 1}, \"coloraxis\": {\"colorbar\": {\"outlinewidth\": 0, \"ticks\": \"\"}}, \"colorscale\": {\"diverging\": [[0, \"#8e0152\"], [0.1, \"#c51b7d\"], [0.2, \"#de77ae\"], [0.3, \"#f1b6da\"], [0.4, \"#fde0ef\"], [0.5, \"#f7f7f7\"], [0.6, \"#e6f5d0\"], [0.7, \"#b8e186\"], [0.8, \"#7fbc41\"], [0.9, \"#4d9221\"], [1, \"#276419\"]], \"sequential\": [[0.0, \"#0d0887\"], [0.1111111111111111, \"#46039f\"], [0.2222222222222222, \"#7201a8\"], [0.3333333333333333, \"#9c179e\"], [0.4444444444444444, \"#bd3786\"], [0.5555555555555556, \"#d8576b\"], [0.6666666666666666, \"#ed7953\"], [0.7777777777777778, \"#fb9f3a\"], [0.8888888888888888, \"#fdca26\"], [1.0, \"#f0f921\"]], \"sequentialminus\": [[0.0, \"#0d0887\"], [0.1111111111111111, \"#46039f\"], [0.2222222222222222, \"#7201a8\"], [0.3333333333333333, \"#9c179e\"], [0.4444444444444444, \"#bd3786\"], [0.5555555555555556, \"#d8576b\"], [0.6666666666666666, \"#ed7953\"], [0.7777777777777778, \"#fb9f3a\"], [0.8888888888888888, \"#fdca26\"], [1.0, \"#f0f921\"]]}, \"colorway\": [\"#636efa\", \"#EF553B\", \"#00cc96\", \"#ab63fa\", \"#FFA15A\", \"#19d3f3\", \"#FF6692\", \"#B6E880\", \"#FF97FF\", \"#FECB52\"], \"font\": {\"color\": \"#2a3f5f\"}, \"geo\": {\"bgcolor\": \"white\", \"lakecolor\": \"white\", \"landcolor\": \"#E5ECF6\", \"showlakes\": true, \"showland\": true, \"subunitcolor\": \"white\"}, \"hoverlabel\": {\"align\": \"left\"}, \"hovermode\": \"closest\", \"mapbox\": {\"style\": \"light\"}, \"paper_bgcolor\": \"white\", \"plot_bgcolor\": \"#E5ECF6\", \"polar\": {\"angularaxis\": {\"gridcolor\": \"white\", \"linecolor\": \"white\", \"ticks\": \"\"}, \"bgcolor\": \"#E5ECF6\", \"radialaxis\": {\"gridcolor\": \"white\", \"linecolor\": \"white\", \"ticks\": \"\"}}, \"scene\": {\"xaxis\": {\"backgroundcolor\": \"#E5ECF6\", \"gridcolor\": \"white\", \"gridwidth\": 2, \"linecolor\": \"white\", \"showbackground\": true, \"ticks\": \"\", \"zerolinecolor\": \"white\"}, \"yaxis\": {\"backgroundcolor\": \"#E5ECF6\", \"gridcolor\": \"white\", \"gridwidth\": 2, \"linecolor\": \"white\", \"showbackground\": true, \"ticks\": \"\", \"zerolinecolor\": \"white\"}, \"zaxis\": {\"backgroundcolor\": \"#E5ECF6\", \"gridcolor\": \"white\", \"gridwidth\": 2, \"linecolor\": \"white\", \"showbackground\": true, \"ticks\": \"\", \"zerolinecolor\": \"white\"}}, \"shapedefaults\": {\"line\": {\"color\": \"#2a3f5f\"}}, \"ternary\": {\"aaxis\": {\"gridcolor\": \"white\", \"linecolor\": \"white\", \"ticks\": \"\"}, \"baxis\": {\"gridcolor\": \"white\", \"linecolor\": \"white\", \"ticks\": \"\"}, \"bgcolor\": \"#E5ECF6\", \"caxis\": {\"gridcolor\": \"white\", \"linecolor\": \"white\", \"ticks\": \"\"}}, \"title\": {\"x\": 0.05}, \"xaxis\": {\"automargin\": true, \"gridcolor\": \"white\", \"linecolor\": \"white\", \"ticks\": \"\", \"title\": {\"standoff\": 15}, \"zerolinecolor\": \"white\", \"zerolinewidth\": 2}, \"yaxis\": {\"automargin\": true, \"gridcolor\": \"white\", \"linecolor\": \"white\", \"ticks\": \"\", \"title\": {\"standoff\": 15}, \"zerolinecolor\": \"white\", \"zerolinewidth\": 2}}}, \"title\": {\"text\": \"3d TSNE Plot for Outliers\"}, \"width\": 900},\n",
       "                        {\"responsive\": true}\n",
       "                    ).then(function(){\n",
       "                            \n",
       "var gd = document.getElementById('5f0ed837-eb30-44e3-9b4b-9e4d2ebb7d0d');\n",
       "var x = new MutationObserver(function (mutations, observer) {{\n",
       "        var display = window.getComputedStyle(gd).display;\n",
       "        if (!display || display === 'none') {{\n",
       "            console.log([gd, 'removed!']);\n",
       "            Plotly.purge(gd);\n",
       "            observer.disconnect();\n",
       "        }}\n",
       "}});\n",
       "\n",
       "// Listen for the removal of the full notebook cells\n",
       "var notebookContainer = gd.closest('#notebook-container');\n",
       "if (notebookContainer) {{\n",
       "    x.observe(notebookContainer, {childList: true});\n",
       "}}\n",
       "\n",
       "// Listen for the clearing of the current output cell\n",
       "var outputEl = gd.closest('.output');\n",
       "if (outputEl) {{\n",
       "    x.observe(outputEl, {childList: true});\n",
       "}}\n",
       "\n",
       "                        })\n",
       "                };\n",
       "                });\n",
       "            </script>\n",
       "        </div>"
      ]
     },
     "metadata": {},
     "output_type": "display_data"
    }
   ],
   "source": [
    "# instantiating isolation forest model\n",
    "iforest = create_model(\"iforest\")\n",
    "\n",
    "# plotting the data using iforest\n",
    "plot_model(iforest)"
   ]
  },
  {
   "cell_type": "markdown",
   "metadata": {},
   "source": [
    "The Yellow Points are the Anomaly Points based on the Isolation Forest Anomaly Detection Technique. "
   ]
  },
  {
   "cell_type": "markdown",
   "metadata": {},
   "source": [
    "### K Nearest Neighbor"
   ]
  },
  {
   "cell_type": "code",
   "execution_count": 6,
   "metadata": {},
   "outputs": [
    {
     "data": {
      "text/html": [
       "        <script type=\"text/javascript\">\n",
       "        window.PlotlyConfig = {MathJaxConfig: 'local'};\n",
       "        if (window.MathJax) {MathJax.Hub.Config({SVG: {font: \"STIX-Web\"}});}\n",
       "        if (typeof require !== 'undefined') {\n",
       "        require.undef(\"plotly\");\n",
       "        requirejs.config({\n",
       "            paths: {\n",
       "                'plotly': ['https://cdn.plot.ly/plotly-latest.min']\n",
       "            }\n",
       "        });\n",
       "        require(['plotly'], function(Plotly) {\n",
       "            window._Plotly = Plotly;\n",
       "        });\n",
       "        }\n",
       "        </script>\n",
       "        "
      ]
     },
     "metadata": {},
     "output_type": "display_data"
    },
    {
     "data": {
      "application/vnd.plotly.v1+json": {
       "config": {
        "plotlyServerURL": "https://plot.ly"
       },
       "data": [
        {
         "customdata": [
          [
           0.263995357
          ],
          [
           0.546092303
          ],
          [
           0.33671410399999996
          ],
          [
           0.092107835
          ],
          [
           0.325261175
          ],
          [
           0.212464853
          ],
          [
           0.258565714
          ],
          [
           0.869236755
          ],
          [
           0.197077957
          ],
          [
           0.292984504
          ],
          [
           0.82178316
          ],
          [
           0.796622959
          ],
          [
           0.045577010999999994
          ],
          [
           0.613660351
          ],
          [
           0.9507445659999999
          ],
          [
           0.33634633700000005
          ],
          [
           0.034440667
          ],
          [
           0.741544275
          ],
          [
           0.18443265
          ],
          [
           0.664514943
          ],
          [
           0.16282485800000002
          ],
          [
           0.729838445
          ],
          [
           0.62837389
          ],
          [
           0.057883660999999996
          ],
          [
           0.445534827
          ],
          [
           0.80183695
          ],
          [
           0.27709612
          ],
          [
           0.228634015
          ],
          [
           0.834860657
          ],
          [
           0.6697665110000001
          ],
          [
           0.532527349
          ],
          [
           0.17045907100000002
          ],
          [
           0.5102884679999999
          ],
          [
           0.977561989
          ],
          [
           0.249775993
          ],
          [
           0.9755006820000001
          ],
          [
           0.613701727
          ],
          [
           0.16742036300000002
          ],
          [
           0.537472516
          ],
          [
           0.379899131
          ],
          [
           0.633897303
          ],
          [
           0.633960424
          ],
          [
           0.5499746529999999
          ],
          [
           0.178172988
          ],
          [
           0.85563814
          ],
          [
           0.321796672
          ],
          [
           0.8174905370000001
          ],
          [
           0.254879417
          ],
          [
           0.344140513
          ],
          [
           0.8061457259999999
          ],
          [
           0.27708167100000003
          ],
          [
           0.544328519
          ],
          [
           0.07708393
          ],
          [
           0.273081458
          ],
          [
           0.390877336
          ],
          [
           0.349621385
          ],
          [
           0.214549744
          ],
          [
           0.206075222
          ],
          [
           0.86461997
          ],
          [
           0.9817088540000001
          ],
          [
           0.33482964600000004
          ],
          [
           0.648387061
          ],
          [
           0.093643561
          ],
          [
           0.837802698
          ],
          [
           0.7603439670000001
          ],
          [
           0.29140417399999996
          ],
          [
           0.3413454
          ],
          [
           0.7611124840000001
          ],
          [
           0.541899775
          ],
          [
           0.684176639
          ],
          [
           0.983535597
          ],
          [
           0.52081245
          ],
          [
           0.328227724
          ],
          [
           0.09715793800000001
          ],
          [
           0.876088593
          ],
          [
           0.870214512
          ],
          [
           0.656086992
          ],
          [
           0.306791514
          ],
          [
           0.48126734
          ],
          [
           0.259559174
          ],
          [
           0.326123655
          ],
          [
           0.930568042
          ],
          [
           0.6583894
          ],
          [
           0.689992335
          ],
          [
           0.315781109
          ],
          [
           0.5669050929999999
          ],
          [
           0.637526619
          ],
          [
           0.687540723
          ],
          [
           0.324300602
          ],
          [
           0.592704906
          ],
          [
           0.7402531259999999
          ],
          [
           0.5940328770000001
          ],
          [
           0.596452977
          ],
          [
           0.27768081699999997
          ],
          [
           0.258329663
          ],
          [
           0.142460864
          ],
          [
           0.435533461
          ],
          [
           0.7024990440000001
          ],
          [
           0.58897535
          ],
          [
           0.653304374
          ],
          [
           0.336968524
          ],
          [
           0.631244736
          ],
          [
           0.73530076
          ],
          [
           0.050390366
          ],
          [
           0.064264924
          ],
          [
           0.665359476
          ],
          [
           0.917835245
          ],
          [
           0.44651012
          ],
          [
           0.661938199
          ],
          [
           0.43935985299999997
          ],
          [
           0.6875724040000001
          ],
          [
           0.363462248
          ],
          [
           0.6542621820000001
          ],
          [
           0.578553536
          ],
          [
           0.065927945
          ],
          [
           0.550148559
          ],
          [
           0.13918281400000002
          ],
          [
           0.080004635
          ],
          [
           0.278228358
          ],
          [
           0.560124266
          ],
          [
           0.53639864
          ],
          [
           0.42653190399999996
          ],
          [
           0.789109796
          ],
          [
           0.742900474
          ],
          [
           0.901692589
          ],
          [
           0.650337401
          ],
          [
           0.114057311
          ],
          [
           0.260812592
          ],
          [
           0.43991232
          ],
          [
           0.964409284
          ],
          [
           0.184401415
          ],
          [
           0.345145446
          ],
          [
           0.17589458100000002
          ],
          [
           0.312514453
          ],
          [
           0.674131879
          ],
          [
           0.32825045
          ],
          [
           0.598231057
          ],
          [
           0.09259881699999999
          ],
          [
           0.497916521
          ],
          [
           0.419776521
          ],
          [
           0.31217670000000003
          ],
          [
           0.937857107
          ],
          [
           0.049030963
          ],
          [
           0.47610452600000003
          ],
          [
           0.447397526
          ],
          [
           0.295806058
          ],
          [
           0.737363977
          ],
          [
           0.625896253
          ],
          [
           0.408813429
          ],
          [
           0.437511156
          ],
          [
           0.691351375
          ],
          [
           0.935555275
          ],
          [
           0.437846654
          ],
          [
           0.072217715
          ],
          [
           0.67636067
          ],
          [
           0.468883999
          ],
          [
           0.543820644
          ],
          [
           0.6555226470000001
          ],
          [
           0.6935289240000001
          ],
          [
           0.10887831199999999
          ],
          [
           0.285463743
          ],
          [
           0
          ],
          [
           0.706495497
          ],
          [
           0.273530633
          ],
          [
           0.292320271
          ],
          [
           0.673984307
          ],
          [
           0.12612182800000002
          ],
          [
           0.9467074590000001
          ],
          [
           0.9363388979999999
          ],
          [
           0.8537553640000001
          ],
          [
           0.7060713609999999
          ],
          [
           0.693682186
          ],
          [
           0.508527882
          ],
          [
           0.34717038899999997
          ],
          [
           0.704154263
          ],
          [
           0.658730088
          ],
          [
           0.155841557
          ],
          [
           0.311085435
          ],
          [
           0.281135347
          ],
          [
           0.094587802
          ],
          [
           0.6832609540000001
          ],
          [
           0.9077292509999999
          ],
          [
           0.29151267399999997
          ],
          [
           0.752734459
          ],
          [
           0.93482964
          ],
          [
           0.071413953
          ],
          [
           0.5948963270000001
          ],
          [
           0.404672015
          ],
          [
           0.13837621
          ],
          [
           0.7473384679999999
          ],
          [
           0.530882486
          ],
          [
           0.282649594
          ],
          [
           0.699335734
          ],
          [
           0.056111250999999994
          ],
          [
           0.855234998
          ],
          [
           0.07789512700000001
          ],
          [
           0.891649583
          ],
          [
           0.38674227899999997
          ],
          [
           0.27113158
          ],
          [
           0.958888961
          ],
          [
           0.085120869
          ],
          [
           0.5269022489999999
          ],
          [
           0.066577785
          ],
          [
           0.841506738
          ],
          [
           0.255342095
          ],
          [
           0.060545771
          ],
          [
           0.073385869
          ],
          [
           0.187493723
          ],
          [
           0.858365688
          ],
          [
           0.090640352
          ],
          [
           0.7097252270000001
          ],
          [
           0.631300647
          ],
          [
           0.24750447399999997
          ],
          [
           0.822843584
          ],
          [
           0.373476759
          ],
          [
           0.625538582
          ],
          [
           0.292951715
          ],
          [
           0.299730324
          ],
          [
           0.25121407
          ],
          [
           0.344480551
          ],
          [
           0.293064767
          ],
          [
           0.7628032240000001
          ],
          [
           0.7384708040000001
          ],
          [
           0.674883265
          ],
          [
           0.719151612
          ],
          [
           0.13098021599999998
          ],
          [
           0.511328036
          ],
          [
           0.04492903
          ],
          [
           0.560914449
          ],
          [
           0.7440406409999999
          ],
          [
           0.266961634
          ],
          [
           0.644231853
          ],
          [
           0.038113352
          ],
          [
           0.05715529900000001
          ],
          [
           0.34139246100000004
          ],
          [
           0.7204636320000001
          ],
          [
           0.402878236
          ],
          [
           0.635148967
          ],
          [
           0.320729467
          ],
          [
           0.09120969400000001
          ],
          [
           0.23414609
          ],
          [
           0.8902211309999999
          ],
          [
           0.602170884
          ],
          [
           0.633652055
          ],
          [
           0.806240837
          ],
          [
           0.739731184
          ],
          [
           0.465231269
          ],
          [
           0.7321109
          ],
          [
           0.373874305
          ],
          [
           0.501587947
          ],
          [
           0.11538315800000001
          ],
          [
           0.7319466040000001
          ],
          [
           0.41829872799999995
          ],
          [
           0.062259590999999996
          ],
          [
           0.391496379
          ],
          [
           0.35984929
          ],
          [
           0.24523562699999998
          ],
          [
           0.610028339
          ],
          [
           0.43540360200000006
          ],
          [
           0.434309675
          ],
          [
           0.523763344
          ],
          [
           0.17118786600000002
          ],
          [
           0.18773430300000002
          ],
          [
           0.945014638
          ],
          [
           0.027851097000000002
          ],
          [
           0.68445706
          ],
          [
           0.178014532
          ],
          [
           0.643427879
          ],
          [
           0.59588355
          ],
          [
           0.372361682
          ],
          [
           0.586103584
          ],
          [
           0.271658852
          ],
          [
           0.59951107
          ],
          [
           0.468363088
          ],
          [
           0.314515565
          ],
          [
           0.21893726
          ],
          [
           0.254716562
          ],
          [
           0.25612815
          ],
          [
           0.602259755
          ],
          [
           0.134381075
          ],
          [
           0.513887424
          ],
          [
           0.624241636
          ],
          [
           0.160251854
          ],
          [
           0.580708108
          ],
          [
           0.270540486
          ],
          [
           0.832919932
          ],
          [
           0.93032134
          ],
          [
           0.719157884
          ],
          [
           0.886720033
          ],
          [
           0.098792281
          ],
          [
           0.787174286
          ],
          [
           0.365592376
          ],
          [
           0.719576193
          ],
          [
           0.8058956
          ],
          [
           0.7555783340000001
          ],
          [
           0.526005909
          ],
          [
           0.68880424
          ],
          [
           0.22111531199999998
          ],
          [
           0.739369477
          ],
          [
           0.408440236
          ],
          [
           0.348926542
          ],
          [
           0.433713763
          ],
          [
           0.5964966070000001
          ],
          [
           0.6942953000000001
          ],
          [
           0.7090309659999999
          ],
          [
           0.867652984
          ],
          [
           0.89332545
          ],
          [
           0.746020922
          ],
          [
           0.538284443
          ],
          [
           0.8922193140000001
          ],
          [
           0.935175765
          ],
          [
           0.260527707
          ],
          [
           0.956780449
          ],
          [
           0.204932484
          ],
          [
           0.687733351
          ],
          [
           0.329063619
          ],
          [
           0.632149831
          ],
          [
           0.463744506
          ],
          [
           0.698859621
          ],
          [
           0.385446564
          ],
          [
           0.47997537700000004
          ],
          [
           0.732279108
          ],
          [
           0.3813543
          ],
          [
           0.459326013
          ],
          [
           0.257401434
          ],
          [
           0.665014804
          ],
          [
           0.103399542
          ],
          [
           0.425284413
          ],
          [
           0.943529051
          ],
          [
           0.594750236
          ],
          [
           0.543776817
          ],
          [
           0.18203988
          ],
          [
           0.23584208399999998
          ],
          [
           0.585984497
          ],
          [
           0.762013168
          ],
          [
           0.6849829070000001
          ],
          [
           0.676936933
          ],
          [
           0.290184964
          ],
          [
           0.48106822200000005
          ],
          [
           0.492766033
          ],
          [
           0.22185623399999999
          ],
          [
           0.053875998
          ],
          [
           0.082751144
          ],
          [
           0.385366225
          ],
          [
           0.702513961
          ],
          [
           0.91553156
          ],
          [
           0.082087436
          ],
          [
           0.251280378
          ],
          [
           0.41672181700000005
          ],
          [
           0.277032672
          ],
          [
           0.579539754
          ],
          [
           0.569363476
          ],
          [
           0.133399703
          ],
          [
           0.265045463
          ],
          [
           0.936571901
          ],
          [
           0.252618554
          ],
          [
           0.054033081
          ],
          [
           0.802481439
          ],
          [
           0.528197693
          ],
          [
           0.9515026
          ],
          [
           0.572121173
          ],
          [
           0.752938227
          ],
          [
           0.143857535
          ],
          [
           0.513484576
          ],
          [
           0.313322389
          ],
          [
           0.6877973959999999
          ],
          [
           0.37705984
          ],
          [
           0.348226142
          ],
          [
           0.67763282
          ],
          [
           0.24138752100000002
          ],
          [
           0.8506501790000001
          ],
          [
           0.22034810300000002
          ],
          [
           0.476445464
          ],
          [
           0.690324025
          ],
          [
           0.364695946
          ],
          [
           0.6492491970000001
          ],
          [
           0.9437019209999999
          ],
          [
           0.529645971
          ],
          [
           0.299097002
          ],
          [
           0.96696247
          ],
          [
           0.272005242
          ],
          [
           0.314161447
          ],
          [
           0.752020991
          ],
          [
           0.221882453
          ],
          [
           0.7203326729999999
          ],
          [
           0.379204782
          ],
          [
           0.60168653
          ],
          [
           0.582932673
          ],
          [
           0.950809853
          ],
          [
           0.58830141
          ],
          [
           0.880887227
          ],
          [
           0.467857701
          ],
          [
           0.8799021709999999
          ],
          [
           0.619844009
          ],
          [
           0.359002573
          ],
          [
           0.291511278
          ],
          [
           0.694157143
          ],
          [
           0.727960353
          ],
          [
           0.617703921
          ],
          [
           0.39581257
          ],
          [
           0.58317282
          ],
          [
           0.710332374
          ],
          [
           0.253753693
          ],
          [
           0.049412227999999996
          ],
          [
           0.728378695
          ],
          [
           0.432432881
          ],
          [
           0.58612345
          ],
          [
           0.052342373
          ],
          [
           0.053483902
          ],
          [
           0.518729378
          ],
          [
           0.933040208
          ],
          [
           0.7035542840000001
          ],
          [
           0.268989899
          ],
          [
           0.733006927
          ],
          [
           0.44435246700000003
          ],
          [
           0.5833946210000001
          ],
          [
           0.871172692
          ],
          [
           0.42876707799999997
          ],
          [
           0.30046084100000003
          ],
          [
           0.9533294590000001
          ],
          [
           0.606443965
          ],
          [
           0.90986815
          ],
          [
           0.714896449
          ],
          [
           0.49734950899999997
          ],
          [
           0.8530974859999999
          ],
          [
           0.721804145
          ],
          [
           0.303467328
          ],
          [
           0.664485096
          ],
          [
           0.27978062
          ],
          [
           0.569481665
          ],
          [
           0.628628926
          ],
          [
           0.088368123
          ],
          [
           0.733567326
          ],
          [
           0.537436778
          ],
          [
           0.638593691
          ],
          [
           0.954726948
          ],
          [
           0.632202332
          ],
          [
           0.642134651
          ],
          [
           0.744653087
          ],
          [
           0.115714007
          ],
          [
           0.48625007299999995
          ],
          [
           0.440356144
          ],
          [
           0.08272289
          ],
          [
           0.511591027
          ],
          [
           0.394627555
          ],
          [
           0.224394
          ],
          [
           0.626927584
          ],
          [
           0.290254057
          ],
          [
           0.779008053
          ],
          [
           0.86610579
          ],
          [
           0.873326081
          ],
          [
           0.49548916
          ],
          [
           0.594297695
          ],
          [
           0.9182015840000001
          ],
          [
           0.5770427539999999
          ],
          [
           0.019467671000000002
          ],
          [
           0.6702982820000001
          ],
          [
           0.546595316
          ],
          [
           0.591665146
          ],
          [
           0.42155819
          ],
          [
           0.6856085590000001
          ],
          [
           0.340303024
          ],
          [
           0.675626741
          ],
          [
           0.319067345
          ],
          [
           0.38849966399999997
          ],
          [
           0.706949589
          ],
          [
           0.559409515
          ],
          [
           0.687663508
          ],
          [
           0.7088045540000001
          ],
          [
           0.6818880940000001
          ],
          [
           0.42253510899999996
          ],
          [
           0.320004605
          ],
          [
           0.6582813679999999
          ],
          [
           0.634154867
          ],
          [
           0.7773320090000001
          ],
          [
           0.812677205
          ],
          [
           0.074280797
          ],
          [
           0.39600217
          ],
          [
           0.054933913
          ],
          [
           0.825058925
          ],
          [
           0.382642009
          ],
          [
           0.8687298179999999
          ],
          [
           0.588043346
          ],
          [
           0.891551577
          ],
          [
           0.10920046
          ],
          [
           0.647682781
          ],
          [
           0.724342512
          ],
          [
           0.07016304400000001
          ],
          [
           0.280882054
          ],
          [
           0.039113261
          ],
          [
           0.579641592
          ],
          [
           0.639000922
          ],
          [
           0.281745925
          ],
          [
           0.647857744
          ],
          [
           0.6479057970000001
          ],
          [
           0.875226264
          ],
          [
           0.567603305
          ],
          [
           0.262940591
          ],
          [
           0.268026042
          ],
          [
           0.40519133
          ],
          [
           0.479965451
          ],
          [
           0.33552403
          ],
          [
           0.777165379
          ],
          [
           0.42548796299999997
          ],
          [
           0.237986115
          ],
          [
           0.142522971
          ],
          [
           0.724176488
          ],
          [
           0.234698933
          ],
          [
           0.07818228099999999
          ],
          [
           0.855990155
          ],
          [
           0.270251765
          ],
          [
           0.435517841
          ],
          [
           0.762697513
          ],
          [
           0.46448725799999996
          ],
          [
           0.396112685
          ],
          [
           0.37638092100000003
          ],
          [
           0.29459467699999997
          ],
          [
           0.6944921209999999
          ],
          [
           0.622767949
          ],
          [
           0.8475597220000001
          ],
          [
           0.301463054
          ],
          [
           0.912937812
          ],
          [
           0.500017182
          ],
          [
           0.902587935
          ],
          [
           0.304517943
          ],
          [
           0.299165673
          ],
          [
           0.092014087
          ],
          [
           0.488548917
          ],
          [
           0.664664437
          ],
          [
           0.26534954899999996
          ],
          [
           0.723657021
          ],
          [
           0.149262385
          ],
          [
           0.04577339
          ],
          [
           0.69661064
          ],
          [
           0.42181486
          ],
          [
           0.733845785
          ],
          [
           0.418795386
          ],
          [
           0.677443529
          ],
          [
           0.26128360300000003
          ],
          [
           0.268527767
          ],
          [
           0.5443222360000001
          ],
          [
           0.431632036
          ],
          [
           0.981018141
          ],
          [
           0.21498072399999998
          ],
          [
           0.39472999299999995
          ],
          [
           0.122224944
          ],
          [
           0.297496875
          ],
          [
           0.37490443100000004
          ],
          [
           0.68698771
          ],
          [
           0.388549207
          ],
          [
           0.039296071
          ],
          [
           0.73553424
          ],
          [
           0.37929489299999997
          ],
          [
           0.7321233859999999
          ],
          [
           0.33922143899999996
          ],
          [
           0.659450594
          ],
          [
           0.054838642
          ],
          [
           0.640112102
          ],
          [
           0.30714170399999996
          ],
          [
           0.39661190700000004
          ],
          [
           0.420439161
          ],
          [
           0.24171497399999997
          ],
          [
           0.065893153
          ],
          [
           0.9105219370000001
          ],
          [
           0.697163103
          ],
          [
           0.072559853
          ],
          [
           0.81825094
          ],
          [
           0.311888815
          ],
          [
           0.961644609
          ],
          [
           0.816325524
          ],
          [
           0.14647302
          ],
          [
           0.548753945
          ],
          [
           0.946158087
          ],
          [
           0.293992717
          ],
          [
           0.331479643
          ],
          [
           0.9062200309999999
          ],
          [
           0.525540416
          ],
          [
           0.83301411
          ],
          [
           0.514849806
          ],
          [
           0.574609024
          ],
          [
           0.46871185299999996
          ],
          [
           0.71002775
          ],
          [
           0.645973276
          ],
          [
           0.229794416
          ],
          [
           0.551783393
          ],
          [
           0.055822990999999995
          ],
          [
           0.331750941
          ],
          [
           0.715520198
          ],
          [
           0.583924357
          ],
          [
           0.30695769100000003
          ],
          [
           0.7914782370000001
          ],
          [
           0.16423663900000002
          ],
          [
           0.065711219
          ],
          [
           0.948993132
          ],
          [
           0.080423835
          ],
          [
           0.052495426
          ],
          [
           0.566346135
          ],
          [
           0.3630266
          ],
          [
           0.605442195
          ],
          [
           0.6308505839999999
          ],
          [
           0.065791238
          ],
          [
           0.28681707100000003
          ],
          [
           0.685462839
          ],
          [
           0.260853706
          ],
          [
           0.659122429
          ],
          [
           0.44317392200000005
          ],
          [
           0.602063986
          ],
          [
           0.060366910999999995
          ],
          [
           0.781903153
          ],
          [
           0.5145798070000001
          ],
          [
           0.48388621299999995
          ],
          [
           0.600213807
          ],
          [
           0.49736405200000006
          ],
          [
           0.411145245
          ],
          [
           0.116999171
          ],
          [
           0.34189014100000004
          ],
          [
           0.746950848
          ],
          [
           0.39629274600000003
          ],
          [
           0.6221438429999999
          ],
          [
           0.335271141
          ],
          [
           0.140257137
          ],
          [
           0.081620681
          ],
          [
           0.069837569
          ],
          [
           0.46894000799999996
          ],
          [
           0.9908574170000001
          ],
          [
           0.896616832
          ],
          [
           0.255310561
          ],
          [
           0.22464526699999998
          ],
          [
           0.01991825
          ],
          [
           0.296480415
          ],
          [
           0.155458996
          ],
          [
           0.577916714
          ],
          [
           0.9563030309999999
          ],
          [
           0.813464394
          ],
          [
           0.529675785
          ],
          [
           0.287671353
          ],
          [
           0.48039136
          ],
          [
           0.28104482199999997
          ],
          [
           0.633196521
          ],
          [
           0.09332537699999999
          ],
          [
           0.28447398100000004
          ],
          [
           0.052223775
          ],
          [
           0.051129385
          ],
          [
           0.967405608
          ],
          [
           0.040045727999999996
          ],
          [
           0.9085829209999999
          ],
          [
           0.6621174160000001
          ],
          [
           0.42470320899999997
          ],
          [
           0.72207806
          ],
          [
           0.666193327
          ],
          [
           0.509681253
          ],
          [
           0.7513536209999999
          ],
          [
           0.279073124
          ],
          [
           0.074927
          ],
          [
           0.916359535
          ],
          [
           0.31040327
          ],
          [
           0.716604052
          ],
          [
           0.485587085
          ],
          [
           0.30607518100000003
          ],
          [
           0.477558204
          ],
          [
           0.7119239409999999
          ],
          [
           0.066348638
          ],
          [
           0.27453935100000004
          ],
          [
           0.31082252
          ],
          [
           0.47607312700000004
          ],
          [
           0.186795565
          ],
          [
           0.26654207
          ],
          [
           0.070231142
          ],
          [
           0.26951927
          ],
          [
           0.800004713
          ],
          [
           0.27363366699999997
          ],
          [
           0.14647919199999998
          ],
          [
           0.378318951
          ],
          [
           0.373849065
          ],
          [
           0.242170835
          ],
          [
           0.249796488
          ],
          [
           0.066591188
          ],
          [
           0.372956798
          ],
          [
           0.501812291
          ],
          [
           0.313097752
          ],
          [
           0.8802021959999999
          ],
          [
           0.51981893
          ],
          [
           0.364138746
          ],
          [
           0.49268289600000004
          ],
          [
           0.285732652
          ],
          [
           0.890114985
          ],
          [
           0.316419561
          ],
          [
           0.26866354
          ],
          [
           0.771975959
          ],
          [
           0.968888992
          ],
          [
           0.080334377
          ],
          [
           0.7368282209999999
          ],
          [
           0.30055807100000004
          ],
          [
           0.9179503929999999
          ],
          [
           0.465815039
          ],
          [
           0.054036682
          ],
          [
           0.963150123
          ],
          [
           0.08965350300000001
          ],
          [
           0.7076932340000001
          ],
          [
           0.636416037
          ],
          [
           0.539521117
          ],
          [
           0.114757161
          ],
          [
           0.357312419
          ],
          [
           0.67639834
          ],
          [
           0.43482839
          ],
          [
           0.032326387000000005
          ],
          [
           0.711365605
          ],
          [
           0.187486519
          ],
          [
           0.052789653
          ],
          [
           0.5058636129999999
          ],
          [
           0.927431873
          ],
          [
           0.6809842559999999
          ],
          [
           0.882822186
          ],
          [
           0.495705441
          ],
          [
           0.596240398
          ],
          [
           0.320610701
          ],
          [
           0.3413685
          ],
          [
           0.159681797
          ],
          [
           0.318133669
          ],
          [
           0.8393010479999999
          ],
          [
           0.06435925099999999
          ],
          [
           0.470216633
          ],
          [
           0.7762522909999999
          ],
          [
           0.635843383
          ],
          [
           0.62510543
          ],
          [
           0.52959065
          ],
          [
           0.986900166
          ],
          [
           0.078585688
          ],
          [
           0.233284267
          ],
          [
           0.363330957
          ],
          [
           0.7167169809999999
          ],
          [
           0.37588979200000006
          ],
          [
           0.223316889
          ],
          [
           0.299343986
          ],
          [
           0.538595767
          ],
          [
           0.730297124
          ],
          [
           0.66033077
          ],
          [
           0.435296009
          ],
          [
           0.326494313
          ],
          [
           0.854402708
          ],
          [
           0.5734938470000001
          ],
          [
           0.757786135
          ],
          [
           0.704743233
          ],
          [
           0.281575597
          ],
          [
           0.671968208
          ],
          [
           0.313726015
          ],
          [
           0.364338275
          ],
          [
           0.368216396
          ],
          [
           0.38629520700000003
          ],
          [
           0.655971865
          ],
          [
           0.5660252729999999
          ],
          [
           0.424999093
          ],
          [
           0.090110371
          ],
          [
           0.772350538
          ],
          [
           0.331047258
          ],
          [
           0.273716188
          ],
          [
           0.23877568
          ],
          [
           0.37307977200000003
          ],
          [
           0.331185868
          ],
          [
           0.256134531
          ],
          [
           0.678373225
          ],
          [
           0.43463833799999996
          ],
          [
           0.654668307
          ],
          [
           0.986681065
          ],
          [
           0.371520495
          ],
          [
           0.408359618
          ],
          [
           0.40932365
          ],
          [
           0.283412082
          ],
          [
           0.395246531
          ],
          [
           0.010984428000000001
          ],
          [
           0.306013869
          ],
          [
           0.266194806
          ],
          [
           0.299318521
          ],
          [
           0.318293946
          ],
          [
           0.74282591
          ],
          [
           0.09766432900000001
          ],
          [
           0.079666942
          ],
          [
           0.613258767
          ],
          [
           0.99443072
          ],
          [
           0.568835082
          ],
          [
           0.7080345159999999
          ],
          [
           0.37059271899999996
          ],
          [
           0.669867361
          ],
          [
           0.651295625
          ],
          [
           0.462531569
          ],
          [
           0.7196256190000001
          ],
          [
           0.45377248
          ],
          [
           0.394863946
          ],
          [
           0.323974831
          ],
          [
           0.146454724
          ],
          [
           0.7790670409999999
          ],
          [
           0.401828915
          ],
          [
           0.601479585
          ],
          [
           0.856423023
          ],
          [
           0.565242962
          ],
          [
           0.301225108
          ],
          [
           0.282108144
          ],
          [
           0.594378011
          ],
          [
           0.705312368
          ],
          [
           0.5408696279999999
          ],
          [
           0.319249574
          ],
          [
           0.36176613799999996
          ],
          [
           0.625000704
          ],
          [
           0.316287401
          ],
          [
           0.047239021
          ],
          [
           0.801182233
          ],
          [
           0.508474436
          ],
          [
           0.8178934109999999
          ],
          [
           0.399235601
          ],
          [
           0.9740519990000001
          ],
          [
           0.72241535
          ],
          [
           0.039564764
          ],
          [
           0.908684108
          ],
          [
           0.47301013399999997
          ],
          [
           0.7180496279999999
          ],
          [
           0.7634790690000001
          ],
          [
           0.6475965370000001
          ],
          [
           0.8949973859999999
          ],
          [
           0.22282590100000002
          ],
          [
           0.359012234
          ],
          [
           0.944910252
          ],
          [
           0.297877816
          ],
          [
           0.172517997
          ],
          [
           0.556586265
          ],
          [
           0.876481735
          ],
          [
           0.48667784299999994
          ],
          [
           0.459496733
          ],
          [
           0.47412637700000004
          ],
          [
           0.70101144
          ],
          [
           0.337597387
          ],
          [
           0.537578886
          ],
          [
           0.966992448
          ],
          [
           0.056849545
          ],
          [
           0.233249065
          ],
          [
           0.380054711
          ],
          [
           0.602929443
          ],
          [
           0.303847999
          ],
          [
           0.170194553
          ],
          [
           0.972168554
          ],
          [
           0.332168927
          ],
          [
           0.6887286890000001
          ],
          [
           0.110773401
          ],
          [
           0.273352065
          ],
          [
           0.572939678
          ],
          [
           0.491457065
          ],
          [
           0.281389999
          ],
          [
           0.821697261
          ],
          [
           0.6749776829999999
          ],
          [
           0.585134549
          ],
          [
           0.7105961159999999
          ],
          [
           0.040488789
          ],
          [
           0.568054311
          ],
          [
           0.321752928
          ],
          [
           0.611850232
          ],
          [
           0.926096887
          ],
          [
           0.618347428
          ],
          [
           0.667629785
          ],
          [
           0.39773346600000004
          ],
          [
           0.290875487
          ],
          [
           0.594375103
          ],
          [
           0.508255233
          ],
          [
           0.338571357
          ],
          [
           0.43230234700000003
          ],
          [
           0.302221978
          ],
          [
           0.87619819
          ],
          [
           0.080204492
          ],
          [
           0.092333532
          ],
          [
           0.09365644699999999
          ],
          [
           0.6084523510000001
          ],
          [
           0.732654598
          ],
          [
           0.944158855
          ],
          [
           0.26742308
          ],
          [
           0.731124201
          ],
          [
           0.661308553
          ],
          [
           0.38776626200000003
          ],
          [
           0.962585273
          ],
          [
           0.322067067
          ],
          [
           0.6340810929999999
          ],
          [
           0.475345002
          ],
          [
           0.35355897299999994
          ],
          [
           0.8859363159999999
          ],
          [
           0.876798106
          ],
          [
           0.221581064
          ],
          [
           0.394362449
          ],
          [
           0.8050356759999999
          ],
          [
           0.452898486
          ],
          [
           0.592520516
          ],
          [
           0.761026394
          ],
          [
           0.245049023
          ],
          [
           0.37213936299999995
          ],
          [
           0.681054822
          ],
          [
           0.7471431479999999
          ],
          [
           0.9207395290000001
          ],
          [
           0.097207945
          ],
          [
           0.699302998
          ],
          [
           0.721647006
          ],
          [
           0.5353561139999999
          ],
          [
           0.738293805
          ],
          [
           0.7064675509999999
          ],
          [
           0.67395061
          ],
          [
           0.7112122909999999
          ],
          [
           0.302558708
          ],
          [
           0.080097855
          ],
          [
           0.707010837
          ],
          [
           0.512248622
          ],
          [
           0.659627472
          ],
          [
           0.657559694
          ],
          [
           0.100645606
          ],
          [
           0.92665363
          ],
          [
           0.892879338
          ],
          [
           0.839157508
          ],
          [
           0.890959718
          ],
          [
           0.556754471
          ],
          [
           0.960361937
          ],
          [
           0.631037864
          ],
          [
           0.029838065
          ],
          [
           0.278843351
          ],
          [
           0.926157705
          ],
          [
           0.551504258
          ],
          [
           0.485942349
          ],
          [
           0.43723469600000003
          ],
          [
           0.25231801800000003
          ],
          [
           0.515466972
          ],
          [
           0.43725229600000004
          ],
          [
           0.493724207
          ],
          [
           0.83324725
          ],
          [
           0.317521477
          ],
          [
           0.28623456199999997
          ],
          [
           0.726833965
          ],
          [
           0.495667033
          ],
          [
           0.028645255
          ],
          [
           0.31967191699999997
          ],
          [
           0.674344598
          ],
          [
           0.7660371890000001
          ],
          [
           0.65456992
          ],
          [
           0.7565143809999999
          ],
          [
           0.528253719
          ],
          [
           0.38971949100000003
          ],
          [
           0.355087459
          ],
          [
           0.87015202
          ],
          [
           0.7390833059999999
          ],
          [
           0.305761846
          ],
          [
           0.411587673
          ],
          [
           0.063633094
          ],
          [
           0.735409395
          ],
          [
           0.605916669
          ],
          [
           0.539395562
          ],
          [
           0.566183532
          ],
          [
           0.674795186
          ],
          [
           0.070993366
          ],
          [
           0.12526410000000002
          ],
          [
           0.279601492
          ],
          [
           0.952174402
          ],
          [
           0.233806762
          ],
          [
           0.43724742899999997
          ],
          [
           0.925423095
          ],
          [
           0.433498634
          ],
          [
           0.52517902
          ],
          [
           0.088435529
          ],
          [
           0.447677638
          ],
          [
           0.647000631
          ],
          [
           0.9036033370000001
          ],
          [
           0.265790738
          ],
          [
           0.66419695
          ],
          [
           0.498120658
          ],
          [
           0.49018894399999996
          ],
          [
           0.747084187
          ],
          [
           0.906783648
          ],
          [
           0.678770917
          ],
          [
           0.348599859
          ],
          [
           0.294839683
          ],
          [
           0.705691827
          ],
          [
           0.211917931
          ],
          [
           0.063201124
          ],
          [
           0.276699543
          ],
          [
           0.672459395
          ],
          [
           0.8082059490000001
          ],
          [
           0.296538373
          ],
          [
           0.16012686199999998
          ],
          [
           0.439385032
          ],
          [
           0.555951416
          ],
          [
           0.386240112
          ],
          [
           0.158689619
          ],
          [
           0.214499855
          ],
          [
           0.299579429
          ],
          [
           0.569161656
          ],
          [
           0.488614799
          ],
          [
           0.8782950209999999
          ],
          [
           0.649380949
          ],
          [
           0.465713341
          ],
          [
           0.16813774
          ],
          [
           0.87529545
          ],
          [
           0.8411323409999999
          ],
          [
           0.33292081
          ],
          [
           0.5130478589999999
          ],
          [
           0.30505507800000004
          ],
          [
           0.8126269909999999
          ],
          [
           0.25096706
          ],
          [
           0.5024355779999999
          ],
          [
           0.45799074100000003
          ]
         ],
         "hoverlabel": {
          "namelength": 0
         },
         "hovertemplate": "0=%{x}<br>1=%{y}<br>2=%{z}<br>Feature=%{customdata[0]}<br>Label=%{marker.color}",
         "legendgroup": "",
         "marker": {
          "color": [
           0,
           0,
           1,
           1,
           0,
           0,
           0,
           0,
           1,
           1,
           0,
           1,
           0,
           1,
           1,
           1,
           0,
           1,
           1,
           0,
           1,
           0,
           0,
           1,
           1,
           1,
           0,
           0,
           1,
           1,
           0,
           0,
           1,
           1,
           0,
           0,
           1,
           0,
           0,
           0,
           0,
           0,
           0,
           1,
           0,
           1,
           1,
           0,
           1,
           0,
           0,
           1,
           0,
           1,
           1,
           1,
           1,
           0,
           0,
           1,
           0,
           1,
           0,
           1,
           0,
           1,
           0,
           0,
           0,
           0,
           0,
           0,
           0,
           0,
           0,
           0,
           0,
           0,
           0,
           0,
           0,
           0,
           0,
           0,
           0,
           0,
           0,
           0,
           0,
           0,
           0,
           0,
           0,
           0,
           0,
           0,
           0,
           0,
           0,
           0,
           0,
           0,
           0,
           0,
           0,
           0,
           0,
           0,
           0,
           0,
           0,
           0,
           0,
           0,
           0,
           0,
           0,
           0,
           0,
           0,
           0,
           0,
           0,
           0,
           0,
           0,
           0,
           0,
           0,
           0,
           0,
           0,
           0,
           0,
           0,
           0,
           0,
           0,
           0,
           0,
           0,
           0,
           0,
           0,
           0,
           0,
           0,
           0,
           0,
           0,
           0,
           0,
           0,
           0,
           0,
           0,
           0,
           0,
           0,
           0,
           0,
           0,
           0,
           0,
           0,
           0,
           0,
           0,
           0,
           0,
           0,
           0,
           0,
           0,
           0,
           0,
           0,
           0,
           0,
           0,
           0,
           0,
           0,
           0,
           0,
           0,
           0,
           0,
           0,
           0,
           0,
           0,
           0,
           0,
           0,
           0,
           0,
           0,
           0,
           0,
           0,
           0,
           0,
           0,
           0,
           0,
           0,
           0,
           0,
           0,
           0,
           0,
           0,
           0,
           0,
           0,
           0,
           0,
           0,
           0,
           0,
           0,
           0,
           0,
           0,
           0,
           0,
           0,
           0,
           0,
           0,
           0,
           0,
           0,
           0,
           0,
           0,
           0,
           0,
           0,
           0,
           0,
           0,
           0,
           0,
           0,
           0,
           0,
           0,
           0,
           0,
           0,
           0,
           0,
           0,
           0,
           0,
           0,
           0,
           0,
           0,
           0,
           0,
           0,
           0,
           0,
           0,
           0,
           0,
           0,
           0,
           0,
           0,
           0,
           0,
           0,
           0,
           0,
           0,
           0,
           0,
           0,
           0,
           0,
           0,
           0,
           0,
           0,
           0,
           0,
           0,
           0,
           0,
           0,
           0,
           0,
           0,
           0,
           0,
           0,
           0,
           0,
           0,
           0,
           0,
           0,
           0,
           0,
           0,
           0,
           0,
           0,
           0,
           0,
           0,
           0,
           0,
           0,
           0,
           0,
           0,
           0,
           0,
           0,
           0,
           0,
           0,
           0,
           0,
           0,
           0,
           0,
           0,
           0,
           0,
           0,
           0,
           0,
           0,
           0,
           0,
           0,
           0,
           0,
           0,
           0,
           0,
           0,
           0,
           0,
           0,
           0,
           0,
           0,
           0,
           0,
           0,
           0,
           0,
           0,
           0,
           0,
           0,
           0,
           0,
           0,
           0,
           0,
           0,
           0,
           0,
           0,
           0,
           0,
           0,
           0,
           0,
           0,
           0,
           0,
           0,
           0,
           0,
           0,
           0,
           0,
           0,
           0,
           0,
           0,
           0,
           0,
           0,
           0,
           0,
           0,
           0,
           0,
           0,
           0,
           0,
           0,
           0,
           0,
           0,
           0,
           0,
           0,
           0,
           0,
           0,
           0,
           0,
           0,
           0,
           0,
           0,
           0,
           0,
           0,
           0,
           0,
           0,
           0,
           0,
           0,
           0,
           0,
           0,
           0,
           0,
           0,
           0,
           0,
           0,
           0,
           0,
           0,
           0,
           0,
           0,
           0,
           0,
           0,
           0,
           0,
           0,
           0,
           0,
           0,
           0,
           0,
           0,
           0,
           0,
           0,
           0,
           0,
           0,
           0,
           0,
           0,
           0,
           0,
           0,
           0,
           0,
           0,
           0,
           0,
           0,
           0,
           0,
           0,
           0,
           0,
           0,
           0,
           0,
           0,
           0,
           0,
           0,
           0,
           0,
           0,
           0,
           0,
           0,
           0,
           0,
           0,
           0,
           0,
           0,
           0,
           0,
           0,
           0,
           0,
           0,
           0,
           0,
           0,
           0,
           0,
           0,
           0,
           0,
           0,
           0,
           0,
           0,
           0,
           0,
           0,
           0,
           0,
           0,
           0,
           0,
           0,
           0,
           0,
           0,
           0,
           0,
           0,
           0,
           0,
           0,
           0,
           0,
           0,
           0,
           0,
           0,
           0,
           0,
           0,
           0,
           0,
           0,
           0,
           0,
           0,
           0,
           0,
           0,
           0,
           0,
           0,
           0,
           0,
           0,
           0,
           0,
           0,
           0,
           0,
           0,
           0,
           0,
           0,
           0,
           0,
           0,
           0,
           0,
           0,
           0,
           0,
           0,
           0,
           0,
           0,
           0,
           0,
           0,
           0,
           0,
           0,
           0,
           0,
           0,
           0,
           0,
           0,
           0,
           0,
           0,
           0,
           0,
           0,
           0,
           0,
           0,
           0,
           0,
           0,
           0,
           0,
           0,
           0,
           0,
           0,
           0,
           0,
           0,
           0,
           0,
           0,
           0,
           0,
           0,
           0,
           0,
           0,
           0,
           0,
           0,
           0,
           0,
           0,
           0,
           0,
           0,
           0,
           0,
           0,
           0,
           0,
           0,
           0,
           0,
           0,
           0,
           0,
           0,
           0,
           0,
           0,
           0,
           0,
           0,
           0,
           0,
           0,
           0,
           0,
           0,
           0,
           0,
           0,
           0,
           0,
           0,
           0,
           0,
           0,
           0,
           0,
           0,
           0,
           0,
           0,
           0,
           0,
           0,
           0,
           0,
           0,
           0,
           0,
           0,
           0,
           0,
           0,
           0,
           0,
           0,
           0,
           0,
           0,
           0,
           0,
           0,
           0,
           0,
           0,
           0,
           0,
           0,
           0,
           0,
           0,
           0,
           0,
           0,
           0,
           1,
           1,
           0,
           1,
           0,
           0,
           0,
           1,
           1,
           1,
           1,
           0,
           1,
           1,
           1,
           0,
           1,
           1,
           1,
           0,
           1,
           0,
           1,
           1,
           1,
           1,
           0,
           0,
           0,
           0,
           0,
           0,
           0,
           0,
           0,
           0,
           0,
           0,
           0,
           0,
           0,
           0,
           0,
           0,
           0,
           0,
           0,
           0,
           0,
           0,
           0,
           0,
           0,
           0,
           0,
           0,
           0,
           0,
           0,
           0,
           0,
           0,
           0,
           0,
           0,
           0,
           0,
           0,
           0,
           0,
           0,
           0,
           0,
           0,
           0,
           0,
           0,
           0,
           0,
           0,
           0,
           0,
           0,
           0,
           0,
           0,
           0,
           0,
           0,
           0,
           0,
           0,
           0,
           0,
           0,
           0,
           0,
           0,
           0,
           0,
           0,
           0,
           0,
           0,
           0,
           0,
           0,
           0,
           0,
           0,
           0,
           0,
           0,
           0,
           0,
           0,
           0,
           0,
           0,
           0,
           0,
           0,
           0,
           0,
           0,
           0,
           0,
           0,
           0,
           0,
           0,
           0,
           0,
           0,
           0,
           0,
           0,
           0,
           0,
           0,
           0,
           0,
           0,
           0,
           0,
           0,
           0,
           0,
           0,
           0,
           0,
           0,
           0,
           0,
           0,
           0,
           0,
           0,
           0,
           0,
           0,
           0,
           0,
           0,
           0,
           0,
           0,
           0,
           0,
           0,
           0,
           0,
           0,
           0,
           0,
           0,
           0,
           0,
           0,
           0,
           0,
           0,
           0,
           0,
           0,
           0,
           0,
           0,
           0,
           0,
           0,
           0,
           0,
           0,
           0,
           0,
           0,
           0,
           0,
           0,
           0,
           0,
           0,
           0,
           0,
           0,
           0,
           0,
           0,
           0,
           0,
           0,
           0,
           0,
           0,
           0,
           0,
           0,
           0,
           0,
           0,
           0,
           0,
           0,
           0,
           0,
           0,
           0,
           0,
           0,
           0,
           0,
           0,
           0,
           0,
           0,
           0,
           0,
           0,
           0,
           0,
           0,
           0,
           0,
           0,
           0,
           0,
           0,
           0,
           0,
           0,
           0,
           0,
           0,
           0,
           0,
           0,
           0,
           0,
           0,
           0,
           0,
           0,
           0,
           0,
           0,
           0,
           0,
           0,
           0,
           0,
           0,
           0,
           0,
           0,
           0,
           0,
           0,
           0,
           0,
           0,
           0,
           0,
           0,
           0,
           0,
           0,
           0,
           0,
           0,
           0,
           0,
           0,
           0,
           0,
           0,
           0,
           0,
           0,
           0
          ],
          "coloraxis": "coloraxis",
          "opacity": 0.7,
          "symbol": "circle"
         },
         "mode": "markers",
         "name": "",
         "scene": "scene",
         "showlegend": false,
         "type": "scatter3d",
         "x": [
          -3.7881977558135986,
          0.31320321559906006,
          -4.3728108406066895,
          0.07231922447681427,
          -0.5385928153991699,
          0.20682066679000854,
          6.91631555557251,
          -5.480643272399902,
          -5.662528991699219,
          8.364344596862793,
          -6.326820373535156,
          -5.155460357666016,
          1.7602676153182983,
          2.375154733657837,
          -8.723930358886719,
          1.2418116331100464,
          1.7100993394851685,
          -0.3876311182975769,
          -4.384242534637451,
          0.554526686668396,
          0.8445040583610535,
          -0.9135523438453674,
          -1.974240779876709,
          -6.287942886352539,
          -4.20965576171875,
          -3.8297321796417236,
          -4.941946983337402,
          -1.6358619928359985,
          -1.8669053316116333,
          -9.220430374145508,
          -3.5517470836639404,
          1.7942278385162354,
          4.168650150299072,
          -8.638792037963867,
          4.209875583648682,
          -1.4580397605895996,
          1.3522343635559082,
          -1.4250987768173218,
          -2.745558023452759,
          0.03729773312807083,
          9.800288200378418,
          -5.7623796463012695,
          4.645898342132568,
          -4.498806476593018,
          -6.752468109130859,
          1.8945488929748535,
          -7.525929927825928,
          -5.8214898109436035,
          -5.09481143951416,
          5.4595112800598145,
          -2.126786947250366,
          -4.02102518081665,
          4.562703609466553,
          1.7594773769378662,
          -2.12245512008667,
          5.194659233093262,
          0.17584511637687683,
          4.074984073638916,
          -8.119001388549805,
          -7.809548377990723,
          5.513810157775879,
          0.6968673467636108,
          -0.988844096660614,
          -5.454062461853027,
          5.686091423034668,
          -8.102152824401855,
          5.431541919708252,
          -0.8823748826980591,
          -5.131704807281494,
          -5.775233268737793,
          -5.942227840423584,
          -3.157517433166504,
          -3.7989931106567383,
          -0.8861621022224426,
          8.310722351074219,
          2.490457534790039,
          -5.652992248535156,
          -2.4568066596984863,
          7.955770969390869,
          7.324145317077637,
          7.439199924468994,
          3.8152365684509277,
          -3.2896549701690674,
          -0.18948456645011902,
          3.2218856811523438,
          -1.1448779106140137,
          2.885768175125122,
          6.308433532714844,
          1.220895528793335,
          0.09077189117670059,
          1.4264552593231201,
          -4.8180413246154785,
          3.4960484504699707,
          6.004891395568848,
          3.680171251296997,
          -2.3293418884277344,
          5.18263053894043,
          -0.9707847833633423,
          -0.48072853684425354,
          -5.269233703613281,
          -2.5747485160827637,
          5.903492450714111,
          -1.1233973503112793,
          6.3396992683410645,
          -2.076812267303467,
          5.583227634429932,
          1.9329588413238525,
          1.5475419759750366,
          8.327719688415527,
          -3.3321433067321777,
          1.5633405447006226,
          -2.775519609451294,
          -4.582783222198486,
          3.2743608951568604,
          -3.033241033554077,
          4.066587448120117,
          7.227591514587402,
          6.065695285797119,
          -0.23397281765937805,
          1.2380220890045166,
          4.707221984863281,
          0.7197481989860535,
          -3.2815868854522705,
          5.81116247177124,
          -3.0790936946868896,
          -0.2836787700653076,
          3.468057632446289,
          -1.4292675256729126,
          2.3607399463653564,
          -1.3278738260269165,
          3.363753318786621,
          5.199543476104736,
          -1.9082716703414917,
          5.031569004058838,
          6.482114791870117,
          0.3640406131744385,
          -2.775824546813965,
          -0.5562178492546082,
          1.157714605331421,
          -0.6756407618522644,
          -1.7155526876449585,
          1.9243638515472412,
          6.191810131072998,
          -2.5406291484832764,
          1.896192193031311,
          6.725895881652832,
          -5.677307605743408,
          6.044238567352295,
          1.235950231552124,
          0.7021936774253845,
          0.7649279832839966,
          5.351826190948486,
          -2.886183977127075,
          7.128727912902832,
          -1.5332350730895996,
          5.707357883453369,
          5.600350856781006,
          7.542120456695557,
          7.349679946899414,
          -1.5294837951660156,
          7.08154821395874,
          4.394739151000977,
          4.20253849029541,
          7.792564868927002,
          -1.8581346273422241,
          7.037528991699219,
          -0.9381271600723267,
          -6.768966197967529,
          -6.763814449310303,
          -2.102088212966919,
          2.951586961746216,
          -1.600684404373169,
          -4.690070152282715,
          -3.1419754028320312,
          -2.8694992065429688,
          5.860678672790527,
          -2.2694685459136963,
          -3.9931142330169678,
          1.641629695892334,
          -0.7137888669967651,
          -1.4263187646865845,
          -7.646202564239502,
          1.0629191398620605,
          -7.644993782043457,
          -7.318928241729736,
          7.233658313751221,
          -6.001598358154297,
          3.6730897426605225,
          6.035458564758301,
          4.32213020324707,
          6.198622703552246,
          -2.216618299484253,
          -4.821267604827881,
          -3.1134607791900635,
          3.3133158683776855,
          6.777808666229248,
          -1.5372591018676758,
          -4.669398784637451,
          -2.4463953971862793,
          -3.52341365814209,
          1.9144840240478516,
          -0.06508075445890427,
          3.1568424701690674,
          -3.202606678009033,
          -4.234831809997559,
          2.098639726638794,
          7.320616245269775,
          2.0185320377349854,
          -7.061342716217041,
          3.315878391265869,
          -2.0999536514282227,
          -7.722321033477783,
          -3.4441771507263184,
          3.027269124984741,
          0.5948113799095154,
          -0.04744049534201622,
          2.5877654552459717,
          -1.2372772693634033,
          -3.0616142749786377,
          -2.388230562210083,
          -4.029847145080566,
          -0.33494606614112854,
          -3.931896686553955,
          8.851762771606445,
          3.9095969200134277,
          6.088178634643555,
          5.782297611236572,
          7.098371982574463,
          7.319733619689941,
          -9.272733688354492,
          5.762334823608398,
          3.7211718559265137,
          -0.9854686260223389,
          -0.5899388194084167,
          4.180138111114502,
          -0.3041554391384125,
          -1.7911288738250732,
          4.343561172485352,
          -1.727010726928711,
          -3.699157476425171,
          1.7767444849014282,
          -1.2004104852676392,
          -5.411250114440918,
          1.9830515384674072,
          -5.631331920623779,
          4.182232856750488,
          3.9104838371276855,
          5.590422630310059,
          6.194258689880371,
          -2.073620319366455,
          6.876125335693359,
          -1.908811330795288,
          -3.0497467517852783,
          4.472762584686279,
          5.961611747741699,
          -5.23446798324585,
          -1.7860283851623535,
          4.8106913566589355,
          -9.014467239379883,
          1.9036457538604736,
          -4.095265865325928,
          3.9988350868225098,
          -1.6502543687820435,
          -1.7232658863067627,
          6.449995517730713,
          1.6339643001556396,
          -1.5328726768493652,
          4.33909797668457,
          8.107316970825195,
          -4.499767780303955,
          0.33546361327171326,
          2.1237175464630127,
          0.6801934242248535,
          -4.473269939422607,
          -1.5956276655197144,
          6.401098728179932,
          -1.7466319799423218,
          -2.2301924228668213,
          0.7647915482521057,
          5.867805004119873,
          5.834341526031494,
          -4.601617336273193,
          6.887773036956787,
          0.2727030813694,
          -3.743377447128296,
          -2.3188326358795166,
          2.4439988136291504,
          0.04986206069588661,
          6.06199836730957,
          -3.213430166244507,
          0.8864166736602783,
          2.5112898349761963,
          2.0022177696228027,
          -2.0202860832214355,
          -0.18428239226341248,
          -2.5992274284362793,
          -5.143698215484619,
          6.295228958129883,
          0.35931527614593506,
          -1.63600492477417,
          -0.5194185972213745,
          4.582813262939453,
          -4.538369655609131,
          -4.916463375091553,
          -5.276063442230225,
          6.258586883544922,
          -1.35196852684021,
          4.978106498718262,
          8.86905574798584,
          -7.7173752784729,
          -7.497347831726074,
          7.120123386383057,
          -7.979653835296631,
          -3.8574256896972656,
          -0.1802937388420105,
          -2.575204610824585,
          -2.0437002182006836,
          3.803030014038086,
          6.811689376831055,
          2.481557846069336,
          -0.9992404580116272,
          2.924358367919922,
          -2.274553060531616,
          0.8438437581062317,
          6.033224105834961,
          -0.4449484348297119,
          -1.6626536846160889,
          -2.764150857925415,
          -6.38687801361084,
          -4.491253852844238,
          4.429454326629639,
          -0.42242878675460815,
          5.126123428344727,
          5.385731220245361,
          6.009088039398193,
          -5.786563873291016,
          -0.07547348737716675,
          0.2815832495689392,
          -5.666937828063965,
          -1.443552017211914,
          -0.18876275420188904,
          8.572368621826172,
          -0.05299850180745125,
          7.38506555557251,
          -4.772286891937256,
          -5.043109893798828,
          5.308163642883301,
          8.82384204864502,
          -1.3428449630737305,
          -0.2676684856414795,
          -2.621493339538574,
          1.113991618156433,
          2.062223434448242,
          2.29811429977417,
          2.3955821990966797,
          8.83571720123291,
          3.589560031890869,
          -1.5222712755203247,
          -3.846073627471924,
          -1.151656985282898,
          -0.6319593787193298,
          -0.7639902234077454,
          -1.598840355873108,
          7.121079921722412,
          -1.903935194015503,
          4.2620768547058105,
          -3.094752073287964,
          5.927960395812988,
          4.778758525848389,
          2.407606840133667,
          3.5148205757141113,
          1.6494297981262207,
          -4.362003803253174,
          -7.867402076721191,
          -2.183803081512451,
          4.797057151794434,
          6.773890495300293,
          -4.37353515625,
          2.732311964035034,
          2.7307870388031006,
          -2.296901226043701,
          0.34744763374328613,
          7.0076470375061035,
          -4.688360691070557,
          -0.9428718686103821,
          4.476508617401123,
          2.040806770324707,
          1.373896837234497,
          -3.529904365539551,
          -1.973203420639038,
          3.825322151184082,
          5.4812912940979,
          1.3275160789489746,
          5.058792591094971,
          3.173318386077881,
          2.202112913131714,
          5.438963413238525,
          -5.278827667236328,
          -1.1438937187194824,
          4.485525131225586,
          0.8883774280548096,
          2.1078941822052,
          6.664743900299072,
          1.703071117401123,
          -6.644460678100586,
          4.932062149047852,
          -6.2471513748168945,
          0.9227561950683594,
          -1.228239893913269,
          -4.278314113616943,
          -0.8040827512741089,
          2.3356587886810303,
          -3.512969970703125,
          5.496183395385742,
          3.3904595375061035,
          4.123465061187744,
          5.530575275421143,
          2.4451699256896973,
          -2.381289482116699,
          -5.353392124176025,
          -1.9804776906967163,
          0.6213217973709106,
          -0.48662319779396057,
          -0.27307334542274475,
          -6.857863903045654,
          5.764054775238037,
          5.577165126800537,
          -4.930975437164307,
          -3.089613199234009,
          -5.8398919105529785,
          3.7484655380249023,
          7.5776848793029785,
          0.08435511589050293,
          -3.7535295486450195,
          -5.168097972869873,
          -1.2362654209136963,
          3.2670774459838867,
          -4.509202480316162,
          8.521225929260254,
          -4.7066569328308105,
          5.755996227264404,
          6.944423198699951,
          -3.8512227535247803,
          -4.129719257354736,
          1.5525251626968384,
          -3.0487403869628906,
          -5.016826629638672,
          6.568119049072266,
          -3.6100993156433105,
          -7.963520050048828,
          2.1540768146514893,
          -3.1345274448394775,
          5.569090366363525,
          6.018281936645508,
          -4.793470859527588,
          3.663822889328003,
          -5.194106101989746,
          -3.1488678455352783,
          7.837491989135742,
          7.514616012573242,
          -1.545674204826355,
          -4.852517604827881,
          3.842963933944702,
          9.47156047821045,
          -4.295023441314697,
          1.562911033630371,
          8.291528701782227,
          -5.358278751373291,
          6.8508076667785645,
          -5.8753156661987305,
          5.5105085372924805,
          1.9770230054855347,
          2.463820219039917,
          2.795325994491577,
          4.062231540679932,
          3.8696670532226562,
          6.091765880584717,
          -4.954800605773926,
          -1.9673422574996948,
          0.6901230812072754,
          7.753939151763916,
          0.9784494042396545,
          -5.713284492492676,
          -5.636257171630859,
          7.303752899169922,
          -4.4046101570129395,
          -2.1248154640197754,
          -3.9112143516540527,
          -0.5213435888290405,
          -2.5098941326141357,
          5.012051105499268,
          -3.4203062057495117,
          -6.125134468078613,
          -4.695192813873291,
          -5.511322498321533,
          -5.960686683654785,
          -4.484201908111572,
          -2.2979207038879395,
          5.859548091888428,
          -0.9806239604949951,
          1.1841635704040527,
          -2.033902168273926,
          0.009537560865283012,
          0.8192621469497681,
          -3.147843599319458,
          -2.8935434818267822,
          8.45300579071045,
          8.293633460998535,
          -4.340125560760498,
          -8.009699821472168,
          -2.2795517444610596,
          7.889627933502197,
          -2.214840888977051,
          -1.0585078001022339,
          7.4249677658081055,
          8.092747688293457,
          7.183363437652588,
          8.361454963684082,
          -2.721902847290039,
          -2.204949140548706,
          -3.8309946060180664,
          -4.368284702301025,
          -7.570727825164795,
          -6.553845405578613,
          -2.4626529216766357,
          6.6461076736450195,
          -4.766970634460449,
          4.55224084854126,
          -3.366102933883667,
          -2.2598180770874023,
          -1.0533411502838135,
          -2.6189725399017334,
          -0.9130865335464478,
          3.115400552749634,
          -3.4441256523132324,
          -7.49062967300415,
          -3.9277255535125732,
          -3.2980926036834717,
          -1.3666237592697144,
          -4.514255523681641,
          -2.0169084072113037,
          -3.9660325050354004,
          -1.076080560684204,
          2.094653606414795,
          8.559846878051758,
          -0.6890805959701538,
          6.223669052124023,
          -3.1619713306427,
          -5.8544511795043945,
          6.71579122543335,
          6.788325786590576,
          1.5110955238342285,
          -4.5294365882873535,
          7.475821495056152,
          6.104916572570801,
          0.8995963335037231,
          -0.9808211922645569,
          8.42365550994873,
          -1.9050453901290894,
          -5.358695983886719,
          -3.6717498302459717,
          -3.33441424369812,
          6.613783359527588,
          -6.429123401641846,
          2.013444185256958,
          8.40281867980957,
          5.308679580688477,
          -1.9090818166732788,
          -7.518842697143555,
          -5.696776390075684,
          -3.0951268672943115,
          -4.4268574714660645,
          -5.358935832977295,
          -0.25455573201179504,
          1.59324049949646,
          -6.831185817718506,
          2.4090356826782227,
          6.413125514984131,
          -0.17775148153305054,
          4.18265962600708,
          -2.392085313796997,
          4.757526397705078,
          -7.739063262939453,
          3.3422067165374756,
          8.842198371887207,
          7.530620098114014,
          -2.3806188106536865,
          2.9885103702545166,
          4.653039455413818,
          -2.8697171211242676,
          1.5541611909866333,
          7.516169548034668,
          -4.90954065322876,
          -6.037403106689453,
          -3.097245454788208,
          5.971991062164307,
          -3.8119723796844482,
          -3.6694302558898926,
          -5.187459468841553,
          -4.630005836486816,
          -0.4873901307582855,
          1.9385037422180176,
          -8.249542236328125,
          6.906750679016113,
          -5.296023368835449,
          1.4043055772781372,
          -3.704301357269287,
          -1.0958493947982788,
          1.1036630868911743,
          -0.1776805967092514,
          -7.549057483673096,
          0.44158658385276794,
          -3.3162128925323486,
          -0.5540161728858948,
          8.783895492553711,
          6.751748561859131,
          -1.3547993898391724,
          0.6068784594535828,
          -2.2847018241882324,
          -1.9470484256744385,
          -2.7770838737487793,
          5.1950531005859375,
          6.895388126373291,
          -2.8455731868743896,
          -6.945876121520996,
          -5.140448093414307,
          6.941830635070801,
          -2.1449010372161865,
          1.3440778255462646,
          9.467262268066406,
          -0.6085394024848938,
          -3.9014508724212646,
          8.773935317993164,
          -3.849475622177124,
          -0.2844583988189697,
          -1.2802317142486572,
          0.0866841971874237,
          -2.629368782043457,
          -5.074299335479736,
          -2.3777694702148438,
          -4.312652111053467,
          3.375898838043213,
          6.474339962005615,
          2.2965009212493896,
          -0.604899525642395,
          4.51836633682251,
          -6.18760347366333,
          2.1836531162261963,
          -4.53704309463501,
          1.4024989604949951,
          5.704896926879883,
          4.923557281494141,
          0.20766782760620117,
          -0.8987751603126526,
          5.4419660568237305,
          1.4694774150848389,
          -4.414363861083984,
          0.28641989827156067,
          1.5576941967010498,
          -3.1243762969970703,
          -5.553031921386719,
          4.323983669281006,
          -4.250764846801758,
          -2.418365955352783,
          -3.809173583984375,
          -1.8566899299621582,
          -1.1629029512405396,
          5.29457950592041,
          -4.912901401519775,
          5.153781414031982,
          -1.1743720769882202,
          8.272768020629883,
          7.247108459472656,
          -1.4773008823394775,
          -2.4132800102233887,
          6.688706874847412,
          3.020197629928589,
          -3.314107656478882,
          -3.9021949768066406,
          4.939193248748779,
          -6.896963596343994,
          5.047329425811768,
          0.6752325892448425,
          -4.483426094055176,
          7.602531433105469,
          5.194403171539307,
          6.229218482971191,
          9.24859619140625,
          -5.371485710144043,
          -6.462713718414307,
          -2.0169737339019775,
          -7.483328819274902,
          -3.6893858909606934,
          -5.169259071350098,
          -4.269684314727783,
          -0.3245103657245636,
          -0.42880120873451233,
          6.153291702270508,
          7.530089855194092,
          -6.266532897949219,
          -0.5924401879310608,
          5.214842319488525,
          2.4123926162719727,
          -1.8324943780899048,
          4.341582298278809,
          4.613831043243408,
          -4.781627655029297,
          0.8225715756416321,
          -2.830507755279541,
          -4.973978519439697,
          -8.477584838867188,
          6.890480041503906,
          -1.7537721395492554,
          -3.7270374298095703,
          7.6069254875183105,
          -1.9424543380737305,
          0.45312008261680603,
          2.1114585399627686,
          7.61795711517334,
          1.9292503595352173,
          -4.400162696838379,
          6.181159973144531,
          -2.1672165393829346,
          -4.008368015289307,
          -2.096886396408081,
          4.254446506500244,
          -7.908633708953857,
          0.38615453243255615,
          -0.9967472553253174,
          0.0009683847893029451,
          -1.840872883796692,
          -5.111854076385498,
          -1.8082327842712402,
          -2.6485512256622314,
          -5.523248672485352,
          -5.556551933288574,
          3.3268585205078125,
          5.409803867340088,
          6.78709077835083,
          -8.17021369934082,
          0.008284025825560093,
          1.5960358381271362,
          1.1727150678634644,
          -7.67877721786499,
          -1.1327791213989258,
          6.246700286865234,
          5.519184112548828,
          -3.674704074859619,
          -3.256387948989868,
          -5.316816806793213,
          0.25573745369911194,
          -4.3550639152526855,
          4.2569580078125,
          3.3901803493499756,
          6.877768516540527,
          -3.729796886444092,
          7.121579170227051,
          4.291657447814941,
          -0.9101666212081909,
          8.528441429138184,
          -7.264889717102051,
          7.355948448181152,
          4.154171943664551,
          4.470905303955078,
          -2.789717197418213,
          5.938960075378418,
          5.005388259887695,
          -2.9510293006896973,
          4.058620929718018,
          -1.6857004165649414,
          6.956500053405762,
          -1.2129446268081665,
          -3.697512626647949,
          5.44378137588501,
          -0.6836338639259338,
          7.82780122756958,
          1.2481476068496704,
          -1.096585988998413,
          8.699652671813965,
          -0.09324158728122711,
          5.13786506652832,
          5.7461066246032715,
          -1.579574465751648,
          1.129757285118103,
          5.599452018737793,
          -6.283340930938721,
          3.380589246749878,
          -2.5006752014160156,
          8.01099681854248,
          5.6107916831970215,
          -7.113883018493652,
          4.808691501617432,
          -8.687451362609863,
          6.9352240562438965,
          3.768160820007324,
          1.0750722885131836,
          6.729083061218262,
          -3.5438549518585205,
          5.4976725578308105,
          6.108209133148193,
          1.7563583850860596,
          0.32408982515335083,
          -3.072298049926758,
          1.1520817279815674,
          -3.323432683944702,
          6.318185806274414,
          7.981315612792969,
          0.44487929344177246,
          -2.1417999267578125,
          2.501349449157715,
          -4.574045181274414,
          -6.679660797119141,
          7.357409954071045,
          -2.4455654621124268,
          -1.8248579502105713,
          -3.8019797801971436,
          -0.317413866519928,
          -5.643947601318359,
          -2.3477962017059326,
          -2.6448516845703125,
          -6.487361431121826,
          -4.011946201324463,
          6.759195804595947,
          0.050102028995752335,
          -1.87724769115448,
          2.995054006576538,
          -2.352370500564575,
          7.427167892456055,
          1.849083423614502,
          -2.9329633712768555,
          0.8687400221824646,
          -0.1854468733072281,
          -1.3909263610839844,
          -6.3043012619018555,
          -2.61712646484375,
          -4.727872371673584,
          -4.215696811676025,
          -1.6583348512649536,
          -6.719407081604004,
          6.558382034301758,
          5.074182033538818,
          6.1036272048950195,
          -2.1254632472991943,
          1.314467430114746,
          4.185114860534668,
          -2.4166674613952637,
          -3.574859142303467,
          5.357837677001953,
          1.6088459491729736,
          -3.0172386169433594,
          -1.035312294960022,
          -3.199647903442383,
          7.033529758453369,
          4.711889266967773,
          -3.061018466949463,
          -3.1691904067993164,
          -0.79347163438797,
          -1.4493186473846436,
          6.614685535430908,
          -8.742798805236816,
          -2.106663942337036,
          6.22023868560791,
          -5.757117748260498,
          5.5062384605407715,
          -1.7301115989685059,
          -0.776914656162262,
          5.980631351470947,
          5.873297691345215,
          -4.839118480682373,
          1.2208781242370605,
          -8.001227378845215,
          6.5821533203125,
          3.1569759845733643,
          2.0685625076293945,
          5.703936576843262,
          3.283278226852417,
          3.5640413761138916,
          0.4648052752017975,
          -0.3386181890964508,
          -5.286414623260498,
          1.6259987354278564,
          3.540503740310669,
          8.239910125732422,
          -2.1721179485321045,
          -5.511040687561035,
          -4.305656909942627,
          0.14888256788253784,
          1.2846794128417969,
          -1.7828547954559326,
          -5.550503730773926,
          -3.8289575576782227,
          -7.885663986206055,
          -6.957606792449951,
          7.682689189910889,
          -8.255799293518066,
          3.637763023376465,
          1.3637356758117676,
          5.712001323699951,
          -3.797492742538452,
          -3.7046658992767334,
          -0.13020382821559906,
          4.518311977386475,
          7.431586265563965,
          -5.088455677032471,
          6.016090393066406,
          -2.688994884490967,
          -5.074687480926514,
          2.258791446685791,
          -7.102816104888916,
          8.945034980773926,
          1.0189931392669678,
          2.528282642364502,
          3.540539503097534,
          8.583844184875488,
          -7.873937606811523,
          -1.901014804840088,
          -1.452854871749878,
          -2.605513572692871,
          -2.112163782119751,
          -5.217050552368164,
          -2.8902499675750732,
          -1.9719377756118774,
          0.22070340812206268,
          5.007833003997803,
          -3.6928906440734863,
          0.8785491585731506,
          2.0750114917755127,
          -1.463507890701294,
          0.18657907843589783,
          -3.478609561920166,
          -1.1402854919433594,
          5.538199424743652,
          2.1918156147003174,
          -5.36473274230957,
          -4.828160762786865,
          -6.188857078552246,
          5.233856678009033,
          -5.665145397186279,
          1.140446662902832,
          -6.310056686401367,
          -6.999335765838623,
          3.4592738151550293,
          7.278578281402588,
          -1.654416799545288,
          5.901066303253174,
          -7.8752241134643555,
          5.091773509979248,
          3.2996442317962646,
          0.0045454371720552444,
          2.9730641841888428,
          -1.7463757991790771,
          0.5188693404197693,
          -5.7848005294799805,
          -1.627883791923523,
          1.2703312635421753,
          5.474597930908203,
          -4.37357234954834,
          -4.8309478759765625,
          -6.309450626373291,
          0.6507971286773682,
          5.006068706512451,
          0.9357749819755554,
          -4.287014007568359,
          7.501262187957764,
          -0.029302796348929405,
          8.091185569763184,
          -1.367272138595581,
          8.049788475036621,
          -6.988110065460205,
          5.288567543029785,
          -2.6349921226501465,
          4.201707363128662,
          0.1099134311079979,
          -2.3450684547424316,
          6.023408889770508,
          3.1119790077209473,
          1.0128004550933838,
          -1.4280885457992554,
          -1.8691235780715942,
          -2.7918927669525146,
          -7.418652534484863,
          -2.526735305786133,
          6.105704307556152,
          7.207541465759277,
          -1.4145410060882568,
          2.5172207355499268,
          0.8429899215698242,
          -5.6284003257751465,
          -4.895021915435791,
          -3.8866281509399414,
          -1.7036921977996826,
          7.335074424743652,
          4.161869049072266,
          -5.693098068237305,
          -7.770927429199219,
          -0.9336428642272949,
          1.5654950141906738,
          7.776342868804932,
          -3.9007885456085205,
          -4.7438130378723145
         ],
         "y": [
          -0.32313841581344604,
          10.779470443725586,
          -14.373509407043457,
          -7.631341457366943,
          -15.0490083694458,
          -3.1371278762817383,
          9.444681167602539,
          -10.780688285827637,
          2.1503045558929443,
          1.4696953296661377,
          -8.99995231628418,
          -20.144256591796875,
          -6.1484785079956055,
          2.8362221717834473,
          -13.43513011932373,
          -12.970690727233887,
          -6.136463642120361,
          14.226982116699219,
          -13.506735801696777,
          -8.152660369873047,
          -2.665891170501709,
          -4.88385009765625,
          -11.547953605651855,
          2.272169351577759,
          -6.087979793548584,
          2.138984441757202,
          -18.69229507446289,
          4.1049346923828125,
          -9.690834045410156,
          -11.523122787475586,
          3.506747007369995,
          6.487363815307617,
          1.3359899520874023,
          -12.353852272033691,
          2.709019184112549,
          -4.091787338256836,
          -7.865206241607666,
          4.28053617477417,
          -4.379360675811768,
          -3.5521650314331055,
          10.944209098815918,
          -10.555459022521973,
          8.894227981567383,
          -4.7425947189331055,
          -11.0048246383667,
          -12.82805061340332,
          -10.728599548339844,
          2.2182788848876953,
          -19.782249450683594,
          13.894779205322266,
          -10.316234588623047,
          -12.059432983398438,
          3.009247064590454,
          -12.714438438415527,
          -3.427917957305908,
          2.6333911418914795,
          -2.1844980716705322,
          4.947181701660156,
          -11.91066837310791,
          -15.842301368713379,
          3.176612138748169,
          8.898465156555176,
          -15.538269996643066,
          -10.365620613098145,
          10.994811058044434,
          -10.202335357666016,
          8.549863815307617,
          13.662181854248047,
          -18.65631103515625,
          -4.464563369750977,
          -15.215256690979004,
          -10.12070083618164,
          -3.9489262104034424,
          -7.543937683105469,
          -2.4732813835144043,
          -2.0988175868988037,
          -17.16992950439453,
          -12.414613723754883,
          0.09881838411092758,
          1.5228019952774048,
          0.8383657932281494,
          -3.5292632579803467,
          -14.026740074157715,
          8.585151672363281,
          9.384902954101562,
          6.300527572631836,
          15.296241760253906,
          15.979683876037598,
          2.8641040325164795,
          -4.539705276489258,
          -3.0127851963043213,
          -7.973060607910156,
          7.6951799392700195,
          10.584785461425781,
          5.001725673675537,
          -16.017518997192383,
          4.89135217666626,
          5.965892791748047,
          10.472918510437012,
          -16.192337036132812,
          -4.196559906005859,
          12.717801094055176,
          6.261625289916992,
          3.6746275424957275,
          -14.673177719116211,
          3.8985111713409424,
          7.413605690002441,
          6.96307373046875,
          -1.4029499292373657,
          -11.399859428405762,
          -4.609017372131348,
          -6.244123458862305,
          -6.092455863952637,
          -0.8944172263145447,
          -16.663402557373047,
          -5.072732925415039,
          13.399069786071777,
          10.664066314697266,
          -7.092610836029053,
          10.825113296508789,
          -5.2910475730896,
          2.1532540321350098,
          8.20637321472168,
          10.89720630645752,
          8.754758834838867,
          9.21585464477539,
          5.55396032333374,
          -8.035158157348633,
          9.455314636230469,
          8.68436336517334,
          1.4582329988479614,
          4.355204105377197,
          -10.925047874450684,
          7.923417091369629,
          13.46856689453125,
          0.552337646484375,
          -14.028403282165527,
          -11.096617698669434,
          8.37610912322998,
          2.8978843688964844,
          -8.242168426513672,
          -4.893006324768066,
          3.3160247802734375,
          -15.563591003417969,
          11.65473747253418,
          2.8894872665405273,
          -7.759294033050537,
          11.03139591217041,
          9.314618110656738,
          4.795109272003174,
          -5.17415714263916,
          -2.5614547729492188,
          3.8805952072143555,
          3.6867592334747314,
          -4.300985813140869,
          5.786268711090088,
          12.82734203338623,
          11.629376411437988,
          -3.280836820602417,
          -5.204314708709717,
          11.965826988220215,
          4.534832000732422,
          -2.367969036102295,
          1.6419188976287842,
          -6.370420455932617,
          13.23166275024414,
          -8.663491249084473,
          -12.513975143432617,
          -14.312986373901367,
          9.699995040893555,
          7.471532821655273,
          5.294004917144775,
          -4.889406681060791,
          -14.581045150756836,
          5.9381608963012695,
          15.100218772888184,
          -4.881162643432617,
          -14.065887451171875,
          8.782539367675781,
          -10.205106735229492,
          4.4899067878723145,
          -6.010430335998535,
          5.2888689041137695,
          -12.971245765686035,
          -12.682397842407227,
          12.75940990447998,
          -9.05020809173584,
          2.375455141067505,
          0.9871742725372314,
          -2.706369638442993,
          11.54726505279541,
          -16.492631912231445,
          -8.72728157043457,
          -15.72802734375,
          15.407014846801758,
          10.117083549499512,
          4.639863014221191,
          6.958129405975342,
          -4.0690741539001465,
          7.963824272155762,
          0.7615115642547607,
          4.070080757141113,
          3.9646384716033936,
          -14.74838638305664,
          -15.121994018554688,
          6.024842262268066,
          3.6746091842651367,
          0.9290460348129272,
          -5.631883144378662,
          7.257380485534668,
          6.90911340713501,
          -8.444499015808105,
          -11.671037673950195,
          -5.528378486633301,
          1.9662014245986938,
          4.301459312438965,
          7.82144832611084,
          -12.628240585327148,
          -14.768183708190918,
          2.321424961090088,
          -15.515280723571777,
          8.41167163848877,
          -15.401592254638672,
          -0.8985815048217773,
          15.523905754089355,
          3.374236583709717,
          8.895751953125,
          0.1255851536989212,
          13.392010688781738,
          -5.865002155303955,
          10.235403060913086,
          7.955671787261963,
          -9.601133346557617,
          -10.754898071289062,
          10.638632774353027,
          8.012935638427734,
          -0.6798062920570374,
          -2.2971482276916504,
          -8.206693649291992,
          -13.051973342895508,
          1.2699627876281738,
          4.497413158416748,
          -12.634964942932129,
          11.498568534851074,
          -9.711671829223633,
          15.305563926696777,
          0.6460355520248413,
          -1.2242603302001953,
          8.443772315979004,
          -12.460926055908203,
          1.418166160583496,
          4.549374103546143,
          -9.737455368041992,
          4.3460373878479,
          3.8600547313690186,
          2.0830559730529785,
          0.2754426896572113,
          13.088890075683594,
          -5.190989017486572,
          11.180039405822754,
          -12.728334426879883,
          3.858903169631958,
          -15.555334091186523,
          6.048130512237549,
          1.5197973251342773,
          11.447470664978027,
          -12.076168060302734,
          14.198586463928223,
          -1.2856144905090332,
          5.1108198165893555,
          5.955104351043701,
          3.682164430618286,
          0.5008726716041565,
          -12.000293731689453,
          -5.400725364685059,
          6.569882392883301,
          -15.07929801940918,
          -16.677478790283203,
          7.063473701477051,
          1.1307501792907715,
          9.261261940002441,
          -12.00014877319336,
          1.951465129852295,
          -1.775713562965393,
          -16.50891876220703,
          9.260696411132812,
          11.964778900146484,
          8.574456214904785,
          14.94665241241455,
          -3.7164981365203857,
          -5.718159198760986,
          7.285768985748291,
          6.936821460723877,
          9.866098403930664,
          8.432353019714355,
          -6.970010757446289,
          -7.1871819496154785,
          1.765334963798523,
          6.725792407989502,
          -1.3530558347702026,
          6.787850379943848,
          12.429378509521484,
          -13.141016006469727,
          -10.0773286819458,
          -6.797698020935059,
          -3.6064202785491943,
          6.063174724578857,
          -2.715574026107788,
          10.571929931640625,
          -12.829833030700684,
          -11.848772048950195,
          10.09941291809082,
          -6.2006964683532715,
          -12.691975593566895,
          3.97674822807312,
          -0.7557074427604675,
          9.440215110778809,
          10.644817352294922,
          -2.8202059268951416,
          4.2055840492248535,
          6.451056480407715,
          -0.7125840187072754,
          -10.1379976272583,
          6.218740463256836,
          -7.082095623016357,
          -2.7527401447296143,
          -13.282907485961914,
          -12.0401611328125,
          -12.462876319885254,
          -6.549848556518555,
          14.318811416625977,
          -14.230597496032715,
          5.814423561096191,
          4.427374839782715,
          16.1164608001709,
          -15.931137084960938,
          8.735828399658203,
          1.1307246685028076,
          -9.222169876098633,
          -15.650899887084961,
          1.2250415086746216,
          2.2593777179718018,
          -7.047881126403809,
          4.205593585968018,
          -10.75825023651123,
          -13.347132682800293,
          7.367781162261963,
          11.962058067321777,
          -7.697717189788818,
          -13.61462116241455,
          4.348306655883789,
          0.8927426934242249,
          10.388683319091797,
          4.246354103088379,
          11.916484832763672,
          1.7018681764602661,
          2.9674665927886963,
          8.371464729309082,
          -16.017255783081055,
          -5.082697868347168,
          9.562702178955078,
          6.702715873718262,
          0.4331146478652954,
          10.313774108886719,
          -9.166853904724121,
          -2.0761871337890625,
          -13.19926929473877,
          13.238593101501465,
          13.403985023498535,
          6.509512901306152,
          10.549572944641113,
          1.482035756111145,
          -17.39059829711914,
          -12.526649475097656,
          -10.091008186340332,
          10.323920249938965,
          -3.127734422683716,
          -7.258077144622803,
          4.217827320098877,
          -4.643843173980713,
          -6.804566860198975,
          2.588665008544922,
          -2.363693952560425,
          -3.140035390853882,
          9.459186553955078,
          5.023717403411865,
          6.544857501983643,
          5.821316719055176,
          7.326425075531006,
          -6.1127119064331055,
          12.107916831970215,
          4.579314231872559,
          -0.9652872681617737,
          -2.1214442253112793,
          10.034428596496582,
          4.0087151527404785,
          3.5038814544677734,
          -9.954063415527344,
          -3.293276786804199,
          1.3178731203079224,
          10.484883308410645,
          6.9638543128967285,
          10.106682777404785,
          5.814261436462402,
          -11.61762809753418,
          13.445128440856934,
          -15.427372932434082,
          1.5095568895339966,
          -4.347634792327881,
          6.702142238616943,
          11.125584602355957,
          -3.510960340499878,
          -15.1303071975708,
          -2.6973724365234375,
          7.443937301635742,
          8.46253490447998,
          16.193750381469727,
          10.281729698181152,
          -11.859312057495117,
          -13.675222396850586,
          -6.357830047607422,
          8.434952735900879,
          8.261881828308105,
          8.635464668273926,
          -14.732755661010742,
          13.934975624084473,
          10.241806030273438,
          -6.799032688140869,
          -2.9861080646514893,
          -16.916393280029297,
          -4.669881343841553,
          11.457199096679688,
          9.025666236877441,
          -8.284268379211426,
          -15.257576942443848,
          6.488387584686279,
          12.542757034301758,
          -16.37518310546875,
          -1.4260890483856201,
          -15.78702163696289,
          3.319448232650757,
          0.13617108762264252,
          -16.076059341430664,
          -17.85273551940918,
          3.698967218399048,
          -4.641062259674072,
          -13.276432037353516,
          5.97924280166626,
          -12.024234771728516,
          -6.873457908630371,
          7.513992786407471,
          -14.760749816894531,
          10.416285514831543,
          -3.2641279697418213,
          -6.692886829376221,
          5.300510406494141,
          5.339661121368408,
          -13.674833297729492,
          -0.5687154531478882,
          -0.4672641456127167,
          9.751550674438477,
          -16.064327239990234,
          9.275931358337402,
          0.7944260239601135,
          2.9623003005981445,
          -2.9092648029327393,
          -0.9666471481323242,
          -13.630797386169434,
          13.288800239562988,
          -14.263983726501465,
          -5.546492099761963,
          13.06998062133789,
          15.520992279052734,
          0.14093641936779022,
          10.435856819152832,
          15.235451698303223,
          9.637088775634766,
          -6.241478443145752,
          -0.6227756142616272,
          11.487334251403809,
          10.532435417175293,
          8.051263809204102,
          -7.502229690551758,
          -16.411149978637695,
          12.843121528625488,
          -17.00831413269043,
          4.462111473083496,
          -3.0179357528686523,
          0.46156325936317444,
          -13.216144561767578,
          -1.362834095954895,
          -6.80460262298584,
          -4.8250732421875,
          -13.250850677490234,
          -13.287708282470703,
          -7.872496604919434,
          7.183977127075195,
          -5.291877746582031,
          4.637691974639893,
          -3.707631826400757,
          8.555755615234375,
          3.884617328643799,
          -3.659726142883301,
          2.839602470397949,
          -2.5125691890716553,
          -13.065781593322754,
          -1.8600773811340332,
          10.869767189025879,
          -3.834467887878418,
          -5.665514945983887,
          -17.23470687866211,
          11.821122169494629,
          5.500490665435791,
          -15.089754104614258,
          1.0111329555511475,
          6.110953330993652,
          2.6486032009124756,
          -1.210889220237732,
          4.540259838104248,
          6.0333027839660645,
          -5.72896671295166,
          -13.870429992675781,
          -6.287568092346191,
          -12.360467910766602,
          -15.222210884094238,
          14.481523513793945,
          -2.4223999977111816,
          12.640519142150879,
          5.801512718200684,
          0.27324947714805603,
          6.111602306365967,
          -12.299103736877441,
          -6.217591285705566,
          10.23569393157959,
          -5.535251617431641,
          -10.983593940734863,
          6.528796195983887,
          -15.72683048248291,
          -1.5671520233154297,
          5.540329456329346,
          2.382312536239624,
          -5.695218563079834,
          10.949238777160645,
          9.266586303710938,
          12.52883243560791,
          -8.711860656738281,
          3.6109726428985596,
          -7.495299339294434,
          -7.901071071624756,
          2.5562896728515625,
          5.333245277404785,
          -1.0652642250061035,
          -17.167560577392578,
          -3.3185760974884033,
          6.139938831329346,
          13.710257530212402,
          -5.163651466369629,
          -4.074678897857666,
          -12.575374603271484,
          2.097050905227661,
          -18.05016326904297,
          -14.94418716430664,
          6.8207197189331055,
          -6.990468978881836,
          11.689242362976074,
          2.7015957832336426,
          12.492115020751953,
          3.7765893936157227,
          -8.454315185546875,
          -5.897887229919434,
          -1.5816941261291504,
          -5.986881732940674,
          -10.797357559204102,
          -13.815098762512207,
          8.176926612854004,
          -13.669261932373047,
          10.781396865844727,
          15.595772743225098,
          -1.2472243309020996,
          -5.664809703826904,
          -5.597933769226074,
          -4.352166175842285,
          -13.008338928222656,
          10.233148574829102,
          10.646932601928711,
          3.936244010925293,
          -0.3036137521266937,
          9.433698654174805,
          15.050920486450195,
          -13.0508394241333,
          7.1512932777404785,
          8.33951473236084,
          1.212483286857605,
          -11.24825668334961,
          1.0303329229354858,
          2.7227392196655273,
          -10.126631736755371,
          -11.741833686828613,
          -6.023252487182617,
          -17.5393123626709,
          -8.449049949645996,
          1.566399097442627,
          -5.084993362426758,
          10.752211570739746,
          -5.324711799621582,
          8.510863304138184,
          -12.07492446899414,
          -15.48376750946045,
          11.595715522766113,
          7.214334487915039,
          -5.992019176483154,
          -4.452651023864746,
          -5.897703647613525,
          0.5978969931602478,
          0.659672200679779,
          7.682241439819336,
          3.439823627471924,
          2.2696218490600586,
          9.261750221252441,
          0.24871671199798584,
          0.9068425297737122,
          3.7525744438171387,
          1.6415680646896362,
          4.073028087615967,
          -12.831390380859375,
          -13.015429496765137,
          12.248520851135254,
          -17.161951065063477,
          2.010317325592041,
          1.0771865844726562,
          -2.991917848587036,
          7.498249053955078,
          -2.5455634593963623,
          -13.925976753234863,
          -4.613971710205078,
          -1.8434563875198364,
          -3.960566520690918,
          0.8801557421684265,
          -6.472269535064697,
          0.16092880070209503,
          -14.90868854522705,
          7.013286590576172,
          10.229875564575195,
          -4.298839092254639,
          -15.513379096984863,
          -2.8010010719299316,
          -14.257804870605469,
          0.4126785397529602,
          -7.394944190979004,
          -0.0871908962726593,
          8.851521492004395,
          12.463370323181152,
          2.49094820022583,
          -9.530028343200684,
          14.835009574890137,
          6.168296813964844,
          -15.512685775756836,
          -1.1811248064041138,
          4.602013111114502,
          -11.883498191833496,
          -13.365593910217285,
          3.2114017009735107,
          2.6232924461364746,
          -0.9722997546195984,
          -6.608081817626953,
          -0.7771880626678467,
          -11.594222068786621,
          7.737925052642822,
          6.859642028808594,
          13.898945808410645,
          2.4124808311462402,
          2.1710073947906494,
          2.8691422939300537,
          0.20463180541992188,
          -4.694666385650635,
          6.3272528648376465,
          7.946422100067139,
          -5.545874118804932,
          -8.007492065429688,
          8.01284122467041,
          -13.731023788452148,
          9.452406883239746,
          1.4540364742279053,
          -4.740152835845947,
          7.462111473083496,
          13.803871154785156,
          3.833256483078003,
          11.542655944824219,
          -8.12316608428955,
          -12.657470703125,
          -5.325658321380615,
          -10.658528327941895,
          -15.227853775024414,
          6.750608444213867,
          -7.903421401977539,
          -5.422865867614746,
          -4.0265936851501465,
          3.4107930660247803,
          -1.932421088218689,
          -8.413797378540039,
          1.6338547468185425,
          4.121429920196533,
          2.8237857818603516,
          -9.652769088745117,
          1.8744019269943237,
          3.4694554805755615,
          -9.451818466186523,
          -16.050527572631836,
          0.1645481288433075,
          -5.143548965454102,
          -11.8287353515625,
          11.265246391296387,
          10.367243766784668,
          2.390711545944214,
          -1.7844516038894653,
          -2.9713423252105713,
          -3.03543758392334,
          -12.017931938171387,
          -1.791992425918579,
          8.523773193359375,
          -13.585613250732422,
          15.24246883392334,
          3.329845905303955,
          -11.990568161010742,
          13.42143440246582,
          1.425603985786438,
          -6.250821590423584,
          -5.170492172241211,
          -9.820151329040527,
          -3.759671211242676,
          7.197536945343018,
          -18.084049224853516,
          0.3357226848602295,
          8.492023468017578,
          5.03646993637085,
          -7.004302024841309,
          -4.968778133392334,
          0.27012693881988525,
          0.8908237218856812,
          -6.955695629119873,
          4.972097873687744,
          -1.789400339126587,
          -1.401749849319458,
          -4.522838115692139,
          -3.506322145462036,
          1.4572077989578247,
          -6.53082799911499,
          -6.153878688812256,
          -13.786874771118164,
          -13.987275123596191,
          10.039275169372559,
          -17.145994186401367,
          4.809173583984375,
          15.268643379211426,
          9.334693908691406,
          -14.570651054382324,
          1.6436030864715576,
          3.8292551040649414,
          -15.063417434692383,
          11.13764476776123,
          -13.013141632080078,
          2.7369086742401123,
          8.383666038513184,
          15.825333595275879,
          -1.0770312547683716,
          13.09376335144043,
          13.492392539978027,
          -17.2352294921875,
          10.410662651062012,
          -17.245712280273438,
          1.3255696296691895,
          -0.9962427616119385,
          2.098781108856201,
          10.22557258605957,
          -2.0755317211151123,
          8.807947158813477,
          2.135301113128662,
          2.8128180503845215,
          -2.7165310382843018,
          -2.0020296573638916,
          -3.73799204826355,
          13.000205039978027,
          5.581532955169678,
          -5.173068523406982,
          -0.5128487348556519,
          -13.771136283874512,
          5.556255340576172,
          -4.905588626861572,
          2.334301233291626,
          4.123887538909912,
          -11.8408203125,
          -1.0111602544784546,
          -5.757257461547852,
          -3.93672513961792,
          14.463235855102539,
          5.664506435394287,
          7.541170120239258,
          -12.558910369873047,
          -3.8027820587158203,
          10.270979881286621,
          3.6839301586151123,
          2.58516001701355,
          5.382169246673584,
          10.153634071350098,
          -13.659460067749023,
          13.495013236999512,
          6.085892677307129,
          12.960784912109375,
          -8.517008781433105,
          10.671981811523438,
          -15.767791748046875,
          -3.8738138675689697,
          -3.287968873977661,
          -6.217823028564453,
          5.736291885375977,
          -11.953439712524414,
          6.4148030281066895,
          -12.490426063537598,
          -4.793673992156982,
          -8.27897834777832,
          -7.032302379608154,
          -12.256881713867188,
          1.787270426750183,
          6.722936153411865,
          5.344857692718506,
          13.00998306274414,
          -8.396679878234863,
          1.3735876083374023,
          -2.0847365856170654,
          -13.159798622131348,
          14.064656257629395,
          -4.048550605773926,
          -15.593436241149902,
          -4.829007148742676,
          -13.6315279006958,
          -4.907644748687744,
          -18.37151527404785,
          -16.109874725341797,
          -5.951109886169434,
          5.788327693939209,
          -4.139781475067139,
          3.507288694381714,
          -8.563255310058594,
          7.324090003967285,
          11.574645042419434,
          -5.102941036224365,
          5.810014724731445,
          -4.275754451751709,
          -5.278838634490967,
          8.947314262390137,
          -5.283132553100586,
          -6.111123561859131,
          4.6367998123168945,
          -4.522815704345703,
          6.771759033203125,
          5.652663230895996,
          4.844226837158203,
          -7.871150493621826,
          2.4529690742492676,
          -5.634103298187256,
          -4.501572608947754,
          2.1027650833129883,
          2.7191295623779297,
          -6.86927604675293,
          5.769677639007568,
          -10.881861686706543,
          11.311379432678223,
          3.7490954399108887,
          -5.438456058502197,
          -4.534428119659424,
          -7.655523777008057,
          5.6944260597229,
          15.32175064086914,
          -5.9159255027771,
          12.097994804382324,
          8.855596542358398,
          9.802119255065918,
          3.9171102046966553,
          -1.7005819082260132,
          -14.446626663208008,
          -5.628885269165039,
          -3.2242238521575928,
          2.07637357711792,
          -11.34129810333252,
          -10.09914779663086,
          -6.5321526527404785,
          -2.2304677963256836,
          6.889293670654297,
          -0.7843905091285706,
          -5.3384504318237305,
          -15.521441459655762,
          -11.98898983001709,
          -13.793245315551758,
          1.252586841583252,
          -13.181690216064453,
          -3.359285354614258,
          0.0830516442656517,
          14.38276481628418,
          5.911584854125977,
          3.8204286098480225,
          8.513510704040527,
          3.956636905670166,
          8.043431282043457,
          -12.958284378051758,
          -6.998533248901367,
          -14.473003387451172,
          -7.800104141235352,
          6.444046974182129,
          -13.319221496582031,
          -1.2909713983535767,
          7.676669120788574,
          9.023911476135254,
          7.533871650695801,
          -2.577285051345825,
          -6.452072620391846,
          -17.321964263916016,
          -2.033932685852051,
          8.51968002319336,
          -7.466683387756348,
          -7.284878730773926,
          -5.4715657234191895,
          -11.111822128295898,
          10.876704216003418,
          0.35928505659103394,
          5.155141353607178,
          -6.050226211547852,
          4.611238956451416,
          -1.442865014076233,
          6.80439567565918,
          5.718675136566162,
          -17.39934539794922,
          5.826114177703857,
          15.293729782104492,
          -12.958245277404785,
          -9.937525749206543,
          -16.324440002441406,
          5.3256659507751465,
          -15.077407836914062,
          9.142004013061523,
          -7.170825481414795,
          -15.510581970214844,
          2.0063929557800293,
          0.5427805781364441,
          -5.345971584320068,
          -2.519254207611084,
          -7.738863945007324,
          -1.0568962097167969,
          -1.3841603994369507,
          7.42146110534668,
          4.860082626342773,
          -0.1038551926612854,
          2.161210298538208,
          -12.247962951660156,
          -10.173718452453613,
          5.129372596740723,
          16.251331329345703,
          -7.645132064819336,
          -9.38943099975586,
          -4.56041145324707,
          2.650644302368164,
          15.006099700927734,
          8.446489334106445,
          -13.62259578704834,
          -1.170387625694275,
          -1.0783700942993164,
          12.197854042053223,
          9.632555961608887,
          -3.7197585105895996,
          -7.1799845695495605,
          5.491814136505127,
          -14.282313346862793,
          -5.210053443908691,
          1.6787654161453247,
          -17.43758773803711,
          0.9404916167259216,
          12.144164085388184,
          11.889047622680664,
          -14.36388874053955,
          0.40577080845832825,
          -4.494629859924316,
          -6.4877753257751465,
          -4.45956563949585,
          2.4922893047332764,
          11.909427642822266,
          -13.595952033996582,
          6.749545574188232,
          3.5372467041015625,
          -6.486578464508057,
          -6.008310317993164,
          -17.45020294189453,
          -5.935851097106934,
          -3.8155581951141357,
          -2.7365846633911133,
          -15.14156723022461,
          -8.709611892700195,
          -0.7228469252586365,
          11.954463958740234,
          2.270002841949463,
          -7.4263715744018555,
          -18.237363815307617
         ],
         "z": [
          10.561365127563477,
          -8.745054244995117,
          6.414117813110352,
          -7.860114574432373,
          0.43105050921440125,
          -6.414350986480713,
          -3.5337376594543457,
          -12.583088874816895,
          4.896971225738525,
          7.851059913635254,
          -14.635836601257324,
          1.3493598699569702,
          -12.985709190368652,
          5.804309368133545,
          -1.7158123254776,
          -6.546064853668213,
          -12.99985122680664,
          1.4738889932632446,
          7.912625789642334,
          -6.031854152679443,
          -5.967047214508057,
          12.706464767456055,
          0.24440763890743256,
          4.311114311218262,
          -5.310348987579346,
          -5.046756267547607,
          1.9483706951141357,
          5.491540908813477,
          -2.448403835296631,
          -6.661461353302002,
          5.045681476593018,
          -9.672261238098145,
          6.107430934906006,
          -3.6489007472991943,
          0.12102138996124268,
          14.36767578125,
          -5.3314127922058105,
          5.853705883026123,
          11.684000968933105,
          -7.963168621063232,
          2.3884971141815186,
          -3.4088945388793945,
          2.897782564163208,
          -3.022023916244507,
          -2.0822556018829346,
          -7.068740367889404,
          -2.3752148151397705,
          4.335469722747803,
          1.4829325675964355,
          3.1439008712768555,
          -14.55398941040039,
          9.180766105651855,
          2.766417980194092,
          -6.880091667175293,
          -6.729819297790527,
          -7.969919681549072,
          -8.783313751220703,
          -4.1144118309021,
          -3.8997888565063477,
          2.324115753173828,
          -2.88128924369812,
          2.0804314613342285,
          -9.10647201538086,
          -3.8979642391204834,
          5.922669887542725,
          -2.0557236671447754,
          -0.2413470447063446,
          1.452308177947998,
          0.9351032376289368,
          -9.043929100036621,
          -7.211623668670654,
          -8.932332992553711,
          10.46284008026123,
          -12.14118766784668,
          12.963109016418457,
          9.885290145874023,
          -0.5557383298873901,
          -6.990035533905029,
          16.58403205871582,
          13.136122703552246,
          12.612446784973145,
          9.327506065368652,
          -1.3359507322311401,
          1.05990469455719,
          -4.4469218254089355,
          -8.90759563446045,
          -0.0638895332813263,
          -0.11932139843702316,
          -1.9179449081420898,
          8.327523231506348,
          13.141278266906738,
          -13.414155006408691,
          2.6207363605499268,
          -2.469931125640869,
          -7.405080318450928,
          -8.136764526367188,
          5.141692638397217,
          -6.435418128967285,
          0.25127896666526794,
          -1.1302467584609985,
          9.396010398864746,
          1.6153126955032349,
          -6.589700698852539,
          2.5403382778167725,
          -9.983328819274902,
          7.9376091957092285,
          5.6907219886779785,
          -4.851603984832764,
          12.815051078796387,
          -6.5853753089904785,
          10.284326553344727,
          8.621143341064453,
          -15.637990951538086,
          10.108222961425781,
          2.728389024734497,
          11.13283920288086,
          -5.335620880126953,
          -2.333317756652832,
          -9.848827362060547,
          -0.07002546638250351,
          11.588382720947266,
          -0.1546042114496231,
          -5.421485900878906,
          3.9144628047943115,
          1.6601160764694214,
          -7.002579689025879,
          -6.166719913482666,
          -8.634166717529297,
          -4.918773174285889,
          -6.3917622566223145,
          -1.9984276294708252,
          4.471741199493408,
          -13.430976867675781,
          -4.4463300704956055,
          0.8261482119560242,
          10.025890350341797,
          0.7111457586288452,
          -10.886828422546387,
          -7.084936141967773,
          1.7888550758361816,
          -12.643630981445312,
          7.784873008728027,
          1.740797996520996,
          -0.3902853727340698,
          -1.1061638593673706,
          10.433847427368164,
          -11.463462829589844,
          0.680979311466217,
          -7.944925785064697,
          4.211507320404053,
          9.826410293579102,
          11.274239540100098,
          -5.771721839904785,
          1.3127012252807617,
          11.506379127502441,
          4.975262641906738,
          4.6670026779174805,
          3.4246087074279785,
          16.764835357666016,
          -10.38505744934082,
          -5.953235149383545,
          -3.3101863861083984,
          14.654942512512207,
          16.477706909179688,
          -8.689218521118164,
          2.4170732498168945,
          -12.354475021362305,
          -5.927151203155518,
          1.1928558349609375,
          2.837829828262329,
          5.6773786544799805,
          -7.313713073730469,
          -7.026570796966553,
          3.2206170558929443,
          0.1823873072862625,
          0.9550633430480957,
          -6.828820705413818,
          3.6401100158691406,
          -8.65371322631836,
          -9.721149444580078,
          -0.7778939008712769,
          -8.880729675292969,
          -9.734071731567383,
          -8.859356880187988,
          -6.806382179260254,
          -4.257356643676758,
          -5.007020473480225,
          -1.779008150100708,
          10.812045097351074,
          11.440325736999512,
          1.08871591091156,
          0.3024730980396271,
          -14.076005935668945,
          3.8082096576690674,
          -3.866147518157959,
          -5.749100685119629,
          -2.0109949111938477,
          -5.381875514984131,
          8.072948455810547,
          1.293996810913086,
          -0.30436450242996216,
          3.1305034160614014,
          -5.909740447998047,
          -1.6220777034759521,
          4.6518754959106445,
          -9.590980529785156,
          14.166009902954102,
          -0.9588940739631653,
          -9.706639289855957,
          -6.77895975112915,
          -0.15333540737628937,
          -5.5398688316345215,
          -5.332268238067627,
          10.33891773223877,
          -0.28897425532341003,
          -0.5589751601219177,
          -6.759166717529297,
          -7.604002475738525,
          -8.359739303588867,
          1.7078481912612915,
          5.243985652923584,
          -3.977989912033081,
          -1.0301384925842285,
          14.07746410369873,
          -2.014608144760132,
          13.856158256530762,
          4.487880229949951,
          9.905202865600586,
          0.7330319881439209,
          -5.127011775970459,
          -4.9270124435424805,
          2.7712972164154053,
          -10.657822608947754,
          -10.565281867980957,
          -1.6910643577575684,
          -3.4062252044677734,
          1.5413554906845093,
          10.764201164245605,
          -8.526667594909668,
          4.632186412811279,
          -1.2402992248535156,
          -4.454497337341309,
          2.635789155960083,
          -4.293454170227051,
          -9.5626859664917,
          -1.0910950899124146,
          10.90732479095459,
          16.77764892578125,
          4.451772212982178,
          0.3524697721004486,
          -0.39283835887908936,
          1.8921560049057007,
          -8.473666191101074,
          -2.8583757877349854,
          8.88914966583252,
          2.245194673538208,
          10.982490539550781,
          -1.256083607673645,
          -4.82537841796875,
          -1.3822059631347656,
          2.669588088989258,
          -1.4301494359970093,
          1.5974520444869995,
          1.6476043462753296,
          1.075494408607483,
          -4.371387481689453,
          -11.305342674255371,
          -5.274738311767578,
          12.75578784942627,
          -5.0823283195495605,
          -4.208949565887451,
          -8.351710319519043,
          12.162659645080566,
          3.083035469055176,
          -8.870396614074707,
          -0.8241615891456604,
          -7.193055629730225,
          0.3531714677810669,
          -4.119073867797852,
          10.650923728942871,
          3.8265492916107178,
          2.7032556533813477,
          9.581942558288574,
          9.350552558898926,
          2.4842312335968018,
          -4.935109615325928,
          2.093733787536621,
          -4.3745903968811035,
          -1.534213900566101,
          7.876486301422119,
          8.711662292480469,
          -4.204041004180908,
          5.663477420806885,
          -4.165981292724609,
          1.0630779266357422,
          -14.079573631286621,
          -10.43747329711914,
          16.084409713745117,
          3.7212023735046387,
          10.940519332885742,
          -9.682611465454102,
          -2.427459716796875,
          -6.444848537445068,
          -9.87574291229248,
          -8.184974670410156,
          14.772299766540527,
          -4.507907867431641,
          13.854803085327148,
          2.1772711277008057,
          -7.102391242980957,
          -6.692465782165527,
          -0.0892568975687027,
          -7.897237300872803,
          4.039172649383545,
          -3.2982499599456787,
          11.870616912841797,
          2.655266761779785,
          -4.739540100097656,
          15.012320518493652,
          -6.5137152671813965,
          -9.111382484436035,
          12.478814125061035,
          -9.544063568115234,
          -6.856878757476807,
          12.531147956848145,
          12.91208267211914,
          -10.123269081115723,
          -11.663556098937988,
          -0.30517566204071045,
          -9.118215560913086,
          -5.060456275939941,
          -6.652920722961426,
          -1.3203046321868896,
          6.523165225982666,
          0.41673970222473145,
          -0.43121537566185,
          -6.211066246032715,
          9.945602416992188,
          -5.1985626220703125,
          -5.119400501251221,
          10.956216812133789,
          10.715152740478516,
          -10.070573806762695,
          0.626798689365387,
          -11.94388484954834,
          -0.9218813180923462,
          -5.017203330993652,
          0.38229629397392273,
          -9.283263206481934,
          -6.956023216247559,
          2.559746265411377,
          11.789597511291504,
          -1.634310245513916,
          -8.326749801635742,
          2.1298983097076416,
          10.391312599182129,
          1.3881776332855225,
          -2.0996875762939453,
          -7.8964314460754395,
          13.688825607299805,
          -7.991698265075684,
          -5.123197555541992,
          4.746862411499023,
          2.108940601348877,
          -9.91858959197998,
          14.885894775390625,
          -5.355259895324707,
          -3.270879030227661,
          -1.0432534217834473,
          -4.796675205230713,
          3.6763761043548584,
          -1.2260675430297852,
          -0.2277912050485611,
          0.44592660665512085,
          -9.429678916931152,
          4.966124534606934,
          13.227080345153809,
          -8.63441276550293,
          -7.1030354499816895,
          8.005879402160645,
          -10.96778678894043,
          2.7097721099853516,
          12.027097702026367,
          10.582155227661133,
          -6.910158157348633,
          5.13127326965332,
          5.7570271492004395,
          4.757730007171631,
          0.5773755311965942,
          9.454361915588379,
          2.4039459228515625,
          5.679252624511719,
          13.441157341003418,
          11.1394681930542,
          -1.919161081314087,
          -8.274093627929688,
          7.76258659362793,
          -9.209754943847656,
          11.787574768066406,
          10.534035682678223,
          0.06776542961597443,
          -0.2640376687049866,
          -0.44563156366348267,
          -10.21723747253418,
          -10.478372573852539,
          -5.2918219566345215,
          2.5427913665771484,
          3.50895094871521,
          -11.542906761169434,
          -7.699767589569092,
          -4.833654880523682,
          8.47819709777832,
          -9.879032135009766,
          14.689739227294922,
          -3.8178131580352783,
          2.873440980911255,
          1.5658808946609497,
          -6.317785739898682,
          -11.890509605407715,
          -1.220597267150879,
          9.388257026672363,
          4.490047454833984,
          -3.7341089248657227,
          -8.843626022338867,
          0.5406094789505005,
          -0.161152645945549,
          -4.378764629364014,
          -8.753517150878906,
          10.132513046264648,
          -0.8545323610305786,
          10.823554992675781,
          -4.444134712219238,
          1.0267750024795532,
          -8.339197158813477,
          -6.927280902862549,
          1.9378238916397095,
          -1.0465227365493774,
          -0.45271241664886475,
          13.55316162109375,
          4.4684319496154785,
          8.523033142089844,
          16.60249900817871,
          3.7825591564178467,
          -2.991631031036377,
          -0.17494994401931763,
          -7.77877950668335,
          -7.402040481567383,
          0.5455944538116455,
          0.5852951407432556,
          -10.29240608215332,
          0.361427366733551,
          0.7236182689666748,
          4.119032859802246,
          14.590726852416992,
          -14.601591110229492,
          -6.547207832336426,
          1.1017632484436035,
          1.3082356452941895,
          16.284086227416992,
          17.90358543395996,
          -6.871693134307861,
          2.621690034866333,
          2.3501534461975098,
          11.562209129333496,
          3.1264755725860596,
          12.95324993133545,
          12.534568786621094,
          -9.053093910217285,
          1.9914389848709106,
          1.2723796367645264,
          11.749988555908203,
          -1.9875935316085815,
          -0.6728042364120483,
          11.216364860534668,
          5.1255598068237305,
          -3.420915365219116,
          -5.833881378173828,
          -7.117199897766113,
          8.506264686584473,
          -5.214963436126709,
          2.548041582107544,
          0.645323634147644,
          -7.811835765838623,
          -2.7975189685821533,
          -5.044309616088867,
          -2.22926926612854,
          -6.7237701416015625,
          9.844799995422363,
          10.188801765441895,
          4.6115851402282715,
          15.445462226867676,
          -14.108293533325195,
          -5.465186595916748,
          -6.015318393707275,
          2.2781484127044678,
          -10.77750301361084,
          -6.919054985046387,
          -11.992294311523438,
          0.7059787511825562,
          7.980483531951904,
          -6.79431676864624,
          4.796369552612305,
          13.19897747039795,
          -1.514654517173767,
          9.957672119140625,
          4.058453559875488,
          15.69161605834961,
          -0.3915705978870392,
          9.832523345947266,
          -8.042038917541504,
          1.2074594497680664,
          2.904097557067871,
          -3.5826547145843506,
          -5.396973609924316,
          16.021692276000977,
          1.4389557838439941,
          -0.17727507650852203,
          16.220657348632812,
          2.4052107334136963,
          -4.531026840209961,
          9.696069717407227,
          -2.7352561950683594,
          -4.152286052703857,
          -0.763255774974823,
          -8.599366188049316,
          -5.533941268920898,
          10.378251075744629,
          -2.4554076194763184,
          0.5730206966400146,
          12.679743766784668,
          -6.454252243041992,
          -6.198745250701904,
          -11.970613479614258,
          3.255465507507324,
          -13.263218879699707,
          -6.840023994445801,
          -8.222025871276855,
          -1.907187581062317,
          6.2475266456604,
          -5.273059844970703,
          0.8455483913421631,
          -10.343683242797852,
          -4.80914306640625,
          -8.26262378692627,
          0.3272886574268341,
          -13.877015113830566,
          9.754138946533203,
          -10.236781120300293,
          -9.992586135864258,
          9.586129188537598,
          3.2028794288635254,
          9.9127197265625,
          1.2861289978027344,
          16.698545455932617,
          -0.41360679268836975,
          -5.21159029006958,
          -11.682392120361328,
          13.69262409210205,
          -10.939661979675293,
          2.0063512325286865,
          -2.5143213272094727,
          -8.798145294189453,
          -0.5732138752937317,
          -12.339171409606934,
          1.1885911226272583,
          14.301311492919922,
          2.845198392868042,
          4.3474578857421875,
          -11.095316886901855,
          -13.253926277160645,
          10.45742416381836,
          -13.50488567352295,
          -11.021193504333496,
          -7.179991245269775,
          -9.932583808898926,
          -6.620362281799316,
          -6.018036842346191,
          -1.0882261991500854,
          9.623838424682617,
          12.420149803161621,
          9.273439407348633,
          13.776780128479004,
          0.6869292855262756,
          -6.014442443847656,
          2.3171756267547607,
          14.142020225524902,
          12.557133674621582,
          5.658050537109375,
          -3.2025060653686523,
          -5.597408771514893,
          -0.8039488792419434,
          2.2024238109588623,
          3.025367498397827,
          -10.53310775756836,
          2.340632915496826,
          1.6998240947723389,
          -10.326841354370117,
          -5.7436089515686035,
          -7.88364315032959,
          -2.4107236862182617,
          -11.134654998779297,
          0.36270710825920105,
          -7.65530252456665,
          -4.001575946807861,
          -10.096673965454102,
          -7.1402435302734375,
          -11.606356620788574,
          -7.577714920043945,
          0.12077610194683075,
          -8.471060752868652,
          -4.7958984375,
          7.969679355621338,
          10.774636268615723,
          11.795762062072754,
          10.153546333312988,
          0.2870900332927704,
          -1.683910846710205,
          -2.5758328437805176,
          2.202714681625366,
          12.559821128845215,
          4.600560665130615,
          1.8459031581878662,
          0.20852181315422058,
          3.16802716255188,
          -0.4101622402667999,
          -11.075202941894531,
          -5.3353376388549805,
          2.710592269897461,
          2.4157567024230957,
          11.860508918762207,
          5.810394287109375,
          -5.311331272125244,
          15.26004409790039,
          -2.022392988204956,
          8.241168022155762,
          6.489956378936768,
          6.552985191345215,
          4.1096296310424805,
          -14.324522018432617,
          2.3737831115722656,
          4.84205436706543,
          -6.752826690673828,
          -5.654025077819824,
          7.813065528869629,
          -6.623285293579102,
          15.670310020446777,
          2.4591104984283447,
          9.623979568481445,
          -6.075430393218994,
          12.805197715759277,
          4.4970598220825195,
          2.5513675212860107,
          1.980000615119934,
          -12.364604949951172,
          1.3158432245254517,
          -7.473522186279297,
          -1.1341718435287476,
          10.023519515991211,
          4.06552791595459,
          -7.000410079956055,
          -7.601988315582275,
          1.7655245065689087,
          3.1739439964294434,
          10.69681167602539,
          -10.278952598571777,
          1.422515630722046,
          -9.317047119140625,
          -4.993350028991699,
          -5.280684947967529,
          1.768751621246338,
          1.3571324348449707,
          10.097853660583496,
          -0.3141780495643616,
          3.1638896465301514,
          -9.1636381149292,
          3.30216121673584,
          -8.512519836425781,
          -14.880583763122559,
          -9.675081253051758,
          -4.254714012145996,
          1.2647392749786377,
          3.123044967651367,
          11.423242568969727,
          -7.114828586578369,
          -1.8742581605911255,
          1.3026454448699951,
          10.616253852844238,
          1.2958271503448486,
          -13.919473648071289,
          -6.687483787536621,
          -6.028911113739014,
          -6.871366500854492,
          -9.150738716125488,
          1.6729871034622192,
          -15.51365852355957,
          -11.570623397827148,
          13.468173027038574,
          13.474160194396973,
          16.86487579345703,
          -4.64735746383667,
          -1.9701370000839233,
          15.319575309753418,
          5.817503929138184,
          -2.4380581378936768,
          9.801472663879395,
          -7.830061435699463,
          -13.005640029907227,
          -4.70469856262207,
          5.6875481605529785,
          -3.546377658843994,
          -3.157242774963379,
          3.8775548934936523,
          3.5721795558929443,
          -5.119597911834717,
          5.402340888977051,
          -10.026097297668457,
          -6.39486837387085,
          -7.039297103881836,
          5.360630035400391,
          4.261150360107422,
          7.827640533447266,
          -5.803032875061035,
          -6.998842239379883,
          9.246686935424805,
          1.5188615322113037,
          6.189976692199707,
          -9.524879455566406,
          -11.808117866516113,
          -8.635616302490234,
          -7.555300235748291,
          -0.3049503266811371,
          -0.7528665065765381,
          3.457029342651367,
          4.620312213897705,
          1.775931715965271,
          -14.133540153503418,
          10.733107566833496,
          15.39706039428711,
          16.132352828979492,
          -5.099997520446777,
          3.642481803894043,
          8.520962715148926,
          9.63253402709961,
          -5.263314247131348,
          11.905655860900879,
          15.943662643432617,
          11.76871109008789,
          -14.82628059387207,
          1.9948073625564575,
          -7.746926307678223,
          -8.320586204528809,
          0.6056795120239258,
          -7.676074504852295,
          -3.881744384765625,
          3.4633045196533203,
          3.8304965496063232,
          12.976968765258789,
          -1.385719895362854,
          -5.73297119140625,
          -0.36006584763526917,
          -8.23807430267334,
          -0.4373118579387665,
          5.323672771453857,
          0.2378162294626236,
          11.519851684570312,
          -3.7549047470092773,
          -5.263832092285156,
          0.09069053083658218,
          -4.807347297668457,
          0.12675762176513672,
          12.719740867614746,
          8.227371215820312,
          4.341551303863525,
          -4.9474358558654785,
          12.620807647705078,
          1.5566972494125366,
          2.433518171310425,
          -1.694960594177246,
          15.265501976013184,
          11.44330883026123,
          10.732288360595703,
          -4.685503005981445,
          -7.657764434814453,
          9.749345779418945,
          16.910858154296875,
          -7.8335347175598145,
          -0.8866260647773743,
          -9.830711364746094,
          15.478072166442871,
          13.195465087890625,
          -10.874585151672363,
          10.845986366271973,
          -5.468219757080078,
          14.77437973022461,
          -4.233899116516113,
          -10.700583457946777,
          3.460019588470459,
          0.9786494970321655,
          12.395247459411621,
          0.559678852558136,
          0.05693533644080162,
          3.804527521133423,
          1.6062830686569214,
          -8.933320999145508,
          4.5248332023620605,
          1.8705167770385742,
          0.9672799706459045,
          -5.3974409103393555,
          -13.209498405456543,
          3.724851131439209,
          -0.1975015252828598,
          -5.558020114898682,
          14.43381118774414,
          8.651558876037598,
          -8.263410568237305,
          0.5708997249603271,
          -6.038287162780762,
          -10.280475616455078,
          -6.322962760925293,
          -10.415999412536621,
          -12.506131172180176,
          3.809556484222412,
          16.7858829498291,
          -7.836429119110107,
          -2.8958821296691895,
          -2.1410279273986816,
          -13.20716667175293,
          14.128414154052734,
          13.027018547058105,
          -6.904366493225098,
          -5.220623016357422,
          13.473301887512207,
          -8.008149147033691,
          -5.258415222167969,
          1.5737196207046509,
          -9.326555252075195,
          -1.343924641609192,
          0.404786616563797,
          -12.000271797180176,
          0.8166949152946472,
          11.757843971252441,
          2.47206711769104,
          -10.2349271774292,
          -3.8148410320281982,
          -4.369304180145264,
          -12.27320671081543,
          -7.490945339202881,
          12.365323066711426,
          10.289667129516602,
          1.8629082441329956,
          -11.527351379394531,
          11.013520240783691,
          0.8135915398597717,
          11.646748542785645,
          0.5918957591056824,
          -4.50408935546875,
          0.337702214717865,
          -14.457704544067383,
          14.50196647644043,
          -5.220695495605469,
          10.845795631408691,
          13.14273738861084,
          1.2073030471801758,
          11.3126859664917,
          -4.227383613586426,
          -10.997169494628906,
          -2.739022970199585,
          13.354897499084473,
          -10.25008773803711,
          7.748495101928711,
          -10.984376907348633,
          3.150048017501831,
          -0.17604169249534607,
          10.729196548461914,
          -7.315340042114258,
          5.850180149078369,
          -1.8431127071380615,
          -2.241969347000122,
          8.252019882202148,
          3.7911953926086426,
          8.593389511108398,
          15.738656997680664,
          9.986878395080566,
          -8.6742582321167,
          -9.57480239868164,
          -15.348108291625977,
          11.529518127441406,
          4.651914119720459,
          10.719098091125488,
          -4.080220699310303,
          -0.573996365070343,
          -7.054924488067627,
          0.2610322833061218,
          9.584121704101562,
          -7.870059013366699,
          9.551581382751465,
          10.185098648071289,
          0.3611634373664856,
          0.6158895492553711,
          0.6585758328437805,
          -3.878571033477783,
          -1.2276126146316528,
          2.5192036628723145,
          -10.44597339630127,
          12.62647819519043,
          -1.4625389575958252,
          -10.549509048461914,
          -8.883858680725098,
          0.2139413058757782,
          14.333513259887695,
          -1.3953213691711426,
          5.5811285972595215,
          2.7500100135803223,
          13.331814765930176,
          -5.8603081703186035,
          2.2236106395721436,
          7.75767183303833,
          -5.821712493896484,
          -14.339204788208008,
          -14.923151969909668,
          10.423261642456055,
          -13.260116577148438,
          -0.3866633176803589,
          10.979104995727539,
          -5.428645133972168,
          9.364750862121582,
          -8.928670883178711,
          8.521770477294922,
          3.422926664352417,
          -4.7097673416137695,
          1.3393281698226929,
          1.9398857355117798,
          0.08457162231206894,
          -8.312634468078613,
          -9.81084156036377,
          -0.43864330649375916,
          5.2310943603515625,
          4.312966823577881,
          -8.634775161743164,
          -13.03089714050293,
          2.3625338077545166,
          -1.8505558967590332,
          16.292743682861328,
          -12.671185493469238,
          15.146273612976074,
          -4.329571723937988,
          15.52003288269043,
          12.894213676452637,
          -4.27030611038208,
          -9.549724578857422,
          8.200698852539062,
          3.5485072135925293,
          -10.325937271118164,
          -10.141632080078125,
          4.490227699279785,
          1.5621795654296875,
          -15.342962265014648,
          -5.914834499359131,
          -5.045220851898193,
          -1.8041269779205322,
          -3.155468225479126,
          4.543135643005371,
          3.9110307693481445,
          16.071613311767578,
          9.746561050415039,
          2.7546777725219727,
          -3.7550466060638428,
          16.745241165161133,
          -4.931446075439453,
          -0.7017181515693665,
          -7.4763264656066895,
          13.457155227661133,
          10.97434139251709,
          2.0962674617767334,
          11.351487159729004,
          -4.314225196838379,
          -4.608535289764404,
          -6.925784111022949,
          3.4026708602905273,
          -9.876869201660156,
          -4.677944183349609,
          9.326449394226074,
          15.968395233154297,
          -3.6812126636505127,
          -6.910118579864502,
          -0.2947872579097748,
          -1.9990264177322388,
          -10.481999397277832,
          -13.22750186920166,
          -1.89365816116333,
          -9.61792278289795,
          14.669027328491211,
          15.914198875427246,
          4.129086017608643,
          -5.754085540771484,
          9.126617431640625,
          0.15131133794784546,
          14.880433082580566,
          -8.742195129394531,
          -1.2067980766296387
         ]
        }
       ],
       "layout": {
        "coloraxis": {
         "colorbar": {
          "title": {
           "text": "Label"
          }
         },
         "colorscale": [
          [
           0,
           "#0d0887"
          ],
          [
           0.1111111111111111,
           "#46039f"
          ],
          [
           0.2222222222222222,
           "#7201a8"
          ],
          [
           0.3333333333333333,
           "#9c179e"
          ],
          [
           0.4444444444444444,
           "#bd3786"
          ],
          [
           0.5555555555555556,
           "#d8576b"
          ],
          [
           0.6666666666666666,
           "#ed7953"
          ],
          [
           0.7777777777777778,
           "#fb9f3a"
          ],
          [
           0.8888888888888888,
           "#fdca26"
          ],
          [
           1,
           "#f0f921"
          ]
         ]
        },
        "height": 800,
        "legend": {
         "tracegroupgap": 0
        },
        "scene": {
         "domain": {
          "x": [
           0,
           1
          ],
          "y": [
           0,
           1
          ]
         },
         "xaxis": {
          "title": {
           "text": "0"
          }
         },
         "yaxis": {
          "title": {
           "text": "1"
          }
         },
         "zaxis": {
          "title": {
           "text": "2"
          }
         }
        },
        "template": {
         "data": {
          "bar": [
           {
            "error_x": {
             "color": "#2a3f5f"
            },
            "error_y": {
             "color": "#2a3f5f"
            },
            "marker": {
             "line": {
              "color": "#E5ECF6",
              "width": 0.5
             }
            },
            "type": "bar"
           }
          ],
          "barpolar": [
           {
            "marker": {
             "line": {
              "color": "#E5ECF6",
              "width": 0.5
             }
            },
            "type": "barpolar"
           }
          ],
          "carpet": [
           {
            "aaxis": {
             "endlinecolor": "#2a3f5f",
             "gridcolor": "white",
             "linecolor": "white",
             "minorgridcolor": "white",
             "startlinecolor": "#2a3f5f"
            },
            "baxis": {
             "endlinecolor": "#2a3f5f",
             "gridcolor": "white",
             "linecolor": "white",
             "minorgridcolor": "white",
             "startlinecolor": "#2a3f5f"
            },
            "type": "carpet"
           }
          ],
          "choropleth": [
           {
            "colorbar": {
             "outlinewidth": 0,
             "ticks": ""
            },
            "type": "choropleth"
           }
          ],
          "contour": [
           {
            "colorbar": {
             "outlinewidth": 0,
             "ticks": ""
            },
            "colorscale": [
             [
              0,
              "#0d0887"
             ],
             [
              0.1111111111111111,
              "#46039f"
             ],
             [
              0.2222222222222222,
              "#7201a8"
             ],
             [
              0.3333333333333333,
              "#9c179e"
             ],
             [
              0.4444444444444444,
              "#bd3786"
             ],
             [
              0.5555555555555556,
              "#d8576b"
             ],
             [
              0.6666666666666666,
              "#ed7953"
             ],
             [
              0.7777777777777778,
              "#fb9f3a"
             ],
             [
              0.8888888888888888,
              "#fdca26"
             ],
             [
              1,
              "#f0f921"
             ]
            ],
            "type": "contour"
           }
          ],
          "contourcarpet": [
           {
            "colorbar": {
             "outlinewidth": 0,
             "ticks": ""
            },
            "type": "contourcarpet"
           }
          ],
          "heatmap": [
           {
            "colorbar": {
             "outlinewidth": 0,
             "ticks": ""
            },
            "colorscale": [
             [
              0,
              "#0d0887"
             ],
             [
              0.1111111111111111,
              "#46039f"
             ],
             [
              0.2222222222222222,
              "#7201a8"
             ],
             [
              0.3333333333333333,
              "#9c179e"
             ],
             [
              0.4444444444444444,
              "#bd3786"
             ],
             [
              0.5555555555555556,
              "#d8576b"
             ],
             [
              0.6666666666666666,
              "#ed7953"
             ],
             [
              0.7777777777777778,
              "#fb9f3a"
             ],
             [
              0.8888888888888888,
              "#fdca26"
             ],
             [
              1,
              "#f0f921"
             ]
            ],
            "type": "heatmap"
           }
          ],
          "heatmapgl": [
           {
            "colorbar": {
             "outlinewidth": 0,
             "ticks": ""
            },
            "colorscale": [
             [
              0,
              "#0d0887"
             ],
             [
              0.1111111111111111,
              "#46039f"
             ],
             [
              0.2222222222222222,
              "#7201a8"
             ],
             [
              0.3333333333333333,
              "#9c179e"
             ],
             [
              0.4444444444444444,
              "#bd3786"
             ],
             [
              0.5555555555555556,
              "#d8576b"
             ],
             [
              0.6666666666666666,
              "#ed7953"
             ],
             [
              0.7777777777777778,
              "#fb9f3a"
             ],
             [
              0.8888888888888888,
              "#fdca26"
             ],
             [
              1,
              "#f0f921"
             ]
            ],
            "type": "heatmapgl"
           }
          ],
          "histogram": [
           {
            "marker": {
             "colorbar": {
              "outlinewidth": 0,
              "ticks": ""
             }
            },
            "type": "histogram"
           }
          ],
          "histogram2d": [
           {
            "colorbar": {
             "outlinewidth": 0,
             "ticks": ""
            },
            "colorscale": [
             [
              0,
              "#0d0887"
             ],
             [
              0.1111111111111111,
              "#46039f"
             ],
             [
              0.2222222222222222,
              "#7201a8"
             ],
             [
              0.3333333333333333,
              "#9c179e"
             ],
             [
              0.4444444444444444,
              "#bd3786"
             ],
             [
              0.5555555555555556,
              "#d8576b"
             ],
             [
              0.6666666666666666,
              "#ed7953"
             ],
             [
              0.7777777777777778,
              "#fb9f3a"
             ],
             [
              0.8888888888888888,
              "#fdca26"
             ],
             [
              1,
              "#f0f921"
             ]
            ],
            "type": "histogram2d"
           }
          ],
          "histogram2dcontour": [
           {
            "colorbar": {
             "outlinewidth": 0,
             "ticks": ""
            },
            "colorscale": [
             [
              0,
              "#0d0887"
             ],
             [
              0.1111111111111111,
              "#46039f"
             ],
             [
              0.2222222222222222,
              "#7201a8"
             ],
             [
              0.3333333333333333,
              "#9c179e"
             ],
             [
              0.4444444444444444,
              "#bd3786"
             ],
             [
              0.5555555555555556,
              "#d8576b"
             ],
             [
              0.6666666666666666,
              "#ed7953"
             ],
             [
              0.7777777777777778,
              "#fb9f3a"
             ],
             [
              0.8888888888888888,
              "#fdca26"
             ],
             [
              1,
              "#f0f921"
             ]
            ],
            "type": "histogram2dcontour"
           }
          ],
          "mesh3d": [
           {
            "colorbar": {
             "outlinewidth": 0,
             "ticks": ""
            },
            "type": "mesh3d"
           }
          ],
          "parcoords": [
           {
            "line": {
             "colorbar": {
              "outlinewidth": 0,
              "ticks": ""
             }
            },
            "type": "parcoords"
           }
          ],
          "pie": [
           {
            "automargin": true,
            "type": "pie"
           }
          ],
          "scatter": [
           {
            "marker": {
             "colorbar": {
              "outlinewidth": 0,
              "ticks": ""
             }
            },
            "type": "scatter"
           }
          ],
          "scatter3d": [
           {
            "line": {
             "colorbar": {
              "outlinewidth": 0,
              "ticks": ""
             }
            },
            "marker": {
             "colorbar": {
              "outlinewidth": 0,
              "ticks": ""
             }
            },
            "type": "scatter3d"
           }
          ],
          "scattercarpet": [
           {
            "marker": {
             "colorbar": {
              "outlinewidth": 0,
              "ticks": ""
             }
            },
            "type": "scattercarpet"
           }
          ],
          "scattergeo": [
           {
            "marker": {
             "colorbar": {
              "outlinewidth": 0,
              "ticks": ""
             }
            },
            "type": "scattergeo"
           }
          ],
          "scattergl": [
           {
            "marker": {
             "colorbar": {
              "outlinewidth": 0,
              "ticks": ""
             }
            },
            "type": "scattergl"
           }
          ],
          "scattermapbox": [
           {
            "marker": {
             "colorbar": {
              "outlinewidth": 0,
              "ticks": ""
             }
            },
            "type": "scattermapbox"
           }
          ],
          "scatterpolar": [
           {
            "marker": {
             "colorbar": {
              "outlinewidth": 0,
              "ticks": ""
             }
            },
            "type": "scatterpolar"
           }
          ],
          "scatterpolargl": [
           {
            "marker": {
             "colorbar": {
              "outlinewidth": 0,
              "ticks": ""
             }
            },
            "type": "scatterpolargl"
           }
          ],
          "scatterternary": [
           {
            "marker": {
             "colorbar": {
              "outlinewidth": 0,
              "ticks": ""
             }
            },
            "type": "scatterternary"
           }
          ],
          "surface": [
           {
            "colorbar": {
             "outlinewidth": 0,
             "ticks": ""
            },
            "colorscale": [
             [
              0,
              "#0d0887"
             ],
             [
              0.1111111111111111,
              "#46039f"
             ],
             [
              0.2222222222222222,
              "#7201a8"
             ],
             [
              0.3333333333333333,
              "#9c179e"
             ],
             [
              0.4444444444444444,
              "#bd3786"
             ],
             [
              0.5555555555555556,
              "#d8576b"
             ],
             [
              0.6666666666666666,
              "#ed7953"
             ],
             [
              0.7777777777777778,
              "#fb9f3a"
             ],
             [
              0.8888888888888888,
              "#fdca26"
             ],
             [
              1,
              "#f0f921"
             ]
            ],
            "type": "surface"
           }
          ],
          "table": [
           {
            "cells": {
             "fill": {
              "color": "#EBF0F8"
             },
             "line": {
              "color": "white"
             }
            },
            "header": {
             "fill": {
              "color": "#C8D4E3"
             },
             "line": {
              "color": "white"
             }
            },
            "type": "table"
           }
          ]
         },
         "layout": {
          "annotationdefaults": {
           "arrowcolor": "#2a3f5f",
           "arrowhead": 0,
           "arrowwidth": 1
          },
          "coloraxis": {
           "colorbar": {
            "outlinewidth": 0,
            "ticks": ""
           }
          },
          "colorscale": {
           "diverging": [
            [
             0,
             "#8e0152"
            ],
            [
             0.1,
             "#c51b7d"
            ],
            [
             0.2,
             "#de77ae"
            ],
            [
             0.3,
             "#f1b6da"
            ],
            [
             0.4,
             "#fde0ef"
            ],
            [
             0.5,
             "#f7f7f7"
            ],
            [
             0.6,
             "#e6f5d0"
            ],
            [
             0.7,
             "#b8e186"
            ],
            [
             0.8,
             "#7fbc41"
            ],
            [
             0.9,
             "#4d9221"
            ],
            [
             1,
             "#276419"
            ]
           ],
           "sequential": [
            [
             0,
             "#0d0887"
            ],
            [
             0.1111111111111111,
             "#46039f"
            ],
            [
             0.2222222222222222,
             "#7201a8"
            ],
            [
             0.3333333333333333,
             "#9c179e"
            ],
            [
             0.4444444444444444,
             "#bd3786"
            ],
            [
             0.5555555555555556,
             "#d8576b"
            ],
            [
             0.6666666666666666,
             "#ed7953"
            ],
            [
             0.7777777777777778,
             "#fb9f3a"
            ],
            [
             0.8888888888888888,
             "#fdca26"
            ],
            [
             1,
             "#f0f921"
            ]
           ],
           "sequentialminus": [
            [
             0,
             "#0d0887"
            ],
            [
             0.1111111111111111,
             "#46039f"
            ],
            [
             0.2222222222222222,
             "#7201a8"
            ],
            [
             0.3333333333333333,
             "#9c179e"
            ],
            [
             0.4444444444444444,
             "#bd3786"
            ],
            [
             0.5555555555555556,
             "#d8576b"
            ],
            [
             0.6666666666666666,
             "#ed7953"
            ],
            [
             0.7777777777777778,
             "#fb9f3a"
            ],
            [
             0.8888888888888888,
             "#fdca26"
            ],
            [
             1,
             "#f0f921"
            ]
           ]
          },
          "colorway": [
           "#636efa",
           "#EF553B",
           "#00cc96",
           "#ab63fa",
           "#FFA15A",
           "#19d3f3",
           "#FF6692",
           "#B6E880",
           "#FF97FF",
           "#FECB52"
          ],
          "font": {
           "color": "#2a3f5f"
          },
          "geo": {
           "bgcolor": "white",
           "lakecolor": "white",
           "landcolor": "#E5ECF6",
           "showlakes": true,
           "showland": true,
           "subunitcolor": "white"
          },
          "hoverlabel": {
           "align": "left"
          },
          "hovermode": "closest",
          "mapbox": {
           "style": "light"
          },
          "paper_bgcolor": "white",
          "plot_bgcolor": "#E5ECF6",
          "polar": {
           "angularaxis": {
            "gridcolor": "white",
            "linecolor": "white",
            "ticks": ""
           },
           "bgcolor": "#E5ECF6",
           "radialaxis": {
            "gridcolor": "white",
            "linecolor": "white",
            "ticks": ""
           }
          },
          "scene": {
           "xaxis": {
            "backgroundcolor": "#E5ECF6",
            "gridcolor": "white",
            "gridwidth": 2,
            "linecolor": "white",
            "showbackground": true,
            "ticks": "",
            "zerolinecolor": "white"
           },
           "yaxis": {
            "backgroundcolor": "#E5ECF6",
            "gridcolor": "white",
            "gridwidth": 2,
            "linecolor": "white",
            "showbackground": true,
            "ticks": "",
            "zerolinecolor": "white"
           },
           "zaxis": {
            "backgroundcolor": "#E5ECF6",
            "gridcolor": "white",
            "gridwidth": 2,
            "linecolor": "white",
            "showbackground": true,
            "ticks": "",
            "zerolinecolor": "white"
           }
          },
          "shapedefaults": {
           "line": {
            "color": "#2a3f5f"
           }
          },
          "ternary": {
           "aaxis": {
            "gridcolor": "white",
            "linecolor": "white",
            "ticks": ""
           },
           "baxis": {
            "gridcolor": "white",
            "linecolor": "white",
            "ticks": ""
           },
           "bgcolor": "#E5ECF6",
           "caxis": {
            "gridcolor": "white",
            "linecolor": "white",
            "ticks": ""
           }
          },
          "title": {
           "x": 0.05
          },
          "xaxis": {
           "automargin": true,
           "gridcolor": "white",
           "linecolor": "white",
           "ticks": "",
           "title": {
            "standoff": 15
           },
           "zerolinecolor": "white",
           "zerolinewidth": 2
          },
          "yaxis": {
           "automargin": true,
           "gridcolor": "white",
           "linecolor": "white",
           "ticks": "",
           "title": {
            "standoff": 15
           },
           "zerolinecolor": "white",
           "zerolinewidth": 2
          }
         }
        },
        "title": {
         "text": "3d TSNE Plot for Outliers"
        },
        "width": 900
       }
      },
      "text/html": [
       "<div>\n",
       "        \n",
       "        \n",
       "            <div id=\"cff3ec17-7938-42e9-9be2-89a04db1f4a7\" class=\"plotly-graph-div\" style=\"height:800px; width:900px;\"></div>\n",
       "            <script type=\"text/javascript\">\n",
       "                require([\"plotly\"], function(Plotly) {\n",
       "                    window.PLOTLYENV=window.PLOTLYENV || {};\n",
       "                    \n",
       "                if (document.getElementById(\"cff3ec17-7938-42e9-9be2-89a04db1f4a7\")) {\n",
       "                    Plotly.newPlot(\n",
       "                        'cff3ec17-7938-42e9-9be2-89a04db1f4a7',\n",
       "                        [{\"customdata\": [[0.263995357], [0.546092303], [0.33671410399999996], [0.092107835], [0.325261175], [0.212464853], [0.258565714], [0.869236755], [0.197077957], [0.292984504], [0.82178316], [0.796622959], [0.045577010999999994], [0.613660351], [0.9507445659999999], [0.33634633700000005], [0.034440667], [0.741544275], [0.18443265], [0.664514943], [0.16282485800000002], [0.729838445], [0.62837389], [0.057883660999999996], [0.445534827], [0.80183695], [0.27709612], [0.228634015], [0.834860657], [0.6697665110000001], [0.532527349], [0.17045907100000002], [0.5102884679999999], [0.977561989], [0.249775993], [0.9755006820000001], [0.613701727], [0.16742036300000002], [0.537472516], [0.379899131], [0.633897303], [0.633960424], [0.5499746529999999], [0.178172988], [0.85563814], [0.321796672], [0.8174905370000001], [0.254879417], [0.344140513], [0.8061457259999999], [0.27708167100000003], [0.544328519], [0.07708393], [0.273081458], [0.390877336], [0.349621385], [0.214549744], [0.206075222], [0.86461997], [0.9817088540000001], [0.33482964600000004], [0.648387061], [0.093643561], [0.837802698], [0.7603439670000001], [0.29140417399999996], [0.3413454], [0.7611124840000001], [0.541899775], [0.684176639], [0.983535597], [0.52081245], [0.328227724], [0.09715793800000001], [0.876088593], [0.870214512], [0.656086992], [0.306791514], [0.48126734], [0.259559174], [0.326123655], [0.930568042], [0.6583894], [0.689992335], [0.315781109], [0.5669050929999999], [0.637526619], [0.687540723], [0.324300602], [0.592704906], [0.7402531259999999], [0.5940328770000001], [0.596452977], [0.27768081699999997], [0.258329663], [0.142460864], [0.435533461], [0.7024990440000001], [0.58897535], [0.653304374], [0.336968524], [0.631244736], [0.73530076], [0.050390366], [0.064264924], [0.665359476], [0.917835245], [0.44651012], [0.661938199], [0.43935985299999997], [0.6875724040000001], [0.363462248], [0.6542621820000001], [0.578553536], [0.065927945], [0.550148559], [0.13918281400000002], [0.080004635], [0.278228358], [0.560124266], [0.53639864], [0.42653190399999996], [0.789109796], [0.742900474], [0.901692589], [0.650337401], [0.114057311], [0.260812592], [0.43991232], [0.964409284], [0.184401415], [0.345145446], [0.17589458100000002], [0.312514453], [0.674131879], [0.32825045], [0.598231057], [0.09259881699999999], [0.497916521], [0.419776521], [0.31217670000000003], [0.937857107], [0.049030963], [0.47610452600000003], [0.447397526], [0.295806058], [0.737363977], [0.625896253], [0.408813429], [0.437511156], [0.691351375], [0.935555275], [0.437846654], [0.072217715], [0.67636067], [0.468883999], [0.543820644], [0.6555226470000001], [0.6935289240000001], [0.10887831199999999], [0.285463743], [0.0], [0.706495497], [0.273530633], [0.292320271], [0.673984307], [0.12612182800000002], [0.9467074590000001], [0.9363388979999999], [0.8537553640000001], [0.7060713609999999], [0.693682186], [0.508527882], [0.34717038899999997], [0.704154263], [0.658730088], [0.155841557], [0.311085435], [0.281135347], [0.094587802], [0.6832609540000001], [0.9077292509999999], [0.29151267399999997], [0.752734459], [0.93482964], [0.071413953], [0.5948963270000001], [0.404672015], [0.13837621], [0.7473384679999999], [0.530882486], [0.282649594], [0.699335734], [0.056111250999999994], [0.855234998], [0.07789512700000001], [0.891649583], [0.38674227899999997], [0.27113158], [0.958888961], [0.085120869], [0.5269022489999999], [0.066577785], [0.841506738], [0.255342095], [0.060545771], [0.073385869], [0.187493723], [0.858365688], [0.090640352], [0.7097252270000001], [0.631300647], [0.24750447399999997], [0.822843584], [0.373476759], [0.625538582], [0.292951715], [0.299730324], [0.25121407], [0.344480551], [0.293064767], [0.7628032240000001], [0.7384708040000001], [0.674883265], [0.719151612], [0.13098021599999998], [0.511328036], [0.04492903], [0.560914449], [0.7440406409999999], [0.266961634], [0.644231853], [0.038113352], [0.05715529900000001], [0.34139246100000004], [0.7204636320000001], [0.402878236], [0.635148967], [0.320729467], [0.09120969400000001], [0.23414609], [0.8902211309999999], [0.602170884], [0.633652055], [0.806240837], [0.739731184], [0.465231269], [0.7321109], [0.373874305], [0.501587947], [0.11538315800000001], [0.7319466040000001], [0.41829872799999995], [0.062259590999999996], [0.391496379], [0.35984929], [0.24523562699999998], [0.610028339], [0.43540360200000006], [0.434309675], [0.523763344], [0.17118786600000002], [0.18773430300000002], [0.945014638], [0.027851097000000002], [0.68445706], [0.178014532], [0.643427879], [0.59588355], [0.372361682], [0.586103584], [0.271658852], [0.59951107], [0.468363088], [0.314515565], [0.21893726], [0.254716562], [0.25612815], [0.602259755], [0.134381075], [0.513887424], [0.624241636], [0.160251854], [0.580708108], [0.270540486], [0.832919932], [0.93032134], [0.719157884], [0.886720033], [0.098792281], [0.787174286], [0.365592376], [0.719576193], [0.8058956], [0.7555783340000001], [0.526005909], [0.68880424], [0.22111531199999998], [0.739369477], [0.408440236], [0.348926542], [0.433713763], [0.5964966070000001], [0.6942953000000001], [0.7090309659999999], [0.867652984], [0.89332545], [0.746020922], [0.538284443], [0.8922193140000001], [0.935175765], [0.260527707], [0.956780449], [0.204932484], [0.687733351], [0.329063619], [0.632149831], [0.463744506], [0.698859621], [0.385446564], [0.47997537700000004], [0.732279108], [0.3813543], [0.459326013], [0.257401434], [0.665014804], [0.103399542], [0.425284413], [0.943529051], [0.594750236], [0.543776817], [0.18203988], [0.23584208399999998], [0.585984497], [0.762013168], [0.6849829070000001], [0.676936933], [0.290184964], [0.48106822200000005], [0.492766033], [0.22185623399999999], [0.053875998], [0.082751144], [0.385366225], [0.702513961], [0.91553156], [0.082087436], [0.251280378], [0.41672181700000005], [0.277032672], [0.579539754], [0.569363476], [0.133399703], [0.265045463], [0.936571901], [0.252618554], [0.054033081], [0.802481439], [0.528197693], [0.9515026], [0.572121173], [0.752938227], [0.143857535], [0.513484576], [0.313322389], [0.6877973959999999], [0.37705984], [0.348226142], [0.67763282], [0.24138752100000002], [0.8506501790000001], [0.22034810300000002], [0.476445464], [0.690324025], [0.364695946], [0.6492491970000001], [0.9437019209999999], [0.529645971], [0.299097002], [0.96696247], [0.272005242], [0.314161447], [0.752020991], [0.221882453], [0.7203326729999999], [0.379204782], [0.60168653], [0.582932673], [0.950809853], [0.58830141], [0.880887227], [0.467857701], [0.8799021709999999], [0.619844009], [0.359002573], [0.291511278], [0.694157143], [0.727960353], [0.617703921], [0.39581257], [0.58317282], [0.710332374], [0.253753693], [0.049412227999999996], [0.728378695], [0.432432881], [0.58612345], [0.052342373], [0.053483902], [0.518729378], [0.933040208], [0.7035542840000001], [0.268989899], [0.733006927], [0.44435246700000003], [0.5833946210000001], [0.871172692], [0.42876707799999997], [0.30046084100000003], [0.9533294590000001], [0.606443965], [0.90986815], [0.714896449], [0.49734950899999997], [0.8530974859999999], [0.721804145], [0.303467328], [0.664485096], [0.27978062], [0.569481665], [0.628628926], [0.088368123], [0.733567326], [0.537436778], [0.638593691], [0.954726948], [0.632202332], [0.642134651], [0.744653087], [0.115714007], [0.48625007299999995], [0.440356144], [0.08272289], [0.511591027], [0.394627555], [0.224394], [0.626927584], [0.290254057], [0.779008053], [0.86610579], [0.873326081], [0.49548916], [0.594297695], [0.9182015840000001], [0.5770427539999999], [0.019467671000000002], [0.6702982820000001], [0.546595316], [0.591665146], [0.42155819], [0.6856085590000001], [0.340303024], [0.675626741], [0.319067345], [0.38849966399999997], [0.706949589], [0.559409515], [0.687663508], [0.7088045540000001], [0.6818880940000001], [0.42253510899999996], [0.320004605], [0.6582813679999999], [0.634154867], [0.7773320090000001], [0.812677205], [0.074280797], [0.39600217], [0.054933913], [0.825058925], [0.382642009], [0.8687298179999999], [0.588043346], [0.891551577], [0.10920046], [0.647682781], [0.724342512], [0.07016304400000001], [0.280882054], [0.039113261], [0.579641592], [0.639000922], [0.281745925], [0.647857744], [0.6479057970000001], [0.875226264], [0.567603305], [0.262940591], [0.268026042], [0.40519133], [0.479965451], [0.33552403], [0.777165379], [0.42548796299999997], [0.237986115], [0.142522971], [0.724176488], [0.234698933], [0.07818228099999999], [0.855990155], [0.270251765], [0.435517841], [0.762697513], [0.46448725799999996], [0.396112685], [0.37638092100000003], [0.29459467699999997], [0.6944921209999999], [0.622767949], [0.8475597220000001], [0.301463054], [0.912937812], [0.500017182], [0.902587935], [0.304517943], [0.299165673], [0.092014087], [0.488548917], [0.664664437], [0.26534954899999996], [0.723657021], [0.149262385], [0.04577339], [0.69661064], [0.42181486], [0.733845785], [0.418795386], [0.677443529], [0.26128360300000003], [0.268527767], [0.5443222360000001], [0.431632036], [0.981018141], [0.21498072399999998], [0.39472999299999995], [0.122224944], [0.297496875], [0.37490443100000004], [0.68698771], [0.388549207], [0.039296071], [0.73553424], [0.37929489299999997], [0.7321233859999999], [0.33922143899999996], [0.659450594], [0.054838642], [0.640112102], [0.30714170399999996], [0.39661190700000004], [0.420439161], [0.24171497399999997], [0.065893153], [0.9105219370000001], [0.697163103], [0.072559853], [0.81825094], [0.311888815], [0.961644609], [0.816325524], [0.14647302], [0.548753945], [0.946158087], [0.293992717], [0.331479643], [0.9062200309999999], [0.525540416], [0.83301411], [0.514849806], [0.574609024], [0.46871185299999996], [0.71002775], [0.645973276], [0.229794416], [0.551783393], [0.055822990999999995], [0.331750941], [0.715520198], [0.583924357], [0.30695769100000003], [0.7914782370000001], [0.16423663900000002], [0.065711219], [0.948993132], [0.080423835], [0.052495426], [0.566346135], [0.3630266], [0.605442195], [0.6308505839999999], [0.065791238], [0.28681707100000003], [0.685462839], [0.260853706], [0.659122429], [0.44317392200000005], [0.602063986], [0.060366910999999995], [0.781903153], [0.5145798070000001], [0.48388621299999995], [0.600213807], [0.49736405200000006], [0.411145245], [0.116999171], [0.34189014100000004], [0.746950848], [0.39629274600000003], [0.6221438429999999], [0.335271141], [0.140257137], [0.081620681], [0.069837569], [0.46894000799999996], [0.9908574170000001], [0.896616832], [0.255310561], [0.22464526699999998], [0.01991825], [0.296480415], [0.155458996], [0.577916714], [0.9563030309999999], [0.813464394], [0.529675785], [0.287671353], [0.48039136], [0.28104482199999997], [0.633196521], [0.09332537699999999], [0.28447398100000004], [0.052223775], [0.051129385], [0.967405608], [0.040045727999999996], [0.9085829209999999], [0.6621174160000001], [0.42470320899999997], [0.72207806], [0.666193327], [0.509681253], [0.7513536209999999], [0.279073124], [0.074927], [0.916359535], [0.31040327], [0.716604052], [0.485587085], [0.30607518100000003], [0.477558204], [0.7119239409999999], [0.066348638], [0.27453935100000004], [0.31082252], [0.47607312700000004], [0.186795565], [0.26654207], [0.070231142], [0.26951927], [0.800004713], [0.27363366699999997], [0.14647919199999998], [0.378318951], [0.373849065], [0.242170835], [0.249796488], [0.066591188], [0.372956798], [0.501812291], [0.313097752], [0.8802021959999999], [0.51981893], [0.364138746], [0.49268289600000004], [0.285732652], [0.890114985], [0.316419561], [0.26866354], [0.771975959], [0.968888992], [0.080334377], [0.7368282209999999], [0.30055807100000004], [0.9179503929999999], [0.465815039], [0.054036682], [0.963150123], [0.08965350300000001], [0.7076932340000001], [0.636416037], [0.539521117], [0.114757161], [0.357312419], [0.67639834], [0.43482839], [0.032326387000000005], [0.711365605], [0.187486519], [0.052789653], [0.5058636129999999], [0.927431873], [0.6809842559999999], [0.882822186], [0.495705441], [0.596240398], [0.320610701], [0.3413685], [0.159681797], [0.318133669], [0.8393010479999999], [0.06435925099999999], [0.470216633], [0.7762522909999999], [0.635843383], [0.62510543], [0.52959065], [0.986900166], [0.078585688], [0.233284267], [0.363330957], [0.7167169809999999], [0.37588979200000006], [0.223316889], [0.299343986], [0.538595767], [0.730297124], [0.66033077], [0.435296009], [0.326494313], [0.854402708], [0.5734938470000001], [0.757786135], [0.704743233], [0.281575597], [0.671968208], [0.313726015], [0.364338275], [0.368216396], [0.38629520700000003], [0.655971865], [0.5660252729999999], [0.424999093], [0.090110371], [0.772350538], [0.331047258], [0.273716188], [0.23877568], [0.37307977200000003], [0.331185868], [0.256134531], [0.678373225], [0.43463833799999996], [0.654668307], [0.986681065], [0.371520495], [0.408359618], [0.40932365], [0.283412082], [0.395246531], [0.010984428000000001], [0.306013869], [0.266194806], [0.299318521], [0.318293946], [0.74282591], [0.09766432900000001], [0.079666942], [0.613258767], [0.99443072], [0.568835082], [0.7080345159999999], [0.37059271899999996], [0.669867361], [0.651295625], [0.462531569], [0.7196256190000001], [0.45377248], [0.394863946], [0.323974831], [0.146454724], [0.7790670409999999], [0.401828915], [0.601479585], [0.856423023], [0.565242962], [0.301225108], [0.282108144], [0.594378011], [0.705312368], [0.5408696279999999], [0.319249574], [0.36176613799999996], [0.625000704], [0.316287401], [0.047239021], [0.801182233], [0.508474436], [0.8178934109999999], [0.399235601], [0.9740519990000001], [0.72241535], [0.039564764], [0.908684108], [0.47301013399999997], [0.7180496279999999], [0.7634790690000001], [0.6475965370000001], [0.8949973859999999], [0.22282590100000002], [0.359012234], [0.944910252], [0.297877816], [0.172517997], [0.556586265], [0.876481735], [0.48667784299999994], [0.459496733], [0.47412637700000004], [0.70101144], [0.337597387], [0.537578886], [0.966992448], [0.056849545], [0.233249065], [0.380054711], [0.602929443], [0.303847999], [0.170194553], [0.972168554], [0.332168927], [0.6887286890000001], [0.110773401], [0.273352065], [0.572939678], [0.491457065], [0.281389999], [0.821697261], [0.6749776829999999], [0.585134549], [0.7105961159999999], [0.040488789], [0.568054311], [0.321752928], [0.611850232], [0.926096887], [0.618347428], [0.667629785], [0.39773346600000004], [0.290875487], [0.594375103], [0.508255233], [0.338571357], [0.43230234700000003], [0.302221978], [0.87619819], [0.080204492], [0.092333532], [0.09365644699999999], [0.6084523510000001], [0.732654598], [0.944158855], [0.26742308], [0.731124201], [0.661308553], [0.38776626200000003], [0.962585273], [0.322067067], [0.6340810929999999], [0.475345002], [0.35355897299999994], [0.8859363159999999], [0.876798106], [0.221581064], [0.394362449], [0.8050356759999999], [0.452898486], [0.592520516], [0.761026394], [0.245049023], [0.37213936299999995], [0.681054822], [0.7471431479999999], [0.9207395290000001], [0.097207945], [0.699302998], [0.721647006], [0.5353561139999999], [0.738293805], [0.7064675509999999], [0.67395061], [0.7112122909999999], [0.302558708], [0.080097855], [0.707010837], [0.512248622], [0.659627472], [0.657559694], [0.100645606], [0.92665363], [0.892879338], [0.839157508], [0.890959718], [0.556754471], [0.960361937], [0.631037864], [0.029838065], [0.278843351], [0.926157705], [0.551504258], [0.485942349], [0.43723469600000003], [0.25231801800000003], [0.515466972], [0.43725229600000004], [0.493724207], [0.83324725], [0.317521477], [0.28623456199999997], [0.726833965], [0.495667033], [0.028645255], [0.31967191699999997], [0.674344598], [0.7660371890000001], [0.65456992], [0.7565143809999999], [0.528253719], [0.38971949100000003], [0.355087459], [0.87015202], [0.7390833059999999], [0.305761846], [0.411587673], [0.063633094], [0.735409395], [0.605916669], [0.539395562], [0.566183532], [0.674795186], [0.070993366], [0.12526410000000002], [0.279601492], [0.952174402], [0.233806762], [0.43724742899999997], [0.925423095], [0.433498634], [0.52517902], [0.088435529], [0.447677638], [0.647000631], [0.9036033370000001], [0.265790738], [0.66419695], [0.498120658], [0.49018894399999996], [0.747084187], [0.906783648], [0.678770917], [0.348599859], [0.294839683], [0.705691827], [0.211917931], [0.063201124], [0.276699543], [0.672459395], [0.8082059490000001], [0.296538373], [0.16012686199999998], [0.439385032], [0.555951416], [0.386240112], [0.158689619], [0.214499855], [0.299579429], [0.569161656], [0.488614799], [0.8782950209999999], [0.649380949], [0.465713341], [0.16813774], [0.87529545], [0.8411323409999999], [0.33292081], [0.5130478589999999], [0.30505507800000004], [0.8126269909999999], [0.25096706], [0.5024355779999999], [0.45799074100000003]], \"hoverlabel\": {\"namelength\": 0}, \"hovertemplate\": \"0=%{x}<br>1=%{y}<br>2=%{z}<br>Feature=%{customdata[0]}<br>Label=%{marker.color}\", \"legendgroup\": \"\", \"marker\": {\"color\": [0, 0, 1, 1, 0, 0, 0, 0, 1, 1, 0, 1, 0, 1, 1, 1, 0, 1, 1, 0, 1, 0, 0, 1, 1, 1, 0, 0, 1, 1, 0, 0, 1, 1, 0, 0, 1, 0, 0, 0, 0, 0, 0, 1, 0, 1, 1, 0, 1, 0, 0, 1, 0, 1, 1, 1, 1, 0, 0, 1, 0, 1, 0, 1, 0, 1, 0, 0, 0, 0, 0, 0, 0, 0, 0, 0, 0, 0, 0, 0, 0, 0, 0, 0, 0, 0, 0, 0, 0, 0, 0, 0, 0, 0, 0, 0, 0, 0, 0, 0, 0, 0, 0, 0, 0, 0, 0, 0, 0, 0, 0, 0, 0, 0, 0, 0, 0, 0, 0, 0, 0, 0, 0, 0, 0, 0, 0, 0, 0, 0, 0, 0, 0, 0, 0, 0, 0, 0, 0, 0, 0, 0, 0, 0, 0, 0, 0, 0, 0, 0, 0, 0, 0, 0, 0, 0, 0, 0, 0, 0, 0, 0, 0, 0, 0, 0, 0, 0, 0, 0, 0, 0, 0, 0, 0, 0, 0, 0, 0, 0, 0, 0, 0, 0, 0, 0, 0, 0, 0, 0, 0, 0, 0, 0, 0, 0, 0, 0, 0, 0, 0, 0, 0, 0, 0, 0, 0, 0, 0, 0, 0, 0, 0, 0, 0, 0, 0, 0, 0, 0, 0, 0, 0, 0, 0, 0, 0, 0, 0, 0, 0, 0, 0, 0, 0, 0, 0, 0, 0, 0, 0, 0, 0, 0, 0, 0, 0, 0, 0, 0, 0, 0, 0, 0, 0, 0, 0, 0, 0, 0, 0, 0, 0, 0, 0, 0, 0, 0, 0, 0, 0, 0, 0, 0, 0, 0, 0, 0, 0, 0, 0, 0, 0, 0, 0, 0, 0, 0, 0, 0, 0, 0, 0, 0, 0, 0, 0, 0, 0, 0, 0, 0, 0, 0, 0, 0, 0, 0, 0, 0, 0, 0, 0, 0, 0, 0, 0, 0, 0, 0, 0, 0, 0, 0, 0, 0, 0, 0, 0, 0, 0, 0, 0, 0, 0, 0, 0, 0, 0, 0, 0, 0, 0, 0, 0, 0, 0, 0, 0, 0, 0, 0, 0, 0, 0, 0, 0, 0, 0, 0, 0, 0, 0, 0, 0, 0, 0, 0, 0, 0, 0, 0, 0, 0, 0, 0, 0, 0, 0, 0, 0, 0, 0, 0, 0, 0, 0, 0, 0, 0, 0, 0, 0, 0, 0, 0, 0, 0, 0, 0, 0, 0, 0, 0, 0, 0, 0, 0, 0, 0, 0, 0, 0, 0, 0, 0, 0, 0, 0, 0, 0, 0, 0, 0, 0, 0, 0, 0, 0, 0, 0, 0, 0, 0, 0, 0, 0, 0, 0, 0, 0, 0, 0, 0, 0, 0, 0, 0, 0, 0, 0, 0, 0, 0, 0, 0, 0, 0, 0, 0, 0, 0, 0, 0, 0, 0, 0, 0, 0, 0, 0, 0, 0, 0, 0, 0, 0, 0, 0, 0, 0, 0, 0, 0, 0, 0, 0, 0, 0, 0, 0, 0, 0, 0, 0, 0, 0, 0, 0, 0, 0, 0, 0, 0, 0, 0, 0, 0, 0, 0, 0, 0, 0, 0, 0, 0, 0, 0, 0, 0, 0, 0, 0, 0, 0, 0, 0, 0, 0, 0, 0, 0, 0, 0, 0, 0, 0, 0, 0, 0, 0, 0, 0, 0, 0, 0, 0, 0, 0, 0, 0, 0, 0, 0, 0, 0, 0, 0, 0, 0, 0, 0, 0, 0, 0, 0, 0, 0, 0, 0, 0, 0, 0, 0, 0, 0, 0, 0, 0, 0, 0, 0, 0, 0, 0, 0, 0, 0, 0, 0, 0, 0, 0, 0, 0, 0, 0, 0, 0, 0, 0, 0, 0, 0, 0, 0, 0, 0, 0, 0, 0, 0, 0, 0, 0, 0, 0, 0, 0, 0, 0, 0, 0, 0, 0, 0, 0, 0, 0, 0, 0, 0, 0, 0, 0, 0, 0, 0, 0, 0, 0, 0, 0, 0, 0, 0, 0, 0, 0, 0, 0, 0, 0, 0, 0, 0, 0, 0, 0, 0, 0, 0, 0, 0, 0, 0, 0, 0, 0, 0, 0, 0, 0, 0, 0, 0, 0, 0, 0, 0, 0, 0, 0, 0, 0, 0, 0, 0, 0, 0, 0, 0, 0, 0, 0, 0, 0, 0, 0, 0, 1, 1, 0, 1, 0, 0, 0, 1, 1, 1, 1, 0, 1, 1, 1, 0, 1, 1, 1, 0, 1, 0, 1, 1, 1, 1, 0, 0, 0, 0, 0, 0, 0, 0, 0, 0, 0, 0, 0, 0, 0, 0, 0, 0, 0, 0, 0, 0, 0, 0, 0, 0, 0, 0, 0, 0, 0, 0, 0, 0, 0, 0, 0, 0, 0, 0, 0, 0, 0, 0, 0, 0, 0, 0, 0, 0, 0, 0, 0, 0, 0, 0, 0, 0, 0, 0, 0, 0, 0, 0, 0, 0, 0, 0, 0, 0, 0, 0, 0, 0, 0, 0, 0, 0, 0, 0, 0, 0, 0, 0, 0, 0, 0, 0, 0, 0, 0, 0, 0, 0, 0, 0, 0, 0, 0, 0, 0, 0, 0, 0, 0, 0, 0, 0, 0, 0, 0, 0, 0, 0, 0, 0, 0, 0, 0, 0, 0, 0, 0, 0, 0, 0, 0, 0, 0, 0, 0, 0, 0, 0, 0, 0, 0, 0, 0, 0, 0, 0, 0, 0, 0, 0, 0, 0, 0, 0, 0, 0, 0, 0, 0, 0, 0, 0, 0, 0, 0, 0, 0, 0, 0, 0, 0, 0, 0, 0, 0, 0, 0, 0, 0, 0, 0, 0, 0, 0, 0, 0, 0, 0, 0, 0, 0, 0, 0, 0, 0, 0, 0, 0, 0, 0, 0, 0, 0, 0, 0, 0, 0, 0, 0, 0, 0, 0, 0, 0, 0, 0, 0, 0, 0, 0, 0, 0, 0, 0, 0, 0, 0, 0, 0, 0, 0, 0, 0, 0, 0, 0, 0, 0, 0, 0, 0, 0, 0, 0, 0, 0, 0, 0, 0, 0, 0, 0, 0, 0, 0, 0, 0, 0, 0, 0, 0, 0, 0, 0, 0, 0, 0, 0, 0, 0, 0, 0, 0, 0, 0, 0, 0, 0], \"coloraxis\": \"coloraxis\", \"opacity\": 0.7, \"symbol\": \"circle\"}, \"mode\": \"markers\", \"name\": \"\", \"scene\": \"scene\", \"showlegend\": false, \"type\": \"scatter3d\", \"x\": [-3.7881977558135986, 0.31320321559906006, -4.3728108406066895, 0.07231922447681427, -0.5385928153991699, 0.20682066679000854, 6.91631555557251, -5.480643272399902, -5.662528991699219, 8.364344596862793, -6.326820373535156, -5.155460357666016, 1.7602676153182983, 2.375154733657837, -8.723930358886719, 1.2418116331100464, 1.7100993394851685, -0.3876311182975769, -4.384242534637451, 0.554526686668396, 0.8445040583610535, -0.9135523438453674, -1.974240779876709, -6.287942886352539, -4.20965576171875, -3.8297321796417236, -4.941946983337402, -1.6358619928359985, -1.8669053316116333, -9.220430374145508, -3.5517470836639404, 1.7942278385162354, 4.168650150299072, -8.638792037963867, 4.209875583648682, -1.4580397605895996, 1.3522343635559082, -1.4250987768173218, -2.745558023452759, 0.03729773312807083, 9.800288200378418, -5.7623796463012695, 4.645898342132568, -4.498806476593018, -6.752468109130859, 1.8945488929748535, -7.525929927825928, -5.8214898109436035, -5.09481143951416, 5.4595112800598145, -2.126786947250366, -4.02102518081665, 4.562703609466553, 1.7594773769378662, -2.12245512008667, 5.194659233093262, 0.17584511637687683, 4.074984073638916, -8.119001388549805, -7.809548377990723, 5.513810157775879, 0.6968673467636108, -0.988844096660614, -5.454062461853027, 5.686091423034668, -8.102152824401855, 5.431541919708252, -0.8823748826980591, -5.131704807281494, -5.775233268737793, -5.942227840423584, -3.157517433166504, -3.7989931106567383, -0.8861621022224426, 8.310722351074219, 2.490457534790039, -5.652992248535156, -2.4568066596984863, 7.955770969390869, 7.324145317077637, 7.439199924468994, 3.8152365684509277, -3.2896549701690674, -0.18948456645011902, 3.2218856811523438, -1.1448779106140137, 2.885768175125122, 6.308433532714844, 1.220895528793335, 0.09077189117670059, 1.4264552593231201, -4.8180413246154785, 3.4960484504699707, 6.004891395568848, 3.680171251296997, -2.3293418884277344, 5.18263053894043, -0.9707847833633423, -0.48072853684425354, -5.269233703613281, -2.5747485160827637, 5.903492450714111, -1.1233973503112793, 6.3396992683410645, -2.076812267303467, 5.583227634429932, 1.9329588413238525, 1.5475419759750366, 8.327719688415527, -3.3321433067321777, 1.5633405447006226, -2.775519609451294, -4.582783222198486, 3.2743608951568604, -3.033241033554077, 4.066587448120117, 7.227591514587402, 6.065695285797119, -0.23397281765937805, 1.2380220890045166, 4.707221984863281, 0.7197481989860535, -3.2815868854522705, 5.81116247177124, -3.0790936946868896, -0.2836787700653076, 3.468057632446289, -1.4292675256729126, 2.3607399463653564, -1.3278738260269165, 3.363753318786621, 5.199543476104736, -1.9082716703414917, 5.031569004058838, 6.482114791870117, 0.3640406131744385, -2.775824546813965, -0.5562178492546082, 1.157714605331421, -0.6756407618522644, -1.7155526876449585, 1.9243638515472412, 6.191810131072998, -2.5406291484832764, 1.896192193031311, 6.725895881652832, -5.677307605743408, 6.044238567352295, 1.235950231552124, 0.7021936774253845, 0.7649279832839966, 5.351826190948486, -2.886183977127075, 7.128727912902832, -1.5332350730895996, 5.707357883453369, 5.600350856781006, 7.542120456695557, 7.349679946899414, -1.5294837951660156, 7.08154821395874, 4.394739151000977, 4.20253849029541, 7.792564868927002, -1.8581346273422241, 7.037528991699219, -0.9381271600723267, -6.768966197967529, -6.763814449310303, -2.102088212966919, 2.951586961746216, -1.600684404373169, -4.690070152282715, -3.1419754028320312, -2.8694992065429688, 5.860678672790527, -2.2694685459136963, -3.9931142330169678, 1.641629695892334, -0.7137888669967651, -1.4263187646865845, -7.646202564239502, 1.0629191398620605, -7.644993782043457, -7.318928241729736, 7.233658313751221, -6.001598358154297, 3.6730897426605225, 6.035458564758301, 4.32213020324707, 6.198622703552246, -2.216618299484253, -4.821267604827881, -3.1134607791900635, 3.3133158683776855, 6.777808666229248, -1.5372591018676758, -4.669398784637451, -2.4463953971862793, -3.52341365814209, 1.9144840240478516, -0.06508075445890427, 3.1568424701690674, -3.202606678009033, -4.234831809997559, 2.098639726638794, 7.320616245269775, 2.0185320377349854, -7.061342716217041, 3.315878391265869, -2.0999536514282227, -7.722321033477783, -3.4441771507263184, 3.027269124984741, 0.5948113799095154, -0.04744049534201622, 2.5877654552459717, -1.2372772693634033, -3.0616142749786377, -2.388230562210083, -4.029847145080566, -0.33494606614112854, -3.931896686553955, 8.851762771606445, 3.9095969200134277, 6.088178634643555, 5.782297611236572, 7.098371982574463, 7.319733619689941, -9.272733688354492, 5.762334823608398, 3.7211718559265137, -0.9854686260223389, -0.5899388194084167, 4.180138111114502, -0.3041554391384125, -1.7911288738250732, 4.343561172485352, -1.727010726928711, -3.699157476425171, 1.7767444849014282, -1.2004104852676392, -5.411250114440918, 1.9830515384674072, -5.631331920623779, 4.182232856750488, 3.9104838371276855, 5.590422630310059, 6.194258689880371, -2.073620319366455, 6.876125335693359, -1.908811330795288, -3.0497467517852783, 4.472762584686279, 5.961611747741699, -5.23446798324585, -1.7860283851623535, 4.8106913566589355, -9.014467239379883, 1.9036457538604736, -4.095265865325928, 3.9988350868225098, -1.6502543687820435, -1.7232658863067627, 6.449995517730713, 1.6339643001556396, -1.5328726768493652, 4.33909797668457, 8.107316970825195, -4.499767780303955, 0.33546361327171326, 2.1237175464630127, 0.6801934242248535, -4.473269939422607, -1.5956276655197144, 6.401098728179932, -1.7466319799423218, -2.2301924228668213, 0.7647915482521057, 5.867805004119873, 5.834341526031494, -4.601617336273193, 6.887773036956787, 0.2727030813694, -3.743377447128296, -2.3188326358795166, 2.4439988136291504, 0.04986206069588661, 6.06199836730957, -3.213430166244507, 0.8864166736602783, 2.5112898349761963, 2.0022177696228027, -2.0202860832214355, -0.18428239226341248, -2.5992274284362793, -5.143698215484619, 6.295228958129883, 0.35931527614593506, -1.63600492477417, -0.5194185972213745, 4.582813262939453, -4.538369655609131, -4.916463375091553, -5.276063442230225, 6.258586883544922, -1.35196852684021, 4.978106498718262, 8.86905574798584, -7.7173752784729, -7.497347831726074, 7.120123386383057, -7.979653835296631, -3.8574256896972656, -0.1802937388420105, -2.575204610824585, -2.0437002182006836, 3.803030014038086, 6.811689376831055, 2.481557846069336, -0.9992404580116272, 2.924358367919922, -2.274553060531616, 0.8438437581062317, 6.033224105834961, -0.4449484348297119, -1.6626536846160889, -2.764150857925415, -6.38687801361084, -4.491253852844238, 4.429454326629639, -0.42242878675460815, 5.126123428344727, 5.385731220245361, 6.009088039398193, -5.786563873291016, -0.07547348737716675, 0.2815832495689392, -5.666937828063965, -1.443552017211914, -0.18876275420188904, 8.572368621826172, -0.05299850180745125, 7.38506555557251, -4.772286891937256, -5.043109893798828, 5.308163642883301, 8.82384204864502, -1.3428449630737305, -0.2676684856414795, -2.621493339538574, 1.113991618156433, 2.062223434448242, 2.29811429977417, 2.3955821990966797, 8.83571720123291, 3.589560031890869, -1.5222712755203247, -3.846073627471924, -1.151656985282898, -0.6319593787193298, -0.7639902234077454, -1.598840355873108, 7.121079921722412, -1.903935194015503, 4.2620768547058105, -3.094752073287964, 5.927960395812988, 4.778758525848389, 2.407606840133667, 3.5148205757141113, 1.6494297981262207, -4.362003803253174, -7.867402076721191, -2.183803081512451, 4.797057151794434, 6.773890495300293, -4.37353515625, 2.732311964035034, 2.7307870388031006, -2.296901226043701, 0.34744763374328613, 7.0076470375061035, -4.688360691070557, -0.9428718686103821, 4.476508617401123, 2.040806770324707, 1.373896837234497, -3.529904365539551, -1.973203420639038, 3.825322151184082, 5.4812912940979, 1.3275160789489746, 5.058792591094971, 3.173318386077881, 2.202112913131714, 5.438963413238525, -5.278827667236328, -1.1438937187194824, 4.485525131225586, 0.8883774280548096, 2.1078941822052, 6.664743900299072, 1.703071117401123, -6.644460678100586, 4.932062149047852, -6.2471513748168945, 0.9227561950683594, -1.228239893913269, -4.278314113616943, -0.8040827512741089, 2.3356587886810303, -3.512969970703125, 5.496183395385742, 3.3904595375061035, 4.123465061187744, 5.530575275421143, 2.4451699256896973, -2.381289482116699, -5.353392124176025, -1.9804776906967163, 0.6213217973709106, -0.48662319779396057, -0.27307334542274475, -6.857863903045654, 5.764054775238037, 5.577165126800537, -4.930975437164307, -3.089613199234009, -5.8398919105529785, 3.7484655380249023, 7.5776848793029785, 0.08435511589050293, -3.7535295486450195, -5.168097972869873, -1.2362654209136963, 3.2670774459838867, -4.509202480316162, 8.521225929260254, -4.7066569328308105, 5.755996227264404, 6.944423198699951, -3.8512227535247803, -4.129719257354736, 1.5525251626968384, -3.0487403869628906, -5.016826629638672, 6.568119049072266, -3.6100993156433105, -7.963520050048828, 2.1540768146514893, -3.1345274448394775, 5.569090366363525, 6.018281936645508, -4.793470859527588, 3.663822889328003, -5.194106101989746, -3.1488678455352783, 7.837491989135742, 7.514616012573242, -1.545674204826355, -4.852517604827881, 3.842963933944702, 9.47156047821045, -4.295023441314697, 1.562911033630371, 8.291528701782227, -5.358278751373291, 6.8508076667785645, -5.8753156661987305, 5.5105085372924805, 1.9770230054855347, 2.463820219039917, 2.795325994491577, 4.062231540679932, 3.8696670532226562, 6.091765880584717, -4.954800605773926, -1.9673422574996948, 0.6901230812072754, 7.753939151763916, 0.9784494042396545, -5.713284492492676, -5.636257171630859, 7.303752899169922, -4.4046101570129395, -2.1248154640197754, -3.9112143516540527, -0.5213435888290405, -2.5098941326141357, 5.012051105499268, -3.4203062057495117, -6.125134468078613, -4.695192813873291, -5.511322498321533, -5.960686683654785, -4.484201908111572, -2.2979207038879395, 5.859548091888428, -0.9806239604949951, 1.1841635704040527, -2.033902168273926, 0.009537560865283012, 0.8192621469497681, -3.147843599319458, -2.8935434818267822, 8.45300579071045, 8.293633460998535, -4.340125560760498, -8.009699821472168, -2.2795517444610596, 7.889627933502197, -2.214840888977051, -1.0585078001022339, 7.4249677658081055, 8.092747688293457, 7.183363437652588, 8.361454963684082, -2.721902847290039, -2.204949140548706, -3.8309946060180664, -4.368284702301025, -7.570727825164795, -6.553845405578613, -2.4626529216766357, 6.6461076736450195, -4.766970634460449, 4.55224084854126, -3.366102933883667, -2.2598180770874023, -1.0533411502838135, -2.6189725399017334, -0.9130865335464478, 3.115400552749634, -3.4441256523132324, -7.49062967300415, -3.9277255535125732, -3.2980926036834717, -1.3666237592697144, -4.514255523681641, -2.0169084072113037, -3.9660325050354004, -1.076080560684204, 2.094653606414795, 8.559846878051758, -0.6890805959701538, 6.223669052124023, -3.1619713306427, -5.8544511795043945, 6.71579122543335, 6.788325786590576, 1.5110955238342285, -4.5294365882873535, 7.475821495056152, 6.104916572570801, 0.8995963335037231, -0.9808211922645569, 8.42365550994873, -1.9050453901290894, -5.358695983886719, -3.6717498302459717, -3.33441424369812, 6.613783359527588, -6.429123401641846, 2.013444185256958, 8.40281867980957, 5.308679580688477, -1.9090818166732788, -7.518842697143555, -5.696776390075684, -3.0951268672943115, -4.4268574714660645, -5.358935832977295, -0.25455573201179504, 1.59324049949646, -6.831185817718506, 2.4090356826782227, 6.413125514984131, -0.17775148153305054, 4.18265962600708, -2.392085313796997, 4.757526397705078, -7.739063262939453, 3.3422067165374756, 8.842198371887207, 7.530620098114014, -2.3806188106536865, 2.9885103702545166, 4.653039455413818, -2.8697171211242676, 1.5541611909866333, 7.516169548034668, -4.90954065322876, -6.037403106689453, -3.097245454788208, 5.971991062164307, -3.8119723796844482, -3.6694302558898926, -5.187459468841553, -4.630005836486816, -0.4873901307582855, 1.9385037422180176, -8.249542236328125, 6.906750679016113, -5.296023368835449, 1.4043055772781372, -3.704301357269287, -1.0958493947982788, 1.1036630868911743, -0.1776805967092514, -7.549057483673096, 0.44158658385276794, -3.3162128925323486, -0.5540161728858948, 8.783895492553711, 6.751748561859131, -1.3547993898391724, 0.6068784594535828, -2.2847018241882324, -1.9470484256744385, -2.7770838737487793, 5.1950531005859375, 6.895388126373291, -2.8455731868743896, -6.945876121520996, -5.140448093414307, 6.941830635070801, -2.1449010372161865, 1.3440778255462646, 9.467262268066406, -0.6085394024848938, -3.9014508724212646, 8.773935317993164, -3.849475622177124, -0.2844583988189697, -1.2802317142486572, 0.0866841971874237, -2.629368782043457, -5.074299335479736, -2.3777694702148438, -4.312652111053467, 3.375898838043213, 6.474339962005615, 2.2965009212493896, -0.604899525642395, 4.51836633682251, -6.18760347366333, 2.1836531162261963, -4.53704309463501, 1.4024989604949951, 5.704896926879883, 4.923557281494141, 0.20766782760620117, -0.8987751603126526, 5.4419660568237305, 1.4694774150848389, -4.414363861083984, 0.28641989827156067, 1.5576941967010498, -3.1243762969970703, -5.553031921386719, 4.323983669281006, -4.250764846801758, -2.418365955352783, -3.809173583984375, -1.8566899299621582, -1.1629029512405396, 5.29457950592041, -4.912901401519775, 5.153781414031982, -1.1743720769882202, 8.272768020629883, 7.247108459472656, -1.4773008823394775, -2.4132800102233887, 6.688706874847412, 3.020197629928589, -3.314107656478882, -3.9021949768066406, 4.939193248748779, -6.896963596343994, 5.047329425811768, 0.6752325892448425, -4.483426094055176, 7.602531433105469, 5.194403171539307, 6.229218482971191, 9.24859619140625, -5.371485710144043, -6.462713718414307, -2.0169737339019775, -7.483328819274902, -3.6893858909606934, -5.169259071350098, -4.269684314727783, -0.3245103657245636, -0.42880120873451233, 6.153291702270508, 7.530089855194092, -6.266532897949219, -0.5924401879310608, 5.214842319488525, 2.4123926162719727, -1.8324943780899048, 4.341582298278809, 4.613831043243408, -4.781627655029297, 0.8225715756416321, -2.830507755279541, -4.973978519439697, -8.477584838867188, 6.890480041503906, -1.7537721395492554, -3.7270374298095703, 7.6069254875183105, -1.9424543380737305, 0.45312008261680603, 2.1114585399627686, 7.61795711517334, 1.9292503595352173, -4.400162696838379, 6.181159973144531, -2.1672165393829346, -4.008368015289307, -2.096886396408081, 4.254446506500244, -7.908633708953857, 0.38615453243255615, -0.9967472553253174, 0.0009683847893029451, -1.840872883796692, -5.111854076385498, -1.8082327842712402, -2.6485512256622314, -5.523248672485352, -5.556551933288574, 3.3268585205078125, 5.409803867340088, 6.78709077835083, -8.17021369934082, 0.008284025825560093, 1.5960358381271362, 1.1727150678634644, -7.67877721786499, -1.1327791213989258, 6.246700286865234, 5.519184112548828, -3.674704074859619, -3.256387948989868, -5.316816806793213, 0.25573745369911194, -4.3550639152526855, 4.2569580078125, 3.3901803493499756, 6.877768516540527, -3.729796886444092, 7.121579170227051, 4.291657447814941, -0.9101666212081909, 8.528441429138184, -7.264889717102051, 7.355948448181152, 4.154171943664551, 4.470905303955078, -2.789717197418213, 5.938960075378418, 5.005388259887695, -2.9510293006896973, 4.058620929718018, -1.6857004165649414, 6.956500053405762, -1.2129446268081665, -3.697512626647949, 5.44378137588501, -0.6836338639259338, 7.82780122756958, 1.2481476068496704, -1.096585988998413, 8.699652671813965, -0.09324158728122711, 5.13786506652832, 5.7461066246032715, -1.579574465751648, 1.129757285118103, 5.599452018737793, -6.283340930938721, 3.380589246749878, -2.5006752014160156, 8.01099681854248, 5.6107916831970215, -7.113883018493652, 4.808691501617432, -8.687451362609863, 6.9352240562438965, 3.768160820007324, 1.0750722885131836, 6.729083061218262, -3.5438549518585205, 5.4976725578308105, 6.108209133148193, 1.7563583850860596, 0.32408982515335083, -3.072298049926758, 1.1520817279815674, -3.323432683944702, 6.318185806274414, 7.981315612792969, 0.44487929344177246, -2.1417999267578125, 2.501349449157715, -4.574045181274414, -6.679660797119141, 7.357409954071045, -2.4455654621124268, -1.8248579502105713, -3.8019797801971436, -0.317413866519928, -5.643947601318359, -2.3477962017059326, -2.6448516845703125, -6.487361431121826, -4.011946201324463, 6.759195804595947, 0.050102028995752335, -1.87724769115448, 2.995054006576538, -2.352370500564575, 7.427167892456055, 1.849083423614502, -2.9329633712768555, 0.8687400221824646, -0.1854468733072281, -1.3909263610839844, -6.3043012619018555, -2.61712646484375, -4.727872371673584, -4.215696811676025, -1.6583348512649536, -6.719407081604004, 6.558382034301758, 5.074182033538818, 6.1036272048950195, -2.1254632472991943, 1.314467430114746, 4.185114860534668, -2.4166674613952637, -3.574859142303467, 5.357837677001953, 1.6088459491729736, -3.0172386169433594, -1.035312294960022, -3.199647903442383, 7.033529758453369, 4.711889266967773, -3.061018466949463, -3.1691904067993164, -0.79347163438797, -1.4493186473846436, 6.614685535430908, -8.742798805236816, -2.106663942337036, 6.22023868560791, -5.757117748260498, 5.5062384605407715, -1.7301115989685059, -0.776914656162262, 5.980631351470947, 5.873297691345215, -4.839118480682373, 1.2208781242370605, -8.001227378845215, 6.5821533203125, 3.1569759845733643, 2.0685625076293945, 5.703936576843262, 3.283278226852417, 3.5640413761138916, 0.4648052752017975, -0.3386181890964508, -5.286414623260498, 1.6259987354278564, 3.540503740310669, 8.239910125732422, -2.1721179485321045, -5.511040687561035, -4.305656909942627, 0.14888256788253784, 1.2846794128417969, -1.7828547954559326, -5.550503730773926, -3.8289575576782227, -7.885663986206055, -6.957606792449951, 7.682689189910889, -8.255799293518066, 3.637763023376465, 1.3637356758117676, 5.712001323699951, -3.797492742538452, -3.7046658992767334, -0.13020382821559906, 4.518311977386475, 7.431586265563965, -5.088455677032471, 6.016090393066406, -2.688994884490967, -5.074687480926514, 2.258791446685791, -7.102816104888916, 8.945034980773926, 1.0189931392669678, 2.528282642364502, 3.540539503097534, 8.583844184875488, -7.873937606811523, -1.901014804840088, -1.452854871749878, -2.605513572692871, -2.112163782119751, -5.217050552368164, -2.8902499675750732, -1.9719377756118774, 0.22070340812206268, 5.007833003997803, -3.6928906440734863, 0.8785491585731506, 2.0750114917755127, -1.463507890701294, 0.18657907843589783, -3.478609561920166, -1.1402854919433594, 5.538199424743652, 2.1918156147003174, -5.36473274230957, -4.828160762786865, -6.188857078552246, 5.233856678009033, -5.665145397186279, 1.140446662902832, -6.310056686401367, -6.999335765838623, 3.4592738151550293, 7.278578281402588, -1.654416799545288, 5.901066303253174, -7.8752241134643555, 5.091773509979248, 3.2996442317962646, 0.0045454371720552444, 2.9730641841888428, -1.7463757991790771, 0.5188693404197693, -5.7848005294799805, -1.627883791923523, 1.2703312635421753, 5.474597930908203, -4.37357234954834, -4.8309478759765625, -6.309450626373291, 0.6507971286773682, 5.006068706512451, 0.9357749819755554, -4.287014007568359, 7.501262187957764, -0.029302796348929405, 8.091185569763184, -1.367272138595581, 8.049788475036621, -6.988110065460205, 5.288567543029785, -2.6349921226501465, 4.201707363128662, 0.1099134311079979, -2.3450684547424316, 6.023408889770508, 3.1119790077209473, 1.0128004550933838, -1.4280885457992554, -1.8691235780715942, -2.7918927669525146, -7.418652534484863, -2.526735305786133, 6.105704307556152, 7.207541465759277, -1.4145410060882568, 2.5172207355499268, 0.8429899215698242, -5.6284003257751465, -4.895021915435791, -3.8866281509399414, -1.7036921977996826, 7.335074424743652, 4.161869049072266, -5.693098068237305, -7.770927429199219, -0.9336428642272949, 1.5654950141906738, 7.776342868804932, -3.9007885456085205, -4.7438130378723145], \"y\": [-0.32313841581344604, 10.779470443725586, -14.373509407043457, -7.631341457366943, -15.0490083694458, -3.1371278762817383, 9.444681167602539, -10.780688285827637, 2.1503045558929443, 1.4696953296661377, -8.99995231628418, -20.144256591796875, -6.1484785079956055, 2.8362221717834473, -13.43513011932373, -12.970690727233887, -6.136463642120361, 14.226982116699219, -13.506735801696777, -8.152660369873047, -2.665891170501709, -4.88385009765625, -11.547953605651855, 2.272169351577759, -6.087979793548584, 2.138984441757202, -18.69229507446289, 4.1049346923828125, -9.690834045410156, -11.523122787475586, 3.506747007369995, 6.487363815307617, 1.3359899520874023, -12.353852272033691, 2.709019184112549, -4.091787338256836, -7.865206241607666, 4.28053617477417, -4.379360675811768, -3.5521650314331055, 10.944209098815918, -10.555459022521973, 8.894227981567383, -4.7425947189331055, -11.0048246383667, -12.82805061340332, -10.728599548339844, 2.2182788848876953, -19.782249450683594, 13.894779205322266, -10.316234588623047, -12.059432983398438, 3.009247064590454, -12.714438438415527, -3.427917957305908, 2.6333911418914795, -2.1844980716705322, 4.947181701660156, -11.91066837310791, -15.842301368713379, 3.176612138748169, 8.898465156555176, -15.538269996643066, -10.365620613098145, 10.994811058044434, -10.202335357666016, 8.549863815307617, 13.662181854248047, -18.65631103515625, -4.464563369750977, -15.215256690979004, -10.12070083618164, -3.9489262104034424, -7.543937683105469, -2.4732813835144043, -2.0988175868988037, -17.16992950439453, -12.414613723754883, 0.09881838411092758, 1.5228019952774048, 0.8383657932281494, -3.5292632579803467, -14.026740074157715, 8.585151672363281, 9.384902954101562, 6.300527572631836, 15.296241760253906, 15.979683876037598, 2.8641040325164795, -4.539705276489258, -3.0127851963043213, -7.973060607910156, 7.6951799392700195, 10.584785461425781, 5.001725673675537, -16.017518997192383, 4.89135217666626, 5.965892791748047, 10.472918510437012, -16.192337036132812, -4.196559906005859, 12.717801094055176, 6.261625289916992, 3.6746275424957275, -14.673177719116211, 3.8985111713409424, 7.413605690002441, 6.96307373046875, -1.4029499292373657, -11.399859428405762, -4.609017372131348, -6.244123458862305, -6.092455863952637, -0.8944172263145447, -16.663402557373047, -5.072732925415039, 13.399069786071777, 10.664066314697266, -7.092610836029053, 10.825113296508789, -5.2910475730896, 2.1532540321350098, 8.20637321472168, 10.89720630645752, 8.754758834838867, 9.21585464477539, 5.55396032333374, -8.035158157348633, 9.455314636230469, 8.68436336517334, 1.4582329988479614, 4.355204105377197, -10.925047874450684, 7.923417091369629, 13.46856689453125, 0.552337646484375, -14.028403282165527, -11.096617698669434, 8.37610912322998, 2.8978843688964844, -8.242168426513672, -4.893006324768066, 3.3160247802734375, -15.563591003417969, 11.65473747253418, 2.8894872665405273, -7.759294033050537, 11.03139591217041, 9.314618110656738, 4.795109272003174, -5.17415714263916, -2.5614547729492188, 3.8805952072143555, 3.6867592334747314, -4.300985813140869, 5.786268711090088, 12.82734203338623, 11.629376411437988, -3.280836820602417, -5.204314708709717, 11.965826988220215, 4.534832000732422, -2.367969036102295, 1.6419188976287842, -6.370420455932617, 13.23166275024414, -8.663491249084473, -12.513975143432617, -14.312986373901367, 9.699995040893555, 7.471532821655273, 5.294004917144775, -4.889406681060791, -14.581045150756836, 5.9381608963012695, 15.100218772888184, -4.881162643432617, -14.065887451171875, 8.782539367675781, -10.205106735229492, 4.4899067878723145, -6.010430335998535, 5.2888689041137695, -12.971245765686035, -12.682397842407227, 12.75940990447998, -9.05020809173584, 2.375455141067505, 0.9871742725372314, -2.706369638442993, 11.54726505279541, -16.492631912231445, -8.72728157043457, -15.72802734375, 15.407014846801758, 10.117083549499512, 4.639863014221191, 6.958129405975342, -4.0690741539001465, 7.963824272155762, 0.7615115642547607, 4.070080757141113, 3.9646384716033936, -14.74838638305664, -15.121994018554688, 6.024842262268066, 3.6746091842651367, 0.9290460348129272, -5.631883144378662, 7.257380485534668, 6.90911340713501, -8.444499015808105, -11.671037673950195, -5.528378486633301, 1.9662014245986938, 4.301459312438965, 7.82144832611084, -12.628240585327148, -14.768183708190918, 2.321424961090088, -15.515280723571777, 8.41167163848877, -15.401592254638672, -0.8985815048217773, 15.523905754089355, 3.374236583709717, 8.895751953125, 0.1255851536989212, 13.392010688781738, -5.865002155303955, 10.235403060913086, 7.955671787261963, -9.601133346557617, -10.754898071289062, 10.638632774353027, 8.012935638427734, -0.6798062920570374, -2.2971482276916504, -8.206693649291992, -13.051973342895508, 1.2699627876281738, 4.497413158416748, -12.634964942932129, 11.498568534851074, -9.711671829223633, 15.305563926696777, 0.6460355520248413, -1.2242603302001953, 8.443772315979004, -12.460926055908203, 1.418166160583496, 4.549374103546143, -9.737455368041992, 4.3460373878479, 3.8600547313690186, 2.0830559730529785, 0.2754426896572113, 13.088890075683594, -5.190989017486572, 11.180039405822754, -12.728334426879883, 3.858903169631958, -15.555334091186523, 6.048130512237549, 1.5197973251342773, 11.447470664978027, -12.076168060302734, 14.198586463928223, -1.2856144905090332, 5.1108198165893555, 5.955104351043701, 3.682164430618286, 0.5008726716041565, -12.000293731689453, -5.400725364685059, 6.569882392883301, -15.07929801940918, -16.677478790283203, 7.063473701477051, 1.1307501792907715, 9.261261940002441, -12.00014877319336, 1.951465129852295, -1.775713562965393, -16.50891876220703, 9.260696411132812, 11.964778900146484, 8.574456214904785, 14.94665241241455, -3.7164981365203857, -5.718159198760986, 7.285768985748291, 6.936821460723877, 9.866098403930664, 8.432353019714355, -6.970010757446289, -7.1871819496154785, 1.765334963798523, 6.725792407989502, -1.3530558347702026, 6.787850379943848, 12.429378509521484, -13.141016006469727, -10.0773286819458, -6.797698020935059, -3.6064202785491943, 6.063174724578857, -2.715574026107788, 10.571929931640625, -12.829833030700684, -11.848772048950195, 10.09941291809082, -6.2006964683532715, -12.691975593566895, 3.97674822807312, -0.7557074427604675, 9.440215110778809, 10.644817352294922, -2.8202059268951416, 4.2055840492248535, 6.451056480407715, -0.7125840187072754, -10.1379976272583, 6.218740463256836, -7.082095623016357, -2.7527401447296143, -13.282907485961914, -12.0401611328125, -12.462876319885254, -6.549848556518555, 14.318811416625977, -14.230597496032715, 5.814423561096191, 4.427374839782715, 16.1164608001709, -15.931137084960938, 8.735828399658203, 1.1307246685028076, -9.222169876098633, -15.650899887084961, 1.2250415086746216, 2.2593777179718018, -7.047881126403809, 4.205593585968018, -10.75825023651123, -13.347132682800293, 7.367781162261963, 11.962058067321777, -7.697717189788818, -13.61462116241455, 4.348306655883789, 0.8927426934242249, 10.388683319091797, 4.246354103088379, 11.916484832763672, 1.7018681764602661, 2.9674665927886963, 8.371464729309082, -16.017255783081055, -5.082697868347168, 9.562702178955078, 6.702715873718262, 0.4331146478652954, 10.313774108886719, -9.166853904724121, -2.0761871337890625, -13.19926929473877, 13.238593101501465, 13.403985023498535, 6.509512901306152, 10.549572944641113, 1.482035756111145, -17.39059829711914, -12.526649475097656, -10.091008186340332, 10.323920249938965, -3.127734422683716, -7.258077144622803, 4.217827320098877, -4.643843173980713, -6.804566860198975, 2.588665008544922, -2.363693952560425, -3.140035390853882, 9.459186553955078, 5.023717403411865, 6.544857501983643, 5.821316719055176, 7.326425075531006, -6.1127119064331055, 12.107916831970215, 4.579314231872559, -0.9652872681617737, -2.1214442253112793, 10.034428596496582, 4.0087151527404785, 3.5038814544677734, -9.954063415527344, -3.293276786804199, 1.3178731203079224, 10.484883308410645, 6.9638543128967285, 10.106682777404785, 5.814261436462402, -11.61762809753418, 13.445128440856934, -15.427372932434082, 1.5095568895339966, -4.347634792327881, 6.702142238616943, 11.125584602355957, -3.510960340499878, -15.1303071975708, -2.6973724365234375, 7.443937301635742, 8.46253490447998, 16.193750381469727, 10.281729698181152, -11.859312057495117, -13.675222396850586, -6.357830047607422, 8.434952735900879, 8.261881828308105, 8.635464668273926, -14.732755661010742, 13.934975624084473, 10.241806030273438, -6.799032688140869, -2.9861080646514893, -16.916393280029297, -4.669881343841553, 11.457199096679688, 9.025666236877441, -8.284268379211426, -15.257576942443848, 6.488387584686279, 12.542757034301758, -16.37518310546875, -1.4260890483856201, -15.78702163696289, 3.319448232650757, 0.13617108762264252, -16.076059341430664, -17.85273551940918, 3.698967218399048, -4.641062259674072, -13.276432037353516, 5.97924280166626, -12.024234771728516, -6.873457908630371, 7.513992786407471, -14.760749816894531, 10.416285514831543, -3.2641279697418213, -6.692886829376221, 5.300510406494141, 5.339661121368408, -13.674833297729492, -0.5687154531478882, -0.4672641456127167, 9.751550674438477, -16.064327239990234, 9.275931358337402, 0.7944260239601135, 2.9623003005981445, -2.9092648029327393, -0.9666471481323242, -13.630797386169434, 13.288800239562988, -14.263983726501465, -5.546492099761963, 13.06998062133789, 15.520992279052734, 0.14093641936779022, 10.435856819152832, 15.235451698303223, 9.637088775634766, -6.241478443145752, -0.6227756142616272, 11.487334251403809, 10.532435417175293, 8.051263809204102, -7.502229690551758, -16.411149978637695, 12.843121528625488, -17.00831413269043, 4.462111473083496, -3.0179357528686523, 0.46156325936317444, -13.216144561767578, -1.362834095954895, -6.80460262298584, -4.8250732421875, -13.250850677490234, -13.287708282470703, -7.872496604919434, 7.183977127075195, -5.291877746582031, 4.637691974639893, -3.707631826400757, 8.555755615234375, 3.884617328643799, -3.659726142883301, 2.839602470397949, -2.5125691890716553, -13.065781593322754, -1.8600773811340332, 10.869767189025879, -3.834467887878418, -5.665514945983887, -17.23470687866211, 11.821122169494629, 5.500490665435791, -15.089754104614258, 1.0111329555511475, 6.110953330993652, 2.6486032009124756, -1.210889220237732, 4.540259838104248, 6.0333027839660645, -5.72896671295166, -13.870429992675781, -6.287568092346191, -12.360467910766602, -15.222210884094238, 14.481523513793945, -2.4223999977111816, 12.640519142150879, 5.801512718200684, 0.27324947714805603, 6.111602306365967, -12.299103736877441, -6.217591285705566, 10.23569393157959, -5.535251617431641, -10.983593940734863, 6.528796195983887, -15.72683048248291, -1.5671520233154297, 5.540329456329346, 2.382312536239624, -5.695218563079834, 10.949238777160645, 9.266586303710938, 12.52883243560791, -8.711860656738281, 3.6109726428985596, -7.495299339294434, -7.901071071624756, 2.5562896728515625, 5.333245277404785, -1.0652642250061035, -17.167560577392578, -3.3185760974884033, 6.139938831329346, 13.710257530212402, -5.163651466369629, -4.074678897857666, -12.575374603271484, 2.097050905227661, -18.05016326904297, -14.94418716430664, 6.8207197189331055, -6.990468978881836, 11.689242362976074, 2.7015957832336426, 12.492115020751953, 3.7765893936157227, -8.454315185546875, -5.897887229919434, -1.5816941261291504, -5.986881732940674, -10.797357559204102, -13.815098762512207, 8.176926612854004, -13.669261932373047, 10.781396865844727, 15.595772743225098, -1.2472243309020996, -5.664809703826904, -5.597933769226074, -4.352166175842285, -13.008338928222656, 10.233148574829102, 10.646932601928711, 3.936244010925293, -0.3036137521266937, 9.433698654174805, 15.050920486450195, -13.0508394241333, 7.1512932777404785, 8.33951473236084, 1.212483286857605, -11.24825668334961, 1.0303329229354858, 2.7227392196655273, -10.126631736755371, -11.741833686828613, -6.023252487182617, -17.5393123626709, -8.449049949645996, 1.566399097442627, -5.084993362426758, 10.752211570739746, -5.324711799621582, 8.510863304138184, -12.07492446899414, -15.48376750946045, 11.595715522766113, 7.214334487915039, -5.992019176483154, -4.452651023864746, -5.897703647613525, 0.5978969931602478, 0.659672200679779, 7.682241439819336, 3.439823627471924, 2.2696218490600586, 9.261750221252441, 0.24871671199798584, 0.9068425297737122, 3.7525744438171387, 1.6415680646896362, 4.073028087615967, -12.831390380859375, -13.015429496765137, 12.248520851135254, -17.161951065063477, 2.010317325592041, 1.0771865844726562, -2.991917848587036, 7.498249053955078, -2.5455634593963623, -13.925976753234863, -4.613971710205078, -1.8434563875198364, -3.960566520690918, 0.8801557421684265, -6.472269535064697, 0.16092880070209503, -14.90868854522705, 7.013286590576172, 10.229875564575195, -4.298839092254639, -15.513379096984863, -2.8010010719299316, -14.257804870605469, 0.4126785397529602, -7.394944190979004, -0.0871908962726593, 8.851521492004395, 12.463370323181152, 2.49094820022583, -9.530028343200684, 14.835009574890137, 6.168296813964844, -15.512685775756836, -1.1811248064041138, 4.602013111114502, -11.883498191833496, -13.365593910217285, 3.2114017009735107, 2.6232924461364746, -0.9722997546195984, -6.608081817626953, -0.7771880626678467, -11.594222068786621, 7.737925052642822, 6.859642028808594, 13.898945808410645, 2.4124808311462402, 2.1710073947906494, 2.8691422939300537, 0.20463180541992188, -4.694666385650635, 6.3272528648376465, 7.946422100067139, -5.545874118804932, -8.007492065429688, 8.01284122467041, -13.731023788452148, 9.452406883239746, 1.4540364742279053, -4.740152835845947, 7.462111473083496, 13.803871154785156, 3.833256483078003, 11.542655944824219, -8.12316608428955, -12.657470703125, -5.325658321380615, -10.658528327941895, -15.227853775024414, 6.750608444213867, -7.903421401977539, -5.422865867614746, -4.0265936851501465, 3.4107930660247803, -1.932421088218689, -8.413797378540039, 1.6338547468185425, 4.121429920196533, 2.8237857818603516, -9.652769088745117, 1.8744019269943237, 3.4694554805755615, -9.451818466186523, -16.050527572631836, 0.1645481288433075, -5.143548965454102, -11.8287353515625, 11.265246391296387, 10.367243766784668, 2.390711545944214, -1.7844516038894653, -2.9713423252105713, -3.03543758392334, -12.017931938171387, -1.791992425918579, 8.523773193359375, -13.585613250732422, 15.24246883392334, 3.329845905303955, -11.990568161010742, 13.42143440246582, 1.425603985786438, -6.250821590423584, -5.170492172241211, -9.820151329040527, -3.759671211242676, 7.197536945343018, -18.084049224853516, 0.3357226848602295, 8.492023468017578, 5.03646993637085, -7.004302024841309, -4.968778133392334, 0.27012693881988525, 0.8908237218856812, -6.955695629119873, 4.972097873687744, -1.789400339126587, -1.401749849319458, -4.522838115692139, -3.506322145462036, 1.4572077989578247, -6.53082799911499, -6.153878688812256, -13.786874771118164, -13.987275123596191, 10.039275169372559, -17.145994186401367, 4.809173583984375, 15.268643379211426, 9.334693908691406, -14.570651054382324, 1.6436030864715576, 3.8292551040649414, -15.063417434692383, 11.13764476776123, -13.013141632080078, 2.7369086742401123, 8.383666038513184, 15.825333595275879, -1.0770312547683716, 13.09376335144043, 13.492392539978027, -17.2352294921875, 10.410662651062012, -17.245712280273438, 1.3255696296691895, -0.9962427616119385, 2.098781108856201, 10.22557258605957, -2.0755317211151123, 8.807947158813477, 2.135301113128662, 2.8128180503845215, -2.7165310382843018, -2.0020296573638916, -3.73799204826355, 13.000205039978027, 5.581532955169678, -5.173068523406982, -0.5128487348556519, -13.771136283874512, 5.556255340576172, -4.905588626861572, 2.334301233291626, 4.123887538909912, -11.8408203125, -1.0111602544784546, -5.757257461547852, -3.93672513961792, 14.463235855102539, 5.664506435394287, 7.541170120239258, -12.558910369873047, -3.8027820587158203, 10.270979881286621, 3.6839301586151123, 2.58516001701355, 5.382169246673584, 10.153634071350098, -13.659460067749023, 13.495013236999512, 6.085892677307129, 12.960784912109375, -8.517008781433105, 10.671981811523438, -15.767791748046875, -3.8738138675689697, -3.287968873977661, -6.217823028564453, 5.736291885375977, -11.953439712524414, 6.4148030281066895, -12.490426063537598, -4.793673992156982, -8.27897834777832, -7.032302379608154, -12.256881713867188, 1.787270426750183, 6.722936153411865, 5.344857692718506, 13.00998306274414, -8.396679878234863, 1.3735876083374023, -2.0847365856170654, -13.159798622131348, 14.064656257629395, -4.048550605773926, -15.593436241149902, -4.829007148742676, -13.6315279006958, -4.907644748687744, -18.37151527404785, -16.109874725341797, -5.951109886169434, 5.788327693939209, -4.139781475067139, 3.507288694381714, -8.563255310058594, 7.324090003967285, 11.574645042419434, -5.102941036224365, 5.810014724731445, -4.275754451751709, -5.278838634490967, 8.947314262390137, -5.283132553100586, -6.111123561859131, 4.6367998123168945, -4.522815704345703, 6.771759033203125, 5.652663230895996, 4.844226837158203, -7.871150493621826, 2.4529690742492676, -5.634103298187256, -4.501572608947754, 2.1027650833129883, 2.7191295623779297, -6.86927604675293, 5.769677639007568, -10.881861686706543, 11.311379432678223, 3.7490954399108887, -5.438456058502197, -4.534428119659424, -7.655523777008057, 5.6944260597229, 15.32175064086914, -5.9159255027771, 12.097994804382324, 8.855596542358398, 9.802119255065918, 3.9171102046966553, -1.7005819082260132, -14.446626663208008, -5.628885269165039, -3.2242238521575928, 2.07637357711792, -11.34129810333252, -10.09914779663086, -6.5321526527404785, -2.2304677963256836, 6.889293670654297, -0.7843905091285706, -5.3384504318237305, -15.521441459655762, -11.98898983001709, -13.793245315551758, 1.252586841583252, -13.181690216064453, -3.359285354614258, 0.0830516442656517, 14.38276481628418, 5.911584854125977, 3.8204286098480225, 8.513510704040527, 3.956636905670166, 8.043431282043457, -12.958284378051758, -6.998533248901367, -14.473003387451172, -7.800104141235352, 6.444046974182129, -13.319221496582031, -1.2909713983535767, 7.676669120788574, 9.023911476135254, 7.533871650695801, -2.577285051345825, -6.452072620391846, -17.321964263916016, -2.033932685852051, 8.51968002319336, -7.466683387756348, -7.284878730773926, -5.4715657234191895, -11.111822128295898, 10.876704216003418, 0.35928505659103394, 5.155141353607178, -6.050226211547852, 4.611238956451416, -1.442865014076233, 6.80439567565918, 5.718675136566162, -17.39934539794922, 5.826114177703857, 15.293729782104492, -12.958245277404785, -9.937525749206543, -16.324440002441406, 5.3256659507751465, -15.077407836914062, 9.142004013061523, -7.170825481414795, -15.510581970214844, 2.0063929557800293, 0.5427805781364441, -5.345971584320068, -2.519254207611084, -7.738863945007324, -1.0568962097167969, -1.3841603994369507, 7.42146110534668, 4.860082626342773, -0.1038551926612854, 2.161210298538208, -12.247962951660156, -10.173718452453613, 5.129372596740723, 16.251331329345703, -7.645132064819336, -9.38943099975586, -4.56041145324707, 2.650644302368164, 15.006099700927734, 8.446489334106445, -13.62259578704834, -1.170387625694275, -1.0783700942993164, 12.197854042053223, 9.632555961608887, -3.7197585105895996, -7.1799845695495605, 5.491814136505127, -14.282313346862793, -5.210053443908691, 1.6787654161453247, -17.43758773803711, 0.9404916167259216, 12.144164085388184, 11.889047622680664, -14.36388874053955, 0.40577080845832825, -4.494629859924316, -6.4877753257751465, -4.45956563949585, 2.4922893047332764, 11.909427642822266, -13.595952033996582, 6.749545574188232, 3.5372467041015625, -6.486578464508057, -6.008310317993164, -17.45020294189453, -5.935851097106934, -3.8155581951141357, -2.7365846633911133, -15.14156723022461, -8.709611892700195, -0.7228469252586365, 11.954463958740234, 2.270002841949463, -7.4263715744018555, -18.237363815307617], \"z\": [10.561365127563477, -8.745054244995117, 6.414117813110352, -7.860114574432373, 0.43105050921440125, -6.414350986480713, -3.5337376594543457, -12.583088874816895, 4.896971225738525, 7.851059913635254, -14.635836601257324, 1.3493598699569702, -12.985709190368652, 5.804309368133545, -1.7158123254776, -6.546064853668213, -12.99985122680664, 1.4738889932632446, 7.912625789642334, -6.031854152679443, -5.967047214508057, 12.706464767456055, 0.24440763890743256, 4.311114311218262, -5.310348987579346, -5.046756267547607, 1.9483706951141357, 5.491540908813477, -2.448403835296631, -6.661461353302002, 5.045681476593018, -9.672261238098145, 6.107430934906006, -3.6489007472991943, 0.12102138996124268, 14.36767578125, -5.3314127922058105, 5.853705883026123, 11.684000968933105, -7.963168621063232, 2.3884971141815186, -3.4088945388793945, 2.897782564163208, -3.022023916244507, -2.0822556018829346, -7.068740367889404, -2.3752148151397705, 4.335469722747803, 1.4829325675964355, 3.1439008712768555, -14.55398941040039, 9.180766105651855, 2.766417980194092, -6.880091667175293, -6.729819297790527, -7.969919681549072, -8.783313751220703, -4.1144118309021, -3.8997888565063477, 2.324115753173828, -2.88128924369812, 2.0804314613342285, -9.10647201538086, -3.8979642391204834, 5.922669887542725, -2.0557236671447754, -0.2413470447063446, 1.452308177947998, 0.9351032376289368, -9.043929100036621, -7.211623668670654, -8.932332992553711, 10.46284008026123, -12.14118766784668, 12.963109016418457, 9.885290145874023, -0.5557383298873901, -6.990035533905029, 16.58403205871582, 13.136122703552246, 12.612446784973145, 9.327506065368652, -1.3359507322311401, 1.05990469455719, -4.4469218254089355, -8.90759563446045, -0.0638895332813263, -0.11932139843702316, -1.9179449081420898, 8.327523231506348, 13.141278266906738, -13.414155006408691, 2.6207363605499268, -2.469931125640869, -7.405080318450928, -8.136764526367188, 5.141692638397217, -6.435418128967285, 0.25127896666526794, -1.1302467584609985, 9.396010398864746, 1.6153126955032349, -6.589700698852539, 2.5403382778167725, -9.983328819274902, 7.9376091957092285, 5.6907219886779785, -4.851603984832764, 12.815051078796387, -6.5853753089904785, 10.284326553344727, 8.621143341064453, -15.637990951538086, 10.108222961425781, 2.728389024734497, 11.13283920288086, -5.335620880126953, -2.333317756652832, -9.848827362060547, -0.07002546638250351, 11.588382720947266, -0.1546042114496231, -5.421485900878906, 3.9144628047943115, 1.6601160764694214, -7.002579689025879, -6.166719913482666, -8.634166717529297, -4.918773174285889, -6.3917622566223145, -1.9984276294708252, 4.471741199493408, -13.430976867675781, -4.4463300704956055, 0.8261482119560242, 10.025890350341797, 0.7111457586288452, -10.886828422546387, -7.084936141967773, 1.7888550758361816, -12.643630981445312, 7.784873008728027, 1.740797996520996, -0.3902853727340698, -1.1061638593673706, 10.433847427368164, -11.463462829589844, 0.680979311466217, -7.944925785064697, 4.211507320404053, 9.826410293579102, 11.274239540100098, -5.771721839904785, 1.3127012252807617, 11.506379127502441, 4.975262641906738, 4.6670026779174805, 3.4246087074279785, 16.764835357666016, -10.38505744934082, -5.953235149383545, -3.3101863861083984, 14.654942512512207, 16.477706909179688, -8.689218521118164, 2.4170732498168945, -12.354475021362305, -5.927151203155518, 1.1928558349609375, 2.837829828262329, 5.6773786544799805, -7.313713073730469, -7.026570796966553, 3.2206170558929443, 0.1823873072862625, 0.9550633430480957, -6.828820705413818, 3.6401100158691406, -8.65371322631836, -9.721149444580078, -0.7778939008712769, -8.880729675292969, -9.734071731567383, -8.859356880187988, -6.806382179260254, -4.257356643676758, -5.007020473480225, -1.779008150100708, 10.812045097351074, 11.440325736999512, 1.08871591091156, 0.3024730980396271, -14.076005935668945, 3.8082096576690674, -3.866147518157959, -5.749100685119629, -2.0109949111938477, -5.381875514984131, 8.072948455810547, 1.293996810913086, -0.30436450242996216, 3.1305034160614014, -5.909740447998047, -1.6220777034759521, 4.6518754959106445, -9.590980529785156, 14.166009902954102, -0.9588940739631653, -9.706639289855957, -6.77895975112915, -0.15333540737628937, -5.5398688316345215, -5.332268238067627, 10.33891773223877, -0.28897425532341003, -0.5589751601219177, -6.759166717529297, -7.604002475738525, -8.359739303588867, 1.7078481912612915, 5.243985652923584, -3.977989912033081, -1.0301384925842285, 14.07746410369873, -2.014608144760132, 13.856158256530762, 4.487880229949951, 9.905202865600586, 0.7330319881439209, -5.127011775970459, -4.9270124435424805, 2.7712972164154053, -10.657822608947754, -10.565281867980957, -1.6910643577575684, -3.4062252044677734, 1.5413554906845093, 10.764201164245605, -8.526667594909668, 4.632186412811279, -1.2402992248535156, -4.454497337341309, 2.635789155960083, -4.293454170227051, -9.5626859664917, -1.0910950899124146, 10.90732479095459, 16.77764892578125, 4.451772212982178, 0.3524697721004486, -0.39283835887908936, 1.8921560049057007, -8.473666191101074, -2.8583757877349854, 8.88914966583252, 2.245194673538208, 10.982490539550781, -1.256083607673645, -4.82537841796875, -1.3822059631347656, 2.669588088989258, -1.4301494359970093, 1.5974520444869995, 1.6476043462753296, 1.075494408607483, -4.371387481689453, -11.305342674255371, -5.274738311767578, 12.75578784942627, -5.0823283195495605, -4.208949565887451, -8.351710319519043, 12.162659645080566, 3.083035469055176, -8.870396614074707, -0.8241615891456604, -7.193055629730225, 0.3531714677810669, -4.119073867797852, 10.650923728942871, 3.8265492916107178, 2.7032556533813477, 9.581942558288574, 9.350552558898926, 2.4842312335968018, -4.935109615325928, 2.093733787536621, -4.3745903968811035, -1.534213900566101, 7.876486301422119, 8.711662292480469, -4.204041004180908, 5.663477420806885, -4.165981292724609, 1.0630779266357422, -14.079573631286621, -10.43747329711914, 16.084409713745117, 3.7212023735046387, 10.940519332885742, -9.682611465454102, -2.427459716796875, -6.444848537445068, -9.87574291229248, -8.184974670410156, 14.772299766540527, -4.507907867431641, 13.854803085327148, 2.1772711277008057, -7.102391242980957, -6.692465782165527, -0.0892568975687027, -7.897237300872803, 4.039172649383545, -3.2982499599456787, 11.870616912841797, 2.655266761779785, -4.739540100097656, 15.012320518493652, -6.5137152671813965, -9.111382484436035, 12.478814125061035, -9.544063568115234, -6.856878757476807, 12.531147956848145, 12.91208267211914, -10.123269081115723, -11.663556098937988, -0.30517566204071045, -9.118215560913086, -5.060456275939941, -6.652920722961426, -1.3203046321868896, 6.523165225982666, 0.41673970222473145, -0.43121537566185, -6.211066246032715, 9.945602416992188, -5.1985626220703125, -5.119400501251221, 10.956216812133789, 10.715152740478516, -10.070573806762695, 0.626798689365387, -11.94388484954834, -0.9218813180923462, -5.017203330993652, 0.38229629397392273, -9.283263206481934, -6.956023216247559, 2.559746265411377, 11.789597511291504, -1.634310245513916, -8.326749801635742, 2.1298983097076416, 10.391312599182129, 1.3881776332855225, -2.0996875762939453, -7.8964314460754395, 13.688825607299805, -7.991698265075684, -5.123197555541992, 4.746862411499023, 2.108940601348877, -9.91858959197998, 14.885894775390625, -5.355259895324707, -3.270879030227661, -1.0432534217834473, -4.796675205230713, 3.6763761043548584, -1.2260675430297852, -0.2277912050485611, 0.44592660665512085, -9.429678916931152, 4.966124534606934, 13.227080345153809, -8.63441276550293, -7.1030354499816895, 8.005879402160645, -10.96778678894043, 2.7097721099853516, 12.027097702026367, 10.582155227661133, -6.910158157348633, 5.13127326965332, 5.7570271492004395, 4.757730007171631, 0.5773755311965942, 9.454361915588379, 2.4039459228515625, 5.679252624511719, 13.441157341003418, 11.1394681930542, -1.919161081314087, -8.274093627929688, 7.76258659362793, -9.209754943847656, 11.787574768066406, 10.534035682678223, 0.06776542961597443, -0.2640376687049866, -0.44563156366348267, -10.21723747253418, -10.478372573852539, -5.2918219566345215, 2.5427913665771484, 3.50895094871521, -11.542906761169434, -7.699767589569092, -4.833654880523682, 8.47819709777832, -9.879032135009766, 14.689739227294922, -3.8178131580352783, 2.873440980911255, 1.5658808946609497, -6.317785739898682, -11.890509605407715, -1.220597267150879, 9.388257026672363, 4.490047454833984, -3.7341089248657227, -8.843626022338867, 0.5406094789505005, -0.161152645945549, -4.378764629364014, -8.753517150878906, 10.132513046264648, -0.8545323610305786, 10.823554992675781, -4.444134712219238, 1.0267750024795532, -8.339197158813477, -6.927280902862549, 1.9378238916397095, -1.0465227365493774, -0.45271241664886475, 13.55316162109375, 4.4684319496154785, 8.523033142089844, 16.60249900817871, 3.7825591564178467, -2.991631031036377, -0.17494994401931763, -7.77877950668335, -7.402040481567383, 0.5455944538116455, 0.5852951407432556, -10.29240608215332, 0.361427366733551, 0.7236182689666748, 4.119032859802246, 14.590726852416992, -14.601591110229492, -6.547207832336426, 1.1017632484436035, 1.3082356452941895, 16.284086227416992, 17.90358543395996, -6.871693134307861, 2.621690034866333, 2.3501534461975098, 11.562209129333496, 3.1264755725860596, 12.95324993133545, 12.534568786621094, -9.053093910217285, 1.9914389848709106, 1.2723796367645264, 11.749988555908203, -1.9875935316085815, -0.6728042364120483, 11.216364860534668, 5.1255598068237305, -3.420915365219116, -5.833881378173828, -7.117199897766113, 8.506264686584473, -5.214963436126709, 2.548041582107544, 0.645323634147644, -7.811835765838623, -2.7975189685821533, -5.044309616088867, -2.22926926612854, -6.7237701416015625, 9.844799995422363, 10.188801765441895, 4.6115851402282715, 15.445462226867676, -14.108293533325195, -5.465186595916748, -6.015318393707275, 2.2781484127044678, -10.77750301361084, -6.919054985046387, -11.992294311523438, 0.7059787511825562, 7.980483531951904, -6.79431676864624, 4.796369552612305, 13.19897747039795, -1.514654517173767, 9.957672119140625, 4.058453559875488, 15.69161605834961, -0.3915705978870392, 9.832523345947266, -8.042038917541504, 1.2074594497680664, 2.904097557067871, -3.5826547145843506, -5.396973609924316, 16.021692276000977, 1.4389557838439941, -0.17727507650852203, 16.220657348632812, 2.4052107334136963, -4.531026840209961, 9.696069717407227, -2.7352561950683594, -4.152286052703857, -0.763255774974823, -8.599366188049316, -5.533941268920898, 10.378251075744629, -2.4554076194763184, 0.5730206966400146, 12.679743766784668, -6.454252243041992, -6.198745250701904, -11.970613479614258, 3.255465507507324, -13.263218879699707, -6.840023994445801, -8.222025871276855, -1.907187581062317, 6.2475266456604, -5.273059844970703, 0.8455483913421631, -10.343683242797852, -4.80914306640625, -8.26262378692627, 0.3272886574268341, -13.877015113830566, 9.754138946533203, -10.236781120300293, -9.992586135864258, 9.586129188537598, 3.2028794288635254, 9.9127197265625, 1.2861289978027344, 16.698545455932617, -0.41360679268836975, -5.21159029006958, -11.682392120361328, 13.69262409210205, -10.939661979675293, 2.0063512325286865, -2.5143213272094727, -8.798145294189453, -0.5732138752937317, -12.339171409606934, 1.1885911226272583, 14.301311492919922, 2.845198392868042, 4.3474578857421875, -11.095316886901855, -13.253926277160645, 10.45742416381836, -13.50488567352295, -11.021193504333496, -7.179991245269775, -9.932583808898926, -6.620362281799316, -6.018036842346191, -1.0882261991500854, 9.623838424682617, 12.420149803161621, 9.273439407348633, 13.776780128479004, 0.6869292855262756, -6.014442443847656, 2.3171756267547607, 14.142020225524902, 12.557133674621582, 5.658050537109375, -3.2025060653686523, -5.597408771514893, -0.8039488792419434, 2.2024238109588623, 3.025367498397827, -10.53310775756836, 2.340632915496826, 1.6998240947723389, -10.326841354370117, -5.7436089515686035, -7.88364315032959, -2.4107236862182617, -11.134654998779297, 0.36270710825920105, -7.65530252456665, -4.001575946807861, -10.096673965454102, -7.1402435302734375, -11.606356620788574, -7.577714920043945, 0.12077610194683075, -8.471060752868652, -4.7958984375, 7.969679355621338, 10.774636268615723, 11.795762062072754, 10.153546333312988, 0.2870900332927704, -1.683910846710205, -2.5758328437805176, 2.202714681625366, 12.559821128845215, 4.600560665130615, 1.8459031581878662, 0.20852181315422058, 3.16802716255188, -0.4101622402667999, -11.075202941894531, -5.3353376388549805, 2.710592269897461, 2.4157567024230957, 11.860508918762207, 5.810394287109375, -5.311331272125244, 15.26004409790039, -2.022392988204956, 8.241168022155762, 6.489956378936768, 6.552985191345215, 4.1096296310424805, -14.324522018432617, 2.3737831115722656, 4.84205436706543, -6.752826690673828, -5.654025077819824, 7.813065528869629, -6.623285293579102, 15.670310020446777, 2.4591104984283447, 9.623979568481445, -6.075430393218994, 12.805197715759277, 4.4970598220825195, 2.5513675212860107, 1.980000615119934, -12.364604949951172, 1.3158432245254517, -7.473522186279297, -1.1341718435287476, 10.023519515991211, 4.06552791595459, -7.000410079956055, -7.601988315582275, 1.7655245065689087, 3.1739439964294434, 10.69681167602539, -10.278952598571777, 1.422515630722046, -9.317047119140625, -4.993350028991699, -5.280684947967529, 1.768751621246338, 1.3571324348449707, 10.097853660583496, -0.3141780495643616, 3.1638896465301514, -9.1636381149292, 3.30216121673584, -8.512519836425781, -14.880583763122559, -9.675081253051758, -4.254714012145996, 1.2647392749786377, 3.123044967651367, 11.423242568969727, -7.114828586578369, -1.8742581605911255, 1.3026454448699951, 10.616253852844238, 1.2958271503448486, -13.919473648071289, -6.687483787536621, -6.028911113739014, -6.871366500854492, -9.150738716125488, 1.6729871034622192, -15.51365852355957, -11.570623397827148, 13.468173027038574, 13.474160194396973, 16.86487579345703, -4.64735746383667, -1.9701370000839233, 15.319575309753418, 5.817503929138184, -2.4380581378936768, 9.801472663879395, -7.830061435699463, -13.005640029907227, -4.70469856262207, 5.6875481605529785, -3.546377658843994, -3.157242774963379, 3.8775548934936523, 3.5721795558929443, -5.119597911834717, 5.402340888977051, -10.026097297668457, -6.39486837387085, -7.039297103881836, 5.360630035400391, 4.261150360107422, 7.827640533447266, -5.803032875061035, -6.998842239379883, 9.246686935424805, 1.5188615322113037, 6.189976692199707, -9.524879455566406, -11.808117866516113, -8.635616302490234, -7.555300235748291, -0.3049503266811371, -0.7528665065765381, 3.457029342651367, 4.620312213897705, 1.775931715965271, -14.133540153503418, 10.733107566833496, 15.39706039428711, 16.132352828979492, -5.099997520446777, 3.642481803894043, 8.520962715148926, 9.63253402709961, -5.263314247131348, 11.905655860900879, 15.943662643432617, 11.76871109008789, -14.82628059387207, 1.9948073625564575, -7.746926307678223, -8.320586204528809, 0.6056795120239258, -7.676074504852295, -3.881744384765625, 3.4633045196533203, 3.8304965496063232, 12.976968765258789, -1.385719895362854, -5.73297119140625, -0.36006584763526917, -8.23807430267334, -0.4373118579387665, 5.323672771453857, 0.2378162294626236, 11.519851684570312, -3.7549047470092773, -5.263832092285156, 0.09069053083658218, -4.807347297668457, 0.12675762176513672, 12.719740867614746, 8.227371215820312, 4.341551303863525, -4.9474358558654785, 12.620807647705078, 1.5566972494125366, 2.433518171310425, -1.694960594177246, 15.265501976013184, 11.44330883026123, 10.732288360595703, -4.685503005981445, -7.657764434814453, 9.749345779418945, 16.910858154296875, -7.8335347175598145, -0.8866260647773743, -9.830711364746094, 15.478072166442871, 13.195465087890625, -10.874585151672363, 10.845986366271973, -5.468219757080078, 14.77437973022461, -4.233899116516113, -10.700583457946777, 3.460019588470459, 0.9786494970321655, 12.395247459411621, 0.559678852558136, 0.05693533644080162, 3.804527521133423, 1.6062830686569214, -8.933320999145508, 4.5248332023620605, 1.8705167770385742, 0.9672799706459045, -5.3974409103393555, -13.209498405456543, 3.724851131439209, -0.1975015252828598, -5.558020114898682, 14.43381118774414, 8.651558876037598, -8.263410568237305, 0.5708997249603271, -6.038287162780762, -10.280475616455078, -6.322962760925293, -10.415999412536621, -12.506131172180176, 3.809556484222412, 16.7858829498291, -7.836429119110107, -2.8958821296691895, -2.1410279273986816, -13.20716667175293, 14.128414154052734, 13.027018547058105, -6.904366493225098, -5.220623016357422, 13.473301887512207, -8.008149147033691, -5.258415222167969, 1.5737196207046509, -9.326555252075195, -1.343924641609192, 0.404786616563797, -12.000271797180176, 0.8166949152946472, 11.757843971252441, 2.47206711769104, -10.2349271774292, -3.8148410320281982, -4.369304180145264, -12.27320671081543, -7.490945339202881, 12.365323066711426, 10.289667129516602, 1.8629082441329956, -11.527351379394531, 11.013520240783691, 0.8135915398597717, 11.646748542785645, 0.5918957591056824, -4.50408935546875, 0.337702214717865, -14.457704544067383, 14.50196647644043, -5.220695495605469, 10.845795631408691, 13.14273738861084, 1.2073030471801758, 11.3126859664917, -4.227383613586426, -10.997169494628906, -2.739022970199585, 13.354897499084473, -10.25008773803711, 7.748495101928711, -10.984376907348633, 3.150048017501831, -0.17604169249534607, 10.729196548461914, -7.315340042114258, 5.850180149078369, -1.8431127071380615, -2.241969347000122, 8.252019882202148, 3.7911953926086426, 8.593389511108398, 15.738656997680664, 9.986878395080566, -8.6742582321167, -9.57480239868164, -15.348108291625977, 11.529518127441406, 4.651914119720459, 10.719098091125488, -4.080220699310303, -0.573996365070343, -7.054924488067627, 0.2610322833061218, 9.584121704101562, -7.870059013366699, 9.551581382751465, 10.185098648071289, 0.3611634373664856, 0.6158895492553711, 0.6585758328437805, -3.878571033477783, -1.2276126146316528, 2.5192036628723145, -10.44597339630127, 12.62647819519043, -1.4625389575958252, -10.549509048461914, -8.883858680725098, 0.2139413058757782, 14.333513259887695, -1.3953213691711426, 5.5811285972595215, 2.7500100135803223, 13.331814765930176, -5.8603081703186035, 2.2236106395721436, 7.75767183303833, -5.821712493896484, -14.339204788208008, -14.923151969909668, 10.423261642456055, -13.260116577148438, -0.3866633176803589, 10.979104995727539, -5.428645133972168, 9.364750862121582, -8.928670883178711, 8.521770477294922, 3.422926664352417, -4.7097673416137695, 1.3393281698226929, 1.9398857355117798, 0.08457162231206894, -8.312634468078613, -9.81084156036377, -0.43864330649375916, 5.2310943603515625, 4.312966823577881, -8.634775161743164, -13.03089714050293, 2.3625338077545166, -1.8505558967590332, 16.292743682861328, -12.671185493469238, 15.146273612976074, -4.329571723937988, 15.52003288269043, 12.894213676452637, -4.27030611038208, -9.549724578857422, 8.200698852539062, 3.5485072135925293, -10.325937271118164, -10.141632080078125, 4.490227699279785, 1.5621795654296875, -15.342962265014648, -5.914834499359131, -5.045220851898193, -1.8041269779205322, -3.155468225479126, 4.543135643005371, 3.9110307693481445, 16.071613311767578, 9.746561050415039, 2.7546777725219727, -3.7550466060638428, 16.745241165161133, -4.931446075439453, -0.7017181515693665, -7.4763264656066895, 13.457155227661133, 10.97434139251709, 2.0962674617767334, 11.351487159729004, -4.314225196838379, -4.608535289764404, -6.925784111022949, 3.4026708602905273, -9.876869201660156, -4.677944183349609, 9.326449394226074, 15.968395233154297, -3.6812126636505127, -6.910118579864502, -0.2947872579097748, -1.9990264177322388, -10.481999397277832, -13.22750186920166, -1.89365816116333, -9.61792278289795, 14.669027328491211, 15.914198875427246, 4.129086017608643, -5.754085540771484, 9.126617431640625, 0.15131133794784546, 14.880433082580566, -8.742195129394531, -1.2067980766296387]}],\n",
       "                        {\"coloraxis\": {\"colorbar\": {\"title\": {\"text\": \"Label\"}}, \"colorscale\": [[0.0, \"#0d0887\"], [0.1111111111111111, \"#46039f\"], [0.2222222222222222, \"#7201a8\"], [0.3333333333333333, \"#9c179e\"], [0.4444444444444444, \"#bd3786\"], [0.5555555555555556, \"#d8576b\"], [0.6666666666666666, \"#ed7953\"], [0.7777777777777778, \"#fb9f3a\"], [0.8888888888888888, \"#fdca26\"], [1.0, \"#f0f921\"]]}, \"height\": 800, \"legend\": {\"tracegroupgap\": 0}, \"scene\": {\"domain\": {\"x\": [0.0, 1.0], \"y\": [0.0, 1.0]}, \"xaxis\": {\"title\": {\"text\": \"0\"}}, \"yaxis\": {\"title\": {\"text\": \"1\"}}, \"zaxis\": {\"title\": {\"text\": \"2\"}}}, \"template\": {\"data\": {\"bar\": [{\"error_x\": {\"color\": \"#2a3f5f\"}, \"error_y\": {\"color\": \"#2a3f5f\"}, \"marker\": {\"line\": {\"color\": \"#E5ECF6\", \"width\": 0.5}}, \"type\": \"bar\"}], \"barpolar\": [{\"marker\": {\"line\": {\"color\": \"#E5ECF6\", \"width\": 0.5}}, \"type\": \"barpolar\"}], \"carpet\": [{\"aaxis\": {\"endlinecolor\": \"#2a3f5f\", \"gridcolor\": \"white\", \"linecolor\": \"white\", \"minorgridcolor\": \"white\", \"startlinecolor\": \"#2a3f5f\"}, \"baxis\": {\"endlinecolor\": \"#2a3f5f\", \"gridcolor\": \"white\", \"linecolor\": \"white\", \"minorgridcolor\": \"white\", \"startlinecolor\": \"#2a3f5f\"}, \"type\": \"carpet\"}], \"choropleth\": [{\"colorbar\": {\"outlinewidth\": 0, \"ticks\": \"\"}, \"type\": \"choropleth\"}], \"contour\": [{\"colorbar\": {\"outlinewidth\": 0, \"ticks\": \"\"}, \"colorscale\": [[0.0, \"#0d0887\"], [0.1111111111111111, \"#46039f\"], [0.2222222222222222, \"#7201a8\"], [0.3333333333333333, \"#9c179e\"], [0.4444444444444444, \"#bd3786\"], [0.5555555555555556, \"#d8576b\"], [0.6666666666666666, \"#ed7953\"], [0.7777777777777778, \"#fb9f3a\"], [0.8888888888888888, \"#fdca26\"], [1.0, \"#f0f921\"]], \"type\": \"contour\"}], \"contourcarpet\": [{\"colorbar\": {\"outlinewidth\": 0, \"ticks\": \"\"}, \"type\": \"contourcarpet\"}], \"heatmap\": [{\"colorbar\": {\"outlinewidth\": 0, \"ticks\": \"\"}, \"colorscale\": [[0.0, \"#0d0887\"], [0.1111111111111111, \"#46039f\"], [0.2222222222222222, \"#7201a8\"], [0.3333333333333333, \"#9c179e\"], [0.4444444444444444, \"#bd3786\"], [0.5555555555555556, \"#d8576b\"], [0.6666666666666666, \"#ed7953\"], [0.7777777777777778, \"#fb9f3a\"], [0.8888888888888888, \"#fdca26\"], [1.0, \"#f0f921\"]], \"type\": \"heatmap\"}], \"heatmapgl\": [{\"colorbar\": {\"outlinewidth\": 0, \"ticks\": \"\"}, \"colorscale\": [[0.0, \"#0d0887\"], [0.1111111111111111, \"#46039f\"], [0.2222222222222222, \"#7201a8\"], [0.3333333333333333, \"#9c179e\"], [0.4444444444444444, \"#bd3786\"], [0.5555555555555556, \"#d8576b\"], [0.6666666666666666, \"#ed7953\"], [0.7777777777777778, \"#fb9f3a\"], [0.8888888888888888, \"#fdca26\"], [1.0, \"#f0f921\"]], \"type\": \"heatmapgl\"}], \"histogram\": [{\"marker\": {\"colorbar\": {\"outlinewidth\": 0, \"ticks\": \"\"}}, \"type\": \"histogram\"}], \"histogram2d\": [{\"colorbar\": {\"outlinewidth\": 0, \"ticks\": \"\"}, \"colorscale\": [[0.0, \"#0d0887\"], [0.1111111111111111, \"#46039f\"], [0.2222222222222222, \"#7201a8\"], [0.3333333333333333, \"#9c179e\"], [0.4444444444444444, \"#bd3786\"], [0.5555555555555556, \"#d8576b\"], [0.6666666666666666, \"#ed7953\"], [0.7777777777777778, \"#fb9f3a\"], [0.8888888888888888, \"#fdca26\"], [1.0, \"#f0f921\"]], \"type\": \"histogram2d\"}], \"histogram2dcontour\": [{\"colorbar\": {\"outlinewidth\": 0, \"ticks\": \"\"}, \"colorscale\": [[0.0, \"#0d0887\"], [0.1111111111111111, \"#46039f\"], [0.2222222222222222, \"#7201a8\"], [0.3333333333333333, \"#9c179e\"], [0.4444444444444444, \"#bd3786\"], [0.5555555555555556, \"#d8576b\"], [0.6666666666666666, \"#ed7953\"], [0.7777777777777778, \"#fb9f3a\"], [0.8888888888888888, \"#fdca26\"], [1.0, \"#f0f921\"]], \"type\": \"histogram2dcontour\"}], \"mesh3d\": [{\"colorbar\": {\"outlinewidth\": 0, \"ticks\": \"\"}, \"type\": \"mesh3d\"}], \"parcoords\": [{\"line\": {\"colorbar\": {\"outlinewidth\": 0, \"ticks\": \"\"}}, \"type\": \"parcoords\"}], \"pie\": [{\"automargin\": true, \"type\": \"pie\"}], \"scatter\": [{\"marker\": {\"colorbar\": {\"outlinewidth\": 0, \"ticks\": \"\"}}, \"type\": \"scatter\"}], \"scatter3d\": [{\"line\": {\"colorbar\": {\"outlinewidth\": 0, \"ticks\": \"\"}}, \"marker\": {\"colorbar\": {\"outlinewidth\": 0, \"ticks\": \"\"}}, \"type\": \"scatter3d\"}], \"scattercarpet\": [{\"marker\": {\"colorbar\": {\"outlinewidth\": 0, \"ticks\": \"\"}}, \"type\": \"scattercarpet\"}], \"scattergeo\": [{\"marker\": {\"colorbar\": {\"outlinewidth\": 0, \"ticks\": \"\"}}, \"type\": \"scattergeo\"}], \"scattergl\": [{\"marker\": {\"colorbar\": {\"outlinewidth\": 0, \"ticks\": \"\"}}, \"type\": \"scattergl\"}], \"scattermapbox\": [{\"marker\": {\"colorbar\": {\"outlinewidth\": 0, \"ticks\": \"\"}}, \"type\": \"scattermapbox\"}], \"scatterpolar\": [{\"marker\": {\"colorbar\": {\"outlinewidth\": 0, \"ticks\": \"\"}}, \"type\": \"scatterpolar\"}], \"scatterpolargl\": [{\"marker\": {\"colorbar\": {\"outlinewidth\": 0, \"ticks\": \"\"}}, \"type\": \"scatterpolargl\"}], \"scatterternary\": [{\"marker\": {\"colorbar\": {\"outlinewidth\": 0, \"ticks\": \"\"}}, \"type\": \"scatterternary\"}], \"surface\": [{\"colorbar\": {\"outlinewidth\": 0, \"ticks\": \"\"}, \"colorscale\": [[0.0, \"#0d0887\"], [0.1111111111111111, \"#46039f\"], [0.2222222222222222, \"#7201a8\"], [0.3333333333333333, \"#9c179e\"], [0.4444444444444444, \"#bd3786\"], [0.5555555555555556, \"#d8576b\"], [0.6666666666666666, \"#ed7953\"], [0.7777777777777778, \"#fb9f3a\"], [0.8888888888888888, \"#fdca26\"], [1.0, \"#f0f921\"]], \"type\": \"surface\"}], \"table\": [{\"cells\": {\"fill\": {\"color\": \"#EBF0F8\"}, \"line\": {\"color\": \"white\"}}, \"header\": {\"fill\": {\"color\": \"#C8D4E3\"}, \"line\": {\"color\": \"white\"}}, \"type\": \"table\"}]}, \"layout\": {\"annotationdefaults\": {\"arrowcolor\": \"#2a3f5f\", \"arrowhead\": 0, \"arrowwidth\": 1}, \"coloraxis\": {\"colorbar\": {\"outlinewidth\": 0, \"ticks\": \"\"}}, \"colorscale\": {\"diverging\": [[0, \"#8e0152\"], [0.1, \"#c51b7d\"], [0.2, \"#de77ae\"], [0.3, \"#f1b6da\"], [0.4, \"#fde0ef\"], [0.5, \"#f7f7f7\"], [0.6, \"#e6f5d0\"], [0.7, \"#b8e186\"], [0.8, \"#7fbc41\"], [0.9, \"#4d9221\"], [1, \"#276419\"]], \"sequential\": [[0.0, \"#0d0887\"], [0.1111111111111111, \"#46039f\"], [0.2222222222222222, \"#7201a8\"], [0.3333333333333333, \"#9c179e\"], [0.4444444444444444, \"#bd3786\"], [0.5555555555555556, \"#d8576b\"], [0.6666666666666666, \"#ed7953\"], [0.7777777777777778, \"#fb9f3a\"], [0.8888888888888888, \"#fdca26\"], [1.0, \"#f0f921\"]], \"sequentialminus\": [[0.0, \"#0d0887\"], [0.1111111111111111, \"#46039f\"], [0.2222222222222222, \"#7201a8\"], [0.3333333333333333, \"#9c179e\"], [0.4444444444444444, \"#bd3786\"], [0.5555555555555556, \"#d8576b\"], [0.6666666666666666, \"#ed7953\"], [0.7777777777777778, \"#fb9f3a\"], [0.8888888888888888, \"#fdca26\"], [1.0, \"#f0f921\"]]}, \"colorway\": [\"#636efa\", \"#EF553B\", \"#00cc96\", \"#ab63fa\", \"#FFA15A\", \"#19d3f3\", \"#FF6692\", \"#B6E880\", \"#FF97FF\", \"#FECB52\"], \"font\": {\"color\": \"#2a3f5f\"}, \"geo\": {\"bgcolor\": \"white\", \"lakecolor\": \"white\", \"landcolor\": \"#E5ECF6\", \"showlakes\": true, \"showland\": true, \"subunitcolor\": \"white\"}, \"hoverlabel\": {\"align\": \"left\"}, \"hovermode\": \"closest\", \"mapbox\": {\"style\": \"light\"}, \"paper_bgcolor\": \"white\", \"plot_bgcolor\": \"#E5ECF6\", \"polar\": {\"angularaxis\": {\"gridcolor\": \"white\", \"linecolor\": \"white\", \"ticks\": \"\"}, \"bgcolor\": \"#E5ECF6\", \"radialaxis\": {\"gridcolor\": \"white\", \"linecolor\": \"white\", \"ticks\": \"\"}}, \"scene\": {\"xaxis\": {\"backgroundcolor\": \"#E5ECF6\", \"gridcolor\": \"white\", \"gridwidth\": 2, \"linecolor\": \"white\", \"showbackground\": true, \"ticks\": \"\", \"zerolinecolor\": \"white\"}, \"yaxis\": {\"backgroundcolor\": \"#E5ECF6\", \"gridcolor\": \"white\", \"gridwidth\": 2, \"linecolor\": \"white\", \"showbackground\": true, \"ticks\": \"\", \"zerolinecolor\": \"white\"}, \"zaxis\": {\"backgroundcolor\": \"#E5ECF6\", \"gridcolor\": \"white\", \"gridwidth\": 2, \"linecolor\": \"white\", \"showbackground\": true, \"ticks\": \"\", \"zerolinecolor\": \"white\"}}, \"shapedefaults\": {\"line\": {\"color\": \"#2a3f5f\"}}, \"ternary\": {\"aaxis\": {\"gridcolor\": \"white\", \"linecolor\": \"white\", \"ticks\": \"\"}, \"baxis\": {\"gridcolor\": \"white\", \"linecolor\": \"white\", \"ticks\": \"\"}, \"bgcolor\": \"#E5ECF6\", \"caxis\": {\"gridcolor\": \"white\", \"linecolor\": \"white\", \"ticks\": \"\"}}, \"title\": {\"x\": 0.05}, \"xaxis\": {\"automargin\": true, \"gridcolor\": \"white\", \"linecolor\": \"white\", \"ticks\": \"\", \"title\": {\"standoff\": 15}, \"zerolinecolor\": \"white\", \"zerolinewidth\": 2}, \"yaxis\": {\"automargin\": true, \"gridcolor\": \"white\", \"linecolor\": \"white\", \"ticks\": \"\", \"title\": {\"standoff\": 15}, \"zerolinecolor\": \"white\", \"zerolinewidth\": 2}}}, \"title\": {\"text\": \"3d TSNE Plot for Outliers\"}, \"width\": 900},\n",
       "                        {\"responsive\": true}\n",
       "                    ).then(function(){\n",
       "                            \n",
       "var gd = document.getElementById('cff3ec17-7938-42e9-9be2-89a04db1f4a7');\n",
       "var x = new MutationObserver(function (mutations, observer) {{\n",
       "        var display = window.getComputedStyle(gd).display;\n",
       "        if (!display || display === 'none') {{\n",
       "            console.log([gd, 'removed!']);\n",
       "            Plotly.purge(gd);\n",
       "            observer.disconnect();\n",
       "        }}\n",
       "}});\n",
       "\n",
       "// Listen for the removal of the full notebook cells\n",
       "var notebookContainer = gd.closest('#notebook-container');\n",
       "if (notebookContainer) {{\n",
       "    x.observe(notebookContainer, {childList: true});\n",
       "}}\n",
       "\n",
       "// Listen for the clearing of the current output cell\n",
       "var outputEl = gd.closest('.output');\n",
       "if (outputEl) {{\n",
       "    x.observe(outputEl, {childList: true});\n",
       "}}\n",
       "\n",
       "                        })\n",
       "                };\n",
       "                });\n",
       "            </script>\n",
       "        </div>"
      ]
     },
     "metadata": {},
     "output_type": "display_data"
    }
   ],
   "source": [
    "# instantiating KNN model\n",
    "knn = create_model(\"knn\")\n",
    "\n",
    "# plotting the data using KNN \n",
    "plot_model(knn)"
   ]
  },
  {
   "cell_type": "code",
   "execution_count": 7,
   "metadata": {},
   "outputs": [],
   "source": [
    "# generating the predictions using KNN trained model\n",
    "knn_predictions = predict_model(knn, data = anomaly)"
   ]
  },
  {
   "cell_type": "code",
   "execution_count": 8,
   "metadata": {},
   "outputs": [
    {
     "data": {
      "text/html": [
       "<div>\n",
       "<style scoped>\n",
       "    .dataframe tbody tr th:only-of-type {\n",
       "        vertical-align: middle;\n",
       "    }\n",
       "\n",
       "    .dataframe tbody tr th {\n",
       "        vertical-align: top;\n",
       "    }\n",
       "\n",
       "    .dataframe thead th {\n",
       "        text-align: right;\n",
       "    }\n",
       "</style>\n",
       "<table border=\"1\" class=\"dataframe\">\n",
       "  <thead>\n",
       "    <tr style=\"text-align: right;\">\n",
       "      <th></th>\n",
       "      <th>Col1</th>\n",
       "      <th>Col2</th>\n",
       "      <th>Col3</th>\n",
       "      <th>Col4</th>\n",
       "      <th>Col5</th>\n",
       "      <th>Col6</th>\n",
       "      <th>Col7</th>\n",
       "      <th>Col8</th>\n",
       "      <th>Col9</th>\n",
       "      <th>Col10</th>\n",
       "      <th>Label</th>\n",
       "      <th>Score</th>\n",
       "    </tr>\n",
       "  </thead>\n",
       "  <tbody>\n",
       "    <tr>\n",
       "      <th>0</th>\n",
       "      <td>0.263995</td>\n",
       "      <td>0.764929</td>\n",
       "      <td>0.138424</td>\n",
       "      <td>0.935242</td>\n",
       "      <td>0.605867</td>\n",
       "      <td>0.518790</td>\n",
       "      <td>0.912225</td>\n",
       "      <td>0.608234</td>\n",
       "      <td>0.723782</td>\n",
       "      <td>0.733591</td>\n",
       "      <td>0</td>\n",
       "      <td>0.558927</td>\n",
       "    </tr>\n",
       "    <tr>\n",
       "      <th>1</th>\n",
       "      <td>0.546092</td>\n",
       "      <td>0.653975</td>\n",
       "      <td>0.065575</td>\n",
       "      <td>0.227772</td>\n",
       "      <td>0.845269</td>\n",
       "      <td>0.837066</td>\n",
       "      <td>0.272379</td>\n",
       "      <td>0.331679</td>\n",
       "      <td>0.429297</td>\n",
       "      <td>0.367422</td>\n",
       "      <td>0</td>\n",
       "      <td>0.477482</td>\n",
       "    </tr>\n",
       "    <tr>\n",
       "      <th>2</th>\n",
       "      <td>0.336714</td>\n",
       "      <td>0.538842</td>\n",
       "      <td>0.192801</td>\n",
       "      <td>0.553563</td>\n",
       "      <td>0.074515</td>\n",
       "      <td>0.332993</td>\n",
       "      <td>0.365792</td>\n",
       "      <td>0.861309</td>\n",
       "      <td>0.899017</td>\n",
       "      <td>0.088600</td>\n",
       "      <td>0</td>\n",
       "      <td>0.676207</td>\n",
       "    </tr>\n",
       "    <tr>\n",
       "      <th>3</th>\n",
       "      <td>0.092108</td>\n",
       "      <td>0.995017</td>\n",
       "      <td>0.014465</td>\n",
       "      <td>0.176371</td>\n",
       "      <td>0.241530</td>\n",
       "      <td>0.514724</td>\n",
       "      <td>0.562208</td>\n",
       "      <td>0.158963</td>\n",
       "      <td>0.073715</td>\n",
       "      <td>0.208463</td>\n",
       "      <td>1</td>\n",
       "      <td>0.804769</td>\n",
       "    </tr>\n",
       "    <tr>\n",
       "      <th>4</th>\n",
       "      <td>0.325261</td>\n",
       "      <td>0.805968</td>\n",
       "      <td>0.957033</td>\n",
       "      <td>0.331665</td>\n",
       "      <td>0.307923</td>\n",
       "      <td>0.355315</td>\n",
       "      <td>0.501899</td>\n",
       "      <td>0.558449</td>\n",
       "      <td>0.885169</td>\n",
       "      <td>0.182754</td>\n",
       "      <td>0</td>\n",
       "      <td>0.630836</td>\n",
       "    </tr>\n",
       "    <tr>\n",
       "      <th>...</th>\n",
       "      <td>...</td>\n",
       "      <td>...</td>\n",
       "      <td>...</td>\n",
       "      <td>...</td>\n",
       "      <td>...</td>\n",
       "      <td>...</td>\n",
       "      <td>...</td>\n",
       "      <td>...</td>\n",
       "      <td>...</td>\n",
       "      <td>...</td>\n",
       "      <td>...</td>\n",
       "      <td>...</td>\n",
       "    </tr>\n",
       "    <tr>\n",
       "      <th>995</th>\n",
       "      <td>0.305055</td>\n",
       "      <td>0.656837</td>\n",
       "      <td>0.331665</td>\n",
       "      <td>0.822525</td>\n",
       "      <td>0.907127</td>\n",
       "      <td>0.882276</td>\n",
       "      <td>0.855732</td>\n",
       "      <td>0.584786</td>\n",
       "      <td>0.808640</td>\n",
       "      <td>0.242762</td>\n",
       "      <td>0</td>\n",
       "      <td>0.266822</td>\n",
       "    </tr>\n",
       "    <tr>\n",
       "      <th>996</th>\n",
       "      <td>0.812627</td>\n",
       "      <td>0.864258</td>\n",
       "      <td>0.616604</td>\n",
       "      <td>0.167966</td>\n",
       "      <td>0.811223</td>\n",
       "      <td>0.938071</td>\n",
       "      <td>0.418462</td>\n",
       "      <td>0.472306</td>\n",
       "      <td>0.348347</td>\n",
       "      <td>0.671129</td>\n",
       "      <td>0</td>\n",
       "      <td>0.403480</td>\n",
       "    </tr>\n",
       "    <tr>\n",
       "      <th>997</th>\n",
       "      <td>0.250967</td>\n",
       "      <td>0.138627</td>\n",
       "      <td>0.919703</td>\n",
       "      <td>0.461234</td>\n",
       "      <td>0.886555</td>\n",
       "      <td>0.869888</td>\n",
       "      <td>0.800908</td>\n",
       "      <td>0.530324</td>\n",
       "      <td>0.779433</td>\n",
       "      <td>0.234952</td>\n",
       "      <td>0</td>\n",
       "      <td>0.337727</td>\n",
       "    </tr>\n",
       "    <tr>\n",
       "      <th>998</th>\n",
       "      <td>0.502436</td>\n",
       "      <td>0.936820</td>\n",
       "      <td>0.580062</td>\n",
       "      <td>0.540773</td>\n",
       "      <td>0.151995</td>\n",
       "      <td>0.059452</td>\n",
       "      <td>0.225220</td>\n",
       "      <td>0.242755</td>\n",
       "      <td>0.279385</td>\n",
       "      <td>0.538755</td>\n",
       "      <td>0</td>\n",
       "      <td>0.300265</td>\n",
       "    </tr>\n",
       "    <tr>\n",
       "      <th>999</th>\n",
       "      <td>0.457991</td>\n",
       "      <td>0.017755</td>\n",
       "      <td>0.714113</td>\n",
       "      <td>0.125992</td>\n",
       "      <td>0.063316</td>\n",
       "      <td>0.154739</td>\n",
       "      <td>0.922974</td>\n",
       "      <td>0.692299</td>\n",
       "      <td>0.816777</td>\n",
       "      <td>0.307592</td>\n",
       "      <td>0</td>\n",
       "      <td>0.367867</td>\n",
       "    </tr>\n",
       "  </tbody>\n",
       "</table>\n",
       "<p>1000 rows × 12 columns</p>\n",
       "</div>"
      ],
      "text/plain": [
       "         Col1      Col2      Col3      Col4      Col5      Col6      Col7  \\\n",
       "0    0.263995  0.764929  0.138424  0.935242  0.605867  0.518790  0.912225   \n",
       "1    0.546092  0.653975  0.065575  0.227772  0.845269  0.837066  0.272379   \n",
       "2    0.336714  0.538842  0.192801  0.553563  0.074515  0.332993  0.365792   \n",
       "3    0.092108  0.995017  0.014465  0.176371  0.241530  0.514724  0.562208   \n",
       "4    0.325261  0.805968  0.957033  0.331665  0.307923  0.355315  0.501899   \n",
       "..        ...       ...       ...       ...       ...       ...       ...   \n",
       "995  0.305055  0.656837  0.331665  0.822525  0.907127  0.882276  0.855732   \n",
       "996  0.812627  0.864258  0.616604  0.167966  0.811223  0.938071  0.418462   \n",
       "997  0.250967  0.138627  0.919703  0.461234  0.886555  0.869888  0.800908   \n",
       "998  0.502436  0.936820  0.580062  0.540773  0.151995  0.059452  0.225220   \n",
       "999  0.457991  0.017755  0.714113  0.125992  0.063316  0.154739  0.922974   \n",
       "\n",
       "         Col8      Col9     Col10  Label     Score  \n",
       "0    0.608234  0.723782  0.733591      0  0.558927  \n",
       "1    0.331679  0.429297  0.367422      0  0.477482  \n",
       "2    0.861309  0.899017  0.088600      0  0.676207  \n",
       "3    0.158963  0.073715  0.208463      1  0.804769  \n",
       "4    0.558449  0.885169  0.182754      0  0.630836  \n",
       "..        ...       ...       ...    ...       ...  \n",
       "995  0.584786  0.808640  0.242762      0  0.266822  \n",
       "996  0.472306  0.348347  0.671129      0  0.403480  \n",
       "997  0.530324  0.779433  0.234952      0  0.337727  \n",
       "998  0.242755  0.279385  0.538755      0  0.300265  \n",
       "999  0.692299  0.816777  0.307592      0  0.367867  \n",
       "\n",
       "[1000 rows x 12 columns]"
      ]
     },
     "execution_count": 8,
     "metadata": {},
     "output_type": "execute_result"
    }
   ],
   "source": [
    "# predictions with Label = 1 are considered anomalies\n",
    "knn_predictions"
   ]
  },
  {
   "cell_type": "code",
   "execution_count": 21,
   "metadata": {},
   "outputs": [
    {
     "data": {
      "text/html": [
       "<div>\n",
       "<style scoped>\n",
       "    .dataframe tbody tr th:only-of-type {\n",
       "        vertical-align: middle;\n",
       "    }\n",
       "\n",
       "    .dataframe tbody tr th {\n",
       "        vertical-align: top;\n",
       "    }\n",
       "\n",
       "    .dataframe thead th {\n",
       "        text-align: right;\n",
       "    }\n",
       "</style>\n",
       "<table border=\"1\" class=\"dataframe\">\n",
       "  <thead>\n",
       "    <tr style=\"text-align: right;\">\n",
       "      <th></th>\n",
       "      <th>Col1</th>\n",
       "      <th>Col2</th>\n",
       "      <th>Col3</th>\n",
       "      <th>Col4</th>\n",
       "      <th>Col5</th>\n",
       "      <th>Col6</th>\n",
       "      <th>Col7</th>\n",
       "      <th>Col8</th>\n",
       "      <th>Col9</th>\n",
       "      <th>Col10</th>\n",
       "      <th>Label</th>\n",
       "      <th>Score</th>\n",
       "    </tr>\n",
       "  </thead>\n",
       "  <tbody>\n",
       "    <tr>\n",
       "      <th>3</th>\n",
       "      <td>0.092108</td>\n",
       "      <td>0.995017</td>\n",
       "      <td>0.014465</td>\n",
       "      <td>0.176371</td>\n",
       "      <td>0.241530</td>\n",
       "      <td>0.514724</td>\n",
       "      <td>0.562208</td>\n",
       "      <td>0.158963</td>\n",
       "      <td>0.073715</td>\n",
       "      <td>0.208463</td>\n",
       "      <td>1</td>\n",
       "      <td>0.804769</td>\n",
       "    </tr>\n",
       "    <tr>\n",
       "      <th>8</th>\n",
       "      <td>0.197078</td>\n",
       "      <td>0.843918</td>\n",
       "      <td>0.243396</td>\n",
       "      <td>0.281278</td>\n",
       "      <td>0.329148</td>\n",
       "      <td>0.734582</td>\n",
       "      <td>0.191947</td>\n",
       "      <td>0.927804</td>\n",
       "      <td>0.713269</td>\n",
       "      <td>0.891548</td>\n",
       "      <td>1</td>\n",
       "      <td>0.844047</td>\n",
       "    </tr>\n",
       "    <tr>\n",
       "      <th>9</th>\n",
       "      <td>0.292985</td>\n",
       "      <td>0.703432</td>\n",
       "      <td>0.439621</td>\n",
       "      <td>0.107868</td>\n",
       "      <td>0.922947</td>\n",
       "      <td>0.253458</td>\n",
       "      <td>0.295652</td>\n",
       "      <td>0.355287</td>\n",
       "      <td>0.980911</td>\n",
       "      <td>0.308864</td>\n",
       "      <td>1</td>\n",
       "      <td>0.732952</td>\n",
       "    </tr>\n",
       "    <tr>\n",
       "      <th>11</th>\n",
       "      <td>0.796623</td>\n",
       "      <td>0.230543</td>\n",
       "      <td>0.993018</td>\n",
       "      <td>0.077075</td>\n",
       "      <td>0.094068</td>\n",
       "      <td>0.718628</td>\n",
       "      <td>0.977611</td>\n",
       "      <td>0.333386</td>\n",
       "      <td>0.634843</td>\n",
       "      <td>0.028729</td>\n",
       "      <td>1</td>\n",
       "      <td>0.830877</td>\n",
       "    </tr>\n",
       "    <tr>\n",
       "      <th>13</th>\n",
       "      <td>0.613660</td>\n",
       "      <td>0.709061</td>\n",
       "      <td>0.726767</td>\n",
       "      <td>0.862584</td>\n",
       "      <td>0.593116</td>\n",
       "      <td>0.474138</td>\n",
       "      <td>0.941633</td>\n",
       "      <td>0.788438</td>\n",
       "      <td>0.323293</td>\n",
       "      <td>0.931074</td>\n",
       "      <td>1</td>\n",
       "      <td>0.681433</td>\n",
       "    </tr>\n",
       "    <tr>\n",
       "      <th>14</th>\n",
       "      <td>0.950745</td>\n",
       "      <td>0.005154</td>\n",
       "      <td>0.084187</td>\n",
       "      <td>0.478148</td>\n",
       "      <td>0.212836</td>\n",
       "      <td>0.714347</td>\n",
       "      <td>0.664819</td>\n",
       "      <td>0.803558</td>\n",
       "      <td>0.465466</td>\n",
       "      <td>0.305692</td>\n",
       "      <td>1</td>\n",
       "      <td>0.821167</td>\n",
       "    </tr>\n",
       "    <tr>\n",
       "      <th>15</th>\n",
       "      <td>0.336346</td>\n",
       "      <td>0.252265</td>\n",
       "      <td>0.212287</td>\n",
       "      <td>0.020201</td>\n",
       "      <td>0.203514</td>\n",
       "      <td>0.534468</td>\n",
       "      <td>0.476263</td>\n",
       "      <td>0.845669</td>\n",
       "      <td>0.155377</td>\n",
       "      <td>0.442781</td>\n",
       "      <td>1</td>\n",
       "      <td>0.718586</td>\n",
       "    </tr>\n",
       "    <tr>\n",
       "      <th>17</th>\n",
       "      <td>0.741544</td>\n",
       "      <td>0.398253</td>\n",
       "      <td>0.766472</td>\n",
       "      <td>0.635670</td>\n",
       "      <td>0.261735</td>\n",
       "      <td>0.837371</td>\n",
       "      <td>0.001797</td>\n",
       "      <td>0.568841</td>\n",
       "      <td>0.037360</td>\n",
       "      <td>0.292769</td>\n",
       "      <td>1</td>\n",
       "      <td>0.791093</td>\n",
       "    </tr>\n",
       "    <tr>\n",
       "      <th>18</th>\n",
       "      <td>0.184433</td>\n",
       "      <td>0.174112</td>\n",
       "      <td>0.301976</td>\n",
       "      <td>0.895893</td>\n",
       "      <td>0.285614</td>\n",
       "      <td>0.615993</td>\n",
       "      <td>0.197073</td>\n",
       "      <td>0.738881</td>\n",
       "      <td>0.831371</td>\n",
       "      <td>0.265761</td>\n",
       "      <td>1</td>\n",
       "      <td>0.775046</td>\n",
       "    </tr>\n",
       "    <tr>\n",
       "      <th>20</th>\n",
       "      <td>0.162825</td>\n",
       "      <td>0.674069</td>\n",
       "      <td>0.705447</td>\n",
       "      <td>0.774799</td>\n",
       "      <td>0.894267</td>\n",
       "      <td>0.443057</td>\n",
       "      <td>0.399779</td>\n",
       "      <td>0.009136</td>\n",
       "      <td>0.941851</td>\n",
       "      <td>0.982711</td>\n",
       "      <td>1</td>\n",
       "      <td>0.856567</td>\n",
       "    </tr>\n",
       "    <tr>\n",
       "      <th>23</th>\n",
       "      <td>0.057884</td>\n",
       "      <td>0.227162</td>\n",
       "      <td>0.022494</td>\n",
       "      <td>0.167069</td>\n",
       "      <td>0.631315</td>\n",
       "      <td>0.610103</td>\n",
       "      <td>0.277753</td>\n",
       "      <td>0.728503</td>\n",
       "      <td>0.716414</td>\n",
       "      <td>0.973370</td>\n",
       "      <td>1</td>\n",
       "      <td>0.771412</td>\n",
       "    </tr>\n",
       "    <tr>\n",
       "      <th>24</th>\n",
       "      <td>0.445535</td>\n",
       "      <td>0.640881</td>\n",
       "      <td>0.689264</td>\n",
       "      <td>0.937542</td>\n",
       "      <td>0.037016</td>\n",
       "      <td>0.316847</td>\n",
       "      <td>0.972312</td>\n",
       "      <td>0.224585</td>\n",
       "      <td>0.393000</td>\n",
       "      <td>0.857239</td>\n",
       "      <td>1</td>\n",
       "      <td>0.736651</td>\n",
       "    </tr>\n",
       "    <tr>\n",
       "      <th>25</th>\n",
       "      <td>0.801837</td>\n",
       "      <td>0.272857</td>\n",
       "      <td>0.109206</td>\n",
       "      <td>0.922978</td>\n",
       "      <td>0.656014</td>\n",
       "      <td>0.376589</td>\n",
       "      <td>0.735547</td>\n",
       "      <td>0.302567</td>\n",
       "      <td>0.988732</td>\n",
       "      <td>0.847391</td>\n",
       "      <td>1</td>\n",
       "      <td>0.762585</td>\n",
       "    </tr>\n",
       "    <tr>\n",
       "      <th>28</th>\n",
       "      <td>0.834861</td>\n",
       "      <td>0.973891</td>\n",
       "      <td>0.808398</td>\n",
       "      <td>0.222828</td>\n",
       "      <td>0.018934</td>\n",
       "      <td>0.708188</td>\n",
       "      <td>0.986392</td>\n",
       "      <td>0.545479</td>\n",
       "      <td>0.235898</td>\n",
       "      <td>0.844788</td>\n",
       "      <td>1</td>\n",
       "      <td>0.883633</td>\n",
       "    </tr>\n",
       "    <tr>\n",
       "      <th>29</th>\n",
       "      <td>0.669767</td>\n",
       "      <td>0.694779</td>\n",
       "      <td>0.191048</td>\n",
       "      <td>0.080716</td>\n",
       "      <td>0.441480</td>\n",
       "      <td>0.115675</td>\n",
       "      <td>0.054466</td>\n",
       "      <td>0.949300</td>\n",
       "      <td>0.318667</td>\n",
       "      <td>0.410017</td>\n",
       "      <td>1</td>\n",
       "      <td>0.811543</td>\n",
       "    </tr>\n",
       "    <tr>\n",
       "      <th>32</th>\n",
       "      <td>0.510288</td>\n",
       "      <td>0.488385</td>\n",
       "      <td>0.598078</td>\n",
       "      <td>0.735532</td>\n",
       "      <td>0.959889</td>\n",
       "      <td>0.210081</td>\n",
       "      <td>0.719419</td>\n",
       "      <td>0.578130</td>\n",
       "      <td>0.890495</td>\n",
       "      <td>0.959144</td>\n",
       "      <td>1</td>\n",
       "      <td>0.747046</td>\n",
       "    </tr>\n",
       "    <tr>\n",
       "      <th>33</th>\n",
       "      <td>0.977562</td>\n",
       "      <td>0.125559</td>\n",
       "      <td>0.377839</td>\n",
       "      <td>0.195111</td>\n",
       "      <td>0.088484</td>\n",
       "      <td>0.644188</td>\n",
       "      <td>0.277623</td>\n",
       "      <td>0.741173</td>\n",
       "      <td>0.772889</td>\n",
       "      <td>0.780929</td>\n",
       "      <td>1</td>\n",
       "      <td>0.805365</td>\n",
       "    </tr>\n",
       "    <tr>\n",
       "      <th>43</th>\n",
       "      <td>0.178173</td>\n",
       "      <td>0.304310</td>\n",
       "      <td>0.028749</td>\n",
       "      <td>0.800844</td>\n",
       "      <td>0.161153</td>\n",
       "      <td>0.874650</td>\n",
       "      <td>0.984053</td>\n",
       "      <td>0.205747</td>\n",
       "      <td>0.029727</td>\n",
       "      <td>0.842088</td>\n",
       "      <td>1</td>\n",
       "      <td>1.003388</td>\n",
       "    </tr>\n",
       "    <tr>\n",
       "      <th>45</th>\n",
       "      <td>0.321797</td>\n",
       "      <td>0.094090</td>\n",
       "      <td>0.722048</td>\n",
       "      <td>0.330314</td>\n",
       "      <td>0.216936</td>\n",
       "      <td>0.341164</td>\n",
       "      <td>0.188359</td>\n",
       "      <td>0.774158</td>\n",
       "      <td>0.210362</td>\n",
       "      <td>0.160779</td>\n",
       "      <td>1</td>\n",
       "      <td>0.756854</td>\n",
       "    </tr>\n",
       "    <tr>\n",
       "      <th>46</th>\n",
       "      <td>0.817491</td>\n",
       "      <td>0.647528</td>\n",
       "      <td>0.046214</td>\n",
       "      <td>0.487270</td>\n",
       "      <td>0.053872</td>\n",
       "      <td>0.817499</td>\n",
       "      <td>0.390589</td>\n",
       "      <td>0.394750</td>\n",
       "      <td>0.736854</td>\n",
       "      <td>0.442689</td>\n",
       "      <td>1</td>\n",
       "      <td>0.725131</td>\n",
       "    </tr>\n",
       "    <tr>\n",
       "      <th>48</th>\n",
       "      <td>0.344141</td>\n",
       "      <td>0.365421</td>\n",
       "      <td>0.819994</td>\n",
       "      <td>0.142905</td>\n",
       "      <td>0.104520</td>\n",
       "      <td>0.560444</td>\n",
       "      <td>0.785413</td>\n",
       "      <td>0.085636</td>\n",
       "      <td>0.442044</td>\n",
       "      <td>0.160792</td>\n",
       "      <td>1</td>\n",
       "      <td>0.686254</td>\n",
       "    </tr>\n",
       "    <tr>\n",
       "      <th>51</th>\n",
       "      <td>0.544329</td>\n",
       "      <td>0.042685</td>\n",
       "      <td>0.653127</td>\n",
       "      <td>0.959081</td>\n",
       "      <td>0.211368</td>\n",
       "      <td>0.973765</td>\n",
       "      <td>0.303781</td>\n",
       "      <td>0.487732</td>\n",
       "      <td>0.971283</td>\n",
       "      <td>0.301297</td>\n",
       "      <td>1</td>\n",
       "      <td>0.898323</td>\n",
       "    </tr>\n",
       "    <tr>\n",
       "      <th>53</th>\n",
       "      <td>0.273081</td>\n",
       "      <td>0.097663</td>\n",
       "      <td>0.491502</td>\n",
       "      <td>0.065955</td>\n",
       "      <td>0.087729</td>\n",
       "      <td>0.727528</td>\n",
       "      <td>0.004372</td>\n",
       "      <td>0.903040</td>\n",
       "      <td>0.254568</td>\n",
       "      <td>0.402991</td>\n",
       "      <td>1</td>\n",
       "      <td>0.831916</td>\n",
       "    </tr>\n",
       "    <tr>\n",
       "      <th>54</th>\n",
       "      <td>0.390877</td>\n",
       "      <td>0.657193</td>\n",
       "      <td>0.215504</td>\n",
       "      <td>0.601380</td>\n",
       "      <td>0.422741</td>\n",
       "      <td>0.310370</td>\n",
       "      <td>0.684436</td>\n",
       "      <td>0.058938</td>\n",
       "      <td>0.072061</td>\n",
       "      <td>0.641133</td>\n",
       "      <td>1</td>\n",
       "      <td>0.684209</td>\n",
       "    </tr>\n",
       "    <tr>\n",
       "      <th>55</th>\n",
       "      <td>0.349621</td>\n",
       "      <td>0.217426</td>\n",
       "      <td>0.703498</td>\n",
       "      <td>0.925354</td>\n",
       "      <td>0.634280</td>\n",
       "      <td>0.226301</td>\n",
       "      <td>0.067452</td>\n",
       "      <td>0.355699</td>\n",
       "      <td>0.962699</td>\n",
       "      <td>0.168724</td>\n",
       "      <td>1</td>\n",
       "      <td>0.809304</td>\n",
       "    </tr>\n",
       "    <tr>\n",
       "      <th>56</th>\n",
       "      <td>0.214550</td>\n",
       "      <td>0.567478</td>\n",
       "      <td>0.559684</td>\n",
       "      <td>0.535956</td>\n",
       "      <td>0.904327</td>\n",
       "      <td>0.005931</td>\n",
       "      <td>0.156257</td>\n",
       "      <td>0.515366</td>\n",
       "      <td>0.566043</td>\n",
       "      <td>0.498918</td>\n",
       "      <td>1</td>\n",
       "      <td>0.688223</td>\n",
       "    </tr>\n",
       "    <tr>\n",
       "      <th>59</th>\n",
       "      <td>0.981709</td>\n",
       "      <td>0.253236</td>\n",
       "      <td>0.695971</td>\n",
       "      <td>0.918359</td>\n",
       "      <td>0.108317</td>\n",
       "      <td>0.656997</td>\n",
       "      <td>0.806218</td>\n",
       "      <td>0.924069</td>\n",
       "      <td>0.916568</td>\n",
       "      <td>0.406505</td>\n",
       "      <td>1</td>\n",
       "      <td>0.797255</td>\n",
       "    </tr>\n",
       "    <tr>\n",
       "      <th>61</th>\n",
       "      <td>0.648387</td>\n",
       "      <td>0.325067</td>\n",
       "      <td>0.759723</td>\n",
       "      <td>0.589656</td>\n",
       "      <td>0.403953</td>\n",
       "      <td>0.776492</td>\n",
       "      <td>0.729066</td>\n",
       "      <td>0.553150</td>\n",
       "      <td>0.014761</td>\n",
       "      <td>0.422957</td>\n",
       "      <td>1</td>\n",
       "      <td>0.704791</td>\n",
       "    </tr>\n",
       "    <tr>\n",
       "      <th>63</th>\n",
       "      <td>0.837803</td>\n",
       "      <td>0.793079</td>\n",
       "      <td>0.003605</td>\n",
       "      <td>0.165423</td>\n",
       "      <td>0.170273</td>\n",
       "      <td>0.374682</td>\n",
       "      <td>0.514763</td>\n",
       "      <td>0.185381</td>\n",
       "      <td>0.079298</td>\n",
       "      <td>0.954650</td>\n",
       "      <td>1</td>\n",
       "      <td>0.758680</td>\n",
       "    </tr>\n",
       "    <tr>\n",
       "      <th>65</th>\n",
       "      <td>0.291404</td>\n",
       "      <td>0.436354</td>\n",
       "      <td>0.345926</td>\n",
       "      <td>0.328096</td>\n",
       "      <td>0.117581</td>\n",
       "      <td>0.997211</td>\n",
       "      <td>0.528922</td>\n",
       "      <td>0.414090</td>\n",
       "      <td>0.646658</td>\n",
       "      <td>0.277670</td>\n",
       "      <td>1</td>\n",
       "      <td>0.805728</td>\n",
       "    </tr>\n",
       "    <tr>\n",
       "      <th>700</th>\n",
       "      <td>0.539521</td>\n",
       "      <td>0.006844</td>\n",
       "      <td>0.379683</td>\n",
       "      <td>0.915896</td>\n",
       "      <td>0.708540</td>\n",
       "      <td>0.606755</td>\n",
       "      <td>0.504256</td>\n",
       "      <td>0.941473</td>\n",
       "      <td>0.019866</td>\n",
       "      <td>0.092027</td>\n",
       "      <td>1</td>\n",
       "      <td>0.847338</td>\n",
       "    </tr>\n",
       "    <tr>\n",
       "      <th>703</th>\n",
       "      <td>0.676398</td>\n",
       "      <td>0.514887</td>\n",
       "      <td>0.895753</td>\n",
       "      <td>0.176415</td>\n",
       "      <td>0.214757</td>\n",
       "      <td>0.741506</td>\n",
       "      <td>0.894564</td>\n",
       "      <td>0.148374</td>\n",
       "      <td>0.122150</td>\n",
       "      <td>0.967965</td>\n",
       "      <td>1</td>\n",
       "      <td>0.914955</td>\n",
       "    </tr>\n",
       "    <tr>\n",
       "      <th>707</th>\n",
       "      <td>0.187487</td>\n",
       "      <td>0.057446</td>\n",
       "      <td>0.369339</td>\n",
       "      <td>0.559828</td>\n",
       "      <td>0.014315</td>\n",
       "      <td>0.325849</td>\n",
       "      <td>0.369230</td>\n",
       "      <td>0.617411</td>\n",
       "      <td>0.944126</td>\n",
       "      <td>0.770444</td>\n",
       "      <td>1</td>\n",
       "      <td>0.761566</td>\n",
       "    </tr>\n",
       "    <tr>\n",
       "      <th>708</th>\n",
       "      <td>0.052790</td>\n",
       "      <td>0.566393</td>\n",
       "      <td>0.285096</td>\n",
       "      <td>0.795340</td>\n",
       "      <td>0.523658</td>\n",
       "      <td>0.964553</td>\n",
       "      <td>0.789691</td>\n",
       "      <td>0.944700</td>\n",
       "      <td>0.062553</td>\n",
       "      <td>0.179371</td>\n",
       "      <td>1</td>\n",
       "      <td>0.827384</td>\n",
       "    </tr>\n",
       "    <tr>\n",
       "      <th>709</th>\n",
       "      <td>0.505864</td>\n",
       "      <td>0.231274</td>\n",
       "      <td>0.268309</td>\n",
       "      <td>0.795418</td>\n",
       "      <td>0.254847</td>\n",
       "      <td>0.515858</td>\n",
       "      <td>0.781295</td>\n",
       "      <td>0.111659</td>\n",
       "      <td>0.519996</td>\n",
       "      <td>0.723326</td>\n",
       "      <td>1</td>\n",
       "      <td>0.724600</td>\n",
       "    </tr>\n",
       "    <tr>\n",
       "      <th>710</th>\n",
       "      <td>0.927432</td>\n",
       "      <td>0.088497</td>\n",
       "      <td>0.251848</td>\n",
       "      <td>0.243690</td>\n",
       "      <td>0.120432</td>\n",
       "      <td>0.756917</td>\n",
       "      <td>0.521119</td>\n",
       "      <td>0.130158</td>\n",
       "      <td>0.747129</td>\n",
       "      <td>0.508585</td>\n",
       "      <td>1</td>\n",
       "      <td>0.833990</td>\n",
       "    </tr>\n",
       "    <tr>\n",
       "      <th>712</th>\n",
       "      <td>0.882822</td>\n",
       "      <td>0.517934</td>\n",
       "      <td>0.615919</td>\n",
       "      <td>0.543449</td>\n",
       "      <td>0.662865</td>\n",
       "      <td>0.755802</td>\n",
       "      <td>0.872439</td>\n",
       "      <td>0.006749</td>\n",
       "      <td>0.263889</td>\n",
       "      <td>0.135646</td>\n",
       "      <td>1</td>\n",
       "      <td>0.719406</td>\n",
       "    </tr>\n",
       "    <tr>\n",
       "      <th>713</th>\n",
       "      <td>0.495705</td>\n",
       "      <td>0.063449</td>\n",
       "      <td>0.054014</td>\n",
       "      <td>0.832054</td>\n",
       "      <td>0.790832</td>\n",
       "      <td>0.229366</td>\n",
       "      <td>0.425390</td>\n",
       "      <td>0.050938</td>\n",
       "      <td>0.725988</td>\n",
       "      <td>0.942197</td>\n",
       "      <td>1</td>\n",
       "      <td>0.779267</td>\n",
       "    </tr>\n",
       "    <tr>\n",
       "      <th>716</th>\n",
       "      <td>0.341369</td>\n",
       "      <td>0.538199</td>\n",
       "      <td>0.414272</td>\n",
       "      <td>0.460352</td>\n",
       "      <td>0.442762</td>\n",
       "      <td>0.269584</td>\n",
       "      <td>0.260125</td>\n",
       "      <td>0.004269</td>\n",
       "      <td>0.957254</td>\n",
       "      <td>0.874111</td>\n",
       "      <td>1</td>\n",
       "      <td>0.706757</td>\n",
       "    </tr>\n",
       "    <tr>\n",
       "      <th>717</th>\n",
       "      <td>0.159682</td>\n",
       "      <td>0.825127</td>\n",
       "      <td>0.716445</td>\n",
       "      <td>0.069445</td>\n",
       "      <td>0.032148</td>\n",
       "      <td>0.654702</td>\n",
       "      <td>0.028203</td>\n",
       "      <td>0.886761</td>\n",
       "      <td>0.165482</td>\n",
       "      <td>0.116204</td>\n",
       "      <td>1</td>\n",
       "      <td>0.971632</td>\n",
       "    </tr>\n",
       "    <tr>\n",
       "      <th>718</th>\n",
       "      <td>0.318134</td>\n",
       "      <td>0.984550</td>\n",
       "      <td>0.858386</td>\n",
       "      <td>0.872008</td>\n",
       "      <td>0.950152</td>\n",
       "      <td>0.298551</td>\n",
       "      <td>0.275030</td>\n",
       "      <td>0.207604</td>\n",
       "      <td>0.855490</td>\n",
       "      <td>0.191021</td>\n",
       "      <td>1</td>\n",
       "      <td>0.815154</td>\n",
       "    </tr>\n",
       "    <tr>\n",
       "      <th>720</th>\n",
       "      <td>0.064359</td>\n",
       "      <td>0.129525</td>\n",
       "      <td>0.183766</td>\n",
       "      <td>0.860040</td>\n",
       "      <td>0.254505</td>\n",
       "      <td>0.440920</td>\n",
       "      <td>0.089274</td>\n",
       "      <td>0.941902</td>\n",
       "      <td>0.904978</td>\n",
       "      <td>0.215016</td>\n",
       "      <td>1</td>\n",
       "      <td>0.925821</td>\n",
       "    </tr>\n",
       "    <tr>\n",
       "      <th>722</th>\n",
       "      <td>0.776252</td>\n",
       "      <td>0.416737</td>\n",
       "      <td>0.155131</td>\n",
       "      <td>0.556724</td>\n",
       "      <td>0.937436</td>\n",
       "      <td>0.091686</td>\n",
       "      <td>0.689603</td>\n",
       "      <td>0.064191</td>\n",
       "      <td>0.119276</td>\n",
       "      <td>0.985357</td>\n",
       "      <td>1</td>\n",
       "      <td>0.823334</td>\n",
       "    </tr>\n",
       "    <tr>\n",
       "      <th>723</th>\n",
       "      <td>0.635843</td>\n",
       "      <td>0.236965</td>\n",
       "      <td>0.504282</td>\n",
       "      <td>0.855775</td>\n",
       "      <td>0.239229</td>\n",
       "      <td>0.782783</td>\n",
       "      <td>0.386076</td>\n",
       "      <td>0.063988</td>\n",
       "      <td>0.767963</td>\n",
       "      <td>0.093871</td>\n",
       "      <td>1</td>\n",
       "      <td>0.835272</td>\n",
       "    </tr>\n",
       "    <tr>\n",
       "      <th>724</th>\n",
       "      <td>0.625105</td>\n",
       "      <td>0.873683</td>\n",
       "      <td>0.184258</td>\n",
       "      <td>0.907081</td>\n",
       "      <td>0.086882</td>\n",
       "      <td>0.856332</td>\n",
       "      <td>0.040426</td>\n",
       "      <td>0.755437</td>\n",
       "      <td>0.161329</td>\n",
       "      <td>0.748238</td>\n",
       "      <td>1</td>\n",
       "      <td>0.891704</td>\n",
       "    </tr>\n",
       "    <tr>\n",
       "      <th>725</th>\n",
       "      <td>0.529591</td>\n",
       "      <td>0.596996</td>\n",
       "      <td>0.940384</td>\n",
       "      <td>0.377583</td>\n",
       "      <td>0.677983</td>\n",
       "      <td>0.109523</td>\n",
       "      <td>0.786714</td>\n",
       "      <td>0.571454</td>\n",
       "      <td>0.816607</td>\n",
       "      <td>0.812012</td>\n",
       "      <td>1</td>\n",
       "      <td>0.695102</td>\n",
       "    </tr>\n",
       "  </tbody>\n",
       "</table>\n",
       "</div>"
      ],
      "text/plain": [
       "         Col1      Col2      Col3      Col4      Col5      Col6      Col7  \\\n",
       "3    0.092108  0.995017  0.014465  0.176371  0.241530  0.514724  0.562208   \n",
       "8    0.197078  0.843918  0.243396  0.281278  0.329148  0.734582  0.191947   \n",
       "9    0.292985  0.703432  0.439621  0.107868  0.922947  0.253458  0.295652   \n",
       "11   0.796623  0.230543  0.993018  0.077075  0.094068  0.718628  0.977611   \n",
       "13   0.613660  0.709061  0.726767  0.862584  0.593116  0.474138  0.941633   \n",
       "14   0.950745  0.005154  0.084187  0.478148  0.212836  0.714347  0.664819   \n",
       "15   0.336346  0.252265  0.212287  0.020201  0.203514  0.534468  0.476263   \n",
       "17   0.741544  0.398253  0.766472  0.635670  0.261735  0.837371  0.001797   \n",
       "18   0.184433  0.174112  0.301976  0.895893  0.285614  0.615993  0.197073   \n",
       "20   0.162825  0.674069  0.705447  0.774799  0.894267  0.443057  0.399779   \n",
       "23   0.057884  0.227162  0.022494  0.167069  0.631315  0.610103  0.277753   \n",
       "24   0.445535  0.640881  0.689264  0.937542  0.037016  0.316847  0.972312   \n",
       "25   0.801837  0.272857  0.109206  0.922978  0.656014  0.376589  0.735547   \n",
       "28   0.834861  0.973891  0.808398  0.222828  0.018934  0.708188  0.986392   \n",
       "29   0.669767  0.694779  0.191048  0.080716  0.441480  0.115675  0.054466   \n",
       "32   0.510288  0.488385  0.598078  0.735532  0.959889  0.210081  0.719419   \n",
       "33   0.977562  0.125559  0.377839  0.195111  0.088484  0.644188  0.277623   \n",
       "43   0.178173  0.304310  0.028749  0.800844  0.161153  0.874650  0.984053   \n",
       "45   0.321797  0.094090  0.722048  0.330314  0.216936  0.341164  0.188359   \n",
       "46   0.817491  0.647528  0.046214  0.487270  0.053872  0.817499  0.390589   \n",
       "48   0.344141  0.365421  0.819994  0.142905  0.104520  0.560444  0.785413   \n",
       "51   0.544329  0.042685  0.653127  0.959081  0.211368  0.973765  0.303781   \n",
       "53   0.273081  0.097663  0.491502  0.065955  0.087729  0.727528  0.004372   \n",
       "54   0.390877  0.657193  0.215504  0.601380  0.422741  0.310370  0.684436   \n",
       "55   0.349621  0.217426  0.703498  0.925354  0.634280  0.226301  0.067452   \n",
       "56   0.214550  0.567478  0.559684  0.535956  0.904327  0.005931  0.156257   \n",
       "59   0.981709  0.253236  0.695971  0.918359  0.108317  0.656997  0.806218   \n",
       "61   0.648387  0.325067  0.759723  0.589656  0.403953  0.776492  0.729066   \n",
       "63   0.837803  0.793079  0.003605  0.165423  0.170273  0.374682  0.514763   \n",
       "65   0.291404  0.436354  0.345926  0.328096  0.117581  0.997211  0.528922   \n",
       "700  0.539521  0.006844  0.379683  0.915896  0.708540  0.606755  0.504256   \n",
       "703  0.676398  0.514887  0.895753  0.176415  0.214757  0.741506  0.894564   \n",
       "707  0.187487  0.057446  0.369339  0.559828  0.014315  0.325849  0.369230   \n",
       "708  0.052790  0.566393  0.285096  0.795340  0.523658  0.964553  0.789691   \n",
       "709  0.505864  0.231274  0.268309  0.795418  0.254847  0.515858  0.781295   \n",
       "710  0.927432  0.088497  0.251848  0.243690  0.120432  0.756917  0.521119   \n",
       "712  0.882822  0.517934  0.615919  0.543449  0.662865  0.755802  0.872439   \n",
       "713  0.495705  0.063449  0.054014  0.832054  0.790832  0.229366  0.425390   \n",
       "716  0.341369  0.538199  0.414272  0.460352  0.442762  0.269584  0.260125   \n",
       "717  0.159682  0.825127  0.716445  0.069445  0.032148  0.654702  0.028203   \n",
       "718  0.318134  0.984550  0.858386  0.872008  0.950152  0.298551  0.275030   \n",
       "720  0.064359  0.129525  0.183766  0.860040  0.254505  0.440920  0.089274   \n",
       "722  0.776252  0.416737  0.155131  0.556724  0.937436  0.091686  0.689603   \n",
       "723  0.635843  0.236965  0.504282  0.855775  0.239229  0.782783  0.386076   \n",
       "724  0.625105  0.873683  0.184258  0.907081  0.086882  0.856332  0.040426   \n",
       "725  0.529591  0.596996  0.940384  0.377583  0.677983  0.109523  0.786714   \n",
       "\n",
       "         Col8      Col9     Col10  Label     Score  \n",
       "3    0.158963  0.073715  0.208463      1  0.804769  \n",
       "8    0.927804  0.713269  0.891548      1  0.844047  \n",
       "9    0.355287  0.980911  0.308864      1  0.732952  \n",
       "11   0.333386  0.634843  0.028729      1  0.830877  \n",
       "13   0.788438  0.323293  0.931074      1  0.681433  \n",
       "14   0.803558  0.465466  0.305692      1  0.821167  \n",
       "15   0.845669  0.155377  0.442781      1  0.718586  \n",
       "17   0.568841  0.037360  0.292769      1  0.791093  \n",
       "18   0.738881  0.831371  0.265761      1  0.775046  \n",
       "20   0.009136  0.941851  0.982711      1  0.856567  \n",
       "23   0.728503  0.716414  0.973370      1  0.771412  \n",
       "24   0.224585  0.393000  0.857239      1  0.736651  \n",
       "25   0.302567  0.988732  0.847391      1  0.762585  \n",
       "28   0.545479  0.235898  0.844788      1  0.883633  \n",
       "29   0.949300  0.318667  0.410017      1  0.811543  \n",
       "32   0.578130  0.890495  0.959144      1  0.747046  \n",
       "33   0.741173  0.772889  0.780929      1  0.805365  \n",
       "43   0.205747  0.029727  0.842088      1  1.003388  \n",
       "45   0.774158  0.210362  0.160779      1  0.756854  \n",
       "46   0.394750  0.736854  0.442689      1  0.725131  \n",
       "48   0.085636  0.442044  0.160792      1  0.686254  \n",
       "51   0.487732  0.971283  0.301297      1  0.898323  \n",
       "53   0.903040  0.254568  0.402991      1  0.831916  \n",
       "54   0.058938  0.072061  0.641133      1  0.684209  \n",
       "55   0.355699  0.962699  0.168724      1  0.809304  \n",
       "56   0.515366  0.566043  0.498918      1  0.688223  \n",
       "59   0.924069  0.916568  0.406505      1  0.797255  \n",
       "61   0.553150  0.014761  0.422957      1  0.704791  \n",
       "63   0.185381  0.079298  0.954650      1  0.758680  \n",
       "65   0.414090  0.646658  0.277670      1  0.805728  \n",
       "700  0.941473  0.019866  0.092027      1  0.847338  \n",
       "703  0.148374  0.122150  0.967965      1  0.914955  \n",
       "707  0.617411  0.944126  0.770444      1  0.761566  \n",
       "708  0.944700  0.062553  0.179371      1  0.827384  \n",
       "709  0.111659  0.519996  0.723326      1  0.724600  \n",
       "710  0.130158  0.747129  0.508585      1  0.833990  \n",
       "712  0.006749  0.263889  0.135646      1  0.719406  \n",
       "713  0.050938  0.725988  0.942197      1  0.779267  \n",
       "716  0.004269  0.957254  0.874111      1  0.706757  \n",
       "717  0.886761  0.165482  0.116204      1  0.971632  \n",
       "718  0.207604  0.855490  0.191021      1  0.815154  \n",
       "720  0.941902  0.904978  0.215016      1  0.925821  \n",
       "722  0.064191  0.119276  0.985357      1  0.823334  \n",
       "723  0.063988  0.767963  0.093871      1  0.835272  \n",
       "724  0.755437  0.161329  0.748238      1  0.891704  \n",
       "725  0.571454  0.816607  0.812012      1  0.695102  "
      ]
     },
     "execution_count": 21,
     "metadata": {},
     "output_type": "execute_result"
    }
   ],
   "source": [
    "# checking anomaly rows\n",
    "anomaly_rows = knn_predictions[knn_predictions[\"Label\"] == 1]\n",
    "anomaly_rows"
   ]
  },
  {
   "cell_type": "code",
   "execution_count": 26,
   "metadata": {},
   "outputs": [
    {
     "data": {
      "text/plain": [
       "(46, 12)"
      ]
     },
     "execution_count": 26,
     "metadata": {},
     "output_type": "execute_result"
    }
   ],
   "source": [
    "# checking anomaly row count\n",
    "anomaly_rows.shape   # returned 46 rows as rows with anomalies"
   ]
  },
  {
   "cell_type": "code",
   "execution_count": null,
   "metadata": {},
   "outputs": [],
   "source": []
  }
 ],
 "metadata": {
  "kernelspec": {
   "display_name": "pycaret1",
   "language": "python",
   "name": "pycaret1"
  },
  "language_info": {
   "codemirror_mode": {
    "name": "ipython",
    "version": 3
   },
   "file_extension": ".py",
   "mimetype": "text/x-python",
   "name": "python",
   "nbconvert_exporter": "python",
   "pygments_lexer": "ipython3",
   "version": "3.7.5"
  }
 },
 "nbformat": 4,
 "nbformat_minor": 2
}
