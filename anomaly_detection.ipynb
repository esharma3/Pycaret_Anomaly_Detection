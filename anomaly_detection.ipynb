{
 "cells": [
  {
   "cell_type": "markdown",
   "metadata": {},
   "source": [
    "## Anomaly Detection using Pycaret\n",
    "\n",
    "PyCaret’s Anomaly Detection Module is an unsupervised machine learning module that is used for identifying rare items, events or observations which raise suspicions by differing significantly from the majority of the data. Typically, the anomalous items will translate to some kind of problem such as bank fraud, a structural defect, medical problems or errors . This module provide several pre-processing features that prepares the data for modeling through setup function. This module has over 12 ready-to-use algorithms and several plots to analyze the results of trained models."
   ]
  },
  {
   "cell_type": "code",
   "execution_count": 1,
   "metadata": {},
   "outputs": [
    {
     "name": "stdout",
     "output_type": "stream",
     "text": [
      "\n",
      "Setup Succesfully Completed!\n"
     ]
    },
    {
     "data": {
      "text/html": [
       "<style  type=\"text/css\" >\n",
       "</style><table id=\"T_25eab1b6_b4c2_11ea_a1e3_380025f3998f\" ><thead>    <tr>        <th class=\"blank level0\" ></th>        <th class=\"col_heading level0 col0\" >Description</th>        <th class=\"col_heading level0 col1\" >Value</th>    </tr></thead><tbody>\n",
       "                <tr>\n",
       "                        <th id=\"T_25eab1b6_b4c2_11ea_a1e3_380025f3998flevel0_row0\" class=\"row_heading level0 row0\" >0</th>\n",
       "                        <td id=\"T_25eab1b6_b4c2_11ea_a1e3_380025f3998frow0_col0\" class=\"data row0 col0\" >session_id </td>\n",
       "                        <td id=\"T_25eab1b6_b4c2_11ea_a1e3_380025f3998frow0_col1\" class=\"data row0 col1\" >5231</td>\n",
       "            </tr>\n",
       "            <tr>\n",
       "                        <th id=\"T_25eab1b6_b4c2_11ea_a1e3_380025f3998flevel0_row1\" class=\"row_heading level0 row1\" >1</th>\n",
       "                        <td id=\"T_25eab1b6_b4c2_11ea_a1e3_380025f3998frow1_col0\" class=\"data row1 col0\" >Original Data </td>\n",
       "                        <td id=\"T_25eab1b6_b4c2_11ea_a1e3_380025f3998frow1_col1\" class=\"data row1 col1\" >(1000, 10)</td>\n",
       "            </tr>\n",
       "            <tr>\n",
       "                        <th id=\"T_25eab1b6_b4c2_11ea_a1e3_380025f3998flevel0_row2\" class=\"row_heading level0 row2\" >2</th>\n",
       "                        <td id=\"T_25eab1b6_b4c2_11ea_a1e3_380025f3998frow2_col0\" class=\"data row2 col0\" >Missing Values </td>\n",
       "                        <td id=\"T_25eab1b6_b4c2_11ea_a1e3_380025f3998frow2_col1\" class=\"data row2 col1\" >False</td>\n",
       "            </tr>\n",
       "            <tr>\n",
       "                        <th id=\"T_25eab1b6_b4c2_11ea_a1e3_380025f3998flevel0_row3\" class=\"row_heading level0 row3\" >3</th>\n",
       "                        <td id=\"T_25eab1b6_b4c2_11ea_a1e3_380025f3998frow3_col0\" class=\"data row3 col0\" >Numeric Features </td>\n",
       "                        <td id=\"T_25eab1b6_b4c2_11ea_a1e3_380025f3998frow3_col1\" class=\"data row3 col1\" >10</td>\n",
       "            </tr>\n",
       "            <tr>\n",
       "                        <th id=\"T_25eab1b6_b4c2_11ea_a1e3_380025f3998flevel0_row4\" class=\"row_heading level0 row4\" >4</th>\n",
       "                        <td id=\"T_25eab1b6_b4c2_11ea_a1e3_380025f3998frow4_col0\" class=\"data row4 col0\" >Categorical Features </td>\n",
       "                        <td id=\"T_25eab1b6_b4c2_11ea_a1e3_380025f3998frow4_col1\" class=\"data row4 col1\" >0</td>\n",
       "            </tr>\n",
       "            <tr>\n",
       "                        <th id=\"T_25eab1b6_b4c2_11ea_a1e3_380025f3998flevel0_row5\" class=\"row_heading level0 row5\" >5</th>\n",
       "                        <td id=\"T_25eab1b6_b4c2_11ea_a1e3_380025f3998frow5_col0\" class=\"data row5 col0\" >Ordinal Features </td>\n",
       "                        <td id=\"T_25eab1b6_b4c2_11ea_a1e3_380025f3998frow5_col1\" class=\"data row5 col1\" >False</td>\n",
       "            </tr>\n",
       "            <tr>\n",
       "                        <th id=\"T_25eab1b6_b4c2_11ea_a1e3_380025f3998flevel0_row6\" class=\"row_heading level0 row6\" >6</th>\n",
       "                        <td id=\"T_25eab1b6_b4c2_11ea_a1e3_380025f3998frow6_col0\" class=\"data row6 col0\" >High Cardinality Features </td>\n",
       "                        <td id=\"T_25eab1b6_b4c2_11ea_a1e3_380025f3998frow6_col1\" class=\"data row6 col1\" >False</td>\n",
       "            </tr>\n",
       "            <tr>\n",
       "                        <th id=\"T_25eab1b6_b4c2_11ea_a1e3_380025f3998flevel0_row7\" class=\"row_heading level0 row7\" >7</th>\n",
       "                        <td id=\"T_25eab1b6_b4c2_11ea_a1e3_380025f3998frow7_col0\" class=\"data row7 col0\" >Transformed Data </td>\n",
       "                        <td id=\"T_25eab1b6_b4c2_11ea_a1e3_380025f3998frow7_col1\" class=\"data row7 col1\" >(1000, 10)</td>\n",
       "            </tr>\n",
       "            <tr>\n",
       "                        <th id=\"T_25eab1b6_b4c2_11ea_a1e3_380025f3998flevel0_row8\" class=\"row_heading level0 row8\" >8</th>\n",
       "                        <td id=\"T_25eab1b6_b4c2_11ea_a1e3_380025f3998frow8_col0\" class=\"data row8 col0\" >Numeric Imputer </td>\n",
       "                        <td id=\"T_25eab1b6_b4c2_11ea_a1e3_380025f3998frow8_col1\" class=\"data row8 col1\" >mean</td>\n",
       "            </tr>\n",
       "            <tr>\n",
       "                        <th id=\"T_25eab1b6_b4c2_11ea_a1e3_380025f3998flevel0_row9\" class=\"row_heading level0 row9\" >9</th>\n",
       "                        <td id=\"T_25eab1b6_b4c2_11ea_a1e3_380025f3998frow9_col0\" class=\"data row9 col0\" >Categorical Imputer </td>\n",
       "                        <td id=\"T_25eab1b6_b4c2_11ea_a1e3_380025f3998frow9_col1\" class=\"data row9 col1\" >constant</td>\n",
       "            </tr>\n",
       "            <tr>\n",
       "                        <th id=\"T_25eab1b6_b4c2_11ea_a1e3_380025f3998flevel0_row10\" class=\"row_heading level0 row10\" >10</th>\n",
       "                        <td id=\"T_25eab1b6_b4c2_11ea_a1e3_380025f3998frow10_col0\" class=\"data row10 col0\" >Normalize </td>\n",
       "                        <td id=\"T_25eab1b6_b4c2_11ea_a1e3_380025f3998frow10_col1\" class=\"data row10 col1\" >False</td>\n",
       "            </tr>\n",
       "            <tr>\n",
       "                        <th id=\"T_25eab1b6_b4c2_11ea_a1e3_380025f3998flevel0_row11\" class=\"row_heading level0 row11\" >11</th>\n",
       "                        <td id=\"T_25eab1b6_b4c2_11ea_a1e3_380025f3998frow11_col0\" class=\"data row11 col0\" >Normalize Method </td>\n",
       "                        <td id=\"T_25eab1b6_b4c2_11ea_a1e3_380025f3998frow11_col1\" class=\"data row11 col1\" >None</td>\n",
       "            </tr>\n",
       "            <tr>\n",
       "                        <th id=\"T_25eab1b6_b4c2_11ea_a1e3_380025f3998flevel0_row12\" class=\"row_heading level0 row12\" >12</th>\n",
       "                        <td id=\"T_25eab1b6_b4c2_11ea_a1e3_380025f3998frow12_col0\" class=\"data row12 col0\" >Transformation </td>\n",
       "                        <td id=\"T_25eab1b6_b4c2_11ea_a1e3_380025f3998frow12_col1\" class=\"data row12 col1\" >False</td>\n",
       "            </tr>\n",
       "            <tr>\n",
       "                        <th id=\"T_25eab1b6_b4c2_11ea_a1e3_380025f3998flevel0_row13\" class=\"row_heading level0 row13\" >13</th>\n",
       "                        <td id=\"T_25eab1b6_b4c2_11ea_a1e3_380025f3998frow13_col0\" class=\"data row13 col0\" >Transformation Method </td>\n",
       "                        <td id=\"T_25eab1b6_b4c2_11ea_a1e3_380025f3998frow13_col1\" class=\"data row13 col1\" >None</td>\n",
       "            </tr>\n",
       "            <tr>\n",
       "                        <th id=\"T_25eab1b6_b4c2_11ea_a1e3_380025f3998flevel0_row14\" class=\"row_heading level0 row14\" >14</th>\n",
       "                        <td id=\"T_25eab1b6_b4c2_11ea_a1e3_380025f3998frow14_col0\" class=\"data row14 col0\" >PCA </td>\n",
       "                        <td id=\"T_25eab1b6_b4c2_11ea_a1e3_380025f3998frow14_col1\" class=\"data row14 col1\" >False</td>\n",
       "            </tr>\n",
       "            <tr>\n",
       "                        <th id=\"T_25eab1b6_b4c2_11ea_a1e3_380025f3998flevel0_row15\" class=\"row_heading level0 row15\" >15</th>\n",
       "                        <td id=\"T_25eab1b6_b4c2_11ea_a1e3_380025f3998frow15_col0\" class=\"data row15 col0\" >PCA Method </td>\n",
       "                        <td id=\"T_25eab1b6_b4c2_11ea_a1e3_380025f3998frow15_col1\" class=\"data row15 col1\" >None</td>\n",
       "            </tr>\n",
       "            <tr>\n",
       "                        <th id=\"T_25eab1b6_b4c2_11ea_a1e3_380025f3998flevel0_row16\" class=\"row_heading level0 row16\" >16</th>\n",
       "                        <td id=\"T_25eab1b6_b4c2_11ea_a1e3_380025f3998frow16_col0\" class=\"data row16 col0\" >PCA components </td>\n",
       "                        <td id=\"T_25eab1b6_b4c2_11ea_a1e3_380025f3998frow16_col1\" class=\"data row16 col1\" >None</td>\n",
       "            </tr>\n",
       "            <tr>\n",
       "                        <th id=\"T_25eab1b6_b4c2_11ea_a1e3_380025f3998flevel0_row17\" class=\"row_heading level0 row17\" >17</th>\n",
       "                        <td id=\"T_25eab1b6_b4c2_11ea_a1e3_380025f3998frow17_col0\" class=\"data row17 col0\" >Ignore Low Variance </td>\n",
       "                        <td id=\"T_25eab1b6_b4c2_11ea_a1e3_380025f3998frow17_col1\" class=\"data row17 col1\" >False</td>\n",
       "            </tr>\n",
       "            <tr>\n",
       "                        <th id=\"T_25eab1b6_b4c2_11ea_a1e3_380025f3998flevel0_row18\" class=\"row_heading level0 row18\" >18</th>\n",
       "                        <td id=\"T_25eab1b6_b4c2_11ea_a1e3_380025f3998frow18_col0\" class=\"data row18 col0\" >Combine Rare Levels </td>\n",
       "                        <td id=\"T_25eab1b6_b4c2_11ea_a1e3_380025f3998frow18_col1\" class=\"data row18 col1\" >False</td>\n",
       "            </tr>\n",
       "            <tr>\n",
       "                        <th id=\"T_25eab1b6_b4c2_11ea_a1e3_380025f3998flevel0_row19\" class=\"row_heading level0 row19\" >19</th>\n",
       "                        <td id=\"T_25eab1b6_b4c2_11ea_a1e3_380025f3998frow19_col0\" class=\"data row19 col0\" >Rare Level Threshold </td>\n",
       "                        <td id=\"T_25eab1b6_b4c2_11ea_a1e3_380025f3998frow19_col1\" class=\"data row19 col1\" >None</td>\n",
       "            </tr>\n",
       "            <tr>\n",
       "                        <th id=\"T_25eab1b6_b4c2_11ea_a1e3_380025f3998flevel0_row20\" class=\"row_heading level0 row20\" >20</th>\n",
       "                        <td id=\"T_25eab1b6_b4c2_11ea_a1e3_380025f3998frow20_col0\" class=\"data row20 col0\" >Numeric Binning </td>\n",
       "                        <td id=\"T_25eab1b6_b4c2_11ea_a1e3_380025f3998frow20_col1\" class=\"data row20 col1\" >False</td>\n",
       "            </tr>\n",
       "            <tr>\n",
       "                        <th id=\"T_25eab1b6_b4c2_11ea_a1e3_380025f3998flevel0_row21\" class=\"row_heading level0 row21\" >21</th>\n",
       "                        <td id=\"T_25eab1b6_b4c2_11ea_a1e3_380025f3998frow21_col0\" class=\"data row21 col0\" >Remove Multicollinearity </td>\n",
       "                        <td id=\"T_25eab1b6_b4c2_11ea_a1e3_380025f3998frow21_col1\" class=\"data row21 col1\" >False</td>\n",
       "            </tr>\n",
       "            <tr>\n",
       "                        <th id=\"T_25eab1b6_b4c2_11ea_a1e3_380025f3998flevel0_row22\" class=\"row_heading level0 row22\" >22</th>\n",
       "                        <td id=\"T_25eab1b6_b4c2_11ea_a1e3_380025f3998frow22_col0\" class=\"data row22 col0\" >Multicollinearity Threshold </td>\n",
       "                        <td id=\"T_25eab1b6_b4c2_11ea_a1e3_380025f3998frow22_col1\" class=\"data row22 col1\" >None</td>\n",
       "            </tr>\n",
       "            <tr>\n",
       "                        <th id=\"T_25eab1b6_b4c2_11ea_a1e3_380025f3998flevel0_row23\" class=\"row_heading level0 row23\" >23</th>\n",
       "                        <td id=\"T_25eab1b6_b4c2_11ea_a1e3_380025f3998frow23_col0\" class=\"data row23 col0\" >Group Features </td>\n",
       "                        <td id=\"T_25eab1b6_b4c2_11ea_a1e3_380025f3998frow23_col1\" class=\"data row23 col1\" >False</td>\n",
       "            </tr>\n",
       "    </tbody></table>"
      ],
      "text/plain": [
       "<pandas.io.formats.style.Styler at 0x1f89c597388>"
      ]
     },
     "metadata": {},
     "output_type": "display_data"
    }
   ],
   "source": [
    "# importing dependencies here\n",
    "from pycaret.datasets import get_data\n",
    "anomaly = get_data(\"anomaly\")\n",
    "\n",
    "# importing anomaly detection module\n",
    "from pycaret.anomaly import *\n",
    "\n",
    "# initializing the setup function used for pre-processing \n",
    "setup_anomaly_data = setup(anomaly)"
   ]
  },
  {
   "cell_type": "code",
   "execution_count": 2,
   "metadata": {},
   "outputs": [
    {
     "data": {
      "text/html": [
       "<div>\n",
       "<style scoped>\n",
       "    .dataframe tbody tr th:only-of-type {\n",
       "        vertical-align: middle;\n",
       "    }\n",
       "\n",
       "    .dataframe tbody tr th {\n",
       "        vertical-align: top;\n",
       "    }\n",
       "\n",
       "    .dataframe thead th {\n",
       "        text-align: right;\n",
       "    }\n",
       "</style>\n",
       "<table border=\"1\" class=\"dataframe\">\n",
       "  <thead>\n",
       "    <tr style=\"text-align: right;\">\n",
       "      <th></th>\n",
       "      <th>Col1</th>\n",
       "      <th>Col2</th>\n",
       "      <th>Col3</th>\n",
       "      <th>Col4</th>\n",
       "      <th>Col5</th>\n",
       "      <th>Col6</th>\n",
       "      <th>Col7</th>\n",
       "      <th>Col8</th>\n",
       "      <th>Col9</th>\n",
       "      <th>Col10</th>\n",
       "    </tr>\n",
       "  </thead>\n",
       "  <tbody>\n",
       "    <tr>\n",
       "      <th>0</th>\n",
       "      <td>0.263995</td>\n",
       "      <td>0.764929</td>\n",
       "      <td>0.138424</td>\n",
       "      <td>0.935242</td>\n",
       "      <td>0.605867</td>\n",
       "      <td>0.518790</td>\n",
       "      <td>0.912225</td>\n",
       "      <td>0.608234</td>\n",
       "      <td>0.723782</td>\n",
       "      <td>0.733591</td>\n",
       "    </tr>\n",
       "    <tr>\n",
       "      <th>1</th>\n",
       "      <td>0.546092</td>\n",
       "      <td>0.653975</td>\n",
       "      <td>0.065575</td>\n",
       "      <td>0.227772</td>\n",
       "      <td>0.845269</td>\n",
       "      <td>0.837066</td>\n",
       "      <td>0.272379</td>\n",
       "      <td>0.331679</td>\n",
       "      <td>0.429297</td>\n",
       "      <td>0.367422</td>\n",
       "    </tr>\n",
       "    <tr>\n",
       "      <th>2</th>\n",
       "      <td>0.336714</td>\n",
       "      <td>0.538842</td>\n",
       "      <td>0.192801</td>\n",
       "      <td>0.553563</td>\n",
       "      <td>0.074515</td>\n",
       "      <td>0.332993</td>\n",
       "      <td>0.365792</td>\n",
       "      <td>0.861309</td>\n",
       "      <td>0.899017</td>\n",
       "      <td>0.088600</td>\n",
       "    </tr>\n",
       "    <tr>\n",
       "      <th>3</th>\n",
       "      <td>0.092108</td>\n",
       "      <td>0.995017</td>\n",
       "      <td>0.014465</td>\n",
       "      <td>0.176371</td>\n",
       "      <td>0.241530</td>\n",
       "      <td>0.514724</td>\n",
       "      <td>0.562208</td>\n",
       "      <td>0.158963</td>\n",
       "      <td>0.073715</td>\n",
       "      <td>0.208463</td>\n",
       "    </tr>\n",
       "    <tr>\n",
       "      <th>4</th>\n",
       "      <td>0.325261</td>\n",
       "      <td>0.805968</td>\n",
       "      <td>0.957033</td>\n",
       "      <td>0.331665</td>\n",
       "      <td>0.307923</td>\n",
       "      <td>0.355315</td>\n",
       "      <td>0.501899</td>\n",
       "      <td>0.558449</td>\n",
       "      <td>0.885169</td>\n",
       "      <td>0.182754</td>\n",
       "    </tr>\n",
       "    <tr>\n",
       "      <th>...</th>\n",
       "      <td>...</td>\n",
       "      <td>...</td>\n",
       "      <td>...</td>\n",
       "      <td>...</td>\n",
       "      <td>...</td>\n",
       "      <td>...</td>\n",
       "      <td>...</td>\n",
       "      <td>...</td>\n",
       "      <td>...</td>\n",
       "      <td>...</td>\n",
       "    </tr>\n",
       "    <tr>\n",
       "      <th>995</th>\n",
       "      <td>0.305055</td>\n",
       "      <td>0.656837</td>\n",
       "      <td>0.331665</td>\n",
       "      <td>0.822525</td>\n",
       "      <td>0.907127</td>\n",
       "      <td>0.882276</td>\n",
       "      <td>0.855732</td>\n",
       "      <td>0.584786</td>\n",
       "      <td>0.808640</td>\n",
       "      <td>0.242762</td>\n",
       "    </tr>\n",
       "    <tr>\n",
       "      <th>996</th>\n",
       "      <td>0.812627</td>\n",
       "      <td>0.864258</td>\n",
       "      <td>0.616604</td>\n",
       "      <td>0.167966</td>\n",
       "      <td>0.811223</td>\n",
       "      <td>0.938071</td>\n",
       "      <td>0.418462</td>\n",
       "      <td>0.472306</td>\n",
       "      <td>0.348347</td>\n",
       "      <td>0.671129</td>\n",
       "    </tr>\n",
       "    <tr>\n",
       "      <th>997</th>\n",
       "      <td>0.250967</td>\n",
       "      <td>0.138627</td>\n",
       "      <td>0.919703</td>\n",
       "      <td>0.461234</td>\n",
       "      <td>0.886555</td>\n",
       "      <td>0.869888</td>\n",
       "      <td>0.800908</td>\n",
       "      <td>0.530324</td>\n",
       "      <td>0.779433</td>\n",
       "      <td>0.234952</td>\n",
       "    </tr>\n",
       "    <tr>\n",
       "      <th>998</th>\n",
       "      <td>0.502436</td>\n",
       "      <td>0.936820</td>\n",
       "      <td>0.580062</td>\n",
       "      <td>0.540773</td>\n",
       "      <td>0.151995</td>\n",
       "      <td>0.059452</td>\n",
       "      <td>0.225220</td>\n",
       "      <td>0.242755</td>\n",
       "      <td>0.279385</td>\n",
       "      <td>0.538755</td>\n",
       "    </tr>\n",
       "    <tr>\n",
       "      <th>999</th>\n",
       "      <td>0.457991</td>\n",
       "      <td>0.017755</td>\n",
       "      <td>0.714113</td>\n",
       "      <td>0.125992</td>\n",
       "      <td>0.063316</td>\n",
       "      <td>0.154739</td>\n",
       "      <td>0.922974</td>\n",
       "      <td>0.692299</td>\n",
       "      <td>0.816777</td>\n",
       "      <td>0.307592</td>\n",
       "    </tr>\n",
       "  </tbody>\n",
       "</table>\n",
       "<p>1000 rows × 10 columns</p>\n",
       "</div>"
      ],
      "text/plain": [
       "         Col1      Col2      Col3      Col4      Col5      Col6      Col7  \\\n",
       "0    0.263995  0.764929  0.138424  0.935242  0.605867  0.518790  0.912225   \n",
       "1    0.546092  0.653975  0.065575  0.227772  0.845269  0.837066  0.272379   \n",
       "2    0.336714  0.538842  0.192801  0.553563  0.074515  0.332993  0.365792   \n",
       "3    0.092108  0.995017  0.014465  0.176371  0.241530  0.514724  0.562208   \n",
       "4    0.325261  0.805968  0.957033  0.331665  0.307923  0.355315  0.501899   \n",
       "..        ...       ...       ...       ...       ...       ...       ...   \n",
       "995  0.305055  0.656837  0.331665  0.822525  0.907127  0.882276  0.855732   \n",
       "996  0.812627  0.864258  0.616604  0.167966  0.811223  0.938071  0.418462   \n",
       "997  0.250967  0.138627  0.919703  0.461234  0.886555  0.869888  0.800908   \n",
       "998  0.502436  0.936820  0.580062  0.540773  0.151995  0.059452  0.225220   \n",
       "999  0.457991  0.017755  0.714113  0.125992  0.063316  0.154739  0.922974   \n",
       "\n",
       "         Col8      Col9     Col10  \n",
       "0    0.608234  0.723782  0.733591  \n",
       "1    0.331679  0.429297  0.367422  \n",
       "2    0.861309  0.899017  0.088600  \n",
       "3    0.158963  0.073715  0.208463  \n",
       "4    0.558449  0.885169  0.182754  \n",
       "..        ...       ...       ...  \n",
       "995  0.584786  0.808640  0.242762  \n",
       "996  0.472306  0.348347  0.671129  \n",
       "997  0.530324  0.779433  0.234952  \n",
       "998  0.242755  0.279385  0.538755  \n",
       "999  0.692299  0.816777  0.307592  \n",
       "\n",
       "[1000 rows x 10 columns]"
      ]
     },
     "execution_count": 2,
     "metadata": {},
     "output_type": "execute_result"
    }
   ],
   "source": [
    "# checking the dataset\n",
    "anomaly"
   ]
  },
  {
   "cell_type": "markdown",
   "metadata": {},
   "source": [
    "## Creating Anomaly Detection Models"
   ]
  },
  {
   "cell_type": "markdown",
   "metadata": {},
   "source": [
    "### Isolation Forest"
   ]
  },
  {
   "cell_type": "code",
   "execution_count": 3,
   "metadata": {},
   "outputs": [
    {
     "data": {
      "text/html": [
       "        <script type=\"text/javascript\">\n",
       "        window.PlotlyConfig = {MathJaxConfig: 'local'};\n",
       "        if (window.MathJax) {MathJax.Hub.Config({SVG: {font: \"STIX-Web\"}});}\n",
       "        if (typeof require !== 'undefined') {\n",
       "        require.undef(\"plotly\");\n",
       "        requirejs.config({\n",
       "            paths: {\n",
       "                'plotly': ['https://cdn.plot.ly/plotly-latest.min']\n",
       "            }\n",
       "        });\n",
       "        require(['plotly'], function(Plotly) {\n",
       "            window._Plotly = Plotly;\n",
       "        });\n",
       "        }\n",
       "        </script>\n",
       "        "
      ]
     },
     "metadata": {},
     "output_type": "display_data"
    },
    {
     "data": {
      "application/vnd.plotly.v1+json": {
       "config": {
        "plotlyServerURL": "https://plot.ly"
       },
       "data": [
        {
         "customdata": [
          [
           0.263995357
          ],
          [
           0.546092303
          ],
          [
           0.33671410399999996
          ],
          [
           0.092107835
          ],
          [
           0.325261175
          ],
          [
           0.212464853
          ],
          [
           0.258565714
          ],
          [
           0.869236755
          ],
          [
           0.197077957
          ],
          [
           0.292984504
          ],
          [
           0.82178316
          ],
          [
           0.796622959
          ],
          [
           0.045577010999999994
          ],
          [
           0.613660351
          ],
          [
           0.9507445659999999
          ],
          [
           0.33634633700000005
          ],
          [
           0.034440667
          ],
          [
           0.741544275
          ],
          [
           0.18443265
          ],
          [
           0.664514943
          ],
          [
           0.16282485800000002
          ],
          [
           0.729838445
          ],
          [
           0.62837389
          ],
          [
           0.057883660999999996
          ],
          [
           0.445534827
          ],
          [
           0.80183695
          ],
          [
           0.27709612
          ],
          [
           0.228634015
          ],
          [
           0.834860657
          ],
          [
           0.6697665110000001
          ],
          [
           0.532527349
          ],
          [
           0.17045907100000002
          ],
          [
           0.5102884679999999
          ],
          [
           0.977561989
          ],
          [
           0.249775993
          ],
          [
           0.9755006820000001
          ],
          [
           0.613701727
          ],
          [
           0.16742036300000002
          ],
          [
           0.537472516
          ],
          [
           0.379899131
          ],
          [
           0.633897303
          ],
          [
           0.633960424
          ],
          [
           0.5499746529999999
          ],
          [
           0.178172988
          ],
          [
           0.85563814
          ],
          [
           0.321796672
          ],
          [
           0.8174905370000001
          ],
          [
           0.254879417
          ],
          [
           0.344140513
          ],
          [
           0.8061457259999999
          ],
          [
           0.27708167100000003
          ],
          [
           0.544328519
          ],
          [
           0.07708393
          ],
          [
           0.273081458
          ],
          [
           0.390877336
          ],
          [
           0.349621385
          ],
          [
           0.214549744
          ],
          [
           0.206075222
          ],
          [
           0.86461997
          ],
          [
           0.9817088540000001
          ],
          [
           0.33482964600000004
          ],
          [
           0.648387061
          ],
          [
           0.093643561
          ],
          [
           0.837802698
          ],
          [
           0.7603439670000001
          ],
          [
           0.29140417399999996
          ],
          [
           0.3413454
          ],
          [
           0.7611124840000001
          ],
          [
           0.541899775
          ],
          [
           0.684176639
          ],
          [
           0.983535597
          ],
          [
           0.52081245
          ],
          [
           0.328227724
          ],
          [
           0.09715793800000001
          ],
          [
           0.876088593
          ],
          [
           0.870214512
          ],
          [
           0.656086992
          ],
          [
           0.306791514
          ],
          [
           0.48126734
          ],
          [
           0.259559174
          ],
          [
           0.326123655
          ],
          [
           0.930568042
          ],
          [
           0.6583894
          ],
          [
           0.689992335
          ],
          [
           0.315781109
          ],
          [
           0.5669050929999999
          ],
          [
           0.637526619
          ],
          [
           0.687540723
          ],
          [
           0.324300602
          ],
          [
           0.592704906
          ],
          [
           0.7402531259999999
          ],
          [
           0.5940328770000001
          ],
          [
           0.596452977
          ],
          [
           0.27768081699999997
          ],
          [
           0.258329663
          ],
          [
           0.142460864
          ],
          [
           0.435533461
          ],
          [
           0.7024990440000001
          ],
          [
           0.58897535
          ],
          [
           0.653304374
          ],
          [
           0.336968524
          ],
          [
           0.631244736
          ],
          [
           0.73530076
          ],
          [
           0.050390366
          ],
          [
           0.064264924
          ],
          [
           0.665359476
          ],
          [
           0.917835245
          ],
          [
           0.44651012
          ],
          [
           0.661938199
          ],
          [
           0.43935985299999997
          ],
          [
           0.6875724040000001
          ],
          [
           0.363462248
          ],
          [
           0.6542621820000001
          ],
          [
           0.578553536
          ],
          [
           0.065927945
          ],
          [
           0.550148559
          ],
          [
           0.13918281400000002
          ],
          [
           0.080004635
          ],
          [
           0.278228358
          ],
          [
           0.560124266
          ],
          [
           0.53639864
          ],
          [
           0.42653190399999996
          ],
          [
           0.789109796
          ],
          [
           0.742900474
          ],
          [
           0.901692589
          ],
          [
           0.650337401
          ],
          [
           0.114057311
          ],
          [
           0.260812592
          ],
          [
           0.43991232
          ],
          [
           0.964409284
          ],
          [
           0.184401415
          ],
          [
           0.345145446
          ],
          [
           0.17589458100000002
          ],
          [
           0.312514453
          ],
          [
           0.674131879
          ],
          [
           0.32825045
          ],
          [
           0.598231057
          ],
          [
           0.09259881699999999
          ],
          [
           0.497916521
          ],
          [
           0.419776521
          ],
          [
           0.31217670000000003
          ],
          [
           0.937857107
          ],
          [
           0.049030963
          ],
          [
           0.47610452600000003
          ],
          [
           0.447397526
          ],
          [
           0.295806058
          ],
          [
           0.737363977
          ],
          [
           0.625896253
          ],
          [
           0.408813429
          ],
          [
           0.437511156
          ],
          [
           0.691351375
          ],
          [
           0.935555275
          ],
          [
           0.437846654
          ],
          [
           0.072217715
          ],
          [
           0.67636067
          ],
          [
           0.468883999
          ],
          [
           0.543820644
          ],
          [
           0.6555226470000001
          ],
          [
           0.6935289240000001
          ],
          [
           0.10887831199999999
          ],
          [
           0.285463743
          ],
          [
           0
          ],
          [
           0.706495497
          ],
          [
           0.273530633
          ],
          [
           0.292320271
          ],
          [
           0.673984307
          ],
          [
           0.12612182800000002
          ],
          [
           0.9467074590000001
          ],
          [
           0.9363388979999999
          ],
          [
           0.8537553640000001
          ],
          [
           0.7060713609999999
          ],
          [
           0.693682186
          ],
          [
           0.508527882
          ],
          [
           0.34717038899999997
          ],
          [
           0.704154263
          ],
          [
           0.658730088
          ],
          [
           0.155841557
          ],
          [
           0.311085435
          ],
          [
           0.281135347
          ],
          [
           0.094587802
          ],
          [
           0.6832609540000001
          ],
          [
           0.9077292509999999
          ],
          [
           0.29151267399999997
          ],
          [
           0.752734459
          ],
          [
           0.93482964
          ],
          [
           0.071413953
          ],
          [
           0.5948963270000001
          ],
          [
           0.404672015
          ],
          [
           0.13837621
          ],
          [
           0.7473384679999999
          ],
          [
           0.530882486
          ],
          [
           0.282649594
          ],
          [
           0.699335734
          ],
          [
           0.056111250999999994
          ],
          [
           0.855234998
          ],
          [
           0.07789512700000001
          ],
          [
           0.891649583
          ],
          [
           0.38674227899999997
          ],
          [
           0.27113158
          ],
          [
           0.958888961
          ],
          [
           0.085120869
          ],
          [
           0.5269022489999999
          ],
          [
           0.066577785
          ],
          [
           0.841506738
          ],
          [
           0.255342095
          ],
          [
           0.060545771
          ],
          [
           0.073385869
          ],
          [
           0.187493723
          ],
          [
           0.858365688
          ],
          [
           0.090640352
          ],
          [
           0.7097252270000001
          ],
          [
           0.631300647
          ],
          [
           0.24750447399999997
          ],
          [
           0.822843584
          ],
          [
           0.373476759
          ],
          [
           0.625538582
          ],
          [
           0.292951715
          ],
          [
           0.299730324
          ],
          [
           0.25121407
          ],
          [
           0.344480551
          ],
          [
           0.293064767
          ],
          [
           0.7628032240000001
          ],
          [
           0.7384708040000001
          ],
          [
           0.674883265
          ],
          [
           0.719151612
          ],
          [
           0.13098021599999998
          ],
          [
           0.511328036
          ],
          [
           0.04492903
          ],
          [
           0.560914449
          ],
          [
           0.7440406409999999
          ],
          [
           0.266961634
          ],
          [
           0.644231853
          ],
          [
           0.038113352
          ],
          [
           0.05715529900000001
          ],
          [
           0.34139246100000004
          ],
          [
           0.7204636320000001
          ],
          [
           0.402878236
          ],
          [
           0.635148967
          ],
          [
           0.320729467
          ],
          [
           0.09120969400000001
          ],
          [
           0.23414609
          ],
          [
           0.8902211309999999
          ],
          [
           0.602170884
          ],
          [
           0.633652055
          ],
          [
           0.806240837
          ],
          [
           0.739731184
          ],
          [
           0.465231269
          ],
          [
           0.7321109
          ],
          [
           0.373874305
          ],
          [
           0.501587947
          ],
          [
           0.11538315800000001
          ],
          [
           0.7319466040000001
          ],
          [
           0.41829872799999995
          ],
          [
           0.062259590999999996
          ],
          [
           0.391496379
          ],
          [
           0.35984929
          ],
          [
           0.24523562699999998
          ],
          [
           0.610028339
          ],
          [
           0.43540360200000006
          ],
          [
           0.434309675
          ],
          [
           0.523763344
          ],
          [
           0.17118786600000002
          ],
          [
           0.18773430300000002
          ],
          [
           0.945014638
          ],
          [
           0.027851097000000002
          ],
          [
           0.68445706
          ],
          [
           0.178014532
          ],
          [
           0.643427879
          ],
          [
           0.59588355
          ],
          [
           0.372361682
          ],
          [
           0.586103584
          ],
          [
           0.271658852
          ],
          [
           0.59951107
          ],
          [
           0.468363088
          ],
          [
           0.314515565
          ],
          [
           0.21893726
          ],
          [
           0.254716562
          ],
          [
           0.25612815
          ],
          [
           0.602259755
          ],
          [
           0.134381075
          ],
          [
           0.513887424
          ],
          [
           0.624241636
          ],
          [
           0.160251854
          ],
          [
           0.580708108
          ],
          [
           0.270540486
          ],
          [
           0.832919932
          ],
          [
           0.93032134
          ],
          [
           0.719157884
          ],
          [
           0.886720033
          ],
          [
           0.098792281
          ],
          [
           0.787174286
          ],
          [
           0.365592376
          ],
          [
           0.719576193
          ],
          [
           0.8058956
          ],
          [
           0.7555783340000001
          ],
          [
           0.526005909
          ],
          [
           0.68880424
          ],
          [
           0.22111531199999998
          ],
          [
           0.739369477
          ],
          [
           0.408440236
          ],
          [
           0.348926542
          ],
          [
           0.433713763
          ],
          [
           0.5964966070000001
          ],
          [
           0.6942953000000001
          ],
          [
           0.7090309659999999
          ],
          [
           0.867652984
          ],
          [
           0.89332545
          ],
          [
           0.746020922
          ],
          [
           0.538284443
          ],
          [
           0.8922193140000001
          ],
          [
           0.935175765
          ],
          [
           0.260527707
          ],
          [
           0.956780449
          ],
          [
           0.204932484
          ],
          [
           0.687733351
          ],
          [
           0.329063619
          ],
          [
           0.632149831
          ],
          [
           0.463744506
          ],
          [
           0.698859621
          ],
          [
           0.385446564
          ],
          [
           0.47997537700000004
          ],
          [
           0.732279108
          ],
          [
           0.3813543
          ],
          [
           0.459326013
          ],
          [
           0.257401434
          ],
          [
           0.665014804
          ],
          [
           0.103399542
          ],
          [
           0.425284413
          ],
          [
           0.943529051
          ],
          [
           0.594750236
          ],
          [
           0.543776817
          ],
          [
           0.18203988
          ],
          [
           0.23584208399999998
          ],
          [
           0.585984497
          ],
          [
           0.762013168
          ],
          [
           0.6849829070000001
          ],
          [
           0.676936933
          ],
          [
           0.290184964
          ],
          [
           0.48106822200000005
          ],
          [
           0.492766033
          ],
          [
           0.22185623399999999
          ],
          [
           0.053875998
          ],
          [
           0.082751144
          ],
          [
           0.385366225
          ],
          [
           0.702513961
          ],
          [
           0.91553156
          ],
          [
           0.082087436
          ],
          [
           0.251280378
          ],
          [
           0.41672181700000005
          ],
          [
           0.277032672
          ],
          [
           0.579539754
          ],
          [
           0.569363476
          ],
          [
           0.133399703
          ],
          [
           0.265045463
          ],
          [
           0.936571901
          ],
          [
           0.252618554
          ],
          [
           0.054033081
          ],
          [
           0.802481439
          ],
          [
           0.528197693
          ],
          [
           0.9515026
          ],
          [
           0.572121173
          ],
          [
           0.752938227
          ],
          [
           0.143857535
          ],
          [
           0.513484576
          ],
          [
           0.313322389
          ],
          [
           0.6877973959999999
          ],
          [
           0.37705984
          ],
          [
           0.348226142
          ],
          [
           0.67763282
          ],
          [
           0.24138752100000002
          ],
          [
           0.8506501790000001
          ],
          [
           0.22034810300000002
          ],
          [
           0.476445464
          ],
          [
           0.690324025
          ],
          [
           0.364695946
          ],
          [
           0.6492491970000001
          ],
          [
           0.9437019209999999
          ],
          [
           0.529645971
          ],
          [
           0.299097002
          ],
          [
           0.96696247
          ],
          [
           0.272005242
          ],
          [
           0.314161447
          ],
          [
           0.752020991
          ],
          [
           0.221882453
          ],
          [
           0.7203326729999999
          ],
          [
           0.379204782
          ],
          [
           0.60168653
          ],
          [
           0.582932673
          ],
          [
           0.950809853
          ],
          [
           0.58830141
          ],
          [
           0.880887227
          ],
          [
           0.467857701
          ],
          [
           0.8799021709999999
          ],
          [
           0.619844009
          ],
          [
           0.359002573
          ],
          [
           0.291511278
          ],
          [
           0.694157143
          ],
          [
           0.727960353
          ],
          [
           0.617703921
          ],
          [
           0.39581257
          ],
          [
           0.58317282
          ],
          [
           0.710332374
          ],
          [
           0.253753693
          ],
          [
           0.049412227999999996
          ],
          [
           0.728378695
          ],
          [
           0.432432881
          ],
          [
           0.58612345
          ],
          [
           0.052342373
          ],
          [
           0.053483902
          ],
          [
           0.518729378
          ],
          [
           0.933040208
          ],
          [
           0.7035542840000001
          ],
          [
           0.268989899
          ],
          [
           0.733006927
          ],
          [
           0.44435246700000003
          ],
          [
           0.5833946210000001
          ],
          [
           0.871172692
          ],
          [
           0.42876707799999997
          ],
          [
           0.30046084100000003
          ],
          [
           0.9533294590000001
          ],
          [
           0.606443965
          ],
          [
           0.90986815
          ],
          [
           0.714896449
          ],
          [
           0.49734950899999997
          ],
          [
           0.8530974859999999
          ],
          [
           0.721804145
          ],
          [
           0.303467328
          ],
          [
           0.664485096
          ],
          [
           0.27978062
          ],
          [
           0.569481665
          ],
          [
           0.628628926
          ],
          [
           0.088368123
          ],
          [
           0.733567326
          ],
          [
           0.537436778
          ],
          [
           0.638593691
          ],
          [
           0.954726948
          ],
          [
           0.632202332
          ],
          [
           0.642134651
          ],
          [
           0.744653087
          ],
          [
           0.115714007
          ],
          [
           0.48625007299999995
          ],
          [
           0.440356144
          ],
          [
           0.08272289
          ],
          [
           0.511591027
          ],
          [
           0.394627555
          ],
          [
           0.224394
          ],
          [
           0.626927584
          ],
          [
           0.290254057
          ],
          [
           0.779008053
          ],
          [
           0.86610579
          ],
          [
           0.873326081
          ],
          [
           0.49548916
          ],
          [
           0.594297695
          ],
          [
           0.9182015840000001
          ],
          [
           0.5770427539999999
          ],
          [
           0.019467671000000002
          ],
          [
           0.6702982820000001
          ],
          [
           0.546595316
          ],
          [
           0.591665146
          ],
          [
           0.42155819
          ],
          [
           0.6856085590000001
          ],
          [
           0.340303024
          ],
          [
           0.675626741
          ],
          [
           0.319067345
          ],
          [
           0.38849966399999997
          ],
          [
           0.706949589
          ],
          [
           0.559409515
          ],
          [
           0.687663508
          ],
          [
           0.7088045540000001
          ],
          [
           0.6818880940000001
          ],
          [
           0.42253510899999996
          ],
          [
           0.320004605
          ],
          [
           0.6582813679999999
          ],
          [
           0.634154867
          ],
          [
           0.7773320090000001
          ],
          [
           0.812677205
          ],
          [
           0.074280797
          ],
          [
           0.39600217
          ],
          [
           0.054933913
          ],
          [
           0.825058925
          ],
          [
           0.382642009
          ],
          [
           0.8687298179999999
          ],
          [
           0.588043346
          ],
          [
           0.891551577
          ],
          [
           0.10920046
          ],
          [
           0.647682781
          ],
          [
           0.724342512
          ],
          [
           0.07016304400000001
          ],
          [
           0.280882054
          ],
          [
           0.039113261
          ],
          [
           0.579641592
          ],
          [
           0.639000922
          ],
          [
           0.281745925
          ],
          [
           0.647857744
          ],
          [
           0.6479057970000001
          ],
          [
           0.875226264
          ],
          [
           0.567603305
          ],
          [
           0.262940591
          ],
          [
           0.268026042
          ],
          [
           0.40519133
          ],
          [
           0.479965451
          ],
          [
           0.33552403
          ],
          [
           0.777165379
          ],
          [
           0.42548796299999997
          ],
          [
           0.237986115
          ],
          [
           0.142522971
          ],
          [
           0.724176488
          ],
          [
           0.234698933
          ],
          [
           0.07818228099999999
          ],
          [
           0.855990155
          ],
          [
           0.270251765
          ],
          [
           0.435517841
          ],
          [
           0.762697513
          ],
          [
           0.46448725799999996
          ],
          [
           0.396112685
          ],
          [
           0.37638092100000003
          ],
          [
           0.29459467699999997
          ],
          [
           0.6944921209999999
          ],
          [
           0.622767949
          ],
          [
           0.8475597220000001
          ],
          [
           0.301463054
          ],
          [
           0.912937812
          ],
          [
           0.500017182
          ],
          [
           0.902587935
          ],
          [
           0.304517943
          ],
          [
           0.299165673
          ],
          [
           0.092014087
          ],
          [
           0.488548917
          ],
          [
           0.664664437
          ],
          [
           0.26534954899999996
          ],
          [
           0.723657021
          ],
          [
           0.149262385
          ],
          [
           0.04577339
          ],
          [
           0.69661064
          ],
          [
           0.42181486
          ],
          [
           0.733845785
          ],
          [
           0.418795386
          ],
          [
           0.677443529
          ],
          [
           0.26128360300000003
          ],
          [
           0.268527767
          ],
          [
           0.5443222360000001
          ],
          [
           0.431632036
          ],
          [
           0.981018141
          ],
          [
           0.21498072399999998
          ],
          [
           0.39472999299999995
          ],
          [
           0.122224944
          ],
          [
           0.297496875
          ],
          [
           0.37490443100000004
          ],
          [
           0.68698771
          ],
          [
           0.388549207
          ],
          [
           0.039296071
          ],
          [
           0.73553424
          ],
          [
           0.37929489299999997
          ],
          [
           0.7321233859999999
          ],
          [
           0.33922143899999996
          ],
          [
           0.659450594
          ],
          [
           0.054838642
          ],
          [
           0.640112102
          ],
          [
           0.30714170399999996
          ],
          [
           0.39661190700000004
          ],
          [
           0.420439161
          ],
          [
           0.24171497399999997
          ],
          [
           0.065893153
          ],
          [
           0.9105219370000001
          ],
          [
           0.697163103
          ],
          [
           0.072559853
          ],
          [
           0.81825094
          ],
          [
           0.311888815
          ],
          [
           0.961644609
          ],
          [
           0.816325524
          ],
          [
           0.14647302
          ],
          [
           0.548753945
          ],
          [
           0.946158087
          ],
          [
           0.293992717
          ],
          [
           0.331479643
          ],
          [
           0.9062200309999999
          ],
          [
           0.525540416
          ],
          [
           0.83301411
          ],
          [
           0.514849806
          ],
          [
           0.574609024
          ],
          [
           0.46871185299999996
          ],
          [
           0.71002775
          ],
          [
           0.645973276
          ],
          [
           0.229794416
          ],
          [
           0.551783393
          ],
          [
           0.055822990999999995
          ],
          [
           0.331750941
          ],
          [
           0.715520198
          ],
          [
           0.583924357
          ],
          [
           0.30695769100000003
          ],
          [
           0.7914782370000001
          ],
          [
           0.16423663900000002
          ],
          [
           0.065711219
          ],
          [
           0.948993132
          ],
          [
           0.080423835
          ],
          [
           0.052495426
          ],
          [
           0.566346135
          ],
          [
           0.3630266
          ],
          [
           0.605442195
          ],
          [
           0.6308505839999999
          ],
          [
           0.065791238
          ],
          [
           0.28681707100000003
          ],
          [
           0.685462839
          ],
          [
           0.260853706
          ],
          [
           0.659122429
          ],
          [
           0.44317392200000005
          ],
          [
           0.602063986
          ],
          [
           0.060366910999999995
          ],
          [
           0.781903153
          ],
          [
           0.5145798070000001
          ],
          [
           0.48388621299999995
          ],
          [
           0.600213807
          ],
          [
           0.49736405200000006
          ],
          [
           0.411145245
          ],
          [
           0.116999171
          ],
          [
           0.34189014100000004
          ],
          [
           0.746950848
          ],
          [
           0.39629274600000003
          ],
          [
           0.6221438429999999
          ],
          [
           0.335271141
          ],
          [
           0.140257137
          ],
          [
           0.081620681
          ],
          [
           0.069837569
          ],
          [
           0.46894000799999996
          ],
          [
           0.9908574170000001
          ],
          [
           0.896616832
          ],
          [
           0.255310561
          ],
          [
           0.22464526699999998
          ],
          [
           0.01991825
          ],
          [
           0.296480415
          ],
          [
           0.155458996
          ],
          [
           0.577916714
          ],
          [
           0.9563030309999999
          ],
          [
           0.813464394
          ],
          [
           0.529675785
          ],
          [
           0.287671353
          ],
          [
           0.48039136
          ],
          [
           0.28104482199999997
          ],
          [
           0.633196521
          ],
          [
           0.09332537699999999
          ],
          [
           0.28447398100000004
          ],
          [
           0.052223775
          ],
          [
           0.051129385
          ],
          [
           0.967405608
          ],
          [
           0.040045727999999996
          ],
          [
           0.9085829209999999
          ],
          [
           0.6621174160000001
          ],
          [
           0.42470320899999997
          ],
          [
           0.72207806
          ],
          [
           0.666193327
          ],
          [
           0.509681253
          ],
          [
           0.7513536209999999
          ],
          [
           0.279073124
          ],
          [
           0.074927
          ],
          [
           0.916359535
          ],
          [
           0.31040327
          ],
          [
           0.716604052
          ],
          [
           0.485587085
          ],
          [
           0.30607518100000003
          ],
          [
           0.477558204
          ],
          [
           0.7119239409999999
          ],
          [
           0.066348638
          ],
          [
           0.27453935100000004
          ],
          [
           0.31082252
          ],
          [
           0.47607312700000004
          ],
          [
           0.186795565
          ],
          [
           0.26654207
          ],
          [
           0.070231142
          ],
          [
           0.26951927
          ],
          [
           0.800004713
          ],
          [
           0.27363366699999997
          ],
          [
           0.14647919199999998
          ],
          [
           0.378318951
          ],
          [
           0.373849065
          ],
          [
           0.242170835
          ],
          [
           0.249796488
          ],
          [
           0.066591188
          ],
          [
           0.372956798
          ],
          [
           0.501812291
          ],
          [
           0.313097752
          ],
          [
           0.8802021959999999
          ],
          [
           0.51981893
          ],
          [
           0.364138746
          ],
          [
           0.49268289600000004
          ],
          [
           0.285732652
          ],
          [
           0.890114985
          ],
          [
           0.316419561
          ],
          [
           0.26866354
          ],
          [
           0.771975959
          ],
          [
           0.968888992
          ],
          [
           0.080334377
          ],
          [
           0.7368282209999999
          ],
          [
           0.30055807100000004
          ],
          [
           0.9179503929999999
          ],
          [
           0.465815039
          ],
          [
           0.054036682
          ],
          [
           0.963150123
          ],
          [
           0.08965350300000001
          ],
          [
           0.7076932340000001
          ],
          [
           0.636416037
          ],
          [
           0.539521117
          ],
          [
           0.114757161
          ],
          [
           0.357312419
          ],
          [
           0.67639834
          ],
          [
           0.43482839
          ],
          [
           0.032326387000000005
          ],
          [
           0.711365605
          ],
          [
           0.187486519
          ],
          [
           0.052789653
          ],
          [
           0.5058636129999999
          ],
          [
           0.927431873
          ],
          [
           0.6809842559999999
          ],
          [
           0.882822186
          ],
          [
           0.495705441
          ],
          [
           0.596240398
          ],
          [
           0.320610701
          ],
          [
           0.3413685
          ],
          [
           0.159681797
          ],
          [
           0.318133669
          ],
          [
           0.8393010479999999
          ],
          [
           0.06435925099999999
          ],
          [
           0.470216633
          ],
          [
           0.7762522909999999
          ],
          [
           0.635843383
          ],
          [
           0.62510543
          ],
          [
           0.52959065
          ],
          [
           0.986900166
          ],
          [
           0.078585688
          ],
          [
           0.233284267
          ],
          [
           0.363330957
          ],
          [
           0.7167169809999999
          ],
          [
           0.37588979200000006
          ],
          [
           0.223316889
          ],
          [
           0.299343986
          ],
          [
           0.538595767
          ],
          [
           0.730297124
          ],
          [
           0.66033077
          ],
          [
           0.435296009
          ],
          [
           0.326494313
          ],
          [
           0.854402708
          ],
          [
           0.5734938470000001
          ],
          [
           0.757786135
          ],
          [
           0.704743233
          ],
          [
           0.281575597
          ],
          [
           0.671968208
          ],
          [
           0.313726015
          ],
          [
           0.364338275
          ],
          [
           0.368216396
          ],
          [
           0.38629520700000003
          ],
          [
           0.655971865
          ],
          [
           0.5660252729999999
          ],
          [
           0.424999093
          ],
          [
           0.090110371
          ],
          [
           0.772350538
          ],
          [
           0.331047258
          ],
          [
           0.273716188
          ],
          [
           0.23877568
          ],
          [
           0.37307977200000003
          ],
          [
           0.331185868
          ],
          [
           0.256134531
          ],
          [
           0.678373225
          ],
          [
           0.43463833799999996
          ],
          [
           0.654668307
          ],
          [
           0.986681065
          ],
          [
           0.371520495
          ],
          [
           0.408359618
          ],
          [
           0.40932365
          ],
          [
           0.283412082
          ],
          [
           0.395246531
          ],
          [
           0.010984428000000001
          ],
          [
           0.306013869
          ],
          [
           0.266194806
          ],
          [
           0.299318521
          ],
          [
           0.318293946
          ],
          [
           0.74282591
          ],
          [
           0.09766432900000001
          ],
          [
           0.079666942
          ],
          [
           0.613258767
          ],
          [
           0.99443072
          ],
          [
           0.568835082
          ],
          [
           0.7080345159999999
          ],
          [
           0.37059271899999996
          ],
          [
           0.669867361
          ],
          [
           0.651295625
          ],
          [
           0.462531569
          ],
          [
           0.7196256190000001
          ],
          [
           0.45377248
          ],
          [
           0.394863946
          ],
          [
           0.323974831
          ],
          [
           0.146454724
          ],
          [
           0.7790670409999999
          ],
          [
           0.401828915
          ],
          [
           0.601479585
          ],
          [
           0.856423023
          ],
          [
           0.565242962
          ],
          [
           0.301225108
          ],
          [
           0.282108144
          ],
          [
           0.594378011
          ],
          [
           0.705312368
          ],
          [
           0.5408696279999999
          ],
          [
           0.319249574
          ],
          [
           0.36176613799999996
          ],
          [
           0.625000704
          ],
          [
           0.316287401
          ],
          [
           0.047239021
          ],
          [
           0.801182233
          ],
          [
           0.508474436
          ],
          [
           0.8178934109999999
          ],
          [
           0.399235601
          ],
          [
           0.9740519990000001
          ],
          [
           0.72241535
          ],
          [
           0.039564764
          ],
          [
           0.908684108
          ],
          [
           0.47301013399999997
          ],
          [
           0.7180496279999999
          ],
          [
           0.7634790690000001
          ],
          [
           0.6475965370000001
          ],
          [
           0.8949973859999999
          ],
          [
           0.22282590100000002
          ],
          [
           0.359012234
          ],
          [
           0.944910252
          ],
          [
           0.297877816
          ],
          [
           0.172517997
          ],
          [
           0.556586265
          ],
          [
           0.876481735
          ],
          [
           0.48667784299999994
          ],
          [
           0.459496733
          ],
          [
           0.47412637700000004
          ],
          [
           0.70101144
          ],
          [
           0.337597387
          ],
          [
           0.537578886
          ],
          [
           0.966992448
          ],
          [
           0.056849545
          ],
          [
           0.233249065
          ],
          [
           0.380054711
          ],
          [
           0.602929443
          ],
          [
           0.303847999
          ],
          [
           0.170194553
          ],
          [
           0.972168554
          ],
          [
           0.332168927
          ],
          [
           0.6887286890000001
          ],
          [
           0.110773401
          ],
          [
           0.273352065
          ],
          [
           0.572939678
          ],
          [
           0.491457065
          ],
          [
           0.281389999
          ],
          [
           0.821697261
          ],
          [
           0.6749776829999999
          ],
          [
           0.585134549
          ],
          [
           0.7105961159999999
          ],
          [
           0.040488789
          ],
          [
           0.568054311
          ],
          [
           0.321752928
          ],
          [
           0.611850232
          ],
          [
           0.926096887
          ],
          [
           0.618347428
          ],
          [
           0.667629785
          ],
          [
           0.39773346600000004
          ],
          [
           0.290875487
          ],
          [
           0.594375103
          ],
          [
           0.508255233
          ],
          [
           0.338571357
          ],
          [
           0.43230234700000003
          ],
          [
           0.302221978
          ],
          [
           0.87619819
          ],
          [
           0.080204492
          ],
          [
           0.092333532
          ],
          [
           0.09365644699999999
          ],
          [
           0.6084523510000001
          ],
          [
           0.732654598
          ],
          [
           0.944158855
          ],
          [
           0.26742308
          ],
          [
           0.731124201
          ],
          [
           0.661308553
          ],
          [
           0.38776626200000003
          ],
          [
           0.962585273
          ],
          [
           0.322067067
          ],
          [
           0.6340810929999999
          ],
          [
           0.475345002
          ],
          [
           0.35355897299999994
          ],
          [
           0.8859363159999999
          ],
          [
           0.876798106
          ],
          [
           0.221581064
          ],
          [
           0.394362449
          ],
          [
           0.8050356759999999
          ],
          [
           0.452898486
          ],
          [
           0.592520516
          ],
          [
           0.761026394
          ],
          [
           0.245049023
          ],
          [
           0.37213936299999995
          ],
          [
           0.681054822
          ],
          [
           0.7471431479999999
          ],
          [
           0.9207395290000001
          ],
          [
           0.097207945
          ],
          [
           0.699302998
          ],
          [
           0.721647006
          ],
          [
           0.5353561139999999
          ],
          [
           0.738293805
          ],
          [
           0.7064675509999999
          ],
          [
           0.67395061
          ],
          [
           0.7112122909999999
          ],
          [
           0.302558708
          ],
          [
           0.080097855
          ],
          [
           0.707010837
          ],
          [
           0.512248622
          ],
          [
           0.659627472
          ],
          [
           0.657559694
          ],
          [
           0.100645606
          ],
          [
           0.92665363
          ],
          [
           0.892879338
          ],
          [
           0.839157508
          ],
          [
           0.890959718
          ],
          [
           0.556754471
          ],
          [
           0.960361937
          ],
          [
           0.631037864
          ],
          [
           0.029838065
          ],
          [
           0.278843351
          ],
          [
           0.926157705
          ],
          [
           0.551504258
          ],
          [
           0.485942349
          ],
          [
           0.43723469600000003
          ],
          [
           0.25231801800000003
          ],
          [
           0.515466972
          ],
          [
           0.43725229600000004
          ],
          [
           0.493724207
          ],
          [
           0.83324725
          ],
          [
           0.317521477
          ],
          [
           0.28623456199999997
          ],
          [
           0.726833965
          ],
          [
           0.495667033
          ],
          [
           0.028645255
          ],
          [
           0.31967191699999997
          ],
          [
           0.674344598
          ],
          [
           0.7660371890000001
          ],
          [
           0.65456992
          ],
          [
           0.7565143809999999
          ],
          [
           0.528253719
          ],
          [
           0.38971949100000003
          ],
          [
           0.355087459
          ],
          [
           0.87015202
          ],
          [
           0.7390833059999999
          ],
          [
           0.305761846
          ],
          [
           0.411587673
          ],
          [
           0.063633094
          ],
          [
           0.735409395
          ],
          [
           0.605916669
          ],
          [
           0.539395562
          ],
          [
           0.566183532
          ],
          [
           0.674795186
          ],
          [
           0.070993366
          ],
          [
           0.12526410000000002
          ],
          [
           0.279601492
          ],
          [
           0.952174402
          ],
          [
           0.233806762
          ],
          [
           0.43724742899999997
          ],
          [
           0.925423095
          ],
          [
           0.433498634
          ],
          [
           0.52517902
          ],
          [
           0.088435529
          ],
          [
           0.447677638
          ],
          [
           0.647000631
          ],
          [
           0.9036033370000001
          ],
          [
           0.265790738
          ],
          [
           0.66419695
          ],
          [
           0.498120658
          ],
          [
           0.49018894399999996
          ],
          [
           0.747084187
          ],
          [
           0.906783648
          ],
          [
           0.678770917
          ],
          [
           0.348599859
          ],
          [
           0.294839683
          ],
          [
           0.705691827
          ],
          [
           0.211917931
          ],
          [
           0.063201124
          ],
          [
           0.276699543
          ],
          [
           0.672459395
          ],
          [
           0.8082059490000001
          ],
          [
           0.296538373
          ],
          [
           0.16012686199999998
          ],
          [
           0.439385032
          ],
          [
           0.555951416
          ],
          [
           0.386240112
          ],
          [
           0.158689619
          ],
          [
           0.214499855
          ],
          [
           0.299579429
          ],
          [
           0.569161656
          ],
          [
           0.488614799
          ],
          [
           0.8782950209999999
          ],
          [
           0.649380949
          ],
          [
           0.465713341
          ],
          [
           0.16813774
          ],
          [
           0.87529545
          ],
          [
           0.8411323409999999
          ],
          [
           0.33292081
          ],
          [
           0.5130478589999999
          ],
          [
           0.30505507800000004
          ],
          [
           0.8126269909999999
          ],
          [
           0.25096706
          ],
          [
           0.5024355779999999
          ],
          [
           0.45799074100000003
          ]
         ],
         "hoverlabel": {
          "namelength": 0
         },
         "hovertemplate": "0=%{x}<br>1=%{y}<br>2=%{z}<br>Feature=%{customdata[0]}<br>Label=%{marker.color}",
         "legendgroup": "",
         "marker": {
          "color": [
           0,
           0,
           1,
           1,
           0,
           0,
           0,
           1,
           1,
           1,
           0,
           1,
           0,
           0,
           1,
           0,
           0,
           0,
           0,
           0,
           1,
           0,
           0,
           1,
           1,
           1,
           0,
           0,
           1,
           1,
           0,
           0,
           0,
           1,
           1,
           1,
           0,
           0,
           0,
           0,
           0,
           0,
           0,
           1,
           0,
           0,
           0,
           0,
           0,
           0,
           0,
           1,
           0,
           1,
           0,
           1,
           0,
           0,
           0,
           1,
           0,
           0,
           0,
           1,
           0,
           0,
           1,
           0,
           0,
           0,
           0,
           0,
           0,
           0,
           0,
           0,
           0,
           0,
           0,
           0,
           0,
           0,
           0,
           0,
           0,
           0,
           0,
           0,
           0,
           0,
           0,
           0,
           0,
           0,
           0,
           0,
           0,
           0,
           0,
           0,
           0,
           0,
           0,
           0,
           0,
           0,
           0,
           0,
           0,
           0,
           0,
           0,
           0,
           0,
           0,
           0,
           0,
           0,
           0,
           0,
           0,
           0,
           0,
           0,
           0,
           0,
           0,
           0,
           0,
           0,
           1,
           0,
           0,
           0,
           0,
           0,
           0,
           0,
           0,
           0,
           0,
           0,
           0,
           0,
           0,
           0,
           0,
           0,
           0,
           0,
           0,
           0,
           0,
           0,
           0,
           0,
           0,
           0,
           0,
           0,
           0,
           0,
           0,
           0,
           0,
           0,
           0,
           0,
           0,
           0,
           0,
           0,
           0,
           0,
           0,
           0,
           0,
           0,
           0,
           0,
           0,
           0,
           0,
           0,
           1,
           0,
           0,
           0,
           0,
           0,
           0,
           0,
           0,
           0,
           0,
           0,
           0,
           0,
           1,
           0,
           0,
           0,
           0,
           0,
           0,
           0,
           0,
           0,
           0,
           0,
           0,
           0,
           0,
           0,
           0,
           0,
           0,
           0,
           0,
           0,
           0,
           0,
           0,
           0,
           0,
           0,
           0,
           0,
           0,
           1,
           0,
           0,
           0,
           0,
           0,
           0,
           0,
           0,
           0,
           0,
           0,
           0,
           0,
           0,
           0,
           0,
           0,
           0,
           0,
           0,
           0,
           0,
           0,
           0,
           0,
           0,
           1,
           0,
           0,
           0,
           0,
           0,
           0,
           0,
           0,
           0,
           0,
           0,
           0,
           0,
           0,
           0,
           0,
           0,
           0,
           0,
           0,
           0,
           0,
           0,
           0,
           0,
           0,
           0,
           0,
           0,
           0,
           0,
           0,
           0,
           0,
           0,
           0,
           0,
           0,
           0,
           0,
           0,
           0,
           0,
           0,
           0,
           0,
           0,
           0,
           0,
           0,
           0,
           0,
           0,
           0,
           0,
           0,
           0,
           0,
           0,
           0,
           0,
           0,
           0,
           0,
           0,
           0,
           0,
           0,
           0,
           0,
           0,
           0,
           0,
           0,
           0,
           0,
           0,
           0,
           0,
           0,
           0,
           0,
           0,
           0,
           0,
           0,
           0,
           0,
           0,
           0,
           0,
           0,
           0,
           0,
           0,
           0,
           0,
           0,
           0,
           0,
           0,
           0,
           0,
           0,
           0,
           0,
           0,
           0,
           0,
           0,
           0,
           0,
           0,
           0,
           0,
           0,
           0,
           0,
           0,
           0,
           0,
           0,
           0,
           0,
           0,
           0,
           0,
           0,
           0,
           0,
           0,
           0,
           0,
           0,
           0,
           1,
           0,
           0,
           0,
           0,
           0,
           0,
           0,
           0,
           0,
           0,
           0,
           0,
           0,
           0,
           0,
           0,
           0,
           0,
           0,
           0,
           0,
           0,
           0,
           0,
           0,
           0,
           0,
           0,
           0,
           0,
           0,
           0,
           0,
           0,
           0,
           0,
           0,
           0,
           0,
           0,
           0,
           0,
           0,
           0,
           0,
           0,
           0,
           0,
           0,
           0,
           0,
           0,
           0,
           0,
           0,
           0,
           0,
           0,
           0,
           0,
           0,
           0,
           0,
           0,
           0,
           0,
           0,
           0,
           0,
           0,
           0,
           0,
           0,
           0,
           0,
           0,
           0,
           0,
           0,
           0,
           0,
           1,
           0,
           0,
           0,
           0,
           0,
           0,
           0,
           0,
           0,
           0,
           0,
           0,
           0,
           0,
           0,
           0,
           0,
           0,
           0,
           0,
           0,
           0,
           0,
           0,
           0,
           0,
           0,
           0,
           0,
           0,
           0,
           0,
           0,
           0,
           0,
           0,
           0,
           0,
           0,
           0,
           1,
           0,
           0,
           0,
           0,
           0,
           0,
           0,
           1,
           0,
           0,
           0,
           0,
           0,
           0,
           0,
           0,
           0,
           0,
           0,
           0,
           0,
           0,
           0,
           0,
           0,
           0,
           0,
           0,
           0,
           0,
           0,
           0,
           0,
           0,
           0,
           0,
           0,
           0,
           0,
           0,
           0,
           0,
           0,
           0,
           0,
           0,
           0,
           0,
           0,
           0,
           0,
           0,
           0,
           0,
           0,
           0,
           0,
           0,
           0,
           0,
           0,
           0,
           0,
           0,
           0,
           0,
           0,
           0,
           0,
           0,
           0,
           0,
           0,
           0,
           0,
           0,
           0,
           0,
           0,
           0,
           0,
           0,
           0,
           0,
           0,
           0,
           1,
           0,
           0,
           0,
           0,
           0,
           0,
           0,
           0,
           0,
           0,
           0,
           0,
           0,
           0,
           0,
           0,
           0,
           0,
           0,
           0,
           0,
           0,
           0,
           0,
           0,
           0,
           0,
           0,
           0,
           0,
           0,
           0,
           0,
           0,
           0,
           0,
           0,
           0,
           0,
           0,
           0,
           0,
           0,
           0,
           0,
           0,
           0,
           0,
           0,
           0,
           0,
           0,
           0,
           0,
           0,
           0,
           0,
           0,
           0,
           0,
           0,
           0,
           0,
           0,
           0,
           0,
           0,
           0,
           0,
           0,
           0,
           0,
           0,
           0,
           0,
           0,
           0,
           1,
           0,
           0,
           0,
           0,
           0,
           0,
           0,
           0,
           0,
           0,
           0,
           0,
           0,
           0,
           0,
           0,
           0,
           0,
           0,
           1,
           1,
           0,
           1,
           0,
           0,
           0,
           0,
           1,
           0,
           1,
           0,
           0,
           1,
           0,
           0,
           1,
           1,
           1,
           0,
           1,
           0,
           1,
           0,
           1,
           0,
           0,
           0,
           0,
           0,
           0,
           0,
           0,
           0,
           0,
           0,
           0,
           0,
           0,
           0,
           0,
           0,
           0,
           1,
           0,
           0,
           0,
           0,
           0,
           0,
           0,
           0,
           0,
           0,
           0,
           0,
           0,
           0,
           0,
           0,
           0,
           0,
           0,
           0,
           0,
           0,
           0,
           0,
           0,
           1,
           0,
           0,
           0,
           0,
           0,
           0,
           0,
           0,
           0,
           0,
           0,
           0,
           0,
           0,
           0,
           0,
           0,
           0,
           0,
           0,
           1,
           0,
           0,
           0,
           0,
           0,
           0,
           0,
           0,
           0,
           0,
           0,
           0,
           0,
           0,
           0,
           0,
           0,
           0,
           0,
           0,
           0,
           0,
           0,
           0,
           0,
           0,
           0,
           0,
           0,
           0,
           0,
           0,
           0,
           0,
           0,
           0,
           0,
           0,
           0,
           0,
           0,
           0,
           0,
           0,
           0,
           0,
           0,
           0,
           0,
           0,
           0,
           0,
           0,
           0,
           0,
           0,
           0,
           0,
           0,
           0,
           0,
           0,
           0,
           0,
           0,
           0,
           0,
           0,
           0,
           0,
           0,
           0,
           0,
           0,
           0,
           0,
           0,
           0,
           0,
           0,
           0,
           0,
           0,
           0,
           0,
           0,
           0,
           0,
           0,
           0,
           0,
           0,
           0,
           0,
           0,
           0,
           0,
           0,
           0,
           0,
           0,
           1,
           0,
           0,
           0,
           0,
           0,
           0,
           0,
           0,
           0,
           0,
           0,
           0,
           0,
           0,
           0,
           0,
           0,
           0,
           0,
           0,
           0,
           0,
           0,
           0,
           0,
           0,
           0,
           0,
           0,
           0,
           0,
           0,
           0,
           0,
           0,
           0,
           0,
           0,
           0,
           0,
           0,
           0,
           0,
           0,
           0,
           0,
           0,
           0,
           0,
           0,
           0,
           0,
           0,
           0,
           0,
           0,
           0,
           0,
           0,
           0,
           0,
           0,
           0,
           0,
           0,
           0,
           0,
           0,
           0,
           0,
           0,
           0,
           0,
           0,
           0,
           0,
           0,
           0,
           0,
           0,
           0,
           0,
           0,
           0,
           0,
           0,
           0,
           0,
           0,
           0,
           0,
           0,
           0,
           0,
           0,
           0,
           0,
           0,
           0,
           0,
           0,
           0,
           0,
           0,
           0,
           0,
           0
          ],
          "coloraxis": "coloraxis",
          "opacity": 0.7,
          "symbol": "circle"
         },
         "mode": "markers",
         "name": "",
         "scene": "scene",
         "showlegend": false,
         "type": "scatter3d",
         "x": [
          -2.228860378265381,
          12.577690124511719,
          -6.284041881561279,
          1.0664464235305786,
          -11.581093788146973,
          0.061776380985975266,
          11.80321216583252,
          -1.7860677242279053,
          6.665760517120361,
          5.480420112609863,
          -5.0728607177734375,
          -6.056686878204346,
          -2.5350589752197266,
          0.7800741791725159,
          -4.067188262939453,
          -1.7820029258728027,
          -2.536381959915161,
          13.020743370056152,
          -4.961194038391113,
          -4.5940775871276855,
          0.7637779116630554,
          -5.052568435668945,
          -11.986549377441406,
          7.190486907958984,
          -3.833418369293213,
          -3.0574066638946533,
          -5.653205394744873,
          3.098292112350464,
          -1.1090384721755981,
          -0.6062548756599426,
          4.191065311431885,
          8.097227096557617,
          -1.4465992450714111,
          -2.2245774269104004,
          5.710297584533691,
          -3.4185571670532227,
          3.2720532417297363,
          2.9436776638031006,
          -5.27417516708374,
          -0.5529140830039978,
          4.5307183265686035,
          -2.259774923324585,
          4.502655029296875,
          -4.5110321044921875,
          -3.511200428009033,
          -1.1528126001358032,
          -2.622183322906494,
          6.914196014404297,
          -5.936248779296875,
          8.829246520996094,
          -2.6650643348693848,
          -3.4123096466064453,
          4.250076770782471,
          -1.2248814105987549,
          -1.8415939807891846,
          3.410785436630249,
          4.442391395568848,
          3.6355230808258057,
          -2.064091920852661,
          -4.717880725860596,
          9.795024871826172,
          9.844907760620117,
          -7.461899280548096,
          -1.9638402462005615,
          1.4574438333511353,
          -2.1068437099456787,
          8.499433517456055,
          13.186751365661621,
          -6.433034896850586,
          -5.404757022857666,
          -3.5575754642486572,
          0.565438449382782,
          -5.9639129638671875,
          -1.7431271076202393,
          -4.563520908355713,
          -3.6728808879852295,
          -6.960380554199219,
          -3.928337335586548,
          -6.278783798217773,
          -4.240365028381348,
          -3.735497236251831,
          -5.372715950012207,
          -10.77950382232666,
          10.388039588928223,
          9.598977088928223,
          7.780372142791748,
          5.925422668457031,
          10.959521293640137,
          5.694258689880371,
          -7.302033424377441,
          -5.845822334289551,
          -4.141200065612793,
          4.423626899719238,
          11.264847755432129,
          5.199147701263428,
          -6.528317451477051,
          1.9234213829040527,
          7.417201519012451,
          11.716373443603516,
          -7.903291702270508,
          -6.382229328155518,
          7.955598831176758,
          7.938965797424316,
          4.403183460235596,
          -6.427404880523682,
          -0.05155203863978386,
          1.1867425441741943,
          6.522663116455078,
          -3.7050516605377197,
          -2.919398546218872,
          -8.393109321594238,
          -7.503132343292236,
          -6.478385925292969,
          -2.5552279949188232,
          -8.517919540405273,
          -7.137053966522217,
          7.392452239990234,
          11.36262035369873,
          -0.4622538089752197,
          12.740541458129883,
          -7.0482096672058105,
          4.7055768966674805,
          5.866647720336914,
          3.8876819610595703,
          11.61674976348877,
          10.637139320373535,
          5.698704719543457,
          0.21383816003799438,
          9.836324691772461,
          10.47905158996582,
          8.068517684936523,
          2.6401140689849854,
          -1.4496777057647705,
          9.07526683807373,
          7.9957475662231445,
          -1.4053541421890259,
          -10.626839637756348,
          0.8024660348892212,
          9.552774429321289,
          3.761972427368164,
          -2.126093626022339,
          -6.6720781326293945,
          5.230596542358398,
          -10.43778133392334,
          13.158466339111328,
          -1.8854684829711914,
          -3.8349618911743164,
          8.443531036376953,
          10.657323837280273,
          1.7222236394882202,
          -8.820014953613281,
          -5.141743183135986,
          4.525584697723389,
          5.713095188140869,
          -5.170064449310303,
          2.084984064102173,
          1.8008155822753906,
          4.86546516418457,
          -5.223818778991699,
          -2.777992010116577,
          8.523974418640137,
          8.39171028137207,
          -8.146801948547363,
          -6.152288913726807,
          -1.4286847114562988,
          6.785032749176025,
          -1.2168139219284058,
          -1.0761562585830688,
          -6.640590667724609,
          12.883835792541504,
          1.2415940761566162,
          6.786478042602539,
          -4.459128379821777,
          -9.086247444152832,
          8.887572288513184,
          10.010730743408203,
          -3.058973550796509,
          -8.448216438293457,
          10.297499656677246,
          1.4147157669067383,
          6.365427494049072,
          -6.308582782745361,
          6.445900917053223,
          -0.11816973984241486,
          -0.5107977986335754,
          8.516667366027832,
          -4.525557518005371,
          8.073786735534668,
          -2.3209803104400635,
          -5.361998558044434,
          7.947316646575928,
          -10.060263633728027,
          -4.096883296966553,
          -8.508841514587402,
          5.687998294830322,
          10.304128646850586,
          5.590212345123291,
          4.851978778839111,
          -7.3629021644592285,
          10.876814842224121,
          6.194421768188477,
          2.4633097648620605,
          6.687450408935547,
          -10.62108039855957,
          -7.464133262634277,
          7.7397918701171875,
          -5.212975978851318,
          6.588122367858887,
          -5.879024028778076,
          7.969080448150635,
          9.291686058044434,
          -6.478931903839111,
          -3.575086832046509,
          -7.745131969451904,
          4.79288911819458,
          6.871504783630371,
          8.63042163848877,
          -4.6563801765441895,
          -5.01506233215332,
          5.237311840057373,
          -7.312736511230469,
          8.627803802490234,
          -9.503497123718262,
          -4.359610557556152,
          6.852203369140625,
          -5.591213703155518,
          2.9395694732666016,
          -1.6989539861679077,
          7.549280166625977,
          -8.624635696411133,
          10.241083145141602,
          4.216075897216797,
          0.20630905032157898,
          1.016715168952942,
          11.546416282653809,
          8.202818870544434,
          4.153412818908691,
          -4.537341594696045,
          0.24021901190280914,
          -8.787294387817383,
          6.448633193969727,
          5.494231700897217,
          -8.05835247039795,
          10.791607856750488,
          -1.373557448387146,
          7.241780757904053,
          -2.0902936458587646,
          -8.330763816833496,
          2.902975559234619,
          -11.640986442565918,
          7.684759616851807,
          7.247178554534912,
          0.6474030613899231,
          8.369217872619629,
          -0.47436124086380005,
          7.217154026031494,
          -2.570347547531128,
          9.807963371276855,
          -8.782440185546875,
          13.281484603881836,
          -9.193435668945312,
          7.51889705657959,
          -10.480064392089844,
          7.190901756286621,
          6.0895795822143555,
          10.8956298828125,
          0.44106265902519226,
          6.597700595855713,
          -3.726874828338623,
          3.3947043418884277,
          5.939929008483887,
          7.019020080566406,
          -3.23854398727417,
          -9.022148132324219,
          -2.0977320671081543,
          7.815726280212402,
          -6.202154636383057,
          -9.952970504760742,
          7.104217529296875,
          -2.108586549758911,
          3.7092318534851074,
          -9.0183687210083,
          -0.920403778553009,
          -1.6809030771255493,
          -8.04576587677002,
          8.554597854614258,
          10.173012733459473,
          8.933881759643555,
          9.28424072265625,
          -6.6336565017700195,
          -8.353789329528809,
          7.341463565826416,
          0.9848350882530212,
          8.672761917114258,
          10.33313274383545,
          -4.177332401275635,
          -3.3769326210021973,
          -7.095172882080078,
          2.498406410217285,
          -2.980109214782715,
          8.603407859802246,
          10.105408668518066,
          -2.603764533996582,
          -0.9231515526771545,
          -3.2498552799224854,
          -6.51222038269043,
          6.369877815246582,
          -6.7589521408081055,
          5.029234886169434,
          -0.21070559322834015,
          -0.7639937996864319,
          7.4884562492370605,
          -6.722894191741943,
          -9.02753734588623,
          5.641104221343994,
          -3.8988897800445557,
          12.600533485412598,
          10.727083206176758,
          -6.494339466094971,
          6.275482654571533,
          7.847968578338623,
          -4.1720099449157715,
          0.8303453922271729,
          8.410205841064453,
          -7.975577354431152,
          -4.16532039642334,
          1.4307318925857544,
          -0.46772512793540955,
          -7.711073875427246,
          -2.8685178756713867,
          6.435379981994629,
          -6.308261871337891,
          8.144577026367188,
          0.8788028359413147,
          11.071372032165527,
          -7.359241962432861,
          9.859606742858887,
          -0.9605051279067993,
          -4.163904190063477,
          -7.3860554695129395,
          -1.8209633827209473,
          -1.5845606327056885,
          -0.5122547149658203,
          6.39533805847168,
          -1.3870751857757568,
          -9.132806777954102,
          9.054706573486328,
          6.7995405197143555,
          -0.3775201141834259,
          -5.9179840087890625,
          7.474891662597656,
          -2.6563541889190674,
          13.400883674621582,
          6.667248249053955,
          10.183691024780273,
          -1.3163478374481201,
          4.737542629241943,
          9.783074378967285,
          -5.520617961883545,
          -4.508260250091553,
          11.6054048538208,
          7.5387773513793945,
          2.716801643371582,
          5.577029705047607,
          0.07224529981613159,
          -8.244250297546387,
          -2.266157627105713,
          8.780436515808105,
          9.23017406463623,
          6.247762203216553,
          5.963048458099365,
          6.282208442687988,
          -8.001664161682129,
          -5.871500015258789,
          0.8751677870750427,
          2.6529674530029297,
          -6.1106157302856445,
          -2.1992945671081543,
          6.047807216644287,
          -5.41538667678833,
          -2.2810375690460205,
          2.9841725826263428,
          -4.269057750701904,
          -5.390401363372803,
          11.07370376586914,
          1.7590653896331787,
          0.5961273908615112,
          1.470776915550232,
          9.900223731994629,
          -7.925904273986816,
          8.778279304504395,
          1.463727355003357,
          -4.974360466003418,
          -4.6041975021362305,
          12.07699203491211,
          6.723720073699951,
          -0.09763072431087494,
          -0.8225705623626709,
          -4.196243762969971,
          -1.4012510776519775,
          12.774786949157715,
          8.275148391723633,
          7.773645877838135,
          7.319730281829834,
          -0.5774207711219788,
          7.228987693786621,
          -6.29643440246582,
          2.075887680053711,
          -3.6559102535247803,
          4.994998931884766,
          10.199211120605469,
          -5.716163158416748,
          -4.832282543182373,
          -7.3088297843933105,
          7.733158111572266,
          4.341042995452881,
          11.168532371520996,
          11.262199401855469,
          -0.5002861022949219,
          -8.833702087402344,
          -8.111064910888672,
          3.8313612937927246,
          8.38663387298584,
          11.013618469238281,
          -6.42587947845459,
          8.443536758422852,
          10.538613319396973,
          -3.0518782138824463,
          -5.030318260192871,
          -6.952258110046387,
          -6.924302101135254,
          9.580366134643555,
          10.569820404052734,
          -0.8451346158981323,
          -3.901481866836548,
          7.015557289123535,
          12.98424243927002,
          -8.3756103515625,
          -4.262188911437988,
          -6.891494274139404,
          -0.5213068127632141,
          -7.007541656494141,
          -7.730127811431885,
          -7.763887405395508,
          5.139947414398193,
          -3.8238468170166016,
          -2.762456178665161,
          6.400289058685303,
          -10.27739429473877,
          -6.054440021514893,
          8.501155853271484,
          -10.062939643859863,
          3.59672474861145,
          -7.083093166351318,
          -5.621299743652344,
          5.715819835662842,
          8.825089454650879,
          -10.103282928466797,
          -6.252643585205078,
          -5.308992385864258,
          11.622617721557617,
          -7.238418102264404,
          4.855252742767334,
          -2.7296783924102783,
          6.384557247161865,
          -5.849569320678711,
          -3.3341310024261475,
          -2.8378279209136963,
          7.205883026123047,
          -7.4355387687683105,
          -6.625311851501465,
          13.54342269897461,
          5.403909683227539,
          -2.6984589099884033,
          2.4192380905151367,
          6.4663920402526855,
          10.256486892700195,
          -3.0053820610046387,
          -0.5416362881660461,
          11.298141479492188,
          5.216236591339111,
          9.488368034362793,
          -2.442330837249756,
          -8.107684135437012,
          8.051945686340332,
          -8.418233871459961,
          5.8400044441223145,
          -5.359523296356201,
          -1.6789876222610474,
          -9.731755256652832,
          -8.097864151000977,
          -4.748932838439941,
          -5.9891839027404785,
          -2.706448554992676,
          -7.841117858886719,
          -3.6377906799316406,
          4.7841267585754395,
          -3.875110387802124,
          6.171699047088623,
          -7.6170854568481445,
          9.58953857421875,
          3.339539051055908,
          -4.781579971313477,
          5.937280654907227,
          -4.5378289222717285,
          -9.677632331848145,
          -5.9769439697265625,
          7.356753826141357,
          -6.217166900634766,
          -7.08273983001709,
          -9.571218490600586,
          5.545504570007324,
          5.166569709777832,
          -6.629425048828125,
          -6.07865571975708,
          5.356722831726074,
          7.249211311340332,
          -6.044473648071289,
          7.611853122711182,
          5.586456298828125,
          -7.581165790557861,
          -10.296512603759766,
          -7.094371795654297,
          -7.65621280670166,
          -5.90174674987793,
          6.293210029602051,
          -4.781857967376709,
          10.025630950927734,
          9.04805850982666,
          -4.80477237701416,
          7.773828506469727,
          -3.4395763874053955,
          -2.413374423980713,
          5.850276947021484,
          -5.0739054679870605,
          -1.191658854484558,
          5.689640522003174,
          -10.00041675567627,
          0.823623538017273,
          3.732814073562622,
          5.018153190612793,
          -3.4325644969940186,
          9.924915313720703,
          10.543179512023926,
          7.122711658477783,
          -1.7940278053283691,
          -1.312641978263855,
          -1.8797876834869385,
          -3.2232627868652344,
          -1.098804235458374,
          3.8672568798065186,
          -2.0887653827667236,
          -7.445903778076172,
          -5.15367317199707,
          7.333438396453857,
          9.551985740661621,
          -3.061774730682373,
          -4.114645004272461,
          0.618176281452179,
          7.427008152008057,
          -8.113567352294922,
          -4.859651565551758,
          7.621906280517578,
          -5.254582405090332,
          11.200140953063965,
          -4.488792419433594,
          7.718145847320557,
          3.2890071868896484,
          -5.064964771270752,
          -6.132907867431641,
          -3.6138432025909424,
          -5.408923149108887,
          -1.3277924060821533,
          -6.166964530944824,
          9.598068237304688,
          -1.5898544788360596,
          11.457622528076172,
          10.56515884399414,
          -2.0173983573913574,
          -8.107250213623047,
          -7.244853496551514,
          -8.027791023254395,
          -5.922192573547363,
          11.195801734924316,
          4.911828994750977,
          -5.059798240661621,
          -4.117822647094727,
          1.8242607116699219,
          7.289655685424805,
          -2.5248639583587646,
          8.25462818145752,
          4.960574626922607,
          6.3531575202941895,
          -1.142791748046875,
          5.322380542755127,
          5.2353196144104,
          -0.2924994230270386,
          -3.5801148414611816,
          -3.6744062900543213,
          -7.840586185455322,
          -0.39333823323249817,
          5.421979904174805,
          -7.735016822814941,
          10.226202011108398,
          -4.713062763214111,
          9.617226600646973,
          -1.0414689779281616,
          -6.903735637664795,
          12.369473457336426,
          9.509881973266602,
          -7.031464576721191,
          -7.2827558517456055,
          -8.250550270080566,
          -2.9956531524658203,
          -1.4674179553985596,
          7.138277530670166,
          5.339495658874512,
          4.853397369384766,
          12.192168235778809,
          -4.381965637207031,
          3.9707021713256836,
          5.102185249328613,
          7.037681579589844,
          7.375735282897949,
          -7.118437767028809,
          -3.172290563583374,
          8.481939315795898,
          -9.141013145446777,
          3.373732328414917,
          -3.1567561626434326,
          7.472964286804199,
          5.354548931121826,
          -6.356005668640137,
          -10.49884033203125,
          -7.250772476196289,
          0.6024205088615417,
          -8.425726890563965,
          4.140701770782471,
          -5.828146457672119,
          4.564270973205566,
          -7.399039268493652,
          7.738222122192383,
          10.146627426147461,
          -5.996638298034668,
          -6.9172773361206055,
          -8.735573768615723,
          -6.8157219886779785,
          -1.179423451423645,
          -4.291281700134277,
          -3.932753086090088,
          2.9161412715911865,
          8.283365249633789,
          3.7547802925109863,
          -0.8541553020477295,
          9.738603591918945,
          8.349492073059082,
          -9.022758483886719,
          -2.025482177734375,
          1.960820198059082,
          -3.2068355083465576,
          -2.3669509887695312,
          4.546800136566162,
          6.261682033538818,
          -2.8199663162231445,
          -2.819380044937134,
          4.224338054656982,
          0.7361573576927185,
          9.223808288574219,
          4.822003364562988,
          9.21163272857666,
          4.204482078552246,
          -1.0353832244873047,
          7.370240688323975,
          3.441171169281006,
          -3.350825071334839,
          3.7656424045562744,
          8.93793773651123,
          -5.9298295974731445,
          -1.6874769926071167,
          9.060079574584961,
          -6.695617198944092,
          4.706357955932617,
          -2.0496416091918945,
          -4.384429931640625,
          8.859667778015137,
          9.00092887878418,
          -2.147017002105713,
          5.72753381729126,
          -4.672123908996582,
          -0.8588306903839111,
          -3.162719488143921,
          -1.3574309349060059,
          -4.692991256713867,
          5.996997356414795,
          -4.751346111297607,
          -2.3552205562591553,
          -4.566289901733398,
          -5.680476665496826,
          -5.920840263366699,
          -5.013506889343262,
          5.01333475112915,
          5.40548038482666,
          0.7417052388191223,
          -1.0807722806930542,
          -0.763154923915863,
          4.271848201751709,
          -2.9482455253601074,
          -9.166050910949707,
          2.999305009841919,
          -4.885488510131836,
          -2.2702016830444336,
          4.219018459320068,
          13.675496101379395,
          -2.931995391845703,
          -1.33631432056427,
          -4.899499893188477,
          0.2951313555240631,
          -0.46589964628219604,
          -1.4756630659103394,
          2.8482046127319336,
          -5.05361270904541,
          5.405726432800293,
          4.968311786651611,
          -3.3207156658172607,
          10.769630432128906,
          -1.4285614490509033,
          -6.301051616668701,
          -2.272688150405884,
          1.905642032623291,
          -0.5522622466087341,
          9.283080101013184,
          -7.0453715324401855,
          3.6188926696777344,
          13.53640079498291,
          7.826632976531982,
          -5.618253707885742,
          -7.340961456298828,
          -7.5522637367248535,
          -6.618430137634277,
          -7.0830512046813965,
          1.7073698043823242,
          -2.4952657222747803,
          -2.3216395378112793,
          -7.577926158905029,
          -4.237790584564209,
          -7.079353332519531,
          -7.3587446212768555,
          -5.592233657836914,
          -9.772319793701172,
          -2.835977077484131,
          11.80856990814209,
          -7.830564498901367,
          5.060678958892822,
          5.796876907348633,
          4.075202941894531,
          -8.392547607421875,
          -4.178523540496826,
          7.8032002449035645,
          -6.525744438171387,
          7.2298455238342285,
          -0.5227217078208923,
          7.515521049499512,
          1.9335323572158813,
          10.371767044067383,
          -3.6942825317382812,
          8.574275970458984,
          7.20864200592041,
          -9.15593433380127,
          10.868865966796875,
          -10.193160057067871,
          -3.9930667877197266,
          -0.32041600346565247,
          5.0448689460754395,
          10.159150123596191,
          -3.4547202587127686,
          5.5010294914245605,
          3.346820592880249,
          4.879302501678467,
          -6.277997016906738,
          -4.0279107093811035,
          -5.59103536605835,
          8.033931732177734,
          7.02197790145874,
          -8.522753715515137,
          -8.357047080993652,
          -1.7897549867630005,
          7.934512615203857,
          -3.3331189155578613,
          -5.494784355163574,
          -5.446815013885498,
          -0.22409318387508392,
          -3.6063053607940674,
          -8.12496566772461,
          -6.023895263671875,
          6.321352958679199,
          6.790988445281982,
          3.744568109512329,
          -10.049747467041016,
          -6.504160404205322,
          8.556523323059082,
          4.932275772094727,
          1.9385453462600708,
          8.350805282592773,
          11.745229721069336,
          -8.892029762268066,
          7.835700511932373,
          5.825870990753174,
          8.836295127868652,
          -2.5053060054779053,
          6.524092197418213,
          -8.538926124572754,
          -6.74479341506958,
          -6.14680814743042,
          -7.559772968292236,
          6.974421977996826,
          -10.092184066772461,
          8.075923919677734,
          -2.051757335662842,
          -2.9584460258483887,
          -1.2122156620025635,
          -5.286823272705078,
          -9.221075057983398,
          -7.157975196838379,
          9.330208778381348,
          5.368824005126953,
          13.37731647491455,
          -2.687148094177246,
          -5.29838752746582,
          -5.405529022216797,
          -4.065643787384033,
          9.817110061645508,
          -4.68197774887085,
          -6.857534885406494,
          -6.200590133666992,
          -10.540870666503906,
          -4.2465081214904785,
          -7.757180213928223,
          -10.742093086242676,
          -6.058905601501465,
          6.059488296508789,
          -6.463338851928711,
          4.471274375915527,
          -0.6409196853637695,
          7.3615241050720215,
          10.032334327697754,
          -4.24730110168457,
          5.1063337326049805,
          -6.738753795623779,
          -8.579696655273438,
          11.880921363830566,
          -2.90543270111084,
          -8.541109085083008,
          6.166356086730957,
          -6.710350036621094,
          9.58586597442627,
          4.581825256347656,
          7.336939811706543,
          -3.0408051013946533,
          -5.821531295776367,
          -8.220337867736816,
          -5.7702956199646,
          -4.892439365386963,
          8.43964672088623,
          -7.429684162139893,
          5.793053150177002,
          0.5302321314811707,
          10.975873947143555,
          -5.473518371582031,
          -4.290376663208008,
          -6.809387683868408,
          -5.876906871795654,
          3.907668113708496,
          6.010889053344727,
          -8.832857131958008,
          5.421226978302002,
          1.3719079494476318,
          11.600725173950195,
          6.102303981781006,
          -1.069534182548523,
          -7.111140727996826,
          -7.999663352966309,
          -9.6492919921875,
          -0.9823145270347595,
          1.6057754755020142,
          -1.0127335786819458,
          -5.827842712402344,
          -4.054805755615234,
          1.8879010677337646,
          -2.741255283355713,
          -5.394604206085205,
          -9.403769493103027,
          -0.49252957105636597,
          -6.89953088760376,
          -1.1131867170333862,
          0.42193037271499634,
          -5.353077411651611,
          -1.8295722007751465,
          9.260992050170898,
          9.186810493469238,
          8.73531723022461,
          8.919468879699707,
          7.655017375946045,
          4.645834922790527,
          -2.674808979034424,
          -8.183305740356445,
          -11.124557495117188,
          -3.0050270557403564,
          8.325562477111816,
          -6.706543922424316,
          -4.819650650024414,
          8.503301620483398,
          1.7814209461212158,
          4.11381721496582,
          -4.954191207885742,
          -7.027617454528809,
          -9.344313621520996,
          -0.2756063938140869,
          6.412850379943848,
          -3.6693925857543945,
          -5.533822536468506,
          -7.746467590332031,
          -1.1598901748657227,
          12.429618835449219,
          -2.6044092178344727,
          4.087840557098389,
          -9.072345733642578,
          6.670416355133057,
          -0.8603881001472473,
          2.7779178619384766,
          4.44109582901001,
          -9.98312759399414,
          5.0746355056762695,
          5.680584907531738,
          -2.663198471069336,
          -0.8766714930534363,
          -6.760722637176514,
          1.8180800676345825,
          -6.3540143966674805,
          10.862854957580566,
          -5.393723011016846,
          -5.617354393005371,
          7.989596366882324,
          -6.399173736572266,
          -3.7243547439575195,
          -7.270140171051025,
          -6.945712089538574,
          -8.074971199035645,
          -5.101841449737549,
          7.605972766876221,
          6.763376712799072,
          0.06297390908002853,
          2.1538078784942627,
          -1.8384231328964233,
          0.7197816967964172,
          1.5930795669555664,
          11.235686302185059,
          -4.951517581939697,
          -3.6368820667266846,
          -6.312007904052734,
          5.776294231414795,
          7.643830299377441,
          3.518845319747925,
          -8.287419319152832,
          -6.49079704284668,
          -1.9710875749588013,
          5.655033588409424,
          8.85398006439209,
          -4.629637718200684,
          -6.05420446395874,
          7.54987096786499,
          -5.054768085479736,
          -8.559288024902344,
          -1.5376036167144775,
          -8.974498748779297,
          -2.92891263961792,
          9.361671447753906,
          11.355582237243652,
          -5.789516925811768,
          3.7418737411499023,
          -3.8870227336883545,
          -6.731863021850586,
          -6.6592535972595215,
          -7.164330005645752,
          9.40520191192627,
          -5.207013130187988,
          8.018461227416992,
          5.956302642822266,
          -4.112168788909912,
          -5.4891557693481445,
          -8.484598159790039,
          -2.0049493312835693,
          -5.813067436218262,
          -9.15054988861084,
          -6.3687872886657715,
          -6.028939247131348,
          -1.1637102365493774,
          12.302079200744629,
          -5.344394683837891,
          -1.767267107963562,
          -7.409877777099609
         ],
         "y": [
          -8.883255958557129,
          6.047970771789551,
          -10.790406227111816,
          5.061140060424805,
          -11.38151741027832,
          2.5681657791137695,
          11.546904563903809,
          3.6685783863067627,
          -5.991124629974365,
          14.046464920043945,
          5.292952060699463,
          -11.87396240234375,
          10.025838851928711,
          -1.2375826835632324,
          -6.592548847198486,
          -7.552189826965332,
          9.993196487426758,
          6.495308876037598,
          -10.405658721923828,
          -11.297259330749512,
          2.273325204849243,
          -4.286865711212158,
          -6.705203056335449,
          -5.199796676635742,
          0.30036675930023193,
          -1.6774413585662842,
          -11.25582504272461,
          -3.651715040206909,
          -5.049694061279297,
          -3.2954554557800293,
          -5.492977619171143,
          5.746698379516602,
          0.11197247356176376,
          -5.994361877441406,
          -1.5244911909103394,
          -3.1583104133605957,
          8.117308616638184,
          -3.5312111377716064,
          -6.320224285125732,
          2.263620138168335,
          9.442543029785156,
          -3.1011667251586914,
          4.981630325317383,
          -0.5837031602859497,
          -3.7514617443084717,
          -8.112139701843262,
          -4.111227989196777,
          -5.472132205963135,
          -11.698281288146973,
          6.847743034362793,
          8.060256004333496,
          -9.413061141967773,
          -1.2796908617019653,
          -7.848847389221191,
          3.8113746643066406,
          11.188733100891113,
          12.802006721496582,
          7.925227642059326,
          -5.305333137512207,
          -8.417808532714844,
          -1.3811678886413574,
          1.1677137613296509,
          -5.03129768371582,
          -2.5813567638397217,
          6.908131122589111,
          -4.10068941116333,
          5.17542028427124,
          5.805266380310059,
          -10.694990158081055,
          3.1551640033721924,
          -1.8214473724365234,
          2.712047815322876,
          -7.935995101928711,
          7.267119407653809,
          -9.18397331237793,
          -4.960964202880859,
          -8.40284252166748,
          -3.4686191082000732,
          -5.303107738494873,
          -2.8046886920928955,
          -3.4548051357269287,
          -3.6702017784118652,
          -7.196410655975342,
          2.0579373836517334,
          8.430061340332031,
          2.327939033508301,
          7.259184837341309,
          8.625879287719727,
          0.6441736221313477,
          -4.720020294189453,
          -6.498652935028076,
          5.574830055236816,
          3.7023890018463135,
          11.924087524414062,
          9.738364219665527,
          -3.778644561767578,
          0.8621302843093872,
          2.6870975494384766,
          1.216050148010254,
          -7.567256450653076,
          -7.506858825683594,
          7.355350971221924,
          2.170957088470459,
          0.13389994204044342,
          -4.629244804382324,
          -0.7791441082954407,
          3.492821216583252,
          6.288625240325928,
          -8.397464752197266,
          -3.5645744800567627,
          -4.807216644287109,
          -5.805266380310059,
          7.522634506225586,
          -5.1411356925964355,
          -11.361440658569336,
          -3.222277879714966,
          13.04832649230957,
          12.21064567565918,
          6.001383304595947,
          2.5357792377471924,
          -2.9256458282470703,
          -1.011472225189209,
          4.817085266113281,
          6.872631072998047,
          0.47018781304359436,
          4.7531962394714355,
          8.21556282043457,
          4.108928203582764,
          7.555516719818115,
          3.5134780406951904,
          -1.5775786638259888,
          0.34332704544067383,
          7.559571743011475,
          9.634659767150879,
          8.71292781829834,
          -7.598311424255371,
          -8.548823356628418,
          6.780901908874512,
          5.4887189865112305,
          -1.5675281286239624,
          7.041368007659912,
          -2.9772698879241943,
          -0.2859291434288025,
          -8.995163917541504,
          3.1798062324523926,
          -1.9878898859024048,
          3.271723747253418,
          6.880021095275879,
          5.9220452308654785,
          0.32919663190841675,
          -4.789770603179932,
          -5.268361568450928,
          1.8454219102859497,
          0.3340080976486206,
          -5.665465354919434,
          1.9303680658340454,
          6.970463752746582,
          8.19709587097168,
          -6.426824569702148,
          5.834025859832764,
          12.994112014770508,
          -1.2827768325805664,
          -6.628867149353027,
          -3.516497850418091,
          4.131574630737305,
          7.788959980010986,
          7.309333324432373,
          -3.0327329635620117,
          -7.074863433837891,
          1.3444937467575073,
          3.620140790939331,
          1.7693150043487549,
          1.857735514640808,
          -10.205192565917969,
          -0.972494900226593,
          8.286643028259277,
          3.0570566654205322,
          -9.726983070373535,
          6.464864730834961,
          5.302060127258301,
          0.5183780789375305,
          1.7529500722885132,
          5.103709697723389,
          -0.9698368906974792,
          -2.380497694015503,
          13.33486557006836,
          -2.386194944381714,
          -0.8378102779388428,
          -3.874629020690918,
          -4.963179588317871,
          7.124009132385254,
          -10.190536499023438,
          5.876638889312744,
          -11.3745698928833,
          10.775875091552734,
          12.148750305175781,
          1.8437082767486572,
          5.933648109436035,
          -7.7620744705200195,
          0.03688164800405502,
          -2.5332460403442383,
          -0.5727249979972839,
          9.418248176574707,
          -7.421863555908203,
          -10.897838592529297,
          5.552175045013428,
          -0.8531780242919922,
          -1.9374258518218994,
          2.6210906505584717,
          7.376246929168701,
          0.06221085041761398,
          -2.1190125942230225,
          -5.312802314758301,
          -3.453521728515625,
          -1.06968355178833,
          0.4739711880683899,
          6.805586338043213,
          -2.525639533996582,
          -4.358666896820068,
          -2.6152265071868896,
          -11.605195045471191,
          4.560863018035889,
          -7.824962615966797,
          -7.875300407409668,
          9.465204238891602,
          -1.0239711999893188,
          5.26780891418457,
          -4.858736991882324,
          9.290650367736816,
          0.12475582957267761,
          11.048612594604492,
          4.155261993408203,
          5.548094749450684,
          6.291800022125244,
          1.1933588981628418,
          4.271864891052246,
          -4.719400405883789,
          -4.503202438354492,
          3.815314531326294,
          -9.881112098693848,
          -1.393620252609253,
          4.2024102210998535,
          -7.521841049194336,
          8.164074897766113,
          1.712827205657959,
          9.118175506591797,
          -5.4199538230896,
          -5.824152946472168,
          4.93263053894043,
          -7.362890243530273,
          -1.7574915885925293,
          -1.2980533838272095,
          2.5142006874084473,
          -1.0839661359786987,
          -1.0001795291900635,
          -5.446715831756592,
          -8.987102508544922,
          9.977449417114258,
          -0.36885181069374084,
          2.605360746383667,
          -8.257737159729004,
          -0.9967750310897827,
          -10.594719886779785,
          0.017061712220311165,
          -2.075230836868286,
          7.801464080810547,
          6.403476238250732,
          10.444764137268066,
          -8.171449661254883,
          4.472748756408691,
          5.656340599060059,
          10.747374534606934,
          -8.293486595153809,
          -7.855362892150879,
          4.708381175994873,
          2.424832820892334,
          -4.7138543128967285,
          -10.34371566772461,
          5.757938861846924,
          -3.750978946685791,
          5.570067405700684,
          -7.547940731048584,
          -3.027099847793579,
          -5.8568549156188965,
          -10.753605842590332,
          5.668447494506836,
          4.343022346496582,
          4.737846374511719,
          8.770403861999512,
          -8.678794860839844,
          -4.091156959533691,
          7.220274448394775,
          3.0832362174987793,
          5.1043782234191895,
          2.407757520675659,
          7.716330051422119,
          2.9894139766693115,
          -3.070866107940674,
          1.9335309267044067,
          -7.483231067657471,
          2.717160701751709,
          11.205633163452148,
          -3.4894800186157227,
          2.3667638301849365,
          1.3548119068145752,
          -7.7862067222595215,
          3.602290153503418,
          -6.782870292663574,
          8.486187934875488,
          -2.0300419330596924,
          -1.9584074020385742,
          7.14499044418335,
          1.076857328414917,
          -9.198615074157715,
          3.000744581222534,
          -8.907485008239746,
          1.176754355430603,
          9.250425338745117,
          -7.560377597808838,
          8.990594863891602,
          2.465972661972046,
          -7.142487525939941,
          3.9054386615753174,
          3.8824331760406494,
          -1.8393031358718872,
          -5.067514419555664,
          5.319211959838867,
          5.70680046081543,
          -5.080292701721191,
          2.5608677864074707,
          10.918220520019531,
          -2.933218479156494,
          1.2660048007965088,
          0.05621352046728134,
          8.451310157775879,
          -7.622091293334961,
          4.6764960289001465,
          -8.066886901855469,
          -2.317455530166626,
          -2.9011194705963135,
          -8.85428237915039,
          -3.0250864028930664,
          6.306495666503906,
          0.9108487367630005,
          3.7426342964172363,
          -5.976286888122559,
          9.764448165893555,
          9.85173225402832,
          4.672969818115234,
          -2.511819362640381,
          -2.240812063217163,
          -8.343955993652344,
          1.8351571559906006,
          10.560259819030762,
          4.324825763702393,
          -3.7221014499664307,
          -0.3730197250843048,
          2.9038400650024414,
          -2.8828628063201904,
          -3.221367359161377,
          4.6673126220703125,
          3.475888252258301,
          -5.402873516082764,
          6.994038105010986,
          4.489193916320801,
          -6.33492374420166,
          -4.7709856033325195,
          12.59671688079834,
          9.926063537597656,
          7.000541687011719,
          4.81910514831543,
          -1.1728814840316772,
          -9.373355865478516,
          -4.864687442779541,
          3.9108715057373047,
          6.51050329208374,
          -9.423956871032715,
          2.047496795654297,
          9.57593822479248,
          -3.146920919418335,
          5.366031169891357,
          -1.967598795890808,
          -9.476561546325684,
          -8.995240211486816,
          4.4746527671813965,
          0.9370852708816528,
          2.772599697113037,
          1.5840342044830322,
          -0.11501289904117584,
          -6.076241493225098,
          4.814798831939697,
          0.5632489323616028,
          -8.186572074890137,
          -4.806949138641357,
          1.4877547025680542,
          10.52946949005127,
          -1.0970797538757324,
          1.6306169033050537,
          -5.8598952293396,
          -4.8816609382629395,
          2.230379581451416,
          2.8950345516204834,
          6.887589931488037,
          5.856226921081543,
          1.2855234146118164,
          11.082906723022461,
          -8.875004768371582,
          -2.9808695316314697,
          6.999752998352051,
          4.663928031921387,
          6.044973850250244,
          -3.793429136276245,
          -4.897875785827637,
          -6.924476623535156,
          7.869293212890625,
          4.642681121826172,
          8.029242515563965,
          7.604297637939453,
          6.142272472381592,
          -5.908736705780029,
          -5.95067834854126,
          3.722517490386963,
          4.6071085929870605,
          4.181056976318359,
          -7.0826616287231445,
          8.967306137084961,
          10.861673355102539,
          1.9448524713516235,
          -7.950132846832275,
          -7.884430885314941,
          -3.6263906955718994,
          13.019097328186035,
          1.9327094554901123,
          1.9941515922546387,
          -2.481973171234131,
          0.4238912761211395,
          4.914179801940918,
          -8.506425857543945,
          -8.312567710876465,
          -11.048567771911621,
          -1.4064662456512451,
          -4.914583683013916,
          -11.226818084716797,
          -7.5355730056762695,
          0.4647197425365448,
          3.4751803874969482,
          -2.518913984298706,
          2.3231964111328125,
          -6.6487956047058105,
          1.857452154159546,
          3.5871219635009766,
          -8.855016708374023,
          6.60996150970459,
          -7.824882507324219,
          6.6067094802856445,
          8.83507251739502,
          -3.086085081100464,
          -8.460726737976074,
          -5.826788902282715,
          -5.024167060852051,
          4.512720584869385,
          -10.019259452819824,
          5.824441909790039,
          -4.852195739746094,
          -4.166753768920898,
          -6.478269100189209,
          -7.9637627601623535,
          -0.8078485131263733,
          8.086976051330566,
          -7.516132354736328,
          -2.5569875240325928,
          4.511425971984863,
          7.0608930587768555,
          -6.515229225158691,
          6.581274032592773,
          10.817797660827637,
          11.350088119506836,
          1.374551773071289,
          -8.083137512207031,
          6.845180511474609,
          7.583096027374268,
          2.644217014312744,
          0.5960683226585388,
          -6.338532447814941,
          13.177553176879883,
          -7.617885112762451,
          1.324569582939148,
          -8.708480834960938,
          -8.174080848693848,
          -10.634964942932129,
          -5.408814430236816,
          7.187405586242676,
          1.2295799255371094,
          -3.8109569549560547,
          -7.632410049438477,
          2.479525089263916,
          5.127384185791016,
          6.424780368804932,
          0.7920785546302795,
          -5.850051403045654,
          5.714245319366455,
          -3.933499813079834,
          -4.289885997772217,
          0.3384455442428589,
          -8.115976333618164,
          -9.97128963470459,
          -7.288430213928223,
          8.692634582519531,
          -8.671013832092285,
          1.6098498106002808,
          -11.231451988220215,
          8.279483795166016,
          3.2411890029907227,
          -2.7293589115142822,
          -4.050068378448486,
          3.1762778759002686,
          -0.842973530292511,
          -6.5964250564575195,
          -2.165733814239502,
          3.78397274017334,
          -7.380282402038574,
          -5.732022762298584,
          -1.0176929235458374,
          -4.639442443847656,
          -4.110872745513916,
          12.815256118774414,
          -9.440324783325195,
          11.187331199645996,
          -1.4912331104278564,
          -9.364981651306152,
          2.278855800628662,
          -4.452248573303223,
          7.274355411529541,
          4.290129661560059,
          6.584502220153809,
          -1.562122106552124,
          4.800687789916992,
          -7.686777591705322,
          -5.968127250671387,
          4.798311710357666,
          -1.8468871116638184,
          4.057171821594238,
          5.931201934814453,
          5.707735061645508,
          10.021682739257812,
          8.732550621032715,
          -1.2181251049041748,
          4.049434661865234,
          1.9791384935379028,
          -2.344388246536255,
          1.8109763860702515,
          -5.626167297363281,
          -10.02394962310791,
          -6.529618263244629,
          2.139256477355957,
          0.7790929079055786,
          7.172738075256348,
          -8.361312866210938,
          5.927419662475586,
          -5.505879878997803,
          -8.12079906463623,
          -4.498265743255615,
          2.900775909423828,
          3.844177722930908,
          3.8962247371673584,
          -1.9350658655166626,
          6.289618015289307,
          -3.775426149368286,
          2.050197124481201,
          5.125077247619629,
          -8.44559097290039,
          6.080582141876221,
          2.629844903945923,
          -2.5510711669921875,
          6.897719383239746,
          -2.023134708404541,
          7.681646347045898,
          8.88554859161377,
          -6.485640048980713,
          -3.093585968017578,
          -6.335089683532715,
          -4.64946174621582,
          -5.537187099456787,
          8.547067642211914,
          8.5040864944458,
          -0.5967512130737305,
          -9.45543384552002,
          5.551403045654297,
          10.976783752441406,
          -4.649087429046631,
          3.356644630432129,
          5.3910980224609375,
          -5.898687839508057,
          1.7030069828033447,
          -4.479738712310791,
          -0.8896353244781494,
          3.336174249649048,
          -4.969396114349365,
          1.5710251331329346,
          -7.639405250549316,
          6.721479892730713,
          -2.294402599334717,
          1.8607901334762573,
          12.125289916992188,
          3.440833330154419,
          5.84133243560791,
          5.114326477050781,
          -4.341362476348877,
          3.179072380065918,
          2.9153661727905273,
          -0.32613566517829895,
          -4.140002727508545,
          -7.81960391998291,
          -8.80046272277832,
          -4.755939960479736,
          4.07343053817749,
          0.8893921375274658,
          0.7837189435958862,
          0.8750525116920471,
          -9.300233840942383,
          -5.805019855499268,
          -0.19564229249954224,
          -1.796449065208435,
          -2.759678363800049,
          -5.09609317779541,
          1.1867718696594238,
          12.749317169189453,
          -12.12478256225586,
          -2.621321439743042,
          -4.623636722564697,
          -2.3857007026672363,
          5.334448337554932,
          -8.161972045898438,
          -6.422605037689209,
          -4.954163551330566,
          -6.125002861022949,
          -2.4702889919281006,
          -5.44273567199707,
          6.223300933837891,
          -4.852777481079102,
          -10.808494567871094,
          7.451180934906006,
          11.90306568145752,
          -3.0542285442352295,
          -4.00576639175415,
          -6.73660945892334,
          -8.071612358093262,
          -6.299288749694824,
          0.18441835045814514,
          -8.250232696533203,
          5.214822292327881,
          6.0051751136779785,
          -2.1039910316467285,
          7.31295108795166,
          8.250712394714355,
          4.49849271774292,
          -7.563477993011475,
          -6.442225933074951,
          0.30836886167526245,
          -3.332504987716675,
          -2.1719648838043213,
          -0.18825103342533112,
          -4.353219032287598,
          -8.204853057861328,
          3.902539014816284,
          -4.770908832550049,
          7.027116298675537,
          9.79869270324707,
          6.1993818283081055,
          7.488409996032715,
          -1.8594223260879517,
          -3.130828619003296,
          -0.6139714121818542,
          -4.9943060874938965,
          4.684444904327393,
          2.8615779876708984,
          7.246868133544922,
          7.8927836418151855,
          2.976775646209717,
          9.592596054077148,
          -6.571683406829834,
          5.339033603668213,
          -8.804022789001465,
          2.0613152980804443,
          2.137260913848877,
          7.972126007080078,
          -0.9466544985771179,
          9.737385749816895,
          5.5020318031311035,
          -2.906373977661133,
          2.4438984394073486,
          -1.3427484035491943,
          -4.551858425140381,
          0.5851168036460876,
          7.523678779602051,
          7.440059661865234,
          -3.651364803314209,
          -1.02751886844635,
          -6.198921203613281,
          -2.3814635276794434,
          -0.2564668655395508,
          0.17615750432014465,
          -1.2239397764205933,
          -5.074277877807617,
          -4.189669609069824,
          10.897218704223633,
          4.89601993560791,
          -2.1604208946228027,
          -6.695102214813232,
          -0.47499850392341614,
          -5.477749824523926,
          7.785640716552734,
          2.0191268920898438,
          -1.5192837715148926,
          2.6249306201934814,
          5.6839141845703125,
          2.3844258785247803,
          -7.626522541046143,
          2.629134178161621,
          4.39565372467041,
          -10.454802513122559,
          12.546975135803223,
          0.7222322225570679,
          -9.35527515411377,
          -3.167630910873413,
          0.14036807417869568,
          1.7940871715545654,
          8.10048770904541,
          4.151128768920898,
          2.0665628910064697,
          0.5704804062843323,
          -9.052451133728027,
          -5.106362342834473,
          0.12115804851055145,
          -3.317157030105591,
          5.693876266479492,
          -3.67277193069458,
          -4.104417324066162,
          -4.029710292816162,
          -0.9219539761543274,
          -0.009122111834585667,
          -4.360024452209473,
          -5.442471027374268,
          1.0893160104751587,
          -5.667577266693115,
          -3.3228559494018555,
          -1.8392122983932495,
          7.595705509185791,
          -8.919778823852539,
          -2.255646228790283,
          5.619109630584717,
          -9.72030258178711,
          10.36484432220459,
          10.87924861907959,
          6.043080806732178,
          -10.304701805114746,
          -2.6726531982421875,
          -0.5252991914749146,
          -3.0545084476470947,
          9.02159309387207,
          -1.6897059679031372,
          -0.7260434627532959,
          4.6640167236328125,
          9.623817443847656,
          -8.703604698181152,
          12.257368087768555,
          11.199487686157227,
          -10.149690628051758,
          9.459654808044434,
          -10.758589744567871,
          -2.9870734214782715,
          -7.07374906539917,
          -5.592537879943848,
          10.72388744354248,
          -5.391115188598633,
          6.030569553375244,
          -2.558262586593628,
          0.6773712635040283,
          -8.217026710510254,
          -6.750234127044678,
          -3.7339248657226562,
          11.779522895812988,
          1.8745795488357544,
          -4.409481048583984,
          -5.122076034545898,
          -1.9513815641403198,
          1.3952387571334839,
          4.875321388244629,
          -2.499321699142456,
          -0.11225679516792297,
          1.3378931283950806,
          -4.576594352722168,
          0.060928989201784134,
          -8.2925443649292,
          11.632561683654785,
          5.939881324768066,
          4.188214302062988,
          -7.309388637542725,
          -4.5709381103515625,
          6.56391716003418,
          0.43867725133895874,
          -1.87294340133667,
          -1.7572636604309082,
          6.539730072021484,
          -10.402956008911133,
          7.888180732727051,
          3.046205997467041,
          1.2473610639572144,
          7.192025661468506,
          4.014733791351318,
          -8.265640258789062,
          2.000767230987549,
          -8.43871021270752,
          -5.644234657287598,
          1.9119230508804321,
          -6.524452209472656,
          3.1319034099578857,
          0.7998135685920715,
          2.4500691890716553,
          4.444198131561279,
          3.943824291229248,
          -8.701831817626953,
          -3.3155553340911865,
          2.887951374053955,
          2.7288930416107178,
          5.012580394744873,
          7.053327560424805,
          -2.94657564163208,
          -7.046353340148926,
          -4.023769855499268,
          0.5937808156013489,
          -3.698665142059326,
          -4.497375011444092,
          1.0327306985855103,
          -8.839653968811035,
          3.153672933578491,
          -9.114230155944824,
          -10.187448501586914,
          3.7564775943756104,
          2.195565938949585,
          -4.0807785987854,
          -0.1264479160308838,
          4.635462284088135,
          6.290390968322754,
          9.729248046875,
          6.585407733917236,
          3.43312406539917,
          -4.126124382019043,
          -4.167409896850586,
          0.5390651822090149,
          6.976410388946533,
          -7.943027973175049,
          1.2234593629837036,
          -3.6106956005096436,
          -0.6070842742919922,
          4.129308223724365,
          -0.3544265627861023,
          8.743693351745605,
          -2.070685863494873,
          0.10721167176961899,
          -6.315831184387207,
          -2.201859474182129,
          -4.9914398193359375,
          -1.337427020072937,
          3.7129220962524414,
          6.552131652832031,
          12.663480758666992,
          -0.5595805644989014,
          3.6898045539855957,
          -3.678494453430176,
          2.0230250358581543,
          2.1938140392303467,
          7.512064456939697,
          -3.6505014896392822,
          9.538020133972168,
          5.050559997558594,
          1.1454129219055176,
          1.808303713798523,
          -6.072143077850342,
          -9.418301582336426,
          -3.2987289428710938,
          -6.424341201782227,
          -3.231132745742798,
          2.4298954010009766,
          1.6755735874176025,
          7.515750408172607,
          -6.49781608581543,
          2.611290693283081,
          -8.067052841186523,
          -0.20648443698883057,
          -8.230688095092773,
          -2.2600903511047363,
          -6.186221122741699,
          -3.9160196781158447,
          -1.6500306129455566,
          -3.9646356105804443,
          -6.763933181762695,
          8.80190658569336,
          -1.762940764427185,
          -2.0817813873291016,
          4.085476875305176,
          -0.419401615858078,
          5.064241886138916,
          0.5906509757041931,
          -2.098674774169922,
          -7.583041191101074,
          2.9483776092529297,
          5.16978120803833,
          -5.742338180541992,
          -8.093733787536621,
          4.3180413246154785,
          5.07508659362793,
          3.6828267574310303,
          -9.191715240478516,
          -0.03459165617823601,
          -12.076605796813965,
          -6.8402099609375,
          4.207813262939453,
          8.238691329956055,
          6.5176262855529785,
          -7.547693252563477,
          7.512500762939453,
          1.5997705459594727,
          -4.451091289520264,
          3.9259560108184814,
          -4.279135227203369,
          10.936724662780762,
          -7.139888763427734,
          1.9473822116851807,
          4.509729862213135,
          -12.031561851501465,
          1.9882436990737915,
          6.541727066040039,
          -1.248108148574829,
          2.3873555660247803,
          -7.728398323059082,
          1.3125683069229126,
          -9.982804298400879,
          5.900411128997803,
          4.361583232879639,
          -8.468201637268066,
          -1.130448818206787,
          -4.52323055267334,
          7.356280326843262,
          -6.914942264556885,
          -2.0709786415100098,
          -5.184361934661865,
          -7.009098052978516,
          4.990025997161865,
          11.901233673095703,
          -8.029380798339844,
          -2.3323185443878174,
          1.0319515466690063,
          4.86017370223999,
          0.8138746619224548,
          7.998209476470947,
          7.356168746948242,
          -1.9749629497528076,
          1.1000133752822876,
          0.3947058618068695,
          11.29195785522461,
          3.8192787170410156,
          -9.480921745300293,
          -6.211156845092773,
          -6.58412504196167,
          8.816645622253418,
          4.499589920043945,
          -6.645181179046631,
          -1.1891199350357056,
          1.233355164527893,
          -4.311327934265137,
          -3.9051835536956787,
          -9.051228523254395,
          -11.790212631225586,
          -3.6680843830108643,
          8.483028411865234,
          7.234809875488281,
          -3.9022505283355713,
          -5.0454607009887695,
          4.8459625244140625,
          -0.7845978140830994,
          -7.453678131103516,
          -2.278508186340332,
          12.832541465759277,
          -3.3511180877685547,
          2.683650016784668,
          1.3294596672058105,
          2.8647475242614746,
          5.5619072914123535,
          -8.260237693786621,
          4.995609760284424,
          -8.33375072479248,
          -6.470954418182373,
          -9.893198013305664,
          -1.6426775455474854,
          -7.317897796630859,
          3.7341725826263428,
          -2.3655169010162354,
          2.403717041015625,
          -9.006997108459473
         ],
         "z": [
          2.637197732925415,
          -2.3744332790374756,
          -5.5121283531188965,
          -11.49191665649414,
          -10.646485328674316,
          -9.382750511169434,
          1.0305941104888916,
          -18.763099670410156,
          5.390282154083252,
          -0.5216927528381348,
          -18.64240837097168,
          -13.392454147338867,
          -11.302940368652344,
          6.4359588623046875,
          -10.521296501159668,
          -15.379693984985352,
          -11.347679138183594,
          5.410250663757324,
          -4.442756652832031,
          -11.923221588134766,
          -8.799504280090332,
          2.719264030456543,
          -8.079834938049316,
          5.381534576416016,
          -10.350726127624512,
          1.0273200273513794,
          -11.86745834350586,
          6.393631935119629,
          -20.192745208740234,
          -14.700304985046387,
          5.449477195739746,
          -4.831336498260498,
          6.403496742248535,
          -11.230584144592285,
          8.136191368103027,
          2.8746745586395264,
          3.5697619915008545,
          6.777836322784424,
          1.844962477684021,
          -11.309510231018066,
          9.805398941040039,
          -11.995590209960938,
          6.833456516265869,
          -7.840478897094727,
          -10.483329772949219,
          -15.643733024597168,
          -10.221078872680664,
          5.092055797576904,
          -12.988649368286133,
          6.256104946136475,
          -17.609371185302734,
          -3.730576276779175,
          9.375663757324219,
          -15.537239074707031,
          -9.06294059753418,
          -2.8831887245178223,
          -0.8290572166442871,
          -0.9142919778823853,
          -11.403629302978516,
          -8.984228134155273,
          7.898016929626465,
          5.336784839630127,
          -17.736637115478516,
          -12.303868293762207,
          7.8129730224609375,
          -9.498136520385742,
          11.052531242370605,
          5.8332319259643555,
          -12.385107040405273,
          -12.105002403259277,
          -19.375324249267578,
          -15.144745826721191,
          1.9350858926773071,
          -13.71366024017334,
          13.669687271118164,
          7.308379173278809,
          -12.22877025604248,
          -15.261383056640625,
          15.776808738708496,
          13.554251670837402,
          13.359468460083008,
          7.550289630889893,
          -11.061463356018066,
          4.340978145599365,
          0.36617177724838257,
          -3.7572364807128906,
          4.209503650665283,
          5.160398006439209,
          5.240537643432617,
          5.241785526275635,
          7.413796424865723,
          -16.55404281616211,
          5.750420093536377,
          2.5916543006896973,
          -1.8484241962432861,
          -17.92441749572754,
          9.090527534484863,
          -1.3735029697418213,
          5.98647403717041,
          -12.046630859375,
          3.63592791557312,
          7.364533424377441,
          -1.4433413743972778,
          10.924116134643555,
          -19.20915412902832,
          10.530255317687988,
          4.680171012878418,
          -0.8461675643920898,
          14.024517059326172,
          -14.62794017791748,
          7.075559139251709,
          2.0635879039764404,
          -16.270231246948242,
          8.513187408447266,
          -9.715890884399414,
          9.163872718811035,
          1.2105176448822021,
          2.7855002880096436,
          -12.062071800231934,
          6.578675270080566,
          10.0795259475708,
          5.14977502822876,
          -1.6207104921340942,
          7.547970771789551,
          2.1309328079223633,
          -1.2408337593078613,
          -2.516164779663086,
          -12.778264999389648,
          0.2070825845003128,
          -0.595344066619873,
          5.788754940032959,
          9.168655395507812,
          -17.4931697845459,
          -1.2142380475997925,
          6.424586296081543,
          6.885889530181885,
          -9.4771146774292,
          -15.528879165649414,
          -2.040147304534912,
          1.127721905708313,
          -14.775920867919922,
          5.001897811889648,
          10.833477973937988,
          -11.460601806640625,
          7.805447578430176,
          12.49522876739502,
          -15.914411544799805,
          9.225204467773438,
          -2.5508673191070557,
          3.8010401725769043,
          6.041539669036865,
          9.658913612365723,
          -1.0192509889602661,
          11.789785385131836,
          2.933664321899414,
          9.339044570922852,
          9.31844425201416,
          7.72921895980835,
          12.635054588317871,
          -11.35050106048584,
          0.11619918048381805,
          9.452620506286621,
          10.976561546325684,
          16.15681266784668,
          -11.536402702331543,
          6.720098495483398,
          -14.68521785736084,
          -16.706867218017578,
          -8.978342056274414,
          3.0927891731262207,
          5.670548439025879,
          -2.0636065006256104,
          -10.83393669128418,
          -7.965872287750244,
          2.4152331352233887,
          6.457978248596191,
          -9.288688659667969,
          -7.25445556640625,
          -3.223163604736328,
          -14.787652015686035,
          1.8316177129745483,
          -13.528471946716309,
          -4.903427600860596,
          -18.180688858032227,
          -16.770254135131836,
          2.004592180252075,
          -12.065768241882324,
          6.377987861633301,
          11.662323951721191,
          9.086697578430176,
          8.66922664642334,
          -11.540019035339355,
          -17.522008895874023,
          -8.229914665222168,
          4.063189506530762,
          -0.49491769075393677,
          2.0537703037261963,
          -1.720894694328308,
          4.76042366027832,
          1.6076059341430664,
          4.910900115966797,
          2.2653956413269043,
          -2.234437942504883,
          -11.907232284545898,
          -7.154508590698242,
          -4.7919392585754395,
          14.359471321105957,
          5.083804607391357,
          -13.711299896240234,
          -2.707319498062134,
          3.0119423866271973,
          -13.091179847717285,
          -16.478294372558594,
          7.9095988273620605,
          4.911858081817627,
          3.3007700443267822,
          -2.2443251609802246,
          -15.58772087097168,
          -17.98072052001953,
          1.0604759454727173,
          -6.8620686531066895,
          0.989801824092865,
          -11.717174530029297,
          15.251267433166504,
          3.865600824356079,
          13.154768943786621,
          8.020796775817871,
          12.642468452453613,
          6.956362247467041,
          -10.62795352935791,
          0.4015633761882782,
          5.818824768066406,
          -14.89664077758789,
          -15.252813339233398,
          9.226799011230469,
          1.1726709604263306,
          -0.44777432084083557,
          9.103330612182617,
          -12.988872528076172,
          -5.7594709396362305,
          5.046041011810303,
          2.0226144790649414,
          -6.932204246520996,
          3.0569896697998047,
          -16.069923400878906,
          4.644737243652344,
          10.071414947509766,
          14.10675048828125,
          8.549969673156738,
          -8.579909324645996,
          10.730241775512695,
          0.005457070656120777,
          -14.568045616149902,
          9.073721885681152,
          11.443986892700195,
          2.8038158416748047,
          5.02705192565918,
          4.63037109375,
          -11.243494987487793,
          7.789161682128906,
          -7.074230194091797,
          7.996430397033691,
          -9.89860725402832,
          0.7748814225196838,
          11.253128051757812,
          2.8697872161865234,
          -16.933284759521484,
          2.4063830375671387,
          13.633233070373535,
          -1.3310195207595825,
          0.5791254639625549,
          -1.1151599884033203,
          7.560261249542236,
          -6.2189860343933105,
          -10.751588821411133,
          10.022465705871582,
          -16.28250503540039,
          -11.612725257873535,
          0.2922604978084564,
          11.433351516723633,
          7.979371070861816,
          -6.5132598876953125,
          12.35682201385498,
          5.429795265197754,
          -9.76695442199707,
          2.3472580909729004,
          7.147430896759033,
          0.5368574857711792,
          4.139069080352783,
          4.871317386627197,
          5.057702541351318,
          -0.21231703460216522,
          4.68219518661499,
          3.056429386138916,
          4.164937496185303,
          -14.841161727905273,
          -14.700750350952148,
          15.072035789489746,
          2.995962381362915,
          4.082318305969238,
          -4.593266010284424,
          3.9726505279541016,
          -16.935443878173828,
          -16.39088249206543,
          -13.035799980163574,
          11.399551391601562,
          0.5389437675476074,
          10.750374794006348,
          9.825373649597168,
          -16.799978256225586,
          -15.972493171691895,
          10.402517318725586,
          -12.95837116241455,
          -5.984308242797852,
          4.0056891441345215,
          4.357046127319336,
          3.3386006355285645,
          1.0304862260818481,
          12.521066665649414,
          -1.141586184501648,
          -3.949939012527466,
          9.364967346191406,
          -15.266176223754883,
          -2.1738803386688232,
          12.15367317199707,
          4.527232646942139,
          -16.603755950927734,
          -17.508136749267578,
          -9.360970497131348,
          -13.183489799499512,
          2.4731879234313965,
          -15.571399688720703,
          8.969921112060547,
          9.776010513305664,
          5.706005096435547,
          -11.331428527832031,
          -0.7639570832252502,
          6.98384952545166,
          -12.368732452392578,
          -14.077829360961914,
          6.865584373474121,
          14.353639602661133,
          -12.065073013305664,
          11.701905250549316,
          -17.95913314819336,
          -10.19019889831543,
          -2.0917606353759766,
          8.972582817077637,
          -12.758214950561523,
          -15.916118621826172,
          0.10569535195827484,
          8.099138259887695,
          8.20553207397461,
          -0.7698889374732971,
          7.150326251983643,
          14.407756805419922,
          8.051445007324219,
          0.9047480225563049,
          -18.754535675048828,
          2.5196993350982666,
          -1.8397018909454346,
          -0.14024841785430908,
          2.7306931018829346,
          9.162652015686035,
          -14.462361335754395,
          11.280357360839844,
          -15.859864234924316,
          3.6069767475128174,
          4.926893711090088,
          -1.073991298675537,
          7.153335094451904,
          5.067033290863037,
          -12.393495559692383,
          -9.791703224182129,
          -15.157837867736816,
          6.83095645904541,
          12.924910545349121,
          -13.25234603881836,
          -1.0771219730377197,
          4.80389404296875,
          -13.308436393737793,
          2.5485999584198,
          12.345593452453613,
          1.456101417541504,
          -0.9060171842575073,
          8.32546329498291,
          4.644810199737549,
          4.313234329223633,
          1.2573286294937134,
          3.1397154331207275,
          7.0566487312316895,
          9.525378227233887,
          8.158445358276367,
          9.851639747619629,
          8.098673820495605,
          -0.9506047368049622,
          10.173625946044922,
          -15.960918426513672,
          3.5212435722351074,
          10.5709228515625,
          6.096192836761475,
          5.9053263664245605,
          10.523473739624023,
          -5.298604965209961,
          -18.262062072753906,
          1.734143614768982,
          -8.889331817626953,
          3.2195582389831543,
          -11.078180313110352,
          -3.9300878047943115,
          2.5412070751190186,
          6.210522651672363,
          -19.50871467590332,
          11.765884399414062,
          -0.1428254097700119,
          6.237736701965332,
          6.878049850463867,
          -0.1150219738483429,
          -17.321931838989258,
          -10.61217975616455,
          2.9888229370117188,
          2.848815441131592,
          1.2483314275741577,
          -3.188081741333008,
          -9.862753868103027,
          5.486650466918945,
          0.885758638381958,
          -13.315428733825684,
          2.7492711544036865,
          -12.278339385986328,
          8.672235488891602,
          1.1077425479888916,
          4.929849147796631,
          -13.583054542541504,
          -19.125585556030273,
          0.8346000909805298,
          7.280844688415527,
          -11.848947525024414,
          14.600520133972168,
          -7.769410133361816,
          10.852005004882812,
          15.311145782470703,
          -8.466221809387207,
          -14.705405235290527,
          6.452386856079102,
          -10.083388328552246,
          -17.599498748779297,
          10.202199935913086,
          -8.243985176086426,
          -15.170852661132812,
          6.442770004272461,
          -9.995503425598145,
          7.516343593597412,
          11.758380889892578,
          -16.211427688598633,
          -2.5108482837677,
          2.9895575046539307,
          -8.787028312683105,
          15.167128562927246,
          14.411128997802734,
          -0.6714236736297607,
          -9.333070755004883,
          5.5765533447265625,
          15.071803092956543,
          3.47062087059021,
          7.529157638549805,
          13.852231979370117,
          -18.492429733276367,
          6.769530773162842,
          -9.0440034866333,
          11.017500877380371,
          9.09229564666748,
          4.887021541595459,
          9.013671875,
          6.192917823791504,
          4.270073890686035,
          -0.7378106713294983,
          -11.639365196228027,
          4.657433986663818,
          1.9120603799819946,
          8.978413581848145,
          5.325374126434326,
          -13.08372974395752,
          -13.149396896362305,
          1.2908263206481934,
          -13.553627967834473,
          -1.3659074306488037,
          2.463581085205078,
          6.094058990478516,
          -5.964375972747803,
          12.629498481750488,
          -15.183944702148438,
          -9.787147521972656,
          -17.51308822631836,
          -7.657907962799072,
          -15.777210235595703,
          -3.224290609359741,
          -12.557363510131836,
          10.00538158416748,
          5.214248180389404,
          -1.6914438009262085,
          5.627601146697998,
          4.135154724121094,
          4.836318492889404,
          2.5783934593200684,
          -6.274296283721924,
          14.555099487304688,
          9.698758125305176,
          2.0067713260650635,
          -12.948980331420898,
          -11.215530395507812,
          7.895889759063721,
          0.8329816460609436,
          -13.87510871887207,
          15.518486022949219,
          11.37131118774414,
          11.799845695495605,
          15.079025268554688,
          0.4395661950111389,
          0.042033206671476364,
          1.7854827642440796,
          -11.766891479492188,
          -10.25818157196045,
          -9.743583679199219,
          -18.168851852416992,
          1.7081170082092285,
          1.7192394733428955,
          4.072208404541016,
          2.02333402633667,
          5.258009910583496,
          -1.2932665348052979,
          -15.404833793640137,
          -12.612983703613281,
          7.422616481781006,
          -13.910538673400879,
          -15.325157165527344,
          -4.511104106903076,
          -12.741883277893066,
          2.993175745010376,
          -1.5154489278793335,
          -0.10203342884778976,
          -13.071866035461426,
          2.594069719314575,
          -3.5857653617858887,
          8.431599617004395,
          -15.209376335144043,
          11.896042823791504,
          -13.856451034545898,
          -15.231385231018066,
          12.203373908996582,
          10.14661979675293,
          6.889778137207031,
          -11.08761215209961,
          12.605504989624023,
          9.734044075012207,
          -1.8749876022338867,
          -11.683796882629395,
          12.087337493896484,
          -17.305036544799805,
          2.582869291305542,
          -14.758783340454102,
          -18.467967987060547,
          10.177471160888672,
          -16.01172637939453,
          6.98569393157959,
          15.201382637023926,
          6.8411545753479,
          5.1872758865356445,
          -16.677947998046875,
          -15.308453559875488,
          2.9891347885131836,
          -14.897111892700195,
          -17.74468994140625,
          -16.326631546020508,
          -4.58103084564209,
          -16.781057357788086,
          0.4800352454185486,
          4.430328845977783,
          5.277678966522217,
          10.165384292602539,
          2.922954797744751,
          11.307117462158203,
          -9.595380783081055,
          -0.11373257637023926,
          9.636874198913574,
          14.543645858764648,
          5.035216808319092,
          5.372758388519287,
          4.135807991027832,
          -15.680037498474121,
          5.104079246520996,
          10.249262809753418,
          3.276632785797119,
          -17.953479766845703,
          1.573513150215149,
          10.774203300476074,
          -16.32159996032715,
          -16.859508514404297,
          -12.277114868164062,
          -13.906926155090332,
          -13.826762199401855,
          5.410816192626953,
          -12.578453063964844,
          1.249579668045044,
          -13.237277030944824,
          -2.090847969055176,
          -17.752511978149414,
          -16.477516174316406,
          6.5124969482421875,
          -3.4655673503875732,
          -10.498198509216309,
          5.990665912628174,
          2.568153142929077,
          6.514377117156982,
          14.159148216247559,
          10.28467845916748,
          2.5440826416015625,
          4.589223861694336,
          3.143794059753418,
          5.535943984985352,
          3.196058988571167,
          9.761735916137695,
          11.2503080368042,
          0.6185888648033142,
          -9.665223121643066,
          -18.335838317871094,
          0.8537207245826721,
          -10.088310241699219,
          3.2624144554138184,
          15.241680145263672,
          8.202532768249512,
          -1.5219389200210571,
          14.348533630371094,
          -11.386584281921387,
          4.906538486480713,
          3.119626760482788,
          6.389559268951416,
          2.8319804668426514,
          -16.013626098632812,
          0.9529862999916077,
          -6.838387489318848,
          -2.764493227005005,
          -0.2987537980079651,
          5.335672378540039,
          -15.27396297454834,
          12.045317649841309,
          -8.136425971984863,
          8.207371711730957,
          -12.79430103302002,
          8.323915481567383,
          7.9445695877075195,
          7.09867525100708,
          2.216956853866577,
          -15.420599937438965,
          6.833888053894043,
          -2.938957452774048,
          -11.743013381958008,
          6.006485939025879,
          4.62148904800415,
          -15.022561073303223,
          -17.811302185058594,
          8.836143493652344,
          3.5520408153533936,
          3.6873669624328613,
          -13.593535423278809,
          -0.5779039263725281,
          -14.373639106750488,
          -1.7971011400222778,
          -1.7058014869689941,
          7.560413837432861,
          0.6180734634399414,
          13.866674423217773,
          11.882314682006836,
          1.2737971544265747,
          -10.742762565612793,
          9.844955444335938,
          -3.793186902999878,
          -14.790063858032227,
          -14.169717788696289,
          -0.9964093565940857,
          -8.598388671875,
          7.472289085388184,
          7.859335422515869,
          -10.754621505737305,
          11.344457626342773,
          7.299026966094971,
          12.204277038574219,
          9.309085845947266,
          -17.181354522705078,
          -17.430086135864258,
          -8.591947555541992,
          -15.158759117126465,
          -18.978670120239258,
          -0.6372325420379639,
          -17.276870727539062,
          -11.491151809692383,
          3.904714345932007,
          12.82098388671875,
          13.704779624938965,
          -11.304797172546387,
          3.5935020446777344,
          13.43509292602539,
          6.451137065887451,
          -20.24117660522461,
          10.203786849975586,
          -2.349998950958252,
          -17.517444610595703,
          -14.615069389343262,
          3.615963935852051,
          -8.576129913330078,
          -10.720695495605469,
          7.6878743171691895,
          2.8833091259002686,
          0.8741805553436279,
          3.5805180072784424,
          -10.352324485778809,
          -9.329059600830078,
          -15.567110061645508,
          3.4742424488067627,
          3.936570167541504,
          -4.498987197875977,
          1.8359143733978271,
          -1.9820655584335327,
          -3.7013003826141357,
          0.03388773277401924,
          6.51872444152832,
          -14.25629711151123,
          -11.02113151550293,
          -14.45082950592041,
          -10.58362102508545,
          2.8296148777008057,
          -13.055924415588379,
          1.7301454544067383,
          5.075991153717041,
          3.4949729442596436,
          -16.536314010620117,
          8.331948280334473,
          13.642508506774902,
          15.059053421020508,
          -11.485793113708496,
          2.680206298828125,
          6.022042274475098,
          6.203007221221924,
          -9.978711128234863,
          3.3326737880706787,
          14.909433364868164,
          11.217869758605957,
          -15.39741039276123,
          -8.32970142364502,
          -18.285585403442383,
          -2.249692440032959,
          -11.580849647521973,
          -1.7645771503448486,
          4.013498783111572,
          8.959820747375488,
          -7.437009334564209,
          13.320584297180176,
          7.799378395080566,
          -14.242627143859863,
          9.395211219787598,
          -18.13182830810547,
          11.978108406066895,
          6.7186150550842285,
          7.124855041503906,
          3.9112489223480225,
          3.001528024673462,
          1.7819217443466187,
          -12.157527923583984,
          0.7454097867012024,
          -12.296976089477539,
          13.037222862243652,
          4.7302680015563965,
          3.961280584335327,
          0.4247759282588959,
          4.859586238861084,
          10.585090637207031,
          3.2263801097869873,
          3.034106731414795,
          14.188769340515137,
          5.514825344085693,
          9.583895683288574,
          2.081148386001587,
          -2.4607763290405273,
          6.319090366363525,
          14.495235443115234,
          -18.232433319091797,
          7.185873985290527,
          -11.476005554199219,
          15.66422176361084,
          12.527250289916992,
          -18.801193237304688,
          9.956238746643066,
          -11.290276527404785,
          11.621183395385742,
          3.4344635009765625,
          -5.7727251052856445,
          9.490080833435059,
          -8.317679405212402,
          10.73112964630127,
          9.980052947998047,
          6.563508987426758,
          2.9896955490112305,
          1.258373498916626,
          -2.914994239807129,
          -6.300626277923584,
          6.82032585144043,
          11.329899787902832,
          -1.6763540506362915,
          -15.451850891113281,
          7.0954976081848145,
          -11.229923248291016,
          -9.45848274230957,
          12.531608581542969,
          2.3897664546966553,
          -3.1186602115631104,
          -8.225139617919922,
          -1.0206109285354614,
          -18.344627380371094,
          -9.223031997680664,
          -14.318188667297363,
          -16.181743621826172,
          -5.875975608825684,
          15.857415199279785,
          -2.952255964279175,
          1.462321162223816,
          8.598973274230957,
          -15.467811584472656,
          13.772466659545898,
          8.21676254272461,
          -16.200294494628906,
          -1.948809027671814,
          3.921541929244995,
          -17.037988662719727,
          -9.694866180419922,
          -8.543259620666504,
          -12.313231468200684,
          -13.923145294189453,
          -11.26859188079834,
          -15.181341171264648,
          10.179919242858887,
          10.168001174926758,
          10.753706932067871,
          -14.237081527709961,
          0.3875276744365692,
          2.128293037414551,
          -12.590394973754883,
          -3.3853440284729004,
          10.833706855773926,
          6.983796119689941,
          2.2622554302215576,
          -11.726139068603516,
          2.8440287113189697,
          11.183317184448242,
          9.96772289276123,
          1.900252103805542,
          -0.2561829090118408,
          2.5476255416870117,
          -15.083819389343262,
          13.911517143249512,
          -10.89052677154541,
          2.833051919937134,
          12.630838394165039,
          2.711021661758423,
          10.916178703308105,
          0.7251805067062378,
          -15.528180122375488,
          3.0478901863098145,
          12.723222732543945,
          -13.244819641113281,
          5.133708953857422,
          -16.147647857666016,
          9.9224853515625,
          4.144720077514648,
          7.608907222747803,
          -0.09774982929229736,
          5.830463409423828,
          8.416613578796387,
          4.464303970336914,
          4.212777137756348,
          -7.308387756347656,
          5.138420104980469,
          11.473888397216797,
          13.788768768310547,
          -15.513405799865723,
          -16.354930877685547,
          -16.284866333007812,
          5.671496868133545,
          4.010427474975586,
          4.354455947875977,
          -9.189168930053711,
          -11.463655471801758,
          -15.791167259216309,
          -9.492767333984375,
          13.037842750549316,
          -17.421459197998047,
          7.580979824066162,
          7.501023769378662,
          6.0732293128967285,
          2.271556854248047,
          -0.8964165449142456,
          0.7154963612556458,
          8.21833610534668,
          10.18713092803955,
          -18.527545928955078,
          12.07977294921875,
          -11.617939949035645,
          -15.17492961883545,
          -4.2480974197387695,
          -9.430853843688965,
          15.2697172164917,
          4.3213090896606445,
          5.048121452331543,
          5.765192031860352,
          13.935441970825195,
          -11.664414405822754,
          -10.645520210266113,
          3.6140637397766113,
          -1.5302770137786865,
          -15.039193153381348,
          -16.995817184448242,
          3.038458824157715,
          -17.681447982788086,
          6.531928062438965,
          10.587182998657227,
          -1.2806365489959717,
          5.403284549713135,
          -0.10577908158302307,
          4.079665660858154,
          2.8267135620117188,
          -0.5051302909851074,
          -11.69072437286377,
          8.822457313537598,
          4.131737232208252,
          -17.788131713867188,
          -16.176513671875,
          -11.532659530639648,
          9.062215805053711,
          -7.459390163421631,
          -3.1158862113952637,
          -16.545820236206055,
          -9.02922534942627,
          6.1010870933532715,
          15.316852569580078,
          -12.667119979858398,
          12.390363693237305,
          -11.76053524017334,
          12.87120246887207,
          9.513959884643555,
          0.3917079269886017,
          -0.0009646101389080286,
          4.593485355377197,
          3.052734136581421,
          -18.335248947143555,
          -15.249009132385254,
          4.337161064147949,
          6.8874006271362305,
          -17.055721282958984,
          -13.14223575592041,
          -9.345342636108398,
          4.600152015686035,
          4.382513523101807,
          3.1769258975982666,
          -6.678449630737305,
          14.523412704467773,
          5.593908309936523,
          7.7607903480529785,
          2.834303140640259,
          12.114447593688965,
          -11.069454193115234,
          9.008152961730957,
          -16.91843605041504,
          10.762014389038086,
          7.324275016784668,
          -10.734373092651367,
          11.664127349853516,
          3.0554940700531006,
          2.6913983821868896,
          -15.892601013183594,
          1.7864718437194824,
          -11.406493186950684,
          -10.67603588104248,
          3.739673614501953,
          14.901527404785156,
          2.0384790897369385,
          -15.94306755065918,
          6.24941349029541,
          4.920506954193115,
          -14.402151107788086,
          -15.002742767333984,
          -13.79643726348877,
          -11.652634620666504,
          11.970074653625488,
          12.052239418029785,
          -7.638774394989014,
          -12.875105857849121,
          5.143799781799316,
          6.740252494812012,
          14.997727394104004,
          -13.219035148620605,
          -13.548498153686523
         ]
        }
       ],
       "layout": {
        "coloraxis": {
         "colorbar": {
          "title": {
           "text": "Label"
          }
         },
         "colorscale": [
          [
           0,
           "#0d0887"
          ],
          [
           0.1111111111111111,
           "#46039f"
          ],
          [
           0.2222222222222222,
           "#7201a8"
          ],
          [
           0.3333333333333333,
           "#9c179e"
          ],
          [
           0.4444444444444444,
           "#bd3786"
          ],
          [
           0.5555555555555556,
           "#d8576b"
          ],
          [
           0.6666666666666666,
           "#ed7953"
          ],
          [
           0.7777777777777778,
           "#fb9f3a"
          ],
          [
           0.8888888888888888,
           "#fdca26"
          ],
          [
           1,
           "#f0f921"
          ]
         ]
        },
        "height": 800,
        "legend": {
         "tracegroupgap": 0
        },
        "scene": {
         "domain": {
          "x": [
           0,
           1
          ],
          "y": [
           0,
           1
          ]
         },
         "xaxis": {
          "title": {
           "text": "0"
          }
         },
         "yaxis": {
          "title": {
           "text": "1"
          }
         },
         "zaxis": {
          "title": {
           "text": "2"
          }
         }
        },
        "template": {
         "data": {
          "bar": [
           {
            "error_x": {
             "color": "#2a3f5f"
            },
            "error_y": {
             "color": "#2a3f5f"
            },
            "marker": {
             "line": {
              "color": "#E5ECF6",
              "width": 0.5
             }
            },
            "type": "bar"
           }
          ],
          "barpolar": [
           {
            "marker": {
             "line": {
              "color": "#E5ECF6",
              "width": 0.5
             }
            },
            "type": "barpolar"
           }
          ],
          "carpet": [
           {
            "aaxis": {
             "endlinecolor": "#2a3f5f",
             "gridcolor": "white",
             "linecolor": "white",
             "minorgridcolor": "white",
             "startlinecolor": "#2a3f5f"
            },
            "baxis": {
             "endlinecolor": "#2a3f5f",
             "gridcolor": "white",
             "linecolor": "white",
             "minorgridcolor": "white",
             "startlinecolor": "#2a3f5f"
            },
            "type": "carpet"
           }
          ],
          "choropleth": [
           {
            "colorbar": {
             "outlinewidth": 0,
             "ticks": ""
            },
            "type": "choropleth"
           }
          ],
          "contour": [
           {
            "colorbar": {
             "outlinewidth": 0,
             "ticks": ""
            },
            "colorscale": [
             [
              0,
              "#0d0887"
             ],
             [
              0.1111111111111111,
              "#46039f"
             ],
             [
              0.2222222222222222,
              "#7201a8"
             ],
             [
              0.3333333333333333,
              "#9c179e"
             ],
             [
              0.4444444444444444,
              "#bd3786"
             ],
             [
              0.5555555555555556,
              "#d8576b"
             ],
             [
              0.6666666666666666,
              "#ed7953"
             ],
             [
              0.7777777777777778,
              "#fb9f3a"
             ],
             [
              0.8888888888888888,
              "#fdca26"
             ],
             [
              1,
              "#f0f921"
             ]
            ],
            "type": "contour"
           }
          ],
          "contourcarpet": [
           {
            "colorbar": {
             "outlinewidth": 0,
             "ticks": ""
            },
            "type": "contourcarpet"
           }
          ],
          "heatmap": [
           {
            "colorbar": {
             "outlinewidth": 0,
             "ticks": ""
            },
            "colorscale": [
             [
              0,
              "#0d0887"
             ],
             [
              0.1111111111111111,
              "#46039f"
             ],
             [
              0.2222222222222222,
              "#7201a8"
             ],
             [
              0.3333333333333333,
              "#9c179e"
             ],
             [
              0.4444444444444444,
              "#bd3786"
             ],
             [
              0.5555555555555556,
              "#d8576b"
             ],
             [
              0.6666666666666666,
              "#ed7953"
             ],
             [
              0.7777777777777778,
              "#fb9f3a"
             ],
             [
              0.8888888888888888,
              "#fdca26"
             ],
             [
              1,
              "#f0f921"
             ]
            ],
            "type": "heatmap"
           }
          ],
          "heatmapgl": [
           {
            "colorbar": {
             "outlinewidth": 0,
             "ticks": ""
            },
            "colorscale": [
             [
              0,
              "#0d0887"
             ],
             [
              0.1111111111111111,
              "#46039f"
             ],
             [
              0.2222222222222222,
              "#7201a8"
             ],
             [
              0.3333333333333333,
              "#9c179e"
             ],
             [
              0.4444444444444444,
              "#bd3786"
             ],
             [
              0.5555555555555556,
              "#d8576b"
             ],
             [
              0.6666666666666666,
              "#ed7953"
             ],
             [
              0.7777777777777778,
              "#fb9f3a"
             ],
             [
              0.8888888888888888,
              "#fdca26"
             ],
             [
              1,
              "#f0f921"
             ]
            ],
            "type": "heatmapgl"
           }
          ],
          "histogram": [
           {
            "marker": {
             "colorbar": {
              "outlinewidth": 0,
              "ticks": ""
             }
            },
            "type": "histogram"
           }
          ],
          "histogram2d": [
           {
            "colorbar": {
             "outlinewidth": 0,
             "ticks": ""
            },
            "colorscale": [
             [
              0,
              "#0d0887"
             ],
             [
              0.1111111111111111,
              "#46039f"
             ],
             [
              0.2222222222222222,
              "#7201a8"
             ],
             [
              0.3333333333333333,
              "#9c179e"
             ],
             [
              0.4444444444444444,
              "#bd3786"
             ],
             [
              0.5555555555555556,
              "#d8576b"
             ],
             [
              0.6666666666666666,
              "#ed7953"
             ],
             [
              0.7777777777777778,
              "#fb9f3a"
             ],
             [
              0.8888888888888888,
              "#fdca26"
             ],
             [
              1,
              "#f0f921"
             ]
            ],
            "type": "histogram2d"
           }
          ],
          "histogram2dcontour": [
           {
            "colorbar": {
             "outlinewidth": 0,
             "ticks": ""
            },
            "colorscale": [
             [
              0,
              "#0d0887"
             ],
             [
              0.1111111111111111,
              "#46039f"
             ],
             [
              0.2222222222222222,
              "#7201a8"
             ],
             [
              0.3333333333333333,
              "#9c179e"
             ],
             [
              0.4444444444444444,
              "#bd3786"
             ],
             [
              0.5555555555555556,
              "#d8576b"
             ],
             [
              0.6666666666666666,
              "#ed7953"
             ],
             [
              0.7777777777777778,
              "#fb9f3a"
             ],
             [
              0.8888888888888888,
              "#fdca26"
             ],
             [
              1,
              "#f0f921"
             ]
            ],
            "type": "histogram2dcontour"
           }
          ],
          "mesh3d": [
           {
            "colorbar": {
             "outlinewidth": 0,
             "ticks": ""
            },
            "type": "mesh3d"
           }
          ],
          "parcoords": [
           {
            "line": {
             "colorbar": {
              "outlinewidth": 0,
              "ticks": ""
             }
            },
            "type": "parcoords"
           }
          ],
          "pie": [
           {
            "automargin": true,
            "type": "pie"
           }
          ],
          "scatter": [
           {
            "marker": {
             "colorbar": {
              "outlinewidth": 0,
              "ticks": ""
             }
            },
            "type": "scatter"
           }
          ],
          "scatter3d": [
           {
            "line": {
             "colorbar": {
              "outlinewidth": 0,
              "ticks": ""
             }
            },
            "marker": {
             "colorbar": {
              "outlinewidth": 0,
              "ticks": ""
             }
            },
            "type": "scatter3d"
           }
          ],
          "scattercarpet": [
           {
            "marker": {
             "colorbar": {
              "outlinewidth": 0,
              "ticks": ""
             }
            },
            "type": "scattercarpet"
           }
          ],
          "scattergeo": [
           {
            "marker": {
             "colorbar": {
              "outlinewidth": 0,
              "ticks": ""
             }
            },
            "type": "scattergeo"
           }
          ],
          "scattergl": [
           {
            "marker": {
             "colorbar": {
              "outlinewidth": 0,
              "ticks": ""
             }
            },
            "type": "scattergl"
           }
          ],
          "scattermapbox": [
           {
            "marker": {
             "colorbar": {
              "outlinewidth": 0,
              "ticks": ""
             }
            },
            "type": "scattermapbox"
           }
          ],
          "scatterpolar": [
           {
            "marker": {
             "colorbar": {
              "outlinewidth": 0,
              "ticks": ""
             }
            },
            "type": "scatterpolar"
           }
          ],
          "scatterpolargl": [
           {
            "marker": {
             "colorbar": {
              "outlinewidth": 0,
              "ticks": ""
             }
            },
            "type": "scatterpolargl"
           }
          ],
          "scatterternary": [
           {
            "marker": {
             "colorbar": {
              "outlinewidth": 0,
              "ticks": ""
             }
            },
            "type": "scatterternary"
           }
          ],
          "surface": [
           {
            "colorbar": {
             "outlinewidth": 0,
             "ticks": ""
            },
            "colorscale": [
             [
              0,
              "#0d0887"
             ],
             [
              0.1111111111111111,
              "#46039f"
             ],
             [
              0.2222222222222222,
              "#7201a8"
             ],
             [
              0.3333333333333333,
              "#9c179e"
             ],
             [
              0.4444444444444444,
              "#bd3786"
             ],
             [
              0.5555555555555556,
              "#d8576b"
             ],
             [
              0.6666666666666666,
              "#ed7953"
             ],
             [
              0.7777777777777778,
              "#fb9f3a"
             ],
             [
              0.8888888888888888,
              "#fdca26"
             ],
             [
              1,
              "#f0f921"
             ]
            ],
            "type": "surface"
           }
          ],
          "table": [
           {
            "cells": {
             "fill": {
              "color": "#EBF0F8"
             },
             "line": {
              "color": "white"
             }
            },
            "header": {
             "fill": {
              "color": "#C8D4E3"
             },
             "line": {
              "color": "white"
             }
            },
            "type": "table"
           }
          ]
         },
         "layout": {
          "annotationdefaults": {
           "arrowcolor": "#2a3f5f",
           "arrowhead": 0,
           "arrowwidth": 1
          },
          "coloraxis": {
           "colorbar": {
            "outlinewidth": 0,
            "ticks": ""
           }
          },
          "colorscale": {
           "diverging": [
            [
             0,
             "#8e0152"
            ],
            [
             0.1,
             "#c51b7d"
            ],
            [
             0.2,
             "#de77ae"
            ],
            [
             0.3,
             "#f1b6da"
            ],
            [
             0.4,
             "#fde0ef"
            ],
            [
             0.5,
             "#f7f7f7"
            ],
            [
             0.6,
             "#e6f5d0"
            ],
            [
             0.7,
             "#b8e186"
            ],
            [
             0.8,
             "#7fbc41"
            ],
            [
             0.9,
             "#4d9221"
            ],
            [
             1,
             "#276419"
            ]
           ],
           "sequential": [
            [
             0,
             "#0d0887"
            ],
            [
             0.1111111111111111,
             "#46039f"
            ],
            [
             0.2222222222222222,
             "#7201a8"
            ],
            [
             0.3333333333333333,
             "#9c179e"
            ],
            [
             0.4444444444444444,
             "#bd3786"
            ],
            [
             0.5555555555555556,
             "#d8576b"
            ],
            [
             0.6666666666666666,
             "#ed7953"
            ],
            [
             0.7777777777777778,
             "#fb9f3a"
            ],
            [
             0.8888888888888888,
             "#fdca26"
            ],
            [
             1,
             "#f0f921"
            ]
           ],
           "sequentialminus": [
            [
             0,
             "#0d0887"
            ],
            [
             0.1111111111111111,
             "#46039f"
            ],
            [
             0.2222222222222222,
             "#7201a8"
            ],
            [
             0.3333333333333333,
             "#9c179e"
            ],
            [
             0.4444444444444444,
             "#bd3786"
            ],
            [
             0.5555555555555556,
             "#d8576b"
            ],
            [
             0.6666666666666666,
             "#ed7953"
            ],
            [
             0.7777777777777778,
             "#fb9f3a"
            ],
            [
             0.8888888888888888,
             "#fdca26"
            ],
            [
             1,
             "#f0f921"
            ]
           ]
          },
          "colorway": [
           "#636efa",
           "#EF553B",
           "#00cc96",
           "#ab63fa",
           "#FFA15A",
           "#19d3f3",
           "#FF6692",
           "#B6E880",
           "#FF97FF",
           "#FECB52"
          ],
          "font": {
           "color": "#2a3f5f"
          },
          "geo": {
           "bgcolor": "white",
           "lakecolor": "white",
           "landcolor": "#E5ECF6",
           "showlakes": true,
           "showland": true,
           "subunitcolor": "white"
          },
          "hoverlabel": {
           "align": "left"
          },
          "hovermode": "closest",
          "mapbox": {
           "style": "light"
          },
          "paper_bgcolor": "white",
          "plot_bgcolor": "#E5ECF6",
          "polar": {
           "angularaxis": {
            "gridcolor": "white",
            "linecolor": "white",
            "ticks": ""
           },
           "bgcolor": "#E5ECF6",
           "radialaxis": {
            "gridcolor": "white",
            "linecolor": "white",
            "ticks": ""
           }
          },
          "scene": {
           "xaxis": {
            "backgroundcolor": "#E5ECF6",
            "gridcolor": "white",
            "gridwidth": 2,
            "linecolor": "white",
            "showbackground": true,
            "ticks": "",
            "zerolinecolor": "white"
           },
           "yaxis": {
            "backgroundcolor": "#E5ECF6",
            "gridcolor": "white",
            "gridwidth": 2,
            "linecolor": "white",
            "showbackground": true,
            "ticks": "",
            "zerolinecolor": "white"
           },
           "zaxis": {
            "backgroundcolor": "#E5ECF6",
            "gridcolor": "white",
            "gridwidth": 2,
            "linecolor": "white",
            "showbackground": true,
            "ticks": "",
            "zerolinecolor": "white"
           }
          },
          "shapedefaults": {
           "line": {
            "color": "#2a3f5f"
           }
          },
          "ternary": {
           "aaxis": {
            "gridcolor": "white",
            "linecolor": "white",
            "ticks": ""
           },
           "baxis": {
            "gridcolor": "white",
            "linecolor": "white",
            "ticks": ""
           },
           "bgcolor": "#E5ECF6",
           "caxis": {
            "gridcolor": "white",
            "linecolor": "white",
            "ticks": ""
           }
          },
          "title": {
           "x": 0.05
          },
          "xaxis": {
           "automargin": true,
           "gridcolor": "white",
           "linecolor": "white",
           "ticks": "",
           "title": {
            "standoff": 15
           },
           "zerolinecolor": "white",
           "zerolinewidth": 2
          },
          "yaxis": {
           "automargin": true,
           "gridcolor": "white",
           "linecolor": "white",
           "ticks": "",
           "title": {
            "standoff": 15
           },
           "zerolinecolor": "white",
           "zerolinewidth": 2
          }
         }
        },
        "title": {
         "text": "3d TSNE Plot for Outliers"
        },
        "width": 900
       }
      },
      "text/html": [
       "<div>\n",
       "        \n",
       "        \n",
       "            <div id=\"bd32d432-5417-40d4-9612-eff6ca0a702c\" class=\"plotly-graph-div\" style=\"height:800px; width:900px;\"></div>\n",
       "            <script type=\"text/javascript\">\n",
       "                require([\"plotly\"], function(Plotly) {\n",
       "                    window.PLOTLYENV=window.PLOTLYENV || {};\n",
       "                    \n",
       "                if (document.getElementById(\"bd32d432-5417-40d4-9612-eff6ca0a702c\")) {\n",
       "                    Plotly.newPlot(\n",
       "                        'bd32d432-5417-40d4-9612-eff6ca0a702c',\n",
       "                        [{\"customdata\": [[0.263995357], [0.546092303], [0.33671410399999996], [0.092107835], [0.325261175], [0.212464853], [0.258565714], [0.869236755], [0.197077957], [0.292984504], [0.82178316], [0.796622959], [0.045577010999999994], [0.613660351], [0.9507445659999999], [0.33634633700000005], [0.034440667], [0.741544275], [0.18443265], [0.664514943], [0.16282485800000002], [0.729838445], [0.62837389], [0.057883660999999996], [0.445534827], [0.80183695], [0.27709612], [0.228634015], [0.834860657], [0.6697665110000001], [0.532527349], [0.17045907100000002], [0.5102884679999999], [0.977561989], [0.249775993], [0.9755006820000001], [0.613701727], [0.16742036300000002], [0.537472516], [0.379899131], [0.633897303], [0.633960424], [0.5499746529999999], [0.178172988], [0.85563814], [0.321796672], [0.8174905370000001], [0.254879417], [0.344140513], [0.8061457259999999], [0.27708167100000003], [0.544328519], [0.07708393], [0.273081458], [0.390877336], [0.349621385], [0.214549744], [0.206075222], [0.86461997], [0.9817088540000001], [0.33482964600000004], [0.648387061], [0.093643561], [0.837802698], [0.7603439670000001], [0.29140417399999996], [0.3413454], [0.7611124840000001], [0.541899775], [0.684176639], [0.983535597], [0.52081245], [0.328227724], [0.09715793800000001], [0.876088593], [0.870214512], [0.656086992], [0.306791514], [0.48126734], [0.259559174], [0.326123655], [0.930568042], [0.6583894], [0.689992335], [0.315781109], [0.5669050929999999], [0.637526619], [0.687540723], [0.324300602], [0.592704906], [0.7402531259999999], [0.5940328770000001], [0.596452977], [0.27768081699999997], [0.258329663], [0.142460864], [0.435533461], [0.7024990440000001], [0.58897535], [0.653304374], [0.336968524], [0.631244736], [0.73530076], [0.050390366], [0.064264924], [0.665359476], [0.917835245], [0.44651012], [0.661938199], [0.43935985299999997], [0.6875724040000001], [0.363462248], [0.6542621820000001], [0.578553536], [0.065927945], [0.550148559], [0.13918281400000002], [0.080004635], [0.278228358], [0.560124266], [0.53639864], [0.42653190399999996], [0.789109796], [0.742900474], [0.901692589], [0.650337401], [0.114057311], [0.260812592], [0.43991232], [0.964409284], [0.184401415], [0.345145446], [0.17589458100000002], [0.312514453], [0.674131879], [0.32825045], [0.598231057], [0.09259881699999999], [0.497916521], [0.419776521], [0.31217670000000003], [0.937857107], [0.049030963], [0.47610452600000003], [0.447397526], [0.295806058], [0.737363977], [0.625896253], [0.408813429], [0.437511156], [0.691351375], [0.935555275], [0.437846654], [0.072217715], [0.67636067], [0.468883999], [0.543820644], [0.6555226470000001], [0.6935289240000001], [0.10887831199999999], [0.285463743], [0.0], [0.706495497], [0.273530633], [0.292320271], [0.673984307], [0.12612182800000002], [0.9467074590000001], [0.9363388979999999], [0.8537553640000001], [0.7060713609999999], [0.693682186], [0.508527882], [0.34717038899999997], [0.704154263], [0.658730088], [0.155841557], [0.311085435], [0.281135347], [0.094587802], [0.6832609540000001], [0.9077292509999999], [0.29151267399999997], [0.752734459], [0.93482964], [0.071413953], [0.5948963270000001], [0.404672015], [0.13837621], [0.7473384679999999], [0.530882486], [0.282649594], [0.699335734], [0.056111250999999994], [0.855234998], [0.07789512700000001], [0.891649583], [0.38674227899999997], [0.27113158], [0.958888961], [0.085120869], [0.5269022489999999], [0.066577785], [0.841506738], [0.255342095], [0.060545771], [0.073385869], [0.187493723], [0.858365688], [0.090640352], [0.7097252270000001], [0.631300647], [0.24750447399999997], [0.822843584], [0.373476759], [0.625538582], [0.292951715], [0.299730324], [0.25121407], [0.344480551], [0.293064767], [0.7628032240000001], [0.7384708040000001], [0.674883265], [0.719151612], [0.13098021599999998], [0.511328036], [0.04492903], [0.560914449], [0.7440406409999999], [0.266961634], [0.644231853], [0.038113352], [0.05715529900000001], [0.34139246100000004], [0.7204636320000001], [0.402878236], [0.635148967], [0.320729467], [0.09120969400000001], [0.23414609], [0.8902211309999999], [0.602170884], [0.633652055], [0.806240837], [0.739731184], [0.465231269], [0.7321109], [0.373874305], [0.501587947], [0.11538315800000001], [0.7319466040000001], [0.41829872799999995], [0.062259590999999996], [0.391496379], [0.35984929], [0.24523562699999998], [0.610028339], [0.43540360200000006], [0.434309675], [0.523763344], [0.17118786600000002], [0.18773430300000002], [0.945014638], [0.027851097000000002], [0.68445706], [0.178014532], [0.643427879], [0.59588355], [0.372361682], [0.586103584], [0.271658852], [0.59951107], [0.468363088], [0.314515565], [0.21893726], [0.254716562], [0.25612815], [0.602259755], [0.134381075], [0.513887424], [0.624241636], [0.160251854], [0.580708108], [0.270540486], [0.832919932], [0.93032134], [0.719157884], [0.886720033], [0.098792281], [0.787174286], [0.365592376], [0.719576193], [0.8058956], [0.7555783340000001], [0.526005909], [0.68880424], [0.22111531199999998], [0.739369477], [0.408440236], [0.348926542], [0.433713763], [0.5964966070000001], [0.6942953000000001], [0.7090309659999999], [0.867652984], [0.89332545], [0.746020922], [0.538284443], [0.8922193140000001], [0.935175765], [0.260527707], [0.956780449], [0.204932484], [0.687733351], [0.329063619], [0.632149831], [0.463744506], [0.698859621], [0.385446564], [0.47997537700000004], [0.732279108], [0.3813543], [0.459326013], [0.257401434], [0.665014804], [0.103399542], [0.425284413], [0.943529051], [0.594750236], [0.543776817], [0.18203988], [0.23584208399999998], [0.585984497], [0.762013168], [0.6849829070000001], [0.676936933], [0.290184964], [0.48106822200000005], [0.492766033], [0.22185623399999999], [0.053875998], [0.082751144], [0.385366225], [0.702513961], [0.91553156], [0.082087436], [0.251280378], [0.41672181700000005], [0.277032672], [0.579539754], [0.569363476], [0.133399703], [0.265045463], [0.936571901], [0.252618554], [0.054033081], [0.802481439], [0.528197693], [0.9515026], [0.572121173], [0.752938227], [0.143857535], [0.513484576], [0.313322389], [0.6877973959999999], [0.37705984], [0.348226142], [0.67763282], [0.24138752100000002], [0.8506501790000001], [0.22034810300000002], [0.476445464], [0.690324025], [0.364695946], [0.6492491970000001], [0.9437019209999999], [0.529645971], [0.299097002], [0.96696247], [0.272005242], [0.314161447], [0.752020991], [0.221882453], [0.7203326729999999], [0.379204782], [0.60168653], [0.582932673], [0.950809853], [0.58830141], [0.880887227], [0.467857701], [0.8799021709999999], [0.619844009], [0.359002573], [0.291511278], [0.694157143], [0.727960353], [0.617703921], [0.39581257], [0.58317282], [0.710332374], [0.253753693], [0.049412227999999996], [0.728378695], [0.432432881], [0.58612345], [0.052342373], [0.053483902], [0.518729378], [0.933040208], [0.7035542840000001], [0.268989899], [0.733006927], [0.44435246700000003], [0.5833946210000001], [0.871172692], [0.42876707799999997], [0.30046084100000003], [0.9533294590000001], [0.606443965], [0.90986815], [0.714896449], [0.49734950899999997], [0.8530974859999999], [0.721804145], [0.303467328], [0.664485096], [0.27978062], [0.569481665], [0.628628926], [0.088368123], [0.733567326], [0.537436778], [0.638593691], [0.954726948], [0.632202332], [0.642134651], [0.744653087], [0.115714007], [0.48625007299999995], [0.440356144], [0.08272289], [0.511591027], [0.394627555], [0.224394], [0.626927584], [0.290254057], [0.779008053], [0.86610579], [0.873326081], [0.49548916], [0.594297695], [0.9182015840000001], [0.5770427539999999], [0.019467671000000002], [0.6702982820000001], [0.546595316], [0.591665146], [0.42155819], [0.6856085590000001], [0.340303024], [0.675626741], [0.319067345], [0.38849966399999997], [0.706949589], [0.559409515], [0.687663508], [0.7088045540000001], [0.6818880940000001], [0.42253510899999996], [0.320004605], [0.6582813679999999], [0.634154867], [0.7773320090000001], [0.812677205], [0.074280797], [0.39600217], [0.054933913], [0.825058925], [0.382642009], [0.8687298179999999], [0.588043346], [0.891551577], [0.10920046], [0.647682781], [0.724342512], [0.07016304400000001], [0.280882054], [0.039113261], [0.579641592], [0.639000922], [0.281745925], [0.647857744], [0.6479057970000001], [0.875226264], [0.567603305], [0.262940591], [0.268026042], [0.40519133], [0.479965451], [0.33552403], [0.777165379], [0.42548796299999997], [0.237986115], [0.142522971], [0.724176488], [0.234698933], [0.07818228099999999], [0.855990155], [0.270251765], [0.435517841], [0.762697513], [0.46448725799999996], [0.396112685], [0.37638092100000003], [0.29459467699999997], [0.6944921209999999], [0.622767949], [0.8475597220000001], [0.301463054], [0.912937812], [0.500017182], [0.902587935], [0.304517943], [0.299165673], [0.092014087], [0.488548917], [0.664664437], [0.26534954899999996], [0.723657021], [0.149262385], [0.04577339], [0.69661064], [0.42181486], [0.733845785], [0.418795386], [0.677443529], [0.26128360300000003], [0.268527767], [0.5443222360000001], [0.431632036], [0.981018141], [0.21498072399999998], [0.39472999299999995], [0.122224944], [0.297496875], [0.37490443100000004], [0.68698771], [0.388549207], [0.039296071], [0.73553424], [0.37929489299999997], [0.7321233859999999], [0.33922143899999996], [0.659450594], [0.054838642], [0.640112102], [0.30714170399999996], [0.39661190700000004], [0.420439161], [0.24171497399999997], [0.065893153], [0.9105219370000001], [0.697163103], [0.072559853], [0.81825094], [0.311888815], [0.961644609], [0.816325524], [0.14647302], [0.548753945], [0.946158087], [0.293992717], [0.331479643], [0.9062200309999999], [0.525540416], [0.83301411], [0.514849806], [0.574609024], [0.46871185299999996], [0.71002775], [0.645973276], [0.229794416], [0.551783393], [0.055822990999999995], [0.331750941], [0.715520198], [0.583924357], [0.30695769100000003], [0.7914782370000001], [0.16423663900000002], [0.065711219], [0.948993132], [0.080423835], [0.052495426], [0.566346135], [0.3630266], [0.605442195], [0.6308505839999999], [0.065791238], [0.28681707100000003], [0.685462839], [0.260853706], [0.659122429], [0.44317392200000005], [0.602063986], [0.060366910999999995], [0.781903153], [0.5145798070000001], [0.48388621299999995], [0.600213807], [0.49736405200000006], [0.411145245], [0.116999171], [0.34189014100000004], [0.746950848], [0.39629274600000003], [0.6221438429999999], [0.335271141], [0.140257137], [0.081620681], [0.069837569], [0.46894000799999996], [0.9908574170000001], [0.896616832], [0.255310561], [0.22464526699999998], [0.01991825], [0.296480415], [0.155458996], [0.577916714], [0.9563030309999999], [0.813464394], [0.529675785], [0.287671353], [0.48039136], [0.28104482199999997], [0.633196521], [0.09332537699999999], [0.28447398100000004], [0.052223775], [0.051129385], [0.967405608], [0.040045727999999996], [0.9085829209999999], [0.6621174160000001], [0.42470320899999997], [0.72207806], [0.666193327], [0.509681253], [0.7513536209999999], [0.279073124], [0.074927], [0.916359535], [0.31040327], [0.716604052], [0.485587085], [0.30607518100000003], [0.477558204], [0.7119239409999999], [0.066348638], [0.27453935100000004], [0.31082252], [0.47607312700000004], [0.186795565], [0.26654207], [0.070231142], [0.26951927], [0.800004713], [0.27363366699999997], [0.14647919199999998], [0.378318951], [0.373849065], [0.242170835], [0.249796488], [0.066591188], [0.372956798], [0.501812291], [0.313097752], [0.8802021959999999], [0.51981893], [0.364138746], [0.49268289600000004], [0.285732652], [0.890114985], [0.316419561], [0.26866354], [0.771975959], [0.968888992], [0.080334377], [0.7368282209999999], [0.30055807100000004], [0.9179503929999999], [0.465815039], [0.054036682], [0.963150123], [0.08965350300000001], [0.7076932340000001], [0.636416037], [0.539521117], [0.114757161], [0.357312419], [0.67639834], [0.43482839], [0.032326387000000005], [0.711365605], [0.187486519], [0.052789653], [0.5058636129999999], [0.927431873], [0.6809842559999999], [0.882822186], [0.495705441], [0.596240398], [0.320610701], [0.3413685], [0.159681797], [0.318133669], [0.8393010479999999], [0.06435925099999999], [0.470216633], [0.7762522909999999], [0.635843383], [0.62510543], [0.52959065], [0.986900166], [0.078585688], [0.233284267], [0.363330957], [0.7167169809999999], [0.37588979200000006], [0.223316889], [0.299343986], [0.538595767], [0.730297124], [0.66033077], [0.435296009], [0.326494313], [0.854402708], [0.5734938470000001], [0.757786135], [0.704743233], [0.281575597], [0.671968208], [0.313726015], [0.364338275], [0.368216396], [0.38629520700000003], [0.655971865], [0.5660252729999999], [0.424999093], [0.090110371], [0.772350538], [0.331047258], [0.273716188], [0.23877568], [0.37307977200000003], [0.331185868], [0.256134531], [0.678373225], [0.43463833799999996], [0.654668307], [0.986681065], [0.371520495], [0.408359618], [0.40932365], [0.283412082], [0.395246531], [0.010984428000000001], [0.306013869], [0.266194806], [0.299318521], [0.318293946], [0.74282591], [0.09766432900000001], [0.079666942], [0.613258767], [0.99443072], [0.568835082], [0.7080345159999999], [0.37059271899999996], [0.669867361], [0.651295625], [0.462531569], [0.7196256190000001], [0.45377248], [0.394863946], [0.323974831], [0.146454724], [0.7790670409999999], [0.401828915], [0.601479585], [0.856423023], [0.565242962], [0.301225108], [0.282108144], [0.594378011], [0.705312368], [0.5408696279999999], [0.319249574], [0.36176613799999996], [0.625000704], [0.316287401], [0.047239021], [0.801182233], [0.508474436], [0.8178934109999999], [0.399235601], [0.9740519990000001], [0.72241535], [0.039564764], [0.908684108], [0.47301013399999997], [0.7180496279999999], [0.7634790690000001], [0.6475965370000001], [0.8949973859999999], [0.22282590100000002], [0.359012234], [0.944910252], [0.297877816], [0.172517997], [0.556586265], [0.876481735], [0.48667784299999994], [0.459496733], [0.47412637700000004], [0.70101144], [0.337597387], [0.537578886], [0.966992448], [0.056849545], [0.233249065], [0.380054711], [0.602929443], [0.303847999], [0.170194553], [0.972168554], [0.332168927], [0.6887286890000001], [0.110773401], [0.273352065], [0.572939678], [0.491457065], [0.281389999], [0.821697261], [0.6749776829999999], [0.585134549], [0.7105961159999999], [0.040488789], [0.568054311], [0.321752928], [0.611850232], [0.926096887], [0.618347428], [0.667629785], [0.39773346600000004], [0.290875487], [0.594375103], [0.508255233], [0.338571357], [0.43230234700000003], [0.302221978], [0.87619819], [0.080204492], [0.092333532], [0.09365644699999999], [0.6084523510000001], [0.732654598], [0.944158855], [0.26742308], [0.731124201], [0.661308553], [0.38776626200000003], [0.962585273], [0.322067067], [0.6340810929999999], [0.475345002], [0.35355897299999994], [0.8859363159999999], [0.876798106], [0.221581064], [0.394362449], [0.8050356759999999], [0.452898486], [0.592520516], [0.761026394], [0.245049023], [0.37213936299999995], [0.681054822], [0.7471431479999999], [0.9207395290000001], [0.097207945], [0.699302998], [0.721647006], [0.5353561139999999], [0.738293805], [0.7064675509999999], [0.67395061], [0.7112122909999999], [0.302558708], [0.080097855], [0.707010837], [0.512248622], [0.659627472], [0.657559694], [0.100645606], [0.92665363], [0.892879338], [0.839157508], [0.890959718], [0.556754471], [0.960361937], [0.631037864], [0.029838065], [0.278843351], [0.926157705], [0.551504258], [0.485942349], [0.43723469600000003], [0.25231801800000003], [0.515466972], [0.43725229600000004], [0.493724207], [0.83324725], [0.317521477], [0.28623456199999997], [0.726833965], [0.495667033], [0.028645255], [0.31967191699999997], [0.674344598], [0.7660371890000001], [0.65456992], [0.7565143809999999], [0.528253719], [0.38971949100000003], [0.355087459], [0.87015202], [0.7390833059999999], [0.305761846], [0.411587673], [0.063633094], [0.735409395], [0.605916669], [0.539395562], [0.566183532], [0.674795186], [0.070993366], [0.12526410000000002], [0.279601492], [0.952174402], [0.233806762], [0.43724742899999997], [0.925423095], [0.433498634], [0.52517902], [0.088435529], [0.447677638], [0.647000631], [0.9036033370000001], [0.265790738], [0.66419695], [0.498120658], [0.49018894399999996], [0.747084187], [0.906783648], [0.678770917], [0.348599859], [0.294839683], [0.705691827], [0.211917931], [0.063201124], [0.276699543], [0.672459395], [0.8082059490000001], [0.296538373], [0.16012686199999998], [0.439385032], [0.555951416], [0.386240112], [0.158689619], [0.214499855], [0.299579429], [0.569161656], [0.488614799], [0.8782950209999999], [0.649380949], [0.465713341], [0.16813774], [0.87529545], [0.8411323409999999], [0.33292081], [0.5130478589999999], [0.30505507800000004], [0.8126269909999999], [0.25096706], [0.5024355779999999], [0.45799074100000003]], \"hoverlabel\": {\"namelength\": 0}, \"hovertemplate\": \"0=%{x}<br>1=%{y}<br>2=%{z}<br>Feature=%{customdata[0]}<br>Label=%{marker.color}\", \"legendgroup\": \"\", \"marker\": {\"color\": [0, 0, 1, 1, 0, 0, 0, 1, 1, 1, 0, 1, 0, 0, 1, 0, 0, 0, 0, 0, 1, 0, 0, 1, 1, 1, 0, 0, 1, 1, 0, 0, 0, 1, 1, 1, 0, 0, 0, 0, 0, 0, 0, 1, 0, 0, 0, 0, 0, 0, 0, 1, 0, 1, 0, 1, 0, 0, 0, 1, 0, 0, 0, 1, 0, 0, 1, 0, 0, 0, 0, 0, 0, 0, 0, 0, 0, 0, 0, 0, 0, 0, 0, 0, 0, 0, 0, 0, 0, 0, 0, 0, 0, 0, 0, 0, 0, 0, 0, 0, 0, 0, 0, 0, 0, 0, 0, 0, 0, 0, 0, 0, 0, 0, 0, 0, 0, 0, 0, 0, 0, 0, 0, 0, 0, 0, 0, 0, 0, 0, 1, 0, 0, 0, 0, 0, 0, 0, 0, 0, 0, 0, 0, 0, 0, 0, 0, 0, 0, 0, 0, 0, 0, 0, 0, 0, 0, 0, 0, 0, 0, 0, 0, 0, 0, 0, 0, 0, 0, 0, 0, 0, 0, 0, 0, 0, 0, 0, 0, 0, 0, 0, 0, 0, 1, 0, 0, 0, 0, 0, 0, 0, 0, 0, 0, 0, 0, 0, 1, 0, 0, 0, 0, 0, 0, 0, 0, 0, 0, 0, 0, 0, 0, 0, 0, 0, 0, 0, 0, 0, 0, 0, 0, 0, 0, 0, 0, 0, 0, 1, 0, 0, 0, 0, 0, 0, 0, 0, 0, 0, 0, 0, 0, 0, 0, 0, 0, 0, 0, 0, 0, 0, 0, 0, 0, 0, 1, 0, 0, 0, 0, 0, 0, 0, 0, 0, 0, 0, 0, 0, 0, 0, 0, 0, 0, 0, 0, 0, 0, 0, 0, 0, 0, 0, 0, 0, 0, 0, 0, 0, 0, 0, 0, 0, 0, 0, 0, 0, 0, 0, 0, 0, 0, 0, 0, 0, 0, 0, 0, 0, 0, 0, 0, 0, 0, 0, 0, 0, 0, 0, 0, 0, 0, 0, 0, 0, 0, 0, 0, 0, 0, 0, 0, 0, 0, 0, 0, 0, 0, 0, 0, 0, 0, 0, 0, 0, 0, 0, 0, 0, 0, 0, 0, 0, 0, 0, 0, 0, 0, 0, 0, 0, 0, 0, 0, 0, 0, 0, 0, 0, 0, 0, 0, 0, 0, 0, 0, 0, 0, 0, 0, 0, 0, 0, 0, 0, 0, 0, 0, 0, 0, 0, 1, 0, 0, 0, 0, 0, 0, 0, 0, 0, 0, 0, 0, 0, 0, 0, 0, 0, 0, 0, 0, 0, 0, 0, 0, 0, 0, 0, 0, 0, 0, 0, 0, 0, 0, 0, 0, 0, 0, 0, 0, 0, 0, 0, 0, 0, 0, 0, 0, 0, 0, 0, 0, 0, 0, 0, 0, 0, 0, 0, 0, 0, 0, 0, 0, 0, 0, 0, 0, 0, 0, 0, 0, 0, 0, 0, 0, 0, 0, 0, 0, 0, 1, 0, 0, 0, 0, 0, 0, 0, 0, 0, 0, 0, 0, 0, 0, 0, 0, 0, 0, 0, 0, 0, 0, 0, 0, 0, 0, 0, 0, 0, 0, 0, 0, 0, 0, 0, 0, 0, 0, 0, 0, 1, 0, 0, 0, 0, 0, 0, 0, 1, 0, 0, 0, 0, 0, 0, 0, 0, 0, 0, 0, 0, 0, 0, 0, 0, 0, 0, 0, 0, 0, 0, 0, 0, 0, 0, 0, 0, 0, 0, 0, 0, 0, 0, 0, 0, 0, 0, 0, 0, 0, 0, 0, 0, 0, 0, 0, 0, 0, 0, 0, 0, 0, 0, 0, 0, 0, 0, 0, 0, 0, 0, 0, 0, 0, 0, 0, 0, 0, 0, 0, 0, 0, 0, 0, 0, 0, 0, 1, 0, 0, 0, 0, 0, 0, 0, 0, 0, 0, 0, 0, 0, 0, 0, 0, 0, 0, 0, 0, 0, 0, 0, 0, 0, 0, 0, 0, 0, 0, 0, 0, 0, 0, 0, 0, 0, 0, 0, 0, 0, 0, 0, 0, 0, 0, 0, 0, 0, 0, 0, 0, 0, 0, 0, 0, 0, 0, 0, 0, 0, 0, 0, 0, 0, 0, 0, 0, 0, 0, 0, 0, 0, 0, 0, 0, 0, 1, 0, 0, 0, 0, 0, 0, 0, 0, 0, 0, 0, 0, 0, 0, 0, 0, 0, 0, 0, 1, 1, 0, 1, 0, 0, 0, 0, 1, 0, 1, 0, 0, 1, 0, 0, 1, 1, 1, 0, 1, 0, 1, 0, 1, 0, 0, 0, 0, 0, 0, 0, 0, 0, 0, 0, 0, 0, 0, 0, 0, 0, 0, 1, 0, 0, 0, 0, 0, 0, 0, 0, 0, 0, 0, 0, 0, 0, 0, 0, 0, 0, 0, 0, 0, 0, 0, 0, 0, 1, 0, 0, 0, 0, 0, 0, 0, 0, 0, 0, 0, 0, 0, 0, 0, 0, 0, 0, 0, 0, 1, 0, 0, 0, 0, 0, 0, 0, 0, 0, 0, 0, 0, 0, 0, 0, 0, 0, 0, 0, 0, 0, 0, 0, 0, 0, 0, 0, 0, 0, 0, 0, 0, 0, 0, 0, 0, 0, 0, 0, 0, 0, 0, 0, 0, 0, 0, 0, 0, 0, 0, 0, 0, 0, 0, 0, 0, 0, 0, 0, 0, 0, 0, 0, 0, 0, 0, 0, 0, 0, 0, 0, 0, 0, 0, 0, 0, 0, 0, 0, 0, 0, 0, 0, 0, 0, 0, 0, 0, 0, 0, 0, 0, 0, 0, 0, 0, 0, 0, 0, 0, 0, 1, 0, 0, 0, 0, 0, 0, 0, 0, 0, 0, 0, 0, 0, 0, 0, 0, 0, 0, 0, 0, 0, 0, 0, 0, 0, 0, 0, 0, 0, 0, 0, 0, 0, 0, 0, 0, 0, 0, 0, 0, 0, 0, 0, 0, 0, 0, 0, 0, 0, 0, 0, 0, 0, 0, 0, 0, 0, 0, 0, 0, 0, 0, 0, 0, 0, 0, 0, 0, 0, 0, 0, 0, 0, 0, 0, 0, 0, 0, 0, 0, 0, 0, 0, 0, 0, 0, 0, 0, 0, 0, 0, 0, 0, 0, 0, 0, 0, 0, 0, 0, 0, 0, 0, 0, 0, 0, 0], \"coloraxis\": \"coloraxis\", \"opacity\": 0.7, \"symbol\": \"circle\"}, \"mode\": \"markers\", \"name\": \"\", \"scene\": \"scene\", \"showlegend\": false, \"type\": \"scatter3d\", \"x\": [-2.228860378265381, 12.577690124511719, -6.284041881561279, 1.0664464235305786, -11.581093788146973, 0.061776380985975266, 11.80321216583252, -1.7860677242279053, 6.665760517120361, 5.480420112609863, -5.0728607177734375, -6.056686878204346, -2.5350589752197266, 0.7800741791725159, -4.067188262939453, -1.7820029258728027, -2.536381959915161, 13.020743370056152, -4.961194038391113, -4.5940775871276855, 0.7637779116630554, -5.052568435668945, -11.986549377441406, 7.190486907958984, -3.833418369293213, -3.0574066638946533, -5.653205394744873, 3.098292112350464, -1.1090384721755981, -0.6062548756599426, 4.191065311431885, 8.097227096557617, -1.4465992450714111, -2.2245774269104004, 5.710297584533691, -3.4185571670532227, 3.2720532417297363, 2.9436776638031006, -5.27417516708374, -0.5529140830039978, 4.5307183265686035, -2.259774923324585, 4.502655029296875, -4.5110321044921875, -3.511200428009033, -1.1528126001358032, -2.622183322906494, 6.914196014404297, -5.936248779296875, 8.829246520996094, -2.6650643348693848, -3.4123096466064453, 4.250076770782471, -1.2248814105987549, -1.8415939807891846, 3.410785436630249, 4.442391395568848, 3.6355230808258057, -2.064091920852661, -4.717880725860596, 9.795024871826172, 9.844907760620117, -7.461899280548096, -1.9638402462005615, 1.4574438333511353, -2.1068437099456787, 8.499433517456055, 13.186751365661621, -6.433034896850586, -5.404757022857666, -3.5575754642486572, 0.565438449382782, -5.9639129638671875, -1.7431271076202393, -4.563520908355713, -3.6728808879852295, -6.960380554199219, -3.928337335586548, -6.278783798217773, -4.240365028381348, -3.735497236251831, -5.372715950012207, -10.77950382232666, 10.388039588928223, 9.598977088928223, 7.780372142791748, 5.925422668457031, 10.959521293640137, 5.694258689880371, -7.302033424377441, -5.845822334289551, -4.141200065612793, 4.423626899719238, 11.264847755432129, 5.199147701263428, -6.528317451477051, 1.9234213829040527, 7.417201519012451, 11.716373443603516, -7.903291702270508, -6.382229328155518, 7.955598831176758, 7.938965797424316, 4.403183460235596, -6.427404880523682, -0.05155203863978386, 1.1867425441741943, 6.522663116455078, -3.7050516605377197, -2.919398546218872, -8.393109321594238, -7.503132343292236, -6.478385925292969, -2.5552279949188232, -8.517919540405273, -7.137053966522217, 7.392452239990234, 11.36262035369873, -0.4622538089752197, 12.740541458129883, -7.0482096672058105, 4.7055768966674805, 5.866647720336914, 3.8876819610595703, 11.61674976348877, 10.637139320373535, 5.698704719543457, 0.21383816003799438, 9.836324691772461, 10.47905158996582, 8.068517684936523, 2.6401140689849854, -1.4496777057647705, 9.07526683807373, 7.9957475662231445, -1.4053541421890259, -10.626839637756348, 0.8024660348892212, 9.552774429321289, 3.761972427368164, -2.126093626022339, -6.6720781326293945, 5.230596542358398, -10.43778133392334, 13.158466339111328, -1.8854684829711914, -3.8349618911743164, 8.443531036376953, 10.657323837280273, 1.7222236394882202, -8.820014953613281, -5.141743183135986, 4.525584697723389, 5.713095188140869, -5.170064449310303, 2.084984064102173, 1.8008155822753906, 4.86546516418457, -5.223818778991699, -2.777992010116577, 8.523974418640137, 8.39171028137207, -8.146801948547363, -6.152288913726807, -1.4286847114562988, 6.785032749176025, -1.2168139219284058, -1.0761562585830688, -6.640590667724609, 12.883835792541504, 1.2415940761566162, 6.786478042602539, -4.459128379821777, -9.086247444152832, 8.887572288513184, 10.010730743408203, -3.058973550796509, -8.448216438293457, 10.297499656677246, 1.4147157669067383, 6.365427494049072, -6.308582782745361, 6.445900917053223, -0.11816973984241486, -0.5107977986335754, 8.516667366027832, -4.525557518005371, 8.073786735534668, -2.3209803104400635, -5.361998558044434, 7.947316646575928, -10.060263633728027, -4.096883296966553, -8.508841514587402, 5.687998294830322, 10.304128646850586, 5.590212345123291, 4.851978778839111, -7.3629021644592285, 10.876814842224121, 6.194421768188477, 2.4633097648620605, 6.687450408935547, -10.62108039855957, -7.464133262634277, 7.7397918701171875, -5.212975978851318, 6.588122367858887, -5.879024028778076, 7.969080448150635, 9.291686058044434, -6.478931903839111, -3.575086832046509, -7.745131969451904, 4.79288911819458, 6.871504783630371, 8.63042163848877, -4.6563801765441895, -5.01506233215332, 5.237311840057373, -7.312736511230469, 8.627803802490234, -9.503497123718262, -4.359610557556152, 6.852203369140625, -5.591213703155518, 2.9395694732666016, -1.6989539861679077, 7.549280166625977, -8.624635696411133, 10.241083145141602, 4.216075897216797, 0.20630905032157898, 1.016715168952942, 11.546416282653809, 8.202818870544434, 4.153412818908691, -4.537341594696045, 0.24021901190280914, -8.787294387817383, 6.448633193969727, 5.494231700897217, -8.05835247039795, 10.791607856750488, -1.373557448387146, 7.241780757904053, -2.0902936458587646, -8.330763816833496, 2.902975559234619, -11.640986442565918, 7.684759616851807, 7.247178554534912, 0.6474030613899231, 8.369217872619629, -0.47436124086380005, 7.217154026031494, -2.570347547531128, 9.807963371276855, -8.782440185546875, 13.281484603881836, -9.193435668945312, 7.51889705657959, -10.480064392089844, 7.190901756286621, 6.0895795822143555, 10.8956298828125, 0.44106265902519226, 6.597700595855713, -3.726874828338623, 3.3947043418884277, 5.939929008483887, 7.019020080566406, -3.23854398727417, -9.022148132324219, -2.0977320671081543, 7.815726280212402, -6.202154636383057, -9.952970504760742, 7.104217529296875, -2.108586549758911, 3.7092318534851074, -9.0183687210083, -0.920403778553009, -1.6809030771255493, -8.04576587677002, 8.554597854614258, 10.173012733459473, 8.933881759643555, 9.28424072265625, -6.6336565017700195, -8.353789329528809, 7.341463565826416, 0.9848350882530212, 8.672761917114258, 10.33313274383545, -4.177332401275635, -3.3769326210021973, -7.095172882080078, 2.498406410217285, -2.980109214782715, 8.603407859802246, 10.105408668518066, -2.603764533996582, -0.9231515526771545, -3.2498552799224854, -6.51222038269043, 6.369877815246582, -6.7589521408081055, 5.029234886169434, -0.21070559322834015, -0.7639937996864319, 7.4884562492370605, -6.722894191741943, -9.02753734588623, 5.641104221343994, -3.8988897800445557, 12.600533485412598, 10.727083206176758, -6.494339466094971, 6.275482654571533, 7.847968578338623, -4.1720099449157715, 0.8303453922271729, 8.410205841064453, -7.975577354431152, -4.16532039642334, 1.4307318925857544, -0.46772512793540955, -7.711073875427246, -2.8685178756713867, 6.435379981994629, -6.308261871337891, 8.144577026367188, 0.8788028359413147, 11.071372032165527, -7.359241962432861, 9.859606742858887, -0.9605051279067993, -4.163904190063477, -7.3860554695129395, -1.8209633827209473, -1.5845606327056885, -0.5122547149658203, 6.39533805847168, -1.3870751857757568, -9.132806777954102, 9.054706573486328, 6.7995405197143555, -0.3775201141834259, -5.9179840087890625, 7.474891662597656, -2.6563541889190674, 13.400883674621582, 6.667248249053955, 10.183691024780273, -1.3163478374481201, 4.737542629241943, 9.783074378967285, -5.520617961883545, -4.508260250091553, 11.6054048538208, 7.5387773513793945, 2.716801643371582, 5.577029705047607, 0.07224529981613159, -8.244250297546387, -2.266157627105713, 8.780436515808105, 9.23017406463623, 6.247762203216553, 5.963048458099365, 6.282208442687988, -8.001664161682129, -5.871500015258789, 0.8751677870750427, 2.6529674530029297, -6.1106157302856445, -2.1992945671081543, 6.047807216644287, -5.41538667678833, -2.2810375690460205, 2.9841725826263428, -4.269057750701904, -5.390401363372803, 11.07370376586914, 1.7590653896331787, 0.5961273908615112, 1.470776915550232, 9.900223731994629, -7.925904273986816, 8.778279304504395, 1.463727355003357, -4.974360466003418, -4.6041975021362305, 12.07699203491211, 6.723720073699951, -0.09763072431087494, -0.8225705623626709, -4.196243762969971, -1.4012510776519775, 12.774786949157715, 8.275148391723633, 7.773645877838135, 7.319730281829834, -0.5774207711219788, 7.228987693786621, -6.29643440246582, 2.075887680053711, -3.6559102535247803, 4.994998931884766, 10.199211120605469, -5.716163158416748, -4.832282543182373, -7.3088297843933105, 7.733158111572266, 4.341042995452881, 11.168532371520996, 11.262199401855469, -0.5002861022949219, -8.833702087402344, -8.111064910888672, 3.8313612937927246, 8.38663387298584, 11.013618469238281, -6.42587947845459, 8.443536758422852, 10.538613319396973, -3.0518782138824463, -5.030318260192871, -6.952258110046387, -6.924302101135254, 9.580366134643555, 10.569820404052734, -0.8451346158981323, -3.901481866836548, 7.015557289123535, 12.98424243927002, -8.3756103515625, -4.262188911437988, -6.891494274139404, -0.5213068127632141, -7.007541656494141, -7.730127811431885, -7.763887405395508, 5.139947414398193, -3.8238468170166016, -2.762456178665161, 6.400289058685303, -10.27739429473877, -6.054440021514893, 8.501155853271484, -10.062939643859863, 3.59672474861145, -7.083093166351318, -5.621299743652344, 5.715819835662842, 8.825089454650879, -10.103282928466797, -6.252643585205078, -5.308992385864258, 11.622617721557617, -7.238418102264404, 4.855252742767334, -2.7296783924102783, 6.384557247161865, -5.849569320678711, -3.3341310024261475, -2.8378279209136963, 7.205883026123047, -7.4355387687683105, -6.625311851501465, 13.54342269897461, 5.403909683227539, -2.6984589099884033, 2.4192380905151367, 6.4663920402526855, 10.256486892700195, -3.0053820610046387, -0.5416362881660461, 11.298141479492188, 5.216236591339111, 9.488368034362793, -2.442330837249756, -8.107684135437012, 8.051945686340332, -8.418233871459961, 5.8400044441223145, -5.359523296356201, -1.6789876222610474, -9.731755256652832, -8.097864151000977, -4.748932838439941, -5.9891839027404785, -2.706448554992676, -7.841117858886719, -3.6377906799316406, 4.7841267585754395, -3.875110387802124, 6.171699047088623, -7.6170854568481445, 9.58953857421875, 3.339539051055908, -4.781579971313477, 5.937280654907227, -4.5378289222717285, -9.677632331848145, -5.9769439697265625, 7.356753826141357, -6.217166900634766, -7.08273983001709, -9.571218490600586, 5.545504570007324, 5.166569709777832, -6.629425048828125, -6.07865571975708, 5.356722831726074, 7.249211311340332, -6.044473648071289, 7.611853122711182, 5.586456298828125, -7.581165790557861, -10.296512603759766, -7.094371795654297, -7.65621280670166, -5.90174674987793, 6.293210029602051, -4.781857967376709, 10.025630950927734, 9.04805850982666, -4.80477237701416, 7.773828506469727, -3.4395763874053955, -2.413374423980713, 5.850276947021484, -5.0739054679870605, -1.191658854484558, 5.689640522003174, -10.00041675567627, 0.823623538017273, 3.732814073562622, 5.018153190612793, -3.4325644969940186, 9.924915313720703, 10.543179512023926, 7.122711658477783, -1.7940278053283691, -1.312641978263855, -1.8797876834869385, -3.2232627868652344, -1.098804235458374, 3.8672568798065186, -2.0887653827667236, -7.445903778076172, -5.15367317199707, 7.333438396453857, 9.551985740661621, -3.061774730682373, -4.114645004272461, 0.618176281452179, 7.427008152008057, -8.113567352294922, -4.859651565551758, 7.621906280517578, -5.254582405090332, 11.200140953063965, -4.488792419433594, 7.718145847320557, 3.2890071868896484, -5.064964771270752, -6.132907867431641, -3.6138432025909424, -5.408923149108887, -1.3277924060821533, -6.166964530944824, 9.598068237304688, -1.5898544788360596, 11.457622528076172, 10.56515884399414, -2.0173983573913574, -8.107250213623047, -7.244853496551514, -8.027791023254395, -5.922192573547363, 11.195801734924316, 4.911828994750977, -5.059798240661621, -4.117822647094727, 1.8242607116699219, 7.289655685424805, -2.5248639583587646, 8.25462818145752, 4.960574626922607, 6.3531575202941895, -1.142791748046875, 5.322380542755127, 5.2353196144104, -0.2924994230270386, -3.5801148414611816, -3.6744062900543213, -7.840586185455322, -0.39333823323249817, 5.421979904174805, -7.735016822814941, 10.226202011108398, -4.713062763214111, 9.617226600646973, -1.0414689779281616, -6.903735637664795, 12.369473457336426, 9.509881973266602, -7.031464576721191, -7.2827558517456055, -8.250550270080566, -2.9956531524658203, -1.4674179553985596, 7.138277530670166, 5.339495658874512, 4.853397369384766, 12.192168235778809, -4.381965637207031, 3.9707021713256836, 5.102185249328613, 7.037681579589844, 7.375735282897949, -7.118437767028809, -3.172290563583374, 8.481939315795898, -9.141013145446777, 3.373732328414917, -3.1567561626434326, 7.472964286804199, 5.354548931121826, -6.356005668640137, -10.49884033203125, -7.250772476196289, 0.6024205088615417, -8.425726890563965, 4.140701770782471, -5.828146457672119, 4.564270973205566, -7.399039268493652, 7.738222122192383, 10.146627426147461, -5.996638298034668, -6.9172773361206055, -8.735573768615723, -6.8157219886779785, -1.179423451423645, -4.291281700134277, -3.932753086090088, 2.9161412715911865, 8.283365249633789, 3.7547802925109863, -0.8541553020477295, 9.738603591918945, 8.349492073059082, -9.022758483886719, -2.025482177734375, 1.960820198059082, -3.2068355083465576, -2.3669509887695312, 4.546800136566162, 6.261682033538818, -2.8199663162231445, -2.819380044937134, 4.224338054656982, 0.7361573576927185, 9.223808288574219, 4.822003364562988, 9.21163272857666, 4.204482078552246, -1.0353832244873047, 7.370240688323975, 3.441171169281006, -3.350825071334839, 3.7656424045562744, 8.93793773651123, -5.9298295974731445, -1.6874769926071167, 9.060079574584961, -6.695617198944092, 4.706357955932617, -2.0496416091918945, -4.384429931640625, 8.859667778015137, 9.00092887878418, -2.147017002105713, 5.72753381729126, -4.672123908996582, -0.8588306903839111, -3.162719488143921, -1.3574309349060059, -4.692991256713867, 5.996997356414795, -4.751346111297607, -2.3552205562591553, -4.566289901733398, -5.680476665496826, -5.920840263366699, -5.013506889343262, 5.01333475112915, 5.40548038482666, 0.7417052388191223, -1.0807722806930542, -0.763154923915863, 4.271848201751709, -2.9482455253601074, -9.166050910949707, 2.999305009841919, -4.885488510131836, -2.2702016830444336, 4.219018459320068, 13.675496101379395, -2.931995391845703, -1.33631432056427, -4.899499893188477, 0.2951313555240631, -0.46589964628219604, -1.4756630659103394, 2.8482046127319336, -5.05361270904541, 5.405726432800293, 4.968311786651611, -3.3207156658172607, 10.769630432128906, -1.4285614490509033, -6.301051616668701, -2.272688150405884, 1.905642032623291, -0.5522622466087341, 9.283080101013184, -7.0453715324401855, 3.6188926696777344, 13.53640079498291, 7.826632976531982, -5.618253707885742, -7.340961456298828, -7.5522637367248535, -6.618430137634277, -7.0830512046813965, 1.7073698043823242, -2.4952657222747803, -2.3216395378112793, -7.577926158905029, -4.237790584564209, -7.079353332519531, -7.3587446212768555, -5.592233657836914, -9.772319793701172, -2.835977077484131, 11.80856990814209, -7.830564498901367, 5.060678958892822, 5.796876907348633, 4.075202941894531, -8.392547607421875, -4.178523540496826, 7.8032002449035645, -6.525744438171387, 7.2298455238342285, -0.5227217078208923, 7.515521049499512, 1.9335323572158813, 10.371767044067383, -3.6942825317382812, 8.574275970458984, 7.20864200592041, -9.15593433380127, 10.868865966796875, -10.193160057067871, -3.9930667877197266, -0.32041600346565247, 5.0448689460754395, 10.159150123596191, -3.4547202587127686, 5.5010294914245605, 3.346820592880249, 4.879302501678467, -6.277997016906738, -4.0279107093811035, -5.59103536605835, 8.033931732177734, 7.02197790145874, -8.522753715515137, -8.357047080993652, -1.7897549867630005, 7.934512615203857, -3.3331189155578613, -5.494784355163574, -5.446815013885498, -0.22409318387508392, -3.6063053607940674, -8.12496566772461, -6.023895263671875, 6.321352958679199, 6.790988445281982, 3.744568109512329, -10.049747467041016, -6.504160404205322, 8.556523323059082, 4.932275772094727, 1.9385453462600708, 8.350805282592773, 11.745229721069336, -8.892029762268066, 7.835700511932373, 5.825870990753174, 8.836295127868652, -2.5053060054779053, 6.524092197418213, -8.538926124572754, -6.74479341506958, -6.14680814743042, -7.559772968292236, 6.974421977996826, -10.092184066772461, 8.075923919677734, -2.051757335662842, -2.9584460258483887, -1.2122156620025635, -5.286823272705078, -9.221075057983398, -7.157975196838379, 9.330208778381348, 5.368824005126953, 13.37731647491455, -2.687148094177246, -5.29838752746582, -5.405529022216797, -4.065643787384033, 9.817110061645508, -4.68197774887085, -6.857534885406494, -6.200590133666992, -10.540870666503906, -4.2465081214904785, -7.757180213928223, -10.742093086242676, -6.058905601501465, 6.059488296508789, -6.463338851928711, 4.471274375915527, -0.6409196853637695, 7.3615241050720215, 10.032334327697754, -4.24730110168457, 5.1063337326049805, -6.738753795623779, -8.579696655273438, 11.880921363830566, -2.90543270111084, -8.541109085083008, 6.166356086730957, -6.710350036621094, 9.58586597442627, 4.581825256347656, 7.336939811706543, -3.0408051013946533, -5.821531295776367, -8.220337867736816, -5.7702956199646, -4.892439365386963, 8.43964672088623, -7.429684162139893, 5.793053150177002, 0.5302321314811707, 10.975873947143555, -5.473518371582031, -4.290376663208008, -6.809387683868408, -5.876906871795654, 3.907668113708496, 6.010889053344727, -8.832857131958008, 5.421226978302002, 1.3719079494476318, 11.600725173950195, 6.102303981781006, -1.069534182548523, -7.111140727996826, -7.999663352966309, -9.6492919921875, -0.9823145270347595, 1.6057754755020142, -1.0127335786819458, -5.827842712402344, -4.054805755615234, 1.8879010677337646, -2.741255283355713, -5.394604206085205, -9.403769493103027, -0.49252957105636597, -6.89953088760376, -1.1131867170333862, 0.42193037271499634, -5.353077411651611, -1.8295722007751465, 9.260992050170898, 9.186810493469238, 8.73531723022461, 8.919468879699707, 7.655017375946045, 4.645834922790527, -2.674808979034424, -8.183305740356445, -11.124557495117188, -3.0050270557403564, 8.325562477111816, -6.706543922424316, -4.819650650024414, 8.503301620483398, 1.7814209461212158, 4.11381721496582, -4.954191207885742, -7.027617454528809, -9.344313621520996, -0.2756063938140869, 6.412850379943848, -3.6693925857543945, -5.533822536468506, -7.746467590332031, -1.1598901748657227, 12.429618835449219, -2.6044092178344727, 4.087840557098389, -9.072345733642578, 6.670416355133057, -0.8603881001472473, 2.7779178619384766, 4.44109582901001, -9.98312759399414, 5.0746355056762695, 5.680584907531738, -2.663198471069336, -0.8766714930534363, -6.760722637176514, 1.8180800676345825, -6.3540143966674805, 10.862854957580566, -5.393723011016846, -5.617354393005371, 7.989596366882324, -6.399173736572266, -3.7243547439575195, -7.270140171051025, -6.945712089538574, -8.074971199035645, -5.101841449737549, 7.605972766876221, 6.763376712799072, 0.06297390908002853, 2.1538078784942627, -1.8384231328964233, 0.7197816967964172, 1.5930795669555664, 11.235686302185059, -4.951517581939697, -3.6368820667266846, -6.312007904052734, 5.776294231414795, 7.643830299377441, 3.518845319747925, -8.287419319152832, -6.49079704284668, -1.9710875749588013, 5.655033588409424, 8.85398006439209, -4.629637718200684, -6.05420446395874, 7.54987096786499, -5.054768085479736, -8.559288024902344, -1.5376036167144775, -8.974498748779297, -2.92891263961792, 9.361671447753906, 11.355582237243652, -5.789516925811768, 3.7418737411499023, -3.8870227336883545, -6.731863021850586, -6.6592535972595215, -7.164330005645752, 9.40520191192627, -5.207013130187988, 8.018461227416992, 5.956302642822266, -4.112168788909912, -5.4891557693481445, -8.484598159790039, -2.0049493312835693, -5.813067436218262, -9.15054988861084, -6.3687872886657715, -6.028939247131348, -1.1637102365493774, 12.302079200744629, -5.344394683837891, -1.767267107963562, -7.409877777099609], \"y\": [-8.883255958557129, 6.047970771789551, -10.790406227111816, 5.061140060424805, -11.38151741027832, 2.5681657791137695, 11.546904563903809, 3.6685783863067627, -5.991124629974365, 14.046464920043945, 5.292952060699463, -11.87396240234375, 10.025838851928711, -1.2375826835632324, -6.592548847198486, -7.552189826965332, 9.993196487426758, 6.495308876037598, -10.405658721923828, -11.297259330749512, 2.273325204849243, -4.286865711212158, -6.705203056335449, -5.199796676635742, 0.30036675930023193, -1.6774413585662842, -11.25582504272461, -3.651715040206909, -5.049694061279297, -3.2954554557800293, -5.492977619171143, 5.746698379516602, 0.11197247356176376, -5.994361877441406, -1.5244911909103394, -3.1583104133605957, 8.117308616638184, -3.5312111377716064, -6.320224285125732, 2.263620138168335, 9.442543029785156, -3.1011667251586914, 4.981630325317383, -0.5837031602859497, -3.7514617443084717, -8.112139701843262, -4.111227989196777, -5.472132205963135, -11.698281288146973, 6.847743034362793, 8.060256004333496, -9.413061141967773, -1.2796908617019653, -7.848847389221191, 3.8113746643066406, 11.188733100891113, 12.802006721496582, 7.925227642059326, -5.305333137512207, -8.417808532714844, -1.3811678886413574, 1.1677137613296509, -5.03129768371582, -2.5813567638397217, 6.908131122589111, -4.10068941116333, 5.17542028427124, 5.805266380310059, -10.694990158081055, 3.1551640033721924, -1.8214473724365234, 2.712047815322876, -7.935995101928711, 7.267119407653809, -9.18397331237793, -4.960964202880859, -8.40284252166748, -3.4686191082000732, -5.303107738494873, -2.8046886920928955, -3.4548051357269287, -3.6702017784118652, -7.196410655975342, 2.0579373836517334, 8.430061340332031, 2.327939033508301, 7.259184837341309, 8.625879287719727, 0.6441736221313477, -4.720020294189453, -6.498652935028076, 5.574830055236816, 3.7023890018463135, 11.924087524414062, 9.738364219665527, -3.778644561767578, 0.8621302843093872, 2.6870975494384766, 1.216050148010254, -7.567256450653076, -7.506858825683594, 7.355350971221924, 2.170957088470459, 0.13389994204044342, -4.629244804382324, -0.7791441082954407, 3.492821216583252, 6.288625240325928, -8.397464752197266, -3.5645744800567627, -4.807216644287109, -5.805266380310059, 7.522634506225586, -5.1411356925964355, -11.361440658569336, -3.222277879714966, 13.04832649230957, 12.21064567565918, 6.001383304595947, 2.5357792377471924, -2.9256458282470703, -1.011472225189209, 4.817085266113281, 6.872631072998047, 0.47018781304359436, 4.7531962394714355, 8.21556282043457, 4.108928203582764, 7.555516719818115, 3.5134780406951904, -1.5775786638259888, 0.34332704544067383, 7.559571743011475, 9.634659767150879, 8.71292781829834, -7.598311424255371, -8.548823356628418, 6.780901908874512, 5.4887189865112305, -1.5675281286239624, 7.041368007659912, -2.9772698879241943, -0.2859291434288025, -8.995163917541504, 3.1798062324523926, -1.9878898859024048, 3.271723747253418, 6.880021095275879, 5.9220452308654785, 0.32919663190841675, -4.789770603179932, -5.268361568450928, 1.8454219102859497, 0.3340080976486206, -5.665465354919434, 1.9303680658340454, 6.970463752746582, 8.19709587097168, -6.426824569702148, 5.834025859832764, 12.994112014770508, -1.2827768325805664, -6.628867149353027, -3.516497850418091, 4.131574630737305, 7.788959980010986, 7.309333324432373, -3.0327329635620117, -7.074863433837891, 1.3444937467575073, 3.620140790939331, 1.7693150043487549, 1.857735514640808, -10.205192565917969, -0.972494900226593, 8.286643028259277, 3.0570566654205322, -9.726983070373535, 6.464864730834961, 5.302060127258301, 0.5183780789375305, 1.7529500722885132, 5.103709697723389, -0.9698368906974792, -2.380497694015503, 13.33486557006836, -2.386194944381714, -0.8378102779388428, -3.874629020690918, -4.963179588317871, 7.124009132385254, -10.190536499023438, 5.876638889312744, -11.3745698928833, 10.775875091552734, 12.148750305175781, 1.8437082767486572, 5.933648109436035, -7.7620744705200195, 0.03688164800405502, -2.5332460403442383, -0.5727249979972839, 9.418248176574707, -7.421863555908203, -10.897838592529297, 5.552175045013428, -0.8531780242919922, -1.9374258518218994, 2.6210906505584717, 7.376246929168701, 0.06221085041761398, -2.1190125942230225, -5.312802314758301, -3.453521728515625, -1.06968355178833, 0.4739711880683899, 6.805586338043213, -2.525639533996582, -4.358666896820068, -2.6152265071868896, -11.605195045471191, 4.560863018035889, -7.824962615966797, -7.875300407409668, 9.465204238891602, -1.0239711999893188, 5.26780891418457, -4.858736991882324, 9.290650367736816, 0.12475582957267761, 11.048612594604492, 4.155261993408203, 5.548094749450684, 6.291800022125244, 1.1933588981628418, 4.271864891052246, -4.719400405883789, -4.503202438354492, 3.815314531326294, -9.881112098693848, -1.393620252609253, 4.2024102210998535, -7.521841049194336, 8.164074897766113, 1.712827205657959, 9.118175506591797, -5.4199538230896, -5.824152946472168, 4.93263053894043, -7.362890243530273, -1.7574915885925293, -1.2980533838272095, 2.5142006874084473, -1.0839661359786987, -1.0001795291900635, -5.446715831756592, -8.987102508544922, 9.977449417114258, -0.36885181069374084, 2.605360746383667, -8.257737159729004, -0.9967750310897827, -10.594719886779785, 0.017061712220311165, -2.075230836868286, 7.801464080810547, 6.403476238250732, 10.444764137268066, -8.171449661254883, 4.472748756408691, 5.656340599060059, 10.747374534606934, -8.293486595153809, -7.855362892150879, 4.708381175994873, 2.424832820892334, -4.7138543128967285, -10.34371566772461, 5.757938861846924, -3.750978946685791, 5.570067405700684, -7.547940731048584, -3.027099847793579, -5.8568549156188965, -10.753605842590332, 5.668447494506836, 4.343022346496582, 4.737846374511719, 8.770403861999512, -8.678794860839844, -4.091156959533691, 7.220274448394775, 3.0832362174987793, 5.1043782234191895, 2.407757520675659, 7.716330051422119, 2.9894139766693115, -3.070866107940674, 1.9335309267044067, -7.483231067657471, 2.717160701751709, 11.205633163452148, -3.4894800186157227, 2.3667638301849365, 1.3548119068145752, -7.7862067222595215, 3.602290153503418, -6.782870292663574, 8.486187934875488, -2.0300419330596924, -1.9584074020385742, 7.14499044418335, 1.076857328414917, -9.198615074157715, 3.000744581222534, -8.907485008239746, 1.176754355430603, 9.250425338745117, -7.560377597808838, 8.990594863891602, 2.465972661972046, -7.142487525939941, 3.9054386615753174, 3.8824331760406494, -1.8393031358718872, -5.067514419555664, 5.319211959838867, 5.70680046081543, -5.080292701721191, 2.5608677864074707, 10.918220520019531, -2.933218479156494, 1.2660048007965088, 0.05621352046728134, 8.451310157775879, -7.622091293334961, 4.6764960289001465, -8.066886901855469, -2.317455530166626, -2.9011194705963135, -8.85428237915039, -3.0250864028930664, 6.306495666503906, 0.9108487367630005, 3.7426342964172363, -5.976286888122559, 9.764448165893555, 9.85173225402832, 4.672969818115234, -2.511819362640381, -2.240812063217163, -8.343955993652344, 1.8351571559906006, 10.560259819030762, 4.324825763702393, -3.7221014499664307, -0.3730197250843048, 2.9038400650024414, -2.8828628063201904, -3.221367359161377, 4.6673126220703125, 3.475888252258301, -5.402873516082764, 6.994038105010986, 4.489193916320801, -6.33492374420166, -4.7709856033325195, 12.59671688079834, 9.926063537597656, 7.000541687011719, 4.81910514831543, -1.1728814840316772, -9.373355865478516, -4.864687442779541, 3.9108715057373047, 6.51050329208374, -9.423956871032715, 2.047496795654297, 9.57593822479248, -3.146920919418335, 5.366031169891357, -1.967598795890808, -9.476561546325684, -8.995240211486816, 4.4746527671813965, 0.9370852708816528, 2.772599697113037, 1.5840342044830322, -0.11501289904117584, -6.076241493225098, 4.814798831939697, 0.5632489323616028, -8.186572074890137, -4.806949138641357, 1.4877547025680542, 10.52946949005127, -1.0970797538757324, 1.6306169033050537, -5.8598952293396, -4.8816609382629395, 2.230379581451416, 2.8950345516204834, 6.887589931488037, 5.856226921081543, 1.2855234146118164, 11.082906723022461, -8.875004768371582, -2.9808695316314697, 6.999752998352051, 4.663928031921387, 6.044973850250244, -3.793429136276245, -4.897875785827637, -6.924476623535156, 7.869293212890625, 4.642681121826172, 8.029242515563965, 7.604297637939453, 6.142272472381592, -5.908736705780029, -5.95067834854126, 3.722517490386963, 4.6071085929870605, 4.181056976318359, -7.0826616287231445, 8.967306137084961, 10.861673355102539, 1.9448524713516235, -7.950132846832275, -7.884430885314941, -3.6263906955718994, 13.019097328186035, 1.9327094554901123, 1.9941515922546387, -2.481973171234131, 0.4238912761211395, 4.914179801940918, -8.506425857543945, -8.312567710876465, -11.048567771911621, -1.4064662456512451, -4.914583683013916, -11.226818084716797, -7.5355730056762695, 0.4647197425365448, 3.4751803874969482, -2.518913984298706, 2.3231964111328125, -6.6487956047058105, 1.857452154159546, 3.5871219635009766, -8.855016708374023, 6.60996150970459, -7.824882507324219, 6.6067094802856445, 8.83507251739502, -3.086085081100464, -8.460726737976074, -5.826788902282715, -5.024167060852051, 4.512720584869385, -10.019259452819824, 5.824441909790039, -4.852195739746094, -4.166753768920898, -6.478269100189209, -7.9637627601623535, -0.8078485131263733, 8.086976051330566, -7.516132354736328, -2.5569875240325928, 4.511425971984863, 7.0608930587768555, -6.515229225158691, 6.581274032592773, 10.817797660827637, 11.350088119506836, 1.374551773071289, -8.083137512207031, 6.845180511474609, 7.583096027374268, 2.644217014312744, 0.5960683226585388, -6.338532447814941, 13.177553176879883, -7.617885112762451, 1.324569582939148, -8.708480834960938, -8.174080848693848, -10.634964942932129, -5.408814430236816, 7.187405586242676, 1.2295799255371094, -3.8109569549560547, -7.632410049438477, 2.479525089263916, 5.127384185791016, 6.424780368804932, 0.7920785546302795, -5.850051403045654, 5.714245319366455, -3.933499813079834, -4.289885997772217, 0.3384455442428589, -8.115976333618164, -9.97128963470459, -7.288430213928223, 8.692634582519531, -8.671013832092285, 1.6098498106002808, -11.231451988220215, 8.279483795166016, 3.2411890029907227, -2.7293589115142822, -4.050068378448486, 3.1762778759002686, -0.842973530292511, -6.5964250564575195, -2.165733814239502, 3.78397274017334, -7.380282402038574, -5.732022762298584, -1.0176929235458374, -4.639442443847656, -4.110872745513916, 12.815256118774414, -9.440324783325195, 11.187331199645996, -1.4912331104278564, -9.364981651306152, 2.278855800628662, -4.452248573303223, 7.274355411529541, 4.290129661560059, 6.584502220153809, -1.562122106552124, 4.800687789916992, -7.686777591705322, -5.968127250671387, 4.798311710357666, -1.8468871116638184, 4.057171821594238, 5.931201934814453, 5.707735061645508, 10.021682739257812, 8.732550621032715, -1.2181251049041748, 4.049434661865234, 1.9791384935379028, -2.344388246536255, 1.8109763860702515, -5.626167297363281, -10.02394962310791, -6.529618263244629, 2.139256477355957, 0.7790929079055786, 7.172738075256348, -8.361312866210938, 5.927419662475586, -5.505879878997803, -8.12079906463623, -4.498265743255615, 2.900775909423828, 3.844177722930908, 3.8962247371673584, -1.9350658655166626, 6.289618015289307, -3.775426149368286, 2.050197124481201, 5.125077247619629, -8.44559097290039, 6.080582141876221, 2.629844903945923, -2.5510711669921875, 6.897719383239746, -2.023134708404541, 7.681646347045898, 8.88554859161377, -6.485640048980713, -3.093585968017578, -6.335089683532715, -4.64946174621582, -5.537187099456787, 8.547067642211914, 8.5040864944458, -0.5967512130737305, -9.45543384552002, 5.551403045654297, 10.976783752441406, -4.649087429046631, 3.356644630432129, 5.3910980224609375, -5.898687839508057, 1.7030069828033447, -4.479738712310791, -0.8896353244781494, 3.336174249649048, -4.969396114349365, 1.5710251331329346, -7.639405250549316, 6.721479892730713, -2.294402599334717, 1.8607901334762573, 12.125289916992188, 3.440833330154419, 5.84133243560791, 5.114326477050781, -4.341362476348877, 3.179072380065918, 2.9153661727905273, -0.32613566517829895, -4.140002727508545, -7.81960391998291, -8.80046272277832, -4.755939960479736, 4.07343053817749, 0.8893921375274658, 0.7837189435958862, 0.8750525116920471, -9.300233840942383, -5.805019855499268, -0.19564229249954224, -1.796449065208435, -2.759678363800049, -5.09609317779541, 1.1867718696594238, 12.749317169189453, -12.12478256225586, -2.621321439743042, -4.623636722564697, -2.3857007026672363, 5.334448337554932, -8.161972045898438, -6.422605037689209, -4.954163551330566, -6.125002861022949, -2.4702889919281006, -5.44273567199707, 6.223300933837891, -4.852777481079102, -10.808494567871094, 7.451180934906006, 11.90306568145752, -3.0542285442352295, -4.00576639175415, -6.73660945892334, -8.071612358093262, -6.299288749694824, 0.18441835045814514, -8.250232696533203, 5.214822292327881, 6.0051751136779785, -2.1039910316467285, 7.31295108795166, 8.250712394714355, 4.49849271774292, -7.563477993011475, -6.442225933074951, 0.30836886167526245, -3.332504987716675, -2.1719648838043213, -0.18825103342533112, -4.353219032287598, -8.204853057861328, 3.902539014816284, -4.770908832550049, 7.027116298675537, 9.79869270324707, 6.1993818283081055, 7.488409996032715, -1.8594223260879517, -3.130828619003296, -0.6139714121818542, -4.9943060874938965, 4.684444904327393, 2.8615779876708984, 7.246868133544922, 7.8927836418151855, 2.976775646209717, 9.592596054077148, -6.571683406829834, 5.339033603668213, -8.804022789001465, 2.0613152980804443, 2.137260913848877, 7.972126007080078, -0.9466544985771179, 9.737385749816895, 5.5020318031311035, -2.906373977661133, 2.4438984394073486, -1.3427484035491943, -4.551858425140381, 0.5851168036460876, 7.523678779602051, 7.440059661865234, -3.651364803314209, -1.02751886844635, -6.198921203613281, -2.3814635276794434, -0.2564668655395508, 0.17615750432014465, -1.2239397764205933, -5.074277877807617, -4.189669609069824, 10.897218704223633, 4.89601993560791, -2.1604208946228027, -6.695102214813232, -0.47499850392341614, -5.477749824523926, 7.785640716552734, 2.0191268920898438, -1.5192837715148926, 2.6249306201934814, 5.6839141845703125, 2.3844258785247803, -7.626522541046143, 2.629134178161621, 4.39565372467041, -10.454802513122559, 12.546975135803223, 0.7222322225570679, -9.35527515411377, -3.167630910873413, 0.14036807417869568, 1.7940871715545654, 8.10048770904541, 4.151128768920898, 2.0665628910064697, 0.5704804062843323, -9.052451133728027, -5.106362342834473, 0.12115804851055145, -3.317157030105591, 5.693876266479492, -3.67277193069458, -4.104417324066162, -4.029710292816162, -0.9219539761543274, -0.009122111834585667, -4.360024452209473, -5.442471027374268, 1.0893160104751587, -5.667577266693115, -3.3228559494018555, -1.8392122983932495, 7.595705509185791, -8.919778823852539, -2.255646228790283, 5.619109630584717, -9.72030258178711, 10.36484432220459, 10.87924861907959, 6.043080806732178, -10.304701805114746, -2.6726531982421875, -0.5252991914749146, -3.0545084476470947, 9.02159309387207, -1.6897059679031372, -0.7260434627532959, 4.6640167236328125, 9.623817443847656, -8.703604698181152, 12.257368087768555, 11.199487686157227, -10.149690628051758, 9.459654808044434, -10.758589744567871, -2.9870734214782715, -7.07374906539917, -5.592537879943848, 10.72388744354248, -5.391115188598633, 6.030569553375244, -2.558262586593628, 0.6773712635040283, -8.217026710510254, -6.750234127044678, -3.7339248657226562, 11.779522895812988, 1.8745795488357544, -4.409481048583984, -5.122076034545898, -1.9513815641403198, 1.3952387571334839, 4.875321388244629, -2.499321699142456, -0.11225679516792297, 1.3378931283950806, -4.576594352722168, 0.060928989201784134, -8.2925443649292, 11.632561683654785, 5.939881324768066, 4.188214302062988, -7.309388637542725, -4.5709381103515625, 6.56391716003418, 0.43867725133895874, -1.87294340133667, -1.7572636604309082, 6.539730072021484, -10.402956008911133, 7.888180732727051, 3.046205997467041, 1.2473610639572144, 7.192025661468506, 4.014733791351318, -8.265640258789062, 2.000767230987549, -8.43871021270752, -5.644234657287598, 1.9119230508804321, -6.524452209472656, 3.1319034099578857, 0.7998135685920715, 2.4500691890716553, 4.444198131561279, 3.943824291229248, -8.701831817626953, -3.3155553340911865, 2.887951374053955, 2.7288930416107178, 5.012580394744873, 7.053327560424805, -2.94657564163208, -7.046353340148926, -4.023769855499268, 0.5937808156013489, -3.698665142059326, -4.497375011444092, 1.0327306985855103, -8.839653968811035, 3.153672933578491, -9.114230155944824, -10.187448501586914, 3.7564775943756104, 2.195565938949585, -4.0807785987854, -0.1264479160308838, 4.635462284088135, 6.290390968322754, 9.729248046875, 6.585407733917236, 3.43312406539917, -4.126124382019043, -4.167409896850586, 0.5390651822090149, 6.976410388946533, -7.943027973175049, 1.2234593629837036, -3.6106956005096436, -0.6070842742919922, 4.129308223724365, -0.3544265627861023, 8.743693351745605, -2.070685863494873, 0.10721167176961899, -6.315831184387207, -2.201859474182129, -4.9914398193359375, -1.337427020072937, 3.7129220962524414, 6.552131652832031, 12.663480758666992, -0.5595805644989014, 3.6898045539855957, -3.678494453430176, 2.0230250358581543, 2.1938140392303467, 7.512064456939697, -3.6505014896392822, 9.538020133972168, 5.050559997558594, 1.1454129219055176, 1.808303713798523, -6.072143077850342, -9.418301582336426, -3.2987289428710938, -6.424341201782227, -3.231132745742798, 2.4298954010009766, 1.6755735874176025, 7.515750408172607, -6.49781608581543, 2.611290693283081, -8.067052841186523, -0.20648443698883057, -8.230688095092773, -2.2600903511047363, -6.186221122741699, -3.9160196781158447, -1.6500306129455566, -3.9646356105804443, -6.763933181762695, 8.80190658569336, -1.762940764427185, -2.0817813873291016, 4.085476875305176, -0.419401615858078, 5.064241886138916, 0.5906509757041931, -2.098674774169922, -7.583041191101074, 2.9483776092529297, 5.16978120803833, -5.742338180541992, -8.093733787536621, 4.3180413246154785, 5.07508659362793, 3.6828267574310303, -9.191715240478516, -0.03459165617823601, -12.076605796813965, -6.8402099609375, 4.207813262939453, 8.238691329956055, 6.5176262855529785, -7.547693252563477, 7.512500762939453, 1.5997705459594727, -4.451091289520264, 3.9259560108184814, -4.279135227203369, 10.936724662780762, -7.139888763427734, 1.9473822116851807, 4.509729862213135, -12.031561851501465, 1.9882436990737915, 6.541727066040039, -1.248108148574829, 2.3873555660247803, -7.728398323059082, 1.3125683069229126, -9.982804298400879, 5.900411128997803, 4.361583232879639, -8.468201637268066, -1.130448818206787, -4.52323055267334, 7.356280326843262, -6.914942264556885, -2.0709786415100098, -5.184361934661865, -7.009098052978516, 4.990025997161865, 11.901233673095703, -8.029380798339844, -2.3323185443878174, 1.0319515466690063, 4.86017370223999, 0.8138746619224548, 7.998209476470947, 7.356168746948242, -1.9749629497528076, 1.1000133752822876, 0.3947058618068695, 11.29195785522461, 3.8192787170410156, -9.480921745300293, -6.211156845092773, -6.58412504196167, 8.816645622253418, 4.499589920043945, -6.645181179046631, -1.1891199350357056, 1.233355164527893, -4.311327934265137, -3.9051835536956787, -9.051228523254395, -11.790212631225586, -3.6680843830108643, 8.483028411865234, 7.234809875488281, -3.9022505283355713, -5.0454607009887695, 4.8459625244140625, -0.7845978140830994, -7.453678131103516, -2.278508186340332, 12.832541465759277, -3.3511180877685547, 2.683650016784668, 1.3294596672058105, 2.8647475242614746, 5.5619072914123535, -8.260237693786621, 4.995609760284424, -8.33375072479248, -6.470954418182373, -9.893198013305664, -1.6426775455474854, -7.317897796630859, 3.7341725826263428, -2.3655169010162354, 2.403717041015625, -9.006997108459473], \"z\": [2.637197732925415, -2.3744332790374756, -5.5121283531188965, -11.49191665649414, -10.646485328674316, -9.382750511169434, 1.0305941104888916, -18.763099670410156, 5.390282154083252, -0.5216927528381348, -18.64240837097168, -13.392454147338867, -11.302940368652344, 6.4359588623046875, -10.521296501159668, -15.379693984985352, -11.347679138183594, 5.410250663757324, -4.442756652832031, -11.923221588134766, -8.799504280090332, 2.719264030456543, -8.079834938049316, 5.381534576416016, -10.350726127624512, 1.0273200273513794, -11.86745834350586, 6.393631935119629, -20.192745208740234, -14.700304985046387, 5.449477195739746, -4.831336498260498, 6.403496742248535, -11.230584144592285, 8.136191368103027, 2.8746745586395264, 3.5697619915008545, 6.777836322784424, 1.844962477684021, -11.309510231018066, 9.805398941040039, -11.995590209960938, 6.833456516265869, -7.840478897094727, -10.483329772949219, -15.643733024597168, -10.221078872680664, 5.092055797576904, -12.988649368286133, 6.256104946136475, -17.609371185302734, -3.730576276779175, 9.375663757324219, -15.537239074707031, -9.06294059753418, -2.8831887245178223, -0.8290572166442871, -0.9142919778823853, -11.403629302978516, -8.984228134155273, 7.898016929626465, 5.336784839630127, -17.736637115478516, -12.303868293762207, 7.8129730224609375, -9.498136520385742, 11.052531242370605, 5.8332319259643555, -12.385107040405273, -12.105002403259277, -19.375324249267578, -15.144745826721191, 1.9350858926773071, -13.71366024017334, 13.669687271118164, 7.308379173278809, -12.22877025604248, -15.261383056640625, 15.776808738708496, 13.554251670837402, 13.359468460083008, 7.550289630889893, -11.061463356018066, 4.340978145599365, 0.36617177724838257, -3.7572364807128906, 4.209503650665283, 5.160398006439209, 5.240537643432617, 5.241785526275635, 7.413796424865723, -16.55404281616211, 5.750420093536377, 2.5916543006896973, -1.8484241962432861, -17.92441749572754, 9.090527534484863, -1.3735029697418213, 5.98647403717041, -12.046630859375, 3.63592791557312, 7.364533424377441, -1.4433413743972778, 10.924116134643555, -19.20915412902832, 10.530255317687988, 4.680171012878418, -0.8461675643920898, 14.024517059326172, -14.62794017791748, 7.075559139251709, 2.0635879039764404, -16.270231246948242, 8.513187408447266, -9.715890884399414, 9.163872718811035, 1.2105176448822021, 2.7855002880096436, -12.062071800231934, 6.578675270080566, 10.0795259475708, 5.14977502822876, -1.6207104921340942, 7.547970771789551, 2.1309328079223633, -1.2408337593078613, -2.516164779663086, -12.778264999389648, 0.2070825845003128, -0.595344066619873, 5.788754940032959, 9.168655395507812, -17.4931697845459, -1.2142380475997925, 6.424586296081543, 6.885889530181885, -9.4771146774292, -15.528879165649414, -2.040147304534912, 1.127721905708313, -14.775920867919922, 5.001897811889648, 10.833477973937988, -11.460601806640625, 7.805447578430176, 12.49522876739502, -15.914411544799805, 9.225204467773438, -2.5508673191070557, 3.8010401725769043, 6.041539669036865, 9.658913612365723, -1.0192509889602661, 11.789785385131836, 2.933664321899414, 9.339044570922852, 9.31844425201416, 7.72921895980835, 12.635054588317871, -11.35050106048584, 0.11619918048381805, 9.452620506286621, 10.976561546325684, 16.15681266784668, -11.536402702331543, 6.720098495483398, -14.68521785736084, -16.706867218017578, -8.978342056274414, 3.0927891731262207, 5.670548439025879, -2.0636065006256104, -10.83393669128418, -7.965872287750244, 2.4152331352233887, 6.457978248596191, -9.288688659667969, -7.25445556640625, -3.223163604736328, -14.787652015686035, 1.8316177129745483, -13.528471946716309, -4.903427600860596, -18.180688858032227, -16.770254135131836, 2.004592180252075, -12.065768241882324, 6.377987861633301, 11.662323951721191, 9.086697578430176, 8.66922664642334, -11.540019035339355, -17.522008895874023, -8.229914665222168, 4.063189506530762, -0.49491769075393677, 2.0537703037261963, -1.720894694328308, 4.76042366027832, 1.6076059341430664, 4.910900115966797, 2.2653956413269043, -2.234437942504883, -11.907232284545898, -7.154508590698242, -4.7919392585754395, 14.359471321105957, 5.083804607391357, -13.711299896240234, -2.707319498062134, 3.0119423866271973, -13.091179847717285, -16.478294372558594, 7.9095988273620605, 4.911858081817627, 3.3007700443267822, -2.2443251609802246, -15.58772087097168, -17.98072052001953, 1.0604759454727173, -6.8620686531066895, 0.989801824092865, -11.717174530029297, 15.251267433166504, 3.865600824356079, 13.154768943786621, 8.020796775817871, 12.642468452453613, 6.956362247467041, -10.62795352935791, 0.4015633761882782, 5.818824768066406, -14.89664077758789, -15.252813339233398, 9.226799011230469, 1.1726709604263306, -0.44777432084083557, 9.103330612182617, -12.988872528076172, -5.7594709396362305, 5.046041011810303, 2.0226144790649414, -6.932204246520996, 3.0569896697998047, -16.069923400878906, 4.644737243652344, 10.071414947509766, 14.10675048828125, 8.549969673156738, -8.579909324645996, 10.730241775512695, 0.005457070656120777, -14.568045616149902, 9.073721885681152, 11.443986892700195, 2.8038158416748047, 5.02705192565918, 4.63037109375, -11.243494987487793, 7.789161682128906, -7.074230194091797, 7.996430397033691, -9.89860725402832, 0.7748814225196838, 11.253128051757812, 2.8697872161865234, -16.933284759521484, 2.4063830375671387, 13.633233070373535, -1.3310195207595825, 0.5791254639625549, -1.1151599884033203, 7.560261249542236, -6.2189860343933105, -10.751588821411133, 10.022465705871582, -16.28250503540039, -11.612725257873535, 0.2922604978084564, 11.433351516723633, 7.979371070861816, -6.5132598876953125, 12.35682201385498, 5.429795265197754, -9.76695442199707, 2.3472580909729004, 7.147430896759033, 0.5368574857711792, 4.139069080352783, 4.871317386627197, 5.057702541351318, -0.21231703460216522, 4.68219518661499, 3.056429386138916, 4.164937496185303, -14.841161727905273, -14.700750350952148, 15.072035789489746, 2.995962381362915, 4.082318305969238, -4.593266010284424, 3.9726505279541016, -16.935443878173828, -16.39088249206543, -13.035799980163574, 11.399551391601562, 0.5389437675476074, 10.750374794006348, 9.825373649597168, -16.799978256225586, -15.972493171691895, 10.402517318725586, -12.95837116241455, -5.984308242797852, 4.0056891441345215, 4.357046127319336, 3.3386006355285645, 1.0304862260818481, 12.521066665649414, -1.141586184501648, -3.949939012527466, 9.364967346191406, -15.266176223754883, -2.1738803386688232, 12.15367317199707, 4.527232646942139, -16.603755950927734, -17.508136749267578, -9.360970497131348, -13.183489799499512, 2.4731879234313965, -15.571399688720703, 8.969921112060547, 9.776010513305664, 5.706005096435547, -11.331428527832031, -0.7639570832252502, 6.98384952545166, -12.368732452392578, -14.077829360961914, 6.865584373474121, 14.353639602661133, -12.065073013305664, 11.701905250549316, -17.95913314819336, -10.19019889831543, -2.0917606353759766, 8.972582817077637, -12.758214950561523, -15.916118621826172, 0.10569535195827484, 8.099138259887695, 8.20553207397461, -0.7698889374732971, 7.150326251983643, 14.407756805419922, 8.051445007324219, 0.9047480225563049, -18.754535675048828, 2.5196993350982666, -1.8397018909454346, -0.14024841785430908, 2.7306931018829346, 9.162652015686035, -14.462361335754395, 11.280357360839844, -15.859864234924316, 3.6069767475128174, 4.926893711090088, -1.073991298675537, 7.153335094451904, 5.067033290863037, -12.393495559692383, -9.791703224182129, -15.157837867736816, 6.83095645904541, 12.924910545349121, -13.25234603881836, -1.0771219730377197, 4.80389404296875, -13.308436393737793, 2.5485999584198, 12.345593452453613, 1.456101417541504, -0.9060171842575073, 8.32546329498291, 4.644810199737549, 4.313234329223633, 1.2573286294937134, 3.1397154331207275, 7.0566487312316895, 9.525378227233887, 8.158445358276367, 9.851639747619629, 8.098673820495605, -0.9506047368049622, 10.173625946044922, -15.960918426513672, 3.5212435722351074, 10.5709228515625, 6.096192836761475, 5.9053263664245605, 10.523473739624023, -5.298604965209961, -18.262062072753906, 1.734143614768982, -8.889331817626953, 3.2195582389831543, -11.078180313110352, -3.9300878047943115, 2.5412070751190186, 6.210522651672363, -19.50871467590332, 11.765884399414062, -0.1428254097700119, 6.237736701965332, 6.878049850463867, -0.1150219738483429, -17.321931838989258, -10.61217975616455, 2.9888229370117188, 2.848815441131592, 1.2483314275741577, -3.188081741333008, -9.862753868103027, 5.486650466918945, 0.885758638381958, -13.315428733825684, 2.7492711544036865, -12.278339385986328, 8.672235488891602, 1.1077425479888916, 4.929849147796631, -13.583054542541504, -19.125585556030273, 0.8346000909805298, 7.280844688415527, -11.848947525024414, 14.600520133972168, -7.769410133361816, 10.852005004882812, 15.311145782470703, -8.466221809387207, -14.705405235290527, 6.452386856079102, -10.083388328552246, -17.599498748779297, 10.202199935913086, -8.243985176086426, -15.170852661132812, 6.442770004272461, -9.995503425598145, 7.516343593597412, 11.758380889892578, -16.211427688598633, -2.5108482837677, 2.9895575046539307, -8.787028312683105, 15.167128562927246, 14.411128997802734, -0.6714236736297607, -9.333070755004883, 5.5765533447265625, 15.071803092956543, 3.47062087059021, 7.529157638549805, 13.852231979370117, -18.492429733276367, 6.769530773162842, -9.0440034866333, 11.017500877380371, 9.09229564666748, 4.887021541595459, 9.013671875, 6.192917823791504, 4.270073890686035, -0.7378106713294983, -11.639365196228027, 4.657433986663818, 1.9120603799819946, 8.978413581848145, 5.325374126434326, -13.08372974395752, -13.149396896362305, 1.2908263206481934, -13.553627967834473, -1.3659074306488037, 2.463581085205078, 6.094058990478516, -5.964375972747803, 12.629498481750488, -15.183944702148438, -9.787147521972656, -17.51308822631836, -7.657907962799072, -15.777210235595703, -3.224290609359741, -12.557363510131836, 10.00538158416748, 5.214248180389404, -1.6914438009262085, 5.627601146697998, 4.135154724121094, 4.836318492889404, 2.5783934593200684, -6.274296283721924, 14.555099487304688, 9.698758125305176, 2.0067713260650635, -12.948980331420898, -11.215530395507812, 7.895889759063721, 0.8329816460609436, -13.87510871887207, 15.518486022949219, 11.37131118774414, 11.799845695495605, 15.079025268554688, 0.4395661950111389, 0.042033206671476364, 1.7854827642440796, -11.766891479492188, -10.25818157196045, -9.743583679199219, -18.168851852416992, 1.7081170082092285, 1.7192394733428955, 4.072208404541016, 2.02333402633667, 5.258009910583496, -1.2932665348052979, -15.404833793640137, -12.612983703613281, 7.422616481781006, -13.910538673400879, -15.325157165527344, -4.511104106903076, -12.741883277893066, 2.993175745010376, -1.5154489278793335, -0.10203342884778976, -13.071866035461426, 2.594069719314575, -3.5857653617858887, 8.431599617004395, -15.209376335144043, 11.896042823791504, -13.856451034545898, -15.231385231018066, 12.203373908996582, 10.14661979675293, 6.889778137207031, -11.08761215209961, 12.605504989624023, 9.734044075012207, -1.8749876022338867, -11.683796882629395, 12.087337493896484, -17.305036544799805, 2.582869291305542, -14.758783340454102, -18.467967987060547, 10.177471160888672, -16.01172637939453, 6.98569393157959, 15.201382637023926, 6.8411545753479, 5.1872758865356445, -16.677947998046875, -15.308453559875488, 2.9891347885131836, -14.897111892700195, -17.74468994140625, -16.326631546020508, -4.58103084564209, -16.781057357788086, 0.4800352454185486, 4.430328845977783, 5.277678966522217, 10.165384292602539, 2.922954797744751, 11.307117462158203, -9.595380783081055, -0.11373257637023926, 9.636874198913574, 14.543645858764648, 5.035216808319092, 5.372758388519287, 4.135807991027832, -15.680037498474121, 5.104079246520996, 10.249262809753418, 3.276632785797119, -17.953479766845703, 1.573513150215149, 10.774203300476074, -16.32159996032715, -16.859508514404297, -12.277114868164062, -13.906926155090332, -13.826762199401855, 5.410816192626953, -12.578453063964844, 1.249579668045044, -13.237277030944824, -2.090847969055176, -17.752511978149414, -16.477516174316406, 6.5124969482421875, -3.4655673503875732, -10.498198509216309, 5.990665912628174, 2.568153142929077, 6.514377117156982, 14.159148216247559, 10.28467845916748, 2.5440826416015625, 4.589223861694336, 3.143794059753418, 5.535943984985352, 3.196058988571167, 9.761735916137695, 11.2503080368042, 0.6185888648033142, -9.665223121643066, -18.335838317871094, 0.8537207245826721, -10.088310241699219, 3.2624144554138184, 15.241680145263672, 8.202532768249512, -1.5219389200210571, 14.348533630371094, -11.386584281921387, 4.906538486480713, 3.119626760482788, 6.389559268951416, 2.8319804668426514, -16.013626098632812, 0.9529862999916077, -6.838387489318848, -2.764493227005005, -0.2987537980079651, 5.335672378540039, -15.27396297454834, 12.045317649841309, -8.136425971984863, 8.207371711730957, -12.79430103302002, 8.323915481567383, 7.9445695877075195, 7.09867525100708, 2.216956853866577, -15.420599937438965, 6.833888053894043, -2.938957452774048, -11.743013381958008, 6.006485939025879, 4.62148904800415, -15.022561073303223, -17.811302185058594, 8.836143493652344, 3.5520408153533936, 3.6873669624328613, -13.593535423278809, -0.5779039263725281, -14.373639106750488, -1.7971011400222778, -1.7058014869689941, 7.560413837432861, 0.6180734634399414, 13.866674423217773, 11.882314682006836, 1.2737971544265747, -10.742762565612793, 9.844955444335938, -3.793186902999878, -14.790063858032227, -14.169717788696289, -0.9964093565940857, -8.598388671875, 7.472289085388184, 7.859335422515869, -10.754621505737305, 11.344457626342773, 7.299026966094971, 12.204277038574219, 9.309085845947266, -17.181354522705078, -17.430086135864258, -8.591947555541992, -15.158759117126465, -18.978670120239258, -0.6372325420379639, -17.276870727539062, -11.491151809692383, 3.904714345932007, 12.82098388671875, 13.704779624938965, -11.304797172546387, 3.5935020446777344, 13.43509292602539, 6.451137065887451, -20.24117660522461, 10.203786849975586, -2.349998950958252, -17.517444610595703, -14.615069389343262, 3.615963935852051, -8.576129913330078, -10.720695495605469, 7.6878743171691895, 2.8833091259002686, 0.8741805553436279, 3.5805180072784424, -10.352324485778809, -9.329059600830078, -15.567110061645508, 3.4742424488067627, 3.936570167541504, -4.498987197875977, 1.8359143733978271, -1.9820655584335327, -3.7013003826141357, 0.03388773277401924, 6.51872444152832, -14.25629711151123, -11.02113151550293, -14.45082950592041, -10.58362102508545, 2.8296148777008057, -13.055924415588379, 1.7301454544067383, 5.075991153717041, 3.4949729442596436, -16.536314010620117, 8.331948280334473, 13.642508506774902, 15.059053421020508, -11.485793113708496, 2.680206298828125, 6.022042274475098, 6.203007221221924, -9.978711128234863, 3.3326737880706787, 14.909433364868164, 11.217869758605957, -15.39741039276123, -8.32970142364502, -18.285585403442383, -2.249692440032959, -11.580849647521973, -1.7645771503448486, 4.013498783111572, 8.959820747375488, -7.437009334564209, 13.320584297180176, 7.799378395080566, -14.242627143859863, 9.395211219787598, -18.13182830810547, 11.978108406066895, 6.7186150550842285, 7.124855041503906, 3.9112489223480225, 3.001528024673462, 1.7819217443466187, -12.157527923583984, 0.7454097867012024, -12.296976089477539, 13.037222862243652, 4.7302680015563965, 3.961280584335327, 0.4247759282588959, 4.859586238861084, 10.585090637207031, 3.2263801097869873, 3.034106731414795, 14.188769340515137, 5.514825344085693, 9.583895683288574, 2.081148386001587, -2.4607763290405273, 6.319090366363525, 14.495235443115234, -18.232433319091797, 7.185873985290527, -11.476005554199219, 15.66422176361084, 12.527250289916992, -18.801193237304688, 9.956238746643066, -11.290276527404785, 11.621183395385742, 3.4344635009765625, -5.7727251052856445, 9.490080833435059, -8.317679405212402, 10.73112964630127, 9.980052947998047, 6.563508987426758, 2.9896955490112305, 1.258373498916626, -2.914994239807129, -6.300626277923584, 6.82032585144043, 11.329899787902832, -1.6763540506362915, -15.451850891113281, 7.0954976081848145, -11.229923248291016, -9.45848274230957, 12.531608581542969, 2.3897664546966553, -3.1186602115631104, -8.225139617919922, -1.0206109285354614, -18.344627380371094, -9.223031997680664, -14.318188667297363, -16.181743621826172, -5.875975608825684, 15.857415199279785, -2.952255964279175, 1.462321162223816, 8.598973274230957, -15.467811584472656, 13.772466659545898, 8.21676254272461, -16.200294494628906, -1.948809027671814, 3.921541929244995, -17.037988662719727, -9.694866180419922, -8.543259620666504, -12.313231468200684, -13.923145294189453, -11.26859188079834, -15.181341171264648, 10.179919242858887, 10.168001174926758, 10.753706932067871, -14.237081527709961, 0.3875276744365692, 2.128293037414551, -12.590394973754883, -3.3853440284729004, 10.833706855773926, 6.983796119689941, 2.2622554302215576, -11.726139068603516, 2.8440287113189697, 11.183317184448242, 9.96772289276123, 1.900252103805542, -0.2561829090118408, 2.5476255416870117, -15.083819389343262, 13.911517143249512, -10.89052677154541, 2.833051919937134, 12.630838394165039, 2.711021661758423, 10.916178703308105, 0.7251805067062378, -15.528180122375488, 3.0478901863098145, 12.723222732543945, -13.244819641113281, 5.133708953857422, -16.147647857666016, 9.9224853515625, 4.144720077514648, 7.608907222747803, -0.09774982929229736, 5.830463409423828, 8.416613578796387, 4.464303970336914, 4.212777137756348, -7.308387756347656, 5.138420104980469, 11.473888397216797, 13.788768768310547, -15.513405799865723, -16.354930877685547, -16.284866333007812, 5.671496868133545, 4.010427474975586, 4.354455947875977, -9.189168930053711, -11.463655471801758, -15.791167259216309, -9.492767333984375, 13.037842750549316, -17.421459197998047, 7.580979824066162, 7.501023769378662, 6.0732293128967285, 2.271556854248047, -0.8964165449142456, 0.7154963612556458, 8.21833610534668, 10.18713092803955, -18.527545928955078, 12.07977294921875, -11.617939949035645, -15.17492961883545, -4.2480974197387695, -9.430853843688965, 15.2697172164917, 4.3213090896606445, 5.048121452331543, 5.765192031860352, 13.935441970825195, -11.664414405822754, -10.645520210266113, 3.6140637397766113, -1.5302770137786865, -15.039193153381348, -16.995817184448242, 3.038458824157715, -17.681447982788086, 6.531928062438965, 10.587182998657227, -1.2806365489959717, 5.403284549713135, -0.10577908158302307, 4.079665660858154, 2.8267135620117188, -0.5051302909851074, -11.69072437286377, 8.822457313537598, 4.131737232208252, -17.788131713867188, -16.176513671875, -11.532659530639648, 9.062215805053711, -7.459390163421631, -3.1158862113952637, -16.545820236206055, -9.02922534942627, 6.1010870933532715, 15.316852569580078, -12.667119979858398, 12.390363693237305, -11.76053524017334, 12.87120246887207, 9.513959884643555, 0.3917079269886017, -0.0009646101389080286, 4.593485355377197, 3.052734136581421, -18.335248947143555, -15.249009132385254, 4.337161064147949, 6.8874006271362305, -17.055721282958984, -13.14223575592041, -9.345342636108398, 4.600152015686035, 4.382513523101807, 3.1769258975982666, -6.678449630737305, 14.523412704467773, 5.593908309936523, 7.7607903480529785, 2.834303140640259, 12.114447593688965, -11.069454193115234, 9.008152961730957, -16.91843605041504, 10.762014389038086, 7.324275016784668, -10.734373092651367, 11.664127349853516, 3.0554940700531006, 2.6913983821868896, -15.892601013183594, 1.7864718437194824, -11.406493186950684, -10.67603588104248, 3.739673614501953, 14.901527404785156, 2.0384790897369385, -15.94306755065918, 6.24941349029541, 4.920506954193115, -14.402151107788086, -15.002742767333984, -13.79643726348877, -11.652634620666504, 11.970074653625488, 12.052239418029785, -7.638774394989014, -12.875105857849121, 5.143799781799316, 6.740252494812012, 14.997727394104004, -13.219035148620605, -13.548498153686523]}],\n",
       "                        {\"coloraxis\": {\"colorbar\": {\"title\": {\"text\": \"Label\"}}, \"colorscale\": [[0.0, \"#0d0887\"], [0.1111111111111111, \"#46039f\"], [0.2222222222222222, \"#7201a8\"], [0.3333333333333333, \"#9c179e\"], [0.4444444444444444, \"#bd3786\"], [0.5555555555555556, \"#d8576b\"], [0.6666666666666666, \"#ed7953\"], [0.7777777777777778, \"#fb9f3a\"], [0.8888888888888888, \"#fdca26\"], [1.0, \"#f0f921\"]]}, \"height\": 800, \"legend\": {\"tracegroupgap\": 0}, \"scene\": {\"domain\": {\"x\": [0.0, 1.0], \"y\": [0.0, 1.0]}, \"xaxis\": {\"title\": {\"text\": \"0\"}}, \"yaxis\": {\"title\": {\"text\": \"1\"}}, \"zaxis\": {\"title\": {\"text\": \"2\"}}}, \"template\": {\"data\": {\"bar\": [{\"error_x\": {\"color\": \"#2a3f5f\"}, \"error_y\": {\"color\": \"#2a3f5f\"}, \"marker\": {\"line\": {\"color\": \"#E5ECF6\", \"width\": 0.5}}, \"type\": \"bar\"}], \"barpolar\": [{\"marker\": {\"line\": {\"color\": \"#E5ECF6\", \"width\": 0.5}}, \"type\": \"barpolar\"}], \"carpet\": [{\"aaxis\": {\"endlinecolor\": \"#2a3f5f\", \"gridcolor\": \"white\", \"linecolor\": \"white\", \"minorgridcolor\": \"white\", \"startlinecolor\": \"#2a3f5f\"}, \"baxis\": {\"endlinecolor\": \"#2a3f5f\", \"gridcolor\": \"white\", \"linecolor\": \"white\", \"minorgridcolor\": \"white\", \"startlinecolor\": \"#2a3f5f\"}, \"type\": \"carpet\"}], \"choropleth\": [{\"colorbar\": {\"outlinewidth\": 0, \"ticks\": \"\"}, \"type\": \"choropleth\"}], \"contour\": [{\"colorbar\": {\"outlinewidth\": 0, \"ticks\": \"\"}, \"colorscale\": [[0.0, \"#0d0887\"], [0.1111111111111111, \"#46039f\"], [0.2222222222222222, \"#7201a8\"], [0.3333333333333333, \"#9c179e\"], [0.4444444444444444, \"#bd3786\"], [0.5555555555555556, \"#d8576b\"], [0.6666666666666666, \"#ed7953\"], [0.7777777777777778, \"#fb9f3a\"], [0.8888888888888888, \"#fdca26\"], [1.0, \"#f0f921\"]], \"type\": \"contour\"}], \"contourcarpet\": [{\"colorbar\": {\"outlinewidth\": 0, \"ticks\": \"\"}, \"type\": \"contourcarpet\"}], \"heatmap\": [{\"colorbar\": {\"outlinewidth\": 0, \"ticks\": \"\"}, \"colorscale\": [[0.0, \"#0d0887\"], [0.1111111111111111, \"#46039f\"], [0.2222222222222222, \"#7201a8\"], [0.3333333333333333, \"#9c179e\"], [0.4444444444444444, \"#bd3786\"], [0.5555555555555556, \"#d8576b\"], [0.6666666666666666, \"#ed7953\"], [0.7777777777777778, \"#fb9f3a\"], [0.8888888888888888, \"#fdca26\"], [1.0, \"#f0f921\"]], \"type\": \"heatmap\"}], \"heatmapgl\": [{\"colorbar\": {\"outlinewidth\": 0, \"ticks\": \"\"}, \"colorscale\": [[0.0, \"#0d0887\"], [0.1111111111111111, \"#46039f\"], [0.2222222222222222, \"#7201a8\"], [0.3333333333333333, \"#9c179e\"], [0.4444444444444444, \"#bd3786\"], [0.5555555555555556, \"#d8576b\"], [0.6666666666666666, \"#ed7953\"], [0.7777777777777778, \"#fb9f3a\"], [0.8888888888888888, \"#fdca26\"], [1.0, \"#f0f921\"]], \"type\": \"heatmapgl\"}], \"histogram\": [{\"marker\": {\"colorbar\": {\"outlinewidth\": 0, \"ticks\": \"\"}}, \"type\": \"histogram\"}], \"histogram2d\": [{\"colorbar\": {\"outlinewidth\": 0, \"ticks\": \"\"}, \"colorscale\": [[0.0, \"#0d0887\"], [0.1111111111111111, \"#46039f\"], [0.2222222222222222, \"#7201a8\"], [0.3333333333333333, \"#9c179e\"], [0.4444444444444444, \"#bd3786\"], [0.5555555555555556, \"#d8576b\"], [0.6666666666666666, \"#ed7953\"], [0.7777777777777778, \"#fb9f3a\"], [0.8888888888888888, \"#fdca26\"], [1.0, \"#f0f921\"]], \"type\": \"histogram2d\"}], \"histogram2dcontour\": [{\"colorbar\": {\"outlinewidth\": 0, \"ticks\": \"\"}, \"colorscale\": [[0.0, \"#0d0887\"], [0.1111111111111111, \"#46039f\"], [0.2222222222222222, \"#7201a8\"], [0.3333333333333333, \"#9c179e\"], [0.4444444444444444, \"#bd3786\"], [0.5555555555555556, \"#d8576b\"], [0.6666666666666666, \"#ed7953\"], [0.7777777777777778, \"#fb9f3a\"], [0.8888888888888888, \"#fdca26\"], [1.0, \"#f0f921\"]], \"type\": \"histogram2dcontour\"}], \"mesh3d\": [{\"colorbar\": {\"outlinewidth\": 0, \"ticks\": \"\"}, \"type\": \"mesh3d\"}], \"parcoords\": [{\"line\": {\"colorbar\": {\"outlinewidth\": 0, \"ticks\": \"\"}}, \"type\": \"parcoords\"}], \"pie\": [{\"automargin\": true, \"type\": \"pie\"}], \"scatter\": [{\"marker\": {\"colorbar\": {\"outlinewidth\": 0, \"ticks\": \"\"}}, \"type\": \"scatter\"}], \"scatter3d\": [{\"line\": {\"colorbar\": {\"outlinewidth\": 0, \"ticks\": \"\"}}, \"marker\": {\"colorbar\": {\"outlinewidth\": 0, \"ticks\": \"\"}}, \"type\": \"scatter3d\"}], \"scattercarpet\": [{\"marker\": {\"colorbar\": {\"outlinewidth\": 0, \"ticks\": \"\"}}, \"type\": \"scattercarpet\"}], \"scattergeo\": [{\"marker\": {\"colorbar\": {\"outlinewidth\": 0, \"ticks\": \"\"}}, \"type\": \"scattergeo\"}], \"scattergl\": [{\"marker\": {\"colorbar\": {\"outlinewidth\": 0, \"ticks\": \"\"}}, \"type\": \"scattergl\"}], \"scattermapbox\": [{\"marker\": {\"colorbar\": {\"outlinewidth\": 0, \"ticks\": \"\"}}, \"type\": \"scattermapbox\"}], \"scatterpolar\": [{\"marker\": {\"colorbar\": {\"outlinewidth\": 0, \"ticks\": \"\"}}, \"type\": \"scatterpolar\"}], \"scatterpolargl\": [{\"marker\": {\"colorbar\": {\"outlinewidth\": 0, \"ticks\": \"\"}}, \"type\": \"scatterpolargl\"}], \"scatterternary\": [{\"marker\": {\"colorbar\": {\"outlinewidth\": 0, \"ticks\": \"\"}}, \"type\": \"scatterternary\"}], \"surface\": [{\"colorbar\": {\"outlinewidth\": 0, \"ticks\": \"\"}, \"colorscale\": [[0.0, \"#0d0887\"], [0.1111111111111111, \"#46039f\"], [0.2222222222222222, \"#7201a8\"], [0.3333333333333333, \"#9c179e\"], [0.4444444444444444, \"#bd3786\"], [0.5555555555555556, \"#d8576b\"], [0.6666666666666666, \"#ed7953\"], [0.7777777777777778, \"#fb9f3a\"], [0.8888888888888888, \"#fdca26\"], [1.0, \"#f0f921\"]], \"type\": \"surface\"}], \"table\": [{\"cells\": {\"fill\": {\"color\": \"#EBF0F8\"}, \"line\": {\"color\": \"white\"}}, \"header\": {\"fill\": {\"color\": \"#C8D4E3\"}, \"line\": {\"color\": \"white\"}}, \"type\": \"table\"}]}, \"layout\": {\"annotationdefaults\": {\"arrowcolor\": \"#2a3f5f\", \"arrowhead\": 0, \"arrowwidth\": 1}, \"coloraxis\": {\"colorbar\": {\"outlinewidth\": 0, \"ticks\": \"\"}}, \"colorscale\": {\"diverging\": [[0, \"#8e0152\"], [0.1, \"#c51b7d\"], [0.2, \"#de77ae\"], [0.3, \"#f1b6da\"], [0.4, \"#fde0ef\"], [0.5, \"#f7f7f7\"], [0.6, \"#e6f5d0\"], [0.7, \"#b8e186\"], [0.8, \"#7fbc41\"], [0.9, \"#4d9221\"], [1, \"#276419\"]], \"sequential\": [[0.0, \"#0d0887\"], [0.1111111111111111, \"#46039f\"], [0.2222222222222222, \"#7201a8\"], [0.3333333333333333, \"#9c179e\"], [0.4444444444444444, \"#bd3786\"], [0.5555555555555556, \"#d8576b\"], [0.6666666666666666, \"#ed7953\"], [0.7777777777777778, \"#fb9f3a\"], [0.8888888888888888, \"#fdca26\"], [1.0, \"#f0f921\"]], \"sequentialminus\": [[0.0, \"#0d0887\"], [0.1111111111111111, \"#46039f\"], [0.2222222222222222, \"#7201a8\"], [0.3333333333333333, \"#9c179e\"], [0.4444444444444444, \"#bd3786\"], [0.5555555555555556, \"#d8576b\"], [0.6666666666666666, \"#ed7953\"], [0.7777777777777778, \"#fb9f3a\"], [0.8888888888888888, \"#fdca26\"], [1.0, \"#f0f921\"]]}, \"colorway\": [\"#636efa\", \"#EF553B\", \"#00cc96\", \"#ab63fa\", \"#FFA15A\", \"#19d3f3\", \"#FF6692\", \"#B6E880\", \"#FF97FF\", \"#FECB52\"], \"font\": {\"color\": \"#2a3f5f\"}, \"geo\": {\"bgcolor\": \"white\", \"lakecolor\": \"white\", \"landcolor\": \"#E5ECF6\", \"showlakes\": true, \"showland\": true, \"subunitcolor\": \"white\"}, \"hoverlabel\": {\"align\": \"left\"}, \"hovermode\": \"closest\", \"mapbox\": {\"style\": \"light\"}, \"paper_bgcolor\": \"white\", \"plot_bgcolor\": \"#E5ECF6\", \"polar\": {\"angularaxis\": {\"gridcolor\": \"white\", \"linecolor\": \"white\", \"ticks\": \"\"}, \"bgcolor\": \"#E5ECF6\", \"radialaxis\": {\"gridcolor\": \"white\", \"linecolor\": \"white\", \"ticks\": \"\"}}, \"scene\": {\"xaxis\": {\"backgroundcolor\": \"#E5ECF6\", \"gridcolor\": \"white\", \"gridwidth\": 2, \"linecolor\": \"white\", \"showbackground\": true, \"ticks\": \"\", \"zerolinecolor\": \"white\"}, \"yaxis\": {\"backgroundcolor\": \"#E5ECF6\", \"gridcolor\": \"white\", \"gridwidth\": 2, \"linecolor\": \"white\", \"showbackground\": true, \"ticks\": \"\", \"zerolinecolor\": \"white\"}, \"zaxis\": {\"backgroundcolor\": \"#E5ECF6\", \"gridcolor\": \"white\", \"gridwidth\": 2, \"linecolor\": \"white\", \"showbackground\": true, \"ticks\": \"\", \"zerolinecolor\": \"white\"}}, \"shapedefaults\": {\"line\": {\"color\": \"#2a3f5f\"}}, \"ternary\": {\"aaxis\": {\"gridcolor\": \"white\", \"linecolor\": \"white\", \"ticks\": \"\"}, \"baxis\": {\"gridcolor\": \"white\", \"linecolor\": \"white\", \"ticks\": \"\"}, \"bgcolor\": \"#E5ECF6\", \"caxis\": {\"gridcolor\": \"white\", \"linecolor\": \"white\", \"ticks\": \"\"}}, \"title\": {\"x\": 0.05}, \"xaxis\": {\"automargin\": true, \"gridcolor\": \"white\", \"linecolor\": \"white\", \"ticks\": \"\", \"title\": {\"standoff\": 15}, \"zerolinecolor\": \"white\", \"zerolinewidth\": 2}, \"yaxis\": {\"automargin\": true, \"gridcolor\": \"white\", \"linecolor\": \"white\", \"ticks\": \"\", \"title\": {\"standoff\": 15}, \"zerolinecolor\": \"white\", \"zerolinewidth\": 2}}}, \"title\": {\"text\": \"3d TSNE Plot for Outliers\"}, \"width\": 900},\n",
       "                        {\"responsive\": true}\n",
       "                    ).then(function(){\n",
       "                            \n",
       "var gd = document.getElementById('bd32d432-5417-40d4-9612-eff6ca0a702c');\n",
       "var x = new MutationObserver(function (mutations, observer) {{\n",
       "        var display = window.getComputedStyle(gd).display;\n",
       "        if (!display || display === 'none') {{\n",
       "            console.log([gd, 'removed!']);\n",
       "            Plotly.purge(gd);\n",
       "            observer.disconnect();\n",
       "        }}\n",
       "}});\n",
       "\n",
       "// Listen for the removal of the full notebook cells\n",
       "var notebookContainer = gd.closest('#notebook-container');\n",
       "if (notebookContainer) {{\n",
       "    x.observe(notebookContainer, {childList: true});\n",
       "}}\n",
       "\n",
       "// Listen for the clearing of the current output cell\n",
       "var outputEl = gd.closest('.output');\n",
       "if (outputEl) {{\n",
       "    x.observe(outputEl, {childList: true});\n",
       "}}\n",
       "\n",
       "                        })\n",
       "                };\n",
       "                });\n",
       "            </script>\n",
       "        </div>"
      ]
     },
     "metadata": {},
     "output_type": "display_data"
    }
   ],
   "source": [
    "# instantiating isolation forest model\n",
    "iforest = create_model(\"iforest\")\n",
    "\n",
    "# plotting the data using iforest\n",
    "plot_model(iforest)"
   ]
  },
  {
   "cell_type": "markdown",
   "metadata": {},
   "source": [
    "The Yellow Points are the Anomaly Points based on the Isolation Forest Anomaly Detection Technique. "
   ]
  },
  {
   "cell_type": "code",
   "execution_count": 4,
   "metadata": {},
   "outputs": [
    {
     "data": {
      "text/html": [
       "<div>\n",
       "<style scoped>\n",
       "    .dataframe tbody tr th:only-of-type {\n",
       "        vertical-align: middle;\n",
       "    }\n",
       "\n",
       "    .dataframe tbody tr th {\n",
       "        vertical-align: top;\n",
       "    }\n",
       "\n",
       "    .dataframe thead th {\n",
       "        text-align: right;\n",
       "    }\n",
       "</style>\n",
       "<table border=\"1\" class=\"dataframe\">\n",
       "  <thead>\n",
       "    <tr style=\"text-align: right;\">\n",
       "      <th></th>\n",
       "      <th>Col1</th>\n",
       "      <th>Col2</th>\n",
       "      <th>Col3</th>\n",
       "      <th>Col4</th>\n",
       "      <th>Col5</th>\n",
       "      <th>Col6</th>\n",
       "      <th>Col7</th>\n",
       "      <th>Col8</th>\n",
       "      <th>Col9</th>\n",
       "      <th>Col10</th>\n",
       "      <th>Label</th>\n",
       "      <th>Score</th>\n",
       "    </tr>\n",
       "  </thead>\n",
       "  <tbody>\n",
       "    <tr>\n",
       "      <th>0</th>\n",
       "      <td>0.263995</td>\n",
       "      <td>0.764929</td>\n",
       "      <td>0.138424</td>\n",
       "      <td>0.935242</td>\n",
       "      <td>0.605867</td>\n",
       "      <td>0.518790</td>\n",
       "      <td>0.912225</td>\n",
       "      <td>0.608234</td>\n",
       "      <td>0.723782</td>\n",
       "      <td>0.733591</td>\n",
       "      <td>0</td>\n",
       "      <td>-0.020539</td>\n",
       "    </tr>\n",
       "    <tr>\n",
       "      <th>1</th>\n",
       "      <td>0.546092</td>\n",
       "      <td>0.653975</td>\n",
       "      <td>0.065575</td>\n",
       "      <td>0.227772</td>\n",
       "      <td>0.845269</td>\n",
       "      <td>0.837066</td>\n",
       "      <td>0.272379</td>\n",
       "      <td>0.331679</td>\n",
       "      <td>0.429297</td>\n",
       "      <td>0.367422</td>\n",
       "      <td>0</td>\n",
       "      <td>-0.072170</td>\n",
       "    </tr>\n",
       "    <tr>\n",
       "      <th>2</th>\n",
       "      <td>0.336714</td>\n",
       "      <td>0.538842</td>\n",
       "      <td>0.192801</td>\n",
       "      <td>0.553563</td>\n",
       "      <td>0.074515</td>\n",
       "      <td>0.332993</td>\n",
       "      <td>0.365792</td>\n",
       "      <td>0.861309</td>\n",
       "      <td>0.899017</td>\n",
       "      <td>0.088600</td>\n",
       "      <td>1</td>\n",
       "      <td>0.000051</td>\n",
       "    </tr>\n",
       "    <tr>\n",
       "      <th>3</th>\n",
       "      <td>0.092108</td>\n",
       "      <td>0.995017</td>\n",
       "      <td>0.014465</td>\n",
       "      <td>0.176371</td>\n",
       "      <td>0.241530</td>\n",
       "      <td>0.514724</td>\n",
       "      <td>0.562208</td>\n",
       "      <td>0.158963</td>\n",
       "      <td>0.073715</td>\n",
       "      <td>0.208463</td>\n",
       "      <td>1</td>\n",
       "      <td>0.018409</td>\n",
       "    </tr>\n",
       "    <tr>\n",
       "      <th>4</th>\n",
       "      <td>0.325261</td>\n",
       "      <td>0.805968</td>\n",
       "      <td>0.957033</td>\n",
       "      <td>0.331665</td>\n",
       "      <td>0.307923</td>\n",
       "      <td>0.355315</td>\n",
       "      <td>0.501899</td>\n",
       "      <td>0.558449</td>\n",
       "      <td>0.885169</td>\n",
       "      <td>0.182754</td>\n",
       "      <td>0</td>\n",
       "      <td>-0.024274</td>\n",
       "    </tr>\n",
       "    <tr>\n",
       "      <th>...</th>\n",
       "      <td>...</td>\n",
       "      <td>...</td>\n",
       "      <td>...</td>\n",
       "      <td>...</td>\n",
       "      <td>...</td>\n",
       "      <td>...</td>\n",
       "      <td>...</td>\n",
       "      <td>...</td>\n",
       "      <td>...</td>\n",
       "      <td>...</td>\n",
       "      <td>...</td>\n",
       "      <td>...</td>\n",
       "    </tr>\n",
       "    <tr>\n",
       "      <th>995</th>\n",
       "      <td>0.305055</td>\n",
       "      <td>0.656837</td>\n",
       "      <td>0.331665</td>\n",
       "      <td>0.822525</td>\n",
       "      <td>0.907127</td>\n",
       "      <td>0.882276</td>\n",
       "      <td>0.855732</td>\n",
       "      <td>0.584786</td>\n",
       "      <td>0.808640</td>\n",
       "      <td>0.242762</td>\n",
       "      <td>0</td>\n",
       "      <td>-0.069457</td>\n",
       "    </tr>\n",
       "    <tr>\n",
       "      <th>996</th>\n",
       "      <td>0.812627</td>\n",
       "      <td>0.864258</td>\n",
       "      <td>0.616604</td>\n",
       "      <td>0.167966</td>\n",
       "      <td>0.811223</td>\n",
       "      <td>0.938071</td>\n",
       "      <td>0.418462</td>\n",
       "      <td>0.472306</td>\n",
       "      <td>0.348347</td>\n",
       "      <td>0.671129</td>\n",
       "      <td>0</td>\n",
       "      <td>-0.066424</td>\n",
       "    </tr>\n",
       "    <tr>\n",
       "      <th>997</th>\n",
       "      <td>0.250967</td>\n",
       "      <td>0.138627</td>\n",
       "      <td>0.919703</td>\n",
       "      <td>0.461234</td>\n",
       "      <td>0.886555</td>\n",
       "      <td>0.869888</td>\n",
       "      <td>0.800908</td>\n",
       "      <td>0.530324</td>\n",
       "      <td>0.779433</td>\n",
       "      <td>0.234952</td>\n",
       "      <td>0</td>\n",
       "      <td>-0.058043</td>\n",
       "    </tr>\n",
       "    <tr>\n",
       "      <th>998</th>\n",
       "      <td>0.502436</td>\n",
       "      <td>0.936820</td>\n",
       "      <td>0.580062</td>\n",
       "      <td>0.540773</td>\n",
       "      <td>0.151995</td>\n",
       "      <td>0.059452</td>\n",
       "      <td>0.225220</td>\n",
       "      <td>0.242755</td>\n",
       "      <td>0.279385</td>\n",
       "      <td>0.538755</td>\n",
       "      <td>0</td>\n",
       "      <td>-0.087922</td>\n",
       "    </tr>\n",
       "    <tr>\n",
       "      <th>999</th>\n",
       "      <td>0.457991</td>\n",
       "      <td>0.017755</td>\n",
       "      <td>0.714113</td>\n",
       "      <td>0.125992</td>\n",
       "      <td>0.063316</td>\n",
       "      <td>0.154739</td>\n",
       "      <td>0.922974</td>\n",
       "      <td>0.692299</td>\n",
       "      <td>0.816777</td>\n",
       "      <td>0.307592</td>\n",
       "      <td>0</td>\n",
       "      <td>-0.003241</td>\n",
       "    </tr>\n",
       "  </tbody>\n",
       "</table>\n",
       "<p>1000 rows × 12 columns</p>\n",
       "</div>"
      ],
      "text/plain": [
       "         Col1      Col2      Col3      Col4      Col5      Col6      Col7  \\\n",
       "0    0.263995  0.764929  0.138424  0.935242  0.605867  0.518790  0.912225   \n",
       "1    0.546092  0.653975  0.065575  0.227772  0.845269  0.837066  0.272379   \n",
       "2    0.336714  0.538842  0.192801  0.553563  0.074515  0.332993  0.365792   \n",
       "3    0.092108  0.995017  0.014465  0.176371  0.241530  0.514724  0.562208   \n",
       "4    0.325261  0.805968  0.957033  0.331665  0.307923  0.355315  0.501899   \n",
       "..        ...       ...       ...       ...       ...       ...       ...   \n",
       "995  0.305055  0.656837  0.331665  0.822525  0.907127  0.882276  0.855732   \n",
       "996  0.812627  0.864258  0.616604  0.167966  0.811223  0.938071  0.418462   \n",
       "997  0.250967  0.138627  0.919703  0.461234  0.886555  0.869888  0.800908   \n",
       "998  0.502436  0.936820  0.580062  0.540773  0.151995  0.059452  0.225220   \n",
       "999  0.457991  0.017755  0.714113  0.125992  0.063316  0.154739  0.922974   \n",
       "\n",
       "         Col8      Col9     Col10  Label     Score  \n",
       "0    0.608234  0.723782  0.733591      0 -0.020539  \n",
       "1    0.331679  0.429297  0.367422      0 -0.072170  \n",
       "2    0.861309  0.899017  0.088600      1  0.000051  \n",
       "3    0.158963  0.073715  0.208463      1  0.018409  \n",
       "4    0.558449  0.885169  0.182754      0 -0.024274  \n",
       "..        ...       ...       ...    ...       ...  \n",
       "995  0.584786  0.808640  0.242762      0 -0.069457  \n",
       "996  0.472306  0.348347  0.671129      0 -0.066424  \n",
       "997  0.530324  0.779433  0.234952      0 -0.058043  \n",
       "998  0.242755  0.279385  0.538755      0 -0.087922  \n",
       "999  0.692299  0.816777  0.307592      0 -0.003241  \n",
       "\n",
       "[1000 rows x 12 columns]"
      ]
     },
     "execution_count": 4,
     "metadata": {},
     "output_type": "execute_result"
    }
   ],
   "source": [
    "# generating the predictions using KNN trained model\n",
    "iforest_predictions = predict_model(iforest, data = anomaly)\n",
    "iforest_predictions"
   ]
  },
  {
   "cell_type": "code",
   "execution_count": 5,
   "metadata": {},
   "outputs": [
    {
     "name": "stdout",
     "output_type": "stream",
     "text": [
      "         Col1      Col2      Col3      Col4      Col5      Col6      Col7  \\\n",
      "2    0.336714  0.538842  0.192801  0.553563  0.074515  0.332993  0.365792   \n",
      "3    0.092108  0.995017  0.014465  0.176371  0.241530  0.514724  0.562208   \n",
      "7    0.869237  0.277979  0.423076  0.112472  0.183727  0.034960  0.111114   \n",
      "8    0.197078  0.843918  0.243396  0.281278  0.329148  0.734582  0.191947   \n",
      "9    0.292985  0.703432  0.439621  0.107868  0.922947  0.253458  0.295652   \n",
      "11   0.796623  0.230543  0.993018  0.077075  0.094068  0.718628  0.977611   \n",
      "14   0.950745  0.005154  0.084187  0.478148  0.212836  0.714347  0.664819   \n",
      "20   0.162825  0.674069  0.705447  0.774799  0.894267  0.443057  0.399779   \n",
      "23   0.057884  0.227162  0.022494  0.167069  0.631315  0.610103  0.277753   \n",
      "24   0.445535  0.640881  0.689264  0.937542  0.037016  0.316847  0.972312   \n",
      "25   0.801837  0.272857  0.109206  0.922978  0.656014  0.376589  0.735547   \n",
      "28   0.834861  0.973891  0.808398  0.222828  0.018934  0.708188  0.986392   \n",
      "29   0.669767  0.694779  0.191048  0.080716  0.441480  0.115675  0.054466   \n",
      "33   0.977562  0.125559  0.377839  0.195111  0.088484  0.644188  0.277623   \n",
      "34   0.249776  0.276445  0.905772  0.843307  0.622943  0.757426  0.656207   \n",
      "35   0.975501  0.758013  0.371807  0.971078  0.819140  0.393431  0.500970   \n",
      "43   0.178173  0.304310  0.028749  0.800844  0.161153  0.874650  0.984053   \n",
      "51   0.544329  0.042685  0.653127  0.959081  0.211368  0.973765  0.303781   \n",
      "53   0.273081  0.097663  0.491502  0.065955  0.087729  0.727528  0.004372   \n",
      "55   0.349621  0.217426  0.703498  0.925354  0.634280  0.226301  0.067452   \n",
      "59   0.981709  0.253236  0.695971  0.918359  0.108317  0.656997  0.806218   \n",
      "63   0.837803  0.793079  0.003605  0.165423  0.170273  0.374682  0.514763   \n",
      "66   0.341345  0.217400  0.886342  0.572454  0.409470  0.972481  0.084923   \n",
      "130  0.184401  0.182524  0.155665  0.824050  0.803282  0.856811  0.082615   \n",
      "184  0.934830  0.474943  0.504163  0.159997  0.049000  0.052552  0.395266   \n",
      "198  0.271132  0.099214  0.326103  0.925654  0.910054  0.897757  0.965498   \n",
      "229  0.744041  0.133710  0.372605  0.818695  0.092383  0.031271  0.271297   \n",
      "256  0.245236  0.918462  0.157465  0.756813  0.821578  0.555554  0.856243   \n",
      "392  0.879902  0.745380  0.059787  0.417388  0.801933  0.502840  0.942938   \n",
      "474  0.777332  0.160963  0.863103  0.289532  1.000000  0.475374  0.332232   \n",
      "515  0.376381  0.069720  0.757846  0.125520  0.810560  0.653261  0.411480   \n",
      "523  0.902588  0.751362  0.002002  0.377471  0.052491  0.122550  0.854821   \n",
      "602  0.685463  0.881432  0.224920  0.859908  0.049718  0.073216  0.440065   \n",
      "680  0.880202  0.322195  0.134339  0.701062  0.189960  0.000000  0.893726   \n",
      "700  0.539521  0.006844  0.379683  0.915896  0.708540  0.606755  0.504256   \n",
      "701  0.114757  0.269462  0.911566  0.441826  0.452097  0.940763  0.913952   \n",
      "703  0.676398  0.514887  0.895753  0.176415  0.214757  0.741506  0.894564   \n",
      "708  0.052790  0.566393  0.285096  0.795340  0.523658  0.964553  0.789691   \n",
      "710  0.927432  0.088497  0.251848  0.243690  0.120432  0.756917  0.521119   \n",
      "713  0.495705  0.063449  0.054014  0.832054  0.790832  0.229366  0.425390   \n",
      "716  0.341369  0.538199  0.414272  0.460352  0.442762  0.269584  0.260125   \n",
      "717  0.159682  0.825127  0.716445  0.069445  0.032148  0.654702  0.028203   \n",
      "718  0.318134  0.984550  0.858386  0.872008  0.950152  0.298551  0.275030   \n",
      "720  0.064359  0.129525  0.183766  0.860040  0.254505  0.440920  0.089274   \n",
      "722  0.776252  0.416737  0.155131  0.556724  0.937436  0.091686  0.689603   \n",
      "724  0.625105  0.873683  0.184258  0.907081  0.086882  0.856332  0.040426   \n",
      "743  0.281576  0.400546  0.310430  0.922162  0.125541  0.042865  0.406634   \n",
      "769  0.010984  0.511932  0.558768  0.064734  0.142256  0.051503  0.876103   \n",
      "790  0.779067  0.139725  0.635095  0.078886  0.097763  0.089287  0.064856   \n",
      "892  0.920740  0.378674  0.093806  0.420244  0.150863  0.070104  0.905117   \n",
      "\n",
      "         Col8      Col9     Col10  Label     Score  \n",
      "2    0.861309  0.899017  0.088600      1  0.000051  \n",
      "3    0.158963  0.073715  0.208463      1  0.018409  \n",
      "7    0.249330  0.550683  0.049843      1  0.035053  \n",
      "8    0.927804  0.713269  0.891548      1  0.021266  \n",
      "9    0.355287  0.980911  0.308864      1  0.001592  \n",
      "11   0.333386  0.634843  0.028729      1  0.046663  \n",
      "14   0.803558  0.465466  0.305692      1  0.031029  \n",
      "20   0.009136  0.941851  0.982711      1  0.025801  \n",
      "23   0.728503  0.716414  0.973370      1  0.022634  \n",
      "24   0.224585  0.393000  0.857239      1  0.036019  \n",
      "25   0.302567  0.988732  0.847391      1  0.012388  \n",
      "28   0.545479  0.235898  0.844788      1  0.029845  \n",
      "29   0.949300  0.318667  0.410017      1  0.035952  \n",
      "33   0.741173  0.772889  0.780929      1  0.025542  \n",
      "34   0.887785  0.040510  0.808190      1  0.013041  \n",
      "35   0.304712  0.978230  0.484401      1  0.001134  \n",
      "43   0.205747  0.029727  0.842088      1  0.057570  \n",
      "51   0.487732  0.971283  0.301297      1  0.023639  \n",
      "53   0.903040  0.254568  0.402991      1  0.042846  \n",
      "55   0.355699  0.962699  0.168724      1  0.017934  \n",
      "59   0.924069  0.916568  0.406505      1  0.048462  \n",
      "63   0.185381  0.079298  0.954650      1  0.034803  \n",
      "66   0.683125  0.078588  0.905688      1  0.030111  \n",
      "130  0.699480  0.124231  0.956393      1  0.021085  \n",
      "184  0.790149  0.250679  0.854839      1  0.000671  \n",
      "198  0.596357  0.933402  0.126133      1  0.000345  \n",
      "229  0.782089  0.192954  0.910245      1  0.006349  \n",
      "256  0.427849  0.915980  0.029184      1  0.003039  \n",
      "392  0.523867  0.955438  0.054962      1  0.012235  \n",
      "474  0.790794  0.220038  0.885585      1  0.000009  \n",
      "515  0.920367  0.223094  0.917702      1  0.002366  \n",
      "523  0.757885  0.689827  0.478754      1  0.010712  \n",
      "602  0.926105  0.235349  0.907032      1  0.012949  \n",
      "680  0.514424  0.902397  0.101477      1  0.014166  \n",
      "700  0.941473  0.019866  0.092027      1  0.053578  \n",
      "701  0.952670  0.523607  0.636719      1  0.007667  \n",
      "703  0.148374  0.122150  0.967965      1  0.023824  \n",
      "708  0.944700  0.062553  0.179371      1  0.039247  \n",
      "710  0.130158  0.747129  0.508585      1  0.011117  \n",
      "713  0.050938  0.725988  0.942197      1  0.042626  \n",
      "716  0.004269  0.957254  0.874111      1  0.008760  \n",
      "717  0.886761  0.165482  0.116204      1  0.066861  \n",
      "718  0.207604  0.855490  0.191021      1  0.007547  \n",
      "720  0.941902  0.904978  0.215016      1  0.055973  \n",
      "722  0.064191  0.119276  0.985357      1  0.041737  \n",
      "724  0.755437  0.161329  0.748238      1  0.012253  \n",
      "743  0.895068  0.227634  0.906307      1  0.002030  \n",
      "769  0.526885  0.872629  0.139632      1  0.001729  \n",
      "790  0.114222  0.173024  0.557666      1  0.018316  \n",
      "892  0.600903  0.857353  0.205095      1  0.001523  \n"
     ]
    }
   ],
   "source": [
    "# checking anomaly rows. Label = 1 is the anomaly data.\n",
    "iforest_anomaly_rows = iforest_predictions[iforest_predictions[\"Label\"] == 1]\n",
    "print(iforest_anomaly_rows)"
   ]
  },
  {
   "cell_type": "code",
   "execution_count": 6,
   "metadata": {},
   "outputs": [
    {
     "name": "stdout",
     "output_type": "stream",
     "text": [
      "Col1     50\n",
      "Col2     50\n",
      "Col3     50\n",
      "Col4     50\n",
      "Col5     50\n",
      "Col6     50\n",
      "Col7     50\n",
      "Col8     50\n",
      "Col9     50\n",
      "Col10    50\n",
      "Label    50\n",
      "Score    50\n",
      "dtype: int64\n"
     ]
    }
   ],
   "source": [
    "# checking the number of anomaly rows\n",
    "iforest_anomaly_rows.shape"
   ]
  },
  {
   "cell_type": "markdown",
   "metadata": {},
   "source": [
    "### K Nearest Neighbor"
   ]
  },
  {
   "cell_type": "code",
   "execution_count": 7,
   "metadata": {},
   "outputs": [
    {
     "data": {
      "text/html": [
       "        <script type=\"text/javascript\">\n",
       "        window.PlotlyConfig = {MathJaxConfig: 'local'};\n",
       "        if (window.MathJax) {MathJax.Hub.Config({SVG: {font: \"STIX-Web\"}});}\n",
       "        if (typeof require !== 'undefined') {\n",
       "        require.undef(\"plotly\");\n",
       "        requirejs.config({\n",
       "            paths: {\n",
       "                'plotly': ['https://cdn.plot.ly/plotly-latest.min']\n",
       "            }\n",
       "        });\n",
       "        require(['plotly'], function(Plotly) {\n",
       "            window._Plotly = Plotly;\n",
       "        });\n",
       "        }\n",
       "        </script>\n",
       "        "
      ]
     },
     "metadata": {},
     "output_type": "display_data"
    },
    {
     "data": {
      "application/vnd.plotly.v1+json": {
       "config": {
        "plotlyServerURL": "https://plot.ly"
       },
       "data": [
        {
         "customdata": [
          [
           0.263995357
          ],
          [
           0.546092303
          ],
          [
           0.33671410399999996
          ],
          [
           0.092107835
          ],
          [
           0.325261175
          ],
          [
           0.212464853
          ],
          [
           0.258565714
          ],
          [
           0.869236755
          ],
          [
           0.197077957
          ],
          [
           0.292984504
          ],
          [
           0.82178316
          ],
          [
           0.796622959
          ],
          [
           0.045577010999999994
          ],
          [
           0.613660351
          ],
          [
           0.9507445659999999
          ],
          [
           0.33634633700000005
          ],
          [
           0.034440667
          ],
          [
           0.741544275
          ],
          [
           0.18443265
          ],
          [
           0.664514943
          ],
          [
           0.16282485800000002
          ],
          [
           0.729838445
          ],
          [
           0.62837389
          ],
          [
           0.057883660999999996
          ],
          [
           0.445534827
          ],
          [
           0.80183695
          ],
          [
           0.27709612
          ],
          [
           0.228634015
          ],
          [
           0.834860657
          ],
          [
           0.6697665110000001
          ],
          [
           0.532527349
          ],
          [
           0.17045907100000002
          ],
          [
           0.5102884679999999
          ],
          [
           0.977561989
          ],
          [
           0.249775993
          ],
          [
           0.9755006820000001
          ],
          [
           0.613701727
          ],
          [
           0.16742036300000002
          ],
          [
           0.537472516
          ],
          [
           0.379899131
          ],
          [
           0.633897303
          ],
          [
           0.633960424
          ],
          [
           0.5499746529999999
          ],
          [
           0.178172988
          ],
          [
           0.85563814
          ],
          [
           0.321796672
          ],
          [
           0.8174905370000001
          ],
          [
           0.254879417
          ],
          [
           0.344140513
          ],
          [
           0.8061457259999999
          ],
          [
           0.27708167100000003
          ],
          [
           0.544328519
          ],
          [
           0.07708393
          ],
          [
           0.273081458
          ],
          [
           0.390877336
          ],
          [
           0.349621385
          ],
          [
           0.214549744
          ],
          [
           0.206075222
          ],
          [
           0.86461997
          ],
          [
           0.9817088540000001
          ],
          [
           0.33482964600000004
          ],
          [
           0.648387061
          ],
          [
           0.093643561
          ],
          [
           0.837802698
          ],
          [
           0.7603439670000001
          ],
          [
           0.29140417399999996
          ],
          [
           0.3413454
          ],
          [
           0.7611124840000001
          ],
          [
           0.541899775
          ],
          [
           0.684176639
          ],
          [
           0.983535597
          ],
          [
           0.52081245
          ],
          [
           0.328227724
          ],
          [
           0.09715793800000001
          ],
          [
           0.876088593
          ],
          [
           0.870214512
          ],
          [
           0.656086992
          ],
          [
           0.306791514
          ],
          [
           0.48126734
          ],
          [
           0.259559174
          ],
          [
           0.326123655
          ],
          [
           0.930568042
          ],
          [
           0.6583894
          ],
          [
           0.689992335
          ],
          [
           0.315781109
          ],
          [
           0.5669050929999999
          ],
          [
           0.637526619
          ],
          [
           0.687540723
          ],
          [
           0.324300602
          ],
          [
           0.592704906
          ],
          [
           0.7402531259999999
          ],
          [
           0.5940328770000001
          ],
          [
           0.596452977
          ],
          [
           0.27768081699999997
          ],
          [
           0.258329663
          ],
          [
           0.142460864
          ],
          [
           0.435533461
          ],
          [
           0.7024990440000001
          ],
          [
           0.58897535
          ],
          [
           0.653304374
          ],
          [
           0.336968524
          ],
          [
           0.631244736
          ],
          [
           0.73530076
          ],
          [
           0.050390366
          ],
          [
           0.064264924
          ],
          [
           0.665359476
          ],
          [
           0.917835245
          ],
          [
           0.44651012
          ],
          [
           0.661938199
          ],
          [
           0.43935985299999997
          ],
          [
           0.6875724040000001
          ],
          [
           0.363462248
          ],
          [
           0.6542621820000001
          ],
          [
           0.578553536
          ],
          [
           0.065927945
          ],
          [
           0.550148559
          ],
          [
           0.13918281400000002
          ],
          [
           0.080004635
          ],
          [
           0.278228358
          ],
          [
           0.560124266
          ],
          [
           0.53639864
          ],
          [
           0.42653190399999996
          ],
          [
           0.789109796
          ],
          [
           0.742900474
          ],
          [
           0.901692589
          ],
          [
           0.650337401
          ],
          [
           0.114057311
          ],
          [
           0.260812592
          ],
          [
           0.43991232
          ],
          [
           0.964409284
          ],
          [
           0.184401415
          ],
          [
           0.345145446
          ],
          [
           0.17589458100000002
          ],
          [
           0.312514453
          ],
          [
           0.674131879
          ],
          [
           0.32825045
          ],
          [
           0.598231057
          ],
          [
           0.09259881699999999
          ],
          [
           0.497916521
          ],
          [
           0.419776521
          ],
          [
           0.31217670000000003
          ],
          [
           0.937857107
          ],
          [
           0.049030963
          ],
          [
           0.47610452600000003
          ],
          [
           0.447397526
          ],
          [
           0.295806058
          ],
          [
           0.737363977
          ],
          [
           0.625896253
          ],
          [
           0.408813429
          ],
          [
           0.437511156
          ],
          [
           0.691351375
          ],
          [
           0.935555275
          ],
          [
           0.437846654
          ],
          [
           0.072217715
          ],
          [
           0.67636067
          ],
          [
           0.468883999
          ],
          [
           0.543820644
          ],
          [
           0.6555226470000001
          ],
          [
           0.6935289240000001
          ],
          [
           0.10887831199999999
          ],
          [
           0.285463743
          ],
          [
           0
          ],
          [
           0.706495497
          ],
          [
           0.273530633
          ],
          [
           0.292320271
          ],
          [
           0.673984307
          ],
          [
           0.12612182800000002
          ],
          [
           0.9467074590000001
          ],
          [
           0.9363388979999999
          ],
          [
           0.8537553640000001
          ],
          [
           0.7060713609999999
          ],
          [
           0.693682186
          ],
          [
           0.508527882
          ],
          [
           0.34717038899999997
          ],
          [
           0.704154263
          ],
          [
           0.658730088
          ],
          [
           0.155841557
          ],
          [
           0.311085435
          ],
          [
           0.281135347
          ],
          [
           0.094587802
          ],
          [
           0.6832609540000001
          ],
          [
           0.9077292509999999
          ],
          [
           0.29151267399999997
          ],
          [
           0.752734459
          ],
          [
           0.93482964
          ],
          [
           0.071413953
          ],
          [
           0.5948963270000001
          ],
          [
           0.404672015
          ],
          [
           0.13837621
          ],
          [
           0.7473384679999999
          ],
          [
           0.530882486
          ],
          [
           0.282649594
          ],
          [
           0.699335734
          ],
          [
           0.056111250999999994
          ],
          [
           0.855234998
          ],
          [
           0.07789512700000001
          ],
          [
           0.891649583
          ],
          [
           0.38674227899999997
          ],
          [
           0.27113158
          ],
          [
           0.958888961
          ],
          [
           0.085120869
          ],
          [
           0.5269022489999999
          ],
          [
           0.066577785
          ],
          [
           0.841506738
          ],
          [
           0.255342095
          ],
          [
           0.060545771
          ],
          [
           0.073385869
          ],
          [
           0.187493723
          ],
          [
           0.858365688
          ],
          [
           0.090640352
          ],
          [
           0.7097252270000001
          ],
          [
           0.631300647
          ],
          [
           0.24750447399999997
          ],
          [
           0.822843584
          ],
          [
           0.373476759
          ],
          [
           0.625538582
          ],
          [
           0.292951715
          ],
          [
           0.299730324
          ],
          [
           0.25121407
          ],
          [
           0.344480551
          ],
          [
           0.293064767
          ],
          [
           0.7628032240000001
          ],
          [
           0.7384708040000001
          ],
          [
           0.674883265
          ],
          [
           0.719151612
          ],
          [
           0.13098021599999998
          ],
          [
           0.511328036
          ],
          [
           0.04492903
          ],
          [
           0.560914449
          ],
          [
           0.7440406409999999
          ],
          [
           0.266961634
          ],
          [
           0.644231853
          ],
          [
           0.038113352
          ],
          [
           0.05715529900000001
          ],
          [
           0.34139246100000004
          ],
          [
           0.7204636320000001
          ],
          [
           0.402878236
          ],
          [
           0.635148967
          ],
          [
           0.320729467
          ],
          [
           0.09120969400000001
          ],
          [
           0.23414609
          ],
          [
           0.8902211309999999
          ],
          [
           0.602170884
          ],
          [
           0.633652055
          ],
          [
           0.806240837
          ],
          [
           0.739731184
          ],
          [
           0.465231269
          ],
          [
           0.7321109
          ],
          [
           0.373874305
          ],
          [
           0.501587947
          ],
          [
           0.11538315800000001
          ],
          [
           0.7319466040000001
          ],
          [
           0.41829872799999995
          ],
          [
           0.062259590999999996
          ],
          [
           0.391496379
          ],
          [
           0.35984929
          ],
          [
           0.24523562699999998
          ],
          [
           0.610028339
          ],
          [
           0.43540360200000006
          ],
          [
           0.434309675
          ],
          [
           0.523763344
          ],
          [
           0.17118786600000002
          ],
          [
           0.18773430300000002
          ],
          [
           0.945014638
          ],
          [
           0.027851097000000002
          ],
          [
           0.68445706
          ],
          [
           0.178014532
          ],
          [
           0.643427879
          ],
          [
           0.59588355
          ],
          [
           0.372361682
          ],
          [
           0.586103584
          ],
          [
           0.271658852
          ],
          [
           0.59951107
          ],
          [
           0.468363088
          ],
          [
           0.314515565
          ],
          [
           0.21893726
          ],
          [
           0.254716562
          ],
          [
           0.25612815
          ],
          [
           0.602259755
          ],
          [
           0.134381075
          ],
          [
           0.513887424
          ],
          [
           0.624241636
          ],
          [
           0.160251854
          ],
          [
           0.580708108
          ],
          [
           0.270540486
          ],
          [
           0.832919932
          ],
          [
           0.93032134
          ],
          [
           0.719157884
          ],
          [
           0.886720033
          ],
          [
           0.098792281
          ],
          [
           0.787174286
          ],
          [
           0.365592376
          ],
          [
           0.719576193
          ],
          [
           0.8058956
          ],
          [
           0.7555783340000001
          ],
          [
           0.526005909
          ],
          [
           0.68880424
          ],
          [
           0.22111531199999998
          ],
          [
           0.739369477
          ],
          [
           0.408440236
          ],
          [
           0.348926542
          ],
          [
           0.433713763
          ],
          [
           0.5964966070000001
          ],
          [
           0.6942953000000001
          ],
          [
           0.7090309659999999
          ],
          [
           0.867652984
          ],
          [
           0.89332545
          ],
          [
           0.746020922
          ],
          [
           0.538284443
          ],
          [
           0.8922193140000001
          ],
          [
           0.935175765
          ],
          [
           0.260527707
          ],
          [
           0.956780449
          ],
          [
           0.204932484
          ],
          [
           0.687733351
          ],
          [
           0.329063619
          ],
          [
           0.632149831
          ],
          [
           0.463744506
          ],
          [
           0.698859621
          ],
          [
           0.385446564
          ],
          [
           0.47997537700000004
          ],
          [
           0.732279108
          ],
          [
           0.3813543
          ],
          [
           0.459326013
          ],
          [
           0.257401434
          ],
          [
           0.665014804
          ],
          [
           0.103399542
          ],
          [
           0.425284413
          ],
          [
           0.943529051
          ],
          [
           0.594750236
          ],
          [
           0.543776817
          ],
          [
           0.18203988
          ],
          [
           0.23584208399999998
          ],
          [
           0.585984497
          ],
          [
           0.762013168
          ],
          [
           0.6849829070000001
          ],
          [
           0.676936933
          ],
          [
           0.290184964
          ],
          [
           0.48106822200000005
          ],
          [
           0.492766033
          ],
          [
           0.22185623399999999
          ],
          [
           0.053875998
          ],
          [
           0.082751144
          ],
          [
           0.385366225
          ],
          [
           0.702513961
          ],
          [
           0.91553156
          ],
          [
           0.082087436
          ],
          [
           0.251280378
          ],
          [
           0.41672181700000005
          ],
          [
           0.277032672
          ],
          [
           0.579539754
          ],
          [
           0.569363476
          ],
          [
           0.133399703
          ],
          [
           0.265045463
          ],
          [
           0.936571901
          ],
          [
           0.252618554
          ],
          [
           0.054033081
          ],
          [
           0.802481439
          ],
          [
           0.528197693
          ],
          [
           0.9515026
          ],
          [
           0.572121173
          ],
          [
           0.752938227
          ],
          [
           0.143857535
          ],
          [
           0.513484576
          ],
          [
           0.313322389
          ],
          [
           0.6877973959999999
          ],
          [
           0.37705984
          ],
          [
           0.348226142
          ],
          [
           0.67763282
          ],
          [
           0.24138752100000002
          ],
          [
           0.8506501790000001
          ],
          [
           0.22034810300000002
          ],
          [
           0.476445464
          ],
          [
           0.690324025
          ],
          [
           0.364695946
          ],
          [
           0.6492491970000001
          ],
          [
           0.9437019209999999
          ],
          [
           0.529645971
          ],
          [
           0.299097002
          ],
          [
           0.96696247
          ],
          [
           0.272005242
          ],
          [
           0.314161447
          ],
          [
           0.752020991
          ],
          [
           0.221882453
          ],
          [
           0.7203326729999999
          ],
          [
           0.379204782
          ],
          [
           0.60168653
          ],
          [
           0.582932673
          ],
          [
           0.950809853
          ],
          [
           0.58830141
          ],
          [
           0.880887227
          ],
          [
           0.467857701
          ],
          [
           0.8799021709999999
          ],
          [
           0.619844009
          ],
          [
           0.359002573
          ],
          [
           0.291511278
          ],
          [
           0.694157143
          ],
          [
           0.727960353
          ],
          [
           0.617703921
          ],
          [
           0.39581257
          ],
          [
           0.58317282
          ],
          [
           0.710332374
          ],
          [
           0.253753693
          ],
          [
           0.049412227999999996
          ],
          [
           0.728378695
          ],
          [
           0.432432881
          ],
          [
           0.58612345
          ],
          [
           0.052342373
          ],
          [
           0.053483902
          ],
          [
           0.518729378
          ],
          [
           0.933040208
          ],
          [
           0.7035542840000001
          ],
          [
           0.268989899
          ],
          [
           0.733006927
          ],
          [
           0.44435246700000003
          ],
          [
           0.5833946210000001
          ],
          [
           0.871172692
          ],
          [
           0.42876707799999997
          ],
          [
           0.30046084100000003
          ],
          [
           0.9533294590000001
          ],
          [
           0.606443965
          ],
          [
           0.90986815
          ],
          [
           0.714896449
          ],
          [
           0.49734950899999997
          ],
          [
           0.8530974859999999
          ],
          [
           0.721804145
          ],
          [
           0.303467328
          ],
          [
           0.664485096
          ],
          [
           0.27978062
          ],
          [
           0.569481665
          ],
          [
           0.628628926
          ],
          [
           0.088368123
          ],
          [
           0.733567326
          ],
          [
           0.537436778
          ],
          [
           0.638593691
          ],
          [
           0.954726948
          ],
          [
           0.632202332
          ],
          [
           0.642134651
          ],
          [
           0.744653087
          ],
          [
           0.115714007
          ],
          [
           0.48625007299999995
          ],
          [
           0.440356144
          ],
          [
           0.08272289
          ],
          [
           0.511591027
          ],
          [
           0.394627555
          ],
          [
           0.224394
          ],
          [
           0.626927584
          ],
          [
           0.290254057
          ],
          [
           0.779008053
          ],
          [
           0.86610579
          ],
          [
           0.873326081
          ],
          [
           0.49548916
          ],
          [
           0.594297695
          ],
          [
           0.9182015840000001
          ],
          [
           0.5770427539999999
          ],
          [
           0.019467671000000002
          ],
          [
           0.6702982820000001
          ],
          [
           0.546595316
          ],
          [
           0.591665146
          ],
          [
           0.42155819
          ],
          [
           0.6856085590000001
          ],
          [
           0.340303024
          ],
          [
           0.675626741
          ],
          [
           0.319067345
          ],
          [
           0.38849966399999997
          ],
          [
           0.706949589
          ],
          [
           0.559409515
          ],
          [
           0.687663508
          ],
          [
           0.7088045540000001
          ],
          [
           0.6818880940000001
          ],
          [
           0.42253510899999996
          ],
          [
           0.320004605
          ],
          [
           0.6582813679999999
          ],
          [
           0.634154867
          ],
          [
           0.7773320090000001
          ],
          [
           0.812677205
          ],
          [
           0.074280797
          ],
          [
           0.39600217
          ],
          [
           0.054933913
          ],
          [
           0.825058925
          ],
          [
           0.382642009
          ],
          [
           0.8687298179999999
          ],
          [
           0.588043346
          ],
          [
           0.891551577
          ],
          [
           0.10920046
          ],
          [
           0.647682781
          ],
          [
           0.724342512
          ],
          [
           0.07016304400000001
          ],
          [
           0.280882054
          ],
          [
           0.039113261
          ],
          [
           0.579641592
          ],
          [
           0.639000922
          ],
          [
           0.281745925
          ],
          [
           0.647857744
          ],
          [
           0.6479057970000001
          ],
          [
           0.875226264
          ],
          [
           0.567603305
          ],
          [
           0.262940591
          ],
          [
           0.268026042
          ],
          [
           0.40519133
          ],
          [
           0.479965451
          ],
          [
           0.33552403
          ],
          [
           0.777165379
          ],
          [
           0.42548796299999997
          ],
          [
           0.237986115
          ],
          [
           0.142522971
          ],
          [
           0.724176488
          ],
          [
           0.234698933
          ],
          [
           0.07818228099999999
          ],
          [
           0.855990155
          ],
          [
           0.270251765
          ],
          [
           0.435517841
          ],
          [
           0.762697513
          ],
          [
           0.46448725799999996
          ],
          [
           0.396112685
          ],
          [
           0.37638092100000003
          ],
          [
           0.29459467699999997
          ],
          [
           0.6944921209999999
          ],
          [
           0.622767949
          ],
          [
           0.8475597220000001
          ],
          [
           0.301463054
          ],
          [
           0.912937812
          ],
          [
           0.500017182
          ],
          [
           0.902587935
          ],
          [
           0.304517943
          ],
          [
           0.299165673
          ],
          [
           0.092014087
          ],
          [
           0.488548917
          ],
          [
           0.664664437
          ],
          [
           0.26534954899999996
          ],
          [
           0.723657021
          ],
          [
           0.149262385
          ],
          [
           0.04577339
          ],
          [
           0.69661064
          ],
          [
           0.42181486
          ],
          [
           0.733845785
          ],
          [
           0.418795386
          ],
          [
           0.677443529
          ],
          [
           0.26128360300000003
          ],
          [
           0.268527767
          ],
          [
           0.5443222360000001
          ],
          [
           0.431632036
          ],
          [
           0.981018141
          ],
          [
           0.21498072399999998
          ],
          [
           0.39472999299999995
          ],
          [
           0.122224944
          ],
          [
           0.297496875
          ],
          [
           0.37490443100000004
          ],
          [
           0.68698771
          ],
          [
           0.388549207
          ],
          [
           0.039296071
          ],
          [
           0.73553424
          ],
          [
           0.37929489299999997
          ],
          [
           0.7321233859999999
          ],
          [
           0.33922143899999996
          ],
          [
           0.659450594
          ],
          [
           0.054838642
          ],
          [
           0.640112102
          ],
          [
           0.30714170399999996
          ],
          [
           0.39661190700000004
          ],
          [
           0.420439161
          ],
          [
           0.24171497399999997
          ],
          [
           0.065893153
          ],
          [
           0.9105219370000001
          ],
          [
           0.697163103
          ],
          [
           0.072559853
          ],
          [
           0.81825094
          ],
          [
           0.311888815
          ],
          [
           0.961644609
          ],
          [
           0.816325524
          ],
          [
           0.14647302
          ],
          [
           0.548753945
          ],
          [
           0.946158087
          ],
          [
           0.293992717
          ],
          [
           0.331479643
          ],
          [
           0.9062200309999999
          ],
          [
           0.525540416
          ],
          [
           0.83301411
          ],
          [
           0.514849806
          ],
          [
           0.574609024
          ],
          [
           0.46871185299999996
          ],
          [
           0.71002775
          ],
          [
           0.645973276
          ],
          [
           0.229794416
          ],
          [
           0.551783393
          ],
          [
           0.055822990999999995
          ],
          [
           0.331750941
          ],
          [
           0.715520198
          ],
          [
           0.583924357
          ],
          [
           0.30695769100000003
          ],
          [
           0.7914782370000001
          ],
          [
           0.16423663900000002
          ],
          [
           0.065711219
          ],
          [
           0.948993132
          ],
          [
           0.080423835
          ],
          [
           0.052495426
          ],
          [
           0.566346135
          ],
          [
           0.3630266
          ],
          [
           0.605442195
          ],
          [
           0.6308505839999999
          ],
          [
           0.065791238
          ],
          [
           0.28681707100000003
          ],
          [
           0.685462839
          ],
          [
           0.260853706
          ],
          [
           0.659122429
          ],
          [
           0.44317392200000005
          ],
          [
           0.602063986
          ],
          [
           0.060366910999999995
          ],
          [
           0.781903153
          ],
          [
           0.5145798070000001
          ],
          [
           0.48388621299999995
          ],
          [
           0.600213807
          ],
          [
           0.49736405200000006
          ],
          [
           0.411145245
          ],
          [
           0.116999171
          ],
          [
           0.34189014100000004
          ],
          [
           0.746950848
          ],
          [
           0.39629274600000003
          ],
          [
           0.6221438429999999
          ],
          [
           0.335271141
          ],
          [
           0.140257137
          ],
          [
           0.081620681
          ],
          [
           0.069837569
          ],
          [
           0.46894000799999996
          ],
          [
           0.9908574170000001
          ],
          [
           0.896616832
          ],
          [
           0.255310561
          ],
          [
           0.22464526699999998
          ],
          [
           0.01991825
          ],
          [
           0.296480415
          ],
          [
           0.155458996
          ],
          [
           0.577916714
          ],
          [
           0.9563030309999999
          ],
          [
           0.813464394
          ],
          [
           0.529675785
          ],
          [
           0.287671353
          ],
          [
           0.48039136
          ],
          [
           0.28104482199999997
          ],
          [
           0.633196521
          ],
          [
           0.09332537699999999
          ],
          [
           0.28447398100000004
          ],
          [
           0.052223775
          ],
          [
           0.051129385
          ],
          [
           0.967405608
          ],
          [
           0.040045727999999996
          ],
          [
           0.9085829209999999
          ],
          [
           0.6621174160000001
          ],
          [
           0.42470320899999997
          ],
          [
           0.72207806
          ],
          [
           0.666193327
          ],
          [
           0.509681253
          ],
          [
           0.7513536209999999
          ],
          [
           0.279073124
          ],
          [
           0.074927
          ],
          [
           0.916359535
          ],
          [
           0.31040327
          ],
          [
           0.716604052
          ],
          [
           0.485587085
          ],
          [
           0.30607518100000003
          ],
          [
           0.477558204
          ],
          [
           0.7119239409999999
          ],
          [
           0.066348638
          ],
          [
           0.27453935100000004
          ],
          [
           0.31082252
          ],
          [
           0.47607312700000004
          ],
          [
           0.186795565
          ],
          [
           0.26654207
          ],
          [
           0.070231142
          ],
          [
           0.26951927
          ],
          [
           0.800004713
          ],
          [
           0.27363366699999997
          ],
          [
           0.14647919199999998
          ],
          [
           0.378318951
          ],
          [
           0.373849065
          ],
          [
           0.242170835
          ],
          [
           0.249796488
          ],
          [
           0.066591188
          ],
          [
           0.372956798
          ],
          [
           0.501812291
          ],
          [
           0.313097752
          ],
          [
           0.8802021959999999
          ],
          [
           0.51981893
          ],
          [
           0.364138746
          ],
          [
           0.49268289600000004
          ],
          [
           0.285732652
          ],
          [
           0.890114985
          ],
          [
           0.316419561
          ],
          [
           0.26866354
          ],
          [
           0.771975959
          ],
          [
           0.968888992
          ],
          [
           0.080334377
          ],
          [
           0.7368282209999999
          ],
          [
           0.30055807100000004
          ],
          [
           0.9179503929999999
          ],
          [
           0.465815039
          ],
          [
           0.054036682
          ],
          [
           0.963150123
          ],
          [
           0.08965350300000001
          ],
          [
           0.7076932340000001
          ],
          [
           0.636416037
          ],
          [
           0.539521117
          ],
          [
           0.114757161
          ],
          [
           0.357312419
          ],
          [
           0.67639834
          ],
          [
           0.43482839
          ],
          [
           0.032326387000000005
          ],
          [
           0.711365605
          ],
          [
           0.187486519
          ],
          [
           0.052789653
          ],
          [
           0.5058636129999999
          ],
          [
           0.927431873
          ],
          [
           0.6809842559999999
          ],
          [
           0.882822186
          ],
          [
           0.495705441
          ],
          [
           0.596240398
          ],
          [
           0.320610701
          ],
          [
           0.3413685
          ],
          [
           0.159681797
          ],
          [
           0.318133669
          ],
          [
           0.8393010479999999
          ],
          [
           0.06435925099999999
          ],
          [
           0.470216633
          ],
          [
           0.7762522909999999
          ],
          [
           0.635843383
          ],
          [
           0.62510543
          ],
          [
           0.52959065
          ],
          [
           0.986900166
          ],
          [
           0.078585688
          ],
          [
           0.233284267
          ],
          [
           0.363330957
          ],
          [
           0.7167169809999999
          ],
          [
           0.37588979200000006
          ],
          [
           0.223316889
          ],
          [
           0.299343986
          ],
          [
           0.538595767
          ],
          [
           0.730297124
          ],
          [
           0.66033077
          ],
          [
           0.435296009
          ],
          [
           0.326494313
          ],
          [
           0.854402708
          ],
          [
           0.5734938470000001
          ],
          [
           0.757786135
          ],
          [
           0.704743233
          ],
          [
           0.281575597
          ],
          [
           0.671968208
          ],
          [
           0.313726015
          ],
          [
           0.364338275
          ],
          [
           0.368216396
          ],
          [
           0.38629520700000003
          ],
          [
           0.655971865
          ],
          [
           0.5660252729999999
          ],
          [
           0.424999093
          ],
          [
           0.090110371
          ],
          [
           0.772350538
          ],
          [
           0.331047258
          ],
          [
           0.273716188
          ],
          [
           0.23877568
          ],
          [
           0.37307977200000003
          ],
          [
           0.331185868
          ],
          [
           0.256134531
          ],
          [
           0.678373225
          ],
          [
           0.43463833799999996
          ],
          [
           0.654668307
          ],
          [
           0.986681065
          ],
          [
           0.371520495
          ],
          [
           0.408359618
          ],
          [
           0.40932365
          ],
          [
           0.283412082
          ],
          [
           0.395246531
          ],
          [
           0.010984428000000001
          ],
          [
           0.306013869
          ],
          [
           0.266194806
          ],
          [
           0.299318521
          ],
          [
           0.318293946
          ],
          [
           0.74282591
          ],
          [
           0.09766432900000001
          ],
          [
           0.079666942
          ],
          [
           0.613258767
          ],
          [
           0.99443072
          ],
          [
           0.568835082
          ],
          [
           0.7080345159999999
          ],
          [
           0.37059271899999996
          ],
          [
           0.669867361
          ],
          [
           0.651295625
          ],
          [
           0.462531569
          ],
          [
           0.7196256190000001
          ],
          [
           0.45377248
          ],
          [
           0.394863946
          ],
          [
           0.323974831
          ],
          [
           0.146454724
          ],
          [
           0.7790670409999999
          ],
          [
           0.401828915
          ],
          [
           0.601479585
          ],
          [
           0.856423023
          ],
          [
           0.565242962
          ],
          [
           0.301225108
          ],
          [
           0.282108144
          ],
          [
           0.594378011
          ],
          [
           0.705312368
          ],
          [
           0.5408696279999999
          ],
          [
           0.319249574
          ],
          [
           0.36176613799999996
          ],
          [
           0.625000704
          ],
          [
           0.316287401
          ],
          [
           0.047239021
          ],
          [
           0.801182233
          ],
          [
           0.508474436
          ],
          [
           0.8178934109999999
          ],
          [
           0.399235601
          ],
          [
           0.9740519990000001
          ],
          [
           0.72241535
          ],
          [
           0.039564764
          ],
          [
           0.908684108
          ],
          [
           0.47301013399999997
          ],
          [
           0.7180496279999999
          ],
          [
           0.7634790690000001
          ],
          [
           0.6475965370000001
          ],
          [
           0.8949973859999999
          ],
          [
           0.22282590100000002
          ],
          [
           0.359012234
          ],
          [
           0.944910252
          ],
          [
           0.297877816
          ],
          [
           0.172517997
          ],
          [
           0.556586265
          ],
          [
           0.876481735
          ],
          [
           0.48667784299999994
          ],
          [
           0.459496733
          ],
          [
           0.47412637700000004
          ],
          [
           0.70101144
          ],
          [
           0.337597387
          ],
          [
           0.537578886
          ],
          [
           0.966992448
          ],
          [
           0.056849545
          ],
          [
           0.233249065
          ],
          [
           0.380054711
          ],
          [
           0.602929443
          ],
          [
           0.303847999
          ],
          [
           0.170194553
          ],
          [
           0.972168554
          ],
          [
           0.332168927
          ],
          [
           0.6887286890000001
          ],
          [
           0.110773401
          ],
          [
           0.273352065
          ],
          [
           0.572939678
          ],
          [
           0.491457065
          ],
          [
           0.281389999
          ],
          [
           0.821697261
          ],
          [
           0.6749776829999999
          ],
          [
           0.585134549
          ],
          [
           0.7105961159999999
          ],
          [
           0.040488789
          ],
          [
           0.568054311
          ],
          [
           0.321752928
          ],
          [
           0.611850232
          ],
          [
           0.926096887
          ],
          [
           0.618347428
          ],
          [
           0.667629785
          ],
          [
           0.39773346600000004
          ],
          [
           0.290875487
          ],
          [
           0.594375103
          ],
          [
           0.508255233
          ],
          [
           0.338571357
          ],
          [
           0.43230234700000003
          ],
          [
           0.302221978
          ],
          [
           0.87619819
          ],
          [
           0.080204492
          ],
          [
           0.092333532
          ],
          [
           0.09365644699999999
          ],
          [
           0.6084523510000001
          ],
          [
           0.732654598
          ],
          [
           0.944158855
          ],
          [
           0.26742308
          ],
          [
           0.731124201
          ],
          [
           0.661308553
          ],
          [
           0.38776626200000003
          ],
          [
           0.962585273
          ],
          [
           0.322067067
          ],
          [
           0.6340810929999999
          ],
          [
           0.475345002
          ],
          [
           0.35355897299999994
          ],
          [
           0.8859363159999999
          ],
          [
           0.876798106
          ],
          [
           0.221581064
          ],
          [
           0.394362449
          ],
          [
           0.8050356759999999
          ],
          [
           0.452898486
          ],
          [
           0.592520516
          ],
          [
           0.761026394
          ],
          [
           0.245049023
          ],
          [
           0.37213936299999995
          ],
          [
           0.681054822
          ],
          [
           0.7471431479999999
          ],
          [
           0.9207395290000001
          ],
          [
           0.097207945
          ],
          [
           0.699302998
          ],
          [
           0.721647006
          ],
          [
           0.5353561139999999
          ],
          [
           0.738293805
          ],
          [
           0.7064675509999999
          ],
          [
           0.67395061
          ],
          [
           0.7112122909999999
          ],
          [
           0.302558708
          ],
          [
           0.080097855
          ],
          [
           0.707010837
          ],
          [
           0.512248622
          ],
          [
           0.659627472
          ],
          [
           0.657559694
          ],
          [
           0.100645606
          ],
          [
           0.92665363
          ],
          [
           0.892879338
          ],
          [
           0.839157508
          ],
          [
           0.890959718
          ],
          [
           0.556754471
          ],
          [
           0.960361937
          ],
          [
           0.631037864
          ],
          [
           0.029838065
          ],
          [
           0.278843351
          ],
          [
           0.926157705
          ],
          [
           0.551504258
          ],
          [
           0.485942349
          ],
          [
           0.43723469600000003
          ],
          [
           0.25231801800000003
          ],
          [
           0.515466972
          ],
          [
           0.43725229600000004
          ],
          [
           0.493724207
          ],
          [
           0.83324725
          ],
          [
           0.317521477
          ],
          [
           0.28623456199999997
          ],
          [
           0.726833965
          ],
          [
           0.495667033
          ],
          [
           0.028645255
          ],
          [
           0.31967191699999997
          ],
          [
           0.674344598
          ],
          [
           0.7660371890000001
          ],
          [
           0.65456992
          ],
          [
           0.7565143809999999
          ],
          [
           0.528253719
          ],
          [
           0.38971949100000003
          ],
          [
           0.355087459
          ],
          [
           0.87015202
          ],
          [
           0.7390833059999999
          ],
          [
           0.305761846
          ],
          [
           0.411587673
          ],
          [
           0.063633094
          ],
          [
           0.735409395
          ],
          [
           0.605916669
          ],
          [
           0.539395562
          ],
          [
           0.566183532
          ],
          [
           0.674795186
          ],
          [
           0.070993366
          ],
          [
           0.12526410000000002
          ],
          [
           0.279601492
          ],
          [
           0.952174402
          ],
          [
           0.233806762
          ],
          [
           0.43724742899999997
          ],
          [
           0.925423095
          ],
          [
           0.433498634
          ],
          [
           0.52517902
          ],
          [
           0.088435529
          ],
          [
           0.447677638
          ],
          [
           0.647000631
          ],
          [
           0.9036033370000001
          ],
          [
           0.265790738
          ],
          [
           0.66419695
          ],
          [
           0.498120658
          ],
          [
           0.49018894399999996
          ],
          [
           0.747084187
          ],
          [
           0.906783648
          ],
          [
           0.678770917
          ],
          [
           0.348599859
          ],
          [
           0.294839683
          ],
          [
           0.705691827
          ],
          [
           0.211917931
          ],
          [
           0.063201124
          ],
          [
           0.276699543
          ],
          [
           0.672459395
          ],
          [
           0.8082059490000001
          ],
          [
           0.296538373
          ],
          [
           0.16012686199999998
          ],
          [
           0.439385032
          ],
          [
           0.555951416
          ],
          [
           0.386240112
          ],
          [
           0.158689619
          ],
          [
           0.214499855
          ],
          [
           0.299579429
          ],
          [
           0.569161656
          ],
          [
           0.488614799
          ],
          [
           0.8782950209999999
          ],
          [
           0.649380949
          ],
          [
           0.465713341
          ],
          [
           0.16813774
          ],
          [
           0.87529545
          ],
          [
           0.8411323409999999
          ],
          [
           0.33292081
          ],
          [
           0.5130478589999999
          ],
          [
           0.30505507800000004
          ],
          [
           0.8126269909999999
          ],
          [
           0.25096706
          ],
          [
           0.5024355779999999
          ],
          [
           0.45799074100000003
          ]
         ],
         "hoverlabel": {
          "namelength": 0
         },
         "hovertemplate": "0=%{x}<br>1=%{y}<br>2=%{z}<br>Feature=%{customdata[0]}<br>Label=%{marker.color}",
         "legendgroup": "",
         "marker": {
          "color": [
           0,
           0,
           1,
           1,
           0,
           0,
           0,
           0,
           1,
           1,
           0,
           1,
           0,
           1,
           1,
           1,
           0,
           1,
           1,
           0,
           1,
           0,
           0,
           1,
           1,
           1,
           0,
           0,
           1,
           1,
           0,
           0,
           1,
           1,
           0,
           0,
           1,
           0,
           0,
           0,
           0,
           0,
           0,
           1,
           0,
           1,
           1,
           0,
           1,
           0,
           0,
           1,
           0,
           1,
           1,
           1,
           1,
           0,
           0,
           1,
           0,
           1,
           0,
           1,
           0,
           1,
           0,
           0,
           0,
           0,
           0,
           0,
           0,
           0,
           0,
           0,
           0,
           0,
           0,
           0,
           0,
           0,
           0,
           0,
           0,
           0,
           0,
           0,
           0,
           0,
           0,
           0,
           0,
           0,
           0,
           0,
           0,
           0,
           0,
           0,
           0,
           0,
           0,
           0,
           0,
           0,
           0,
           0,
           0,
           0,
           0,
           0,
           0,
           0,
           0,
           0,
           0,
           0,
           0,
           0,
           0,
           0,
           0,
           0,
           0,
           0,
           0,
           0,
           0,
           0,
           0,
           0,
           0,
           0,
           0,
           0,
           0,
           0,
           0,
           0,
           0,
           0,
           0,
           0,
           0,
           0,
           0,
           0,
           0,
           0,
           0,
           0,
           0,
           0,
           0,
           0,
           0,
           0,
           0,
           0,
           0,
           0,
           0,
           0,
           0,
           0,
           0,
           0,
           0,
           0,
           0,
           0,
           0,
           0,
           0,
           0,
           0,
           0,
           0,
           0,
           0,
           0,
           0,
           0,
           0,
           0,
           0,
           0,
           0,
           0,
           0,
           0,
           0,
           0,
           0,
           0,
           0,
           0,
           0,
           0,
           0,
           0,
           0,
           0,
           0,
           0,
           0,
           0,
           0,
           0,
           0,
           0,
           0,
           0,
           0,
           0,
           0,
           0,
           0,
           0,
           0,
           0,
           0,
           0,
           0,
           0,
           0,
           0,
           0,
           0,
           0,
           0,
           0,
           0,
           0,
           0,
           0,
           0,
           0,
           0,
           0,
           0,
           0,
           0,
           0,
           0,
           0,
           0,
           0,
           0,
           0,
           0,
           0,
           0,
           0,
           0,
           0,
           0,
           0,
           0,
           0,
           0,
           0,
           0,
           0,
           0,
           0,
           0,
           0,
           0,
           0,
           0,
           0,
           0,
           0,
           0,
           0,
           0,
           0,
           0,
           0,
           0,
           0,
           0,
           0,
           0,
           0,
           0,
           0,
           0,
           0,
           0,
           0,
           0,
           0,
           0,
           0,
           0,
           0,
           0,
           0,
           0,
           0,
           0,
           0,
           0,
           0,
           0,
           0,
           0,
           0,
           0,
           0,
           0,
           0,
           0,
           0,
           0,
           0,
           0,
           0,
           0,
           0,
           0,
           0,
           0,
           0,
           0,
           0,
           0,
           0,
           0,
           0,
           0,
           0,
           0,
           0,
           0,
           0,
           0,
           0,
           0,
           0,
           0,
           0,
           0,
           0,
           0,
           0,
           0,
           0,
           0,
           0,
           0,
           0,
           0,
           0,
           0,
           0,
           0,
           0,
           0,
           0,
           0,
           0,
           0,
           0,
           0,
           0,
           0,
           0,
           0,
           0,
           0,
           0,
           0,
           0,
           0,
           0,
           0,
           0,
           0,
           0,
           0,
           0,
           0,
           0,
           0,
           0,
           0,
           0,
           0,
           0,
           0,
           0,
           0,
           0,
           0,
           0,
           0,
           0,
           0,
           0,
           0,
           0,
           0,
           0,
           0,
           0,
           0,
           0,
           0,
           0,
           0,
           0,
           0,
           0,
           0,
           0,
           0,
           0,
           0,
           0,
           0,
           0,
           0,
           0,
           0,
           0,
           0,
           0,
           0,
           0,
           0,
           0,
           0,
           0,
           0,
           0,
           0,
           0,
           0,
           0,
           0,
           0,
           0,
           0,
           0,
           0,
           0,
           0,
           0,
           0,
           0,
           0,
           0,
           0,
           0,
           0,
           0,
           0,
           0,
           0,
           0,
           0,
           0,
           0,
           0,
           0,
           0,
           0,
           0,
           0,
           0,
           0,
           0,
           0,
           0,
           0,
           0,
           0,
           0,
           0,
           0,
           0,
           0,
           0,
           0,
           0,
           0,
           0,
           0,
           0,
           0,
           0,
           0,
           0,
           0,
           0,
           0,
           0,
           0,
           0,
           0,
           0,
           0,
           0,
           0,
           0,
           0,
           0,
           0,
           0,
           0,
           0,
           0,
           0,
           0,
           0,
           0,
           0,
           0,
           0,
           0,
           0,
           0,
           0,
           0,
           0,
           0,
           0,
           0,
           0,
           0,
           0,
           0,
           0,
           0,
           0,
           0,
           0,
           0,
           0,
           0,
           0,
           0,
           0,
           0,
           0,
           0,
           0,
           0,
           0,
           0,
           0,
           0,
           0,
           0,
           0,
           0,
           0,
           0,
           0,
           0,
           0,
           0,
           0,
           0,
           0,
           0,
           0,
           0,
           0,
           0,
           0,
           0,
           0,
           0,
           0,
           0,
           0,
           0,
           0,
           0,
           0,
           0,
           0,
           0,
           0,
           0,
           0,
           0,
           0,
           0,
           0,
           0,
           0,
           0,
           0,
           0,
           0,
           0,
           0,
           0,
           0,
           0,
           0,
           0,
           0,
           0,
           0,
           0,
           0,
           0,
           0,
           0,
           0,
           0,
           0,
           0,
           0,
           0,
           0,
           0,
           0,
           0,
           0,
           0,
           0,
           0,
           0,
           0,
           0,
           0,
           0,
           0,
           0,
           0,
           0,
           0,
           0,
           0,
           0,
           0,
           0,
           0,
           0,
           0,
           0,
           0,
           0,
           0,
           0,
           0,
           0,
           0,
           0,
           0,
           0,
           0,
           0,
           0,
           0,
           0,
           0,
           0,
           0,
           0,
           0,
           0,
           0,
           0,
           0,
           0,
           0,
           0,
           0,
           0,
           0,
           0,
           0,
           0,
           0,
           0,
           0,
           0,
           0,
           0,
           0,
           0,
           0,
           0,
           0,
           0,
           0,
           0,
           0,
           0,
           0,
           0,
           1,
           1,
           0,
           1,
           0,
           0,
           0,
           1,
           1,
           1,
           1,
           0,
           1,
           1,
           1,
           0,
           1,
           1,
           1,
           0,
           1,
           0,
           1,
           1,
           1,
           1,
           0,
           0,
           0,
           0,
           0,
           0,
           0,
           0,
           0,
           0,
           0,
           0,
           0,
           0,
           0,
           0,
           0,
           0,
           0,
           0,
           0,
           0,
           0,
           0,
           0,
           0,
           0,
           0,
           0,
           0,
           0,
           0,
           0,
           0,
           0,
           0,
           0,
           0,
           0,
           0,
           0,
           0,
           0,
           0,
           0,
           0,
           0,
           0,
           0,
           0,
           0,
           0,
           0,
           0,
           0,
           0,
           0,
           0,
           0,
           0,
           0,
           0,
           0,
           0,
           0,
           0,
           0,
           0,
           0,
           0,
           0,
           0,
           0,
           0,
           0,
           0,
           0,
           0,
           0,
           0,
           0,
           0,
           0,
           0,
           0,
           0,
           0,
           0,
           0,
           0,
           0,
           0,
           0,
           0,
           0,
           0,
           0,
           0,
           0,
           0,
           0,
           0,
           0,
           0,
           0,
           0,
           0,
           0,
           0,
           0,
           0,
           0,
           0,
           0,
           0,
           0,
           0,
           0,
           0,
           0,
           0,
           0,
           0,
           0,
           0,
           0,
           0,
           0,
           0,
           0,
           0,
           0,
           0,
           0,
           0,
           0,
           0,
           0,
           0,
           0,
           0,
           0,
           0,
           0,
           0,
           0,
           0,
           0,
           0,
           0,
           0,
           0,
           0,
           0,
           0,
           0,
           0,
           0,
           0,
           0,
           0,
           0,
           0,
           0,
           0,
           0,
           0,
           0,
           0,
           0,
           0,
           0,
           0,
           0,
           0,
           0,
           0,
           0,
           0,
           0,
           0,
           0,
           0,
           0,
           0,
           0,
           0,
           0,
           0,
           0,
           0,
           0,
           0,
           0,
           0,
           0,
           0,
           0,
           0,
           0,
           0,
           0,
           0,
           0,
           0,
           0,
           0,
           0,
           0,
           0,
           0,
           0,
           0,
           0,
           0,
           0,
           0,
           0,
           0,
           0,
           0,
           0,
           0,
           0,
           0,
           0,
           0,
           0,
           0,
           0,
           0,
           0,
           0,
           0,
           0,
           0,
           0,
           0,
           0,
           0,
           0,
           0,
           0,
           0,
           0,
           0,
           0,
           0,
           0,
           0,
           0,
           0,
           0,
           0,
           0,
           0,
           0,
           0,
           0,
           0,
           0,
           0,
           0,
           0,
           0,
           0,
           0,
           0,
           0,
           0,
           0,
           0,
           0,
           0
          ],
          "coloraxis": "coloraxis",
          "opacity": 0.7,
          "symbol": "circle"
         },
         "mode": "markers",
         "name": "",
         "scene": "scene",
         "showlegend": false,
         "type": "scatter3d",
         "x": [
          -7.308960437774658,
          2.651458501815796,
          -7.5401997566223145,
          2.2623510360717773,
          -11.461978912353516,
          3.5587196350097656,
          11.968085289001465,
          -1.0069663524627686,
          -3.181523323059082,
          1.0299015045166016,
          0.8620280623435974,
          -4.917171001434326,
          6.388124465942383,
          -4.110226154327393,
          -6.585568904876709,
          0.8518182039260864,
          6.414509296417236,
          2.9365434646606445,
          -6.663422107696533,
          -3.8178389072418213,
          3.6984293460845947,
          -8.695667266845703,
          -4.803485870361328,
          -2.9407100677490234,
          -1.163902997970581,
          -8.06014633178711,
          -4.892563819885254,
          -3.566020965576172,
          -8.769463539123535,
          -4.6415605545043945,
          -2.436788558959961,
          6.392758846282959,
          -5.852200031280518,
          -6.647714614868164,
          3.718059778213501,
          -7.075074672698975,
          9.153860092163086,
          -3.981686592102051,
          -9.879207611083984,
          3.345630407333374,
          8.035813331604004,
          -5.367666721343994,
          7.516174793243408,
          -0.4740852415561676,
          -6.305166721343994,
          1.3844023942947388,
          -6.891253471374512,
          -2.753917932510376,
          -4.8958659172058105,
          10.748208045959473,
          3.168830394744873,
          -5.671675205230713,
          3.593620538711548,
          1.4066636562347412,
          3.5919172763824463,
          10.698396682739258,
          4.372041702270508,
          6.23776912689209,
          -6.415272235870361,
          -4.416140079498291,
          3.1844482421875,
          1.229444146156311,
          -1.8378015756607056,
          -4.82823371887207,
          10.621699333190918,
          -7.780335426330566,
          12.23927116394043,
          2.7287070751190186,
          -5.396336555480957,
          0.24786129593849182,
          -6.371479511260986,
          -1.1731796264648438,
          -10.88017749786377,
          4.027738094329834,
          -9.398847579956055,
          -5.355935096740723,
          -5.639106750488281,
          -2.5509018898010254,
          -5.343017101287842,
          -3.3089334964752197,
          -3.059239625930786,
          -6.085260391235352,
          -9.519845008850098,
          0.6644526720046997,
          8.237435340881348,
          0.9647378325462341,
          8.042744636535645,
          11.318281173706055,
          4.492591857910156,
          -8.900344848632812,
          -7.633817195892334,
          1.752780556678772,
          7.040104389190674,
          12.682267189025879,
          9.711881637573242,
          -3.34425950050354,
          3.8217849731445312,
          1.7971466779708862,
          -0.4887647032737732,
          -6.506691932678223,
          -9.915363311767578,
          9.861706733703613,
          1.157021164894104,
          5.166656970977783,
          -1.5245323181152344,
          1.4610551595687866,
          2.208461046218872,
          5.75532865524292,
          -9.185783386230469,
          -3.5541839599609375,
          -9.199645042419434,
          -11.482417106628418,
          4.430379390716553,
          -3.886587619781494,
          -8.306499481201172,
          -6.658077239990234,
          12.58885669708252,
          13.072126388549805,
          3.0203371047973633,
          0.542675256729126,
          -6.062262058258057,
          2.2957651615142822,
          4.116275310516357,
          7.6324591636657715,
          -2.5489563941955566,
          3.406465768814087,
          8.742888450622559,
          0.9304704070091248,
          7.328423023223877,
          3.187267541885376,
          4.893185138702393,
          4.1144232749938965,
          2.3348543643951416,
          8.58828067779541,
          9.497227668762207,
          -3.9657812118530273,
          -10.043618202209473,
          1.5421688556671143,
          3.9076011180877686,
          0.4827668070793152,
          3.391771078109741,
          -7.914602756500244,
          5.577512264251709,
          -9.377019882202148,
          0.9095329642295837,
          -0.6364807486534119,
          0.07433415204286575,
          11.263398170471191,
          3.7108724117279053,
          -1.8128353357315063,
          -10.000701904296875,
          -6.106592178344727,
          2.331796646118164,
          6.710749626159668,
          -8.978279113769531,
          3.2705917358398438,
          10.376404762268066,
          7.749880313873291,
          -8.509456634521484,
          3.795048713684082,
          11.488826751708984,
          5.847832679748535,
          -5.282495021820068,
          -4.382701873779297,
          1.6540558338165283,
          8.307317733764648,
          3.5491323471069336,
          -6.7445454597473145,
          -6.331876277923584,
          -1.7907154560089111,
          2.8999266624450684,
          0.8549270033836365,
          0.34863990545272827,
          -9.283390045166016,
          -0.9655020833015442,
          11.113363265991211,
          2.438272476196289,
          -8.865859985351562,
          4.701446533203125,
          0.8917043805122375,
          1.228651762008667,
          -1.8291609287261963,
          6.193064212799072,
          -5.760448932647705,
          -6.654714584350586,
          13.202821731567383,
          -3.2896251678466797,
          4.866179466247559,
          -2.083878517150879,
          -5.8487348556518555,
          10.552228927612305,
          -9.13339900970459,
          1.5601284503936768,
          -8.739889144897461,
          11.183103561401367,
          11.548907279968262,
          2.506258964538574,
          5.534060955047607,
          -10.094204902648926,
          -2.4068613052368164,
          2.630549907684326,
          -0.8077839016914368,
          7.869753360748291,
          -9.16018295288086,
          -8.029781341552734,
          7.019102096557617,
          -3.2691831588745117,
          3.4315810203552246,
          -0.8616769909858704,
          6.542399883270264,
          -0.4186757504940033,
          -1.5584796667099,
          -4.405214786529541,
          -7.758097171783447,
          2.343862295150757,
          2.3014562129974365,
          5.796869277954102,
          -1.1123875379562378,
          -3.2537343502044678,
          0.1499180942773819,
          -8.084576606750488,
          4.666754722595215,
          -8.22036361694336,
          -7.952301979064941,
          10.035449028015137,
          -2.802051544189453,
          8.524359703063965,
          -1.8356276750564575,
          9.168743133544922,
          0.45796674489974976,
          10.843873023986816,
          7.659536361694336,
          1.7411216497421265,
          1.395704984664917,
          2.8871614933013916,
          4.231049537658691,
          6.439154624938965,
          -5.182979583740234,
          0.5354316830635071,
          -9.726922035217285,
          3.694972038269043,
          4.702552795410156,
          -8.432473182678223,
          9.317012786865234,
          -2.3527698516845703,
          10.034379959106445,
          -2.749105930328369,
          -5.167569160461426,
          8.438333511352539,
          -11.203800201416016,
          6.900906085968018,
          -1.4088077545166016,
          -1.1453737020492554,
          5.49025821685791,
          0.7640728950500488,
          -0.6489773392677307,
          -6.197915554046631,
          10.920607566833496,
          0.18847593665122986,
          0.6134612560272217,
          -9.563397407531738,
          4.398173809051514,
          -10.179004669189453,
          -0.012959935702383518,
          6.321359157562256,
          8.915033340454102,
          0.5690276622772217,
          10.279631614685059,
          -9.27706527709961,
          4.765122890472412,
          5.5330328941345215,
          7.968362808227539,
          -5.348696708679199,
          -9.679057121276855,
          2.6986870765686035,
          7.393524169921875,
          -3.015371799468994,
          -9.001794815063477,
          5.550897598266602,
          -1.844605565071106,
          7.980018615722656,
          -9.540695190429688,
          -0.2977261245250702,
          -4.591243267059326,
          -7.730674743652344,
          6.04625129699707,
          2.6700832843780518,
          4.760810375213623,
          9.835346221923828,
          -9.659296989440918,
          -9.768033027648926,
          6.927391052246094,
          1.9648804664611816,
          5.583621025085449,
          0.8014702200889587,
          4.295459747314453,
          0.11458110064268112,
          -3.167491912841797,
          1.2198083400726318,
          -6.767518520355225,
          0.4889703094959259,
          12.100293159484863,
          -5.121601104736328,
          -1.8143223524093628,
          -1.0404269695281982,
          -7.476197719573975,
          3.2995593547821045,
          -6.326839447021484,
          8.747249603271484,
          -6.731700420379639,
          -6.391934871673584,
          11.164680480957031,
          -2.2645089626312256,
          -9.838075637817383,
          4.914735794067383,
          -7.744173526763916,
          -1.697751760482788,
          9.653703689575195,
          -7.447966575622559,
          7.963918685913086,
          1.1905487775802612,
          -4.95846700668335,
          -0.20974797010421753,
          1.6275463104248047,
          -5.401088237762451,
          -7.1460041999816895,
          -0.5893011093139648,
          -0.25068023800849915,
          -7.045627117156982,
          0.06231540068984032,
          10.763834953308105,
          -1.2476615905761719,
          6.2635884284973145,
          2.5989863872528076,
          11.686456680297852,
          -6.244973659515381,
          3.882972478866577,
          -3.5201218128204346,
          -3.23197078704834,
          -1.4875084161758423,
          -4.518847465515137,
          -0.4116814434528351,
          3.3222672939300537,
          7.2689971923828125,
          -0.8828586339950562,
          -8.169431686401367,
          8.656580924987793,
          9.448647499084473,
          1.6300325393676758,
          -0.7719368934631348,
          -1.92195725440979,
          -4.512272834777832,
          0.5969238877296448,
          8.360383033752441,
          2.639941692352295,
          -0.32709136605262756,
          4.465031623840332,
          3.783426523208618,
          -4.40723991394043,
          -8.00611686706543,
          2.9714391231536865,
          2.9417214393615723,
          -0.7693386673927307,
          9.172082901000977,
          0.8486362099647522,
          -4.940449237823486,
          -3.5824429988861084,
          13.227946281433105,
          10.84907054901123,
          6.561471462249756,
          6.0641865730285645,
          3.6857049465179443,
          -6.712463855743408,
          -4.882025241851807,
          -0.18147850036621094,
          6.015949249267578,
          -7.705958366394043,
          -0.5397509932518005,
          8.485696792602539,
          -7.178860187530518,
          2.5572915077209473,
          0.6338739991188049,
          -9.383448600769043,
          -11.175264358520508,
          3.356696128845215,
          4.413676738739014,
          1.7224918603897095,
          -2.6294243335723877,
          -1.8765143156051636,
          -11.184287071228027,
          3.829928159713745,
          3.2241249084472656,
          -6.505149841308594,
          -5.24984073638916,
          1.9334497451782227,
          8.080892562866211,
          1.4565728902816772,
          -2.504225254058838,
          -7.9015421867370605,
          -1.785321831703186,
          0.30909863114356995,
          3.81615948677063,
          11.539255142211914,
          6.562695503234863,
          -3.598912477493286,
          10.753264427185059,
          -6.054808616638184,
          1.0600802898406982,
          5.2572526931762695,
          4.6292033195495605,
          6.875100612640381,
          -6.814340114593506,
          -2.8024909496307373,
          -6.310691833496094,
          7.476712703704834,
          7.618436336517334,
          12.377604484558105,
          8.015068054199219,
          0.3053792715072632,
          -7.692660808563232,
          -11.414095878601074,
          3.0278420448303223,
          4.6758317947387695,
          1.7884325981140137,
          -5.936333656311035,
          9.86410903930664,
          10.974645614624023,
          -0.5808228850364685,
          -9.532001495361328,
          -5.488088607788086,
          -6.878898620605469,
          12.71667194366455,
          0.7234726548194885,
          -1.060666799545288,
          -5.959585189819336,
          0.3761211931705475,
          1.702096939086914,
          -7.169655799865723,
          -8.3754301071167,
          -7.2177839279174805,
          0.862217366695404,
          -4.619218349456787,
          -7.839279651641846,
          -5.521568298339844,
          3.4679768085479736,
          2.0905725955963135,
          -5.000654220581055,
          6.458256244659424,
          -9.895265579223633,
          -1.8848304748535156,
          3.732940673828125,
          -9.31666088104248,
          6.977180480957031,
          -7.106903076171875,
          3.248117208480835,
          9.027947425842285,
          -0.8022484183311462,
          -9.790721893310547,
          -5.946440696716309,
          -12.041377067565918,
          3.612516164779663,
          -6.93925142288208,
          8.14802360534668,
          -1.47166907787323,
          -0.8789845705032349,
          -7.792488098144531,
          -9.5689058303833,
          -4.225244998931885,
          8.813249588012695,
          -7.136898517608643,
          -5.184148788452148,
          1.7932798862457275,
          8.23353385925293,
          -3.8526508808135986,
          5.348320960998535,
          11.447061538696289,
          10.672755241394043,
          -0.30119097232818604,
          -4.297549247741699,
          7.739614009857178,
          8.506962776184082,
          2.188209295272827,
          -1.9689282178878784,
          -6.31106424331665,
          12.691314697265625,
          -6.569144248962402,
          0.8361713290214539,
          -10.171957015991211,
          -4.731012344360352,
          -10.667634963989258,
          -4.937694072723389,
          3.741701602935791,
          0.6884289979934692,
          -5.628951549530029,
          -7.966068744659424,
          -0.6134529113769531,
          4.622609615325928,
          4.259984016418457,
          5.622170925140381,
          -9.547532081604004,
          4.3956522941589355,
          -2.66896653175354,
          -7.683188438415527,
          3.8045341968536377,
          -9.296646118164062,
          -10.446660041809082,
          -7.512019157409668,
          10.576062202453613,
          -11.175742149353027,
          -2.7016868591308594,
          -8.649415969848633,
          8.02607250213623,
          3.4470643997192383,
          -1.638232707977295,
          -4.533275127410889,
          6.092636585235596,
          7.581045627593994,
          -6.815318584442139,
          -1.8813648223876953,
          3.56974196434021,
          -12.081143379211426,
          -8.60427474975586,
          -0.6418957710266113,
          -6.7060465812683105,
          -2.858491897583008,
          12.356048583984375,
          -10.443391799926758,
          12.099271774291992,
          -1.5398517847061157,
          -8.09139347076416,
          1.3225080966949463,
          -3.2101337909698486,
          4.68463659286499,
          6.050869941711426,
          4.482237815856934,
          -5.905658721923828,
          5.454658508300781,
          -8.376516342163086,
          -2.5899667739868164,
          4.970213413238525,
          0.19907432794570923,
          1.7555694580078125,
          6.697497844696045,
          4.552392482757568,
          9.533902168273926,
          4.7001471519470215,
          0.11428011953830719,
          1.1628769636154175,
          -1.0495768785476685,
          -0.024704523384571075,
          6.53666353225708,
          -4.353342056274414,
          -6.657991409301758,
          -8.57400131225586,
          6.670238494873047,
          -0.1923486888408661,
          5.098419666290283,
          -9.865793228149414,
          -0.17418022453784943,
          -0.6940965056419373,
          -5.971766471862793,
          -3.269859552383423,
          7.632542610168457,
          0.588678777217865,
          1.8813979625701904,
          -3.5579755306243896,
          9.0988187789917,
          -2.2716939449310303,
          -1.900064468383789,
          2.359196662902832,
          -8.288561820983887,
          -8.851183891296387,
          -1.9291895627975464,
          -0.9342077374458313,
          5.062926292419434,
          -6.900334358215332,
          8.352124214172363,
          10.686513900756836,
          -5.131033897399902,
          -6.763751029968262,
          -10.848180770874023,
          -6.336580276489258,
          -5.175601959228516,
          8.786027908325195,
          8.521836280822754,
          -3.2402729988098145,
          -7.68228006362915,
          4.164064407348633,
          11.604897499084473,
          -3.3536829948425293,
          3.6867260932922363,
          8.435054779052734,
          0.15511475503444672,
          -2.8731839656829834,
          1.0062036514282227,
          5.597600936889648,
          -0.829379141330719,
          -4.493767738342285,
          -0.5917348861694336,
          -5.837987422943115,
          2.9760117530822754,
          1.980454683303833,
          -3.3703112602233887,
          12.157099723815918,
          0.7672142386436462,
          4.278857707977295,
          -1.0463438034057617,
          -2.4986586570739746,
          0.44096431136131287,
          0.566697359085083,
          -0.4770565330982208,
          -8.311575889587402,
          -12.168634414672852,
          -5.764414310455322,
          -1.0339545011520386,
          7.997072219848633,
          2.228018045425415,
          4.847706317901611,
          -2.011751413345337,
          -7.545168399810791,
          -0.9643261432647705,
          4.479557991027832,
          6.912912845611572,
          -2.02128267288208,
          -6.342453956604004,
          -2.731567621231079,
          11.903471946716309,
          -8.998064041137695,
          1.8049201965332031,
          -1.690825343132019,
          3.2108523845672607,
          4.759006023406982,
          -8.234789848327637,
          -9.027525901794434,
          -9.093184471130371,
          -2.8816158771514893,
          -8.173653602600098,
          -0.35105881094932556,
          3.0448405742645264,
          1.48012113571167,
          -8.077380180358887,
          6.658401012420654,
          11.332413673400879,
          -7.186160087585449,
          -2.729311466217041,
          -5.540857791900635,
          -6.813986778259277,
          -2.9953672885894775,
          -2.0476651191711426,
          -5.456649303436279,
          8.523265838623047,
          9.576930046081543,
          1.1019359827041626,
          3.1748366355895996,
          11.3474760055542,
          1.6757094860076904,
          -7.676384925842285,
          -4.877694606781006,
          -1.6070187091827393,
          -3.104227304458618,
          -5.26364803314209,
          4.609652042388916,
          -0.7226883172988892,
          -7.040305137634277,
          1.2672839164733887,
          6.560142993927002,
          -0.04667625576257706,
          8.688307762145996,
          5.817272663116455,
          11.102158546447754,
          0.6760634779930115,
          -0.0013950533466413617,
          7.790804386138916,
          0.7912319302558899,
          3.0263967514038086,
          6.729025363922119,
          6.24140739440918,
          5.092287063598633,
          -0.013517226092517376,
          8.560114860534668,
          -6.486339569091797,
          7.27480936050415,
          -4.168172359466553,
          0.6252574920654297,
          9.18510913848877,
          10.84131145477295,
          -0.49496251344680786,
          8.698919296264648,
          1.5689054727554321,
          -6.344831943511963,
          -3.721773386001587,
          -5.800768852233887,
          -3.435821294784546,
          0.07491131126880646,
          3.4070489406585693,
          5.2510271072387695,
          -7.33202600479126,
          -3.194511890411377,
          -8.359796524047852,
          -3.3416786193847656,
          3.07677960395813,
          -1.0040581226348877,
          -4.159290313720703,
          -8.832042694091797,
          -0.9588205814361572,
          10.432487487792969,
          0.6542020440101624,
          -0.2504775822162628,
          -2.004333972930908,
          -0.605800986289978,
          -6.8517255783081055,
          7.6260223388671875,
          -1.3954052925109863,
          -8.05577278137207,
          8.90332317352295,
          4.226597309112549,
          3.5655155181884766,
          2.271043062210083,
          8.912999153137207,
          3.6860551834106445,
          -6.723169803619385,
          12.07632827758789,
          0.3531278371810913,
          -5.61265230178833,
          -3.2076423168182373,
          -5.8384881019592285,
          -1.9746943712234497,
          5.853412628173828,
          0.5323602557182312,
          2.924292802810669,
          -0.2705760598182678,
          -5.462913990020752,
          0.48450371623039246,
          0.30409127473831177,
          -0.12961487472057343,
          2.257265329360962,
          -7.370143413543701,
          -3.902251720428467,
          -3.8158931732177734,
          -1.7511669397354126,
          -1.132399559020996,
          -4.848212242126465,
          -4.838735580444336,
          1.1565754413604736,
          -7.983583450317383,
          -3.55535888671875,
          -5.306241512298584,
          4.488999366760254,
          -9.697651863098145,
          -5.24802827835083,
          3.0005242824554443,
          -6.860718250274658,
          10.313340187072754,
          11.285943984985352,
          7.79815149307251,
          -8.789434432983398,
          -3.027148962020874,
          4.667998790740967,
          -1.9055529832839966,
          10.243356704711914,
          -5.819018363952637,
          7.968214511871338,
          3.7807796001434326,
          12.171399116516113,
          -7.784076690673828,
          12.607414245605469,
          10.859785079956055,
          -8.021895408630371,
          9.809111595153809,
          -9.17012882232666,
          -3.0446224212646484,
          -3.727688789367676,
          -1.5217602252960205,
          10.517684936523438,
          -6.504877090454102,
          9.068574905395508,
          1.5897037982940674,
          2.3467376232147217,
          -8.349823951721191,
          -6.9941086769104,
          -6.787372589111328,
          11.68364143371582,
          0.9752429723739624,
          -9.429375648498535,
          -4.5219221115112305,
          -5.8362016677856445,
          4.5995659828186035,
          2.9952473640441895,
          -4.501865386962891,
          -2.4301092624664307,
          -3.94012451171875,
          -4.110004901885986,
          -0.16526128351688385,
          -8.240303039550781,
          11.863911628723145,
          5.742655277252197,
          7.579248428344727,
          -9.7208251953125,
          -6.562845706939697,
          11.552260398864746,
          3.5924501419067383,
          -0.08272698521614075,
          -1.8258373737335205,
          3.7177865505218506,
          -9.689035415649414,
          9.468144416809082,
          6.040641784667969,
          0.10911594331264496,
          3.3468947410583496,
          5.114592552185059,
          -7.500564098358154,
          1.780336618423462,
          -8.265862464904785,
          -11.283343315124512,
          0.961856484413147,
          -9.810178756713867,
          2.005084991455078,
          -3.2764174938201904,
          2.05718731880188,
          1.199326753616333,
          0.6236490607261658,
          -10.051332473754883,
          -3.298448085784912,
          0.47278428077697754,
          2.9839587211608887,
          2.13723087310791,
          3.25919246673584,
          -4.418468952178955,
          -6.97815465927124,
          -3.3617794513702393,
          -0.17619551718235016,
          -7.491990089416504,
          -2.6429150104522705,
          0.5899677276611328,
          -10.404317855834961,
          1.10250723361969,
          -5.961824417114258,
          -9.927570343017578,
          0.8252567052841187,
          5.982695579528809,
          -6.478046417236328,
          4.90805196762085,
          1.2682677507400513,
          6.136829376220703,
          10.233839988708496,
          4.606675148010254,
          3.0830676555633545,
          -6.229900360107422,
          -9.10695743560791,
          -2.60970401763916,
          4.8225321769714355,
          -12.266679763793945,
          6.790468692779541,
          -6.145481586456299,
          -1.5981522798538208,
          4.171769618988037,
          0.6085671186447144,
          4.991225242614746,
          -3.4013712406158447,
          0.18680055439472198,
          -9.68239974975586,
          -3.22046160697937,
          0.12336353957653046,
          -5.167659282684326,
          3.6283276081085205,
          1.59419846534729,
          13.532500267028809,
          -2.698319673538208,
          1.1491878032684326,
          -8.16429615020752,
          -1.903472900390625,
          6.265847206115723,
          8.330742835998535,
          -8.891962051391602,
          9.268696784973145,
          3.589600086212158,
          2.6007936000823975,
          4.384938716888428,
          -4.502185821533203,
          -7.504147052764893,
          -9.201614379882812,
          -5.256016254425049,
          0.0033785058185458183,
          -1.0852299928665161,
          -2.5480058193206787,
          4.130517959594727,
          -6.890760898590088,
          1.8545032739639282,
          -6.513507843017578,
          -0.47427648305892944,
          -8.266273498535156,
          -5.777785778045654,
          -6.374763011932373,
          -0.6060705184936523,
          -6.839346408843994,
          -6.144442558288574,
          -3.9502642154693604,
          10.622114181518555,
          -1.4052720069885254,
          -1.8105343580245972,
          4.19605827331543,
          4.869344234466553,
          8.206915855407715,
          -2.9325315952301025,
          -5.716525077819824,
          -9.827067375183105,
          -0.10418114066123962,
          7.084718227386475,
          -6.141204357147217,
          -7.8717827796936035,
          5.556799411773682,
          3.6898348331451416,
          7.4513959884643555,
          -9.278273582458496,
          -0.8985416293144226,
          -9.037737846374512,
          -3.9775278568267822,
          3.446603298187256,
          4.628355979919434,
          2.8514418601989746,
          -11.419403076171875,
          1.977177381515503,
          -0.5977907776832581,
          -2.8691906929016113,
          4.035348415374756,
          -10.306683540344238,
          8.578293800354004,
          -4.529033660888672,
          1.0539076328277588,
          4.568478107452393,
          -9.584708213806152,
          5.375328540802002,
          7.259594440460205,
          -4.4715704917907715,
          -1.7264293432235718,
          -5.640304088592529,
          3.635805130004883,
          -6.724127292633057,
          4.025716304779053,
          0.9859145283699036,
          -5.29855489730835,
          4.800880432128906,
          -4.608348846435547,
          5.126230239868164,
          -6.475456237792969,
          -1.9045286178588867,
          -4.752185821533203,
          -5.530550003051758,
          4.751767158508301,
          9.589163780212402,
          -3.6052584648132324,
          0.4440581798553467,
          -3.1507534980773926,
          0.6715742349624634,
          -2.1795694828033447,
          12.471128463745117,
          3.40519118309021,
          -2.7938528060913086,
          0.8657366633415222,
          3.9517242908477783,
          12.101594924926758,
          3.0480947494506836,
          -8.866373062133789,
          -6.244881629943848,
          -4.966124534606934,
          8.048307418823242,
          4.982991695404053,
          -8.920226097106934,
          -2.0043842792510986,
          5.836568832397461,
          -3.2305729389190674,
          -6.756885051727295,
          -4.013469696044922,
          -8.459969520568848,
          -2.5657126903533936,
          8.896827697753906,
          8.370333671569824,
          -2.2749757766723633,
          0.5400189161300659,
          3.096951961517334,
          -1.0719095468521118,
          -10.07547378540039,
          -2.410951852798462,
          12.96925163269043,
          -1.8681806325912476,
          4.106750965118408,
          4.432440280914307,
          0.1927032172679901,
          2.6561639308929443,
          -6.667394638061523,
          2.6746833324432373,
          -8.526371002197266,
          -5.220311164855957,
          -6.646105766296387,
          -1.1278116703033447,
          -4.4992899894714355,
          0.9001217484474182,
          -4.149658203125,
          -0.2305850237607956,
          -5.6094584465026855
         ],
         "y": [
          3.428830862045288,
          -4.252130031585693,
          -5.505045413970947,
          -14.875075340270996,
          -12.473843574523926,
          -8.492902755737305,
          -0.10689849406480789,
          -19.798049926757812,
          3.4451706409454346,
          12.544293403625488,
          -19.36742401123047,
          -12.460987091064453,
          -16.1544189453125,
          -3.845553159713745,
          -9.583098411560059,
          -17.055280685424805,
          -16.172481536865234,
          12.512752532958984,
          -3.999408483505249,
          -10.781350135803223,
          -7.480983734130859,
          5.697309494018555,
          -4.704982757568359,
          4.038227558135986,
          -10.194396018981934,
          3.4103686809539795,
          -11.04540729522705,
          0.20667952299118042,
          -18.326969146728516,
          -16.103490829467773,
          1.1928709745407104,
          -4.310886383056641,
          -1.596849799156189,
          -10.787324905395508,
          5.605356693267822,
          4.785726070404053,
          3.4419846534729004,
          -0.0771985575556755,
          4.6896185874938965,
          -9.814006805419922,
          11.541059494018555,
          -13.50656509399414,
          6.509757995605469,
          -8.131708145141602,
          -12.154231071472168,
          -17.836040496826172,
          -12.247062683105469,
          3.697545051574707,
          -12.08002758026123,
          6.739412784576416,
          -20.601913452148438,
          -2.414013624191284,
          8.09359073638916,
          -17.544157028198242,
          -10.455955505371094,
          -4.450662136077881,
          -9.968314170837402,
          3.4202935695648193,
          -11.615610122680664,
          -8.839176177978516,
          2.932373523712158,
          6.011447429656982,
          -19.491920471191406,
          -13.770712852478027,
          7.760866641998291,
          -12.51468276977539,
          10.910547256469727,
          11.996780395507812,
          -11.969595909118652,
          -11.750666618347168,
          -20.17238426208496,
          -17.20967674255371,
          5.568249702453613,
          -16.993099212646484,
          15.753514289855957,
          9.047623634338379,
          -12.587674140930176,
          -16.450056076049805,
          18.36478042602539,
          15.653969764709473,
          14.965811729431152,
          10.48973560333252,
          -13.30751895904541,
          6.368225574493408,
          0.3880504071712494,
          -1.8682506084442139,
          4.244020938873291,
          5.925569534301758,
          1.613490104675293,
          9.171076774597168,
          10.071218490600586,
          -17.97980308532715,
          4.9898247718811035,
          1.2263519763946533,
          -2.2630603313446045,
          -19.376237869262695,
          11.695391654968262,
          0.5513301491737366,
          7.733328342437744,
          -13.12002944946289,
          6.8720245361328125,
          7.476726531982422,
          0.9196087121963501,
          9.231635093688965,
          -20.303735733032227,
          12.718825340270996,
          7.182989120483398,
          -0.20721450448036194,
          16.140737533569336,
          -15.959630966186523,
          11.347936630249023,
          6.3019232749938965,
          -18.067588806152344,
          9.710264205932617,
          -10.11214542388916,
          12.958597183227539,
          -0.856139063835144,
          1.3149768114089966,
          -15.438241958618164,
          8.4618558883667,
          13.728617668151855,
          1.9555258750915527,
          -0.9083247184753418,
          8.211894989013672,
          5.586635589599609,
          -1.4583555459976196,
          -2.582246780395508,
          -15.552824020385742,
          0.6032383441925049,
          -0.4765327274799347,
          1.8095452785491943,
          11.013076782226562,
          -20.67429542541504,
          -1.5827953815460205,
          6.607707500457764,
          7.126667499542236,
          -11.345288276672363,
          -19.054094314575195,
          -1.1659890413284302,
          -1.791992425918579,
          -17.741106033325195,
          8.706230163574219,
          8.450960159301758,
          -13.049524307250977,
          9.778088569641113,
          14.375310897827148,
          -16.251195907592773,
          9.108122825622559,
          -2.5535430908203125,
          -1.598893165588379,
          10.602526664733887,
          11.786818504333496,
          -0.22513599693775177,
          8.54634952545166,
          5.605269432067871,
          11.585529327392578,
          7.258607387542725,
          8.929052352905273,
          12.089635848999023,
          -13.906329154968262,
          -1.3019685745239258,
          4.179002285003662,
          13.291109085083008,
          18.851346969604492,
          -14.021017074584961,
          7.137984752655029,
          -18.035839080810547,
          -16.976306915283203,
          -9.78772258758545,
          7.218853950500488,
          7.913921356201172,
          -0.050255194306373596,
          -11.177231788635254,
          -8.966577529907227,
          2.9572863578796387,
          7.120988845825195,
          -11.103248596191406,
          -8.186275482177734,
          -3.0805463790893555,
          -17.647748947143555,
          1.9735252857208252,
          -12.361405372619629,
          -4.08886194229126,
          -19.243358612060547,
          -17.698184967041016,
          -0.19269885122776031,
          -12.98816967010498,
          2.9041237831115723,
          12.895119667053223,
          11.46735954284668,
          8.757734298706055,
          -12.682412147521973,
          -19.048795700073242,
          -8.717352867126465,
          3.0878915786743164,
          -1.872947096824646,
          2.610874891281128,
          -1.173622965812683,
          8.430089950561523,
          4.55196475982666,
          1.1478098630905151,
          -1.5541365146636963,
          -1.6506894826889038,
          -13.969552040100098,
          -7.472076892852783,
          -4.546803951263428,
          17.799312591552734,
          1.1400762796401978,
          -12.842498779296875,
          -1.9108537435531616,
          4.244140625,
          -13.599873542785645,
          -16.240074157714844,
          12.118155479431152,
          1.9659541845321655,
          1.1228231191635132,
          -1.4025262594223022,
          -17.31639862060547,
          -19.22079086303711,
          -0.9867927432060242,
          -6.993385314941406,
          2.098912239074707,
          -13.272854804992676,
          17.090974807739258,
          3.3983566761016846,
          16.584604263305664,
          8.254327774047852,
          12.996384620666504,
          7.403608798980713,
          -10.379667282104492,
          -0.539695680141449,
          5.049937725067139,
          -17.850095748901367,
          -18.580774307250977,
          8.939595222473145,
          2.284186840057373,
          -0.4176124930381775,
          11.365174293518066,
          -15.587054252624512,
          -6.787459373474121,
          1.1565812826156616,
          2.5829415321350098,
          -8.229907989501953,
          3.3858327865600586,
          -16.89864730834961,
          4.376222133636475,
          10.791762351989746,
          16.272680282592773,
          8.913480758666992,
          -11.387065887451172,
          5.639455795288086,
          0.2469072937965393,
          -16.605928421020508,
          4.24826717376709,
          13.47960376739502,
          4.028014659881592,
          5.631699562072754,
          3.835096597671509,
          -11.306999206542969,
          9.277487754821777,
          -8.631482124328613,
          4.455246925354004,
          -11.247208595275879,
          2.3554625511169434,
          7.17487096786499,
          3.381704092025757,
          -20.218509674072266,
          1.6758346557617188,
          15.760955810546875,
          -0.9173546433448792,
          1.2567694187164307,
          -3.3031396865844727,
          8.376733779907227,
          -7.85040283203125,
          -13.410584449768066,
          6.422811508178711,
          -17.5708065032959,
          -12.681124687194824,
          1.0537278652191162,
          12.674906730651855,
          8.192280769348145,
          -8.229482650756836,
          13.232415199279785,
          6.351146221160889,
          -10.152727127075195,
          3.269280433654785,
          8.85006332397461,
          1.5131396055221558,
          5.040162086486816,
          7.960699081420898,
          9.576862335205078,
          0.12884476780891418,
          7.296543598175049,
          4.143672943115234,
          6.452190399169922,
          -17.328922271728516,
          -15.114507675170898,
          17.861223220825195,
          4.948033332824707,
          5.255935192108154,
          -2.603850841522217,
          2.7818734645843506,
          -17.693035125732422,
          -17.569915771484375,
          -13.088347434997559,
          13.537978172302246,
          1.9175888299942017,
          12.989888191223145,
          11.015015602111816,
          -17.95222282409668,
          -16.885066986083984,
          10.592314720153809,
          -11.551437377929688,
          -7.285037994384766,
          2.742628574371338,
          5.733520984649658,
          7.084558963775635,
          1.0338664054870605,
          14.80052661895752,
          -1.545066475868225,
          -2.1814444065093994,
          10.67017936706543,
          -17.874126434326172,
          0.7402649521827698,
          15.831904411315918,
          6.496762752532959,
          -19.81572914123535,
          -20.5527400970459,
          -11.170510292053223,
          -13.883072853088379,
          1.555671215057373,
          -16.4856014251709,
          5.241961479187012,
          12.110037803649902,
          6.353099346160889,
          -12.194685935974121,
          -0.4437330365180969,
          6.838594436645508,
          -13.392889976501465,
          -14.39344310760498,
          6.927729606628418,
          15.34927749633789,
          -15.555072784423828,
          8.15536117553711,
          -19.50499153137207,
          -12.23453426361084,
          -2.201054334640503,
          9.875467300415039,
          -15.55505657196045,
          -16.987295150756836,
          0.5023248791694641,
          8.563007354736328,
          8.637974739074707,
          -2.9382457733154297,
          8.877216339111328,
          14.9802827835083,
          6.726379871368408,
          1.665894627571106,
          -20.064983367919922,
          5.461939811706543,
          -2.6225459575653076,
          1.5046180486679077,
          3.2590689659118652,
          9.851547241210938,
          -17.119237899780273,
          13.70421314239502,
          -18.023611068725586,
          1.7337210178375244,
          4.136626243591309,
          -0.265348881483078,
          6.6805925369262695,
          1.2585434913635254,
          -12.869869232177734,
          -10.83694839477539,
          -17.764965057373047,
          8.612810134887695,
          14.706363677978516,
          -14.177807807922363,
          -1.962265968322754,
          7.7351579666137695,
          -15.494412422180176,
          -1.1659014225006104,
          14.223081588745117,
          5.570329666137695,
          -1.6524314880371094,
          12.248165130615234,
          7.5284199714660645,
          -2.109875440597534,
          3.5581657886505127,
          7.523660659790039,
          7.845925807952881,
          11.915379524230957,
          9.766249656677246,
          11.985363006591797,
          8.165762901306152,
          -3.048149347305298,
          12.260250091552734,
          -16.95158576965332,
          5.485698699951172,
          11.105849266052246,
          7.997339725494385,
          5.852468490600586,
          10.529570579528809,
          -4.5520148277282715,
          -19.319660186767578,
          0.783435583114624,
          -9.142440795898438,
          -0.9576690793037415,
          -13.772101402282715,
          -3.359964609146118,
          3.8960928916931152,
          9.230063438415527,
          -20.784912109375,
          14.108526229858398,
          -0.5934328436851501,
          5.717495441436768,
          7.256873607635498,
          0.8493576645851135,
          -20.56142234802246,
          -12.573933601379395,
          7.520264148712158,
          4.344159126281738,
          2.334901809692383,
          -2.464571237564087,
          -10.594056129455566,
          5.436617851257324,
          0.06387463957071304,
          -13.635139465332031,
          5.3372344970703125,
          -12.869754791259766,
          12.296838760375977,
          -0.7925836443901062,
          6.796422958374023,
          -15.208847045898438,
          -19.805274963378906,
          2.8052561283111572,
          10.906723976135254,
          -12.774792671203613,
          16.358247756958008,
          -7.801320552825928,
          12.814666748046875,
          17.765094757080078,
          -8.731514930725098,
          -15.52576732635498,
          0.3483942449092865,
          -11.881304740905762,
          -18.663049697875977,
          7.748589038848877,
          -10.54379940032959,
          -14.05162239074707,
          6.832143306732178,
          -11.515359878540039,
          8.552314758300781,
          13.905401229858398,
          -17.886934280395508,
          -2.3980493545532227,
          3.758882522583008,
          -10.513689041137695,
          17.698204040527344,
          6.473397731781006,
          -2.0647406578063965,
          -9.619688987731934,
          5.049092769622803,
          15.902412414550781,
          2.1424612998962402,
          10.380122184753418,
          16.17473793029785,
          -20.116865158081055,
          7.156144618988037,
          -10.03105640411377,
          14.418719291687012,
          11.539985656738281,
          4.5086517333984375,
          9.844192504882812,
          8.413670539855957,
          3.299164056777954,
          -1.763013243675232,
          -12.5095796585083,
          4.634896278381348,
          3.0275964736938477,
          9.959789276123047,
          6.464070796966553,
          -13.447935104370117,
          -14.75561237335205,
          -0.8135272860527039,
          -14.656216621398926,
          0.3989582359790802,
          5.070424556732178,
          6.406217098236084,
          -7.206079959869385,
          15.017143249511719,
          -17.00475311279297,
          -11.204607963562012,
          -17.708181381225586,
          -8.829385757446289,
          -15.8345365524292,
          -2.5712220668792725,
          -14.885108947753906,
          7.541464328765869,
          9.110790252685547,
          -1.0578659772872925,
          0.3609180748462677,
          6.630540370941162,
          1.901289939880371,
          4.860297203063965,
          -7.65659761428833,
          17.11182403564453,
          10.19136905670166,
          5.125087738037109,
          -11.926222801208496,
          -11.949752807617188,
          9.145090103149414,
          1.6487886905670166,
          -14.455790519714355,
          17.915651321411133,
          8.458909034729004,
          7.038079738616943,
          17.739755630493164,
          0.8790267705917358,
          1.0136876106262207,
          6.109785556793213,
          -14.379020690917969,
          -12.039154052734375,
          -11.701691627502441,
          -19.51997184753418,
          -0.0468672513961792,
          5.017601490020752,
          2.895787477493286,
          2.9412317276000977,
          6.961812973022461,
          1.0063103437423706,
          -16.95969581604004,
          -15.78908634185791,
          6.085190296173096,
          -15.588733673095703,
          -16.333528518676758,
          -3.8234758377075195,
          -14.44642162322998,
          3.3967790603637695,
          -1.1129028797149658,
          -1.8480758666992188,
          -13.941410064697266,
          3.931056499481201,
          -3.051243782043457,
          9.175773620605469,
          -18.983688354492188,
          14.06644344329834,
          -15.575549125671387,
          -15.416114807128906,
          13.564383506774902,
          10.519814491271973,
          7.901300430297852,
          -11.274430274963379,
          12.049064636230469,
          6.619498252868652,
          2.133342981338501,
          -14.648432731628418,
          14.5540771484375,
          -20.256071090698242,
          4.352902412414551,
          -15.413661003112793,
          -19.746065139770508,
          6.948848247528076,
          -16.15679931640625,
          9.157527923583984,
          18.714738845825195,
          7.0816216468811035,
          0.24106387794017792,
          -16.05657196044922,
          -16.027259826660156,
          4.590590476989746,
          42.45810317993164,
          -19.022628784179688,
          -17.321969985961914,
          -3.2480828762054443,
          -18.57874298095703,
          1.4710304737091064,
          5.122613906860352,
          6.174677848815918,
          14.527463912963867,
          6.858462333679199,
          15.072529792785645,
          -10.485607147216797,
          0.35594069957733154,
          10.889653205871582,
          18.104598999023438,
          6.274322032928467,
          8.10230827331543,
          3.0682618618011475,
          -17.836227416992188,
          5.396278381347656,
          10.80402660369873,
          3.223917245864868,
          -19.072343826293945,
          1.810447096824646,
          8.135357856750488,
          -18.14865493774414,
          -16.644268035888672,
          -12.374710083007812,
          -14.754313468933105,
          -17.189239501953125,
          1.8502520322799683,
          -11.828730583190918,
          -0.19005265831947327,
          -13.235428810119629,
          -1.3983834981918335,
          -20.556114196777344,
          -17.88704490661621,
          9.042808532714844,
          -1.335662841796875,
          -11.273219108581543,
          9.963578224182129,
          7.152925491333008,
          7.221997261047363,
          14.309283256530762,
          8.073052406311035,
          2.659780263900757,
          2.578486919403076,
          6.718606472015381,
          6.969176769256592,
          2.731961965560913,
          7.963990688323975,
          6.44386100769043,
          0.8312038779258728,
          -11.090693473815918,
          -20.942489624023438,
          -0.7534443140029907,
          -10.444036483764648,
          -1.1669244766235352,
          16.331262588500977,
          4.64700984954834,
          -0.8935694098472595,
          16.642772674560547,
          -13.810367584228516,
          8.796110153198242,
          3.4808411598205566,
          10.871404647827148,
          2.758924961090088,
          -17.3489990234375,
          2.171607255935669,
          -7.135376453399658,
          -2.1297621726989746,
          -1.5869165658950806,
          8.611557960510254,
          -15.94322681427002,
          14.2155122756958,
          -8.790647506713867,
          8.426924705505371,
          -11.459392547607422,
          9.39010238647461,
          8.209088325500488,
          7.445139408111572,
          -1.0491939783096313,
          -18.82496452331543,
          6.804258823394775,
          0.32038742303848267,
          -13.201805114746094,
          6.946654319763184,
          -1.7870886325836182,
          -16.22454071044922,
          -18.895679473876953,
          7.354656219482422,
          2.325169563293457,
          4.716058731079102,
          -14.7171630859375,
          -0.6537886261940002,
          -18.013168334960938,
          -2.1265528202056885,
          -1.1795375347137451,
          7.512391567230225,
          -2.0037195682525635,
          14.607765197753906,
          7.102027416229248,
          2.9094533920288086,
          -12.810823440551758,
          10.343998908996582,
          -3.1198747158050537,
          -17.04269027709961,
          -15.606131553649902,
          -1.389768123626709,
          -9.569754600524902,
          7.100030422210693,
          7.938173294067383,
          -11.10063362121582,
          6.183760166168213,
          6.831753253936768,
          14.836799621582031,
          10.671663284301758,
          -18.335695266723633,
          -17.647994995117188,
          -15.319829940795898,
          -16.10760498046875,
          -20.313690185546875,
          1.3956109285354614,
          -19.388530731201172,
          -14.793309211730957,
          6.385009288787842,
          16.26198387145996,
          11.212464332580566,
          -12.085561752319336,
          3.3701205253601074,
          17.773046493530273,
          -3.842787504196167,
          -18.3485050201416,
          11.008491516113281,
          -3.645131826400757,
          -18.91466522216797,
          -13.752927780151367,
          2.183627128601074,
          -8.994354248046875,
          -11.186293601989746,
          8.701028823852539,
          7.671314716339111,
          3.2330355644226074,
          -4.092373847961426,
          -12.237566947937012,
          -8.24380111694336,
          -17.689550399780273,
          -4.0931782722473145,
          5.842524528503418,
          -4.1018476486206055,
          0.35893458127975464,
          -0.34003448486328125,
          -2.328566074371338,
          -0.09208018332719803,
          -1.6703038215637207,
          -13.015800476074219,
          -14.675762176513672,
          -18.56892204284668,
          -9.636494636535645,
          4.428381443023682,
          -13.161459922790527,
          2.8569674491882324,
          4.990832805633545,
          3.039405345916748,
          -17.64311981201172,
          12.193761825561523,
          16.046512603759766,
          17.600839614868164,
          -10.75283145904541,
          -2.262394428253174,
          7.507452964782715,
          7.4004974365234375,
          -11.134358406066895,
          5.32354211807251,
          17.606956481933594,
          14.819668769836426,
          -17.638036727905273,
          -9.83696460723877,
          -19.473997116088867,
          -3.3347904682159424,
          -11.958203315734863,
          -2.356111764907837,
          2.990572452545166,
          9.595026016235352,
          -8.184541702270508,
          15.590773582458496,
          4.4798736572265625,
          -14.967777252197266,
          10.00635814666748,
          -18.8944091796875,
          6.9770379066467285,
          8.19863510131836,
          5.71108865737915,
          5.268868446350098,
          1.2883936166763306,
          0.778015673160553,
          -12.952422142028809,
          0.6788535118103027,
          -13.271193504333496,
          15.042548179626465,
          4.949709415435791,
          2.626702070236206,
          -0.38678792119026184,
          6.4806718826293945,
          11.218202590942383,
          -1.0402928590774536,
          2.805964231491089,
          16.46282196044922,
          7.343083381652832,
          12.402962684631348,
          0.6229926943778992,
          -0.5151858329772949,
          10.759454727172852,
          16.74776268005371,
          -19.369272232055664,
          5.042689323425293,
          -13.372108459472656,
          18.336368560791016,
          16.156232833862305,
          -19.825347900390625,
          11.720768928527832,
          -10.577054023742676,
          13.875372886657715,
          2.1242291927337646,
          -4.838297367095947,
          10.06920337677002,
          -10.346573829650879,
          13.847136497497559,
          9.649494171142578,
          0.028439491987228394,
          -1.2256160974502563,
          1.9648668766021729,
          -4.068742275238037,
          -7.257761478424072,
          6.879772186279297,
          7.793751239776611,
          1.4815641641616821,
          -18.329172134399414,
          6.2965087890625,
          -12.288810729980469,
          -11.396045684814453,
          14.776124954223633,
          6.620521068572998,
          -1.2527498006820679,
          -10.505810737609863,
          1.1987409591674805,
          -19.944114685058594,
          -10.39302921295166,
          -16.470977783203125,
          -16.305896759033203,
          -7.355140209197998,
          18.6204891204834,
          -0.5379199981689453,
          2.410287857055664,
          11.515702247619629,
          -18.216737747192383,
          16.416540145874023,
          10.404151916503906,
          -17.1585693359375,
          2.3727355003356934,
          6.475107669830322,
          -18.50341033935547,
          -11.0404052734375,
          -10.366063117980957,
          -12.528449058532715,
          -14.191630363464355,
          -12.68663215637207,
          -14.96975326538086,
          7.914295196533203,
          13.275754928588867,
          9.036480903625488,
          -16.692821502685547,
          1.0227103233337402,
          1.80099618434906,
          -14.800237655639648,
          -2.6243858337402344,
          14.034342765808105,
          11.436883926391602,
          5.931103229522705,
          -14.643848419189453,
          7.607602596282959,
          8.182640075683594,
          13.301206588745117,
          3.589437246322632,
          0.40447017550468445,
          1.022681474685669,
          -18.441232681274414,
          17.023828506469727,
          -10.736513137817383,
          5.87689733505249,
          15.450371742248535,
          4.700809478759766,
          14.429100036621094,
          1.8112515211105347,
          -19.017526626586914,
          1.3676108121871948,
          16.239866256713867,
          -13.554269790649414,
          8.927481651306152,
          -15.157203674316406,
          10.294246673583984,
          4.154165267944336,
          12.208168983459473,
          -1.0239449739456177,
          8.463682174682617,
          8.053083419799805,
          2.260344982147217,
          4.938311576843262,
          -7.789209842681885,
          9.530733108520508,
          13.583054542541504,
          14.442885398864746,
          -17.58319854736328,
          -17.350906372070312,
          -18.291473388671875,
          7.577425956726074,
          6.076756477355957,
          5.3019843101501465,
          -9.793898582458496,
          -12.845616340637207,
          -17.306795120239258,
          -10.644566535949707,
          13.473206520080566,
          -18.5935115814209,
          10.424320220947266,
          8.058053970336914,
          6.127484321594238,
          3.3707685470581055,
          6.943277359008789,
          1.7739003896713257,
          4.873611927032471,
          10.704349517822266,
          -20.37869644165039,
          15.808280944824219,
          -13.776093482971191,
          -15.774008750915527,
          -4.8182830810546875,
          -10.555143356323242,
          17.04509735107422,
          4.705078601837158,
          7.628178596496582,
          4.782851696014404,
          16.1380672454834,
          -10.194515228271484,
          -11.07384967803955,
          3.938256025314331,
          -0.681710422039032,
          -17.933086395263672,
          -18.561290740966797,
          7.302313327789307,
          -20.81898307800293,
          7.938439846038818,
          11.894659042358398,
          -0.7408055663108826,
          10.257011413574219,
          -3.243067502975464,
          4.508111953735352,
          4.5315375328063965,
          0.07520394772291183,
          -12.134722709655762,
          9.195586204528809,
          4.2764201164245605,
          -19.189144134521484,
          -17.3840389251709,
          -12.106250762939453,
          11.794313430786133,
          -7.5219502449035645,
          -3.0908031463623047,
          -16.849679946899414,
          -9.155946731567383,
          2.4714467525482178,
          17.831703186035156,
          -15.503164291381836,
          14.743864059448242,
          -12.2196683883667,
          15.278037071228027,
          11.423419952392578,
          1.2995163202285767,
          -3.414961099624634,
          4.4705705642700195,
          -1.0280976295471191,
          -19.743253707885742,
          -18.19277572631836,
          -1.861556053161621,
          7.2256178855896,
          -19.060298919677734,
          -14.284489631652832,
          -10.849430084228516,
          2.232989549636841,
          3.1863231658935547,
          4.818155288696289,
          -7.582375526428223,
          16.977909088134766,
          6.447868347167969,
          9.018832206726074,
          3.9390714168548584,
          11.327239036560059,
          -11.373202323913574,
          5.799859523773193,
          -18.08394432067871,
          15.315197944641113,
          7.1374430656433105,
          -11.125005722045898,
          13.255622863769531,
          4.320308685302734,
          3.486912965774536,
          -17.144861221313477,
          2.5411996841430664,
          -13.030160903930664,
          -11.412532806396484,
          7.149468898773193,
          17.932157516479492,
          0.17737756669521332,
          -17.217525482177734,
          5.944569110870361,
          1.9043176174163818,
          -14.4695463180542,
          -16.12803077697754,
          -14.643779754638672,
          -14.186505317687988,
          14.26004409790039,
          14.224318504333496,
          -7.750556945800781,
          -13.449185371398926,
          5.555866241455078,
          9.522762298583984,
          17.824840545654297,
          -14.528948783874512,
          -13.790250778198242
         ],
         "z": [
          6.512936592102051,
          -11.803759574890137,
          10.32328987121582,
          3.7409234046936035,
          10.37350082397461,
          -0.47200584411621094,
          -12.733797073364258,
          -2.1739401817321777,
          0.31825798749923706,
          7.2553486824035645,
          -4.685969829559326,
          13.51826286315918,
          3.4207923412323,
          1.9649834632873535,
          2.701728343963623,
          7.299907684326172,
          3.332552194595337,
          -4.186214923858643,
          10.056709289550781,
          12.448379516601562,
          -0.6946566700935364,
          1.615480661392212,
          2.561767578125,
          -0.4343414902687073,
          0.818581223487854,
          -0.7870110869407654,
          12.37073040008545,
          -0.6190961599349976,
          5.053805351257324,
          1.7379488945007324,
          0.8190246224403381,
          -10.18415355682373,
          2.448131561279297,
          0.6790649890899658,
          2.4648752212524414,
          0.9832234978675842,
          -4.453535079956055,
          -0.5359212160110474,
          3.5717451572418213,
          -1.6900016069412231,
          -8.26665210723877,
          2.225865125656128,
          -4.2596821784973145,
          2.4124128818511963,
          3.1561312675476074,
          7.494894027709961,
          2.281961679458618,
          -0.09568364173173904,
          13.194635391235352,
          -6.910181999206543,
          -0.675657331943512,
          9.323746681213379,
          2.5477919578552246,
          7.410773754119873,
          1.206313133239746,
          -5.286384582519531,
          -2.6232199668884277,
          2.9308698177337646,
          0.687314510345459,
          8.432029724121094,
          2.644793748855591,
          -3.588696241378784,
          7.576150894165039,
          1.751112699508667,
          -3.683668613433838,
          2.1163084506988525,
          -5.1481146812438965,
          -3.3379321098327637,
          11.974822044372559,
          -2.184837579727173,
          3.641883611679077,
          1.1285433769226074,
          5.197929859161377,
          1.0050050020217896,
          6.405303478240967,
          3.7358319759368896,
          9.556422233581543,
          4.373669624328613,
          7.0991997718811035,
          4.4305219650268555,
          4.907838821411133,
          2.5321216583251953,
          7.672419548034668,
          -4.895436763763428,
          -11.436596870422363,
          -9.657319068908691,
          -7.412587642669678,
          -11.428441047668457,
          -2.6748275756835938,
          2.1435587406158447,
          5.795127868652344,
          -2.9265756607055664,
          -3.669300079345703,
          -11.886098861694336,
          -6.6241536140441895,
          7.084707260131836,
          0.5507474541664124,
          -9.445273399353027,
          -3.1052889823913574,
          8.661893844604492,
          4.654509544372559,
          -7.878178596496582,
          -9.604653358459473,
          1.4289648532867432,
          5.523295879364014,
          2.80035138130188,
          -7.619685649871826,
          -9.154074668884277,
          5.3346052169799805,
          3.427234172821045,
          2.641746759414673,
          2.584381103515625,
          -4.493947982788086,
          4.196071624755859,
          11.69057846069336,
          2.422574758529663,
          -7.960606575012207,
          -11.901681900024414,
          2.332559108734131,
          -1.7071956396102905,
          2.6313636302948,
          -1.9940463304519653,
          -8.55004596710205,
          -6.0716352462768555,
          -5.459268093109131,
          -11.349377632141113,
          -5.294981956481934,
          2.1064388751983643,
          -12.078125953674316,
          -10.649351119995117,
          0.28693509101867676,
          0.9837972521781921,
          0.46979421377182007,
          -10.678119659423828,
          -9.338533401489258,
          6.367615699768066,
          8.750041007995605,
          3.1255197525024414,
          -12.898560523986816,
          -2.6760737895965576,
          0.19645152986049652,
          0.4883373975753784,
          1.8626512289047241,
          9.760682106018066,
          -1.060685634613037,
          4.605668067932129,
          -2.7968428134918213,
          -7.120776176452637,
          -12.792937278747559,
          -0.5002436637878418,
          2.1509828567504883,
          4.975503921508789,
          -5.824787139892578,
          1.5185341835021973,
          3.038832426071167,
          -0.5841793417930603,
          -5.137795448303223,
          -7.632700443267822,
          7.7829389572143555,
          0.735538899898529,
          -9.11755657196045,
          2.318913221359253,
          7.8164286613464355,
          5.768547534942627,
          1.4033571481704712,
          -8.455827713012695,
          1.1735727787017822,
          2.261420726776123,
          7.177924633026123,
          -6.0362420082092285,
          -7.8852128982543945,
          -8.604820251464844,
          0.33723634481430054,
          10.064697265625,
          -4.143443584442139,
          -10.046454429626465,
          1.0520836114883423,
          9.376193046569824,
          -12.096043586730957,
          2.673938035964966,
          -5.045948028564453,
          -2.802361011505127,
          -8.37909984588623,
          -0.04102151840925217,
          1.4147871732711792,
          -8.918683052062988,
          3.6029176712036133,
          0.13223926723003387,
          4.979740619659424,
          4.2296366691589355,
          -7.457522869110107,
          10.961727142333984,
          -3.2878780364990234,
          11.324427604675293,
          -6.408478260040283,
          -11.298959732055664,
          -5.640866756439209,
          -7.752591133117676,
          4.892149925231934,
          -5.4806976318359375,
          -0.2197982221841812,
          -1.7191888093948364,
          -5.916238307952881,
          8.268828392028809,
          10.577577590942383,
          -9.860637664794922,
          2.5337347984313965,
          -0.4015197455883026,
          -3.153139114379883,
          -13.021501541137695,
          -4.312735080718994,
          5.533602714538574,
          5.118529796600342,
          1.8066890239715576,
          -1.9671772718429565,
          -3.8165500164031982,
          -12.941320419311523,
          4.789946556091309,
          5.51143741607666,
          -3.686582326889038,
          11.265955924987793,
          -10.74361515045166,
          8.683439254760742,
          5.415522575378418,
          -7.870654582977295,
          2.5238683223724365,
          -4.430553913116455,
          6.684947967529297,
          -9.840189933776855,
          6.126568794250488,
          -11.331693649291992,
          -3.8909637928009033,
          1.976032018661499,
          2.9264628887176514,
          0.41023996472358704,
          -10.38123607635498,
          -14.616433143615723,
          4.130412578582764,
          1.9821879863739014,
          9.166053771972656,
          -0.9309409856796265,
          -6.855225563049316,
          7.06596565246582,
          -11.812418937683105,
          -1.287903904914856,
          -8.293753623962402,
          5.370890140533447,
          8.484073638916016,
          -3.9662842750549316,
          7.666139125823975,
          2.872912645339966,
          -4.057416915893555,
          1.3175334930419922,
          1.9209057092666626,
          3.2005691528320312,
          0.23271378874778748,
          7.15401029586792,
          -10.655961990356445,
          6.306952953338623,
          -0.6836692690849304,
          7.871298789978027,
          0.7562829852104187,
          10.982004165649414,
          -5.767423152923584,
          3.728769540786743,
          -11.971700668334961,
          2.7621891498565674,
          -7.53885555267334,
          5.36453914642334,
          -5.754003524780273,
          -8.122512817382812,
          -7.7625837326049805,
          7.2029500007629395,
          7.203111171722412,
          1.5756287574768066,
          -0.8889473676681519,
          7.079290390014648,
          11.155458450317383,
          -9.412405014038086,
          4.789662837982178,
          -4.849204063415527,
          6.964524745941162,
          5.457174301147461,
          4.224486827850342,
          11.089179992675781,
          -10.043928146362305,
          -4.079066753387451,
          -11.098255157470703,
          -11.019436836242676,
          6.051005840301514,
          1.257765769958496,
          -9.773003578186035,
          -8.006463050842285,
          -10.19373607635498,
          -5.303367614746094,
          -1.8120390176773071,
          -2.005098342895508,
          5.837701797485352,
          -6.938708782196045,
          5.39600944519043,
          -10.483315467834473,
          -10.713440895080566,
          3.5407774448394775,
          -0.8073498010635376,
          -0.5561615824699402,
          7.736619472503662,
          -8.36402702331543,
          7.026632785797119,
          -7.506668567657471,
          0.9155410528182983,
          0.9804879426956177,
          -7.271512031555176,
          -2.352803945541382,
          8.524430274963379,
          -5.136899948120117,
          6.872541427612305,
          -5.6601362228393555,
          -12.055761337280273,
          7.825704097747803,
          -6.875602722167969,
          -9.768714904785156,
          6.81374979019165,
          1.293042540550232,
          -11.575784683227539,
          1.178794503211975,
          3.0761122703552246,
          4.134964466094971,
          1.6418139934539795,
          5.230374813079834,
          -0.9236934781074524,
          -7.256158351898193,
          6.60599422454834,
          -0.5700579285621643,
          1.7142763137817383,
          -11.097229957580566,
          8.4210786819458,
          -11.496826171875,
          6.885805606842041,
          3.3407442569732666,
          7.0288472175598145,
          7.654365062713623,
          6.254855632781982,
          2.385751485824585,
          0.9195060133934021,
          -1.22673499584198,
          6.36679744720459,
          -11.440417289733887,
          -9.837026596069336,
          1.7567787170410156,
          6.372590065002441,
          -3.0834360122680664,
          7.510091304779053,
          0.08849045634269714,
          -8.050533294677734,
          -4.052000522613525,
          7.000638008117676,
          2.5532066822052,
          -12.3011474609375,
          6.326643466949463,
          0.4392748177051544,
          -10.934296607971191,
          -9.59594440460205,
          3.5458641052246094,
          -6.410144329071045,
          1.2632925510406494,
          7.749657154083252,
          3.7232766151428223,
          -9.127275466918945,
          -10.037253379821777,
          -8.747827529907227,
          -5.5130934715271,
          -1.170282006263733,
          10.522856712341309,
          5.393045425415039,
          1.3954023122787476,
          -5.463588714599609,
          6.023909568786621,
          -0.235018789768219,
          -7.0895185470581055,
          1.0444681644439697,
          -0.11394193023443222,
          -1.1760350465774536,
          5.962757110595703,
          6.5642900466918945,
          -10.68073844909668,
          0.4511059820652008,
          -8.302003860473633,
          -0.027013031765818596,
          -5.504591464996338,
          2.9298906326293945,
          -4.330012798309326,
          1.0030910968780518,
          7.692385673522949,
          4.818792343139648,
          -0.05833638459444046,
          -7.850057125091553,
          3.0550663471221924,
          -0.6615231037139893,
          3.5583534240722656,
          4.869661331176758,
          -1.7722448110580444,
          -3.2706785202026367,
          -6.995226860046387,
          -9.278365135192871,
          -0.8530570864677429,
          -8.152122497558594,
          8.953658103942871,
          0.452227920293808,
          0.2545088529586792,
          -7.366765975952148,
          -11.508580207824707,
          1.9734770059585571,
          4.798591136932373,
          7.3683013916015625,
          -9.809046745300293,
          -4.220000743865967,
          -10.37944221496582,
          -13.22361946105957,
          1.6875969171524048,
          6.423179626464844,
          2.727327823638916,
          -7.079789638519287,
          -10.392213821411133,
          -11.773351669311523,
          7.432399749755859,
          -9.542232513427734,
          -11.607707023620605,
          -0.8495798110961914,
          5.357098579406738,
          9.035524368286133,
          2.6152992248535156,
          -10.1368408203125,
          -4.294018268585205,
          0.3693349063396454,
          4.471049785614014,
          -6.188418388366699,
          -2.32198166847229,
          9.473143577575684,
          5.541377544403076,
          10.884129524230957,
          3.5428309440612793,
          7.354573726654053,
          11.241783142089844,
          9.75039005279541,
          -2.9861528873443604,
          1.1389257907867432,
          2.968344211578369,
          -0.902413547039032,
          6.527146816253662,
          -3.820997714996338,
          -3.872422218322754,
          9.229424476623535,
          -5.560858249664307,
          7.586113929748535,
          -3.9777166843414307,
          -5.694502830505371,
          -2.280569314956665,
          8.491143226623535,
          7.098515033721924,
          6.279764175415039,
          -10.097134590148926,
          10.199686050415039,
          -5.333154201507568,
          7.792654037475586,
          -0.5373443961143494,
          5.972740173339844,
          5.003982067108154,
          2.0282959938049316,
          -8.668421745300293,
          7.661935806274414,
          2.7492311000823975,
          -0.5526309013366699,
          -6.524482727050781,
          5.991395473480225,
          -5.4601898193359375,
          -7.206175327301025,
          -11.488553047180176,
          0.7935284972190857,
          6.383399486541748,
          -12.652461051940918,
          -6.903376579284668,
          -4.170471668243408,
          -0.09896264225244522,
          7.967198848724365,
          -8.60760498046875,
          9.327528953552246,
          -7.316459655761719,
          5.986295223236084,
          6.745341777801514,
          10.009888648986816,
          7.368539810180664,
          -2.7589669227600098,
          2.9227871894836426,
          4.1396636962890625,
          7.394360065460205,
          -2.6540145874023438,
          -7.597406387329102,
          -0.5655637979507446,
          0.4679810404777527,
          3.1890313625335693,
          -12.531283378601074,
          -0.6453996896743774,
          2.0862770080566406,
          -2.7786896228790283,
          5.637235641479492,
          9.385465621948242,
          7.611959934234619,
          -8.91491413116455,
          5.6260857582092285,
          -2.144120216369629,
          11.897178649902344,
          -8.182981491088867,
          -6.878944396972656,
          6.150747299194336,
          6.027706146240234,
          -2.6518003940582275,
          2.545478582382202,
          7.455100059509277,
          -3.1677539348602295,
          -7.798098564147949,
          4.277344226837158,
          6.446130275726318,
          4.754751205444336,
          4.973831653594971,
          6.285321235656738,
          -6.869379043579102,
          7.126957893371582,
          -10.624649047851562,
          -3.827981948852539,
          7.488807678222656,
          -9.473257064819336,
          4.197136402130127,
          0.8027883172035217,
          -5.3371710777282715,
          -1.9560335874557495,
          0.4772670567035675,
          -7.78788948059082,
          8.950162887573242,
          4.413995265960693,
          -6.272435188293457,
          -4.519410133361816,
          -1.447201132774353,
          -11.253287315368652,
          -13.089003562927246,
          -10.180944442749023,
          0.4536568820476532,
          3.6995670795440674,
          -0.3277592360973358,
          -2.0018279552459717,
          4.90321683883667,
          -0.572111964225769,
          4.37177038192749,
          10.80072021484375,
          7.762637615203857,
          -0.8580371737480164,
          -10.765003204345703,
          0.6047264337539673,
          7.632506370544434,
          2.990811824798584,
          0.23834528028964996,
          10.397685050964355,
          5.249012470245361,
          -0.8462247848510742,
          -4.100362300872803,
          -3.214869976043701,
          3.659839391708374,
          -6.886263847351074,
          -0.9746913313865662,
          -3.786402940750122,
          -4.376699924468994,
          6.077298641204834,
          9.18199348449707,
          -1.161933183670044,
          6.71523380279541,
          -10.429410934448242,
          2.3038175106048584,
          -13.106817245483398,
          -11.718086242675781,
          4.814511299133301,
          2.5169122219085693,
          3.2858145236968994,
          4.983007431030273,
          5.947347164154053,
          -13.0050630569458,
          -7.534022808074951,
          2.3175997734069824,
          7.657931327819824,
          -6.081861972808838,
          -8.074199676513672,
          3.8166122436523438,
          -3.6664645671844482,
          -4.032439231872559,
          0.5517745614051819,
          -0.80568927526474,
          1.8014405965805054,
          2.53918194770813,
          -0.26384443044662476,
          4.72005558013916,
          -0.4140104055404663,
          9.502605438232422,
          2.0404598712921143,
          -0.6389719247817993,
          -1.6777321100234985,
          -10.988018989562988,
          -2.3894689083099365,
          -12.88672161102295,
          1.025329351425171,
          7.545064926147461,
          -2.4830121994018555,
          -11.374283790588379,
          4.628515243530273,
          1.719383716583252,
          4.758578777313232,
          7.438340663909912,
          7.673293590545654,
          -1.1624886989593506,
          -4.385396957397461,
          -2.4351329803466797,
          -5.256728649139404,
          7.555876731872559,
          2.3970038890838623,
          1.359200119972229,
          3.2605814933776855,
          -2.2487571239471436,
          5.260654926300049,
          0.7619317173957825,
          -9.064957618713379,
          12.51025104522705,
          -0.6129133701324463,
          7.43358850479126,
          0.645625650882721,
          -8.110764503479004,
          7.9600067138671875,
          7.050530910491943,
          2.303349733352661,
          4.449697494506836,
          0.38463670015335083,
          2.300257921218872,
          -4.253568172454834,
          2.633650064468384,
          10.398423194885254,
          -12.857982635498047,
          -11.132810592651367,
          0.9187319278717041,
          7.0212531089782715,
          8.648510932922363,
          7.965815544128418,
          5.3071699142456055,
          0.3260852098464966,
          7.655313014984131,
          -4.393089294433594,
          -6.799952030181885,
          -1.885353684425354,
          1.5135127305984497,
          -9.370205879211426,
          -12.091667175292969,
          8.441445350646973,
          4.996688365936279,
          0.45097339153289795,
          3.5133936405181885,
          2.5198991298675537,
          2.3301968574523926,
          -0.23340874910354614,
          6.035584449768066,
          -1.0505714416503906,
          -14.303810119628906,
          3.5241122245788574,
          -11.144430160522461,
          -7.781700611114502,
          -8.35006332397461,
          -3.4092206954956055,
          6.281380653381348,
          2.3224241733551025,
          3.5946452617645264,
          0.5822599530220032,
          -1.7114068269729614,
          -12.007704734802246,
          -3.3365581035614014,
          -0.423714280128479,
          -10.503100395202637,
          6.541015625,
          -4.856015205383301,
          7.90487813949585,
          0.22410987317562103,
          -0.8746325969696045,
          -8.507889747619629,
          3.5801310539245605,
          -9.154690742492676,
          -3.703080177307129,
          2.2394185066223145,
          6.6603922843933105,
          0.2939908802509308,
          5.0644378662109375,
          -6.954519271850586,
          -3.2104835510253906,
          1.3848756551742554,
          1.4254275560379028,
          2.2248587608337402,
          6.281913757324219,
          3.9504778385162354,
          -2.6669483184814453,
          3.135711431503296,
          1.9917429685592651,
          5.07747220993042,
          4.2838521003723145,
          -6.06562614440918,
          -2.3248398303985596,
          8.43089771270752,
          3.1665687561035156,
          2.608818292617798,
          1.2353029251098633,
          -6.892134189605713,
          -7.005479335784912,
          -0.9780634045600891,
          -1.4709601402282715,
          -1.453691840171814,
          -0.6764950156211853,
          7.261849880218506,
          -1.5186227560043335,
          -7.193402290344238,
          10.094216346740723,
          -6.00949764251709,
          -6.709901809692383,
          9.280696868896484,
          -5.527669906616211,
          2.460596799850464,
          -3.3474643230438232,
          1.9197190999984741,
          0.7509565949440002,
          -1.2450321912765503,
          -4.654644012451172,
          10.459063529968262,
          3.2155165672302246,
          3.61773943901062,
          -1.7088685035705566,
          -4.398016452789307,
          2.355896472930908,
          6.660242080688477,
          6.634732246398926,
          5.200283050537109,
          -1.169811487197876,
          2.781296968460083,
          3.975606679916382,
          4.652200698852539,
          3.3099544048309326,
          5.777636528015137,
          1.6843045949935913,
          -3.2960333824157715,
          8.845935821533203,
          3.048161029815674,
          -11.761545181274414,
          10.627071380615234,
          -6.931042194366455,
          -6.507236003875732,
          -4.9804558753967285,
          10.046688079833984,
          4.309548377990723,
          0.47328659892082214,
          6.2650556564331055,
          -9.24361515045166,
          0.7553552389144897,
          2.4401838779449463,
          -7.529379844665527,
          -9.025196075439453,
          6.552196979522705,
          -9.063279151916504,
          -8.109611511230469,
          11.181794166564941,
          -12.21875286102295,
          11.86786937713623,
          4.355179309844971,
          5.43270206451416,
          1.085283637046814,
          -11.308061599731445,
          3.6594464778900146,
          -4.640892505645752,
          -0.7003225684165955,
          -3.7189126014709473,
          7.99161958694458,
          5.124335289001465,
          4.039264678955078,
          -8.716320991516113,
          -8.838550567626953,
          1.923197865486145,
          8.313653945922852,
          2.068913459777832,
          -1.5375715494155884,
          -0.06104998290538788,
          4.411248683929443,
          1.438809871673584,
          -1.256949782371521,
          4.684597492218018,
          5.736203193664551,
          8.003680229187012,
          -7.014402866363525,
          -8.94884967803955,
          -2.8820383548736572,
          7.246734619140625,
          4.695287704467773,
          -6.4033708572387695,
          -2.882854461669922,
          -0.25464048981666565,
          -3.6072566509246826,
          -12.25290584564209,
          9.851607322692871,
          -8.449286460876465,
          -2.390738010406494,
          -10.132447242736816,
          -0.40709322690963745,
          -5.331033706665039,
          8.993569374084473,
          3.4825146198272705,
          7.574828147888184,
          2.4423952102661133,
          -8.731715202331543,
          6.393591403961182,
          -10.315305709838867,
          0.4588261544704437,
          0.5230953097343445,
          0.13779067993164062,
          -4.255804538726807,
          7.976768493652344,
          6.335317134857178,
          -11.469256401062012,
          -6.6978254318237305,
          -1.1667460203170776,
          -0.6246975064277649,
          4.1637282371521,
          6.67525053024292,
          5.088052749633789,
          -11.073052406311035,
          1.4444515705108643,
          7.452383518218994,
          3.2549006938934326,
          8.814231872558594,
          -1.5454707145690918,
          10.954840660095215,
          11.060751914978027,
          -4.4533491134643555,
          -0.9371635317802429,
          3.966761589050293,
          1.597206711769104,
          0.7873367667198181,
          -9.738730430603027,
          -11.133981704711914,
          -0.8817373514175415,
          -7.283957004547119,
          4.219775676727295,
          1.9063361883163452,
          -5.44221305847168,
          0.6958014965057373,
          4.837457180023193,
          0.44725021719932556,
          3.3163046836853027,
          -4.67563009262085,
          -6.871642112731934,
          -3.9763290882110596,
          -0.7306981086730957,
          3.7366127967834473,
          5.722264289855957,
          3.5421431064605713,
          3.3290610313415527,
          -0.5480937957763672,
          1.1495426893234253,
          -7.768653392791748,
          2.714343786239624,
          -11.357355117797852,
          1.8929731845855713,
          -2.1276984214782715,
          1.1993935108184814,
          -4.206611156463623,
          -1.0341191291809082,
          -7.534451484680176,
          1.5115113258361816,
          -7.4579386711120605,
          -6.651066780090332,
          0.29985061287879944,
          -4.1241984367370605,
          4.1708221435546875,
          9.080888748168945,
          0.5236240029335022,
          9.517647743225098,
          6.365252494812012,
          2.775874137878418,
          -0.9713361263275146,
          -3.883866310119629,
          4.952847957611084,
          -7.3738789558410645,
          6.079492568969727,
          2.9368441104888916,
          9.042211532592773,
          0.9283135533332825,
          6.413397312164307,
          6.545516014099121,
          0.11394385248422623,
          2.846156597137451,
          5.690607070922852,
          -9.743610382080078,
          -3.506726026535034,
          -1.8484232425689697,
          -11.171074867248535,
          0.7255561947822571,
          -3.653186321258545,
          1.114130973815918,
          1.1705517768859863,
          8.338496208190918,
          -1.7991198301315308,
          -10.770452499389648,
          5.8858184814453125,
          5.92365026473999,
          -9.097222328186035,
          -6.459983825683594,
          -3.4918065071105957,
          6.775349140167236,
          4.851715087890625,
          12.601548194885254,
          4.897282123565674,
          -9.114991188049316,
          -1.3384186029434204,
          -4.312843322753906,
          4.44317626953125,
          0.6208356618881226,
          -1.9585562944412231,
          4.7123942375183105,
          -6.359704971313477,
          1.3499295711517334,
          -8.61788272857666,
          5.232941150665283,
          -6.8125319480896,
          -6.830897808074951,
          12.72348403930664,
          -1.1336084604263306,
          -7.083667755126953,
          2.0275750160217285,
          -0.7102575302124023,
          8.65251636505127,
          -0.0029790732078254223,
          9.713520050048828,
          -12.09889030456543,
          -4.3193840980529785,
          8.543649673461914,
          0.11990166455507278,
          6.646808624267578,
          -0.36345404386520386,
          7.573891639709473,
          5.608348369598389,
          7.287829875946045,
          6.884187698364258,
          -9.776031494140625,
          -8.956920623779297,
          6.451943874359131,
          -0.11254727095365524,
          0.14953722059726715,
          1.7797304391860962,
          0.061376094818115234,
          -10.376348495483398,
          -3.39473819732666,
          2.9558095932006836,
          3.328470230102539,
          -2.7115707397460938,
          -8.377594947814941,
          -6.99367094039917,
          8.976364135742188,
          7.259130001068115,
          5.008078098297119,
          -8.688478469848633,
          -10.116188049316406,
          7.704909324645996,
          4.240799427032471,
          -0.5525783896446228,
          5.8389506340026855,
          3.4994733333587646,
          7.99488639831543,
          12.444212913513184,
          4.599313735961914,
          -10.571004867553711,
          -12.512552261352539,
          6.470492839813232,
          3.108135938644409,
          -0.5321876406669617,
          4.58784818649292,
          4.528688430786133,
          5.470091342926025,
          -9.898786544799805,
          5.763306617736816,
          -2.8840837478637695,
          -3.5583109855651855,
          -2.692558765411377,
          -3.619366407394409,
          10.095232009887695,
          0.9323483109474182,
          7.982198715209961,
          9.02115535736084,
          9.672394752502441,
          4.770451068878174,
          5.693234443664551,
          -2.620518684387207,
          4.086660385131836,
          0.07957460731267929,
          10.610764503479004
         ]
        }
       ],
       "layout": {
        "coloraxis": {
         "colorbar": {
          "title": {
           "text": "Label"
          }
         },
         "colorscale": [
          [
           0,
           "#0d0887"
          ],
          [
           0.1111111111111111,
           "#46039f"
          ],
          [
           0.2222222222222222,
           "#7201a8"
          ],
          [
           0.3333333333333333,
           "#9c179e"
          ],
          [
           0.4444444444444444,
           "#bd3786"
          ],
          [
           0.5555555555555556,
           "#d8576b"
          ],
          [
           0.6666666666666666,
           "#ed7953"
          ],
          [
           0.7777777777777778,
           "#fb9f3a"
          ],
          [
           0.8888888888888888,
           "#fdca26"
          ],
          [
           1,
           "#f0f921"
          ]
         ]
        },
        "height": 800,
        "legend": {
         "tracegroupgap": 0
        },
        "scene": {
         "domain": {
          "x": [
           0,
           1
          ],
          "y": [
           0,
           1
          ]
         },
         "xaxis": {
          "title": {
           "text": "0"
          }
         },
         "yaxis": {
          "title": {
           "text": "1"
          }
         },
         "zaxis": {
          "title": {
           "text": "2"
          }
         }
        },
        "template": {
         "data": {
          "bar": [
           {
            "error_x": {
             "color": "#2a3f5f"
            },
            "error_y": {
             "color": "#2a3f5f"
            },
            "marker": {
             "line": {
              "color": "#E5ECF6",
              "width": 0.5
             }
            },
            "type": "bar"
           }
          ],
          "barpolar": [
           {
            "marker": {
             "line": {
              "color": "#E5ECF6",
              "width": 0.5
             }
            },
            "type": "barpolar"
           }
          ],
          "carpet": [
           {
            "aaxis": {
             "endlinecolor": "#2a3f5f",
             "gridcolor": "white",
             "linecolor": "white",
             "minorgridcolor": "white",
             "startlinecolor": "#2a3f5f"
            },
            "baxis": {
             "endlinecolor": "#2a3f5f",
             "gridcolor": "white",
             "linecolor": "white",
             "minorgridcolor": "white",
             "startlinecolor": "#2a3f5f"
            },
            "type": "carpet"
           }
          ],
          "choropleth": [
           {
            "colorbar": {
             "outlinewidth": 0,
             "ticks": ""
            },
            "type": "choropleth"
           }
          ],
          "contour": [
           {
            "colorbar": {
             "outlinewidth": 0,
             "ticks": ""
            },
            "colorscale": [
             [
              0,
              "#0d0887"
             ],
             [
              0.1111111111111111,
              "#46039f"
             ],
             [
              0.2222222222222222,
              "#7201a8"
             ],
             [
              0.3333333333333333,
              "#9c179e"
             ],
             [
              0.4444444444444444,
              "#bd3786"
             ],
             [
              0.5555555555555556,
              "#d8576b"
             ],
             [
              0.6666666666666666,
              "#ed7953"
             ],
             [
              0.7777777777777778,
              "#fb9f3a"
             ],
             [
              0.8888888888888888,
              "#fdca26"
             ],
             [
              1,
              "#f0f921"
             ]
            ],
            "type": "contour"
           }
          ],
          "contourcarpet": [
           {
            "colorbar": {
             "outlinewidth": 0,
             "ticks": ""
            },
            "type": "contourcarpet"
           }
          ],
          "heatmap": [
           {
            "colorbar": {
             "outlinewidth": 0,
             "ticks": ""
            },
            "colorscale": [
             [
              0,
              "#0d0887"
             ],
             [
              0.1111111111111111,
              "#46039f"
             ],
             [
              0.2222222222222222,
              "#7201a8"
             ],
             [
              0.3333333333333333,
              "#9c179e"
             ],
             [
              0.4444444444444444,
              "#bd3786"
             ],
             [
              0.5555555555555556,
              "#d8576b"
             ],
             [
              0.6666666666666666,
              "#ed7953"
             ],
             [
              0.7777777777777778,
              "#fb9f3a"
             ],
             [
              0.8888888888888888,
              "#fdca26"
             ],
             [
              1,
              "#f0f921"
             ]
            ],
            "type": "heatmap"
           }
          ],
          "heatmapgl": [
           {
            "colorbar": {
             "outlinewidth": 0,
             "ticks": ""
            },
            "colorscale": [
             [
              0,
              "#0d0887"
             ],
             [
              0.1111111111111111,
              "#46039f"
             ],
             [
              0.2222222222222222,
              "#7201a8"
             ],
             [
              0.3333333333333333,
              "#9c179e"
             ],
             [
              0.4444444444444444,
              "#bd3786"
             ],
             [
              0.5555555555555556,
              "#d8576b"
             ],
             [
              0.6666666666666666,
              "#ed7953"
             ],
             [
              0.7777777777777778,
              "#fb9f3a"
             ],
             [
              0.8888888888888888,
              "#fdca26"
             ],
             [
              1,
              "#f0f921"
             ]
            ],
            "type": "heatmapgl"
           }
          ],
          "histogram": [
           {
            "marker": {
             "colorbar": {
              "outlinewidth": 0,
              "ticks": ""
             }
            },
            "type": "histogram"
           }
          ],
          "histogram2d": [
           {
            "colorbar": {
             "outlinewidth": 0,
             "ticks": ""
            },
            "colorscale": [
             [
              0,
              "#0d0887"
             ],
             [
              0.1111111111111111,
              "#46039f"
             ],
             [
              0.2222222222222222,
              "#7201a8"
             ],
             [
              0.3333333333333333,
              "#9c179e"
             ],
             [
              0.4444444444444444,
              "#bd3786"
             ],
             [
              0.5555555555555556,
              "#d8576b"
             ],
             [
              0.6666666666666666,
              "#ed7953"
             ],
             [
              0.7777777777777778,
              "#fb9f3a"
             ],
             [
              0.8888888888888888,
              "#fdca26"
             ],
             [
              1,
              "#f0f921"
             ]
            ],
            "type": "histogram2d"
           }
          ],
          "histogram2dcontour": [
           {
            "colorbar": {
             "outlinewidth": 0,
             "ticks": ""
            },
            "colorscale": [
             [
              0,
              "#0d0887"
             ],
             [
              0.1111111111111111,
              "#46039f"
             ],
             [
              0.2222222222222222,
              "#7201a8"
             ],
             [
              0.3333333333333333,
              "#9c179e"
             ],
             [
              0.4444444444444444,
              "#bd3786"
             ],
             [
              0.5555555555555556,
              "#d8576b"
             ],
             [
              0.6666666666666666,
              "#ed7953"
             ],
             [
              0.7777777777777778,
              "#fb9f3a"
             ],
             [
              0.8888888888888888,
              "#fdca26"
             ],
             [
              1,
              "#f0f921"
             ]
            ],
            "type": "histogram2dcontour"
           }
          ],
          "mesh3d": [
           {
            "colorbar": {
             "outlinewidth": 0,
             "ticks": ""
            },
            "type": "mesh3d"
           }
          ],
          "parcoords": [
           {
            "line": {
             "colorbar": {
              "outlinewidth": 0,
              "ticks": ""
             }
            },
            "type": "parcoords"
           }
          ],
          "pie": [
           {
            "automargin": true,
            "type": "pie"
           }
          ],
          "scatter": [
           {
            "marker": {
             "colorbar": {
              "outlinewidth": 0,
              "ticks": ""
             }
            },
            "type": "scatter"
           }
          ],
          "scatter3d": [
           {
            "line": {
             "colorbar": {
              "outlinewidth": 0,
              "ticks": ""
             }
            },
            "marker": {
             "colorbar": {
              "outlinewidth": 0,
              "ticks": ""
             }
            },
            "type": "scatter3d"
           }
          ],
          "scattercarpet": [
           {
            "marker": {
             "colorbar": {
              "outlinewidth": 0,
              "ticks": ""
             }
            },
            "type": "scattercarpet"
           }
          ],
          "scattergeo": [
           {
            "marker": {
             "colorbar": {
              "outlinewidth": 0,
              "ticks": ""
             }
            },
            "type": "scattergeo"
           }
          ],
          "scattergl": [
           {
            "marker": {
             "colorbar": {
              "outlinewidth": 0,
              "ticks": ""
             }
            },
            "type": "scattergl"
           }
          ],
          "scattermapbox": [
           {
            "marker": {
             "colorbar": {
              "outlinewidth": 0,
              "ticks": ""
             }
            },
            "type": "scattermapbox"
           }
          ],
          "scatterpolar": [
           {
            "marker": {
             "colorbar": {
              "outlinewidth": 0,
              "ticks": ""
             }
            },
            "type": "scatterpolar"
           }
          ],
          "scatterpolargl": [
           {
            "marker": {
             "colorbar": {
              "outlinewidth": 0,
              "ticks": ""
             }
            },
            "type": "scatterpolargl"
           }
          ],
          "scatterternary": [
           {
            "marker": {
             "colorbar": {
              "outlinewidth": 0,
              "ticks": ""
             }
            },
            "type": "scatterternary"
           }
          ],
          "surface": [
           {
            "colorbar": {
             "outlinewidth": 0,
             "ticks": ""
            },
            "colorscale": [
             [
              0,
              "#0d0887"
             ],
             [
              0.1111111111111111,
              "#46039f"
             ],
             [
              0.2222222222222222,
              "#7201a8"
             ],
             [
              0.3333333333333333,
              "#9c179e"
             ],
             [
              0.4444444444444444,
              "#bd3786"
             ],
             [
              0.5555555555555556,
              "#d8576b"
             ],
             [
              0.6666666666666666,
              "#ed7953"
             ],
             [
              0.7777777777777778,
              "#fb9f3a"
             ],
             [
              0.8888888888888888,
              "#fdca26"
             ],
             [
              1,
              "#f0f921"
             ]
            ],
            "type": "surface"
           }
          ],
          "table": [
           {
            "cells": {
             "fill": {
              "color": "#EBF0F8"
             },
             "line": {
              "color": "white"
             }
            },
            "header": {
             "fill": {
              "color": "#C8D4E3"
             },
             "line": {
              "color": "white"
             }
            },
            "type": "table"
           }
          ]
         },
         "layout": {
          "annotationdefaults": {
           "arrowcolor": "#2a3f5f",
           "arrowhead": 0,
           "arrowwidth": 1
          },
          "coloraxis": {
           "colorbar": {
            "outlinewidth": 0,
            "ticks": ""
           }
          },
          "colorscale": {
           "diverging": [
            [
             0,
             "#8e0152"
            ],
            [
             0.1,
             "#c51b7d"
            ],
            [
             0.2,
             "#de77ae"
            ],
            [
             0.3,
             "#f1b6da"
            ],
            [
             0.4,
             "#fde0ef"
            ],
            [
             0.5,
             "#f7f7f7"
            ],
            [
             0.6,
             "#e6f5d0"
            ],
            [
             0.7,
             "#b8e186"
            ],
            [
             0.8,
             "#7fbc41"
            ],
            [
             0.9,
             "#4d9221"
            ],
            [
             1,
             "#276419"
            ]
           ],
           "sequential": [
            [
             0,
             "#0d0887"
            ],
            [
             0.1111111111111111,
             "#46039f"
            ],
            [
             0.2222222222222222,
             "#7201a8"
            ],
            [
             0.3333333333333333,
             "#9c179e"
            ],
            [
             0.4444444444444444,
             "#bd3786"
            ],
            [
             0.5555555555555556,
             "#d8576b"
            ],
            [
             0.6666666666666666,
             "#ed7953"
            ],
            [
             0.7777777777777778,
             "#fb9f3a"
            ],
            [
             0.8888888888888888,
             "#fdca26"
            ],
            [
             1,
             "#f0f921"
            ]
           ],
           "sequentialminus": [
            [
             0,
             "#0d0887"
            ],
            [
             0.1111111111111111,
             "#46039f"
            ],
            [
             0.2222222222222222,
             "#7201a8"
            ],
            [
             0.3333333333333333,
             "#9c179e"
            ],
            [
             0.4444444444444444,
             "#bd3786"
            ],
            [
             0.5555555555555556,
             "#d8576b"
            ],
            [
             0.6666666666666666,
             "#ed7953"
            ],
            [
             0.7777777777777778,
             "#fb9f3a"
            ],
            [
             0.8888888888888888,
             "#fdca26"
            ],
            [
             1,
             "#f0f921"
            ]
           ]
          },
          "colorway": [
           "#636efa",
           "#EF553B",
           "#00cc96",
           "#ab63fa",
           "#FFA15A",
           "#19d3f3",
           "#FF6692",
           "#B6E880",
           "#FF97FF",
           "#FECB52"
          ],
          "font": {
           "color": "#2a3f5f"
          },
          "geo": {
           "bgcolor": "white",
           "lakecolor": "white",
           "landcolor": "#E5ECF6",
           "showlakes": true,
           "showland": true,
           "subunitcolor": "white"
          },
          "hoverlabel": {
           "align": "left"
          },
          "hovermode": "closest",
          "mapbox": {
           "style": "light"
          },
          "paper_bgcolor": "white",
          "plot_bgcolor": "#E5ECF6",
          "polar": {
           "angularaxis": {
            "gridcolor": "white",
            "linecolor": "white",
            "ticks": ""
           },
           "bgcolor": "#E5ECF6",
           "radialaxis": {
            "gridcolor": "white",
            "linecolor": "white",
            "ticks": ""
           }
          },
          "scene": {
           "xaxis": {
            "backgroundcolor": "#E5ECF6",
            "gridcolor": "white",
            "gridwidth": 2,
            "linecolor": "white",
            "showbackground": true,
            "ticks": "",
            "zerolinecolor": "white"
           },
           "yaxis": {
            "backgroundcolor": "#E5ECF6",
            "gridcolor": "white",
            "gridwidth": 2,
            "linecolor": "white",
            "showbackground": true,
            "ticks": "",
            "zerolinecolor": "white"
           },
           "zaxis": {
            "backgroundcolor": "#E5ECF6",
            "gridcolor": "white",
            "gridwidth": 2,
            "linecolor": "white",
            "showbackground": true,
            "ticks": "",
            "zerolinecolor": "white"
           }
          },
          "shapedefaults": {
           "line": {
            "color": "#2a3f5f"
           }
          },
          "ternary": {
           "aaxis": {
            "gridcolor": "white",
            "linecolor": "white",
            "ticks": ""
           },
           "baxis": {
            "gridcolor": "white",
            "linecolor": "white",
            "ticks": ""
           },
           "bgcolor": "#E5ECF6",
           "caxis": {
            "gridcolor": "white",
            "linecolor": "white",
            "ticks": ""
           }
          },
          "title": {
           "x": 0.05
          },
          "xaxis": {
           "automargin": true,
           "gridcolor": "white",
           "linecolor": "white",
           "ticks": "",
           "title": {
            "standoff": 15
           },
           "zerolinecolor": "white",
           "zerolinewidth": 2
          },
          "yaxis": {
           "automargin": true,
           "gridcolor": "white",
           "linecolor": "white",
           "ticks": "",
           "title": {
            "standoff": 15
           },
           "zerolinecolor": "white",
           "zerolinewidth": 2
          }
         }
        },
        "title": {
         "text": "3d TSNE Plot for Outliers"
        },
        "width": 900
       }
      },
      "text/html": [
       "<div>\n",
       "        \n",
       "        \n",
       "            <div id=\"e8e8015e-8afe-498e-b72f-e57515d021e5\" class=\"plotly-graph-div\" style=\"height:800px; width:900px;\"></div>\n",
       "            <script type=\"text/javascript\">\n",
       "                require([\"plotly\"], function(Plotly) {\n",
       "                    window.PLOTLYENV=window.PLOTLYENV || {};\n",
       "                    \n",
       "                if (document.getElementById(\"e8e8015e-8afe-498e-b72f-e57515d021e5\")) {\n",
       "                    Plotly.newPlot(\n",
       "                        'e8e8015e-8afe-498e-b72f-e57515d021e5',\n",
       "                        [{\"customdata\": [[0.263995357], [0.546092303], [0.33671410399999996], [0.092107835], [0.325261175], [0.212464853], [0.258565714], [0.869236755], [0.197077957], [0.292984504], [0.82178316], [0.796622959], [0.045577010999999994], [0.613660351], [0.9507445659999999], [0.33634633700000005], [0.034440667], [0.741544275], [0.18443265], [0.664514943], [0.16282485800000002], [0.729838445], [0.62837389], [0.057883660999999996], [0.445534827], [0.80183695], [0.27709612], [0.228634015], [0.834860657], [0.6697665110000001], [0.532527349], [0.17045907100000002], [0.5102884679999999], [0.977561989], [0.249775993], [0.9755006820000001], [0.613701727], [0.16742036300000002], [0.537472516], [0.379899131], [0.633897303], [0.633960424], [0.5499746529999999], [0.178172988], [0.85563814], [0.321796672], [0.8174905370000001], [0.254879417], [0.344140513], [0.8061457259999999], [0.27708167100000003], [0.544328519], [0.07708393], [0.273081458], [0.390877336], [0.349621385], [0.214549744], [0.206075222], [0.86461997], [0.9817088540000001], [0.33482964600000004], [0.648387061], [0.093643561], [0.837802698], [0.7603439670000001], [0.29140417399999996], [0.3413454], [0.7611124840000001], [0.541899775], [0.684176639], [0.983535597], [0.52081245], [0.328227724], [0.09715793800000001], [0.876088593], [0.870214512], [0.656086992], [0.306791514], [0.48126734], [0.259559174], [0.326123655], [0.930568042], [0.6583894], [0.689992335], [0.315781109], [0.5669050929999999], [0.637526619], [0.687540723], [0.324300602], [0.592704906], [0.7402531259999999], [0.5940328770000001], [0.596452977], [0.27768081699999997], [0.258329663], [0.142460864], [0.435533461], [0.7024990440000001], [0.58897535], [0.653304374], [0.336968524], [0.631244736], [0.73530076], [0.050390366], [0.064264924], [0.665359476], [0.917835245], [0.44651012], [0.661938199], [0.43935985299999997], [0.6875724040000001], [0.363462248], [0.6542621820000001], [0.578553536], [0.065927945], [0.550148559], [0.13918281400000002], [0.080004635], [0.278228358], [0.560124266], [0.53639864], [0.42653190399999996], [0.789109796], [0.742900474], [0.901692589], [0.650337401], [0.114057311], [0.260812592], [0.43991232], [0.964409284], [0.184401415], [0.345145446], [0.17589458100000002], [0.312514453], [0.674131879], [0.32825045], [0.598231057], [0.09259881699999999], [0.497916521], [0.419776521], [0.31217670000000003], [0.937857107], [0.049030963], [0.47610452600000003], [0.447397526], [0.295806058], [0.737363977], [0.625896253], [0.408813429], [0.437511156], [0.691351375], [0.935555275], [0.437846654], [0.072217715], [0.67636067], [0.468883999], [0.543820644], [0.6555226470000001], [0.6935289240000001], [0.10887831199999999], [0.285463743], [0.0], [0.706495497], [0.273530633], [0.292320271], [0.673984307], [0.12612182800000002], [0.9467074590000001], [0.9363388979999999], [0.8537553640000001], [0.7060713609999999], [0.693682186], [0.508527882], [0.34717038899999997], [0.704154263], [0.658730088], [0.155841557], [0.311085435], [0.281135347], [0.094587802], [0.6832609540000001], [0.9077292509999999], [0.29151267399999997], [0.752734459], [0.93482964], [0.071413953], [0.5948963270000001], [0.404672015], [0.13837621], [0.7473384679999999], [0.530882486], [0.282649594], [0.699335734], [0.056111250999999994], [0.855234998], [0.07789512700000001], [0.891649583], [0.38674227899999997], [0.27113158], [0.958888961], [0.085120869], [0.5269022489999999], [0.066577785], [0.841506738], [0.255342095], [0.060545771], [0.073385869], [0.187493723], [0.858365688], [0.090640352], [0.7097252270000001], [0.631300647], [0.24750447399999997], [0.822843584], [0.373476759], [0.625538582], [0.292951715], [0.299730324], [0.25121407], [0.344480551], [0.293064767], [0.7628032240000001], [0.7384708040000001], [0.674883265], [0.719151612], [0.13098021599999998], [0.511328036], [0.04492903], [0.560914449], [0.7440406409999999], [0.266961634], [0.644231853], [0.038113352], [0.05715529900000001], [0.34139246100000004], [0.7204636320000001], [0.402878236], [0.635148967], [0.320729467], [0.09120969400000001], [0.23414609], [0.8902211309999999], [0.602170884], [0.633652055], [0.806240837], [0.739731184], [0.465231269], [0.7321109], [0.373874305], [0.501587947], [0.11538315800000001], [0.7319466040000001], [0.41829872799999995], [0.062259590999999996], [0.391496379], [0.35984929], [0.24523562699999998], [0.610028339], [0.43540360200000006], [0.434309675], [0.523763344], [0.17118786600000002], [0.18773430300000002], [0.945014638], [0.027851097000000002], [0.68445706], [0.178014532], [0.643427879], [0.59588355], [0.372361682], [0.586103584], [0.271658852], [0.59951107], [0.468363088], [0.314515565], [0.21893726], [0.254716562], [0.25612815], [0.602259755], [0.134381075], [0.513887424], [0.624241636], [0.160251854], [0.580708108], [0.270540486], [0.832919932], [0.93032134], [0.719157884], [0.886720033], [0.098792281], [0.787174286], [0.365592376], [0.719576193], [0.8058956], [0.7555783340000001], [0.526005909], [0.68880424], [0.22111531199999998], [0.739369477], [0.408440236], [0.348926542], [0.433713763], [0.5964966070000001], [0.6942953000000001], [0.7090309659999999], [0.867652984], [0.89332545], [0.746020922], [0.538284443], [0.8922193140000001], [0.935175765], [0.260527707], [0.956780449], [0.204932484], [0.687733351], [0.329063619], [0.632149831], [0.463744506], [0.698859621], [0.385446564], [0.47997537700000004], [0.732279108], [0.3813543], [0.459326013], [0.257401434], [0.665014804], [0.103399542], [0.425284413], [0.943529051], [0.594750236], [0.543776817], [0.18203988], [0.23584208399999998], [0.585984497], [0.762013168], [0.6849829070000001], [0.676936933], [0.290184964], [0.48106822200000005], [0.492766033], [0.22185623399999999], [0.053875998], [0.082751144], [0.385366225], [0.702513961], [0.91553156], [0.082087436], [0.251280378], [0.41672181700000005], [0.277032672], [0.579539754], [0.569363476], [0.133399703], [0.265045463], [0.936571901], [0.252618554], [0.054033081], [0.802481439], [0.528197693], [0.9515026], [0.572121173], [0.752938227], [0.143857535], [0.513484576], [0.313322389], [0.6877973959999999], [0.37705984], [0.348226142], [0.67763282], [0.24138752100000002], [0.8506501790000001], [0.22034810300000002], [0.476445464], [0.690324025], [0.364695946], [0.6492491970000001], [0.9437019209999999], [0.529645971], [0.299097002], [0.96696247], [0.272005242], [0.314161447], [0.752020991], [0.221882453], [0.7203326729999999], [0.379204782], [0.60168653], [0.582932673], [0.950809853], [0.58830141], [0.880887227], [0.467857701], [0.8799021709999999], [0.619844009], [0.359002573], [0.291511278], [0.694157143], [0.727960353], [0.617703921], [0.39581257], [0.58317282], [0.710332374], [0.253753693], [0.049412227999999996], [0.728378695], [0.432432881], [0.58612345], [0.052342373], [0.053483902], [0.518729378], [0.933040208], [0.7035542840000001], [0.268989899], [0.733006927], [0.44435246700000003], [0.5833946210000001], [0.871172692], [0.42876707799999997], [0.30046084100000003], [0.9533294590000001], [0.606443965], [0.90986815], [0.714896449], [0.49734950899999997], [0.8530974859999999], [0.721804145], [0.303467328], [0.664485096], [0.27978062], [0.569481665], [0.628628926], [0.088368123], [0.733567326], [0.537436778], [0.638593691], [0.954726948], [0.632202332], [0.642134651], [0.744653087], [0.115714007], [0.48625007299999995], [0.440356144], [0.08272289], [0.511591027], [0.394627555], [0.224394], [0.626927584], [0.290254057], [0.779008053], [0.86610579], [0.873326081], [0.49548916], [0.594297695], [0.9182015840000001], [0.5770427539999999], [0.019467671000000002], [0.6702982820000001], [0.546595316], [0.591665146], [0.42155819], [0.6856085590000001], [0.340303024], [0.675626741], [0.319067345], [0.38849966399999997], [0.706949589], [0.559409515], [0.687663508], [0.7088045540000001], [0.6818880940000001], [0.42253510899999996], [0.320004605], [0.6582813679999999], [0.634154867], [0.7773320090000001], [0.812677205], [0.074280797], [0.39600217], [0.054933913], [0.825058925], [0.382642009], [0.8687298179999999], [0.588043346], [0.891551577], [0.10920046], [0.647682781], [0.724342512], [0.07016304400000001], [0.280882054], [0.039113261], [0.579641592], [0.639000922], [0.281745925], [0.647857744], [0.6479057970000001], [0.875226264], [0.567603305], [0.262940591], [0.268026042], [0.40519133], [0.479965451], [0.33552403], [0.777165379], [0.42548796299999997], [0.237986115], [0.142522971], [0.724176488], [0.234698933], [0.07818228099999999], [0.855990155], [0.270251765], [0.435517841], [0.762697513], [0.46448725799999996], [0.396112685], [0.37638092100000003], [0.29459467699999997], [0.6944921209999999], [0.622767949], [0.8475597220000001], [0.301463054], [0.912937812], [0.500017182], [0.902587935], [0.304517943], [0.299165673], [0.092014087], [0.488548917], [0.664664437], [0.26534954899999996], [0.723657021], [0.149262385], [0.04577339], [0.69661064], [0.42181486], [0.733845785], [0.418795386], [0.677443529], [0.26128360300000003], [0.268527767], [0.5443222360000001], [0.431632036], [0.981018141], [0.21498072399999998], [0.39472999299999995], [0.122224944], [0.297496875], [0.37490443100000004], [0.68698771], [0.388549207], [0.039296071], [0.73553424], [0.37929489299999997], [0.7321233859999999], [0.33922143899999996], [0.659450594], [0.054838642], [0.640112102], [0.30714170399999996], [0.39661190700000004], [0.420439161], [0.24171497399999997], [0.065893153], [0.9105219370000001], [0.697163103], [0.072559853], [0.81825094], [0.311888815], [0.961644609], [0.816325524], [0.14647302], [0.548753945], [0.946158087], [0.293992717], [0.331479643], [0.9062200309999999], [0.525540416], [0.83301411], [0.514849806], [0.574609024], [0.46871185299999996], [0.71002775], [0.645973276], [0.229794416], [0.551783393], [0.055822990999999995], [0.331750941], [0.715520198], [0.583924357], [0.30695769100000003], [0.7914782370000001], [0.16423663900000002], [0.065711219], [0.948993132], [0.080423835], [0.052495426], [0.566346135], [0.3630266], [0.605442195], [0.6308505839999999], [0.065791238], [0.28681707100000003], [0.685462839], [0.260853706], [0.659122429], [0.44317392200000005], [0.602063986], [0.060366910999999995], [0.781903153], [0.5145798070000001], [0.48388621299999995], [0.600213807], [0.49736405200000006], [0.411145245], [0.116999171], [0.34189014100000004], [0.746950848], [0.39629274600000003], [0.6221438429999999], [0.335271141], [0.140257137], [0.081620681], [0.069837569], [0.46894000799999996], [0.9908574170000001], [0.896616832], [0.255310561], [0.22464526699999998], [0.01991825], [0.296480415], [0.155458996], [0.577916714], [0.9563030309999999], [0.813464394], [0.529675785], [0.287671353], [0.48039136], [0.28104482199999997], [0.633196521], [0.09332537699999999], [0.28447398100000004], [0.052223775], [0.051129385], [0.967405608], [0.040045727999999996], [0.9085829209999999], [0.6621174160000001], [0.42470320899999997], [0.72207806], [0.666193327], [0.509681253], [0.7513536209999999], [0.279073124], [0.074927], [0.916359535], [0.31040327], [0.716604052], [0.485587085], [0.30607518100000003], [0.477558204], [0.7119239409999999], [0.066348638], [0.27453935100000004], [0.31082252], [0.47607312700000004], [0.186795565], [0.26654207], [0.070231142], [0.26951927], [0.800004713], [0.27363366699999997], [0.14647919199999998], [0.378318951], [0.373849065], [0.242170835], [0.249796488], [0.066591188], [0.372956798], [0.501812291], [0.313097752], [0.8802021959999999], [0.51981893], [0.364138746], [0.49268289600000004], [0.285732652], [0.890114985], [0.316419561], [0.26866354], [0.771975959], [0.968888992], [0.080334377], [0.7368282209999999], [0.30055807100000004], [0.9179503929999999], [0.465815039], [0.054036682], [0.963150123], [0.08965350300000001], [0.7076932340000001], [0.636416037], [0.539521117], [0.114757161], [0.357312419], [0.67639834], [0.43482839], [0.032326387000000005], [0.711365605], [0.187486519], [0.052789653], [0.5058636129999999], [0.927431873], [0.6809842559999999], [0.882822186], [0.495705441], [0.596240398], [0.320610701], [0.3413685], [0.159681797], [0.318133669], [0.8393010479999999], [0.06435925099999999], [0.470216633], [0.7762522909999999], [0.635843383], [0.62510543], [0.52959065], [0.986900166], [0.078585688], [0.233284267], [0.363330957], [0.7167169809999999], [0.37588979200000006], [0.223316889], [0.299343986], [0.538595767], [0.730297124], [0.66033077], [0.435296009], [0.326494313], [0.854402708], [0.5734938470000001], [0.757786135], [0.704743233], [0.281575597], [0.671968208], [0.313726015], [0.364338275], [0.368216396], [0.38629520700000003], [0.655971865], [0.5660252729999999], [0.424999093], [0.090110371], [0.772350538], [0.331047258], [0.273716188], [0.23877568], [0.37307977200000003], [0.331185868], [0.256134531], [0.678373225], [0.43463833799999996], [0.654668307], [0.986681065], [0.371520495], [0.408359618], [0.40932365], [0.283412082], [0.395246531], [0.010984428000000001], [0.306013869], [0.266194806], [0.299318521], [0.318293946], [0.74282591], [0.09766432900000001], [0.079666942], [0.613258767], [0.99443072], [0.568835082], [0.7080345159999999], [0.37059271899999996], [0.669867361], [0.651295625], [0.462531569], [0.7196256190000001], [0.45377248], [0.394863946], [0.323974831], [0.146454724], [0.7790670409999999], [0.401828915], [0.601479585], [0.856423023], [0.565242962], [0.301225108], [0.282108144], [0.594378011], [0.705312368], [0.5408696279999999], [0.319249574], [0.36176613799999996], [0.625000704], [0.316287401], [0.047239021], [0.801182233], [0.508474436], [0.8178934109999999], [0.399235601], [0.9740519990000001], [0.72241535], [0.039564764], [0.908684108], [0.47301013399999997], [0.7180496279999999], [0.7634790690000001], [0.6475965370000001], [0.8949973859999999], [0.22282590100000002], [0.359012234], [0.944910252], [0.297877816], [0.172517997], [0.556586265], [0.876481735], [0.48667784299999994], [0.459496733], [0.47412637700000004], [0.70101144], [0.337597387], [0.537578886], [0.966992448], [0.056849545], [0.233249065], [0.380054711], [0.602929443], [0.303847999], [0.170194553], [0.972168554], [0.332168927], [0.6887286890000001], [0.110773401], [0.273352065], [0.572939678], [0.491457065], [0.281389999], [0.821697261], [0.6749776829999999], [0.585134549], [0.7105961159999999], [0.040488789], [0.568054311], [0.321752928], [0.611850232], [0.926096887], [0.618347428], [0.667629785], [0.39773346600000004], [0.290875487], [0.594375103], [0.508255233], [0.338571357], [0.43230234700000003], [0.302221978], [0.87619819], [0.080204492], [0.092333532], [0.09365644699999999], [0.6084523510000001], [0.732654598], [0.944158855], [0.26742308], [0.731124201], [0.661308553], [0.38776626200000003], [0.962585273], [0.322067067], [0.6340810929999999], [0.475345002], [0.35355897299999994], [0.8859363159999999], [0.876798106], [0.221581064], [0.394362449], [0.8050356759999999], [0.452898486], [0.592520516], [0.761026394], [0.245049023], [0.37213936299999995], [0.681054822], [0.7471431479999999], [0.9207395290000001], [0.097207945], [0.699302998], [0.721647006], [0.5353561139999999], [0.738293805], [0.7064675509999999], [0.67395061], [0.7112122909999999], [0.302558708], [0.080097855], [0.707010837], [0.512248622], [0.659627472], [0.657559694], [0.100645606], [0.92665363], [0.892879338], [0.839157508], [0.890959718], [0.556754471], [0.960361937], [0.631037864], [0.029838065], [0.278843351], [0.926157705], [0.551504258], [0.485942349], [0.43723469600000003], [0.25231801800000003], [0.515466972], [0.43725229600000004], [0.493724207], [0.83324725], [0.317521477], [0.28623456199999997], [0.726833965], [0.495667033], [0.028645255], [0.31967191699999997], [0.674344598], [0.7660371890000001], [0.65456992], [0.7565143809999999], [0.528253719], [0.38971949100000003], [0.355087459], [0.87015202], [0.7390833059999999], [0.305761846], [0.411587673], [0.063633094], [0.735409395], [0.605916669], [0.539395562], [0.566183532], [0.674795186], [0.070993366], [0.12526410000000002], [0.279601492], [0.952174402], [0.233806762], [0.43724742899999997], [0.925423095], [0.433498634], [0.52517902], [0.088435529], [0.447677638], [0.647000631], [0.9036033370000001], [0.265790738], [0.66419695], [0.498120658], [0.49018894399999996], [0.747084187], [0.906783648], [0.678770917], [0.348599859], [0.294839683], [0.705691827], [0.211917931], [0.063201124], [0.276699543], [0.672459395], [0.8082059490000001], [0.296538373], [0.16012686199999998], [0.439385032], [0.555951416], [0.386240112], [0.158689619], [0.214499855], [0.299579429], [0.569161656], [0.488614799], [0.8782950209999999], [0.649380949], [0.465713341], [0.16813774], [0.87529545], [0.8411323409999999], [0.33292081], [0.5130478589999999], [0.30505507800000004], [0.8126269909999999], [0.25096706], [0.5024355779999999], [0.45799074100000003]], \"hoverlabel\": {\"namelength\": 0}, \"hovertemplate\": \"0=%{x}<br>1=%{y}<br>2=%{z}<br>Feature=%{customdata[0]}<br>Label=%{marker.color}\", \"legendgroup\": \"\", \"marker\": {\"color\": [0, 0, 1, 1, 0, 0, 0, 0, 1, 1, 0, 1, 0, 1, 1, 1, 0, 1, 1, 0, 1, 0, 0, 1, 1, 1, 0, 0, 1, 1, 0, 0, 1, 1, 0, 0, 1, 0, 0, 0, 0, 0, 0, 1, 0, 1, 1, 0, 1, 0, 0, 1, 0, 1, 1, 1, 1, 0, 0, 1, 0, 1, 0, 1, 0, 1, 0, 0, 0, 0, 0, 0, 0, 0, 0, 0, 0, 0, 0, 0, 0, 0, 0, 0, 0, 0, 0, 0, 0, 0, 0, 0, 0, 0, 0, 0, 0, 0, 0, 0, 0, 0, 0, 0, 0, 0, 0, 0, 0, 0, 0, 0, 0, 0, 0, 0, 0, 0, 0, 0, 0, 0, 0, 0, 0, 0, 0, 0, 0, 0, 0, 0, 0, 0, 0, 0, 0, 0, 0, 0, 0, 0, 0, 0, 0, 0, 0, 0, 0, 0, 0, 0, 0, 0, 0, 0, 0, 0, 0, 0, 0, 0, 0, 0, 0, 0, 0, 0, 0, 0, 0, 0, 0, 0, 0, 0, 0, 0, 0, 0, 0, 0, 0, 0, 0, 0, 0, 0, 0, 0, 0, 0, 0, 0, 0, 0, 0, 0, 0, 0, 0, 0, 0, 0, 0, 0, 0, 0, 0, 0, 0, 0, 0, 0, 0, 0, 0, 0, 0, 0, 0, 0, 0, 0, 0, 0, 0, 0, 0, 0, 0, 0, 0, 0, 0, 0, 0, 0, 0, 0, 0, 0, 0, 0, 0, 0, 0, 0, 0, 0, 0, 0, 0, 0, 0, 0, 0, 0, 0, 0, 0, 0, 0, 0, 0, 0, 0, 0, 0, 0, 0, 0, 0, 0, 0, 0, 0, 0, 0, 0, 0, 0, 0, 0, 0, 0, 0, 0, 0, 0, 0, 0, 0, 0, 0, 0, 0, 0, 0, 0, 0, 0, 0, 0, 0, 0, 0, 0, 0, 0, 0, 0, 0, 0, 0, 0, 0, 0, 0, 0, 0, 0, 0, 0, 0, 0, 0, 0, 0, 0, 0, 0, 0, 0, 0, 0, 0, 0, 0, 0, 0, 0, 0, 0, 0, 0, 0, 0, 0, 0, 0, 0, 0, 0, 0, 0, 0, 0, 0, 0, 0, 0, 0, 0, 0, 0, 0, 0, 0, 0, 0, 0, 0, 0, 0, 0, 0, 0, 0, 0, 0, 0, 0, 0, 0, 0, 0, 0, 0, 0, 0, 0, 0, 0, 0, 0, 0, 0, 0, 0, 0, 0, 0, 0, 0, 0, 0, 0, 0, 0, 0, 0, 0, 0, 0, 0, 0, 0, 0, 0, 0, 0, 0, 0, 0, 0, 0, 0, 0, 0, 0, 0, 0, 0, 0, 0, 0, 0, 0, 0, 0, 0, 0, 0, 0, 0, 0, 0, 0, 0, 0, 0, 0, 0, 0, 0, 0, 0, 0, 0, 0, 0, 0, 0, 0, 0, 0, 0, 0, 0, 0, 0, 0, 0, 0, 0, 0, 0, 0, 0, 0, 0, 0, 0, 0, 0, 0, 0, 0, 0, 0, 0, 0, 0, 0, 0, 0, 0, 0, 0, 0, 0, 0, 0, 0, 0, 0, 0, 0, 0, 0, 0, 0, 0, 0, 0, 0, 0, 0, 0, 0, 0, 0, 0, 0, 0, 0, 0, 0, 0, 0, 0, 0, 0, 0, 0, 0, 0, 0, 0, 0, 0, 0, 0, 0, 0, 0, 0, 0, 0, 0, 0, 0, 0, 0, 0, 0, 0, 0, 0, 0, 0, 0, 0, 0, 0, 0, 0, 0, 0, 0, 0, 0, 0, 0, 0, 0, 0, 0, 0, 0, 0, 0, 0, 0, 0, 0, 0, 0, 0, 0, 0, 0, 0, 0, 0, 0, 0, 0, 0, 0, 0, 0, 0, 0, 0, 0, 0, 0, 0, 0, 0, 0, 0, 0, 0, 0, 0, 0, 0, 0, 0, 0, 0, 0, 0, 0, 0, 0, 0, 0, 0, 0, 0, 0, 0, 0, 0, 0, 0, 0, 0, 0, 0, 0, 0, 0, 0, 0, 0, 0, 0, 0, 0, 0, 0, 0, 0, 0, 0, 0, 0, 0, 0, 0, 0, 0, 0, 0, 0, 0, 0, 0, 0, 0, 0, 0, 0, 0, 0, 0, 0, 0, 0, 0, 0, 0, 0, 0, 0, 0, 0, 0, 0, 0, 0, 0, 0, 0, 0, 1, 1, 0, 1, 0, 0, 0, 1, 1, 1, 1, 0, 1, 1, 1, 0, 1, 1, 1, 0, 1, 0, 1, 1, 1, 1, 0, 0, 0, 0, 0, 0, 0, 0, 0, 0, 0, 0, 0, 0, 0, 0, 0, 0, 0, 0, 0, 0, 0, 0, 0, 0, 0, 0, 0, 0, 0, 0, 0, 0, 0, 0, 0, 0, 0, 0, 0, 0, 0, 0, 0, 0, 0, 0, 0, 0, 0, 0, 0, 0, 0, 0, 0, 0, 0, 0, 0, 0, 0, 0, 0, 0, 0, 0, 0, 0, 0, 0, 0, 0, 0, 0, 0, 0, 0, 0, 0, 0, 0, 0, 0, 0, 0, 0, 0, 0, 0, 0, 0, 0, 0, 0, 0, 0, 0, 0, 0, 0, 0, 0, 0, 0, 0, 0, 0, 0, 0, 0, 0, 0, 0, 0, 0, 0, 0, 0, 0, 0, 0, 0, 0, 0, 0, 0, 0, 0, 0, 0, 0, 0, 0, 0, 0, 0, 0, 0, 0, 0, 0, 0, 0, 0, 0, 0, 0, 0, 0, 0, 0, 0, 0, 0, 0, 0, 0, 0, 0, 0, 0, 0, 0, 0, 0, 0, 0, 0, 0, 0, 0, 0, 0, 0, 0, 0, 0, 0, 0, 0, 0, 0, 0, 0, 0, 0, 0, 0, 0, 0, 0, 0, 0, 0, 0, 0, 0, 0, 0, 0, 0, 0, 0, 0, 0, 0, 0, 0, 0, 0, 0, 0, 0, 0, 0, 0, 0, 0, 0, 0, 0, 0, 0, 0, 0, 0, 0, 0, 0, 0, 0, 0, 0, 0, 0, 0, 0, 0, 0, 0, 0, 0, 0, 0, 0, 0, 0, 0, 0, 0, 0, 0, 0, 0, 0, 0, 0, 0, 0, 0, 0, 0, 0, 0, 0, 0, 0, 0, 0, 0, 0, 0], \"coloraxis\": \"coloraxis\", \"opacity\": 0.7, \"symbol\": \"circle\"}, \"mode\": \"markers\", \"name\": \"\", \"scene\": \"scene\", \"showlegend\": false, \"type\": \"scatter3d\", \"x\": [-7.308960437774658, 2.651458501815796, -7.5401997566223145, 2.2623510360717773, -11.461978912353516, 3.5587196350097656, 11.968085289001465, -1.0069663524627686, -3.181523323059082, 1.0299015045166016, 0.8620280623435974, -4.917171001434326, 6.388124465942383, -4.110226154327393, -6.585568904876709, 0.8518182039260864, 6.414509296417236, 2.9365434646606445, -6.663422107696533, -3.8178389072418213, 3.6984293460845947, -8.695667266845703, -4.803485870361328, -2.9407100677490234, -1.163902997970581, -8.06014633178711, -4.892563819885254, -3.566020965576172, -8.769463539123535, -4.6415605545043945, -2.436788558959961, 6.392758846282959, -5.852200031280518, -6.647714614868164, 3.718059778213501, -7.075074672698975, 9.153860092163086, -3.981686592102051, -9.879207611083984, 3.345630407333374, 8.035813331604004, -5.367666721343994, 7.516174793243408, -0.4740852415561676, -6.305166721343994, 1.3844023942947388, -6.891253471374512, -2.753917932510376, -4.8958659172058105, 10.748208045959473, 3.168830394744873, -5.671675205230713, 3.593620538711548, 1.4066636562347412, 3.5919172763824463, 10.698396682739258, 4.372041702270508, 6.23776912689209, -6.415272235870361, -4.416140079498291, 3.1844482421875, 1.229444146156311, -1.8378015756607056, -4.82823371887207, 10.621699333190918, -7.780335426330566, 12.23927116394043, 2.7287070751190186, -5.396336555480957, 0.24786129593849182, -6.371479511260986, -1.1731796264648438, -10.88017749786377, 4.027738094329834, -9.398847579956055, -5.355935096740723, -5.639106750488281, -2.5509018898010254, -5.343017101287842, -3.3089334964752197, -3.059239625930786, -6.085260391235352, -9.519845008850098, 0.6644526720046997, 8.237435340881348, 0.9647378325462341, 8.042744636535645, 11.318281173706055, 4.492591857910156, -8.900344848632812, -7.633817195892334, 1.752780556678772, 7.040104389190674, 12.682267189025879, 9.711881637573242, -3.34425950050354, 3.8217849731445312, 1.7971466779708862, -0.4887647032737732, -6.506691932678223, -9.915363311767578, 9.861706733703613, 1.157021164894104, 5.166656970977783, -1.5245323181152344, 1.4610551595687866, 2.208461046218872, 5.75532865524292, -9.185783386230469, -3.5541839599609375, -9.199645042419434, -11.482417106628418, 4.430379390716553, -3.886587619781494, -8.306499481201172, -6.658077239990234, 12.58885669708252, 13.072126388549805, 3.0203371047973633, 0.542675256729126, -6.062262058258057, 2.2957651615142822, 4.116275310516357, 7.6324591636657715, -2.5489563941955566, 3.406465768814087, 8.742888450622559, 0.9304704070091248, 7.328423023223877, 3.187267541885376, 4.893185138702393, 4.1144232749938965, 2.3348543643951416, 8.58828067779541, 9.497227668762207, -3.9657812118530273, -10.043618202209473, 1.5421688556671143, 3.9076011180877686, 0.4827668070793152, 3.391771078109741, -7.914602756500244, 5.577512264251709, -9.377019882202148, 0.9095329642295837, -0.6364807486534119, 0.07433415204286575, 11.263398170471191, 3.7108724117279053, -1.8128353357315063, -10.000701904296875, -6.106592178344727, 2.331796646118164, 6.710749626159668, -8.978279113769531, 3.2705917358398438, 10.376404762268066, 7.749880313873291, -8.509456634521484, 3.795048713684082, 11.488826751708984, 5.847832679748535, -5.282495021820068, -4.382701873779297, 1.6540558338165283, 8.307317733764648, 3.5491323471069336, -6.7445454597473145, -6.331876277923584, -1.7907154560089111, 2.8999266624450684, 0.8549270033836365, 0.34863990545272827, -9.283390045166016, -0.9655020833015442, 11.113363265991211, 2.438272476196289, -8.865859985351562, 4.701446533203125, 0.8917043805122375, 1.228651762008667, -1.8291609287261963, 6.193064212799072, -5.760448932647705, -6.654714584350586, 13.202821731567383, -3.2896251678466797, 4.866179466247559, -2.083878517150879, -5.8487348556518555, 10.552228927612305, -9.13339900970459, 1.5601284503936768, -8.739889144897461, 11.183103561401367, 11.548907279968262, 2.506258964538574, 5.534060955047607, -10.094204902648926, -2.4068613052368164, 2.630549907684326, -0.8077839016914368, 7.869753360748291, -9.16018295288086, -8.029781341552734, 7.019102096557617, -3.2691831588745117, 3.4315810203552246, -0.8616769909858704, 6.542399883270264, -0.4186757504940033, -1.5584796667099, -4.405214786529541, -7.758097171783447, 2.343862295150757, 2.3014562129974365, 5.796869277954102, -1.1123875379562378, -3.2537343502044678, 0.1499180942773819, -8.084576606750488, 4.666754722595215, -8.22036361694336, -7.952301979064941, 10.035449028015137, -2.802051544189453, 8.524359703063965, -1.8356276750564575, 9.168743133544922, 0.45796674489974976, 10.843873023986816, 7.659536361694336, 1.7411216497421265, 1.395704984664917, 2.8871614933013916, 4.231049537658691, 6.439154624938965, -5.182979583740234, 0.5354316830635071, -9.726922035217285, 3.694972038269043, 4.702552795410156, -8.432473182678223, 9.317012786865234, -2.3527698516845703, 10.034379959106445, -2.749105930328369, -5.167569160461426, 8.438333511352539, -11.203800201416016, 6.900906085968018, -1.4088077545166016, -1.1453737020492554, 5.49025821685791, 0.7640728950500488, -0.6489773392677307, -6.197915554046631, 10.920607566833496, 0.18847593665122986, 0.6134612560272217, -9.563397407531738, 4.398173809051514, -10.179004669189453, -0.012959935702383518, 6.321359157562256, 8.915033340454102, 0.5690276622772217, 10.279631614685059, -9.27706527709961, 4.765122890472412, 5.5330328941345215, 7.968362808227539, -5.348696708679199, -9.679057121276855, 2.6986870765686035, 7.393524169921875, -3.015371799468994, -9.001794815063477, 5.550897598266602, -1.844605565071106, 7.980018615722656, -9.540695190429688, -0.2977261245250702, -4.591243267059326, -7.730674743652344, 6.04625129699707, 2.6700832843780518, 4.760810375213623, 9.835346221923828, -9.659296989440918, -9.768033027648926, 6.927391052246094, 1.9648804664611816, 5.583621025085449, 0.8014702200889587, 4.295459747314453, 0.11458110064268112, -3.167491912841797, 1.2198083400726318, -6.767518520355225, 0.4889703094959259, 12.100293159484863, -5.121601104736328, -1.8143223524093628, -1.0404269695281982, -7.476197719573975, 3.2995593547821045, -6.326839447021484, 8.747249603271484, -6.731700420379639, -6.391934871673584, 11.164680480957031, -2.2645089626312256, -9.838075637817383, 4.914735794067383, -7.744173526763916, -1.697751760482788, 9.653703689575195, -7.447966575622559, 7.963918685913086, 1.1905487775802612, -4.95846700668335, -0.20974797010421753, 1.6275463104248047, -5.401088237762451, -7.1460041999816895, -0.5893011093139648, -0.25068023800849915, -7.045627117156982, 0.06231540068984032, 10.763834953308105, -1.2476615905761719, 6.2635884284973145, 2.5989863872528076, 11.686456680297852, -6.244973659515381, 3.882972478866577, -3.5201218128204346, -3.23197078704834, -1.4875084161758423, -4.518847465515137, -0.4116814434528351, 3.3222672939300537, 7.2689971923828125, -0.8828586339950562, -8.169431686401367, 8.656580924987793, 9.448647499084473, 1.6300325393676758, -0.7719368934631348, -1.92195725440979, -4.512272834777832, 0.5969238877296448, 8.360383033752441, 2.639941692352295, -0.32709136605262756, 4.465031623840332, 3.783426523208618, -4.40723991394043, -8.00611686706543, 2.9714391231536865, 2.9417214393615723, -0.7693386673927307, 9.172082901000977, 0.8486362099647522, -4.940449237823486, -3.5824429988861084, 13.227946281433105, 10.84907054901123, 6.561471462249756, 6.0641865730285645, 3.6857049465179443, -6.712463855743408, -4.882025241851807, -0.18147850036621094, 6.015949249267578, -7.705958366394043, -0.5397509932518005, 8.485696792602539, -7.178860187530518, 2.5572915077209473, 0.6338739991188049, -9.383448600769043, -11.175264358520508, 3.356696128845215, 4.413676738739014, 1.7224918603897095, -2.6294243335723877, -1.8765143156051636, -11.184287071228027, 3.829928159713745, 3.2241249084472656, -6.505149841308594, -5.24984073638916, 1.9334497451782227, 8.080892562866211, 1.4565728902816772, -2.504225254058838, -7.9015421867370605, -1.785321831703186, 0.30909863114356995, 3.81615948677063, 11.539255142211914, 6.562695503234863, -3.598912477493286, 10.753264427185059, -6.054808616638184, 1.0600802898406982, 5.2572526931762695, 4.6292033195495605, 6.875100612640381, -6.814340114593506, -2.8024909496307373, -6.310691833496094, 7.476712703704834, 7.618436336517334, 12.377604484558105, 8.015068054199219, 0.3053792715072632, -7.692660808563232, -11.414095878601074, 3.0278420448303223, 4.6758317947387695, 1.7884325981140137, -5.936333656311035, 9.86410903930664, 10.974645614624023, -0.5808228850364685, -9.532001495361328, -5.488088607788086, -6.878898620605469, 12.71667194366455, 0.7234726548194885, -1.060666799545288, -5.959585189819336, 0.3761211931705475, 1.702096939086914, -7.169655799865723, -8.3754301071167, -7.2177839279174805, 0.862217366695404, -4.619218349456787, -7.839279651641846, -5.521568298339844, 3.4679768085479736, 2.0905725955963135, -5.000654220581055, 6.458256244659424, -9.895265579223633, -1.8848304748535156, 3.732940673828125, -9.31666088104248, 6.977180480957031, -7.106903076171875, 3.248117208480835, 9.027947425842285, -0.8022484183311462, -9.790721893310547, -5.946440696716309, -12.041377067565918, 3.612516164779663, -6.93925142288208, 8.14802360534668, -1.47166907787323, -0.8789845705032349, -7.792488098144531, -9.5689058303833, -4.225244998931885, 8.813249588012695, -7.136898517608643, -5.184148788452148, 1.7932798862457275, 8.23353385925293, -3.8526508808135986, 5.348320960998535, 11.447061538696289, 10.672755241394043, -0.30119097232818604, -4.297549247741699, 7.739614009857178, 8.506962776184082, 2.188209295272827, -1.9689282178878784, -6.31106424331665, 12.691314697265625, -6.569144248962402, 0.8361713290214539, -10.171957015991211, -4.731012344360352, -10.667634963989258, -4.937694072723389, 3.741701602935791, 0.6884289979934692, -5.628951549530029, -7.966068744659424, -0.6134529113769531, 4.622609615325928, 4.259984016418457, 5.622170925140381, -9.547532081604004, 4.3956522941589355, -2.66896653175354, -7.683188438415527, 3.8045341968536377, -9.296646118164062, -10.446660041809082, -7.512019157409668, 10.576062202453613, -11.175742149353027, -2.7016868591308594, -8.649415969848633, 8.02607250213623, 3.4470643997192383, -1.638232707977295, -4.533275127410889, 6.092636585235596, 7.581045627593994, -6.815318584442139, -1.8813648223876953, 3.56974196434021, -12.081143379211426, -8.60427474975586, -0.6418957710266113, -6.7060465812683105, -2.858491897583008, 12.356048583984375, -10.443391799926758, 12.099271774291992, -1.5398517847061157, -8.09139347076416, 1.3225080966949463, -3.2101337909698486, 4.68463659286499, 6.050869941711426, 4.482237815856934, -5.905658721923828, 5.454658508300781, -8.376516342163086, -2.5899667739868164, 4.970213413238525, 0.19907432794570923, 1.7555694580078125, 6.697497844696045, 4.552392482757568, 9.533902168273926, 4.7001471519470215, 0.11428011953830719, 1.1628769636154175, -1.0495768785476685, -0.024704523384571075, 6.53666353225708, -4.353342056274414, -6.657991409301758, -8.57400131225586, 6.670238494873047, -0.1923486888408661, 5.098419666290283, -9.865793228149414, -0.17418022453784943, -0.6940965056419373, -5.971766471862793, -3.269859552383423, 7.632542610168457, 0.588678777217865, 1.8813979625701904, -3.5579755306243896, 9.0988187789917, -2.2716939449310303, -1.900064468383789, 2.359196662902832, -8.288561820983887, -8.851183891296387, -1.9291895627975464, -0.9342077374458313, 5.062926292419434, -6.900334358215332, 8.352124214172363, 10.686513900756836, -5.131033897399902, -6.763751029968262, -10.848180770874023, -6.336580276489258, -5.175601959228516, 8.786027908325195, 8.521836280822754, -3.2402729988098145, -7.68228006362915, 4.164064407348633, 11.604897499084473, -3.3536829948425293, 3.6867260932922363, 8.435054779052734, 0.15511475503444672, -2.8731839656829834, 1.0062036514282227, 5.597600936889648, -0.829379141330719, -4.493767738342285, -0.5917348861694336, -5.837987422943115, 2.9760117530822754, 1.980454683303833, -3.3703112602233887, 12.157099723815918, 0.7672142386436462, 4.278857707977295, -1.0463438034057617, -2.4986586570739746, 0.44096431136131287, 0.566697359085083, -0.4770565330982208, -8.311575889587402, -12.168634414672852, -5.764414310455322, -1.0339545011520386, 7.997072219848633, 2.228018045425415, 4.847706317901611, -2.011751413345337, -7.545168399810791, -0.9643261432647705, 4.479557991027832, 6.912912845611572, -2.02128267288208, -6.342453956604004, -2.731567621231079, 11.903471946716309, -8.998064041137695, 1.8049201965332031, -1.690825343132019, 3.2108523845672607, 4.759006023406982, -8.234789848327637, -9.027525901794434, -9.093184471130371, -2.8816158771514893, -8.173653602600098, -0.35105881094932556, 3.0448405742645264, 1.48012113571167, -8.077380180358887, 6.658401012420654, 11.332413673400879, -7.186160087585449, -2.729311466217041, -5.540857791900635, -6.813986778259277, -2.9953672885894775, -2.0476651191711426, -5.456649303436279, 8.523265838623047, 9.576930046081543, 1.1019359827041626, 3.1748366355895996, 11.3474760055542, 1.6757094860076904, -7.676384925842285, -4.877694606781006, -1.6070187091827393, -3.104227304458618, -5.26364803314209, 4.609652042388916, -0.7226883172988892, -7.040305137634277, 1.2672839164733887, 6.560142993927002, -0.04667625576257706, 8.688307762145996, 5.817272663116455, 11.102158546447754, 0.6760634779930115, -0.0013950533466413617, 7.790804386138916, 0.7912319302558899, 3.0263967514038086, 6.729025363922119, 6.24140739440918, 5.092287063598633, -0.013517226092517376, 8.560114860534668, -6.486339569091797, 7.27480936050415, -4.168172359466553, 0.6252574920654297, 9.18510913848877, 10.84131145477295, -0.49496251344680786, 8.698919296264648, 1.5689054727554321, -6.344831943511963, -3.721773386001587, -5.800768852233887, -3.435821294784546, 0.07491131126880646, 3.4070489406585693, 5.2510271072387695, -7.33202600479126, -3.194511890411377, -8.359796524047852, -3.3416786193847656, 3.07677960395813, -1.0040581226348877, -4.159290313720703, -8.832042694091797, -0.9588205814361572, 10.432487487792969, 0.6542020440101624, -0.2504775822162628, -2.004333972930908, -0.605800986289978, -6.8517255783081055, 7.6260223388671875, -1.3954052925109863, -8.05577278137207, 8.90332317352295, 4.226597309112549, 3.5655155181884766, 2.271043062210083, 8.912999153137207, 3.6860551834106445, -6.723169803619385, 12.07632827758789, 0.3531278371810913, -5.61265230178833, -3.2076423168182373, -5.8384881019592285, -1.9746943712234497, 5.853412628173828, 0.5323602557182312, 2.924292802810669, -0.2705760598182678, -5.462913990020752, 0.48450371623039246, 0.30409127473831177, -0.12961487472057343, 2.257265329360962, -7.370143413543701, -3.902251720428467, -3.8158931732177734, -1.7511669397354126, -1.132399559020996, -4.848212242126465, -4.838735580444336, 1.1565754413604736, -7.983583450317383, -3.55535888671875, -5.306241512298584, 4.488999366760254, -9.697651863098145, -5.24802827835083, 3.0005242824554443, -6.860718250274658, 10.313340187072754, 11.285943984985352, 7.79815149307251, -8.789434432983398, -3.027148962020874, 4.667998790740967, -1.9055529832839966, 10.243356704711914, -5.819018363952637, 7.968214511871338, 3.7807796001434326, 12.171399116516113, -7.784076690673828, 12.607414245605469, 10.859785079956055, -8.021895408630371, 9.809111595153809, -9.17012882232666, -3.0446224212646484, -3.727688789367676, -1.5217602252960205, 10.517684936523438, -6.504877090454102, 9.068574905395508, 1.5897037982940674, 2.3467376232147217, -8.349823951721191, -6.9941086769104, -6.787372589111328, 11.68364143371582, 0.9752429723739624, -9.429375648498535, -4.5219221115112305, -5.8362016677856445, 4.5995659828186035, 2.9952473640441895, -4.501865386962891, -2.4301092624664307, -3.94012451171875, -4.110004901885986, -0.16526128351688385, -8.240303039550781, 11.863911628723145, 5.742655277252197, 7.579248428344727, -9.7208251953125, -6.562845706939697, 11.552260398864746, 3.5924501419067383, -0.08272698521614075, -1.8258373737335205, 3.7177865505218506, -9.689035415649414, 9.468144416809082, 6.040641784667969, 0.10911594331264496, 3.3468947410583496, 5.114592552185059, -7.500564098358154, 1.780336618423462, -8.265862464904785, -11.283343315124512, 0.961856484413147, -9.810178756713867, 2.005084991455078, -3.2764174938201904, 2.05718731880188, 1.199326753616333, 0.6236490607261658, -10.051332473754883, -3.298448085784912, 0.47278428077697754, 2.9839587211608887, 2.13723087310791, 3.25919246673584, -4.418468952178955, -6.97815465927124, -3.3617794513702393, -0.17619551718235016, -7.491990089416504, -2.6429150104522705, 0.5899677276611328, -10.404317855834961, 1.10250723361969, -5.961824417114258, -9.927570343017578, 0.8252567052841187, 5.982695579528809, -6.478046417236328, 4.90805196762085, 1.2682677507400513, 6.136829376220703, 10.233839988708496, 4.606675148010254, 3.0830676555633545, -6.229900360107422, -9.10695743560791, -2.60970401763916, 4.8225321769714355, -12.266679763793945, 6.790468692779541, -6.145481586456299, -1.5981522798538208, 4.171769618988037, 0.6085671186447144, 4.991225242614746, -3.4013712406158447, 0.18680055439472198, -9.68239974975586, -3.22046160697937, 0.12336353957653046, -5.167659282684326, 3.6283276081085205, 1.59419846534729, 13.532500267028809, -2.698319673538208, 1.1491878032684326, -8.16429615020752, -1.903472900390625, 6.265847206115723, 8.330742835998535, -8.891962051391602, 9.268696784973145, 3.589600086212158, 2.6007936000823975, 4.384938716888428, -4.502185821533203, -7.504147052764893, -9.201614379882812, -5.256016254425049, 0.0033785058185458183, -1.0852299928665161, -2.5480058193206787, 4.130517959594727, -6.890760898590088, 1.8545032739639282, -6.513507843017578, -0.47427648305892944, -8.266273498535156, -5.777785778045654, -6.374763011932373, -0.6060705184936523, -6.839346408843994, -6.144442558288574, -3.9502642154693604, 10.622114181518555, -1.4052720069885254, -1.8105343580245972, 4.19605827331543, 4.869344234466553, 8.206915855407715, -2.9325315952301025, -5.716525077819824, -9.827067375183105, -0.10418114066123962, 7.084718227386475, -6.141204357147217, -7.8717827796936035, 5.556799411773682, 3.6898348331451416, 7.4513959884643555, -9.278273582458496, -0.8985416293144226, -9.037737846374512, -3.9775278568267822, 3.446603298187256, 4.628355979919434, 2.8514418601989746, -11.419403076171875, 1.977177381515503, -0.5977907776832581, -2.8691906929016113, 4.035348415374756, -10.306683540344238, 8.578293800354004, -4.529033660888672, 1.0539076328277588, 4.568478107452393, -9.584708213806152, 5.375328540802002, 7.259594440460205, -4.4715704917907715, -1.7264293432235718, -5.640304088592529, 3.635805130004883, -6.724127292633057, 4.025716304779053, 0.9859145283699036, -5.29855489730835, 4.800880432128906, -4.608348846435547, 5.126230239868164, -6.475456237792969, -1.9045286178588867, -4.752185821533203, -5.530550003051758, 4.751767158508301, 9.589163780212402, -3.6052584648132324, 0.4440581798553467, -3.1507534980773926, 0.6715742349624634, -2.1795694828033447, 12.471128463745117, 3.40519118309021, -2.7938528060913086, 0.8657366633415222, 3.9517242908477783, 12.101594924926758, 3.0480947494506836, -8.866373062133789, -6.244881629943848, -4.966124534606934, 8.048307418823242, 4.982991695404053, -8.920226097106934, -2.0043842792510986, 5.836568832397461, -3.2305729389190674, -6.756885051727295, -4.013469696044922, -8.459969520568848, -2.5657126903533936, 8.896827697753906, 8.370333671569824, -2.2749757766723633, 0.5400189161300659, 3.096951961517334, -1.0719095468521118, -10.07547378540039, -2.410951852798462, 12.96925163269043, -1.8681806325912476, 4.106750965118408, 4.432440280914307, 0.1927032172679901, 2.6561639308929443, -6.667394638061523, 2.6746833324432373, -8.526371002197266, -5.220311164855957, -6.646105766296387, -1.1278116703033447, -4.4992899894714355, 0.9001217484474182, -4.149658203125, -0.2305850237607956, -5.6094584465026855], \"y\": [3.428830862045288, -4.252130031585693, -5.505045413970947, -14.875075340270996, -12.473843574523926, -8.492902755737305, -0.10689849406480789, -19.798049926757812, 3.4451706409454346, 12.544293403625488, -19.36742401123047, -12.460987091064453, -16.1544189453125, -3.845553159713745, -9.583098411560059, -17.055280685424805, -16.172481536865234, 12.512752532958984, -3.999408483505249, -10.781350135803223, -7.480983734130859, 5.697309494018555, -4.704982757568359, 4.038227558135986, -10.194396018981934, 3.4103686809539795, -11.04540729522705, 0.20667952299118042, -18.326969146728516, -16.103490829467773, 1.1928709745407104, -4.310886383056641, -1.596849799156189, -10.787324905395508, 5.605356693267822, 4.785726070404053, 3.4419846534729004, -0.0771985575556755, 4.6896185874938965, -9.814006805419922, 11.541059494018555, -13.50656509399414, 6.509757995605469, -8.131708145141602, -12.154231071472168, -17.836040496826172, -12.247062683105469, 3.697545051574707, -12.08002758026123, 6.739412784576416, -20.601913452148438, -2.414013624191284, 8.09359073638916, -17.544157028198242, -10.455955505371094, -4.450662136077881, -9.968314170837402, 3.4202935695648193, -11.615610122680664, -8.839176177978516, 2.932373523712158, 6.011447429656982, -19.491920471191406, -13.770712852478027, 7.760866641998291, -12.51468276977539, 10.910547256469727, 11.996780395507812, -11.969595909118652, -11.750666618347168, -20.17238426208496, -17.20967674255371, 5.568249702453613, -16.993099212646484, 15.753514289855957, 9.047623634338379, -12.587674140930176, -16.450056076049805, 18.36478042602539, 15.653969764709473, 14.965811729431152, 10.48973560333252, -13.30751895904541, 6.368225574493408, 0.3880504071712494, -1.8682506084442139, 4.244020938873291, 5.925569534301758, 1.613490104675293, 9.171076774597168, 10.071218490600586, -17.97980308532715, 4.9898247718811035, 1.2263519763946533, -2.2630603313446045, -19.376237869262695, 11.695391654968262, 0.5513301491737366, 7.733328342437744, -13.12002944946289, 6.8720245361328125, 7.476726531982422, 0.9196087121963501, 9.231635093688965, -20.303735733032227, 12.718825340270996, 7.182989120483398, -0.20721450448036194, 16.140737533569336, -15.959630966186523, 11.347936630249023, 6.3019232749938965, -18.067588806152344, 9.710264205932617, -10.11214542388916, 12.958597183227539, -0.856139063835144, 1.3149768114089966, -15.438241958618164, 8.4618558883667, 13.728617668151855, 1.9555258750915527, -0.9083247184753418, 8.211894989013672, 5.586635589599609, -1.4583555459976196, -2.582246780395508, -15.552824020385742, 0.6032383441925049, -0.4765327274799347, 1.8095452785491943, 11.013076782226562, -20.67429542541504, -1.5827953815460205, 6.607707500457764, 7.126667499542236, -11.345288276672363, -19.054094314575195, -1.1659890413284302, -1.791992425918579, -17.741106033325195, 8.706230163574219, 8.450960159301758, -13.049524307250977, 9.778088569641113, 14.375310897827148, -16.251195907592773, 9.108122825622559, -2.5535430908203125, -1.598893165588379, 10.602526664733887, 11.786818504333496, -0.22513599693775177, 8.54634952545166, 5.605269432067871, 11.585529327392578, 7.258607387542725, 8.929052352905273, 12.089635848999023, -13.906329154968262, -1.3019685745239258, 4.179002285003662, 13.291109085083008, 18.851346969604492, -14.021017074584961, 7.137984752655029, -18.035839080810547, -16.976306915283203, -9.78772258758545, 7.218853950500488, 7.913921356201172, -0.050255194306373596, -11.177231788635254, -8.966577529907227, 2.9572863578796387, 7.120988845825195, -11.103248596191406, -8.186275482177734, -3.0805463790893555, -17.647748947143555, 1.9735252857208252, -12.361405372619629, -4.08886194229126, -19.243358612060547, -17.698184967041016, -0.19269885122776031, -12.98816967010498, 2.9041237831115723, 12.895119667053223, 11.46735954284668, 8.757734298706055, -12.682412147521973, -19.048795700073242, -8.717352867126465, 3.0878915786743164, -1.872947096824646, 2.610874891281128, -1.173622965812683, 8.430089950561523, 4.55196475982666, 1.1478098630905151, -1.5541365146636963, -1.6506894826889038, -13.969552040100098, -7.472076892852783, -4.546803951263428, 17.799312591552734, 1.1400762796401978, -12.842498779296875, -1.9108537435531616, 4.244140625, -13.599873542785645, -16.240074157714844, 12.118155479431152, 1.9659541845321655, 1.1228231191635132, -1.4025262594223022, -17.31639862060547, -19.22079086303711, -0.9867927432060242, -6.993385314941406, 2.098912239074707, -13.272854804992676, 17.090974807739258, 3.3983566761016846, 16.584604263305664, 8.254327774047852, 12.996384620666504, 7.403608798980713, -10.379667282104492, -0.539695680141449, 5.049937725067139, -17.850095748901367, -18.580774307250977, 8.939595222473145, 2.284186840057373, -0.4176124930381775, 11.365174293518066, -15.587054252624512, -6.787459373474121, 1.1565812826156616, 2.5829415321350098, -8.229907989501953, 3.3858327865600586, -16.89864730834961, 4.376222133636475, 10.791762351989746, 16.272680282592773, 8.913480758666992, -11.387065887451172, 5.639455795288086, 0.2469072937965393, -16.605928421020508, 4.24826717376709, 13.47960376739502, 4.028014659881592, 5.631699562072754, 3.835096597671509, -11.306999206542969, 9.277487754821777, -8.631482124328613, 4.455246925354004, -11.247208595275879, 2.3554625511169434, 7.17487096786499, 3.381704092025757, -20.218509674072266, 1.6758346557617188, 15.760955810546875, -0.9173546433448792, 1.2567694187164307, -3.3031396865844727, 8.376733779907227, -7.85040283203125, -13.410584449768066, 6.422811508178711, -17.5708065032959, -12.681124687194824, 1.0537278652191162, 12.674906730651855, 8.192280769348145, -8.229482650756836, 13.232415199279785, 6.351146221160889, -10.152727127075195, 3.269280433654785, 8.85006332397461, 1.5131396055221558, 5.040162086486816, 7.960699081420898, 9.576862335205078, 0.12884476780891418, 7.296543598175049, 4.143672943115234, 6.452190399169922, -17.328922271728516, -15.114507675170898, 17.861223220825195, 4.948033332824707, 5.255935192108154, -2.603850841522217, 2.7818734645843506, -17.693035125732422, -17.569915771484375, -13.088347434997559, 13.537978172302246, 1.9175888299942017, 12.989888191223145, 11.015015602111816, -17.95222282409668, -16.885066986083984, 10.592314720153809, -11.551437377929688, -7.285037994384766, 2.742628574371338, 5.733520984649658, 7.084558963775635, 1.0338664054870605, 14.80052661895752, -1.545066475868225, -2.1814444065093994, 10.67017936706543, -17.874126434326172, 0.7402649521827698, 15.831904411315918, 6.496762752532959, -19.81572914123535, -20.5527400970459, -11.170510292053223, -13.883072853088379, 1.555671215057373, -16.4856014251709, 5.241961479187012, 12.110037803649902, 6.353099346160889, -12.194685935974121, -0.4437330365180969, 6.838594436645508, -13.392889976501465, -14.39344310760498, 6.927729606628418, 15.34927749633789, -15.555072784423828, 8.15536117553711, -19.50499153137207, -12.23453426361084, -2.201054334640503, 9.875467300415039, -15.55505657196045, -16.987295150756836, 0.5023248791694641, 8.563007354736328, 8.637974739074707, -2.9382457733154297, 8.877216339111328, 14.9802827835083, 6.726379871368408, 1.665894627571106, -20.064983367919922, 5.461939811706543, -2.6225459575653076, 1.5046180486679077, 3.2590689659118652, 9.851547241210938, -17.119237899780273, 13.70421314239502, -18.023611068725586, 1.7337210178375244, 4.136626243591309, -0.265348881483078, 6.6805925369262695, 1.2585434913635254, -12.869869232177734, -10.83694839477539, -17.764965057373047, 8.612810134887695, 14.706363677978516, -14.177807807922363, -1.962265968322754, 7.7351579666137695, -15.494412422180176, -1.1659014225006104, 14.223081588745117, 5.570329666137695, -1.6524314880371094, 12.248165130615234, 7.5284199714660645, -2.109875440597534, 3.5581657886505127, 7.523660659790039, 7.845925807952881, 11.915379524230957, 9.766249656677246, 11.985363006591797, 8.165762901306152, -3.048149347305298, 12.260250091552734, -16.95158576965332, 5.485698699951172, 11.105849266052246, 7.997339725494385, 5.852468490600586, 10.529570579528809, -4.5520148277282715, -19.319660186767578, 0.783435583114624, -9.142440795898438, -0.9576690793037415, -13.772101402282715, -3.359964609146118, 3.8960928916931152, 9.230063438415527, -20.784912109375, 14.108526229858398, -0.5934328436851501, 5.717495441436768, 7.256873607635498, 0.8493576645851135, -20.56142234802246, -12.573933601379395, 7.520264148712158, 4.344159126281738, 2.334901809692383, -2.464571237564087, -10.594056129455566, 5.436617851257324, 0.06387463957071304, -13.635139465332031, 5.3372344970703125, -12.869754791259766, 12.296838760375977, -0.7925836443901062, 6.796422958374023, -15.208847045898438, -19.805274963378906, 2.8052561283111572, 10.906723976135254, -12.774792671203613, 16.358247756958008, -7.801320552825928, 12.814666748046875, 17.765094757080078, -8.731514930725098, -15.52576732635498, 0.3483942449092865, -11.881304740905762, -18.663049697875977, 7.748589038848877, -10.54379940032959, -14.05162239074707, 6.832143306732178, -11.515359878540039, 8.552314758300781, 13.905401229858398, -17.886934280395508, -2.3980493545532227, 3.758882522583008, -10.513689041137695, 17.698204040527344, 6.473397731781006, -2.0647406578063965, -9.619688987731934, 5.049092769622803, 15.902412414550781, 2.1424612998962402, 10.380122184753418, 16.17473793029785, -20.116865158081055, 7.156144618988037, -10.03105640411377, 14.418719291687012, 11.539985656738281, 4.5086517333984375, 9.844192504882812, 8.413670539855957, 3.299164056777954, -1.763013243675232, -12.5095796585083, 4.634896278381348, 3.0275964736938477, 9.959789276123047, 6.464070796966553, -13.447935104370117, -14.75561237335205, -0.8135272860527039, -14.656216621398926, 0.3989582359790802, 5.070424556732178, 6.406217098236084, -7.206079959869385, 15.017143249511719, -17.00475311279297, -11.204607963562012, -17.708181381225586, -8.829385757446289, -15.8345365524292, -2.5712220668792725, -14.885108947753906, 7.541464328765869, 9.110790252685547, -1.0578659772872925, 0.3609180748462677, 6.630540370941162, 1.901289939880371, 4.860297203063965, -7.65659761428833, 17.11182403564453, 10.19136905670166, 5.125087738037109, -11.926222801208496, -11.949752807617188, 9.145090103149414, 1.6487886905670166, -14.455790519714355, 17.915651321411133, 8.458909034729004, 7.038079738616943, 17.739755630493164, 0.8790267705917358, 1.0136876106262207, 6.109785556793213, -14.379020690917969, -12.039154052734375, -11.701691627502441, -19.51997184753418, -0.0468672513961792, 5.017601490020752, 2.895787477493286, 2.9412317276000977, 6.961812973022461, 1.0063103437423706, -16.95969581604004, -15.78908634185791, 6.085190296173096, -15.588733673095703, -16.333528518676758, -3.8234758377075195, -14.44642162322998, 3.3967790603637695, -1.1129028797149658, -1.8480758666992188, -13.941410064697266, 3.931056499481201, -3.051243782043457, 9.175773620605469, -18.983688354492188, 14.06644344329834, -15.575549125671387, -15.416114807128906, 13.564383506774902, 10.519814491271973, 7.901300430297852, -11.274430274963379, 12.049064636230469, 6.619498252868652, 2.133342981338501, -14.648432731628418, 14.5540771484375, -20.256071090698242, 4.352902412414551, -15.413661003112793, -19.746065139770508, 6.948848247528076, -16.15679931640625, 9.157527923583984, 18.714738845825195, 7.0816216468811035, 0.24106387794017792, -16.05657196044922, -16.027259826660156, 4.590590476989746, 42.45810317993164, -19.022628784179688, -17.321969985961914, -3.2480828762054443, -18.57874298095703, 1.4710304737091064, 5.122613906860352, 6.174677848815918, 14.527463912963867, 6.858462333679199, 15.072529792785645, -10.485607147216797, 0.35594069957733154, 10.889653205871582, 18.104598999023438, 6.274322032928467, 8.10230827331543, 3.0682618618011475, -17.836227416992188, 5.396278381347656, 10.80402660369873, 3.223917245864868, -19.072343826293945, 1.810447096824646, 8.135357856750488, -18.14865493774414, -16.644268035888672, -12.374710083007812, -14.754313468933105, -17.189239501953125, 1.8502520322799683, -11.828730583190918, -0.19005265831947327, -13.235428810119629, -1.3983834981918335, -20.556114196777344, -17.88704490661621, 9.042808532714844, -1.335662841796875, -11.273219108581543, 9.963578224182129, 7.152925491333008, 7.221997261047363, 14.309283256530762, 8.073052406311035, 2.659780263900757, 2.578486919403076, 6.718606472015381, 6.969176769256592, 2.731961965560913, 7.963990688323975, 6.44386100769043, 0.8312038779258728, -11.090693473815918, -20.942489624023438, -0.7534443140029907, -10.444036483764648, -1.1669244766235352, 16.331262588500977, 4.64700984954834, -0.8935694098472595, 16.642772674560547, -13.810367584228516, 8.796110153198242, 3.4808411598205566, 10.871404647827148, 2.758924961090088, -17.3489990234375, 2.171607255935669, -7.135376453399658, -2.1297621726989746, -1.5869165658950806, 8.611557960510254, -15.94322681427002, 14.2155122756958, -8.790647506713867, 8.426924705505371, -11.459392547607422, 9.39010238647461, 8.209088325500488, 7.445139408111572, -1.0491939783096313, -18.82496452331543, 6.804258823394775, 0.32038742303848267, -13.201805114746094, 6.946654319763184, -1.7870886325836182, -16.22454071044922, -18.895679473876953, 7.354656219482422, 2.325169563293457, 4.716058731079102, -14.7171630859375, -0.6537886261940002, -18.013168334960938, -2.1265528202056885, -1.1795375347137451, 7.512391567230225, -2.0037195682525635, 14.607765197753906, 7.102027416229248, 2.9094533920288086, -12.810823440551758, 10.343998908996582, -3.1198747158050537, -17.04269027709961, -15.606131553649902, -1.389768123626709, -9.569754600524902, 7.100030422210693, 7.938173294067383, -11.10063362121582, 6.183760166168213, 6.831753253936768, 14.836799621582031, 10.671663284301758, -18.335695266723633, -17.647994995117188, -15.319829940795898, -16.10760498046875, -20.313690185546875, 1.3956109285354614, -19.388530731201172, -14.793309211730957, 6.385009288787842, 16.26198387145996, 11.212464332580566, -12.085561752319336, 3.3701205253601074, 17.773046493530273, -3.842787504196167, -18.3485050201416, 11.008491516113281, -3.645131826400757, -18.91466522216797, -13.752927780151367, 2.183627128601074, -8.994354248046875, -11.186293601989746, 8.701028823852539, 7.671314716339111, 3.2330355644226074, -4.092373847961426, -12.237566947937012, -8.24380111694336, -17.689550399780273, -4.0931782722473145, 5.842524528503418, -4.1018476486206055, 0.35893458127975464, -0.34003448486328125, -2.328566074371338, -0.09208018332719803, -1.6703038215637207, -13.015800476074219, -14.675762176513672, -18.56892204284668, -9.636494636535645, 4.428381443023682, -13.161459922790527, 2.8569674491882324, 4.990832805633545, 3.039405345916748, -17.64311981201172, 12.193761825561523, 16.046512603759766, 17.600839614868164, -10.75283145904541, -2.262394428253174, 7.507452964782715, 7.4004974365234375, -11.134358406066895, 5.32354211807251, 17.606956481933594, 14.819668769836426, -17.638036727905273, -9.83696460723877, -19.473997116088867, -3.3347904682159424, -11.958203315734863, -2.356111764907837, 2.990572452545166, 9.595026016235352, -8.184541702270508, 15.590773582458496, 4.4798736572265625, -14.967777252197266, 10.00635814666748, -18.8944091796875, 6.9770379066467285, 8.19863510131836, 5.71108865737915, 5.268868446350098, 1.2883936166763306, 0.778015673160553, -12.952422142028809, 0.6788535118103027, -13.271193504333496, 15.042548179626465, 4.949709415435791, 2.626702070236206, -0.38678792119026184, 6.4806718826293945, 11.218202590942383, -1.0402928590774536, 2.805964231491089, 16.46282196044922, 7.343083381652832, 12.402962684631348, 0.6229926943778992, -0.5151858329772949, 10.759454727172852, 16.74776268005371, -19.369272232055664, 5.042689323425293, -13.372108459472656, 18.336368560791016, 16.156232833862305, -19.825347900390625, 11.720768928527832, -10.577054023742676, 13.875372886657715, 2.1242291927337646, -4.838297367095947, 10.06920337677002, -10.346573829650879, 13.847136497497559, 9.649494171142578, 0.028439491987228394, -1.2256160974502563, 1.9648668766021729, -4.068742275238037, -7.257761478424072, 6.879772186279297, 7.793751239776611, 1.4815641641616821, -18.329172134399414, 6.2965087890625, -12.288810729980469, -11.396045684814453, 14.776124954223633, 6.620521068572998, -1.2527498006820679, -10.505810737609863, 1.1987409591674805, -19.944114685058594, -10.39302921295166, -16.470977783203125, -16.305896759033203, -7.355140209197998, 18.6204891204834, -0.5379199981689453, 2.410287857055664, 11.515702247619629, -18.216737747192383, 16.416540145874023, 10.404151916503906, -17.1585693359375, 2.3727355003356934, 6.475107669830322, -18.50341033935547, -11.0404052734375, -10.366063117980957, -12.528449058532715, -14.191630363464355, -12.68663215637207, -14.96975326538086, 7.914295196533203, 13.275754928588867, 9.036480903625488, -16.692821502685547, 1.0227103233337402, 1.80099618434906, -14.800237655639648, -2.6243858337402344, 14.034342765808105, 11.436883926391602, 5.931103229522705, -14.643848419189453, 7.607602596282959, 8.182640075683594, 13.301206588745117, 3.589437246322632, 0.40447017550468445, 1.022681474685669, -18.441232681274414, 17.023828506469727, -10.736513137817383, 5.87689733505249, 15.450371742248535, 4.700809478759766, 14.429100036621094, 1.8112515211105347, -19.017526626586914, 1.3676108121871948, 16.239866256713867, -13.554269790649414, 8.927481651306152, -15.157203674316406, 10.294246673583984, 4.154165267944336, 12.208168983459473, -1.0239449739456177, 8.463682174682617, 8.053083419799805, 2.260344982147217, 4.938311576843262, -7.789209842681885, 9.530733108520508, 13.583054542541504, 14.442885398864746, -17.58319854736328, -17.350906372070312, -18.291473388671875, 7.577425956726074, 6.076756477355957, 5.3019843101501465, -9.793898582458496, -12.845616340637207, -17.306795120239258, -10.644566535949707, 13.473206520080566, -18.5935115814209, 10.424320220947266, 8.058053970336914, 6.127484321594238, 3.3707685470581055, 6.943277359008789, 1.7739003896713257, 4.873611927032471, 10.704349517822266, -20.37869644165039, 15.808280944824219, -13.776093482971191, -15.774008750915527, -4.8182830810546875, -10.555143356323242, 17.04509735107422, 4.705078601837158, 7.628178596496582, 4.782851696014404, 16.1380672454834, -10.194515228271484, -11.07384967803955, 3.938256025314331, -0.681710422039032, -17.933086395263672, -18.561290740966797, 7.302313327789307, -20.81898307800293, 7.938439846038818, 11.894659042358398, -0.7408055663108826, 10.257011413574219, -3.243067502975464, 4.508111953735352, 4.5315375328063965, 0.07520394772291183, -12.134722709655762, 9.195586204528809, 4.2764201164245605, -19.189144134521484, -17.3840389251709, -12.106250762939453, 11.794313430786133, -7.5219502449035645, -3.0908031463623047, -16.849679946899414, -9.155946731567383, 2.4714467525482178, 17.831703186035156, -15.503164291381836, 14.743864059448242, -12.2196683883667, 15.278037071228027, 11.423419952392578, 1.2995163202285767, -3.414961099624634, 4.4705705642700195, -1.0280976295471191, -19.743253707885742, -18.19277572631836, -1.861556053161621, 7.2256178855896, -19.060298919677734, -14.284489631652832, -10.849430084228516, 2.232989549636841, 3.1863231658935547, 4.818155288696289, -7.582375526428223, 16.977909088134766, 6.447868347167969, 9.018832206726074, 3.9390714168548584, 11.327239036560059, -11.373202323913574, 5.799859523773193, -18.08394432067871, 15.315197944641113, 7.1374430656433105, -11.125005722045898, 13.255622863769531, 4.320308685302734, 3.486912965774536, -17.144861221313477, 2.5411996841430664, -13.030160903930664, -11.412532806396484, 7.149468898773193, 17.932157516479492, 0.17737756669521332, -17.217525482177734, 5.944569110870361, 1.9043176174163818, -14.4695463180542, -16.12803077697754, -14.643779754638672, -14.186505317687988, 14.26004409790039, 14.224318504333496, -7.750556945800781, -13.449185371398926, 5.555866241455078, 9.522762298583984, 17.824840545654297, -14.528948783874512, -13.790250778198242], \"z\": [6.512936592102051, -11.803759574890137, 10.32328987121582, 3.7409234046936035, 10.37350082397461, -0.47200584411621094, -12.733797073364258, -2.1739401817321777, 0.31825798749923706, 7.2553486824035645, -4.685969829559326, 13.51826286315918, 3.4207923412323, 1.9649834632873535, 2.701728343963623, 7.299907684326172, 3.332552194595337, -4.186214923858643, 10.056709289550781, 12.448379516601562, -0.6946566700935364, 1.615480661392212, 2.561767578125, -0.4343414902687073, 0.818581223487854, -0.7870110869407654, 12.37073040008545, -0.6190961599349976, 5.053805351257324, 1.7379488945007324, 0.8190246224403381, -10.18415355682373, 2.448131561279297, 0.6790649890899658, 2.4648752212524414, 0.9832234978675842, -4.453535079956055, -0.5359212160110474, 3.5717451572418213, -1.6900016069412231, -8.26665210723877, 2.225865125656128, -4.2596821784973145, 2.4124128818511963, 3.1561312675476074, 7.494894027709961, 2.281961679458618, -0.09568364173173904, 13.194635391235352, -6.910181999206543, -0.675657331943512, 9.323746681213379, 2.5477919578552246, 7.410773754119873, 1.206313133239746, -5.286384582519531, -2.6232199668884277, 2.9308698177337646, 0.687314510345459, 8.432029724121094, 2.644793748855591, -3.588696241378784, 7.576150894165039, 1.751112699508667, -3.683668613433838, 2.1163084506988525, -5.1481146812438965, -3.3379321098327637, 11.974822044372559, -2.184837579727173, 3.641883611679077, 1.1285433769226074, 5.197929859161377, 1.0050050020217896, 6.405303478240967, 3.7358319759368896, 9.556422233581543, 4.373669624328613, 7.0991997718811035, 4.4305219650268555, 4.907838821411133, 2.5321216583251953, 7.672419548034668, -4.895436763763428, -11.436596870422363, -9.657319068908691, -7.412587642669678, -11.428441047668457, -2.6748275756835938, 2.1435587406158447, 5.795127868652344, -2.9265756607055664, -3.669300079345703, -11.886098861694336, -6.6241536140441895, 7.084707260131836, 0.5507474541664124, -9.445273399353027, -3.1052889823913574, 8.661893844604492, 4.654509544372559, -7.878178596496582, -9.604653358459473, 1.4289648532867432, 5.523295879364014, 2.80035138130188, -7.619685649871826, -9.154074668884277, 5.3346052169799805, 3.427234172821045, 2.641746759414673, 2.584381103515625, -4.493947982788086, 4.196071624755859, 11.69057846069336, 2.422574758529663, -7.960606575012207, -11.901681900024414, 2.332559108734131, -1.7071956396102905, 2.6313636302948, -1.9940463304519653, -8.55004596710205, -6.0716352462768555, -5.459268093109131, -11.349377632141113, -5.294981956481934, 2.1064388751983643, -12.078125953674316, -10.649351119995117, 0.28693509101867676, 0.9837972521781921, 0.46979421377182007, -10.678119659423828, -9.338533401489258, 6.367615699768066, 8.750041007995605, 3.1255197525024414, -12.898560523986816, -2.6760737895965576, 0.19645152986049652, 0.4883373975753784, 1.8626512289047241, 9.760682106018066, -1.060685634613037, 4.605668067932129, -2.7968428134918213, -7.120776176452637, -12.792937278747559, -0.5002436637878418, 2.1509828567504883, 4.975503921508789, -5.824787139892578, 1.5185341835021973, 3.038832426071167, -0.5841793417930603, -5.137795448303223, -7.632700443267822, 7.7829389572143555, 0.735538899898529, -9.11755657196045, 2.318913221359253, 7.8164286613464355, 5.768547534942627, 1.4033571481704712, -8.455827713012695, 1.1735727787017822, 2.261420726776123, 7.177924633026123, -6.0362420082092285, -7.8852128982543945, -8.604820251464844, 0.33723634481430054, 10.064697265625, -4.143443584442139, -10.046454429626465, 1.0520836114883423, 9.376193046569824, -12.096043586730957, 2.673938035964966, -5.045948028564453, -2.802361011505127, -8.37909984588623, -0.04102151840925217, 1.4147871732711792, -8.918683052062988, 3.6029176712036133, 0.13223926723003387, 4.979740619659424, 4.2296366691589355, -7.457522869110107, 10.961727142333984, -3.2878780364990234, 11.324427604675293, -6.408478260040283, -11.298959732055664, -5.640866756439209, -7.752591133117676, 4.892149925231934, -5.4806976318359375, -0.2197982221841812, -1.7191888093948364, -5.916238307952881, 8.268828392028809, 10.577577590942383, -9.860637664794922, 2.5337347984313965, -0.4015197455883026, -3.153139114379883, -13.021501541137695, -4.312735080718994, 5.533602714538574, 5.118529796600342, 1.8066890239715576, -1.9671772718429565, -3.8165500164031982, -12.941320419311523, 4.789946556091309, 5.51143741607666, -3.686582326889038, 11.265955924987793, -10.74361515045166, 8.683439254760742, 5.415522575378418, -7.870654582977295, 2.5238683223724365, -4.430553913116455, 6.684947967529297, -9.840189933776855, 6.126568794250488, -11.331693649291992, -3.8909637928009033, 1.976032018661499, 2.9264628887176514, 0.41023996472358704, -10.38123607635498, -14.616433143615723, 4.130412578582764, 1.9821879863739014, 9.166053771972656, -0.9309409856796265, -6.855225563049316, 7.06596565246582, -11.812418937683105, -1.287903904914856, -8.293753623962402, 5.370890140533447, 8.484073638916016, -3.9662842750549316, 7.666139125823975, 2.872912645339966, -4.057416915893555, 1.3175334930419922, 1.9209057092666626, 3.2005691528320312, 0.23271378874778748, 7.15401029586792, -10.655961990356445, 6.306952953338623, -0.6836692690849304, 7.871298789978027, 0.7562829852104187, 10.982004165649414, -5.767423152923584, 3.728769540786743, -11.971700668334961, 2.7621891498565674, -7.53885555267334, 5.36453914642334, -5.754003524780273, -8.122512817382812, -7.7625837326049805, 7.2029500007629395, 7.203111171722412, 1.5756287574768066, -0.8889473676681519, 7.079290390014648, 11.155458450317383, -9.412405014038086, 4.789662837982178, -4.849204063415527, 6.964524745941162, 5.457174301147461, 4.224486827850342, 11.089179992675781, -10.043928146362305, -4.079066753387451, -11.098255157470703, -11.019436836242676, 6.051005840301514, 1.257765769958496, -9.773003578186035, -8.006463050842285, -10.19373607635498, -5.303367614746094, -1.8120390176773071, -2.005098342895508, 5.837701797485352, -6.938708782196045, 5.39600944519043, -10.483315467834473, -10.713440895080566, 3.5407774448394775, -0.8073498010635376, -0.5561615824699402, 7.736619472503662, -8.36402702331543, 7.026632785797119, -7.506668567657471, 0.9155410528182983, 0.9804879426956177, -7.271512031555176, -2.352803945541382, 8.524430274963379, -5.136899948120117, 6.872541427612305, -5.6601362228393555, -12.055761337280273, 7.825704097747803, -6.875602722167969, -9.768714904785156, 6.81374979019165, 1.293042540550232, -11.575784683227539, 1.178794503211975, 3.0761122703552246, 4.134964466094971, 1.6418139934539795, 5.230374813079834, -0.9236934781074524, -7.256158351898193, 6.60599422454834, -0.5700579285621643, 1.7142763137817383, -11.097229957580566, 8.4210786819458, -11.496826171875, 6.885805606842041, 3.3407442569732666, 7.0288472175598145, 7.654365062713623, 6.254855632781982, 2.385751485824585, 0.9195060133934021, -1.22673499584198, 6.36679744720459, -11.440417289733887, -9.837026596069336, 1.7567787170410156, 6.372590065002441, -3.0834360122680664, 7.510091304779053, 0.08849045634269714, -8.050533294677734, -4.052000522613525, 7.000638008117676, 2.5532066822052, -12.3011474609375, 6.326643466949463, 0.4392748177051544, -10.934296607971191, -9.59594440460205, 3.5458641052246094, -6.410144329071045, 1.2632925510406494, 7.749657154083252, 3.7232766151428223, -9.127275466918945, -10.037253379821777, -8.747827529907227, -5.5130934715271, -1.170282006263733, 10.522856712341309, 5.393045425415039, 1.3954023122787476, -5.463588714599609, 6.023909568786621, -0.235018789768219, -7.0895185470581055, 1.0444681644439697, -0.11394193023443222, -1.1760350465774536, 5.962757110595703, 6.5642900466918945, -10.68073844909668, 0.4511059820652008, -8.302003860473633, -0.027013031765818596, -5.504591464996338, 2.9298906326293945, -4.330012798309326, 1.0030910968780518, 7.692385673522949, 4.818792343139648, -0.05833638459444046, -7.850057125091553, 3.0550663471221924, -0.6615231037139893, 3.5583534240722656, 4.869661331176758, -1.7722448110580444, -3.2706785202026367, -6.995226860046387, -9.278365135192871, -0.8530570864677429, -8.152122497558594, 8.953658103942871, 0.452227920293808, 0.2545088529586792, -7.366765975952148, -11.508580207824707, 1.9734770059585571, 4.798591136932373, 7.3683013916015625, -9.809046745300293, -4.220000743865967, -10.37944221496582, -13.22361946105957, 1.6875969171524048, 6.423179626464844, 2.727327823638916, -7.079789638519287, -10.392213821411133, -11.773351669311523, 7.432399749755859, -9.542232513427734, -11.607707023620605, -0.8495798110961914, 5.357098579406738, 9.035524368286133, 2.6152992248535156, -10.1368408203125, -4.294018268585205, 0.3693349063396454, 4.471049785614014, -6.188418388366699, -2.32198166847229, 9.473143577575684, 5.541377544403076, 10.884129524230957, 3.5428309440612793, 7.354573726654053, 11.241783142089844, 9.75039005279541, -2.9861528873443604, 1.1389257907867432, 2.968344211578369, -0.902413547039032, 6.527146816253662, -3.820997714996338, -3.872422218322754, 9.229424476623535, -5.560858249664307, 7.586113929748535, -3.9777166843414307, -5.694502830505371, -2.280569314956665, 8.491143226623535, 7.098515033721924, 6.279764175415039, -10.097134590148926, 10.199686050415039, -5.333154201507568, 7.792654037475586, -0.5373443961143494, 5.972740173339844, 5.003982067108154, 2.0282959938049316, -8.668421745300293, 7.661935806274414, 2.7492311000823975, -0.5526309013366699, -6.524482727050781, 5.991395473480225, -5.4601898193359375, -7.206175327301025, -11.488553047180176, 0.7935284972190857, 6.383399486541748, -12.652461051940918, -6.903376579284668, -4.170471668243408, -0.09896264225244522, 7.967198848724365, -8.60760498046875, 9.327528953552246, -7.316459655761719, 5.986295223236084, 6.745341777801514, 10.009888648986816, 7.368539810180664, -2.7589669227600098, 2.9227871894836426, 4.1396636962890625, 7.394360065460205, -2.6540145874023438, -7.597406387329102, -0.5655637979507446, 0.4679810404777527, 3.1890313625335693, -12.531283378601074, -0.6453996896743774, 2.0862770080566406, -2.7786896228790283, 5.637235641479492, 9.385465621948242, 7.611959934234619, -8.91491413116455, 5.6260857582092285, -2.144120216369629, 11.897178649902344, -8.182981491088867, -6.878944396972656, 6.150747299194336, 6.027706146240234, -2.6518003940582275, 2.545478582382202, 7.455100059509277, -3.1677539348602295, -7.798098564147949, 4.277344226837158, 6.446130275726318, 4.754751205444336, 4.973831653594971, 6.285321235656738, -6.869379043579102, 7.126957893371582, -10.624649047851562, -3.827981948852539, 7.488807678222656, -9.473257064819336, 4.197136402130127, 0.8027883172035217, -5.3371710777282715, -1.9560335874557495, 0.4772670567035675, -7.78788948059082, 8.950162887573242, 4.413995265960693, -6.272435188293457, -4.519410133361816, -1.447201132774353, -11.253287315368652, -13.089003562927246, -10.180944442749023, 0.4536568820476532, 3.6995670795440674, -0.3277592360973358, -2.0018279552459717, 4.90321683883667, -0.572111964225769, 4.37177038192749, 10.80072021484375, 7.762637615203857, -0.8580371737480164, -10.765003204345703, 0.6047264337539673, 7.632506370544434, 2.990811824798584, 0.23834528028964996, 10.397685050964355, 5.249012470245361, -0.8462247848510742, -4.100362300872803, -3.214869976043701, 3.659839391708374, -6.886263847351074, -0.9746913313865662, -3.786402940750122, -4.376699924468994, 6.077298641204834, 9.18199348449707, -1.161933183670044, 6.71523380279541, -10.429410934448242, 2.3038175106048584, -13.106817245483398, -11.718086242675781, 4.814511299133301, 2.5169122219085693, 3.2858145236968994, 4.983007431030273, 5.947347164154053, -13.0050630569458, -7.534022808074951, 2.3175997734069824, 7.657931327819824, -6.081861972808838, -8.074199676513672, 3.8166122436523438, -3.6664645671844482, -4.032439231872559, 0.5517745614051819, -0.80568927526474, 1.8014405965805054, 2.53918194770813, -0.26384443044662476, 4.72005558013916, -0.4140104055404663, 9.502605438232422, 2.0404598712921143, -0.6389719247817993, -1.6777321100234985, -10.988018989562988, -2.3894689083099365, -12.88672161102295, 1.025329351425171, 7.545064926147461, -2.4830121994018555, -11.374283790588379, 4.628515243530273, 1.719383716583252, 4.758578777313232, 7.438340663909912, 7.673293590545654, -1.1624886989593506, -4.385396957397461, -2.4351329803466797, -5.256728649139404, 7.555876731872559, 2.3970038890838623, 1.359200119972229, 3.2605814933776855, -2.2487571239471436, 5.260654926300049, 0.7619317173957825, -9.064957618713379, 12.51025104522705, -0.6129133701324463, 7.43358850479126, 0.645625650882721, -8.110764503479004, 7.9600067138671875, 7.050530910491943, 2.303349733352661, 4.449697494506836, 0.38463670015335083, 2.300257921218872, -4.253568172454834, 2.633650064468384, 10.398423194885254, -12.857982635498047, -11.132810592651367, 0.9187319278717041, 7.0212531089782715, 8.648510932922363, 7.965815544128418, 5.3071699142456055, 0.3260852098464966, 7.655313014984131, -4.393089294433594, -6.799952030181885, -1.885353684425354, 1.5135127305984497, -9.370205879211426, -12.091667175292969, 8.441445350646973, 4.996688365936279, 0.45097339153289795, 3.5133936405181885, 2.5198991298675537, 2.3301968574523926, -0.23340874910354614, 6.035584449768066, -1.0505714416503906, -14.303810119628906, 3.5241122245788574, -11.144430160522461, -7.781700611114502, -8.35006332397461, -3.4092206954956055, 6.281380653381348, 2.3224241733551025, 3.5946452617645264, 0.5822599530220032, -1.7114068269729614, -12.007704734802246, -3.3365581035614014, -0.423714280128479, -10.503100395202637, 6.541015625, -4.856015205383301, 7.90487813949585, 0.22410987317562103, -0.8746325969696045, -8.507889747619629, 3.5801310539245605, -9.154690742492676, -3.703080177307129, 2.2394185066223145, 6.6603922843933105, 0.2939908802509308, 5.0644378662109375, -6.954519271850586, -3.2104835510253906, 1.3848756551742554, 1.4254275560379028, 2.2248587608337402, 6.281913757324219, 3.9504778385162354, -2.6669483184814453, 3.135711431503296, 1.9917429685592651, 5.07747220993042, 4.2838521003723145, -6.06562614440918, -2.3248398303985596, 8.43089771270752, 3.1665687561035156, 2.608818292617798, 1.2353029251098633, -6.892134189605713, -7.005479335784912, -0.9780634045600891, -1.4709601402282715, -1.453691840171814, -0.6764950156211853, 7.261849880218506, -1.5186227560043335, -7.193402290344238, 10.094216346740723, -6.00949764251709, -6.709901809692383, 9.280696868896484, -5.527669906616211, 2.460596799850464, -3.3474643230438232, 1.9197190999984741, 0.7509565949440002, -1.2450321912765503, -4.654644012451172, 10.459063529968262, 3.2155165672302246, 3.61773943901062, -1.7088685035705566, -4.398016452789307, 2.355896472930908, 6.660242080688477, 6.634732246398926, 5.200283050537109, -1.169811487197876, 2.781296968460083, 3.975606679916382, 4.652200698852539, 3.3099544048309326, 5.777636528015137, 1.6843045949935913, -3.2960333824157715, 8.845935821533203, 3.048161029815674, -11.761545181274414, 10.627071380615234, -6.931042194366455, -6.507236003875732, -4.9804558753967285, 10.046688079833984, 4.309548377990723, 0.47328659892082214, 6.2650556564331055, -9.24361515045166, 0.7553552389144897, 2.4401838779449463, -7.529379844665527, -9.025196075439453, 6.552196979522705, -9.063279151916504, -8.109611511230469, 11.181794166564941, -12.21875286102295, 11.86786937713623, 4.355179309844971, 5.43270206451416, 1.085283637046814, -11.308061599731445, 3.6594464778900146, -4.640892505645752, -0.7003225684165955, -3.7189126014709473, 7.99161958694458, 5.124335289001465, 4.039264678955078, -8.716320991516113, -8.838550567626953, 1.923197865486145, 8.313653945922852, 2.068913459777832, -1.5375715494155884, -0.06104998290538788, 4.411248683929443, 1.438809871673584, -1.256949782371521, 4.684597492218018, 5.736203193664551, 8.003680229187012, -7.014402866363525, -8.94884967803955, -2.8820383548736572, 7.246734619140625, 4.695287704467773, -6.4033708572387695, -2.882854461669922, -0.25464048981666565, -3.6072566509246826, -12.25290584564209, 9.851607322692871, -8.449286460876465, -2.390738010406494, -10.132447242736816, -0.40709322690963745, -5.331033706665039, 8.993569374084473, 3.4825146198272705, 7.574828147888184, 2.4423952102661133, -8.731715202331543, 6.393591403961182, -10.315305709838867, 0.4588261544704437, 0.5230953097343445, 0.13779067993164062, -4.255804538726807, 7.976768493652344, 6.335317134857178, -11.469256401062012, -6.6978254318237305, -1.1667460203170776, -0.6246975064277649, 4.1637282371521, 6.67525053024292, 5.088052749633789, -11.073052406311035, 1.4444515705108643, 7.452383518218994, 3.2549006938934326, 8.814231872558594, -1.5454707145690918, 10.954840660095215, 11.060751914978027, -4.4533491134643555, -0.9371635317802429, 3.966761589050293, 1.597206711769104, 0.7873367667198181, -9.738730430603027, -11.133981704711914, -0.8817373514175415, -7.283957004547119, 4.219775676727295, 1.9063361883163452, -5.44221305847168, 0.6958014965057373, 4.837457180023193, 0.44725021719932556, 3.3163046836853027, -4.67563009262085, -6.871642112731934, -3.9763290882110596, -0.7306981086730957, 3.7366127967834473, 5.722264289855957, 3.5421431064605713, 3.3290610313415527, -0.5480937957763672, 1.1495426893234253, -7.768653392791748, 2.714343786239624, -11.357355117797852, 1.8929731845855713, -2.1276984214782715, 1.1993935108184814, -4.206611156463623, -1.0341191291809082, -7.534451484680176, 1.5115113258361816, -7.4579386711120605, -6.651066780090332, 0.29985061287879944, -4.1241984367370605, 4.1708221435546875, 9.080888748168945, 0.5236240029335022, 9.517647743225098, 6.365252494812012, 2.775874137878418, -0.9713361263275146, -3.883866310119629, 4.952847957611084, -7.3738789558410645, 6.079492568969727, 2.9368441104888916, 9.042211532592773, 0.9283135533332825, 6.413397312164307, 6.545516014099121, 0.11394385248422623, 2.846156597137451, 5.690607070922852, -9.743610382080078, -3.506726026535034, -1.8484232425689697, -11.171074867248535, 0.7255561947822571, -3.653186321258545, 1.114130973815918, 1.1705517768859863, 8.338496208190918, -1.7991198301315308, -10.770452499389648, 5.8858184814453125, 5.92365026473999, -9.097222328186035, -6.459983825683594, -3.4918065071105957, 6.775349140167236, 4.851715087890625, 12.601548194885254, 4.897282123565674, -9.114991188049316, -1.3384186029434204, -4.312843322753906, 4.44317626953125, 0.6208356618881226, -1.9585562944412231, 4.7123942375183105, -6.359704971313477, 1.3499295711517334, -8.61788272857666, 5.232941150665283, -6.8125319480896, -6.830897808074951, 12.72348403930664, -1.1336084604263306, -7.083667755126953, 2.0275750160217285, -0.7102575302124023, 8.65251636505127, -0.0029790732078254223, 9.713520050048828, -12.09889030456543, -4.3193840980529785, 8.543649673461914, 0.11990166455507278, 6.646808624267578, -0.36345404386520386, 7.573891639709473, 5.608348369598389, 7.287829875946045, 6.884187698364258, -9.776031494140625, -8.956920623779297, 6.451943874359131, -0.11254727095365524, 0.14953722059726715, 1.7797304391860962, 0.061376094818115234, -10.376348495483398, -3.39473819732666, 2.9558095932006836, 3.328470230102539, -2.7115707397460938, -8.377594947814941, -6.99367094039917, 8.976364135742188, 7.259130001068115, 5.008078098297119, -8.688478469848633, -10.116188049316406, 7.704909324645996, 4.240799427032471, -0.5525783896446228, 5.8389506340026855, 3.4994733333587646, 7.99488639831543, 12.444212913513184, 4.599313735961914, -10.571004867553711, -12.512552261352539, 6.470492839813232, 3.108135938644409, -0.5321876406669617, 4.58784818649292, 4.528688430786133, 5.470091342926025, -9.898786544799805, 5.763306617736816, -2.8840837478637695, -3.5583109855651855, -2.692558765411377, -3.619366407394409, 10.095232009887695, 0.9323483109474182, 7.982198715209961, 9.02115535736084, 9.672394752502441, 4.770451068878174, 5.693234443664551, -2.620518684387207, 4.086660385131836, 0.07957460731267929, 10.610764503479004]}],\n",
       "                        {\"coloraxis\": {\"colorbar\": {\"title\": {\"text\": \"Label\"}}, \"colorscale\": [[0.0, \"#0d0887\"], [0.1111111111111111, \"#46039f\"], [0.2222222222222222, \"#7201a8\"], [0.3333333333333333, \"#9c179e\"], [0.4444444444444444, \"#bd3786\"], [0.5555555555555556, \"#d8576b\"], [0.6666666666666666, \"#ed7953\"], [0.7777777777777778, \"#fb9f3a\"], [0.8888888888888888, \"#fdca26\"], [1.0, \"#f0f921\"]]}, \"height\": 800, \"legend\": {\"tracegroupgap\": 0}, \"scene\": {\"domain\": {\"x\": [0.0, 1.0], \"y\": [0.0, 1.0]}, \"xaxis\": {\"title\": {\"text\": \"0\"}}, \"yaxis\": {\"title\": {\"text\": \"1\"}}, \"zaxis\": {\"title\": {\"text\": \"2\"}}}, \"template\": {\"data\": {\"bar\": [{\"error_x\": {\"color\": \"#2a3f5f\"}, \"error_y\": {\"color\": \"#2a3f5f\"}, \"marker\": {\"line\": {\"color\": \"#E5ECF6\", \"width\": 0.5}}, \"type\": \"bar\"}], \"barpolar\": [{\"marker\": {\"line\": {\"color\": \"#E5ECF6\", \"width\": 0.5}}, \"type\": \"barpolar\"}], \"carpet\": [{\"aaxis\": {\"endlinecolor\": \"#2a3f5f\", \"gridcolor\": \"white\", \"linecolor\": \"white\", \"minorgridcolor\": \"white\", \"startlinecolor\": \"#2a3f5f\"}, \"baxis\": {\"endlinecolor\": \"#2a3f5f\", \"gridcolor\": \"white\", \"linecolor\": \"white\", \"minorgridcolor\": \"white\", \"startlinecolor\": \"#2a3f5f\"}, \"type\": \"carpet\"}], \"choropleth\": [{\"colorbar\": {\"outlinewidth\": 0, \"ticks\": \"\"}, \"type\": \"choropleth\"}], \"contour\": [{\"colorbar\": {\"outlinewidth\": 0, \"ticks\": \"\"}, \"colorscale\": [[0.0, \"#0d0887\"], [0.1111111111111111, \"#46039f\"], [0.2222222222222222, \"#7201a8\"], [0.3333333333333333, \"#9c179e\"], [0.4444444444444444, \"#bd3786\"], [0.5555555555555556, \"#d8576b\"], [0.6666666666666666, \"#ed7953\"], [0.7777777777777778, \"#fb9f3a\"], [0.8888888888888888, \"#fdca26\"], [1.0, \"#f0f921\"]], \"type\": \"contour\"}], \"contourcarpet\": [{\"colorbar\": {\"outlinewidth\": 0, \"ticks\": \"\"}, \"type\": \"contourcarpet\"}], \"heatmap\": [{\"colorbar\": {\"outlinewidth\": 0, \"ticks\": \"\"}, \"colorscale\": [[0.0, \"#0d0887\"], [0.1111111111111111, \"#46039f\"], [0.2222222222222222, \"#7201a8\"], [0.3333333333333333, \"#9c179e\"], [0.4444444444444444, \"#bd3786\"], [0.5555555555555556, \"#d8576b\"], [0.6666666666666666, \"#ed7953\"], [0.7777777777777778, \"#fb9f3a\"], [0.8888888888888888, \"#fdca26\"], [1.0, \"#f0f921\"]], \"type\": \"heatmap\"}], \"heatmapgl\": [{\"colorbar\": {\"outlinewidth\": 0, \"ticks\": \"\"}, \"colorscale\": [[0.0, \"#0d0887\"], [0.1111111111111111, \"#46039f\"], [0.2222222222222222, \"#7201a8\"], [0.3333333333333333, \"#9c179e\"], [0.4444444444444444, \"#bd3786\"], [0.5555555555555556, \"#d8576b\"], [0.6666666666666666, \"#ed7953\"], [0.7777777777777778, \"#fb9f3a\"], [0.8888888888888888, \"#fdca26\"], [1.0, \"#f0f921\"]], \"type\": \"heatmapgl\"}], \"histogram\": [{\"marker\": {\"colorbar\": {\"outlinewidth\": 0, \"ticks\": \"\"}}, \"type\": \"histogram\"}], \"histogram2d\": [{\"colorbar\": {\"outlinewidth\": 0, \"ticks\": \"\"}, \"colorscale\": [[0.0, \"#0d0887\"], [0.1111111111111111, \"#46039f\"], [0.2222222222222222, \"#7201a8\"], [0.3333333333333333, \"#9c179e\"], [0.4444444444444444, \"#bd3786\"], [0.5555555555555556, \"#d8576b\"], [0.6666666666666666, \"#ed7953\"], [0.7777777777777778, \"#fb9f3a\"], [0.8888888888888888, \"#fdca26\"], [1.0, \"#f0f921\"]], \"type\": \"histogram2d\"}], \"histogram2dcontour\": [{\"colorbar\": {\"outlinewidth\": 0, \"ticks\": \"\"}, \"colorscale\": [[0.0, \"#0d0887\"], [0.1111111111111111, \"#46039f\"], [0.2222222222222222, \"#7201a8\"], [0.3333333333333333, \"#9c179e\"], [0.4444444444444444, \"#bd3786\"], [0.5555555555555556, \"#d8576b\"], [0.6666666666666666, \"#ed7953\"], [0.7777777777777778, \"#fb9f3a\"], [0.8888888888888888, \"#fdca26\"], [1.0, \"#f0f921\"]], \"type\": \"histogram2dcontour\"}], \"mesh3d\": [{\"colorbar\": {\"outlinewidth\": 0, \"ticks\": \"\"}, \"type\": \"mesh3d\"}], \"parcoords\": [{\"line\": {\"colorbar\": {\"outlinewidth\": 0, \"ticks\": \"\"}}, \"type\": \"parcoords\"}], \"pie\": [{\"automargin\": true, \"type\": \"pie\"}], \"scatter\": [{\"marker\": {\"colorbar\": {\"outlinewidth\": 0, \"ticks\": \"\"}}, \"type\": \"scatter\"}], \"scatter3d\": [{\"line\": {\"colorbar\": {\"outlinewidth\": 0, \"ticks\": \"\"}}, \"marker\": {\"colorbar\": {\"outlinewidth\": 0, \"ticks\": \"\"}}, \"type\": \"scatter3d\"}], \"scattercarpet\": [{\"marker\": {\"colorbar\": {\"outlinewidth\": 0, \"ticks\": \"\"}}, \"type\": \"scattercarpet\"}], \"scattergeo\": [{\"marker\": {\"colorbar\": {\"outlinewidth\": 0, \"ticks\": \"\"}}, \"type\": \"scattergeo\"}], \"scattergl\": [{\"marker\": {\"colorbar\": {\"outlinewidth\": 0, \"ticks\": \"\"}}, \"type\": \"scattergl\"}], \"scattermapbox\": [{\"marker\": {\"colorbar\": {\"outlinewidth\": 0, \"ticks\": \"\"}}, \"type\": \"scattermapbox\"}], \"scatterpolar\": [{\"marker\": {\"colorbar\": {\"outlinewidth\": 0, \"ticks\": \"\"}}, \"type\": \"scatterpolar\"}], \"scatterpolargl\": [{\"marker\": {\"colorbar\": {\"outlinewidth\": 0, \"ticks\": \"\"}}, \"type\": \"scatterpolargl\"}], \"scatterternary\": [{\"marker\": {\"colorbar\": {\"outlinewidth\": 0, \"ticks\": \"\"}}, \"type\": \"scatterternary\"}], \"surface\": [{\"colorbar\": {\"outlinewidth\": 0, \"ticks\": \"\"}, \"colorscale\": [[0.0, \"#0d0887\"], [0.1111111111111111, \"#46039f\"], [0.2222222222222222, \"#7201a8\"], [0.3333333333333333, \"#9c179e\"], [0.4444444444444444, \"#bd3786\"], [0.5555555555555556, \"#d8576b\"], [0.6666666666666666, \"#ed7953\"], [0.7777777777777778, \"#fb9f3a\"], [0.8888888888888888, \"#fdca26\"], [1.0, \"#f0f921\"]], \"type\": \"surface\"}], \"table\": [{\"cells\": {\"fill\": {\"color\": \"#EBF0F8\"}, \"line\": {\"color\": \"white\"}}, \"header\": {\"fill\": {\"color\": \"#C8D4E3\"}, \"line\": {\"color\": \"white\"}}, \"type\": \"table\"}]}, \"layout\": {\"annotationdefaults\": {\"arrowcolor\": \"#2a3f5f\", \"arrowhead\": 0, \"arrowwidth\": 1}, \"coloraxis\": {\"colorbar\": {\"outlinewidth\": 0, \"ticks\": \"\"}}, \"colorscale\": {\"diverging\": [[0, \"#8e0152\"], [0.1, \"#c51b7d\"], [0.2, \"#de77ae\"], [0.3, \"#f1b6da\"], [0.4, \"#fde0ef\"], [0.5, \"#f7f7f7\"], [0.6, \"#e6f5d0\"], [0.7, \"#b8e186\"], [0.8, \"#7fbc41\"], [0.9, \"#4d9221\"], [1, \"#276419\"]], \"sequential\": [[0.0, \"#0d0887\"], [0.1111111111111111, \"#46039f\"], [0.2222222222222222, \"#7201a8\"], [0.3333333333333333, \"#9c179e\"], [0.4444444444444444, \"#bd3786\"], [0.5555555555555556, \"#d8576b\"], [0.6666666666666666, \"#ed7953\"], [0.7777777777777778, \"#fb9f3a\"], [0.8888888888888888, \"#fdca26\"], [1.0, \"#f0f921\"]], \"sequentialminus\": [[0.0, \"#0d0887\"], [0.1111111111111111, \"#46039f\"], [0.2222222222222222, \"#7201a8\"], [0.3333333333333333, \"#9c179e\"], [0.4444444444444444, \"#bd3786\"], [0.5555555555555556, \"#d8576b\"], [0.6666666666666666, \"#ed7953\"], [0.7777777777777778, \"#fb9f3a\"], [0.8888888888888888, \"#fdca26\"], [1.0, \"#f0f921\"]]}, \"colorway\": [\"#636efa\", \"#EF553B\", \"#00cc96\", \"#ab63fa\", \"#FFA15A\", \"#19d3f3\", \"#FF6692\", \"#B6E880\", \"#FF97FF\", \"#FECB52\"], \"font\": {\"color\": \"#2a3f5f\"}, \"geo\": {\"bgcolor\": \"white\", \"lakecolor\": \"white\", \"landcolor\": \"#E5ECF6\", \"showlakes\": true, \"showland\": true, \"subunitcolor\": \"white\"}, \"hoverlabel\": {\"align\": \"left\"}, \"hovermode\": \"closest\", \"mapbox\": {\"style\": \"light\"}, \"paper_bgcolor\": \"white\", \"plot_bgcolor\": \"#E5ECF6\", \"polar\": {\"angularaxis\": {\"gridcolor\": \"white\", \"linecolor\": \"white\", \"ticks\": \"\"}, \"bgcolor\": \"#E5ECF6\", \"radialaxis\": {\"gridcolor\": \"white\", \"linecolor\": \"white\", \"ticks\": \"\"}}, \"scene\": {\"xaxis\": {\"backgroundcolor\": \"#E5ECF6\", \"gridcolor\": \"white\", \"gridwidth\": 2, \"linecolor\": \"white\", \"showbackground\": true, \"ticks\": \"\", \"zerolinecolor\": \"white\"}, \"yaxis\": {\"backgroundcolor\": \"#E5ECF6\", \"gridcolor\": \"white\", \"gridwidth\": 2, \"linecolor\": \"white\", \"showbackground\": true, \"ticks\": \"\", \"zerolinecolor\": \"white\"}, \"zaxis\": {\"backgroundcolor\": \"#E5ECF6\", \"gridcolor\": \"white\", \"gridwidth\": 2, \"linecolor\": \"white\", \"showbackground\": true, \"ticks\": \"\", \"zerolinecolor\": \"white\"}}, \"shapedefaults\": {\"line\": {\"color\": \"#2a3f5f\"}}, \"ternary\": {\"aaxis\": {\"gridcolor\": \"white\", \"linecolor\": \"white\", \"ticks\": \"\"}, \"baxis\": {\"gridcolor\": \"white\", \"linecolor\": \"white\", \"ticks\": \"\"}, \"bgcolor\": \"#E5ECF6\", \"caxis\": {\"gridcolor\": \"white\", \"linecolor\": \"white\", \"ticks\": \"\"}}, \"title\": {\"x\": 0.05}, \"xaxis\": {\"automargin\": true, \"gridcolor\": \"white\", \"linecolor\": \"white\", \"ticks\": \"\", \"title\": {\"standoff\": 15}, \"zerolinecolor\": \"white\", \"zerolinewidth\": 2}, \"yaxis\": {\"automargin\": true, \"gridcolor\": \"white\", \"linecolor\": \"white\", \"ticks\": \"\", \"title\": {\"standoff\": 15}, \"zerolinecolor\": \"white\", \"zerolinewidth\": 2}}}, \"title\": {\"text\": \"3d TSNE Plot for Outliers\"}, \"width\": 900},\n",
       "                        {\"responsive\": true}\n",
       "                    ).then(function(){\n",
       "                            \n",
       "var gd = document.getElementById('e8e8015e-8afe-498e-b72f-e57515d021e5');\n",
       "var x = new MutationObserver(function (mutations, observer) {{\n",
       "        var display = window.getComputedStyle(gd).display;\n",
       "        if (!display || display === 'none') {{\n",
       "            console.log([gd, 'removed!']);\n",
       "            Plotly.purge(gd);\n",
       "            observer.disconnect();\n",
       "        }}\n",
       "}});\n",
       "\n",
       "// Listen for the removal of the full notebook cells\n",
       "var notebookContainer = gd.closest('#notebook-container');\n",
       "if (notebookContainer) {{\n",
       "    x.observe(notebookContainer, {childList: true});\n",
       "}}\n",
       "\n",
       "// Listen for the clearing of the current output cell\n",
       "var outputEl = gd.closest('.output');\n",
       "if (outputEl) {{\n",
       "    x.observe(outputEl, {childList: true});\n",
       "}}\n",
       "\n",
       "                        })\n",
       "                };\n",
       "                });\n",
       "            </script>\n",
       "        </div>"
      ]
     },
     "metadata": {},
     "output_type": "display_data"
    }
   ],
   "source": [
    "# instantiating KNN model\n",
    "knn = create_model(\"knn\")\n",
    "\n",
    "# plotting the data using KNN \n",
    "plot_model(knn)"
   ]
  },
  {
   "cell_type": "code",
   "execution_count": 8,
   "metadata": {},
   "outputs": [
    {
     "data": {
      "text/html": [
       "<div>\n",
       "<style scoped>\n",
       "    .dataframe tbody tr th:only-of-type {\n",
       "        vertical-align: middle;\n",
       "    }\n",
       "\n",
       "    .dataframe tbody tr th {\n",
       "        vertical-align: top;\n",
       "    }\n",
       "\n",
       "    .dataframe thead th {\n",
       "        text-align: right;\n",
       "    }\n",
       "</style>\n",
       "<table border=\"1\" class=\"dataframe\">\n",
       "  <thead>\n",
       "    <tr style=\"text-align: right;\">\n",
       "      <th></th>\n",
       "      <th>Col1</th>\n",
       "      <th>Col2</th>\n",
       "      <th>Col3</th>\n",
       "      <th>Col4</th>\n",
       "      <th>Col5</th>\n",
       "      <th>Col6</th>\n",
       "      <th>Col7</th>\n",
       "      <th>Col8</th>\n",
       "      <th>Col9</th>\n",
       "      <th>Col10</th>\n",
       "      <th>Label</th>\n",
       "      <th>Score</th>\n",
       "    </tr>\n",
       "  </thead>\n",
       "  <tbody>\n",
       "    <tr>\n",
       "      <th>0</th>\n",
       "      <td>0.263995</td>\n",
       "      <td>0.764929</td>\n",
       "      <td>0.138424</td>\n",
       "      <td>0.935242</td>\n",
       "      <td>0.605867</td>\n",
       "      <td>0.518790</td>\n",
       "      <td>0.912225</td>\n",
       "      <td>0.608234</td>\n",
       "      <td>0.723782</td>\n",
       "      <td>0.733591</td>\n",
       "      <td>0</td>\n",
       "      <td>0.558927</td>\n",
       "    </tr>\n",
       "    <tr>\n",
       "      <th>1</th>\n",
       "      <td>0.546092</td>\n",
       "      <td>0.653975</td>\n",
       "      <td>0.065575</td>\n",
       "      <td>0.227772</td>\n",
       "      <td>0.845269</td>\n",
       "      <td>0.837066</td>\n",
       "      <td>0.272379</td>\n",
       "      <td>0.331679</td>\n",
       "      <td>0.429297</td>\n",
       "      <td>0.367422</td>\n",
       "      <td>0</td>\n",
       "      <td>0.477482</td>\n",
       "    </tr>\n",
       "    <tr>\n",
       "      <th>2</th>\n",
       "      <td>0.336714</td>\n",
       "      <td>0.538842</td>\n",
       "      <td>0.192801</td>\n",
       "      <td>0.553563</td>\n",
       "      <td>0.074515</td>\n",
       "      <td>0.332993</td>\n",
       "      <td>0.365792</td>\n",
       "      <td>0.861309</td>\n",
       "      <td>0.899017</td>\n",
       "      <td>0.088600</td>\n",
       "      <td>0</td>\n",
       "      <td>0.676207</td>\n",
       "    </tr>\n",
       "    <tr>\n",
       "      <th>3</th>\n",
       "      <td>0.092108</td>\n",
       "      <td>0.995017</td>\n",
       "      <td>0.014465</td>\n",
       "      <td>0.176371</td>\n",
       "      <td>0.241530</td>\n",
       "      <td>0.514724</td>\n",
       "      <td>0.562208</td>\n",
       "      <td>0.158963</td>\n",
       "      <td>0.073715</td>\n",
       "      <td>0.208463</td>\n",
       "      <td>1</td>\n",
       "      <td>0.804769</td>\n",
       "    </tr>\n",
       "    <tr>\n",
       "      <th>4</th>\n",
       "      <td>0.325261</td>\n",
       "      <td>0.805968</td>\n",
       "      <td>0.957033</td>\n",
       "      <td>0.331665</td>\n",
       "      <td>0.307923</td>\n",
       "      <td>0.355315</td>\n",
       "      <td>0.501899</td>\n",
       "      <td>0.558449</td>\n",
       "      <td>0.885169</td>\n",
       "      <td>0.182754</td>\n",
       "      <td>0</td>\n",
       "      <td>0.630836</td>\n",
       "    </tr>\n",
       "    <tr>\n",
       "      <th>...</th>\n",
       "      <td>...</td>\n",
       "      <td>...</td>\n",
       "      <td>...</td>\n",
       "      <td>...</td>\n",
       "      <td>...</td>\n",
       "      <td>...</td>\n",
       "      <td>...</td>\n",
       "      <td>...</td>\n",
       "      <td>...</td>\n",
       "      <td>...</td>\n",
       "      <td>...</td>\n",
       "      <td>...</td>\n",
       "    </tr>\n",
       "    <tr>\n",
       "      <th>995</th>\n",
       "      <td>0.305055</td>\n",
       "      <td>0.656837</td>\n",
       "      <td>0.331665</td>\n",
       "      <td>0.822525</td>\n",
       "      <td>0.907127</td>\n",
       "      <td>0.882276</td>\n",
       "      <td>0.855732</td>\n",
       "      <td>0.584786</td>\n",
       "      <td>0.808640</td>\n",
       "      <td>0.242762</td>\n",
       "      <td>0</td>\n",
       "      <td>0.266822</td>\n",
       "    </tr>\n",
       "    <tr>\n",
       "      <th>996</th>\n",
       "      <td>0.812627</td>\n",
       "      <td>0.864258</td>\n",
       "      <td>0.616604</td>\n",
       "      <td>0.167966</td>\n",
       "      <td>0.811223</td>\n",
       "      <td>0.938071</td>\n",
       "      <td>0.418462</td>\n",
       "      <td>0.472306</td>\n",
       "      <td>0.348347</td>\n",
       "      <td>0.671129</td>\n",
       "      <td>0</td>\n",
       "      <td>0.403480</td>\n",
       "    </tr>\n",
       "    <tr>\n",
       "      <th>997</th>\n",
       "      <td>0.250967</td>\n",
       "      <td>0.138627</td>\n",
       "      <td>0.919703</td>\n",
       "      <td>0.461234</td>\n",
       "      <td>0.886555</td>\n",
       "      <td>0.869888</td>\n",
       "      <td>0.800908</td>\n",
       "      <td>0.530324</td>\n",
       "      <td>0.779433</td>\n",
       "      <td>0.234952</td>\n",
       "      <td>0</td>\n",
       "      <td>0.337727</td>\n",
       "    </tr>\n",
       "    <tr>\n",
       "      <th>998</th>\n",
       "      <td>0.502436</td>\n",
       "      <td>0.936820</td>\n",
       "      <td>0.580062</td>\n",
       "      <td>0.540773</td>\n",
       "      <td>0.151995</td>\n",
       "      <td>0.059452</td>\n",
       "      <td>0.225220</td>\n",
       "      <td>0.242755</td>\n",
       "      <td>0.279385</td>\n",
       "      <td>0.538755</td>\n",
       "      <td>0</td>\n",
       "      <td>0.300265</td>\n",
       "    </tr>\n",
       "    <tr>\n",
       "      <th>999</th>\n",
       "      <td>0.457991</td>\n",
       "      <td>0.017755</td>\n",
       "      <td>0.714113</td>\n",
       "      <td>0.125992</td>\n",
       "      <td>0.063316</td>\n",
       "      <td>0.154739</td>\n",
       "      <td>0.922974</td>\n",
       "      <td>0.692299</td>\n",
       "      <td>0.816777</td>\n",
       "      <td>0.307592</td>\n",
       "      <td>0</td>\n",
       "      <td>0.367867</td>\n",
       "    </tr>\n",
       "  </tbody>\n",
       "</table>\n",
       "<p>1000 rows × 12 columns</p>\n",
       "</div>"
      ],
      "text/plain": [
       "         Col1      Col2      Col3      Col4      Col5      Col6      Col7  \\\n",
       "0    0.263995  0.764929  0.138424  0.935242  0.605867  0.518790  0.912225   \n",
       "1    0.546092  0.653975  0.065575  0.227772  0.845269  0.837066  0.272379   \n",
       "2    0.336714  0.538842  0.192801  0.553563  0.074515  0.332993  0.365792   \n",
       "3    0.092108  0.995017  0.014465  0.176371  0.241530  0.514724  0.562208   \n",
       "4    0.325261  0.805968  0.957033  0.331665  0.307923  0.355315  0.501899   \n",
       "..        ...       ...       ...       ...       ...       ...       ...   \n",
       "995  0.305055  0.656837  0.331665  0.822525  0.907127  0.882276  0.855732   \n",
       "996  0.812627  0.864258  0.616604  0.167966  0.811223  0.938071  0.418462   \n",
       "997  0.250967  0.138627  0.919703  0.461234  0.886555  0.869888  0.800908   \n",
       "998  0.502436  0.936820  0.580062  0.540773  0.151995  0.059452  0.225220   \n",
       "999  0.457991  0.017755  0.714113  0.125992  0.063316  0.154739  0.922974   \n",
       "\n",
       "         Col8      Col9     Col10  Label     Score  \n",
       "0    0.608234  0.723782  0.733591      0  0.558927  \n",
       "1    0.331679  0.429297  0.367422      0  0.477482  \n",
       "2    0.861309  0.899017  0.088600      0  0.676207  \n",
       "3    0.158963  0.073715  0.208463      1  0.804769  \n",
       "4    0.558449  0.885169  0.182754      0  0.630836  \n",
       "..        ...       ...       ...    ...       ...  \n",
       "995  0.584786  0.808640  0.242762      0  0.266822  \n",
       "996  0.472306  0.348347  0.671129      0  0.403480  \n",
       "997  0.530324  0.779433  0.234952      0  0.337727  \n",
       "998  0.242755  0.279385  0.538755      0  0.300265  \n",
       "999  0.692299  0.816777  0.307592      0  0.367867  \n",
       "\n",
       "[1000 rows x 12 columns]"
      ]
     },
     "execution_count": 8,
     "metadata": {},
     "output_type": "execute_result"
    }
   ],
   "source": [
    "# generating the predictions using KNN trained model\n",
    "knn_predictions = predict_model(knn, data = anomaly)\n",
    "\n",
    "# predictions with Label = 1 are considered anomalies\n",
    "knn_predictions"
   ]
  },
  {
   "cell_type": "code",
   "execution_count": 9,
   "metadata": {},
   "outputs": [
    {
     "data": {
      "text/html": [
       "<div>\n",
       "<style scoped>\n",
       "    .dataframe tbody tr th:only-of-type {\n",
       "        vertical-align: middle;\n",
       "    }\n",
       "\n",
       "    .dataframe tbody tr th {\n",
       "        vertical-align: top;\n",
       "    }\n",
       "\n",
       "    .dataframe thead th {\n",
       "        text-align: right;\n",
       "    }\n",
       "</style>\n",
       "<table border=\"1\" class=\"dataframe\">\n",
       "  <thead>\n",
       "    <tr style=\"text-align: right;\">\n",
       "      <th></th>\n",
       "      <th>Col1</th>\n",
       "      <th>Col2</th>\n",
       "      <th>Col3</th>\n",
       "      <th>Col4</th>\n",
       "      <th>Col5</th>\n",
       "      <th>Col6</th>\n",
       "      <th>Col7</th>\n",
       "      <th>Col8</th>\n",
       "      <th>Col9</th>\n",
       "      <th>Col10</th>\n",
       "      <th>Label</th>\n",
       "      <th>Score</th>\n",
       "    </tr>\n",
       "  </thead>\n",
       "  <tbody>\n",
       "    <tr>\n",
       "      <th>3</th>\n",
       "      <td>0.092108</td>\n",
       "      <td>0.995017</td>\n",
       "      <td>0.014465</td>\n",
       "      <td>0.176371</td>\n",
       "      <td>0.241530</td>\n",
       "      <td>0.514724</td>\n",
       "      <td>0.562208</td>\n",
       "      <td>0.158963</td>\n",
       "      <td>0.073715</td>\n",
       "      <td>0.208463</td>\n",
       "      <td>1</td>\n",
       "      <td>0.804769</td>\n",
       "    </tr>\n",
       "    <tr>\n",
       "      <th>8</th>\n",
       "      <td>0.197078</td>\n",
       "      <td>0.843918</td>\n",
       "      <td>0.243396</td>\n",
       "      <td>0.281278</td>\n",
       "      <td>0.329148</td>\n",
       "      <td>0.734582</td>\n",
       "      <td>0.191947</td>\n",
       "      <td>0.927804</td>\n",
       "      <td>0.713269</td>\n",
       "      <td>0.891548</td>\n",
       "      <td>1</td>\n",
       "      <td>0.844047</td>\n",
       "    </tr>\n",
       "    <tr>\n",
       "      <th>9</th>\n",
       "      <td>0.292985</td>\n",
       "      <td>0.703432</td>\n",
       "      <td>0.439621</td>\n",
       "      <td>0.107868</td>\n",
       "      <td>0.922947</td>\n",
       "      <td>0.253458</td>\n",
       "      <td>0.295652</td>\n",
       "      <td>0.355287</td>\n",
       "      <td>0.980911</td>\n",
       "      <td>0.308864</td>\n",
       "      <td>1</td>\n",
       "      <td>0.732952</td>\n",
       "    </tr>\n",
       "    <tr>\n",
       "      <th>11</th>\n",
       "      <td>0.796623</td>\n",
       "      <td>0.230543</td>\n",
       "      <td>0.993018</td>\n",
       "      <td>0.077075</td>\n",
       "      <td>0.094068</td>\n",
       "      <td>0.718628</td>\n",
       "      <td>0.977611</td>\n",
       "      <td>0.333386</td>\n",
       "      <td>0.634843</td>\n",
       "      <td>0.028729</td>\n",
       "      <td>1</td>\n",
       "      <td>0.830877</td>\n",
       "    </tr>\n",
       "    <tr>\n",
       "      <th>13</th>\n",
       "      <td>0.613660</td>\n",
       "      <td>0.709061</td>\n",
       "      <td>0.726767</td>\n",
       "      <td>0.862584</td>\n",
       "      <td>0.593116</td>\n",
       "      <td>0.474138</td>\n",
       "      <td>0.941633</td>\n",
       "      <td>0.788438</td>\n",
       "      <td>0.323293</td>\n",
       "      <td>0.931074</td>\n",
       "      <td>1</td>\n",
       "      <td>0.681433</td>\n",
       "    </tr>\n",
       "    <tr>\n",
       "      <th>14</th>\n",
       "      <td>0.950745</td>\n",
       "      <td>0.005154</td>\n",
       "      <td>0.084187</td>\n",
       "      <td>0.478148</td>\n",
       "      <td>0.212836</td>\n",
       "      <td>0.714347</td>\n",
       "      <td>0.664819</td>\n",
       "      <td>0.803558</td>\n",
       "      <td>0.465466</td>\n",
       "      <td>0.305692</td>\n",
       "      <td>1</td>\n",
       "      <td>0.821167</td>\n",
       "    </tr>\n",
       "    <tr>\n",
       "      <th>15</th>\n",
       "      <td>0.336346</td>\n",
       "      <td>0.252265</td>\n",
       "      <td>0.212287</td>\n",
       "      <td>0.020201</td>\n",
       "      <td>0.203514</td>\n",
       "      <td>0.534468</td>\n",
       "      <td>0.476263</td>\n",
       "      <td>0.845669</td>\n",
       "      <td>0.155377</td>\n",
       "      <td>0.442781</td>\n",
       "      <td>1</td>\n",
       "      <td>0.718586</td>\n",
       "    </tr>\n",
       "    <tr>\n",
       "      <th>17</th>\n",
       "      <td>0.741544</td>\n",
       "      <td>0.398253</td>\n",
       "      <td>0.766472</td>\n",
       "      <td>0.635670</td>\n",
       "      <td>0.261735</td>\n",
       "      <td>0.837371</td>\n",
       "      <td>0.001797</td>\n",
       "      <td>0.568841</td>\n",
       "      <td>0.037360</td>\n",
       "      <td>0.292769</td>\n",
       "      <td>1</td>\n",
       "      <td>0.791093</td>\n",
       "    </tr>\n",
       "    <tr>\n",
       "      <th>18</th>\n",
       "      <td>0.184433</td>\n",
       "      <td>0.174112</td>\n",
       "      <td>0.301976</td>\n",
       "      <td>0.895893</td>\n",
       "      <td>0.285614</td>\n",
       "      <td>0.615993</td>\n",
       "      <td>0.197073</td>\n",
       "      <td>0.738881</td>\n",
       "      <td>0.831371</td>\n",
       "      <td>0.265761</td>\n",
       "      <td>1</td>\n",
       "      <td>0.775046</td>\n",
       "    </tr>\n",
       "    <tr>\n",
       "      <th>20</th>\n",
       "      <td>0.162825</td>\n",
       "      <td>0.674069</td>\n",
       "      <td>0.705447</td>\n",
       "      <td>0.774799</td>\n",
       "      <td>0.894267</td>\n",
       "      <td>0.443057</td>\n",
       "      <td>0.399779</td>\n",
       "      <td>0.009136</td>\n",
       "      <td>0.941851</td>\n",
       "      <td>0.982711</td>\n",
       "      <td>1</td>\n",
       "      <td>0.856567</td>\n",
       "    </tr>\n",
       "    <tr>\n",
       "      <th>23</th>\n",
       "      <td>0.057884</td>\n",
       "      <td>0.227162</td>\n",
       "      <td>0.022494</td>\n",
       "      <td>0.167069</td>\n",
       "      <td>0.631315</td>\n",
       "      <td>0.610103</td>\n",
       "      <td>0.277753</td>\n",
       "      <td>0.728503</td>\n",
       "      <td>0.716414</td>\n",
       "      <td>0.973370</td>\n",
       "      <td>1</td>\n",
       "      <td>0.771412</td>\n",
       "    </tr>\n",
       "    <tr>\n",
       "      <th>24</th>\n",
       "      <td>0.445535</td>\n",
       "      <td>0.640881</td>\n",
       "      <td>0.689264</td>\n",
       "      <td>0.937542</td>\n",
       "      <td>0.037016</td>\n",
       "      <td>0.316847</td>\n",
       "      <td>0.972312</td>\n",
       "      <td>0.224585</td>\n",
       "      <td>0.393000</td>\n",
       "      <td>0.857239</td>\n",
       "      <td>1</td>\n",
       "      <td>0.736651</td>\n",
       "    </tr>\n",
       "    <tr>\n",
       "      <th>25</th>\n",
       "      <td>0.801837</td>\n",
       "      <td>0.272857</td>\n",
       "      <td>0.109206</td>\n",
       "      <td>0.922978</td>\n",
       "      <td>0.656014</td>\n",
       "      <td>0.376589</td>\n",
       "      <td>0.735547</td>\n",
       "      <td>0.302567</td>\n",
       "      <td>0.988732</td>\n",
       "      <td>0.847391</td>\n",
       "      <td>1</td>\n",
       "      <td>0.762585</td>\n",
       "    </tr>\n",
       "    <tr>\n",
       "      <th>28</th>\n",
       "      <td>0.834861</td>\n",
       "      <td>0.973891</td>\n",
       "      <td>0.808398</td>\n",
       "      <td>0.222828</td>\n",
       "      <td>0.018934</td>\n",
       "      <td>0.708188</td>\n",
       "      <td>0.986392</td>\n",
       "      <td>0.545479</td>\n",
       "      <td>0.235898</td>\n",
       "      <td>0.844788</td>\n",
       "      <td>1</td>\n",
       "      <td>0.883633</td>\n",
       "    </tr>\n",
       "    <tr>\n",
       "      <th>29</th>\n",
       "      <td>0.669767</td>\n",
       "      <td>0.694779</td>\n",
       "      <td>0.191048</td>\n",
       "      <td>0.080716</td>\n",
       "      <td>0.441480</td>\n",
       "      <td>0.115675</td>\n",
       "      <td>0.054466</td>\n",
       "      <td>0.949300</td>\n",
       "      <td>0.318667</td>\n",
       "      <td>0.410017</td>\n",
       "      <td>1</td>\n",
       "      <td>0.811543</td>\n",
       "    </tr>\n",
       "    <tr>\n",
       "      <th>32</th>\n",
       "      <td>0.510288</td>\n",
       "      <td>0.488385</td>\n",
       "      <td>0.598078</td>\n",
       "      <td>0.735532</td>\n",
       "      <td>0.959889</td>\n",
       "      <td>0.210081</td>\n",
       "      <td>0.719419</td>\n",
       "      <td>0.578130</td>\n",
       "      <td>0.890495</td>\n",
       "      <td>0.959144</td>\n",
       "      <td>1</td>\n",
       "      <td>0.747046</td>\n",
       "    </tr>\n",
       "    <tr>\n",
       "      <th>33</th>\n",
       "      <td>0.977562</td>\n",
       "      <td>0.125559</td>\n",
       "      <td>0.377839</td>\n",
       "      <td>0.195111</td>\n",
       "      <td>0.088484</td>\n",
       "      <td>0.644188</td>\n",
       "      <td>0.277623</td>\n",
       "      <td>0.741173</td>\n",
       "      <td>0.772889</td>\n",
       "      <td>0.780929</td>\n",
       "      <td>1</td>\n",
       "      <td>0.805365</td>\n",
       "    </tr>\n",
       "    <tr>\n",
       "      <th>43</th>\n",
       "      <td>0.178173</td>\n",
       "      <td>0.304310</td>\n",
       "      <td>0.028749</td>\n",
       "      <td>0.800844</td>\n",
       "      <td>0.161153</td>\n",
       "      <td>0.874650</td>\n",
       "      <td>0.984053</td>\n",
       "      <td>0.205747</td>\n",
       "      <td>0.029727</td>\n",
       "      <td>0.842088</td>\n",
       "      <td>1</td>\n",
       "      <td>1.003388</td>\n",
       "    </tr>\n",
       "    <tr>\n",
       "      <th>45</th>\n",
       "      <td>0.321797</td>\n",
       "      <td>0.094090</td>\n",
       "      <td>0.722048</td>\n",
       "      <td>0.330314</td>\n",
       "      <td>0.216936</td>\n",
       "      <td>0.341164</td>\n",
       "      <td>0.188359</td>\n",
       "      <td>0.774158</td>\n",
       "      <td>0.210362</td>\n",
       "      <td>0.160779</td>\n",
       "      <td>1</td>\n",
       "      <td>0.756854</td>\n",
       "    </tr>\n",
       "    <tr>\n",
       "      <th>46</th>\n",
       "      <td>0.817491</td>\n",
       "      <td>0.647528</td>\n",
       "      <td>0.046214</td>\n",
       "      <td>0.487270</td>\n",
       "      <td>0.053872</td>\n",
       "      <td>0.817499</td>\n",
       "      <td>0.390589</td>\n",
       "      <td>0.394750</td>\n",
       "      <td>0.736854</td>\n",
       "      <td>0.442689</td>\n",
       "      <td>1</td>\n",
       "      <td>0.725131</td>\n",
       "    </tr>\n",
       "    <tr>\n",
       "      <th>48</th>\n",
       "      <td>0.344141</td>\n",
       "      <td>0.365421</td>\n",
       "      <td>0.819994</td>\n",
       "      <td>0.142905</td>\n",
       "      <td>0.104520</td>\n",
       "      <td>0.560444</td>\n",
       "      <td>0.785413</td>\n",
       "      <td>0.085636</td>\n",
       "      <td>0.442044</td>\n",
       "      <td>0.160792</td>\n",
       "      <td>1</td>\n",
       "      <td>0.686254</td>\n",
       "    </tr>\n",
       "    <tr>\n",
       "      <th>51</th>\n",
       "      <td>0.544329</td>\n",
       "      <td>0.042685</td>\n",
       "      <td>0.653127</td>\n",
       "      <td>0.959081</td>\n",
       "      <td>0.211368</td>\n",
       "      <td>0.973765</td>\n",
       "      <td>0.303781</td>\n",
       "      <td>0.487732</td>\n",
       "      <td>0.971283</td>\n",
       "      <td>0.301297</td>\n",
       "      <td>1</td>\n",
       "      <td>0.898323</td>\n",
       "    </tr>\n",
       "    <tr>\n",
       "      <th>53</th>\n",
       "      <td>0.273081</td>\n",
       "      <td>0.097663</td>\n",
       "      <td>0.491502</td>\n",
       "      <td>0.065955</td>\n",
       "      <td>0.087729</td>\n",
       "      <td>0.727528</td>\n",
       "      <td>0.004372</td>\n",
       "      <td>0.903040</td>\n",
       "      <td>0.254568</td>\n",
       "      <td>0.402991</td>\n",
       "      <td>1</td>\n",
       "      <td>0.831916</td>\n",
       "    </tr>\n",
       "    <tr>\n",
       "      <th>54</th>\n",
       "      <td>0.390877</td>\n",
       "      <td>0.657193</td>\n",
       "      <td>0.215504</td>\n",
       "      <td>0.601380</td>\n",
       "      <td>0.422741</td>\n",
       "      <td>0.310370</td>\n",
       "      <td>0.684436</td>\n",
       "      <td>0.058938</td>\n",
       "      <td>0.072061</td>\n",
       "      <td>0.641133</td>\n",
       "      <td>1</td>\n",
       "      <td>0.684209</td>\n",
       "    </tr>\n",
       "    <tr>\n",
       "      <th>55</th>\n",
       "      <td>0.349621</td>\n",
       "      <td>0.217426</td>\n",
       "      <td>0.703498</td>\n",
       "      <td>0.925354</td>\n",
       "      <td>0.634280</td>\n",
       "      <td>0.226301</td>\n",
       "      <td>0.067452</td>\n",
       "      <td>0.355699</td>\n",
       "      <td>0.962699</td>\n",
       "      <td>0.168724</td>\n",
       "      <td>1</td>\n",
       "      <td>0.809304</td>\n",
       "    </tr>\n",
       "    <tr>\n",
       "      <th>56</th>\n",
       "      <td>0.214550</td>\n",
       "      <td>0.567478</td>\n",
       "      <td>0.559684</td>\n",
       "      <td>0.535956</td>\n",
       "      <td>0.904327</td>\n",
       "      <td>0.005931</td>\n",
       "      <td>0.156257</td>\n",
       "      <td>0.515366</td>\n",
       "      <td>0.566043</td>\n",
       "      <td>0.498918</td>\n",
       "      <td>1</td>\n",
       "      <td>0.688223</td>\n",
       "    </tr>\n",
       "    <tr>\n",
       "      <th>59</th>\n",
       "      <td>0.981709</td>\n",
       "      <td>0.253236</td>\n",
       "      <td>0.695971</td>\n",
       "      <td>0.918359</td>\n",
       "      <td>0.108317</td>\n",
       "      <td>0.656997</td>\n",
       "      <td>0.806218</td>\n",
       "      <td>0.924069</td>\n",
       "      <td>0.916568</td>\n",
       "      <td>0.406505</td>\n",
       "      <td>1</td>\n",
       "      <td>0.797255</td>\n",
       "    </tr>\n",
       "    <tr>\n",
       "      <th>61</th>\n",
       "      <td>0.648387</td>\n",
       "      <td>0.325067</td>\n",
       "      <td>0.759723</td>\n",
       "      <td>0.589656</td>\n",
       "      <td>0.403953</td>\n",
       "      <td>0.776492</td>\n",
       "      <td>0.729066</td>\n",
       "      <td>0.553150</td>\n",
       "      <td>0.014761</td>\n",
       "      <td>0.422957</td>\n",
       "      <td>1</td>\n",
       "      <td>0.704791</td>\n",
       "    </tr>\n",
       "    <tr>\n",
       "      <th>63</th>\n",
       "      <td>0.837803</td>\n",
       "      <td>0.793079</td>\n",
       "      <td>0.003605</td>\n",
       "      <td>0.165423</td>\n",
       "      <td>0.170273</td>\n",
       "      <td>0.374682</td>\n",
       "      <td>0.514763</td>\n",
       "      <td>0.185381</td>\n",
       "      <td>0.079298</td>\n",
       "      <td>0.954650</td>\n",
       "      <td>1</td>\n",
       "      <td>0.758680</td>\n",
       "    </tr>\n",
       "    <tr>\n",
       "      <th>65</th>\n",
       "      <td>0.291404</td>\n",
       "      <td>0.436354</td>\n",
       "      <td>0.345926</td>\n",
       "      <td>0.328096</td>\n",
       "      <td>0.117581</td>\n",
       "      <td>0.997211</td>\n",
       "      <td>0.528922</td>\n",
       "      <td>0.414090</td>\n",
       "      <td>0.646658</td>\n",
       "      <td>0.277670</td>\n",
       "      <td>1</td>\n",
       "      <td>0.805728</td>\n",
       "    </tr>\n",
       "    <tr>\n",
       "      <th>700</th>\n",
       "      <td>0.539521</td>\n",
       "      <td>0.006844</td>\n",
       "      <td>0.379683</td>\n",
       "      <td>0.915896</td>\n",
       "      <td>0.708540</td>\n",
       "      <td>0.606755</td>\n",
       "      <td>0.504256</td>\n",
       "      <td>0.941473</td>\n",
       "      <td>0.019866</td>\n",
       "      <td>0.092027</td>\n",
       "      <td>1</td>\n",
       "      <td>0.847338</td>\n",
       "    </tr>\n",
       "    <tr>\n",
       "      <th>703</th>\n",
       "      <td>0.676398</td>\n",
       "      <td>0.514887</td>\n",
       "      <td>0.895753</td>\n",
       "      <td>0.176415</td>\n",
       "      <td>0.214757</td>\n",
       "      <td>0.741506</td>\n",
       "      <td>0.894564</td>\n",
       "      <td>0.148374</td>\n",
       "      <td>0.122150</td>\n",
       "      <td>0.967965</td>\n",
       "      <td>1</td>\n",
       "      <td>0.914955</td>\n",
       "    </tr>\n",
       "    <tr>\n",
       "      <th>707</th>\n",
       "      <td>0.187487</td>\n",
       "      <td>0.057446</td>\n",
       "      <td>0.369339</td>\n",
       "      <td>0.559828</td>\n",
       "      <td>0.014315</td>\n",
       "      <td>0.325849</td>\n",
       "      <td>0.369230</td>\n",
       "      <td>0.617411</td>\n",
       "      <td>0.944126</td>\n",
       "      <td>0.770444</td>\n",
       "      <td>1</td>\n",
       "      <td>0.761566</td>\n",
       "    </tr>\n",
       "    <tr>\n",
       "      <th>708</th>\n",
       "      <td>0.052790</td>\n",
       "      <td>0.566393</td>\n",
       "      <td>0.285096</td>\n",
       "      <td>0.795340</td>\n",
       "      <td>0.523658</td>\n",
       "      <td>0.964553</td>\n",
       "      <td>0.789691</td>\n",
       "      <td>0.944700</td>\n",
       "      <td>0.062553</td>\n",
       "      <td>0.179371</td>\n",
       "      <td>1</td>\n",
       "      <td>0.827384</td>\n",
       "    </tr>\n",
       "    <tr>\n",
       "      <th>709</th>\n",
       "      <td>0.505864</td>\n",
       "      <td>0.231274</td>\n",
       "      <td>0.268309</td>\n",
       "      <td>0.795418</td>\n",
       "      <td>0.254847</td>\n",
       "      <td>0.515858</td>\n",
       "      <td>0.781295</td>\n",
       "      <td>0.111659</td>\n",
       "      <td>0.519996</td>\n",
       "      <td>0.723326</td>\n",
       "      <td>1</td>\n",
       "      <td>0.724600</td>\n",
       "    </tr>\n",
       "    <tr>\n",
       "      <th>710</th>\n",
       "      <td>0.927432</td>\n",
       "      <td>0.088497</td>\n",
       "      <td>0.251848</td>\n",
       "      <td>0.243690</td>\n",
       "      <td>0.120432</td>\n",
       "      <td>0.756917</td>\n",
       "      <td>0.521119</td>\n",
       "      <td>0.130158</td>\n",
       "      <td>0.747129</td>\n",
       "      <td>0.508585</td>\n",
       "      <td>1</td>\n",
       "      <td>0.833990</td>\n",
       "    </tr>\n",
       "    <tr>\n",
       "      <th>712</th>\n",
       "      <td>0.882822</td>\n",
       "      <td>0.517934</td>\n",
       "      <td>0.615919</td>\n",
       "      <td>0.543449</td>\n",
       "      <td>0.662865</td>\n",
       "      <td>0.755802</td>\n",
       "      <td>0.872439</td>\n",
       "      <td>0.006749</td>\n",
       "      <td>0.263889</td>\n",
       "      <td>0.135646</td>\n",
       "      <td>1</td>\n",
       "      <td>0.719406</td>\n",
       "    </tr>\n",
       "    <tr>\n",
       "      <th>713</th>\n",
       "      <td>0.495705</td>\n",
       "      <td>0.063449</td>\n",
       "      <td>0.054014</td>\n",
       "      <td>0.832054</td>\n",
       "      <td>0.790832</td>\n",
       "      <td>0.229366</td>\n",
       "      <td>0.425390</td>\n",
       "      <td>0.050938</td>\n",
       "      <td>0.725988</td>\n",
       "      <td>0.942197</td>\n",
       "      <td>1</td>\n",
       "      <td>0.779267</td>\n",
       "    </tr>\n",
       "    <tr>\n",
       "      <th>716</th>\n",
       "      <td>0.341369</td>\n",
       "      <td>0.538199</td>\n",
       "      <td>0.414272</td>\n",
       "      <td>0.460352</td>\n",
       "      <td>0.442762</td>\n",
       "      <td>0.269584</td>\n",
       "      <td>0.260125</td>\n",
       "      <td>0.004269</td>\n",
       "      <td>0.957254</td>\n",
       "      <td>0.874111</td>\n",
       "      <td>1</td>\n",
       "      <td>0.706757</td>\n",
       "    </tr>\n",
       "    <tr>\n",
       "      <th>717</th>\n",
       "      <td>0.159682</td>\n",
       "      <td>0.825127</td>\n",
       "      <td>0.716445</td>\n",
       "      <td>0.069445</td>\n",
       "      <td>0.032148</td>\n",
       "      <td>0.654702</td>\n",
       "      <td>0.028203</td>\n",
       "      <td>0.886761</td>\n",
       "      <td>0.165482</td>\n",
       "      <td>0.116204</td>\n",
       "      <td>1</td>\n",
       "      <td>0.971632</td>\n",
       "    </tr>\n",
       "    <tr>\n",
       "      <th>718</th>\n",
       "      <td>0.318134</td>\n",
       "      <td>0.984550</td>\n",
       "      <td>0.858386</td>\n",
       "      <td>0.872008</td>\n",
       "      <td>0.950152</td>\n",
       "      <td>0.298551</td>\n",
       "      <td>0.275030</td>\n",
       "      <td>0.207604</td>\n",
       "      <td>0.855490</td>\n",
       "      <td>0.191021</td>\n",
       "      <td>1</td>\n",
       "      <td>0.815154</td>\n",
       "    </tr>\n",
       "    <tr>\n",
       "      <th>720</th>\n",
       "      <td>0.064359</td>\n",
       "      <td>0.129525</td>\n",
       "      <td>0.183766</td>\n",
       "      <td>0.860040</td>\n",
       "      <td>0.254505</td>\n",
       "      <td>0.440920</td>\n",
       "      <td>0.089274</td>\n",
       "      <td>0.941902</td>\n",
       "      <td>0.904978</td>\n",
       "      <td>0.215016</td>\n",
       "      <td>1</td>\n",
       "      <td>0.925821</td>\n",
       "    </tr>\n",
       "    <tr>\n",
       "      <th>722</th>\n",
       "      <td>0.776252</td>\n",
       "      <td>0.416737</td>\n",
       "      <td>0.155131</td>\n",
       "      <td>0.556724</td>\n",
       "      <td>0.937436</td>\n",
       "      <td>0.091686</td>\n",
       "      <td>0.689603</td>\n",
       "      <td>0.064191</td>\n",
       "      <td>0.119276</td>\n",
       "      <td>0.985357</td>\n",
       "      <td>1</td>\n",
       "      <td>0.823334</td>\n",
       "    </tr>\n",
       "    <tr>\n",
       "      <th>723</th>\n",
       "      <td>0.635843</td>\n",
       "      <td>0.236965</td>\n",
       "      <td>0.504282</td>\n",
       "      <td>0.855775</td>\n",
       "      <td>0.239229</td>\n",
       "      <td>0.782783</td>\n",
       "      <td>0.386076</td>\n",
       "      <td>0.063988</td>\n",
       "      <td>0.767963</td>\n",
       "      <td>0.093871</td>\n",
       "      <td>1</td>\n",
       "      <td>0.835272</td>\n",
       "    </tr>\n",
       "    <tr>\n",
       "      <th>724</th>\n",
       "      <td>0.625105</td>\n",
       "      <td>0.873683</td>\n",
       "      <td>0.184258</td>\n",
       "      <td>0.907081</td>\n",
       "      <td>0.086882</td>\n",
       "      <td>0.856332</td>\n",
       "      <td>0.040426</td>\n",
       "      <td>0.755437</td>\n",
       "      <td>0.161329</td>\n",
       "      <td>0.748238</td>\n",
       "      <td>1</td>\n",
       "      <td>0.891704</td>\n",
       "    </tr>\n",
       "    <tr>\n",
       "      <th>725</th>\n",
       "      <td>0.529591</td>\n",
       "      <td>0.596996</td>\n",
       "      <td>0.940384</td>\n",
       "      <td>0.377583</td>\n",
       "      <td>0.677983</td>\n",
       "      <td>0.109523</td>\n",
       "      <td>0.786714</td>\n",
       "      <td>0.571454</td>\n",
       "      <td>0.816607</td>\n",
       "      <td>0.812012</td>\n",
       "      <td>1</td>\n",
       "      <td>0.695102</td>\n",
       "    </tr>\n",
       "  </tbody>\n",
       "</table>\n",
       "</div>"
      ],
      "text/plain": [
       "         Col1      Col2      Col3      Col4      Col5      Col6      Col7  \\\n",
       "3    0.092108  0.995017  0.014465  0.176371  0.241530  0.514724  0.562208   \n",
       "8    0.197078  0.843918  0.243396  0.281278  0.329148  0.734582  0.191947   \n",
       "9    0.292985  0.703432  0.439621  0.107868  0.922947  0.253458  0.295652   \n",
       "11   0.796623  0.230543  0.993018  0.077075  0.094068  0.718628  0.977611   \n",
       "13   0.613660  0.709061  0.726767  0.862584  0.593116  0.474138  0.941633   \n",
       "14   0.950745  0.005154  0.084187  0.478148  0.212836  0.714347  0.664819   \n",
       "15   0.336346  0.252265  0.212287  0.020201  0.203514  0.534468  0.476263   \n",
       "17   0.741544  0.398253  0.766472  0.635670  0.261735  0.837371  0.001797   \n",
       "18   0.184433  0.174112  0.301976  0.895893  0.285614  0.615993  0.197073   \n",
       "20   0.162825  0.674069  0.705447  0.774799  0.894267  0.443057  0.399779   \n",
       "23   0.057884  0.227162  0.022494  0.167069  0.631315  0.610103  0.277753   \n",
       "24   0.445535  0.640881  0.689264  0.937542  0.037016  0.316847  0.972312   \n",
       "25   0.801837  0.272857  0.109206  0.922978  0.656014  0.376589  0.735547   \n",
       "28   0.834861  0.973891  0.808398  0.222828  0.018934  0.708188  0.986392   \n",
       "29   0.669767  0.694779  0.191048  0.080716  0.441480  0.115675  0.054466   \n",
       "32   0.510288  0.488385  0.598078  0.735532  0.959889  0.210081  0.719419   \n",
       "33   0.977562  0.125559  0.377839  0.195111  0.088484  0.644188  0.277623   \n",
       "43   0.178173  0.304310  0.028749  0.800844  0.161153  0.874650  0.984053   \n",
       "45   0.321797  0.094090  0.722048  0.330314  0.216936  0.341164  0.188359   \n",
       "46   0.817491  0.647528  0.046214  0.487270  0.053872  0.817499  0.390589   \n",
       "48   0.344141  0.365421  0.819994  0.142905  0.104520  0.560444  0.785413   \n",
       "51   0.544329  0.042685  0.653127  0.959081  0.211368  0.973765  0.303781   \n",
       "53   0.273081  0.097663  0.491502  0.065955  0.087729  0.727528  0.004372   \n",
       "54   0.390877  0.657193  0.215504  0.601380  0.422741  0.310370  0.684436   \n",
       "55   0.349621  0.217426  0.703498  0.925354  0.634280  0.226301  0.067452   \n",
       "56   0.214550  0.567478  0.559684  0.535956  0.904327  0.005931  0.156257   \n",
       "59   0.981709  0.253236  0.695971  0.918359  0.108317  0.656997  0.806218   \n",
       "61   0.648387  0.325067  0.759723  0.589656  0.403953  0.776492  0.729066   \n",
       "63   0.837803  0.793079  0.003605  0.165423  0.170273  0.374682  0.514763   \n",
       "65   0.291404  0.436354  0.345926  0.328096  0.117581  0.997211  0.528922   \n",
       "700  0.539521  0.006844  0.379683  0.915896  0.708540  0.606755  0.504256   \n",
       "703  0.676398  0.514887  0.895753  0.176415  0.214757  0.741506  0.894564   \n",
       "707  0.187487  0.057446  0.369339  0.559828  0.014315  0.325849  0.369230   \n",
       "708  0.052790  0.566393  0.285096  0.795340  0.523658  0.964553  0.789691   \n",
       "709  0.505864  0.231274  0.268309  0.795418  0.254847  0.515858  0.781295   \n",
       "710  0.927432  0.088497  0.251848  0.243690  0.120432  0.756917  0.521119   \n",
       "712  0.882822  0.517934  0.615919  0.543449  0.662865  0.755802  0.872439   \n",
       "713  0.495705  0.063449  0.054014  0.832054  0.790832  0.229366  0.425390   \n",
       "716  0.341369  0.538199  0.414272  0.460352  0.442762  0.269584  0.260125   \n",
       "717  0.159682  0.825127  0.716445  0.069445  0.032148  0.654702  0.028203   \n",
       "718  0.318134  0.984550  0.858386  0.872008  0.950152  0.298551  0.275030   \n",
       "720  0.064359  0.129525  0.183766  0.860040  0.254505  0.440920  0.089274   \n",
       "722  0.776252  0.416737  0.155131  0.556724  0.937436  0.091686  0.689603   \n",
       "723  0.635843  0.236965  0.504282  0.855775  0.239229  0.782783  0.386076   \n",
       "724  0.625105  0.873683  0.184258  0.907081  0.086882  0.856332  0.040426   \n",
       "725  0.529591  0.596996  0.940384  0.377583  0.677983  0.109523  0.786714   \n",
       "\n",
       "         Col8      Col9     Col10  Label     Score  \n",
       "3    0.158963  0.073715  0.208463      1  0.804769  \n",
       "8    0.927804  0.713269  0.891548      1  0.844047  \n",
       "9    0.355287  0.980911  0.308864      1  0.732952  \n",
       "11   0.333386  0.634843  0.028729      1  0.830877  \n",
       "13   0.788438  0.323293  0.931074      1  0.681433  \n",
       "14   0.803558  0.465466  0.305692      1  0.821167  \n",
       "15   0.845669  0.155377  0.442781      1  0.718586  \n",
       "17   0.568841  0.037360  0.292769      1  0.791093  \n",
       "18   0.738881  0.831371  0.265761      1  0.775046  \n",
       "20   0.009136  0.941851  0.982711      1  0.856567  \n",
       "23   0.728503  0.716414  0.973370      1  0.771412  \n",
       "24   0.224585  0.393000  0.857239      1  0.736651  \n",
       "25   0.302567  0.988732  0.847391      1  0.762585  \n",
       "28   0.545479  0.235898  0.844788      1  0.883633  \n",
       "29   0.949300  0.318667  0.410017      1  0.811543  \n",
       "32   0.578130  0.890495  0.959144      1  0.747046  \n",
       "33   0.741173  0.772889  0.780929      1  0.805365  \n",
       "43   0.205747  0.029727  0.842088      1  1.003388  \n",
       "45   0.774158  0.210362  0.160779      1  0.756854  \n",
       "46   0.394750  0.736854  0.442689      1  0.725131  \n",
       "48   0.085636  0.442044  0.160792      1  0.686254  \n",
       "51   0.487732  0.971283  0.301297      1  0.898323  \n",
       "53   0.903040  0.254568  0.402991      1  0.831916  \n",
       "54   0.058938  0.072061  0.641133      1  0.684209  \n",
       "55   0.355699  0.962699  0.168724      1  0.809304  \n",
       "56   0.515366  0.566043  0.498918      1  0.688223  \n",
       "59   0.924069  0.916568  0.406505      1  0.797255  \n",
       "61   0.553150  0.014761  0.422957      1  0.704791  \n",
       "63   0.185381  0.079298  0.954650      1  0.758680  \n",
       "65   0.414090  0.646658  0.277670      1  0.805728  \n",
       "700  0.941473  0.019866  0.092027      1  0.847338  \n",
       "703  0.148374  0.122150  0.967965      1  0.914955  \n",
       "707  0.617411  0.944126  0.770444      1  0.761566  \n",
       "708  0.944700  0.062553  0.179371      1  0.827384  \n",
       "709  0.111659  0.519996  0.723326      1  0.724600  \n",
       "710  0.130158  0.747129  0.508585      1  0.833990  \n",
       "712  0.006749  0.263889  0.135646      1  0.719406  \n",
       "713  0.050938  0.725988  0.942197      1  0.779267  \n",
       "716  0.004269  0.957254  0.874111      1  0.706757  \n",
       "717  0.886761  0.165482  0.116204      1  0.971632  \n",
       "718  0.207604  0.855490  0.191021      1  0.815154  \n",
       "720  0.941902  0.904978  0.215016      1  0.925821  \n",
       "722  0.064191  0.119276  0.985357      1  0.823334  \n",
       "723  0.063988  0.767963  0.093871      1  0.835272  \n",
       "724  0.755437  0.161329  0.748238      1  0.891704  \n",
       "725  0.571454  0.816607  0.812012      1  0.695102  "
      ]
     },
     "execution_count": 9,
     "metadata": {},
     "output_type": "execute_result"
    }
   ],
   "source": [
    "# checking anomaly rows\n",
    "anomaly_rows = knn_predictions[knn_predictions[\"Label\"] == 1]\n",
    "anomaly_rows"
   ]
  },
  {
   "cell_type": "code",
   "execution_count": 10,
   "metadata": {},
   "outputs": [
    {
     "data": {
      "text/plain": [
       "(46, 12)"
      ]
     },
     "execution_count": 10,
     "metadata": {},
     "output_type": "execute_result"
    }
   ],
   "source": [
    "# checking anomaly row count\n",
    "anomaly_rows.shape   # returned 46 rows as rows with anomalies"
   ]
  },
  {
   "cell_type": "code",
   "execution_count": null,
   "metadata": {},
   "outputs": [],
   "source": []
  }
 ],
 "metadata": {
  "kernelspec": {
   "display_name": "pycaret1",
   "language": "python",
   "name": "pycaret1"
  },
  "language_info": {
   "codemirror_mode": {
    "name": "ipython",
    "version": 3
   },
   "file_extension": ".py",
   "mimetype": "text/x-python",
   "name": "python",
   "nbconvert_exporter": "python",
   "pygments_lexer": "ipython3",
   "version": "3.7.5"
  }
 },
 "nbformat": 4,
 "nbformat_minor": 2
}
