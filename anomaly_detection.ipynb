{
 "cells": [
  {
   "cell_type": "markdown",
   "metadata": {},
   "source": [
    "## Anomaly Detection using Pycaret\n",
    "\n",
    "PyCaret’s Anomaly Detection Module is an unsupervised machine learning module that is used for identifying rare items, events or observations which raise suspicions by differing significantly from the majority of the data. Typically, the anomalous items will translate to some kind of problem such as bank fraud, a structural defect, medical problems or errors . This module provide several pre-processing features that prepares the data for modeling through setup function. This module has over 12 ready-to-use algorithms and several plots to analyze the results of trained models."
   ]
  },
  {
   "cell_type": "code",
   "execution_count": 1,
   "metadata": {},
   "outputs": [
    {
     "name": "stdout",
     "output_type": "stream",
     "text": [
      "\n",
      "Setup Succesfully Completed!\n"
     ]
    },
    {
     "data": {
      "text/html": [
       "<style  type=\"text/css\" >\n",
       "</style><table id=\"T_3bd7c1fa_b4d2_11ea_a251_380025f3998f\" ><thead>    <tr>        <th class=\"blank level0\" ></th>        <th class=\"col_heading level0 col0\" >Description</th>        <th class=\"col_heading level0 col1\" >Value</th>    </tr></thead><tbody>\n",
       "                <tr>\n",
       "                        <th id=\"T_3bd7c1fa_b4d2_11ea_a251_380025f3998flevel0_row0\" class=\"row_heading level0 row0\" >0</th>\n",
       "                        <td id=\"T_3bd7c1fa_b4d2_11ea_a251_380025f3998frow0_col0\" class=\"data row0 col0\" >session_id </td>\n",
       "                        <td id=\"T_3bd7c1fa_b4d2_11ea_a251_380025f3998frow0_col1\" class=\"data row0 col1\" >3914</td>\n",
       "            </tr>\n",
       "            <tr>\n",
       "                        <th id=\"T_3bd7c1fa_b4d2_11ea_a251_380025f3998flevel0_row1\" class=\"row_heading level0 row1\" >1</th>\n",
       "                        <td id=\"T_3bd7c1fa_b4d2_11ea_a251_380025f3998frow1_col0\" class=\"data row1 col0\" >Original Data </td>\n",
       "                        <td id=\"T_3bd7c1fa_b4d2_11ea_a251_380025f3998frow1_col1\" class=\"data row1 col1\" >(1000, 10)</td>\n",
       "            </tr>\n",
       "            <tr>\n",
       "                        <th id=\"T_3bd7c1fa_b4d2_11ea_a251_380025f3998flevel0_row2\" class=\"row_heading level0 row2\" >2</th>\n",
       "                        <td id=\"T_3bd7c1fa_b4d2_11ea_a251_380025f3998frow2_col0\" class=\"data row2 col0\" >Missing Values </td>\n",
       "                        <td id=\"T_3bd7c1fa_b4d2_11ea_a251_380025f3998frow2_col1\" class=\"data row2 col1\" >False</td>\n",
       "            </tr>\n",
       "            <tr>\n",
       "                        <th id=\"T_3bd7c1fa_b4d2_11ea_a251_380025f3998flevel0_row3\" class=\"row_heading level0 row3\" >3</th>\n",
       "                        <td id=\"T_3bd7c1fa_b4d2_11ea_a251_380025f3998frow3_col0\" class=\"data row3 col0\" >Numeric Features </td>\n",
       "                        <td id=\"T_3bd7c1fa_b4d2_11ea_a251_380025f3998frow3_col1\" class=\"data row3 col1\" >10</td>\n",
       "            </tr>\n",
       "            <tr>\n",
       "                        <th id=\"T_3bd7c1fa_b4d2_11ea_a251_380025f3998flevel0_row4\" class=\"row_heading level0 row4\" >4</th>\n",
       "                        <td id=\"T_3bd7c1fa_b4d2_11ea_a251_380025f3998frow4_col0\" class=\"data row4 col0\" >Categorical Features </td>\n",
       "                        <td id=\"T_3bd7c1fa_b4d2_11ea_a251_380025f3998frow4_col1\" class=\"data row4 col1\" >0</td>\n",
       "            </tr>\n",
       "            <tr>\n",
       "                        <th id=\"T_3bd7c1fa_b4d2_11ea_a251_380025f3998flevel0_row5\" class=\"row_heading level0 row5\" >5</th>\n",
       "                        <td id=\"T_3bd7c1fa_b4d2_11ea_a251_380025f3998frow5_col0\" class=\"data row5 col0\" >Ordinal Features </td>\n",
       "                        <td id=\"T_3bd7c1fa_b4d2_11ea_a251_380025f3998frow5_col1\" class=\"data row5 col1\" >False</td>\n",
       "            </tr>\n",
       "            <tr>\n",
       "                        <th id=\"T_3bd7c1fa_b4d2_11ea_a251_380025f3998flevel0_row6\" class=\"row_heading level0 row6\" >6</th>\n",
       "                        <td id=\"T_3bd7c1fa_b4d2_11ea_a251_380025f3998frow6_col0\" class=\"data row6 col0\" >High Cardinality Features </td>\n",
       "                        <td id=\"T_3bd7c1fa_b4d2_11ea_a251_380025f3998frow6_col1\" class=\"data row6 col1\" >False</td>\n",
       "            </tr>\n",
       "            <tr>\n",
       "                        <th id=\"T_3bd7c1fa_b4d2_11ea_a251_380025f3998flevel0_row7\" class=\"row_heading level0 row7\" >7</th>\n",
       "                        <td id=\"T_3bd7c1fa_b4d2_11ea_a251_380025f3998frow7_col0\" class=\"data row7 col0\" >Transformed Data </td>\n",
       "                        <td id=\"T_3bd7c1fa_b4d2_11ea_a251_380025f3998frow7_col1\" class=\"data row7 col1\" >(1000, 10)</td>\n",
       "            </tr>\n",
       "            <tr>\n",
       "                        <th id=\"T_3bd7c1fa_b4d2_11ea_a251_380025f3998flevel0_row8\" class=\"row_heading level0 row8\" >8</th>\n",
       "                        <td id=\"T_3bd7c1fa_b4d2_11ea_a251_380025f3998frow8_col0\" class=\"data row8 col0\" >Numeric Imputer </td>\n",
       "                        <td id=\"T_3bd7c1fa_b4d2_11ea_a251_380025f3998frow8_col1\" class=\"data row8 col1\" >mean</td>\n",
       "            </tr>\n",
       "            <tr>\n",
       "                        <th id=\"T_3bd7c1fa_b4d2_11ea_a251_380025f3998flevel0_row9\" class=\"row_heading level0 row9\" >9</th>\n",
       "                        <td id=\"T_3bd7c1fa_b4d2_11ea_a251_380025f3998frow9_col0\" class=\"data row9 col0\" >Categorical Imputer </td>\n",
       "                        <td id=\"T_3bd7c1fa_b4d2_11ea_a251_380025f3998frow9_col1\" class=\"data row9 col1\" >constant</td>\n",
       "            </tr>\n",
       "            <tr>\n",
       "                        <th id=\"T_3bd7c1fa_b4d2_11ea_a251_380025f3998flevel0_row10\" class=\"row_heading level0 row10\" >10</th>\n",
       "                        <td id=\"T_3bd7c1fa_b4d2_11ea_a251_380025f3998frow10_col0\" class=\"data row10 col0\" >Normalize </td>\n",
       "                        <td id=\"T_3bd7c1fa_b4d2_11ea_a251_380025f3998frow10_col1\" class=\"data row10 col1\" >False</td>\n",
       "            </tr>\n",
       "            <tr>\n",
       "                        <th id=\"T_3bd7c1fa_b4d2_11ea_a251_380025f3998flevel0_row11\" class=\"row_heading level0 row11\" >11</th>\n",
       "                        <td id=\"T_3bd7c1fa_b4d2_11ea_a251_380025f3998frow11_col0\" class=\"data row11 col0\" >Normalize Method </td>\n",
       "                        <td id=\"T_3bd7c1fa_b4d2_11ea_a251_380025f3998frow11_col1\" class=\"data row11 col1\" >None</td>\n",
       "            </tr>\n",
       "            <tr>\n",
       "                        <th id=\"T_3bd7c1fa_b4d2_11ea_a251_380025f3998flevel0_row12\" class=\"row_heading level0 row12\" >12</th>\n",
       "                        <td id=\"T_3bd7c1fa_b4d2_11ea_a251_380025f3998frow12_col0\" class=\"data row12 col0\" >Transformation </td>\n",
       "                        <td id=\"T_3bd7c1fa_b4d2_11ea_a251_380025f3998frow12_col1\" class=\"data row12 col1\" >False</td>\n",
       "            </tr>\n",
       "            <tr>\n",
       "                        <th id=\"T_3bd7c1fa_b4d2_11ea_a251_380025f3998flevel0_row13\" class=\"row_heading level0 row13\" >13</th>\n",
       "                        <td id=\"T_3bd7c1fa_b4d2_11ea_a251_380025f3998frow13_col0\" class=\"data row13 col0\" >Transformation Method </td>\n",
       "                        <td id=\"T_3bd7c1fa_b4d2_11ea_a251_380025f3998frow13_col1\" class=\"data row13 col1\" >None</td>\n",
       "            </tr>\n",
       "            <tr>\n",
       "                        <th id=\"T_3bd7c1fa_b4d2_11ea_a251_380025f3998flevel0_row14\" class=\"row_heading level0 row14\" >14</th>\n",
       "                        <td id=\"T_3bd7c1fa_b4d2_11ea_a251_380025f3998frow14_col0\" class=\"data row14 col0\" >PCA </td>\n",
       "                        <td id=\"T_3bd7c1fa_b4d2_11ea_a251_380025f3998frow14_col1\" class=\"data row14 col1\" >False</td>\n",
       "            </tr>\n",
       "            <tr>\n",
       "                        <th id=\"T_3bd7c1fa_b4d2_11ea_a251_380025f3998flevel0_row15\" class=\"row_heading level0 row15\" >15</th>\n",
       "                        <td id=\"T_3bd7c1fa_b4d2_11ea_a251_380025f3998frow15_col0\" class=\"data row15 col0\" >PCA Method </td>\n",
       "                        <td id=\"T_3bd7c1fa_b4d2_11ea_a251_380025f3998frow15_col1\" class=\"data row15 col1\" >None</td>\n",
       "            </tr>\n",
       "            <tr>\n",
       "                        <th id=\"T_3bd7c1fa_b4d2_11ea_a251_380025f3998flevel0_row16\" class=\"row_heading level0 row16\" >16</th>\n",
       "                        <td id=\"T_3bd7c1fa_b4d2_11ea_a251_380025f3998frow16_col0\" class=\"data row16 col0\" >PCA components </td>\n",
       "                        <td id=\"T_3bd7c1fa_b4d2_11ea_a251_380025f3998frow16_col1\" class=\"data row16 col1\" >None</td>\n",
       "            </tr>\n",
       "            <tr>\n",
       "                        <th id=\"T_3bd7c1fa_b4d2_11ea_a251_380025f3998flevel0_row17\" class=\"row_heading level0 row17\" >17</th>\n",
       "                        <td id=\"T_3bd7c1fa_b4d2_11ea_a251_380025f3998frow17_col0\" class=\"data row17 col0\" >Ignore Low Variance </td>\n",
       "                        <td id=\"T_3bd7c1fa_b4d2_11ea_a251_380025f3998frow17_col1\" class=\"data row17 col1\" >False</td>\n",
       "            </tr>\n",
       "            <tr>\n",
       "                        <th id=\"T_3bd7c1fa_b4d2_11ea_a251_380025f3998flevel0_row18\" class=\"row_heading level0 row18\" >18</th>\n",
       "                        <td id=\"T_3bd7c1fa_b4d2_11ea_a251_380025f3998frow18_col0\" class=\"data row18 col0\" >Combine Rare Levels </td>\n",
       "                        <td id=\"T_3bd7c1fa_b4d2_11ea_a251_380025f3998frow18_col1\" class=\"data row18 col1\" >False</td>\n",
       "            </tr>\n",
       "            <tr>\n",
       "                        <th id=\"T_3bd7c1fa_b4d2_11ea_a251_380025f3998flevel0_row19\" class=\"row_heading level0 row19\" >19</th>\n",
       "                        <td id=\"T_3bd7c1fa_b4d2_11ea_a251_380025f3998frow19_col0\" class=\"data row19 col0\" >Rare Level Threshold </td>\n",
       "                        <td id=\"T_3bd7c1fa_b4d2_11ea_a251_380025f3998frow19_col1\" class=\"data row19 col1\" >None</td>\n",
       "            </tr>\n",
       "            <tr>\n",
       "                        <th id=\"T_3bd7c1fa_b4d2_11ea_a251_380025f3998flevel0_row20\" class=\"row_heading level0 row20\" >20</th>\n",
       "                        <td id=\"T_3bd7c1fa_b4d2_11ea_a251_380025f3998frow20_col0\" class=\"data row20 col0\" >Numeric Binning </td>\n",
       "                        <td id=\"T_3bd7c1fa_b4d2_11ea_a251_380025f3998frow20_col1\" class=\"data row20 col1\" >False</td>\n",
       "            </tr>\n",
       "            <tr>\n",
       "                        <th id=\"T_3bd7c1fa_b4d2_11ea_a251_380025f3998flevel0_row21\" class=\"row_heading level0 row21\" >21</th>\n",
       "                        <td id=\"T_3bd7c1fa_b4d2_11ea_a251_380025f3998frow21_col0\" class=\"data row21 col0\" >Remove Multicollinearity </td>\n",
       "                        <td id=\"T_3bd7c1fa_b4d2_11ea_a251_380025f3998frow21_col1\" class=\"data row21 col1\" >False</td>\n",
       "            </tr>\n",
       "            <tr>\n",
       "                        <th id=\"T_3bd7c1fa_b4d2_11ea_a251_380025f3998flevel0_row22\" class=\"row_heading level0 row22\" >22</th>\n",
       "                        <td id=\"T_3bd7c1fa_b4d2_11ea_a251_380025f3998frow22_col0\" class=\"data row22 col0\" >Multicollinearity Threshold </td>\n",
       "                        <td id=\"T_3bd7c1fa_b4d2_11ea_a251_380025f3998frow22_col1\" class=\"data row22 col1\" >None</td>\n",
       "            </tr>\n",
       "            <tr>\n",
       "                        <th id=\"T_3bd7c1fa_b4d2_11ea_a251_380025f3998flevel0_row23\" class=\"row_heading level0 row23\" >23</th>\n",
       "                        <td id=\"T_3bd7c1fa_b4d2_11ea_a251_380025f3998frow23_col0\" class=\"data row23 col0\" >Group Features </td>\n",
       "                        <td id=\"T_3bd7c1fa_b4d2_11ea_a251_380025f3998frow23_col1\" class=\"data row23 col1\" >False</td>\n",
       "            </tr>\n",
       "    </tbody></table>"
      ],
      "text/plain": [
       "<pandas.io.formats.style.Styler at 0x1b3135fd108>"
      ]
     },
     "metadata": {},
     "output_type": "display_data"
    },
    {
     "data": {
      "application/javascript": [
       "\n",
       "            setTimeout(function() {\n",
       "                var nbb_cell_id = 1;\n",
       "                var nbb_unformatted_code = \"# importing dependencies here\\nfrom pycaret.datasets import get_data\\nanomaly = get_data(\\\"anomaly\\\")\\n\\n# importing anomaly detection module\\nfrom pycaret.anomaly import *\\n\\n# initializing the setup function used for pre-processing \\nsetup_anomaly_data = setup(anomaly)\\n\\n# code formatter\\n%load_ext nb_black\";\n",
       "                var nbb_formatted_code = \"# importing dependencies here\\nfrom pycaret.datasets import get_data\\n\\nanomaly = get_data(\\\"anomaly\\\")\\n\\n# importing anomaly detection module\\nfrom pycaret.anomaly import *\\n\\n# initializing the setup function used for pre-processing\\nsetup_anomaly_data = setup(anomaly)\\n\\n# code formatter\\n%load_ext nb_black\";\n",
       "                var nbb_cells = Jupyter.notebook.get_cells();\n",
       "                for (var i = 0; i < nbb_cells.length; ++i) {\n",
       "                    if (nbb_cells[i].input_prompt_number == nbb_cell_id) {\n",
       "                        if (nbb_cells[i].get_text() == nbb_unformatted_code) {\n",
       "                             nbb_cells[i].set_text(nbb_formatted_code);\n",
       "                        }\n",
       "                        break;\n",
       "                    }\n",
       "                }\n",
       "            }, 500);\n",
       "            "
      ],
      "text/plain": [
       "<IPython.core.display.Javascript object>"
      ]
     },
     "metadata": {},
     "output_type": "display_data"
    }
   ],
   "source": [
    "# importing dependencies here\n",
    "from pycaret.datasets import get_data\n",
    "\n",
    "anomaly = get_data(\"anomaly\")\n",
    "\n",
    "# importing anomaly detection module\n",
    "from pycaret.anomaly import *\n",
    "\n",
    "# initializing the setup function used for pre-processing\n",
    "setup_anomaly_data = setup(anomaly)\n",
    "\n",
    "# code formatter\n",
    "%load_ext nb_black"
   ]
  },
  {
   "cell_type": "code",
   "execution_count": 2,
   "metadata": {},
   "outputs": [
    {
     "data": {
      "text/html": [
       "<div>\n",
       "<style scoped>\n",
       "    .dataframe tbody tr th:only-of-type {\n",
       "        vertical-align: middle;\n",
       "    }\n",
       "\n",
       "    .dataframe tbody tr th {\n",
       "        vertical-align: top;\n",
       "    }\n",
       "\n",
       "    .dataframe thead th {\n",
       "        text-align: right;\n",
       "    }\n",
       "</style>\n",
       "<table border=\"1\" class=\"dataframe\">\n",
       "  <thead>\n",
       "    <tr style=\"text-align: right;\">\n",
       "      <th></th>\n",
       "      <th>Col1</th>\n",
       "      <th>Col2</th>\n",
       "      <th>Col3</th>\n",
       "      <th>Col4</th>\n",
       "      <th>Col5</th>\n",
       "      <th>Col6</th>\n",
       "      <th>Col7</th>\n",
       "      <th>Col8</th>\n",
       "      <th>Col9</th>\n",
       "      <th>Col10</th>\n",
       "    </tr>\n",
       "  </thead>\n",
       "  <tbody>\n",
       "    <tr>\n",
       "      <th>0</th>\n",
       "      <td>0.263995</td>\n",
       "      <td>0.764929</td>\n",
       "      <td>0.138424</td>\n",
       "      <td>0.935242</td>\n",
       "      <td>0.605867</td>\n",
       "      <td>0.518790</td>\n",
       "      <td>0.912225</td>\n",
       "      <td>0.608234</td>\n",
       "      <td>0.723782</td>\n",
       "      <td>0.733591</td>\n",
       "    </tr>\n",
       "    <tr>\n",
       "      <th>1</th>\n",
       "      <td>0.546092</td>\n",
       "      <td>0.653975</td>\n",
       "      <td>0.065575</td>\n",
       "      <td>0.227772</td>\n",
       "      <td>0.845269</td>\n",
       "      <td>0.837066</td>\n",
       "      <td>0.272379</td>\n",
       "      <td>0.331679</td>\n",
       "      <td>0.429297</td>\n",
       "      <td>0.367422</td>\n",
       "    </tr>\n",
       "    <tr>\n",
       "      <th>2</th>\n",
       "      <td>0.336714</td>\n",
       "      <td>0.538842</td>\n",
       "      <td>0.192801</td>\n",
       "      <td>0.553563</td>\n",
       "      <td>0.074515</td>\n",
       "      <td>0.332993</td>\n",
       "      <td>0.365792</td>\n",
       "      <td>0.861309</td>\n",
       "      <td>0.899017</td>\n",
       "      <td>0.088600</td>\n",
       "    </tr>\n",
       "    <tr>\n",
       "      <th>3</th>\n",
       "      <td>0.092108</td>\n",
       "      <td>0.995017</td>\n",
       "      <td>0.014465</td>\n",
       "      <td>0.176371</td>\n",
       "      <td>0.241530</td>\n",
       "      <td>0.514724</td>\n",
       "      <td>0.562208</td>\n",
       "      <td>0.158963</td>\n",
       "      <td>0.073715</td>\n",
       "      <td>0.208463</td>\n",
       "    </tr>\n",
       "    <tr>\n",
       "      <th>4</th>\n",
       "      <td>0.325261</td>\n",
       "      <td>0.805968</td>\n",
       "      <td>0.957033</td>\n",
       "      <td>0.331665</td>\n",
       "      <td>0.307923</td>\n",
       "      <td>0.355315</td>\n",
       "      <td>0.501899</td>\n",
       "      <td>0.558449</td>\n",
       "      <td>0.885169</td>\n",
       "      <td>0.182754</td>\n",
       "    </tr>\n",
       "    <tr>\n",
       "      <th>...</th>\n",
       "      <td>...</td>\n",
       "      <td>...</td>\n",
       "      <td>...</td>\n",
       "      <td>...</td>\n",
       "      <td>...</td>\n",
       "      <td>...</td>\n",
       "      <td>...</td>\n",
       "      <td>...</td>\n",
       "      <td>...</td>\n",
       "      <td>...</td>\n",
       "    </tr>\n",
       "    <tr>\n",
       "      <th>995</th>\n",
       "      <td>0.305055</td>\n",
       "      <td>0.656837</td>\n",
       "      <td>0.331665</td>\n",
       "      <td>0.822525</td>\n",
       "      <td>0.907127</td>\n",
       "      <td>0.882276</td>\n",
       "      <td>0.855732</td>\n",
       "      <td>0.584786</td>\n",
       "      <td>0.808640</td>\n",
       "      <td>0.242762</td>\n",
       "    </tr>\n",
       "    <tr>\n",
       "      <th>996</th>\n",
       "      <td>0.812627</td>\n",
       "      <td>0.864258</td>\n",
       "      <td>0.616604</td>\n",
       "      <td>0.167966</td>\n",
       "      <td>0.811223</td>\n",
       "      <td>0.938071</td>\n",
       "      <td>0.418462</td>\n",
       "      <td>0.472306</td>\n",
       "      <td>0.348347</td>\n",
       "      <td>0.671129</td>\n",
       "    </tr>\n",
       "    <tr>\n",
       "      <th>997</th>\n",
       "      <td>0.250967</td>\n",
       "      <td>0.138627</td>\n",
       "      <td>0.919703</td>\n",
       "      <td>0.461234</td>\n",
       "      <td>0.886555</td>\n",
       "      <td>0.869888</td>\n",
       "      <td>0.800908</td>\n",
       "      <td>0.530324</td>\n",
       "      <td>0.779433</td>\n",
       "      <td>0.234952</td>\n",
       "    </tr>\n",
       "    <tr>\n",
       "      <th>998</th>\n",
       "      <td>0.502436</td>\n",
       "      <td>0.936820</td>\n",
       "      <td>0.580062</td>\n",
       "      <td>0.540773</td>\n",
       "      <td>0.151995</td>\n",
       "      <td>0.059452</td>\n",
       "      <td>0.225220</td>\n",
       "      <td>0.242755</td>\n",
       "      <td>0.279385</td>\n",
       "      <td>0.538755</td>\n",
       "    </tr>\n",
       "    <tr>\n",
       "      <th>999</th>\n",
       "      <td>0.457991</td>\n",
       "      <td>0.017755</td>\n",
       "      <td>0.714113</td>\n",
       "      <td>0.125992</td>\n",
       "      <td>0.063316</td>\n",
       "      <td>0.154739</td>\n",
       "      <td>0.922974</td>\n",
       "      <td>0.692299</td>\n",
       "      <td>0.816777</td>\n",
       "      <td>0.307592</td>\n",
       "    </tr>\n",
       "  </tbody>\n",
       "</table>\n",
       "<p>1000 rows × 10 columns</p>\n",
       "</div>"
      ],
      "text/plain": [
       "         Col1      Col2      Col3      Col4      Col5      Col6      Col7  \\\n",
       "0    0.263995  0.764929  0.138424  0.935242  0.605867  0.518790  0.912225   \n",
       "1    0.546092  0.653975  0.065575  0.227772  0.845269  0.837066  0.272379   \n",
       "2    0.336714  0.538842  0.192801  0.553563  0.074515  0.332993  0.365792   \n",
       "3    0.092108  0.995017  0.014465  0.176371  0.241530  0.514724  0.562208   \n",
       "4    0.325261  0.805968  0.957033  0.331665  0.307923  0.355315  0.501899   \n",
       "..        ...       ...       ...       ...       ...       ...       ...   \n",
       "995  0.305055  0.656837  0.331665  0.822525  0.907127  0.882276  0.855732   \n",
       "996  0.812627  0.864258  0.616604  0.167966  0.811223  0.938071  0.418462   \n",
       "997  0.250967  0.138627  0.919703  0.461234  0.886555  0.869888  0.800908   \n",
       "998  0.502436  0.936820  0.580062  0.540773  0.151995  0.059452  0.225220   \n",
       "999  0.457991  0.017755  0.714113  0.125992  0.063316  0.154739  0.922974   \n",
       "\n",
       "         Col8      Col9     Col10  \n",
       "0    0.608234  0.723782  0.733591  \n",
       "1    0.331679  0.429297  0.367422  \n",
       "2    0.861309  0.899017  0.088600  \n",
       "3    0.158963  0.073715  0.208463  \n",
       "4    0.558449  0.885169  0.182754  \n",
       "..        ...       ...       ...  \n",
       "995  0.584786  0.808640  0.242762  \n",
       "996  0.472306  0.348347  0.671129  \n",
       "997  0.530324  0.779433  0.234952  \n",
       "998  0.242755  0.279385  0.538755  \n",
       "999  0.692299  0.816777  0.307592  \n",
       "\n",
       "[1000 rows x 10 columns]"
      ]
     },
     "execution_count": 2,
     "metadata": {},
     "output_type": "execute_result"
    },
    {
     "data": {
      "application/javascript": [
       "\n",
       "            setTimeout(function() {\n",
       "                var nbb_cell_id = 2;\n",
       "                var nbb_unformatted_code = \"# checking the dataset\\nanomaly\";\n",
       "                var nbb_formatted_code = \"# checking the dataset\\nanomaly\";\n",
       "                var nbb_cells = Jupyter.notebook.get_cells();\n",
       "                for (var i = 0; i < nbb_cells.length; ++i) {\n",
       "                    if (nbb_cells[i].input_prompt_number == nbb_cell_id) {\n",
       "                        if (nbb_cells[i].get_text() == nbb_unformatted_code) {\n",
       "                             nbb_cells[i].set_text(nbb_formatted_code);\n",
       "                        }\n",
       "                        break;\n",
       "                    }\n",
       "                }\n",
       "            }, 500);\n",
       "            "
      ],
      "text/plain": [
       "<IPython.core.display.Javascript object>"
      ]
     },
     "metadata": {},
     "output_type": "display_data"
    }
   ],
   "source": [
    "# checking the dataset\n",
    "anomaly"
   ]
  },
  {
   "cell_type": "markdown",
   "metadata": {},
   "source": [
    "## Creating Anomaly Detection Models"
   ]
  },
  {
   "cell_type": "markdown",
   "metadata": {},
   "source": [
    "### Isolation Forest"
   ]
  },
  {
   "cell_type": "code",
   "execution_count": 3,
   "metadata": {},
   "outputs": [
    {
     "data": {
      "text/html": [
       "        <script type=\"text/javascript\">\n",
       "        window.PlotlyConfig = {MathJaxConfig: 'local'};\n",
       "        if (window.MathJax) {MathJax.Hub.Config({SVG: {font: \"STIX-Web\"}});}\n",
       "        if (typeof require !== 'undefined') {\n",
       "        require.undef(\"plotly\");\n",
       "        requirejs.config({\n",
       "            paths: {\n",
       "                'plotly': ['https://cdn.plot.ly/plotly-latest.min']\n",
       "            }\n",
       "        });\n",
       "        require(['plotly'], function(Plotly) {\n",
       "            window._Plotly = Plotly;\n",
       "        });\n",
       "        }\n",
       "        </script>\n",
       "        "
      ]
     },
     "metadata": {},
     "output_type": "display_data"
    },
    {
     "data": {
      "application/vnd.plotly.v1+json": {
       "config": {
        "plotlyServerURL": "https://plot.ly"
       },
       "data": [
        {
         "customdata": [
          [
           0.263995357
          ],
          [
           0.546092303
          ],
          [
           0.33671410399999996
          ],
          [
           0.092107835
          ],
          [
           0.325261175
          ],
          [
           0.212464853
          ],
          [
           0.258565714
          ],
          [
           0.869236755
          ],
          [
           0.197077957
          ],
          [
           0.292984504
          ],
          [
           0.82178316
          ],
          [
           0.796622959
          ],
          [
           0.045577010999999994
          ],
          [
           0.613660351
          ],
          [
           0.9507445659999999
          ],
          [
           0.33634633700000005
          ],
          [
           0.034440667
          ],
          [
           0.741544275
          ],
          [
           0.18443265
          ],
          [
           0.664514943
          ],
          [
           0.16282485800000002
          ],
          [
           0.729838445
          ],
          [
           0.62837389
          ],
          [
           0.057883660999999996
          ],
          [
           0.445534827
          ],
          [
           0.80183695
          ],
          [
           0.27709612
          ],
          [
           0.228634015
          ],
          [
           0.834860657
          ],
          [
           0.6697665110000001
          ],
          [
           0.532527349
          ],
          [
           0.17045907100000002
          ],
          [
           0.5102884679999999
          ],
          [
           0.977561989
          ],
          [
           0.249775993
          ],
          [
           0.9755006820000001
          ],
          [
           0.613701727
          ],
          [
           0.16742036300000002
          ],
          [
           0.537472516
          ],
          [
           0.379899131
          ],
          [
           0.633897303
          ],
          [
           0.633960424
          ],
          [
           0.5499746529999999
          ],
          [
           0.178172988
          ],
          [
           0.85563814
          ],
          [
           0.321796672
          ],
          [
           0.8174905370000001
          ],
          [
           0.254879417
          ],
          [
           0.344140513
          ],
          [
           0.8061457259999999
          ],
          [
           0.27708167100000003
          ],
          [
           0.544328519
          ],
          [
           0.07708393
          ],
          [
           0.273081458
          ],
          [
           0.390877336
          ],
          [
           0.349621385
          ],
          [
           0.214549744
          ],
          [
           0.206075222
          ],
          [
           0.86461997
          ],
          [
           0.9817088540000001
          ],
          [
           0.33482964600000004
          ],
          [
           0.648387061
          ],
          [
           0.093643561
          ],
          [
           0.837802698
          ],
          [
           0.7603439670000001
          ],
          [
           0.29140417399999996
          ],
          [
           0.3413454
          ],
          [
           0.7611124840000001
          ],
          [
           0.541899775
          ],
          [
           0.684176639
          ],
          [
           0.983535597
          ],
          [
           0.52081245
          ],
          [
           0.328227724
          ],
          [
           0.09715793800000001
          ],
          [
           0.876088593
          ],
          [
           0.870214512
          ],
          [
           0.656086992
          ],
          [
           0.306791514
          ],
          [
           0.48126734
          ],
          [
           0.259559174
          ],
          [
           0.326123655
          ],
          [
           0.930568042
          ],
          [
           0.6583894
          ],
          [
           0.689992335
          ],
          [
           0.315781109
          ],
          [
           0.5669050929999999
          ],
          [
           0.637526619
          ],
          [
           0.687540723
          ],
          [
           0.324300602
          ],
          [
           0.592704906
          ],
          [
           0.7402531259999999
          ],
          [
           0.5940328770000001
          ],
          [
           0.596452977
          ],
          [
           0.27768081699999997
          ],
          [
           0.258329663
          ],
          [
           0.142460864
          ],
          [
           0.435533461
          ],
          [
           0.7024990440000001
          ],
          [
           0.58897535
          ],
          [
           0.653304374
          ],
          [
           0.336968524
          ],
          [
           0.631244736
          ],
          [
           0.73530076
          ],
          [
           0.050390366
          ],
          [
           0.064264924
          ],
          [
           0.665359476
          ],
          [
           0.917835245
          ],
          [
           0.44651012
          ],
          [
           0.661938199
          ],
          [
           0.43935985299999997
          ],
          [
           0.6875724040000001
          ],
          [
           0.363462248
          ],
          [
           0.6542621820000001
          ],
          [
           0.578553536
          ],
          [
           0.065927945
          ],
          [
           0.550148559
          ],
          [
           0.13918281400000002
          ],
          [
           0.080004635
          ],
          [
           0.278228358
          ],
          [
           0.560124266
          ],
          [
           0.53639864
          ],
          [
           0.42653190399999996
          ],
          [
           0.789109796
          ],
          [
           0.742900474
          ],
          [
           0.901692589
          ],
          [
           0.650337401
          ],
          [
           0.114057311
          ],
          [
           0.260812592
          ],
          [
           0.43991232
          ],
          [
           0.964409284
          ],
          [
           0.184401415
          ],
          [
           0.345145446
          ],
          [
           0.17589458100000002
          ],
          [
           0.312514453
          ],
          [
           0.674131879
          ],
          [
           0.32825045
          ],
          [
           0.598231057
          ],
          [
           0.09259881699999999
          ],
          [
           0.497916521
          ],
          [
           0.419776521
          ],
          [
           0.31217670000000003
          ],
          [
           0.937857107
          ],
          [
           0.049030963
          ],
          [
           0.47610452600000003
          ],
          [
           0.447397526
          ],
          [
           0.295806058
          ],
          [
           0.737363977
          ],
          [
           0.625896253
          ],
          [
           0.408813429
          ],
          [
           0.437511156
          ],
          [
           0.691351375
          ],
          [
           0.935555275
          ],
          [
           0.437846654
          ],
          [
           0.072217715
          ],
          [
           0.67636067
          ],
          [
           0.468883999
          ],
          [
           0.543820644
          ],
          [
           0.6555226470000001
          ],
          [
           0.6935289240000001
          ],
          [
           0.10887831199999999
          ],
          [
           0.285463743
          ],
          [
           0
          ],
          [
           0.706495497
          ],
          [
           0.273530633
          ],
          [
           0.292320271
          ],
          [
           0.673984307
          ],
          [
           0.12612182800000002
          ],
          [
           0.9467074590000001
          ],
          [
           0.9363388979999999
          ],
          [
           0.8537553640000001
          ],
          [
           0.7060713609999999
          ],
          [
           0.693682186
          ],
          [
           0.508527882
          ],
          [
           0.34717038899999997
          ],
          [
           0.704154263
          ],
          [
           0.658730088
          ],
          [
           0.155841557
          ],
          [
           0.311085435
          ],
          [
           0.281135347
          ],
          [
           0.094587802
          ],
          [
           0.6832609540000001
          ],
          [
           0.9077292509999999
          ],
          [
           0.29151267399999997
          ],
          [
           0.752734459
          ],
          [
           0.93482964
          ],
          [
           0.071413953
          ],
          [
           0.5948963270000001
          ],
          [
           0.404672015
          ],
          [
           0.13837621
          ],
          [
           0.7473384679999999
          ],
          [
           0.530882486
          ],
          [
           0.282649594
          ],
          [
           0.699335734
          ],
          [
           0.056111250999999994
          ],
          [
           0.855234998
          ],
          [
           0.07789512700000001
          ],
          [
           0.891649583
          ],
          [
           0.38674227899999997
          ],
          [
           0.27113158
          ],
          [
           0.958888961
          ],
          [
           0.085120869
          ],
          [
           0.5269022489999999
          ],
          [
           0.066577785
          ],
          [
           0.841506738
          ],
          [
           0.255342095
          ],
          [
           0.060545771
          ],
          [
           0.073385869
          ],
          [
           0.187493723
          ],
          [
           0.858365688
          ],
          [
           0.090640352
          ],
          [
           0.7097252270000001
          ],
          [
           0.631300647
          ],
          [
           0.24750447399999997
          ],
          [
           0.822843584
          ],
          [
           0.373476759
          ],
          [
           0.625538582
          ],
          [
           0.292951715
          ],
          [
           0.299730324
          ],
          [
           0.25121407
          ],
          [
           0.344480551
          ],
          [
           0.293064767
          ],
          [
           0.7628032240000001
          ],
          [
           0.7384708040000001
          ],
          [
           0.674883265
          ],
          [
           0.719151612
          ],
          [
           0.13098021599999998
          ],
          [
           0.511328036
          ],
          [
           0.04492903
          ],
          [
           0.560914449
          ],
          [
           0.7440406409999999
          ],
          [
           0.266961634
          ],
          [
           0.644231853
          ],
          [
           0.038113352
          ],
          [
           0.05715529900000001
          ],
          [
           0.34139246100000004
          ],
          [
           0.7204636320000001
          ],
          [
           0.402878236
          ],
          [
           0.635148967
          ],
          [
           0.320729467
          ],
          [
           0.09120969400000001
          ],
          [
           0.23414609
          ],
          [
           0.8902211309999999
          ],
          [
           0.602170884
          ],
          [
           0.633652055
          ],
          [
           0.806240837
          ],
          [
           0.739731184
          ],
          [
           0.465231269
          ],
          [
           0.7321109
          ],
          [
           0.373874305
          ],
          [
           0.501587947
          ],
          [
           0.11538315800000001
          ],
          [
           0.7319466040000001
          ],
          [
           0.41829872799999995
          ],
          [
           0.062259590999999996
          ],
          [
           0.391496379
          ],
          [
           0.35984929
          ],
          [
           0.24523562699999998
          ],
          [
           0.610028339
          ],
          [
           0.43540360200000006
          ],
          [
           0.434309675
          ],
          [
           0.523763344
          ],
          [
           0.17118786600000002
          ],
          [
           0.18773430300000002
          ],
          [
           0.945014638
          ],
          [
           0.027851097000000002
          ],
          [
           0.68445706
          ],
          [
           0.178014532
          ],
          [
           0.643427879
          ],
          [
           0.59588355
          ],
          [
           0.372361682
          ],
          [
           0.586103584
          ],
          [
           0.271658852
          ],
          [
           0.59951107
          ],
          [
           0.468363088
          ],
          [
           0.314515565
          ],
          [
           0.21893726
          ],
          [
           0.254716562
          ],
          [
           0.25612815
          ],
          [
           0.602259755
          ],
          [
           0.134381075
          ],
          [
           0.513887424
          ],
          [
           0.624241636
          ],
          [
           0.160251854
          ],
          [
           0.580708108
          ],
          [
           0.270540486
          ],
          [
           0.832919932
          ],
          [
           0.93032134
          ],
          [
           0.719157884
          ],
          [
           0.886720033
          ],
          [
           0.098792281
          ],
          [
           0.787174286
          ],
          [
           0.365592376
          ],
          [
           0.719576193
          ],
          [
           0.8058956
          ],
          [
           0.7555783340000001
          ],
          [
           0.526005909
          ],
          [
           0.68880424
          ],
          [
           0.22111531199999998
          ],
          [
           0.739369477
          ],
          [
           0.408440236
          ],
          [
           0.348926542
          ],
          [
           0.433713763
          ],
          [
           0.5964966070000001
          ],
          [
           0.6942953000000001
          ],
          [
           0.7090309659999999
          ],
          [
           0.867652984
          ],
          [
           0.89332545
          ],
          [
           0.746020922
          ],
          [
           0.538284443
          ],
          [
           0.8922193140000001
          ],
          [
           0.935175765
          ],
          [
           0.260527707
          ],
          [
           0.956780449
          ],
          [
           0.204932484
          ],
          [
           0.687733351
          ],
          [
           0.329063619
          ],
          [
           0.632149831
          ],
          [
           0.463744506
          ],
          [
           0.698859621
          ],
          [
           0.385446564
          ],
          [
           0.47997537700000004
          ],
          [
           0.732279108
          ],
          [
           0.3813543
          ],
          [
           0.459326013
          ],
          [
           0.257401434
          ],
          [
           0.665014804
          ],
          [
           0.103399542
          ],
          [
           0.425284413
          ],
          [
           0.943529051
          ],
          [
           0.594750236
          ],
          [
           0.543776817
          ],
          [
           0.18203988
          ],
          [
           0.23584208399999998
          ],
          [
           0.585984497
          ],
          [
           0.762013168
          ],
          [
           0.6849829070000001
          ],
          [
           0.676936933
          ],
          [
           0.290184964
          ],
          [
           0.48106822200000005
          ],
          [
           0.492766033
          ],
          [
           0.22185623399999999
          ],
          [
           0.053875998
          ],
          [
           0.082751144
          ],
          [
           0.385366225
          ],
          [
           0.702513961
          ],
          [
           0.91553156
          ],
          [
           0.082087436
          ],
          [
           0.251280378
          ],
          [
           0.41672181700000005
          ],
          [
           0.277032672
          ],
          [
           0.579539754
          ],
          [
           0.569363476
          ],
          [
           0.133399703
          ],
          [
           0.265045463
          ],
          [
           0.936571901
          ],
          [
           0.252618554
          ],
          [
           0.054033081
          ],
          [
           0.802481439
          ],
          [
           0.528197693
          ],
          [
           0.9515026
          ],
          [
           0.572121173
          ],
          [
           0.752938227
          ],
          [
           0.143857535
          ],
          [
           0.513484576
          ],
          [
           0.313322389
          ],
          [
           0.6877973959999999
          ],
          [
           0.37705984
          ],
          [
           0.348226142
          ],
          [
           0.67763282
          ],
          [
           0.24138752100000002
          ],
          [
           0.8506501790000001
          ],
          [
           0.22034810300000002
          ],
          [
           0.476445464
          ],
          [
           0.690324025
          ],
          [
           0.364695946
          ],
          [
           0.6492491970000001
          ],
          [
           0.9437019209999999
          ],
          [
           0.529645971
          ],
          [
           0.299097002
          ],
          [
           0.96696247
          ],
          [
           0.272005242
          ],
          [
           0.314161447
          ],
          [
           0.752020991
          ],
          [
           0.221882453
          ],
          [
           0.7203326729999999
          ],
          [
           0.379204782
          ],
          [
           0.60168653
          ],
          [
           0.582932673
          ],
          [
           0.950809853
          ],
          [
           0.58830141
          ],
          [
           0.880887227
          ],
          [
           0.467857701
          ],
          [
           0.8799021709999999
          ],
          [
           0.619844009
          ],
          [
           0.359002573
          ],
          [
           0.291511278
          ],
          [
           0.694157143
          ],
          [
           0.727960353
          ],
          [
           0.617703921
          ],
          [
           0.39581257
          ],
          [
           0.58317282
          ],
          [
           0.710332374
          ],
          [
           0.253753693
          ],
          [
           0.049412227999999996
          ],
          [
           0.728378695
          ],
          [
           0.432432881
          ],
          [
           0.58612345
          ],
          [
           0.052342373
          ],
          [
           0.053483902
          ],
          [
           0.518729378
          ],
          [
           0.933040208
          ],
          [
           0.7035542840000001
          ],
          [
           0.268989899
          ],
          [
           0.733006927
          ],
          [
           0.44435246700000003
          ],
          [
           0.5833946210000001
          ],
          [
           0.871172692
          ],
          [
           0.42876707799999997
          ],
          [
           0.30046084100000003
          ],
          [
           0.9533294590000001
          ],
          [
           0.606443965
          ],
          [
           0.90986815
          ],
          [
           0.714896449
          ],
          [
           0.49734950899999997
          ],
          [
           0.8530974859999999
          ],
          [
           0.721804145
          ],
          [
           0.303467328
          ],
          [
           0.664485096
          ],
          [
           0.27978062
          ],
          [
           0.569481665
          ],
          [
           0.628628926
          ],
          [
           0.088368123
          ],
          [
           0.733567326
          ],
          [
           0.537436778
          ],
          [
           0.638593691
          ],
          [
           0.954726948
          ],
          [
           0.632202332
          ],
          [
           0.642134651
          ],
          [
           0.744653087
          ],
          [
           0.115714007
          ],
          [
           0.48625007299999995
          ],
          [
           0.440356144
          ],
          [
           0.08272289
          ],
          [
           0.511591027
          ],
          [
           0.394627555
          ],
          [
           0.224394
          ],
          [
           0.626927584
          ],
          [
           0.290254057
          ],
          [
           0.779008053
          ],
          [
           0.86610579
          ],
          [
           0.873326081
          ],
          [
           0.49548916
          ],
          [
           0.594297695
          ],
          [
           0.9182015840000001
          ],
          [
           0.5770427539999999
          ],
          [
           0.019467671000000002
          ],
          [
           0.6702982820000001
          ],
          [
           0.546595316
          ],
          [
           0.591665146
          ],
          [
           0.42155819
          ],
          [
           0.6856085590000001
          ],
          [
           0.340303024
          ],
          [
           0.675626741
          ],
          [
           0.319067345
          ],
          [
           0.38849966399999997
          ],
          [
           0.706949589
          ],
          [
           0.559409515
          ],
          [
           0.687663508
          ],
          [
           0.7088045540000001
          ],
          [
           0.6818880940000001
          ],
          [
           0.42253510899999996
          ],
          [
           0.320004605
          ],
          [
           0.6582813679999999
          ],
          [
           0.634154867
          ],
          [
           0.7773320090000001
          ],
          [
           0.812677205
          ],
          [
           0.074280797
          ],
          [
           0.39600217
          ],
          [
           0.054933913
          ],
          [
           0.825058925
          ],
          [
           0.382642009
          ],
          [
           0.8687298179999999
          ],
          [
           0.588043346
          ],
          [
           0.891551577
          ],
          [
           0.10920046
          ],
          [
           0.647682781
          ],
          [
           0.724342512
          ],
          [
           0.07016304400000001
          ],
          [
           0.280882054
          ],
          [
           0.039113261
          ],
          [
           0.579641592
          ],
          [
           0.639000922
          ],
          [
           0.281745925
          ],
          [
           0.647857744
          ],
          [
           0.6479057970000001
          ],
          [
           0.875226264
          ],
          [
           0.567603305
          ],
          [
           0.262940591
          ],
          [
           0.268026042
          ],
          [
           0.40519133
          ],
          [
           0.479965451
          ],
          [
           0.33552403
          ],
          [
           0.777165379
          ],
          [
           0.42548796299999997
          ],
          [
           0.237986115
          ],
          [
           0.142522971
          ],
          [
           0.724176488
          ],
          [
           0.234698933
          ],
          [
           0.07818228099999999
          ],
          [
           0.855990155
          ],
          [
           0.270251765
          ],
          [
           0.435517841
          ],
          [
           0.762697513
          ],
          [
           0.46448725799999996
          ],
          [
           0.396112685
          ],
          [
           0.37638092100000003
          ],
          [
           0.29459467699999997
          ],
          [
           0.6944921209999999
          ],
          [
           0.622767949
          ],
          [
           0.8475597220000001
          ],
          [
           0.301463054
          ],
          [
           0.912937812
          ],
          [
           0.500017182
          ],
          [
           0.902587935
          ],
          [
           0.304517943
          ],
          [
           0.299165673
          ],
          [
           0.092014087
          ],
          [
           0.488548917
          ],
          [
           0.664664437
          ],
          [
           0.26534954899999996
          ],
          [
           0.723657021
          ],
          [
           0.149262385
          ],
          [
           0.04577339
          ],
          [
           0.69661064
          ],
          [
           0.42181486
          ],
          [
           0.733845785
          ],
          [
           0.418795386
          ],
          [
           0.677443529
          ],
          [
           0.26128360300000003
          ],
          [
           0.268527767
          ],
          [
           0.5443222360000001
          ],
          [
           0.431632036
          ],
          [
           0.981018141
          ],
          [
           0.21498072399999998
          ],
          [
           0.39472999299999995
          ],
          [
           0.122224944
          ],
          [
           0.297496875
          ],
          [
           0.37490443100000004
          ],
          [
           0.68698771
          ],
          [
           0.388549207
          ],
          [
           0.039296071
          ],
          [
           0.73553424
          ],
          [
           0.37929489299999997
          ],
          [
           0.7321233859999999
          ],
          [
           0.33922143899999996
          ],
          [
           0.659450594
          ],
          [
           0.054838642
          ],
          [
           0.640112102
          ],
          [
           0.30714170399999996
          ],
          [
           0.39661190700000004
          ],
          [
           0.420439161
          ],
          [
           0.24171497399999997
          ],
          [
           0.065893153
          ],
          [
           0.9105219370000001
          ],
          [
           0.697163103
          ],
          [
           0.072559853
          ],
          [
           0.81825094
          ],
          [
           0.311888815
          ],
          [
           0.961644609
          ],
          [
           0.816325524
          ],
          [
           0.14647302
          ],
          [
           0.548753945
          ],
          [
           0.946158087
          ],
          [
           0.293992717
          ],
          [
           0.331479643
          ],
          [
           0.9062200309999999
          ],
          [
           0.525540416
          ],
          [
           0.83301411
          ],
          [
           0.514849806
          ],
          [
           0.574609024
          ],
          [
           0.46871185299999996
          ],
          [
           0.71002775
          ],
          [
           0.645973276
          ],
          [
           0.229794416
          ],
          [
           0.551783393
          ],
          [
           0.055822990999999995
          ],
          [
           0.331750941
          ],
          [
           0.715520198
          ],
          [
           0.583924357
          ],
          [
           0.30695769100000003
          ],
          [
           0.7914782370000001
          ],
          [
           0.16423663900000002
          ],
          [
           0.065711219
          ],
          [
           0.948993132
          ],
          [
           0.080423835
          ],
          [
           0.052495426
          ],
          [
           0.566346135
          ],
          [
           0.3630266
          ],
          [
           0.605442195
          ],
          [
           0.6308505839999999
          ],
          [
           0.065791238
          ],
          [
           0.28681707100000003
          ],
          [
           0.685462839
          ],
          [
           0.260853706
          ],
          [
           0.659122429
          ],
          [
           0.44317392200000005
          ],
          [
           0.602063986
          ],
          [
           0.060366910999999995
          ],
          [
           0.781903153
          ],
          [
           0.5145798070000001
          ],
          [
           0.48388621299999995
          ],
          [
           0.600213807
          ],
          [
           0.49736405200000006
          ],
          [
           0.411145245
          ],
          [
           0.116999171
          ],
          [
           0.34189014100000004
          ],
          [
           0.746950848
          ],
          [
           0.39629274600000003
          ],
          [
           0.6221438429999999
          ],
          [
           0.335271141
          ],
          [
           0.140257137
          ],
          [
           0.081620681
          ],
          [
           0.069837569
          ],
          [
           0.46894000799999996
          ],
          [
           0.9908574170000001
          ],
          [
           0.896616832
          ],
          [
           0.255310561
          ],
          [
           0.22464526699999998
          ],
          [
           0.01991825
          ],
          [
           0.296480415
          ],
          [
           0.155458996
          ],
          [
           0.577916714
          ],
          [
           0.9563030309999999
          ],
          [
           0.813464394
          ],
          [
           0.529675785
          ],
          [
           0.287671353
          ],
          [
           0.48039136
          ],
          [
           0.28104482199999997
          ],
          [
           0.633196521
          ],
          [
           0.09332537699999999
          ],
          [
           0.28447398100000004
          ],
          [
           0.052223775
          ],
          [
           0.051129385
          ],
          [
           0.967405608
          ],
          [
           0.040045727999999996
          ],
          [
           0.9085829209999999
          ],
          [
           0.6621174160000001
          ],
          [
           0.42470320899999997
          ],
          [
           0.72207806
          ],
          [
           0.666193327
          ],
          [
           0.509681253
          ],
          [
           0.7513536209999999
          ],
          [
           0.279073124
          ],
          [
           0.074927
          ],
          [
           0.916359535
          ],
          [
           0.31040327
          ],
          [
           0.716604052
          ],
          [
           0.485587085
          ],
          [
           0.30607518100000003
          ],
          [
           0.477558204
          ],
          [
           0.7119239409999999
          ],
          [
           0.066348638
          ],
          [
           0.27453935100000004
          ],
          [
           0.31082252
          ],
          [
           0.47607312700000004
          ],
          [
           0.186795565
          ],
          [
           0.26654207
          ],
          [
           0.070231142
          ],
          [
           0.26951927
          ],
          [
           0.800004713
          ],
          [
           0.27363366699999997
          ],
          [
           0.14647919199999998
          ],
          [
           0.378318951
          ],
          [
           0.373849065
          ],
          [
           0.242170835
          ],
          [
           0.249796488
          ],
          [
           0.066591188
          ],
          [
           0.372956798
          ],
          [
           0.501812291
          ],
          [
           0.313097752
          ],
          [
           0.8802021959999999
          ],
          [
           0.51981893
          ],
          [
           0.364138746
          ],
          [
           0.49268289600000004
          ],
          [
           0.285732652
          ],
          [
           0.890114985
          ],
          [
           0.316419561
          ],
          [
           0.26866354
          ],
          [
           0.771975959
          ],
          [
           0.968888992
          ],
          [
           0.080334377
          ],
          [
           0.7368282209999999
          ],
          [
           0.30055807100000004
          ],
          [
           0.9179503929999999
          ],
          [
           0.465815039
          ],
          [
           0.054036682
          ],
          [
           0.963150123
          ],
          [
           0.08965350300000001
          ],
          [
           0.7076932340000001
          ],
          [
           0.636416037
          ],
          [
           0.539521117
          ],
          [
           0.114757161
          ],
          [
           0.357312419
          ],
          [
           0.67639834
          ],
          [
           0.43482839
          ],
          [
           0.032326387000000005
          ],
          [
           0.711365605
          ],
          [
           0.187486519
          ],
          [
           0.052789653
          ],
          [
           0.5058636129999999
          ],
          [
           0.927431873
          ],
          [
           0.6809842559999999
          ],
          [
           0.882822186
          ],
          [
           0.495705441
          ],
          [
           0.596240398
          ],
          [
           0.320610701
          ],
          [
           0.3413685
          ],
          [
           0.159681797
          ],
          [
           0.318133669
          ],
          [
           0.8393010479999999
          ],
          [
           0.06435925099999999
          ],
          [
           0.470216633
          ],
          [
           0.7762522909999999
          ],
          [
           0.635843383
          ],
          [
           0.62510543
          ],
          [
           0.52959065
          ],
          [
           0.986900166
          ],
          [
           0.078585688
          ],
          [
           0.233284267
          ],
          [
           0.363330957
          ],
          [
           0.7167169809999999
          ],
          [
           0.37588979200000006
          ],
          [
           0.223316889
          ],
          [
           0.299343986
          ],
          [
           0.538595767
          ],
          [
           0.730297124
          ],
          [
           0.66033077
          ],
          [
           0.435296009
          ],
          [
           0.326494313
          ],
          [
           0.854402708
          ],
          [
           0.5734938470000001
          ],
          [
           0.757786135
          ],
          [
           0.704743233
          ],
          [
           0.281575597
          ],
          [
           0.671968208
          ],
          [
           0.313726015
          ],
          [
           0.364338275
          ],
          [
           0.368216396
          ],
          [
           0.38629520700000003
          ],
          [
           0.655971865
          ],
          [
           0.5660252729999999
          ],
          [
           0.424999093
          ],
          [
           0.090110371
          ],
          [
           0.772350538
          ],
          [
           0.331047258
          ],
          [
           0.273716188
          ],
          [
           0.23877568
          ],
          [
           0.37307977200000003
          ],
          [
           0.331185868
          ],
          [
           0.256134531
          ],
          [
           0.678373225
          ],
          [
           0.43463833799999996
          ],
          [
           0.654668307
          ],
          [
           0.986681065
          ],
          [
           0.371520495
          ],
          [
           0.408359618
          ],
          [
           0.40932365
          ],
          [
           0.283412082
          ],
          [
           0.395246531
          ],
          [
           0.010984428000000001
          ],
          [
           0.306013869
          ],
          [
           0.266194806
          ],
          [
           0.299318521
          ],
          [
           0.318293946
          ],
          [
           0.74282591
          ],
          [
           0.09766432900000001
          ],
          [
           0.079666942
          ],
          [
           0.613258767
          ],
          [
           0.99443072
          ],
          [
           0.568835082
          ],
          [
           0.7080345159999999
          ],
          [
           0.37059271899999996
          ],
          [
           0.669867361
          ],
          [
           0.651295625
          ],
          [
           0.462531569
          ],
          [
           0.7196256190000001
          ],
          [
           0.45377248
          ],
          [
           0.394863946
          ],
          [
           0.323974831
          ],
          [
           0.146454724
          ],
          [
           0.7790670409999999
          ],
          [
           0.401828915
          ],
          [
           0.601479585
          ],
          [
           0.856423023
          ],
          [
           0.565242962
          ],
          [
           0.301225108
          ],
          [
           0.282108144
          ],
          [
           0.594378011
          ],
          [
           0.705312368
          ],
          [
           0.5408696279999999
          ],
          [
           0.319249574
          ],
          [
           0.36176613799999996
          ],
          [
           0.625000704
          ],
          [
           0.316287401
          ],
          [
           0.047239021
          ],
          [
           0.801182233
          ],
          [
           0.508474436
          ],
          [
           0.8178934109999999
          ],
          [
           0.399235601
          ],
          [
           0.9740519990000001
          ],
          [
           0.72241535
          ],
          [
           0.039564764
          ],
          [
           0.908684108
          ],
          [
           0.47301013399999997
          ],
          [
           0.7180496279999999
          ],
          [
           0.7634790690000001
          ],
          [
           0.6475965370000001
          ],
          [
           0.8949973859999999
          ],
          [
           0.22282590100000002
          ],
          [
           0.359012234
          ],
          [
           0.944910252
          ],
          [
           0.297877816
          ],
          [
           0.172517997
          ],
          [
           0.556586265
          ],
          [
           0.876481735
          ],
          [
           0.48667784299999994
          ],
          [
           0.459496733
          ],
          [
           0.47412637700000004
          ],
          [
           0.70101144
          ],
          [
           0.337597387
          ],
          [
           0.537578886
          ],
          [
           0.966992448
          ],
          [
           0.056849545
          ],
          [
           0.233249065
          ],
          [
           0.380054711
          ],
          [
           0.602929443
          ],
          [
           0.303847999
          ],
          [
           0.170194553
          ],
          [
           0.972168554
          ],
          [
           0.332168927
          ],
          [
           0.6887286890000001
          ],
          [
           0.110773401
          ],
          [
           0.273352065
          ],
          [
           0.572939678
          ],
          [
           0.491457065
          ],
          [
           0.281389999
          ],
          [
           0.821697261
          ],
          [
           0.6749776829999999
          ],
          [
           0.585134549
          ],
          [
           0.7105961159999999
          ],
          [
           0.040488789
          ],
          [
           0.568054311
          ],
          [
           0.321752928
          ],
          [
           0.611850232
          ],
          [
           0.926096887
          ],
          [
           0.618347428
          ],
          [
           0.667629785
          ],
          [
           0.39773346600000004
          ],
          [
           0.290875487
          ],
          [
           0.594375103
          ],
          [
           0.508255233
          ],
          [
           0.338571357
          ],
          [
           0.43230234700000003
          ],
          [
           0.302221978
          ],
          [
           0.87619819
          ],
          [
           0.080204492
          ],
          [
           0.092333532
          ],
          [
           0.09365644699999999
          ],
          [
           0.6084523510000001
          ],
          [
           0.732654598
          ],
          [
           0.944158855
          ],
          [
           0.26742308
          ],
          [
           0.731124201
          ],
          [
           0.661308553
          ],
          [
           0.38776626200000003
          ],
          [
           0.962585273
          ],
          [
           0.322067067
          ],
          [
           0.6340810929999999
          ],
          [
           0.475345002
          ],
          [
           0.35355897299999994
          ],
          [
           0.8859363159999999
          ],
          [
           0.876798106
          ],
          [
           0.221581064
          ],
          [
           0.394362449
          ],
          [
           0.8050356759999999
          ],
          [
           0.452898486
          ],
          [
           0.592520516
          ],
          [
           0.761026394
          ],
          [
           0.245049023
          ],
          [
           0.37213936299999995
          ],
          [
           0.681054822
          ],
          [
           0.7471431479999999
          ],
          [
           0.9207395290000001
          ],
          [
           0.097207945
          ],
          [
           0.699302998
          ],
          [
           0.721647006
          ],
          [
           0.5353561139999999
          ],
          [
           0.738293805
          ],
          [
           0.7064675509999999
          ],
          [
           0.67395061
          ],
          [
           0.7112122909999999
          ],
          [
           0.302558708
          ],
          [
           0.080097855
          ],
          [
           0.707010837
          ],
          [
           0.512248622
          ],
          [
           0.659627472
          ],
          [
           0.657559694
          ],
          [
           0.100645606
          ],
          [
           0.92665363
          ],
          [
           0.892879338
          ],
          [
           0.839157508
          ],
          [
           0.890959718
          ],
          [
           0.556754471
          ],
          [
           0.960361937
          ],
          [
           0.631037864
          ],
          [
           0.029838065
          ],
          [
           0.278843351
          ],
          [
           0.926157705
          ],
          [
           0.551504258
          ],
          [
           0.485942349
          ],
          [
           0.43723469600000003
          ],
          [
           0.25231801800000003
          ],
          [
           0.515466972
          ],
          [
           0.43725229600000004
          ],
          [
           0.493724207
          ],
          [
           0.83324725
          ],
          [
           0.317521477
          ],
          [
           0.28623456199999997
          ],
          [
           0.726833965
          ],
          [
           0.495667033
          ],
          [
           0.028645255
          ],
          [
           0.31967191699999997
          ],
          [
           0.674344598
          ],
          [
           0.7660371890000001
          ],
          [
           0.65456992
          ],
          [
           0.7565143809999999
          ],
          [
           0.528253719
          ],
          [
           0.38971949100000003
          ],
          [
           0.355087459
          ],
          [
           0.87015202
          ],
          [
           0.7390833059999999
          ],
          [
           0.305761846
          ],
          [
           0.411587673
          ],
          [
           0.063633094
          ],
          [
           0.735409395
          ],
          [
           0.605916669
          ],
          [
           0.539395562
          ],
          [
           0.566183532
          ],
          [
           0.674795186
          ],
          [
           0.070993366
          ],
          [
           0.12526410000000002
          ],
          [
           0.279601492
          ],
          [
           0.952174402
          ],
          [
           0.233806762
          ],
          [
           0.43724742899999997
          ],
          [
           0.925423095
          ],
          [
           0.433498634
          ],
          [
           0.52517902
          ],
          [
           0.088435529
          ],
          [
           0.447677638
          ],
          [
           0.647000631
          ],
          [
           0.9036033370000001
          ],
          [
           0.265790738
          ],
          [
           0.66419695
          ],
          [
           0.498120658
          ],
          [
           0.49018894399999996
          ],
          [
           0.747084187
          ],
          [
           0.906783648
          ],
          [
           0.678770917
          ],
          [
           0.348599859
          ],
          [
           0.294839683
          ],
          [
           0.705691827
          ],
          [
           0.211917931
          ],
          [
           0.063201124
          ],
          [
           0.276699543
          ],
          [
           0.672459395
          ],
          [
           0.8082059490000001
          ],
          [
           0.296538373
          ],
          [
           0.16012686199999998
          ],
          [
           0.439385032
          ],
          [
           0.555951416
          ],
          [
           0.386240112
          ],
          [
           0.158689619
          ],
          [
           0.214499855
          ],
          [
           0.299579429
          ],
          [
           0.569161656
          ],
          [
           0.488614799
          ],
          [
           0.8782950209999999
          ],
          [
           0.649380949
          ],
          [
           0.465713341
          ],
          [
           0.16813774
          ],
          [
           0.87529545
          ],
          [
           0.8411323409999999
          ],
          [
           0.33292081
          ],
          [
           0.5130478589999999
          ],
          [
           0.30505507800000004
          ],
          [
           0.8126269909999999
          ],
          [
           0.25096706
          ],
          [
           0.5024355779999999
          ],
          [
           0.45799074100000003
          ]
         ],
         "hoverlabel": {
          "namelength": 0
         },
         "hovertemplate": "0=%{x}<br>1=%{y}<br>2=%{z}<br>Feature=%{customdata[0]}<br>Label=%{marker.color}",
         "legendgroup": "",
         "marker": {
          "color": [
           0,
           0,
           1,
           1,
           0,
           0,
           0,
           1,
           1,
           0,
           0,
           1,
           0,
           1,
           1,
           1,
           0,
           1,
           0,
           0,
           0,
           0,
           0,
           1,
           1,
           1,
           0,
           0,
           1,
           1,
           0,
           0,
           0,
           1,
           1,
           1,
           0,
           0,
           0,
           0,
           0,
           0,
           0,
           1,
           0,
           1,
           0,
           0,
           1,
           0,
           0,
           1,
           0,
           1,
           0,
           1,
           0,
           0,
           0,
           1,
           0,
           0,
           1,
           1,
           1,
           0,
           1,
           0,
           0,
           1,
           0,
           0,
           0,
           0,
           0,
           0,
           0,
           0,
           0,
           0,
           0,
           0,
           0,
           0,
           0,
           0,
           0,
           0,
           0,
           0,
           0,
           0,
           0,
           0,
           0,
           0,
           0,
           0,
           0,
           0,
           0,
           0,
           0,
           0,
           0,
           0,
           0,
           0,
           0,
           0,
           0,
           0,
           0,
           0,
           0,
           0,
           0,
           0,
           0,
           0,
           0,
           0,
           0,
           0,
           0,
           0,
           0,
           0,
           0,
           0,
           1,
           0,
           0,
           0,
           0,
           0,
           0,
           0,
           0,
           0,
           0,
           0,
           0,
           0,
           0,
           0,
           0,
           0,
           0,
           0,
           0,
           0,
           0,
           0,
           0,
           0,
           0,
           0,
           0,
           0,
           0,
           0,
           0,
           0,
           0,
           0,
           0,
           0,
           0,
           0,
           0,
           0,
           0,
           0,
           0,
           0,
           0,
           0,
           0,
           0,
           0,
           0,
           0,
           0,
           0,
           0,
           0,
           0,
           0,
           0,
           0,
           0,
           0,
           0,
           0,
           0,
           0,
           0,
           0,
           0,
           0,
           0,
           0,
           0,
           0,
           0,
           0,
           0,
           0,
           0,
           0,
           0,
           0,
           0,
           0,
           0,
           0,
           0,
           0,
           0,
           0,
           0,
           0,
           0,
           0,
           0,
           0,
           0,
           0,
           1,
           0,
           0,
           0,
           0,
           0,
           0,
           0,
           0,
           0,
           0,
           0,
           0,
           0,
           0,
           0,
           0,
           0,
           0,
           0,
           0,
           0,
           0,
           0,
           0,
           0,
           0,
           0,
           0,
           0,
           0,
           0,
           0,
           0,
           0,
           0,
           0,
           0,
           0,
           0,
           0,
           0,
           0,
           0,
           0,
           0,
           0,
           0,
           0,
           0,
           0,
           0,
           0,
           0,
           0,
           0,
           0,
           0,
           0,
           0,
           0,
           0,
           0,
           0,
           0,
           0,
           0,
           0,
           0,
           0,
           0,
           0,
           0,
           0,
           0,
           0,
           0,
           0,
           0,
           0,
           0,
           0,
           0,
           0,
           0,
           0,
           0,
           0,
           0,
           0,
           0,
           0,
           0,
           0,
           0,
           0,
           0,
           0,
           0,
           0,
           0,
           0,
           0,
           0,
           0,
           0,
           0,
           0,
           0,
           0,
           0,
           0,
           0,
           0,
           0,
           0,
           0,
           0,
           0,
           0,
           0,
           0,
           0,
           0,
           0,
           0,
           0,
           0,
           0,
           0,
           0,
           0,
           0,
           0,
           0,
           0,
           0,
           0,
           0,
           0,
           0,
           0,
           0,
           0,
           0,
           0,
           0,
           0,
           0,
           0,
           0,
           0,
           0,
           0,
           0,
           0,
           0,
           0,
           0,
           0,
           0,
           0,
           0,
           0,
           0,
           0,
           0,
           0,
           0,
           0,
           0,
           0,
           0,
           0,
           0,
           0,
           0,
           0,
           0,
           1,
           0,
           0,
           0,
           0,
           0,
           0,
           0,
           0,
           0,
           0,
           0,
           0,
           0,
           0,
           0,
           0,
           0,
           0,
           0,
           0,
           0,
           0,
           0,
           0,
           0,
           0,
           0,
           0,
           0,
           0,
           0,
           0,
           0,
           0,
           0,
           0,
           0,
           0,
           0,
           0,
           0,
           0,
           0,
           0,
           0,
           0,
           0,
           0,
           0,
           0,
           0,
           0,
           0,
           0,
           0,
           0,
           0,
           0,
           0,
           0,
           0,
           0,
           0,
           0,
           0,
           0,
           0,
           0,
           0,
           0,
           0,
           0,
           0,
           0,
           0,
           0,
           0,
           0,
           0,
           0,
           0,
           0,
           0,
           0,
           0,
           0,
           0,
           0,
           0,
           0,
           0,
           0,
           0,
           0,
           0,
           0,
           0,
           0,
           0,
           0,
           0,
           0,
           0,
           0,
           0,
           0,
           0,
           0,
           0,
           0,
           0,
           0,
           0,
           0,
           0,
           0,
           0,
           0,
           0,
           0,
           0,
           0,
           0,
           0,
           0,
           0,
           0,
           0,
           0,
           0,
           0,
           0,
           0,
           0,
           0,
           0,
           0,
           0,
           0,
           0,
           0,
           0,
           0,
           0,
           0,
           0,
           0,
           0,
           0,
           0,
           0,
           0,
           0,
           0,
           0,
           0,
           0,
           0,
           0,
           0,
           0,
           0,
           0,
           0,
           0,
           0,
           0,
           0,
           0,
           0,
           0,
           0,
           0,
           0,
           0,
           0,
           0,
           0,
           0,
           0,
           0,
           0,
           0,
           0,
           0,
           0,
           0,
           0,
           0,
           0,
           0,
           0,
           0,
           1,
           0,
           0,
           0,
           0,
           0,
           0,
           0,
           0,
           0,
           0,
           0,
           0,
           0,
           0,
           0,
           0,
           0,
           0,
           0,
           0,
           0,
           0,
           0,
           0,
           0,
           0,
           0,
           0,
           0,
           0,
           0,
           0,
           0,
           0,
           0,
           0,
           0,
           0,
           0,
           0,
           0,
           0,
           0,
           0,
           0,
           0,
           0,
           0,
           0,
           0,
           0,
           0,
           0,
           0,
           0,
           0,
           0,
           0,
           0,
           0,
           0,
           0,
           0,
           0,
           0,
           0,
           0,
           0,
           0,
           0,
           0,
           0,
           0,
           0,
           0,
           0,
           0,
           0,
           0,
           0,
           0,
           0,
           0,
           0,
           0,
           0,
           0,
           0,
           0,
           0,
           0,
           0,
           0,
           0,
           0,
           0,
           0,
           1,
           1,
           1,
           1,
           0,
           0,
           0,
           1,
           1,
           0,
           0,
           0,
           1,
           0,
           0,
           0,
           0,
           1,
           1,
           0,
           1,
           0,
           1,
           0,
           1,
           0,
           0,
           0,
           1,
           0,
           0,
           0,
           0,
           0,
           0,
           0,
           0,
           0,
           0,
           0,
           0,
           0,
           0,
           1,
           0,
           0,
           0,
           0,
           0,
           0,
           0,
           0,
           0,
           0,
           0,
           0,
           0,
           0,
           0,
           0,
           0,
           0,
           0,
           0,
           0,
           0,
           0,
           0,
           0,
           0,
           0,
           0,
           0,
           0,
           0,
           1,
           0,
           0,
           0,
           0,
           0,
           0,
           0,
           0,
           0,
           0,
           0,
           0,
           0,
           0,
           0,
           0,
           0,
           0,
           0,
           0,
           0,
           0,
           0,
           1,
           0,
           0,
           0,
           0,
           0,
           0,
           0,
           0,
           0,
           0,
           0,
           0,
           0,
           0,
           0,
           0,
           0,
           0,
           0,
           0,
           0,
           0,
           0,
           0,
           0,
           0,
           0,
           0,
           0,
           0,
           0,
           0,
           0,
           0,
           0,
           0,
           0,
           0,
           0,
           0,
           0,
           0,
           0,
           0,
           0,
           0,
           0,
           0,
           0,
           0,
           0,
           0,
           0,
           0,
           0,
           0,
           1,
           0,
           0,
           0,
           0,
           0,
           0,
           0,
           0,
           0,
           0,
           0,
           0,
           0,
           0,
           0,
           0,
           0,
           0,
           0,
           0,
           0,
           0,
           0,
           0,
           0,
           0,
           0,
           0,
           0,
           0,
           0,
           0,
           0,
           0,
           0,
           0,
           0,
           0,
           0,
           0,
           0,
           0,
           0,
           0,
           0,
           0,
           0,
           0,
           0,
           0,
           0,
           0,
           0,
           0,
           0,
           0,
           0,
           0,
           0,
           0,
           0,
           0,
           0,
           0,
           0,
           0,
           0,
           0,
           0,
           0,
           0,
           0,
           0,
           0,
           0,
           0,
           0,
           0,
           0,
           0,
           0,
           0,
           0,
           0,
           0,
           0,
           0,
           0,
           0,
           0,
           0,
           0,
           0,
           0,
           0,
           0,
           0,
           0,
           0,
           0,
           0,
           0,
           0,
           0,
           0,
           0,
           0,
           0,
           0,
           0,
           0,
           0,
           0,
           0,
           0,
           0,
           0,
           0,
           0,
           0,
           0,
           0,
           0,
           0,
           0,
           0,
           0,
           0,
           0,
           0,
           0,
           0,
           0,
           0,
           0,
           0,
           0,
           0,
           0,
           0,
           0,
           0,
           0
          ],
          "coloraxis": "coloraxis",
          "opacity": 0.7,
          "symbol": "circle"
         },
         "mode": "markers",
         "name": "",
         "scene": "scene",
         "showlegend": false,
         "type": "scatter3d",
         "x": [
          5.605027675628662,
          -7.715529918670654,
          5.368049144744873,
          7.125141620635986,
          11.711468696594238,
          4.983361721038818,
          -6.1174774169921875,
          7.82155179977417,
          4.191407203674316,
          -3.9030706882476807,
          5.194559097290039,
          10.639323234558105,
          4.358562469482422,
          3.4358513355255127,
          3.7301485538482666,
          10.213590621948242,
          4.348607540130615,
          -11.011622428894043,
          4.220823764801025,
          8.208684921264648,
          5.165141582489014,
          1.8361378908157349,
          8.280613899230957,
          4.141050338745117,
          2.1299588680267334,
          1.0417596101760864,
          9.558416366577148,
          -0.7962258458137512,
          -0.9191268682479858,
          8.37742805480957,
          0.7400466203689575,
          -2.47408390045166,
          4.533642292022705,
          3.2920143604278564,
          -9.698891639709473,
          1.4242419004440308,
          8.280056953430176,
          -1.1309071779251099,
          3.776219367980957,
          5.7433552742004395,
          1.9319757223129272,
          5.5349860191345215,
          -7.618630409240723,
          0.9307683110237122,
          5.535999298095703,
          10.524934768676758,
          5.002364158630371,
          3.851034164428711,
          10.394244194030762,
          -8.342777252197266,
          7.307547092437744,
          2.823833465576172,
          -11.72951602935791,
          10.430506706237793,
          3.0101840496063232,
          1.473669171333313,
          0.8334376811981201,
          -11.039688110351562,
          3.66282320022583,
          5.659697532653809,
          -2.6310882568359375,
          -5.05270528793335,
          12.85161018371582,
          5.6241607666015625,
          -7.9458231925964355,
          4.981380939483643,
          -11.639764785766602,
          -11.277732849121094,
          10.043658256530762,
          2.052403211593628,
          11.874665260314941,
          8.417621612548828,
          3.9180564880371094,
          5.648530960083008,
          -0.024158578366041183,
          -0.1819409430027008,
          9.13028335571289,
          9.991813659667969,
          -4.289318084716797,
          -5.262485027313232,
          -4.641447067260742,
          -1.3913373947143555,
          9.880706787109375,
          -4.046903133392334,
          -5.842705726623535,
          -2.600304365158081,
          -6.562079429626465,
          -9.20770263671875,
          -7.094104290008545,
          -0.18284612894058228,
          1.02193284034729,
          4.884242057800293,
          -7.078642845153809,
          -5.792952060699463,
          -0.5302286148071289,
          12.510899543762207,
          -7.348703384399414,
          -4.644117832183838,
          0.07420530170202255,
          9.259746551513672,
          4.183254718780518,
          -8.122737884521484,
          -4.791776657104492,
          -10.50818920135498,
          13.864422798156738,
          -5.4624176025390625,
          -4.129542827606201,
          -5.034416675567627,
          -0.8463058471679688,
          9.93839168548584,
          -1.0280379056930542,
          2.8895442485809326,
          2.6775095462799072,
          -0.7748445272445679,
          9.427017211914062,
          -2.7707200050354004,
          -2.333786964416504,
          -5.733539581298828,
          5.921976089477539,
          -1.722057819366455,
          -3.388453483581543,
          -5.364857196807861,
          -4.716024398803711,
          -8.178423881530762,
          -1.4354569911956787,
          -7.010178089141846,
          0.32564884424209595,
          6.915480613708496,
          -6.434667110443115,
          -7.472756385803223,
          -8.19073486328125,
          -7.756754398345947,
          8.076261520385742,
          -4.110021591186523,
          -8.440707206726074,
          2.2296087741851807,
          9.15709400177002,
          8.846057891845703,
          -5.66746711730957,
          0.8850237727165222,
          5.9500837326049805,
          -1.128502607345581,
          -10.000997543334961,
          10.681670188903809,
          -1.9499784708023071,
          -5.29632043838501,
          4.927504539489746,
          -10.773933410644531,
          -6.166202545166016,
          -1.3353745937347412,
          -0.749570906162262,
          -1.1200445890426636,
          -3.163407325744629,
          -9.025297164916992,
          2.647327423095703,
          -7.632815361022949,
          -8.281907081604004,
          -9.559224128723145,
          -1.7017426490783691,
          3.6319620609283447,
          -2.747299909591675,
          -10.383540153503418,
          -0.7115851044654846,
          -5.9579243659973145,
          5.035795211791992,
          -8.691081047058105,
          6.605681419372559,
          8.766606330871582,
          6.125399112701416,
          -1.9420748949050903,
          -4.806121826171875,
          -3.569275379180908,
          2.785909414291382,
          7.9146528244018555,
          -2.5294196605682373,
          -9.549345970153809,
          3.151177167892456,
          6.884042739868164,
          -5.458505630493164,
          8.885205268859863,
          -3.8201637268066406,
          3.031137704849243,
          -1.640653133392334,
          9.54338550567627,
          8.937788963317871,
          -2.896415948867798,
          5.944383144378662,
          -8.171121597290039,
          -3.335334300994873,
          -1.13358473777771,
          -10.496744155883789,
          11.025196075439453,
          5.400714874267578,
          8.305627822875977,
          -4.27435302734375,
          -4.269076347351074,
          -4.802135467529297,
          -3.662109375,
          5.0321221351623535,
          -1.3950049877166748,
          -6.594115257263184,
          -0.5494177341461182,
          -0.0118304044008255,
          10.469598770141602,
          6.833678722381592,
          -2.1452531814575195,
          -7.287714004516602,
          -7.064980506896973,
          2.849545955657959,
          -3.9264674186706543,
          -3.1813645362854004,
          7.245325088500977,
          11.723830223083496,
          -2.225071907043457,
          -5.405221462249756,
          -5.058070182800293,
          -4.584549427032471,
          9.820610046386719,
          12.520967483520508,
          1.3365377187728882,
          6.902014255523682,
          -7.433450222015381,
          9.930203437805176,
          -1.8906590938568115,
          -5.827077388763428,
          -6.534665584564209,
          -8.11775016784668,
          -2.879847288131714,
          -9.329997062683105,
          4.42365837097168,
          -5.057490825653076,
          -7.184731960296631,
          7.936897277832031,
          8.828398704528809,
          -0.5096363425254822,
          -7.454209327697754,
          -4.446897983551025,
          -1.49344003200531,
          7.047360897064209,
          6.035238742828369,
          -7.0927414894104,
          -6.40081262588501,
          5.613561153411865,
          -8.098247528076172,
          7.250546455383301,
          -6.617449760437012,
          -1.2418220043182373,
          -3.018821954727173,
          -8.457374572753906,
          8.670495986938477,
          -8.009775161743164,
          -1.1742216348648071,
          8.166243553161621,
          -10.057010650634766,
          -5.653416156768799,
          2.299590587615967,
          4.3989481925964355,
          -6.976378917694092,
          4.931469440460205,
          -1.4567723274230957,
          6.582014083862305,
          -8.657486915588379,
          10.249920845031738,
          -2.8186771869659424,
          -8.91311264038086,
          -8.272114753723145,
          9.584115028381348,
          -4.043320178985596,
          -0.8357122540473938,
          -2.8514082431793213,
          -5.523247718811035,
          -2.059422492980957,
          2.4152820110321045,
          5.746255397796631,
          4.019097805023193,
          -10.508655548095703,
          11.150485038757324,
          11.0882568359375,
          -6.082094669342041,
          -3.3330559730529785,
          -8.380659103393555,
          5.82164192199707,
          -4.303440093994141,
          1.6188843250274658,
          8.957479476928711,
          -8.025274276733398,
          -4.829749584197998,
          -7.267045497894287,
          -7.800518035888672,
          5.689233303070068,
          -0.7551687955856323,
          -5.34067964553833,
          -3.752235174179077,
          -8.780029296875,
          -3.9941327571868896,
          4.234412670135498,
          4.767718315124512,
          -5.805058002471924,
          -3.152205467224121,
          3.7182297706604004,
          -2.163053035736084,
          -5.673681259155273,
          10.538145065307617,
          7.692704200744629,
          4.526301860809326,
          0.023130126297473907,
          -5.800601482391357,
          -0.47082990407943726,
          -11.524500846862793,
          8.843647003173828,
          8.203665733337402,
          -11.931014060974121,
          2.8874433040618896,
          6.052124500274658,
          -6.711979389190674,
          4.775169849395752,
          -1.873475193977356,
          -6.4359636306762695,
          -0.7170969247817993,
          -0.7021641731262207,
          -2.4186036586761475,
          0.5439472198486328,
          8.599530220031738,
          -4.633475303649902,
          -5.212669849395752,
          1.6329288482666016,
          10.178194999694824,
          9.338455200195312,
          6.3136773109436035,
          4.578630447387695,
          -3.7696728706359863,
          9.892386436462402,
          -9.731107711791992,
          -6.245693683624268,
          -9.535345077514648,
          8.448890686035156,
          -6.718039512634277,
          2.485711097717285,
          6.062894821166992,
          8.657546043395996,
          3.204726219177246,
          -5.227839946746826,
          5.868557453155518,
          -8.612601280212402,
          8.036788940429688,
          7.9581780433654785,
          -3.7673933506011963,
          -11.484978675842285,
          6.407943248748779,
          10.107126235961914,
          -0.7521011233329773,
          2.1107702255249023,
          -0.6129312515258789,
          -1.964746117591858,
          -4.800192356109619,
          -4.684713840484619,
          -10.551895141601562,
          -7.907529830932617,
          12.637787818908691,
          0.3134617507457733,
          -7.586766242980957,
          -5.858100414276123,
          2.029287338256836,
          -10.37226676940918,
          7.56723690032959,
          -1.0710035562515259,
          11.702570915222168,
          -3.8159403800964355,
          -6.868849277496338,
          -4.775753974914551,
          -6.291476726531982,
          -7.002075672149658,
          10.14985179901123,
          5.722383499145508,
          8.598834037780762,
          -7.232410907745361,
          0.5213191509246826,
          5.3040080070495605,
          -0.9002880454063416,
          -0.26889127492904663,
          4.947840690612793,
          0.9763767719268799,
          0.905377209186554,
          4.549856662750244,
          -7.483952045440674,
          -7.5731892585754395,
          -3.3640694618225098,
          -2.5935354232788086,
          -1.5971535444259644,
          2.2719900608062744,
          -6.265145778656006,
          -6.860932350158691,
          1.9789725542068481,
          -1.5794252157211304,
          -0.6382778882980347,
          -1.9032301902770996,
          -5.110191822052002,
          7.607523441314697,
          2.714658260345459,
          -1.9654831886291504,
          -1.5008628368377686,
          -6.901381015777588,
          -11.933392524719238,
          -1.8435215950012207,
          9.645283699035645,
          -3.680288553237915,
          6.533794403076172,
          1.8302539587020874,
          2.706097364425659,
          -1.8360650539398193,
          -8.862241744995117,
          -0.9294213056564331,
          13.97007942199707,
          -0.8533698916435242,
          -4.663731098175049,
          -7.317497253417969,
          -10.1689453125,
          -7.040481090545654,
          9.106304168701172,
          8.068851470947266,
          2.236037254333496,
          -4.798629283905029,
          -7.533123970031738,
          -7.4219651222229,
          6.683225154876709,
          -7.852190971374512,
          -5.47389554977417,
          4.638920783996582,
          4.495182514190674,
          8.970355033874512,
          -2.2192180156707764,
          -3.75215744972229,
          -4.418097972869873,
          6.548638820648193,
          12.287107467651367,
          -3.2655465602874756,
          -3.395589828491211,
          9.689825057983398,
          -1.207768201828003,
          7.037761688232422,
          -5.0990142822265625,
          -4.394396781921387,
          8.051640510559082,
          11.1679105758667,
          -6.116494178771973,
          2.8768436908721924,
          10.684417724609375,
          -10.062545776367188,
          7.38352108001709,
          3.653475284576416,
          -6.551027297973633,
          9.384139060974121,
          -8.044095039367676,
          -0.13627226650714874,
          3.3816781044006348,
          0.10624956339597702,
          -1.7668670415878296,
          8.37363338470459,
          -3.5634872913360596,
          -3.7074477672576904,
          -7.784687042236328,
          7.853370189666748,
          -6.920241832733154,
          -4.156032562255859,
          1.6082566976547241,
          0.9494372606277466,
          -1.0970035791397095,
          10.897207260131836,
          -8.735045433044434,
          6.750594615936279,
          -4.140589714050293,
          -2.519190788269043,
          -6.884011268615723,
          0.15937241911888123,
          -6.6087422370910645,
          -4.758709907531738,
          -4.501210689544678,
          4.402560710906982,
          3.8230323791503906,
          -8.562309265136719,
          -10.396976470947266,
          -5.423810005187988,
          5.349879741668701,
          9.90188980102539,
          -2.64235258102417,
          10.692573547363281,
          -3.0663633346557617,
          4.945558071136475,
          3.1538567543029785,
          6.93843936920166,
          -2.5680885314941406,
          3.8958911895751953,
          3.7785027027130127,
          11.114461898803711,
          6.026529788970947,
          5.117667198181152,
          -2.6217236518859863,
          3.273078203201294,
          -9.967595100402832,
          0.5732739567756653,
          -5.8155517578125,
          -0.31105899810791016,
          1.155430793762207,
          -6.561400413513184,
          4.744162082672119,
          6.87526273727417,
          -2.0690433979034424,
          -11.630743026733398,
          4.650178909301758,
          3.3201844692230225,
          11.01679801940918,
          -9.920401573181152,
          -4.947092056274414,
          8.266037940979004,
          -5.194058418273926,
          -8.719067573547363,
          -7.8338446617126465,
          -2.9005565643310547,
          -0.8063374161720276,
          -5.063447952270508,
          3.388946056365967,
          9.667070388793945,
          5.358438491821289,
          6.386626720428467,
          12.69322395324707,
          -2.0816147327423096,
          5.151706218719482,
          -5.709039211273193,
          -1.9327970743179321,
          4.960949420928955,
          -4.817570686340332,
          10.766067504882812,
          4.439228534698486,
          -5.93333625793457,
          2.9236350059509277,
          7.587034225463867,
          -1.5973089933395386,
          10.905518531799316,
          2.7431771755218506,
          -2.948016881942749,
          0.8109086751937866,
          3.697693109512329,
          -8.820268630981445,
          -5.896049499511719,
          -11.05423641204834,
          6.2805585861206055,
          -5.661032676696777,
          5.606046199798584,
          5.358829975128174,
          -4.8326544761657715,
          -9.809734344482422,
          0.6476709246635437,
          9.268192291259766,
          -1.605330467224121,
          -10.197319030761719,
          -5.673946857452393,
          3.5001373291015625,
          0.13111208379268646,
          9.972918510437012,
          2.2069737911224365,
          11.525506019592285,
          12.965089797973633,
          -10.876304626464844,
          3.81024432182312,
          -3.8103504180908203,
          -6.832921504974365,
          -7.624338150024414,
          -0.2082848697900772,
          4.972113132476807,
          2.755251169204712,
          4.919877052307129,
          3.058133363723755,
          8.208105087280273,
          10.51746654510498,
          -4.19657564163208,
          9.438035011291504,
          -7.429243087768555,
          -8.452910423278809,
          2.208041191101074,
          -3.269005537033081,
          2.916898250579834,
          -2.4555892944335938,
          5.7960309982299805,
          -6.493249416351318,
          -11.336949348449707,
          -7.588194847106934,
          4.813971042633057,
          -5.929465293884277,
          -4.958029270172119,
          11.413957595825195,
          -6.767489433288574,
          -10.750415802001953,
          3.14906644821167,
          8.97417163848877,
          2.3000874519348145,
          -9.86133098602295,
          7.982110023498535,
          11.663520812988281,
          3.8741769790649414,
          10.628369331359863,
          6.897989273071289,
          -5.734985828399658,
          3.66418194770813,
          -4.741947650909424,
          2.9784955978393555,
          -5.623526573181152,
          9.220462799072266,
          11.380278587341309,
          -2.434347152709961,
          -3.5602662563323975,
          4.683764934539795,
          -1.0667353868484497,
          2.6389029026031494,
          3.4943864345550537,
          -3.6857688426971436,
          -10.911006927490234,
          -4.668340682983398,
          -7.254273891448975,
          -1.587913155555725,
          4.6559529304504395,
          2.676135301589966,
          -10.80267333984375,
          -8.24785041809082,
          -0.30292707681655884,
          6.080759048461914,
          10.47569465637207,
          -3.0433754920959473,
          10.344629287719727,
          1.9878352880477905,
          -4.444474697113037,
          -7.787670612335205,
          -4.182913780212402,
          -1.2440433502197266,
          9.726089477539062,
          0.1736699640750885,
          2.840635061264038,
          -2.6323180198669434,
          2.370150327682495,
          3.2004635334014893,
          -3.4060921669006348,
          6.567683696746826,
          -3.74662709236145,
          -4.30464506149292,
          -0.9996029734611511,
          9.921025276184082,
          -1.180273413658142,
          5.995368003845215,
          0.4375763535499573,
          3.615827798843384,
          1.9390755891799927,
          -8.051986694335938,
          -7.464869976043701,
          1.1955430507659912,
          7.309585094451904,
          -9.066847801208496,
          -4.025811672210693,
          9.622276306152344,
          1.7955316305160522,
          -1.4691146612167358,
          9.800873756408691,
          10.504719734191895,
          -10.57630729675293,
          1.8913781642913818,
          4.47190523147583,
          4.5969719886779785,
          -4.304993152618408,
          8.197443008422852,
          -3.9031882286071777,
          -3.6310226917266846,
          -8.937455177307129,
          1.1506510972976685,
          -4.921982765197754,
          -7.725085735321045,
          1.1776716709136963,
          3.090156078338623,
          -9.553657531738281,
          -3.929699182510376,
          2.6013073921203613,
          6.012375831604004,
          -4.2081146240234375,
          5.72616720199585,
          -7.758762836456299,
          2.5916876792907715,
          2.6800835132598877,
          -7.507253646850586,
          -8.408568382263184,
          -6.096992015838623,
          -11.715177536010742,
          4.765801429748535,
          9.474145889282227,
          9.354783058166504,
          7.31981086730957,
          13.39184284210205,
          -2.4482903480529785,
          4.4285430908203125,
          3.914785146713257,
          0.9053712487220764,
          -6.340808868408203,
          -2.473797559738159,
          5.450809478759766,
          5.9607744216918945,
          -8.244569778442383,
          3.46120023727417,
          -0.935771644115448,
          -2.358104705810547,
          0.5294174551963806,
          6.3968377113342285,
          7.394495010375977,
          3.6610915660858154,
          1.6404738426208496,
          3.6653060913085938,
          -9.120821952819824,
          -2.4558169841766357,
          0.9896124005317688,
          -1.8723945617675781,
          1.3859771490097046,
          5.157029628753662,
          10.557430267333984,
          -1.77542245388031,
          -4.934775352478027,
          4.30337381362915,
          -1.847658634185791,
          -2.430061101913452,
          2.7506136894226074,
          -11.543478965759277,
          4.586851596832275,
          3.230186939239502,
          3.7728302478790283,
          8.986359596252441,
          5.449277400970459,
          -3.318054676055908,
          9.944791793823242,
          1.6182457208633423,
          0.8180939555168152,
          -2.0791633129119873,
          3.626277446746826,
          -2.1167805194854736,
          -4.227236747741699,
          -5.006351470947266,
          4.471278667449951,
          -0.9527655839920044,
          0.1574350893497467,
          0.8907518982887268,
          4.4200053215026855,
          2.6763086318969727,
          -5.547524929046631,
          -4.810239315032959,
          3.0967392921447754,
          8.058724403381348,
          11.125391960144043,
          -7.279186725616455,
          9.684398651123047,
          -0.7610797882080078,
          -4.219998359680176,
          -9.450848579406738,
          7.242693901062012,
          -5.242793560028076,
          -8.60554313659668,
          8.697628021240234,
          -11.44301700592041,
          9.836665153503418,
          -7.530838489532471,
          -6.448206424713135,
          -8.544105529785156,
          4.805210590362549,
          -3.8251938819885254,
          -3.648550033569336,
          10.934618949890137,
          -6.283355236053467,
          11.835312843322754,
          -4.881099700927734,
          2.9652605056762695,
          2.172438144683838,
          -5.1630539894104,
          1.7816740274429321,
          -11.391579627990723,
          1.8100064992904663,
          -4.916295051574707,
          -1.1235891580581665,
          2.363952398300171,
          -2.357222080230713,
          -3.6093943119049072,
          -3.3327419757843018,
          -1.0830458402633667,
          -3.780071496963501,
          10.441256523132324,
          -7.796252727508545,
          3.237589120864868,
          -6.593163013458252,
          -6.842533588409424,
          9.996572494506836,
          -1.835526943206787,
          4.257823467254639,
          0.312619149684906,
          -3.766188144683838,
          -1.4174368381500244,
          -9.490039825439453,
          7.55447244644165,
          -2.2593958377838135,
          -11.032308578491211,
          -6.18385124206543,
          0.7738292813301086,
          -1.4529491662979126,
          -6.642049789428711,
          6.678109645843506,
          -8.477010726928711,
          -8.739004135131836,
          -5.14268159866333,
          5.9514970779418945,
          -5.300251007080078,
          9.256535530090332,
          4.128215312957764,
          -0.026023464277386665,
          2.6467604637145996,
          -2.715723752975464,
          7.2190656661987305,
          -5.375548362731934,
          9.905356407165527,
          3.1707558631896973,
          6.427781105041504,
          3.801891565322876,
          5.8665595054626465,
          -5.983579635620117,
          -4.0522990226745605,
          -5.023430347442627,
          -3.1494412422180176,
          5.8082733154296875,
          -5.307721138000488,
          1.0860273838043213,
          10.824009895324707,
          -5.910313129425049,
          0.8839688897132874,
          11.923742294311523,
          3.787235975265503,
          8.57048225402832,
          2.8099331855773926,
          10.989005088806152,
          11.13951301574707,
          2.840696334838867,
          -9.89256477355957,
          -2.4181578159332275,
          -10.510884284973145,
          6.866184234619141,
          -6.2078857421875,
          -6.392279624938965,
          2.996711254119873,
          -1.920784831047058,
          -2.6686782836914062,
          -1.5384830236434937,
          -1.3693416118621826,
          3.632110595703125,
          2.4356162548065186,
          -9.120248794555664,
          -2.7468111515045166,
          -2.0211689472198486,
          -4.2008514404296875,
          -3.9457836151123047,
          5.220130920410156,
          -6.073262691497803,
          4.456553936004639,
          3.060265064239502,
          -5.328215599060059,
          1.712124228477478,
          -5.076943397521973,
          -5.555503845214844,
          8.65299129486084,
          -5.295415878295898,
          -6.625361919403076,
          3.1977474689483643,
          -0.8921729922294617,
          4.164662837982178,
          -9.620668411254883,
          -6.395831108093262,
          -2.246668815612793,
          -0.9226210713386536,
          -5.497439384460449,
          -0.3968861997127533,
          -6.649281024932861,
          2.322875499725342,
          6.093698024749756,
          -1.274585247039795,
          -1.170135498046875,
          -4.8010101318359375,
          9.49388599395752,
          7.695301532745361,
          3.1858327388763428,
          2.0644495487213135,
          -3.5469205379486084,
          4.005754470825195,
          2.4117136001586914,
          9.855387687683105,
          8.550021171569824,
          6.257793426513672,
          -3.871752977371216,
          8.872248649597168,
          -1.2335022687911987,
          1.2034461498260498,
          -8.482499122619629,
          -1.8720917701721191,
          -0.7100109457969666,
          -7.389988422393799,
          -8.894232749938965,
          -10.537266731262207,
          10.51294231414795,
          -4.95881462097168,
          10.585838317871094,
          5.322026252746582,
          -2.6907169818878174,
          5.986600875854492,
          -1.7402164936065674,
          -8.470982551574707,
          -5.434311389923096,
          -7.171926021575928,
          -0.15033946931362152,
          3.7487637996673584,
          10.814689636230469,
          3.246344804763794,
          -5.441164016723633,
          4.738881587982178,
          3.783010959625244,
          2.9441330432891846,
          8.210949897766113,
          -0.7224109172821045,
          -2.310652494430542,
          -3.14844012260437,
          -0.9290979504585266,
          -2.4099676609039307,
          3.282593250274658,
          -3.2486040592193604,
          -4.019123077392578,
          11.881579399108887,
          -10.593374252319336,
          -6.712856769561768,
          10.389986991882324,
          7.633660316467285,
          8.330999374389648,
          -7.242311954498291,
          6.107855319976807,
          -6.140582084655762,
          3.85713267326355,
          6.128891944885254,
          -8.116705894470215,
          -4.713900089263916,
          3.340888261795044,
          -1.1658573150634766,
          6.082520484924316,
          -2.869795322418213,
          0.3724277913570404,
          -6.441734790802002,
          -2.4421446323394775,
          3.8316755294799805,
          1.1995470523834229,
          9.621617317199707,
          8.535550117492676,
          -1.8802095651626587,
          -10.174259185791016,
          4.20408296585083,
          6.408339500427246,
          3.7116565704345703,
          -6.7004475593566895,
          -4.9872918128967285,
          -4.751568794250488,
          6.309316635131836,
          -2.9155466556549072,
          2.1208527088165283,
          -10.063573837280273,
          -8.550702095031738,
          -1.2669440507888794,
          4.8138298988342285,
          -9.569818496704102,
          11.516790390014648,
          -2.8342373371124268,
          3.063961982727051,
          10.585895538330078,
          -3.5203373432159424,
          -7.529296398162842,
          -8.692780494689941,
          10.593524932861328,
          1.7535324096679688,
          2.754493236541748,
          4.880380153656006,
          4.092489242553711,
          -6.314365863800049,
          -3.8691439628601074,
          10.486950874328613,
          -7.297351837158203,
          -6.828284740447998,
          3.9948980808258057,
          3.0397584438323975,
          11.104308128356934,
          4.492103576660156,
          0.18361304700374603,
          -1.4023469686508179,
          6.186654090881348,
          6.715664386749268,
          2.955092430114746,
          -2.876281261444092,
          -6.374727725982666,
          5.5898966789245605,
          10.495049476623535
         ],
         "y": [
          -7.167639255523682,
          7.799009323120117,
          -3.285834789276123,
          10.143135070800781,
          -0.5829948782920837,
          7.588912010192871,
          4.85455322265625,
          14.195810317993164,
          0.9680713415145874,
          -12.87296199798584,
          15.846057891845703,
          -1.5226237773895264,
          14.35396671295166,
          -0.9135650396347046,
          4.354989051818848,
          5.649914741516113,
          14.36365795135498,
          2.338092803955078,
          -3.9877517223358154,
          9.053285598754883,
          6.943762302398682,
          -5.641805648803711,
          2.7621521949768066,
          1.7855234146118164,
          7.338832378387451,
          -2.6012091636657715,
          -1.4162384271621704,
          -0.9723513126373291,
          5.276366233825684,
          8.432304382324219,
          0.012392439879477024,
          7.268151760101318,
          -2.98590350151062,
          6.188754558563232,
          -4.831111431121826,
          -4.588747978210449,
          8.507184982299805,
          -0.9882084131240845,
          -6.314101696014404,
          8.4879150390625,
          2.204096555709839,
          8.118492126464844,
          -2.6035380363464355,
          5.286849021911621,
          6.390228748321533,
          5.614609718322754,
          6.983486652374268,
          1.4099544286727905,
          -1.4715702533721924,
          -2.6328213214874268,
          17.23826026916504,
          -4.435074806213379,
          -6.207154273986816,
          5.7447710037231445,
          8.550925254821777,
          4.000804901123047,
          6.161789894104004,
          -2.581587076187134,
          6.807363986968994,
          0.31936678290367126,
          9.880375862121582,
          -4.673167705535889,
          4.6059699058532715,
          8.716202735900879,
          -5.5982208251953125,
          7.3390793800354,
          -1.2076283693313599,
          2.350935459136963,
          -0.5953502655029297,
          9.979513168334961,
          8.930235862731934,
          10.83195686340332,
          -8.826408386230469,
          13.707167625427246,
          -16.56308937072754,
          -8.889100074768066,
          1.5480514764785767,
          7.706644535064697,
          -16.438846588134766,
          -13.121370315551758,
          -13.218220710754395,
          -8.926491737365723,
          3.244452953338623,
          -3.4343037605285645,
          4.734594345092773,
          6.44547700881958,
          0.1801973134279251,
          1.7058368921279907,
          0.3999094069004059,
          -7.357804298400879,
          -10.179375648498535,
          14.594359397888184,
          -2.0022380352020264,
          3.2017219066619873,
          4.89647102355957,
          5.517242908477783,
          -7.779761791229248,
          5.240540027618408,
          -2.906212568283081,
          2.413092851638794,
          -7.378514766693115,
          -1.6951632499694824,
          5.628966808319092,
          -7.045252323150635,
          6.010891437530518,
          -9.56224250793457,
          -4.236949443817139,
          3.943047285079956,
          -16.316776275634766,
          8.84222412109375,
          -8.939315795898438,
          -6.439986705780029,
          16.418333053588867,
          -9.603625297546387,
          -1.5071024894714355,
          -10.24044132232666,
          3.2557783126831055,
          3.0453784465789795,
          11.583524703979492,
          -3.192267894744873,
          -10.879739761352539,
          0.6517740488052368,
          4.873948097229004,
          -3.777212142944336,
          -3.9393813610076904,
          6.973214149475098,
          5.820502758026123,
          10.414642333984375,
          5.00234317779541,
          6.865477085113525,
          -0.9511986374855042,
          -7.789510250091553,
          15.727653503417969,
          6.111380577087402,
          -0.37574613094329834,
          -9.422776222229004,
          1.3096686601638794,
          13.56886100769043,
          8.042786598205566,
          0.1806725561618805,
          14.185266494750977,
          -6.103288173675537,
          -6.685913562774658,
          1.5909020900726318,
          -2.5954434871673584,
          -11.728032112121582,
          12.556096076965332,
          -1.1287190914154053,
          8.066743850708008,
          -2.6591362953186035,
          -8.079265594482422,
          -11.333417892456055,
          3.064746618270874,
          -6.653470039367676,
          -6.720950603485107,
          -6.964500904083252,
          -4.332822799682617,
          -3.0840165615081787,
          -14.386972427368164,
          11.5288667678833,
          4.612699031829834,
          -2.957453727722168,
          -13.648093223571777,
          -15.87285327911377,
          10.148890495300293,
          -1.4273955821990967,
          14.121200561523438,
          8.690335273742676,
          1.7590311765670776,
          -5.010701656341553,
          -4.480587959289551,
          5.100332260131836,
          8.302178382873535,
          -0.9969387650489807,
          -0.8661196827888489,
          0.10525166988372803,
          8.486052513122559,
          -0.9877322912216187,
          7.773617744445801,
          11.925063133239746,
          0.7554832696914673,
          9.43453598022461,
          6.0747880935668945,
          6.731600761413574,
          8.229090690612793,
          2.9030420780181885,
          6.783160209655762,
          -1.5978535413742065,
          -11.813389778137207,
          -10.756797790527344,
          -1.3857325315475464,
          0.47515997290611267,
          15.387030601501465,
          -2.021174430847168,
          0.33579662442207336,
          5.828656196594238,
          1.1576652526855469,
          3.8177289962768555,
          -7.4489617347717285,
          -3.157489061355591,
          0.3394918441772461,
          -1.7979340553283691,
          4.650050163269043,
          3.1823678016662598,
          -2.193495988845825,
          7.2872138023376465,
          -12.89853572845459,
          0.27274373173713684,
          10.36198616027832,
          9.275778770446777,
          -1.9137849807739258,
          5.488139629364014,
          8.807181358337402,
          -9.271329879760742,
          0.7861551642417908,
          -0.2800285220146179,
          8.96159839630127,
          6.919040679931641,
          6.96222448348999,
          1.3501871824264526,
          -2.907789945602417,
          4.354762554168701,
          2.5132031440734863,
          -17.155242919921875,
          0.8454669117927551,
          -12.04375171661377,
          -4.240129470825195,
          -13.07524585723877,
          -0.28880009055137634,
          3.4433724880218506,
          5.0655622482299805,
          -2.0017566680908203,
          12.544325828552246,
          13.044123649597168,
          -0.7489908933639526,
          3.96714186668396,
          10.32120132446289,
          -10.461788177490234,
          10.312994956970215,
          -1.6039996147155762,
          0.3912562429904938,
          1.8104661703109741,
          0.760620653629303,
          3.502573251724243,
          11.336055755615234,
          0.42506322264671326,
          -11.153657913208008,
          -15.775254249572754,
          -4.651548862457275,
          2.2826035022735596,
          -5.923828601837158,
          0.6349669694900513,
          10.351893424987793,
          -2.985318899154663,
          -10.224849700927734,
          1.4574593305587769,
          -9.002975463867188,
          1.3634849786758423,
          3.5590336322784424,
          -2.6784112453460693,
          0.37654590606689453,
          -3.132171392440796,
          -0.33635419607162476,
          0.26956281065940857,
          -7.061619281768799,
          3.713099479675293,
          14.001636505126953,
          2.142061471939087,
          -15.909491539001465,
          2.7611351013183594,
          2.8005473613739014,
          5.220148086547852,
          -10.8967924118042,
          0.3663667142391205,
          10.238139152526855,
          -3.097877264022827,
          5.298064708709717,
          0.3494214117527008,
          3.676057815551758,
          -11.555397033691406,
          -3.741579055786133,
          0.7128322124481201,
          -12.016471862792969,
          -7.546043395996094,
          -1.0452903509140015,
          4.206918239593506,
          -3.888005495071411,
          4.864732265472412,
          1.8291109800338745,
          -7.486594200134277,
          -6.949625492095947,
          4.197259902954102,
          -4.283190727233887,
          3.638526201248169,
          -3.4270567893981934,
          15.208097457885742,
          11.535327911376953,
          -14.96206283569336,
          -2.2145578861236572,
          -7.839498519897461,
          7.372699737548828,
          1.4838926792144775,
          8.257895469665527,
          11.733654975891113,
          9.278366088867188,
          -14.321693420410156,
          3.4318180084228516,
          -13.324141502380371,
          -3.1236824989318848,
          7.859025001525879,
          8.525944709777832,
          -1.5605124235153198,
          8.503437995910645,
          -0.8972386121749878,
          0.6428359150886536,
          -9.032686233520508,
          -4.711385250091553,
          4.813656330108643,
          -15.100662231445312,
          4.276930332183838,
          6.49662971496582,
          -11.84201717376709,
          11.52167797088623,
          7.140824794769287,
          -12.23953628540039,
          -7.210875034332275,
          12.547345161437988,
          14.099356651306152,
          3.9852986335754395,
          10.260431289672852,
          1.9277091026306152,
          5.424638271331787,
          -2.673004627227783,
          -8.453574180603027,
          1.2849187850952148,
          2.0872843265533447,
          6.605865001678467,
          -9.58171272277832,
          7.115355491638184,
          4.891449928283691,
          -10.203628540039062,
          -13.751387596130371,
          11.805933952331543,
          -5.821768283843994,
          13.733328819274902,
          3.6890110969543457,
          6.811847686767578,
          -1.1498644351959229,
          10.968672752380371,
          5.678256511688232,
          0.47958889603614807,
          -11.11378002166748,
          -2.8060567378997803,
          4.887819290161133,
          -3.858572483062744,
          -14.085731506347656,
          -5.588603496551514,
          5.67767858505249,
          6.4966301918029785,
          -4.494125843048096,
          7.194106578826904,
          4.621827125549316,
          -3.0936996936798096,
          -2.732656717300415,
          11.720516204833984,
          -13.75461483001709,
          8.049728393554688,
          1.2927976846694946,
          0.8942499756813049,
          3.669407606124878,
          -2.8958475589752197,
          0.40723615884780884,
          0.9633684754371643,
          3.5955865383148193,
          11.428528785705566,
          -4.794158458709717,
          -16.318408966064453,
          9.858131408691406,
          4.418933391571045,
          -6.339625358581543,
          12.207783699035645,
          -1.4951375722885132,
          -15.57680606842041,
          -9.763787269592285,
          6.552975177764893,
          -8.162961959838867,
          -4.504739284515381,
          -3.3089230060577393,
          -1.960396647453308,
          -7.257094383239746,
          -3.5905487537384033,
          -8.095929145812988,
          -11.499690055847168,
          -11.216054916381836,
          -1.8448914289474487,
          5.0082316398620605,
          -9.592085838317871,
          11.094419479370117,
          -7.102888107299805,
          -11.214841842651367,
          -3.274003505706787,
          -2.5979952812194824,
          -1.4400959014892578,
          6.859528541564941,
          12.332375526428223,
          2.8499157428741455,
          0.07583074271678925,
          -2.664043426513672,
          12.487622261047363,
          4.864476203918457,
          4.209942817687988,
          -7.640235424041748,
          7.54683256149292,
          -14.299029350280762,
          4.800551891326904,
          -2.3060317039489746,
          0.32507452368736267,
          6.216063976287842,
          14.332261085510254,
          3.821728229522705,
          -7.172313690185547,
          -0.3577349781990051,
          4.035726547241211,
          8.615588188171387,
          2.0072720050811768,
          0.457499623298645,
          4.702136039733887,
          9.887676239013672,
          -8.04835319519043,
          1.967551827430725,
          -9.96025562286377,
          4.0109100341796875,
          -3.703277111053467,
          9.846335411071777,
          8.429072380065918,
          -0.04008224979043007,
          -1.9144384860992432,
          1.6739405393600464,
          -16.828826904296875,
          -2.165395975112915,
          -10.21731185913086,
          -16.05290412902832,
          -1.9508637189865112,
          3.0352001190185547,
          -0.8794514536857605,
          9.096138954162598,
          9.058321952819824,
          -4.321016311645508,
          2.474245071411133,
          10.90552043914795,
          -3.0049610137939453,
          1.1454719305038452,
          -4.09454870223999,
          -14.690502166748047,
          15.492162704467773,
          5.494332790374756,
          0.7638524174690247,
          1.0274436473846436,
          -16.240802764892578,
          -14.736299514770508,
          6.149603843688965,
          -0.6273214221000671,
          -1.48305344581604,
          -15.27591323852539,
          1.0024667978286743,
          -10.267794609069824,
          -15.921271324157715,
          10.428228378295898,
          -1.2268445491790771,
          1.4848109483718872,
          -11.41452693939209,
          -1.5005098581314087,
          -0.4896243214607239,
          -10.894807815551758,
          -4.969042778015137,
          0.4398299753665924,
          6.039338111877441,
          8.292777061462402,
          -7.595542907714844,
          4.776037216186523,
          -3.074144124984741,
          -3.2807230949401855,
          8.802745819091797,
          3.8583216667175293,
          3.4058029651641846,
          2.825873613357544,
          3.779566526412964,
          -8.689286231994629,
          -9.210695266723633,
          -2.0555782318115234,
          -14.345160484313965,
          15.14700984954834,
          6.1101508140563965,
          8.514533042907715,
          0.9293971061706543,
          11.880377769470215,
          4.629598140716553,
          12.95246696472168,
          -5.083154201507568,
          -7.806797504425049,
          7.839174270629883,
          -0.7818372845649719,
          -6.52787446975708,
          0.49693718552589417,
          -8.116744041442871,
          -1.38169527053833,
          -16.4876708984375,
          -0.8218882083892822,
          -9.064038276672363,
          8.43224048614502,
          -0.6659456491470337,
          -2.5001015663146973,
          2.343867301940918,
          5.2846760749816895,
          -15.627357482910156,
          -4.591821670532227,
          -5.912984371185303,
          -16.51754379272461,
          0.3616142272949219,
          3.28491473197937,
          -8.470884323120117,
          4.751357078552246,
          5.230835914611816,
          4.433411121368408,
          6.1359453201293945,
          2.161862850189209,
          -9.779077529907227,
          1.3676183223724365,
          -0.6478815078735352,
          -10.321870803833008,
          5.441539764404297,
          8.311419486999512,
          13.251421928405762,
          -2.5611119270324707,
          14.093262672424316,
          8.681482315063477,
          5.4642252922058105,
          3.0041537284851074,
          -4.873140335083008,
          3.1025335788726807,
          1.896177887916565,
          11.327142715454102,
          4.159804344177246,
          8.6080961227417,
          -0.7642308473587036,
          15.614943504333496,
          -10.799531936645508,
          11.545726776123047,
          11.152436256408691,
          -11.653511047363281,
          -6.845527648925781,
          -8.64323616027832,
          -0.19214242696762085,
          -14.407143592834473,
          -3.4373412132263184,
          6.963984489440918,
          12.769777297973633,
          -14.797525405883789,
          13.699575424194336,
          1.6612285375595093,
          2.575086832046509,
          7.232285976409912,
          -3.2294504642486572,
          13.214777946472168,
          -3.5482470989227295,
          -14.066329002380371,
          -2.634679079055786,
          -0.8503172397613525,
          12.123443603515625,
          13.956212997436523,
          -7.976264953613281,
          14.310687065124512,
          12.762502670288086,
          5.447440147399902,
          6.790882587432861,
          9.150703430175781,
          5.845571517944336,
          2.158395767211914,
          -7.854552268981934,
          -11.173565864562988,
          -7.094844341278076,
          -12.845823287963867,
          3.0417556762695312,
          6.117135524749756,
          -3.1986098289489746,
          -12.89595890045166,
          -9.853511810302734,
          -5.830446720123291,
          0.6874926090240479,
          8.005241394042969,
          -2.009725570678711,
          -4.247137069702148,
          0.6483966112136841,
          12.291444778442383,
          1.795648217201233,
          -6.7934346199035645,
          12.177299499511719,
          8.686753273010254,
          8.969358444213867,
          2.776285171508789,
          13.017658233642578,
          0.052129168063402176,
          7.820242881774902,
          4.182093620300293,
          10.988266944885254,
          8.123929023742676,
          13.977940559387207,
          4.781035900115967,
          -3.1747641563415527,
          7.837306022644043,
          5.058417797088623,
          -7.665419101715088,
          -8.948578834533691,
          -10.2520170211792,
          -14.346592903137207,
          -3.156404733657837,
          1.4485301971435547,
          1.3856433629989624,
          -4.520809173583984,
          -10.2692232131958,
          -1.7934471368789673,
          -5.992298126220703,
          -6.467781066894531,
          0.16827741265296936,
          3.881981611251831,
          12.11556625366211,
          3.94055438041687,
          -1.9052002429962158,
          -1.5570414066314697,
          -15.336688995361328,
          -3.752619504928589,
          4.265077114105225,
          -16.8386173248291,
          3.9864020347595215,
          -7.213849067687988,
          -5.113317966461182,
          -7.299834728240967,
          -1.8307989835739136,
          15.144624710083008,
          9.846796035766602,
          -2.250370740890503,
          9.157403945922852,
          5.609352111816406,
          -6.51263427734375,
          4.361860275268555,
          -14.627649307250977,
          0.5701644420623779,
          -9.78286361694336,
          7.977596759796143,
          -11.50011920928955,
          -4.223228454589844,
          -2.8959431648254395,
          -0.7224965691566467,
          14.404668807983398,
          -0.34670981764793396,
          7.5093770027160645,
          2.6221420764923096,
          -8.361827850341797,
          -3.203721523284912,
          8.431148529052734,
          9.09586238861084,
          -5.918703079223633,
          0.910257875919342,
          -7.842548847198486,
          11.427996635437012,
          10.093806266784668,
          13.164393424987793,
          6.588176250457764,
          3.7227423191070557,
          -1.3240952491760254,
          0.8763258457183838,
          -13.360933303833008,
          -5.711623668670654,
          -2.6492724418640137,
          10.394326210021973,
          -6.111325263977051,
          8.284869194030762,
          15.677342414855957,
          10.980340957641602,
          5.911457538604736,
          2.077045202255249,
          -2.8506906032562256,
          -10.994878768920898,
          8.438438415527344,
          -8.717011451721191,
          -0.9802767038345337,
          -10.788722038269043,
          -2.1312332153320312,
          15.06287670135498,
          8.34595012664795,
          3.4753355979919434,
          8.780400276184082,
          7.4825239181518555,
          2.390035390853882,
          16.687610626220703,
          12.724989891052246,
          -5.931861400604248,
          -11.86833667755127,
          -15.209219932556152,
          6.162050724029541,
          -0.9567480683326721,
          -10.15540885925293,
          -0.9416410326957703,
          5.271539211273193,
          -10.593995094299316,
          4.351134300231934,
          14.509974479675293,
          17.8249454498291,
          -2.651148796081543,
          5.516750812530518,
          6.500004291534424,
          -3.6701927185058594,
          -5.562561511993408,
          -2.405365467071533,
          -6.331455707550049,
          11.195388793945312,
          7.386556625366211,
          6.326269626617432,
          -6.413998603820801,
          -1.7983406782150269,
          -3.951810359954834,
          1.6556665897369385,
          4.022751808166504,
          -4.450525760650635,
          2.6718854904174805,
          -2.9086925983428955,
          10.019391059875488,
          12.919403076171875,
          10.80550765991211,
          7.979016304016113,
          -2.0213499069213867,
          1.172568440437317,
          -2.6661055088043213,
          -4.222956657409668,
          1.6163753271102905,
          15.013886451721191,
          -9.682437896728516,
          -14.448657035827637,
          -15.354090690612793,
          4.750794410705566,
          -2.649304151535034,
          -7.314029693603516,
          -8.103632926940918,
          4.6612067222595215,
          -6.904027938842773,
          -14.984968185424805,
          -11.364460945129395,
          15.717305183410645,
          0.3942689895629883,
          9.135536193847656,
          7.570528507232666,
          0.35302454233169556,
          4.619352340698242,
          0.3703272342681885,
          -4.083792686462402,
          -1.404162049293518,
          -12.87995433807373,
          -2.919599771499634,
          5.172051906585693,
          -0.8037640452384949,
          7.468651294708252,
          -5.722071170806885,
          -4.6417236328125,
          -0.055085815489292145,
          -8.517858505249023,
          1.8742612600326538,
          2.7944819927215576,
          0.508881688117981,
          5.085409164428711,
          0.28660687804222107,
          -12.774459838867188,
          -7.146939277648926,
          -0.30827710032463074,
          5.033941745758057,
          -7.555386066436768,
          -3.752223253250122,
          -1.5448863506317139,
          1.5564243793487549,
          -16.726478576660156,
          -8.934459686279297,
          -10.693940162658691,
          2.684563636779785,
          5.3674163818359375,
          -8.14521598815918,
          -15.752486228942871,
          8.736966133117676,
          -2.984405040740967,
          10.985549926757812,
          -14.844223976135254,
          -11.111641883850098,
          12.956316947937012,
          -11.02161693572998,
          3.983491897583008,
          -14.675540924072266,
          0.9279046058654785,
          6.478437900543213,
          -5.360823631286621,
          1.8807380199432373,
          -12.108799934387207,
          -1.117008090019226,
          -1.0852622985839844,
          -2.5784640312194824,
          -0.4957450330257416,
          7.83223295211792,
          -1.8427772521972656,
          -1.2497934103012085,
          -4.1418585777282715,
          6.462059497833252,
          14.743255615234375,
          -3.0321438312530518,
          1.769653081893921,
          5.518913269042969,
          -15.481440544128418,
          -6.494922637939453,
          5.541383266448975,
          2.5331337451934814,
          5.629157066345215,
          11.7467622756958,
          7.878650665283203,
          11.938629150390625,
          13.376483917236328,
          -0.48265525698661804,
          -15.710331916809082,
          7.781700134277344,
          1.7504487037658691,
          -0.9997628927230835,
          14.698068618774414,
          -13.530714988708496,
          -11.022181510925293,
          7.581458568572998,
          7.137963771820068,
          -5.989922046661377,
          4.937774181365967,
          5.851027488708496,
          0.7021435499191284,
          10.280440330505371,
          1.4438116550445557,
          0.5386204719543457,
          12.665183067321777,
          -4.595458507537842,
          -11.426239013671875,
          -6.991192817687988,
          11.86434268951416,
          3.7061846256256104,
          3.5391056537628174,
          13.172091484069824,
          4.685503959655762,
          -12.018425941467285,
          -8.62330436706543,
          -4.157511234283447,
          12.638328552246094,
          -9.114084243774414,
          -5.520384311676025,
          -11.06210994720459,
          -1.5957461595535278,
          2.911600351333618,
          -0.44599658250808716,
          15.866836547851562,
          -13.2532320022583,
          3.8992109298706055,
          -7.063970565795898,
          -12.159638404846191,
          2.5228919982910156,
          -10.916343688964844,
          2.9177374839782715,
          13.490473747253418,
          2.678267478942871,
          -11.501572608947754,
          11.194266319274902,
          -6.6240434646606445,
          11.767120361328125,
          -6.484508991241455,
          0.20886455476284027,
          -8.987717628479004,
          3.479034662246704,
          -4.961416721343994,
          -1.3994189500808716,
          0.3469296097755432,
          -6.503122329711914,
          -0.9282740354537964,
          -6.563909530639648,
          -14.190168380737305,
          -13.331435203552246,
          10.486306190490723,
          11.40764045715332,
          16.233570098876953,
          -8.918004989624023,
          -3.123401641845703,
          -8.213337898254395,
          5.640504360198975,
          2.069511890411377,
          8.383993148803711,
          2.7779059410095215,
          -12.988088607788086,
          6.743981838226318,
          -9.049975395202637,
          -9.61924934387207,
          0.25285428762435913,
          -0.4423980116844177,
          1.8136173486709595,
          4.816020965576172,
          -3.202528953552246,
          -4.605396747589111,
          11.703958511352539,
          -12.343345642089844,
          3.087150812149048,
          11.745739936828613,
          7.803282260894775,
          3.125091314315796,
          -17.331897735595703,
          2.312220811843872,
          -5.3709001541137695,
          -1.9467988014221191,
          -16.830028533935547,
          4.9827561378479,
          -1.6353123188018799,
          -6.133373260498047,
          5.496850490570068,
          15.598367691040039,
          15.865548133850098,
          -8.314846992492676,
          15.582930564880371,
          -2.8361215591430664,
          -11.240504264831543,
          3.2805566787719727,
          -7.356695175170898,
          4.543079853057861,
          -6.845576763153076,
          -1.883600115776062,
          2.9975156784057617,
          -1.0651211738586426,
          -5.506709575653076,
          0.18422113358974457,
          9.963171005249023,
          11.632518768310547,
          1.9466358423233032,
          -7.445372581481934,
          -1.4340790510177612,
          7.839292526245117,
          13.922200202941895,
          0.3944488763809204,
          -1.3038431406021118,
          -15.744659423828125,
          13.679078102111816,
          -14.78342056274414,
          4.818134307861328,
          -14.426304817199707,
          -12.071732521057129,
          4.050882816314697,
          4.380034923553467,
          -7.377593040466309,
          -2.448409080505371,
          11.897177696228027,
          12.1858549118042,
          -3.096595287322998,
          0.3608427047729492,
          16.447921752929688,
          7.771206855773926,
          5.713578224182129,
          0.717048168182373,
          0.5517721176147461,
          -0.7184303998947144,
          -1.005354404449463,
          -16.00698471069336,
          -8.114567756652832,
          -2.3242456912994385,
          3.4250001907348633,
          -13.99748420715332,
          5.630897045135498,
          -3.1665172576904297,
          6.668455123901367,
          -12.1049165725708,
          -10.577873229980469,
          -1.452926754951477,
          -11.805362701416016,
          2.4382400512695312,
          4.125213623046875,
          5.753359317779541,
          -2.483147382736206,
          10.995661735534668,
          5.195772171020508,
          -7.317203044891357,
          -14.398782730102539,
          3.062192440032959,
          6.337704658508301,
          -2.4977312088012695,
          0.28316161036491394,
          11.396251678466797,
          14.006570816040039,
          2.3076956272125244,
          10.92005443572998,
          -14.937687873840332,
          -14.578763961791992,
          -1.3055877685546875,
          5.818965435028076,
          -7.8639960289001465,
          -3.0497725009918213,
          -14.233541488647461,
          10.013870239257812,
          1.3924545049667358
         ],
         "z": [
          0.34973034262657166,
          8.82138442993164,
          -12.346505165100098,
          -0.7735101580619812,
          -14.341628074645996,
          -0.9392066597938538,
          13.605955123901367,
          -7.387137413024902,
          4.689702033996582,
          5.518282413482666,
          -7.74854850769043,
          -8.454778671264648,
          0.9093139171600342,
          -0.5848745107650757,
          -11.579660415649414,
          -3.1695706844329834,
          0.8564661741256714,
          4.485258102416992,
          -11.262894630432129,
          0.2700192928314209,
          -0.33509355783462524,
          -2.145505428314209,
          -16.232879638671875,
          4.800296306610107,
          -5.758184432983398,
          -2.974924087524414,
          -9.59444808959961,
          6.383632183074951,
          -10.953653335571289,
          -7.34773063659668,
          6.18597936630249,
          7.0907769203186035,
          -1.9352898597717285,
          -11.536324501037598,
          -0.9018707871437073,
          -0.8391948342323303,
          1.2053335905075073,
          6.5613932609558105,
          -2.477799892425537,
          -2.678417682647705,
          12.34296703338623,
          -10.959264755249023,
          6.4112138748168945,
          -5.043916702270508,
          -11.61866569519043,
          -2.413214683532715,
          -12.108635902404785,
          4.815188884735107,
          -8.733940124511719,
          11.330155372619629,
          -4.180981636047363,
          -9.97849178314209,
          1.0301904678344727,
          -2.5506513118743896,
          -1.2872040271759033,
          11.626897811889648,
          12.180685043334961,
          -1.2385586500167847,
          -11.353819847106934,
          -9.89310359954834,
          10.341069221496582,
          2.3587396144866943,
          -6.254011631011963,
          -10.48025131225586,
          9.222284317016602,
          -12.886916160583496,
          4.56965970993042,
          3.753053665161133,
          -9.490564346313477,
          -5.9118242263793945,
          -9.897146224975586,
          -4.872252464294434,
          -3.049661159515381,
          -2.0861618518829346,
          0.6301398277282715,
          0.30920371413230896,
          -9.975696563720703,
          -5.778976917266846,
          -0.9965457320213318,
          0.4447612762451172,
          0.9385772347450256,
          -1.267501711845398,
          -13.558987617492676,
          2.5211007595062256,
          9.907715797424316,
          3.4904046058654785,
          7.824141025543213,
          11.885512351989746,
          0.5729862451553345,
          -3.4370410442352295,
          -1.7223286628723145,
          -6.028597831726074,
          5.0699143409729,
          13.90298843383789,
          10.391739845275879,
          -7.4280781745910645,
          5.535189628601074,
          3.3765854835510254,
          7.875152111053467,
          -10.78565502166748,
          -3.702989339828491,
          10.336434364318848,
          2.9281187057495117,
          2.288114309310913,
          -6.596240520477295,
          4.49931001663208,
          5.359957218170166,
          6.841648578643799,
          1.4280884265899658,
          -5.852734088897705,
          -4.2796196937561035,
          -5.091442584991455,
          -5.382885932922363,
          1.633851408958435,
          -12.508549690246582,
          -2.7780935764312744,
          12.233047485351562,
          14.203775405883789,
          -1.2757925987243652,
          9.124459266662598,
          -2.6343116760253906,
          -0.6918647289276123,
          5.762182235717773,
          8.573565483093262,
          0.6336508393287659,
          6.464099407196045,
          9.518289566040039,
          -2.602384567260742,
          9.400655746459961,
          5.2370686531066895,
          -1.456181287765503,
          4.823147296905518,
          -4.048732280731201,
          10.032014846801758,
          10.221952438354492,
          2.6491851806640625,
          -14.36195182800293,
          -2.4073402881622314,
          6.093460559844971,
          2.233335494995117,
          -3.0677413940429688,
          -2.354290008544922,
          1.6256023645401,
          -13.083621978759766,
          10.49795913696289,
          2.692204475402832,
          -6.741582870483398,
          6.888694763183594,
          7.355262756347656,
          4.653477191925049,
          -4.800468921661377,
          -0.7604639530181885,
          2.353327512741089,
          2.006784439086914,
          -2.3145689964294434,
          5.884137153625488,
          10.713394165039062,
          9.106764793395996,
          -0.37706437706947327,
          -2.0071043968200684,
          12.918072700500488,
          -0.7185823917388916,
          -3.3922784328460693,
          -1.0087296962738037,
          -2.5684711933135986,
          9.332508087158203,
          -2.4194486141204834,
          -10.416312217712402,
          -11.676920890808105,
          2.1192209720611572,
          5.527469635009766,
          2.6085903644561768,
          -4.7467241287231445,
          -13.851874351501465,
          0.5526156425476074,
          11.507865905761719,
          -2.5053648948669434,
          -13.756878852844238,
          7.849247932434082,
          -2.6120705604553223,
          1.7306777238845825,
          -7.895440578460693,
          6.748935222625732,
          -9.014188766479492,
          -9.69629955291748,
          13.301652908325195,
          -8.23702335357666,
          -0.7241883277893066,
          2.1065173149108887,
          -1.018820881843567,
          7.504911422729492,
          -12.736266136169434,
          -6.222632884979248,
          -13.169660568237305,
          9.910264015197754,
          13.022930145263672,
          2.44126296043396,
          6.566408157348633,
          -4.702422142028809,
          0.07936272025108337,
          -2.0944292545318604,
          3.57989239692688,
          8.652448654174805,
          -13.003191947937012,
          -12.908432960510254,
          6.931560039520264,
          -0.6137676239013672,
          -1.7137253284454346,
          -7.403245449066162,
          7.382266044616699,
          0.6263976097106934,
          -6.862322807312012,
          -6.0315141677856445,
          -3.423940896987915,
          -0.7249241471290588,
          1.0279476642608643,
          6.9595794677734375,
          -5.003801345825195,
          -6.81765079498291,
          3.3086624145507812,
          -12.942351341247559,
          5.251954555511475,
          -12.227262496948242,
          0.9228423833847046,
          9.774840354919434,
          -1.0626447200775146,
          6.684635639190674,
          2.860438585281372,
          9.904972076416016,
          -6.244513034820557,
          12.293546676635742,
          5.442289352416992,
          -2.8777244091033936,
          -2.4408130645751953,
          10.056687355041504,
          4.986141681671143,
          8.913348197937012,
          -0.2692740857601166,
          -2.9101693630218506,
          -14.786250114440918,
          -1.2336541414260864,
          3.887269973754883,
          -13.851936340332031,
          10.552312850952148,
          -7.138362407684326,
          9.899507522583008,
          2.305018901824951,
          -3.203547954559326,
          6.444464683532715,
          -15.672477722167969,
          -0.6123677492141724,
          2.9360053539276123,
          -4.627233505249023,
          -0.48849326372146606,
          3.7748003005981445,
          6.424355506896973,
          1.367024302482605,
          11.96352481842041,
          -5.668487071990967,
          10.378692626953125,
          -14.63005256652832,
          -0.3410492539405823,
          -13.96762466430664,
          2.4198808670043945,
          -0.11044508218765259,
          10.262655258178711,
          -3.59356427192688,
          10.147836685180664,
          1.3499627113342285,
          5.288577079772949,
          5.708540439605713,
          9.06609058380127,
          1.289712905883789,
          -14.957255363464355,
          -1.9960702657699585,
          2.9158477783203125,
          -6.734898090362549,
          -12.609903335571289,
          6.223912715911865,
          2.2687370777130127,
          7.049867153167725,
          -14.835095405578613,
          3.5380184650421143,
          1.7292876243591309,
          -12.095712661743164,
          6.9117865562438965,
          9.621920585632324,
          5.316944599151611,
          10.927895545959473,
          -4.312439441680908,
          -4.389509677886963,
          7.917326927185059,
          5.471767425537109,
          6.653909683227539,
          2.7901339530944824,
          -3.68084979057312,
          -6.039915561676025,
          -2.103623628616333,
          3.9656524658203125,
          0.3371582329273224,
          3.9110107421875,
          12.941701889038086,
          -7.509998321533203,
          -6.532118320465088,
          -5.910751819610596,
          -1.6604087352752686,
          3.732870578765869,
          -2.079435348510742,
          8.530000686645508,
          -9.44804859161377,
          -9.443556785583496,
          6.942787170410156,
          -7.970522403717041,
          -14.933992385864258,
          3.029655933380127,
          -0.03173143416643143,
          2.108013391494751,
          11.140617370605469,
          -1.5232230424880981,
          8.749682426452637,
          3.6898200511932373,
          0.35703927278518677,
          -3.9986398220062256,
          4.550809383392334,
          -3.4581966400146484,
          -0.8009745478630066,
          -3.478592872619629,
          -4.780348300933838,
          -12.210058212280273,
          -5.181171417236328,
          10.361774444580078,
          -5.427496433258057,
          1.7352725267410278,
          5.090828895568848,
          12.08641529083252,
          -10.805265426635742,
          5.7979607582092285,
          3.1446316242218018,
          -8.065019607543945,
          -7.318933010101318,
          2.532085418701172,
          3.0579216480255127,
          -1.1097959280014038,
          2.2987194061279297,
          -6.717248916625977,
          -12.849689483642578,
          10.413341522216797,
          9.844071388244629,
          -2.475046157836914,
          -4.895132064819336,
          3.734858751296997,
          1.888866901397705,
          10.415641784667969,
          9.328542709350586,
          9.584269523620605,
          3.304574728012085,
          0.052960194647312164,
          4.221272945404053,
          -8.398544311523438,
          -1.0556365251541138,
          7.295974254608154,
          3.9403634071350098,
          5.314973831176758,
          7.464984893798828,
          -3.4653518199920654,
          -3.4748594760894775,
          -4.781989097595215,
          13.127735137939453,
          11.623053550720215,
          7.467620372772217,
          7.730406761169434,
          -1.0229181051254272,
          -10.664724349975586,
          -10.401179313659668,
          -3.908102035522461,
          8.012153625488281,
          -0.916501522064209,
          -5.160045623779297,
          9.284703254699707,
          -1.5685666799545288,
          -3.255427122116089,
          2.9999887943267822,
          0.7499552369117737,
          -2.666553020477295,
          6.567289352416992,
          6.174107551574707,
          5.460951328277588,
          5.084478378295898,
          -0.02064305543899536,
          -4.787225723266602,
          9.784428596496582,
          5.337599754333496,
          -0.4053785502910614,
          -0.2303367704153061,
          9.574162483215332,
          9.089526176452637,
          4.704900741577148,
          -6.88821268081665,
          -1.230872392654419,
          2.9674429893493652,
          8.715291023254395,
          2.2897164821624756,
          6.586802005767822,
          7.420975685119629,
          -6.998950481414795,
          10.841133117675781,
          -11.195054054260254,
          2.8529179096221924,
          -1.4868916273117065,
          5.806243419647217,
          8.220427513122559,
          -1.5960540771484375,
          -6.826778411865234,
          -2.457242012023926,
          8.360053062438965,
          5.969344615936279,
          12.498994827270508,
          9.89826488494873,
          -4.416513442993164,
          -12.392294883728027,
          -5.0098185539245605,
          4.378443241119385,
          5.364326477050781,
          7.335277080535889,
          -11.09853458404541,
          10.57254409790039,
          12.34951114654541,
          -5.639338493347168,
          -2.24702787399292,
          -9.919807434082031,
          -2.6221764087677,
          13.556235313415527,
          2.269798994064331,
          -4.884378433227539,
          -9.311626434326172,
          2.8477468490600586,
          10.921806335449219,
          -11.290568351745605,
          0.9716492295265198,
          -12.139801025390625,
          4.148255348205566,
          -1.807478666305542,
          -12.439497947692871,
          -9.08903694152832,
          0.5083656907081604,
          -3.113176107406616,
          -8.205703735351562,
          3.2565603256225586,
          -14.88544750213623,
          -8.625521659851074,
          2.8420941829681396,
          -13.649337768554688,
          8.1096773147583,
          -2.1370530128479004,
          -5.7198567390441895,
          9.70634937286377,
          -0.34781771898269653,
          -14.360190391540527,
          -1.0434492826461792,
          -0.8246465921401978,
          6.882913112640381,
          -11.694127082824707,
          6.939913749694824,
          2.0435285568237305,
          5.114725589752197,
          -1.6666524410247803,
          1.7135636806488037,
          -8.830195426940918,
          9.74057388305664,
          -12.19829273223877,
          -2.1782960891723633,
          12.149185180664062,
          7.686655044555664,
          1.7000517845153809,
          8.01338005065918,
          10.472222328186035,
          12.309711456298828,
          -4.851024150848389,
          2.896026134490967,
          9.516613960266113,
          8.120623588562012,
          2.4108190536499023,
          -6.021334648132324,
          -10.305729866027832,
          12.759925842285156,
          -10.244691848754883,
          2.128058671951294,
          -2.6183907985687256,
          2.3327064514160156,
          -15.37741470336914,
          -3.24870228767395,
          -4.427163124084473,
          -4.665863990783691,
          -7.549045085906982,
          -13.267105102539062,
          -7.01557731628418,
          6.1078596115112305,
          -2.8152921199798584,
          2.1005380153656006,
          -3.911458730697632,
          6.2641777992248535,
          5.707026481628418,
          -1.463897943496704,
          0.47432267665863037,
          -1.873443365097046,
          -15.234504699707031,
          -0.720716655254364,
          8.564997673034668,
          -3.4022676944732666,
          -8.199469566345215,
          -12.508782386779785,
          8.990714073181152,
          3.730433225631714,
          -6.721834659576416,
          -1.019217610359192,
          4.147747039794922,
          0.6952290534973145,
          -0.7793546319007874,
          3.5466976165771484,
          4.0848388671875,
          -5.124406337738037,
          -12.714198112487793,
          -6.135308265686035,
          -11.98221492767334,
          -7.051714897155762,
          11.63414192199707,
          -2.2265000343322754,
          12.870211601257324,
          0.5672829747200012,
          0.221613347530365,
          2.9877045154571533,
          -5.38249397277832,
          -1.7362593412399292,
          7.4729814529418945,
          -4.056321144104004,
          -8.983318328857422,
          6.240071773529053,
          -12.050688743591309,
          3.412611722946167,
          5.597725868225098,
          2.3382790088653564,
          -4.516524791717529,
          7.936517715454102,
          7.966445446014404,
          10.23579216003418,
          -2.2601823806762695,
          3.11102557182312,
          -4.212591171264648,
          -6.8712639808654785,
          3.4854846000671387,
          4.337124824523926,
          1.7035630941390991,
          -10.962621688842773,
          -0.30828529596328735,
          2.7536022663116455,
          1.7955207824707031,
          -1.5131034851074219,
          0.8030989766120911,
          -3.9611997604370117,
          6.577963352203369,
          -9.228559494018555,
          -6.880681991577148,
          3.2725155353546143,
          -7.2497453689575195,
          9.537747383117676,
          0.2960425019264221,
          9.979830741882324,
          5.225398540496826,
          -8.642108917236328,
          -6.29658317565918,
          -0.7794661521911621,
          -5.141026020050049,
          -7.427368640899658,
          -4.959965705871582,
          8.033204078674316,
          -9.65829849243164,
          10.124695777893066,
          11.684538841247559,
          1.493098258972168,
          -3.6342508792877197,
          -4.472146511077881,
          -3.3586649894714355,
          -10.643340110778809,
          10.558053970336914,
          8.6121244430542,
          -0.4792718291282654,
          0.1176217645406723,
          6.761946678161621,
          11.148968696594238,
          -4.899448871612549,
          2.4221627712249756,
          6.225160121917725,
          6.463436126708984,
          -7.488131046295166,
          4.165629863739014,
          0.9991684556007385,
          -5.51513147354126,
          -6.328904628753662,
          -5.538506031036377,
          -9.600712776184082,
          -1.8676154613494873,
          -1.7844089269638062,
          -8.422318458557129,
          13.236879348754883,
          -5.664268970489502,
          6.387425899505615,
          -5.564268112182617,
          -6.477097034454346,
          9.319116592407227,
          3.594223976135254,
          -6.100851058959961,
          -3.198054552078247,
          -4.488828182220459,
          1.4705067873001099,
          3.218618392944336,
          4.458791732788086,
          1.176024317741394,
          0.5522723197937012,
          1.6267073154449463,
          0.4403240382671356,
          5.751579761505127,
          1.6116362810134888,
          -0.1900082379579544,
          4.338990211486816,
          -11.679194450378418,
          -8.864066123962402,
          12.74431324005127,
          -12.79791259765625,
          2.67354679107666,
          1.6566245555877686,
          -1.0947185754776,
          5.9856462478637695,
          -1.0570216178894043,
          -13.132829666137695,
          -3.4935553073883057,
          3.2592854499816895,
          -3.5070481300354004,
          5.853736400604248,
          -5.9071431159973145,
          9.444564819335938,
          -13.024296760559082,
          7.291258335113525,
          12.771978378295898,
          -1.8205844163894653,
          -6.161740779876709,
          -3.7984001636505127,
          -12.116145133972168,
          2.9276974201202393,
          -6.54729700088501,
          0.645294189453125,
          6.639278888702393,
          10.084176063537598,
          2.697542428970337,
          -2.6528890132904053,
          11.8248291015625,
          5.211259365081787,
          -11.84090805053711,
          1.6805328130722046,
          4.918067455291748,
          -6.014587879180908,
          -8.703960418701172,
          0.5996472835540771,
          5.146527290344238,
          0.3348752558231354,
          -4.598256587982178,
          8.778800964355469,
          -1.5597600936889648,
          10.286724090576172,
          6.786855697631836,
          11.532561302185059,
          2.115968942642212,
          3.52974534034729,
          0.8733507394790649,
          6.814823150634766,
          -2.5974857807159424,
          5.148948669433594,
          8.229545593261719,
          -4.022261619567871,
          -4.979498863220215,
          9.938716888427734,
          -11.919760704040527,
          7.07804012298584,
          2.496953248977661,
          -4.558182239532471,
          2.119633436203003,
          11.449326515197754,
          2.308187246322632,
          9.754231452941895,
          -6.603923320770264,
          -10.28174114227295,
          -5.760528564453125,
          -8.898348808288574,
          -7.0538506507873535,
          1.0846076011657715,
          -5.559988975524902,
          -0.9457389712333679,
          -1.2933884859085083,
          -1.1982868909835815,
          -0.9763238430023193,
          -8.336795806884766,
          1.6424857378005981,
          -0.04874378815293312,
          -0.597231924533844,
          -10.950931549072266,
          3.5474812984466553,
          11.219582557678223,
          -6.398879528045654,
          -4.206187725067139,
          5.273431301116943,
          -5.307211399078369,
          -11.903587341308594,
          8.949055671691895,
          2.8179054260253906,
          -3.0381598472595215,
          5.915937900543213,
          -2.4846794605255127,
          -0.8402048945426941,
          -1.9943702220916748,
          5.979424953460693,
          5.221915245056152,
          -11.338348388671875,
          10.98706340789795,
          1.3992329835891724,
          -9.920132637023926,
          2.7258222103118896,
          -1.9348626136779785,
          -8.36334228515625,
          -0.20290671288967133,
          -2.841228723526001,
          -2.276479959487915,
          0.8760687708854675,
          -9.51176929473877,
          6.311079025268555,
          6.355692386627197,
          -0.1968701034784317,
          -6.491541385650635,
          -3.0455105304718018,
          -2.7444446086883545,
          -1.5836373567581177,
          -7.373889923095703,
          3.4871554374694824,
          0.9882721304893494,
          1.3032581806182861,
          -4.6898698806762695,
          -1.3453700542449951,
          -2.099388599395752,
          -2.9629435539245605,
          -4.515654563903809,
          -14.335384368896484,
          -8.821452140808105,
          8.063727378845215,
          -10.98696231842041,
          10.975135803222656,
          10.063569068908691,
          7.223191261291504,
          -13.57510757446289,
          0.4626696705818176,
          0.013596568256616592,
          -6.43218469619751,
          8.955881118774414,
          -9.104308128356934,
          0.79056715965271,
          6.28023099899292,
          12.96849250793457,
          -0.16471368074417114,
          12.751675605773926,
          10.91399097442627,
          -11.694499015808105,
          11.30130386352539,
          -12.434819221496582,
          0.6365652084350586,
          2.9681458473205566,
          5.841628551483154,
          11.997578620910645,
          -0.12846633791923523,
          6.449089050292969,
          2.7930188179016113,
          0.6271287202835083,
          -1.002328634262085,
          -0.35201871395111084,
          -1.2941814661026,
          11.932456016540527,
          2.8582069873809814,
          -4.400003433227539,
          -3.223572254180908,
          -9.30383586883545,
          1.282679557800293,
          -2.86987566947937,
          -0.5615054965019226,
          -1.2696473598480225,
          -6.809132099151611,
          0.7439799904823303,
          -6.089010238647461,
          -1.1237174272537231,
          10.84240436553955,
          7.61343240737915,
          6.0767340660095215,
          -14.633634567260742,
          -1.9871591329574585,
          6.279356479644775,
          0.45239004492759705,
          3.482877016067505,
          1.573617935180664,
          8.773239135742188,
          -14.561074256896973,
          10.332707405090332,
          3.7961487770080566,
          2.180568218231201,
          -3.5842323303222656,
          7.660851001739502,
          -11.771984100341797,
          -3.834003448486328,
          -1.095147728919983,
          -4.990428924560547,
          3.0599045753479004,
          -14.767293930053711,
          3.680764675140381,
          -8.192492485046387,
          -2.707805633544922,
          -3.949467182159424,
          -7.316115856170654,
          -15.15782642364502,
          -2.01361346244812,
          3.5906565189361572,
          3.3026294708251953,
          11.949990272521973,
          -3.753499746322632,
          -0.5107976794242859,
          -1.0355756282806396,
          -6.344956874847412,
          1.693373441696167,
          -1.3746495246887207,
          -6.6736626625061035,
          -4.761137962341309,
          -14.787581443786621,
          -5.005353927612305,
          -9.489624977111816,
          -13.417686462402344,
          -7.202107906341553,
          3.2419252395629883,
          -2.033653736114502,
          2.0371270179748535,
          -3.5325124263763428,
          6.79557991027832,
          11.464461326599121,
          -2.8947625160217285,
          4.56120491027832,
          -2.212808847427368,
          -4.327793598175049,
          0.8523082733154297,
          -1.5835977792739868,
          -4.534735679626465,
          2.563511371612549,
          -2.2913424968719482,
          0.43257936835289,
          4.625905990600586,
          0.9581804871559143,
          -2.8045270442962646,
          -1.0708101987838745,
          -5.985986709594727,
          -2.936598539352417,
          -0.30813872814178467,
          6.767953395843506,
          -3.1411197185516357,
          3.8640291690826416,
          -2.623410701751709,
          14.376937866210938,
          -1.1414880752563477,
          -5.278519630432129,
          -2.754185676574707,
          -8.863069534301758,
          4.583540439605713,
          8.062814712524414,
          -4.440903186798096,
          9.856348037719727,
          6.783059597015381,
          9.470383644104004,
          1.8575555086135864,
          2.0047967433929443,
          -12.675037384033203,
          -3.961709499359131,
          -4.759636402130127,
          3.5963573455810547,
          -4.750184059143066,
          -7.096975803375244,
          -5.237837791442871,
          -0.43954309821128845,
          4.904453754425049,
          0.7232344150543213,
          -5.370763301849365,
          -12.299934387207031,
          -8.818937301635742,
          -11.650626182556152,
          3.6224000453948975,
          -9.030987739562988,
          -1.2161946296691895,
          2.255281448364258,
          11.262484550476074,
          0.24316354095935822,
          4.320479393005371,
          4.845629692077637,
          0.16937056183815002,
          6.1242146492004395,
          -8.37736701965332,
          -3.6283278465270996,
          -13.527528762817383,
          -6.141630172729492,
          6.343357563018799,
          -11.495519638061523,
          0.5163580179214478,
          6.366451263427734,
          6.630604267120361,
          5.036849498748779,
          0.3048698902130127,
          -6.636417865753174,
          -12.622296333312988,
          2.675419330596924,
          5.546403884887695,
          -3.3419387340545654,
          -6.2623443603515625,
          -4.229543685913086,
          -4.188716411590576,
          8.43848705291748,
          1.7952402830123901,
          4.730484485626221,
          -5.037456035614014,
          9.700935363769531,
          2.326132297515869,
          3.815002679824829,
          5.013939380645752,
          -12.410072326660156,
          3.9940357208251953,
          7.117187976837158,
          -8.568382263183594,
          -6.400707721710205,
          -10.286920547485352,
          5.820920467376709,
          -11.93945598602295,
          7.943240642547607,
          -7.230638027191162,
          -10.604780197143555,
          -1.0381507873535156,
          -1.2985981702804565,
          -2.2531535625457764,
          -2.3421471118927,
          -7.289048671722412,
          -3.2255003452301025,
          -0.5093005299568176,
          5.556713581085205,
          10.745386123657227,
          3.382138967514038,
          3.201296806335449,
          -8.116604804992676,
          -3.426023006439209,
          4.960025310516357,
          12.568723678588867,
          -5.580390930175781,
          -7.2427897453308105,
          -4.532469749450684,
          0.5158526301383972,
          11.61475658416748,
          4.474105358123779,
          -13.95446491241455,
          -1.324386477470398,
          1.6297110319137573,
          9.467283248901367,
          6.219666481018066,
          0.10094210505485535,
          -7.377662181854248,
          1.866662859916687,
          -6.602733135223389,
          -3.965111255645752,
          2.898244619369507,
          -12.371955871582031,
          1.5442900657653809,
          10.15588092803955,
          9.965810775756836,
          -6.155816078186035,
          6.323938846588135,
          -3.0848639011383057,
          -6.567260265350342,
          -3.9683852195739746,
          -2.2541348934173584,
          13.461169242858887,
          -5.618592262268066,
          2.262434720993042,
          1.319298505783081,
          -6.326591491699219,
          -5.579575538635254,
          -10.13888931274414,
          -2.360944986343384,
          -0.8876096606254578,
          -4.200577735900879,
          -11.859663963317871,
          -6.4478325843811035,
          2.3606503009796143,
          9.696761131286621,
          -0.4942239820957184,
          -4.748865604400635,
          -9.47988510131836
         ]
        }
       ],
       "layout": {
        "coloraxis": {
         "colorbar": {
          "title": {
           "text": "Label"
          }
         },
         "colorscale": [
          [
           0,
           "#0d0887"
          ],
          [
           0.1111111111111111,
           "#46039f"
          ],
          [
           0.2222222222222222,
           "#7201a8"
          ],
          [
           0.3333333333333333,
           "#9c179e"
          ],
          [
           0.4444444444444444,
           "#bd3786"
          ],
          [
           0.5555555555555556,
           "#d8576b"
          ],
          [
           0.6666666666666666,
           "#ed7953"
          ],
          [
           0.7777777777777778,
           "#fb9f3a"
          ],
          [
           0.8888888888888888,
           "#fdca26"
          ],
          [
           1,
           "#f0f921"
          ]
         ]
        },
        "height": 800,
        "legend": {
         "tracegroupgap": 0
        },
        "scene": {
         "domain": {
          "x": [
           0,
           1
          ],
          "y": [
           0,
           1
          ]
         },
         "xaxis": {
          "title": {
           "text": "0"
          }
         },
         "yaxis": {
          "title": {
           "text": "1"
          }
         },
         "zaxis": {
          "title": {
           "text": "2"
          }
         }
        },
        "template": {
         "data": {
          "bar": [
           {
            "error_x": {
             "color": "#2a3f5f"
            },
            "error_y": {
             "color": "#2a3f5f"
            },
            "marker": {
             "line": {
              "color": "#E5ECF6",
              "width": 0.5
             }
            },
            "type": "bar"
           }
          ],
          "barpolar": [
           {
            "marker": {
             "line": {
              "color": "#E5ECF6",
              "width": 0.5
             }
            },
            "type": "barpolar"
           }
          ],
          "carpet": [
           {
            "aaxis": {
             "endlinecolor": "#2a3f5f",
             "gridcolor": "white",
             "linecolor": "white",
             "minorgridcolor": "white",
             "startlinecolor": "#2a3f5f"
            },
            "baxis": {
             "endlinecolor": "#2a3f5f",
             "gridcolor": "white",
             "linecolor": "white",
             "minorgridcolor": "white",
             "startlinecolor": "#2a3f5f"
            },
            "type": "carpet"
           }
          ],
          "choropleth": [
           {
            "colorbar": {
             "outlinewidth": 0,
             "ticks": ""
            },
            "type": "choropleth"
           }
          ],
          "contour": [
           {
            "colorbar": {
             "outlinewidth": 0,
             "ticks": ""
            },
            "colorscale": [
             [
              0,
              "#0d0887"
             ],
             [
              0.1111111111111111,
              "#46039f"
             ],
             [
              0.2222222222222222,
              "#7201a8"
             ],
             [
              0.3333333333333333,
              "#9c179e"
             ],
             [
              0.4444444444444444,
              "#bd3786"
             ],
             [
              0.5555555555555556,
              "#d8576b"
             ],
             [
              0.6666666666666666,
              "#ed7953"
             ],
             [
              0.7777777777777778,
              "#fb9f3a"
             ],
             [
              0.8888888888888888,
              "#fdca26"
             ],
             [
              1,
              "#f0f921"
             ]
            ],
            "type": "contour"
           }
          ],
          "contourcarpet": [
           {
            "colorbar": {
             "outlinewidth": 0,
             "ticks": ""
            },
            "type": "contourcarpet"
           }
          ],
          "heatmap": [
           {
            "colorbar": {
             "outlinewidth": 0,
             "ticks": ""
            },
            "colorscale": [
             [
              0,
              "#0d0887"
             ],
             [
              0.1111111111111111,
              "#46039f"
             ],
             [
              0.2222222222222222,
              "#7201a8"
             ],
             [
              0.3333333333333333,
              "#9c179e"
             ],
             [
              0.4444444444444444,
              "#bd3786"
             ],
             [
              0.5555555555555556,
              "#d8576b"
             ],
             [
              0.6666666666666666,
              "#ed7953"
             ],
             [
              0.7777777777777778,
              "#fb9f3a"
             ],
             [
              0.8888888888888888,
              "#fdca26"
             ],
             [
              1,
              "#f0f921"
             ]
            ],
            "type": "heatmap"
           }
          ],
          "heatmapgl": [
           {
            "colorbar": {
             "outlinewidth": 0,
             "ticks": ""
            },
            "colorscale": [
             [
              0,
              "#0d0887"
             ],
             [
              0.1111111111111111,
              "#46039f"
             ],
             [
              0.2222222222222222,
              "#7201a8"
             ],
             [
              0.3333333333333333,
              "#9c179e"
             ],
             [
              0.4444444444444444,
              "#bd3786"
             ],
             [
              0.5555555555555556,
              "#d8576b"
             ],
             [
              0.6666666666666666,
              "#ed7953"
             ],
             [
              0.7777777777777778,
              "#fb9f3a"
             ],
             [
              0.8888888888888888,
              "#fdca26"
             ],
             [
              1,
              "#f0f921"
             ]
            ],
            "type": "heatmapgl"
           }
          ],
          "histogram": [
           {
            "marker": {
             "colorbar": {
              "outlinewidth": 0,
              "ticks": ""
             }
            },
            "type": "histogram"
           }
          ],
          "histogram2d": [
           {
            "colorbar": {
             "outlinewidth": 0,
             "ticks": ""
            },
            "colorscale": [
             [
              0,
              "#0d0887"
             ],
             [
              0.1111111111111111,
              "#46039f"
             ],
             [
              0.2222222222222222,
              "#7201a8"
             ],
             [
              0.3333333333333333,
              "#9c179e"
             ],
             [
              0.4444444444444444,
              "#bd3786"
             ],
             [
              0.5555555555555556,
              "#d8576b"
             ],
             [
              0.6666666666666666,
              "#ed7953"
             ],
             [
              0.7777777777777778,
              "#fb9f3a"
             ],
             [
              0.8888888888888888,
              "#fdca26"
             ],
             [
              1,
              "#f0f921"
             ]
            ],
            "type": "histogram2d"
           }
          ],
          "histogram2dcontour": [
           {
            "colorbar": {
             "outlinewidth": 0,
             "ticks": ""
            },
            "colorscale": [
             [
              0,
              "#0d0887"
             ],
             [
              0.1111111111111111,
              "#46039f"
             ],
             [
              0.2222222222222222,
              "#7201a8"
             ],
             [
              0.3333333333333333,
              "#9c179e"
             ],
             [
              0.4444444444444444,
              "#bd3786"
             ],
             [
              0.5555555555555556,
              "#d8576b"
             ],
             [
              0.6666666666666666,
              "#ed7953"
             ],
             [
              0.7777777777777778,
              "#fb9f3a"
             ],
             [
              0.8888888888888888,
              "#fdca26"
             ],
             [
              1,
              "#f0f921"
             ]
            ],
            "type": "histogram2dcontour"
           }
          ],
          "mesh3d": [
           {
            "colorbar": {
             "outlinewidth": 0,
             "ticks": ""
            },
            "type": "mesh3d"
           }
          ],
          "parcoords": [
           {
            "line": {
             "colorbar": {
              "outlinewidth": 0,
              "ticks": ""
             }
            },
            "type": "parcoords"
           }
          ],
          "pie": [
           {
            "automargin": true,
            "type": "pie"
           }
          ],
          "scatter": [
           {
            "marker": {
             "colorbar": {
              "outlinewidth": 0,
              "ticks": ""
             }
            },
            "type": "scatter"
           }
          ],
          "scatter3d": [
           {
            "line": {
             "colorbar": {
              "outlinewidth": 0,
              "ticks": ""
             }
            },
            "marker": {
             "colorbar": {
              "outlinewidth": 0,
              "ticks": ""
             }
            },
            "type": "scatter3d"
           }
          ],
          "scattercarpet": [
           {
            "marker": {
             "colorbar": {
              "outlinewidth": 0,
              "ticks": ""
             }
            },
            "type": "scattercarpet"
           }
          ],
          "scattergeo": [
           {
            "marker": {
             "colorbar": {
              "outlinewidth": 0,
              "ticks": ""
             }
            },
            "type": "scattergeo"
           }
          ],
          "scattergl": [
           {
            "marker": {
             "colorbar": {
              "outlinewidth": 0,
              "ticks": ""
             }
            },
            "type": "scattergl"
           }
          ],
          "scattermapbox": [
           {
            "marker": {
             "colorbar": {
              "outlinewidth": 0,
              "ticks": ""
             }
            },
            "type": "scattermapbox"
           }
          ],
          "scatterpolar": [
           {
            "marker": {
             "colorbar": {
              "outlinewidth": 0,
              "ticks": ""
             }
            },
            "type": "scatterpolar"
           }
          ],
          "scatterpolargl": [
           {
            "marker": {
             "colorbar": {
              "outlinewidth": 0,
              "ticks": ""
             }
            },
            "type": "scatterpolargl"
           }
          ],
          "scatterternary": [
           {
            "marker": {
             "colorbar": {
              "outlinewidth": 0,
              "ticks": ""
             }
            },
            "type": "scatterternary"
           }
          ],
          "surface": [
           {
            "colorbar": {
             "outlinewidth": 0,
             "ticks": ""
            },
            "colorscale": [
             [
              0,
              "#0d0887"
             ],
             [
              0.1111111111111111,
              "#46039f"
             ],
             [
              0.2222222222222222,
              "#7201a8"
             ],
             [
              0.3333333333333333,
              "#9c179e"
             ],
             [
              0.4444444444444444,
              "#bd3786"
             ],
             [
              0.5555555555555556,
              "#d8576b"
             ],
             [
              0.6666666666666666,
              "#ed7953"
             ],
             [
              0.7777777777777778,
              "#fb9f3a"
             ],
             [
              0.8888888888888888,
              "#fdca26"
             ],
             [
              1,
              "#f0f921"
             ]
            ],
            "type": "surface"
           }
          ],
          "table": [
           {
            "cells": {
             "fill": {
              "color": "#EBF0F8"
             },
             "line": {
              "color": "white"
             }
            },
            "header": {
             "fill": {
              "color": "#C8D4E3"
             },
             "line": {
              "color": "white"
             }
            },
            "type": "table"
           }
          ]
         },
         "layout": {
          "annotationdefaults": {
           "arrowcolor": "#2a3f5f",
           "arrowhead": 0,
           "arrowwidth": 1
          },
          "coloraxis": {
           "colorbar": {
            "outlinewidth": 0,
            "ticks": ""
           }
          },
          "colorscale": {
           "diverging": [
            [
             0,
             "#8e0152"
            ],
            [
             0.1,
             "#c51b7d"
            ],
            [
             0.2,
             "#de77ae"
            ],
            [
             0.3,
             "#f1b6da"
            ],
            [
             0.4,
             "#fde0ef"
            ],
            [
             0.5,
             "#f7f7f7"
            ],
            [
             0.6,
             "#e6f5d0"
            ],
            [
             0.7,
             "#b8e186"
            ],
            [
             0.8,
             "#7fbc41"
            ],
            [
             0.9,
             "#4d9221"
            ],
            [
             1,
             "#276419"
            ]
           ],
           "sequential": [
            [
             0,
             "#0d0887"
            ],
            [
             0.1111111111111111,
             "#46039f"
            ],
            [
             0.2222222222222222,
             "#7201a8"
            ],
            [
             0.3333333333333333,
             "#9c179e"
            ],
            [
             0.4444444444444444,
             "#bd3786"
            ],
            [
             0.5555555555555556,
             "#d8576b"
            ],
            [
             0.6666666666666666,
             "#ed7953"
            ],
            [
             0.7777777777777778,
             "#fb9f3a"
            ],
            [
             0.8888888888888888,
             "#fdca26"
            ],
            [
             1,
             "#f0f921"
            ]
           ],
           "sequentialminus": [
            [
             0,
             "#0d0887"
            ],
            [
             0.1111111111111111,
             "#46039f"
            ],
            [
             0.2222222222222222,
             "#7201a8"
            ],
            [
             0.3333333333333333,
             "#9c179e"
            ],
            [
             0.4444444444444444,
             "#bd3786"
            ],
            [
             0.5555555555555556,
             "#d8576b"
            ],
            [
             0.6666666666666666,
             "#ed7953"
            ],
            [
             0.7777777777777778,
             "#fb9f3a"
            ],
            [
             0.8888888888888888,
             "#fdca26"
            ],
            [
             1,
             "#f0f921"
            ]
           ]
          },
          "colorway": [
           "#636efa",
           "#EF553B",
           "#00cc96",
           "#ab63fa",
           "#FFA15A",
           "#19d3f3",
           "#FF6692",
           "#B6E880",
           "#FF97FF",
           "#FECB52"
          ],
          "font": {
           "color": "#2a3f5f"
          },
          "geo": {
           "bgcolor": "white",
           "lakecolor": "white",
           "landcolor": "#E5ECF6",
           "showlakes": true,
           "showland": true,
           "subunitcolor": "white"
          },
          "hoverlabel": {
           "align": "left"
          },
          "hovermode": "closest",
          "mapbox": {
           "style": "light"
          },
          "paper_bgcolor": "white",
          "plot_bgcolor": "#E5ECF6",
          "polar": {
           "angularaxis": {
            "gridcolor": "white",
            "linecolor": "white",
            "ticks": ""
           },
           "bgcolor": "#E5ECF6",
           "radialaxis": {
            "gridcolor": "white",
            "linecolor": "white",
            "ticks": ""
           }
          },
          "scene": {
           "xaxis": {
            "backgroundcolor": "#E5ECF6",
            "gridcolor": "white",
            "gridwidth": 2,
            "linecolor": "white",
            "showbackground": true,
            "ticks": "",
            "zerolinecolor": "white"
           },
           "yaxis": {
            "backgroundcolor": "#E5ECF6",
            "gridcolor": "white",
            "gridwidth": 2,
            "linecolor": "white",
            "showbackground": true,
            "ticks": "",
            "zerolinecolor": "white"
           },
           "zaxis": {
            "backgroundcolor": "#E5ECF6",
            "gridcolor": "white",
            "gridwidth": 2,
            "linecolor": "white",
            "showbackground": true,
            "ticks": "",
            "zerolinecolor": "white"
           }
          },
          "shapedefaults": {
           "line": {
            "color": "#2a3f5f"
           }
          },
          "ternary": {
           "aaxis": {
            "gridcolor": "white",
            "linecolor": "white",
            "ticks": ""
           },
           "baxis": {
            "gridcolor": "white",
            "linecolor": "white",
            "ticks": ""
           },
           "bgcolor": "#E5ECF6",
           "caxis": {
            "gridcolor": "white",
            "linecolor": "white",
            "ticks": ""
           }
          },
          "title": {
           "x": 0.05
          },
          "xaxis": {
           "automargin": true,
           "gridcolor": "white",
           "linecolor": "white",
           "ticks": "",
           "title": {
            "standoff": 15
           },
           "zerolinecolor": "white",
           "zerolinewidth": 2
          },
          "yaxis": {
           "automargin": true,
           "gridcolor": "white",
           "linecolor": "white",
           "ticks": "",
           "title": {
            "standoff": 15
           },
           "zerolinecolor": "white",
           "zerolinewidth": 2
          }
         }
        },
        "title": {
         "text": "3d TSNE Plot for Outliers"
        },
        "width": 900
       }
      },
      "text/html": [
       "<div>\n",
       "        \n",
       "        \n",
       "            <div id=\"6b444c13-bbd6-4133-a6f9-6bc74c5f2ec7\" class=\"plotly-graph-div\" style=\"height:800px; width:900px;\"></div>\n",
       "            <script type=\"text/javascript\">\n",
       "                require([\"plotly\"], function(Plotly) {\n",
       "                    window.PLOTLYENV=window.PLOTLYENV || {};\n",
       "                    \n",
       "                if (document.getElementById(\"6b444c13-bbd6-4133-a6f9-6bc74c5f2ec7\")) {\n",
       "                    Plotly.newPlot(\n",
       "                        '6b444c13-bbd6-4133-a6f9-6bc74c5f2ec7',\n",
       "                        [{\"customdata\": [[0.263995357], [0.546092303], [0.33671410399999996], [0.092107835], [0.325261175], [0.212464853], [0.258565714], [0.869236755], [0.197077957], [0.292984504], [0.82178316], [0.796622959], [0.045577010999999994], [0.613660351], [0.9507445659999999], [0.33634633700000005], [0.034440667], [0.741544275], [0.18443265], [0.664514943], [0.16282485800000002], [0.729838445], [0.62837389], [0.057883660999999996], [0.445534827], [0.80183695], [0.27709612], [0.228634015], [0.834860657], [0.6697665110000001], [0.532527349], [0.17045907100000002], [0.5102884679999999], [0.977561989], [0.249775993], [0.9755006820000001], [0.613701727], [0.16742036300000002], [0.537472516], [0.379899131], [0.633897303], [0.633960424], [0.5499746529999999], [0.178172988], [0.85563814], [0.321796672], [0.8174905370000001], [0.254879417], [0.344140513], [0.8061457259999999], [0.27708167100000003], [0.544328519], [0.07708393], [0.273081458], [0.390877336], [0.349621385], [0.214549744], [0.206075222], [0.86461997], [0.9817088540000001], [0.33482964600000004], [0.648387061], [0.093643561], [0.837802698], [0.7603439670000001], [0.29140417399999996], [0.3413454], [0.7611124840000001], [0.541899775], [0.684176639], [0.983535597], [0.52081245], [0.328227724], [0.09715793800000001], [0.876088593], [0.870214512], [0.656086992], [0.306791514], [0.48126734], [0.259559174], [0.326123655], [0.930568042], [0.6583894], [0.689992335], [0.315781109], [0.5669050929999999], [0.637526619], [0.687540723], [0.324300602], [0.592704906], [0.7402531259999999], [0.5940328770000001], [0.596452977], [0.27768081699999997], [0.258329663], [0.142460864], [0.435533461], [0.7024990440000001], [0.58897535], [0.653304374], [0.336968524], [0.631244736], [0.73530076], [0.050390366], [0.064264924], [0.665359476], [0.917835245], [0.44651012], [0.661938199], [0.43935985299999997], [0.6875724040000001], [0.363462248], [0.6542621820000001], [0.578553536], [0.065927945], [0.550148559], [0.13918281400000002], [0.080004635], [0.278228358], [0.560124266], [0.53639864], [0.42653190399999996], [0.789109796], [0.742900474], [0.901692589], [0.650337401], [0.114057311], [0.260812592], [0.43991232], [0.964409284], [0.184401415], [0.345145446], [0.17589458100000002], [0.312514453], [0.674131879], [0.32825045], [0.598231057], [0.09259881699999999], [0.497916521], [0.419776521], [0.31217670000000003], [0.937857107], [0.049030963], [0.47610452600000003], [0.447397526], [0.295806058], [0.737363977], [0.625896253], [0.408813429], [0.437511156], [0.691351375], [0.935555275], [0.437846654], [0.072217715], [0.67636067], [0.468883999], [0.543820644], [0.6555226470000001], [0.6935289240000001], [0.10887831199999999], [0.285463743], [0.0], [0.706495497], [0.273530633], [0.292320271], [0.673984307], [0.12612182800000002], [0.9467074590000001], [0.9363388979999999], [0.8537553640000001], [0.7060713609999999], [0.693682186], [0.508527882], [0.34717038899999997], [0.704154263], [0.658730088], [0.155841557], [0.311085435], [0.281135347], [0.094587802], [0.6832609540000001], [0.9077292509999999], [0.29151267399999997], [0.752734459], [0.93482964], [0.071413953], [0.5948963270000001], [0.404672015], [0.13837621], [0.7473384679999999], [0.530882486], [0.282649594], [0.699335734], [0.056111250999999994], [0.855234998], [0.07789512700000001], [0.891649583], [0.38674227899999997], [0.27113158], [0.958888961], [0.085120869], [0.5269022489999999], [0.066577785], [0.841506738], [0.255342095], [0.060545771], [0.073385869], [0.187493723], [0.858365688], [0.090640352], [0.7097252270000001], [0.631300647], [0.24750447399999997], [0.822843584], [0.373476759], [0.625538582], [0.292951715], [0.299730324], [0.25121407], [0.344480551], [0.293064767], [0.7628032240000001], [0.7384708040000001], [0.674883265], [0.719151612], [0.13098021599999998], [0.511328036], [0.04492903], [0.560914449], [0.7440406409999999], [0.266961634], [0.644231853], [0.038113352], [0.05715529900000001], [0.34139246100000004], [0.7204636320000001], [0.402878236], [0.635148967], [0.320729467], [0.09120969400000001], [0.23414609], [0.8902211309999999], [0.602170884], [0.633652055], [0.806240837], [0.739731184], [0.465231269], [0.7321109], [0.373874305], [0.501587947], [0.11538315800000001], [0.7319466040000001], [0.41829872799999995], [0.062259590999999996], [0.391496379], [0.35984929], [0.24523562699999998], [0.610028339], [0.43540360200000006], [0.434309675], [0.523763344], [0.17118786600000002], [0.18773430300000002], [0.945014638], [0.027851097000000002], [0.68445706], [0.178014532], [0.643427879], [0.59588355], [0.372361682], [0.586103584], [0.271658852], [0.59951107], [0.468363088], [0.314515565], [0.21893726], [0.254716562], [0.25612815], [0.602259755], [0.134381075], [0.513887424], [0.624241636], [0.160251854], [0.580708108], [0.270540486], [0.832919932], [0.93032134], [0.719157884], [0.886720033], [0.098792281], [0.787174286], [0.365592376], [0.719576193], [0.8058956], [0.7555783340000001], [0.526005909], [0.68880424], [0.22111531199999998], [0.739369477], [0.408440236], [0.348926542], [0.433713763], [0.5964966070000001], [0.6942953000000001], [0.7090309659999999], [0.867652984], [0.89332545], [0.746020922], [0.538284443], [0.8922193140000001], [0.935175765], [0.260527707], [0.956780449], [0.204932484], [0.687733351], [0.329063619], [0.632149831], [0.463744506], [0.698859621], [0.385446564], [0.47997537700000004], [0.732279108], [0.3813543], [0.459326013], [0.257401434], [0.665014804], [0.103399542], [0.425284413], [0.943529051], [0.594750236], [0.543776817], [0.18203988], [0.23584208399999998], [0.585984497], [0.762013168], [0.6849829070000001], [0.676936933], [0.290184964], [0.48106822200000005], [0.492766033], [0.22185623399999999], [0.053875998], [0.082751144], [0.385366225], [0.702513961], [0.91553156], [0.082087436], [0.251280378], [0.41672181700000005], [0.277032672], [0.579539754], [0.569363476], [0.133399703], [0.265045463], [0.936571901], [0.252618554], [0.054033081], [0.802481439], [0.528197693], [0.9515026], [0.572121173], [0.752938227], [0.143857535], [0.513484576], [0.313322389], [0.6877973959999999], [0.37705984], [0.348226142], [0.67763282], [0.24138752100000002], [0.8506501790000001], [0.22034810300000002], [0.476445464], [0.690324025], [0.364695946], [0.6492491970000001], [0.9437019209999999], [0.529645971], [0.299097002], [0.96696247], [0.272005242], [0.314161447], [0.752020991], [0.221882453], [0.7203326729999999], [0.379204782], [0.60168653], [0.582932673], [0.950809853], [0.58830141], [0.880887227], [0.467857701], [0.8799021709999999], [0.619844009], [0.359002573], [0.291511278], [0.694157143], [0.727960353], [0.617703921], [0.39581257], [0.58317282], [0.710332374], [0.253753693], [0.049412227999999996], [0.728378695], [0.432432881], [0.58612345], [0.052342373], [0.053483902], [0.518729378], [0.933040208], [0.7035542840000001], [0.268989899], [0.733006927], [0.44435246700000003], [0.5833946210000001], [0.871172692], [0.42876707799999997], [0.30046084100000003], [0.9533294590000001], [0.606443965], [0.90986815], [0.714896449], [0.49734950899999997], [0.8530974859999999], [0.721804145], [0.303467328], [0.664485096], [0.27978062], [0.569481665], [0.628628926], [0.088368123], [0.733567326], [0.537436778], [0.638593691], [0.954726948], [0.632202332], [0.642134651], [0.744653087], [0.115714007], [0.48625007299999995], [0.440356144], [0.08272289], [0.511591027], [0.394627555], [0.224394], [0.626927584], [0.290254057], [0.779008053], [0.86610579], [0.873326081], [0.49548916], [0.594297695], [0.9182015840000001], [0.5770427539999999], [0.019467671000000002], [0.6702982820000001], [0.546595316], [0.591665146], [0.42155819], [0.6856085590000001], [0.340303024], [0.675626741], [0.319067345], [0.38849966399999997], [0.706949589], [0.559409515], [0.687663508], [0.7088045540000001], [0.6818880940000001], [0.42253510899999996], [0.320004605], [0.6582813679999999], [0.634154867], [0.7773320090000001], [0.812677205], [0.074280797], [0.39600217], [0.054933913], [0.825058925], [0.382642009], [0.8687298179999999], [0.588043346], [0.891551577], [0.10920046], [0.647682781], [0.724342512], [0.07016304400000001], [0.280882054], [0.039113261], [0.579641592], [0.639000922], [0.281745925], [0.647857744], [0.6479057970000001], [0.875226264], [0.567603305], [0.262940591], [0.268026042], [0.40519133], [0.479965451], [0.33552403], [0.777165379], [0.42548796299999997], [0.237986115], [0.142522971], [0.724176488], [0.234698933], [0.07818228099999999], [0.855990155], [0.270251765], [0.435517841], [0.762697513], [0.46448725799999996], [0.396112685], [0.37638092100000003], [0.29459467699999997], [0.6944921209999999], [0.622767949], [0.8475597220000001], [0.301463054], [0.912937812], [0.500017182], [0.902587935], [0.304517943], [0.299165673], [0.092014087], [0.488548917], [0.664664437], [0.26534954899999996], [0.723657021], [0.149262385], [0.04577339], [0.69661064], [0.42181486], [0.733845785], [0.418795386], [0.677443529], [0.26128360300000003], [0.268527767], [0.5443222360000001], [0.431632036], [0.981018141], [0.21498072399999998], [0.39472999299999995], [0.122224944], [0.297496875], [0.37490443100000004], [0.68698771], [0.388549207], [0.039296071], [0.73553424], [0.37929489299999997], [0.7321233859999999], [0.33922143899999996], [0.659450594], [0.054838642], [0.640112102], [0.30714170399999996], [0.39661190700000004], [0.420439161], [0.24171497399999997], [0.065893153], [0.9105219370000001], [0.697163103], [0.072559853], [0.81825094], [0.311888815], [0.961644609], [0.816325524], [0.14647302], [0.548753945], [0.946158087], [0.293992717], [0.331479643], [0.9062200309999999], [0.525540416], [0.83301411], [0.514849806], [0.574609024], [0.46871185299999996], [0.71002775], [0.645973276], [0.229794416], [0.551783393], [0.055822990999999995], [0.331750941], [0.715520198], [0.583924357], [0.30695769100000003], [0.7914782370000001], [0.16423663900000002], [0.065711219], [0.948993132], [0.080423835], [0.052495426], [0.566346135], [0.3630266], [0.605442195], [0.6308505839999999], [0.065791238], [0.28681707100000003], [0.685462839], [0.260853706], [0.659122429], [0.44317392200000005], [0.602063986], [0.060366910999999995], [0.781903153], [0.5145798070000001], [0.48388621299999995], [0.600213807], [0.49736405200000006], [0.411145245], [0.116999171], [0.34189014100000004], [0.746950848], [0.39629274600000003], [0.6221438429999999], [0.335271141], [0.140257137], [0.081620681], [0.069837569], [0.46894000799999996], [0.9908574170000001], [0.896616832], [0.255310561], [0.22464526699999998], [0.01991825], [0.296480415], [0.155458996], [0.577916714], [0.9563030309999999], [0.813464394], [0.529675785], [0.287671353], [0.48039136], [0.28104482199999997], [0.633196521], [0.09332537699999999], [0.28447398100000004], [0.052223775], [0.051129385], [0.967405608], [0.040045727999999996], [0.9085829209999999], [0.6621174160000001], [0.42470320899999997], [0.72207806], [0.666193327], [0.509681253], [0.7513536209999999], [0.279073124], [0.074927], [0.916359535], [0.31040327], [0.716604052], [0.485587085], [0.30607518100000003], [0.477558204], [0.7119239409999999], [0.066348638], [0.27453935100000004], [0.31082252], [0.47607312700000004], [0.186795565], [0.26654207], [0.070231142], [0.26951927], [0.800004713], [0.27363366699999997], [0.14647919199999998], [0.378318951], [0.373849065], [0.242170835], [0.249796488], [0.066591188], [0.372956798], [0.501812291], [0.313097752], [0.8802021959999999], [0.51981893], [0.364138746], [0.49268289600000004], [0.285732652], [0.890114985], [0.316419561], [0.26866354], [0.771975959], [0.968888992], [0.080334377], [0.7368282209999999], [0.30055807100000004], [0.9179503929999999], [0.465815039], [0.054036682], [0.963150123], [0.08965350300000001], [0.7076932340000001], [0.636416037], [0.539521117], [0.114757161], [0.357312419], [0.67639834], [0.43482839], [0.032326387000000005], [0.711365605], [0.187486519], [0.052789653], [0.5058636129999999], [0.927431873], [0.6809842559999999], [0.882822186], [0.495705441], [0.596240398], [0.320610701], [0.3413685], [0.159681797], [0.318133669], [0.8393010479999999], [0.06435925099999999], [0.470216633], [0.7762522909999999], [0.635843383], [0.62510543], [0.52959065], [0.986900166], [0.078585688], [0.233284267], [0.363330957], [0.7167169809999999], [0.37588979200000006], [0.223316889], [0.299343986], [0.538595767], [0.730297124], [0.66033077], [0.435296009], [0.326494313], [0.854402708], [0.5734938470000001], [0.757786135], [0.704743233], [0.281575597], [0.671968208], [0.313726015], [0.364338275], [0.368216396], [0.38629520700000003], [0.655971865], [0.5660252729999999], [0.424999093], [0.090110371], [0.772350538], [0.331047258], [0.273716188], [0.23877568], [0.37307977200000003], [0.331185868], [0.256134531], [0.678373225], [0.43463833799999996], [0.654668307], [0.986681065], [0.371520495], [0.408359618], [0.40932365], [0.283412082], [0.395246531], [0.010984428000000001], [0.306013869], [0.266194806], [0.299318521], [0.318293946], [0.74282591], [0.09766432900000001], [0.079666942], [0.613258767], [0.99443072], [0.568835082], [0.7080345159999999], [0.37059271899999996], [0.669867361], [0.651295625], [0.462531569], [0.7196256190000001], [0.45377248], [0.394863946], [0.323974831], [0.146454724], [0.7790670409999999], [0.401828915], [0.601479585], [0.856423023], [0.565242962], [0.301225108], [0.282108144], [0.594378011], [0.705312368], [0.5408696279999999], [0.319249574], [0.36176613799999996], [0.625000704], [0.316287401], [0.047239021], [0.801182233], [0.508474436], [0.8178934109999999], [0.399235601], [0.9740519990000001], [0.72241535], [0.039564764], [0.908684108], [0.47301013399999997], [0.7180496279999999], [0.7634790690000001], [0.6475965370000001], [0.8949973859999999], [0.22282590100000002], [0.359012234], [0.944910252], [0.297877816], [0.172517997], [0.556586265], [0.876481735], [0.48667784299999994], [0.459496733], [0.47412637700000004], [0.70101144], [0.337597387], [0.537578886], [0.966992448], [0.056849545], [0.233249065], [0.380054711], [0.602929443], [0.303847999], [0.170194553], [0.972168554], [0.332168927], [0.6887286890000001], [0.110773401], [0.273352065], [0.572939678], [0.491457065], [0.281389999], [0.821697261], [0.6749776829999999], [0.585134549], [0.7105961159999999], [0.040488789], [0.568054311], [0.321752928], [0.611850232], [0.926096887], [0.618347428], [0.667629785], [0.39773346600000004], [0.290875487], [0.594375103], [0.508255233], [0.338571357], [0.43230234700000003], [0.302221978], [0.87619819], [0.080204492], [0.092333532], [0.09365644699999999], [0.6084523510000001], [0.732654598], [0.944158855], [0.26742308], [0.731124201], [0.661308553], [0.38776626200000003], [0.962585273], [0.322067067], [0.6340810929999999], [0.475345002], [0.35355897299999994], [0.8859363159999999], [0.876798106], [0.221581064], [0.394362449], [0.8050356759999999], [0.452898486], [0.592520516], [0.761026394], [0.245049023], [0.37213936299999995], [0.681054822], [0.7471431479999999], [0.9207395290000001], [0.097207945], [0.699302998], [0.721647006], [0.5353561139999999], [0.738293805], [0.7064675509999999], [0.67395061], [0.7112122909999999], [0.302558708], [0.080097855], [0.707010837], [0.512248622], [0.659627472], [0.657559694], [0.100645606], [0.92665363], [0.892879338], [0.839157508], [0.890959718], [0.556754471], [0.960361937], [0.631037864], [0.029838065], [0.278843351], [0.926157705], [0.551504258], [0.485942349], [0.43723469600000003], [0.25231801800000003], [0.515466972], [0.43725229600000004], [0.493724207], [0.83324725], [0.317521477], [0.28623456199999997], [0.726833965], [0.495667033], [0.028645255], [0.31967191699999997], [0.674344598], [0.7660371890000001], [0.65456992], [0.7565143809999999], [0.528253719], [0.38971949100000003], [0.355087459], [0.87015202], [0.7390833059999999], [0.305761846], [0.411587673], [0.063633094], [0.735409395], [0.605916669], [0.539395562], [0.566183532], [0.674795186], [0.070993366], [0.12526410000000002], [0.279601492], [0.952174402], [0.233806762], [0.43724742899999997], [0.925423095], [0.433498634], [0.52517902], [0.088435529], [0.447677638], [0.647000631], [0.9036033370000001], [0.265790738], [0.66419695], [0.498120658], [0.49018894399999996], [0.747084187], [0.906783648], [0.678770917], [0.348599859], [0.294839683], [0.705691827], [0.211917931], [0.063201124], [0.276699543], [0.672459395], [0.8082059490000001], [0.296538373], [0.16012686199999998], [0.439385032], [0.555951416], [0.386240112], [0.158689619], [0.214499855], [0.299579429], [0.569161656], [0.488614799], [0.8782950209999999], [0.649380949], [0.465713341], [0.16813774], [0.87529545], [0.8411323409999999], [0.33292081], [0.5130478589999999], [0.30505507800000004], [0.8126269909999999], [0.25096706], [0.5024355779999999], [0.45799074100000003]], \"hoverlabel\": {\"namelength\": 0}, \"hovertemplate\": \"0=%{x}<br>1=%{y}<br>2=%{z}<br>Feature=%{customdata[0]}<br>Label=%{marker.color}\", \"legendgroup\": \"\", \"marker\": {\"color\": [0, 0, 1, 1, 0, 0, 0, 1, 1, 0, 0, 1, 0, 1, 1, 1, 0, 1, 0, 0, 0, 0, 0, 1, 1, 1, 0, 0, 1, 1, 0, 0, 0, 1, 1, 1, 0, 0, 0, 0, 0, 0, 0, 1, 0, 1, 0, 0, 1, 0, 0, 1, 0, 1, 0, 1, 0, 0, 0, 1, 0, 0, 1, 1, 1, 0, 1, 0, 0, 1, 0, 0, 0, 0, 0, 0, 0, 0, 0, 0, 0, 0, 0, 0, 0, 0, 0, 0, 0, 0, 0, 0, 0, 0, 0, 0, 0, 0, 0, 0, 0, 0, 0, 0, 0, 0, 0, 0, 0, 0, 0, 0, 0, 0, 0, 0, 0, 0, 0, 0, 0, 0, 0, 0, 0, 0, 0, 0, 0, 0, 1, 0, 0, 0, 0, 0, 0, 0, 0, 0, 0, 0, 0, 0, 0, 0, 0, 0, 0, 0, 0, 0, 0, 0, 0, 0, 0, 0, 0, 0, 0, 0, 0, 0, 0, 0, 0, 0, 0, 0, 0, 0, 0, 0, 0, 0, 0, 0, 0, 0, 0, 0, 0, 0, 0, 0, 0, 0, 0, 0, 0, 0, 0, 0, 0, 0, 0, 0, 0, 0, 0, 0, 0, 0, 0, 0, 0, 0, 0, 0, 0, 0, 0, 0, 0, 0, 0, 0, 0, 0, 0, 0, 0, 0, 0, 0, 0, 0, 0, 1, 0, 0, 0, 0, 0, 0, 0, 0, 0, 0, 0, 0, 0, 0, 0, 0, 0, 0, 0, 0, 0, 0, 0, 0, 0, 0, 0, 0, 0, 0, 0, 0, 0, 0, 0, 0, 0, 0, 0, 0, 0, 0, 0, 0, 0, 0, 0, 0, 0, 0, 0, 0, 0, 0, 0, 0, 0, 0, 0, 0, 0, 0, 0, 0, 0, 0, 0, 0, 0, 0, 0, 0, 0, 0, 0, 0, 0, 0, 0, 0, 0, 0, 0, 0, 0, 0, 0, 0, 0, 0, 0, 0, 0, 0, 0, 0, 0, 0, 0, 0, 0, 0, 0, 0, 0, 0, 0, 0, 0, 0, 0, 0, 0, 0, 0, 0, 0, 0, 0, 0, 0, 0, 0, 0, 0, 0, 0, 0, 0, 0, 0, 0, 0, 0, 0, 0, 0, 0, 0, 0, 0, 0, 0, 0, 0, 0, 0, 0, 0, 0, 0, 0, 0, 0, 0, 0, 0, 0, 0, 0, 0, 0, 0, 0, 0, 0, 0, 0, 0, 0, 0, 0, 0, 0, 0, 0, 0, 0, 1, 0, 0, 0, 0, 0, 0, 0, 0, 0, 0, 0, 0, 0, 0, 0, 0, 0, 0, 0, 0, 0, 0, 0, 0, 0, 0, 0, 0, 0, 0, 0, 0, 0, 0, 0, 0, 0, 0, 0, 0, 0, 0, 0, 0, 0, 0, 0, 0, 0, 0, 0, 0, 0, 0, 0, 0, 0, 0, 0, 0, 0, 0, 0, 0, 0, 0, 0, 0, 0, 0, 0, 0, 0, 0, 0, 0, 0, 0, 0, 0, 0, 0, 0, 0, 0, 0, 0, 0, 0, 0, 0, 0, 0, 0, 0, 0, 0, 0, 0, 0, 0, 0, 0, 0, 0, 0, 0, 0, 0, 0, 0, 0, 0, 0, 0, 0, 0, 0, 0, 0, 0, 0, 0, 0, 0, 0, 0, 0, 0, 0, 0, 0, 0, 0, 0, 0, 0, 0, 0, 0, 0, 0, 0, 0, 0, 0, 0, 0, 0, 0, 0, 0, 0, 0, 0, 0, 0, 0, 0, 0, 0, 0, 0, 0, 0, 0, 0, 0, 0, 0, 0, 0, 0, 0, 0, 0, 0, 0, 0, 0, 0, 0, 0, 0, 0, 0, 0, 0, 0, 0, 0, 0, 0, 1, 0, 0, 0, 0, 0, 0, 0, 0, 0, 0, 0, 0, 0, 0, 0, 0, 0, 0, 0, 0, 0, 0, 0, 0, 0, 0, 0, 0, 0, 0, 0, 0, 0, 0, 0, 0, 0, 0, 0, 0, 0, 0, 0, 0, 0, 0, 0, 0, 0, 0, 0, 0, 0, 0, 0, 0, 0, 0, 0, 0, 0, 0, 0, 0, 0, 0, 0, 0, 0, 0, 0, 0, 0, 0, 0, 0, 0, 0, 0, 0, 0, 0, 0, 0, 0, 0, 0, 0, 0, 0, 0, 0, 0, 0, 0, 0, 0, 1, 1, 1, 1, 0, 0, 0, 1, 1, 0, 0, 0, 1, 0, 0, 0, 0, 1, 1, 0, 1, 0, 1, 0, 1, 0, 0, 0, 1, 0, 0, 0, 0, 0, 0, 0, 0, 0, 0, 0, 0, 0, 0, 1, 0, 0, 0, 0, 0, 0, 0, 0, 0, 0, 0, 0, 0, 0, 0, 0, 0, 0, 0, 0, 0, 0, 0, 0, 0, 0, 0, 0, 0, 0, 0, 1, 0, 0, 0, 0, 0, 0, 0, 0, 0, 0, 0, 0, 0, 0, 0, 0, 0, 0, 0, 0, 0, 0, 0, 1, 0, 0, 0, 0, 0, 0, 0, 0, 0, 0, 0, 0, 0, 0, 0, 0, 0, 0, 0, 0, 0, 0, 0, 0, 0, 0, 0, 0, 0, 0, 0, 0, 0, 0, 0, 0, 0, 0, 0, 0, 0, 0, 0, 0, 0, 0, 0, 0, 0, 0, 0, 0, 0, 0, 0, 0, 1, 0, 0, 0, 0, 0, 0, 0, 0, 0, 0, 0, 0, 0, 0, 0, 0, 0, 0, 0, 0, 0, 0, 0, 0, 0, 0, 0, 0, 0, 0, 0, 0, 0, 0, 0, 0, 0, 0, 0, 0, 0, 0, 0, 0, 0, 0, 0, 0, 0, 0, 0, 0, 0, 0, 0, 0, 0, 0, 0, 0, 0, 0, 0, 0, 0, 0, 0, 0, 0, 0, 0, 0, 0, 0, 0, 0, 0, 0, 0, 0, 0, 0, 0, 0, 0, 0, 0, 0, 0, 0, 0, 0, 0, 0, 0, 0, 0, 0, 0, 0, 0, 0, 0, 0, 0, 0, 0, 0, 0, 0, 0, 0, 0, 0, 0, 0, 0, 0, 0, 0, 0, 0, 0, 0, 0, 0, 0, 0, 0, 0, 0, 0, 0, 0, 0, 0, 0, 0, 0, 0, 0, 0, 0], \"coloraxis\": \"coloraxis\", \"opacity\": 0.7, \"symbol\": \"circle\"}, \"mode\": \"markers\", \"name\": \"\", \"scene\": \"scene\", \"showlegend\": false, \"type\": \"scatter3d\", \"x\": [5.605027675628662, -7.715529918670654, 5.368049144744873, 7.125141620635986, 11.711468696594238, 4.983361721038818, -6.1174774169921875, 7.82155179977417, 4.191407203674316, -3.9030706882476807, 5.194559097290039, 10.639323234558105, 4.358562469482422, 3.4358513355255127, 3.7301485538482666, 10.213590621948242, 4.348607540130615, -11.011622428894043, 4.220823764801025, 8.208684921264648, 5.165141582489014, 1.8361378908157349, 8.280613899230957, 4.141050338745117, 2.1299588680267334, 1.0417596101760864, 9.558416366577148, -0.7962258458137512, -0.9191268682479858, 8.37742805480957, 0.7400466203689575, -2.47408390045166, 4.533642292022705, 3.2920143604278564, -9.698891639709473, 1.4242419004440308, 8.280056953430176, -1.1309071779251099, 3.776219367980957, 5.7433552742004395, 1.9319757223129272, 5.5349860191345215, -7.618630409240723, 0.9307683110237122, 5.535999298095703, 10.524934768676758, 5.002364158630371, 3.851034164428711, 10.394244194030762, -8.342777252197266, 7.307547092437744, 2.823833465576172, -11.72951602935791, 10.430506706237793, 3.0101840496063232, 1.473669171333313, 0.8334376811981201, -11.039688110351562, 3.66282320022583, 5.659697532653809, -2.6310882568359375, -5.05270528793335, 12.85161018371582, 5.6241607666015625, -7.9458231925964355, 4.981380939483643, -11.639764785766602, -11.277732849121094, 10.043658256530762, 2.052403211593628, 11.874665260314941, 8.417621612548828, 3.9180564880371094, 5.648530960083008, -0.024158578366041183, -0.1819409430027008, 9.13028335571289, 9.991813659667969, -4.289318084716797, -5.262485027313232, -4.641447067260742, -1.3913373947143555, 9.880706787109375, -4.046903133392334, -5.842705726623535, -2.600304365158081, -6.562079429626465, -9.20770263671875, -7.094104290008545, -0.18284612894058228, 1.02193284034729, 4.884242057800293, -7.078642845153809, -5.792952060699463, -0.5302286148071289, 12.510899543762207, -7.348703384399414, -4.644117832183838, 0.07420530170202255, 9.259746551513672, 4.183254718780518, -8.122737884521484, -4.791776657104492, -10.50818920135498, 13.864422798156738, -5.4624176025390625, -4.129542827606201, -5.034416675567627, -0.8463058471679688, 9.93839168548584, -1.0280379056930542, 2.8895442485809326, 2.6775095462799072, -0.7748445272445679, 9.427017211914062, -2.7707200050354004, -2.333786964416504, -5.733539581298828, 5.921976089477539, -1.722057819366455, -3.388453483581543, -5.364857196807861, -4.716024398803711, -8.178423881530762, -1.4354569911956787, -7.010178089141846, 0.32564884424209595, 6.915480613708496, -6.434667110443115, -7.472756385803223, -8.19073486328125, -7.756754398345947, 8.076261520385742, -4.110021591186523, -8.440707206726074, 2.2296087741851807, 9.15709400177002, 8.846057891845703, -5.66746711730957, 0.8850237727165222, 5.9500837326049805, -1.128502607345581, -10.000997543334961, 10.681670188903809, -1.9499784708023071, -5.29632043838501, 4.927504539489746, -10.773933410644531, -6.166202545166016, -1.3353745937347412, -0.749570906162262, -1.1200445890426636, -3.163407325744629, -9.025297164916992, 2.647327423095703, -7.632815361022949, -8.281907081604004, -9.559224128723145, -1.7017426490783691, 3.6319620609283447, -2.747299909591675, -10.383540153503418, -0.7115851044654846, -5.9579243659973145, 5.035795211791992, -8.691081047058105, 6.605681419372559, 8.766606330871582, 6.125399112701416, -1.9420748949050903, -4.806121826171875, -3.569275379180908, 2.785909414291382, 7.9146528244018555, -2.5294196605682373, -9.549345970153809, 3.151177167892456, 6.884042739868164, -5.458505630493164, 8.885205268859863, -3.8201637268066406, 3.031137704849243, -1.640653133392334, 9.54338550567627, 8.937788963317871, -2.896415948867798, 5.944383144378662, -8.171121597290039, -3.335334300994873, -1.13358473777771, -10.496744155883789, 11.025196075439453, 5.400714874267578, 8.305627822875977, -4.27435302734375, -4.269076347351074, -4.802135467529297, -3.662109375, 5.0321221351623535, -1.3950049877166748, -6.594115257263184, -0.5494177341461182, -0.0118304044008255, 10.469598770141602, 6.833678722381592, -2.1452531814575195, -7.287714004516602, -7.064980506896973, 2.849545955657959, -3.9264674186706543, -3.1813645362854004, 7.245325088500977, 11.723830223083496, -2.225071907043457, -5.405221462249756, -5.058070182800293, -4.584549427032471, 9.820610046386719, 12.520967483520508, 1.3365377187728882, 6.902014255523682, -7.433450222015381, 9.930203437805176, -1.8906590938568115, -5.827077388763428, -6.534665584564209, -8.11775016784668, -2.879847288131714, -9.329997062683105, 4.42365837097168, -5.057490825653076, -7.184731960296631, 7.936897277832031, 8.828398704528809, -0.5096363425254822, -7.454209327697754, -4.446897983551025, -1.49344003200531, 7.047360897064209, 6.035238742828369, -7.0927414894104, -6.40081262588501, 5.613561153411865, -8.098247528076172, 7.250546455383301, -6.617449760437012, -1.2418220043182373, -3.018821954727173, -8.457374572753906, 8.670495986938477, -8.009775161743164, -1.1742216348648071, 8.166243553161621, -10.057010650634766, -5.653416156768799, 2.299590587615967, 4.3989481925964355, -6.976378917694092, 4.931469440460205, -1.4567723274230957, 6.582014083862305, -8.657486915588379, 10.249920845031738, -2.8186771869659424, -8.91311264038086, -8.272114753723145, 9.584115028381348, -4.043320178985596, -0.8357122540473938, -2.8514082431793213, -5.523247718811035, -2.059422492980957, 2.4152820110321045, 5.746255397796631, 4.019097805023193, -10.508655548095703, 11.150485038757324, 11.0882568359375, -6.082094669342041, -3.3330559730529785, -8.380659103393555, 5.82164192199707, -4.303440093994141, 1.6188843250274658, 8.957479476928711, -8.025274276733398, -4.829749584197998, -7.267045497894287, -7.800518035888672, 5.689233303070068, -0.7551687955856323, -5.34067964553833, -3.752235174179077, -8.780029296875, -3.9941327571868896, 4.234412670135498, 4.767718315124512, -5.805058002471924, -3.152205467224121, 3.7182297706604004, -2.163053035736084, -5.673681259155273, 10.538145065307617, 7.692704200744629, 4.526301860809326, 0.023130126297473907, -5.800601482391357, -0.47082990407943726, -11.524500846862793, 8.843647003173828, 8.203665733337402, -11.931014060974121, 2.8874433040618896, 6.052124500274658, -6.711979389190674, 4.775169849395752, -1.873475193977356, -6.4359636306762695, -0.7170969247817993, -0.7021641731262207, -2.4186036586761475, 0.5439472198486328, 8.599530220031738, -4.633475303649902, -5.212669849395752, 1.6329288482666016, 10.178194999694824, 9.338455200195312, 6.3136773109436035, 4.578630447387695, -3.7696728706359863, 9.892386436462402, -9.731107711791992, -6.245693683624268, -9.535345077514648, 8.448890686035156, -6.718039512634277, 2.485711097717285, 6.062894821166992, 8.657546043395996, 3.204726219177246, -5.227839946746826, 5.868557453155518, -8.612601280212402, 8.036788940429688, 7.9581780433654785, -3.7673933506011963, -11.484978675842285, 6.407943248748779, 10.107126235961914, -0.7521011233329773, 2.1107702255249023, -0.6129312515258789, -1.964746117591858, -4.800192356109619, -4.684713840484619, -10.551895141601562, -7.907529830932617, 12.637787818908691, 0.3134617507457733, -7.586766242980957, -5.858100414276123, 2.029287338256836, -10.37226676940918, 7.56723690032959, -1.0710035562515259, 11.702570915222168, -3.8159403800964355, -6.868849277496338, -4.775753974914551, -6.291476726531982, -7.002075672149658, 10.14985179901123, 5.722383499145508, 8.598834037780762, -7.232410907745361, 0.5213191509246826, 5.3040080070495605, -0.9002880454063416, -0.26889127492904663, 4.947840690612793, 0.9763767719268799, 0.905377209186554, 4.549856662750244, -7.483952045440674, -7.5731892585754395, -3.3640694618225098, -2.5935354232788086, -1.5971535444259644, 2.2719900608062744, -6.265145778656006, -6.860932350158691, 1.9789725542068481, -1.5794252157211304, -0.6382778882980347, -1.9032301902770996, -5.110191822052002, 7.607523441314697, 2.714658260345459, -1.9654831886291504, -1.5008628368377686, -6.901381015777588, -11.933392524719238, -1.8435215950012207, 9.645283699035645, -3.680288553237915, 6.533794403076172, 1.8302539587020874, 2.706097364425659, -1.8360650539398193, -8.862241744995117, -0.9294213056564331, 13.97007942199707, -0.8533698916435242, -4.663731098175049, -7.317497253417969, -10.1689453125, -7.040481090545654, 9.106304168701172, 8.068851470947266, 2.236037254333496, -4.798629283905029, -7.533123970031738, -7.4219651222229, 6.683225154876709, -7.852190971374512, -5.47389554977417, 4.638920783996582, 4.495182514190674, 8.970355033874512, -2.2192180156707764, -3.75215744972229, -4.418097972869873, 6.548638820648193, 12.287107467651367, -3.2655465602874756, -3.395589828491211, 9.689825057983398, -1.207768201828003, 7.037761688232422, -5.0990142822265625, -4.394396781921387, 8.051640510559082, 11.1679105758667, -6.116494178771973, 2.8768436908721924, 10.684417724609375, -10.062545776367188, 7.38352108001709, 3.653475284576416, -6.551027297973633, 9.384139060974121, -8.044095039367676, -0.13627226650714874, 3.3816781044006348, 0.10624956339597702, -1.7668670415878296, 8.37363338470459, -3.5634872913360596, -3.7074477672576904, -7.784687042236328, 7.853370189666748, -6.920241832733154, -4.156032562255859, 1.6082566976547241, 0.9494372606277466, -1.0970035791397095, 10.897207260131836, -8.735045433044434, 6.750594615936279, -4.140589714050293, -2.519190788269043, -6.884011268615723, 0.15937241911888123, -6.6087422370910645, -4.758709907531738, -4.501210689544678, 4.402560710906982, 3.8230323791503906, -8.562309265136719, -10.396976470947266, -5.423810005187988, 5.349879741668701, 9.90188980102539, -2.64235258102417, 10.692573547363281, -3.0663633346557617, 4.945558071136475, 3.1538567543029785, 6.93843936920166, -2.5680885314941406, 3.8958911895751953, 3.7785027027130127, 11.114461898803711, 6.026529788970947, 5.117667198181152, -2.6217236518859863, 3.273078203201294, -9.967595100402832, 0.5732739567756653, -5.8155517578125, -0.31105899810791016, 1.155430793762207, -6.561400413513184, 4.744162082672119, 6.87526273727417, -2.0690433979034424, -11.630743026733398, 4.650178909301758, 3.3201844692230225, 11.01679801940918, -9.920401573181152, -4.947092056274414, 8.266037940979004, -5.194058418273926, -8.719067573547363, -7.8338446617126465, -2.9005565643310547, -0.8063374161720276, -5.063447952270508, 3.388946056365967, 9.667070388793945, 5.358438491821289, 6.386626720428467, 12.69322395324707, -2.0816147327423096, 5.151706218719482, -5.709039211273193, -1.9327970743179321, 4.960949420928955, -4.817570686340332, 10.766067504882812, 4.439228534698486, -5.93333625793457, 2.9236350059509277, 7.587034225463867, -1.5973089933395386, 10.905518531799316, 2.7431771755218506, -2.948016881942749, 0.8109086751937866, 3.697693109512329, -8.820268630981445, -5.896049499511719, -11.05423641204834, 6.2805585861206055, -5.661032676696777, 5.606046199798584, 5.358829975128174, -4.8326544761657715, -9.809734344482422, 0.6476709246635437, 9.268192291259766, -1.605330467224121, -10.197319030761719, -5.673946857452393, 3.5001373291015625, 0.13111208379268646, 9.972918510437012, 2.2069737911224365, 11.525506019592285, 12.965089797973633, -10.876304626464844, 3.81024432182312, -3.8103504180908203, -6.832921504974365, -7.624338150024414, -0.2082848697900772, 4.972113132476807, 2.755251169204712, 4.919877052307129, 3.058133363723755, 8.208105087280273, 10.51746654510498, -4.19657564163208, 9.438035011291504, -7.429243087768555, -8.452910423278809, 2.208041191101074, -3.269005537033081, 2.916898250579834, -2.4555892944335938, 5.7960309982299805, -6.493249416351318, -11.336949348449707, -7.588194847106934, 4.813971042633057, -5.929465293884277, -4.958029270172119, 11.413957595825195, -6.767489433288574, -10.750415802001953, 3.14906644821167, 8.97417163848877, 2.3000874519348145, -9.86133098602295, 7.982110023498535, 11.663520812988281, 3.8741769790649414, 10.628369331359863, 6.897989273071289, -5.734985828399658, 3.66418194770813, -4.741947650909424, 2.9784955978393555, -5.623526573181152, 9.220462799072266, 11.380278587341309, -2.434347152709961, -3.5602662563323975, 4.683764934539795, -1.0667353868484497, 2.6389029026031494, 3.4943864345550537, -3.6857688426971436, -10.911006927490234, -4.668340682983398, -7.254273891448975, -1.587913155555725, 4.6559529304504395, 2.676135301589966, -10.80267333984375, -8.24785041809082, -0.30292707681655884, 6.080759048461914, 10.47569465637207, -3.0433754920959473, 10.344629287719727, 1.9878352880477905, -4.444474697113037, -7.787670612335205, -4.182913780212402, -1.2440433502197266, 9.726089477539062, 0.1736699640750885, 2.840635061264038, -2.6323180198669434, 2.370150327682495, 3.2004635334014893, -3.4060921669006348, 6.567683696746826, -3.74662709236145, -4.30464506149292, -0.9996029734611511, 9.921025276184082, -1.180273413658142, 5.995368003845215, 0.4375763535499573, 3.615827798843384, 1.9390755891799927, -8.051986694335938, -7.464869976043701, 1.1955430507659912, 7.309585094451904, -9.066847801208496, -4.025811672210693, 9.622276306152344, 1.7955316305160522, -1.4691146612167358, 9.800873756408691, 10.504719734191895, -10.57630729675293, 1.8913781642913818, 4.47190523147583, 4.5969719886779785, -4.304993152618408, 8.197443008422852, -3.9031882286071777, -3.6310226917266846, -8.937455177307129, 1.1506510972976685, -4.921982765197754, -7.725085735321045, 1.1776716709136963, 3.090156078338623, -9.553657531738281, -3.929699182510376, 2.6013073921203613, 6.012375831604004, -4.2081146240234375, 5.72616720199585, -7.758762836456299, 2.5916876792907715, 2.6800835132598877, -7.507253646850586, -8.408568382263184, -6.096992015838623, -11.715177536010742, 4.765801429748535, 9.474145889282227, 9.354783058166504, 7.31981086730957, 13.39184284210205, -2.4482903480529785, 4.4285430908203125, 3.914785146713257, 0.9053712487220764, -6.340808868408203, -2.473797559738159, 5.450809478759766, 5.9607744216918945, -8.244569778442383, 3.46120023727417, -0.935771644115448, -2.358104705810547, 0.5294174551963806, 6.3968377113342285, 7.394495010375977, 3.6610915660858154, 1.6404738426208496, 3.6653060913085938, -9.120821952819824, -2.4558169841766357, 0.9896124005317688, -1.8723945617675781, 1.3859771490097046, 5.157029628753662, 10.557430267333984, -1.77542245388031, -4.934775352478027, 4.30337381362915, -1.847658634185791, -2.430061101913452, 2.7506136894226074, -11.543478965759277, 4.586851596832275, 3.230186939239502, 3.7728302478790283, 8.986359596252441, 5.449277400970459, -3.318054676055908, 9.944791793823242, 1.6182457208633423, 0.8180939555168152, -2.0791633129119873, 3.626277446746826, -2.1167805194854736, -4.227236747741699, -5.006351470947266, 4.471278667449951, -0.9527655839920044, 0.1574350893497467, 0.8907518982887268, 4.4200053215026855, 2.6763086318969727, -5.547524929046631, -4.810239315032959, 3.0967392921447754, 8.058724403381348, 11.125391960144043, -7.279186725616455, 9.684398651123047, -0.7610797882080078, -4.219998359680176, -9.450848579406738, 7.242693901062012, -5.242793560028076, -8.60554313659668, 8.697628021240234, -11.44301700592041, 9.836665153503418, -7.530838489532471, -6.448206424713135, -8.544105529785156, 4.805210590362549, -3.8251938819885254, -3.648550033569336, 10.934618949890137, -6.283355236053467, 11.835312843322754, -4.881099700927734, 2.9652605056762695, 2.172438144683838, -5.1630539894104, 1.7816740274429321, -11.391579627990723, 1.8100064992904663, -4.916295051574707, -1.1235891580581665, 2.363952398300171, -2.357222080230713, -3.6093943119049072, -3.3327419757843018, -1.0830458402633667, -3.780071496963501, 10.441256523132324, -7.796252727508545, 3.237589120864868, -6.593163013458252, -6.842533588409424, 9.996572494506836, -1.835526943206787, 4.257823467254639, 0.312619149684906, -3.766188144683838, -1.4174368381500244, -9.490039825439453, 7.55447244644165, -2.2593958377838135, -11.032308578491211, -6.18385124206543, 0.7738292813301086, -1.4529491662979126, -6.642049789428711, 6.678109645843506, -8.477010726928711, -8.739004135131836, -5.14268159866333, 5.9514970779418945, -5.300251007080078, 9.256535530090332, 4.128215312957764, -0.026023464277386665, 2.6467604637145996, -2.715723752975464, 7.2190656661987305, -5.375548362731934, 9.905356407165527, 3.1707558631896973, 6.427781105041504, 3.801891565322876, 5.8665595054626465, -5.983579635620117, -4.0522990226745605, -5.023430347442627, -3.1494412422180176, 5.8082733154296875, -5.307721138000488, 1.0860273838043213, 10.824009895324707, -5.910313129425049, 0.8839688897132874, 11.923742294311523, 3.787235975265503, 8.57048225402832, 2.8099331855773926, 10.989005088806152, 11.13951301574707, 2.840696334838867, -9.89256477355957, -2.4181578159332275, -10.510884284973145, 6.866184234619141, -6.2078857421875, -6.392279624938965, 2.996711254119873, -1.920784831047058, -2.6686782836914062, -1.5384830236434937, -1.3693416118621826, 3.632110595703125, 2.4356162548065186, -9.120248794555664, -2.7468111515045166, -2.0211689472198486, -4.2008514404296875, -3.9457836151123047, 5.220130920410156, -6.073262691497803, 4.456553936004639, 3.060265064239502, -5.328215599060059, 1.712124228477478, -5.076943397521973, -5.555503845214844, 8.65299129486084, -5.295415878295898, -6.625361919403076, 3.1977474689483643, -0.8921729922294617, 4.164662837982178, -9.620668411254883, -6.395831108093262, -2.246668815612793, -0.9226210713386536, -5.497439384460449, -0.3968861997127533, -6.649281024932861, 2.322875499725342, 6.093698024749756, -1.274585247039795, -1.170135498046875, -4.8010101318359375, 9.49388599395752, 7.695301532745361, 3.1858327388763428, 2.0644495487213135, -3.5469205379486084, 4.005754470825195, 2.4117136001586914, 9.855387687683105, 8.550021171569824, 6.257793426513672, -3.871752977371216, 8.872248649597168, -1.2335022687911987, 1.2034461498260498, -8.482499122619629, -1.8720917701721191, -0.7100109457969666, -7.389988422393799, -8.894232749938965, -10.537266731262207, 10.51294231414795, -4.95881462097168, 10.585838317871094, 5.322026252746582, -2.6907169818878174, 5.986600875854492, -1.7402164936065674, -8.470982551574707, -5.434311389923096, -7.171926021575928, -0.15033946931362152, 3.7487637996673584, 10.814689636230469, 3.246344804763794, -5.441164016723633, 4.738881587982178, 3.783010959625244, 2.9441330432891846, 8.210949897766113, -0.7224109172821045, -2.310652494430542, -3.14844012260437, -0.9290979504585266, -2.4099676609039307, 3.282593250274658, -3.2486040592193604, -4.019123077392578, 11.881579399108887, -10.593374252319336, -6.712856769561768, 10.389986991882324, 7.633660316467285, 8.330999374389648, -7.242311954498291, 6.107855319976807, -6.140582084655762, 3.85713267326355, 6.128891944885254, -8.116705894470215, -4.713900089263916, 3.340888261795044, -1.1658573150634766, 6.082520484924316, -2.869795322418213, 0.3724277913570404, -6.441734790802002, -2.4421446323394775, 3.8316755294799805, 1.1995470523834229, 9.621617317199707, 8.535550117492676, -1.8802095651626587, -10.174259185791016, 4.20408296585083, 6.408339500427246, 3.7116565704345703, -6.7004475593566895, -4.9872918128967285, -4.751568794250488, 6.309316635131836, -2.9155466556549072, 2.1208527088165283, -10.063573837280273, -8.550702095031738, -1.2669440507888794, 4.8138298988342285, -9.569818496704102, 11.516790390014648, -2.8342373371124268, 3.063961982727051, 10.585895538330078, -3.5203373432159424, -7.529296398162842, -8.692780494689941, 10.593524932861328, 1.7535324096679688, 2.754493236541748, 4.880380153656006, 4.092489242553711, -6.314365863800049, -3.8691439628601074, 10.486950874328613, -7.297351837158203, -6.828284740447998, 3.9948980808258057, 3.0397584438323975, 11.104308128356934, 4.492103576660156, 0.18361304700374603, -1.4023469686508179, 6.186654090881348, 6.715664386749268, 2.955092430114746, -2.876281261444092, -6.374727725982666, 5.5898966789245605, 10.495049476623535], \"y\": [-7.167639255523682, 7.799009323120117, -3.285834789276123, 10.143135070800781, -0.5829948782920837, 7.588912010192871, 4.85455322265625, 14.195810317993164, 0.9680713415145874, -12.87296199798584, 15.846057891845703, -1.5226237773895264, 14.35396671295166, -0.9135650396347046, 4.354989051818848, 5.649914741516113, 14.36365795135498, 2.338092803955078, -3.9877517223358154, 9.053285598754883, 6.943762302398682, -5.641805648803711, 2.7621521949768066, 1.7855234146118164, 7.338832378387451, -2.6012091636657715, -1.4162384271621704, -0.9723513126373291, 5.276366233825684, 8.432304382324219, 0.012392439879477024, 7.268151760101318, -2.98590350151062, 6.188754558563232, -4.831111431121826, -4.588747978210449, 8.507184982299805, -0.9882084131240845, -6.314101696014404, 8.4879150390625, 2.204096555709839, 8.118492126464844, -2.6035380363464355, 5.286849021911621, 6.390228748321533, 5.614609718322754, 6.983486652374268, 1.4099544286727905, -1.4715702533721924, -2.6328213214874268, 17.23826026916504, -4.435074806213379, -6.207154273986816, 5.7447710037231445, 8.550925254821777, 4.000804901123047, 6.161789894104004, -2.581587076187134, 6.807363986968994, 0.31936678290367126, 9.880375862121582, -4.673167705535889, 4.6059699058532715, 8.716202735900879, -5.5982208251953125, 7.3390793800354, -1.2076283693313599, 2.350935459136963, -0.5953502655029297, 9.979513168334961, 8.930235862731934, 10.83195686340332, -8.826408386230469, 13.707167625427246, -16.56308937072754, -8.889100074768066, 1.5480514764785767, 7.706644535064697, -16.438846588134766, -13.121370315551758, -13.218220710754395, -8.926491737365723, 3.244452953338623, -3.4343037605285645, 4.734594345092773, 6.44547700881958, 0.1801973134279251, 1.7058368921279907, 0.3999094069004059, -7.357804298400879, -10.179375648498535, 14.594359397888184, -2.0022380352020264, 3.2017219066619873, 4.89647102355957, 5.517242908477783, -7.779761791229248, 5.240540027618408, -2.906212568283081, 2.413092851638794, -7.378514766693115, -1.6951632499694824, 5.628966808319092, -7.045252323150635, 6.010891437530518, -9.56224250793457, -4.236949443817139, 3.943047285079956, -16.316776275634766, 8.84222412109375, -8.939315795898438, -6.439986705780029, 16.418333053588867, -9.603625297546387, -1.5071024894714355, -10.24044132232666, 3.2557783126831055, 3.0453784465789795, 11.583524703979492, -3.192267894744873, -10.879739761352539, 0.6517740488052368, 4.873948097229004, -3.777212142944336, -3.9393813610076904, 6.973214149475098, 5.820502758026123, 10.414642333984375, 5.00234317779541, 6.865477085113525, -0.9511986374855042, -7.789510250091553, 15.727653503417969, 6.111380577087402, -0.37574613094329834, -9.422776222229004, 1.3096686601638794, 13.56886100769043, 8.042786598205566, 0.1806725561618805, 14.185266494750977, -6.103288173675537, -6.685913562774658, 1.5909020900726318, -2.5954434871673584, -11.728032112121582, 12.556096076965332, -1.1287190914154053, 8.066743850708008, -2.6591362953186035, -8.079265594482422, -11.333417892456055, 3.064746618270874, -6.653470039367676, -6.720950603485107, -6.964500904083252, -4.332822799682617, -3.0840165615081787, -14.386972427368164, 11.5288667678833, 4.612699031829834, -2.957453727722168, -13.648093223571777, -15.87285327911377, 10.148890495300293, -1.4273955821990967, 14.121200561523438, 8.690335273742676, 1.7590311765670776, -5.010701656341553, -4.480587959289551, 5.100332260131836, 8.302178382873535, -0.9969387650489807, -0.8661196827888489, 0.10525166988372803, 8.486052513122559, -0.9877322912216187, 7.773617744445801, 11.925063133239746, 0.7554832696914673, 9.43453598022461, 6.0747880935668945, 6.731600761413574, 8.229090690612793, 2.9030420780181885, 6.783160209655762, -1.5978535413742065, -11.813389778137207, -10.756797790527344, -1.3857325315475464, 0.47515997290611267, 15.387030601501465, -2.021174430847168, 0.33579662442207336, 5.828656196594238, 1.1576652526855469, 3.8177289962768555, -7.4489617347717285, -3.157489061355591, 0.3394918441772461, -1.7979340553283691, 4.650050163269043, 3.1823678016662598, -2.193495988845825, 7.2872138023376465, -12.89853572845459, 0.27274373173713684, 10.36198616027832, 9.275778770446777, -1.9137849807739258, 5.488139629364014, 8.807181358337402, -9.271329879760742, 0.7861551642417908, -0.2800285220146179, 8.96159839630127, 6.919040679931641, 6.96222448348999, 1.3501871824264526, -2.907789945602417, 4.354762554168701, 2.5132031440734863, -17.155242919921875, 0.8454669117927551, -12.04375171661377, -4.240129470825195, -13.07524585723877, -0.28880009055137634, 3.4433724880218506, 5.0655622482299805, -2.0017566680908203, 12.544325828552246, 13.044123649597168, -0.7489908933639526, 3.96714186668396, 10.32120132446289, -10.461788177490234, 10.312994956970215, -1.6039996147155762, 0.3912562429904938, 1.8104661703109741, 0.760620653629303, 3.502573251724243, 11.336055755615234, 0.42506322264671326, -11.153657913208008, -15.775254249572754, -4.651548862457275, 2.2826035022735596, -5.923828601837158, 0.6349669694900513, 10.351893424987793, -2.985318899154663, -10.224849700927734, 1.4574593305587769, -9.002975463867188, 1.3634849786758423, 3.5590336322784424, -2.6784112453460693, 0.37654590606689453, -3.132171392440796, -0.33635419607162476, 0.26956281065940857, -7.061619281768799, 3.713099479675293, 14.001636505126953, 2.142061471939087, -15.909491539001465, 2.7611351013183594, 2.8005473613739014, 5.220148086547852, -10.8967924118042, 0.3663667142391205, 10.238139152526855, -3.097877264022827, 5.298064708709717, 0.3494214117527008, 3.676057815551758, -11.555397033691406, -3.741579055786133, 0.7128322124481201, -12.016471862792969, -7.546043395996094, -1.0452903509140015, 4.206918239593506, -3.888005495071411, 4.864732265472412, 1.8291109800338745, -7.486594200134277, -6.949625492095947, 4.197259902954102, -4.283190727233887, 3.638526201248169, -3.4270567893981934, 15.208097457885742, 11.535327911376953, -14.96206283569336, -2.2145578861236572, -7.839498519897461, 7.372699737548828, 1.4838926792144775, 8.257895469665527, 11.733654975891113, 9.278366088867188, -14.321693420410156, 3.4318180084228516, -13.324141502380371, -3.1236824989318848, 7.859025001525879, 8.525944709777832, -1.5605124235153198, 8.503437995910645, -0.8972386121749878, 0.6428359150886536, -9.032686233520508, -4.711385250091553, 4.813656330108643, -15.100662231445312, 4.276930332183838, 6.49662971496582, -11.84201717376709, 11.52167797088623, 7.140824794769287, -12.23953628540039, -7.210875034332275, 12.547345161437988, 14.099356651306152, 3.9852986335754395, 10.260431289672852, 1.9277091026306152, 5.424638271331787, -2.673004627227783, -8.453574180603027, 1.2849187850952148, 2.0872843265533447, 6.605865001678467, -9.58171272277832, 7.115355491638184, 4.891449928283691, -10.203628540039062, -13.751387596130371, 11.805933952331543, -5.821768283843994, 13.733328819274902, 3.6890110969543457, 6.811847686767578, -1.1498644351959229, 10.968672752380371, 5.678256511688232, 0.47958889603614807, -11.11378002166748, -2.8060567378997803, 4.887819290161133, -3.858572483062744, -14.085731506347656, -5.588603496551514, 5.67767858505249, 6.4966301918029785, -4.494125843048096, 7.194106578826904, 4.621827125549316, -3.0936996936798096, -2.732656717300415, 11.720516204833984, -13.75461483001709, 8.049728393554688, 1.2927976846694946, 0.8942499756813049, 3.669407606124878, -2.8958475589752197, 0.40723615884780884, 0.9633684754371643, 3.5955865383148193, 11.428528785705566, -4.794158458709717, -16.318408966064453, 9.858131408691406, 4.418933391571045, -6.339625358581543, 12.207783699035645, -1.4951375722885132, -15.57680606842041, -9.763787269592285, 6.552975177764893, -8.162961959838867, -4.504739284515381, -3.3089230060577393, -1.960396647453308, -7.257094383239746, -3.5905487537384033, -8.095929145812988, -11.499690055847168, -11.216054916381836, -1.8448914289474487, 5.0082316398620605, -9.592085838317871, 11.094419479370117, -7.102888107299805, -11.214841842651367, -3.274003505706787, -2.5979952812194824, -1.4400959014892578, 6.859528541564941, 12.332375526428223, 2.8499157428741455, 0.07583074271678925, -2.664043426513672, 12.487622261047363, 4.864476203918457, 4.209942817687988, -7.640235424041748, 7.54683256149292, -14.299029350280762, 4.800551891326904, -2.3060317039489746, 0.32507452368736267, 6.216063976287842, 14.332261085510254, 3.821728229522705, -7.172313690185547, -0.3577349781990051, 4.035726547241211, 8.615588188171387, 2.0072720050811768, 0.457499623298645, 4.702136039733887, 9.887676239013672, -8.04835319519043, 1.967551827430725, -9.96025562286377, 4.0109100341796875, -3.703277111053467, 9.846335411071777, 8.429072380065918, -0.04008224979043007, -1.9144384860992432, 1.6739405393600464, -16.828826904296875, -2.165395975112915, -10.21731185913086, -16.05290412902832, -1.9508637189865112, 3.0352001190185547, -0.8794514536857605, 9.096138954162598, 9.058321952819824, -4.321016311645508, 2.474245071411133, 10.90552043914795, -3.0049610137939453, 1.1454719305038452, -4.09454870223999, -14.690502166748047, 15.492162704467773, 5.494332790374756, 0.7638524174690247, 1.0274436473846436, -16.240802764892578, -14.736299514770508, 6.149603843688965, -0.6273214221000671, -1.48305344581604, -15.27591323852539, 1.0024667978286743, -10.267794609069824, -15.921271324157715, 10.428228378295898, -1.2268445491790771, 1.4848109483718872, -11.41452693939209, -1.5005098581314087, -0.4896243214607239, -10.894807815551758, -4.969042778015137, 0.4398299753665924, 6.039338111877441, 8.292777061462402, -7.595542907714844, 4.776037216186523, -3.074144124984741, -3.2807230949401855, 8.802745819091797, 3.8583216667175293, 3.4058029651641846, 2.825873613357544, 3.779566526412964, -8.689286231994629, -9.210695266723633, -2.0555782318115234, -14.345160484313965, 15.14700984954834, 6.1101508140563965, 8.514533042907715, 0.9293971061706543, 11.880377769470215, 4.629598140716553, 12.95246696472168, -5.083154201507568, -7.806797504425049, 7.839174270629883, -0.7818372845649719, -6.52787446975708, 0.49693718552589417, -8.116744041442871, -1.38169527053833, -16.4876708984375, -0.8218882083892822, -9.064038276672363, 8.43224048614502, -0.6659456491470337, -2.5001015663146973, 2.343867301940918, 5.2846760749816895, -15.627357482910156, -4.591821670532227, -5.912984371185303, -16.51754379272461, 0.3616142272949219, 3.28491473197937, -8.470884323120117, 4.751357078552246, 5.230835914611816, 4.433411121368408, 6.1359453201293945, 2.161862850189209, -9.779077529907227, 1.3676183223724365, -0.6478815078735352, -10.321870803833008, 5.441539764404297, 8.311419486999512, 13.251421928405762, -2.5611119270324707, 14.093262672424316, 8.681482315063477, 5.4642252922058105, 3.0041537284851074, -4.873140335083008, 3.1025335788726807, 1.896177887916565, 11.327142715454102, 4.159804344177246, 8.6080961227417, -0.7642308473587036, 15.614943504333496, -10.799531936645508, 11.545726776123047, 11.152436256408691, -11.653511047363281, -6.845527648925781, -8.64323616027832, -0.19214242696762085, -14.407143592834473, -3.4373412132263184, 6.963984489440918, 12.769777297973633, -14.797525405883789, 13.699575424194336, 1.6612285375595093, 2.575086832046509, 7.232285976409912, -3.2294504642486572, 13.214777946472168, -3.5482470989227295, -14.066329002380371, -2.634679079055786, -0.8503172397613525, 12.123443603515625, 13.956212997436523, -7.976264953613281, 14.310687065124512, 12.762502670288086, 5.447440147399902, 6.790882587432861, 9.150703430175781, 5.845571517944336, 2.158395767211914, -7.854552268981934, -11.173565864562988, -7.094844341278076, -12.845823287963867, 3.0417556762695312, 6.117135524749756, -3.1986098289489746, -12.89595890045166, -9.853511810302734, -5.830446720123291, 0.6874926090240479, 8.005241394042969, -2.009725570678711, -4.247137069702148, 0.6483966112136841, 12.291444778442383, 1.795648217201233, -6.7934346199035645, 12.177299499511719, 8.686753273010254, 8.969358444213867, 2.776285171508789, 13.017658233642578, 0.052129168063402176, 7.820242881774902, 4.182093620300293, 10.988266944885254, 8.123929023742676, 13.977940559387207, 4.781035900115967, -3.1747641563415527, 7.837306022644043, 5.058417797088623, -7.665419101715088, -8.948578834533691, -10.2520170211792, -14.346592903137207, -3.156404733657837, 1.4485301971435547, 1.3856433629989624, -4.520809173583984, -10.2692232131958, -1.7934471368789673, -5.992298126220703, -6.467781066894531, 0.16827741265296936, 3.881981611251831, 12.11556625366211, 3.94055438041687, -1.9052002429962158, -1.5570414066314697, -15.336688995361328, -3.752619504928589, 4.265077114105225, -16.8386173248291, 3.9864020347595215, -7.213849067687988, -5.113317966461182, -7.299834728240967, -1.8307989835739136, 15.144624710083008, 9.846796035766602, -2.250370740890503, 9.157403945922852, 5.609352111816406, -6.51263427734375, 4.361860275268555, -14.627649307250977, 0.5701644420623779, -9.78286361694336, 7.977596759796143, -11.50011920928955, -4.223228454589844, -2.8959431648254395, -0.7224965691566467, 14.404668807983398, -0.34670981764793396, 7.5093770027160645, 2.6221420764923096, -8.361827850341797, -3.203721523284912, 8.431148529052734, 9.09586238861084, -5.918703079223633, 0.910257875919342, -7.842548847198486, 11.427996635437012, 10.093806266784668, 13.164393424987793, 6.588176250457764, 3.7227423191070557, -1.3240952491760254, 0.8763258457183838, -13.360933303833008, -5.711623668670654, -2.6492724418640137, 10.394326210021973, -6.111325263977051, 8.284869194030762, 15.677342414855957, 10.980340957641602, 5.911457538604736, 2.077045202255249, -2.8506906032562256, -10.994878768920898, 8.438438415527344, -8.717011451721191, -0.9802767038345337, -10.788722038269043, -2.1312332153320312, 15.06287670135498, 8.34595012664795, 3.4753355979919434, 8.780400276184082, 7.4825239181518555, 2.390035390853882, 16.687610626220703, 12.724989891052246, -5.931861400604248, -11.86833667755127, -15.209219932556152, 6.162050724029541, -0.9567480683326721, -10.15540885925293, -0.9416410326957703, 5.271539211273193, -10.593995094299316, 4.351134300231934, 14.509974479675293, 17.8249454498291, -2.651148796081543, 5.516750812530518, 6.500004291534424, -3.6701927185058594, -5.562561511993408, -2.405365467071533, -6.331455707550049, 11.195388793945312, 7.386556625366211, 6.326269626617432, -6.413998603820801, -1.7983406782150269, -3.951810359954834, 1.6556665897369385, 4.022751808166504, -4.450525760650635, 2.6718854904174805, -2.9086925983428955, 10.019391059875488, 12.919403076171875, 10.80550765991211, 7.979016304016113, -2.0213499069213867, 1.172568440437317, -2.6661055088043213, -4.222956657409668, 1.6163753271102905, 15.013886451721191, -9.682437896728516, -14.448657035827637, -15.354090690612793, 4.750794410705566, -2.649304151535034, -7.314029693603516, -8.103632926940918, 4.6612067222595215, -6.904027938842773, -14.984968185424805, -11.364460945129395, 15.717305183410645, 0.3942689895629883, 9.135536193847656, 7.570528507232666, 0.35302454233169556, 4.619352340698242, 0.3703272342681885, -4.083792686462402, -1.404162049293518, -12.87995433807373, -2.919599771499634, 5.172051906585693, -0.8037640452384949, 7.468651294708252, -5.722071170806885, -4.6417236328125, -0.055085815489292145, -8.517858505249023, 1.8742612600326538, 2.7944819927215576, 0.508881688117981, 5.085409164428711, 0.28660687804222107, -12.774459838867188, -7.146939277648926, -0.30827710032463074, 5.033941745758057, -7.555386066436768, -3.752223253250122, -1.5448863506317139, 1.5564243793487549, -16.726478576660156, -8.934459686279297, -10.693940162658691, 2.684563636779785, 5.3674163818359375, -8.14521598815918, -15.752486228942871, 8.736966133117676, -2.984405040740967, 10.985549926757812, -14.844223976135254, -11.111641883850098, 12.956316947937012, -11.02161693572998, 3.983491897583008, -14.675540924072266, 0.9279046058654785, 6.478437900543213, -5.360823631286621, 1.8807380199432373, -12.108799934387207, -1.117008090019226, -1.0852622985839844, -2.5784640312194824, -0.4957450330257416, 7.83223295211792, -1.8427772521972656, -1.2497934103012085, -4.1418585777282715, 6.462059497833252, 14.743255615234375, -3.0321438312530518, 1.769653081893921, 5.518913269042969, -15.481440544128418, -6.494922637939453, 5.541383266448975, 2.5331337451934814, 5.629157066345215, 11.7467622756958, 7.878650665283203, 11.938629150390625, 13.376483917236328, -0.48265525698661804, -15.710331916809082, 7.781700134277344, 1.7504487037658691, -0.9997628927230835, 14.698068618774414, -13.530714988708496, -11.022181510925293, 7.581458568572998, 7.137963771820068, -5.989922046661377, 4.937774181365967, 5.851027488708496, 0.7021435499191284, 10.280440330505371, 1.4438116550445557, 0.5386204719543457, 12.665183067321777, -4.595458507537842, -11.426239013671875, -6.991192817687988, 11.86434268951416, 3.7061846256256104, 3.5391056537628174, 13.172091484069824, 4.685503959655762, -12.018425941467285, -8.62330436706543, -4.157511234283447, 12.638328552246094, -9.114084243774414, -5.520384311676025, -11.06210994720459, -1.5957461595535278, 2.911600351333618, -0.44599658250808716, 15.866836547851562, -13.2532320022583, 3.8992109298706055, -7.063970565795898, -12.159638404846191, 2.5228919982910156, -10.916343688964844, 2.9177374839782715, 13.490473747253418, 2.678267478942871, -11.501572608947754, 11.194266319274902, -6.6240434646606445, 11.767120361328125, -6.484508991241455, 0.20886455476284027, -8.987717628479004, 3.479034662246704, -4.961416721343994, -1.3994189500808716, 0.3469296097755432, -6.503122329711914, -0.9282740354537964, -6.563909530639648, -14.190168380737305, -13.331435203552246, 10.486306190490723, 11.40764045715332, 16.233570098876953, -8.918004989624023, -3.123401641845703, -8.213337898254395, 5.640504360198975, 2.069511890411377, 8.383993148803711, 2.7779059410095215, -12.988088607788086, 6.743981838226318, -9.049975395202637, -9.61924934387207, 0.25285428762435913, -0.4423980116844177, 1.8136173486709595, 4.816020965576172, -3.202528953552246, -4.605396747589111, 11.703958511352539, -12.343345642089844, 3.087150812149048, 11.745739936828613, 7.803282260894775, 3.125091314315796, -17.331897735595703, 2.312220811843872, -5.3709001541137695, -1.9467988014221191, -16.830028533935547, 4.9827561378479, -1.6353123188018799, -6.133373260498047, 5.496850490570068, 15.598367691040039, 15.865548133850098, -8.314846992492676, 15.582930564880371, -2.8361215591430664, -11.240504264831543, 3.2805566787719727, -7.356695175170898, 4.543079853057861, -6.845576763153076, -1.883600115776062, 2.9975156784057617, -1.0651211738586426, -5.506709575653076, 0.18422113358974457, 9.963171005249023, 11.632518768310547, 1.9466358423233032, -7.445372581481934, -1.4340790510177612, 7.839292526245117, 13.922200202941895, 0.3944488763809204, -1.3038431406021118, -15.744659423828125, 13.679078102111816, -14.78342056274414, 4.818134307861328, -14.426304817199707, -12.071732521057129, 4.050882816314697, 4.380034923553467, -7.377593040466309, -2.448409080505371, 11.897177696228027, 12.1858549118042, -3.096595287322998, 0.3608427047729492, 16.447921752929688, 7.771206855773926, 5.713578224182129, 0.717048168182373, 0.5517721176147461, -0.7184303998947144, -1.005354404449463, -16.00698471069336, -8.114567756652832, -2.3242456912994385, 3.4250001907348633, -13.99748420715332, 5.630897045135498, -3.1665172576904297, 6.668455123901367, -12.1049165725708, -10.577873229980469, -1.452926754951477, -11.805362701416016, 2.4382400512695312, 4.125213623046875, 5.753359317779541, -2.483147382736206, 10.995661735534668, 5.195772171020508, -7.317203044891357, -14.398782730102539, 3.062192440032959, 6.337704658508301, -2.4977312088012695, 0.28316161036491394, 11.396251678466797, 14.006570816040039, 2.3076956272125244, 10.92005443572998, -14.937687873840332, -14.578763961791992, -1.3055877685546875, 5.818965435028076, -7.8639960289001465, -3.0497725009918213, -14.233541488647461, 10.013870239257812, 1.3924545049667358], \"z\": [0.34973034262657166, 8.82138442993164, -12.346505165100098, -0.7735101580619812, -14.341628074645996, -0.9392066597938538, 13.605955123901367, -7.387137413024902, 4.689702033996582, 5.518282413482666, -7.74854850769043, -8.454778671264648, 0.9093139171600342, -0.5848745107650757, -11.579660415649414, -3.1695706844329834, 0.8564661741256714, 4.485258102416992, -11.262894630432129, 0.2700192928314209, -0.33509355783462524, -2.145505428314209, -16.232879638671875, 4.800296306610107, -5.758184432983398, -2.974924087524414, -9.59444808959961, 6.383632183074951, -10.953653335571289, -7.34773063659668, 6.18597936630249, 7.0907769203186035, -1.9352898597717285, -11.536324501037598, -0.9018707871437073, -0.8391948342323303, 1.2053335905075073, 6.5613932609558105, -2.477799892425537, -2.678417682647705, 12.34296703338623, -10.959264755249023, 6.4112138748168945, -5.043916702270508, -11.61866569519043, -2.413214683532715, -12.108635902404785, 4.815188884735107, -8.733940124511719, 11.330155372619629, -4.180981636047363, -9.97849178314209, 1.0301904678344727, -2.5506513118743896, -1.2872040271759033, 11.626897811889648, 12.180685043334961, -1.2385586500167847, -11.353819847106934, -9.89310359954834, 10.341069221496582, 2.3587396144866943, -6.254011631011963, -10.48025131225586, 9.222284317016602, -12.886916160583496, 4.56965970993042, 3.753053665161133, -9.490564346313477, -5.9118242263793945, -9.897146224975586, -4.872252464294434, -3.049661159515381, -2.0861618518829346, 0.6301398277282715, 0.30920371413230896, -9.975696563720703, -5.778976917266846, -0.9965457320213318, 0.4447612762451172, 0.9385772347450256, -1.267501711845398, -13.558987617492676, 2.5211007595062256, 9.907715797424316, 3.4904046058654785, 7.824141025543213, 11.885512351989746, 0.5729862451553345, -3.4370410442352295, -1.7223286628723145, -6.028597831726074, 5.0699143409729, 13.90298843383789, 10.391739845275879, -7.4280781745910645, 5.535189628601074, 3.3765854835510254, 7.875152111053467, -10.78565502166748, -3.702989339828491, 10.336434364318848, 2.9281187057495117, 2.288114309310913, -6.596240520477295, 4.49931001663208, 5.359957218170166, 6.841648578643799, 1.4280884265899658, -5.852734088897705, -4.2796196937561035, -5.091442584991455, -5.382885932922363, 1.633851408958435, -12.508549690246582, -2.7780935764312744, 12.233047485351562, 14.203775405883789, -1.2757925987243652, 9.124459266662598, -2.6343116760253906, -0.6918647289276123, 5.762182235717773, 8.573565483093262, 0.6336508393287659, 6.464099407196045, 9.518289566040039, -2.602384567260742, 9.400655746459961, 5.2370686531066895, -1.456181287765503, 4.823147296905518, -4.048732280731201, 10.032014846801758, 10.221952438354492, 2.6491851806640625, -14.36195182800293, -2.4073402881622314, 6.093460559844971, 2.233335494995117, -3.0677413940429688, -2.354290008544922, 1.6256023645401, -13.083621978759766, 10.49795913696289, 2.692204475402832, -6.741582870483398, 6.888694763183594, 7.355262756347656, 4.653477191925049, -4.800468921661377, -0.7604639530181885, 2.353327512741089, 2.006784439086914, -2.3145689964294434, 5.884137153625488, 10.713394165039062, 9.106764793395996, -0.37706437706947327, -2.0071043968200684, 12.918072700500488, -0.7185823917388916, -3.3922784328460693, -1.0087296962738037, -2.5684711933135986, 9.332508087158203, -2.4194486141204834, -10.416312217712402, -11.676920890808105, 2.1192209720611572, 5.527469635009766, 2.6085903644561768, -4.7467241287231445, -13.851874351501465, 0.5526156425476074, 11.507865905761719, -2.5053648948669434, -13.756878852844238, 7.849247932434082, -2.6120705604553223, 1.7306777238845825, -7.895440578460693, 6.748935222625732, -9.014188766479492, -9.69629955291748, 13.301652908325195, -8.23702335357666, -0.7241883277893066, 2.1065173149108887, -1.018820881843567, 7.504911422729492, -12.736266136169434, -6.222632884979248, -13.169660568237305, 9.910264015197754, 13.022930145263672, 2.44126296043396, 6.566408157348633, -4.702422142028809, 0.07936272025108337, -2.0944292545318604, 3.57989239692688, 8.652448654174805, -13.003191947937012, -12.908432960510254, 6.931560039520264, -0.6137676239013672, -1.7137253284454346, -7.403245449066162, 7.382266044616699, 0.6263976097106934, -6.862322807312012, -6.0315141677856445, -3.423940896987915, -0.7249241471290588, 1.0279476642608643, 6.9595794677734375, -5.003801345825195, -6.81765079498291, 3.3086624145507812, -12.942351341247559, 5.251954555511475, -12.227262496948242, 0.9228423833847046, 9.774840354919434, -1.0626447200775146, 6.684635639190674, 2.860438585281372, 9.904972076416016, -6.244513034820557, 12.293546676635742, 5.442289352416992, -2.8777244091033936, -2.4408130645751953, 10.056687355041504, 4.986141681671143, 8.913348197937012, -0.2692740857601166, -2.9101693630218506, -14.786250114440918, -1.2336541414260864, 3.887269973754883, -13.851936340332031, 10.552312850952148, -7.138362407684326, 9.899507522583008, 2.305018901824951, -3.203547954559326, 6.444464683532715, -15.672477722167969, -0.6123677492141724, 2.9360053539276123, -4.627233505249023, -0.48849326372146606, 3.7748003005981445, 6.424355506896973, 1.367024302482605, 11.96352481842041, -5.668487071990967, 10.378692626953125, -14.63005256652832, -0.3410492539405823, -13.96762466430664, 2.4198808670043945, -0.11044508218765259, 10.262655258178711, -3.59356427192688, 10.147836685180664, 1.3499627113342285, 5.288577079772949, 5.708540439605713, 9.06609058380127, 1.289712905883789, -14.957255363464355, -1.9960702657699585, 2.9158477783203125, -6.734898090362549, -12.609903335571289, 6.223912715911865, 2.2687370777130127, 7.049867153167725, -14.835095405578613, 3.5380184650421143, 1.7292876243591309, -12.095712661743164, 6.9117865562438965, 9.621920585632324, 5.316944599151611, 10.927895545959473, -4.312439441680908, -4.389509677886963, 7.917326927185059, 5.471767425537109, 6.653909683227539, 2.7901339530944824, -3.68084979057312, -6.039915561676025, -2.103623628616333, 3.9656524658203125, 0.3371582329273224, 3.9110107421875, 12.941701889038086, -7.509998321533203, -6.532118320465088, -5.910751819610596, -1.6604087352752686, 3.732870578765869, -2.079435348510742, 8.530000686645508, -9.44804859161377, -9.443556785583496, 6.942787170410156, -7.970522403717041, -14.933992385864258, 3.029655933380127, -0.03173143416643143, 2.108013391494751, 11.140617370605469, -1.5232230424880981, 8.749682426452637, 3.6898200511932373, 0.35703927278518677, -3.9986398220062256, 4.550809383392334, -3.4581966400146484, -0.8009745478630066, -3.478592872619629, -4.780348300933838, -12.210058212280273, -5.181171417236328, 10.361774444580078, -5.427496433258057, 1.7352725267410278, 5.090828895568848, 12.08641529083252, -10.805265426635742, 5.7979607582092285, 3.1446316242218018, -8.065019607543945, -7.318933010101318, 2.532085418701172, 3.0579216480255127, -1.1097959280014038, 2.2987194061279297, -6.717248916625977, -12.849689483642578, 10.413341522216797, 9.844071388244629, -2.475046157836914, -4.895132064819336, 3.734858751296997, 1.888866901397705, 10.415641784667969, 9.328542709350586, 9.584269523620605, 3.304574728012085, 0.052960194647312164, 4.221272945404053, -8.398544311523438, -1.0556365251541138, 7.295974254608154, 3.9403634071350098, 5.314973831176758, 7.464984893798828, -3.4653518199920654, -3.4748594760894775, -4.781989097595215, 13.127735137939453, 11.623053550720215, 7.467620372772217, 7.730406761169434, -1.0229181051254272, -10.664724349975586, -10.401179313659668, -3.908102035522461, 8.012153625488281, -0.916501522064209, -5.160045623779297, 9.284703254699707, -1.5685666799545288, -3.255427122116089, 2.9999887943267822, 0.7499552369117737, -2.666553020477295, 6.567289352416992, 6.174107551574707, 5.460951328277588, 5.084478378295898, -0.02064305543899536, -4.787225723266602, 9.784428596496582, 5.337599754333496, -0.4053785502910614, -0.2303367704153061, 9.574162483215332, 9.089526176452637, 4.704900741577148, -6.88821268081665, -1.230872392654419, 2.9674429893493652, 8.715291023254395, 2.2897164821624756, 6.586802005767822, 7.420975685119629, -6.998950481414795, 10.841133117675781, -11.195054054260254, 2.8529179096221924, -1.4868916273117065, 5.806243419647217, 8.220427513122559, -1.5960540771484375, -6.826778411865234, -2.457242012023926, 8.360053062438965, 5.969344615936279, 12.498994827270508, 9.89826488494873, -4.416513442993164, -12.392294883728027, -5.0098185539245605, 4.378443241119385, 5.364326477050781, 7.335277080535889, -11.09853458404541, 10.57254409790039, 12.34951114654541, -5.639338493347168, -2.24702787399292, -9.919807434082031, -2.6221764087677, 13.556235313415527, 2.269798994064331, -4.884378433227539, -9.311626434326172, 2.8477468490600586, 10.921806335449219, -11.290568351745605, 0.9716492295265198, -12.139801025390625, 4.148255348205566, -1.807478666305542, -12.439497947692871, -9.08903694152832, 0.5083656907081604, -3.113176107406616, -8.205703735351562, 3.2565603256225586, -14.88544750213623, -8.625521659851074, 2.8420941829681396, -13.649337768554688, 8.1096773147583, -2.1370530128479004, -5.7198567390441895, 9.70634937286377, -0.34781771898269653, -14.360190391540527, -1.0434492826461792, -0.8246465921401978, 6.882913112640381, -11.694127082824707, 6.939913749694824, 2.0435285568237305, 5.114725589752197, -1.6666524410247803, 1.7135636806488037, -8.830195426940918, 9.74057388305664, -12.19829273223877, -2.1782960891723633, 12.149185180664062, 7.686655044555664, 1.7000517845153809, 8.01338005065918, 10.472222328186035, 12.309711456298828, -4.851024150848389, 2.896026134490967, 9.516613960266113, 8.120623588562012, 2.4108190536499023, -6.021334648132324, -10.305729866027832, 12.759925842285156, -10.244691848754883, 2.128058671951294, -2.6183907985687256, 2.3327064514160156, -15.37741470336914, -3.24870228767395, -4.427163124084473, -4.665863990783691, -7.549045085906982, -13.267105102539062, -7.01557731628418, 6.1078596115112305, -2.8152921199798584, 2.1005380153656006, -3.911458730697632, 6.2641777992248535, 5.707026481628418, -1.463897943496704, 0.47432267665863037, -1.873443365097046, -15.234504699707031, -0.720716655254364, 8.564997673034668, -3.4022676944732666, -8.199469566345215, -12.508782386779785, 8.990714073181152, 3.730433225631714, -6.721834659576416, -1.019217610359192, 4.147747039794922, 0.6952290534973145, -0.7793546319007874, 3.5466976165771484, 4.0848388671875, -5.124406337738037, -12.714198112487793, -6.135308265686035, -11.98221492767334, -7.051714897155762, 11.63414192199707, -2.2265000343322754, 12.870211601257324, 0.5672829747200012, 0.221613347530365, 2.9877045154571533, -5.38249397277832, -1.7362593412399292, 7.4729814529418945, -4.056321144104004, -8.983318328857422, 6.240071773529053, -12.050688743591309, 3.412611722946167, 5.597725868225098, 2.3382790088653564, -4.516524791717529, 7.936517715454102, 7.966445446014404, 10.23579216003418, -2.2601823806762695, 3.11102557182312, -4.212591171264648, -6.8712639808654785, 3.4854846000671387, 4.337124824523926, 1.7035630941390991, -10.962621688842773, -0.30828529596328735, 2.7536022663116455, 1.7955207824707031, -1.5131034851074219, 0.8030989766120911, -3.9611997604370117, 6.577963352203369, -9.228559494018555, -6.880681991577148, 3.2725155353546143, -7.2497453689575195, 9.537747383117676, 0.2960425019264221, 9.979830741882324, 5.225398540496826, -8.642108917236328, -6.29658317565918, -0.7794661521911621, -5.141026020050049, -7.427368640899658, -4.959965705871582, 8.033204078674316, -9.65829849243164, 10.124695777893066, 11.684538841247559, 1.493098258972168, -3.6342508792877197, -4.472146511077881, -3.3586649894714355, -10.643340110778809, 10.558053970336914, 8.6121244430542, -0.4792718291282654, 0.1176217645406723, 6.761946678161621, 11.148968696594238, -4.899448871612549, 2.4221627712249756, 6.225160121917725, 6.463436126708984, -7.488131046295166, 4.165629863739014, 0.9991684556007385, -5.51513147354126, -6.328904628753662, -5.538506031036377, -9.600712776184082, -1.8676154613494873, -1.7844089269638062, -8.422318458557129, 13.236879348754883, -5.664268970489502, 6.387425899505615, -5.564268112182617, -6.477097034454346, 9.319116592407227, 3.594223976135254, -6.100851058959961, -3.198054552078247, -4.488828182220459, 1.4705067873001099, 3.218618392944336, 4.458791732788086, 1.176024317741394, 0.5522723197937012, 1.6267073154449463, 0.4403240382671356, 5.751579761505127, 1.6116362810134888, -0.1900082379579544, 4.338990211486816, -11.679194450378418, -8.864066123962402, 12.74431324005127, -12.79791259765625, 2.67354679107666, 1.6566245555877686, -1.0947185754776, 5.9856462478637695, -1.0570216178894043, -13.132829666137695, -3.4935553073883057, 3.2592854499816895, -3.5070481300354004, 5.853736400604248, -5.9071431159973145, 9.444564819335938, -13.024296760559082, 7.291258335113525, 12.771978378295898, -1.8205844163894653, -6.161740779876709, -3.7984001636505127, -12.116145133972168, 2.9276974201202393, -6.54729700088501, 0.645294189453125, 6.639278888702393, 10.084176063537598, 2.697542428970337, -2.6528890132904053, 11.8248291015625, 5.211259365081787, -11.84090805053711, 1.6805328130722046, 4.918067455291748, -6.014587879180908, -8.703960418701172, 0.5996472835540771, 5.146527290344238, 0.3348752558231354, -4.598256587982178, 8.778800964355469, -1.5597600936889648, 10.286724090576172, 6.786855697631836, 11.532561302185059, 2.115968942642212, 3.52974534034729, 0.8733507394790649, 6.814823150634766, -2.5974857807159424, 5.148948669433594, 8.229545593261719, -4.022261619567871, -4.979498863220215, 9.938716888427734, -11.919760704040527, 7.07804012298584, 2.496953248977661, -4.558182239532471, 2.119633436203003, 11.449326515197754, 2.308187246322632, 9.754231452941895, -6.603923320770264, -10.28174114227295, -5.760528564453125, -8.898348808288574, -7.0538506507873535, 1.0846076011657715, -5.559988975524902, -0.9457389712333679, -1.2933884859085083, -1.1982868909835815, -0.9763238430023193, -8.336795806884766, 1.6424857378005981, -0.04874378815293312, -0.597231924533844, -10.950931549072266, 3.5474812984466553, 11.219582557678223, -6.398879528045654, -4.206187725067139, 5.273431301116943, -5.307211399078369, -11.903587341308594, 8.949055671691895, 2.8179054260253906, -3.0381598472595215, 5.915937900543213, -2.4846794605255127, -0.8402048945426941, -1.9943702220916748, 5.979424953460693, 5.221915245056152, -11.338348388671875, 10.98706340789795, 1.3992329835891724, -9.920132637023926, 2.7258222103118896, -1.9348626136779785, -8.36334228515625, -0.20290671288967133, -2.841228723526001, -2.276479959487915, 0.8760687708854675, -9.51176929473877, 6.311079025268555, 6.355692386627197, -0.1968701034784317, -6.491541385650635, -3.0455105304718018, -2.7444446086883545, -1.5836373567581177, -7.373889923095703, 3.4871554374694824, 0.9882721304893494, 1.3032581806182861, -4.6898698806762695, -1.3453700542449951, -2.099388599395752, -2.9629435539245605, -4.515654563903809, -14.335384368896484, -8.821452140808105, 8.063727378845215, -10.98696231842041, 10.975135803222656, 10.063569068908691, 7.223191261291504, -13.57510757446289, 0.4626696705818176, 0.013596568256616592, -6.43218469619751, 8.955881118774414, -9.104308128356934, 0.79056715965271, 6.28023099899292, 12.96849250793457, -0.16471368074417114, 12.751675605773926, 10.91399097442627, -11.694499015808105, 11.30130386352539, -12.434819221496582, 0.6365652084350586, 2.9681458473205566, 5.841628551483154, 11.997578620910645, -0.12846633791923523, 6.449089050292969, 2.7930188179016113, 0.6271287202835083, -1.002328634262085, -0.35201871395111084, -1.2941814661026, 11.932456016540527, 2.8582069873809814, -4.400003433227539, -3.223572254180908, -9.30383586883545, 1.282679557800293, -2.86987566947937, -0.5615054965019226, -1.2696473598480225, -6.809132099151611, 0.7439799904823303, -6.089010238647461, -1.1237174272537231, 10.84240436553955, 7.61343240737915, 6.0767340660095215, -14.633634567260742, -1.9871591329574585, 6.279356479644775, 0.45239004492759705, 3.482877016067505, 1.573617935180664, 8.773239135742188, -14.561074256896973, 10.332707405090332, 3.7961487770080566, 2.180568218231201, -3.5842323303222656, 7.660851001739502, -11.771984100341797, -3.834003448486328, -1.095147728919983, -4.990428924560547, 3.0599045753479004, -14.767293930053711, 3.680764675140381, -8.192492485046387, -2.707805633544922, -3.949467182159424, -7.316115856170654, -15.15782642364502, -2.01361346244812, 3.5906565189361572, 3.3026294708251953, 11.949990272521973, -3.753499746322632, -0.5107976794242859, -1.0355756282806396, -6.344956874847412, 1.693373441696167, -1.3746495246887207, -6.6736626625061035, -4.761137962341309, -14.787581443786621, -5.005353927612305, -9.489624977111816, -13.417686462402344, -7.202107906341553, 3.2419252395629883, -2.033653736114502, 2.0371270179748535, -3.5325124263763428, 6.79557991027832, 11.464461326599121, -2.8947625160217285, 4.56120491027832, -2.212808847427368, -4.327793598175049, 0.8523082733154297, -1.5835977792739868, -4.534735679626465, 2.563511371612549, -2.2913424968719482, 0.43257936835289, 4.625905990600586, 0.9581804871559143, -2.8045270442962646, -1.0708101987838745, -5.985986709594727, -2.936598539352417, -0.30813872814178467, 6.767953395843506, -3.1411197185516357, 3.8640291690826416, -2.623410701751709, 14.376937866210938, -1.1414880752563477, -5.278519630432129, -2.754185676574707, -8.863069534301758, 4.583540439605713, 8.062814712524414, -4.440903186798096, 9.856348037719727, 6.783059597015381, 9.470383644104004, 1.8575555086135864, 2.0047967433929443, -12.675037384033203, -3.961709499359131, -4.759636402130127, 3.5963573455810547, -4.750184059143066, -7.096975803375244, -5.237837791442871, -0.43954309821128845, 4.904453754425049, 0.7232344150543213, -5.370763301849365, -12.299934387207031, -8.818937301635742, -11.650626182556152, 3.6224000453948975, -9.030987739562988, -1.2161946296691895, 2.255281448364258, 11.262484550476074, 0.24316354095935822, 4.320479393005371, 4.845629692077637, 0.16937056183815002, 6.1242146492004395, -8.37736701965332, -3.6283278465270996, -13.527528762817383, -6.141630172729492, 6.343357563018799, -11.495519638061523, 0.5163580179214478, 6.366451263427734, 6.630604267120361, 5.036849498748779, 0.3048698902130127, -6.636417865753174, -12.622296333312988, 2.675419330596924, 5.546403884887695, -3.3419387340545654, -6.2623443603515625, -4.229543685913086, -4.188716411590576, 8.43848705291748, 1.7952402830123901, 4.730484485626221, -5.037456035614014, 9.700935363769531, 2.326132297515869, 3.815002679824829, 5.013939380645752, -12.410072326660156, 3.9940357208251953, 7.117187976837158, -8.568382263183594, -6.400707721710205, -10.286920547485352, 5.820920467376709, -11.93945598602295, 7.943240642547607, -7.230638027191162, -10.604780197143555, -1.0381507873535156, -1.2985981702804565, -2.2531535625457764, -2.3421471118927, -7.289048671722412, -3.2255003452301025, -0.5093005299568176, 5.556713581085205, 10.745386123657227, 3.382138967514038, 3.201296806335449, -8.116604804992676, -3.426023006439209, 4.960025310516357, 12.568723678588867, -5.580390930175781, -7.2427897453308105, -4.532469749450684, 0.5158526301383972, 11.61475658416748, 4.474105358123779, -13.95446491241455, -1.324386477470398, 1.6297110319137573, 9.467283248901367, 6.219666481018066, 0.10094210505485535, -7.377662181854248, 1.866662859916687, -6.602733135223389, -3.965111255645752, 2.898244619369507, -12.371955871582031, 1.5442900657653809, 10.15588092803955, 9.965810775756836, -6.155816078186035, 6.323938846588135, -3.0848639011383057, -6.567260265350342, -3.9683852195739746, -2.2541348934173584, 13.461169242858887, -5.618592262268066, 2.262434720993042, 1.319298505783081, -6.326591491699219, -5.579575538635254, -10.13888931274414, -2.360944986343384, -0.8876096606254578, -4.200577735900879, -11.859663963317871, -6.4478325843811035, 2.3606503009796143, 9.696761131286621, -0.4942239820957184, -4.748865604400635, -9.47988510131836]}],\n",
       "                        {\"coloraxis\": {\"colorbar\": {\"title\": {\"text\": \"Label\"}}, \"colorscale\": [[0.0, \"#0d0887\"], [0.1111111111111111, \"#46039f\"], [0.2222222222222222, \"#7201a8\"], [0.3333333333333333, \"#9c179e\"], [0.4444444444444444, \"#bd3786\"], [0.5555555555555556, \"#d8576b\"], [0.6666666666666666, \"#ed7953\"], [0.7777777777777778, \"#fb9f3a\"], [0.8888888888888888, \"#fdca26\"], [1.0, \"#f0f921\"]]}, \"height\": 800, \"legend\": {\"tracegroupgap\": 0}, \"scene\": {\"domain\": {\"x\": [0.0, 1.0], \"y\": [0.0, 1.0]}, \"xaxis\": {\"title\": {\"text\": \"0\"}}, \"yaxis\": {\"title\": {\"text\": \"1\"}}, \"zaxis\": {\"title\": {\"text\": \"2\"}}}, \"template\": {\"data\": {\"bar\": [{\"error_x\": {\"color\": \"#2a3f5f\"}, \"error_y\": {\"color\": \"#2a3f5f\"}, \"marker\": {\"line\": {\"color\": \"#E5ECF6\", \"width\": 0.5}}, \"type\": \"bar\"}], \"barpolar\": [{\"marker\": {\"line\": {\"color\": \"#E5ECF6\", \"width\": 0.5}}, \"type\": \"barpolar\"}], \"carpet\": [{\"aaxis\": {\"endlinecolor\": \"#2a3f5f\", \"gridcolor\": \"white\", \"linecolor\": \"white\", \"minorgridcolor\": \"white\", \"startlinecolor\": \"#2a3f5f\"}, \"baxis\": {\"endlinecolor\": \"#2a3f5f\", \"gridcolor\": \"white\", \"linecolor\": \"white\", \"minorgridcolor\": \"white\", \"startlinecolor\": \"#2a3f5f\"}, \"type\": \"carpet\"}], \"choropleth\": [{\"colorbar\": {\"outlinewidth\": 0, \"ticks\": \"\"}, \"type\": \"choropleth\"}], \"contour\": [{\"colorbar\": {\"outlinewidth\": 0, \"ticks\": \"\"}, \"colorscale\": [[0.0, \"#0d0887\"], [0.1111111111111111, \"#46039f\"], [0.2222222222222222, \"#7201a8\"], [0.3333333333333333, \"#9c179e\"], [0.4444444444444444, \"#bd3786\"], [0.5555555555555556, \"#d8576b\"], [0.6666666666666666, \"#ed7953\"], [0.7777777777777778, \"#fb9f3a\"], [0.8888888888888888, \"#fdca26\"], [1.0, \"#f0f921\"]], \"type\": \"contour\"}], \"contourcarpet\": [{\"colorbar\": {\"outlinewidth\": 0, \"ticks\": \"\"}, \"type\": \"contourcarpet\"}], \"heatmap\": [{\"colorbar\": {\"outlinewidth\": 0, \"ticks\": \"\"}, \"colorscale\": [[0.0, \"#0d0887\"], [0.1111111111111111, \"#46039f\"], [0.2222222222222222, \"#7201a8\"], [0.3333333333333333, \"#9c179e\"], [0.4444444444444444, \"#bd3786\"], [0.5555555555555556, \"#d8576b\"], [0.6666666666666666, \"#ed7953\"], [0.7777777777777778, \"#fb9f3a\"], [0.8888888888888888, \"#fdca26\"], [1.0, \"#f0f921\"]], \"type\": \"heatmap\"}], \"heatmapgl\": [{\"colorbar\": {\"outlinewidth\": 0, \"ticks\": \"\"}, \"colorscale\": [[0.0, \"#0d0887\"], [0.1111111111111111, \"#46039f\"], [0.2222222222222222, \"#7201a8\"], [0.3333333333333333, \"#9c179e\"], [0.4444444444444444, \"#bd3786\"], [0.5555555555555556, \"#d8576b\"], [0.6666666666666666, \"#ed7953\"], [0.7777777777777778, \"#fb9f3a\"], [0.8888888888888888, \"#fdca26\"], [1.0, \"#f0f921\"]], \"type\": \"heatmapgl\"}], \"histogram\": [{\"marker\": {\"colorbar\": {\"outlinewidth\": 0, \"ticks\": \"\"}}, \"type\": \"histogram\"}], \"histogram2d\": [{\"colorbar\": {\"outlinewidth\": 0, \"ticks\": \"\"}, \"colorscale\": [[0.0, \"#0d0887\"], [0.1111111111111111, \"#46039f\"], [0.2222222222222222, \"#7201a8\"], [0.3333333333333333, \"#9c179e\"], [0.4444444444444444, \"#bd3786\"], [0.5555555555555556, \"#d8576b\"], [0.6666666666666666, \"#ed7953\"], [0.7777777777777778, \"#fb9f3a\"], [0.8888888888888888, \"#fdca26\"], [1.0, \"#f0f921\"]], \"type\": \"histogram2d\"}], \"histogram2dcontour\": [{\"colorbar\": {\"outlinewidth\": 0, \"ticks\": \"\"}, \"colorscale\": [[0.0, \"#0d0887\"], [0.1111111111111111, \"#46039f\"], [0.2222222222222222, \"#7201a8\"], [0.3333333333333333, \"#9c179e\"], [0.4444444444444444, \"#bd3786\"], [0.5555555555555556, \"#d8576b\"], [0.6666666666666666, \"#ed7953\"], [0.7777777777777778, \"#fb9f3a\"], [0.8888888888888888, \"#fdca26\"], [1.0, \"#f0f921\"]], \"type\": \"histogram2dcontour\"}], \"mesh3d\": [{\"colorbar\": {\"outlinewidth\": 0, \"ticks\": \"\"}, \"type\": \"mesh3d\"}], \"parcoords\": [{\"line\": {\"colorbar\": {\"outlinewidth\": 0, \"ticks\": \"\"}}, \"type\": \"parcoords\"}], \"pie\": [{\"automargin\": true, \"type\": \"pie\"}], \"scatter\": [{\"marker\": {\"colorbar\": {\"outlinewidth\": 0, \"ticks\": \"\"}}, \"type\": \"scatter\"}], \"scatter3d\": [{\"line\": {\"colorbar\": {\"outlinewidth\": 0, \"ticks\": \"\"}}, \"marker\": {\"colorbar\": {\"outlinewidth\": 0, \"ticks\": \"\"}}, \"type\": \"scatter3d\"}], \"scattercarpet\": [{\"marker\": {\"colorbar\": {\"outlinewidth\": 0, \"ticks\": \"\"}}, \"type\": \"scattercarpet\"}], \"scattergeo\": [{\"marker\": {\"colorbar\": {\"outlinewidth\": 0, \"ticks\": \"\"}}, \"type\": \"scattergeo\"}], \"scattergl\": [{\"marker\": {\"colorbar\": {\"outlinewidth\": 0, \"ticks\": \"\"}}, \"type\": \"scattergl\"}], \"scattermapbox\": [{\"marker\": {\"colorbar\": {\"outlinewidth\": 0, \"ticks\": \"\"}}, \"type\": \"scattermapbox\"}], \"scatterpolar\": [{\"marker\": {\"colorbar\": {\"outlinewidth\": 0, \"ticks\": \"\"}}, \"type\": \"scatterpolar\"}], \"scatterpolargl\": [{\"marker\": {\"colorbar\": {\"outlinewidth\": 0, \"ticks\": \"\"}}, \"type\": \"scatterpolargl\"}], \"scatterternary\": [{\"marker\": {\"colorbar\": {\"outlinewidth\": 0, \"ticks\": \"\"}}, \"type\": \"scatterternary\"}], \"surface\": [{\"colorbar\": {\"outlinewidth\": 0, \"ticks\": \"\"}, \"colorscale\": [[0.0, \"#0d0887\"], [0.1111111111111111, \"#46039f\"], [0.2222222222222222, \"#7201a8\"], [0.3333333333333333, \"#9c179e\"], [0.4444444444444444, \"#bd3786\"], [0.5555555555555556, \"#d8576b\"], [0.6666666666666666, \"#ed7953\"], [0.7777777777777778, \"#fb9f3a\"], [0.8888888888888888, \"#fdca26\"], [1.0, \"#f0f921\"]], \"type\": \"surface\"}], \"table\": [{\"cells\": {\"fill\": {\"color\": \"#EBF0F8\"}, \"line\": {\"color\": \"white\"}}, \"header\": {\"fill\": {\"color\": \"#C8D4E3\"}, \"line\": {\"color\": \"white\"}}, \"type\": \"table\"}]}, \"layout\": {\"annotationdefaults\": {\"arrowcolor\": \"#2a3f5f\", \"arrowhead\": 0, \"arrowwidth\": 1}, \"coloraxis\": {\"colorbar\": {\"outlinewidth\": 0, \"ticks\": \"\"}}, \"colorscale\": {\"diverging\": [[0, \"#8e0152\"], [0.1, \"#c51b7d\"], [0.2, \"#de77ae\"], [0.3, \"#f1b6da\"], [0.4, \"#fde0ef\"], [0.5, \"#f7f7f7\"], [0.6, \"#e6f5d0\"], [0.7, \"#b8e186\"], [0.8, \"#7fbc41\"], [0.9, \"#4d9221\"], [1, \"#276419\"]], \"sequential\": [[0.0, \"#0d0887\"], [0.1111111111111111, \"#46039f\"], [0.2222222222222222, \"#7201a8\"], [0.3333333333333333, \"#9c179e\"], [0.4444444444444444, \"#bd3786\"], [0.5555555555555556, \"#d8576b\"], [0.6666666666666666, \"#ed7953\"], [0.7777777777777778, \"#fb9f3a\"], [0.8888888888888888, \"#fdca26\"], [1.0, \"#f0f921\"]], \"sequentialminus\": [[0.0, \"#0d0887\"], [0.1111111111111111, \"#46039f\"], [0.2222222222222222, \"#7201a8\"], [0.3333333333333333, \"#9c179e\"], [0.4444444444444444, \"#bd3786\"], [0.5555555555555556, \"#d8576b\"], [0.6666666666666666, \"#ed7953\"], [0.7777777777777778, \"#fb9f3a\"], [0.8888888888888888, \"#fdca26\"], [1.0, \"#f0f921\"]]}, \"colorway\": [\"#636efa\", \"#EF553B\", \"#00cc96\", \"#ab63fa\", \"#FFA15A\", \"#19d3f3\", \"#FF6692\", \"#B6E880\", \"#FF97FF\", \"#FECB52\"], \"font\": {\"color\": \"#2a3f5f\"}, \"geo\": {\"bgcolor\": \"white\", \"lakecolor\": \"white\", \"landcolor\": \"#E5ECF6\", \"showlakes\": true, \"showland\": true, \"subunitcolor\": \"white\"}, \"hoverlabel\": {\"align\": \"left\"}, \"hovermode\": \"closest\", \"mapbox\": {\"style\": \"light\"}, \"paper_bgcolor\": \"white\", \"plot_bgcolor\": \"#E5ECF6\", \"polar\": {\"angularaxis\": {\"gridcolor\": \"white\", \"linecolor\": \"white\", \"ticks\": \"\"}, \"bgcolor\": \"#E5ECF6\", \"radialaxis\": {\"gridcolor\": \"white\", \"linecolor\": \"white\", \"ticks\": \"\"}}, \"scene\": {\"xaxis\": {\"backgroundcolor\": \"#E5ECF6\", \"gridcolor\": \"white\", \"gridwidth\": 2, \"linecolor\": \"white\", \"showbackground\": true, \"ticks\": \"\", \"zerolinecolor\": \"white\"}, \"yaxis\": {\"backgroundcolor\": \"#E5ECF6\", \"gridcolor\": \"white\", \"gridwidth\": 2, \"linecolor\": \"white\", \"showbackground\": true, \"ticks\": \"\", \"zerolinecolor\": \"white\"}, \"zaxis\": {\"backgroundcolor\": \"#E5ECF6\", \"gridcolor\": \"white\", \"gridwidth\": 2, \"linecolor\": \"white\", \"showbackground\": true, \"ticks\": \"\", \"zerolinecolor\": \"white\"}}, \"shapedefaults\": {\"line\": {\"color\": \"#2a3f5f\"}}, \"ternary\": {\"aaxis\": {\"gridcolor\": \"white\", \"linecolor\": \"white\", \"ticks\": \"\"}, \"baxis\": {\"gridcolor\": \"white\", \"linecolor\": \"white\", \"ticks\": \"\"}, \"bgcolor\": \"#E5ECF6\", \"caxis\": {\"gridcolor\": \"white\", \"linecolor\": \"white\", \"ticks\": \"\"}}, \"title\": {\"x\": 0.05}, \"xaxis\": {\"automargin\": true, \"gridcolor\": \"white\", \"linecolor\": \"white\", \"ticks\": \"\", \"title\": {\"standoff\": 15}, \"zerolinecolor\": \"white\", \"zerolinewidth\": 2}, \"yaxis\": {\"automargin\": true, \"gridcolor\": \"white\", \"linecolor\": \"white\", \"ticks\": \"\", \"title\": {\"standoff\": 15}, \"zerolinecolor\": \"white\", \"zerolinewidth\": 2}}}, \"title\": {\"text\": \"3d TSNE Plot for Outliers\"}, \"width\": 900},\n",
       "                        {\"responsive\": true}\n",
       "                    ).then(function(){\n",
       "                            \n",
       "var gd = document.getElementById('6b444c13-bbd6-4133-a6f9-6bc74c5f2ec7');\n",
       "var x = new MutationObserver(function (mutations, observer) {{\n",
       "        var display = window.getComputedStyle(gd).display;\n",
       "        if (!display || display === 'none') {{\n",
       "            console.log([gd, 'removed!']);\n",
       "            Plotly.purge(gd);\n",
       "            observer.disconnect();\n",
       "        }}\n",
       "}});\n",
       "\n",
       "// Listen for the removal of the full notebook cells\n",
       "var notebookContainer = gd.closest('#notebook-container');\n",
       "if (notebookContainer) {{\n",
       "    x.observe(notebookContainer, {childList: true});\n",
       "}}\n",
       "\n",
       "// Listen for the clearing of the current output cell\n",
       "var outputEl = gd.closest('.output');\n",
       "if (outputEl) {{\n",
       "    x.observe(outputEl, {childList: true});\n",
       "}}\n",
       "\n",
       "                        })\n",
       "                };\n",
       "                });\n",
       "            </script>\n",
       "        </div>"
      ]
     },
     "metadata": {},
     "output_type": "display_data"
    },
    {
     "data": {
      "application/javascript": [
       "\n",
       "            setTimeout(function() {\n",
       "                var nbb_cell_id = 3;\n",
       "                var nbb_unformatted_code = \"# instantiating isolation forest model\\niforest = create_model(\\\"iforest\\\")\\n\\n# plotting the data using iforest\\nplot_model(iforest)\";\n",
       "                var nbb_formatted_code = \"# instantiating isolation forest model\\niforest = create_model(\\\"iforest\\\")\\n\\n# plotting the data using iforest\\nplot_model(iforest)\";\n",
       "                var nbb_cells = Jupyter.notebook.get_cells();\n",
       "                for (var i = 0; i < nbb_cells.length; ++i) {\n",
       "                    if (nbb_cells[i].input_prompt_number == nbb_cell_id) {\n",
       "                        if (nbb_cells[i].get_text() == nbb_unformatted_code) {\n",
       "                             nbb_cells[i].set_text(nbb_formatted_code);\n",
       "                        }\n",
       "                        break;\n",
       "                    }\n",
       "                }\n",
       "            }, 500);\n",
       "            "
      ],
      "text/plain": [
       "<IPython.core.display.Javascript object>"
      ]
     },
     "metadata": {},
     "output_type": "display_data"
    }
   ],
   "source": [
    "# instantiating isolation forest model\n",
    "iforest = create_model(\"iforest\")\n",
    "\n",
    "# plotting the data using iforest\n",
    "plot_model(iforest)"
   ]
  },
  {
   "cell_type": "markdown",
   "metadata": {},
   "source": [
    "The Yellow Points are the Anomaly Points based on the Isolation Forest Anomaly Detection Technique. "
   ]
  },
  {
   "cell_type": "code",
   "execution_count": 4,
   "metadata": {},
   "outputs": [
    {
     "data": {
      "text/html": [
       "<div>\n",
       "<style scoped>\n",
       "    .dataframe tbody tr th:only-of-type {\n",
       "        vertical-align: middle;\n",
       "    }\n",
       "\n",
       "    .dataframe tbody tr th {\n",
       "        vertical-align: top;\n",
       "    }\n",
       "\n",
       "    .dataframe thead th {\n",
       "        text-align: right;\n",
       "    }\n",
       "</style>\n",
       "<table border=\"1\" class=\"dataframe\">\n",
       "  <thead>\n",
       "    <tr style=\"text-align: right;\">\n",
       "      <th></th>\n",
       "      <th>Col1</th>\n",
       "      <th>Col2</th>\n",
       "      <th>Col3</th>\n",
       "      <th>Col4</th>\n",
       "      <th>Col5</th>\n",
       "      <th>Col6</th>\n",
       "      <th>Col7</th>\n",
       "      <th>Col8</th>\n",
       "      <th>Col9</th>\n",
       "      <th>Col10</th>\n",
       "      <th>Label</th>\n",
       "      <th>Score</th>\n",
       "    </tr>\n",
       "  </thead>\n",
       "  <tbody>\n",
       "    <tr>\n",
       "      <th>0</th>\n",
       "      <td>0.263995</td>\n",
       "      <td>0.764929</td>\n",
       "      <td>0.138424</td>\n",
       "      <td>0.935242</td>\n",
       "      <td>0.605867</td>\n",
       "      <td>0.518790</td>\n",
       "      <td>0.912225</td>\n",
       "      <td>0.608234</td>\n",
       "      <td>0.723782</td>\n",
       "      <td>0.733591</td>\n",
       "      <td>0</td>\n",
       "      <td>-0.008878</td>\n",
       "    </tr>\n",
       "    <tr>\n",
       "      <th>1</th>\n",
       "      <td>0.546092</td>\n",
       "      <td>0.653975</td>\n",
       "      <td>0.065575</td>\n",
       "      <td>0.227772</td>\n",
       "      <td>0.845269</td>\n",
       "      <td>0.837066</td>\n",
       "      <td>0.272379</td>\n",
       "      <td>0.331679</td>\n",
       "      <td>0.429297</td>\n",
       "      <td>0.367422</td>\n",
       "      <td>0</td>\n",
       "      <td>-0.090048</td>\n",
       "    </tr>\n",
       "    <tr>\n",
       "      <th>2</th>\n",
       "      <td>0.336714</td>\n",
       "      <td>0.538842</td>\n",
       "      <td>0.192801</td>\n",
       "      <td>0.553563</td>\n",
       "      <td>0.074515</td>\n",
       "      <td>0.332993</td>\n",
       "      <td>0.365792</td>\n",
       "      <td>0.861309</td>\n",
       "      <td>0.899017</td>\n",
       "      <td>0.088600</td>\n",
       "      <td>1</td>\n",
       "      <td>0.020074</td>\n",
       "    </tr>\n",
       "    <tr>\n",
       "      <th>3</th>\n",
       "      <td>0.092108</td>\n",
       "      <td>0.995017</td>\n",
       "      <td>0.014465</td>\n",
       "      <td>0.176371</td>\n",
       "      <td>0.241530</td>\n",
       "      <td>0.514724</td>\n",
       "      <td>0.562208</td>\n",
       "      <td>0.158963</td>\n",
       "      <td>0.073715</td>\n",
       "      <td>0.208463</td>\n",
       "      <td>1</td>\n",
       "      <td>0.052444</td>\n",
       "    </tr>\n",
       "    <tr>\n",
       "      <th>4</th>\n",
       "      <td>0.325261</td>\n",
       "      <td>0.805968</td>\n",
       "      <td>0.957033</td>\n",
       "      <td>0.331665</td>\n",
       "      <td>0.307923</td>\n",
       "      <td>0.355315</td>\n",
       "      <td>0.501899</td>\n",
       "      <td>0.558449</td>\n",
       "      <td>0.885169</td>\n",
       "      <td>0.182754</td>\n",
       "      <td>0</td>\n",
       "      <td>-0.009821</td>\n",
       "    </tr>\n",
       "    <tr>\n",
       "      <th>...</th>\n",
       "      <td>...</td>\n",
       "      <td>...</td>\n",
       "      <td>...</td>\n",
       "      <td>...</td>\n",
       "      <td>...</td>\n",
       "      <td>...</td>\n",
       "      <td>...</td>\n",
       "      <td>...</td>\n",
       "      <td>...</td>\n",
       "      <td>...</td>\n",
       "      <td>...</td>\n",
       "      <td>...</td>\n",
       "    </tr>\n",
       "    <tr>\n",
       "      <th>995</th>\n",
       "      <td>0.305055</td>\n",
       "      <td>0.656837</td>\n",
       "      <td>0.331665</td>\n",
       "      <td>0.822525</td>\n",
       "      <td>0.907127</td>\n",
       "      <td>0.882276</td>\n",
       "      <td>0.855732</td>\n",
       "      <td>0.584786</td>\n",
       "      <td>0.808640</td>\n",
       "      <td>0.242762</td>\n",
       "      <td>0</td>\n",
       "      <td>-0.092157</td>\n",
       "    </tr>\n",
       "    <tr>\n",
       "      <th>996</th>\n",
       "      <td>0.812627</td>\n",
       "      <td>0.864258</td>\n",
       "      <td>0.616604</td>\n",
       "      <td>0.167966</td>\n",
       "      <td>0.811223</td>\n",
       "      <td>0.938071</td>\n",
       "      <td>0.418462</td>\n",
       "      <td>0.472306</td>\n",
       "      <td>0.348347</td>\n",
       "      <td>0.671129</td>\n",
       "      <td>0</td>\n",
       "      <td>-0.061490</td>\n",
       "    </tr>\n",
       "    <tr>\n",
       "      <th>997</th>\n",
       "      <td>0.250967</td>\n",
       "      <td>0.138627</td>\n",
       "      <td>0.919703</td>\n",
       "      <td>0.461234</td>\n",
       "      <td>0.886555</td>\n",
       "      <td>0.869888</td>\n",
       "      <td>0.800908</td>\n",
       "      <td>0.530324</td>\n",
       "      <td>0.779433</td>\n",
       "      <td>0.234952</td>\n",
       "      <td>0</td>\n",
       "      <td>-0.058906</td>\n",
       "    </tr>\n",
       "    <tr>\n",
       "      <th>998</th>\n",
       "      <td>0.502436</td>\n",
       "      <td>0.936820</td>\n",
       "      <td>0.580062</td>\n",
       "      <td>0.540773</td>\n",
       "      <td>0.151995</td>\n",
       "      <td>0.059452</td>\n",
       "      <td>0.225220</td>\n",
       "      <td>0.242755</td>\n",
       "      <td>0.279385</td>\n",
       "      <td>0.538755</td>\n",
       "      <td>0</td>\n",
       "      <td>-0.070314</td>\n",
       "    </tr>\n",
       "    <tr>\n",
       "      <th>999</th>\n",
       "      <td>0.457991</td>\n",
       "      <td>0.017755</td>\n",
       "      <td>0.714113</td>\n",
       "      <td>0.125992</td>\n",
       "      <td>0.063316</td>\n",
       "      <td>0.154739</td>\n",
       "      <td>0.922974</td>\n",
       "      <td>0.692299</td>\n",
       "      <td>0.816777</td>\n",
       "      <td>0.307592</td>\n",
       "      <td>0</td>\n",
       "      <td>-0.016310</td>\n",
       "    </tr>\n",
       "  </tbody>\n",
       "</table>\n",
       "<p>1000 rows × 12 columns</p>\n",
       "</div>"
      ],
      "text/plain": [
       "         Col1      Col2      Col3      Col4      Col5      Col6      Col7  \\\n",
       "0    0.263995  0.764929  0.138424  0.935242  0.605867  0.518790  0.912225   \n",
       "1    0.546092  0.653975  0.065575  0.227772  0.845269  0.837066  0.272379   \n",
       "2    0.336714  0.538842  0.192801  0.553563  0.074515  0.332993  0.365792   \n",
       "3    0.092108  0.995017  0.014465  0.176371  0.241530  0.514724  0.562208   \n",
       "4    0.325261  0.805968  0.957033  0.331665  0.307923  0.355315  0.501899   \n",
       "..        ...       ...       ...       ...       ...       ...       ...   \n",
       "995  0.305055  0.656837  0.331665  0.822525  0.907127  0.882276  0.855732   \n",
       "996  0.812627  0.864258  0.616604  0.167966  0.811223  0.938071  0.418462   \n",
       "997  0.250967  0.138627  0.919703  0.461234  0.886555  0.869888  0.800908   \n",
       "998  0.502436  0.936820  0.580062  0.540773  0.151995  0.059452  0.225220   \n",
       "999  0.457991  0.017755  0.714113  0.125992  0.063316  0.154739  0.922974   \n",
       "\n",
       "         Col8      Col9     Col10  Label     Score  \n",
       "0    0.608234  0.723782  0.733591      0 -0.008878  \n",
       "1    0.331679  0.429297  0.367422      0 -0.090048  \n",
       "2    0.861309  0.899017  0.088600      1  0.020074  \n",
       "3    0.158963  0.073715  0.208463      1  0.052444  \n",
       "4    0.558449  0.885169  0.182754      0 -0.009821  \n",
       "..        ...       ...       ...    ...       ...  \n",
       "995  0.584786  0.808640  0.242762      0 -0.092157  \n",
       "996  0.472306  0.348347  0.671129      0 -0.061490  \n",
       "997  0.530324  0.779433  0.234952      0 -0.058906  \n",
       "998  0.242755  0.279385  0.538755      0 -0.070314  \n",
       "999  0.692299  0.816777  0.307592      0 -0.016310  \n",
       "\n",
       "[1000 rows x 12 columns]"
      ]
     },
     "execution_count": 4,
     "metadata": {},
     "output_type": "execute_result"
    },
    {
     "data": {
      "application/javascript": [
       "\n",
       "            setTimeout(function() {\n",
       "                var nbb_cell_id = 4;\n",
       "                var nbb_unformatted_code = \"# generating the predictions using Isolation Forest trained model\\niforest_predictions = predict_model(iforest, data = anomaly)\\niforest_predictions\";\n",
       "                var nbb_formatted_code = \"# generating the predictions using Isolation Forest trained model\\niforest_predictions = predict_model(iforest, data=anomaly)\\niforest_predictions\";\n",
       "                var nbb_cells = Jupyter.notebook.get_cells();\n",
       "                for (var i = 0; i < nbb_cells.length; ++i) {\n",
       "                    if (nbb_cells[i].input_prompt_number == nbb_cell_id) {\n",
       "                        if (nbb_cells[i].get_text() == nbb_unformatted_code) {\n",
       "                             nbb_cells[i].set_text(nbb_formatted_code);\n",
       "                        }\n",
       "                        break;\n",
       "                    }\n",
       "                }\n",
       "            }, 500);\n",
       "            "
      ],
      "text/plain": [
       "<IPython.core.display.Javascript object>"
      ]
     },
     "metadata": {},
     "output_type": "display_data"
    }
   ],
   "source": [
    "# generating the predictions using Isolation Forest trained model\n",
    "iforest_predictions = predict_model(iforest, data=anomaly)\n",
    "iforest_predictions"
   ]
  },
  {
   "cell_type": "code",
   "execution_count": 5,
   "metadata": {},
   "outputs": [
    {
     "data": {
      "text/html": [
       "<div>\n",
       "<style scoped>\n",
       "    .dataframe tbody tr th:only-of-type {\n",
       "        vertical-align: middle;\n",
       "    }\n",
       "\n",
       "    .dataframe tbody tr th {\n",
       "        vertical-align: top;\n",
       "    }\n",
       "\n",
       "    .dataframe thead th {\n",
       "        text-align: right;\n",
       "    }\n",
       "</style>\n",
       "<table border=\"1\" class=\"dataframe\">\n",
       "  <thead>\n",
       "    <tr style=\"text-align: right;\">\n",
       "      <th></th>\n",
       "      <th>Col1</th>\n",
       "      <th>Col2</th>\n",
       "      <th>Col3</th>\n",
       "      <th>Col4</th>\n",
       "      <th>Col5</th>\n",
       "      <th>Col6</th>\n",
       "      <th>Col7</th>\n",
       "      <th>Col8</th>\n",
       "      <th>Col9</th>\n",
       "      <th>Col10</th>\n",
       "      <th>Label</th>\n",
       "      <th>Score</th>\n",
       "    </tr>\n",
       "  </thead>\n",
       "  <tbody>\n",
       "    <tr>\n",
       "      <th>2</th>\n",
       "      <td>0.336714</td>\n",
       "      <td>0.538842</td>\n",
       "      <td>0.192801</td>\n",
       "      <td>0.553563</td>\n",
       "      <td>0.074515</td>\n",
       "      <td>0.332993</td>\n",
       "      <td>0.365792</td>\n",
       "      <td>0.861309</td>\n",
       "      <td>0.899017</td>\n",
       "      <td>0.088600</td>\n",
       "      <td>1</td>\n",
       "      <td>0.020074</td>\n",
       "    </tr>\n",
       "    <tr>\n",
       "      <th>3</th>\n",
       "      <td>0.092108</td>\n",
       "      <td>0.995017</td>\n",
       "      <td>0.014465</td>\n",
       "      <td>0.176371</td>\n",
       "      <td>0.241530</td>\n",
       "      <td>0.514724</td>\n",
       "      <td>0.562208</td>\n",
       "      <td>0.158963</td>\n",
       "      <td>0.073715</td>\n",
       "      <td>0.208463</td>\n",
       "      <td>1</td>\n",
       "      <td>0.052444</td>\n",
       "    </tr>\n",
       "    <tr>\n",
       "      <th>7</th>\n",
       "      <td>0.869237</td>\n",
       "      <td>0.277979</td>\n",
       "      <td>0.423076</td>\n",
       "      <td>0.112472</td>\n",
       "      <td>0.183727</td>\n",
       "      <td>0.034960</td>\n",
       "      <td>0.111114</td>\n",
       "      <td>0.249330</td>\n",
       "      <td>0.550683</td>\n",
       "      <td>0.049843</td>\n",
       "      <td>1</td>\n",
       "      <td>0.000729</td>\n",
       "    </tr>\n",
       "    <tr>\n",
       "      <th>8</th>\n",
       "      <td>0.197078</td>\n",
       "      <td>0.843918</td>\n",
       "      <td>0.243396</td>\n",
       "      <td>0.281278</td>\n",
       "      <td>0.329148</td>\n",
       "      <td>0.734582</td>\n",
       "      <td>0.191947</td>\n",
       "      <td>0.927804</td>\n",
       "      <td>0.713269</td>\n",
       "      <td>0.891548</td>\n",
       "      <td>1</td>\n",
       "      <td>0.029923</td>\n",
       "    </tr>\n",
       "    <tr>\n",
       "      <th>11</th>\n",
       "      <td>0.796623</td>\n",
       "      <td>0.230543</td>\n",
       "      <td>0.993018</td>\n",
       "      <td>0.077075</td>\n",
       "      <td>0.094068</td>\n",
       "      <td>0.718628</td>\n",
       "      <td>0.977611</td>\n",
       "      <td>0.333386</td>\n",
       "      <td>0.634843</td>\n",
       "      <td>0.028729</td>\n",
       "      <td>1</td>\n",
       "      <td>0.073048</td>\n",
       "    </tr>\n",
       "  </tbody>\n",
       "</table>\n",
       "</div>"
      ],
      "text/plain": [
       "        Col1      Col2      Col3      Col4      Col5      Col6      Col7  \\\n",
       "2   0.336714  0.538842  0.192801  0.553563  0.074515  0.332993  0.365792   \n",
       "3   0.092108  0.995017  0.014465  0.176371  0.241530  0.514724  0.562208   \n",
       "7   0.869237  0.277979  0.423076  0.112472  0.183727  0.034960  0.111114   \n",
       "8   0.197078  0.843918  0.243396  0.281278  0.329148  0.734582  0.191947   \n",
       "11  0.796623  0.230543  0.993018  0.077075  0.094068  0.718628  0.977611   \n",
       "\n",
       "        Col8      Col9     Col10  Label     Score  \n",
       "2   0.861309  0.899017  0.088600      1  0.020074  \n",
       "3   0.158963  0.073715  0.208463      1  0.052444  \n",
       "7   0.249330  0.550683  0.049843      1  0.000729  \n",
       "8   0.927804  0.713269  0.891548      1  0.029923  \n",
       "11  0.333386  0.634843  0.028729      1  0.073048  "
      ]
     },
     "execution_count": 5,
     "metadata": {},
     "output_type": "execute_result"
    },
    {
     "data": {
      "application/javascript": [
       "\n",
       "            setTimeout(function() {\n",
       "                var nbb_cell_id = 5;\n",
       "                var nbb_unformatted_code = \"# checking anomaly rows. Label = 1 is the anomaly data.\\niforest_anomaly_rows = iforest_predictions[iforest_predictions[\\\"Label\\\"] == 1]\\niforest_anomaly_rows.head()\";\n",
       "                var nbb_formatted_code = \"# checking anomaly rows. Label = 1 is the anomaly data.\\niforest_anomaly_rows = iforest_predictions[iforest_predictions[\\\"Label\\\"] == 1]\\niforest_anomaly_rows.head()\";\n",
       "                var nbb_cells = Jupyter.notebook.get_cells();\n",
       "                for (var i = 0; i < nbb_cells.length; ++i) {\n",
       "                    if (nbb_cells[i].input_prompt_number == nbb_cell_id) {\n",
       "                        if (nbb_cells[i].get_text() == nbb_unformatted_code) {\n",
       "                             nbb_cells[i].set_text(nbb_formatted_code);\n",
       "                        }\n",
       "                        break;\n",
       "                    }\n",
       "                }\n",
       "            }, 500);\n",
       "            "
      ],
      "text/plain": [
       "<IPython.core.display.Javascript object>"
      ]
     },
     "metadata": {},
     "output_type": "display_data"
    }
   ],
   "source": [
    "# checking anomaly rows. Label = 1 is the anomaly data.\n",
    "iforest_anomaly_rows = iforest_predictions[iforest_predictions[\"Label\"] == 1]\n",
    "iforest_anomaly_rows.head()"
   ]
  },
  {
   "cell_type": "code",
   "execution_count": 6,
   "metadata": {},
   "outputs": [
    {
     "data": {
      "text/plain": [
       "(50, 12)"
      ]
     },
     "execution_count": 6,
     "metadata": {},
     "output_type": "execute_result"
    },
    {
     "data": {
      "application/javascript": [
       "\n",
       "            setTimeout(function() {\n",
       "                var nbb_cell_id = 6;\n",
       "                var nbb_unformatted_code = \"# checking the number of anomaly rows returned by iforest\\niforest_anomaly_rows.shape       # returned 50 rows\";\n",
       "                var nbb_formatted_code = \"# checking the number of anomaly rows returned by iforest\\niforest_anomaly_rows.shape  # returned 50 rows\";\n",
       "                var nbb_cells = Jupyter.notebook.get_cells();\n",
       "                for (var i = 0; i < nbb_cells.length; ++i) {\n",
       "                    if (nbb_cells[i].input_prompt_number == nbb_cell_id) {\n",
       "                        if (nbb_cells[i].get_text() == nbb_unformatted_code) {\n",
       "                             nbb_cells[i].set_text(nbb_formatted_code);\n",
       "                        }\n",
       "                        break;\n",
       "                    }\n",
       "                }\n",
       "            }, 500);\n",
       "            "
      ],
      "text/plain": [
       "<IPython.core.display.Javascript object>"
      ]
     },
     "metadata": {},
     "output_type": "display_data"
    }
   ],
   "source": [
    "# checking the number of anomaly rows returned by iforest\n",
    "iforest_anomaly_rows.shape  # returned 50 rows"
   ]
  },
  {
   "cell_type": "markdown",
   "metadata": {},
   "source": [
    "### K Nearest Neighbor"
   ]
  },
  {
   "cell_type": "code",
   "execution_count": 7,
   "metadata": {},
   "outputs": [
    {
     "data": {
      "text/html": [
       "        <script type=\"text/javascript\">\n",
       "        window.PlotlyConfig = {MathJaxConfig: 'local'};\n",
       "        if (window.MathJax) {MathJax.Hub.Config({SVG: {font: \"STIX-Web\"}});}\n",
       "        if (typeof require !== 'undefined') {\n",
       "        require.undef(\"plotly\");\n",
       "        requirejs.config({\n",
       "            paths: {\n",
       "                'plotly': ['https://cdn.plot.ly/plotly-latest.min']\n",
       "            }\n",
       "        });\n",
       "        require(['plotly'], function(Plotly) {\n",
       "            window._Plotly = Plotly;\n",
       "        });\n",
       "        }\n",
       "        </script>\n",
       "        "
      ]
     },
     "metadata": {},
     "output_type": "display_data"
    },
    {
     "data": {
      "application/vnd.plotly.v1+json": {
       "config": {
        "plotlyServerURL": "https://plot.ly"
       },
       "data": [
        {
         "customdata": [
          [
           0.263995357
          ],
          [
           0.546092303
          ],
          [
           0.33671410399999996
          ],
          [
           0.092107835
          ],
          [
           0.325261175
          ],
          [
           0.212464853
          ],
          [
           0.258565714
          ],
          [
           0.869236755
          ],
          [
           0.197077957
          ],
          [
           0.292984504
          ],
          [
           0.82178316
          ],
          [
           0.796622959
          ],
          [
           0.045577010999999994
          ],
          [
           0.613660351
          ],
          [
           0.9507445659999999
          ],
          [
           0.33634633700000005
          ],
          [
           0.034440667
          ],
          [
           0.741544275
          ],
          [
           0.18443265
          ],
          [
           0.664514943
          ],
          [
           0.16282485800000002
          ],
          [
           0.729838445
          ],
          [
           0.62837389
          ],
          [
           0.057883660999999996
          ],
          [
           0.445534827
          ],
          [
           0.80183695
          ],
          [
           0.27709612
          ],
          [
           0.228634015
          ],
          [
           0.834860657
          ],
          [
           0.6697665110000001
          ],
          [
           0.532527349
          ],
          [
           0.17045907100000002
          ],
          [
           0.5102884679999999
          ],
          [
           0.977561989
          ],
          [
           0.249775993
          ],
          [
           0.9755006820000001
          ],
          [
           0.613701727
          ],
          [
           0.16742036300000002
          ],
          [
           0.537472516
          ],
          [
           0.379899131
          ],
          [
           0.633897303
          ],
          [
           0.633960424
          ],
          [
           0.5499746529999999
          ],
          [
           0.178172988
          ],
          [
           0.85563814
          ],
          [
           0.321796672
          ],
          [
           0.8174905370000001
          ],
          [
           0.254879417
          ],
          [
           0.344140513
          ],
          [
           0.8061457259999999
          ],
          [
           0.27708167100000003
          ],
          [
           0.544328519
          ],
          [
           0.07708393
          ],
          [
           0.273081458
          ],
          [
           0.390877336
          ],
          [
           0.349621385
          ],
          [
           0.214549744
          ],
          [
           0.206075222
          ],
          [
           0.86461997
          ],
          [
           0.9817088540000001
          ],
          [
           0.33482964600000004
          ],
          [
           0.648387061
          ],
          [
           0.093643561
          ],
          [
           0.837802698
          ],
          [
           0.7603439670000001
          ],
          [
           0.29140417399999996
          ],
          [
           0.3413454
          ],
          [
           0.7611124840000001
          ],
          [
           0.541899775
          ],
          [
           0.684176639
          ],
          [
           0.983535597
          ],
          [
           0.52081245
          ],
          [
           0.328227724
          ],
          [
           0.09715793800000001
          ],
          [
           0.876088593
          ],
          [
           0.870214512
          ],
          [
           0.656086992
          ],
          [
           0.306791514
          ],
          [
           0.48126734
          ],
          [
           0.259559174
          ],
          [
           0.326123655
          ],
          [
           0.930568042
          ],
          [
           0.6583894
          ],
          [
           0.689992335
          ],
          [
           0.315781109
          ],
          [
           0.5669050929999999
          ],
          [
           0.637526619
          ],
          [
           0.687540723
          ],
          [
           0.324300602
          ],
          [
           0.592704906
          ],
          [
           0.7402531259999999
          ],
          [
           0.5940328770000001
          ],
          [
           0.596452977
          ],
          [
           0.27768081699999997
          ],
          [
           0.258329663
          ],
          [
           0.142460864
          ],
          [
           0.435533461
          ],
          [
           0.7024990440000001
          ],
          [
           0.58897535
          ],
          [
           0.653304374
          ],
          [
           0.336968524
          ],
          [
           0.631244736
          ],
          [
           0.73530076
          ],
          [
           0.050390366
          ],
          [
           0.064264924
          ],
          [
           0.665359476
          ],
          [
           0.917835245
          ],
          [
           0.44651012
          ],
          [
           0.661938199
          ],
          [
           0.43935985299999997
          ],
          [
           0.6875724040000001
          ],
          [
           0.363462248
          ],
          [
           0.6542621820000001
          ],
          [
           0.578553536
          ],
          [
           0.065927945
          ],
          [
           0.550148559
          ],
          [
           0.13918281400000002
          ],
          [
           0.080004635
          ],
          [
           0.278228358
          ],
          [
           0.560124266
          ],
          [
           0.53639864
          ],
          [
           0.42653190399999996
          ],
          [
           0.789109796
          ],
          [
           0.742900474
          ],
          [
           0.901692589
          ],
          [
           0.650337401
          ],
          [
           0.114057311
          ],
          [
           0.260812592
          ],
          [
           0.43991232
          ],
          [
           0.964409284
          ],
          [
           0.184401415
          ],
          [
           0.345145446
          ],
          [
           0.17589458100000002
          ],
          [
           0.312514453
          ],
          [
           0.674131879
          ],
          [
           0.32825045
          ],
          [
           0.598231057
          ],
          [
           0.09259881699999999
          ],
          [
           0.497916521
          ],
          [
           0.419776521
          ],
          [
           0.31217670000000003
          ],
          [
           0.937857107
          ],
          [
           0.049030963
          ],
          [
           0.47610452600000003
          ],
          [
           0.447397526
          ],
          [
           0.295806058
          ],
          [
           0.737363977
          ],
          [
           0.625896253
          ],
          [
           0.408813429
          ],
          [
           0.437511156
          ],
          [
           0.691351375
          ],
          [
           0.935555275
          ],
          [
           0.437846654
          ],
          [
           0.072217715
          ],
          [
           0.67636067
          ],
          [
           0.468883999
          ],
          [
           0.543820644
          ],
          [
           0.6555226470000001
          ],
          [
           0.6935289240000001
          ],
          [
           0.10887831199999999
          ],
          [
           0.285463743
          ],
          [
           0
          ],
          [
           0.706495497
          ],
          [
           0.273530633
          ],
          [
           0.292320271
          ],
          [
           0.673984307
          ],
          [
           0.12612182800000002
          ],
          [
           0.9467074590000001
          ],
          [
           0.9363388979999999
          ],
          [
           0.8537553640000001
          ],
          [
           0.7060713609999999
          ],
          [
           0.693682186
          ],
          [
           0.508527882
          ],
          [
           0.34717038899999997
          ],
          [
           0.704154263
          ],
          [
           0.658730088
          ],
          [
           0.155841557
          ],
          [
           0.311085435
          ],
          [
           0.281135347
          ],
          [
           0.094587802
          ],
          [
           0.6832609540000001
          ],
          [
           0.9077292509999999
          ],
          [
           0.29151267399999997
          ],
          [
           0.752734459
          ],
          [
           0.93482964
          ],
          [
           0.071413953
          ],
          [
           0.5948963270000001
          ],
          [
           0.404672015
          ],
          [
           0.13837621
          ],
          [
           0.7473384679999999
          ],
          [
           0.530882486
          ],
          [
           0.282649594
          ],
          [
           0.699335734
          ],
          [
           0.056111250999999994
          ],
          [
           0.855234998
          ],
          [
           0.07789512700000001
          ],
          [
           0.891649583
          ],
          [
           0.38674227899999997
          ],
          [
           0.27113158
          ],
          [
           0.958888961
          ],
          [
           0.085120869
          ],
          [
           0.5269022489999999
          ],
          [
           0.066577785
          ],
          [
           0.841506738
          ],
          [
           0.255342095
          ],
          [
           0.060545771
          ],
          [
           0.073385869
          ],
          [
           0.187493723
          ],
          [
           0.858365688
          ],
          [
           0.090640352
          ],
          [
           0.7097252270000001
          ],
          [
           0.631300647
          ],
          [
           0.24750447399999997
          ],
          [
           0.822843584
          ],
          [
           0.373476759
          ],
          [
           0.625538582
          ],
          [
           0.292951715
          ],
          [
           0.299730324
          ],
          [
           0.25121407
          ],
          [
           0.344480551
          ],
          [
           0.293064767
          ],
          [
           0.7628032240000001
          ],
          [
           0.7384708040000001
          ],
          [
           0.674883265
          ],
          [
           0.719151612
          ],
          [
           0.13098021599999998
          ],
          [
           0.511328036
          ],
          [
           0.04492903
          ],
          [
           0.560914449
          ],
          [
           0.7440406409999999
          ],
          [
           0.266961634
          ],
          [
           0.644231853
          ],
          [
           0.038113352
          ],
          [
           0.05715529900000001
          ],
          [
           0.34139246100000004
          ],
          [
           0.7204636320000001
          ],
          [
           0.402878236
          ],
          [
           0.635148967
          ],
          [
           0.320729467
          ],
          [
           0.09120969400000001
          ],
          [
           0.23414609
          ],
          [
           0.8902211309999999
          ],
          [
           0.602170884
          ],
          [
           0.633652055
          ],
          [
           0.806240837
          ],
          [
           0.739731184
          ],
          [
           0.465231269
          ],
          [
           0.7321109
          ],
          [
           0.373874305
          ],
          [
           0.501587947
          ],
          [
           0.11538315800000001
          ],
          [
           0.7319466040000001
          ],
          [
           0.41829872799999995
          ],
          [
           0.062259590999999996
          ],
          [
           0.391496379
          ],
          [
           0.35984929
          ],
          [
           0.24523562699999998
          ],
          [
           0.610028339
          ],
          [
           0.43540360200000006
          ],
          [
           0.434309675
          ],
          [
           0.523763344
          ],
          [
           0.17118786600000002
          ],
          [
           0.18773430300000002
          ],
          [
           0.945014638
          ],
          [
           0.027851097000000002
          ],
          [
           0.68445706
          ],
          [
           0.178014532
          ],
          [
           0.643427879
          ],
          [
           0.59588355
          ],
          [
           0.372361682
          ],
          [
           0.586103584
          ],
          [
           0.271658852
          ],
          [
           0.59951107
          ],
          [
           0.468363088
          ],
          [
           0.314515565
          ],
          [
           0.21893726
          ],
          [
           0.254716562
          ],
          [
           0.25612815
          ],
          [
           0.602259755
          ],
          [
           0.134381075
          ],
          [
           0.513887424
          ],
          [
           0.624241636
          ],
          [
           0.160251854
          ],
          [
           0.580708108
          ],
          [
           0.270540486
          ],
          [
           0.832919932
          ],
          [
           0.93032134
          ],
          [
           0.719157884
          ],
          [
           0.886720033
          ],
          [
           0.098792281
          ],
          [
           0.787174286
          ],
          [
           0.365592376
          ],
          [
           0.719576193
          ],
          [
           0.8058956
          ],
          [
           0.7555783340000001
          ],
          [
           0.526005909
          ],
          [
           0.68880424
          ],
          [
           0.22111531199999998
          ],
          [
           0.739369477
          ],
          [
           0.408440236
          ],
          [
           0.348926542
          ],
          [
           0.433713763
          ],
          [
           0.5964966070000001
          ],
          [
           0.6942953000000001
          ],
          [
           0.7090309659999999
          ],
          [
           0.867652984
          ],
          [
           0.89332545
          ],
          [
           0.746020922
          ],
          [
           0.538284443
          ],
          [
           0.8922193140000001
          ],
          [
           0.935175765
          ],
          [
           0.260527707
          ],
          [
           0.956780449
          ],
          [
           0.204932484
          ],
          [
           0.687733351
          ],
          [
           0.329063619
          ],
          [
           0.632149831
          ],
          [
           0.463744506
          ],
          [
           0.698859621
          ],
          [
           0.385446564
          ],
          [
           0.47997537700000004
          ],
          [
           0.732279108
          ],
          [
           0.3813543
          ],
          [
           0.459326013
          ],
          [
           0.257401434
          ],
          [
           0.665014804
          ],
          [
           0.103399542
          ],
          [
           0.425284413
          ],
          [
           0.943529051
          ],
          [
           0.594750236
          ],
          [
           0.543776817
          ],
          [
           0.18203988
          ],
          [
           0.23584208399999998
          ],
          [
           0.585984497
          ],
          [
           0.762013168
          ],
          [
           0.6849829070000001
          ],
          [
           0.676936933
          ],
          [
           0.290184964
          ],
          [
           0.48106822200000005
          ],
          [
           0.492766033
          ],
          [
           0.22185623399999999
          ],
          [
           0.053875998
          ],
          [
           0.082751144
          ],
          [
           0.385366225
          ],
          [
           0.702513961
          ],
          [
           0.91553156
          ],
          [
           0.082087436
          ],
          [
           0.251280378
          ],
          [
           0.41672181700000005
          ],
          [
           0.277032672
          ],
          [
           0.579539754
          ],
          [
           0.569363476
          ],
          [
           0.133399703
          ],
          [
           0.265045463
          ],
          [
           0.936571901
          ],
          [
           0.252618554
          ],
          [
           0.054033081
          ],
          [
           0.802481439
          ],
          [
           0.528197693
          ],
          [
           0.9515026
          ],
          [
           0.572121173
          ],
          [
           0.752938227
          ],
          [
           0.143857535
          ],
          [
           0.513484576
          ],
          [
           0.313322389
          ],
          [
           0.6877973959999999
          ],
          [
           0.37705984
          ],
          [
           0.348226142
          ],
          [
           0.67763282
          ],
          [
           0.24138752100000002
          ],
          [
           0.8506501790000001
          ],
          [
           0.22034810300000002
          ],
          [
           0.476445464
          ],
          [
           0.690324025
          ],
          [
           0.364695946
          ],
          [
           0.6492491970000001
          ],
          [
           0.9437019209999999
          ],
          [
           0.529645971
          ],
          [
           0.299097002
          ],
          [
           0.96696247
          ],
          [
           0.272005242
          ],
          [
           0.314161447
          ],
          [
           0.752020991
          ],
          [
           0.221882453
          ],
          [
           0.7203326729999999
          ],
          [
           0.379204782
          ],
          [
           0.60168653
          ],
          [
           0.582932673
          ],
          [
           0.950809853
          ],
          [
           0.58830141
          ],
          [
           0.880887227
          ],
          [
           0.467857701
          ],
          [
           0.8799021709999999
          ],
          [
           0.619844009
          ],
          [
           0.359002573
          ],
          [
           0.291511278
          ],
          [
           0.694157143
          ],
          [
           0.727960353
          ],
          [
           0.617703921
          ],
          [
           0.39581257
          ],
          [
           0.58317282
          ],
          [
           0.710332374
          ],
          [
           0.253753693
          ],
          [
           0.049412227999999996
          ],
          [
           0.728378695
          ],
          [
           0.432432881
          ],
          [
           0.58612345
          ],
          [
           0.052342373
          ],
          [
           0.053483902
          ],
          [
           0.518729378
          ],
          [
           0.933040208
          ],
          [
           0.7035542840000001
          ],
          [
           0.268989899
          ],
          [
           0.733006927
          ],
          [
           0.44435246700000003
          ],
          [
           0.5833946210000001
          ],
          [
           0.871172692
          ],
          [
           0.42876707799999997
          ],
          [
           0.30046084100000003
          ],
          [
           0.9533294590000001
          ],
          [
           0.606443965
          ],
          [
           0.90986815
          ],
          [
           0.714896449
          ],
          [
           0.49734950899999997
          ],
          [
           0.8530974859999999
          ],
          [
           0.721804145
          ],
          [
           0.303467328
          ],
          [
           0.664485096
          ],
          [
           0.27978062
          ],
          [
           0.569481665
          ],
          [
           0.628628926
          ],
          [
           0.088368123
          ],
          [
           0.733567326
          ],
          [
           0.537436778
          ],
          [
           0.638593691
          ],
          [
           0.954726948
          ],
          [
           0.632202332
          ],
          [
           0.642134651
          ],
          [
           0.744653087
          ],
          [
           0.115714007
          ],
          [
           0.48625007299999995
          ],
          [
           0.440356144
          ],
          [
           0.08272289
          ],
          [
           0.511591027
          ],
          [
           0.394627555
          ],
          [
           0.224394
          ],
          [
           0.626927584
          ],
          [
           0.290254057
          ],
          [
           0.779008053
          ],
          [
           0.86610579
          ],
          [
           0.873326081
          ],
          [
           0.49548916
          ],
          [
           0.594297695
          ],
          [
           0.9182015840000001
          ],
          [
           0.5770427539999999
          ],
          [
           0.019467671000000002
          ],
          [
           0.6702982820000001
          ],
          [
           0.546595316
          ],
          [
           0.591665146
          ],
          [
           0.42155819
          ],
          [
           0.6856085590000001
          ],
          [
           0.340303024
          ],
          [
           0.675626741
          ],
          [
           0.319067345
          ],
          [
           0.38849966399999997
          ],
          [
           0.706949589
          ],
          [
           0.559409515
          ],
          [
           0.687663508
          ],
          [
           0.7088045540000001
          ],
          [
           0.6818880940000001
          ],
          [
           0.42253510899999996
          ],
          [
           0.320004605
          ],
          [
           0.6582813679999999
          ],
          [
           0.634154867
          ],
          [
           0.7773320090000001
          ],
          [
           0.812677205
          ],
          [
           0.074280797
          ],
          [
           0.39600217
          ],
          [
           0.054933913
          ],
          [
           0.825058925
          ],
          [
           0.382642009
          ],
          [
           0.8687298179999999
          ],
          [
           0.588043346
          ],
          [
           0.891551577
          ],
          [
           0.10920046
          ],
          [
           0.647682781
          ],
          [
           0.724342512
          ],
          [
           0.07016304400000001
          ],
          [
           0.280882054
          ],
          [
           0.039113261
          ],
          [
           0.579641592
          ],
          [
           0.639000922
          ],
          [
           0.281745925
          ],
          [
           0.647857744
          ],
          [
           0.6479057970000001
          ],
          [
           0.875226264
          ],
          [
           0.567603305
          ],
          [
           0.262940591
          ],
          [
           0.268026042
          ],
          [
           0.40519133
          ],
          [
           0.479965451
          ],
          [
           0.33552403
          ],
          [
           0.777165379
          ],
          [
           0.42548796299999997
          ],
          [
           0.237986115
          ],
          [
           0.142522971
          ],
          [
           0.724176488
          ],
          [
           0.234698933
          ],
          [
           0.07818228099999999
          ],
          [
           0.855990155
          ],
          [
           0.270251765
          ],
          [
           0.435517841
          ],
          [
           0.762697513
          ],
          [
           0.46448725799999996
          ],
          [
           0.396112685
          ],
          [
           0.37638092100000003
          ],
          [
           0.29459467699999997
          ],
          [
           0.6944921209999999
          ],
          [
           0.622767949
          ],
          [
           0.8475597220000001
          ],
          [
           0.301463054
          ],
          [
           0.912937812
          ],
          [
           0.500017182
          ],
          [
           0.902587935
          ],
          [
           0.304517943
          ],
          [
           0.299165673
          ],
          [
           0.092014087
          ],
          [
           0.488548917
          ],
          [
           0.664664437
          ],
          [
           0.26534954899999996
          ],
          [
           0.723657021
          ],
          [
           0.149262385
          ],
          [
           0.04577339
          ],
          [
           0.69661064
          ],
          [
           0.42181486
          ],
          [
           0.733845785
          ],
          [
           0.418795386
          ],
          [
           0.677443529
          ],
          [
           0.26128360300000003
          ],
          [
           0.268527767
          ],
          [
           0.5443222360000001
          ],
          [
           0.431632036
          ],
          [
           0.981018141
          ],
          [
           0.21498072399999998
          ],
          [
           0.39472999299999995
          ],
          [
           0.122224944
          ],
          [
           0.297496875
          ],
          [
           0.37490443100000004
          ],
          [
           0.68698771
          ],
          [
           0.388549207
          ],
          [
           0.039296071
          ],
          [
           0.73553424
          ],
          [
           0.37929489299999997
          ],
          [
           0.7321233859999999
          ],
          [
           0.33922143899999996
          ],
          [
           0.659450594
          ],
          [
           0.054838642
          ],
          [
           0.640112102
          ],
          [
           0.30714170399999996
          ],
          [
           0.39661190700000004
          ],
          [
           0.420439161
          ],
          [
           0.24171497399999997
          ],
          [
           0.065893153
          ],
          [
           0.9105219370000001
          ],
          [
           0.697163103
          ],
          [
           0.072559853
          ],
          [
           0.81825094
          ],
          [
           0.311888815
          ],
          [
           0.961644609
          ],
          [
           0.816325524
          ],
          [
           0.14647302
          ],
          [
           0.548753945
          ],
          [
           0.946158087
          ],
          [
           0.293992717
          ],
          [
           0.331479643
          ],
          [
           0.9062200309999999
          ],
          [
           0.525540416
          ],
          [
           0.83301411
          ],
          [
           0.514849806
          ],
          [
           0.574609024
          ],
          [
           0.46871185299999996
          ],
          [
           0.71002775
          ],
          [
           0.645973276
          ],
          [
           0.229794416
          ],
          [
           0.551783393
          ],
          [
           0.055822990999999995
          ],
          [
           0.331750941
          ],
          [
           0.715520198
          ],
          [
           0.583924357
          ],
          [
           0.30695769100000003
          ],
          [
           0.7914782370000001
          ],
          [
           0.16423663900000002
          ],
          [
           0.065711219
          ],
          [
           0.948993132
          ],
          [
           0.080423835
          ],
          [
           0.052495426
          ],
          [
           0.566346135
          ],
          [
           0.3630266
          ],
          [
           0.605442195
          ],
          [
           0.6308505839999999
          ],
          [
           0.065791238
          ],
          [
           0.28681707100000003
          ],
          [
           0.685462839
          ],
          [
           0.260853706
          ],
          [
           0.659122429
          ],
          [
           0.44317392200000005
          ],
          [
           0.602063986
          ],
          [
           0.060366910999999995
          ],
          [
           0.781903153
          ],
          [
           0.5145798070000001
          ],
          [
           0.48388621299999995
          ],
          [
           0.600213807
          ],
          [
           0.49736405200000006
          ],
          [
           0.411145245
          ],
          [
           0.116999171
          ],
          [
           0.34189014100000004
          ],
          [
           0.746950848
          ],
          [
           0.39629274600000003
          ],
          [
           0.6221438429999999
          ],
          [
           0.335271141
          ],
          [
           0.140257137
          ],
          [
           0.081620681
          ],
          [
           0.069837569
          ],
          [
           0.46894000799999996
          ],
          [
           0.9908574170000001
          ],
          [
           0.896616832
          ],
          [
           0.255310561
          ],
          [
           0.22464526699999998
          ],
          [
           0.01991825
          ],
          [
           0.296480415
          ],
          [
           0.155458996
          ],
          [
           0.577916714
          ],
          [
           0.9563030309999999
          ],
          [
           0.813464394
          ],
          [
           0.529675785
          ],
          [
           0.287671353
          ],
          [
           0.48039136
          ],
          [
           0.28104482199999997
          ],
          [
           0.633196521
          ],
          [
           0.09332537699999999
          ],
          [
           0.28447398100000004
          ],
          [
           0.052223775
          ],
          [
           0.051129385
          ],
          [
           0.967405608
          ],
          [
           0.040045727999999996
          ],
          [
           0.9085829209999999
          ],
          [
           0.6621174160000001
          ],
          [
           0.42470320899999997
          ],
          [
           0.72207806
          ],
          [
           0.666193327
          ],
          [
           0.509681253
          ],
          [
           0.7513536209999999
          ],
          [
           0.279073124
          ],
          [
           0.074927
          ],
          [
           0.916359535
          ],
          [
           0.31040327
          ],
          [
           0.716604052
          ],
          [
           0.485587085
          ],
          [
           0.30607518100000003
          ],
          [
           0.477558204
          ],
          [
           0.7119239409999999
          ],
          [
           0.066348638
          ],
          [
           0.27453935100000004
          ],
          [
           0.31082252
          ],
          [
           0.47607312700000004
          ],
          [
           0.186795565
          ],
          [
           0.26654207
          ],
          [
           0.070231142
          ],
          [
           0.26951927
          ],
          [
           0.800004713
          ],
          [
           0.27363366699999997
          ],
          [
           0.14647919199999998
          ],
          [
           0.378318951
          ],
          [
           0.373849065
          ],
          [
           0.242170835
          ],
          [
           0.249796488
          ],
          [
           0.066591188
          ],
          [
           0.372956798
          ],
          [
           0.501812291
          ],
          [
           0.313097752
          ],
          [
           0.8802021959999999
          ],
          [
           0.51981893
          ],
          [
           0.364138746
          ],
          [
           0.49268289600000004
          ],
          [
           0.285732652
          ],
          [
           0.890114985
          ],
          [
           0.316419561
          ],
          [
           0.26866354
          ],
          [
           0.771975959
          ],
          [
           0.968888992
          ],
          [
           0.080334377
          ],
          [
           0.7368282209999999
          ],
          [
           0.30055807100000004
          ],
          [
           0.9179503929999999
          ],
          [
           0.465815039
          ],
          [
           0.054036682
          ],
          [
           0.963150123
          ],
          [
           0.08965350300000001
          ],
          [
           0.7076932340000001
          ],
          [
           0.636416037
          ],
          [
           0.539521117
          ],
          [
           0.114757161
          ],
          [
           0.357312419
          ],
          [
           0.67639834
          ],
          [
           0.43482839
          ],
          [
           0.032326387000000005
          ],
          [
           0.711365605
          ],
          [
           0.187486519
          ],
          [
           0.052789653
          ],
          [
           0.5058636129999999
          ],
          [
           0.927431873
          ],
          [
           0.6809842559999999
          ],
          [
           0.882822186
          ],
          [
           0.495705441
          ],
          [
           0.596240398
          ],
          [
           0.320610701
          ],
          [
           0.3413685
          ],
          [
           0.159681797
          ],
          [
           0.318133669
          ],
          [
           0.8393010479999999
          ],
          [
           0.06435925099999999
          ],
          [
           0.470216633
          ],
          [
           0.7762522909999999
          ],
          [
           0.635843383
          ],
          [
           0.62510543
          ],
          [
           0.52959065
          ],
          [
           0.986900166
          ],
          [
           0.078585688
          ],
          [
           0.233284267
          ],
          [
           0.363330957
          ],
          [
           0.7167169809999999
          ],
          [
           0.37588979200000006
          ],
          [
           0.223316889
          ],
          [
           0.299343986
          ],
          [
           0.538595767
          ],
          [
           0.730297124
          ],
          [
           0.66033077
          ],
          [
           0.435296009
          ],
          [
           0.326494313
          ],
          [
           0.854402708
          ],
          [
           0.5734938470000001
          ],
          [
           0.757786135
          ],
          [
           0.704743233
          ],
          [
           0.281575597
          ],
          [
           0.671968208
          ],
          [
           0.313726015
          ],
          [
           0.364338275
          ],
          [
           0.368216396
          ],
          [
           0.38629520700000003
          ],
          [
           0.655971865
          ],
          [
           0.5660252729999999
          ],
          [
           0.424999093
          ],
          [
           0.090110371
          ],
          [
           0.772350538
          ],
          [
           0.331047258
          ],
          [
           0.273716188
          ],
          [
           0.23877568
          ],
          [
           0.37307977200000003
          ],
          [
           0.331185868
          ],
          [
           0.256134531
          ],
          [
           0.678373225
          ],
          [
           0.43463833799999996
          ],
          [
           0.654668307
          ],
          [
           0.986681065
          ],
          [
           0.371520495
          ],
          [
           0.408359618
          ],
          [
           0.40932365
          ],
          [
           0.283412082
          ],
          [
           0.395246531
          ],
          [
           0.010984428000000001
          ],
          [
           0.306013869
          ],
          [
           0.266194806
          ],
          [
           0.299318521
          ],
          [
           0.318293946
          ],
          [
           0.74282591
          ],
          [
           0.09766432900000001
          ],
          [
           0.079666942
          ],
          [
           0.613258767
          ],
          [
           0.99443072
          ],
          [
           0.568835082
          ],
          [
           0.7080345159999999
          ],
          [
           0.37059271899999996
          ],
          [
           0.669867361
          ],
          [
           0.651295625
          ],
          [
           0.462531569
          ],
          [
           0.7196256190000001
          ],
          [
           0.45377248
          ],
          [
           0.394863946
          ],
          [
           0.323974831
          ],
          [
           0.146454724
          ],
          [
           0.7790670409999999
          ],
          [
           0.401828915
          ],
          [
           0.601479585
          ],
          [
           0.856423023
          ],
          [
           0.565242962
          ],
          [
           0.301225108
          ],
          [
           0.282108144
          ],
          [
           0.594378011
          ],
          [
           0.705312368
          ],
          [
           0.5408696279999999
          ],
          [
           0.319249574
          ],
          [
           0.36176613799999996
          ],
          [
           0.625000704
          ],
          [
           0.316287401
          ],
          [
           0.047239021
          ],
          [
           0.801182233
          ],
          [
           0.508474436
          ],
          [
           0.8178934109999999
          ],
          [
           0.399235601
          ],
          [
           0.9740519990000001
          ],
          [
           0.72241535
          ],
          [
           0.039564764
          ],
          [
           0.908684108
          ],
          [
           0.47301013399999997
          ],
          [
           0.7180496279999999
          ],
          [
           0.7634790690000001
          ],
          [
           0.6475965370000001
          ],
          [
           0.8949973859999999
          ],
          [
           0.22282590100000002
          ],
          [
           0.359012234
          ],
          [
           0.944910252
          ],
          [
           0.297877816
          ],
          [
           0.172517997
          ],
          [
           0.556586265
          ],
          [
           0.876481735
          ],
          [
           0.48667784299999994
          ],
          [
           0.459496733
          ],
          [
           0.47412637700000004
          ],
          [
           0.70101144
          ],
          [
           0.337597387
          ],
          [
           0.537578886
          ],
          [
           0.966992448
          ],
          [
           0.056849545
          ],
          [
           0.233249065
          ],
          [
           0.380054711
          ],
          [
           0.602929443
          ],
          [
           0.303847999
          ],
          [
           0.170194553
          ],
          [
           0.972168554
          ],
          [
           0.332168927
          ],
          [
           0.6887286890000001
          ],
          [
           0.110773401
          ],
          [
           0.273352065
          ],
          [
           0.572939678
          ],
          [
           0.491457065
          ],
          [
           0.281389999
          ],
          [
           0.821697261
          ],
          [
           0.6749776829999999
          ],
          [
           0.585134549
          ],
          [
           0.7105961159999999
          ],
          [
           0.040488789
          ],
          [
           0.568054311
          ],
          [
           0.321752928
          ],
          [
           0.611850232
          ],
          [
           0.926096887
          ],
          [
           0.618347428
          ],
          [
           0.667629785
          ],
          [
           0.39773346600000004
          ],
          [
           0.290875487
          ],
          [
           0.594375103
          ],
          [
           0.508255233
          ],
          [
           0.338571357
          ],
          [
           0.43230234700000003
          ],
          [
           0.302221978
          ],
          [
           0.87619819
          ],
          [
           0.080204492
          ],
          [
           0.092333532
          ],
          [
           0.09365644699999999
          ],
          [
           0.6084523510000001
          ],
          [
           0.732654598
          ],
          [
           0.944158855
          ],
          [
           0.26742308
          ],
          [
           0.731124201
          ],
          [
           0.661308553
          ],
          [
           0.38776626200000003
          ],
          [
           0.962585273
          ],
          [
           0.322067067
          ],
          [
           0.6340810929999999
          ],
          [
           0.475345002
          ],
          [
           0.35355897299999994
          ],
          [
           0.8859363159999999
          ],
          [
           0.876798106
          ],
          [
           0.221581064
          ],
          [
           0.394362449
          ],
          [
           0.8050356759999999
          ],
          [
           0.452898486
          ],
          [
           0.592520516
          ],
          [
           0.761026394
          ],
          [
           0.245049023
          ],
          [
           0.37213936299999995
          ],
          [
           0.681054822
          ],
          [
           0.7471431479999999
          ],
          [
           0.9207395290000001
          ],
          [
           0.097207945
          ],
          [
           0.699302998
          ],
          [
           0.721647006
          ],
          [
           0.5353561139999999
          ],
          [
           0.738293805
          ],
          [
           0.7064675509999999
          ],
          [
           0.67395061
          ],
          [
           0.7112122909999999
          ],
          [
           0.302558708
          ],
          [
           0.080097855
          ],
          [
           0.707010837
          ],
          [
           0.512248622
          ],
          [
           0.659627472
          ],
          [
           0.657559694
          ],
          [
           0.100645606
          ],
          [
           0.92665363
          ],
          [
           0.892879338
          ],
          [
           0.839157508
          ],
          [
           0.890959718
          ],
          [
           0.556754471
          ],
          [
           0.960361937
          ],
          [
           0.631037864
          ],
          [
           0.029838065
          ],
          [
           0.278843351
          ],
          [
           0.926157705
          ],
          [
           0.551504258
          ],
          [
           0.485942349
          ],
          [
           0.43723469600000003
          ],
          [
           0.25231801800000003
          ],
          [
           0.515466972
          ],
          [
           0.43725229600000004
          ],
          [
           0.493724207
          ],
          [
           0.83324725
          ],
          [
           0.317521477
          ],
          [
           0.28623456199999997
          ],
          [
           0.726833965
          ],
          [
           0.495667033
          ],
          [
           0.028645255
          ],
          [
           0.31967191699999997
          ],
          [
           0.674344598
          ],
          [
           0.7660371890000001
          ],
          [
           0.65456992
          ],
          [
           0.7565143809999999
          ],
          [
           0.528253719
          ],
          [
           0.38971949100000003
          ],
          [
           0.355087459
          ],
          [
           0.87015202
          ],
          [
           0.7390833059999999
          ],
          [
           0.305761846
          ],
          [
           0.411587673
          ],
          [
           0.063633094
          ],
          [
           0.735409395
          ],
          [
           0.605916669
          ],
          [
           0.539395562
          ],
          [
           0.566183532
          ],
          [
           0.674795186
          ],
          [
           0.070993366
          ],
          [
           0.12526410000000002
          ],
          [
           0.279601492
          ],
          [
           0.952174402
          ],
          [
           0.233806762
          ],
          [
           0.43724742899999997
          ],
          [
           0.925423095
          ],
          [
           0.433498634
          ],
          [
           0.52517902
          ],
          [
           0.088435529
          ],
          [
           0.447677638
          ],
          [
           0.647000631
          ],
          [
           0.9036033370000001
          ],
          [
           0.265790738
          ],
          [
           0.66419695
          ],
          [
           0.498120658
          ],
          [
           0.49018894399999996
          ],
          [
           0.747084187
          ],
          [
           0.906783648
          ],
          [
           0.678770917
          ],
          [
           0.348599859
          ],
          [
           0.294839683
          ],
          [
           0.705691827
          ],
          [
           0.211917931
          ],
          [
           0.063201124
          ],
          [
           0.276699543
          ],
          [
           0.672459395
          ],
          [
           0.8082059490000001
          ],
          [
           0.296538373
          ],
          [
           0.16012686199999998
          ],
          [
           0.439385032
          ],
          [
           0.555951416
          ],
          [
           0.386240112
          ],
          [
           0.158689619
          ],
          [
           0.214499855
          ],
          [
           0.299579429
          ],
          [
           0.569161656
          ],
          [
           0.488614799
          ],
          [
           0.8782950209999999
          ],
          [
           0.649380949
          ],
          [
           0.465713341
          ],
          [
           0.16813774
          ],
          [
           0.87529545
          ],
          [
           0.8411323409999999
          ],
          [
           0.33292081
          ],
          [
           0.5130478589999999
          ],
          [
           0.30505507800000004
          ],
          [
           0.8126269909999999
          ],
          [
           0.25096706
          ],
          [
           0.5024355779999999
          ],
          [
           0.45799074100000003
          ]
         ],
         "hoverlabel": {
          "namelength": 0
         },
         "hovertemplate": "0=%{x}<br>1=%{y}<br>2=%{z}<br>Feature=%{customdata[0]}<br>Label=%{marker.color}",
         "legendgroup": "",
         "marker": {
          "color": [
           0,
           0,
           1,
           1,
           0,
           0,
           0,
           0,
           1,
           1,
           0,
           1,
           0,
           1,
           1,
           1,
           0,
           1,
           1,
           0,
           1,
           0,
           0,
           1,
           1,
           1,
           0,
           0,
           1,
           1,
           0,
           0,
           1,
           1,
           0,
           0,
           1,
           0,
           0,
           0,
           0,
           0,
           0,
           1,
           0,
           1,
           1,
           0,
           1,
           0,
           0,
           1,
           0,
           1,
           1,
           1,
           1,
           0,
           0,
           1,
           0,
           1,
           0,
           1,
           0,
           1,
           0,
           0,
           0,
           0,
           0,
           0,
           0,
           0,
           0,
           0,
           0,
           0,
           0,
           0,
           0,
           0,
           0,
           0,
           0,
           0,
           0,
           0,
           0,
           0,
           0,
           0,
           0,
           0,
           0,
           0,
           0,
           0,
           0,
           0,
           0,
           0,
           0,
           0,
           0,
           0,
           0,
           0,
           0,
           0,
           0,
           0,
           0,
           0,
           0,
           0,
           0,
           0,
           0,
           0,
           0,
           0,
           0,
           0,
           0,
           0,
           0,
           0,
           0,
           0,
           0,
           0,
           0,
           0,
           0,
           0,
           0,
           0,
           0,
           0,
           0,
           0,
           0,
           0,
           0,
           0,
           0,
           0,
           0,
           0,
           0,
           0,
           0,
           0,
           0,
           0,
           0,
           0,
           0,
           0,
           0,
           0,
           0,
           0,
           0,
           0,
           0,
           0,
           0,
           0,
           0,
           0,
           0,
           0,
           0,
           0,
           0,
           0,
           0,
           0,
           0,
           0,
           0,
           0,
           0,
           0,
           0,
           0,
           0,
           0,
           0,
           0,
           0,
           0,
           0,
           0,
           0,
           0,
           0,
           0,
           0,
           0,
           0,
           0,
           0,
           0,
           0,
           0,
           0,
           0,
           0,
           0,
           0,
           0,
           0,
           0,
           0,
           0,
           0,
           0,
           0,
           0,
           0,
           0,
           0,
           0,
           0,
           0,
           0,
           0,
           0,
           0,
           0,
           0,
           0,
           0,
           0,
           0,
           0,
           0,
           0,
           0,
           0,
           0,
           0,
           0,
           0,
           0,
           0,
           0,
           0,
           0,
           0,
           0,
           0,
           0,
           0,
           0,
           0,
           0,
           0,
           0,
           0,
           0,
           0,
           0,
           0,
           0,
           0,
           0,
           0,
           0,
           0,
           0,
           0,
           0,
           0,
           0,
           0,
           0,
           0,
           0,
           0,
           0,
           0,
           0,
           0,
           0,
           0,
           0,
           0,
           0,
           0,
           0,
           0,
           0,
           0,
           0,
           0,
           0,
           0,
           0,
           0,
           0,
           0,
           0,
           0,
           0,
           0,
           0,
           0,
           0,
           0,
           0,
           0,
           0,
           0,
           0,
           0,
           0,
           0,
           0,
           0,
           0,
           0,
           0,
           0,
           0,
           0,
           0,
           0,
           0,
           0,
           0,
           0,
           0,
           0,
           0,
           0,
           0,
           0,
           0,
           0,
           0,
           0,
           0,
           0,
           0,
           0,
           0,
           0,
           0,
           0,
           0,
           0,
           0,
           0,
           0,
           0,
           0,
           0,
           0,
           0,
           0,
           0,
           0,
           0,
           0,
           0,
           0,
           0,
           0,
           0,
           0,
           0,
           0,
           0,
           0,
           0,
           0,
           0,
           0,
           0,
           0,
           0,
           0,
           0,
           0,
           0,
           0,
           0,
           0,
           0,
           0,
           0,
           0,
           0,
           0,
           0,
           0,
           0,
           0,
           0,
           0,
           0,
           0,
           0,
           0,
           0,
           0,
           0,
           0,
           0,
           0,
           0,
           0,
           0,
           0,
           0,
           0,
           0,
           0,
           0,
           0,
           0,
           0,
           0,
           0,
           0,
           0,
           0,
           0,
           0,
           0,
           0,
           0,
           0,
           0,
           0,
           0,
           0,
           0,
           0,
           0,
           0,
           0,
           0,
           0,
           0,
           0,
           0,
           0,
           0,
           0,
           0,
           0,
           0,
           0,
           0,
           0,
           0,
           0,
           0,
           0,
           0,
           0,
           0,
           0,
           0,
           0,
           0,
           0,
           0,
           0,
           0,
           0,
           0,
           0,
           0,
           0,
           0,
           0,
           0,
           0,
           0,
           0,
           0,
           0,
           0,
           0,
           0,
           0,
           0,
           0,
           0,
           0,
           0,
           0,
           0,
           0,
           0,
           0,
           0,
           0,
           0,
           0,
           0,
           0,
           0,
           0,
           0,
           0,
           0,
           0,
           0,
           0,
           0,
           0,
           0,
           0,
           0,
           0,
           0,
           0,
           0,
           0,
           0,
           0,
           0,
           0,
           0,
           0,
           0,
           0,
           0,
           0,
           0,
           0,
           0,
           0,
           0,
           0,
           0,
           0,
           0,
           0,
           0,
           0,
           0,
           0,
           0,
           0,
           0,
           0,
           0,
           0,
           0,
           0,
           0,
           0,
           0,
           0,
           0,
           0,
           0,
           0,
           0,
           0,
           0,
           0,
           0,
           0,
           0,
           0,
           0,
           0,
           0,
           0,
           0,
           0,
           0,
           0,
           0,
           0,
           0,
           0,
           0,
           0,
           0,
           0,
           0,
           0,
           0,
           0,
           0,
           0,
           0,
           0,
           0,
           0,
           0,
           0,
           0,
           0,
           0,
           0,
           0,
           0,
           0,
           0,
           0,
           0,
           0,
           0,
           0,
           0,
           0,
           0,
           0,
           0,
           0,
           0,
           0,
           0,
           0,
           0,
           0,
           0,
           0,
           0,
           0,
           0,
           0,
           0,
           0,
           0,
           0,
           0,
           0,
           0,
           0,
           0,
           0,
           0,
           0,
           0,
           0,
           0,
           0,
           0,
           0,
           0,
           0,
           0,
           0,
           0,
           0,
           0,
           0,
           0,
           0,
           0,
           0,
           0,
           0,
           0,
           0,
           0,
           0,
           0,
           0,
           0,
           0,
           0,
           0,
           0,
           0,
           0,
           0,
           0,
           0,
           0,
           0,
           0,
           0,
           0,
           0,
           0,
           0,
           0,
           0,
           0,
           0,
           0,
           0,
           0,
           0,
           0,
           0,
           0,
           1,
           1,
           0,
           1,
           0,
           0,
           0,
           1,
           1,
           1,
           1,
           0,
           1,
           1,
           1,
           0,
           1,
           1,
           1,
           0,
           1,
           0,
           1,
           1,
           1,
           1,
           0,
           0,
           0,
           0,
           0,
           0,
           0,
           0,
           0,
           0,
           0,
           0,
           0,
           0,
           0,
           0,
           0,
           0,
           0,
           0,
           0,
           0,
           0,
           0,
           0,
           0,
           0,
           0,
           0,
           0,
           0,
           0,
           0,
           0,
           0,
           0,
           0,
           0,
           0,
           0,
           0,
           0,
           0,
           0,
           0,
           0,
           0,
           0,
           0,
           0,
           0,
           0,
           0,
           0,
           0,
           0,
           0,
           0,
           0,
           0,
           0,
           0,
           0,
           0,
           0,
           0,
           0,
           0,
           0,
           0,
           0,
           0,
           0,
           0,
           0,
           0,
           0,
           0,
           0,
           0,
           0,
           0,
           0,
           0,
           0,
           0,
           0,
           0,
           0,
           0,
           0,
           0,
           0,
           0,
           0,
           0,
           0,
           0,
           0,
           0,
           0,
           0,
           0,
           0,
           0,
           0,
           0,
           0,
           0,
           0,
           0,
           0,
           0,
           0,
           0,
           0,
           0,
           0,
           0,
           0,
           0,
           0,
           0,
           0,
           0,
           0,
           0,
           0,
           0,
           0,
           0,
           0,
           0,
           0,
           0,
           0,
           0,
           0,
           0,
           0,
           0,
           0,
           0,
           0,
           0,
           0,
           0,
           0,
           0,
           0,
           0,
           0,
           0,
           0,
           0,
           0,
           0,
           0,
           0,
           0,
           0,
           0,
           0,
           0,
           0,
           0,
           0,
           0,
           0,
           0,
           0,
           0,
           0,
           0,
           0,
           0,
           0,
           0,
           0,
           0,
           0,
           0,
           0,
           0,
           0,
           0,
           0,
           0,
           0,
           0,
           0,
           0,
           0,
           0,
           0,
           0,
           0,
           0,
           0,
           0,
           0,
           0,
           0,
           0,
           0,
           0,
           0,
           0,
           0,
           0,
           0,
           0,
           0,
           0,
           0,
           0,
           0,
           0,
           0,
           0,
           0,
           0,
           0,
           0,
           0,
           0,
           0,
           0,
           0,
           0,
           0,
           0,
           0,
           0,
           0,
           0,
           0,
           0,
           0,
           0,
           0,
           0,
           0,
           0,
           0,
           0,
           0,
           0,
           0,
           0,
           0,
           0,
           0,
           0,
           0,
           0,
           0,
           0,
           0,
           0,
           0,
           0,
           0,
           0,
           0,
           0,
           0,
           0,
           0,
           0,
           0,
           0,
           0,
           0
          ],
          "coloraxis": "coloraxis",
          "opacity": 0.7,
          "symbol": "circle"
         },
         "mode": "markers",
         "name": "",
         "scene": "scene",
         "showlegend": false,
         "type": "scatter3d",
         "x": [
          3.25248384475708,
          -10.298372268676758,
          12.230648040771484,
          9.322646141052246,
          18.01011848449707,
          7.671535968780518,
          -14.113431930541992,
          10.884429931640625,
          -2.043161630630493,
          -8.081048011779785,
          8.386995315551758,
          17.30156135559082,
          4.595013618469238,
          -4.903791904449463,
          9.794998168945312,
          15.33549976348877,
          4.61176872253418,
          -11.26800537109375,
          10.85454273223877,
          11.200845718383789,
          7.728896617889404,
          2.5635862350463867,
          14.853738784790039,
          -1.5121744871139526,
          6.545124053955078,
          3.1773900985717773,
          16.324254989624023,
          -5.4929962158203125,
          17.723527908325195,
          12.001145362854004,
          -2.9684715270996094,
          -7.477880954742432,
          4.490179061889648,
          9.206835746765137,
          -6.394899845123291,
          1.5618140697479248,
          0.319172203540802,
          -5.8345561027526855,
          4.005427837371826,
          8.797440528869629,
          -16.146556854248047,
          11.671670913696289,
          -11.286905288696289,
          6.803907871246338,
          11.486952781677246,
          15.9486665725708,
          10.953043937683105,
          -1.8244671821594238,
          17.07647705078125,
          -14.832620620727539,
          8.38319206237793,
          9.16455078125,
          -7.140961647033691,
          15.761155128479004,
          5.786719799041748,
          -10.657257080078125,
          -8.751083374023438,
          -7.218197345733643,
          9.435402870178223,
          12.285116195678711,
          -5.193624496459961,
          -8.914363861083984,
          17.485689163208008,
          10.035199165344238,
          -12.840001106262207,
          10.929752349853516,
          -12.012089729309082,
          -10.49142074584961,
          16.638120651245117,
          6.104767799377441,
          14.810676574707031,
          11.558716773986816,
          4.279821395874023,
          7.161403656005859,
          -1.9220679998397827,
          -1.0491887331008911,
          15.58181381225586,
          13.66396713256836,
          -3.25030517578125,
          -4.752325057983398,
          -4.69221830368042,
          -1.003273606300354,
          16.23873519897461,
          -8.575980186462402,
          -10.410836219787598,
          -4.83896017074585,
          -13.488394737243652,
          -13.94287395477295,
          -3.582449436187744,
          2.4860587120056152,
          1.0497719049453735,
          7.748786449432373,
          -9.815125465393066,
          -11.478607177734375,
          -9.742966651916504,
          17.174102783203125,
          -7.766179084777832,
          -4.197221279144287,
          -7.493058681488037,
          15.47677230834961,
          5.192322731018066,
          -14.378445625305176,
          -4.298190593719482,
          -9.088737487792969,
          18.035396575927734,
          -7.140751838684082,
          -8.015257835388184,
          -5.717087268829346,
          -3.030121326446533,
          13.06787395477295,
          1.6098660230636597,
          5.40335750579834,
          5.183729648590088,
          -2.3961541652679443,
          16.197629928588867,
          -0.7061888575553894,
          -13.689393043518066,
          -11.222634315490723,
          7.717188835144043,
          -8.9072904586792,
          -1.2979015111923218,
          -2.9035751819610596,
          -4.395412445068359,
          -13.04012393951416,
          -1.3953666687011719,
          -8.10412883758545,
          -8.625711441040039,
          9.433186531066895,
          -9.898670196533203,
          -7.587355136871338,
          -4.327680587768555,
          -7.65150260925293,
          9.395153999328613,
          -10.670198440551758,
          -15.112504959106445,
          -1.1497526168823242,
          15.650453567504883,
          10.132476806640625,
          -7.890761375427246,
          -5.424281597137451,
          7.618670463562012,
          0.6657360196113586,
          -8.918071746826172,
          17.15261459350586,
          -9.771385192871094,
          -6.351428985595703,
          8.536964416503906,
          -14.360784530639648,
          -8.925207138061523,
          -6.120042324066162,
          2.152778148651123,
          -1.1595162153244019,
          -2.2053627967834473,
          -10.020973205566406,
          3.107241153717041,
          -8.758137702941895,
          -14.248191833496094,
          -14.636390686035156,
          -1.8727201223373413,
          5.858366966247559,
          -14.188688278198242,
          -7.230247974395752,
          0.8835354447364807,
          -4.33106803894043,
          7.671201229095459,
          -15.299202919006348,
          8.037226676940918,
          12.732227325439453,
          12.565380096435547,
          -2.954179286956787,
          -8.676619529724121,
          -3.4107227325439453,
          6.870362281799316,
          14.689724922180176,
          -1.1485817432403564,
          -14.334117889404297,
          6.393078327178955,
          13.665933609008789,
          -9.001220703125,
          10.742986679077148,
          -1.9221432209014893,
          7.499138355255127,
          -6.537100791931152,
          14.486038208007812,
          13.095195770263672,
          -12.412205696105957,
          11.07722282409668,
          -5.202556610107422,
          -4.762069225311279,
          -0.9770424962043762,
          -14.589305877685547,
          17.644855499267578,
          8.193863868713379,
          15.2034273147583,
          -16.199962615966797,
          -13.412184715270996,
          -1.5463335514068604,
          -4.95466947555542,
          6.488818168640137,
          -0.8387334942817688,
          -3.713463068008423,
          -5.42860221862793,
          -8.011512756347656,
          16.750864028930664,
          13.740609169006348,
          -7.297682762145996,
          -5.470409393310547,
          -3.640380620956421,
          6.977848529815674,
          -8.548223495483398,
          -0.8944074511528015,
          11.924291610717773,
          14.317596435546875,
          0.3147921860218048,
          -2.75555419921875,
          -3.0497360229492188,
          -8.352770805358887,
          14.088386535644531,
          16.432594299316406,
          -4.548125267028809,
          13.919265747070312,
          -5.422113418579102,
          16.23869514465332,
          -3.353893280029297,
          -14.80746078491211,
          -4.566293716430664,
          -11.574690818786621,
          -5.382141590118408,
          -15.815832138061523,
          8.81493854522705,
          -12.7626371383667,
          -10.108675003051758,
          9.859901428222656,
          10.30370807647705,
          -10.002561569213867,
          -5.039823055267334,
          -6.144954204559326,
          -1.7385737895965576,
          9.691994667053223,
          12.855753898620605,
          -3.57261061668396,
          -2.207301378250122,
          12.229430198669434,
          -12.325538635253906,
          11.032411575317383,
          -14.756991386413574,
          -3.397808790206909,
          -0.7694616913795471,
          -11.464991569519043,
          15.200557708740234,
          -8.790088653564453,
          -3.530303478240967,
          11.410205841064453,
          -6.981193542480469,
          -7.074470520019531,
          -1.13516104221344,
          1.311845064163208,
          -12.788850784301758,
          9.464262008666992,
          -9.401864051818848,
          13.231328964233398,
          -6.578702926635742,
          17.080629348754883,
          -1.7860738039016724,
          -9.027349472045898,
          -12.108893394470215,
          11.011419296264648,
          -14.755295753479004,
          -2.9204752445220947,
          -3.309678554534912,
          -4.606982707977295,
          -8.957805633544922,
          -0.2745986878871918,
          12.382201194763184,
          6.521032810211182,
          -9.65288257598877,
          15.72337532043457,
          17.709754943847656,
          -5.471941947937012,
          -4.839836597442627,
          -12.046208381652832,
          12.42591381072998,
          -6.469163417816162,
          -0.5836806297302246,
          15.691120147705078,
          -5.065587520599365,
          -11.075093269348145,
          -5.848952293395996,
          -14.454086303710938,
          6.597768306732178,
          1.7825262546539307,
          -6.6330132484436035,
          -7.695372581481934,
          -5.792205810546875,
          -8.565267562866211,
          5.9680914878845215,
          8.368382453918457,
          -3.4036965370178223,
          -6.629157066345215,
          1.7697360515594482,
          -5.705044269561768,
          -12.00623607635498,
          14.378921508789062,
          11.157793998718262,
          8.630305290222168,
          0.16966944932937622,
          -3.3014819622039795,
          0.16591507196426392,
          -15.351266860961914,
          13.234488487243652,
          12.276488304138184,
          -15.246034622192383,
          7.747533798217773,
          12.80173110961914,
          -3.161120653152466,
          2.608027696609497,
          -2.815808057785034,
          -11.89164924621582,
          -0.45929816365242004,
          -8.361467361450195,
          -5.002628326416016,
          -0.998115599155426,
          11.189630508422852,
          -6.146634578704834,
          -2.0141305923461914,
          1.2189146280288696,
          11.926487922668457,
          11.153472900390625,
          12.467731475830078,
          8.171415328979492,
          -14.987269401550293,
          14.671944618225098,
          -8.308842658996582,
          -7.582758903503418,
          -14.053037643432617,
          14.7874116897583,
          -7.2918782234191895,
          -1.3479892015457153,
          11.197504997253418,
          13.327997207641602,
          -0.5214090347290039,
          -6.861449718475342,
          7.549887657165527,
          -10.190675735473633,
          10.930441856384277,
          14.169869422912598,
          -10.49795913696289,
          -16.799274444580078,
          8.776631355285645,
          14.875188827514648,
          -3.486192226409912,
          -0.9579483270645142,
          -8.64439868927002,
          -8.490617752075195,
          -11.063432693481445,
          -6.762858867645264,
          -6.501466751098633,
          -6.018399238586426,
          17.394521713256836,
          0.9566401243209839,
          -8.875381469726562,
          -4.4380269050598145,
          -4.648550987243652,
          -13.992085456848145,
          9.987106323242188,
          0.6656662225723267,
          14.877470016479492,
          -12.201035499572754,
          -13.133280754089355,
          -6.217134952545166,
          -11.60448169708252,
          -3.542551279067993,
          16.709091186523438,
          11.653465270996094,
          11.17071533203125,
          -11.918671607971191,
          -0.39206257462501526,
          8.947537422180176,
          -8.828857421875,
          0.6685934662818909,
          7.368775367736816,
          -5.100858211517334,
          -1.3766014575958252,
          4.180354118347168,
          -7.933684825897217,
          -7.261856555938721,
          -7.303262710571289,
          -6.940071105957031,
          -0.5810069441795349,
          4.902454376220703,
          -12.11533260345459,
          -7.621958255767822,
          0.5527829527854919,
          -1.8667752742767334,
          -9.230229377746582,
          -8.660318374633789,
          -6.931939601898193,
          11.355952262878418,
          2.3018388748168945,
          -4.36007022857666,
          -8.481121063232422,
          -11.455657958984375,
          -14.964025497436523,
          -7.515942573547363,
          12.906638145446777,
          -14.243115425109863,
          13.195208549499512,
          -4.524834632873535,
          4.610385894775391,
          -5.157433986663818,
          -10.76298713684082,
          -0.2771664261817932,
          17.470439910888672,
          0.13991950452327728,
          -7.072402000427246,
          -10.728728294372559,
          -14.334136009216309,
          -10.521428108215332,
          10.770086288452148,
          14.244062423706055,
          5.102605819702148,
          -8.269201278686523,
          -5.362460136413574,
          -9.648091316223145,
          13.0305757522583,
          -14.785515785217285,
          -12.615145683288574,
          8.503287315368652,
          4.188315391540527,
          15.319472312927246,
          -0.45395898818969727,
          -12.898614883422852,
          -8.915393829345703,
          9.976156234741211,
          14.405914306640625,
          -1.5436322689056396,
          -11.378558158874512,
          16.098840713500977,
          -2.940901041030884,
          13.91804313659668,
          -6.7919206619262695,
          -2.6914288997650146,
          14.905861854553223,
          17.25385093688965,
          -4.622834205627441,
          6.0820417404174805,
          14.431736946105957,
          -9.415316581726074,
          13.853100776672363,
          7.701135635375977,
          -11.379077911376953,
          15.845264434814453,
          -12.60054874420166,
          0.38622185587882996,
          6.12949275970459,
          -8.898985862731934,
          -0.09898561984300613,
          14.917314529418945,
          -2.757007122039795,
          4.107525825500488,
          -7.832869529724121,
          14.60289478302002,
          -11.716582298278809,
          -5.5800395011901855,
          -2.1441245079040527,
          0.9995009303092957,
          -3.3740811347961426,
          14.279854774475098,
          -15.264874458312988,
          13.240063667297363,
          -2.1758785247802734,
          -10.61316204071045,
          -13.016267776489258,
          -2.085258722305298,
          -11.545756340026855,
          -15.617265701293945,
          -12.771921157836914,
          8.359230995178223,
          0.15466216206550598,
          -11.155191421508789,
          -14.402101516723633,
          -10.10509204864502,
          9.470283508300781,
          15.43454360961914,
          -13.30099105834961,
          16.707801818847656,
          -2.416046380996704,
          4.639717102050781,
          -0.2757102847099304,
          13.77212905883789,
          -0.45438528060913086,
          5.981143474578857,
          7.464146137237549,
          14.758536338806152,
          12.615761756896973,
          8.962668418884277,
          -5.347171306610107,
          5.48815393447876,
          -8.706014633178711,
          3.319585084915161,
          -7.9176764488220215,
          -4.677293300628662,
          1.4762917757034302,
          -3.151193141937256,
          4.063965320587158,
          13.653912544250488,
          -2.0656142234802246,
          -16.244434356689453,
          5.0009331703186035,
          8.202898025512695,
          17.576444625854492,
          -14.996321678161621,
          -2.4686427116394043,
          12.933828353881836,
          -3.808584213256836,
          -10.255027770996094,
          -9.575480461120605,
          -2.5340590476989746,
          -3.1605186462402344,
          -3.1070611476898193,
          5.344968795776367,
          15.712491035461426,
          9.391484260559082,
          12.473270416259766,
          17.02483367919922,
          -14.569550514221191,
          4.174709796905518,
          -12.208257675170898,
          -1.1047297716140747,
          2.3456661701202393,
          -4.191418170928955,
          14.10912799835205,
          6.081932544708252,
          -11.230660438537598,
          5.333462715148926,
          11.58823013305664,
          -5.753293991088867,
          17.084508895874023,
          -0.39119383692741394,
          -3.7449779510498047,
          -4.983241081237793,
          6.955295562744141,
          -10.686603546142578,
          -9.57888126373291,
          -16.856124877929688,
          7.276225566864014,
          -6.7052226066589355,
          8.480489730834961,
          9.246842384338379,
          -6.64567232131958,
          -9.461174011230469,
          -1.43315589427948,
          15.91844367980957,
          -1.862951397895813,
          -9.177043914794922,
          -5.6516642570495605,
          5.254434585571289,
          -1.6395930051803589,
          11.56822395324707,
          -0.9403116106987,
          17.713171005249023,
          16.733112335205078,
          -10.113739967346191,
          7.480432987213135,
          -10.422840118408203,
          -5.808474540710449,
          -13.717641830444336,
          -4.499129772186279,
          8.837206840515137,
          5.999128818511963,
          3.411033868789673,
          5.82200813293457,
          11.488603591918945,
          15.290789604187012,
          -8.657506942749023,
          13.440009117126465,
          -11.043415069580078,
          -14.014469146728516,
          -0.0757608562707901,
          -0.5135429501533508,
          4.988094329833984,
          -0.3223651349544525,
          11.84453296661377,
          -11.059022903442383,
          -15.310763359069824,
          -5.786094665527344,
          2.408287286758423,
          -10.195734977722168,
          -14.776544570922852,
          14.745824813842773,
          -11.951355934143066,
          -12.508295059204102,
          -1.484575629234314,
          12.351357460021973,
          -3.920954704284668,
          -8.642627716064453,
          11.000885009765625,
          14.387894630432129,
          7.962137699127197,
          16.723896026611328,
          8.377875328063965,
          -4.1488237380981445,
          8.756057739257812,
          -12.792129516601562,
          6.658763408660889,
          -8.118597984313965,
          11.303023338317871,
          16.10983657836914,
          -9.49600887298584,
          -5.935793876647949,
          8.967902183532715,
          2.1107590198516846,
          4.406213760375977,
          0.43176212906837463,
          -6.195765495300293,
          -11.014447212219238,
          -1.443209171295166,
          -2.67193341255188,
          -2.2533247470855713,
          1.9795550107955933,
          -3.5879931449890137,
          -7.9859089851379395,
          -9.215513229370117,
          -3.414019823074341,
          12.225605010986328,
          13.186244010925293,
          -13.64026927947998,
          17.115245819091797,
          -5.490255832672119,
          -5.489567756652832,
          0.5678656697273254,
          -4.477951526641846,
          -1.335583209991455,
          15.911760330200195,
          2.787778854370117,
          -0.18131642043590546,
          2.151517629623413,
          -3.892767906188965,
          6.054203987121582,
          -5.007660388946533,
          13.492195129394531,
          -8.541974067687988,
          -13.131124496459961,
          0.30240464210510254,
          14.6526460647583,
          0.9018009901046753,
          12.594368934631348,
          -2.606511354446411,
          13.67231273651123,
          -0.23487062752246857,
          -11.501932144165039,
          -13.377947807312012,
          -5.114264488220215,
          8.676713943481445,
          -14.745424270629883,
          -6.6578216552734375,
          15.901487350463867,
          -0.564517080783844,
          -6.5686116218566895,
          13.22740650177002,
          14.340547561645508,
          -7.1682305335998535,
          -2.2228550910949707,
          2.302509069442749,
          7.74440860748291,
          -6.173945903778076,
          9.32848834991455,
          -10.513372421264648,
          -5.115722179412842,
          -14.440288543701172,
          -5.434140682220459,
          -6.991644859313965,
          -9.595499038696289,
          -5.801078796386719,
          5.812690734863281,
          -10.097745895385742,
          -8.849963188171387,
          4.642029762268066,
          9.250202178955078,
          -10.748510360717773,
          12.131163597106934,
          -11.92696475982666,
          -1.0574098825454712,
          6.71681547164917,
          -11.758749008178711,
          -14.617884635925293,
          -6.396698474884033,
          -16.530864715576172,
          7.76678466796875,
          13.312834739685059,
          6.649251461029053,
          11.285820960998535,
          17.04363250732422,
          -1.4941576719284058,
          6.8902506828308105,
          5.470550537109375,
          1.2687702178955078,
          -4.3864641189575195,
          -1.9863812923431396,
          10.670543670654297,
          -1.372636318206787,
          -11.731290817260742,
          -4.894800186157227,
          17.75420570373535,
          -4.91819953918457,
          -10.428098678588867,
          9.3042573928833,
          12.901695251464844,
          -3.0579042434692383,
          7.334461688995361,
          9.659159660339355,
          -14.002219200134277,
          -3.8954074382781982,
          3.2236168384552,
          -5.823996543884277,
          4.075512409210205,
          7.826711654663086,
          16.00514793395996,
          -5.757880210876465,
          -8.695633888244629,
          10.962930679321289,
          -15.339603424072266,
          -1.5136185884475708,
          9.068624496459961,
          -9.523211479187012,
          4.52453088760376,
          7.497690677642822,
          5.014253616333008,
          11.348906517028809,
          8.484160423278809,
          -1.0164201259613037,
          16.500205993652344,
          -5.172959804534912,
          -5.941568851470947,
          -0.45150235295295715,
          6.691660404205322,
          -0.009366011247038841,
          -1.9334532022476196,
          -3.2442941665649414,
          9.907140731811523,
          -5.01801061630249,
          -1.1074265241622925,
          -0.9046302437782288,
          7.668478965759277,
          2.3856983184814453,
          -3.2335104942321777,
          -2.0835869312286377,
          5.308681488037109,
          14.66055965423584,
          14.851648330688477,
          -9.546605110168457,
          16.277271270751953,
          -10.466413497924805,
          -16.099782943725586,
          -12.794462203979492,
          14.06273078918457,
          -4.753314018249512,
          -6.608057498931885,
          13.344405174255371,
          -16.383499145507812,
          14.401623725891113,
          -9.627705574035645,
          -10.070576667785645,
          -15.70693588256836,
          2.8092172145843506,
          -12.569973945617676,
          -14.28120231628418,
          17.589359283447266,
          -11.856133460998535,
          18.50672721862793,
          -4.620773792266846,
          -0.39010190963745117,
          -2.745154857635498,
          -12.649514198303223,
          0.7782973051071167,
          -13.28857707977295,
          -5.483482837677002,
          -1.468607783317566,
          -1.281216025352478,
          1.1768333911895752,
          -1.5999751091003418,
          -13.209794998168945,
          -3.7489564418792725,
          2.010669231414795,
          -1.256292700767517,
          14.55200481414795,
          -7.890798568725586,
          5.954344749450684,
          -5.062973976135254,
          -4.82018518447876,
          13.017988204956055,
          -2.718613386154175,
          9.237676620483398,
          -0.0253111831843853,
          -15.58709716796875,
          -7.612160682678223,
          -11.129620552062988,
          14.061905860900879,
          -1.133270502090454,
          -14.109524726867676,
          -4.970142841339111,
          -4.787606239318848,
          -2.1418251991271973,
          -9.971776962280273,
          13.535846710205078,
          -15.214913368225098,
          -10.03640365600586,
          -4.890953540802002,
          7.657530784606934,
          -10.86739444732666,
          15.672138214111328,
          6.734910011291504,
          -0.3722522258758545,
          5.207976818084717,
          -3.9059505462646484,
          13.680292129516602,
          -4.993107318878174,
          13.203428268432617,
          6.688007354736328,
          9.038068771362305,
          7.477731704711914,
          12.553215026855469,
          -3.607009172439575,
          -5.933039665222168,
          -1.998644232749939,
          -11.29069995880127,
          7.60205602645874,
          -4.085996150970459,
          0.5043209791183472,
          14.540762901306152,
          -5.908492565155029,
          1.3026072978973389,
          16.59688949584961,
          7.528308868408203,
          15.155763626098633,
          6.5688066482543945,
          17.432376861572266,
          17.941476821899414,
          6.603630065917969,
          -9.097915649414062,
          -1.1340614557266235,
          -8.845702171325684,
          9.311664581298828,
          -6.019183158874512,
          -12.939658164978027,
          5.212115287780762,
          -4.091302394866943,
          -1.2308422327041626,
          1.7474660873413086,
          -1.5864354372024536,
          5.443848609924316,
          4.2712602615356445,
          -9.858457565307617,
          -1.136272668838501,
          -0.9191937446594238,
          -3.1059601306915283,
          -2.828112840652466,
          6.395293712615967,
          -4.249173164367676,
          8.950629234313965,
          3.8453779220581055,
          -4.244438171386719,
          -0.06760058552026749,
          -2.154466152191162,
          -2.9043445587158203,
          10.065058708190918,
          -11.10074234008789,
          -4.679609298706055,
          6.715360164642334,
          1.3572030067443848,
          8.092798233032227,
          -9.439125061035156,
          -13.603571891784668,
          1.4002200365066528,
          -9.782480239868164,
          -9.840505599975586,
          -9.209053039550781,
          -3.2532460689544678,
          -0.13528624176979065,
          12.903610229492188,
          1.1062700748443604,
          1.6526864767074585,
          -6.970369815826416,
          12.602012634277344,
          11.414050102233887,
          5.633476734161377,
          1.0511902570724487,
          -7.408243656158447,
          1.616929054260254,
          7.789172172546387,
          16.222522735595703,
          12.519102096557617,
          12.585922241210938,
          -6.485788345336914,
          13.752313613891602,
          -0.9273503422737122,
          -1.5885732173919678,
          -14.50964069366455,
          -0.7097443342208862,
          -8.049079895019531,
          -5.587965965270996,
          -6.925786972045898,
          -12.121926307678223,
          13.63313102722168,
          -1.7199727296829224,
          16.923654556274414,
          8.871963500976562,
          -7.177478313446045,
          12.206572532653809,
          -2.9525904655456543,
          -12.734106063842773,
          -9.63101577758789,
          -9.671334266662598,
          -1.7701809406280518,
          9.405311584472656,
          17.5598201751709,
          0.2480909675359726,
          -4.12321138381958,
          6.188575267791748,
          6.629929065704346,
          4.588347434997559,
          9.682019233703613,
          -8.111377716064453,
          -3.7710041999816895,
          -3.4279651641845703,
          1.9545503854751587,
          -7.8106889724731445,
          0.3234909474849701,
          -6.5863471031188965,
          -3.424283742904663,
          18.479772567749023,
          -8.2048921585083,
          -13.22253704071045,
          13.957262992858887,
          11.0831880569458,
          14.68411636352539,
          -8.07315444946289,
          12.90821647644043,
          -9.33447265625,
          7.390946865081787,
          12.741755485534668,
          -4.819744110107422,
          -3.289947032928467,
          5.158396244049072,
          -0.14380216598510742,
          10.929975509643555,
          -0.6918720602989197,
          -0.47424426674842834,
          -5.203245162963867,
          -7.243388652801514,
          -0.2066902220249176,
          -4.668359279632568,
          13.055706977844238,
          10.704699516296387,
          -6.5848493576049805,
          -14.28787899017334,
          6.705115795135498,
          11.510002136230469,
          7.326777935028076,
          -2.900099754333496,
          -14.584856986999512,
          -8.466307640075684,
          13.09213638305664,
          -2.1415817737579346,
          -0.27764368057250977,
          -15.433196067810059,
          -5.957188606262207,
          -1.8649216890335083,
          9.81670093536377,
          -8.189056396484375,
          15.590197563171387,
          -0.06266722828149796,
          -0.9513980150222778,
          17.358684539794922,
          -4.438122272491455,
          -13.548356056213379,
          -11.573739051818848,
          15.074617385864258,
          -5.023270130157471,
          5.586503982543945,
          9.363750457763672,
          5.34199333190918,
          -3.659750461578369,
          -12.304723739624023,
          14.821292877197266,
          -11.60959529876709,
          -3.4622387886047363,
          7.76584005355835,
          6.016811847686768,
          17.266357421875,
          6.923957824707031,
          -0.3106009364128113,
          1.0597931146621704,
          12.971122741699219,
          11.462151527404785,
          -0.15382696688175201,
          -10.10216999053955,
          -4.921818733215332,
          9.029661178588867,
          16.968076705932617
         ],
         "y": [
          -7.922199249267578,
          1.5385245084762573,
          -6.369449615478516,
          -0.3444922864437103,
          -4.734435558319092,
          -1.1479765176773071,
          2.6109447479248047,
          7.0560150146484375,
          -3.96921706199646,
          -6.242646217346191,
          8.803764343261719,
          -1.3643018007278442,
          0.9781404733657837,
          -7.0026350021362305,
          -1.4693650007247925,
          6.205791473388672,
          1.0305839776992798,
          -5.088797092437744,
          -6.343460559844971,
          -0.7034457325935364,
          -2.0491743087768555,
          -3.12833833694458,
          -4.592370510101318,
          -3.3559601306915283,
          1.712328314781189,
          -1.008790373802185,
          -2.316498279571533,
          -2.2486047744750977,
          6.306930065155029,
          8.375443458557129,
          -2.919405221939087,
          4.820664882659912,
          -4.171848773956299,
          -1.2813501358032227,
          6.468562602996826,
          -3.1610920429229736,
          -0.8656080961227417,
          -2.294780969619751,
          -4.574871063232422,
          0.6752274036407471,
          -1.525939702987671,
          0.6086716055870056,
          -1.3756810426712036,
          1.0216413736343384,
          -0.364046573638916,
          6.585813522338867,
          -0.8214359283447266,
          -3.4829540252685547,
          -1.5938928127288818,
          -4.443757057189941,
          6.007534980773926,
          -5.902225494384766,
          1.6898927688598633,
          6.605317115783691,
          0.09364775568246841,
          8.250923156738281,
          8.697275161743164,
          5.4373369216918945,
          -0.8538174033164978,
          -1.7470424175262451,
          -4.332362651824951,
          -6.044698238372803,
          2.6027913093566895,
          8.315314292907715,
          -4.640007972717285,
          -1.4082728624343872,
          -8.203235626220703,
          -4.976048946380615,
          -1.5275166034698486,
          4.672541618347168,
          7.994176387786865,
          2.9341299533843994,
          -5.378900527954102,
          2.7839672565460205,
          -8.488564491271973,
          -4.43697452545166,
          -0.5145941972732544,
          3.508852481842041,
          -4.825106143951416,
          -3.4867959022521973,
          -4.249826908111572,
          -2.5123941898345947,
          -2.257801055908203,
          -4.725037574768066,
          1.4619332551956177,
          3.8474042415618896,
          -0.275667667388916,
          -2.3649628162384033,
          4.831457138061523,
          -1.1561464071273804,
          -4.817239761352539,
          6.668274879455566,
          -1.1849015951156616,
          2.300743579864502,
          5.876859664916992,
          3.8686909675598145,
          -1.0183067321777344,
          2.104766607284546,
          -3.340233325958252,
          -0.6328029036521912,
          -4.605449199676514,
          -2.8958044052124023,
          1.6667532920837402,
          1.7269604206085205,
          2.9008371829986572,
          -2.797271728515625,
          -3.922624349594116,
          3.2999422550201416,
          -8.131122589111328,
          2.881072998046875,
          -1.8455315828323364,
          -2.4786794185638428,
          7.654116630554199,
          -5.2507734298706055,
          -4.605037689208984,
          -1.4887847900390625,
          4.972711563110352,
          2.4796292781829834,
          0.944046139717102,
          -2.157280445098877,
          -1.4898613691329956,
          2.911165714263916,
          2.447631359100342,
          -3.068430185317993,
          -2.290447473526001,
          0.5737918019294739,
          6.61848258972168,
          1.2736655473709106,
          0.9236090779304504,
          -0.6479824185371399,
          4.914397716522217,
          -0.18237799406051636,
          5.180030345916748,
          4.708630084991455,
          -2.0867607593536377,
          -7.826752185821533,
          -4.044540882110596,
          2.425705909729004,
          1.377174735069275,
          1.083321452140808,
          3.797135353088379,
          -1.2786810398101807,
          2.555356979370117,
          -2.8012516498565674,
          -1.1067662239074707,
          -3.5639662742614746,
          6.2541303634643555,
          0.8123293519020081,
          1.7375279664993286,
          -1.7749762535095215,
          -2.0067992210388184,
          -4.259439945220947,
          3.7695300579071045,
          3.082602024078369,
          -4.02026891708374,
          -1.130461573600769,
          -4.872282981872559,
          -2.5160624980926514,
          -5.7065911293029785,
          2.0418245792388916,
          4.714205741882324,
          5.0692572593688965,
          -4.250063419342041,
          -3.486652374267578,
          1.509482979774475,
          -2.902104377746582,
          3.1019294261932373,
          6.442744731903076,
          -2.032945156097412,
          -3.5096235275268555,
          -3.566420793533325,
          2.641692876815796,
          2.9355099201202393,
          -5.4607834815979,
          0.3669452965259552,
          -2.9668056964874268,
          0.876625657081604,
          -5.442929267883301,
          2.6592700481414795,
          1.684051752090454,
          2.6087629795074463,
          6.247306823730469,
          5.909666061401367,
          6.984784126281738,
          6.989356517791748,
          4.683073997497559,
          2.7121779918670654,
          4.842164993286133,
          -4.851566791534424,
          -3.834383964538574,
          0.1483473926782608,
          -3.229731559753418,
          7.270787239074707,
          -5.6120219230651855,
          1.2802428007125854,
          4.413134574890137,
          3.544771432876587,
          4.4571919441223145,
          -4.642333507537842,
          -1.6041793823242188,
          3.0947751998901367,
          -0.397352397441864,
          5.297410011291504,
          -1.73175048828125,
          -5.702337265014648,
          5.064150333404541,
          -1.461593508720398,
          3.768014430999756,
          6.087312698364258,
          2.6940886974334717,
          0.6951020956039429,
          4.152586460113525,
          1.9347705841064453,
          -1.16734778881073,
          2.988489866256714,
          2.9898338317871094,
          2.0509722232818604,
          4.681130409240723,
          3.4172332286834717,
          1.6420421600341797,
          -6.20986795425415,
          0.5602620244026184,
          -1.6316969394683838,
          -7.5985026359558105,
          0.6026061177253723,
          -1.224399209022522,
          -2.262641429901123,
          -6.27834939956665,
          -1.7667927742004395,
          5.706120014190674,
          3.2458202838897705,
          -1.1211267709732056,
          2.4630396366119385,
          2.160271406173706,
          1.3217462301254272,
          0.4311959147453308,
          -2.327052593231201,
          -3.871412754058838,
          1.4629578590393066,
          -6.641864776611328,
          4.05412483215332,
          1.4965254068374634,
          -4.324522495269775,
          -0.9069341421127319,
          5.119421482086182,
          -0.3995905816555023,
          -5.946717739105225,
          -4.0084733963012695,
          -1.8559467792510986,
          -4.236937046051025,
          5.176103591918945,
          0.4490688443183899,
          2.508392810821533,
          4.968842029571533,
          -2.8399393558502197,
          -3.00435733795166,
          -8.386341094970703,
          -0.6077163815498352,
          5.501269340515137,
          -0.9173716306686401,
          -5.086036682128906,
          5.05676794052124,
          -4.786770820617676,
          1.5996878147125244,
          3.6859734058380127,
          -1.0395828485488892,
          3.618227005004883,
          2.277561902999878,
          -7.880385875701904,
          5.146252155303955,
          2.879631280899048,
          6.088051795959473,
          -8.004887580871582,
          -5.3682355880737305,
          1.3252149820327759,
          4.16337251663208,
          3.0478715896606445,
          -3.2091588973999023,
          2.3140885829925537,
          -4.791797637939453,
          -1.934471607208252,
          -5.013005256652832,
          -4.802369117736816,
          -5.982004642486572,
          -4.035694122314453,
          1.2417113780975342,
          -3.6872429847717285,
          0.6231012344360352,
          -0.6857671141624451,
          -5.387397766113281,
          -1.795044183731079,
          3.347799062728882,
          -3.585906982421875,
          0.23003506660461426,
          -4.682856559753418,
          5.153571605682373,
          5.1502556800842285,
          -2.4693307876586914,
          -3.7589492797851562,
          -6.824398517608643,
          4.467416286468506,
          0.7643174529075623,
          4.872476100921631,
          4.761903285980225,
          4.048245429992676,
          -6.127401828765869,
          1.8147011995315552,
          -5.034069061279297,
          -0.9939165115356445,
          7.133341312408447,
          6.960660457611084,
          1.202722430229187,
          6.135794639587402,
          -6.232202053070068,
          5.280384540557861,
          -7.93432092666626,
          -3.368065595626831,
          1.3492573499679565,
          -6.130406379699707,
          5.183403968811035,
          3.9618160724639893,
          -6.361056327819824,
          2.594836711883545,
          1.9291263818740845,
          -0.4251255691051483,
          -4.424259662628174,
          2.7267580032348633,
          4.720402717590332,
          -1.1728910207748413,
          3.7713191509246826,
          2.49709415435791,
          4.443769931793213,
          4.920534610748291,
          -2.0312445163726807,
          -2.8758251667022705,
          -0.952104389667511,
          0.5671325922012329,
          -8.380858421325684,
          2.705099582672119,
          4.30278205871582,
          -8.830954551696777,
          -4.919440269470215,
          0.9335752129554749,
          3.41992449760437,
          6.164968967437744,
          -1.5356823205947876,
          4.4850053787231445,
          -0.9062550663948059,
          1.531651496887207,
          5.023365497589111,
          -0.42364421486854553,
          -8.14836311340332,
          -0.4789513647556305,
          5.855850696563721,
          -3.6395022869110107,
          -5.596848011016846,
          2.5164685249328613,
          -0.6868237853050232,
          4.710852146148682,
          -2.3195300102233887,
          0.7049756646156311,
          1.5042093992233276,
          -4.571550369262695,
          -0.6226979494094849,
          2.495342969894409,
          -4.014960289001465,
          3.367731809616089,
          2.5448825359344482,
          -0.6976885795593262,
          3.734767436981201,
          -3.009425401687622,
          4.06854772567749,
          -1.315273642539978,
          -0.08432687073945999,
          2.488525390625,
          -3.8683509826660156,
          -8.041971206665039,
          3.4813997745513916,
          5.502383232116699,
          -2.330888032913208,
          3.1165170669555664,
          0.6053394079208374,
          -8.723616600036621,
          -6.1952290534973145,
          0.41136157512664795,
          -1.1861157417297363,
          -3.5166940689086914,
          -2.5622265338897705,
          -0.9306319355964661,
          -2.646336078643799,
          -4.558874607086182,
          -1.272091031074524,
          -6.87102746963501,
          -4.20410680770874,
          0.44728267192840576,
          5.947281837463379,
          -3.091049909591675,
          4.69144868850708,
          -4.880780220031738,
          -5.830630302429199,
          -2.381044626235962,
          -5.996913909912109,
          1.5724432468414307,
          5.665812015533447,
          5.461523056030273,
          2.9093987941741943,
          -2.8619494438171387,
          0.47194531559944153,
          2.265580415725708,
          5.990123748779297,
          -1.8341883420944214,
          -2.286156415939331,
          3.179656982421875,
          -5.0697455406188965,
          4.1042962074279785,
          -1.275920033454895,
          -4.008036136627197,
          0.8566562533378601,
          4.56508207321167,
          -1.1278733015060425,
          -2.4766578674316406,
          -5.083132266998291,
          0.5468946099281311,
          0.4377503991127014,
          -1.3815258741378784,
          -1.4771684408187866,
          2.7689168453216553,
          4.0220136642456055,
          -5.969748020172119,
          -0.26856517791748047,
          -1.800741195678711,
          4.423755168914795,
          -4.848118305206299,
          2.8729255199432373,
          -2.9574062824249268,
          1.7558925151824951,
          -0.855863630771637,
          -1.4487807750701904,
          -7.935112953186035,
          -5.109405994415283,
          -3.2870209217071533,
          -4.0970869064331055,
          -5.045450210571289,
          1.2901875972747803,
          3.5249969959259033,
          1.937954068183899,
          5.69198751449585,
          2.853579044342041,
          -3.774867296218872,
          7.388433933258057,
          -5.3918843269348145,
          -3.6233770847320557,
          -3.0104658603668213,
          -5.92394495010376,
          7.225414276123047,
          6.240654945373535,
          -0.6214819550514221,
          -4.303558826446533,
          -5.153111934661865,
          -5.279318332672119,
          0.5746336579322815,
          -3.592191696166992,
          -0.9844664335250854,
          -6.078666687011719,
          -1.879390001296997,
          -4.838821887969971,
          -7.8645243644714355,
          6.791261672973633,
          -2.697753667831421,
          -2.558332681655884,
          -1.550364375114441,
          0.08626952022314072,
          -0.5774900317192078,
          -6.473018169403076,
          -4.2960896492004395,
          0.9488379955291748,
          4.158845901489258,
          3.0142970085144043,
          -8.1465425491333,
          -1.0185054540634155,
          -1.2881194353103638,
          -5.41514253616333,
          4.140557289123535,
          0.8499598503112793,
          4.876341819763184,
          0.2478729486465454,
          2.8832900524139404,
          -6.351949214935303,
          -8.181341171264648,
          -7.338608264923096,
          -3.5304102897644043,
          5.835083484649658,
          3.415844678878784,
          4.80997896194458,
          -3.784794330596924,
          6.129937648773193,
          5.683142185211182,
          3.5426273345947266,
          2.971928834915161,
          -1.4331035614013672,
          1.26149320602417,
          -2.125788450241089,
          -3.430473566055298,
          4.399670124053955,
          -6.397069931030273,
          -6.750216484069824,
          -6.394083499908447,
          0.30258089303970337,
          -5.846050262451172,
          6.005648612976074,
          -3.7650911808013916,
          -2.044349193572998,
          2.9281721115112305,
          4.041020393371582,
          -3.8346500396728516,
          1.6422514915466309,
          4.895574569702148,
          -5.850719451904297,
          -0.43035268783569336,
          2.537923812866211,
          -4.2353386878967285,
          -0.8600631356239319,
          3.6773440837860107,
          -0.6687116026878357,
          3.547301769256592,
          4.468397617340088,
          -7.057346820831299,
          0.6822934150695801,
          -0.11541436612606049,
          -8.832846641540527,
          1.697926640510559,
          3.0395004749298096,
          2.496436595916748,
          -2.575765609741211,
          5.240146636962891,
          6.6444878578186035,
          6.030805587768555,
          -1.0592961311340332,
          -6.282957077026367,
          5.03106689453125,
          2.136150598526001,
          3.9520838260650635,
          -1.91611909866333,
          2.01326584815979,
          -1.172661542892456,
          3.719095230102539,
          -2.948477029800415,
          3.428853750228882,
          5.643620491027832,
          -4.165533065795898,
          0.7847834825515747,
          -5.80246639251709,
          -2.474534034729004,
          -5.813704490661621,
          3.8360533714294434,
          0.35986271500587463,
          2.282728910446167,
          -7.749099254608154,
          3.757317066192627,
          -2.9410228729248047,
          0.8408089280128479,
          3.377148389816284,
          3.953542470932007,
          7.209835052490234,
          -2.9905600547790527,
          -2.912337064743042,
          -3.7971394062042236,
          -1.839759111404419,
          7.804625988006592,
          7.086063861846924,
          -7.0743088722229,
          6.224137306213379,
          6.054895877838135,
          4.975483417510986,
          4.25623893737793,
          7.554816246032715,
          0.46663403511047363,
          -1.4969587326049805,
          -6.408217430114746,
          -1.1493933200836182,
          -3.1712868213653564,
          -2.7136764526367188,
          -0.5401500463485718,
          1.5192077159881592,
          -1.207161545753479,
          -1.3580347299575806,
          -8.434487342834473,
          -4.59388542175293,
          1.0201677083969116,
          3.3234145641326904,
          -6.0752363204956055,
          0.3794611394405365,
          -4.053405284881592,
          5.802751064300537,
          -2.9305217266082764,
          2.6981146335601807,
          4.110699653625488,
          2.145991802215576,
          3.7386982440948486,
          0.7436628341674805,
          2.020798921585083,
          2.5417606830596924,
          5.816196918487549,
          3.566082239151001,
          4.9033660888671875,
          1.5096389055252075,
          5.349047660827637,
          3.2260653972625732,
          -2.507862091064453,
          2.7731151580810547,
          3.9874298572540283,
          -0.5156179070472717,
          -3.8556840419769287,
          -8.504914283752441,
          -6.466506481170654,
          2.9734840393066406,
          3.639472723007202,
          5.441353797912598,
          -3.127800464630127,
          -8.71851921081543,
          -4.274037837982178,
          2.2506415843963623,
          4.584507465362549,
          -1.1628694534301758,
          -0.8463237285614014,
          7.519134044647217,
          4.445494651794434,
          -5.003169059753418,
          1.333993911743164,
          -5.739396095275879,
          -5.928167343139648,
          3.5151355266571045,
          -6.978200435638428,
          -1.5220047235488892,
          -1.1654162406921387,
          -6.336488723754883,
          0.37158042192459106,
          -3.9828152656555176,
          7.2727952003479,
          -3.246706008911133,
          -5.850100994110107,
          2.904603958129883,
          4.250981330871582,
          -1.6809272766113281,
          3.164216995239258,
          -4.23107385635376,
          -3.2291505336761475,
          -6.9000420570373535,
          -3.029386043548584,
          -7.442637920379639,
          -2.2747738361358643,
          -4.147192478179932,
          1.3416427373886108,
          3.349703788757324,
          -3.222546100616455,
          2.764450788497925,
          -1.2821900844573975,
          -6.468010425567627,
          -1.2629534006118774,
          3.4233028888702393,
          6.199222087860107,
          2.257344961166382,
          -2.252392053604126,
          -7.345736503601074,
          3.893113851547241,
          -2.27909255027771,
          1.6309523582458496,
          4.528666019439697,
          4.565814018249512,
          -3.6438562870025635,
          1.6901477575302124,
          -5.111661911010742,
          5.013067245483398,
          -3.466062068939209,
          2.091599941253662,
          0.25969502329826355,
          3.5979363918304443,
          6.192586898803711,
          3.6895594596862793,
          4.7448601722717285,
          -2.0703322887420654,
          -1.676993727684021,
          -8.763886451721191,
          2.8201675415039062,
          2.854390859603882,
          -3.0795814990997314,
          -2.4771268367767334,
          -1.219010829925537,
          7.4534831047058105,
          6.352075576782227,
          0.3529411554336548,
          6.514134883880615,
          3.4403817653656006,
          1.950034737586975,
          7.3383989334106445,
          1.6682323217391968,
          -3.083682060241699,
          -1.1238172054290771,
          -5.339142322540283,
          2.3099007606506348,
          4.590438365936279,
          5.019772052764893,
          -6.999576568603516,
          6.323330402374268,
          -5.413846969604492,
          7.254384517669678,
          6.618471622467041,
          3.8750410079956055,
          -5.301460266113281,
          1.4957371950149536,
          -1.3262845277786255,
          -2.8753769397735596,
          -4.030599594116211,
          -0.8537333607673645,
          -5.07860803604126,
          2.91744065284729,
          -1.383341670036316,
          7.22269868850708,
          -5.166015625,
          -5.774567127227783,
          -6.36201286315918,
          4.238691329956055,
          3.4198474884033203,
          -5.87953519821167,
          -5.365248203277588,
          -4.1871137619018555,
          6.801131725311279,
          1.1607648134231567,
          1.2607744932174683,
          0.09702058136463165,
          0.7998176217079163,
          -0.2568732798099518,
          -3.768054723739624,
          -4.972951412200928,
          -0.45188724994659424,
          7.597492694854736,
          -1.5439525842666626,
          -2.878413677215576,
          -3.4660825729370117,
          4.172524452209473,
          -1.8354312181472778,
          -4.464088439941406,
          -5.498691558837891,
          4.663351058959961,
          -4.698112487792969,
          -2.6608726978302,
          -0.6048484444618225,
          6.465266704559326,
          -4.743044853210449,
          6.337437629699707,
          1.341382384300232,
          -2.074388265609741,
          5.865274429321289,
          1.3492809534072876,
          -1.4568766355514526,
          -5.574317932128906,
          -3.365567207336426,
          4.747150897979736,
          3.777503490447998,
          -0.06048119068145752,
          6.8510823249816895,
          5.186415672302246,
          -3.359698534011841,
          -2.4121148586273193,
          -7.638307094573975,
          2.916996955871582,
          2.9611239433288574,
          -2.4139199256896973,
          1.7134877443313599,
          -3.110980749130249,
          -3.659121036529541,
          -7.379934787750244,
          -3.309091329574585,
          3.0349678993225098,
          -5.053952693939209,
          0.6804608106613159,
          1.2704180479049683,
          3.770888090133667,
          -7.027557849884033,
          -6.0044426918029785,
          -2.7935140132904053,
          3.233675003051758,
          2.9574077129364014,
          -1.3815481662750244,
          -3.4869065284729004,
          6.9233012199401855,
          5.5344624519348145,
          2.581509828567505,
          -2.9243977069854736,
          -0.40148234367370605,
          5.611949443817139,
          -4.53049373626709,
          5.396704196929932,
          -6.817063808441162,
          2.1590256690979004,
          6.169489860534668,
          -0.3531988263130188,
          -3.9829049110412598,
          -3.2250823974609375,
          1.2792396545410156,
          3.4401659965515137,
          -0.4566010534763336,
          -0.32358652353286743,
          2.288639783859253,
          -6.6150970458984375,
          -3.033721446990967,
          2.0942022800445557,
          0.7763100862503052,
          4.5091118812561035,
          -3.429762840270996,
          -1.8109091520309448,
          4.140197277069092,
          -7.034177303314209,
          -2.3904802799224854,
          3.580068349838257,
          -3.5966758728027344,
          1.543066382408142,
          6.502338886260986,
          0.7607821822166443,
          3.237308979034424,
          7.33651876449585,
          -6.098881244659424,
          -2.776954174041748,
          2.3520548343658447,
          2.7051870822906494,
          0.36472854018211365,
          4.656469345092773,
          -3.1256911754608154,
          -5.6337056159973145,
          3.437835931777954,
          0.32727500796318054,
          -3.0514540672302246,
          3.154698371887207,
          3.451328754425049,
          -4.815916061401367,
          3.9983291625976562,
          0.05742758512496948,
          -3.6486775875091553,
          7.13093900680542,
          2.5894885063171387,
          -2.7371373176574707,
          1.828093409538269,
          2.7748963832855225,
          2.474879026412964,
          1.003991723060608,
          3.7821497917175293,
          5.388463973999023,
          -2.7817909717559814,
          -1.101401448249817,
          -2.5539801120758057,
          2.2419939041137695,
          -3.6645259857177734,
          3.0001747608184814,
          -2.1937785148620605,
          -0.3393842279911041,
          3.6424307823181152,
          1.802980661392212,
          4.456589221954346,
          -2.1372482776641846,
          5.329445838928223,
          -4.09857702255249,
          -2.4574990272521973,
          -2.431338310241699,
          -0.10823090374469757,
          2.157576084136963,
          2.6100540161132812,
          2.8963778018951416,
          -0.8088521361351013,
          4.619777202606201,
          -0.9827840328216553,
          7.947464942932129,
          0.6340059041976929,
          -0.2305273413658142,
          -0.6285698413848877,
          4.84016227722168,
          -4.488109111785889,
          0.9424975514411926,
          4.923613548278809,
          -6.104832649230957,
          -4.675632476806641,
          -1.4067169427871704,
          -3.4714581966400146,
          -5.208581447601318,
          2.6178245544433594,
          5.050139904022217,
          7.272341728210449,
          -5.7105560302734375,
          -3.5005786418914795,
          -7.41067361831665,
          2.136763572692871,
          -1.9813765287399292,
          7.390396595001221,
          -1.3200371265411377,
          -5.721920013427734,
          6.769243240356445,
          -2.751810073852539,
          -6.981514930725098,
          -2.181131601333618,
          -0.2739432752132416,
          -1.8274544477462769,
          0.2982766926288605,
          4.595420837402344,
          0.2987261116504669,
          6.955634117126465,
          -0.5147235989570618,
          -2.2155234813690186,
          5.247315406799316,
          4.119112968444824,
          -1.1323649883270264,
          -7.627058029174805,
          -5.636535167694092,
          -4.672234058380127,
          -1.0703312158584595,
          -8.390335083007812,
          4.731481075286865,
          -4.714385032653809,
          -6.896917819976807,
          1.7453168630599976,
          4.896142482757568,
          7.760628700256348,
          -3.8183839321136475,
          5.1363043785095215,
          -2.3477518558502197,
          -4.993484020233154,
          4.672682285308838,
          -2.204239845275879,
          5.872748374938965,
          -7.103202819824219,
          -3.796299934387207,
          3.8890790939331055,
          -4.434384822845459,
          1.628325343132019,
          0.02110365778207779,
          6.120700359344482,
          4.6274309158325195,
          -0.6358609199523926,
          -1.285739779472351,
          -4.550148963928223,
          2.066486358642578,
          7.554142475128174,
          -2.2609260082244873,
          4.873656272888184,
          -4.023038864135742,
          3.384376049041748,
          -5.20805549621582,
          3.7098875045776367,
          -3.3976798057556152,
          -5.850396156311035,
          1.5789968967437744,
          6.364160537719727,
          -8.342784881591797,
          0.09121008962392807,
          6.314870834350586,
          2.527637004852295,
          -1.9791103601455688,
          -4.048820972442627,
          7.323670387268066,
          2.65341854095459,
          3.4215426445007324,
          4.632684707641602,
          0.8924877643585205,
          -5.063656330108643,
          -5.6037187576293945,
          -5.261618614196777,
          -6.549847602844238,
          -2.2016868591308594,
          -0.05468383803963661,
          -6.05232572555542,
          3.189664602279663,
          4.27399206161499,
          3.3808581829071045,
          -1.74958074092865,
          -9.114476203918457,
          -4.333820343017578,
          -4.422530174255371,
          -0.07623820006847382,
          -1.3387415409088135,
          3.7264609336853027,
          -3.6940202713012695,
          2.8979930877685547,
          3.6550843715667725,
          -4.36292028427124,
          -1.741200566291809,
          3.929264545440674,
          4.297358512878418,
          -6.477687358856201,
          4.846800804138184,
          5.44027853012085,
          6.439772129058838,
          0.03317379578948021,
          1.8271067142486572,
          -6.998569011688232,
          -3.828303575515747,
          -4.390826225280762,
          4.249073505401611,
          -7.398422718048096,
          -2.3864264488220215,
          -2.793132781982422,
          3.132876396179199,
          0.0061165387742221355
         ],
         "z": [
          -5.408441543579102,
          7.752290725708008,
          -1.9791089296340942,
          10.995941162109375,
          2.5505456924438477,
          8.445737838745117,
          3.6804144382476807,
          12.046682357788086,
          3.9556236267089844,
          -10.646652221679688,
          12.325408935546875,
          -3.286848783493042,
          14.341299057006836,
          -2.0403060913085938,
          2.311110019683838,
          2.7694382667541504,
          14.324301719665527,
          3.0637032985687256,
          -2.9477732181549072,
          9.752829551696777,
          8.380695343017578,
          -5.853911399841309,
          5.053689956665039,
          4.0819411277771,
          4.765279769897461,
          -3.389963150024414,
          -2.4695322513580322,
          -0.19434373080730438,
          9.747437477111816,
          5.227820873260498,
          -0.0973087027668953,
          4.59835958480835,
          -2.694877862930298,
          3.9738595485687256,
          -4.418887138366699,
          -4.481180191040039,
          4.42312479019165,
          -0.428192138671875,
          -6.217127323150635,
          8.461214065551758,
          -5.8385009765625,
          6.148393630981445,
          -3.853872299194336,
          2.511641025543213,
          4.698549747467041,
          2.458324909210205,
          5.273995399475098,
          3.7714900970458984,
          -3.0697391033172607,
          -1.484273076057434,
          15.047932624816895,
          -3.5496299266815186,
          -4.943855285644531,
          2.4595375061035156,
          8.249113082885742,
          0.9357481598854065,
          2.002821922302246,
          -1.7496235370635986,
          4.559004306793213,
          -1.5460567474365234,
          4.318880558013916,
          -0.007259733974933624,
          4.533490180969238,
          7.019754409790039,
          -5.469602584838867,
          5.83858060836792,
          -2.0266847610473633,
          3.235198736190796,
          -1.9261059761047363,
          7.124120235443115,
          8.281725883483887,
          10.527627944946289,
          -8.55547046661377,
          13.047826766967773,
          -14.49051570892334,
          -8.103851318359375,
          -0.2669181525707245,
          6.230373859405518,
          -16.666522979736328,
          -13.657453536987305,
          -13.323473930358887,
          -9.053071022033691,
          3.3649041652679443,
          -0.6143054962158203,
          3.2225699424743652,
          2.9797098636627197,
          -1.6374609470367432,
          2.3333003520965576,
          -2.666797399520874,
          -8.057435035705566,
          -9.75295639038086,
          12.040925979614258,
          -3.3674564361572266,
          1.759360909461975,
          0.9676106572151184,
          5.178744792938232,
          -6.430944919586182,
          4.329439640045166,
          1.4433666467666626,
          0.9369605779647827,
          -7.353150844573975,
          -1.5376468896865845,
          3.8486344814300537,
          -4.331105709075928,
          6.254362106323242,
          -8.796623229980469,
          -4.148135662078857,
          7.86786413192749,
          -14.236289024353027,
          7.153039455413818,
          -10.319864273071289,
          -7.236230850219727,
          13.01340103149414,
          -8.496140480041504,
          -0.6683814525604248,
          -11.341480255126953,
          0.4562283456325531,
          1.5778255462646484,
          11.687578201293945,
          0.6165439486503601,
          -12.054925918579102,
          -3.1851093769073486,
          8.831629753112793,
          -4.312999248504639,
          -3.3631622791290283,
          6.785981178283691,
          0.35099050402641296,
          10.552872657775879,
          3.7224502563476562,
          6.916073799133301,
          -5.616825103759766,
          -6.323202610015869,
          14.85396957397461,
          4.551429748535156,
          -1.0292537212371826,
          -7.05539083480835,
          2.5508947372436523,
          14.085163116455078,
          5.316692352294922,
          -0.31469666957855225,
          13.20481014251709,
          -7.267367362976074,
          -4.148349285125732,
          1.993964672088623,
          0.6422162652015686,
          -11.480915069580078,
          9.999068260192871,
          -3.8878445625305176,
          6.167363166809082,
          -2.3131463527679443,
          -9.645816802978516,
          -10.95053768157959,
          1.8057711124420166,
          -4.54334020614624,
          -6.792160511016846,
          -6.238260746002197,
          -3.4861996173858643,
          -4.224931716918945,
          -13.639361381530762,
          10.51618480682373,
          1.9310262203216553,
          -2.6417582035064697,
          -13.820879936218262,
          -16.83287811279297,
          9.619954109191895,
          -2.339366912841797,
          13.636200904846191,
          7.265346050262451,
          0.6717913150787354,
          -3.6569719314575195,
          -4.743980407714844,
          3.353355884552002,
          6.173916816711426,
          0.5672633051872253,
          -1.0934393405914307,
          0.889581561088562,
          7.274689197540283,
          0.42455512285232544,
          6.137213230133057,
          12.687137603759766,
          -0.323474258184433,
          6.410410404205322,
          4.551838397979736,
          5.352502346038818,
          6.489806175231934,
          0.5913681387901306,
          4.938055038452148,
          -5.525007247924805,
          -11.151390075683594,
          -10.536599159240723,
          -3.7532613277435303,
          0.9979593753814697,
          12.685359954833984,
          -0.6176481246948242,
          0.7514026165008545,
          3.8096001148223877,
          -0.47403326630592346,
          8.19143009185791,
          -7.574631214141846,
          -2.876507043838501,
          -4.75232458114624,
          -1.113632321357727,
          0.5452796220779419,
          3.036780595779419,
          -1.0344469547271729,
          4.254786491394043,
          -14.630496978759766,
          -4.721474647521973,
          7.314830303192139,
          3.779478073120117,
          -2.076214551925659,
          3.5948972702026367,
          6.993160247802734,
          -10.392252922058105,
          -3.2706477642059326,
          -1.4058960676193237,
          4.318512916564941,
          5.332550048828125,
          6.517428874969482,
          0.48612064123153687,
          -1.5548992156982422,
          6.636871814727783,
          1.9760202169418335,
          -15.534292221069336,
          -0.13542768359184265,
          -13.81072998046875,
          -5.484602928161621,
          -11.54276180267334,
          -1.5265334844589233,
          2.5650649070739746,
          3.6379590034484863,
          -3.411201000213623,
          12.65155029296875,
          13.632604598999023,
          0.39722463488578796,
          6.8675642013549805,
          3.8129465579986572,
          -10.133981704711914,
          10.390637397766113,
          0.6488067507743835,
          -4.276941299438477,
          6.912659645080566,
          1.5865426063537598,
          3.3779945373535156,
          9.591358184814453,
          -0.11995626240968704,
          -9.778425216674805,
          -16.397605895996094,
          -5.914259910583496,
          4.403199672698975,
          -3.1169049739837646,
          0.8222906589508057,
          10.14287281036377,
          -3.0961878299713135,
          -9.808189392089844,
          1.7918990850448608,
          -6.747206211090088,
          1.5983763933181763,
          2.208808660507202,
          0.9630398750305176,
          2.0087218284606934,
          -4.544482707977295,
          1.2518471479415894,
          0.45302101969718933,
          -2.7481868267059326,
          3.691348075866699,
          14.236461639404297,
          0.06686654686927795,
          -13.92978286743164,
          7.4552202224731445,
          6.621532917022705,
          3.026475667953491,
          -8.89682674407959,
          2.1457338333129883,
          9.529831886291504,
          -7.0332794189453125,
          4.614386558532715,
          0.8208037614822388,
          7.116884708404541,
          -10.87982177734375,
          -4.975595951080322,
          2.3154428005218506,
          -10.959983825683594,
          -5.958922386169434,
          -0.6711500287055969,
          8.82344913482666,
          -0.5774481296539307,
          6.371340274810791,
          2.4598326683044434,
          -7.298843860626221,
          -8.564668655395508,
          7.303166389465332,
          -4.256711483001709,
          8.983220100402832,
          -0.8891586065292358,
          13.227405548095703,
          9.359267234802246,
          -16.335556030273438,
          -2.456162214279175,
          -6.366058349609375,
          2.6384456157684326,
          1.211262583732605,
          7.267967700958252,
          10.331732749938965,
          7.462901592254639,
          -13.555436134338379,
          6.076076507568359,
          -13.009910583496094,
          -5.485904216766357,
          6.054582118988037,
          6.347086429595947,
          -4.602875232696533,
          5.463953495025635,
          1.2574042081832886,
          -0.5500386357307434,
          -7.278568744659424,
          -3.5366618633270264,
          3.7250747680664062,
          -14.453754425048828,
          1.3760217428207397,
          2.8935000896453857,
          -10.458026885986328,
          11.580833435058594,
          3.941248655319214,
          -14.144990921020508,
          -6.750321388244629,
          13.379890441894531,
          13.688329696655273,
          2.855025053024292,
          8.51199722290039,
          0.3013615012168884,
          3.8914365768432617,
          -6.588582515716553,
          -7.543347358703613,
          2.108610153198242,
          0.5788537859916687,
          6.375186920166016,
          -6.931326389312744,
          5.357970237731934,
          2.8513684272766113,
          -7.530218601226807,
          -12.981179237365723,
          11.92679500579834,
          -5.146432399749756,
          12.013522148132324,
          3.0772924423217773,
          3.7554259300231934,
          -3.537339687347412,
          10.845463752746582,
          4.130178928375244,
          0.6324655413627625,
          -8.871596336364746,
          0.9021016359329224,
          2.761577606201172,
          -0.6089734435081482,
          -12.941905975341797,
          -3.5515758991241455,
          5.698392391204834,
          5.989566326141357,
          -4.729294300079346,
          7.4629082679748535,
          5.493392467498779,
          1.1935219764709473,
          -4.664342880249023,
          11.55296802520752,
          -14.083600997924805,
          8.112831115722656,
          -0.2807542085647583,
          1.1542168855667114,
          8.086562156677246,
          -2.9736437797546387,
          -4.053243160247803,
          -0.13546672463417053,
          1.5961098670959473,
          11.547195434570312,
          -4.638078689575195,
          -14.701944351196289,
          8.412983894348145,
          1.6190800666809082,
          -6.902962684631348,
          11.109259605407715,
          -1.8652186393737793,
          -13.287129402160645,
          -9.332724571228027,
          7.47138786315918,
          -5.924221515655518,
          -4.47868537902832,
          -3.1637611389160156,
          -1.9101221561431885,
          -8.183311462402344,
          -1.5886127948760986,
          -7.064438343048096,
          -10.15621280670166,
          -10.819730758666992,
          0.8713412880897522,
          2.8204030990600586,
          -8.585092544555664,
          9.585428237915039,
          -6.727192401885986,
          -9.813100814819336,
          0.5528180599212646,
          -1.0235445499420166,
          -4.5751633644104,
          4.680093288421631,
          11.319119453430176,
          0.6676300764083862,
          -0.7763797044754028,
          -3.205031633377075,
          11.166550636291504,
          5.874638557434082,
          5.758579730987549,
          -7.8811845779418945,
          7.692889213562012,
          -14.132568359375,
          7.112103462219238,
          -3.6207027435302734,
          1.605766773223877,
          4.985672950744629,
          13.951456069946289,
          2.8738224506378174,
          -8.216842651367188,
          -2.888418436050415,
          7.043777942657471,
          6.088122844696045,
          0.5426899194717407,
          0.07546266913414001,
          3.3258883953094482,
          8.102799415588379,
          -7.396353721618652,
          0.00249379756860435,
          -10.85324764251709,
          1.8790217638015747,
          -0.22373971343040466,
          8.915592193603516,
          5.6005730628967285,
          0.6245390176773071,
          0.8695356845855713,
          0.7069826126098633,
          -14.988836288452148,
          -1.5761305093765259,
          -9.396566390991211,
          -16.648876190185547,
          -1.1167614459991455,
          1.0131372213363647,
          -2.2652106285095215,
          7.603668212890625,
          7.934235572814941,
          -6.991847991943359,
          3.920927047729492,
          7.598031044006348,
          -1.5144987106323242,
          1.8701635599136353,
          -4.59061336517334,
          -14.096227645874023,
          12.38563060760498,
          0.4724887013435364,
          0.6270124316215515,
          2.3839356899261475,
          -16.203441619873047,
          -10.183433532714844,
          8.131897926330566,
          -0.7906116247177124,
          -2.7821359634399414,
          -14.239773750305176,
          2.163292407989502,
          -9.846559524536133,
          -13.874080657958984,
          9.175996780395508,
          -1.940477728843689,
          0.9402790069580078,
          -12.632540702819824,
          -0.878271758556366,
          -2.2402777671813965,
          -9.33202838897705,
          -4.1760406494140625,
          1.0976723432540894,
          4.255800247192383,
          6.658797264099121,
          -4.94545316696167,
          4.737661838531494,
          -4.825197696685791,
          -0.6961026787757874,
          7.054873466491699,
          1.534364104270935,
          0.8362000584602356,
          1.2183051109313965,
          2.5749731063842773,
          -8.055181503295898,
          -6.756657600402832,
          0.8886566758155823,
          -15.011995315551758,
          12.753657341003418,
          3.996889114379883,
          7.607669353485107,
          1.289290189743042,
          9.371984481811523,
          6.798232078552246,
          11.277640342712402,
          -5.546905994415283,
          -8.419870376586914,
          5.492773056030273,
          -0.14159992337226868,
          -6.531381607055664,
          -2.5953848361968994,
          -7.280432224273682,
          1.226043462753296,
          -15.716793060302734,
          -3.530522346496582,
          -8.729100227355957,
          5.624021530151367,
          -0.001985316164791584,
          -3.905031681060791,
          6.206308841705322,
          3.47648286819458,
          -16.29268455505371,
          -7.9594831466674805,
          -4.051126003265381,
          -16.0869197845459,
          0.40162691473960876,
          6.77418851852417,
          -9.286653518676758,
          4.046901702880859,
          2.4235105514526367,
          3.049614429473877,
          5.834183692932129,
          -0.21181337535381317,
          -8.92929458618164,
          1.2265448570251465,
          -0.7251682281494141,
          -8.228358268737793,
          3.9998579025268555,
          7.178994655609131,
          12.37720012664795,
          -2.6298773288726807,
          11.635849952697754,
          6.08224630355835,
          5.139598369598389,
          2.388347864151001,
          -2.750990629196167,
          7.50280237197876,
          1.0403313636779785,
          9.41261100769043,
          5.915966510772705,
          5.707453727722168,
          -3.000230550765991,
          14.871953964233398,
          -10.646530151367188,
          10.37268352508545,
          8.847537994384766,
          -10.855426788330078,
          -5.938756942749023,
          -7.172585964202881,
          -0.8068739175796509,
          -13.600231170654297,
          -7.023970603942871,
          2.567204236984253,
          11.723057746887207,
          -12.931396484375,
          14.0144624710083,
          1.7839210033416748,
          0.8836750984191895,
          6.943291664123535,
          -7.089948654174805,
          10.01197624206543,
          0.00796553399413824,
          -15.076451301574707,
          -2.042395830154419,
          -0.10212545841932297,
          8.924175262451172,
          10.615379333496094,
          -6.686089038848877,
          11.492223739624023,
          10.984015464782715,
          4.1601362228393555,
          6.248525142669678,
          7.307286739349365,
          4.807880401611328,
          2.6269567012786865,
          -6.186913967132568,
          -12.652020454406738,
          -7.696567058563232,
          -13.744118690490723,
          1.1923315525054932,
          4.652026176452637,
          -5.445620059967041,
          -14.689409255981445,
          -7.904941558837891,
          -4.222392559051514,
          1.0690923929214478,
          7.883255958557129,
          -0.5078442692756653,
          -6.11696720123291,
          1.8493691682815552,
          10.871722221374512,
          3.1796607971191406,
          -3.6197681427001953,
          11.218180656433105,
          7.077182292938232,
          6.999811172485352,
          0.79747474193573,
          13.03734016418457,
          -4.287181377410889,
          5.292552471160889,
          2.390004873275757,
          8.413723945617676,
          5.355921268463135,
          13.170774459838867,
          4.15242862701416,
          1.103047490119934,
          2.5948352813720703,
          2.9730541706085205,
          -8.478446006774902,
          -9.455350875854492,
          -8.006155967712402,
          -12.806809425354004,
          -6.670643329620361,
          -1.321821689605713,
          -2.866138219833374,
          -3.5169780254364014,
          -8.174017906188965,
          1.4554929733276367,
          -4.609519958496094,
          -3.0697133541107178,
          0.4686671793460846,
          2.41867733001709,
          10.476819038391113,
          1.4541466236114502,
          -0.6700540781021118,
          -2.6441664695739746,
          -14.552605628967285,
          -1.7911396026611328,
          8.496570587158203,
          -15.867294311523438,
          3.7040517330169678,
          -7.800936698913574,
          -2.854581832885742,
          -8.91097354888916,
          1.7982124090194702,
          11.9358491897583,
          3.2598013877868652,
          -1.0103343725204468,
          3.7143187522888184,
          3.7090492248535156,
          -7.197065353393555,
          3.661848306655884,
          -14.986822128295898,
          0.19023434817790985,
          -7.740287780761719,
          5.157386302947998,
          -9.750174522399902,
          -5.456169128417969,
          -1.644106388092041,
          -1.4795910120010376,
          14.013333320617676,
          0.5114706754684448,
          3.947176456451416,
          1.7942864894866943,
          -6.676304817199707,
          -2.8352715969085693,
          6.8404765129089355,
          7.861629486083984,
          -3.9395430088043213,
          2.0799107551574707,
          -6.184540748596191,
          9.773303031921387,
          3.919603109359741,
          13.835404396057129,
          4.141590595245361,
          8.230805397033691,
          -0.3285176157951355,
          0.036722276359796524,
          -12.332154273986816,
          -4.284527778625488,
          2.052729368209839,
          9.0819091796875,
          -6.258458137512207,
          4.999942779541016,
          12.88150405883789,
          9.707487106323242,
          4.728764057159424,
          1.047954797744751,
          -3.9807093143463135,
          -8.384719848632812,
          6.336431980133057,
          -4.243898391723633,
          -0.3391142189502716,
          -11.322328567504883,
          -4.609792232513428,
          12.086134910583496,
          7.058252811431885,
          6.514584541320801,
          6.061283588409424,
          7.358673572540283,
          2.088819980621338,
          13.827836990356445,
          12.045854568481445,
          -6.040867328643799,
          -13.58193588256836,
          -14.853522300720215,
          4.300230979919434,
          -2.96658992767334,
          -5.059283256530762,
          -2.0384573936462402,
          9.770615577697754,
          -9.139544486999512,
          1.0843229293823242,
          12.293201446533203,
          0.8938697576522827,
          0.7158138751983643,
          2.867173194885254,
          4.427928924560547,
          -4.508017539978027,
          -3.6316473484039307,
          -3.2466657161712646,
          -5.568832874298096,
          9.198150634765625,
          8.400370597839355,
          2.0220186710357666,
          -5.610352993011475,
          -3.9967634677886963,
          -2.8982248306274414,
          -0.6160513162612915,
          2.948918104171753,
          -3.5736849308013916,
          3.9572346210479736,
          -2.6083178520202637,
          6.857046604156494,
          12.449275970458984,
          11.706158638000488,
          8.07105541229248,
          -2.1894447803497314,
          -0.6648902297019958,
          2.0910115242004395,
          0.8672816157341003,
          1.533718466758728,
          11.739496231079102,
          -10.75836181640625,
          -15.442639350891113,
          -16.2119197845459,
          3.2844696044921875,
          -2.4425137042999268,
          -6.334921836853027,
          -6.788349628448486,
          3.0102744102478027,
          -6.653332233428955,
          -16.228437423706055,
          -13.074917793273926,
          12.933156967163086,
          1.8824964761734009,
          8.100581169128418,
          7.291123390197754,
          -0.3807772099971771,
          0.9261975884437561,
          0.8218051791191101,
          -5.540384769439697,
          0.0200140830129385,
          -13.437600135803223,
          -4.884479999542236,
          3.630162239074707,
          -3.332059383392334,
          6.046732425689697,
          -4.231607913970947,
          -5.109485626220703,
          1.272883415222168,
          -6.884922981262207,
          0.096435546875,
          0.6737545728683472,
          0.26725518703460693,
          3.8112432956695557,
          0.5894392728805542,
          -13.149580955505371,
          -4.695592403411865,
          1.3055200576782227,
          3.7514519691467285,
          -6.760891914367676,
          -6.04079008102417,
          -2.623556137084961,
          -1.944459080696106,
          -15.703948974609375,
          -7.890571117401123,
          -10.989588737487793,
          0.4724424481391907,
          3.30430269241333,
          -9.657112121582031,
          -16.66938591003418,
          7.431275844573975,
          -5.39436149597168,
          9.539729118347168,
          -15.991504669189453,
          -13.153609275817871,
          12.040623664855957,
          -10.384950637817383,
          3.0125088691711426,
          -13.579338073730469,
          1.1814883947372437,
          5.189157009124756,
          -5.8956298828125,
          3.367177724838257,
          -12.484781265258789,
          -4.233625411987305,
          -2.270995616912842,
          -2.4315333366394043,
          -0.42058396339416504,
          7.096721172332764,
          0.39028266072273254,
          -1.3471158742904663,
          -8.083909034729004,
          2.9632062911987305,
          13.48628044128418,
          -2.492889881134033,
          1.036084532737732,
          3.5741686820983887,
          -14.359869956970215,
          -7.367621421813965,
          3.1948299407958984,
          4.0341267585754395,
          4.46942138671875,
          10.36539363861084,
          6.834550857543945,
          11.106170654296875,
          10.140909194946289,
          1.6875476837158203,
          -17.03936195373535,
          2.8386218547821045,
          5.6475114822387695,
          -0.11659543216228485,
          13.327614784240723,
          -14.364907264709473,
          -10.221240997314453,
          6.358750343322754,
          2.418250799179077,
          -6.114794731140137,
          4.493813514709473,
          3.752155065536499,
          2.4511830806732178,
          7.964014530181885,
          -0.201001837849617,
          1.4285401105880737,
          9.272187232971191,
          -7.1353607177734375,
          -11.946176528930664,
          -4.229136943817139,
          11.386624336242676,
          7.136168479919434,
          3.181466817855835,
          11.322982788085938,
          5.210005760192871,
          -12.632174491882324,
          -10.184853553771973,
          -3.4370574951171875,
          11.623655319213867,
          -9.631646156311035,
          -5.5662522315979,
          -11.85499095916748,
          -1.6273924112319946,
          6.9700608253479,
          -1.0480002164840698,
          14.491128921508789,
          -14.624652862548828,
          2.7687933444976807,
          -7.163101673126221,
          -13.160187721252441,
          1.4564809799194336,
          -12.809295654296875,
          6.39908504486084,
          13.836918830871582,
          1.4510136842727661,
          -13.365979194641113,
          8.807071685791016,
          -7.396843910217285,
          8.34841251373291,
          -6.398849010467529,
          -1.349609613418579,
          -10.689253807067871,
          1.4138331413269043,
          -4.829707622528076,
          0.5841297507286072,
          -1.4212909936904907,
          -4.769640922546387,
          -0.39085477590560913,
          -8.532209396362305,
          -14.88354206085205,
          -12.23452091217041,
          10.676011085510254,
          9.803759574890137,
          13.140936851501465,
          -8.000646591186523,
          -3.190523624420166,
          -6.4568772315979,
          3.1589224338531494,
          1.6704994440078735,
          5.979333877563477,
          1.4368891716003418,
          -11.544538497924805,
          5.042298316955566,
          -9.090166091918945,
          -7.654047012329102,
          0.46036773920059204,
          -0.5303712487220764,
          2.94220232963562,
          6.187932968139648,
          -4.733094215393066,
          -6.150275230407715,
          10.346457481384277,
          -14.20084285736084,
          3.343886375427246,
          9.674491882324219,
          4.079586982727051,
          1.6761244535446167,
          -15.799647331237793,
          -0.108256995677948,
          -4.05556583404541,
          -3.3937628269195557,
          -14.897390365600586,
          3.7535247802734375,
          -0.4951080083847046,
          -3.9023358821868896,
          8.908915519714355,
          13.87894344329834,
          12.647758483886719,
          -8.674737930297852,
          14.887544631958008,
          1.6065704822540283,
          -10.447103500366211,
          6.7659735679626465,
          -9.172175407409668,
          3.0239386558532715,
          -4.7057647705078125,
          -2.2422821521759033,
          7.152377605438232,
          0.12427013367414474,
          -7.041366100311279,
          -2.227468967437744,
          8.697643280029297,
          10.280470848083496,
          0.10829215496778488,
          -6.297290802001953,
          -1.2787048816680908,
          6.369366645812988,
          10.61752700805664,
          -0.9919729828834534,
          -5.494203090667725,
          -16.351463317871094,
          12.107772827148438,
          -14.645833969116211,
          2.8555078506469727,
          -15.176778793334961,
          -11.042707443237305,
          6.9686994552612305,
          3.0383143424987793,
          -4.586090564727783,
          -2.6290457248687744,
          10.50483226776123,
          12.357161521911621,
          -2.8366289138793945,
          1.6505427360534668,
          13.541557312011719,
          6.302187442779541,
          3.5149319171905518,
          -2.6610405445098877,
          1.5067899227142334,
          -3.137650966644287,
          0.4977083206176758,
          -15.817675590515137,
          -6.379268169403076,
          -3.738511085510254,
          8.332040786743164,
          -12.942170143127441,
          3.63739013671875,
          -6.630237102508545,
          5.878854274749756,
          -13.465315818786621,
          -7.728370666503906,
          -0.6866430044174194,
          -11.450838088989258,
          3.5498478412628174,
          4.00100040435791,
          4.663120746612549,
          2.200953483581543,
          9.284566879272461,
          3.050611734390259,
          -7.418479919433594,
          -16.12348175048828,
          1.0250661373138428,
          5.072815895080566,
          -1.344293236732483,
          -1.89432954788208,
          8.899688720703125,
          11.060257911682129,
          0.9110785126686096,
          10.190264701843262,
          -13.75214672088623,
          -15.1475191116333,
          -1.236374855041504,
          4.022995948791504,
          -5.6277689933776855,
          0.9827201962471008,
          -15.349714279174805,
          8.80880069732666,
          -0.4004307687282562
         ]
        }
       ],
       "layout": {
        "coloraxis": {
         "colorbar": {
          "title": {
           "text": "Label"
          }
         },
         "colorscale": [
          [
           0,
           "#0d0887"
          ],
          [
           0.1111111111111111,
           "#46039f"
          ],
          [
           0.2222222222222222,
           "#7201a8"
          ],
          [
           0.3333333333333333,
           "#9c179e"
          ],
          [
           0.4444444444444444,
           "#bd3786"
          ],
          [
           0.5555555555555556,
           "#d8576b"
          ],
          [
           0.6666666666666666,
           "#ed7953"
          ],
          [
           0.7777777777777778,
           "#fb9f3a"
          ],
          [
           0.8888888888888888,
           "#fdca26"
          ],
          [
           1,
           "#f0f921"
          ]
         ]
        },
        "height": 800,
        "legend": {
         "tracegroupgap": 0
        },
        "scene": {
         "domain": {
          "x": [
           0,
           1
          ],
          "y": [
           0,
           1
          ]
         },
         "xaxis": {
          "title": {
           "text": "0"
          }
         },
         "yaxis": {
          "title": {
           "text": "1"
          }
         },
         "zaxis": {
          "title": {
           "text": "2"
          }
         }
        },
        "template": {
         "data": {
          "bar": [
           {
            "error_x": {
             "color": "#2a3f5f"
            },
            "error_y": {
             "color": "#2a3f5f"
            },
            "marker": {
             "line": {
              "color": "#E5ECF6",
              "width": 0.5
             }
            },
            "type": "bar"
           }
          ],
          "barpolar": [
           {
            "marker": {
             "line": {
              "color": "#E5ECF6",
              "width": 0.5
             }
            },
            "type": "barpolar"
           }
          ],
          "carpet": [
           {
            "aaxis": {
             "endlinecolor": "#2a3f5f",
             "gridcolor": "white",
             "linecolor": "white",
             "minorgridcolor": "white",
             "startlinecolor": "#2a3f5f"
            },
            "baxis": {
             "endlinecolor": "#2a3f5f",
             "gridcolor": "white",
             "linecolor": "white",
             "minorgridcolor": "white",
             "startlinecolor": "#2a3f5f"
            },
            "type": "carpet"
           }
          ],
          "choropleth": [
           {
            "colorbar": {
             "outlinewidth": 0,
             "ticks": ""
            },
            "type": "choropleth"
           }
          ],
          "contour": [
           {
            "colorbar": {
             "outlinewidth": 0,
             "ticks": ""
            },
            "colorscale": [
             [
              0,
              "#0d0887"
             ],
             [
              0.1111111111111111,
              "#46039f"
             ],
             [
              0.2222222222222222,
              "#7201a8"
             ],
             [
              0.3333333333333333,
              "#9c179e"
             ],
             [
              0.4444444444444444,
              "#bd3786"
             ],
             [
              0.5555555555555556,
              "#d8576b"
             ],
             [
              0.6666666666666666,
              "#ed7953"
             ],
             [
              0.7777777777777778,
              "#fb9f3a"
             ],
             [
              0.8888888888888888,
              "#fdca26"
             ],
             [
              1,
              "#f0f921"
             ]
            ],
            "type": "contour"
           }
          ],
          "contourcarpet": [
           {
            "colorbar": {
             "outlinewidth": 0,
             "ticks": ""
            },
            "type": "contourcarpet"
           }
          ],
          "heatmap": [
           {
            "colorbar": {
             "outlinewidth": 0,
             "ticks": ""
            },
            "colorscale": [
             [
              0,
              "#0d0887"
             ],
             [
              0.1111111111111111,
              "#46039f"
             ],
             [
              0.2222222222222222,
              "#7201a8"
             ],
             [
              0.3333333333333333,
              "#9c179e"
             ],
             [
              0.4444444444444444,
              "#bd3786"
             ],
             [
              0.5555555555555556,
              "#d8576b"
             ],
             [
              0.6666666666666666,
              "#ed7953"
             ],
             [
              0.7777777777777778,
              "#fb9f3a"
             ],
             [
              0.8888888888888888,
              "#fdca26"
             ],
             [
              1,
              "#f0f921"
             ]
            ],
            "type": "heatmap"
           }
          ],
          "heatmapgl": [
           {
            "colorbar": {
             "outlinewidth": 0,
             "ticks": ""
            },
            "colorscale": [
             [
              0,
              "#0d0887"
             ],
             [
              0.1111111111111111,
              "#46039f"
             ],
             [
              0.2222222222222222,
              "#7201a8"
             ],
             [
              0.3333333333333333,
              "#9c179e"
             ],
             [
              0.4444444444444444,
              "#bd3786"
             ],
             [
              0.5555555555555556,
              "#d8576b"
             ],
             [
              0.6666666666666666,
              "#ed7953"
             ],
             [
              0.7777777777777778,
              "#fb9f3a"
             ],
             [
              0.8888888888888888,
              "#fdca26"
             ],
             [
              1,
              "#f0f921"
             ]
            ],
            "type": "heatmapgl"
           }
          ],
          "histogram": [
           {
            "marker": {
             "colorbar": {
              "outlinewidth": 0,
              "ticks": ""
             }
            },
            "type": "histogram"
           }
          ],
          "histogram2d": [
           {
            "colorbar": {
             "outlinewidth": 0,
             "ticks": ""
            },
            "colorscale": [
             [
              0,
              "#0d0887"
             ],
             [
              0.1111111111111111,
              "#46039f"
             ],
             [
              0.2222222222222222,
              "#7201a8"
             ],
             [
              0.3333333333333333,
              "#9c179e"
             ],
             [
              0.4444444444444444,
              "#bd3786"
             ],
             [
              0.5555555555555556,
              "#d8576b"
             ],
             [
              0.6666666666666666,
              "#ed7953"
             ],
             [
              0.7777777777777778,
              "#fb9f3a"
             ],
             [
              0.8888888888888888,
              "#fdca26"
             ],
             [
              1,
              "#f0f921"
             ]
            ],
            "type": "histogram2d"
           }
          ],
          "histogram2dcontour": [
           {
            "colorbar": {
             "outlinewidth": 0,
             "ticks": ""
            },
            "colorscale": [
             [
              0,
              "#0d0887"
             ],
             [
              0.1111111111111111,
              "#46039f"
             ],
             [
              0.2222222222222222,
              "#7201a8"
             ],
             [
              0.3333333333333333,
              "#9c179e"
             ],
             [
              0.4444444444444444,
              "#bd3786"
             ],
             [
              0.5555555555555556,
              "#d8576b"
             ],
             [
              0.6666666666666666,
              "#ed7953"
             ],
             [
              0.7777777777777778,
              "#fb9f3a"
             ],
             [
              0.8888888888888888,
              "#fdca26"
             ],
             [
              1,
              "#f0f921"
             ]
            ],
            "type": "histogram2dcontour"
           }
          ],
          "mesh3d": [
           {
            "colorbar": {
             "outlinewidth": 0,
             "ticks": ""
            },
            "type": "mesh3d"
           }
          ],
          "parcoords": [
           {
            "line": {
             "colorbar": {
              "outlinewidth": 0,
              "ticks": ""
             }
            },
            "type": "parcoords"
           }
          ],
          "pie": [
           {
            "automargin": true,
            "type": "pie"
           }
          ],
          "scatter": [
           {
            "marker": {
             "colorbar": {
              "outlinewidth": 0,
              "ticks": ""
             }
            },
            "type": "scatter"
           }
          ],
          "scatter3d": [
           {
            "line": {
             "colorbar": {
              "outlinewidth": 0,
              "ticks": ""
             }
            },
            "marker": {
             "colorbar": {
              "outlinewidth": 0,
              "ticks": ""
             }
            },
            "type": "scatter3d"
           }
          ],
          "scattercarpet": [
           {
            "marker": {
             "colorbar": {
              "outlinewidth": 0,
              "ticks": ""
             }
            },
            "type": "scattercarpet"
           }
          ],
          "scattergeo": [
           {
            "marker": {
             "colorbar": {
              "outlinewidth": 0,
              "ticks": ""
             }
            },
            "type": "scattergeo"
           }
          ],
          "scattergl": [
           {
            "marker": {
             "colorbar": {
              "outlinewidth": 0,
              "ticks": ""
             }
            },
            "type": "scattergl"
           }
          ],
          "scattermapbox": [
           {
            "marker": {
             "colorbar": {
              "outlinewidth": 0,
              "ticks": ""
             }
            },
            "type": "scattermapbox"
           }
          ],
          "scatterpolar": [
           {
            "marker": {
             "colorbar": {
              "outlinewidth": 0,
              "ticks": ""
             }
            },
            "type": "scatterpolar"
           }
          ],
          "scatterpolargl": [
           {
            "marker": {
             "colorbar": {
              "outlinewidth": 0,
              "ticks": ""
             }
            },
            "type": "scatterpolargl"
           }
          ],
          "scatterternary": [
           {
            "marker": {
             "colorbar": {
              "outlinewidth": 0,
              "ticks": ""
             }
            },
            "type": "scatterternary"
           }
          ],
          "surface": [
           {
            "colorbar": {
             "outlinewidth": 0,
             "ticks": ""
            },
            "colorscale": [
             [
              0,
              "#0d0887"
             ],
             [
              0.1111111111111111,
              "#46039f"
             ],
             [
              0.2222222222222222,
              "#7201a8"
             ],
             [
              0.3333333333333333,
              "#9c179e"
             ],
             [
              0.4444444444444444,
              "#bd3786"
             ],
             [
              0.5555555555555556,
              "#d8576b"
             ],
             [
              0.6666666666666666,
              "#ed7953"
             ],
             [
              0.7777777777777778,
              "#fb9f3a"
             ],
             [
              0.8888888888888888,
              "#fdca26"
             ],
             [
              1,
              "#f0f921"
             ]
            ],
            "type": "surface"
           }
          ],
          "table": [
           {
            "cells": {
             "fill": {
              "color": "#EBF0F8"
             },
             "line": {
              "color": "white"
             }
            },
            "header": {
             "fill": {
              "color": "#C8D4E3"
             },
             "line": {
              "color": "white"
             }
            },
            "type": "table"
           }
          ]
         },
         "layout": {
          "annotationdefaults": {
           "arrowcolor": "#2a3f5f",
           "arrowhead": 0,
           "arrowwidth": 1
          },
          "coloraxis": {
           "colorbar": {
            "outlinewidth": 0,
            "ticks": ""
           }
          },
          "colorscale": {
           "diverging": [
            [
             0,
             "#8e0152"
            ],
            [
             0.1,
             "#c51b7d"
            ],
            [
             0.2,
             "#de77ae"
            ],
            [
             0.3,
             "#f1b6da"
            ],
            [
             0.4,
             "#fde0ef"
            ],
            [
             0.5,
             "#f7f7f7"
            ],
            [
             0.6,
             "#e6f5d0"
            ],
            [
             0.7,
             "#b8e186"
            ],
            [
             0.8,
             "#7fbc41"
            ],
            [
             0.9,
             "#4d9221"
            ],
            [
             1,
             "#276419"
            ]
           ],
           "sequential": [
            [
             0,
             "#0d0887"
            ],
            [
             0.1111111111111111,
             "#46039f"
            ],
            [
             0.2222222222222222,
             "#7201a8"
            ],
            [
             0.3333333333333333,
             "#9c179e"
            ],
            [
             0.4444444444444444,
             "#bd3786"
            ],
            [
             0.5555555555555556,
             "#d8576b"
            ],
            [
             0.6666666666666666,
             "#ed7953"
            ],
            [
             0.7777777777777778,
             "#fb9f3a"
            ],
            [
             0.8888888888888888,
             "#fdca26"
            ],
            [
             1,
             "#f0f921"
            ]
           ],
           "sequentialminus": [
            [
             0,
             "#0d0887"
            ],
            [
             0.1111111111111111,
             "#46039f"
            ],
            [
             0.2222222222222222,
             "#7201a8"
            ],
            [
             0.3333333333333333,
             "#9c179e"
            ],
            [
             0.4444444444444444,
             "#bd3786"
            ],
            [
             0.5555555555555556,
             "#d8576b"
            ],
            [
             0.6666666666666666,
             "#ed7953"
            ],
            [
             0.7777777777777778,
             "#fb9f3a"
            ],
            [
             0.8888888888888888,
             "#fdca26"
            ],
            [
             1,
             "#f0f921"
            ]
           ]
          },
          "colorway": [
           "#636efa",
           "#EF553B",
           "#00cc96",
           "#ab63fa",
           "#FFA15A",
           "#19d3f3",
           "#FF6692",
           "#B6E880",
           "#FF97FF",
           "#FECB52"
          ],
          "font": {
           "color": "#2a3f5f"
          },
          "geo": {
           "bgcolor": "white",
           "lakecolor": "white",
           "landcolor": "#E5ECF6",
           "showlakes": true,
           "showland": true,
           "subunitcolor": "white"
          },
          "hoverlabel": {
           "align": "left"
          },
          "hovermode": "closest",
          "mapbox": {
           "style": "light"
          },
          "paper_bgcolor": "white",
          "plot_bgcolor": "#E5ECF6",
          "polar": {
           "angularaxis": {
            "gridcolor": "white",
            "linecolor": "white",
            "ticks": ""
           },
           "bgcolor": "#E5ECF6",
           "radialaxis": {
            "gridcolor": "white",
            "linecolor": "white",
            "ticks": ""
           }
          },
          "scene": {
           "xaxis": {
            "backgroundcolor": "#E5ECF6",
            "gridcolor": "white",
            "gridwidth": 2,
            "linecolor": "white",
            "showbackground": true,
            "ticks": "",
            "zerolinecolor": "white"
           },
           "yaxis": {
            "backgroundcolor": "#E5ECF6",
            "gridcolor": "white",
            "gridwidth": 2,
            "linecolor": "white",
            "showbackground": true,
            "ticks": "",
            "zerolinecolor": "white"
           },
           "zaxis": {
            "backgroundcolor": "#E5ECF6",
            "gridcolor": "white",
            "gridwidth": 2,
            "linecolor": "white",
            "showbackground": true,
            "ticks": "",
            "zerolinecolor": "white"
           }
          },
          "shapedefaults": {
           "line": {
            "color": "#2a3f5f"
           }
          },
          "ternary": {
           "aaxis": {
            "gridcolor": "white",
            "linecolor": "white",
            "ticks": ""
           },
           "baxis": {
            "gridcolor": "white",
            "linecolor": "white",
            "ticks": ""
           },
           "bgcolor": "#E5ECF6",
           "caxis": {
            "gridcolor": "white",
            "linecolor": "white",
            "ticks": ""
           }
          },
          "title": {
           "x": 0.05
          },
          "xaxis": {
           "automargin": true,
           "gridcolor": "white",
           "linecolor": "white",
           "ticks": "",
           "title": {
            "standoff": 15
           },
           "zerolinecolor": "white",
           "zerolinewidth": 2
          },
          "yaxis": {
           "automargin": true,
           "gridcolor": "white",
           "linecolor": "white",
           "ticks": "",
           "title": {
            "standoff": 15
           },
           "zerolinecolor": "white",
           "zerolinewidth": 2
          }
         }
        },
        "title": {
         "text": "3d TSNE Plot for Outliers"
        },
        "width": 900
       }
      },
      "text/html": [
       "<div>\n",
       "        \n",
       "        \n",
       "            <div id=\"42bfc92d-3160-4368-8d1b-33b5740267f3\" class=\"plotly-graph-div\" style=\"height:800px; width:900px;\"></div>\n",
       "            <script type=\"text/javascript\">\n",
       "                require([\"plotly\"], function(Plotly) {\n",
       "                    window.PLOTLYENV=window.PLOTLYENV || {};\n",
       "                    \n",
       "                if (document.getElementById(\"42bfc92d-3160-4368-8d1b-33b5740267f3\")) {\n",
       "                    Plotly.newPlot(\n",
       "                        '42bfc92d-3160-4368-8d1b-33b5740267f3',\n",
       "                        [{\"customdata\": [[0.263995357], [0.546092303], [0.33671410399999996], [0.092107835], [0.325261175], [0.212464853], [0.258565714], [0.869236755], [0.197077957], [0.292984504], [0.82178316], [0.796622959], [0.045577010999999994], [0.613660351], [0.9507445659999999], [0.33634633700000005], [0.034440667], [0.741544275], [0.18443265], [0.664514943], [0.16282485800000002], [0.729838445], [0.62837389], [0.057883660999999996], [0.445534827], [0.80183695], [0.27709612], [0.228634015], [0.834860657], [0.6697665110000001], [0.532527349], [0.17045907100000002], [0.5102884679999999], [0.977561989], [0.249775993], [0.9755006820000001], [0.613701727], [0.16742036300000002], [0.537472516], [0.379899131], [0.633897303], [0.633960424], [0.5499746529999999], [0.178172988], [0.85563814], [0.321796672], [0.8174905370000001], [0.254879417], [0.344140513], [0.8061457259999999], [0.27708167100000003], [0.544328519], [0.07708393], [0.273081458], [0.390877336], [0.349621385], [0.214549744], [0.206075222], [0.86461997], [0.9817088540000001], [0.33482964600000004], [0.648387061], [0.093643561], [0.837802698], [0.7603439670000001], [0.29140417399999996], [0.3413454], [0.7611124840000001], [0.541899775], [0.684176639], [0.983535597], [0.52081245], [0.328227724], [0.09715793800000001], [0.876088593], [0.870214512], [0.656086992], [0.306791514], [0.48126734], [0.259559174], [0.326123655], [0.930568042], [0.6583894], [0.689992335], [0.315781109], [0.5669050929999999], [0.637526619], [0.687540723], [0.324300602], [0.592704906], [0.7402531259999999], [0.5940328770000001], [0.596452977], [0.27768081699999997], [0.258329663], [0.142460864], [0.435533461], [0.7024990440000001], [0.58897535], [0.653304374], [0.336968524], [0.631244736], [0.73530076], [0.050390366], [0.064264924], [0.665359476], [0.917835245], [0.44651012], [0.661938199], [0.43935985299999997], [0.6875724040000001], [0.363462248], [0.6542621820000001], [0.578553536], [0.065927945], [0.550148559], [0.13918281400000002], [0.080004635], [0.278228358], [0.560124266], [0.53639864], [0.42653190399999996], [0.789109796], [0.742900474], [0.901692589], [0.650337401], [0.114057311], [0.260812592], [0.43991232], [0.964409284], [0.184401415], [0.345145446], [0.17589458100000002], [0.312514453], [0.674131879], [0.32825045], [0.598231057], [0.09259881699999999], [0.497916521], [0.419776521], [0.31217670000000003], [0.937857107], [0.049030963], [0.47610452600000003], [0.447397526], [0.295806058], [0.737363977], [0.625896253], [0.408813429], [0.437511156], [0.691351375], [0.935555275], [0.437846654], [0.072217715], [0.67636067], [0.468883999], [0.543820644], [0.6555226470000001], [0.6935289240000001], [0.10887831199999999], [0.285463743], [0.0], [0.706495497], [0.273530633], [0.292320271], [0.673984307], [0.12612182800000002], [0.9467074590000001], [0.9363388979999999], [0.8537553640000001], [0.7060713609999999], [0.693682186], [0.508527882], [0.34717038899999997], [0.704154263], [0.658730088], [0.155841557], [0.311085435], [0.281135347], [0.094587802], [0.6832609540000001], [0.9077292509999999], [0.29151267399999997], [0.752734459], [0.93482964], [0.071413953], [0.5948963270000001], [0.404672015], [0.13837621], [0.7473384679999999], [0.530882486], [0.282649594], [0.699335734], [0.056111250999999994], [0.855234998], [0.07789512700000001], [0.891649583], [0.38674227899999997], [0.27113158], [0.958888961], [0.085120869], [0.5269022489999999], [0.066577785], [0.841506738], [0.255342095], [0.060545771], [0.073385869], [0.187493723], [0.858365688], [0.090640352], [0.7097252270000001], [0.631300647], [0.24750447399999997], [0.822843584], [0.373476759], [0.625538582], [0.292951715], [0.299730324], [0.25121407], [0.344480551], [0.293064767], [0.7628032240000001], [0.7384708040000001], [0.674883265], [0.719151612], [0.13098021599999998], [0.511328036], [0.04492903], [0.560914449], [0.7440406409999999], [0.266961634], [0.644231853], [0.038113352], [0.05715529900000001], [0.34139246100000004], [0.7204636320000001], [0.402878236], [0.635148967], [0.320729467], [0.09120969400000001], [0.23414609], [0.8902211309999999], [0.602170884], [0.633652055], [0.806240837], [0.739731184], [0.465231269], [0.7321109], [0.373874305], [0.501587947], [0.11538315800000001], [0.7319466040000001], [0.41829872799999995], [0.062259590999999996], [0.391496379], [0.35984929], [0.24523562699999998], [0.610028339], [0.43540360200000006], [0.434309675], [0.523763344], [0.17118786600000002], [0.18773430300000002], [0.945014638], [0.027851097000000002], [0.68445706], [0.178014532], [0.643427879], [0.59588355], [0.372361682], [0.586103584], [0.271658852], [0.59951107], [0.468363088], [0.314515565], [0.21893726], [0.254716562], [0.25612815], [0.602259755], [0.134381075], [0.513887424], [0.624241636], [0.160251854], [0.580708108], [0.270540486], [0.832919932], [0.93032134], [0.719157884], [0.886720033], [0.098792281], [0.787174286], [0.365592376], [0.719576193], [0.8058956], [0.7555783340000001], [0.526005909], [0.68880424], [0.22111531199999998], [0.739369477], [0.408440236], [0.348926542], [0.433713763], [0.5964966070000001], [0.6942953000000001], [0.7090309659999999], [0.867652984], [0.89332545], [0.746020922], [0.538284443], [0.8922193140000001], [0.935175765], [0.260527707], [0.956780449], [0.204932484], [0.687733351], [0.329063619], [0.632149831], [0.463744506], [0.698859621], [0.385446564], [0.47997537700000004], [0.732279108], [0.3813543], [0.459326013], [0.257401434], [0.665014804], [0.103399542], [0.425284413], [0.943529051], [0.594750236], [0.543776817], [0.18203988], [0.23584208399999998], [0.585984497], [0.762013168], [0.6849829070000001], [0.676936933], [0.290184964], [0.48106822200000005], [0.492766033], [0.22185623399999999], [0.053875998], [0.082751144], [0.385366225], [0.702513961], [0.91553156], [0.082087436], [0.251280378], [0.41672181700000005], [0.277032672], [0.579539754], [0.569363476], [0.133399703], [0.265045463], [0.936571901], [0.252618554], [0.054033081], [0.802481439], [0.528197693], [0.9515026], [0.572121173], [0.752938227], [0.143857535], [0.513484576], [0.313322389], [0.6877973959999999], [0.37705984], [0.348226142], [0.67763282], [0.24138752100000002], [0.8506501790000001], [0.22034810300000002], [0.476445464], [0.690324025], [0.364695946], [0.6492491970000001], [0.9437019209999999], [0.529645971], [0.299097002], [0.96696247], [0.272005242], [0.314161447], [0.752020991], [0.221882453], [0.7203326729999999], [0.379204782], [0.60168653], [0.582932673], [0.950809853], [0.58830141], [0.880887227], [0.467857701], [0.8799021709999999], [0.619844009], [0.359002573], [0.291511278], [0.694157143], [0.727960353], [0.617703921], [0.39581257], [0.58317282], [0.710332374], [0.253753693], [0.049412227999999996], [0.728378695], [0.432432881], [0.58612345], [0.052342373], [0.053483902], [0.518729378], [0.933040208], [0.7035542840000001], [0.268989899], [0.733006927], [0.44435246700000003], [0.5833946210000001], [0.871172692], [0.42876707799999997], [0.30046084100000003], [0.9533294590000001], [0.606443965], [0.90986815], [0.714896449], [0.49734950899999997], [0.8530974859999999], [0.721804145], [0.303467328], [0.664485096], [0.27978062], [0.569481665], [0.628628926], [0.088368123], [0.733567326], [0.537436778], [0.638593691], [0.954726948], [0.632202332], [0.642134651], [0.744653087], [0.115714007], [0.48625007299999995], [0.440356144], [0.08272289], [0.511591027], [0.394627555], [0.224394], [0.626927584], [0.290254057], [0.779008053], [0.86610579], [0.873326081], [0.49548916], [0.594297695], [0.9182015840000001], [0.5770427539999999], [0.019467671000000002], [0.6702982820000001], [0.546595316], [0.591665146], [0.42155819], [0.6856085590000001], [0.340303024], [0.675626741], [0.319067345], [0.38849966399999997], [0.706949589], [0.559409515], [0.687663508], [0.7088045540000001], [0.6818880940000001], [0.42253510899999996], [0.320004605], [0.6582813679999999], [0.634154867], [0.7773320090000001], [0.812677205], [0.074280797], [0.39600217], [0.054933913], [0.825058925], [0.382642009], [0.8687298179999999], [0.588043346], [0.891551577], [0.10920046], [0.647682781], [0.724342512], [0.07016304400000001], [0.280882054], [0.039113261], [0.579641592], [0.639000922], [0.281745925], [0.647857744], [0.6479057970000001], [0.875226264], [0.567603305], [0.262940591], [0.268026042], [0.40519133], [0.479965451], [0.33552403], [0.777165379], [0.42548796299999997], [0.237986115], [0.142522971], [0.724176488], [0.234698933], [0.07818228099999999], [0.855990155], [0.270251765], [0.435517841], [0.762697513], [0.46448725799999996], [0.396112685], [0.37638092100000003], [0.29459467699999997], [0.6944921209999999], [0.622767949], [0.8475597220000001], [0.301463054], [0.912937812], [0.500017182], [0.902587935], [0.304517943], [0.299165673], [0.092014087], [0.488548917], [0.664664437], [0.26534954899999996], [0.723657021], [0.149262385], [0.04577339], [0.69661064], [0.42181486], [0.733845785], [0.418795386], [0.677443529], [0.26128360300000003], [0.268527767], [0.5443222360000001], [0.431632036], [0.981018141], [0.21498072399999998], [0.39472999299999995], [0.122224944], [0.297496875], [0.37490443100000004], [0.68698771], [0.388549207], [0.039296071], [0.73553424], [0.37929489299999997], [0.7321233859999999], [0.33922143899999996], [0.659450594], [0.054838642], [0.640112102], [0.30714170399999996], [0.39661190700000004], [0.420439161], [0.24171497399999997], [0.065893153], [0.9105219370000001], [0.697163103], [0.072559853], [0.81825094], [0.311888815], [0.961644609], [0.816325524], [0.14647302], [0.548753945], [0.946158087], [0.293992717], [0.331479643], [0.9062200309999999], [0.525540416], [0.83301411], [0.514849806], [0.574609024], [0.46871185299999996], [0.71002775], [0.645973276], [0.229794416], [0.551783393], [0.055822990999999995], [0.331750941], [0.715520198], [0.583924357], [0.30695769100000003], [0.7914782370000001], [0.16423663900000002], [0.065711219], [0.948993132], [0.080423835], [0.052495426], [0.566346135], [0.3630266], [0.605442195], [0.6308505839999999], [0.065791238], [0.28681707100000003], [0.685462839], [0.260853706], [0.659122429], [0.44317392200000005], [0.602063986], [0.060366910999999995], [0.781903153], [0.5145798070000001], [0.48388621299999995], [0.600213807], [0.49736405200000006], [0.411145245], [0.116999171], [0.34189014100000004], [0.746950848], [0.39629274600000003], [0.6221438429999999], [0.335271141], [0.140257137], [0.081620681], [0.069837569], [0.46894000799999996], [0.9908574170000001], [0.896616832], [0.255310561], [0.22464526699999998], [0.01991825], [0.296480415], [0.155458996], [0.577916714], [0.9563030309999999], [0.813464394], [0.529675785], [0.287671353], [0.48039136], [0.28104482199999997], [0.633196521], [0.09332537699999999], [0.28447398100000004], [0.052223775], [0.051129385], [0.967405608], [0.040045727999999996], [0.9085829209999999], [0.6621174160000001], [0.42470320899999997], [0.72207806], [0.666193327], [0.509681253], [0.7513536209999999], [0.279073124], [0.074927], [0.916359535], [0.31040327], [0.716604052], [0.485587085], [0.30607518100000003], [0.477558204], [0.7119239409999999], [0.066348638], [0.27453935100000004], [0.31082252], [0.47607312700000004], [0.186795565], [0.26654207], [0.070231142], [0.26951927], [0.800004713], [0.27363366699999997], [0.14647919199999998], [0.378318951], [0.373849065], [0.242170835], [0.249796488], [0.066591188], [0.372956798], [0.501812291], [0.313097752], [0.8802021959999999], [0.51981893], [0.364138746], [0.49268289600000004], [0.285732652], [0.890114985], [0.316419561], [0.26866354], [0.771975959], [0.968888992], [0.080334377], [0.7368282209999999], [0.30055807100000004], [0.9179503929999999], [0.465815039], [0.054036682], [0.963150123], [0.08965350300000001], [0.7076932340000001], [0.636416037], [0.539521117], [0.114757161], [0.357312419], [0.67639834], [0.43482839], [0.032326387000000005], [0.711365605], [0.187486519], [0.052789653], [0.5058636129999999], [0.927431873], [0.6809842559999999], [0.882822186], [0.495705441], [0.596240398], [0.320610701], [0.3413685], [0.159681797], [0.318133669], [0.8393010479999999], [0.06435925099999999], [0.470216633], [0.7762522909999999], [0.635843383], [0.62510543], [0.52959065], [0.986900166], [0.078585688], [0.233284267], [0.363330957], [0.7167169809999999], [0.37588979200000006], [0.223316889], [0.299343986], [0.538595767], [0.730297124], [0.66033077], [0.435296009], [0.326494313], [0.854402708], [0.5734938470000001], [0.757786135], [0.704743233], [0.281575597], [0.671968208], [0.313726015], [0.364338275], [0.368216396], [0.38629520700000003], [0.655971865], [0.5660252729999999], [0.424999093], [0.090110371], [0.772350538], [0.331047258], [0.273716188], [0.23877568], [0.37307977200000003], [0.331185868], [0.256134531], [0.678373225], [0.43463833799999996], [0.654668307], [0.986681065], [0.371520495], [0.408359618], [0.40932365], [0.283412082], [0.395246531], [0.010984428000000001], [0.306013869], [0.266194806], [0.299318521], [0.318293946], [0.74282591], [0.09766432900000001], [0.079666942], [0.613258767], [0.99443072], [0.568835082], [0.7080345159999999], [0.37059271899999996], [0.669867361], [0.651295625], [0.462531569], [0.7196256190000001], [0.45377248], [0.394863946], [0.323974831], [0.146454724], [0.7790670409999999], [0.401828915], [0.601479585], [0.856423023], [0.565242962], [0.301225108], [0.282108144], [0.594378011], [0.705312368], [0.5408696279999999], [0.319249574], [0.36176613799999996], [0.625000704], [0.316287401], [0.047239021], [0.801182233], [0.508474436], [0.8178934109999999], [0.399235601], [0.9740519990000001], [0.72241535], [0.039564764], [0.908684108], [0.47301013399999997], [0.7180496279999999], [0.7634790690000001], [0.6475965370000001], [0.8949973859999999], [0.22282590100000002], [0.359012234], [0.944910252], [0.297877816], [0.172517997], [0.556586265], [0.876481735], [0.48667784299999994], [0.459496733], [0.47412637700000004], [0.70101144], [0.337597387], [0.537578886], [0.966992448], [0.056849545], [0.233249065], [0.380054711], [0.602929443], [0.303847999], [0.170194553], [0.972168554], [0.332168927], [0.6887286890000001], [0.110773401], [0.273352065], [0.572939678], [0.491457065], [0.281389999], [0.821697261], [0.6749776829999999], [0.585134549], [0.7105961159999999], [0.040488789], [0.568054311], [0.321752928], [0.611850232], [0.926096887], [0.618347428], [0.667629785], [0.39773346600000004], [0.290875487], [0.594375103], [0.508255233], [0.338571357], [0.43230234700000003], [0.302221978], [0.87619819], [0.080204492], [0.092333532], [0.09365644699999999], [0.6084523510000001], [0.732654598], [0.944158855], [0.26742308], [0.731124201], [0.661308553], [0.38776626200000003], [0.962585273], [0.322067067], [0.6340810929999999], [0.475345002], [0.35355897299999994], [0.8859363159999999], [0.876798106], [0.221581064], [0.394362449], [0.8050356759999999], [0.452898486], [0.592520516], [0.761026394], [0.245049023], [0.37213936299999995], [0.681054822], [0.7471431479999999], [0.9207395290000001], [0.097207945], [0.699302998], [0.721647006], [0.5353561139999999], [0.738293805], [0.7064675509999999], [0.67395061], [0.7112122909999999], [0.302558708], [0.080097855], [0.707010837], [0.512248622], [0.659627472], [0.657559694], [0.100645606], [0.92665363], [0.892879338], [0.839157508], [0.890959718], [0.556754471], [0.960361937], [0.631037864], [0.029838065], [0.278843351], [0.926157705], [0.551504258], [0.485942349], [0.43723469600000003], [0.25231801800000003], [0.515466972], [0.43725229600000004], [0.493724207], [0.83324725], [0.317521477], [0.28623456199999997], [0.726833965], [0.495667033], [0.028645255], [0.31967191699999997], [0.674344598], [0.7660371890000001], [0.65456992], [0.7565143809999999], [0.528253719], [0.38971949100000003], [0.355087459], [0.87015202], [0.7390833059999999], [0.305761846], [0.411587673], [0.063633094], [0.735409395], [0.605916669], [0.539395562], [0.566183532], [0.674795186], [0.070993366], [0.12526410000000002], [0.279601492], [0.952174402], [0.233806762], [0.43724742899999997], [0.925423095], [0.433498634], [0.52517902], [0.088435529], [0.447677638], [0.647000631], [0.9036033370000001], [0.265790738], [0.66419695], [0.498120658], [0.49018894399999996], [0.747084187], [0.906783648], [0.678770917], [0.348599859], [0.294839683], [0.705691827], [0.211917931], [0.063201124], [0.276699543], [0.672459395], [0.8082059490000001], [0.296538373], [0.16012686199999998], [0.439385032], [0.555951416], [0.386240112], [0.158689619], [0.214499855], [0.299579429], [0.569161656], [0.488614799], [0.8782950209999999], [0.649380949], [0.465713341], [0.16813774], [0.87529545], [0.8411323409999999], [0.33292081], [0.5130478589999999], [0.30505507800000004], [0.8126269909999999], [0.25096706], [0.5024355779999999], [0.45799074100000003]], \"hoverlabel\": {\"namelength\": 0}, \"hovertemplate\": \"0=%{x}<br>1=%{y}<br>2=%{z}<br>Feature=%{customdata[0]}<br>Label=%{marker.color}\", \"legendgroup\": \"\", \"marker\": {\"color\": [0, 0, 1, 1, 0, 0, 0, 0, 1, 1, 0, 1, 0, 1, 1, 1, 0, 1, 1, 0, 1, 0, 0, 1, 1, 1, 0, 0, 1, 1, 0, 0, 1, 1, 0, 0, 1, 0, 0, 0, 0, 0, 0, 1, 0, 1, 1, 0, 1, 0, 0, 1, 0, 1, 1, 1, 1, 0, 0, 1, 0, 1, 0, 1, 0, 1, 0, 0, 0, 0, 0, 0, 0, 0, 0, 0, 0, 0, 0, 0, 0, 0, 0, 0, 0, 0, 0, 0, 0, 0, 0, 0, 0, 0, 0, 0, 0, 0, 0, 0, 0, 0, 0, 0, 0, 0, 0, 0, 0, 0, 0, 0, 0, 0, 0, 0, 0, 0, 0, 0, 0, 0, 0, 0, 0, 0, 0, 0, 0, 0, 0, 0, 0, 0, 0, 0, 0, 0, 0, 0, 0, 0, 0, 0, 0, 0, 0, 0, 0, 0, 0, 0, 0, 0, 0, 0, 0, 0, 0, 0, 0, 0, 0, 0, 0, 0, 0, 0, 0, 0, 0, 0, 0, 0, 0, 0, 0, 0, 0, 0, 0, 0, 0, 0, 0, 0, 0, 0, 0, 0, 0, 0, 0, 0, 0, 0, 0, 0, 0, 0, 0, 0, 0, 0, 0, 0, 0, 0, 0, 0, 0, 0, 0, 0, 0, 0, 0, 0, 0, 0, 0, 0, 0, 0, 0, 0, 0, 0, 0, 0, 0, 0, 0, 0, 0, 0, 0, 0, 0, 0, 0, 0, 0, 0, 0, 0, 0, 0, 0, 0, 0, 0, 0, 0, 0, 0, 0, 0, 0, 0, 0, 0, 0, 0, 0, 0, 0, 0, 0, 0, 0, 0, 0, 0, 0, 0, 0, 0, 0, 0, 0, 0, 0, 0, 0, 0, 0, 0, 0, 0, 0, 0, 0, 0, 0, 0, 0, 0, 0, 0, 0, 0, 0, 0, 0, 0, 0, 0, 0, 0, 0, 0, 0, 0, 0, 0, 0, 0, 0, 0, 0, 0, 0, 0, 0, 0, 0, 0, 0, 0, 0, 0, 0, 0, 0, 0, 0, 0, 0, 0, 0, 0, 0, 0, 0, 0, 0, 0, 0, 0, 0, 0, 0, 0, 0, 0, 0, 0, 0, 0, 0, 0, 0, 0, 0, 0, 0, 0, 0, 0, 0, 0, 0, 0, 0, 0, 0, 0, 0, 0, 0, 0, 0, 0, 0, 0, 0, 0, 0, 0, 0, 0, 0, 0, 0, 0, 0, 0, 0, 0, 0, 0, 0, 0, 0, 0, 0, 0, 0, 0, 0, 0, 0, 0, 0, 0, 0, 0, 0, 0, 0, 0, 0, 0, 0, 0, 0, 0, 0, 0, 0, 0, 0, 0, 0, 0, 0, 0, 0, 0, 0, 0, 0, 0, 0, 0, 0, 0, 0, 0, 0, 0, 0, 0, 0, 0, 0, 0, 0, 0, 0, 0, 0, 0, 0, 0, 0, 0, 0, 0, 0, 0, 0, 0, 0, 0, 0, 0, 0, 0, 0, 0, 0, 0, 0, 0, 0, 0, 0, 0, 0, 0, 0, 0, 0, 0, 0, 0, 0, 0, 0, 0, 0, 0, 0, 0, 0, 0, 0, 0, 0, 0, 0, 0, 0, 0, 0, 0, 0, 0, 0, 0, 0, 0, 0, 0, 0, 0, 0, 0, 0, 0, 0, 0, 0, 0, 0, 0, 0, 0, 0, 0, 0, 0, 0, 0, 0, 0, 0, 0, 0, 0, 0, 0, 0, 0, 0, 0, 0, 0, 0, 0, 0, 0, 0, 0, 0, 0, 0, 0, 0, 0, 0, 0, 0, 0, 0, 0, 0, 0, 0, 0, 0, 0, 0, 0, 0, 0, 0, 0, 0, 0, 0, 0, 0, 0, 0, 0, 0, 0, 0, 0, 0, 0, 0, 0, 0, 0, 0, 0, 0, 0, 0, 0, 0, 0, 0, 0, 0, 0, 0, 0, 0, 0, 0, 0, 0, 0, 0, 0, 0, 0, 0, 0, 0, 0, 0, 0, 0, 0, 0, 0, 0, 0, 0, 0, 0, 0, 0, 0, 0, 0, 0, 0, 0, 0, 0, 0, 0, 0, 0, 0, 0, 0, 0, 0, 0, 0, 0, 0, 0, 0, 0, 0, 0, 0, 0, 0, 0, 0, 0, 0, 0, 0, 0, 0, 0, 0, 0, 0, 0, 0, 0, 0, 0, 0, 0, 0, 0, 0, 1, 1, 0, 1, 0, 0, 0, 1, 1, 1, 1, 0, 1, 1, 1, 0, 1, 1, 1, 0, 1, 0, 1, 1, 1, 1, 0, 0, 0, 0, 0, 0, 0, 0, 0, 0, 0, 0, 0, 0, 0, 0, 0, 0, 0, 0, 0, 0, 0, 0, 0, 0, 0, 0, 0, 0, 0, 0, 0, 0, 0, 0, 0, 0, 0, 0, 0, 0, 0, 0, 0, 0, 0, 0, 0, 0, 0, 0, 0, 0, 0, 0, 0, 0, 0, 0, 0, 0, 0, 0, 0, 0, 0, 0, 0, 0, 0, 0, 0, 0, 0, 0, 0, 0, 0, 0, 0, 0, 0, 0, 0, 0, 0, 0, 0, 0, 0, 0, 0, 0, 0, 0, 0, 0, 0, 0, 0, 0, 0, 0, 0, 0, 0, 0, 0, 0, 0, 0, 0, 0, 0, 0, 0, 0, 0, 0, 0, 0, 0, 0, 0, 0, 0, 0, 0, 0, 0, 0, 0, 0, 0, 0, 0, 0, 0, 0, 0, 0, 0, 0, 0, 0, 0, 0, 0, 0, 0, 0, 0, 0, 0, 0, 0, 0, 0, 0, 0, 0, 0, 0, 0, 0, 0, 0, 0, 0, 0, 0, 0, 0, 0, 0, 0, 0, 0, 0, 0, 0, 0, 0, 0, 0, 0, 0, 0, 0, 0, 0, 0, 0, 0, 0, 0, 0, 0, 0, 0, 0, 0, 0, 0, 0, 0, 0, 0, 0, 0, 0, 0, 0, 0, 0, 0, 0, 0, 0, 0, 0, 0, 0, 0, 0, 0, 0, 0, 0, 0, 0, 0, 0, 0, 0, 0, 0, 0, 0, 0, 0, 0, 0, 0, 0, 0, 0, 0, 0, 0, 0, 0, 0, 0, 0, 0, 0, 0, 0, 0, 0, 0, 0, 0, 0, 0, 0, 0, 0, 0, 0, 0, 0], \"coloraxis\": \"coloraxis\", \"opacity\": 0.7, \"symbol\": \"circle\"}, \"mode\": \"markers\", \"name\": \"\", \"scene\": \"scene\", \"showlegend\": false, \"type\": \"scatter3d\", \"x\": [3.25248384475708, -10.298372268676758, 12.230648040771484, 9.322646141052246, 18.01011848449707, 7.671535968780518, -14.113431930541992, 10.884429931640625, -2.043161630630493, -8.081048011779785, 8.386995315551758, 17.30156135559082, 4.595013618469238, -4.903791904449463, 9.794998168945312, 15.33549976348877, 4.61176872253418, -11.26800537109375, 10.85454273223877, 11.200845718383789, 7.728896617889404, 2.5635862350463867, 14.853738784790039, -1.5121744871139526, 6.545124053955078, 3.1773900985717773, 16.324254989624023, -5.4929962158203125, 17.723527908325195, 12.001145362854004, -2.9684715270996094, -7.477880954742432, 4.490179061889648, 9.206835746765137, -6.394899845123291, 1.5618140697479248, 0.319172203540802, -5.8345561027526855, 4.005427837371826, 8.797440528869629, -16.146556854248047, 11.671670913696289, -11.286905288696289, 6.803907871246338, 11.486952781677246, 15.9486665725708, 10.953043937683105, -1.8244671821594238, 17.07647705078125, -14.832620620727539, 8.38319206237793, 9.16455078125, -7.140961647033691, 15.761155128479004, 5.786719799041748, -10.657257080078125, -8.751083374023438, -7.218197345733643, 9.435402870178223, 12.285116195678711, -5.193624496459961, -8.914363861083984, 17.485689163208008, 10.035199165344238, -12.840001106262207, 10.929752349853516, -12.012089729309082, -10.49142074584961, 16.638120651245117, 6.104767799377441, 14.810676574707031, 11.558716773986816, 4.279821395874023, 7.161403656005859, -1.9220679998397827, -1.0491887331008911, 15.58181381225586, 13.66396713256836, -3.25030517578125, -4.752325057983398, -4.69221830368042, -1.003273606300354, 16.23873519897461, -8.575980186462402, -10.410836219787598, -4.83896017074585, -13.488394737243652, -13.94287395477295, -3.582449436187744, 2.4860587120056152, 1.0497719049453735, 7.748786449432373, -9.815125465393066, -11.478607177734375, -9.742966651916504, 17.174102783203125, -7.766179084777832, -4.197221279144287, -7.493058681488037, 15.47677230834961, 5.192322731018066, -14.378445625305176, -4.298190593719482, -9.088737487792969, 18.035396575927734, -7.140751838684082, -8.015257835388184, -5.717087268829346, -3.030121326446533, 13.06787395477295, 1.6098660230636597, 5.40335750579834, 5.183729648590088, -2.3961541652679443, 16.197629928588867, -0.7061888575553894, -13.689393043518066, -11.222634315490723, 7.717188835144043, -8.9072904586792, -1.2979015111923218, -2.9035751819610596, -4.395412445068359, -13.04012393951416, -1.3953666687011719, -8.10412883758545, -8.625711441040039, 9.433186531066895, -9.898670196533203, -7.587355136871338, -4.327680587768555, -7.65150260925293, 9.395153999328613, -10.670198440551758, -15.112504959106445, -1.1497526168823242, 15.650453567504883, 10.132476806640625, -7.890761375427246, -5.424281597137451, 7.618670463562012, 0.6657360196113586, -8.918071746826172, 17.15261459350586, -9.771385192871094, -6.351428985595703, 8.536964416503906, -14.360784530639648, -8.925207138061523, -6.120042324066162, 2.152778148651123, -1.1595162153244019, -2.2053627967834473, -10.020973205566406, 3.107241153717041, -8.758137702941895, -14.248191833496094, -14.636390686035156, -1.8727201223373413, 5.858366966247559, -14.188688278198242, -7.230247974395752, 0.8835354447364807, -4.33106803894043, 7.671201229095459, -15.299202919006348, 8.037226676940918, 12.732227325439453, 12.565380096435547, -2.954179286956787, -8.676619529724121, -3.4107227325439453, 6.870362281799316, 14.689724922180176, -1.1485817432403564, -14.334117889404297, 6.393078327178955, 13.665933609008789, -9.001220703125, 10.742986679077148, -1.9221432209014893, 7.499138355255127, -6.537100791931152, 14.486038208007812, 13.095195770263672, -12.412205696105957, 11.07722282409668, -5.202556610107422, -4.762069225311279, -0.9770424962043762, -14.589305877685547, 17.644855499267578, 8.193863868713379, 15.2034273147583, -16.199962615966797, -13.412184715270996, -1.5463335514068604, -4.95466947555542, 6.488818168640137, -0.8387334942817688, -3.713463068008423, -5.42860221862793, -8.011512756347656, 16.750864028930664, 13.740609169006348, -7.297682762145996, -5.470409393310547, -3.640380620956421, 6.977848529815674, -8.548223495483398, -0.8944074511528015, 11.924291610717773, 14.317596435546875, 0.3147921860218048, -2.75555419921875, -3.0497360229492188, -8.352770805358887, 14.088386535644531, 16.432594299316406, -4.548125267028809, 13.919265747070312, -5.422113418579102, 16.23869514465332, -3.353893280029297, -14.80746078491211, -4.566293716430664, -11.574690818786621, -5.382141590118408, -15.815832138061523, 8.81493854522705, -12.7626371383667, -10.108675003051758, 9.859901428222656, 10.30370807647705, -10.002561569213867, -5.039823055267334, -6.144954204559326, -1.7385737895965576, 9.691994667053223, 12.855753898620605, -3.57261061668396, -2.207301378250122, 12.229430198669434, -12.325538635253906, 11.032411575317383, -14.756991386413574, -3.397808790206909, -0.7694616913795471, -11.464991569519043, 15.200557708740234, -8.790088653564453, -3.530303478240967, 11.410205841064453, -6.981193542480469, -7.074470520019531, -1.13516104221344, 1.311845064163208, -12.788850784301758, 9.464262008666992, -9.401864051818848, 13.231328964233398, -6.578702926635742, 17.080629348754883, -1.7860738039016724, -9.027349472045898, -12.108893394470215, 11.011419296264648, -14.755295753479004, -2.9204752445220947, -3.309678554534912, -4.606982707977295, -8.957805633544922, -0.2745986878871918, 12.382201194763184, 6.521032810211182, -9.65288257598877, 15.72337532043457, 17.709754943847656, -5.471941947937012, -4.839836597442627, -12.046208381652832, 12.42591381072998, -6.469163417816162, -0.5836806297302246, 15.691120147705078, -5.065587520599365, -11.075093269348145, -5.848952293395996, -14.454086303710938, 6.597768306732178, 1.7825262546539307, -6.6330132484436035, -7.695372581481934, -5.792205810546875, -8.565267562866211, 5.9680914878845215, 8.368382453918457, -3.4036965370178223, -6.629157066345215, 1.7697360515594482, -5.705044269561768, -12.00623607635498, 14.378921508789062, 11.157793998718262, 8.630305290222168, 0.16966944932937622, -3.3014819622039795, 0.16591507196426392, -15.351266860961914, 13.234488487243652, 12.276488304138184, -15.246034622192383, 7.747533798217773, 12.80173110961914, -3.161120653152466, 2.608027696609497, -2.815808057785034, -11.89164924621582, -0.45929816365242004, -8.361467361450195, -5.002628326416016, -0.998115599155426, 11.189630508422852, -6.146634578704834, -2.0141305923461914, 1.2189146280288696, 11.926487922668457, 11.153472900390625, 12.467731475830078, 8.171415328979492, -14.987269401550293, 14.671944618225098, -8.308842658996582, -7.582758903503418, -14.053037643432617, 14.7874116897583, -7.2918782234191895, -1.3479892015457153, 11.197504997253418, 13.327997207641602, -0.5214090347290039, -6.861449718475342, 7.549887657165527, -10.190675735473633, 10.930441856384277, 14.169869422912598, -10.49795913696289, -16.799274444580078, 8.776631355285645, 14.875188827514648, -3.486192226409912, -0.9579483270645142, -8.64439868927002, -8.490617752075195, -11.063432693481445, -6.762858867645264, -6.501466751098633, -6.018399238586426, 17.394521713256836, 0.9566401243209839, -8.875381469726562, -4.4380269050598145, -4.648550987243652, -13.992085456848145, 9.987106323242188, 0.6656662225723267, 14.877470016479492, -12.201035499572754, -13.133280754089355, -6.217134952545166, -11.60448169708252, -3.542551279067993, 16.709091186523438, 11.653465270996094, 11.17071533203125, -11.918671607971191, -0.39206257462501526, 8.947537422180176, -8.828857421875, 0.6685934662818909, 7.368775367736816, -5.100858211517334, -1.3766014575958252, 4.180354118347168, -7.933684825897217, -7.261856555938721, -7.303262710571289, -6.940071105957031, -0.5810069441795349, 4.902454376220703, -12.11533260345459, -7.621958255767822, 0.5527829527854919, -1.8667752742767334, -9.230229377746582, -8.660318374633789, -6.931939601898193, 11.355952262878418, 2.3018388748168945, -4.36007022857666, -8.481121063232422, -11.455657958984375, -14.964025497436523, -7.515942573547363, 12.906638145446777, -14.243115425109863, 13.195208549499512, -4.524834632873535, 4.610385894775391, -5.157433986663818, -10.76298713684082, -0.2771664261817932, 17.470439910888672, 0.13991950452327728, -7.072402000427246, -10.728728294372559, -14.334136009216309, -10.521428108215332, 10.770086288452148, 14.244062423706055, 5.102605819702148, -8.269201278686523, -5.362460136413574, -9.648091316223145, 13.0305757522583, -14.785515785217285, -12.615145683288574, 8.503287315368652, 4.188315391540527, 15.319472312927246, -0.45395898818969727, -12.898614883422852, -8.915393829345703, 9.976156234741211, 14.405914306640625, -1.5436322689056396, -11.378558158874512, 16.098840713500977, -2.940901041030884, 13.91804313659668, -6.7919206619262695, -2.6914288997650146, 14.905861854553223, 17.25385093688965, -4.622834205627441, 6.0820417404174805, 14.431736946105957, -9.415316581726074, 13.853100776672363, 7.701135635375977, -11.379077911376953, 15.845264434814453, -12.60054874420166, 0.38622185587882996, 6.12949275970459, -8.898985862731934, -0.09898561984300613, 14.917314529418945, -2.757007122039795, 4.107525825500488, -7.832869529724121, 14.60289478302002, -11.716582298278809, -5.5800395011901855, -2.1441245079040527, 0.9995009303092957, -3.3740811347961426, 14.279854774475098, -15.264874458312988, 13.240063667297363, -2.1758785247802734, -10.61316204071045, -13.016267776489258, -2.085258722305298, -11.545756340026855, -15.617265701293945, -12.771921157836914, 8.359230995178223, 0.15466216206550598, -11.155191421508789, -14.402101516723633, -10.10509204864502, 9.470283508300781, 15.43454360961914, -13.30099105834961, 16.707801818847656, -2.416046380996704, 4.639717102050781, -0.2757102847099304, 13.77212905883789, -0.45438528060913086, 5.981143474578857, 7.464146137237549, 14.758536338806152, 12.615761756896973, 8.962668418884277, -5.347171306610107, 5.48815393447876, -8.706014633178711, 3.319585084915161, -7.9176764488220215, -4.677293300628662, 1.4762917757034302, -3.151193141937256, 4.063965320587158, 13.653912544250488, -2.0656142234802246, -16.244434356689453, 5.0009331703186035, 8.202898025512695, 17.576444625854492, -14.996321678161621, -2.4686427116394043, 12.933828353881836, -3.808584213256836, -10.255027770996094, -9.575480461120605, -2.5340590476989746, -3.1605186462402344, -3.1070611476898193, 5.344968795776367, 15.712491035461426, 9.391484260559082, 12.473270416259766, 17.02483367919922, -14.569550514221191, 4.174709796905518, -12.208257675170898, -1.1047297716140747, 2.3456661701202393, -4.191418170928955, 14.10912799835205, 6.081932544708252, -11.230660438537598, 5.333462715148926, 11.58823013305664, -5.753293991088867, 17.084508895874023, -0.39119383692741394, -3.7449779510498047, -4.983241081237793, 6.955295562744141, -10.686603546142578, -9.57888126373291, -16.856124877929688, 7.276225566864014, -6.7052226066589355, 8.480489730834961, 9.246842384338379, -6.64567232131958, -9.461174011230469, -1.43315589427948, 15.91844367980957, -1.862951397895813, -9.177043914794922, -5.6516642570495605, 5.254434585571289, -1.6395930051803589, 11.56822395324707, -0.9403116106987, 17.713171005249023, 16.733112335205078, -10.113739967346191, 7.480432987213135, -10.422840118408203, -5.808474540710449, -13.717641830444336, -4.499129772186279, 8.837206840515137, 5.999128818511963, 3.411033868789673, 5.82200813293457, 11.488603591918945, 15.290789604187012, -8.657506942749023, 13.440009117126465, -11.043415069580078, -14.014469146728516, -0.0757608562707901, -0.5135429501533508, 4.988094329833984, -0.3223651349544525, 11.84453296661377, -11.059022903442383, -15.310763359069824, -5.786094665527344, 2.408287286758423, -10.195734977722168, -14.776544570922852, 14.745824813842773, -11.951355934143066, -12.508295059204102, -1.484575629234314, 12.351357460021973, -3.920954704284668, -8.642627716064453, 11.000885009765625, 14.387894630432129, 7.962137699127197, 16.723896026611328, 8.377875328063965, -4.1488237380981445, 8.756057739257812, -12.792129516601562, 6.658763408660889, -8.118597984313965, 11.303023338317871, 16.10983657836914, -9.49600887298584, -5.935793876647949, 8.967902183532715, 2.1107590198516846, 4.406213760375977, 0.43176212906837463, -6.195765495300293, -11.014447212219238, -1.443209171295166, -2.67193341255188, -2.2533247470855713, 1.9795550107955933, -3.5879931449890137, -7.9859089851379395, -9.215513229370117, -3.414019823074341, 12.225605010986328, 13.186244010925293, -13.64026927947998, 17.115245819091797, -5.490255832672119, -5.489567756652832, 0.5678656697273254, -4.477951526641846, -1.335583209991455, 15.911760330200195, 2.787778854370117, -0.18131642043590546, 2.151517629623413, -3.892767906188965, 6.054203987121582, -5.007660388946533, 13.492195129394531, -8.541974067687988, -13.131124496459961, 0.30240464210510254, 14.6526460647583, 0.9018009901046753, 12.594368934631348, -2.606511354446411, 13.67231273651123, -0.23487062752246857, -11.501932144165039, -13.377947807312012, -5.114264488220215, 8.676713943481445, -14.745424270629883, -6.6578216552734375, 15.901487350463867, -0.564517080783844, -6.5686116218566895, 13.22740650177002, 14.340547561645508, -7.1682305335998535, -2.2228550910949707, 2.302509069442749, 7.74440860748291, -6.173945903778076, 9.32848834991455, -10.513372421264648, -5.115722179412842, -14.440288543701172, -5.434140682220459, -6.991644859313965, -9.595499038696289, -5.801078796386719, 5.812690734863281, -10.097745895385742, -8.849963188171387, 4.642029762268066, 9.250202178955078, -10.748510360717773, 12.131163597106934, -11.92696475982666, -1.0574098825454712, 6.71681547164917, -11.758749008178711, -14.617884635925293, -6.396698474884033, -16.530864715576172, 7.76678466796875, 13.312834739685059, 6.649251461029053, 11.285820960998535, 17.04363250732422, -1.4941576719284058, 6.8902506828308105, 5.470550537109375, 1.2687702178955078, -4.3864641189575195, -1.9863812923431396, 10.670543670654297, -1.372636318206787, -11.731290817260742, -4.894800186157227, 17.75420570373535, -4.91819953918457, -10.428098678588867, 9.3042573928833, 12.901695251464844, -3.0579042434692383, 7.334461688995361, 9.659159660339355, -14.002219200134277, -3.8954074382781982, 3.2236168384552, -5.823996543884277, 4.075512409210205, 7.826711654663086, 16.00514793395996, -5.757880210876465, -8.695633888244629, 10.962930679321289, -15.339603424072266, -1.5136185884475708, 9.068624496459961, -9.523211479187012, 4.52453088760376, 7.497690677642822, 5.014253616333008, 11.348906517028809, 8.484160423278809, -1.0164201259613037, 16.500205993652344, -5.172959804534912, -5.941568851470947, -0.45150235295295715, 6.691660404205322, -0.009366011247038841, -1.9334532022476196, -3.2442941665649414, 9.907140731811523, -5.01801061630249, -1.1074265241622925, -0.9046302437782288, 7.668478965759277, 2.3856983184814453, -3.2335104942321777, -2.0835869312286377, 5.308681488037109, 14.66055965423584, 14.851648330688477, -9.546605110168457, 16.277271270751953, -10.466413497924805, -16.099782943725586, -12.794462203979492, 14.06273078918457, -4.753314018249512, -6.608057498931885, 13.344405174255371, -16.383499145507812, 14.401623725891113, -9.627705574035645, -10.070576667785645, -15.70693588256836, 2.8092172145843506, -12.569973945617676, -14.28120231628418, 17.589359283447266, -11.856133460998535, 18.50672721862793, -4.620773792266846, -0.39010190963745117, -2.745154857635498, -12.649514198303223, 0.7782973051071167, -13.28857707977295, -5.483482837677002, -1.468607783317566, -1.281216025352478, 1.1768333911895752, -1.5999751091003418, -13.209794998168945, -3.7489564418792725, 2.010669231414795, -1.256292700767517, 14.55200481414795, -7.890798568725586, 5.954344749450684, -5.062973976135254, -4.82018518447876, 13.017988204956055, -2.718613386154175, 9.237676620483398, -0.0253111831843853, -15.58709716796875, -7.612160682678223, -11.129620552062988, 14.061905860900879, -1.133270502090454, -14.109524726867676, -4.970142841339111, -4.787606239318848, -2.1418251991271973, -9.971776962280273, 13.535846710205078, -15.214913368225098, -10.03640365600586, -4.890953540802002, 7.657530784606934, -10.86739444732666, 15.672138214111328, 6.734910011291504, -0.3722522258758545, 5.207976818084717, -3.9059505462646484, 13.680292129516602, -4.993107318878174, 13.203428268432617, 6.688007354736328, 9.038068771362305, 7.477731704711914, 12.553215026855469, -3.607009172439575, -5.933039665222168, -1.998644232749939, -11.29069995880127, 7.60205602645874, -4.085996150970459, 0.5043209791183472, 14.540762901306152, -5.908492565155029, 1.3026072978973389, 16.59688949584961, 7.528308868408203, 15.155763626098633, 6.5688066482543945, 17.432376861572266, 17.941476821899414, 6.603630065917969, -9.097915649414062, -1.1340614557266235, -8.845702171325684, 9.311664581298828, -6.019183158874512, -12.939658164978027, 5.212115287780762, -4.091302394866943, -1.2308422327041626, 1.7474660873413086, -1.5864354372024536, 5.443848609924316, 4.2712602615356445, -9.858457565307617, -1.136272668838501, -0.9191937446594238, -3.1059601306915283, -2.828112840652466, 6.395293712615967, -4.249173164367676, 8.950629234313965, 3.8453779220581055, -4.244438171386719, -0.06760058552026749, -2.154466152191162, -2.9043445587158203, 10.065058708190918, -11.10074234008789, -4.679609298706055, 6.715360164642334, 1.3572030067443848, 8.092798233032227, -9.439125061035156, -13.603571891784668, 1.4002200365066528, -9.782480239868164, -9.840505599975586, -9.209053039550781, -3.2532460689544678, -0.13528624176979065, 12.903610229492188, 1.1062700748443604, 1.6526864767074585, -6.970369815826416, 12.602012634277344, 11.414050102233887, 5.633476734161377, 1.0511902570724487, -7.408243656158447, 1.616929054260254, 7.789172172546387, 16.222522735595703, 12.519102096557617, 12.585922241210938, -6.485788345336914, 13.752313613891602, -0.9273503422737122, -1.5885732173919678, -14.50964069366455, -0.7097443342208862, -8.049079895019531, -5.587965965270996, -6.925786972045898, -12.121926307678223, 13.63313102722168, -1.7199727296829224, 16.923654556274414, 8.871963500976562, -7.177478313446045, 12.206572532653809, -2.9525904655456543, -12.734106063842773, -9.63101577758789, -9.671334266662598, -1.7701809406280518, 9.405311584472656, 17.5598201751709, 0.2480909675359726, -4.12321138381958, 6.188575267791748, 6.629929065704346, 4.588347434997559, 9.682019233703613, -8.111377716064453, -3.7710041999816895, -3.4279651641845703, 1.9545503854751587, -7.8106889724731445, 0.3234909474849701, -6.5863471031188965, -3.424283742904663, 18.479772567749023, -8.2048921585083, -13.22253704071045, 13.957262992858887, 11.0831880569458, 14.68411636352539, -8.07315444946289, 12.90821647644043, -9.33447265625, 7.390946865081787, 12.741755485534668, -4.819744110107422, -3.289947032928467, 5.158396244049072, -0.14380216598510742, 10.929975509643555, -0.6918720602989197, -0.47424426674842834, -5.203245162963867, -7.243388652801514, -0.2066902220249176, -4.668359279632568, 13.055706977844238, 10.704699516296387, -6.5848493576049805, -14.28787899017334, 6.705115795135498, 11.510002136230469, 7.326777935028076, -2.900099754333496, -14.584856986999512, -8.466307640075684, 13.09213638305664, -2.1415817737579346, -0.27764368057250977, -15.433196067810059, -5.957188606262207, -1.8649216890335083, 9.81670093536377, -8.189056396484375, 15.590197563171387, -0.06266722828149796, -0.9513980150222778, 17.358684539794922, -4.438122272491455, -13.548356056213379, -11.573739051818848, 15.074617385864258, -5.023270130157471, 5.586503982543945, 9.363750457763672, 5.34199333190918, -3.659750461578369, -12.304723739624023, 14.821292877197266, -11.60959529876709, -3.4622387886047363, 7.76584005355835, 6.016811847686768, 17.266357421875, 6.923957824707031, -0.3106009364128113, 1.0597931146621704, 12.971122741699219, 11.462151527404785, -0.15382696688175201, -10.10216999053955, -4.921818733215332, 9.029661178588867, 16.968076705932617], \"y\": [-7.922199249267578, 1.5385245084762573, -6.369449615478516, -0.3444922864437103, -4.734435558319092, -1.1479765176773071, 2.6109447479248047, 7.0560150146484375, -3.96921706199646, -6.242646217346191, 8.803764343261719, -1.3643018007278442, 0.9781404733657837, -7.0026350021362305, -1.4693650007247925, 6.205791473388672, 1.0305839776992798, -5.088797092437744, -6.343460559844971, -0.7034457325935364, -2.0491743087768555, -3.12833833694458, -4.592370510101318, -3.3559601306915283, 1.712328314781189, -1.008790373802185, -2.316498279571533, -2.2486047744750977, 6.306930065155029, 8.375443458557129, -2.919405221939087, 4.820664882659912, -4.171848773956299, -1.2813501358032227, 6.468562602996826, -3.1610920429229736, -0.8656080961227417, -2.294780969619751, -4.574871063232422, 0.6752274036407471, -1.525939702987671, 0.6086716055870056, -1.3756810426712036, 1.0216413736343384, -0.364046573638916, 6.585813522338867, -0.8214359283447266, -3.4829540252685547, -1.5938928127288818, -4.443757057189941, 6.007534980773926, -5.902225494384766, 1.6898927688598633, 6.605317115783691, 0.09364775568246841, 8.250923156738281, 8.697275161743164, 5.4373369216918945, -0.8538174033164978, -1.7470424175262451, -4.332362651824951, -6.044698238372803, 2.6027913093566895, 8.315314292907715, -4.640007972717285, -1.4082728624343872, -8.203235626220703, -4.976048946380615, -1.5275166034698486, 4.672541618347168, 7.994176387786865, 2.9341299533843994, -5.378900527954102, 2.7839672565460205, -8.488564491271973, -4.43697452545166, -0.5145941972732544, 3.508852481842041, -4.825106143951416, -3.4867959022521973, -4.249826908111572, -2.5123941898345947, -2.257801055908203, -4.725037574768066, 1.4619332551956177, 3.8474042415618896, -0.275667667388916, -2.3649628162384033, 4.831457138061523, -1.1561464071273804, -4.817239761352539, 6.668274879455566, -1.1849015951156616, 2.300743579864502, 5.876859664916992, 3.8686909675598145, -1.0183067321777344, 2.104766607284546, -3.340233325958252, -0.6328029036521912, -4.605449199676514, -2.8958044052124023, 1.6667532920837402, 1.7269604206085205, 2.9008371829986572, -2.797271728515625, -3.922624349594116, 3.2999422550201416, -8.131122589111328, 2.881072998046875, -1.8455315828323364, -2.4786794185638428, 7.654116630554199, -5.2507734298706055, -4.605037689208984, -1.4887847900390625, 4.972711563110352, 2.4796292781829834, 0.944046139717102, -2.157280445098877, -1.4898613691329956, 2.911165714263916, 2.447631359100342, -3.068430185317993, -2.290447473526001, 0.5737918019294739, 6.61848258972168, 1.2736655473709106, 0.9236090779304504, -0.6479824185371399, 4.914397716522217, -0.18237799406051636, 5.180030345916748, 4.708630084991455, -2.0867607593536377, -7.826752185821533, -4.044540882110596, 2.425705909729004, 1.377174735069275, 1.083321452140808, 3.797135353088379, -1.2786810398101807, 2.555356979370117, -2.8012516498565674, -1.1067662239074707, -3.5639662742614746, 6.2541303634643555, 0.8123293519020081, 1.7375279664993286, -1.7749762535095215, -2.0067992210388184, -4.259439945220947, 3.7695300579071045, 3.082602024078369, -4.02026891708374, -1.130461573600769, -4.872282981872559, -2.5160624980926514, -5.7065911293029785, 2.0418245792388916, 4.714205741882324, 5.0692572593688965, -4.250063419342041, -3.486652374267578, 1.509482979774475, -2.902104377746582, 3.1019294261932373, 6.442744731903076, -2.032945156097412, -3.5096235275268555, -3.566420793533325, 2.641692876815796, 2.9355099201202393, -5.4607834815979, 0.3669452965259552, -2.9668056964874268, 0.876625657081604, -5.442929267883301, 2.6592700481414795, 1.684051752090454, 2.6087629795074463, 6.247306823730469, 5.909666061401367, 6.984784126281738, 6.989356517791748, 4.683073997497559, 2.7121779918670654, 4.842164993286133, -4.851566791534424, -3.834383964538574, 0.1483473926782608, -3.229731559753418, 7.270787239074707, -5.6120219230651855, 1.2802428007125854, 4.413134574890137, 3.544771432876587, 4.4571919441223145, -4.642333507537842, -1.6041793823242188, 3.0947751998901367, -0.397352397441864, 5.297410011291504, -1.73175048828125, -5.702337265014648, 5.064150333404541, -1.461593508720398, 3.768014430999756, 6.087312698364258, 2.6940886974334717, 0.6951020956039429, 4.152586460113525, 1.9347705841064453, -1.16734778881073, 2.988489866256714, 2.9898338317871094, 2.0509722232818604, 4.681130409240723, 3.4172332286834717, 1.6420421600341797, -6.20986795425415, 0.5602620244026184, -1.6316969394683838, -7.5985026359558105, 0.6026061177253723, -1.224399209022522, -2.262641429901123, -6.27834939956665, -1.7667927742004395, 5.706120014190674, 3.2458202838897705, -1.1211267709732056, 2.4630396366119385, 2.160271406173706, 1.3217462301254272, 0.4311959147453308, -2.327052593231201, -3.871412754058838, 1.4629578590393066, -6.641864776611328, 4.05412483215332, 1.4965254068374634, -4.324522495269775, -0.9069341421127319, 5.119421482086182, -0.3995905816555023, -5.946717739105225, -4.0084733963012695, -1.8559467792510986, -4.236937046051025, 5.176103591918945, 0.4490688443183899, 2.508392810821533, 4.968842029571533, -2.8399393558502197, -3.00435733795166, -8.386341094970703, -0.6077163815498352, 5.501269340515137, -0.9173716306686401, -5.086036682128906, 5.05676794052124, -4.786770820617676, 1.5996878147125244, 3.6859734058380127, -1.0395828485488892, 3.618227005004883, 2.277561902999878, -7.880385875701904, 5.146252155303955, 2.879631280899048, 6.088051795959473, -8.004887580871582, -5.3682355880737305, 1.3252149820327759, 4.16337251663208, 3.0478715896606445, -3.2091588973999023, 2.3140885829925537, -4.791797637939453, -1.934471607208252, -5.013005256652832, -4.802369117736816, -5.982004642486572, -4.035694122314453, 1.2417113780975342, -3.6872429847717285, 0.6231012344360352, -0.6857671141624451, -5.387397766113281, -1.795044183731079, 3.347799062728882, -3.585906982421875, 0.23003506660461426, -4.682856559753418, 5.153571605682373, 5.1502556800842285, -2.4693307876586914, -3.7589492797851562, -6.824398517608643, 4.467416286468506, 0.7643174529075623, 4.872476100921631, 4.761903285980225, 4.048245429992676, -6.127401828765869, 1.8147011995315552, -5.034069061279297, -0.9939165115356445, 7.133341312408447, 6.960660457611084, 1.202722430229187, 6.135794639587402, -6.232202053070068, 5.280384540557861, -7.93432092666626, -3.368065595626831, 1.3492573499679565, -6.130406379699707, 5.183403968811035, 3.9618160724639893, -6.361056327819824, 2.594836711883545, 1.9291263818740845, -0.4251255691051483, -4.424259662628174, 2.7267580032348633, 4.720402717590332, -1.1728910207748413, 3.7713191509246826, 2.49709415435791, 4.443769931793213, 4.920534610748291, -2.0312445163726807, -2.8758251667022705, -0.952104389667511, 0.5671325922012329, -8.380858421325684, 2.705099582672119, 4.30278205871582, -8.830954551696777, -4.919440269470215, 0.9335752129554749, 3.41992449760437, 6.164968967437744, -1.5356823205947876, 4.4850053787231445, -0.9062550663948059, 1.531651496887207, 5.023365497589111, -0.42364421486854553, -8.14836311340332, -0.4789513647556305, 5.855850696563721, -3.6395022869110107, -5.596848011016846, 2.5164685249328613, -0.6868237853050232, 4.710852146148682, -2.3195300102233887, 0.7049756646156311, 1.5042093992233276, -4.571550369262695, -0.6226979494094849, 2.495342969894409, -4.014960289001465, 3.367731809616089, 2.5448825359344482, -0.6976885795593262, 3.734767436981201, -3.009425401687622, 4.06854772567749, -1.315273642539978, -0.08432687073945999, 2.488525390625, -3.8683509826660156, -8.041971206665039, 3.4813997745513916, 5.502383232116699, -2.330888032913208, 3.1165170669555664, 0.6053394079208374, -8.723616600036621, -6.1952290534973145, 0.41136157512664795, -1.1861157417297363, -3.5166940689086914, -2.5622265338897705, -0.9306319355964661, -2.646336078643799, -4.558874607086182, -1.272091031074524, -6.87102746963501, -4.20410680770874, 0.44728267192840576, 5.947281837463379, -3.091049909591675, 4.69144868850708, -4.880780220031738, -5.830630302429199, -2.381044626235962, -5.996913909912109, 1.5724432468414307, 5.665812015533447, 5.461523056030273, 2.9093987941741943, -2.8619494438171387, 0.47194531559944153, 2.265580415725708, 5.990123748779297, -1.8341883420944214, -2.286156415939331, 3.179656982421875, -5.0697455406188965, 4.1042962074279785, -1.275920033454895, -4.008036136627197, 0.8566562533378601, 4.56508207321167, -1.1278733015060425, -2.4766578674316406, -5.083132266998291, 0.5468946099281311, 0.4377503991127014, -1.3815258741378784, -1.4771684408187866, 2.7689168453216553, 4.0220136642456055, -5.969748020172119, -0.26856517791748047, -1.800741195678711, 4.423755168914795, -4.848118305206299, 2.8729255199432373, -2.9574062824249268, 1.7558925151824951, -0.855863630771637, -1.4487807750701904, -7.935112953186035, -5.109405994415283, -3.2870209217071533, -4.0970869064331055, -5.045450210571289, 1.2901875972747803, 3.5249969959259033, 1.937954068183899, 5.69198751449585, 2.853579044342041, -3.774867296218872, 7.388433933258057, -5.3918843269348145, -3.6233770847320557, -3.0104658603668213, -5.92394495010376, 7.225414276123047, 6.240654945373535, -0.6214819550514221, -4.303558826446533, -5.153111934661865, -5.279318332672119, 0.5746336579322815, -3.592191696166992, -0.9844664335250854, -6.078666687011719, -1.879390001296997, -4.838821887969971, -7.8645243644714355, 6.791261672973633, -2.697753667831421, -2.558332681655884, -1.550364375114441, 0.08626952022314072, -0.5774900317192078, -6.473018169403076, -4.2960896492004395, 0.9488379955291748, 4.158845901489258, 3.0142970085144043, -8.1465425491333, -1.0185054540634155, -1.2881194353103638, -5.41514253616333, 4.140557289123535, 0.8499598503112793, 4.876341819763184, 0.2478729486465454, 2.8832900524139404, -6.351949214935303, -8.181341171264648, -7.338608264923096, -3.5304102897644043, 5.835083484649658, 3.415844678878784, 4.80997896194458, -3.784794330596924, 6.129937648773193, 5.683142185211182, 3.5426273345947266, 2.971928834915161, -1.4331035614013672, 1.26149320602417, -2.125788450241089, -3.430473566055298, 4.399670124053955, -6.397069931030273, -6.750216484069824, -6.394083499908447, 0.30258089303970337, -5.846050262451172, 6.005648612976074, -3.7650911808013916, -2.044349193572998, 2.9281721115112305, 4.041020393371582, -3.8346500396728516, 1.6422514915466309, 4.895574569702148, -5.850719451904297, -0.43035268783569336, 2.537923812866211, -4.2353386878967285, -0.8600631356239319, 3.6773440837860107, -0.6687116026878357, 3.547301769256592, 4.468397617340088, -7.057346820831299, 0.6822934150695801, -0.11541436612606049, -8.832846641540527, 1.697926640510559, 3.0395004749298096, 2.496436595916748, -2.575765609741211, 5.240146636962891, 6.6444878578186035, 6.030805587768555, -1.0592961311340332, -6.282957077026367, 5.03106689453125, 2.136150598526001, 3.9520838260650635, -1.91611909866333, 2.01326584815979, -1.172661542892456, 3.719095230102539, -2.948477029800415, 3.428853750228882, 5.643620491027832, -4.165533065795898, 0.7847834825515747, -5.80246639251709, -2.474534034729004, -5.813704490661621, 3.8360533714294434, 0.35986271500587463, 2.282728910446167, -7.749099254608154, 3.757317066192627, -2.9410228729248047, 0.8408089280128479, 3.377148389816284, 3.953542470932007, 7.209835052490234, -2.9905600547790527, -2.912337064743042, -3.7971394062042236, -1.839759111404419, 7.804625988006592, 7.086063861846924, -7.0743088722229, 6.224137306213379, 6.054895877838135, 4.975483417510986, 4.25623893737793, 7.554816246032715, 0.46663403511047363, -1.4969587326049805, -6.408217430114746, -1.1493933200836182, -3.1712868213653564, -2.7136764526367188, -0.5401500463485718, 1.5192077159881592, -1.207161545753479, -1.3580347299575806, -8.434487342834473, -4.59388542175293, 1.0201677083969116, 3.3234145641326904, -6.0752363204956055, 0.3794611394405365, -4.053405284881592, 5.802751064300537, -2.9305217266082764, 2.6981146335601807, 4.110699653625488, 2.145991802215576, 3.7386982440948486, 0.7436628341674805, 2.020798921585083, 2.5417606830596924, 5.816196918487549, 3.566082239151001, 4.9033660888671875, 1.5096389055252075, 5.349047660827637, 3.2260653972625732, -2.507862091064453, 2.7731151580810547, 3.9874298572540283, -0.5156179070472717, -3.8556840419769287, -8.504914283752441, -6.466506481170654, 2.9734840393066406, 3.639472723007202, 5.441353797912598, -3.127800464630127, -8.71851921081543, -4.274037837982178, 2.2506415843963623, 4.584507465362549, -1.1628694534301758, -0.8463237285614014, 7.519134044647217, 4.445494651794434, -5.003169059753418, 1.333993911743164, -5.739396095275879, -5.928167343139648, 3.5151355266571045, -6.978200435638428, -1.5220047235488892, -1.1654162406921387, -6.336488723754883, 0.37158042192459106, -3.9828152656555176, 7.2727952003479, -3.246706008911133, -5.850100994110107, 2.904603958129883, 4.250981330871582, -1.6809272766113281, 3.164216995239258, -4.23107385635376, -3.2291505336761475, -6.9000420570373535, -3.029386043548584, -7.442637920379639, -2.2747738361358643, -4.147192478179932, 1.3416427373886108, 3.349703788757324, -3.222546100616455, 2.764450788497925, -1.2821900844573975, -6.468010425567627, -1.2629534006118774, 3.4233028888702393, 6.199222087860107, 2.257344961166382, -2.252392053604126, -7.345736503601074, 3.893113851547241, -2.27909255027771, 1.6309523582458496, 4.528666019439697, 4.565814018249512, -3.6438562870025635, 1.6901477575302124, -5.111661911010742, 5.013067245483398, -3.466062068939209, 2.091599941253662, 0.25969502329826355, 3.5979363918304443, 6.192586898803711, 3.6895594596862793, 4.7448601722717285, -2.0703322887420654, -1.676993727684021, -8.763886451721191, 2.8201675415039062, 2.854390859603882, -3.0795814990997314, -2.4771268367767334, -1.219010829925537, 7.4534831047058105, 6.352075576782227, 0.3529411554336548, 6.514134883880615, 3.4403817653656006, 1.950034737586975, 7.3383989334106445, 1.6682323217391968, -3.083682060241699, -1.1238172054290771, -5.339142322540283, 2.3099007606506348, 4.590438365936279, 5.019772052764893, -6.999576568603516, 6.323330402374268, -5.413846969604492, 7.254384517669678, 6.618471622467041, 3.8750410079956055, -5.301460266113281, 1.4957371950149536, -1.3262845277786255, -2.8753769397735596, -4.030599594116211, -0.8537333607673645, -5.07860803604126, 2.91744065284729, -1.383341670036316, 7.22269868850708, -5.166015625, -5.774567127227783, -6.36201286315918, 4.238691329956055, 3.4198474884033203, -5.87953519821167, -5.365248203277588, -4.1871137619018555, 6.801131725311279, 1.1607648134231567, 1.2607744932174683, 0.09702058136463165, 0.7998176217079163, -0.2568732798099518, -3.768054723739624, -4.972951412200928, -0.45188724994659424, 7.597492694854736, -1.5439525842666626, -2.878413677215576, -3.4660825729370117, 4.172524452209473, -1.8354312181472778, -4.464088439941406, -5.498691558837891, 4.663351058959961, -4.698112487792969, -2.6608726978302, -0.6048484444618225, 6.465266704559326, -4.743044853210449, 6.337437629699707, 1.341382384300232, -2.074388265609741, 5.865274429321289, 1.3492809534072876, -1.4568766355514526, -5.574317932128906, -3.365567207336426, 4.747150897979736, 3.777503490447998, -0.06048119068145752, 6.8510823249816895, 5.186415672302246, -3.359698534011841, -2.4121148586273193, -7.638307094573975, 2.916996955871582, 2.9611239433288574, -2.4139199256896973, 1.7134877443313599, -3.110980749130249, -3.659121036529541, -7.379934787750244, -3.309091329574585, 3.0349678993225098, -5.053952693939209, 0.6804608106613159, 1.2704180479049683, 3.770888090133667, -7.027557849884033, -6.0044426918029785, -2.7935140132904053, 3.233675003051758, 2.9574077129364014, -1.3815481662750244, -3.4869065284729004, 6.9233012199401855, 5.5344624519348145, 2.581509828567505, -2.9243977069854736, -0.40148234367370605, 5.611949443817139, -4.53049373626709, 5.396704196929932, -6.817063808441162, 2.1590256690979004, 6.169489860534668, -0.3531988263130188, -3.9829049110412598, -3.2250823974609375, 1.2792396545410156, 3.4401659965515137, -0.4566010534763336, -0.32358652353286743, 2.288639783859253, -6.6150970458984375, -3.033721446990967, 2.0942022800445557, 0.7763100862503052, 4.5091118812561035, -3.429762840270996, -1.8109091520309448, 4.140197277069092, -7.034177303314209, -2.3904802799224854, 3.580068349838257, -3.5966758728027344, 1.543066382408142, 6.502338886260986, 0.7607821822166443, 3.237308979034424, 7.33651876449585, -6.098881244659424, -2.776954174041748, 2.3520548343658447, 2.7051870822906494, 0.36472854018211365, 4.656469345092773, -3.1256911754608154, -5.6337056159973145, 3.437835931777954, 0.32727500796318054, -3.0514540672302246, 3.154698371887207, 3.451328754425049, -4.815916061401367, 3.9983291625976562, 0.05742758512496948, -3.6486775875091553, 7.13093900680542, 2.5894885063171387, -2.7371373176574707, 1.828093409538269, 2.7748963832855225, 2.474879026412964, 1.003991723060608, 3.7821497917175293, 5.388463973999023, -2.7817909717559814, -1.101401448249817, -2.5539801120758057, 2.2419939041137695, -3.6645259857177734, 3.0001747608184814, -2.1937785148620605, -0.3393842279911041, 3.6424307823181152, 1.802980661392212, 4.456589221954346, -2.1372482776641846, 5.329445838928223, -4.09857702255249, -2.4574990272521973, -2.431338310241699, -0.10823090374469757, 2.157576084136963, 2.6100540161132812, 2.8963778018951416, -0.8088521361351013, 4.619777202606201, -0.9827840328216553, 7.947464942932129, 0.6340059041976929, -0.2305273413658142, -0.6285698413848877, 4.84016227722168, -4.488109111785889, 0.9424975514411926, 4.923613548278809, -6.104832649230957, -4.675632476806641, -1.4067169427871704, -3.4714581966400146, -5.208581447601318, 2.6178245544433594, 5.050139904022217, 7.272341728210449, -5.7105560302734375, -3.5005786418914795, -7.41067361831665, 2.136763572692871, -1.9813765287399292, 7.390396595001221, -1.3200371265411377, -5.721920013427734, 6.769243240356445, -2.751810073852539, -6.981514930725098, -2.181131601333618, -0.2739432752132416, -1.8274544477462769, 0.2982766926288605, 4.595420837402344, 0.2987261116504669, 6.955634117126465, -0.5147235989570618, -2.2155234813690186, 5.247315406799316, 4.119112968444824, -1.1323649883270264, -7.627058029174805, -5.636535167694092, -4.672234058380127, -1.0703312158584595, -8.390335083007812, 4.731481075286865, -4.714385032653809, -6.896917819976807, 1.7453168630599976, 4.896142482757568, 7.760628700256348, -3.8183839321136475, 5.1363043785095215, -2.3477518558502197, -4.993484020233154, 4.672682285308838, -2.204239845275879, 5.872748374938965, -7.103202819824219, -3.796299934387207, 3.8890790939331055, -4.434384822845459, 1.628325343132019, 0.02110365778207779, 6.120700359344482, 4.6274309158325195, -0.6358609199523926, -1.285739779472351, -4.550148963928223, 2.066486358642578, 7.554142475128174, -2.2609260082244873, 4.873656272888184, -4.023038864135742, 3.384376049041748, -5.20805549621582, 3.7098875045776367, -3.3976798057556152, -5.850396156311035, 1.5789968967437744, 6.364160537719727, -8.342784881591797, 0.09121008962392807, 6.314870834350586, 2.527637004852295, -1.9791103601455688, -4.048820972442627, 7.323670387268066, 2.65341854095459, 3.4215426445007324, 4.632684707641602, 0.8924877643585205, -5.063656330108643, -5.6037187576293945, -5.261618614196777, -6.549847602844238, -2.2016868591308594, -0.05468383803963661, -6.05232572555542, 3.189664602279663, 4.27399206161499, 3.3808581829071045, -1.74958074092865, -9.114476203918457, -4.333820343017578, -4.422530174255371, -0.07623820006847382, -1.3387415409088135, 3.7264609336853027, -3.6940202713012695, 2.8979930877685547, 3.6550843715667725, -4.36292028427124, -1.741200566291809, 3.929264545440674, 4.297358512878418, -6.477687358856201, 4.846800804138184, 5.44027853012085, 6.439772129058838, 0.03317379578948021, 1.8271067142486572, -6.998569011688232, -3.828303575515747, -4.390826225280762, 4.249073505401611, -7.398422718048096, -2.3864264488220215, -2.793132781982422, 3.132876396179199, 0.0061165387742221355], \"z\": [-5.408441543579102, 7.752290725708008, -1.9791089296340942, 10.995941162109375, 2.5505456924438477, 8.445737838745117, 3.6804144382476807, 12.046682357788086, 3.9556236267089844, -10.646652221679688, 12.325408935546875, -3.286848783493042, 14.341299057006836, -2.0403060913085938, 2.311110019683838, 2.7694382667541504, 14.324301719665527, 3.0637032985687256, -2.9477732181549072, 9.752829551696777, 8.380695343017578, -5.853911399841309, 5.053689956665039, 4.0819411277771, 4.765279769897461, -3.389963150024414, -2.4695322513580322, -0.19434373080730438, 9.747437477111816, 5.227820873260498, -0.0973087027668953, 4.59835958480835, -2.694877862930298, 3.9738595485687256, -4.418887138366699, -4.481180191040039, 4.42312479019165, -0.428192138671875, -6.217127323150635, 8.461214065551758, -5.8385009765625, 6.148393630981445, -3.853872299194336, 2.511641025543213, 4.698549747467041, 2.458324909210205, 5.273995399475098, 3.7714900970458984, -3.0697391033172607, -1.484273076057434, 15.047932624816895, -3.5496299266815186, -4.943855285644531, 2.4595375061035156, 8.249113082885742, 0.9357481598854065, 2.002821922302246, -1.7496235370635986, 4.559004306793213, -1.5460567474365234, 4.318880558013916, -0.007259733974933624, 4.533490180969238, 7.019754409790039, -5.469602584838867, 5.83858060836792, -2.0266847610473633, 3.235198736190796, -1.9261059761047363, 7.124120235443115, 8.281725883483887, 10.527627944946289, -8.55547046661377, 13.047826766967773, -14.49051570892334, -8.103851318359375, -0.2669181525707245, 6.230373859405518, -16.666522979736328, -13.657453536987305, -13.323473930358887, -9.053071022033691, 3.3649041652679443, -0.6143054962158203, 3.2225699424743652, 2.9797098636627197, -1.6374609470367432, 2.3333003520965576, -2.666797399520874, -8.057435035705566, -9.75295639038086, 12.040925979614258, -3.3674564361572266, 1.759360909461975, 0.9676106572151184, 5.178744792938232, -6.430944919586182, 4.329439640045166, 1.4433666467666626, 0.9369605779647827, -7.353150844573975, -1.5376468896865845, 3.8486344814300537, -4.331105709075928, 6.254362106323242, -8.796623229980469, -4.148135662078857, 7.86786413192749, -14.236289024353027, 7.153039455413818, -10.319864273071289, -7.236230850219727, 13.01340103149414, -8.496140480041504, -0.6683814525604248, -11.341480255126953, 0.4562283456325531, 1.5778255462646484, 11.687578201293945, 0.6165439486503601, -12.054925918579102, -3.1851093769073486, 8.831629753112793, -4.312999248504639, -3.3631622791290283, 6.785981178283691, 0.35099050402641296, 10.552872657775879, 3.7224502563476562, 6.916073799133301, -5.616825103759766, -6.323202610015869, 14.85396957397461, 4.551429748535156, -1.0292537212371826, -7.05539083480835, 2.5508947372436523, 14.085163116455078, 5.316692352294922, -0.31469666957855225, 13.20481014251709, -7.267367362976074, -4.148349285125732, 1.993964672088623, 0.6422162652015686, -11.480915069580078, 9.999068260192871, -3.8878445625305176, 6.167363166809082, -2.3131463527679443, -9.645816802978516, -10.95053768157959, 1.8057711124420166, -4.54334020614624, -6.792160511016846, -6.238260746002197, -3.4861996173858643, -4.224931716918945, -13.639361381530762, 10.51618480682373, 1.9310262203216553, -2.6417582035064697, -13.820879936218262, -16.83287811279297, 9.619954109191895, -2.339366912841797, 13.636200904846191, 7.265346050262451, 0.6717913150787354, -3.6569719314575195, -4.743980407714844, 3.353355884552002, 6.173916816711426, 0.5672633051872253, -1.0934393405914307, 0.889581561088562, 7.274689197540283, 0.42455512285232544, 6.137213230133057, 12.687137603759766, -0.323474258184433, 6.410410404205322, 4.551838397979736, 5.352502346038818, 6.489806175231934, 0.5913681387901306, 4.938055038452148, -5.525007247924805, -11.151390075683594, -10.536599159240723, -3.7532613277435303, 0.9979593753814697, 12.685359954833984, -0.6176481246948242, 0.7514026165008545, 3.8096001148223877, -0.47403326630592346, 8.19143009185791, -7.574631214141846, -2.876507043838501, -4.75232458114624, -1.113632321357727, 0.5452796220779419, 3.036780595779419, -1.0344469547271729, 4.254786491394043, -14.630496978759766, -4.721474647521973, 7.314830303192139, 3.779478073120117, -2.076214551925659, 3.5948972702026367, 6.993160247802734, -10.392252922058105, -3.2706477642059326, -1.4058960676193237, 4.318512916564941, 5.332550048828125, 6.517428874969482, 0.48612064123153687, -1.5548992156982422, 6.636871814727783, 1.9760202169418335, -15.534292221069336, -0.13542768359184265, -13.81072998046875, -5.484602928161621, -11.54276180267334, -1.5265334844589233, 2.5650649070739746, 3.6379590034484863, -3.411201000213623, 12.65155029296875, 13.632604598999023, 0.39722463488578796, 6.8675642013549805, 3.8129465579986572, -10.133981704711914, 10.390637397766113, 0.6488067507743835, -4.276941299438477, 6.912659645080566, 1.5865426063537598, 3.3779945373535156, 9.591358184814453, -0.11995626240968704, -9.778425216674805, -16.397605895996094, -5.914259910583496, 4.403199672698975, -3.1169049739837646, 0.8222906589508057, 10.14287281036377, -3.0961878299713135, -9.808189392089844, 1.7918990850448608, -6.747206211090088, 1.5983763933181763, 2.208808660507202, 0.9630398750305176, 2.0087218284606934, -4.544482707977295, 1.2518471479415894, 0.45302101969718933, -2.7481868267059326, 3.691348075866699, 14.236461639404297, 0.06686654686927795, -13.92978286743164, 7.4552202224731445, 6.621532917022705, 3.026475667953491, -8.89682674407959, 2.1457338333129883, 9.529831886291504, -7.0332794189453125, 4.614386558532715, 0.8208037614822388, 7.116884708404541, -10.87982177734375, -4.975595951080322, 2.3154428005218506, -10.959983825683594, -5.958922386169434, -0.6711500287055969, 8.82344913482666, -0.5774481296539307, 6.371340274810791, 2.4598326683044434, -7.298843860626221, -8.564668655395508, 7.303166389465332, -4.256711483001709, 8.983220100402832, -0.8891586065292358, 13.227405548095703, 9.359267234802246, -16.335556030273438, -2.456162214279175, -6.366058349609375, 2.6384456157684326, 1.211262583732605, 7.267967700958252, 10.331732749938965, 7.462901592254639, -13.555436134338379, 6.076076507568359, -13.009910583496094, -5.485904216766357, 6.054582118988037, 6.347086429595947, -4.602875232696533, 5.463953495025635, 1.2574042081832886, -0.5500386357307434, -7.278568744659424, -3.5366618633270264, 3.7250747680664062, -14.453754425048828, 1.3760217428207397, 2.8935000896453857, -10.458026885986328, 11.580833435058594, 3.941248655319214, -14.144990921020508, -6.750321388244629, 13.379890441894531, 13.688329696655273, 2.855025053024292, 8.51199722290039, 0.3013615012168884, 3.8914365768432617, -6.588582515716553, -7.543347358703613, 2.108610153198242, 0.5788537859916687, 6.375186920166016, -6.931326389312744, 5.357970237731934, 2.8513684272766113, -7.530218601226807, -12.981179237365723, 11.92679500579834, -5.146432399749756, 12.013522148132324, 3.0772924423217773, 3.7554259300231934, -3.537339687347412, 10.845463752746582, 4.130178928375244, 0.6324655413627625, -8.871596336364746, 0.9021016359329224, 2.761577606201172, -0.6089734435081482, -12.941905975341797, -3.5515758991241455, 5.698392391204834, 5.989566326141357, -4.729294300079346, 7.4629082679748535, 5.493392467498779, 1.1935219764709473, -4.664342880249023, 11.55296802520752, -14.083600997924805, 8.112831115722656, -0.2807542085647583, 1.1542168855667114, 8.086562156677246, -2.9736437797546387, -4.053243160247803, -0.13546672463417053, 1.5961098670959473, 11.547195434570312, -4.638078689575195, -14.701944351196289, 8.412983894348145, 1.6190800666809082, -6.902962684631348, 11.109259605407715, -1.8652186393737793, -13.287129402160645, -9.332724571228027, 7.47138786315918, -5.924221515655518, -4.47868537902832, -3.1637611389160156, -1.9101221561431885, -8.183311462402344, -1.5886127948760986, -7.064438343048096, -10.15621280670166, -10.819730758666992, 0.8713412880897522, 2.8204030990600586, -8.585092544555664, 9.585428237915039, -6.727192401885986, -9.813100814819336, 0.5528180599212646, -1.0235445499420166, -4.5751633644104, 4.680093288421631, 11.319119453430176, 0.6676300764083862, -0.7763797044754028, -3.205031633377075, 11.166550636291504, 5.874638557434082, 5.758579730987549, -7.8811845779418945, 7.692889213562012, -14.132568359375, 7.112103462219238, -3.6207027435302734, 1.605766773223877, 4.985672950744629, 13.951456069946289, 2.8738224506378174, -8.216842651367188, -2.888418436050415, 7.043777942657471, 6.088122844696045, 0.5426899194717407, 0.07546266913414001, 3.3258883953094482, 8.102799415588379, -7.396353721618652, 0.00249379756860435, -10.85324764251709, 1.8790217638015747, -0.22373971343040466, 8.915592193603516, 5.6005730628967285, 0.6245390176773071, 0.8695356845855713, 0.7069826126098633, -14.988836288452148, -1.5761305093765259, -9.396566390991211, -16.648876190185547, -1.1167614459991455, 1.0131372213363647, -2.2652106285095215, 7.603668212890625, 7.934235572814941, -6.991847991943359, 3.920927047729492, 7.598031044006348, -1.5144987106323242, 1.8701635599136353, -4.59061336517334, -14.096227645874023, 12.38563060760498, 0.4724887013435364, 0.6270124316215515, 2.3839356899261475, -16.203441619873047, -10.183433532714844, 8.131897926330566, -0.7906116247177124, -2.7821359634399414, -14.239773750305176, 2.163292407989502, -9.846559524536133, -13.874080657958984, 9.175996780395508, -1.940477728843689, 0.9402790069580078, -12.632540702819824, -0.878271758556366, -2.2402777671813965, -9.33202838897705, -4.1760406494140625, 1.0976723432540894, 4.255800247192383, 6.658797264099121, -4.94545316696167, 4.737661838531494, -4.825197696685791, -0.6961026787757874, 7.054873466491699, 1.534364104270935, 0.8362000584602356, 1.2183051109313965, 2.5749731063842773, -8.055181503295898, -6.756657600402832, 0.8886566758155823, -15.011995315551758, 12.753657341003418, 3.996889114379883, 7.607669353485107, 1.289290189743042, 9.371984481811523, 6.798232078552246, 11.277640342712402, -5.546905994415283, -8.419870376586914, 5.492773056030273, -0.14159992337226868, -6.531381607055664, -2.5953848361968994, -7.280432224273682, 1.226043462753296, -15.716793060302734, -3.530522346496582, -8.729100227355957, 5.624021530151367, -0.001985316164791584, -3.905031681060791, 6.206308841705322, 3.47648286819458, -16.29268455505371, -7.9594831466674805, -4.051126003265381, -16.0869197845459, 0.40162691473960876, 6.77418851852417, -9.286653518676758, 4.046901702880859, 2.4235105514526367, 3.049614429473877, 5.834183692932129, -0.21181337535381317, -8.92929458618164, 1.2265448570251465, -0.7251682281494141, -8.228358268737793, 3.9998579025268555, 7.178994655609131, 12.37720012664795, -2.6298773288726807, 11.635849952697754, 6.08224630355835, 5.139598369598389, 2.388347864151001, -2.750990629196167, 7.50280237197876, 1.0403313636779785, 9.41261100769043, 5.915966510772705, 5.707453727722168, -3.000230550765991, 14.871953964233398, -10.646530151367188, 10.37268352508545, 8.847537994384766, -10.855426788330078, -5.938756942749023, -7.172585964202881, -0.8068739175796509, -13.600231170654297, -7.023970603942871, 2.567204236984253, 11.723057746887207, -12.931396484375, 14.0144624710083, 1.7839210033416748, 0.8836750984191895, 6.943291664123535, -7.089948654174805, 10.01197624206543, 0.00796553399413824, -15.076451301574707, -2.042395830154419, -0.10212545841932297, 8.924175262451172, 10.615379333496094, -6.686089038848877, 11.492223739624023, 10.984015464782715, 4.1601362228393555, 6.248525142669678, 7.307286739349365, 4.807880401611328, 2.6269567012786865, -6.186913967132568, -12.652020454406738, -7.696567058563232, -13.744118690490723, 1.1923315525054932, 4.652026176452637, -5.445620059967041, -14.689409255981445, -7.904941558837891, -4.222392559051514, 1.0690923929214478, 7.883255958557129, -0.5078442692756653, -6.11696720123291, 1.8493691682815552, 10.871722221374512, 3.1796607971191406, -3.6197681427001953, 11.218180656433105, 7.077182292938232, 6.999811172485352, 0.79747474193573, 13.03734016418457, -4.287181377410889, 5.292552471160889, 2.390004873275757, 8.413723945617676, 5.355921268463135, 13.170774459838867, 4.15242862701416, 1.103047490119934, 2.5948352813720703, 2.9730541706085205, -8.478446006774902, -9.455350875854492, -8.006155967712402, -12.806809425354004, -6.670643329620361, -1.321821689605713, -2.866138219833374, -3.5169780254364014, -8.174017906188965, 1.4554929733276367, -4.609519958496094, -3.0697133541107178, 0.4686671793460846, 2.41867733001709, 10.476819038391113, 1.4541466236114502, -0.6700540781021118, -2.6441664695739746, -14.552605628967285, -1.7911396026611328, 8.496570587158203, -15.867294311523438, 3.7040517330169678, -7.800936698913574, -2.854581832885742, -8.91097354888916, 1.7982124090194702, 11.9358491897583, 3.2598013877868652, -1.0103343725204468, 3.7143187522888184, 3.7090492248535156, -7.197065353393555, 3.661848306655884, -14.986822128295898, 0.19023434817790985, -7.740287780761719, 5.157386302947998, -9.750174522399902, -5.456169128417969, -1.644106388092041, -1.4795910120010376, 14.013333320617676, 0.5114706754684448, 3.947176456451416, 1.7942864894866943, -6.676304817199707, -2.8352715969085693, 6.8404765129089355, 7.861629486083984, -3.9395430088043213, 2.0799107551574707, -6.184540748596191, 9.773303031921387, 3.919603109359741, 13.835404396057129, 4.141590595245361, 8.230805397033691, -0.3285176157951355, 0.036722276359796524, -12.332154273986816, -4.284527778625488, 2.052729368209839, 9.0819091796875, -6.258458137512207, 4.999942779541016, 12.88150405883789, 9.707487106323242, 4.728764057159424, 1.047954797744751, -3.9807093143463135, -8.384719848632812, 6.336431980133057, -4.243898391723633, -0.3391142189502716, -11.322328567504883, -4.609792232513428, 12.086134910583496, 7.058252811431885, 6.514584541320801, 6.061283588409424, 7.358673572540283, 2.088819980621338, 13.827836990356445, 12.045854568481445, -6.040867328643799, -13.58193588256836, -14.853522300720215, 4.300230979919434, -2.96658992767334, -5.059283256530762, -2.0384573936462402, 9.770615577697754, -9.139544486999512, 1.0843229293823242, 12.293201446533203, 0.8938697576522827, 0.7158138751983643, 2.867173194885254, 4.427928924560547, -4.508017539978027, -3.6316473484039307, -3.2466657161712646, -5.568832874298096, 9.198150634765625, 8.400370597839355, 2.0220186710357666, -5.610352993011475, -3.9967634677886963, -2.8982248306274414, -0.6160513162612915, 2.948918104171753, -3.5736849308013916, 3.9572346210479736, -2.6083178520202637, 6.857046604156494, 12.449275970458984, 11.706158638000488, 8.07105541229248, -2.1894447803497314, -0.6648902297019958, 2.0910115242004395, 0.8672816157341003, 1.533718466758728, 11.739496231079102, -10.75836181640625, -15.442639350891113, -16.2119197845459, 3.2844696044921875, -2.4425137042999268, -6.334921836853027, -6.788349628448486, 3.0102744102478027, -6.653332233428955, -16.228437423706055, -13.074917793273926, 12.933156967163086, 1.8824964761734009, 8.100581169128418, 7.291123390197754, -0.3807772099971771, 0.9261975884437561, 0.8218051791191101, -5.540384769439697, 0.0200140830129385, -13.437600135803223, -4.884479999542236, 3.630162239074707, -3.332059383392334, 6.046732425689697, -4.231607913970947, -5.109485626220703, 1.272883415222168, -6.884922981262207, 0.096435546875, 0.6737545728683472, 0.26725518703460693, 3.8112432956695557, 0.5894392728805542, -13.149580955505371, -4.695592403411865, 1.3055200576782227, 3.7514519691467285, -6.760891914367676, -6.04079008102417, -2.623556137084961, -1.944459080696106, -15.703948974609375, -7.890571117401123, -10.989588737487793, 0.4724424481391907, 3.30430269241333, -9.657112121582031, -16.66938591003418, 7.431275844573975, -5.39436149597168, 9.539729118347168, -15.991504669189453, -13.153609275817871, 12.040623664855957, -10.384950637817383, 3.0125088691711426, -13.579338073730469, 1.1814883947372437, 5.189157009124756, -5.8956298828125, 3.367177724838257, -12.484781265258789, -4.233625411987305, -2.270995616912842, -2.4315333366394043, -0.42058396339416504, 7.096721172332764, 0.39028266072273254, -1.3471158742904663, -8.083909034729004, 2.9632062911987305, 13.48628044128418, -2.492889881134033, 1.036084532737732, 3.5741686820983887, -14.359869956970215, -7.367621421813965, 3.1948299407958984, 4.0341267585754395, 4.46942138671875, 10.36539363861084, 6.834550857543945, 11.106170654296875, 10.140909194946289, 1.6875476837158203, -17.03936195373535, 2.8386218547821045, 5.6475114822387695, -0.11659543216228485, 13.327614784240723, -14.364907264709473, -10.221240997314453, 6.358750343322754, 2.418250799179077, -6.114794731140137, 4.493813514709473, 3.752155065536499, 2.4511830806732178, 7.964014530181885, -0.201001837849617, 1.4285401105880737, 9.272187232971191, -7.1353607177734375, -11.946176528930664, -4.229136943817139, 11.386624336242676, 7.136168479919434, 3.181466817855835, 11.322982788085938, 5.210005760192871, -12.632174491882324, -10.184853553771973, -3.4370574951171875, 11.623655319213867, -9.631646156311035, -5.5662522315979, -11.85499095916748, -1.6273924112319946, 6.9700608253479, -1.0480002164840698, 14.491128921508789, -14.624652862548828, 2.7687933444976807, -7.163101673126221, -13.160187721252441, 1.4564809799194336, -12.809295654296875, 6.39908504486084, 13.836918830871582, 1.4510136842727661, -13.365979194641113, 8.807071685791016, -7.396843910217285, 8.34841251373291, -6.398849010467529, -1.349609613418579, -10.689253807067871, 1.4138331413269043, -4.829707622528076, 0.5841297507286072, -1.4212909936904907, -4.769640922546387, -0.39085477590560913, -8.532209396362305, -14.88354206085205, -12.23452091217041, 10.676011085510254, 9.803759574890137, 13.140936851501465, -8.000646591186523, -3.190523624420166, -6.4568772315979, 3.1589224338531494, 1.6704994440078735, 5.979333877563477, 1.4368891716003418, -11.544538497924805, 5.042298316955566, -9.090166091918945, -7.654047012329102, 0.46036773920059204, -0.5303712487220764, 2.94220232963562, 6.187932968139648, -4.733094215393066, -6.150275230407715, 10.346457481384277, -14.20084285736084, 3.343886375427246, 9.674491882324219, 4.079586982727051, 1.6761244535446167, -15.799647331237793, -0.108256995677948, -4.05556583404541, -3.3937628269195557, -14.897390365600586, 3.7535247802734375, -0.4951080083847046, -3.9023358821868896, 8.908915519714355, 13.87894344329834, 12.647758483886719, -8.674737930297852, 14.887544631958008, 1.6065704822540283, -10.447103500366211, 6.7659735679626465, -9.172175407409668, 3.0239386558532715, -4.7057647705078125, -2.2422821521759033, 7.152377605438232, 0.12427013367414474, -7.041366100311279, -2.227468967437744, 8.697643280029297, 10.280470848083496, 0.10829215496778488, -6.297290802001953, -1.2787048816680908, 6.369366645812988, 10.61752700805664, -0.9919729828834534, -5.494203090667725, -16.351463317871094, 12.107772827148438, -14.645833969116211, 2.8555078506469727, -15.176778793334961, -11.042707443237305, 6.9686994552612305, 3.0383143424987793, -4.586090564727783, -2.6290457248687744, 10.50483226776123, 12.357161521911621, -2.8366289138793945, 1.6505427360534668, 13.541557312011719, 6.302187442779541, 3.5149319171905518, -2.6610405445098877, 1.5067899227142334, -3.137650966644287, 0.4977083206176758, -15.817675590515137, -6.379268169403076, -3.738511085510254, 8.332040786743164, -12.942170143127441, 3.63739013671875, -6.630237102508545, 5.878854274749756, -13.465315818786621, -7.728370666503906, -0.6866430044174194, -11.450838088989258, 3.5498478412628174, 4.00100040435791, 4.663120746612549, 2.200953483581543, 9.284566879272461, 3.050611734390259, -7.418479919433594, -16.12348175048828, 1.0250661373138428, 5.072815895080566, -1.344293236732483, -1.89432954788208, 8.899688720703125, 11.060257911682129, 0.9110785126686096, 10.190264701843262, -13.75214672088623, -15.1475191116333, -1.236374855041504, 4.022995948791504, -5.6277689933776855, 0.9827201962471008, -15.349714279174805, 8.80880069732666, -0.4004307687282562]}],\n",
       "                        {\"coloraxis\": {\"colorbar\": {\"title\": {\"text\": \"Label\"}}, \"colorscale\": [[0.0, \"#0d0887\"], [0.1111111111111111, \"#46039f\"], [0.2222222222222222, \"#7201a8\"], [0.3333333333333333, \"#9c179e\"], [0.4444444444444444, \"#bd3786\"], [0.5555555555555556, \"#d8576b\"], [0.6666666666666666, \"#ed7953\"], [0.7777777777777778, \"#fb9f3a\"], [0.8888888888888888, \"#fdca26\"], [1.0, \"#f0f921\"]]}, \"height\": 800, \"legend\": {\"tracegroupgap\": 0}, \"scene\": {\"domain\": {\"x\": [0.0, 1.0], \"y\": [0.0, 1.0]}, \"xaxis\": {\"title\": {\"text\": \"0\"}}, \"yaxis\": {\"title\": {\"text\": \"1\"}}, \"zaxis\": {\"title\": {\"text\": \"2\"}}}, \"template\": {\"data\": {\"bar\": [{\"error_x\": {\"color\": \"#2a3f5f\"}, \"error_y\": {\"color\": \"#2a3f5f\"}, \"marker\": {\"line\": {\"color\": \"#E5ECF6\", \"width\": 0.5}}, \"type\": \"bar\"}], \"barpolar\": [{\"marker\": {\"line\": {\"color\": \"#E5ECF6\", \"width\": 0.5}}, \"type\": \"barpolar\"}], \"carpet\": [{\"aaxis\": {\"endlinecolor\": \"#2a3f5f\", \"gridcolor\": \"white\", \"linecolor\": \"white\", \"minorgridcolor\": \"white\", \"startlinecolor\": \"#2a3f5f\"}, \"baxis\": {\"endlinecolor\": \"#2a3f5f\", \"gridcolor\": \"white\", \"linecolor\": \"white\", \"minorgridcolor\": \"white\", \"startlinecolor\": \"#2a3f5f\"}, \"type\": \"carpet\"}], \"choropleth\": [{\"colorbar\": {\"outlinewidth\": 0, \"ticks\": \"\"}, \"type\": \"choropleth\"}], \"contour\": [{\"colorbar\": {\"outlinewidth\": 0, \"ticks\": \"\"}, \"colorscale\": [[0.0, \"#0d0887\"], [0.1111111111111111, \"#46039f\"], [0.2222222222222222, \"#7201a8\"], [0.3333333333333333, \"#9c179e\"], [0.4444444444444444, \"#bd3786\"], [0.5555555555555556, \"#d8576b\"], [0.6666666666666666, \"#ed7953\"], [0.7777777777777778, \"#fb9f3a\"], [0.8888888888888888, \"#fdca26\"], [1.0, \"#f0f921\"]], \"type\": \"contour\"}], \"contourcarpet\": [{\"colorbar\": {\"outlinewidth\": 0, \"ticks\": \"\"}, \"type\": \"contourcarpet\"}], \"heatmap\": [{\"colorbar\": {\"outlinewidth\": 0, \"ticks\": \"\"}, \"colorscale\": [[0.0, \"#0d0887\"], [0.1111111111111111, \"#46039f\"], [0.2222222222222222, \"#7201a8\"], [0.3333333333333333, \"#9c179e\"], [0.4444444444444444, \"#bd3786\"], [0.5555555555555556, \"#d8576b\"], [0.6666666666666666, \"#ed7953\"], [0.7777777777777778, \"#fb9f3a\"], [0.8888888888888888, \"#fdca26\"], [1.0, \"#f0f921\"]], \"type\": \"heatmap\"}], \"heatmapgl\": [{\"colorbar\": {\"outlinewidth\": 0, \"ticks\": \"\"}, \"colorscale\": [[0.0, \"#0d0887\"], [0.1111111111111111, \"#46039f\"], [0.2222222222222222, \"#7201a8\"], [0.3333333333333333, \"#9c179e\"], [0.4444444444444444, \"#bd3786\"], [0.5555555555555556, \"#d8576b\"], [0.6666666666666666, \"#ed7953\"], [0.7777777777777778, \"#fb9f3a\"], [0.8888888888888888, \"#fdca26\"], [1.0, \"#f0f921\"]], \"type\": \"heatmapgl\"}], \"histogram\": [{\"marker\": {\"colorbar\": {\"outlinewidth\": 0, \"ticks\": \"\"}}, \"type\": \"histogram\"}], \"histogram2d\": [{\"colorbar\": {\"outlinewidth\": 0, \"ticks\": \"\"}, \"colorscale\": [[0.0, \"#0d0887\"], [0.1111111111111111, \"#46039f\"], [0.2222222222222222, \"#7201a8\"], [0.3333333333333333, \"#9c179e\"], [0.4444444444444444, \"#bd3786\"], [0.5555555555555556, \"#d8576b\"], [0.6666666666666666, \"#ed7953\"], [0.7777777777777778, \"#fb9f3a\"], [0.8888888888888888, \"#fdca26\"], [1.0, \"#f0f921\"]], \"type\": \"histogram2d\"}], \"histogram2dcontour\": [{\"colorbar\": {\"outlinewidth\": 0, \"ticks\": \"\"}, \"colorscale\": [[0.0, \"#0d0887\"], [0.1111111111111111, \"#46039f\"], [0.2222222222222222, \"#7201a8\"], [0.3333333333333333, \"#9c179e\"], [0.4444444444444444, \"#bd3786\"], [0.5555555555555556, \"#d8576b\"], [0.6666666666666666, \"#ed7953\"], [0.7777777777777778, \"#fb9f3a\"], [0.8888888888888888, \"#fdca26\"], [1.0, \"#f0f921\"]], \"type\": \"histogram2dcontour\"}], \"mesh3d\": [{\"colorbar\": {\"outlinewidth\": 0, \"ticks\": \"\"}, \"type\": \"mesh3d\"}], \"parcoords\": [{\"line\": {\"colorbar\": {\"outlinewidth\": 0, \"ticks\": \"\"}}, \"type\": \"parcoords\"}], \"pie\": [{\"automargin\": true, \"type\": \"pie\"}], \"scatter\": [{\"marker\": {\"colorbar\": {\"outlinewidth\": 0, \"ticks\": \"\"}}, \"type\": \"scatter\"}], \"scatter3d\": [{\"line\": {\"colorbar\": {\"outlinewidth\": 0, \"ticks\": \"\"}}, \"marker\": {\"colorbar\": {\"outlinewidth\": 0, \"ticks\": \"\"}}, \"type\": \"scatter3d\"}], \"scattercarpet\": [{\"marker\": {\"colorbar\": {\"outlinewidth\": 0, \"ticks\": \"\"}}, \"type\": \"scattercarpet\"}], \"scattergeo\": [{\"marker\": {\"colorbar\": {\"outlinewidth\": 0, \"ticks\": \"\"}}, \"type\": \"scattergeo\"}], \"scattergl\": [{\"marker\": {\"colorbar\": {\"outlinewidth\": 0, \"ticks\": \"\"}}, \"type\": \"scattergl\"}], \"scattermapbox\": [{\"marker\": {\"colorbar\": {\"outlinewidth\": 0, \"ticks\": \"\"}}, \"type\": \"scattermapbox\"}], \"scatterpolar\": [{\"marker\": {\"colorbar\": {\"outlinewidth\": 0, \"ticks\": \"\"}}, \"type\": \"scatterpolar\"}], \"scatterpolargl\": [{\"marker\": {\"colorbar\": {\"outlinewidth\": 0, \"ticks\": \"\"}}, \"type\": \"scatterpolargl\"}], \"scatterternary\": [{\"marker\": {\"colorbar\": {\"outlinewidth\": 0, \"ticks\": \"\"}}, \"type\": \"scatterternary\"}], \"surface\": [{\"colorbar\": {\"outlinewidth\": 0, \"ticks\": \"\"}, \"colorscale\": [[0.0, \"#0d0887\"], [0.1111111111111111, \"#46039f\"], [0.2222222222222222, \"#7201a8\"], [0.3333333333333333, \"#9c179e\"], [0.4444444444444444, \"#bd3786\"], [0.5555555555555556, \"#d8576b\"], [0.6666666666666666, \"#ed7953\"], [0.7777777777777778, \"#fb9f3a\"], [0.8888888888888888, \"#fdca26\"], [1.0, \"#f0f921\"]], \"type\": \"surface\"}], \"table\": [{\"cells\": {\"fill\": {\"color\": \"#EBF0F8\"}, \"line\": {\"color\": \"white\"}}, \"header\": {\"fill\": {\"color\": \"#C8D4E3\"}, \"line\": {\"color\": \"white\"}}, \"type\": \"table\"}]}, \"layout\": {\"annotationdefaults\": {\"arrowcolor\": \"#2a3f5f\", \"arrowhead\": 0, \"arrowwidth\": 1}, \"coloraxis\": {\"colorbar\": {\"outlinewidth\": 0, \"ticks\": \"\"}}, \"colorscale\": {\"diverging\": [[0, \"#8e0152\"], [0.1, \"#c51b7d\"], [0.2, \"#de77ae\"], [0.3, \"#f1b6da\"], [0.4, \"#fde0ef\"], [0.5, \"#f7f7f7\"], [0.6, \"#e6f5d0\"], [0.7, \"#b8e186\"], [0.8, \"#7fbc41\"], [0.9, \"#4d9221\"], [1, \"#276419\"]], \"sequential\": [[0.0, \"#0d0887\"], [0.1111111111111111, \"#46039f\"], [0.2222222222222222, \"#7201a8\"], [0.3333333333333333, \"#9c179e\"], [0.4444444444444444, \"#bd3786\"], [0.5555555555555556, \"#d8576b\"], [0.6666666666666666, \"#ed7953\"], [0.7777777777777778, \"#fb9f3a\"], [0.8888888888888888, \"#fdca26\"], [1.0, \"#f0f921\"]], \"sequentialminus\": [[0.0, \"#0d0887\"], [0.1111111111111111, \"#46039f\"], [0.2222222222222222, \"#7201a8\"], [0.3333333333333333, \"#9c179e\"], [0.4444444444444444, \"#bd3786\"], [0.5555555555555556, \"#d8576b\"], [0.6666666666666666, \"#ed7953\"], [0.7777777777777778, \"#fb9f3a\"], [0.8888888888888888, \"#fdca26\"], [1.0, \"#f0f921\"]]}, \"colorway\": [\"#636efa\", \"#EF553B\", \"#00cc96\", \"#ab63fa\", \"#FFA15A\", \"#19d3f3\", \"#FF6692\", \"#B6E880\", \"#FF97FF\", \"#FECB52\"], \"font\": {\"color\": \"#2a3f5f\"}, \"geo\": {\"bgcolor\": \"white\", \"lakecolor\": \"white\", \"landcolor\": \"#E5ECF6\", \"showlakes\": true, \"showland\": true, \"subunitcolor\": \"white\"}, \"hoverlabel\": {\"align\": \"left\"}, \"hovermode\": \"closest\", \"mapbox\": {\"style\": \"light\"}, \"paper_bgcolor\": \"white\", \"plot_bgcolor\": \"#E5ECF6\", \"polar\": {\"angularaxis\": {\"gridcolor\": \"white\", \"linecolor\": \"white\", \"ticks\": \"\"}, \"bgcolor\": \"#E5ECF6\", \"radialaxis\": {\"gridcolor\": \"white\", \"linecolor\": \"white\", \"ticks\": \"\"}}, \"scene\": {\"xaxis\": {\"backgroundcolor\": \"#E5ECF6\", \"gridcolor\": \"white\", \"gridwidth\": 2, \"linecolor\": \"white\", \"showbackground\": true, \"ticks\": \"\", \"zerolinecolor\": \"white\"}, \"yaxis\": {\"backgroundcolor\": \"#E5ECF6\", \"gridcolor\": \"white\", \"gridwidth\": 2, \"linecolor\": \"white\", \"showbackground\": true, \"ticks\": \"\", \"zerolinecolor\": \"white\"}, \"zaxis\": {\"backgroundcolor\": \"#E5ECF6\", \"gridcolor\": \"white\", \"gridwidth\": 2, \"linecolor\": \"white\", \"showbackground\": true, \"ticks\": \"\", \"zerolinecolor\": \"white\"}}, \"shapedefaults\": {\"line\": {\"color\": \"#2a3f5f\"}}, \"ternary\": {\"aaxis\": {\"gridcolor\": \"white\", \"linecolor\": \"white\", \"ticks\": \"\"}, \"baxis\": {\"gridcolor\": \"white\", \"linecolor\": \"white\", \"ticks\": \"\"}, \"bgcolor\": \"#E5ECF6\", \"caxis\": {\"gridcolor\": \"white\", \"linecolor\": \"white\", \"ticks\": \"\"}}, \"title\": {\"x\": 0.05}, \"xaxis\": {\"automargin\": true, \"gridcolor\": \"white\", \"linecolor\": \"white\", \"ticks\": \"\", \"title\": {\"standoff\": 15}, \"zerolinecolor\": \"white\", \"zerolinewidth\": 2}, \"yaxis\": {\"automargin\": true, \"gridcolor\": \"white\", \"linecolor\": \"white\", \"ticks\": \"\", \"title\": {\"standoff\": 15}, \"zerolinecolor\": \"white\", \"zerolinewidth\": 2}}}, \"title\": {\"text\": \"3d TSNE Plot for Outliers\"}, \"width\": 900},\n",
       "                        {\"responsive\": true}\n",
       "                    ).then(function(){\n",
       "                            \n",
       "var gd = document.getElementById('42bfc92d-3160-4368-8d1b-33b5740267f3');\n",
       "var x = new MutationObserver(function (mutations, observer) {{\n",
       "        var display = window.getComputedStyle(gd).display;\n",
       "        if (!display || display === 'none') {{\n",
       "            console.log([gd, 'removed!']);\n",
       "            Plotly.purge(gd);\n",
       "            observer.disconnect();\n",
       "        }}\n",
       "}});\n",
       "\n",
       "// Listen for the removal of the full notebook cells\n",
       "var notebookContainer = gd.closest('#notebook-container');\n",
       "if (notebookContainer) {{\n",
       "    x.observe(notebookContainer, {childList: true});\n",
       "}}\n",
       "\n",
       "// Listen for the clearing of the current output cell\n",
       "var outputEl = gd.closest('.output');\n",
       "if (outputEl) {{\n",
       "    x.observe(outputEl, {childList: true});\n",
       "}}\n",
       "\n",
       "                        })\n",
       "                };\n",
       "                });\n",
       "            </script>\n",
       "        </div>"
      ]
     },
     "metadata": {},
     "output_type": "display_data"
    },
    {
     "data": {
      "application/javascript": [
       "\n",
       "            setTimeout(function() {\n",
       "                var nbb_cell_id = 7;\n",
       "                var nbb_unformatted_code = \"# instantiating KNN model\\nknn = create_model(\\\"knn\\\")\\n\\n# plotting the data using KNN \\nplot_model(knn)\";\n",
       "                var nbb_formatted_code = \"# instantiating KNN model\\nknn = create_model(\\\"knn\\\")\\n\\n# plotting the data using KNN\\nplot_model(knn)\";\n",
       "                var nbb_cells = Jupyter.notebook.get_cells();\n",
       "                for (var i = 0; i < nbb_cells.length; ++i) {\n",
       "                    if (nbb_cells[i].input_prompt_number == nbb_cell_id) {\n",
       "                        if (nbb_cells[i].get_text() == nbb_unformatted_code) {\n",
       "                             nbb_cells[i].set_text(nbb_formatted_code);\n",
       "                        }\n",
       "                        break;\n",
       "                    }\n",
       "                }\n",
       "            }, 500);\n",
       "            "
      ],
      "text/plain": [
       "<IPython.core.display.Javascript object>"
      ]
     },
     "metadata": {},
     "output_type": "display_data"
    }
   ],
   "source": [
    "# instantiating KNN model\n",
    "knn = create_model(\"knn\")\n",
    "\n",
    "# plotting the data using KNN\n",
    "plot_model(knn)"
   ]
  },
  {
   "cell_type": "code",
   "execution_count": 8,
   "metadata": {},
   "outputs": [
    {
     "data": {
      "text/html": [
       "<div>\n",
       "<style scoped>\n",
       "    .dataframe tbody tr th:only-of-type {\n",
       "        vertical-align: middle;\n",
       "    }\n",
       "\n",
       "    .dataframe tbody tr th {\n",
       "        vertical-align: top;\n",
       "    }\n",
       "\n",
       "    .dataframe thead th {\n",
       "        text-align: right;\n",
       "    }\n",
       "</style>\n",
       "<table border=\"1\" class=\"dataframe\">\n",
       "  <thead>\n",
       "    <tr style=\"text-align: right;\">\n",
       "      <th></th>\n",
       "      <th>Col1</th>\n",
       "      <th>Col2</th>\n",
       "      <th>Col3</th>\n",
       "      <th>Col4</th>\n",
       "      <th>Col5</th>\n",
       "      <th>Col6</th>\n",
       "      <th>Col7</th>\n",
       "      <th>Col8</th>\n",
       "      <th>Col9</th>\n",
       "      <th>Col10</th>\n",
       "      <th>Label</th>\n",
       "      <th>Score</th>\n",
       "    </tr>\n",
       "  </thead>\n",
       "  <tbody>\n",
       "    <tr>\n",
       "      <th>0</th>\n",
       "      <td>0.263995</td>\n",
       "      <td>0.764929</td>\n",
       "      <td>0.138424</td>\n",
       "      <td>0.935242</td>\n",
       "      <td>0.605867</td>\n",
       "      <td>0.518790</td>\n",
       "      <td>0.912225</td>\n",
       "      <td>0.608234</td>\n",
       "      <td>0.723782</td>\n",
       "      <td>0.733591</td>\n",
       "      <td>0</td>\n",
       "      <td>0.558927</td>\n",
       "    </tr>\n",
       "    <tr>\n",
       "      <th>1</th>\n",
       "      <td>0.546092</td>\n",
       "      <td>0.653975</td>\n",
       "      <td>0.065575</td>\n",
       "      <td>0.227772</td>\n",
       "      <td>0.845269</td>\n",
       "      <td>0.837066</td>\n",
       "      <td>0.272379</td>\n",
       "      <td>0.331679</td>\n",
       "      <td>0.429297</td>\n",
       "      <td>0.367422</td>\n",
       "      <td>0</td>\n",
       "      <td>0.477482</td>\n",
       "    </tr>\n",
       "    <tr>\n",
       "      <th>2</th>\n",
       "      <td>0.336714</td>\n",
       "      <td>0.538842</td>\n",
       "      <td>0.192801</td>\n",
       "      <td>0.553563</td>\n",
       "      <td>0.074515</td>\n",
       "      <td>0.332993</td>\n",
       "      <td>0.365792</td>\n",
       "      <td>0.861309</td>\n",
       "      <td>0.899017</td>\n",
       "      <td>0.088600</td>\n",
       "      <td>0</td>\n",
       "      <td>0.676207</td>\n",
       "    </tr>\n",
       "    <tr>\n",
       "      <th>3</th>\n",
       "      <td>0.092108</td>\n",
       "      <td>0.995017</td>\n",
       "      <td>0.014465</td>\n",
       "      <td>0.176371</td>\n",
       "      <td>0.241530</td>\n",
       "      <td>0.514724</td>\n",
       "      <td>0.562208</td>\n",
       "      <td>0.158963</td>\n",
       "      <td>0.073715</td>\n",
       "      <td>0.208463</td>\n",
       "      <td>1</td>\n",
       "      <td>0.804769</td>\n",
       "    </tr>\n",
       "    <tr>\n",
       "      <th>4</th>\n",
       "      <td>0.325261</td>\n",
       "      <td>0.805968</td>\n",
       "      <td>0.957033</td>\n",
       "      <td>0.331665</td>\n",
       "      <td>0.307923</td>\n",
       "      <td>0.355315</td>\n",
       "      <td>0.501899</td>\n",
       "      <td>0.558449</td>\n",
       "      <td>0.885169</td>\n",
       "      <td>0.182754</td>\n",
       "      <td>0</td>\n",
       "      <td>0.630836</td>\n",
       "    </tr>\n",
       "    <tr>\n",
       "      <th>...</th>\n",
       "      <td>...</td>\n",
       "      <td>...</td>\n",
       "      <td>...</td>\n",
       "      <td>...</td>\n",
       "      <td>...</td>\n",
       "      <td>...</td>\n",
       "      <td>...</td>\n",
       "      <td>...</td>\n",
       "      <td>...</td>\n",
       "      <td>...</td>\n",
       "      <td>...</td>\n",
       "      <td>...</td>\n",
       "    </tr>\n",
       "    <tr>\n",
       "      <th>995</th>\n",
       "      <td>0.305055</td>\n",
       "      <td>0.656837</td>\n",
       "      <td>0.331665</td>\n",
       "      <td>0.822525</td>\n",
       "      <td>0.907127</td>\n",
       "      <td>0.882276</td>\n",
       "      <td>0.855732</td>\n",
       "      <td>0.584786</td>\n",
       "      <td>0.808640</td>\n",
       "      <td>0.242762</td>\n",
       "      <td>0</td>\n",
       "      <td>0.266822</td>\n",
       "    </tr>\n",
       "    <tr>\n",
       "      <th>996</th>\n",
       "      <td>0.812627</td>\n",
       "      <td>0.864258</td>\n",
       "      <td>0.616604</td>\n",
       "      <td>0.167966</td>\n",
       "      <td>0.811223</td>\n",
       "      <td>0.938071</td>\n",
       "      <td>0.418462</td>\n",
       "      <td>0.472306</td>\n",
       "      <td>0.348347</td>\n",
       "      <td>0.671129</td>\n",
       "      <td>0</td>\n",
       "      <td>0.403480</td>\n",
       "    </tr>\n",
       "    <tr>\n",
       "      <th>997</th>\n",
       "      <td>0.250967</td>\n",
       "      <td>0.138627</td>\n",
       "      <td>0.919703</td>\n",
       "      <td>0.461234</td>\n",
       "      <td>0.886555</td>\n",
       "      <td>0.869888</td>\n",
       "      <td>0.800908</td>\n",
       "      <td>0.530324</td>\n",
       "      <td>0.779433</td>\n",
       "      <td>0.234952</td>\n",
       "      <td>0</td>\n",
       "      <td>0.337727</td>\n",
       "    </tr>\n",
       "    <tr>\n",
       "      <th>998</th>\n",
       "      <td>0.502436</td>\n",
       "      <td>0.936820</td>\n",
       "      <td>0.580062</td>\n",
       "      <td>0.540773</td>\n",
       "      <td>0.151995</td>\n",
       "      <td>0.059452</td>\n",
       "      <td>0.225220</td>\n",
       "      <td>0.242755</td>\n",
       "      <td>0.279385</td>\n",
       "      <td>0.538755</td>\n",
       "      <td>0</td>\n",
       "      <td>0.300265</td>\n",
       "    </tr>\n",
       "    <tr>\n",
       "      <th>999</th>\n",
       "      <td>0.457991</td>\n",
       "      <td>0.017755</td>\n",
       "      <td>0.714113</td>\n",
       "      <td>0.125992</td>\n",
       "      <td>0.063316</td>\n",
       "      <td>0.154739</td>\n",
       "      <td>0.922974</td>\n",
       "      <td>0.692299</td>\n",
       "      <td>0.816777</td>\n",
       "      <td>0.307592</td>\n",
       "      <td>0</td>\n",
       "      <td>0.367867</td>\n",
       "    </tr>\n",
       "  </tbody>\n",
       "</table>\n",
       "<p>1000 rows × 12 columns</p>\n",
       "</div>"
      ],
      "text/plain": [
       "         Col1      Col2      Col3      Col4      Col5      Col6      Col7  \\\n",
       "0    0.263995  0.764929  0.138424  0.935242  0.605867  0.518790  0.912225   \n",
       "1    0.546092  0.653975  0.065575  0.227772  0.845269  0.837066  0.272379   \n",
       "2    0.336714  0.538842  0.192801  0.553563  0.074515  0.332993  0.365792   \n",
       "3    0.092108  0.995017  0.014465  0.176371  0.241530  0.514724  0.562208   \n",
       "4    0.325261  0.805968  0.957033  0.331665  0.307923  0.355315  0.501899   \n",
       "..        ...       ...       ...       ...       ...       ...       ...   \n",
       "995  0.305055  0.656837  0.331665  0.822525  0.907127  0.882276  0.855732   \n",
       "996  0.812627  0.864258  0.616604  0.167966  0.811223  0.938071  0.418462   \n",
       "997  0.250967  0.138627  0.919703  0.461234  0.886555  0.869888  0.800908   \n",
       "998  0.502436  0.936820  0.580062  0.540773  0.151995  0.059452  0.225220   \n",
       "999  0.457991  0.017755  0.714113  0.125992  0.063316  0.154739  0.922974   \n",
       "\n",
       "         Col8      Col9     Col10  Label     Score  \n",
       "0    0.608234  0.723782  0.733591      0  0.558927  \n",
       "1    0.331679  0.429297  0.367422      0  0.477482  \n",
       "2    0.861309  0.899017  0.088600      0  0.676207  \n",
       "3    0.158963  0.073715  0.208463      1  0.804769  \n",
       "4    0.558449  0.885169  0.182754      0  0.630836  \n",
       "..        ...       ...       ...    ...       ...  \n",
       "995  0.584786  0.808640  0.242762      0  0.266822  \n",
       "996  0.472306  0.348347  0.671129      0  0.403480  \n",
       "997  0.530324  0.779433  0.234952      0  0.337727  \n",
       "998  0.242755  0.279385  0.538755      0  0.300265  \n",
       "999  0.692299  0.816777  0.307592      0  0.367867  \n",
       "\n",
       "[1000 rows x 12 columns]"
      ]
     },
     "execution_count": 8,
     "metadata": {},
     "output_type": "execute_result"
    },
    {
     "data": {
      "application/javascript": [
       "\n",
       "            setTimeout(function() {\n",
       "                var nbb_cell_id = 8;\n",
       "                var nbb_unformatted_code = \"# generating the predictions using KNN trained model\\nknn_predictions = predict_model(knn, data = anomaly)\\n\\n# predictions with Label = 1 are considered anomalies\\nknn_predictions\";\n",
       "                var nbb_formatted_code = \"# generating the predictions using KNN trained model\\nknn_predictions = predict_model(knn, data=anomaly)\\n\\n# predictions with Label = 1 are considered anomalies\\nknn_predictions\";\n",
       "                var nbb_cells = Jupyter.notebook.get_cells();\n",
       "                for (var i = 0; i < nbb_cells.length; ++i) {\n",
       "                    if (nbb_cells[i].input_prompt_number == nbb_cell_id) {\n",
       "                        if (nbb_cells[i].get_text() == nbb_unformatted_code) {\n",
       "                             nbb_cells[i].set_text(nbb_formatted_code);\n",
       "                        }\n",
       "                        break;\n",
       "                    }\n",
       "                }\n",
       "            }, 500);\n",
       "            "
      ],
      "text/plain": [
       "<IPython.core.display.Javascript object>"
      ]
     },
     "metadata": {},
     "output_type": "display_data"
    }
   ],
   "source": [
    "# generating the predictions using KNN trained model\n",
    "knn_predictions = predict_model(knn, data=anomaly)\n",
    "\n",
    "# predictions with Label = 1 are considered anomalies\n",
    "knn_predictions"
   ]
  },
  {
   "cell_type": "code",
   "execution_count": 9,
   "metadata": {},
   "outputs": [
    {
     "data": {
      "text/html": [
       "<div>\n",
       "<style scoped>\n",
       "    .dataframe tbody tr th:only-of-type {\n",
       "        vertical-align: middle;\n",
       "    }\n",
       "\n",
       "    .dataframe tbody tr th {\n",
       "        vertical-align: top;\n",
       "    }\n",
       "\n",
       "    .dataframe thead th {\n",
       "        text-align: right;\n",
       "    }\n",
       "</style>\n",
       "<table border=\"1\" class=\"dataframe\">\n",
       "  <thead>\n",
       "    <tr style=\"text-align: right;\">\n",
       "      <th></th>\n",
       "      <th>Col1</th>\n",
       "      <th>Col2</th>\n",
       "      <th>Col3</th>\n",
       "      <th>Col4</th>\n",
       "      <th>Col5</th>\n",
       "      <th>Col6</th>\n",
       "      <th>Col7</th>\n",
       "      <th>Col8</th>\n",
       "      <th>Col9</th>\n",
       "      <th>Col10</th>\n",
       "      <th>Label</th>\n",
       "      <th>Score</th>\n",
       "    </tr>\n",
       "  </thead>\n",
       "  <tbody>\n",
       "    <tr>\n",
       "      <th>3</th>\n",
       "      <td>0.092108</td>\n",
       "      <td>0.995017</td>\n",
       "      <td>0.014465</td>\n",
       "      <td>0.176371</td>\n",
       "      <td>0.241530</td>\n",
       "      <td>0.514724</td>\n",
       "      <td>0.562208</td>\n",
       "      <td>0.158963</td>\n",
       "      <td>0.073715</td>\n",
       "      <td>0.208463</td>\n",
       "      <td>1</td>\n",
       "      <td>0.804769</td>\n",
       "    </tr>\n",
       "    <tr>\n",
       "      <th>8</th>\n",
       "      <td>0.197078</td>\n",
       "      <td>0.843918</td>\n",
       "      <td>0.243396</td>\n",
       "      <td>0.281278</td>\n",
       "      <td>0.329148</td>\n",
       "      <td>0.734582</td>\n",
       "      <td>0.191947</td>\n",
       "      <td>0.927804</td>\n",
       "      <td>0.713269</td>\n",
       "      <td>0.891548</td>\n",
       "      <td>1</td>\n",
       "      <td>0.844047</td>\n",
       "    </tr>\n",
       "    <tr>\n",
       "      <th>9</th>\n",
       "      <td>0.292985</td>\n",
       "      <td>0.703432</td>\n",
       "      <td>0.439621</td>\n",
       "      <td>0.107868</td>\n",
       "      <td>0.922947</td>\n",
       "      <td>0.253458</td>\n",
       "      <td>0.295652</td>\n",
       "      <td>0.355287</td>\n",
       "      <td>0.980911</td>\n",
       "      <td>0.308864</td>\n",
       "      <td>1</td>\n",
       "      <td>0.732952</td>\n",
       "    </tr>\n",
       "    <tr>\n",
       "      <th>11</th>\n",
       "      <td>0.796623</td>\n",
       "      <td>0.230543</td>\n",
       "      <td>0.993018</td>\n",
       "      <td>0.077075</td>\n",
       "      <td>0.094068</td>\n",
       "      <td>0.718628</td>\n",
       "      <td>0.977611</td>\n",
       "      <td>0.333386</td>\n",
       "      <td>0.634843</td>\n",
       "      <td>0.028729</td>\n",
       "      <td>1</td>\n",
       "      <td>0.830877</td>\n",
       "    </tr>\n",
       "    <tr>\n",
       "      <th>13</th>\n",
       "      <td>0.613660</td>\n",
       "      <td>0.709061</td>\n",
       "      <td>0.726767</td>\n",
       "      <td>0.862584</td>\n",
       "      <td>0.593116</td>\n",
       "      <td>0.474138</td>\n",
       "      <td>0.941633</td>\n",
       "      <td>0.788438</td>\n",
       "      <td>0.323293</td>\n",
       "      <td>0.931074</td>\n",
       "      <td>1</td>\n",
       "      <td>0.681433</td>\n",
       "    </tr>\n",
       "  </tbody>\n",
       "</table>\n",
       "</div>"
      ],
      "text/plain": [
       "        Col1      Col2      Col3      Col4      Col5      Col6      Col7  \\\n",
       "3   0.092108  0.995017  0.014465  0.176371  0.241530  0.514724  0.562208   \n",
       "8   0.197078  0.843918  0.243396  0.281278  0.329148  0.734582  0.191947   \n",
       "9   0.292985  0.703432  0.439621  0.107868  0.922947  0.253458  0.295652   \n",
       "11  0.796623  0.230543  0.993018  0.077075  0.094068  0.718628  0.977611   \n",
       "13  0.613660  0.709061  0.726767  0.862584  0.593116  0.474138  0.941633   \n",
       "\n",
       "        Col8      Col9     Col10  Label     Score  \n",
       "3   0.158963  0.073715  0.208463      1  0.804769  \n",
       "8   0.927804  0.713269  0.891548      1  0.844047  \n",
       "9   0.355287  0.980911  0.308864      1  0.732952  \n",
       "11  0.333386  0.634843  0.028729      1  0.830877  \n",
       "13  0.788438  0.323293  0.931074      1  0.681433  "
      ]
     },
     "execution_count": 9,
     "metadata": {},
     "output_type": "execute_result"
    },
    {
     "data": {
      "application/javascript": [
       "\n",
       "            setTimeout(function() {\n",
       "                var nbb_cell_id = 9;\n",
       "                var nbb_unformatted_code = \"# checking KNN anomaly rows\\nknn_anomaly_rows = knn_predictions[knn_predictions[\\\"Label\\\"] == 1]\\nknn_anomaly_rows.head()\";\n",
       "                var nbb_formatted_code = \"# checking KNN anomaly rows\\nknn_anomaly_rows = knn_predictions[knn_predictions[\\\"Label\\\"] == 1]\\nknn_anomaly_rows.head()\";\n",
       "                var nbb_cells = Jupyter.notebook.get_cells();\n",
       "                for (var i = 0; i < nbb_cells.length; ++i) {\n",
       "                    if (nbb_cells[i].input_prompt_number == nbb_cell_id) {\n",
       "                        if (nbb_cells[i].get_text() == nbb_unformatted_code) {\n",
       "                             nbb_cells[i].set_text(nbb_formatted_code);\n",
       "                        }\n",
       "                        break;\n",
       "                    }\n",
       "                }\n",
       "            }, 500);\n",
       "            "
      ],
      "text/plain": [
       "<IPython.core.display.Javascript object>"
      ]
     },
     "metadata": {},
     "output_type": "display_data"
    }
   ],
   "source": [
    "# checking KNN anomaly rows\n",
    "knn_anomaly_rows = knn_predictions[knn_predictions[\"Label\"] == 1]\n",
    "knn_anomaly_rows.head()"
   ]
  },
  {
   "cell_type": "code",
   "execution_count": 10,
   "metadata": {},
   "outputs": [
    {
     "data": {
      "text/plain": [
       "(46, 12)"
      ]
     },
     "execution_count": 10,
     "metadata": {},
     "output_type": "execute_result"
    },
    {
     "data": {
      "application/javascript": [
       "\n",
       "            setTimeout(function() {\n",
       "                var nbb_cell_id = 10;\n",
       "                var nbb_unformatted_code = \"# checking the number of anomaly rows returned by KNN\\nknn_anomaly_rows.shape   # returned 46 rows  \";\n",
       "                var nbb_formatted_code = \"# checking the number of anomaly rows returned by KNN\\nknn_anomaly_rows.shape  # returned 46 rows\";\n",
       "                var nbb_cells = Jupyter.notebook.get_cells();\n",
       "                for (var i = 0; i < nbb_cells.length; ++i) {\n",
       "                    if (nbb_cells[i].input_prompt_number == nbb_cell_id) {\n",
       "                        if (nbb_cells[i].get_text() == nbb_unformatted_code) {\n",
       "                             nbb_cells[i].set_text(nbb_formatted_code);\n",
       "                        }\n",
       "                        break;\n",
       "                    }\n",
       "                }\n",
       "            }, 500);\n",
       "            "
      ],
      "text/plain": [
       "<IPython.core.display.Javascript object>"
      ]
     },
     "metadata": {},
     "output_type": "display_data"
    }
   ],
   "source": [
    "# checking the number of anomaly rows returned by KNN\n",
    "knn_anomaly_rows.shape  # returned 46 rows"
   ]
  },
  {
   "cell_type": "markdown",
   "metadata": {},
   "source": [
    "## Clustering"
   ]
  },
  {
   "cell_type": "code",
   "execution_count": 11,
   "metadata": {},
   "outputs": [
    {
     "data": {
      "text/html": [
       "        <script type=\"text/javascript\">\n",
       "        window.PlotlyConfig = {MathJaxConfig: 'local'};\n",
       "        if (window.MathJax) {MathJax.Hub.Config({SVG: {font: \"STIX-Web\"}});}\n",
       "        if (typeof require !== 'undefined') {\n",
       "        require.undef(\"plotly\");\n",
       "        requirejs.config({\n",
       "            paths: {\n",
       "                'plotly': ['https://cdn.plot.ly/plotly-latest.min']\n",
       "            }\n",
       "        });\n",
       "        require(['plotly'], function(Plotly) {\n",
       "            window._Plotly = Plotly;\n",
       "        });\n",
       "        }\n",
       "        </script>\n",
       "        "
      ]
     },
     "metadata": {},
     "output_type": "display_data"
    },
    {
     "data": {
      "application/vnd.plotly.v1+json": {
       "config": {
        "plotlyServerURL": "https://plot.ly"
       },
       "data": [
        {
         "customdata": [
          [
           0.263995357
          ],
          [
           0.546092303
          ],
          [
           0.33671410399999996
          ],
          [
           0.092107835
          ],
          [
           0.325261175
          ],
          [
           0.212464853
          ],
          [
           0.258565714
          ],
          [
           0.869236755
          ],
          [
           0.197077957
          ],
          [
           0.292984504
          ],
          [
           0.82178316
          ],
          [
           0.796622959
          ],
          [
           0.045577010999999994
          ],
          [
           0.613660351
          ],
          [
           0.9507445659999999
          ],
          [
           0.33634633700000005
          ],
          [
           0.034440667
          ],
          [
           0.741544275
          ],
          [
           0.18443265
          ],
          [
           0.664514943
          ],
          [
           0.16282485800000002
          ],
          [
           0.729838445
          ],
          [
           0.62837389
          ],
          [
           0.057883660999999996
          ],
          [
           0.445534827
          ],
          [
           0.80183695
          ],
          [
           0.27709612
          ],
          [
           0.228634015
          ],
          [
           0.834860657
          ],
          [
           0.6697665110000001
          ],
          [
           0.532527349
          ],
          [
           0.17045907100000002
          ],
          [
           0.5102884679999999
          ],
          [
           0.977561989
          ],
          [
           0.249775993
          ],
          [
           0.9755006820000001
          ],
          [
           0.613701727
          ],
          [
           0.16742036300000002
          ],
          [
           0.537472516
          ],
          [
           0.379899131
          ],
          [
           0.633897303
          ],
          [
           0.633960424
          ],
          [
           0.5499746529999999
          ],
          [
           0.178172988
          ],
          [
           0.85563814
          ],
          [
           0.321796672
          ],
          [
           0.8174905370000001
          ],
          [
           0.254879417
          ],
          [
           0.344140513
          ],
          [
           0.8061457259999999
          ],
          [
           0.27708167100000003
          ],
          [
           0.544328519
          ],
          [
           0.07708393
          ],
          [
           0.273081458
          ],
          [
           0.390877336
          ],
          [
           0.349621385
          ],
          [
           0.214549744
          ],
          [
           0.206075222
          ],
          [
           0.86461997
          ],
          [
           0.9817088540000001
          ],
          [
           0.33482964600000004
          ],
          [
           0.648387061
          ],
          [
           0.093643561
          ],
          [
           0.837802698
          ],
          [
           0.7603439670000001
          ],
          [
           0.29140417399999996
          ],
          [
           0.3413454
          ],
          [
           0.7611124840000001
          ],
          [
           0.541899775
          ],
          [
           0.684176639
          ],
          [
           0.983535597
          ],
          [
           0.52081245
          ],
          [
           0.328227724
          ],
          [
           0.09715793800000001
          ],
          [
           0.876088593
          ],
          [
           0.870214512
          ],
          [
           0.656086992
          ],
          [
           0.306791514
          ],
          [
           0.48126734
          ],
          [
           0.259559174
          ],
          [
           0.326123655
          ],
          [
           0.930568042
          ],
          [
           0.6583894
          ],
          [
           0.689992335
          ],
          [
           0.315781109
          ],
          [
           0.5669050929999999
          ],
          [
           0.637526619
          ],
          [
           0.687540723
          ],
          [
           0.324300602
          ],
          [
           0.592704906
          ],
          [
           0.7402531259999999
          ],
          [
           0.5940328770000001
          ],
          [
           0.596452977
          ],
          [
           0.27768081699999997
          ],
          [
           0.258329663
          ],
          [
           0.142460864
          ],
          [
           0.435533461
          ],
          [
           0.7024990440000001
          ],
          [
           0.58897535
          ],
          [
           0.653304374
          ],
          [
           0.336968524
          ],
          [
           0.631244736
          ],
          [
           0.73530076
          ],
          [
           0.050390366
          ],
          [
           0.064264924
          ],
          [
           0.665359476
          ],
          [
           0.917835245
          ],
          [
           0.44651012
          ],
          [
           0.661938199
          ],
          [
           0.43935985299999997
          ],
          [
           0.6875724040000001
          ],
          [
           0.363462248
          ],
          [
           0.6542621820000001
          ],
          [
           0.578553536
          ],
          [
           0.065927945
          ],
          [
           0.550148559
          ],
          [
           0.13918281400000002
          ],
          [
           0.080004635
          ],
          [
           0.278228358
          ],
          [
           0.560124266
          ],
          [
           0.53639864
          ],
          [
           0.42653190399999996
          ],
          [
           0.789109796
          ],
          [
           0.742900474
          ],
          [
           0.901692589
          ],
          [
           0.650337401
          ],
          [
           0.114057311
          ],
          [
           0.260812592
          ],
          [
           0.43991232
          ],
          [
           0.964409284
          ],
          [
           0.184401415
          ],
          [
           0.345145446
          ],
          [
           0.17589458100000002
          ],
          [
           0.312514453
          ],
          [
           0.674131879
          ],
          [
           0.32825045
          ],
          [
           0.598231057
          ],
          [
           0.09259881699999999
          ],
          [
           0.497916521
          ],
          [
           0.419776521
          ],
          [
           0.31217670000000003
          ],
          [
           0.937857107
          ],
          [
           0.049030963
          ],
          [
           0.47610452600000003
          ],
          [
           0.447397526
          ],
          [
           0.295806058
          ],
          [
           0.737363977
          ],
          [
           0.625896253
          ],
          [
           0.408813429
          ],
          [
           0.437511156
          ],
          [
           0.691351375
          ],
          [
           0.935555275
          ],
          [
           0.437846654
          ],
          [
           0.072217715
          ],
          [
           0.67636067
          ],
          [
           0.468883999
          ],
          [
           0.543820644
          ],
          [
           0.6555226470000001
          ],
          [
           0.6935289240000001
          ],
          [
           0.10887831199999999
          ],
          [
           0.285463743
          ],
          [
           0
          ],
          [
           0.706495497
          ],
          [
           0.273530633
          ],
          [
           0.292320271
          ],
          [
           0.673984307
          ],
          [
           0.12612182800000002
          ],
          [
           0.9467074590000001
          ],
          [
           0.9363388979999999
          ],
          [
           0.8537553640000001
          ],
          [
           0.7060713609999999
          ],
          [
           0.693682186
          ],
          [
           0.508527882
          ],
          [
           0.34717038899999997
          ],
          [
           0.704154263
          ],
          [
           0.658730088
          ],
          [
           0.155841557
          ],
          [
           0.311085435
          ],
          [
           0.281135347
          ],
          [
           0.094587802
          ],
          [
           0.6832609540000001
          ],
          [
           0.9077292509999999
          ],
          [
           0.29151267399999997
          ],
          [
           0.752734459
          ],
          [
           0.93482964
          ],
          [
           0.071413953
          ],
          [
           0.5948963270000001
          ],
          [
           0.404672015
          ],
          [
           0.13837621
          ],
          [
           0.7473384679999999
          ],
          [
           0.530882486
          ],
          [
           0.282649594
          ],
          [
           0.699335734
          ],
          [
           0.056111250999999994
          ],
          [
           0.855234998
          ],
          [
           0.07789512700000001
          ],
          [
           0.891649583
          ],
          [
           0.38674227899999997
          ],
          [
           0.27113158
          ],
          [
           0.958888961
          ],
          [
           0.085120869
          ],
          [
           0.5269022489999999
          ],
          [
           0.066577785
          ],
          [
           0.841506738
          ],
          [
           0.255342095
          ],
          [
           0.060545771
          ],
          [
           0.073385869
          ],
          [
           0.187493723
          ],
          [
           0.858365688
          ],
          [
           0.090640352
          ],
          [
           0.7097252270000001
          ],
          [
           0.631300647
          ],
          [
           0.24750447399999997
          ],
          [
           0.822843584
          ],
          [
           0.373476759
          ],
          [
           0.625538582
          ],
          [
           0.292951715
          ],
          [
           0.299730324
          ],
          [
           0.25121407
          ],
          [
           0.344480551
          ],
          [
           0.293064767
          ],
          [
           0.7628032240000001
          ],
          [
           0.7384708040000001
          ],
          [
           0.674883265
          ],
          [
           0.719151612
          ],
          [
           0.13098021599999998
          ],
          [
           0.511328036
          ],
          [
           0.04492903
          ],
          [
           0.560914449
          ],
          [
           0.7440406409999999
          ],
          [
           0.266961634
          ],
          [
           0.644231853
          ],
          [
           0.038113352
          ],
          [
           0.05715529900000001
          ],
          [
           0.34139246100000004
          ],
          [
           0.7204636320000001
          ],
          [
           0.402878236
          ],
          [
           0.635148967
          ],
          [
           0.320729467
          ],
          [
           0.09120969400000001
          ],
          [
           0.23414609
          ],
          [
           0.8902211309999999
          ],
          [
           0.602170884
          ],
          [
           0.633652055
          ],
          [
           0.806240837
          ],
          [
           0.739731184
          ],
          [
           0.465231269
          ],
          [
           0.7321109
          ],
          [
           0.373874305
          ],
          [
           0.501587947
          ],
          [
           0.11538315800000001
          ],
          [
           0.7319466040000001
          ],
          [
           0.41829872799999995
          ],
          [
           0.062259590999999996
          ],
          [
           0.391496379
          ],
          [
           0.35984929
          ],
          [
           0.24523562699999998
          ],
          [
           0.610028339
          ],
          [
           0.43540360200000006
          ],
          [
           0.434309675
          ],
          [
           0.523763344
          ],
          [
           0.17118786600000002
          ],
          [
           0.18773430300000002
          ],
          [
           0.945014638
          ],
          [
           0.027851097000000002
          ],
          [
           0.68445706
          ],
          [
           0.178014532
          ],
          [
           0.643427879
          ],
          [
           0.59588355
          ],
          [
           0.372361682
          ],
          [
           0.586103584
          ],
          [
           0.271658852
          ],
          [
           0.59951107
          ],
          [
           0.468363088
          ],
          [
           0.314515565
          ],
          [
           0.21893726
          ],
          [
           0.254716562
          ],
          [
           0.25612815
          ],
          [
           0.602259755
          ],
          [
           0.134381075
          ],
          [
           0.513887424
          ],
          [
           0.624241636
          ],
          [
           0.160251854
          ],
          [
           0.580708108
          ],
          [
           0.270540486
          ],
          [
           0.832919932
          ],
          [
           0.93032134
          ],
          [
           0.719157884
          ],
          [
           0.886720033
          ],
          [
           0.098792281
          ],
          [
           0.787174286
          ],
          [
           0.365592376
          ],
          [
           0.719576193
          ],
          [
           0.8058956
          ],
          [
           0.7555783340000001
          ],
          [
           0.526005909
          ],
          [
           0.68880424
          ],
          [
           0.22111531199999998
          ],
          [
           0.739369477
          ],
          [
           0.408440236
          ],
          [
           0.348926542
          ],
          [
           0.433713763
          ],
          [
           0.5964966070000001
          ],
          [
           0.6942953000000001
          ],
          [
           0.7090309659999999
          ],
          [
           0.867652984
          ],
          [
           0.89332545
          ],
          [
           0.746020922
          ],
          [
           0.538284443
          ],
          [
           0.8922193140000001
          ],
          [
           0.935175765
          ],
          [
           0.260527707
          ],
          [
           0.956780449
          ],
          [
           0.204932484
          ],
          [
           0.687733351
          ],
          [
           0.329063619
          ],
          [
           0.632149831
          ],
          [
           0.463744506
          ],
          [
           0.698859621
          ],
          [
           0.385446564
          ],
          [
           0.47997537700000004
          ],
          [
           0.732279108
          ],
          [
           0.3813543
          ],
          [
           0.459326013
          ],
          [
           0.257401434
          ],
          [
           0.665014804
          ],
          [
           0.103399542
          ],
          [
           0.425284413
          ],
          [
           0.943529051
          ],
          [
           0.594750236
          ],
          [
           0.543776817
          ],
          [
           0.18203988
          ],
          [
           0.23584208399999998
          ],
          [
           0.585984497
          ],
          [
           0.762013168
          ],
          [
           0.6849829070000001
          ],
          [
           0.676936933
          ],
          [
           0.290184964
          ],
          [
           0.48106822200000005
          ],
          [
           0.492766033
          ],
          [
           0.22185623399999999
          ],
          [
           0.053875998
          ],
          [
           0.082751144
          ],
          [
           0.385366225
          ],
          [
           0.702513961
          ],
          [
           0.91553156
          ],
          [
           0.082087436
          ],
          [
           0.251280378
          ],
          [
           0.41672181700000005
          ],
          [
           0.277032672
          ],
          [
           0.579539754
          ],
          [
           0.569363476
          ],
          [
           0.133399703
          ],
          [
           0.265045463
          ],
          [
           0.936571901
          ],
          [
           0.252618554
          ],
          [
           0.054033081
          ],
          [
           0.802481439
          ],
          [
           0.528197693
          ],
          [
           0.9515026
          ],
          [
           0.572121173
          ],
          [
           0.752938227
          ],
          [
           0.143857535
          ],
          [
           0.513484576
          ],
          [
           0.313322389
          ],
          [
           0.6877973959999999
          ],
          [
           0.37705984
          ],
          [
           0.348226142
          ],
          [
           0.67763282
          ],
          [
           0.24138752100000002
          ],
          [
           0.8506501790000001
          ],
          [
           0.22034810300000002
          ],
          [
           0.476445464
          ],
          [
           0.690324025
          ],
          [
           0.364695946
          ],
          [
           0.6492491970000001
          ],
          [
           0.9437019209999999
          ],
          [
           0.529645971
          ],
          [
           0.299097002
          ],
          [
           0.96696247
          ],
          [
           0.272005242
          ],
          [
           0.314161447
          ],
          [
           0.752020991
          ],
          [
           0.221882453
          ],
          [
           0.7203326729999999
          ],
          [
           0.379204782
          ],
          [
           0.60168653
          ],
          [
           0.582932673
          ],
          [
           0.950809853
          ],
          [
           0.58830141
          ],
          [
           0.880887227
          ],
          [
           0.467857701
          ],
          [
           0.8799021709999999
          ],
          [
           0.619844009
          ],
          [
           0.359002573
          ],
          [
           0.291511278
          ],
          [
           0.694157143
          ],
          [
           0.727960353
          ],
          [
           0.617703921
          ],
          [
           0.39581257
          ],
          [
           0.58317282
          ],
          [
           0.710332374
          ],
          [
           0.253753693
          ],
          [
           0.049412227999999996
          ],
          [
           0.728378695
          ],
          [
           0.432432881
          ],
          [
           0.58612345
          ],
          [
           0.052342373
          ],
          [
           0.053483902
          ],
          [
           0.518729378
          ],
          [
           0.933040208
          ],
          [
           0.7035542840000001
          ],
          [
           0.268989899
          ],
          [
           0.733006927
          ],
          [
           0.44435246700000003
          ],
          [
           0.5833946210000001
          ],
          [
           0.871172692
          ],
          [
           0.42876707799999997
          ],
          [
           0.30046084100000003
          ],
          [
           0.9533294590000001
          ],
          [
           0.606443965
          ],
          [
           0.90986815
          ],
          [
           0.714896449
          ],
          [
           0.49734950899999997
          ],
          [
           0.8530974859999999
          ],
          [
           0.721804145
          ],
          [
           0.303467328
          ],
          [
           0.664485096
          ],
          [
           0.27978062
          ],
          [
           0.569481665
          ],
          [
           0.628628926
          ],
          [
           0.088368123
          ],
          [
           0.733567326
          ],
          [
           0.537436778
          ],
          [
           0.638593691
          ],
          [
           0.954726948
          ],
          [
           0.632202332
          ],
          [
           0.642134651
          ],
          [
           0.744653087
          ],
          [
           0.115714007
          ],
          [
           0.48625007299999995
          ],
          [
           0.440356144
          ],
          [
           0.08272289
          ],
          [
           0.511591027
          ],
          [
           0.394627555
          ],
          [
           0.224394
          ],
          [
           0.626927584
          ],
          [
           0.290254057
          ],
          [
           0.779008053
          ],
          [
           0.86610579
          ],
          [
           0.873326081
          ],
          [
           0.49548916
          ],
          [
           0.594297695
          ],
          [
           0.9182015840000001
          ],
          [
           0.5770427539999999
          ],
          [
           0.019467671000000002
          ],
          [
           0.6702982820000001
          ],
          [
           0.546595316
          ],
          [
           0.591665146
          ],
          [
           0.42155819
          ],
          [
           0.6856085590000001
          ],
          [
           0.340303024
          ],
          [
           0.675626741
          ],
          [
           0.319067345
          ],
          [
           0.38849966399999997
          ],
          [
           0.706949589
          ],
          [
           0.559409515
          ],
          [
           0.687663508
          ],
          [
           0.7088045540000001
          ],
          [
           0.6818880940000001
          ],
          [
           0.42253510899999996
          ],
          [
           0.320004605
          ],
          [
           0.6582813679999999
          ],
          [
           0.634154867
          ],
          [
           0.7773320090000001
          ],
          [
           0.812677205
          ],
          [
           0.074280797
          ],
          [
           0.39600217
          ],
          [
           0.054933913
          ],
          [
           0.825058925
          ],
          [
           0.382642009
          ],
          [
           0.8687298179999999
          ],
          [
           0.588043346
          ],
          [
           0.891551577
          ],
          [
           0.10920046
          ],
          [
           0.647682781
          ],
          [
           0.724342512
          ],
          [
           0.07016304400000001
          ],
          [
           0.280882054
          ],
          [
           0.039113261
          ],
          [
           0.579641592
          ],
          [
           0.639000922
          ],
          [
           0.281745925
          ],
          [
           0.647857744
          ],
          [
           0.6479057970000001
          ],
          [
           0.875226264
          ],
          [
           0.567603305
          ],
          [
           0.262940591
          ],
          [
           0.268026042
          ],
          [
           0.40519133
          ],
          [
           0.479965451
          ],
          [
           0.33552403
          ],
          [
           0.777165379
          ],
          [
           0.42548796299999997
          ],
          [
           0.237986115
          ],
          [
           0.142522971
          ],
          [
           0.724176488
          ],
          [
           0.234698933
          ],
          [
           0.07818228099999999
          ],
          [
           0.855990155
          ],
          [
           0.270251765
          ],
          [
           0.435517841
          ],
          [
           0.762697513
          ],
          [
           0.46448725799999996
          ],
          [
           0.396112685
          ],
          [
           0.37638092100000003
          ],
          [
           0.29459467699999997
          ],
          [
           0.6944921209999999
          ],
          [
           0.622767949
          ],
          [
           0.8475597220000001
          ],
          [
           0.301463054
          ],
          [
           0.912937812
          ],
          [
           0.500017182
          ],
          [
           0.902587935
          ],
          [
           0.304517943
          ],
          [
           0.299165673
          ],
          [
           0.092014087
          ],
          [
           0.488548917
          ],
          [
           0.664664437
          ],
          [
           0.26534954899999996
          ],
          [
           0.723657021
          ],
          [
           0.149262385
          ],
          [
           0.04577339
          ],
          [
           0.69661064
          ],
          [
           0.42181486
          ],
          [
           0.733845785
          ],
          [
           0.418795386
          ],
          [
           0.677443529
          ],
          [
           0.26128360300000003
          ],
          [
           0.268527767
          ],
          [
           0.5443222360000001
          ],
          [
           0.431632036
          ],
          [
           0.981018141
          ],
          [
           0.21498072399999998
          ],
          [
           0.39472999299999995
          ],
          [
           0.122224944
          ],
          [
           0.297496875
          ],
          [
           0.37490443100000004
          ],
          [
           0.68698771
          ],
          [
           0.388549207
          ],
          [
           0.039296071
          ],
          [
           0.73553424
          ],
          [
           0.37929489299999997
          ],
          [
           0.7321233859999999
          ],
          [
           0.33922143899999996
          ],
          [
           0.659450594
          ],
          [
           0.054838642
          ],
          [
           0.640112102
          ],
          [
           0.30714170399999996
          ],
          [
           0.39661190700000004
          ],
          [
           0.420439161
          ],
          [
           0.24171497399999997
          ],
          [
           0.065893153
          ],
          [
           0.9105219370000001
          ],
          [
           0.697163103
          ],
          [
           0.072559853
          ],
          [
           0.81825094
          ],
          [
           0.311888815
          ],
          [
           0.961644609
          ],
          [
           0.816325524
          ],
          [
           0.14647302
          ],
          [
           0.548753945
          ],
          [
           0.946158087
          ],
          [
           0.293992717
          ],
          [
           0.331479643
          ],
          [
           0.9062200309999999
          ],
          [
           0.525540416
          ],
          [
           0.83301411
          ],
          [
           0.514849806
          ],
          [
           0.574609024
          ],
          [
           0.46871185299999996
          ],
          [
           0.71002775
          ],
          [
           0.645973276
          ],
          [
           0.229794416
          ],
          [
           0.551783393
          ],
          [
           0.055822990999999995
          ],
          [
           0.331750941
          ],
          [
           0.715520198
          ],
          [
           0.583924357
          ],
          [
           0.30695769100000003
          ],
          [
           0.7914782370000001
          ],
          [
           0.16423663900000002
          ],
          [
           0.065711219
          ],
          [
           0.948993132
          ],
          [
           0.080423835
          ],
          [
           0.052495426
          ],
          [
           0.566346135
          ],
          [
           0.3630266
          ],
          [
           0.605442195
          ],
          [
           0.6308505839999999
          ],
          [
           0.065791238
          ],
          [
           0.28681707100000003
          ],
          [
           0.685462839
          ],
          [
           0.260853706
          ],
          [
           0.659122429
          ],
          [
           0.44317392200000005
          ],
          [
           0.602063986
          ],
          [
           0.060366910999999995
          ],
          [
           0.781903153
          ],
          [
           0.5145798070000001
          ],
          [
           0.48388621299999995
          ],
          [
           0.600213807
          ],
          [
           0.49736405200000006
          ],
          [
           0.411145245
          ],
          [
           0.116999171
          ],
          [
           0.34189014100000004
          ],
          [
           0.746950848
          ],
          [
           0.39629274600000003
          ],
          [
           0.6221438429999999
          ],
          [
           0.335271141
          ],
          [
           0.140257137
          ],
          [
           0.081620681
          ],
          [
           0.069837569
          ],
          [
           0.46894000799999996
          ],
          [
           0.9908574170000001
          ],
          [
           0.896616832
          ],
          [
           0.255310561
          ],
          [
           0.22464526699999998
          ],
          [
           0.01991825
          ],
          [
           0.296480415
          ],
          [
           0.155458996
          ],
          [
           0.577916714
          ],
          [
           0.9563030309999999
          ],
          [
           0.813464394
          ],
          [
           0.529675785
          ],
          [
           0.287671353
          ],
          [
           0.48039136
          ],
          [
           0.28104482199999997
          ],
          [
           0.633196521
          ],
          [
           0.09332537699999999
          ],
          [
           0.28447398100000004
          ],
          [
           0.052223775
          ],
          [
           0.051129385
          ],
          [
           0.967405608
          ],
          [
           0.040045727999999996
          ],
          [
           0.9085829209999999
          ],
          [
           0.6621174160000001
          ],
          [
           0.42470320899999997
          ],
          [
           0.72207806
          ],
          [
           0.666193327
          ],
          [
           0.509681253
          ],
          [
           0.7513536209999999
          ],
          [
           0.279073124
          ],
          [
           0.074927
          ],
          [
           0.916359535
          ],
          [
           0.31040327
          ],
          [
           0.716604052
          ],
          [
           0.485587085
          ],
          [
           0.30607518100000003
          ],
          [
           0.477558204
          ],
          [
           0.7119239409999999
          ],
          [
           0.066348638
          ],
          [
           0.27453935100000004
          ],
          [
           0.31082252
          ],
          [
           0.47607312700000004
          ],
          [
           0.186795565
          ],
          [
           0.26654207
          ],
          [
           0.070231142
          ],
          [
           0.26951927
          ],
          [
           0.800004713
          ],
          [
           0.27363366699999997
          ],
          [
           0.14647919199999998
          ],
          [
           0.378318951
          ],
          [
           0.373849065
          ],
          [
           0.242170835
          ],
          [
           0.249796488
          ],
          [
           0.066591188
          ],
          [
           0.372956798
          ],
          [
           0.501812291
          ],
          [
           0.313097752
          ],
          [
           0.8802021959999999
          ],
          [
           0.51981893
          ],
          [
           0.364138746
          ],
          [
           0.49268289600000004
          ],
          [
           0.285732652
          ],
          [
           0.890114985
          ],
          [
           0.316419561
          ],
          [
           0.26866354
          ],
          [
           0.771975959
          ],
          [
           0.968888992
          ],
          [
           0.080334377
          ],
          [
           0.7368282209999999
          ],
          [
           0.30055807100000004
          ],
          [
           0.9179503929999999
          ],
          [
           0.465815039
          ],
          [
           0.054036682
          ],
          [
           0.963150123
          ],
          [
           0.08965350300000001
          ],
          [
           0.7076932340000001
          ],
          [
           0.636416037
          ],
          [
           0.539521117
          ],
          [
           0.114757161
          ],
          [
           0.357312419
          ],
          [
           0.67639834
          ],
          [
           0.43482839
          ],
          [
           0.032326387000000005
          ],
          [
           0.711365605
          ],
          [
           0.187486519
          ],
          [
           0.052789653
          ],
          [
           0.5058636129999999
          ],
          [
           0.927431873
          ],
          [
           0.6809842559999999
          ],
          [
           0.882822186
          ],
          [
           0.495705441
          ],
          [
           0.596240398
          ],
          [
           0.320610701
          ],
          [
           0.3413685
          ],
          [
           0.159681797
          ],
          [
           0.318133669
          ],
          [
           0.8393010479999999
          ],
          [
           0.06435925099999999
          ],
          [
           0.470216633
          ],
          [
           0.7762522909999999
          ],
          [
           0.635843383
          ],
          [
           0.62510543
          ],
          [
           0.52959065
          ],
          [
           0.986900166
          ],
          [
           0.078585688
          ],
          [
           0.233284267
          ],
          [
           0.363330957
          ],
          [
           0.7167169809999999
          ],
          [
           0.37588979200000006
          ],
          [
           0.223316889
          ],
          [
           0.299343986
          ],
          [
           0.538595767
          ],
          [
           0.730297124
          ],
          [
           0.66033077
          ],
          [
           0.435296009
          ],
          [
           0.326494313
          ],
          [
           0.854402708
          ],
          [
           0.5734938470000001
          ],
          [
           0.757786135
          ],
          [
           0.704743233
          ],
          [
           0.281575597
          ],
          [
           0.671968208
          ],
          [
           0.313726015
          ],
          [
           0.364338275
          ],
          [
           0.368216396
          ],
          [
           0.38629520700000003
          ],
          [
           0.655971865
          ],
          [
           0.5660252729999999
          ],
          [
           0.424999093
          ],
          [
           0.090110371
          ],
          [
           0.772350538
          ],
          [
           0.331047258
          ],
          [
           0.273716188
          ],
          [
           0.23877568
          ],
          [
           0.37307977200000003
          ],
          [
           0.331185868
          ],
          [
           0.256134531
          ],
          [
           0.678373225
          ],
          [
           0.43463833799999996
          ],
          [
           0.654668307
          ],
          [
           0.986681065
          ],
          [
           0.371520495
          ],
          [
           0.408359618
          ],
          [
           0.40932365
          ],
          [
           0.283412082
          ],
          [
           0.395246531
          ],
          [
           0.010984428000000001
          ],
          [
           0.306013869
          ],
          [
           0.266194806
          ],
          [
           0.299318521
          ],
          [
           0.318293946
          ],
          [
           0.74282591
          ],
          [
           0.09766432900000001
          ],
          [
           0.079666942
          ],
          [
           0.613258767
          ],
          [
           0.99443072
          ],
          [
           0.568835082
          ],
          [
           0.7080345159999999
          ],
          [
           0.37059271899999996
          ],
          [
           0.669867361
          ],
          [
           0.651295625
          ],
          [
           0.462531569
          ],
          [
           0.7196256190000001
          ],
          [
           0.45377248
          ],
          [
           0.394863946
          ],
          [
           0.323974831
          ],
          [
           0.146454724
          ],
          [
           0.7790670409999999
          ],
          [
           0.401828915
          ],
          [
           0.601479585
          ],
          [
           0.856423023
          ],
          [
           0.565242962
          ],
          [
           0.301225108
          ],
          [
           0.282108144
          ],
          [
           0.594378011
          ],
          [
           0.705312368
          ],
          [
           0.5408696279999999
          ],
          [
           0.319249574
          ],
          [
           0.36176613799999996
          ],
          [
           0.625000704
          ],
          [
           0.316287401
          ],
          [
           0.047239021
          ],
          [
           0.801182233
          ],
          [
           0.508474436
          ],
          [
           0.8178934109999999
          ],
          [
           0.399235601
          ],
          [
           0.9740519990000001
          ],
          [
           0.72241535
          ],
          [
           0.039564764
          ],
          [
           0.908684108
          ],
          [
           0.47301013399999997
          ],
          [
           0.7180496279999999
          ],
          [
           0.7634790690000001
          ],
          [
           0.6475965370000001
          ],
          [
           0.8949973859999999
          ],
          [
           0.22282590100000002
          ],
          [
           0.359012234
          ],
          [
           0.944910252
          ],
          [
           0.297877816
          ],
          [
           0.172517997
          ],
          [
           0.556586265
          ],
          [
           0.876481735
          ],
          [
           0.48667784299999994
          ],
          [
           0.459496733
          ],
          [
           0.47412637700000004
          ],
          [
           0.70101144
          ],
          [
           0.337597387
          ],
          [
           0.537578886
          ],
          [
           0.966992448
          ],
          [
           0.056849545
          ],
          [
           0.233249065
          ],
          [
           0.380054711
          ],
          [
           0.602929443
          ],
          [
           0.303847999
          ],
          [
           0.170194553
          ],
          [
           0.972168554
          ],
          [
           0.332168927
          ],
          [
           0.6887286890000001
          ],
          [
           0.110773401
          ],
          [
           0.273352065
          ],
          [
           0.572939678
          ],
          [
           0.491457065
          ],
          [
           0.281389999
          ],
          [
           0.821697261
          ],
          [
           0.6749776829999999
          ],
          [
           0.585134549
          ],
          [
           0.7105961159999999
          ],
          [
           0.040488789
          ],
          [
           0.568054311
          ],
          [
           0.321752928
          ],
          [
           0.611850232
          ],
          [
           0.926096887
          ],
          [
           0.618347428
          ],
          [
           0.667629785
          ],
          [
           0.39773346600000004
          ],
          [
           0.290875487
          ],
          [
           0.594375103
          ],
          [
           0.508255233
          ],
          [
           0.338571357
          ],
          [
           0.43230234700000003
          ],
          [
           0.302221978
          ],
          [
           0.87619819
          ],
          [
           0.080204492
          ],
          [
           0.092333532
          ],
          [
           0.09365644699999999
          ],
          [
           0.6084523510000001
          ],
          [
           0.732654598
          ],
          [
           0.944158855
          ],
          [
           0.26742308
          ],
          [
           0.731124201
          ],
          [
           0.661308553
          ],
          [
           0.38776626200000003
          ],
          [
           0.962585273
          ],
          [
           0.322067067
          ],
          [
           0.6340810929999999
          ],
          [
           0.475345002
          ],
          [
           0.35355897299999994
          ],
          [
           0.8859363159999999
          ],
          [
           0.876798106
          ],
          [
           0.221581064
          ],
          [
           0.394362449
          ],
          [
           0.8050356759999999
          ],
          [
           0.452898486
          ],
          [
           0.592520516
          ],
          [
           0.761026394
          ],
          [
           0.245049023
          ],
          [
           0.37213936299999995
          ],
          [
           0.681054822
          ],
          [
           0.7471431479999999
          ],
          [
           0.9207395290000001
          ],
          [
           0.097207945
          ],
          [
           0.699302998
          ],
          [
           0.721647006
          ],
          [
           0.5353561139999999
          ],
          [
           0.738293805
          ],
          [
           0.7064675509999999
          ],
          [
           0.67395061
          ],
          [
           0.7112122909999999
          ],
          [
           0.302558708
          ],
          [
           0.080097855
          ],
          [
           0.707010837
          ],
          [
           0.512248622
          ],
          [
           0.659627472
          ],
          [
           0.657559694
          ],
          [
           0.100645606
          ],
          [
           0.92665363
          ],
          [
           0.892879338
          ],
          [
           0.839157508
          ],
          [
           0.890959718
          ],
          [
           0.556754471
          ],
          [
           0.960361937
          ],
          [
           0.631037864
          ],
          [
           0.029838065
          ],
          [
           0.278843351
          ],
          [
           0.926157705
          ],
          [
           0.551504258
          ],
          [
           0.485942349
          ],
          [
           0.43723469600000003
          ],
          [
           0.25231801800000003
          ],
          [
           0.515466972
          ],
          [
           0.43725229600000004
          ],
          [
           0.493724207
          ],
          [
           0.83324725
          ],
          [
           0.317521477
          ],
          [
           0.28623456199999997
          ],
          [
           0.726833965
          ],
          [
           0.495667033
          ],
          [
           0.028645255
          ],
          [
           0.31967191699999997
          ],
          [
           0.674344598
          ],
          [
           0.7660371890000001
          ],
          [
           0.65456992
          ],
          [
           0.7565143809999999
          ],
          [
           0.528253719
          ],
          [
           0.38971949100000003
          ],
          [
           0.355087459
          ],
          [
           0.87015202
          ],
          [
           0.7390833059999999
          ],
          [
           0.305761846
          ],
          [
           0.411587673
          ],
          [
           0.063633094
          ],
          [
           0.735409395
          ],
          [
           0.605916669
          ],
          [
           0.539395562
          ],
          [
           0.566183532
          ],
          [
           0.674795186
          ],
          [
           0.070993366
          ],
          [
           0.12526410000000002
          ],
          [
           0.279601492
          ],
          [
           0.952174402
          ],
          [
           0.233806762
          ],
          [
           0.43724742899999997
          ],
          [
           0.925423095
          ],
          [
           0.433498634
          ],
          [
           0.52517902
          ],
          [
           0.088435529
          ],
          [
           0.447677638
          ],
          [
           0.647000631
          ],
          [
           0.9036033370000001
          ],
          [
           0.265790738
          ],
          [
           0.66419695
          ],
          [
           0.498120658
          ],
          [
           0.49018894399999996
          ],
          [
           0.747084187
          ],
          [
           0.906783648
          ],
          [
           0.678770917
          ],
          [
           0.348599859
          ],
          [
           0.294839683
          ],
          [
           0.705691827
          ],
          [
           0.211917931
          ],
          [
           0.063201124
          ],
          [
           0.276699543
          ],
          [
           0.672459395
          ],
          [
           0.8082059490000001
          ],
          [
           0.296538373
          ],
          [
           0.16012686199999998
          ],
          [
           0.439385032
          ],
          [
           0.555951416
          ],
          [
           0.386240112
          ],
          [
           0.158689619
          ],
          [
           0.214499855
          ],
          [
           0.299579429
          ],
          [
           0.569161656
          ],
          [
           0.488614799
          ],
          [
           0.8782950209999999
          ],
          [
           0.649380949
          ],
          [
           0.465713341
          ],
          [
           0.16813774
          ],
          [
           0.87529545
          ],
          [
           0.8411323409999999
          ],
          [
           0.33292081
          ],
          [
           0.5130478589999999
          ],
          [
           0.30505507800000004
          ],
          [
           0.8126269909999999
          ],
          [
           0.25096706
          ],
          [
           0.5024355779999999
          ],
          [
           0.45799074100000003
          ]
         ],
         "hoverlabel": {
          "namelength": 0
         },
         "hovertemplate": "0=%{x}<br>1=%{y}<br>2=%{z}<br>Feature=%{customdata[0]}<br>Label=%{marker.color}",
         "legendgroup": "",
         "marker": {
          "color": [
           0,
           0,
           0,
           1,
           0,
           0,
           0,
           0,
           1,
           1,
           0,
           1,
           0,
           0,
           1,
           0,
           1,
           1,
           1,
           0,
           1,
           0,
           0,
           1,
           1,
           1,
           0,
           0,
           1,
           1,
           0,
           0,
           1,
           1,
           0,
           1,
           1,
           0,
           0,
           0,
           0,
           0,
           0,
           1,
           0,
           0,
           1,
           0,
           1,
           0,
           1,
           1,
           0,
           1,
           0,
           1,
           1,
           0,
           0,
           1,
           0,
           0,
           0,
           1,
           0,
           1,
           1,
           0,
           0,
           0,
           0,
           0,
           0,
           0,
           0,
           0,
           0,
           0,
           0,
           0,
           0,
           0,
           0,
           0,
           0,
           0,
           0,
           0,
           0,
           0,
           0,
           0,
           0,
           0,
           0,
           0,
           0,
           0,
           0,
           0,
           0,
           0,
           0,
           0,
           0,
           0,
           0,
           0,
           0,
           0,
           0,
           0,
           0,
           0,
           0,
           0,
           0,
           0,
           0,
           0,
           0,
           0,
           0,
           0,
           0,
           0,
           0,
           0,
           0,
           0,
           0,
           0,
           0,
           0,
           0,
           0,
           0,
           0,
           0,
           0,
           0,
           0,
           0,
           0,
           0,
           0,
           0,
           0,
           0,
           0,
           0,
           0,
           0,
           0,
           0,
           0,
           0,
           0,
           0,
           0,
           0,
           0,
           0,
           0,
           0,
           0,
           0,
           0,
           0,
           0,
           0,
           0,
           0,
           0,
           0,
           0,
           0,
           0,
           0,
           0,
           0,
           0,
           0,
           0,
           0,
           0,
           0,
           0,
           0,
           0,
           0,
           0,
           0,
           0,
           0,
           0,
           0,
           0,
           0,
           0,
           0,
           0,
           0,
           0,
           0,
           0,
           0,
           0,
           0,
           0,
           0,
           0,
           0,
           0,
           0,
           0,
           0,
           0,
           0,
           0,
           0,
           0,
           0,
           0,
           0,
           0,
           0,
           0,
           0,
           0,
           0,
           0,
           0,
           0,
           0,
           0,
           0,
           0,
           0,
           0,
           0,
           0,
           0,
           0,
           0,
           0,
           0,
           0,
           0,
           0,
           0,
           0,
           0,
           0,
           0,
           0,
           0,
           0,
           0,
           0,
           0,
           0,
           0,
           0,
           0,
           0,
           0,
           0,
           0,
           0,
           0,
           0,
           0,
           0,
           0,
           0,
           0,
           0,
           0,
           0,
           0,
           0,
           0,
           0,
           0,
           0,
           0,
           0,
           0,
           0,
           0,
           0,
           0,
           0,
           0,
           0,
           0,
           0,
           0,
           0,
           0,
           0,
           0,
           0,
           0,
           0,
           0,
           0,
           0,
           0,
           0,
           0,
           0,
           0,
           0,
           0,
           0,
           0,
           0,
           0,
           0,
           0,
           0,
           0,
           0,
           0,
           0,
           0,
           0,
           0,
           0,
           0,
           0,
           0,
           0,
           0,
           0,
           0,
           0,
           0,
           0,
           0,
           0,
           0,
           0,
           0,
           0,
           0,
           0,
           0,
           0,
           0,
           0,
           0,
           0,
           0,
           0,
           0,
           0,
           0,
           0,
           0,
           0,
           0,
           0,
           0,
           0,
           0,
           0,
           0,
           0,
           0,
           0,
           0,
           0,
           0,
           0,
           0,
           0,
           0,
           0,
           0,
           0,
           0,
           0,
           0,
           0,
           0,
           0,
           0,
           0,
           0,
           0,
           0,
           0,
           0,
           0,
           0,
           0,
           0,
           0,
           0,
           0,
           0,
           0,
           0,
           0,
           0,
           0,
           0,
           0,
           0,
           0,
           0,
           0,
           0,
           0,
           0,
           0,
           0,
           0,
           0,
           0,
           0,
           0,
           0,
           0,
           0,
           0,
           0,
           0,
           0,
           0,
           0,
           0,
           0,
           0,
           0,
           0,
           0,
           0,
           0,
           0,
           0,
           0,
           0,
           0,
           0,
           0,
           0,
           0,
           0,
           0,
           0,
           0,
           0,
           0,
           0,
           0,
           0,
           0,
           0,
           0,
           0,
           0,
           0,
           0,
           0,
           0,
           0,
           0,
           0,
           0,
           0,
           0,
           0,
           0,
           0,
           0,
           0,
           0,
           0,
           0,
           0,
           0,
           0,
           0,
           0,
           0,
           0,
           0,
           0,
           0,
           0,
           0,
           0,
           0,
           0,
           0,
           0,
           0,
           0,
           0,
           0,
           0,
           0,
           0,
           0,
           0,
           0,
           0,
           0,
           0,
           0,
           0,
           0,
           0,
           0,
           0,
           0,
           0,
           0,
           0,
           0,
           0,
           0,
           0,
           0,
           0,
           0,
           0,
           0,
           0,
           0,
           0,
           0,
           0,
           0,
           0,
           0,
           0,
           0,
           0,
           0,
           0,
           0,
           0,
           0,
           0,
           0,
           0,
           0,
           0,
           0,
           0,
           0,
           0,
           0,
           0,
           0,
           0,
           0,
           0,
           0,
           0,
           0,
           0,
           0,
           0,
           0,
           0,
           0,
           0,
           0,
           0,
           0,
           0,
           0,
           0,
           0,
           0,
           0,
           0,
           0,
           0,
           0,
           0,
           0,
           0,
           0,
           0,
           0,
           0,
           0,
           0,
           0,
           0,
           0,
           0,
           0,
           0,
           0,
           1,
           0,
           0,
           0,
           0,
           0,
           0,
           0,
           0,
           0,
           0,
           0,
           0,
           0,
           0,
           0,
           0,
           0,
           0,
           0,
           0,
           0,
           0,
           0,
           0,
           0,
           0,
           0,
           0,
           0,
           0,
           0,
           0,
           0,
           0,
           0,
           0,
           0,
           0,
           0,
           0,
           0,
           0,
           0,
           0,
           0,
           0,
           0,
           0,
           0,
           0,
           0,
           0,
           0,
           0,
           0,
           0,
           0,
           0,
           0,
           0,
           0,
           0,
           0,
           0,
           0,
           0,
           0,
           0,
           0,
           0,
           0,
           0,
           0,
           0,
           0,
           0,
           0,
           0,
           0,
           0,
           0,
           0,
           0,
           0,
           0,
           0,
           0,
           0,
           0,
           0,
           0,
           0,
           0,
           0,
           0,
           0,
           0,
           1,
           0,
           1,
           1,
           0,
           1,
           0,
           1,
           1,
           0,
           1,
           0,
           1,
           1,
           1,
           0,
           1,
           1,
           1,
           0,
           1,
           0,
           1,
           1,
           1,
           1,
           0,
           0,
           0,
           0,
           0,
           0,
           0,
           0,
           0,
           0,
           0,
           0,
           0,
           0,
           0,
           0,
           0,
           1,
           0,
           0,
           0,
           0,
           0,
           0,
           0,
           0,
           0,
           0,
           0,
           0,
           0,
           0,
           0,
           0,
           0,
           0,
           0,
           0,
           0,
           0,
           0,
           0,
           0,
           0,
           0,
           0,
           0,
           0,
           0,
           0,
           0,
           0,
           0,
           0,
           0,
           0,
           0,
           0,
           0,
           0,
           0,
           0,
           0,
           0,
           0,
           0,
           0,
           0,
           0,
           0,
           0,
           0,
           0,
           0,
           0,
           0,
           0,
           0,
           0,
           0,
           0,
           0,
           0,
           0,
           0,
           0,
           0,
           0,
           0,
           0,
           0,
           0,
           0,
           0,
           0,
           0,
           0,
           0,
           0,
           0,
           0,
           0,
           0,
           0,
           0,
           0,
           0,
           0,
           0,
           0,
           0,
           0,
           0,
           0,
           0,
           0,
           0,
           0,
           0,
           0,
           0,
           0,
           0,
           0,
           0,
           0,
           0,
           0,
           0,
           0,
           0,
           0,
           0,
           0,
           0,
           0,
           0,
           0,
           0,
           0,
           0,
           0,
           0,
           0,
           0,
           0,
           0,
           0,
           0,
           0,
           0,
           0,
           0,
           0,
           0,
           0,
           0,
           0,
           0,
           0,
           0,
           0,
           0,
           0,
           0,
           0,
           0,
           0,
           0,
           0,
           0,
           0,
           0,
           0,
           0,
           0,
           0,
           0,
           0,
           0,
           0,
           0,
           0,
           0,
           0,
           0,
           0,
           0,
           0,
           0,
           0,
           0,
           0,
           0,
           0,
           0,
           0,
           0,
           0,
           0,
           0,
           0,
           0,
           0,
           0,
           0,
           0,
           0,
           0,
           0,
           0,
           0,
           0,
           0,
           0,
           0,
           0,
           0,
           0,
           0,
           0,
           0,
           0,
           0,
           0,
           0,
           0,
           0,
           0,
           0,
           0,
           0,
           0,
           0,
           0,
           0,
           0,
           0,
           0,
           0,
           0,
           0,
           0,
           0,
           0,
           0,
           0,
           0,
           0,
           0,
           0,
           0,
           0,
           0,
           0,
           0,
           0,
           0,
           0,
           0,
           0,
           0,
           0,
           0,
           0,
           0,
           0,
           0,
           0,
           0,
           0,
           0,
           0,
           0
          ],
          "coloraxis": "coloraxis",
          "opacity": 0.7,
          "symbol": "circle"
         },
         "mode": "markers",
         "name": "",
         "scene": "scene",
         "showlegend": false,
         "type": "scatter3d",
         "x": [
          -8.269231796264648,
          8.584224700927734,
          -7.663759231567383,
          9.228433609008789,
          -5.875944137573242,
          6.785976886749268,
          8.208871841430664,
          10.364275932312012,
          -2.765044689178467,
          -8.97260570526123,
          11.639022827148438,
          -1.3569774627685547,
          12.926532745361328,
          -3.4038212299346924,
          -0.9371085166931152,
          7.798968315124512,
          12.947059631347656,
          3.3903629779815674,
          -8.219573020935059,
          0.19073960185050964,
          6.539032459259033,
          -8.636917114257812,
          -3.4861881732940674,
          -3.2594985961914062,
          3.8218607902526855,
          -5.976996898651123,
          -0.6443252563476562,
          1.2084041833877563,
          3.2052063941955566,
          8.283164024353027,
          -0.499348908662796,
          7.698511123657227,
          -4.246335983276367,
          0.5464089512825012,
          -4.705085277557373,
          -6.944304943084717,
          1.0668784379959106,
          1.452190637588501,
          -10.015955924987793,
          7.4528632164001465,
          -0.30478331446647644,
          3.6705455780029297,
          -0.741085410118103,
          2.7585787773132324,
          1.791756510734558,
          8.545059204101562,
          1.6913257837295532,
          -2.903852939605713,
          -1.154258131980896,
          2.287388563156128,
          13.910593032836914,
          -8.347601890563965,
          -6.10426139831543,
          8.450556755065918,
          7.554512977600098,
          8.079014778137207,
          8.777388572692871,
          4.146949768066406,
          1.3582897186279297,
          -3.0167298316955566,
          2.5110108852386475,
          0.01607687585055828,
          3.4573891162872314,
          4.263902187347412,
          -1.4073681831359863,
          1.5183467864990234,
          1.2899096012115479,
          3.3509461879730225,
          -1.436795711517334,
          6.34816837310791,
          5.293579578399658,
          8.428372383117676,
          -10.249873161315918,
          11.98293685913086,
          -11.372940063476562,
          -10.784341812133789,
          -1.8279489278793335,
          6.027545928955078,
          -14.819719314575195,
          -13.488181114196777,
          -12.682579040527344,
          -13.743289947509766,
          -1.9207521677017212,
          1.1009958982467651,
          5.992140769958496,
          5.505486488342285,
          3.2542080879211426,
          5.950571537017822,
          -2.948350667953491,
          -6.1090216636657715,
          -11.103999137878418,
          11.164604187011719,
          -1.2115511894226074,
          7.473151206970215,
          7.119871139526367,
          4.438427925109863,
          -6.728671073913574,
          3.4182181358337402,
          2.5987024307250977,
          -1.2651678323745728,
          -8.322383880615234,
          2.2929084300994873,
          3.752077341079712,
          -5.7527594566345215,
          3.3220014572143555,
          -9.590788841247559,
          0.3625265955924988,
          3.853621244430542,
          -11.413163185119629,
          5.79757833480835,
          -8.055688858032227,
          -8.279799461364746,
          13.05942440032959,
          -9.386368751525879,
          -5.550990581512451,
          -15.16535758972168,
          10.769362449645996,
          7.5066447257995605,
          10.306116104125977,
          2.830406427383423,
          -15.280156135559082,
          -2.9046497344970703,
          4.145773887634277,
          -0.4133777916431427,
          -2.310939073562622,
          6.2051682472229,
          5.81415319442749,
          8.883777618408203,
          5.868781566619873,
          5.443975448608398,
          -4.258453845977783,
          -6.419130325317383,
          13.325603485107422,
          6.961071014404297,
          3.4541828632354736,
          -9.85218620300293,
          -3.9381959438323975,
          12.08506965637207,
          5.842630863189697,
          1.034832239151001,
          12.096123695373535,
          -5.2963995933532715,
          -5.21049165725708,
          -3.0651025772094727,
          4.0561933517456055,
          -11.72002124786377,
          8.927297592163086,
          2.046952486038208,
          7.134158611297607,
          -0.2785605192184448,
          -7.488698482513428,
          -12.452275276184082,
          1.5745677947998047,
          -4.679757595062256,
          -8.949628829956055,
          -6.20276403427124,
          0.35120293498039246,
          0.1779206544160843,
          -12.666561126708984,
          9.765105247497559,
          10.68366813659668,
          4.2116007804870605,
          -15.369682312011719,
          -15.380168914794922,
          8.426064491271973,
          1.9829840660095215,
          12.36364459991455,
          7.409721374511719,
          -2.544753313064575,
          -1.924249529838562,
          -0.33639171719551086,
          3.558781623840332,
          5.575248718261719,
          -5.839339256286621,
          -0.5837520956993103,
          4.440916061401367,
          6.943533420562744,
          -5.874273777008057,
          7.517531871795654,
          10.407761573791504,
          -0.39172425866127014,
          5.248606204986572,
          8.86722469329834,
          9.185498237609863,
          7.9904656410217285,
          9.934422492980957,
          3.7020678520202637,
          -3.701023817062378,
          -11.762860298156738,
          -13.004060745239258,
          1.9483999013900757,
          -3.9543890953063965,
          11.756738662719727,
          -6.432862281799316,
          8.2738676071167,
          9.949488639831543,
          -0.30053624510765076,
          3.3627474308013916,
          -6.9925923347473145,
          -2.3074417114257812,
          -3.628924608230591,
          0.5926186442375183,
          6.398553371429443,
          -1.5026189088821411,
          -6.667453289031982,
          7.736681938171387,
          -15.280158042907715,
          -3.876671075820923,
          6.285672187805176,
          5.180843830108643,
          -0.207808256149292,
          4.582122325897217,
          4.375204563140869,
          -15.542729377746582,
          -3.0001001358032227,
          -1.0970475673675537,
          5.4388580322265625,
          6.978931427001953,
          4.525481224060059,
          1.105950117111206,
          -7.371452331542969,
          3.7804927825927734,
          -1.7294425964355469,
          -12.455880165100098,
          6.42894172668457,
          -15.408242225646973,
          -2.1895346641540527,
          -10.535850524902344,
          3.1738600730895996,
          3.82137131690979,
          8.65454387664795,
          -1.038050651550293,
          10.83595085144043,
          11.530492782592773,
          5.744410991668701,
          3.2608087062835693,
          3.2719643115997314,
          -12.560606002807617,
          8.658675193786621,
          -6.999091148376465,
          -3.7379069328308105,
          1.597135305404663,
          -4.391176223754883,
          6.091182708740234,
          7.583455562591553,
          5.276838779449463,
          -10.960188865661621,
          -16.07240867614746,
          -2.7883973121643066,
          -3.658496379852295,
          -3.9635512828826904,
          1.4097577333450317,
          8.051651954650879,
          4.162227630615234,
          -10.45850944519043,
          -2.4985477924346924,
          -10.676331520080566,
          5.613551616668701,
          4.169772624969482,
          4.181917190551758,
          -4.985864639282227,
          -3.1522865295410156,
          -5.327613353729248,
          0.3279421627521515,
          -5.123867034912109,
          5.966987609863281,
          12.143183708190918,
          8.88062858581543,
          -11.48452377319336,
          1.8738319873809814,
          2.173110008239746,
          8.874307632446289,
          -12.296232223510742,
          -5.227140426635742,
          8.665651321411133,
          -1.7787604331970215,
          4.306788921356201,
          -4.003586292266846,
          3.1841936111450195,
          -11.702688217163086,
          -1.5657703876495361,
          -4.806221961975098,
          -10.630756378173828,
          -8.397614479064941,
          -4.956390380859375,
          4.195530891418457,
          1.1970888376235962,
          4.300233364105225,
          6.1063618659973145,
          -7.21287202835083,
          -6.547429084777832,
          4.267075538635254,
          0.4233485758304596,
          3.6501998901367188,
          1.1361949443817139,
          12.716275215148926,
          8.191116333007812,
          -16.29945182800293,
          0.6097562909126282,
          -9.577492713928223,
          6.327314853668213,
          6.649490833282471,
          6.09443473815918,
          8.3368558883667,
          5.97143030166626,
          -13.477115631103516,
          2.294947385787964,
          -14.036738395690918,
          -0.1093941479921341,
          8.366944313049316,
          7.794250965118408,
          1.7430274486541748,
          4.406678676605225,
          -6.377976894378662,
          -1.3363564014434814,
          -10.030844688415527,
          -1.9365313053131104,
          7.154880046844482,
          -13.695805549621582,
          7.210635185241699,
          5.845460891723633,
          -12.430593490600586,
          9.484369277954102,
          4.1838250160217285,
          -17.126752853393555,
          -9.140501022338867,
          10.872239112854004,
          11.708822250366211,
          -0.8949074745178223,
          7.252077579498291,
          9.112441062927246,
          5.7284955978393555,
          -1.8913644552230835,
          -8.102563858032227,
          5.709972381591797,
          -1.7003053426742554,
          5.435799598693848,
          -9.765029907226562,
          4.052602767944336,
          4.600599765777588,
          -10.586318016052246,
          -11.507863998413086,
          10.576313018798828,
          -3.834137201309204,
          10.273781776428223,
          -1.2998933792114258,
          6.662835121154785,
          1.8182264566421509,
          9.374720573425293,
          6.379971981048584,
          1.3324311971664429,
          -11.644510269165039,
          4.404057502746582,
          8.528030395507812,
          1.2239140272140503,
          -10.904605865478516,
          -4.922823429107666,
          5.326488018035889,
          4.995155334472656,
          -7.740344524383545,
          6.985394477844238,
          3.0930163860321045,
          -1.0394625663757324,
          -0.4809480309486389,
          9.771930694580078,
          -15.673929214477539,
          6.792940139770508,
          8.366883277893066,
          5.353720188140869,
          3.92978835105896,
          -0.04276032745838165,
          -3.6112780570983887,
          -2.4472546577453613,
          -0.13477332890033722,
          9.427022933959961,
          -1.582643747329712,
          -13.2024564743042,
          6.940718650817871,
          7.670010566711426,
          -6.780560493469238,
          9.96396541595459,
          -0.4917093813419342,
          -11.705577850341797,
          -11.26709270477295,
          6.210731029510498,
          -6.62807035446167,
          0.4325408637523651,
          -0.17101392149925232,
          -1.58845853805542,
          -8.32232666015625,
          0.32288870215415955,
          -7.447351932525635,
          -12.69735336303711,
          -12.507255554199219,
          4.847607135772705,
          8.618254661560059,
          -9.424151420593262,
          7.492541313171387,
          -9.476507186889648,
          -10.71707534790039,
          2.5916168689727783,
          -0.34638404846191406,
          1.9353840351104736,
          8.476156234741211,
          9.270423889160156,
          9.106705665588379,
          -3.8483126163482666,
          -2.0894415378570557,
          10.753912925720215,
          4.969842910766602,
          5.414517879486084,
          -5.709371566772461,
          3.755129337310791,
          -14.592299461364746,
          4.689104080200195,
          -0.8483864665031433,
          5.1175432205200195,
          7.262224197387695,
          12.052863121032715,
          -0.9471228122711182,
          -8.219975471496582,
          0.21970203518867493,
          3.4617996215820312,
          6.909145832061768,
          -1.9965287446975708,
          4.545406341552734,
          8.102499961853027,
          6.667710781097412,
          -9.414783477783203,
          -1.4707255363464355,
          -14.818812370300293,
          9.940702438354492,
          1.111757516860962,
          7.2368693351745605,
          4.654579162597656,
          0.23744292557239532,
          4.757687091827393,
          -1.9213588237762451,
          -12.149334907531738,
          -6.3186845779418945,
          -10.061870574951172,
          -15.550834655761719,
          -6.096996307373047,
          0.2956051826477051,
          -1.8041841983795166,
          7.132782936096191,
          6.341856479644775,
          -3.1444156169891357,
          -3.165508985519409,
          6.329944610595703,
          -0.11305908858776093,
          -3.7983908653259277,
          -1.0100769996643066,
          -13.931329727172852,
          12.049835205078125,
          6.187582969665527,
          -2.7714781761169434,
          -4.188192367553711,
          -14.439287185668945,
          -11.67082691192627,
          6.333920001983643,
          -4.582244873046875,
          0.572787344455719,
          -11.275948524475098,
          -1.3545054197311401,
          -11.414983749389648,
          -11.083086013793945,
          7.21019172668457,
          2.392784833908081,
          -2.9692132472991943,
          -15.234734535217285,
          5.2208476066589355,
          2.329101085662842,
          -11.124475479125977,
          -1.5542482137680054,
          7.925480365753174,
          9.326004981994629,
          5.961574554443359,
          -8.003586769104004,
          6.4992876052856445,
          -0.5508203506469727,
          0.49252191185951233,
          5.490151405334473,
          0.32506805658340454,
          10.486795425415039,
          -0.39676305651664734,
          2.3636300563812256,
          -10.003737449645996,
          -9.811410903930664,
          -7.566985607147217,
          -15.982486724853516,
          12.281253814697266,
          5.327674865722656,
          5.3362956047058105,
          -3.9814159870147705,
          8.191570281982422,
          4.676506519317627,
          10.766669273376465,
          -3.921487808227539,
          -5.985668659210205,
          5.824173927307129,
          0.6810488700866699,
          -8.729228019714355,
          -2.7467589378356934,
          -9.478216171264648,
          -6.852450847625732,
          -13.298015594482422,
          1.151200532913208,
          -10.310376167297363,
          4.229201793670654,
          -4.818915843963623,
          0.2548636496067047,
          1.2005056142807007,
          4.732885360717773,
          -15.073371887207031,
          -3.9393742084503174,
          -3.5201940536499023,
          -13.858856201171875,
          1.1417502164840698,
          2.3613874912261963,
          -9.921344757080078,
          -0.27881643176078796,
          4.52716588973999,
          -0.3021987974643707,
          4.289376735687256,
          10.947603225708008,
          -11.266810417175293,
          6.6642231941223145,
          -1.0522021055221558,
          -11.23905086517334,
          3.5174551010131836,
          6.1691179275512695,
          11.616738319396973,
          0.20917187631130219,
          11.340810775756836,
          7.475433349609375,
          5.30149507522583,
          -0.9944496154785156,
          -4.9979071617126465,
          2.3228726387023926,
          2.081709623336792,
          8.481371879577637,
          5.177631855010986,
          7.5135884284973145,
          2.4473683834075928,
          13.83376693725586,
          -11.250760078430176,
          9.0271577835083,
          7.623138427734375,
          -10.799328804016113,
          -5.402102470397949,
          -9.614897727966309,
          -3.548201084136963,
          -12.539457321166992,
          -2.272144079208374,
          8.180437088012695,
          11.118700981140137,
          -11.205217361450195,
          11.735307693481445,
          -2.549610137939453,
          -0.11036371439695358,
          4.34969425201416,
          -1.8693121671676636,
          9.267388343811035,
          1.9965331554412842,
          -14.28574275970459,
          1.4779483079910278,
          0.6943387389183044,
          7.558931827545166,
          10.302355766296387,
          -9.20296573638916,
          11.149752616882324,
          9.10075855255127,
          6.121679306030273,
          8.453039169311523,
          6.637612819671631,
          7.324695110321045,
          6.265628814697266,
          -8.762215614318848,
          -16.213197708129883,
          -8.41146183013916,
          -15.533087730407715,
          -0.7928234338760376,
          7.538484573364258,
          -0.2195783108472824,
          -15.264144897460938,
          -10.574605941772461,
          -2.660172939300537,
          8.106059074401855,
          6.717937469482422,
          0.35238444805145264,
          -2.7685184478759766,
          -2.917656660079956,
          8.872480392456055,
          1.4574049711227417,
          -5.3153252601623535,
          9.327016830444336,
          4.69181489944458,
          5.7984418869018555,
          -0.25910085439682007,
          11.522452354431152,
          -3.125325918197632,
          3.555915355682373,
          8.959700584411621,
          7.580269813537598,
          6.056249141693115,
          11.250422477722168,
          4.155102729797363,
          2.8536596298217773,
          5.260754108428955,
          4.213226318359375,
          -5.8056440353393555,
          -10.358112335205078,
          -11.105698585510254,
          -10.29049301147461,
          -2.001150608062744,
          -1.4550693035125732,
          -3.6645054817199707,
          -2.211310625076294,
          -11.19916820526123,
          -1.2095495462417603,
          -5.096130847930908,
          -4.3504109382629395,
          0.7336880564689636,
          -0.6830942630767822,
          8.159074783325195,
          10.224244117736816,
          -5.592891693115234,
          -1.4400819540023804,
          -11.699420928955078,
          -4.951290607452393,
          3.6707262992858887,
          -12.712209701538086,
          -1.0729564428329468,
          -6.016820907592773,
          -5.290566921234131,
          -5.462753772735596,
          -0.7701065540313721,
          11.635652542114258,
          1.827350378036499,
          -6.800731658935547,
          5.31338357925415,
          9.668581008911133,
          -5.6573944091796875,
          4.019181251525879,
          -15.86931037902832,
          -3.846242666244507,
          -9.819090843200684,
          4.056652545928955,
          -12.39184284210205,
          -2.204617738723755,
          1.4969482421875,
          -0.2431987226009369,
          12.616653442382812,
          4.247597694396973,
          5.052153587341309,
          -1.468129277229309,
          -9.318381309509277,
          -1.1300543546676636,
          6.147966384887695,
          6.721412181854248,
          -5.164345741271973,
          -1.5614925622940063,
          -9.193488121032715,
          8.64413070678711,
          3.5336251258850098,
          11.847980499267578,
          7.101409435272217,
          3.214078426361084,
          3.174513339996338,
          1.369504690170288,
          -11.014579772949219,
          -3.2769618034362793,
          0.6968969106674194,
          8.51194953918457,
          -4.711497783660889,
          6.716985702514648,
          12.872750282287598,
          8.225138664245605,
          6.950552940368652,
          -2.4125492572784424,
          -0.6229152083396912,
          -11.318774223327637,
          5.740163326263428,
          -0.8174710869789124,
          3.432307243347168,
          -12.153809547424316,
          0.8508336544036865,
          11.315665245056152,
          7.845158100128174,
          3.3179070949554443,
          7.3746724128723145,
          4.225054740905762,
          1.4816631078720093,
          13.247884750366211,
          11.28925895690918,
          -7.948521137237549,
          -15.420650482177734,
          -11.994136810302734,
          3.0421431064605713,
          -3.4436986446380615,
          -5.209438323974609,
          -3.4175848960876465,
          3.1725704669952393,
          -10.442549705505371,
          7.920933723449707,
          11.017333984375,
          5.261281490325928,
          -2.5308778285980225,
          3.160369396209717,
          0.8614965081214905,
          -0.15329904854297638,
          -1.5624173879623413,
          -5.8410725593566895,
          1.5332812070846558,
          9.221887588500977,
          6.658355712890625,
          9.253775596618652,
          1.6827737092971802,
          -1.2467249631881714,
          -8.200922966003418,
          11.112146377563477,
          2.3509790897369385,
          -8.350546836853027,
          2.115434169769287,
          -4.202823162078857,
          5.584868431091309,
          11.563047409057617,
          9.285945892333984,
          6.25455379486084,
          0.062380194664001465,
          -2.0597407817840576,
          0.3736574351787567,
          4.328649997711182,
          -2.2108240127563477,
          11.285652160644531,
          -15.100411415100098,
          -16.2076358795166,
          -15.621082305908203,
          2.927000045776367,
          0.3508332371711731,
          -8.190865516662598,
          -9.228734970092773,
          5.176769256591797,
          -9.495200157165527,
          -16.141321182250977,
          -16.254871368408203,
          12.738286018371582,
          -4.760721683502197,
          6.143303394317627,
          7.747075080871582,
          -3.0737404823303223,
          7.458829879760742,
          8.334338188171387,
          -1.8881200551986694,
          -6.16230583190918,
          -13.509048461914062,
          -2.8965370655059814,
          4.651449680328369,
          1.179979920387268,
          8.407346725463867,
          -3.1511497497558594,
          -2.7143025398254395,
          5.015546798706055,
          -9.511106491088867,
          8.641539573669434,
          9.181682586669922,
          -3.3454689979553223,
          7.279047012329102,
          -4.036792755126953,
          -13.172749519348145,
          -7.399111270904541,
          -1.1466342210769653,
          8.426734924316406,
          -9.226476669311523,
          -2.4604172706604004,
          -1.322504997253418,
          -2.1129348278045654,
          -12.618663787841797,
          -10.539463996887207,
          -13.730793952941895,
          9.03438949584961,
          4.050119876861572,
          -7.0181779861450195,
          -16.478992462158203,
          7.058104991912842,
          -1.669540286064148,
          8.90735149383545,
          -14.940567970275879,
          -15.575408935546875,
          9.953892707824707,
          -12.068581581115723,
          3.6876220703125,
          -12.853285789489746,
          9.06121826171875,
          9.112383842468262,
          -3.798887014389038,
          -3.587679386138916,
          -14.174286842346191,
          1.4758657217025757,
          -1.7649638652801514,
          -0.9246375560760498,
          -0.8150157928466797,
          8.474540710449219,
          -7.048518180847168,
          2.774810791015625,
          -3.692382335662842,
          7.467014789581299,
          12.450339317321777,
          -0.10751058906316757,
          -2.252610206604004,
          6.0477423667907715,
          -12.869783401489258,
          -8.102548599243164,
          4.6342291831970215,
          -3.0571820735931396,
          3.4521327018737793,
          8.355562210083008,
          6.2820963859558105,
          9.641891479492188,
          9.392743110656738,
          -6.101236343383789,
          -16.379289627075195,
          4.626924514770508,
          0.5953204035758972,
          5.743165016174316,
          12.32493782043457,
          -14.288780212402344,
          -11.923054695129395,
          5.37471866607666,
          8.50420093536377,
          -8.145846366882324,
          4.017453670501709,
          5.107692241668701,
          -4.7108025550842285,
          7.202296733856201,
          -1.467370629310608,
          -4.334510803222656,
          8.665670394897461,
          -3.516017436981201,
          -14.424259185791016,
          -5.767455577850342,
          9.788312911987305,
          3.419623613357544,
          7.1534104347229,
          10.914387702941895,
          4.318727970123291,
          -14.602646827697754,
          -7.101626396179199,
          -2.414245843887329,
          10.969374656677246,
          -10.453800201416016,
          -3.8852269649505615,
          -14.713579177856445,
          -1.1108238697052002,
          1.982350468635559,
          -0.33038249611854553,
          13.781731605529785,
          -15.236929893493652,
          3.980114221572876,
          -8.977944374084473,
          -14.324614524841309,
          -3.2534279823303223,
          -16.4010066986084,
          1.9760942459106445,
          11.901390075683594,
          7.88568639755249,
          -15.415736198425293,
          7.981134414672852,
          -5.305787086486816,
          7.05380392074585,
          -5.067224025726318,
          3.5553202629089355,
          -6.758383750915527,
          8.202012062072754,
          -2.76562762260437,
          5.064115047454834,
          -1.8061518669128418,
          -7.4366278648376465,
          -5.406018257141113,
          -5.976905822753906,
          -16.562294006347656,
          -10.85519027709961,
          8.31279182434082,
          7.7528605461120605,
          12.952034950256348,
          -10.51877498626709,
          0.3197327256202698,
          -9.906861305236816,
          3.6895945072174072,
          -2.179102659225464,
          7.873234272003174,
          -1.6236586570739746,
          -10.369854927062988,
          9.275744438171387,
          -13.346002578735352,
          -10.128094673156738,
          4.473775863647461,
          -1.5617070198059082,
          2.8496274948120117,
          4.2481818199157715,
          -2.9968419075012207,
          -3.080015182495117,
          8.174994468688965,
          -17.22660255432129,
          -1.8875908851623535,
          8.43922233581543,
          6.73006534576416,
          -1.259562373161316,
          -12.539594650268555,
          1.4127490520477295,
          -2.408827781677246,
          -1.3118599653244019,
          -11.485801696777344,
          3.217926263809204,
          -5.439810276031494,
          -6.445191383361816,
          4.613778114318848,
          13.284623146057129,
          12.216634750366211,
          -9.614750862121582,
          13.225934982299805,
          3.213670492172241,
          -11.627370834350586,
          2.2515249252319336,
          -7.049195766448975,
          8.848006248474121,
          -7.490948677062988,
          0.6991767287254333,
          2.1595511436462402,
          -4.754460334777832,
          -4.0463032722473145,
          2.7235374450683594,
          6.927477836608887,
          8.290069580078125,
          -1.6085809469223022,
          -6.549159526824951,
          -5.6581034660339355,
          7.568316459655762,
          9.965238571166992,
          -3.3238871097564697,
          -3.918175458908081,
          -15.200048446655273,
          11.702014923095703,
          -14.614665031433105,
          3.5374369621276855,
          -16.07427406311035,
          -12.83785343170166,
          3.332280397415161,
          9.560887336730957,
          -7.534402370452881,
          -1.323807954788208,
          8.446739196777344,
          10.33981990814209,
          -0.5494471192359924,
          5.142861366271973,
          13.015725135803223,
          4.950841903686523,
          5.178673267364502,
          -2.9438533782958984,
          8.047406196594238,
          -0.1090676411986351,
          -6.03535270690918,
          -14.357856750488281,
          -8.996904373168945,
          0.7636088132858276,
          3.4407520294189453,
          -11.781143188476562,
          3.420396566390991,
          -2.3685076236724854,
          4.828761100769043,
          -16.336626052856445,
          -10.749412536621094,
          -5.460113048553467,
          -12.315245628356934,
          5.582312107086182,
          6.362596035003662,
          5.161628723144531,
          0.35248008370399475,
          8.794479370117188,
          3.9420857429504395,
          -8.155091285705566,
          -16.633588790893555,
          9.280797958374023,
          5.987960338592529,
          -0.7515425682067871,
          -2.2752599716186523,
          7.848535060882568,
          10.673383712768555,
          -0.7662317752838135,
          9.19636344909668,
          -12.627791404724121,
          -16.306642532348633,
          -5.475742340087891,
          5.054011821746826,
          -8.451103210449219,
          3.0267534255981445,
          -14.80217456817627,
          7.330168724060059,
          -1.6480638980865479
         ],
         "y": [
          1.2574995756149292,
          3.1649742126464844,
          4.7885661125183105,
          0.8451601266860962,
          -0.4212431013584137,
          0.29328984022140503,
          -4.73559045791626,
          8.66010856628418,
          5.925663948059082,
          -6.601105690002441,
          9.295271873474121,
          -0.1331414431333542,
          -0.5355154275894165,
          -2.327423572540283,
          6.1844563484191895,
          1.5114692449569702,
          -0.47391122579574585,
          -1.705798864364624,
          5.943780899047852,
          -1.7648733854293823,
          0.03208538517355919,
          -4.678508758544922,
          -1.4041732549667358,
          5.46353816986084,
          2.822002410888672,
          -5.958336353302002,
          -1.0475351810455322,
          4.025031566619873,
          9.645734786987305,
          5.893579959869385,
          4.897848606109619,
          2.197478771209717,
          -3.882481813430786,
          7.506389617919922,
          -2.3154807090759277,
          -5.215219020843506,
          -2.708895444869995,
          4.093941688537598,
          -3.086078405380249,
          3.32954740524292,
          -6.7827959060668945,
          6.349148750305176,
          -0.5977404713630676,
          0.6451285481452942,
          5.317502498626709,
          1.1797459125518799,
          6.321743011474609,
          5.429698944091797,
          -0.38039806485176086,
          -2.272575616836548,
          6.400982856750488,
          7.037015438079834,
          -3.1038222312927246,
          1.3316413164138794,
          0.18599744141101837,
          -1.5601763725280762,
          0.48468881845474243,
          -1.1545326709747314,
          7.411020755767822,
          5.836050510406494,
          -0.6568015813827515,
          -3.888455629348755,
          2.546984910964966,
          6.567984580993652,
          -1.7944927215576172,
          6.815427303314209,
          -5.958004951477051,
          -2.4790515899658203,
          -0.06368011236190796,
          4.558018207550049,
          8.822436332702637,
          5.151329040527344,
          -1.223138689994812,
          2.9884419441223145,
          -7.495184421539307,
          -3.0112807750701904,
          3.1441726684570312,
          4.251981735229492,
          -9.688397407531738,
          -6.603613376617432,
          -6.48702335357666,
          -1.3712435960769653,
          -0.5285940170288086,
          -2.9608089923858643,
          -1.8530043363571167,
          4.9661478996276855,
          -0.4030800461769104,
          -4.166969299316406,
          1.8557018041610718,
          -3.1596765518188477,
          -4.543260097503662,
          7.0380401611328125,
          0.8894167542457581,
          -5.193772315979004,
          -0.6117177605628967,
          3.5728209018707275,
          -2.057387590408325,
          3.8021674156188965,
          -4.3143534660339355,
          2.236837148666382,
          -1.199221134185791,
          -3.492856502532959,
          3.805382251739502,
          -4.790204048156738,
          4.524499416351318,
          -3.1185457706451416,
          -4.549905776977539,
          0.4011574983596802,
          -7.260173797607422,
          5.282097339630127,
          -4.417728424072266,
          -1.359174370765686,
          6.973880767822266,
          -4.220591068267822,
          2.2795140743255615,
          -2.8231778144836426,
          -3.7604734897613525,
          -5.518028736114502,
          1.6234745979309082,
          -5.678361415863037,
          -3.5700843334198,
          3.3335647583007812,
          4.275423526763916,
          -2.6699674129486084,
          -4.412205219268799,
          2.9277069568634033,
          -0.43476563692092896,
          2.6949591636657715,
          -0.8871085047721863,
          3.0682857036590576,
          0.25560370087623596,
          -2.564422845840454,
          6.087514400482178,
          -2.615384101867676,
          -3.834073305130005,
          -0.45218625664711,
          -0.10629448294639587,
          3.7033779621124268,
          1.9639431238174438,
          1.3998098373413086,
          4.115024089813232,
          -4.719888210296631,
          -4.764161586761475,
          -0.2056901901960373,
          -6.053607940673828,
          -5.007711887359619,
          7.07974910736084,
          -4.456348419189453,
          2.1087758541107178,
          -1.9949095249176025,
          -4.534533500671387,
          -4.022826671600342,
          6.028454780578613,
          -5.882065773010254,
          -3.3010191917419434,
          -2.175400733947754,
          -2.0405850410461426,
          -4.176114082336426,
          -6.993432521820068,
          1.8659759759902954,
          -3.181609869003296,
          -2.0440680980682373,
          -5.442149639129639,
          -9.455257415771484,
          2.1721103191375732,
          -3.5703446865081787,
          3.603344440460205,
          8.9940824508667,
          3.9116592407226562,
          -5.167539119720459,
          -4.744909763336182,
          5.044776439666748,
          2.7070534229278564,
          1.7979259490966797,
          -1.938015103340149,
          -3.972118854522705,
          1.0436958074569702,
          2.5525970458984375,
          2.1717638969421387,
          3.3945772647857666,
          3.983286142349243,
          6.21221399307251,
          1.555586814880371,
          7.536632537841797,
          8.156859397888184,
          -4.777719497680664,
          3.729311466217041,
          -0.4363018274307251,
          -4.4405951499938965,
          -3.517317771911621,
          -4.251938819885254,
          0.24446582794189453,
          7.805286884307861,
          2.3308396339416504,
          -1.2753616571426392,
          -3.071659803390503,
          3.5787644386291504,
          5.95515775680542,
          -0.7946031093597412,
          -3.9118154048919678,
          2.236416816711426,
          -0.23364059627056122,
          -2.0267457962036133,
          -0.5466752052307129,
          3.552809476852417,
          1.9566831588745117,
          -6.975596904754639,
          1.8816025257110596,
          6.208275318145752,
          0.16007038950920105,
          -2.550157070159912,
          1.7152963876724243,
          5.189509868621826,
          -1.894663691520691,
          3.360361099243164,
          2.365246534347534,
          0.6863841414451599,
          3.3363614082336426,
          4.925160884857178,
          2.625093698501587,
          3.739996910095215,
          1.0316615104675293,
          0.5582904815673828,
          -8.347168922424316,
          -1.4952921867370605,
          -5.849307060241699,
          -2.0698647499084473,
          -5.51876974105835,
          -4.672268867492676,
          -1.064120888710022,
          -3.1230390071868896,
          0.7301025986671448,
          3.808628559112549,
          3.57596492767334,
          -4.982348918914795,
          0.7683079838752747,
          1.0968730449676514,
          -2.964611768722534,
          2.955487012863159,
          2.438983917236328,
          1.896752953529358,
          3.1039233207702637,
          2.948435068130493,
          -1.4365911483764648,
          7.244053363800049,
          -1.7526615858078003,
          -2.945155143737793,
          -8.270986557006836,
          -2.487089157104492,
          -0.9104633331298828,
          -5.298840522766113,
          4.244080066680908,
          4.732198238372803,
          -2.3352017402648926,
          -3.798637628555298,
          3.587226629257202,
          -0.2801096737384796,
          -3.8854525089263916,
          -0.6949188709259033,
          -6.099595546722412,
          1.8332473039627075,
          -1.7480717897415161,
          0.30177971720695496,
          4.618735313415527,
          -4.962427139282227,
          -1.04262375831604,
          5.099916934967041,
          -1.5701502561569214,
          -6.992766380310059,
          6.457263469696045,
          1.2605407238006592,
          -0.9662033319473267,
          -0.6877596378326416,
          2.132384777069092,
          1.402755856513977,
          -5.000548839569092,
          3.0890910625457764,
          0.3462902307510376,
          0.559108555316925,
          -4.161195278167725,
          -2.2589871883392334,
          2.076785087585449,
          -5.035065650939941,
          -2.072003126144409,
          2.6391563415527344,
          2.804210662841797,
          -3.720271587371826,
          0.928422212600708,
          -3.1829349994659424,
          0.06447160243988037,
          -4.686436176300049,
          -0.8455142378807068,
          -4.399792194366455,
          1.853615403175354,
          -2.656499147415161,
          4.824409484863281,
          6.014191150665283,
          -8.254462242126465,
          -2.0459582805633545,
          -1.0728275775909424,
          4.835745811462402,
          -4.665966987609863,
          6.392711639404297,
          6.908602237701416,
          4.786233901977539,
          -6.1954240798950195,
          3.024750232696533,
          -5.219775199890137,
          -5.777952671051025,
          7.828090667724609,
          7.977126121520996,
          -5.8538432121276855,
          5.741983413696289,
          2.166442632675171,
          2.4684019088745117,
          0.8075318336486816,
          -4.882786273956299,
          -2.2314565181732178,
          -7.2912797927856445,
          -1.620003581047058,
          4.814786434173584,
          -3.5473861694335938,
          4.628493309020996,
          2.408083438873291,
          -4.759128093719482,
          -3.9697961807250977,
          4.4971184730529785,
          6.271973609924316,
          2.606518030166626,
          4.816903591156006,
          -1.7530125379562378,
          2.083613872528076,
          -3.722259998321533,
          -2.5716681480407715,
          -3.9643290042877197,
          2.7461600303649902,
          2.3254783153533936,
          0.14018172025680542,
          4.015199661254883,
          1.117922067642212,
          0.5791078805923462,
          -7.068759918212891,
          1.5216169357299805,
          -5.937749862670898,
          7.808794975280762,
          1.1677632331848145,
          -2.5367801189422607,
          -6.510153770446777,
          2.6828577518463135,
          2.2080342769622803,
          4.478176593780518,
          -0.47155559062957764,
          -6.483834266662598,
          -0.505048394203186,
          -3.743608236312866,
          -7.256747722625732,
          -2.1792049407958984,
          1.3956571817398071,
          4.468381404876709,
          -5.573665142059326,
          3.7615067958831787,
          2.648486375808716,
          0.5815207958221436,
          -4.487796783447266,
          4.062723636627197,
          -5.618696689605713,
          5.213955402374268,
          -4.9269232749938965,
          -3.868252754211426,
          -0.37171706557273865,
          -0.9903628826141357,
          1.9657622575759888,
          2.0188467502593994,
          4.07843017578125,
          4.4923810958862305,
          -2.1428303718566895,
          -6.330002784729004,
          4.787236213684082,
          -1.3574373722076416,
          -4.8444085121154785,
          3.6574580669403076,
          0.6444917321205139,
          -5.534244537353516,
          -0.8317029476165771,
          3.439211845397949,
          -1.2505816221237183,
          -4.526981830596924,
          -3.1060054302215576,
          -3.3199477195739746,
          -2.4596805572509766,
          -2.518400192260742,
          -2.2489099502563477,
          -2.1686184406280518,
          -3.6846683025360107,
          -4.903203010559082,
          -0.6961957216262817,
          -2.9417357444763184,
          6.978002071380615,
          -3.1377828121185303,
          -3.17653226852417,
          -5.667957305908203,
          -1.516850471496582,
          -5.709254741668701,
          2.15381121635437,
          7.668584823608398,
          -2.3231613636016846,
          4.43771505355835,
          0.3949141204357147,
          1.6155604124069214,
          6.695379734039307,
          1.2155086994171143,
          -3.6091630458831787,
          6.049413681030273,
          -6.263586521148682,
          -1.578758716583252,
          0.07690680772066116,
          -3.5549051761627197,
          -0.11083145439624786,
          5.983950138092041,
          1.3960518836975098,
          -2.5013742446899414,
          1.9220796823501587,
          0.8646541833877563,
          3.891016960144043,
          3.878274440765381,
          -3.089702844619751,
          -3.4409823417663574,
          4.95762825012207,
          -0.6933889389038086,
          3.2034099102020264,
          -2.46950364112854,
          -4.539248466491699,
          -3.430368661880493,
          4.834964275360107,
          8.171403884887695,
          4.707444667816162,
          -4.8277907371521,
          1.463992714881897,
          -7.715483665466309,
          4.0549492835998535,
          -3.4954824447631836,
          -9.105783462524414,
          3.0928187370300293,
          2.5864131450653076,
          1.1486483812332153,
          1.5449506044387817,
          7.35064172744751,
          -4.813316822052002,
          0.4873042106628418,
          7.680852890014648,
          -1.9346834421157837,
          0.29732030630111694,
          -2.5992372035980225,
          -6.382037162780762,
          6.926785945892334,
          -0.6461809873580933,
          -1.5932646989822388,
          0.5745271444320679,
          -9.23756217956543,
          -1.7629985809326172,
          3.927504539489746,
          3.626065492630005,
          -0.0004387464141473174,
          -8.309468269348145,
          4.1203813552856445,
          -4.606619834899902,
          -7.070508003234863,
          8.681894302368164,
          -3.6979312896728516,
          3.1274123191833496,
          -4.2728729248046875,
          -6.853110313415527,
          -0.1812872588634491,
          -2.0245883464813232,
          -1.8227342367172241,
          -1.9942138195037842,
          -2.616452693939209,
          3.2267043590545654,
          0.6091427206993103,
          0.2775072753429413,
          -4.908595085144043,
          -2.481829881668091,
          5.165558815002441,
          2.3524885177612305,
          -4.091604709625244,
          1.9202901124954224,
          5.597540378570557,
          -0.14189869165420532,
          -0.000774378189817071,
          1.5046864748001099,
          -6.705361843109131,
          5.5192790031433105,
          0.9057972431182861,
          6.730281829833984,
          3.0279645919799805,
          7.143444061279297,
          6.285896301269531,
          3.1182193756103516,
          -4.30949068069458,
          -1.8750940561294556,
          1.6976028680801392,
          4.082698345184326,
          -4.745564937591553,
          2.389019250869751,
          -0.33867669105529785,
          1.4938385486602783,
          -9.088973999023438,
          -6.585176467895508,
          -0.39798784255981445,
          5.955057144165039,
          0.8905071020126343,
          -4.845761775970459,
          3.853292226791382,
          1.767485499382019,
          -8.934357643127441,
          -5.728476524353027,
          -5.49153995513916,
          -9.503010749816895,
          4.436121463775635,
          3.89365553855896,
          -1.3419326543807983,
          -0.1915551722049713,
          1.035555362701416,
          2.5964388847351074,
          4.2196550369262695,
          -2.80114483833313,
          -0.15155574679374695,
          -4.6033220291137695,
          -1.7208726406097412,
          1.2862887382507324,
          3.740185022354126,
          4.904591083526611,
          2.2935962677001953,
          -0.46094751358032227,
          4.73404598236084,
          7.655994415283203,
          6.7987961769104,
          0.02377648465335369,
          -0.3989652991294861,
          6.3806633949279785,
          2.8110978603363037,
          4.283937931060791,
          1.4462136030197144,
          1.4799513816833496,
          -6.219715118408203,
          3.8955183029174805,
          -4.218023300170898,
          4.431227207183838,
          6.744265079498291,
          -4.895519733428955,
          -4.067845344543457,
          -2.5802855491638184,
          2.482919216156006,
          -6.977322578430176,
          -4.553537845611572,
          0.8750059604644775,
          1.7875550985336304,
          -6.64058780670166,
          5.385183334350586,
          3.6611642837524414,
          2.176684617996216,
          5.35598611831665,
          -5.191001892089844,
          7.617569446563721,
          -4.395852088928223,
          -8.054503440856934,
          -2.5333199501037598,
          3.8888111114501953,
          8.59697151184082,
          6.825447082519531,
          0.17125491797924042,
          5.893015384674072,
          8.125762939453125,
          2.1922035217285156,
          3.130009889602661,
          8.204540252685547,
          -0.3490341603755951,
          -4.05009126663208,
          -1.3825374841690063,
          -3.699993133544922,
          -1.8175899982452393,
          -5.396078109741211,
          4.203418254852295,
          -0.9430577754974365,
          -5.756349086761475,
          -7.095130443572998,
          1.376608967781067,
          -0.8547582626342773,
          -2.8563597202301025,
          5.039856433868408,
          -0.8974299430847168,
          -4.831133842468262,
          3.1096291542053223,
          8.022643089294434,
          1.9294573068618774,
          -4.5413007736206055,
          6.227077960968018,
          5.595739841461182,
          4.163018703460693,
          2.498504638671875,
          2.75895619392395,
          2.9318292140960693,
          5.918137073516846,
          -4.341084957122803,
          5.097721099853516,
          1.745350956916809,
          6.963679790496826,
          2.5513923168182373,
          -5.118162631988525,
          4.103130340576172,
          0.7228888869285583,
          -3.3718934059143066,
          -2.402928590774536,
          0.48002326488494873,
          -7.1776204109191895,
          -5.299658298492432,
          4.146209239959717,
          2.5051488876342773,
          -4.61429500579834,
          1.1406017541885376,
          1.6819809675216675,
          -3.7710366249084473,
          -5.3490891456604,
          4.321558952331543,
          3.1556265354156494,
          9.667054176330566,
          -3.6004323959350586,
          2.3054521083831787,
          0.9595191478729248,
          -8.488421440124512,
          -1.6581802368164062,
          5.05221700668335,
          -8.907657623291016,
          -0.32604461908340454,
          -2.8928749561309814,
          -0.6080712080001831,
          -3.0325911045074463,
          1.5821075439453125,
          6.976624488830566,
          1.0212920904159546,
          3.6570329666137695,
          0.06229208782315254,
          -3.0161311626434326,
          -4.531128883361816,
          2.615867853164673,
          -6.536486625671387,
          3.975529193878174,
          -1.902160882949829,
          4.062795162200928,
          -1.5142624378204346,
          -2.006138324737549,
          -2.623683214187622,
          1.320911169052124,
          4.1111321449279785,
          -3.265364646911621,
          2.2915799617767334,
          1.077642560005188,
          -1.7539108991622925,
          -2.1463241577148438,
          4.98975944519043,
          7.734884738922119,
          -2.808811902999878,
          3.9108030796051025,
          -0.12055092304944992,
          4.573574542999268,
          0.9712569117546082,
          2.6283717155456543,
          -2.4429731369018555,
          6.162927627563477,
          -3.400876760482788,
          1.9313732385635376,
          -6.57636022567749,
          -5.4986138343811035,
          0.6086223125457764,
          1.8710740804672241,
          -3.7112059593200684,
          1.0578022003173828,
          5.363527774810791,
          4.976143836975098,
          -2.678107261657715,
          3.8709559440612793,
          -1.2747644186019897,
          0.2439860850572586,
          2.609776258468628,
          -6.604149341583252,
          -3.059814929962158,
          -4.402342319488525,
          -6.605468273162842,
          7.811023235321045,
          8.788739204406738,
          3.3981618881225586,
          7.670685291290283,
          5.789413928985596,
          5.6762003898620605,
          7.249604225158691,
          1.2262009382247925,
          -4.856021404266357,
          -5.507457256317139,
          -5.471221446990967,
          3.3823137283325195,
          4.07570743560791,
          -7.369810581207275,
          -2.3141469955444336,
          9.698485374450684,
          -2.6627824306488037,
          -1.2190505266189575,
          7.592405796051025,
          -0.670724093914032,
          1.040665626525879,
          0.9256516695022583,
          7.136058807373047,
          -3.4936368465423584,
          -5.844423770904541,
          -6.0687737464904785,
          -5.565629005432129,
          2.380286931991577,
          0.30955952405929565,
          1.506588339805603,
          -5.635869026184082,
          1.4521422386169434,
          5.87303352355957,
          -2.0830142498016357,
          6.820130348205566,
          7.103468418121338,
          -0.7334613800048828,
          -3.8645126819610596,
          6.944314479827881,
          0.4942564070224762,
          3.286046266555786,
          1.4808701276779175,
          -2.600766897201538,
          3.1459407806396484,
          0.8355996608734131,
          -5.038746356964111,
          4.142143726348877,
          7.542403697967529,
          -2.2452378273010254,
          -7.270451068878174,
          -8.603706359863281,
          1.069443702697754,
          -1.2463762760162354,
          -2.098667621612549,
          -2.4320929050445557,
          -0.39270707964897156,
          -3.3721301555633545,
          -8.152478218078613,
          -4.052822589874268,
          5.878988265991211,
          1.0173698663711548,
          7.964520454406738,
          3.0601391792297363,
          2.091628074645996,
          -0.7284533381462097,
          -1.3993901014328003,
          -3.6087472438812256,
          2.5733518600463867,
          -6.330143928527832,
          -1.9219354391098022,
          2.0948641300201416,
          -6.389174938201904,
          7.222891330718994,
          -5.5580058097839355,
          -1.4118547439575195,
          -1.9104210138320923,
          0.6769847869873047,
          -4.394654750823975,
          -2.381486654281616,
          0.932162880897522,
          -2.3731179237365723,
          -0.1706693023443222,
          -6.100450038909912,
          -0.19569191336631775,
          3.2853872776031494,
          -2.9156031608581543,
          -3.2097837924957275,
          -5.430152893066406,
          0.9343745708465576,
          4.149892807006836,
          -8.762369155883789,
          -2.519700050354004,
          -3.0591299533843994,
          -3.5273571014404297,
          5.029978275299072,
          -4.313435077667236,
          -8.445279121398926,
          7.826023578643799,
          -2.036729335784912,
          2.5243194103240967,
          -8.662161827087402,
          -5.009041786193848,
          7.76964807510376,
          -3.346355676651001,
          -0.4112020432949066,
          -6.565038681030273,
          -1.9700027704238892,
          2.656831979751587,
          -3.5312304496765137,
          0.7036980390548706,
          -4.7843146324157715,
          -4.722318649291992,
          0.8618959784507751,
          -0.2595383822917938,
          -0.8742468953132629,
          2.4266433715820312,
          2.265519380569458,
          -3.2771871089935303,
          -5.917438507080078,
          1.1066585779190063,
          4.820660591125488,
          -0.5334922075271606,
          1.537521243095398,
          0.0069138179533183575,
          -7.202695369720459,
          -1.5836340188980103,
          5.4095234870910645,
          0.659308671951294,
          2.862900733947754,
          8.619268417358398,
          1.2633368968963623,
          4.480717658996582,
          7.755302906036377,
          1.9397563934326172,
          -9.094167709350586,
          3.77140474319458,
          3.390162229537964,
          -5.934505939483643,
          4.948794841766357,
          -7.040013313293457,
          -4.042947769165039,
          4.680880069732666,
          1.0974011421203613,
          -4.981359004974365,
          2.856822967529297,
          0.7019779086112976,
          0.22678157687187195,
          4.097938060760498,
          2.603524684906006,
          -0.33957886695861816,
          7.195115566253662,
          -4.702665328979492,
          -3.9369008541107178,
          -4.596502304077148,
          4.094172954559326,
          -0.13060984015464783,
          -2.750955581665039,
          3.2557566165924072,
          6.265972137451172,
          -4.668371200561523,
          -4.4179606437683105,
          -4.493903160095215,
          1.8364276885986328,
          -2.7706875801086426,
          -5.48494815826416,
          -3.6810014247894287,
          -2.672482490539551,
          4.8704705238342285,
          2.599780797958374,
          4.273673057556152,
          -6.847344398498535,
          -0.5521660447120667,
          -2.660578966140747,
          -5.628261566162109,
          3.17781925201416,
          -3.5564980506896973,
          3.3495259284973145,
          3.8893074989318848,
          -5.79015588760376,
          -5.296626091003418,
          4.882518768310547,
          -3.878405809402466,
          8.444825172424316,
          -3.803380012512207,
          -0.5173261761665344,
          -4.796282768249512,
          -2.129220962524414,
          -0.4042437970638275,
          -4.669548988342285,
          2.1984498500823975,
          -1.2095457315444946,
          3.853588342666626,
          -5.118817329406738,
          -6.131938457489014,
          -6.5269951820373535,
          4.923502445220947,
          7.316897392272949,
          6.767285346984863,
          -2.9867258071899414,
          -3.296967029571533,
          -0.6660753488540649,
          0.9935832023620605,
          0.6684867143630981,
          7.184544563293457,
          3.4300239086151123,
          -5.910562992095947,
          7.562259674072266,
          -1.4364101886749268,
          -1.424692988395691,
          -3.55025315284729,
          -1.8444043397903442,
          5.081018924713135,
          1.1280021667480469,
          -2.245222568511963,
          -4.5857391357421875,
          9.072336196899414,
          -4.741036891937256,
          -0.9633978605270386,
          6.2587199211120605,
          2.2424213886260986,
          3.6132447719573975,
          -8.532719612121582,
          -0.4321022033691406,
          -0.4083264470100403,
          1.0872454643249512,
          -7.9795002937316895,
          0.4714045524597168,
          1.7141727209091187,
          -0.6442102789878845,
          3.816840887069702,
          4.635757923126221,
          7.637131214141846,
          -2.3976528644561768,
          6.218493938446045,
          -4.988125324249268,
          -3.7847542762756348,
          5.9554924964904785,
          -5.209530830383301,
          0.16001145541667938,
          -0.2908131778240204,
          -1.8522740602493286,
          5.194062232971191,
          0.9165435433387756,
          -3.2113184928894043,
          0.12668034434318542,
          8.040789604187012,
          6.741450309753418,
          3.323079824447632,
          -1.928207516670227,
          4.6114044189453125,
          2.561741828918457,
          7.86464786529541,
          4.995443344116211,
          -0.10528995841741562,
          -8.977421760559082,
          2.834320068359375,
          -6.945639610290527,
          1.4350558519363403,
          -6.882513523101807,
          -4.138944149017334,
          1.2148436307907104,
          0.2851916551589966,
          0.8660848140716553,
          0.128794327378273,
          8.572419166564941,
          4.281698703765869,
          -2.550962209701538,
          -3.510392665863037,
          7.184962749481201,
          4.43872594833374,
          0.44057202339172363,
          2.557835102081299,
          -3.299712896347046,
          1.7137845754623413,
          2.786512851715088,
          -8.723949432373047,
          -1.3923622369766235,
          -4.9421234130859375,
          1.1868804693222046,
          -6.777188301086426,
          1.9757543802261353,
          -3.70865797996521,
          4.278772354125977,
          -4.634839057922363,
          0.7669695615768433,
          1.5773054361343384,
          -4.57477331161499,
          -2.059166669845581,
          -0.3313027322292328,
          2.971360445022583,
          0.9657967686653137,
          2.6886088848114014,
          1.169904112815857,
          -1.3310446739196777,
          -7.880105018615723,
          -4.883846282958984,
          3.255946397781372,
          -1.2966351509094238,
          2.0056521892547607,
          6.126216888427734,
          6.182707786560059,
          1.85188627243042,
          2.2067930698394775,
          -6.9223246574401855,
          -6.539177417755127,
          4.576545715332031,
          1.8211723566055298,
          -0.32581964135169983,
          -4.974412441253662,
          -7.982980251312256,
          4.540954113006592,
          2.8579723834991455
         ],
         "z": [
          1.7136898040771484,
          -7.841623783111572,
          12.938374519348145,
          11.776147842407227,
          17.178865432739258,
          4.595310688018799,
          -7.049248695373535,
          11.579850196838379,
          -1.5969897508621216,
          -8.77163314819336,
          8.75904655456543,
          19.751358032226562,
          9.089990615844727,
          9.67139720916748,
          11.443730354309082,
          17.021625518798828,
          9.05955696105957,
          -10.353137969970703,
          11.819426536560059,
          18.851579666137695,
          3.723907947540283,
          3.325678825378418,
          10.91481876373291,
          -2.2872068881988525,
          8.130290031433105,
          5.1387457847595215,
          18.781482696533203,
          0.2029363214969635,
          15.006895065307617,
          18.872154235839844,
          -0.31724485754966736,
          -3.9621944427490234,
          7.420445919036865,
          10.611005783081055,
          -6.891141891479492,
          3.561314105987549,
          19.01875877380371,
          0.612316370010376,
          3.908637523651123,
          10.451055526733398,
          -15.382617950439453,
          12.411494255065918,
          -14.06354808807373,
          7.534753322601318,
          11.790029525756836,
          17.288923263549805,
          11.963006019592285,
          -1.942257046699524,
          19.450214385986328,
          -15.474662780761719,
          10.581686973571777,
          10.21621036529541,
          -8.164820671081543,
          17.146820068359375,
          6.763730525970459,
          0.04929685220122337,
          0.33699315786361694,
          -4.017201900482178,
          10.65557861328125,
          14.275172233581543,
          -1.274127721786499,
          -7.422574996948242,
          18.608325958251953,
          12.217192649841309,
          -16.317270278930664,
          12.60197639465332,
          -18.264707565307617,
          -10.228355407714844,
          18.306488037109375,
          6.576627254486084,
          16.93016242980957,
          12.831971168518066,
          4.288046836853027,
          9.873271942138672,
          -2.471120595932007,
          -1.8595095872879028,
          16.30068016052246,
          15.203529357910156,
          -3.747584581375122,
          -6.1127848625183105,
          -5.701559543609619,
          -2.058666706085205,
          14.270370483398438,
          -7.301504611968994,
          -7.7041473388671875,
          -5.986721515655518,
          -13.331195831298828,
          -14.441707611083984,
          -7.86472225189209,
          0.04146140441298485,
          1.4254794120788574,
          8.789920806884766,
          -14.009858131408691,
          -8.543681144714355,
          -2.3085105419158936,
          18.586450576782227,
          -10.847062110900879,
          -6.643062114715576,
          -7.223353862762451,
          15.632444381713867,
          4.120424270629883,
          -14.45492935180664,
          -6.939011096954346,
          -9.399324417114258,
          19.013221740722656,
          -9.667445182800293,
          -5.170567512512207,
          -6.48384952545166,
          -3.4875917434692383,
          14.450773239135742,
          -1.7705649137496948,
          6.230118751525879,
          6.505186557769775,
          -2.567984104156494,
          16.350688934326172,
          -3.692685842514038,
          -10.336538314819336,
          -8.635449409484863,
          10.519329071044922,
          -8.32441234588623,
          -4.162477016448975,
          -6.303323268890381,
          -10.43841552734375,
          -13.95711612701416,
          -0.4227904975414276,
          -7.791261672973633,
          -2.8575727939605713,
          11.547905921936035,
          -7.956415176391602,
          -8.870426177978516,
          -6.108933925628662,
          -10.234097480773926,
          11.72634220123291,
          -5.98923397064209,
          -13.4410400390625,
          -1.8348528146743774,
          13.9111967086792,
          13.071657180786133,
          -6.312289714813232,
          -4.30851411819458,
          10.01730728149414,
          0.7714870572090149,
          -8.585040092468262,
          15.774219512939453,
          -9.130571365356445,
          -8.402826309204102,
          8.9605073928833,
          -16.211416244506836,
          -6.738194465637207,
          -3.9206368923187256,
          -0.8497005701065063,
          -2.5017690658569336,
          -7.665117263793945,
          -8.675724029541016,
          3.304049015045166,
          -11.81122875213623,
          -16.053607940673828,
          -13.85594654083252,
          1.0046684741973877,
          8.20141315460205,
          -8.884883880615234,
          -3.699125051498413,
          -0.5750942230224609,
          -5.410181999206543,
          9.780877113342285,
          -13.122777938842773,
          10.773165702819824,
          17.772066116333008,
          13.050601959228516,
          -2.1009652614593506,
          -5.312342643737793,
          -6.432900905609131,
          7.904810905456543,
          14.164534568786621,
          1.0177184343338013,
          -14.959381103515625,
          7.494868755340576,
          13.368194580078125,
          -5.878209114074707,
          13.269804000854492,
          -6.797873020172119,
          7.284677028656006,
          -3.8298892974853516,
          16.2891788482666,
          17.793710708618164,
          -10.10815715789795,
          12.286998748779297,
          -6.617523193359375,
          -6.367956161499023,
          -2.3833670616149902,
          -15.423137664794922,
          16.626026153564453,
          9.201883316040039,
          15.188544273376465,
          -12.959542274475098,
          -7.224189758300781,
          -8.23707103729248,
          -10.85018253326416,
          3.786376953125,
          0.39538896083831787,
          -4.80877161026001,
          -4.0001726150512695,
          -3.4054245948791504,
          15.105077743530273,
          14.163419723510742,
          -3.409841537475586,
          -7.612175464630127,
          -5.461183071136475,
          7.017788887023926,
          -4.359591007232666,
          0.1199897900223732,
          13.474973678588867,
          15.258305549621582,
          -2.7060017585754395,
          -6.3207807540893555,
          -6.957479000091553,
          -5.223496437072754,
          15.856508255004883,
          17.67751693725586,
          -3.281290054321289,
          14.439165115356445,
          -8.96199893951416,
          15.389822006225586,
          -3.713603973388672,
          -13.267208099365234,
          -7.028814792633057,
          -14.504096031188965,
          -6.062615394592285,
          -13.346805572509766,
          11.335021018981934,
          -7.684422016143799,
          -14.346610069274902,
          12.195151329040527,
          13.104601860046387,
          -8.600473403930664,
          -8.824606895446777,
          -2.4263949394226074,
          -3.1117007732391357,
          11.694607734680176,
          12.335935592651367,
          -5.980379581451416,
          -10.23400592803955,
          11.718103408813477,
          -10.391586303710938,
          11.574213027954102,
          -13.583369255065918,
          -5.018712520599365,
          -1.9654695987701416,
          -14.291329383850098,
          12.083395004272461,
          -5.7631001472473145,
          -3.7511651515960693,
          12.634986877441406,
          -3.6043314933776855,
          -9.500484466552734,
          -0.7284521460533142,
          0.6493892669677734,
          -11.410502433776855,
          12.033382415771484,
          -8.573197364807129,
          12.171955108642578,
          -7.103531837463379,
          15.64418888092041,
          -5.705677032470703,
          -6.545300483703613,
          -10.363110542297363,
          13.643742561340332,
          -11.122237205505371,
          -3.510357141494751,
          -9.79373550415039,
          -7.289795875549316,
          -3.959049940109253,
          -1.5673123598098755,
          11.287141799926758,
          8.952935218811035,
          -10.05190658569336,
          17.002351760864258,
          16.813432693481445,
          -7.408565521240234,
          -6.538197040557861,
          -14.291361808776855,
          11.30051326751709,
          -7.7599663734436035,
          -0.737454354763031,
          15.987881660461426,
          -10.61347770690918,
          -10.359058380126953,
          -8.577594757080078,
          -12.86182975769043,
          3.9535269737243652,
          -0.10276629775762558,
          -6.68934965133667,
          -4.744548797607422,
          -11.015534400939941,
          -7.292276859283447,
          8.086185455322266,
          8.932658195495605,
          -5.16596794128418,
          -5.24813175201416,
          1.2729982137680054,
          -5.056980609893799,
          -10.51300048828125,
          16.32203483581543,
          11.975320816040039,
          9.102928161621094,
          -0.5756829380989075,
          -8.609147071838379,
          -0.9123510718345642,
          -15.49294662475586,
          17.808521270751953,
          18.50481605529785,
          -16.384204864501953,
          7.247743606567383,
          12.025447845458984,
          -9.619767189025879,
          1.4639348983764648,
          -2.025406837463379,
          -8.470426559448242,
          -1.0385780334472656,
          -3.4840469360351562,
          -5.9876227378845215,
          -0.5547506809234619,
          12.933547019958496,
          -4.946496486663818,
          -5.283118724822998,
          1.4476958513259888,
          14.457186698913574,
          13.281835556030273,
          11.912561416625977,
          8.947102546691895,
          -11.360278129577637,
          16.220396041870117,
          -8.757991790771484,
          -10.332127571105957,
          -14.983453750610352,
          15.089509010314941,
          -7.788742542266846,
          -2.1356043815612793,
          12.402131080627441,
          14.985186576843262,
          -1.4569499492645264,
          -7.910681247711182,
          10.45909595489502,
          -8.975555419921875,
          11.92793083190918,
          13.03084659576416,
          -5.188220024108887,
          -13.99030876159668,
          10.935245513916016,
          16.557140350341797,
          -2.715869426727295,
          -1.883973240852356,
          -7.76683235168457,
          -3.8184545040130615,
          -10.37812328338623,
          -7.524803638458252,
          -8.373490333557129,
          -8.763513565063477,
          19.190895080566406,
          3.278789758682251,
          -7.545989990234375,
          -7.6858296394348145,
          -1.3150438070297241,
          -15.261322975158691,
          11.895620346069336,
          -0.92701256275177,
          16.904970169067383,
          -11.14306354522705,
          -11.747695922851562,
          -5.90985631942749,
          -12.421806335449219,
          -6.193324089050293,
          16.992406845092773,
          12.636310577392578,
          12.957460403442383,
          -12.671903610229492,
          -2.435506582260132,
          9.792677879333496,
          -3.182904005050659,
          1.4581176042556763,
          9.228984832763672,
          -3.7446963787078857,
          -2.652297258377075,
          4.027400016784668,
          -8.27777099609375,
          -10.759472846984863,
          -4.355554580688477,
          -4.353583812713623,
          0.9742298126220703,
          5.752800941467285,
          -10.896204948425293,
          -10.880184173583984,
          0.2762767970561981,
          -3.2725071907043457,
          -7.715560436248779,
          -3.7740659713745117,
          -9.308115005493164,
          12.021652221679688,
          2.304551124572754,
          -5.8437933921813965,
          -7.928583145141602,
          -9.111780166625977,
          -16.669849395751953,
          -3.5353238582611084,
          13.93435001373291,
          -10.511548042297363,
          14.317779541015625,
          -3.2319610118865967,
          7.109470844268799,
          -9.359719276428223,
          -11.134902954101562,
          1.4599483013153076,
          18.598302841186523,
          -1.2015725374221802,
          -6.650289535522461,
          -14.135048866271973,
          -16.031234741210938,
          -7.916135311126709,
          13.018089294433594,
          13.343937873840332,
          5.978910446166992,
          -10.261663436889648,
          -9.064225196838379,
          -6.213705062866211,
          13.700626373291016,
          -13.12702465057373,
          -7.864256858825684,
          9.086446762084961,
          3.395108938217163,
          16.040658950805664,
          -3.1999449729919434,
          -8.67242431640625,
          -7.680197238922119,
          11.074893951416016,
          16.59829330444336,
          -5.925013542175293,
          -10.41981315612793,
          16.11196517944336,
          -3.3901662826538086,
          14.763028144836426,
          -9.0420560836792,
          -3.6180331707000732,
          15.305295944213867,
          17.726781845092773,
          -7.058956146240234,
          8.115983009338379,
          15.904318809509277,
          -10.480469703674316,
          11.77466869354248,
          7.621763706207275,
          -9.981151580810547,
          14.607041358947754,
          -13.413448333740234,
          -0.8376266956329346,
          7.2891526222229,
          -2.7871663570404053,
          1.3834011554718018,
          13.413002014160156,
          -3.176220417022705,
          4.633230209350586,
          -8.76948356628418,
          15.409646034240723,
          -13.986955642700195,
          -6.252905368804932,
          -2.2544736862182617,
          1.265879511833191,
          -3.79856014251709,
          15.268253326416016,
          -13.395297050476074,
          13.338404655456543,
          -4.891358375549316,
          -10.462544441223145,
          -13.637292861938477,
          -2.7773549556732178,
          -11.98997974395752,
          -12.912751197814941,
          -6.869929313659668,
          9.310914993286133,
          -0.5473166704177856,
          -10.135395050048828,
          -14.487526893615723,
          -8.497057914733887,
          9.892683982849121,
          15.708012580871582,
          -9.90284538269043,
          16.81756019592285,
          -6.618455410003662,
          3.8581323623657227,
          -1.0010231733322144,
          12.897794723510742,
          -2.105233907699585,
          7.749110698699951,
          9.453086853027344,
          15.990428924560547,
          12.359186172485352,
          9.210898399353027,
          -10.121064186096191,
          7.636777877807617,
          -9.258837699890137,
          -0.09873734414577484,
          -6.643637180328369,
          -0.5066999793052673,
          2.00053334236145,
          -7.609755516052246,
          3.1368796825408936,
          12.674914360046387,
          -2.010439157485962,
          -12.9266939163208,
          4.661121845245361,
          7.6494269371032715,
          17.333154678344727,
          -13.554978370666504,
          -8.985857009887695,
          14.47851276397705,
          -4.7879767417907715,
          -11.699126243591309,
          -7.02439022064209,
          -2.556464910507202,
          -2.6822702884674072,
          -9.047653198242188,
          5.835259437561035,
          13.966567039489746,
          11.658646583557129,
          11.876840591430664,
          18.302690505981445,
          -11.070910453796387,
          3.394322395324707,
          -10.722506523132324,
          1.200533390045166,
          1.236796259880066,
          -6.865450382232666,
          15.670371055603027,
          8.772944450378418,
          -12.454937934875488,
          6.996665954589844,
          19.0909481048584,
          -8.879843711853027,
          15.938458442687988,
          -0.9304028749465942,
          -9.969099044799805,
          -4.171329975128174,
          7.980195999145508,
          -11.178566932678223,
          -6.289967060089111,
          -13.964320182800293,
          10.240297317504883,
          -9.143922805786133,
          9.885087966918945,
          9.556395530700684,
          -8.343160629272461,
          -11.454245567321777,
          -1.6081575155258179,
          16.18772315979004,
          0.9454315900802612,
          -9.936505317687988,
          -11.263397216796875,
          7.88792085647583,
          -1.4546422958374023,
          14.081103324890137,
          -0.4896155893802643,
          18.110795974731445,
          17.936830520629883,
          -10.454842567443848,
          7.6985602378845215,
          -9.788236618041992,
          -7.15963888168335,
          -14.023225784301758,
          -0.9532767534255981,
          8.741205215454102,
          6.611094951629639,
          2.312182903289795,
          7.03675651550293,
          12.253961563110352,
          17.02324676513672,
          -5.2183637619018555,
          17.754940032958984,
          -8.530716896057129,
          -13.458490371704102,
          -0.46097469329833984,
          -3.5757362842559814,
          5.392456531524658,
          -2.6854569911956787,
          12.856782913208008,
          -7.653347015380859,
          -15.293883323669434,
          -7.939375877380371,
          1.108227252960205,
          -11.534399032592773,
          -12.650467872619629,
          16.65510368347168,
          -9.143516540527344,
          -13.78790283203125,
          -1.807704210281372,
          13.146419525146484,
          -1.8782780170440674,
          -7.994722366333008,
          12.135744094848633,
          15.448516845703125,
          8.571767807006836,
          17.141775131225586,
          11.24605941772461,
          -4.815764904022217,
          8.046643257141113,
          -8.239855766296387,
          7.238898277282715,
          -6.2918243408203125,
          13.108973503112793,
          17.304006576538086,
          -8.93503475189209,
          -4.756650924682617,
          11.051224708557129,
          -0.5718613862991333,
          5.463639736175537,
          -0.5459917187690735,
          -6.62429666519165,
          -11.535012245178223,
          -7.637876987457275,
          -8.337063789367676,
          -1.5279332399368286,
          0.8773877620697021,
          -0.828794002532959,
          -8.90304946899414,
          -6.277780532836914,
          -2.016465187072754,
          12.108854293823242,
          14.046673774719238,
          -9.308425903320312,
          17.42742156982422,
          -4.096569061279297,
          -6.322515964508057,
          -2.3838322162628174,
          -10.616177558898926,
          -1.407213568687439,
          14.065116882324219,
          0.27243632078170776,
          -0.8940923810005188,
          -1.7661120891571045,
          -1.0031888484954834,
          7.00119686126709,
          -1.6209912300109863,
          13.877924919128418,
          -4.212281703948975,
          -7.373013019561768,
          1.3531943559646606,
          15.80358600616455,
          -0.6106125712394714,
          13.133559226989746,
          -3.369288921356201,
          9.01705265045166,
          -0.550376832485199,
          -14.48370361328125,
          -14.495466232299805,
          -4.084657192230225,
          11.419800758361816,
          -15.003579139709473,
          -4.391767978668213,
          15.25123405456543,
          -0.6941654682159424,
          -4.205549716949463,
          14.739852905273438,
          16.167686462402344,
          -8.748964309692383,
          -2.1269218921661377,
          1.3044289350509644,
          8.857294082641602,
          -2.554136276245117,
          12.611495971679688,
          -5.525212287902832,
          -11.01832103729248,
          -15.327759742736816,
          -4.228403091430664,
          -8.020340919494629,
          -7.16117000579834,
          -1.1939013004302979,
          7.889798164367676,
          -12.245420455932617,
          -4.6400532722473145,
          6.462385177612305,
          10.343172073364258,
          -6.19255256652832,
          12.440747261047363,
          -13.717901229858398,
          -2.064120054244995,
          7.682929515838623,
          -9.8904447555542,
          -14.73528003692627,
          -9.162322044372559,
          -14.662117004394531,
          8.55905818939209,
          17.185543060302734,
          15.068894386291504,
          19.301904678344727,
          18.244998931884766,
          -5.95807409286499,
          8.420417785644531,
          8.339996337890625,
          2.1600182056427,
          -6.944465637207031,
          1.3246595859527588,
          11.812153816223145,
          -8.000909805297852,
          -8.308721542358398,
          9.688701629638672,
          14.992905616760254,
          -6.5917158126831055,
          -0.9048315286636353,
          10.300621032714844,
          15.021345138549805,
          -0.47539952397346497,
          8.229732513427734,
          11.037121772766113,
          -14.191011428833008,
          -2.843728542327881,
          5.273594856262207,
          -2.930842161178589,
          5.760925769805908,
          4.319995403289795,
          16.90798568725586,
          -2.8036575317382812,
          -11.719794273376465,
          11.912999153137207,
          -11.63315486907959,
          -6.399153709411621,
          10.125616073608398,
          1.666042685508728,
          7.483358860015869,
          7.364478588104248,
          8.227178573608398,
          13.496068000793457,
          5.402217388153076,
          -0.10104431211948395,
          17.346141815185547,
          -1.2419812679290771,
          -5.559505939483643,
          -3.7145495414733887,
          7.412600517272949,
          -3.0956265926361084,
          -3.6620025634765625,
          -4.46410608291626,
          11.37804889678955,
          -3.887942314147949,
          -2.1603732109069824,
          -1.2648422718048096,
          10.506125450134277,
          2.456693649291992,
          -4.899943828582764,
          -5.237154006958008,
          6.99312162399292,
          13.414555549621582,
          16.23866844177246,
          -7.5109758377075195,
          16.471654891967773,
          -1.9041378498077393,
          -12.872954368591309,
          -14.03342342376709,
          13.890198707580566,
          -6.248354911804199,
          -7.121403694152832,
          14.872690200805664,
          -12.904496192932129,
          16.722610473632812,
          -6.977852821350098,
          -13.518206596374512,
          -14.81184196472168,
          1.5999341011047363,
          -10.819347381591797,
          -10.559762954711914,
          17.120695114135742,
          -8.123306274414062,
          17.40913200378418,
          -6.003941535949707,
          -0.892604410648346,
          -0.8146505951881409,
          -7.721987724304199,
          0.7644270658493042,
          -14.32620906829834,
          -4.00934362411499,
          -7.512972354888916,
          -1.2804116010665894,
          1.0166022777557373,
          -3.3981029987335205,
          -10.462456703186035,
          -6.45585298538208,
          -1.2022483348846436,
          -2.6212050914764404,
          16.71967124938965,
          -8.325117111206055,
          7.781728744506836,
          -6.315495014190674,
          -7.779506206512451,
          14.230810165405273,
          -4.135422229766846,
          11.327588081359863,
          -0.6905065774917603,
          -12.373493194580078,
          -3.8083832263946533,
          -13.368573188781738,
          12.304642677307129,
          -3.1029763221740723,
          -16.912580490112305,
          -6.9345855712890625,
          -3.0536787509918213,
          0.9037898778915405,
          -7.051746368408203,
          13.077618598937988,
          -13.762032508850098,
          -11.335121154785156,
          -10.812063217163086,
          9.900568962097168,
          -11.6408109664917,
          15.380813598632812,
          9.615743637084961,
          -1.2523188591003418,
          6.165001392364502,
          -6.573235511779785,
          11.720247268676758,
          -6.5158915519714355,
          14.133682250976562,
          6.900740146636963,
          10.651001930236816,
          7.667116165161133,
          11.602958679199219,
          -5.165411472320557,
          -4.633005619049072,
          -8.802833557128906,
          -10.613588333129883,
          9.744179725646973,
          -5.481169700622559,
          0.6699930429458618,
          15.966556549072266,
          -11.400589942932129,
          2.15140700340271,
          17.802860260009766,
          9.602849960327148,
          13.403791427612305,
          7.279450416564941,
          18.03668212890625,
          16.247966766357422,
          6.7567243576049805,
          -10.517979621887207,
          -3.203126907348633,
          -9.128827095031738,
          11.144107818603516,
          -7.452409267425537,
          -9.573456764221191,
          7.271666049957275,
          -8.419533729553223,
          -3.421405076980591,
          -1.8700019121170044,
          -0.6933788657188416,
          8.044585227966309,
          5.5582356452941895,
          -9.45047664642334,
          -3.627654790878296,
          0.7516405582427979,
          -9.456488609313965,
          -5.916281223297119,
          9.062247276306152,
          -6.148921012878418,
          11.322466850280762,
          3.9151225090026855,
          -6.142496585845947,
          0.1427408754825592,
          -5.552523136138916,
          -9.06209945678711,
          12.839601516723633,
          -9.139118194580078,
          -7.409883975982666,
          7.462071895599365,
          0.49587035179138184,
          7.967194557189941,
          -11.628462791442871,
          -13.393556594848633,
          -2.4987833499908447,
          -2.6918153762817383,
          -12.279753684997559,
          -7.617390155792236,
          -8.692071914672852,
          -0.20591431856155396,
          13.379752159118652,
          -0.15169407427310944,
          0.09522651135921478,
          -7.968001365661621,
          14.016401290893555,
          12.036394119262695,
          7.08873176574707,
          1.0174156427383423,
          -5.060291290283203,
          1.1168627738952637,
          8.890646934509277,
          15.47455883026123,
          18.247949600219727,
          12.764932632446289,
          -7.280885219573975,
          17.377073287963867,
          -2.0605764389038086,
          -2.2497987747192383,
          -13.9801607131958,
          1.215785026550293,
          -2.6887612342834473,
          -8.635174751281738,
          -7.319862365722656,
          -13.642411231994629,
          14.50110912322998,
          -4.974980354309082,
          14.884319305419922,
          9.493717193603516,
          -3.4500467777252197,
          12.464680671691895,
          -3.264704942703247,
          -9.557123184204102,
          -11.525639533996582,
          -14.374272346496582,
          -2.235790252685547,
          10.657854080200195,
          17.648271560668945,
          -0.3158741295337677,
          -9.850286483764648,
          8.551002502441406,
          7.603275299072266,
          5.175914287567139,
          12.004501342773438,
          -7.56922721862793,
          -5.293395042419434,
          -9.119898796081543,
          -0.5135510563850403,
          -4.107413291931152,
          -0.05699200928211212,
          -5.458200454711914,
          -9.646007537841797,
          18.33013916015625,
          -10.83194351196289,
          -13.019221305847168,
          15.314263343811035,
          11.919656753540039,
          15.324990272521973,
          -11.24788761138916,
          13.898306846618652,
          -6.354441165924072,
          7.684971809387207,
          14.196846961975098,
          -6.425024509429932,
          -4.211761951446533,
          7.616486549377441,
          -1.2977694272994995,
          12.649410247802734,
          -2.3661952018737793,
          -0.3359174132347107,
          -7.94681978225708,
          -4.707693099975586,
          -0.5556836128234863,
          -3.155696392059326,
          13.789204597473145,
          12.818561553955078,
          -4.127501964569092,
          -16.070865631103516,
          8.156785011291504,
          12.725800514221191,
          9.48237419128418,
          -7.812437534332275,
          -12.696078300476074,
          -10.504165649414062,
          12.79193115234375,
          -2.642695665359497,
          -0.6542924642562866,
          -13.540767669677734,
          -10.51932144165039,
          1.0324962139129639,
          11.192538261413574,
          -9.042884826660156,
          16.932086944580078,
          -2.9408156871795654,
          -1.9623788595199585,
          17.259151458740234,
          -6.1360015869140625,
          -11.683074951171875,
          -10.530778884887695,
          16.536161422729492,
          -1.243746042251587,
          7.274382591247559,
          11.258450508117676,
          4.317098617553711,
          -5.833980083465576,
          -9.39714527130127,
          16.48853302001953,
          -9.202620506286621,
          -8.368380546569824,
          8.122246742248535,
          6.995750427246094,
          17.420516967773438,
          9.070402145385742,
          -0.8240420818328857,
          -0.48224225640296936,
          13.987895011901855,
          12.793852806091309,
          -0.6313936710357666,
          -9.475639343261719,
          -6.326441287994385,
          10.098231315612793,
          17.693511962890625
         ]
        }
       ],
       "layout": {
        "coloraxis": {
         "colorbar": {
          "title": {
           "text": "Label"
          }
         },
         "colorscale": [
          [
           0,
           "#0d0887"
          ],
          [
           0.1111111111111111,
           "#46039f"
          ],
          [
           0.2222222222222222,
           "#7201a8"
          ],
          [
           0.3333333333333333,
           "#9c179e"
          ],
          [
           0.4444444444444444,
           "#bd3786"
          ],
          [
           0.5555555555555556,
           "#d8576b"
          ],
          [
           0.6666666666666666,
           "#ed7953"
          ],
          [
           0.7777777777777778,
           "#fb9f3a"
          ],
          [
           0.8888888888888888,
           "#fdca26"
          ],
          [
           1,
           "#f0f921"
          ]
         ]
        },
        "height": 800,
        "legend": {
         "tracegroupgap": 0
        },
        "scene": {
         "domain": {
          "x": [
           0,
           1
          ],
          "y": [
           0,
           1
          ]
         },
         "xaxis": {
          "title": {
           "text": "0"
          }
         },
         "yaxis": {
          "title": {
           "text": "1"
          }
         },
         "zaxis": {
          "title": {
           "text": "2"
          }
         }
        },
        "template": {
         "data": {
          "bar": [
           {
            "error_x": {
             "color": "#2a3f5f"
            },
            "error_y": {
             "color": "#2a3f5f"
            },
            "marker": {
             "line": {
              "color": "#E5ECF6",
              "width": 0.5
             }
            },
            "type": "bar"
           }
          ],
          "barpolar": [
           {
            "marker": {
             "line": {
              "color": "#E5ECF6",
              "width": 0.5
             }
            },
            "type": "barpolar"
           }
          ],
          "carpet": [
           {
            "aaxis": {
             "endlinecolor": "#2a3f5f",
             "gridcolor": "white",
             "linecolor": "white",
             "minorgridcolor": "white",
             "startlinecolor": "#2a3f5f"
            },
            "baxis": {
             "endlinecolor": "#2a3f5f",
             "gridcolor": "white",
             "linecolor": "white",
             "minorgridcolor": "white",
             "startlinecolor": "#2a3f5f"
            },
            "type": "carpet"
           }
          ],
          "choropleth": [
           {
            "colorbar": {
             "outlinewidth": 0,
             "ticks": ""
            },
            "type": "choropleth"
           }
          ],
          "contour": [
           {
            "colorbar": {
             "outlinewidth": 0,
             "ticks": ""
            },
            "colorscale": [
             [
              0,
              "#0d0887"
             ],
             [
              0.1111111111111111,
              "#46039f"
             ],
             [
              0.2222222222222222,
              "#7201a8"
             ],
             [
              0.3333333333333333,
              "#9c179e"
             ],
             [
              0.4444444444444444,
              "#bd3786"
             ],
             [
              0.5555555555555556,
              "#d8576b"
             ],
             [
              0.6666666666666666,
              "#ed7953"
             ],
             [
              0.7777777777777778,
              "#fb9f3a"
             ],
             [
              0.8888888888888888,
              "#fdca26"
             ],
             [
              1,
              "#f0f921"
             ]
            ],
            "type": "contour"
           }
          ],
          "contourcarpet": [
           {
            "colorbar": {
             "outlinewidth": 0,
             "ticks": ""
            },
            "type": "contourcarpet"
           }
          ],
          "heatmap": [
           {
            "colorbar": {
             "outlinewidth": 0,
             "ticks": ""
            },
            "colorscale": [
             [
              0,
              "#0d0887"
             ],
             [
              0.1111111111111111,
              "#46039f"
             ],
             [
              0.2222222222222222,
              "#7201a8"
             ],
             [
              0.3333333333333333,
              "#9c179e"
             ],
             [
              0.4444444444444444,
              "#bd3786"
             ],
             [
              0.5555555555555556,
              "#d8576b"
             ],
             [
              0.6666666666666666,
              "#ed7953"
             ],
             [
              0.7777777777777778,
              "#fb9f3a"
             ],
             [
              0.8888888888888888,
              "#fdca26"
             ],
             [
              1,
              "#f0f921"
             ]
            ],
            "type": "heatmap"
           }
          ],
          "heatmapgl": [
           {
            "colorbar": {
             "outlinewidth": 0,
             "ticks": ""
            },
            "colorscale": [
             [
              0,
              "#0d0887"
             ],
             [
              0.1111111111111111,
              "#46039f"
             ],
             [
              0.2222222222222222,
              "#7201a8"
             ],
             [
              0.3333333333333333,
              "#9c179e"
             ],
             [
              0.4444444444444444,
              "#bd3786"
             ],
             [
              0.5555555555555556,
              "#d8576b"
             ],
             [
              0.6666666666666666,
              "#ed7953"
             ],
             [
              0.7777777777777778,
              "#fb9f3a"
             ],
             [
              0.8888888888888888,
              "#fdca26"
             ],
             [
              1,
              "#f0f921"
             ]
            ],
            "type": "heatmapgl"
           }
          ],
          "histogram": [
           {
            "marker": {
             "colorbar": {
              "outlinewidth": 0,
              "ticks": ""
             }
            },
            "type": "histogram"
           }
          ],
          "histogram2d": [
           {
            "colorbar": {
             "outlinewidth": 0,
             "ticks": ""
            },
            "colorscale": [
             [
              0,
              "#0d0887"
             ],
             [
              0.1111111111111111,
              "#46039f"
             ],
             [
              0.2222222222222222,
              "#7201a8"
             ],
             [
              0.3333333333333333,
              "#9c179e"
             ],
             [
              0.4444444444444444,
              "#bd3786"
             ],
             [
              0.5555555555555556,
              "#d8576b"
             ],
             [
              0.6666666666666666,
              "#ed7953"
             ],
             [
              0.7777777777777778,
              "#fb9f3a"
             ],
             [
              0.8888888888888888,
              "#fdca26"
             ],
             [
              1,
              "#f0f921"
             ]
            ],
            "type": "histogram2d"
           }
          ],
          "histogram2dcontour": [
           {
            "colorbar": {
             "outlinewidth": 0,
             "ticks": ""
            },
            "colorscale": [
             [
              0,
              "#0d0887"
             ],
             [
              0.1111111111111111,
              "#46039f"
             ],
             [
              0.2222222222222222,
              "#7201a8"
             ],
             [
              0.3333333333333333,
              "#9c179e"
             ],
             [
              0.4444444444444444,
              "#bd3786"
             ],
             [
              0.5555555555555556,
              "#d8576b"
             ],
             [
              0.6666666666666666,
              "#ed7953"
             ],
             [
              0.7777777777777778,
              "#fb9f3a"
             ],
             [
              0.8888888888888888,
              "#fdca26"
             ],
             [
              1,
              "#f0f921"
             ]
            ],
            "type": "histogram2dcontour"
           }
          ],
          "mesh3d": [
           {
            "colorbar": {
             "outlinewidth": 0,
             "ticks": ""
            },
            "type": "mesh3d"
           }
          ],
          "parcoords": [
           {
            "line": {
             "colorbar": {
              "outlinewidth": 0,
              "ticks": ""
             }
            },
            "type": "parcoords"
           }
          ],
          "pie": [
           {
            "automargin": true,
            "type": "pie"
           }
          ],
          "scatter": [
           {
            "marker": {
             "colorbar": {
              "outlinewidth": 0,
              "ticks": ""
             }
            },
            "type": "scatter"
           }
          ],
          "scatter3d": [
           {
            "line": {
             "colorbar": {
              "outlinewidth": 0,
              "ticks": ""
             }
            },
            "marker": {
             "colorbar": {
              "outlinewidth": 0,
              "ticks": ""
             }
            },
            "type": "scatter3d"
           }
          ],
          "scattercarpet": [
           {
            "marker": {
             "colorbar": {
              "outlinewidth": 0,
              "ticks": ""
             }
            },
            "type": "scattercarpet"
           }
          ],
          "scattergeo": [
           {
            "marker": {
             "colorbar": {
              "outlinewidth": 0,
              "ticks": ""
             }
            },
            "type": "scattergeo"
           }
          ],
          "scattergl": [
           {
            "marker": {
             "colorbar": {
              "outlinewidth": 0,
              "ticks": ""
             }
            },
            "type": "scattergl"
           }
          ],
          "scattermapbox": [
           {
            "marker": {
             "colorbar": {
              "outlinewidth": 0,
              "ticks": ""
             }
            },
            "type": "scattermapbox"
           }
          ],
          "scatterpolar": [
           {
            "marker": {
             "colorbar": {
              "outlinewidth": 0,
              "ticks": ""
             }
            },
            "type": "scatterpolar"
           }
          ],
          "scatterpolargl": [
           {
            "marker": {
             "colorbar": {
              "outlinewidth": 0,
              "ticks": ""
             }
            },
            "type": "scatterpolargl"
           }
          ],
          "scatterternary": [
           {
            "marker": {
             "colorbar": {
              "outlinewidth": 0,
              "ticks": ""
             }
            },
            "type": "scatterternary"
           }
          ],
          "surface": [
           {
            "colorbar": {
             "outlinewidth": 0,
             "ticks": ""
            },
            "colorscale": [
             [
              0,
              "#0d0887"
             ],
             [
              0.1111111111111111,
              "#46039f"
             ],
             [
              0.2222222222222222,
              "#7201a8"
             ],
             [
              0.3333333333333333,
              "#9c179e"
             ],
             [
              0.4444444444444444,
              "#bd3786"
             ],
             [
              0.5555555555555556,
              "#d8576b"
             ],
             [
              0.6666666666666666,
              "#ed7953"
             ],
             [
              0.7777777777777778,
              "#fb9f3a"
             ],
             [
              0.8888888888888888,
              "#fdca26"
             ],
             [
              1,
              "#f0f921"
             ]
            ],
            "type": "surface"
           }
          ],
          "table": [
           {
            "cells": {
             "fill": {
              "color": "#EBF0F8"
             },
             "line": {
              "color": "white"
             }
            },
            "header": {
             "fill": {
              "color": "#C8D4E3"
             },
             "line": {
              "color": "white"
             }
            },
            "type": "table"
           }
          ]
         },
         "layout": {
          "annotationdefaults": {
           "arrowcolor": "#2a3f5f",
           "arrowhead": 0,
           "arrowwidth": 1
          },
          "coloraxis": {
           "colorbar": {
            "outlinewidth": 0,
            "ticks": ""
           }
          },
          "colorscale": {
           "diverging": [
            [
             0,
             "#8e0152"
            ],
            [
             0.1,
             "#c51b7d"
            ],
            [
             0.2,
             "#de77ae"
            ],
            [
             0.3,
             "#f1b6da"
            ],
            [
             0.4,
             "#fde0ef"
            ],
            [
             0.5,
             "#f7f7f7"
            ],
            [
             0.6,
             "#e6f5d0"
            ],
            [
             0.7,
             "#b8e186"
            ],
            [
             0.8,
             "#7fbc41"
            ],
            [
             0.9,
             "#4d9221"
            ],
            [
             1,
             "#276419"
            ]
           ],
           "sequential": [
            [
             0,
             "#0d0887"
            ],
            [
             0.1111111111111111,
             "#46039f"
            ],
            [
             0.2222222222222222,
             "#7201a8"
            ],
            [
             0.3333333333333333,
             "#9c179e"
            ],
            [
             0.4444444444444444,
             "#bd3786"
            ],
            [
             0.5555555555555556,
             "#d8576b"
            ],
            [
             0.6666666666666666,
             "#ed7953"
            ],
            [
             0.7777777777777778,
             "#fb9f3a"
            ],
            [
             0.8888888888888888,
             "#fdca26"
            ],
            [
             1,
             "#f0f921"
            ]
           ],
           "sequentialminus": [
            [
             0,
             "#0d0887"
            ],
            [
             0.1111111111111111,
             "#46039f"
            ],
            [
             0.2222222222222222,
             "#7201a8"
            ],
            [
             0.3333333333333333,
             "#9c179e"
            ],
            [
             0.4444444444444444,
             "#bd3786"
            ],
            [
             0.5555555555555556,
             "#d8576b"
            ],
            [
             0.6666666666666666,
             "#ed7953"
            ],
            [
             0.7777777777777778,
             "#fb9f3a"
            ],
            [
             0.8888888888888888,
             "#fdca26"
            ],
            [
             1,
             "#f0f921"
            ]
           ]
          },
          "colorway": [
           "#636efa",
           "#EF553B",
           "#00cc96",
           "#ab63fa",
           "#FFA15A",
           "#19d3f3",
           "#FF6692",
           "#B6E880",
           "#FF97FF",
           "#FECB52"
          ],
          "font": {
           "color": "#2a3f5f"
          },
          "geo": {
           "bgcolor": "white",
           "lakecolor": "white",
           "landcolor": "#E5ECF6",
           "showlakes": true,
           "showland": true,
           "subunitcolor": "white"
          },
          "hoverlabel": {
           "align": "left"
          },
          "hovermode": "closest",
          "mapbox": {
           "style": "light"
          },
          "paper_bgcolor": "white",
          "plot_bgcolor": "#E5ECF6",
          "polar": {
           "angularaxis": {
            "gridcolor": "white",
            "linecolor": "white",
            "ticks": ""
           },
           "bgcolor": "#E5ECF6",
           "radialaxis": {
            "gridcolor": "white",
            "linecolor": "white",
            "ticks": ""
           }
          },
          "scene": {
           "xaxis": {
            "backgroundcolor": "#E5ECF6",
            "gridcolor": "white",
            "gridwidth": 2,
            "linecolor": "white",
            "showbackground": true,
            "ticks": "",
            "zerolinecolor": "white"
           },
           "yaxis": {
            "backgroundcolor": "#E5ECF6",
            "gridcolor": "white",
            "gridwidth": 2,
            "linecolor": "white",
            "showbackground": true,
            "ticks": "",
            "zerolinecolor": "white"
           },
           "zaxis": {
            "backgroundcolor": "#E5ECF6",
            "gridcolor": "white",
            "gridwidth": 2,
            "linecolor": "white",
            "showbackground": true,
            "ticks": "",
            "zerolinecolor": "white"
           }
          },
          "shapedefaults": {
           "line": {
            "color": "#2a3f5f"
           }
          },
          "ternary": {
           "aaxis": {
            "gridcolor": "white",
            "linecolor": "white",
            "ticks": ""
           },
           "baxis": {
            "gridcolor": "white",
            "linecolor": "white",
            "ticks": ""
           },
           "bgcolor": "#E5ECF6",
           "caxis": {
            "gridcolor": "white",
            "linecolor": "white",
            "ticks": ""
           }
          },
          "title": {
           "x": 0.05
          },
          "xaxis": {
           "automargin": true,
           "gridcolor": "white",
           "linecolor": "white",
           "ticks": "",
           "title": {
            "standoff": 15
           },
           "zerolinecolor": "white",
           "zerolinewidth": 2
          },
          "yaxis": {
           "automargin": true,
           "gridcolor": "white",
           "linecolor": "white",
           "ticks": "",
           "title": {
            "standoff": 15
           },
           "zerolinecolor": "white",
           "zerolinewidth": 2
          }
         }
        },
        "title": {
         "text": "3d TSNE Plot for Outliers"
        },
        "width": 900
       }
      },
      "text/html": [
       "<div>\n",
       "        \n",
       "        \n",
       "            <div id=\"31078bcf-e73e-46e3-bb11-c66d8ef6fd51\" class=\"plotly-graph-div\" style=\"height:800px; width:900px;\"></div>\n",
       "            <script type=\"text/javascript\">\n",
       "                require([\"plotly\"], function(Plotly) {\n",
       "                    window.PLOTLYENV=window.PLOTLYENV || {};\n",
       "                    \n",
       "                if (document.getElementById(\"31078bcf-e73e-46e3-bb11-c66d8ef6fd51\")) {\n",
       "                    Plotly.newPlot(\n",
       "                        '31078bcf-e73e-46e3-bb11-c66d8ef6fd51',\n",
       "                        [{\"customdata\": [[0.263995357], [0.546092303], [0.33671410399999996], [0.092107835], [0.325261175], [0.212464853], [0.258565714], [0.869236755], [0.197077957], [0.292984504], [0.82178316], [0.796622959], [0.045577010999999994], [0.613660351], [0.9507445659999999], [0.33634633700000005], [0.034440667], [0.741544275], [0.18443265], [0.664514943], [0.16282485800000002], [0.729838445], [0.62837389], [0.057883660999999996], [0.445534827], [0.80183695], [0.27709612], [0.228634015], [0.834860657], [0.6697665110000001], [0.532527349], [0.17045907100000002], [0.5102884679999999], [0.977561989], [0.249775993], [0.9755006820000001], [0.613701727], [0.16742036300000002], [0.537472516], [0.379899131], [0.633897303], [0.633960424], [0.5499746529999999], [0.178172988], [0.85563814], [0.321796672], [0.8174905370000001], [0.254879417], [0.344140513], [0.8061457259999999], [0.27708167100000003], [0.544328519], [0.07708393], [0.273081458], [0.390877336], [0.349621385], [0.214549744], [0.206075222], [0.86461997], [0.9817088540000001], [0.33482964600000004], [0.648387061], [0.093643561], [0.837802698], [0.7603439670000001], [0.29140417399999996], [0.3413454], [0.7611124840000001], [0.541899775], [0.684176639], [0.983535597], [0.52081245], [0.328227724], [0.09715793800000001], [0.876088593], [0.870214512], [0.656086992], [0.306791514], [0.48126734], [0.259559174], [0.326123655], [0.930568042], [0.6583894], [0.689992335], [0.315781109], [0.5669050929999999], [0.637526619], [0.687540723], [0.324300602], [0.592704906], [0.7402531259999999], [0.5940328770000001], [0.596452977], [0.27768081699999997], [0.258329663], [0.142460864], [0.435533461], [0.7024990440000001], [0.58897535], [0.653304374], [0.336968524], [0.631244736], [0.73530076], [0.050390366], [0.064264924], [0.665359476], [0.917835245], [0.44651012], [0.661938199], [0.43935985299999997], [0.6875724040000001], [0.363462248], [0.6542621820000001], [0.578553536], [0.065927945], [0.550148559], [0.13918281400000002], [0.080004635], [0.278228358], [0.560124266], [0.53639864], [0.42653190399999996], [0.789109796], [0.742900474], [0.901692589], [0.650337401], [0.114057311], [0.260812592], [0.43991232], [0.964409284], [0.184401415], [0.345145446], [0.17589458100000002], [0.312514453], [0.674131879], [0.32825045], [0.598231057], [0.09259881699999999], [0.497916521], [0.419776521], [0.31217670000000003], [0.937857107], [0.049030963], [0.47610452600000003], [0.447397526], [0.295806058], [0.737363977], [0.625896253], [0.408813429], [0.437511156], [0.691351375], [0.935555275], [0.437846654], [0.072217715], [0.67636067], [0.468883999], [0.543820644], [0.6555226470000001], [0.6935289240000001], [0.10887831199999999], [0.285463743], [0.0], [0.706495497], [0.273530633], [0.292320271], [0.673984307], [0.12612182800000002], [0.9467074590000001], [0.9363388979999999], [0.8537553640000001], [0.7060713609999999], [0.693682186], [0.508527882], [0.34717038899999997], [0.704154263], [0.658730088], [0.155841557], [0.311085435], [0.281135347], [0.094587802], [0.6832609540000001], [0.9077292509999999], [0.29151267399999997], [0.752734459], [0.93482964], [0.071413953], [0.5948963270000001], [0.404672015], [0.13837621], [0.7473384679999999], [0.530882486], [0.282649594], [0.699335734], [0.056111250999999994], [0.855234998], [0.07789512700000001], [0.891649583], [0.38674227899999997], [0.27113158], [0.958888961], [0.085120869], [0.5269022489999999], [0.066577785], [0.841506738], [0.255342095], [0.060545771], [0.073385869], [0.187493723], [0.858365688], [0.090640352], [0.7097252270000001], [0.631300647], [0.24750447399999997], [0.822843584], [0.373476759], [0.625538582], [0.292951715], [0.299730324], [0.25121407], [0.344480551], [0.293064767], [0.7628032240000001], [0.7384708040000001], [0.674883265], [0.719151612], [0.13098021599999998], [0.511328036], [0.04492903], [0.560914449], [0.7440406409999999], [0.266961634], [0.644231853], [0.038113352], [0.05715529900000001], [0.34139246100000004], [0.7204636320000001], [0.402878236], [0.635148967], [0.320729467], [0.09120969400000001], [0.23414609], [0.8902211309999999], [0.602170884], [0.633652055], [0.806240837], [0.739731184], [0.465231269], [0.7321109], [0.373874305], [0.501587947], [0.11538315800000001], [0.7319466040000001], [0.41829872799999995], [0.062259590999999996], [0.391496379], [0.35984929], [0.24523562699999998], [0.610028339], [0.43540360200000006], [0.434309675], [0.523763344], [0.17118786600000002], [0.18773430300000002], [0.945014638], [0.027851097000000002], [0.68445706], [0.178014532], [0.643427879], [0.59588355], [0.372361682], [0.586103584], [0.271658852], [0.59951107], [0.468363088], [0.314515565], [0.21893726], [0.254716562], [0.25612815], [0.602259755], [0.134381075], [0.513887424], [0.624241636], [0.160251854], [0.580708108], [0.270540486], [0.832919932], [0.93032134], [0.719157884], [0.886720033], [0.098792281], [0.787174286], [0.365592376], [0.719576193], [0.8058956], [0.7555783340000001], [0.526005909], [0.68880424], [0.22111531199999998], [0.739369477], [0.408440236], [0.348926542], [0.433713763], [0.5964966070000001], [0.6942953000000001], [0.7090309659999999], [0.867652984], [0.89332545], [0.746020922], [0.538284443], [0.8922193140000001], [0.935175765], [0.260527707], [0.956780449], [0.204932484], [0.687733351], [0.329063619], [0.632149831], [0.463744506], [0.698859621], [0.385446564], [0.47997537700000004], [0.732279108], [0.3813543], [0.459326013], [0.257401434], [0.665014804], [0.103399542], [0.425284413], [0.943529051], [0.594750236], [0.543776817], [0.18203988], [0.23584208399999998], [0.585984497], [0.762013168], [0.6849829070000001], [0.676936933], [0.290184964], [0.48106822200000005], [0.492766033], [0.22185623399999999], [0.053875998], [0.082751144], [0.385366225], [0.702513961], [0.91553156], [0.082087436], [0.251280378], [0.41672181700000005], [0.277032672], [0.579539754], [0.569363476], [0.133399703], [0.265045463], [0.936571901], [0.252618554], [0.054033081], [0.802481439], [0.528197693], [0.9515026], [0.572121173], [0.752938227], [0.143857535], [0.513484576], [0.313322389], [0.6877973959999999], [0.37705984], [0.348226142], [0.67763282], [0.24138752100000002], [0.8506501790000001], [0.22034810300000002], [0.476445464], [0.690324025], [0.364695946], [0.6492491970000001], [0.9437019209999999], [0.529645971], [0.299097002], [0.96696247], [0.272005242], [0.314161447], [0.752020991], [0.221882453], [0.7203326729999999], [0.379204782], [0.60168653], [0.582932673], [0.950809853], [0.58830141], [0.880887227], [0.467857701], [0.8799021709999999], [0.619844009], [0.359002573], [0.291511278], [0.694157143], [0.727960353], [0.617703921], [0.39581257], [0.58317282], [0.710332374], [0.253753693], [0.049412227999999996], [0.728378695], [0.432432881], [0.58612345], [0.052342373], [0.053483902], [0.518729378], [0.933040208], [0.7035542840000001], [0.268989899], [0.733006927], [0.44435246700000003], [0.5833946210000001], [0.871172692], [0.42876707799999997], [0.30046084100000003], [0.9533294590000001], [0.606443965], [0.90986815], [0.714896449], [0.49734950899999997], [0.8530974859999999], [0.721804145], [0.303467328], [0.664485096], [0.27978062], [0.569481665], [0.628628926], [0.088368123], [0.733567326], [0.537436778], [0.638593691], [0.954726948], [0.632202332], [0.642134651], [0.744653087], [0.115714007], [0.48625007299999995], [0.440356144], [0.08272289], [0.511591027], [0.394627555], [0.224394], [0.626927584], [0.290254057], [0.779008053], [0.86610579], [0.873326081], [0.49548916], [0.594297695], [0.9182015840000001], [0.5770427539999999], [0.019467671000000002], [0.6702982820000001], [0.546595316], [0.591665146], [0.42155819], [0.6856085590000001], [0.340303024], [0.675626741], [0.319067345], [0.38849966399999997], [0.706949589], [0.559409515], [0.687663508], [0.7088045540000001], [0.6818880940000001], [0.42253510899999996], [0.320004605], [0.6582813679999999], [0.634154867], [0.7773320090000001], [0.812677205], [0.074280797], [0.39600217], [0.054933913], [0.825058925], [0.382642009], [0.8687298179999999], [0.588043346], [0.891551577], [0.10920046], [0.647682781], [0.724342512], [0.07016304400000001], [0.280882054], [0.039113261], [0.579641592], [0.639000922], [0.281745925], [0.647857744], [0.6479057970000001], [0.875226264], [0.567603305], [0.262940591], [0.268026042], [0.40519133], [0.479965451], [0.33552403], [0.777165379], [0.42548796299999997], [0.237986115], [0.142522971], [0.724176488], [0.234698933], [0.07818228099999999], [0.855990155], [0.270251765], [0.435517841], [0.762697513], [0.46448725799999996], [0.396112685], [0.37638092100000003], [0.29459467699999997], [0.6944921209999999], [0.622767949], [0.8475597220000001], [0.301463054], [0.912937812], [0.500017182], [0.902587935], [0.304517943], [0.299165673], [0.092014087], [0.488548917], [0.664664437], [0.26534954899999996], [0.723657021], [0.149262385], [0.04577339], [0.69661064], [0.42181486], [0.733845785], [0.418795386], [0.677443529], [0.26128360300000003], [0.268527767], [0.5443222360000001], [0.431632036], [0.981018141], [0.21498072399999998], [0.39472999299999995], [0.122224944], [0.297496875], [0.37490443100000004], [0.68698771], [0.388549207], [0.039296071], [0.73553424], [0.37929489299999997], [0.7321233859999999], [0.33922143899999996], [0.659450594], [0.054838642], [0.640112102], [0.30714170399999996], [0.39661190700000004], [0.420439161], [0.24171497399999997], [0.065893153], [0.9105219370000001], [0.697163103], [0.072559853], [0.81825094], [0.311888815], [0.961644609], [0.816325524], [0.14647302], [0.548753945], [0.946158087], [0.293992717], [0.331479643], [0.9062200309999999], [0.525540416], [0.83301411], [0.514849806], [0.574609024], [0.46871185299999996], [0.71002775], [0.645973276], [0.229794416], [0.551783393], [0.055822990999999995], [0.331750941], [0.715520198], [0.583924357], [0.30695769100000003], [0.7914782370000001], [0.16423663900000002], [0.065711219], [0.948993132], [0.080423835], [0.052495426], [0.566346135], [0.3630266], [0.605442195], [0.6308505839999999], [0.065791238], [0.28681707100000003], [0.685462839], [0.260853706], [0.659122429], [0.44317392200000005], [0.602063986], [0.060366910999999995], [0.781903153], [0.5145798070000001], [0.48388621299999995], [0.600213807], [0.49736405200000006], [0.411145245], [0.116999171], [0.34189014100000004], [0.746950848], [0.39629274600000003], [0.6221438429999999], [0.335271141], [0.140257137], [0.081620681], [0.069837569], [0.46894000799999996], [0.9908574170000001], [0.896616832], [0.255310561], [0.22464526699999998], [0.01991825], [0.296480415], [0.155458996], [0.577916714], [0.9563030309999999], [0.813464394], [0.529675785], [0.287671353], [0.48039136], [0.28104482199999997], [0.633196521], [0.09332537699999999], [0.28447398100000004], [0.052223775], [0.051129385], [0.967405608], [0.040045727999999996], [0.9085829209999999], [0.6621174160000001], [0.42470320899999997], [0.72207806], [0.666193327], [0.509681253], [0.7513536209999999], [0.279073124], [0.074927], [0.916359535], [0.31040327], [0.716604052], [0.485587085], [0.30607518100000003], [0.477558204], [0.7119239409999999], [0.066348638], [0.27453935100000004], [0.31082252], [0.47607312700000004], [0.186795565], [0.26654207], [0.070231142], [0.26951927], [0.800004713], [0.27363366699999997], [0.14647919199999998], [0.378318951], [0.373849065], [0.242170835], [0.249796488], [0.066591188], [0.372956798], [0.501812291], [0.313097752], [0.8802021959999999], [0.51981893], [0.364138746], [0.49268289600000004], [0.285732652], [0.890114985], [0.316419561], [0.26866354], [0.771975959], [0.968888992], [0.080334377], [0.7368282209999999], [0.30055807100000004], [0.9179503929999999], [0.465815039], [0.054036682], [0.963150123], [0.08965350300000001], [0.7076932340000001], [0.636416037], [0.539521117], [0.114757161], [0.357312419], [0.67639834], [0.43482839], [0.032326387000000005], [0.711365605], [0.187486519], [0.052789653], [0.5058636129999999], [0.927431873], [0.6809842559999999], [0.882822186], [0.495705441], [0.596240398], [0.320610701], [0.3413685], [0.159681797], [0.318133669], [0.8393010479999999], [0.06435925099999999], [0.470216633], [0.7762522909999999], [0.635843383], [0.62510543], [0.52959065], [0.986900166], [0.078585688], [0.233284267], [0.363330957], [0.7167169809999999], [0.37588979200000006], [0.223316889], [0.299343986], [0.538595767], [0.730297124], [0.66033077], [0.435296009], [0.326494313], [0.854402708], [0.5734938470000001], [0.757786135], [0.704743233], [0.281575597], [0.671968208], [0.313726015], [0.364338275], [0.368216396], [0.38629520700000003], [0.655971865], [0.5660252729999999], [0.424999093], [0.090110371], [0.772350538], [0.331047258], [0.273716188], [0.23877568], [0.37307977200000003], [0.331185868], [0.256134531], [0.678373225], [0.43463833799999996], [0.654668307], [0.986681065], [0.371520495], [0.408359618], [0.40932365], [0.283412082], [0.395246531], [0.010984428000000001], [0.306013869], [0.266194806], [0.299318521], [0.318293946], [0.74282591], [0.09766432900000001], [0.079666942], [0.613258767], [0.99443072], [0.568835082], [0.7080345159999999], [0.37059271899999996], [0.669867361], [0.651295625], [0.462531569], [0.7196256190000001], [0.45377248], [0.394863946], [0.323974831], [0.146454724], [0.7790670409999999], [0.401828915], [0.601479585], [0.856423023], [0.565242962], [0.301225108], [0.282108144], [0.594378011], [0.705312368], [0.5408696279999999], [0.319249574], [0.36176613799999996], [0.625000704], [0.316287401], [0.047239021], [0.801182233], [0.508474436], [0.8178934109999999], [0.399235601], [0.9740519990000001], [0.72241535], [0.039564764], [0.908684108], [0.47301013399999997], [0.7180496279999999], [0.7634790690000001], [0.6475965370000001], [0.8949973859999999], [0.22282590100000002], [0.359012234], [0.944910252], [0.297877816], [0.172517997], [0.556586265], [0.876481735], [0.48667784299999994], [0.459496733], [0.47412637700000004], [0.70101144], [0.337597387], [0.537578886], [0.966992448], [0.056849545], [0.233249065], [0.380054711], [0.602929443], [0.303847999], [0.170194553], [0.972168554], [0.332168927], [0.6887286890000001], [0.110773401], [0.273352065], [0.572939678], [0.491457065], [0.281389999], [0.821697261], [0.6749776829999999], [0.585134549], [0.7105961159999999], [0.040488789], [0.568054311], [0.321752928], [0.611850232], [0.926096887], [0.618347428], [0.667629785], [0.39773346600000004], [0.290875487], [0.594375103], [0.508255233], [0.338571357], [0.43230234700000003], [0.302221978], [0.87619819], [0.080204492], [0.092333532], [0.09365644699999999], [0.6084523510000001], [0.732654598], [0.944158855], [0.26742308], [0.731124201], [0.661308553], [0.38776626200000003], [0.962585273], [0.322067067], [0.6340810929999999], [0.475345002], [0.35355897299999994], [0.8859363159999999], [0.876798106], [0.221581064], [0.394362449], [0.8050356759999999], [0.452898486], [0.592520516], [0.761026394], [0.245049023], [0.37213936299999995], [0.681054822], [0.7471431479999999], [0.9207395290000001], [0.097207945], [0.699302998], [0.721647006], [0.5353561139999999], [0.738293805], [0.7064675509999999], [0.67395061], [0.7112122909999999], [0.302558708], [0.080097855], [0.707010837], [0.512248622], [0.659627472], [0.657559694], [0.100645606], [0.92665363], [0.892879338], [0.839157508], [0.890959718], [0.556754471], [0.960361937], [0.631037864], [0.029838065], [0.278843351], [0.926157705], [0.551504258], [0.485942349], [0.43723469600000003], [0.25231801800000003], [0.515466972], [0.43725229600000004], [0.493724207], [0.83324725], [0.317521477], [0.28623456199999997], [0.726833965], [0.495667033], [0.028645255], [0.31967191699999997], [0.674344598], [0.7660371890000001], [0.65456992], [0.7565143809999999], [0.528253719], [0.38971949100000003], [0.355087459], [0.87015202], [0.7390833059999999], [0.305761846], [0.411587673], [0.063633094], [0.735409395], [0.605916669], [0.539395562], [0.566183532], [0.674795186], [0.070993366], [0.12526410000000002], [0.279601492], [0.952174402], [0.233806762], [0.43724742899999997], [0.925423095], [0.433498634], [0.52517902], [0.088435529], [0.447677638], [0.647000631], [0.9036033370000001], [0.265790738], [0.66419695], [0.498120658], [0.49018894399999996], [0.747084187], [0.906783648], [0.678770917], [0.348599859], [0.294839683], [0.705691827], [0.211917931], [0.063201124], [0.276699543], [0.672459395], [0.8082059490000001], [0.296538373], [0.16012686199999998], [0.439385032], [0.555951416], [0.386240112], [0.158689619], [0.214499855], [0.299579429], [0.569161656], [0.488614799], [0.8782950209999999], [0.649380949], [0.465713341], [0.16813774], [0.87529545], [0.8411323409999999], [0.33292081], [0.5130478589999999], [0.30505507800000004], [0.8126269909999999], [0.25096706], [0.5024355779999999], [0.45799074100000003]], \"hoverlabel\": {\"namelength\": 0}, \"hovertemplate\": \"0=%{x}<br>1=%{y}<br>2=%{z}<br>Feature=%{customdata[0]}<br>Label=%{marker.color}\", \"legendgroup\": \"\", \"marker\": {\"color\": [0, 0, 0, 1, 0, 0, 0, 0, 1, 1, 0, 1, 0, 0, 1, 0, 1, 1, 1, 0, 1, 0, 0, 1, 1, 1, 0, 0, 1, 1, 0, 0, 1, 1, 0, 1, 1, 0, 0, 0, 0, 0, 0, 1, 0, 0, 1, 0, 1, 0, 1, 1, 0, 1, 0, 1, 1, 0, 0, 1, 0, 0, 0, 1, 0, 1, 1, 0, 0, 0, 0, 0, 0, 0, 0, 0, 0, 0, 0, 0, 0, 0, 0, 0, 0, 0, 0, 0, 0, 0, 0, 0, 0, 0, 0, 0, 0, 0, 0, 0, 0, 0, 0, 0, 0, 0, 0, 0, 0, 0, 0, 0, 0, 0, 0, 0, 0, 0, 0, 0, 0, 0, 0, 0, 0, 0, 0, 0, 0, 0, 0, 0, 0, 0, 0, 0, 0, 0, 0, 0, 0, 0, 0, 0, 0, 0, 0, 0, 0, 0, 0, 0, 0, 0, 0, 0, 0, 0, 0, 0, 0, 0, 0, 0, 0, 0, 0, 0, 0, 0, 0, 0, 0, 0, 0, 0, 0, 0, 0, 0, 0, 0, 0, 0, 0, 0, 0, 0, 0, 0, 0, 0, 0, 0, 0, 0, 0, 0, 0, 0, 0, 0, 0, 0, 0, 0, 0, 0, 0, 0, 0, 0, 0, 0, 0, 0, 0, 0, 0, 0, 0, 0, 0, 0, 0, 0, 0, 0, 0, 0, 0, 0, 0, 0, 0, 0, 0, 0, 0, 0, 0, 0, 0, 0, 0, 0, 0, 0, 0, 0, 0, 0, 0, 0, 0, 0, 0, 0, 0, 0, 0, 0, 0, 0, 0, 0, 0, 0, 0, 0, 0, 0, 0, 0, 0, 0, 0, 0, 0, 0, 0, 0, 0, 0, 0, 0, 0, 0, 0, 0, 0, 0, 0, 0, 0, 0, 0, 0, 0, 0, 0, 0, 0, 0, 0, 0, 0, 0, 0, 0, 0, 0, 0, 0, 0, 0, 0, 0, 0, 0, 0, 0, 0, 0, 0, 0, 0, 0, 0, 0, 0, 0, 0, 0, 0, 0, 0, 0, 0, 0, 0, 0, 0, 0, 0, 0, 0, 0, 0, 0, 0, 0, 0, 0, 0, 0, 0, 0, 0, 0, 0, 0, 0, 0, 0, 0, 0, 0, 0, 0, 0, 0, 0, 0, 0, 0, 0, 0, 0, 0, 0, 0, 0, 0, 0, 0, 0, 0, 0, 0, 0, 0, 0, 0, 0, 0, 0, 0, 0, 0, 0, 0, 0, 0, 0, 0, 0, 0, 0, 0, 0, 0, 0, 0, 0, 0, 0, 0, 0, 0, 0, 0, 0, 0, 0, 0, 0, 0, 0, 0, 0, 0, 0, 0, 0, 0, 0, 0, 0, 0, 0, 0, 0, 0, 0, 0, 0, 0, 0, 0, 0, 0, 0, 0, 0, 0, 0, 0, 0, 0, 0, 0, 0, 0, 0, 0, 0, 0, 0, 0, 0, 0, 0, 0, 0, 0, 0, 0, 0, 0, 0, 0, 0, 0, 0, 0, 0, 0, 0, 0, 0, 0, 0, 0, 0, 0, 0, 0, 0, 0, 0, 0, 0, 0, 0, 0, 0, 0, 0, 0, 0, 0, 0, 0, 0, 0, 0, 0, 0, 0, 0, 0, 0, 0, 0, 0, 0, 0, 0, 0, 0, 0, 0, 0, 0, 0, 0, 0, 0, 0, 0, 0, 0, 0, 0, 0, 0, 0, 0, 0, 0, 0, 0, 0, 0, 0, 0, 0, 0, 0, 0, 0, 0, 0, 0, 0, 0, 0, 0, 0, 0, 0, 0, 0, 0, 0, 0, 0, 0, 0, 0, 0, 0, 0, 0, 0, 0, 0, 0, 0, 0, 0, 0, 0, 0, 0, 0, 0, 0, 0, 0, 0, 1, 0, 0, 0, 0, 0, 0, 0, 0, 0, 0, 0, 0, 0, 0, 0, 0, 0, 0, 0, 0, 0, 0, 0, 0, 0, 0, 0, 0, 0, 0, 0, 0, 0, 0, 0, 0, 0, 0, 0, 0, 0, 0, 0, 0, 0, 0, 0, 0, 0, 0, 0, 0, 0, 0, 0, 0, 0, 0, 0, 0, 0, 0, 0, 0, 0, 0, 0, 0, 0, 0, 0, 0, 0, 0, 0, 0, 0, 0, 0, 0, 0, 0, 0, 0, 0, 0, 0, 0, 0, 0, 0, 0, 0, 0, 0, 0, 0, 1, 0, 1, 1, 0, 1, 0, 1, 1, 0, 1, 0, 1, 1, 1, 0, 1, 1, 1, 0, 1, 0, 1, 1, 1, 1, 0, 0, 0, 0, 0, 0, 0, 0, 0, 0, 0, 0, 0, 0, 0, 0, 0, 1, 0, 0, 0, 0, 0, 0, 0, 0, 0, 0, 0, 0, 0, 0, 0, 0, 0, 0, 0, 0, 0, 0, 0, 0, 0, 0, 0, 0, 0, 0, 0, 0, 0, 0, 0, 0, 0, 0, 0, 0, 0, 0, 0, 0, 0, 0, 0, 0, 0, 0, 0, 0, 0, 0, 0, 0, 0, 0, 0, 0, 0, 0, 0, 0, 0, 0, 0, 0, 0, 0, 0, 0, 0, 0, 0, 0, 0, 0, 0, 0, 0, 0, 0, 0, 0, 0, 0, 0, 0, 0, 0, 0, 0, 0, 0, 0, 0, 0, 0, 0, 0, 0, 0, 0, 0, 0, 0, 0, 0, 0, 0, 0, 0, 0, 0, 0, 0, 0, 0, 0, 0, 0, 0, 0, 0, 0, 0, 0, 0, 0, 0, 0, 0, 0, 0, 0, 0, 0, 0, 0, 0, 0, 0, 0, 0, 0, 0, 0, 0, 0, 0, 0, 0, 0, 0, 0, 0, 0, 0, 0, 0, 0, 0, 0, 0, 0, 0, 0, 0, 0, 0, 0, 0, 0, 0, 0, 0, 0, 0, 0, 0, 0, 0, 0, 0, 0, 0, 0, 0, 0, 0, 0, 0, 0, 0, 0, 0, 0, 0, 0, 0, 0, 0, 0, 0, 0, 0, 0, 0, 0, 0, 0, 0, 0, 0, 0, 0, 0, 0, 0, 0, 0, 0, 0, 0, 0, 0, 0, 0, 0, 0, 0, 0, 0, 0, 0, 0, 0, 0, 0, 0, 0, 0, 0, 0, 0, 0, 0, 0, 0, 0, 0, 0, 0, 0, 0], \"coloraxis\": \"coloraxis\", \"opacity\": 0.7, \"symbol\": \"circle\"}, \"mode\": \"markers\", \"name\": \"\", \"scene\": \"scene\", \"showlegend\": false, \"type\": \"scatter3d\", \"x\": [-8.269231796264648, 8.584224700927734, -7.663759231567383, 9.228433609008789, -5.875944137573242, 6.785976886749268, 8.208871841430664, 10.364275932312012, -2.765044689178467, -8.97260570526123, 11.639022827148438, -1.3569774627685547, 12.926532745361328, -3.4038212299346924, -0.9371085166931152, 7.798968315124512, 12.947059631347656, 3.3903629779815674, -8.219573020935059, 0.19073960185050964, 6.539032459259033, -8.636917114257812, -3.4861881732940674, -3.2594985961914062, 3.8218607902526855, -5.976996898651123, -0.6443252563476562, 1.2084041833877563, 3.2052063941955566, 8.283164024353027, -0.499348908662796, 7.698511123657227, -4.246335983276367, 0.5464089512825012, -4.705085277557373, -6.944304943084717, 1.0668784379959106, 1.452190637588501, -10.015955924987793, 7.4528632164001465, -0.30478331446647644, 3.6705455780029297, -0.741085410118103, 2.7585787773132324, 1.791756510734558, 8.545059204101562, 1.6913257837295532, -2.903852939605713, -1.154258131980896, 2.287388563156128, 13.910593032836914, -8.347601890563965, -6.10426139831543, 8.450556755065918, 7.554512977600098, 8.079014778137207, 8.777388572692871, 4.146949768066406, 1.3582897186279297, -3.0167298316955566, 2.5110108852386475, 0.01607687585055828, 3.4573891162872314, 4.263902187347412, -1.4073681831359863, 1.5183467864990234, 1.2899096012115479, 3.3509461879730225, -1.436795711517334, 6.34816837310791, 5.293579578399658, 8.428372383117676, -10.249873161315918, 11.98293685913086, -11.372940063476562, -10.784341812133789, -1.8279489278793335, 6.027545928955078, -14.819719314575195, -13.488181114196777, -12.682579040527344, -13.743289947509766, -1.9207521677017212, 1.1009958982467651, 5.992140769958496, 5.505486488342285, 3.2542080879211426, 5.950571537017822, -2.948350667953491, -6.1090216636657715, -11.103999137878418, 11.164604187011719, -1.2115511894226074, 7.473151206970215, 7.119871139526367, 4.438427925109863, -6.728671073913574, 3.4182181358337402, 2.5987024307250977, -1.2651678323745728, -8.322383880615234, 2.2929084300994873, 3.752077341079712, -5.7527594566345215, 3.3220014572143555, -9.590788841247559, 0.3625265955924988, 3.853621244430542, -11.413163185119629, 5.79757833480835, -8.055688858032227, -8.279799461364746, 13.05942440032959, -9.386368751525879, -5.550990581512451, -15.16535758972168, 10.769362449645996, 7.5066447257995605, 10.306116104125977, 2.830406427383423, -15.280156135559082, -2.9046497344970703, 4.145773887634277, -0.4133777916431427, -2.310939073562622, 6.2051682472229, 5.81415319442749, 8.883777618408203, 5.868781566619873, 5.443975448608398, -4.258453845977783, -6.419130325317383, 13.325603485107422, 6.961071014404297, 3.4541828632354736, -9.85218620300293, -3.9381959438323975, 12.08506965637207, 5.842630863189697, 1.034832239151001, 12.096123695373535, -5.2963995933532715, -5.21049165725708, -3.0651025772094727, 4.0561933517456055, -11.72002124786377, 8.927297592163086, 2.046952486038208, 7.134158611297607, -0.2785605192184448, -7.488698482513428, -12.452275276184082, 1.5745677947998047, -4.679757595062256, -8.949628829956055, -6.20276403427124, 0.35120293498039246, 0.1779206544160843, -12.666561126708984, 9.765105247497559, 10.68366813659668, 4.2116007804870605, -15.369682312011719, -15.380168914794922, 8.426064491271973, 1.9829840660095215, 12.36364459991455, 7.409721374511719, -2.544753313064575, -1.924249529838562, -0.33639171719551086, 3.558781623840332, 5.575248718261719, -5.839339256286621, -0.5837520956993103, 4.440916061401367, 6.943533420562744, -5.874273777008057, 7.517531871795654, 10.407761573791504, -0.39172425866127014, 5.248606204986572, 8.86722469329834, 9.185498237609863, 7.9904656410217285, 9.934422492980957, 3.7020678520202637, -3.701023817062378, -11.762860298156738, -13.004060745239258, 1.9483999013900757, -3.9543890953063965, 11.756738662719727, -6.432862281799316, 8.2738676071167, 9.949488639831543, -0.30053624510765076, 3.3627474308013916, -6.9925923347473145, -2.3074417114257812, -3.628924608230591, 0.5926186442375183, 6.398553371429443, -1.5026189088821411, -6.667453289031982, 7.736681938171387, -15.280158042907715, -3.876671075820923, 6.285672187805176, 5.180843830108643, -0.207808256149292, 4.582122325897217, 4.375204563140869, -15.542729377746582, -3.0001001358032227, -1.0970475673675537, 5.4388580322265625, 6.978931427001953, 4.525481224060059, 1.105950117111206, -7.371452331542969, 3.7804927825927734, -1.7294425964355469, -12.455880165100098, 6.42894172668457, -15.408242225646973, -2.1895346641540527, -10.535850524902344, 3.1738600730895996, 3.82137131690979, 8.65454387664795, -1.038050651550293, 10.83595085144043, 11.530492782592773, 5.744410991668701, 3.2608087062835693, 3.2719643115997314, -12.560606002807617, 8.658675193786621, -6.999091148376465, -3.7379069328308105, 1.597135305404663, -4.391176223754883, 6.091182708740234, 7.583455562591553, 5.276838779449463, -10.960188865661621, -16.07240867614746, -2.7883973121643066, -3.658496379852295, -3.9635512828826904, 1.4097577333450317, 8.051651954650879, 4.162227630615234, -10.45850944519043, -2.4985477924346924, -10.676331520080566, 5.613551616668701, 4.169772624969482, 4.181917190551758, -4.985864639282227, -3.1522865295410156, -5.327613353729248, 0.3279421627521515, -5.123867034912109, 5.966987609863281, 12.143183708190918, 8.88062858581543, -11.48452377319336, 1.8738319873809814, 2.173110008239746, 8.874307632446289, -12.296232223510742, -5.227140426635742, 8.665651321411133, -1.7787604331970215, 4.306788921356201, -4.003586292266846, 3.1841936111450195, -11.702688217163086, -1.5657703876495361, -4.806221961975098, -10.630756378173828, -8.397614479064941, -4.956390380859375, 4.195530891418457, 1.1970888376235962, 4.300233364105225, 6.1063618659973145, -7.21287202835083, -6.547429084777832, 4.267075538635254, 0.4233485758304596, 3.6501998901367188, 1.1361949443817139, 12.716275215148926, 8.191116333007812, -16.29945182800293, 0.6097562909126282, -9.577492713928223, 6.327314853668213, 6.649490833282471, 6.09443473815918, 8.3368558883667, 5.97143030166626, -13.477115631103516, 2.294947385787964, -14.036738395690918, -0.1093941479921341, 8.366944313049316, 7.794250965118408, 1.7430274486541748, 4.406678676605225, -6.377976894378662, -1.3363564014434814, -10.030844688415527, -1.9365313053131104, 7.154880046844482, -13.695805549621582, 7.210635185241699, 5.845460891723633, -12.430593490600586, 9.484369277954102, 4.1838250160217285, -17.126752853393555, -9.140501022338867, 10.872239112854004, 11.708822250366211, -0.8949074745178223, 7.252077579498291, 9.112441062927246, 5.7284955978393555, -1.8913644552230835, -8.102563858032227, 5.709972381591797, -1.7003053426742554, 5.435799598693848, -9.765029907226562, 4.052602767944336, 4.600599765777588, -10.586318016052246, -11.507863998413086, 10.576313018798828, -3.834137201309204, 10.273781776428223, -1.2998933792114258, 6.662835121154785, 1.8182264566421509, 9.374720573425293, 6.379971981048584, 1.3324311971664429, -11.644510269165039, 4.404057502746582, 8.528030395507812, 1.2239140272140503, -10.904605865478516, -4.922823429107666, 5.326488018035889, 4.995155334472656, -7.740344524383545, 6.985394477844238, 3.0930163860321045, -1.0394625663757324, -0.4809480309486389, 9.771930694580078, -15.673929214477539, 6.792940139770508, 8.366883277893066, 5.353720188140869, 3.92978835105896, -0.04276032745838165, -3.6112780570983887, -2.4472546577453613, -0.13477332890033722, 9.427022933959961, -1.582643747329712, -13.2024564743042, 6.940718650817871, 7.670010566711426, -6.780560493469238, 9.96396541595459, -0.4917093813419342, -11.705577850341797, -11.26709270477295, 6.210731029510498, -6.62807035446167, 0.4325408637523651, -0.17101392149925232, -1.58845853805542, -8.32232666015625, 0.32288870215415955, -7.447351932525635, -12.69735336303711, -12.507255554199219, 4.847607135772705, 8.618254661560059, -9.424151420593262, 7.492541313171387, -9.476507186889648, -10.71707534790039, 2.5916168689727783, -0.34638404846191406, 1.9353840351104736, 8.476156234741211, 9.270423889160156, 9.106705665588379, -3.8483126163482666, -2.0894415378570557, 10.753912925720215, 4.969842910766602, 5.414517879486084, -5.709371566772461, 3.755129337310791, -14.592299461364746, 4.689104080200195, -0.8483864665031433, 5.1175432205200195, 7.262224197387695, 12.052863121032715, -0.9471228122711182, -8.219975471496582, 0.21970203518867493, 3.4617996215820312, 6.909145832061768, -1.9965287446975708, 4.545406341552734, 8.102499961853027, 6.667710781097412, -9.414783477783203, -1.4707255363464355, -14.818812370300293, 9.940702438354492, 1.111757516860962, 7.2368693351745605, 4.654579162597656, 0.23744292557239532, 4.757687091827393, -1.9213588237762451, -12.149334907531738, -6.3186845779418945, -10.061870574951172, -15.550834655761719, -6.096996307373047, 0.2956051826477051, -1.8041841983795166, 7.132782936096191, 6.341856479644775, -3.1444156169891357, -3.165508985519409, 6.329944610595703, -0.11305908858776093, -3.7983908653259277, -1.0100769996643066, -13.931329727172852, 12.049835205078125, 6.187582969665527, -2.7714781761169434, -4.188192367553711, -14.439287185668945, -11.67082691192627, 6.333920001983643, -4.582244873046875, 0.572787344455719, -11.275948524475098, -1.3545054197311401, -11.414983749389648, -11.083086013793945, 7.21019172668457, 2.392784833908081, -2.9692132472991943, -15.234734535217285, 5.2208476066589355, 2.329101085662842, -11.124475479125977, -1.5542482137680054, 7.925480365753174, 9.326004981994629, 5.961574554443359, -8.003586769104004, 6.4992876052856445, -0.5508203506469727, 0.49252191185951233, 5.490151405334473, 0.32506805658340454, 10.486795425415039, -0.39676305651664734, 2.3636300563812256, -10.003737449645996, -9.811410903930664, -7.566985607147217, -15.982486724853516, 12.281253814697266, 5.327674865722656, 5.3362956047058105, -3.9814159870147705, 8.191570281982422, 4.676506519317627, 10.766669273376465, -3.921487808227539, -5.985668659210205, 5.824173927307129, 0.6810488700866699, -8.729228019714355, -2.7467589378356934, -9.478216171264648, -6.852450847625732, -13.298015594482422, 1.151200532913208, -10.310376167297363, 4.229201793670654, -4.818915843963623, 0.2548636496067047, 1.2005056142807007, 4.732885360717773, -15.073371887207031, -3.9393742084503174, -3.5201940536499023, -13.858856201171875, 1.1417502164840698, 2.3613874912261963, -9.921344757080078, -0.27881643176078796, 4.52716588973999, -0.3021987974643707, 4.289376735687256, 10.947603225708008, -11.266810417175293, 6.6642231941223145, -1.0522021055221558, -11.23905086517334, 3.5174551010131836, 6.1691179275512695, 11.616738319396973, 0.20917187631130219, 11.340810775756836, 7.475433349609375, 5.30149507522583, -0.9944496154785156, -4.9979071617126465, 2.3228726387023926, 2.081709623336792, 8.481371879577637, 5.177631855010986, 7.5135884284973145, 2.4473683834075928, 13.83376693725586, -11.250760078430176, 9.0271577835083, 7.623138427734375, -10.799328804016113, -5.402102470397949, -9.614897727966309, -3.548201084136963, -12.539457321166992, -2.272144079208374, 8.180437088012695, 11.118700981140137, -11.205217361450195, 11.735307693481445, -2.549610137939453, -0.11036371439695358, 4.34969425201416, -1.8693121671676636, 9.267388343811035, 1.9965331554412842, -14.28574275970459, 1.4779483079910278, 0.6943387389183044, 7.558931827545166, 10.302355766296387, -9.20296573638916, 11.149752616882324, 9.10075855255127, 6.121679306030273, 8.453039169311523, 6.637612819671631, 7.324695110321045, 6.265628814697266, -8.762215614318848, -16.213197708129883, -8.41146183013916, -15.533087730407715, -0.7928234338760376, 7.538484573364258, -0.2195783108472824, -15.264144897460938, -10.574605941772461, -2.660172939300537, 8.106059074401855, 6.717937469482422, 0.35238444805145264, -2.7685184478759766, -2.917656660079956, 8.872480392456055, 1.4574049711227417, -5.3153252601623535, 9.327016830444336, 4.69181489944458, 5.7984418869018555, -0.25910085439682007, 11.522452354431152, -3.125325918197632, 3.555915355682373, 8.959700584411621, 7.580269813537598, 6.056249141693115, 11.250422477722168, 4.155102729797363, 2.8536596298217773, 5.260754108428955, 4.213226318359375, -5.8056440353393555, -10.358112335205078, -11.105698585510254, -10.29049301147461, -2.001150608062744, -1.4550693035125732, -3.6645054817199707, -2.211310625076294, -11.19916820526123, -1.2095495462417603, -5.096130847930908, -4.3504109382629395, 0.7336880564689636, -0.6830942630767822, 8.159074783325195, 10.224244117736816, -5.592891693115234, -1.4400819540023804, -11.699420928955078, -4.951290607452393, 3.6707262992858887, -12.712209701538086, -1.0729564428329468, -6.016820907592773, -5.290566921234131, -5.462753772735596, -0.7701065540313721, 11.635652542114258, 1.827350378036499, -6.800731658935547, 5.31338357925415, 9.668581008911133, -5.6573944091796875, 4.019181251525879, -15.86931037902832, -3.846242666244507, -9.819090843200684, 4.056652545928955, -12.39184284210205, -2.204617738723755, 1.4969482421875, -0.2431987226009369, 12.616653442382812, 4.247597694396973, 5.052153587341309, -1.468129277229309, -9.318381309509277, -1.1300543546676636, 6.147966384887695, 6.721412181854248, -5.164345741271973, -1.5614925622940063, -9.193488121032715, 8.64413070678711, 3.5336251258850098, 11.847980499267578, 7.101409435272217, 3.214078426361084, 3.174513339996338, 1.369504690170288, -11.014579772949219, -3.2769618034362793, 0.6968969106674194, 8.51194953918457, -4.711497783660889, 6.716985702514648, 12.872750282287598, 8.225138664245605, 6.950552940368652, -2.4125492572784424, -0.6229152083396912, -11.318774223327637, 5.740163326263428, -0.8174710869789124, 3.432307243347168, -12.153809547424316, 0.8508336544036865, 11.315665245056152, 7.845158100128174, 3.3179070949554443, 7.3746724128723145, 4.225054740905762, 1.4816631078720093, 13.247884750366211, 11.28925895690918, -7.948521137237549, -15.420650482177734, -11.994136810302734, 3.0421431064605713, -3.4436986446380615, -5.209438323974609, -3.4175848960876465, 3.1725704669952393, -10.442549705505371, 7.920933723449707, 11.017333984375, 5.261281490325928, -2.5308778285980225, 3.160369396209717, 0.8614965081214905, -0.15329904854297638, -1.5624173879623413, -5.8410725593566895, 1.5332812070846558, 9.221887588500977, 6.658355712890625, 9.253775596618652, 1.6827737092971802, -1.2467249631881714, -8.200922966003418, 11.112146377563477, 2.3509790897369385, -8.350546836853027, 2.115434169769287, -4.202823162078857, 5.584868431091309, 11.563047409057617, 9.285945892333984, 6.25455379486084, 0.062380194664001465, -2.0597407817840576, 0.3736574351787567, 4.328649997711182, -2.2108240127563477, 11.285652160644531, -15.100411415100098, -16.2076358795166, -15.621082305908203, 2.927000045776367, 0.3508332371711731, -8.190865516662598, -9.228734970092773, 5.176769256591797, -9.495200157165527, -16.141321182250977, -16.254871368408203, 12.738286018371582, -4.760721683502197, 6.143303394317627, 7.747075080871582, -3.0737404823303223, 7.458829879760742, 8.334338188171387, -1.8881200551986694, -6.16230583190918, -13.509048461914062, -2.8965370655059814, 4.651449680328369, 1.179979920387268, 8.407346725463867, -3.1511497497558594, -2.7143025398254395, 5.015546798706055, -9.511106491088867, 8.641539573669434, 9.181682586669922, -3.3454689979553223, 7.279047012329102, -4.036792755126953, -13.172749519348145, -7.399111270904541, -1.1466342210769653, 8.426734924316406, -9.226476669311523, -2.4604172706604004, -1.322504997253418, -2.1129348278045654, -12.618663787841797, -10.539463996887207, -13.730793952941895, 9.03438949584961, 4.050119876861572, -7.0181779861450195, -16.478992462158203, 7.058104991912842, -1.669540286064148, 8.90735149383545, -14.940567970275879, -15.575408935546875, 9.953892707824707, -12.068581581115723, 3.6876220703125, -12.853285789489746, 9.06121826171875, 9.112383842468262, -3.798887014389038, -3.587679386138916, -14.174286842346191, 1.4758657217025757, -1.7649638652801514, -0.9246375560760498, -0.8150157928466797, 8.474540710449219, -7.048518180847168, 2.774810791015625, -3.692382335662842, 7.467014789581299, 12.450339317321777, -0.10751058906316757, -2.252610206604004, 6.0477423667907715, -12.869783401489258, -8.102548599243164, 4.6342291831970215, -3.0571820735931396, 3.4521327018737793, 8.355562210083008, 6.2820963859558105, 9.641891479492188, 9.392743110656738, -6.101236343383789, -16.379289627075195, 4.626924514770508, 0.5953204035758972, 5.743165016174316, 12.32493782043457, -14.288780212402344, -11.923054695129395, 5.37471866607666, 8.50420093536377, -8.145846366882324, 4.017453670501709, 5.107692241668701, -4.7108025550842285, 7.202296733856201, -1.467370629310608, -4.334510803222656, 8.665670394897461, -3.516017436981201, -14.424259185791016, -5.767455577850342, 9.788312911987305, 3.419623613357544, 7.1534104347229, 10.914387702941895, 4.318727970123291, -14.602646827697754, -7.101626396179199, -2.414245843887329, 10.969374656677246, -10.453800201416016, -3.8852269649505615, -14.713579177856445, -1.1108238697052002, 1.982350468635559, -0.33038249611854553, 13.781731605529785, -15.236929893493652, 3.980114221572876, -8.977944374084473, -14.324614524841309, -3.2534279823303223, -16.4010066986084, 1.9760942459106445, 11.901390075683594, 7.88568639755249, -15.415736198425293, 7.981134414672852, -5.305787086486816, 7.05380392074585, -5.067224025726318, 3.5553202629089355, -6.758383750915527, 8.202012062072754, -2.76562762260437, 5.064115047454834, -1.8061518669128418, -7.4366278648376465, -5.406018257141113, -5.976905822753906, -16.562294006347656, -10.85519027709961, 8.31279182434082, 7.7528605461120605, 12.952034950256348, -10.51877498626709, 0.3197327256202698, -9.906861305236816, 3.6895945072174072, -2.179102659225464, 7.873234272003174, -1.6236586570739746, -10.369854927062988, 9.275744438171387, -13.346002578735352, -10.128094673156738, 4.473775863647461, -1.5617070198059082, 2.8496274948120117, 4.2481818199157715, -2.9968419075012207, -3.080015182495117, 8.174994468688965, -17.22660255432129, -1.8875908851623535, 8.43922233581543, 6.73006534576416, -1.259562373161316, -12.539594650268555, 1.4127490520477295, -2.408827781677246, -1.3118599653244019, -11.485801696777344, 3.217926263809204, -5.439810276031494, -6.445191383361816, 4.613778114318848, 13.284623146057129, 12.216634750366211, -9.614750862121582, 13.225934982299805, 3.213670492172241, -11.627370834350586, 2.2515249252319336, -7.049195766448975, 8.848006248474121, -7.490948677062988, 0.6991767287254333, 2.1595511436462402, -4.754460334777832, -4.0463032722473145, 2.7235374450683594, 6.927477836608887, 8.290069580078125, -1.6085809469223022, -6.549159526824951, -5.6581034660339355, 7.568316459655762, 9.965238571166992, -3.3238871097564697, -3.918175458908081, -15.200048446655273, 11.702014923095703, -14.614665031433105, 3.5374369621276855, -16.07427406311035, -12.83785343170166, 3.332280397415161, 9.560887336730957, -7.534402370452881, -1.323807954788208, 8.446739196777344, 10.33981990814209, -0.5494471192359924, 5.142861366271973, 13.015725135803223, 4.950841903686523, 5.178673267364502, -2.9438533782958984, 8.047406196594238, -0.1090676411986351, -6.03535270690918, -14.357856750488281, -8.996904373168945, 0.7636088132858276, 3.4407520294189453, -11.781143188476562, 3.420396566390991, -2.3685076236724854, 4.828761100769043, -16.336626052856445, -10.749412536621094, -5.460113048553467, -12.315245628356934, 5.582312107086182, 6.362596035003662, 5.161628723144531, 0.35248008370399475, 8.794479370117188, 3.9420857429504395, -8.155091285705566, -16.633588790893555, 9.280797958374023, 5.987960338592529, -0.7515425682067871, -2.2752599716186523, 7.848535060882568, 10.673383712768555, -0.7662317752838135, 9.19636344909668, -12.627791404724121, -16.306642532348633, -5.475742340087891, 5.054011821746826, -8.451103210449219, 3.0267534255981445, -14.80217456817627, 7.330168724060059, -1.6480638980865479], \"y\": [1.2574995756149292, 3.1649742126464844, 4.7885661125183105, 0.8451601266860962, -0.4212431013584137, 0.29328984022140503, -4.73559045791626, 8.66010856628418, 5.925663948059082, -6.601105690002441, 9.295271873474121, -0.1331414431333542, -0.5355154275894165, -2.327423572540283, 6.1844563484191895, 1.5114692449569702, -0.47391122579574585, -1.705798864364624, 5.943780899047852, -1.7648733854293823, 0.03208538517355919, -4.678508758544922, -1.4041732549667358, 5.46353816986084, 2.822002410888672, -5.958336353302002, -1.0475351810455322, 4.025031566619873, 9.645734786987305, 5.893579959869385, 4.897848606109619, 2.197478771209717, -3.882481813430786, 7.506389617919922, -2.3154807090759277, -5.215219020843506, -2.708895444869995, 4.093941688537598, -3.086078405380249, 3.32954740524292, -6.7827959060668945, 6.349148750305176, -0.5977404713630676, 0.6451285481452942, 5.317502498626709, 1.1797459125518799, 6.321743011474609, 5.429698944091797, -0.38039806485176086, -2.272575616836548, 6.400982856750488, 7.037015438079834, -3.1038222312927246, 1.3316413164138794, 0.18599744141101837, -1.5601763725280762, 0.48468881845474243, -1.1545326709747314, 7.411020755767822, 5.836050510406494, -0.6568015813827515, -3.888455629348755, 2.546984910964966, 6.567984580993652, -1.7944927215576172, 6.815427303314209, -5.958004951477051, -2.4790515899658203, -0.06368011236190796, 4.558018207550049, 8.822436332702637, 5.151329040527344, -1.223138689994812, 2.9884419441223145, -7.495184421539307, -3.0112807750701904, 3.1441726684570312, 4.251981735229492, -9.688397407531738, -6.603613376617432, -6.48702335357666, -1.3712435960769653, -0.5285940170288086, -2.9608089923858643, -1.8530043363571167, 4.9661478996276855, -0.4030800461769104, -4.166969299316406, 1.8557018041610718, -3.1596765518188477, -4.543260097503662, 7.0380401611328125, 0.8894167542457581, -5.193772315979004, -0.6117177605628967, 3.5728209018707275, -2.057387590408325, 3.8021674156188965, -4.3143534660339355, 2.236837148666382, -1.199221134185791, -3.492856502532959, 3.805382251739502, -4.790204048156738, 4.524499416351318, -3.1185457706451416, -4.549905776977539, 0.4011574983596802, -7.260173797607422, 5.282097339630127, -4.417728424072266, -1.359174370765686, 6.973880767822266, -4.220591068267822, 2.2795140743255615, -2.8231778144836426, -3.7604734897613525, -5.518028736114502, 1.6234745979309082, -5.678361415863037, -3.5700843334198, 3.3335647583007812, 4.275423526763916, -2.6699674129486084, -4.412205219268799, 2.9277069568634033, -0.43476563692092896, 2.6949591636657715, -0.8871085047721863, 3.0682857036590576, 0.25560370087623596, -2.564422845840454, 6.087514400482178, -2.615384101867676, -3.834073305130005, -0.45218625664711, -0.10629448294639587, 3.7033779621124268, 1.9639431238174438, 1.3998098373413086, 4.115024089813232, -4.719888210296631, -4.764161586761475, -0.2056901901960373, -6.053607940673828, -5.007711887359619, 7.07974910736084, -4.456348419189453, 2.1087758541107178, -1.9949095249176025, -4.534533500671387, -4.022826671600342, 6.028454780578613, -5.882065773010254, -3.3010191917419434, -2.175400733947754, -2.0405850410461426, -4.176114082336426, -6.993432521820068, 1.8659759759902954, -3.181609869003296, -2.0440680980682373, -5.442149639129639, -9.455257415771484, 2.1721103191375732, -3.5703446865081787, 3.603344440460205, 8.9940824508667, 3.9116592407226562, -5.167539119720459, -4.744909763336182, 5.044776439666748, 2.7070534229278564, 1.7979259490966797, -1.938015103340149, -3.972118854522705, 1.0436958074569702, 2.5525970458984375, 2.1717638969421387, 3.3945772647857666, 3.983286142349243, 6.21221399307251, 1.555586814880371, 7.536632537841797, 8.156859397888184, -4.777719497680664, 3.729311466217041, -0.4363018274307251, -4.4405951499938965, -3.517317771911621, -4.251938819885254, 0.24446582794189453, 7.805286884307861, 2.3308396339416504, -1.2753616571426392, -3.071659803390503, 3.5787644386291504, 5.95515775680542, -0.7946031093597412, -3.9118154048919678, 2.236416816711426, -0.23364059627056122, -2.0267457962036133, -0.5466752052307129, 3.552809476852417, 1.9566831588745117, -6.975596904754639, 1.8816025257110596, 6.208275318145752, 0.16007038950920105, -2.550157070159912, 1.7152963876724243, 5.189509868621826, -1.894663691520691, 3.360361099243164, 2.365246534347534, 0.6863841414451599, 3.3363614082336426, 4.925160884857178, 2.625093698501587, 3.739996910095215, 1.0316615104675293, 0.5582904815673828, -8.347168922424316, -1.4952921867370605, -5.849307060241699, -2.0698647499084473, -5.51876974105835, -4.672268867492676, -1.064120888710022, -3.1230390071868896, 0.7301025986671448, 3.808628559112549, 3.57596492767334, -4.982348918914795, 0.7683079838752747, 1.0968730449676514, -2.964611768722534, 2.955487012863159, 2.438983917236328, 1.896752953529358, 3.1039233207702637, 2.948435068130493, -1.4365911483764648, 7.244053363800049, -1.7526615858078003, -2.945155143737793, -8.270986557006836, -2.487089157104492, -0.9104633331298828, -5.298840522766113, 4.244080066680908, 4.732198238372803, -2.3352017402648926, -3.798637628555298, 3.587226629257202, -0.2801096737384796, -3.8854525089263916, -0.6949188709259033, -6.099595546722412, 1.8332473039627075, -1.7480717897415161, 0.30177971720695496, 4.618735313415527, -4.962427139282227, -1.04262375831604, 5.099916934967041, -1.5701502561569214, -6.992766380310059, 6.457263469696045, 1.2605407238006592, -0.9662033319473267, -0.6877596378326416, 2.132384777069092, 1.402755856513977, -5.000548839569092, 3.0890910625457764, 0.3462902307510376, 0.559108555316925, -4.161195278167725, -2.2589871883392334, 2.076785087585449, -5.035065650939941, -2.072003126144409, 2.6391563415527344, 2.804210662841797, -3.720271587371826, 0.928422212600708, -3.1829349994659424, 0.06447160243988037, -4.686436176300049, -0.8455142378807068, -4.399792194366455, 1.853615403175354, -2.656499147415161, 4.824409484863281, 6.014191150665283, -8.254462242126465, -2.0459582805633545, -1.0728275775909424, 4.835745811462402, -4.665966987609863, 6.392711639404297, 6.908602237701416, 4.786233901977539, -6.1954240798950195, 3.024750232696533, -5.219775199890137, -5.777952671051025, 7.828090667724609, 7.977126121520996, -5.8538432121276855, 5.741983413696289, 2.166442632675171, 2.4684019088745117, 0.8075318336486816, -4.882786273956299, -2.2314565181732178, -7.2912797927856445, -1.620003581047058, 4.814786434173584, -3.5473861694335938, 4.628493309020996, 2.408083438873291, -4.759128093719482, -3.9697961807250977, 4.4971184730529785, 6.271973609924316, 2.606518030166626, 4.816903591156006, -1.7530125379562378, 2.083613872528076, -3.722259998321533, -2.5716681480407715, -3.9643290042877197, 2.7461600303649902, 2.3254783153533936, 0.14018172025680542, 4.015199661254883, 1.117922067642212, 0.5791078805923462, -7.068759918212891, 1.5216169357299805, -5.937749862670898, 7.808794975280762, 1.1677632331848145, -2.5367801189422607, -6.510153770446777, 2.6828577518463135, 2.2080342769622803, 4.478176593780518, -0.47155559062957764, -6.483834266662598, -0.505048394203186, -3.743608236312866, -7.256747722625732, -2.1792049407958984, 1.3956571817398071, 4.468381404876709, -5.573665142059326, 3.7615067958831787, 2.648486375808716, 0.5815207958221436, -4.487796783447266, 4.062723636627197, -5.618696689605713, 5.213955402374268, -4.9269232749938965, -3.868252754211426, -0.37171706557273865, -0.9903628826141357, 1.9657622575759888, 2.0188467502593994, 4.07843017578125, 4.4923810958862305, -2.1428303718566895, -6.330002784729004, 4.787236213684082, -1.3574373722076416, -4.8444085121154785, 3.6574580669403076, 0.6444917321205139, -5.534244537353516, -0.8317029476165771, 3.439211845397949, -1.2505816221237183, -4.526981830596924, -3.1060054302215576, -3.3199477195739746, -2.4596805572509766, -2.518400192260742, -2.2489099502563477, -2.1686184406280518, -3.6846683025360107, -4.903203010559082, -0.6961957216262817, -2.9417357444763184, 6.978002071380615, -3.1377828121185303, -3.17653226852417, -5.667957305908203, -1.516850471496582, -5.709254741668701, 2.15381121635437, 7.668584823608398, -2.3231613636016846, 4.43771505355835, 0.3949141204357147, 1.6155604124069214, 6.695379734039307, 1.2155086994171143, -3.6091630458831787, 6.049413681030273, -6.263586521148682, -1.578758716583252, 0.07690680772066116, -3.5549051761627197, -0.11083145439624786, 5.983950138092041, 1.3960518836975098, -2.5013742446899414, 1.9220796823501587, 0.8646541833877563, 3.891016960144043, 3.878274440765381, -3.089702844619751, -3.4409823417663574, 4.95762825012207, -0.6933889389038086, 3.2034099102020264, -2.46950364112854, -4.539248466491699, -3.430368661880493, 4.834964275360107, 8.171403884887695, 4.707444667816162, -4.8277907371521, 1.463992714881897, -7.715483665466309, 4.0549492835998535, -3.4954824447631836, -9.105783462524414, 3.0928187370300293, 2.5864131450653076, 1.1486483812332153, 1.5449506044387817, 7.35064172744751, -4.813316822052002, 0.4873042106628418, 7.680852890014648, -1.9346834421157837, 0.29732030630111694, -2.5992372035980225, -6.382037162780762, 6.926785945892334, -0.6461809873580933, -1.5932646989822388, 0.5745271444320679, -9.23756217956543, -1.7629985809326172, 3.927504539489746, 3.626065492630005, -0.0004387464141473174, -8.309468269348145, 4.1203813552856445, -4.606619834899902, -7.070508003234863, 8.681894302368164, -3.6979312896728516, 3.1274123191833496, -4.2728729248046875, -6.853110313415527, -0.1812872588634491, -2.0245883464813232, -1.8227342367172241, -1.9942138195037842, -2.616452693939209, 3.2267043590545654, 0.6091427206993103, 0.2775072753429413, -4.908595085144043, -2.481829881668091, 5.165558815002441, 2.3524885177612305, -4.091604709625244, 1.9202901124954224, 5.597540378570557, -0.14189869165420532, -0.000774378189817071, 1.5046864748001099, -6.705361843109131, 5.5192790031433105, 0.9057972431182861, 6.730281829833984, 3.0279645919799805, 7.143444061279297, 6.285896301269531, 3.1182193756103516, -4.30949068069458, -1.8750940561294556, 1.6976028680801392, 4.082698345184326, -4.745564937591553, 2.389019250869751, -0.33867669105529785, 1.4938385486602783, -9.088973999023438, -6.585176467895508, -0.39798784255981445, 5.955057144165039, 0.8905071020126343, -4.845761775970459, 3.853292226791382, 1.767485499382019, -8.934357643127441, -5.728476524353027, -5.49153995513916, -9.503010749816895, 4.436121463775635, 3.89365553855896, -1.3419326543807983, -0.1915551722049713, 1.035555362701416, 2.5964388847351074, 4.2196550369262695, -2.80114483833313, -0.15155574679374695, -4.6033220291137695, -1.7208726406097412, 1.2862887382507324, 3.740185022354126, 4.904591083526611, 2.2935962677001953, -0.46094751358032227, 4.73404598236084, 7.655994415283203, 6.7987961769104, 0.02377648465335369, -0.3989652991294861, 6.3806633949279785, 2.8110978603363037, 4.283937931060791, 1.4462136030197144, 1.4799513816833496, -6.219715118408203, 3.8955183029174805, -4.218023300170898, 4.431227207183838, 6.744265079498291, -4.895519733428955, -4.067845344543457, -2.5802855491638184, 2.482919216156006, -6.977322578430176, -4.553537845611572, 0.8750059604644775, 1.7875550985336304, -6.64058780670166, 5.385183334350586, 3.6611642837524414, 2.176684617996216, 5.35598611831665, -5.191001892089844, 7.617569446563721, -4.395852088928223, -8.054503440856934, -2.5333199501037598, 3.8888111114501953, 8.59697151184082, 6.825447082519531, 0.17125491797924042, 5.893015384674072, 8.125762939453125, 2.1922035217285156, 3.130009889602661, 8.204540252685547, -0.3490341603755951, -4.05009126663208, -1.3825374841690063, -3.699993133544922, -1.8175899982452393, -5.396078109741211, 4.203418254852295, -0.9430577754974365, -5.756349086761475, -7.095130443572998, 1.376608967781067, -0.8547582626342773, -2.8563597202301025, 5.039856433868408, -0.8974299430847168, -4.831133842468262, 3.1096291542053223, 8.022643089294434, 1.9294573068618774, -4.5413007736206055, 6.227077960968018, 5.595739841461182, 4.163018703460693, 2.498504638671875, 2.75895619392395, 2.9318292140960693, 5.918137073516846, -4.341084957122803, 5.097721099853516, 1.745350956916809, 6.963679790496826, 2.5513923168182373, -5.118162631988525, 4.103130340576172, 0.7228888869285583, -3.3718934059143066, -2.402928590774536, 0.48002326488494873, -7.1776204109191895, -5.299658298492432, 4.146209239959717, 2.5051488876342773, -4.61429500579834, 1.1406017541885376, 1.6819809675216675, -3.7710366249084473, -5.3490891456604, 4.321558952331543, 3.1556265354156494, 9.667054176330566, -3.6004323959350586, 2.3054521083831787, 0.9595191478729248, -8.488421440124512, -1.6581802368164062, 5.05221700668335, -8.907657623291016, -0.32604461908340454, -2.8928749561309814, -0.6080712080001831, -3.0325911045074463, 1.5821075439453125, 6.976624488830566, 1.0212920904159546, 3.6570329666137695, 0.06229208782315254, -3.0161311626434326, -4.531128883361816, 2.615867853164673, -6.536486625671387, 3.975529193878174, -1.902160882949829, 4.062795162200928, -1.5142624378204346, -2.006138324737549, -2.623683214187622, 1.320911169052124, 4.1111321449279785, -3.265364646911621, 2.2915799617767334, 1.077642560005188, -1.7539108991622925, -2.1463241577148438, 4.98975944519043, 7.734884738922119, -2.808811902999878, 3.9108030796051025, -0.12055092304944992, 4.573574542999268, 0.9712569117546082, 2.6283717155456543, -2.4429731369018555, 6.162927627563477, -3.400876760482788, 1.9313732385635376, -6.57636022567749, -5.4986138343811035, 0.6086223125457764, 1.8710740804672241, -3.7112059593200684, 1.0578022003173828, 5.363527774810791, 4.976143836975098, -2.678107261657715, 3.8709559440612793, -1.2747644186019897, 0.2439860850572586, 2.609776258468628, -6.604149341583252, -3.059814929962158, -4.402342319488525, -6.605468273162842, 7.811023235321045, 8.788739204406738, 3.3981618881225586, 7.670685291290283, 5.789413928985596, 5.6762003898620605, 7.249604225158691, 1.2262009382247925, -4.856021404266357, -5.507457256317139, -5.471221446990967, 3.3823137283325195, 4.07570743560791, -7.369810581207275, -2.3141469955444336, 9.698485374450684, -2.6627824306488037, -1.2190505266189575, 7.592405796051025, -0.670724093914032, 1.040665626525879, 0.9256516695022583, 7.136058807373047, -3.4936368465423584, -5.844423770904541, -6.0687737464904785, -5.565629005432129, 2.380286931991577, 0.30955952405929565, 1.506588339805603, -5.635869026184082, 1.4521422386169434, 5.87303352355957, -2.0830142498016357, 6.820130348205566, 7.103468418121338, -0.7334613800048828, -3.8645126819610596, 6.944314479827881, 0.4942564070224762, 3.286046266555786, 1.4808701276779175, -2.600766897201538, 3.1459407806396484, 0.8355996608734131, -5.038746356964111, 4.142143726348877, 7.542403697967529, -2.2452378273010254, -7.270451068878174, -8.603706359863281, 1.069443702697754, -1.2463762760162354, -2.098667621612549, -2.4320929050445557, -0.39270707964897156, -3.3721301555633545, -8.152478218078613, -4.052822589874268, 5.878988265991211, 1.0173698663711548, 7.964520454406738, 3.0601391792297363, 2.091628074645996, -0.7284533381462097, -1.3993901014328003, -3.6087472438812256, 2.5733518600463867, -6.330143928527832, -1.9219354391098022, 2.0948641300201416, -6.389174938201904, 7.222891330718994, -5.5580058097839355, -1.4118547439575195, -1.9104210138320923, 0.6769847869873047, -4.394654750823975, -2.381486654281616, 0.932162880897522, -2.3731179237365723, -0.1706693023443222, -6.100450038909912, -0.19569191336631775, 3.2853872776031494, -2.9156031608581543, -3.2097837924957275, -5.430152893066406, 0.9343745708465576, 4.149892807006836, -8.762369155883789, -2.519700050354004, -3.0591299533843994, -3.5273571014404297, 5.029978275299072, -4.313435077667236, -8.445279121398926, 7.826023578643799, -2.036729335784912, 2.5243194103240967, -8.662161827087402, -5.009041786193848, 7.76964807510376, -3.346355676651001, -0.4112020432949066, -6.565038681030273, -1.9700027704238892, 2.656831979751587, -3.5312304496765137, 0.7036980390548706, -4.7843146324157715, -4.722318649291992, 0.8618959784507751, -0.2595383822917938, -0.8742468953132629, 2.4266433715820312, 2.265519380569458, -3.2771871089935303, -5.917438507080078, 1.1066585779190063, 4.820660591125488, -0.5334922075271606, 1.537521243095398, 0.0069138179533183575, -7.202695369720459, -1.5836340188980103, 5.4095234870910645, 0.659308671951294, 2.862900733947754, 8.619268417358398, 1.2633368968963623, 4.480717658996582, 7.755302906036377, 1.9397563934326172, -9.094167709350586, 3.77140474319458, 3.390162229537964, -5.934505939483643, 4.948794841766357, -7.040013313293457, -4.042947769165039, 4.680880069732666, 1.0974011421203613, -4.981359004974365, 2.856822967529297, 0.7019779086112976, 0.22678157687187195, 4.097938060760498, 2.603524684906006, -0.33957886695861816, 7.195115566253662, -4.702665328979492, -3.9369008541107178, -4.596502304077148, 4.094172954559326, -0.13060984015464783, -2.750955581665039, 3.2557566165924072, 6.265972137451172, -4.668371200561523, -4.4179606437683105, -4.493903160095215, 1.8364276885986328, -2.7706875801086426, -5.48494815826416, -3.6810014247894287, -2.672482490539551, 4.8704705238342285, 2.599780797958374, 4.273673057556152, -6.847344398498535, -0.5521660447120667, -2.660578966140747, -5.628261566162109, 3.17781925201416, -3.5564980506896973, 3.3495259284973145, 3.8893074989318848, -5.79015588760376, -5.296626091003418, 4.882518768310547, -3.878405809402466, 8.444825172424316, -3.803380012512207, -0.5173261761665344, -4.796282768249512, -2.129220962524414, -0.4042437970638275, -4.669548988342285, 2.1984498500823975, -1.2095457315444946, 3.853588342666626, -5.118817329406738, -6.131938457489014, -6.5269951820373535, 4.923502445220947, 7.316897392272949, 6.767285346984863, -2.9867258071899414, -3.296967029571533, -0.6660753488540649, 0.9935832023620605, 0.6684867143630981, 7.184544563293457, 3.4300239086151123, -5.910562992095947, 7.562259674072266, -1.4364101886749268, -1.424692988395691, -3.55025315284729, -1.8444043397903442, 5.081018924713135, 1.1280021667480469, -2.245222568511963, -4.5857391357421875, 9.072336196899414, -4.741036891937256, -0.9633978605270386, 6.2587199211120605, 2.2424213886260986, 3.6132447719573975, -8.532719612121582, -0.4321022033691406, -0.4083264470100403, 1.0872454643249512, -7.9795002937316895, 0.4714045524597168, 1.7141727209091187, -0.6442102789878845, 3.816840887069702, 4.635757923126221, 7.637131214141846, -2.3976528644561768, 6.218493938446045, -4.988125324249268, -3.7847542762756348, 5.9554924964904785, -5.209530830383301, 0.16001145541667938, -0.2908131778240204, -1.8522740602493286, 5.194062232971191, 0.9165435433387756, -3.2113184928894043, 0.12668034434318542, 8.040789604187012, 6.741450309753418, 3.323079824447632, -1.928207516670227, 4.6114044189453125, 2.561741828918457, 7.86464786529541, 4.995443344116211, -0.10528995841741562, -8.977421760559082, 2.834320068359375, -6.945639610290527, 1.4350558519363403, -6.882513523101807, -4.138944149017334, 1.2148436307907104, 0.2851916551589966, 0.8660848140716553, 0.128794327378273, 8.572419166564941, 4.281698703765869, -2.550962209701538, -3.510392665863037, 7.184962749481201, 4.43872594833374, 0.44057202339172363, 2.557835102081299, -3.299712896347046, 1.7137845754623413, 2.786512851715088, -8.723949432373047, -1.3923622369766235, -4.9421234130859375, 1.1868804693222046, -6.777188301086426, 1.9757543802261353, -3.70865797996521, 4.278772354125977, -4.634839057922363, 0.7669695615768433, 1.5773054361343384, -4.57477331161499, -2.059166669845581, -0.3313027322292328, 2.971360445022583, 0.9657967686653137, 2.6886088848114014, 1.169904112815857, -1.3310446739196777, -7.880105018615723, -4.883846282958984, 3.255946397781372, -1.2966351509094238, 2.0056521892547607, 6.126216888427734, 6.182707786560059, 1.85188627243042, 2.2067930698394775, -6.9223246574401855, -6.539177417755127, 4.576545715332031, 1.8211723566055298, -0.32581964135169983, -4.974412441253662, -7.982980251312256, 4.540954113006592, 2.8579723834991455], \"z\": [1.7136898040771484, -7.841623783111572, 12.938374519348145, 11.776147842407227, 17.178865432739258, 4.595310688018799, -7.049248695373535, 11.579850196838379, -1.5969897508621216, -8.77163314819336, 8.75904655456543, 19.751358032226562, 9.089990615844727, 9.67139720916748, 11.443730354309082, 17.021625518798828, 9.05955696105957, -10.353137969970703, 11.819426536560059, 18.851579666137695, 3.723907947540283, 3.325678825378418, 10.91481876373291, -2.2872068881988525, 8.130290031433105, 5.1387457847595215, 18.781482696533203, 0.2029363214969635, 15.006895065307617, 18.872154235839844, -0.31724485754966736, -3.9621944427490234, 7.420445919036865, 10.611005783081055, -6.891141891479492, 3.561314105987549, 19.01875877380371, 0.612316370010376, 3.908637523651123, 10.451055526733398, -15.382617950439453, 12.411494255065918, -14.06354808807373, 7.534753322601318, 11.790029525756836, 17.288923263549805, 11.963006019592285, -1.942257046699524, 19.450214385986328, -15.474662780761719, 10.581686973571777, 10.21621036529541, -8.164820671081543, 17.146820068359375, 6.763730525970459, 0.04929685220122337, 0.33699315786361694, -4.017201900482178, 10.65557861328125, 14.275172233581543, -1.274127721786499, -7.422574996948242, 18.608325958251953, 12.217192649841309, -16.317270278930664, 12.60197639465332, -18.264707565307617, -10.228355407714844, 18.306488037109375, 6.576627254486084, 16.93016242980957, 12.831971168518066, 4.288046836853027, 9.873271942138672, -2.471120595932007, -1.8595095872879028, 16.30068016052246, 15.203529357910156, -3.747584581375122, -6.1127848625183105, -5.701559543609619, -2.058666706085205, 14.270370483398438, -7.301504611968994, -7.7041473388671875, -5.986721515655518, -13.331195831298828, -14.441707611083984, -7.86472225189209, 0.04146140441298485, 1.4254794120788574, 8.789920806884766, -14.009858131408691, -8.543681144714355, -2.3085105419158936, 18.586450576782227, -10.847062110900879, -6.643062114715576, -7.223353862762451, 15.632444381713867, 4.120424270629883, -14.45492935180664, -6.939011096954346, -9.399324417114258, 19.013221740722656, -9.667445182800293, -5.170567512512207, -6.48384952545166, -3.4875917434692383, 14.450773239135742, -1.7705649137496948, 6.230118751525879, 6.505186557769775, -2.567984104156494, 16.350688934326172, -3.692685842514038, -10.336538314819336, -8.635449409484863, 10.519329071044922, -8.32441234588623, -4.162477016448975, -6.303323268890381, -10.43841552734375, -13.95711612701416, -0.4227904975414276, -7.791261672973633, -2.8575727939605713, 11.547905921936035, -7.956415176391602, -8.870426177978516, -6.108933925628662, -10.234097480773926, 11.72634220123291, -5.98923397064209, -13.4410400390625, -1.8348528146743774, 13.9111967086792, 13.071657180786133, -6.312289714813232, -4.30851411819458, 10.01730728149414, 0.7714870572090149, -8.585040092468262, 15.774219512939453, -9.130571365356445, -8.402826309204102, 8.9605073928833, -16.211416244506836, -6.738194465637207, -3.9206368923187256, -0.8497005701065063, -2.5017690658569336, -7.665117263793945, -8.675724029541016, 3.304049015045166, -11.81122875213623, -16.053607940673828, -13.85594654083252, 1.0046684741973877, 8.20141315460205, -8.884883880615234, -3.699125051498413, -0.5750942230224609, -5.410181999206543, 9.780877113342285, -13.122777938842773, 10.773165702819824, 17.772066116333008, 13.050601959228516, -2.1009652614593506, -5.312342643737793, -6.432900905609131, 7.904810905456543, 14.164534568786621, 1.0177184343338013, -14.959381103515625, 7.494868755340576, 13.368194580078125, -5.878209114074707, 13.269804000854492, -6.797873020172119, 7.284677028656006, -3.8298892974853516, 16.2891788482666, 17.793710708618164, -10.10815715789795, 12.286998748779297, -6.617523193359375, -6.367956161499023, -2.3833670616149902, -15.423137664794922, 16.626026153564453, 9.201883316040039, 15.188544273376465, -12.959542274475098, -7.224189758300781, -8.23707103729248, -10.85018253326416, 3.786376953125, 0.39538896083831787, -4.80877161026001, -4.0001726150512695, -3.4054245948791504, 15.105077743530273, 14.163419723510742, -3.409841537475586, -7.612175464630127, -5.461183071136475, 7.017788887023926, -4.359591007232666, 0.1199897900223732, 13.474973678588867, 15.258305549621582, -2.7060017585754395, -6.3207807540893555, -6.957479000091553, -5.223496437072754, 15.856508255004883, 17.67751693725586, -3.281290054321289, 14.439165115356445, -8.96199893951416, 15.389822006225586, -3.713603973388672, -13.267208099365234, -7.028814792633057, -14.504096031188965, -6.062615394592285, -13.346805572509766, 11.335021018981934, -7.684422016143799, -14.346610069274902, 12.195151329040527, 13.104601860046387, -8.600473403930664, -8.824606895446777, -2.4263949394226074, -3.1117007732391357, 11.694607734680176, 12.335935592651367, -5.980379581451416, -10.23400592803955, 11.718103408813477, -10.391586303710938, 11.574213027954102, -13.583369255065918, -5.018712520599365, -1.9654695987701416, -14.291329383850098, 12.083395004272461, -5.7631001472473145, -3.7511651515960693, 12.634986877441406, -3.6043314933776855, -9.500484466552734, -0.7284521460533142, 0.6493892669677734, -11.410502433776855, 12.033382415771484, -8.573197364807129, 12.171955108642578, -7.103531837463379, 15.64418888092041, -5.705677032470703, -6.545300483703613, -10.363110542297363, 13.643742561340332, -11.122237205505371, -3.510357141494751, -9.79373550415039, -7.289795875549316, -3.959049940109253, -1.5673123598098755, 11.287141799926758, 8.952935218811035, -10.05190658569336, 17.002351760864258, 16.813432693481445, -7.408565521240234, -6.538197040557861, -14.291361808776855, 11.30051326751709, -7.7599663734436035, -0.737454354763031, 15.987881660461426, -10.61347770690918, -10.359058380126953, -8.577594757080078, -12.86182975769043, 3.9535269737243652, -0.10276629775762558, -6.68934965133667, -4.744548797607422, -11.015534400939941, -7.292276859283447, 8.086185455322266, 8.932658195495605, -5.16596794128418, -5.24813175201416, 1.2729982137680054, -5.056980609893799, -10.51300048828125, 16.32203483581543, 11.975320816040039, 9.102928161621094, -0.5756829380989075, -8.609147071838379, -0.9123510718345642, -15.49294662475586, 17.808521270751953, 18.50481605529785, -16.384204864501953, 7.247743606567383, 12.025447845458984, -9.619767189025879, 1.4639348983764648, -2.025406837463379, -8.470426559448242, -1.0385780334472656, -3.4840469360351562, -5.9876227378845215, -0.5547506809234619, 12.933547019958496, -4.946496486663818, -5.283118724822998, 1.4476958513259888, 14.457186698913574, 13.281835556030273, 11.912561416625977, 8.947102546691895, -11.360278129577637, 16.220396041870117, -8.757991790771484, -10.332127571105957, -14.983453750610352, 15.089509010314941, -7.788742542266846, -2.1356043815612793, 12.402131080627441, 14.985186576843262, -1.4569499492645264, -7.910681247711182, 10.45909595489502, -8.975555419921875, 11.92793083190918, 13.03084659576416, -5.188220024108887, -13.99030876159668, 10.935245513916016, 16.557140350341797, -2.715869426727295, -1.883973240852356, -7.76683235168457, -3.8184545040130615, -10.37812328338623, -7.524803638458252, -8.373490333557129, -8.763513565063477, 19.190895080566406, 3.278789758682251, -7.545989990234375, -7.6858296394348145, -1.3150438070297241, -15.261322975158691, 11.895620346069336, -0.92701256275177, 16.904970169067383, -11.14306354522705, -11.747695922851562, -5.90985631942749, -12.421806335449219, -6.193324089050293, 16.992406845092773, 12.636310577392578, 12.957460403442383, -12.671903610229492, -2.435506582260132, 9.792677879333496, -3.182904005050659, 1.4581176042556763, 9.228984832763672, -3.7446963787078857, -2.652297258377075, 4.027400016784668, -8.27777099609375, -10.759472846984863, -4.355554580688477, -4.353583812713623, 0.9742298126220703, 5.752800941467285, -10.896204948425293, -10.880184173583984, 0.2762767970561981, -3.2725071907043457, -7.715560436248779, -3.7740659713745117, -9.308115005493164, 12.021652221679688, 2.304551124572754, -5.8437933921813965, -7.928583145141602, -9.111780166625977, -16.669849395751953, -3.5353238582611084, 13.93435001373291, -10.511548042297363, 14.317779541015625, -3.2319610118865967, 7.109470844268799, -9.359719276428223, -11.134902954101562, 1.4599483013153076, 18.598302841186523, -1.2015725374221802, -6.650289535522461, -14.135048866271973, -16.031234741210938, -7.916135311126709, 13.018089294433594, 13.343937873840332, 5.978910446166992, -10.261663436889648, -9.064225196838379, -6.213705062866211, 13.700626373291016, -13.12702465057373, -7.864256858825684, 9.086446762084961, 3.395108938217163, 16.040658950805664, -3.1999449729919434, -8.67242431640625, -7.680197238922119, 11.074893951416016, 16.59829330444336, -5.925013542175293, -10.41981315612793, 16.11196517944336, -3.3901662826538086, 14.763028144836426, -9.0420560836792, -3.6180331707000732, 15.305295944213867, 17.726781845092773, -7.058956146240234, 8.115983009338379, 15.904318809509277, -10.480469703674316, 11.77466869354248, 7.621763706207275, -9.981151580810547, 14.607041358947754, -13.413448333740234, -0.8376266956329346, 7.2891526222229, -2.7871663570404053, 1.3834011554718018, 13.413002014160156, -3.176220417022705, 4.633230209350586, -8.76948356628418, 15.409646034240723, -13.986955642700195, -6.252905368804932, -2.2544736862182617, 1.265879511833191, -3.79856014251709, 15.268253326416016, -13.395297050476074, 13.338404655456543, -4.891358375549316, -10.462544441223145, -13.637292861938477, -2.7773549556732178, -11.98997974395752, -12.912751197814941, -6.869929313659668, 9.310914993286133, -0.5473166704177856, -10.135395050048828, -14.487526893615723, -8.497057914733887, 9.892683982849121, 15.708012580871582, -9.90284538269043, 16.81756019592285, -6.618455410003662, 3.8581323623657227, -1.0010231733322144, 12.897794723510742, -2.105233907699585, 7.749110698699951, 9.453086853027344, 15.990428924560547, 12.359186172485352, 9.210898399353027, -10.121064186096191, 7.636777877807617, -9.258837699890137, -0.09873734414577484, -6.643637180328369, -0.5066999793052673, 2.00053334236145, -7.609755516052246, 3.1368796825408936, 12.674914360046387, -2.010439157485962, -12.9266939163208, 4.661121845245361, 7.6494269371032715, 17.333154678344727, -13.554978370666504, -8.985857009887695, 14.47851276397705, -4.7879767417907715, -11.699126243591309, -7.02439022064209, -2.556464910507202, -2.6822702884674072, -9.047653198242188, 5.835259437561035, 13.966567039489746, 11.658646583557129, 11.876840591430664, 18.302690505981445, -11.070910453796387, 3.394322395324707, -10.722506523132324, 1.200533390045166, 1.236796259880066, -6.865450382232666, 15.670371055603027, 8.772944450378418, -12.454937934875488, 6.996665954589844, 19.0909481048584, -8.879843711853027, 15.938458442687988, -0.9304028749465942, -9.969099044799805, -4.171329975128174, 7.980195999145508, -11.178566932678223, -6.289967060089111, -13.964320182800293, 10.240297317504883, -9.143922805786133, 9.885087966918945, 9.556395530700684, -8.343160629272461, -11.454245567321777, -1.6081575155258179, 16.18772315979004, 0.9454315900802612, -9.936505317687988, -11.263397216796875, 7.88792085647583, -1.4546422958374023, 14.081103324890137, -0.4896155893802643, 18.110795974731445, 17.936830520629883, -10.454842567443848, 7.6985602378845215, -9.788236618041992, -7.15963888168335, -14.023225784301758, -0.9532767534255981, 8.741205215454102, 6.611094951629639, 2.312182903289795, 7.03675651550293, 12.253961563110352, 17.02324676513672, -5.2183637619018555, 17.754940032958984, -8.530716896057129, -13.458490371704102, -0.46097469329833984, -3.5757362842559814, 5.392456531524658, -2.6854569911956787, 12.856782913208008, -7.653347015380859, -15.293883323669434, -7.939375877380371, 1.108227252960205, -11.534399032592773, -12.650467872619629, 16.65510368347168, -9.143516540527344, -13.78790283203125, -1.807704210281372, 13.146419525146484, -1.8782780170440674, -7.994722366333008, 12.135744094848633, 15.448516845703125, 8.571767807006836, 17.141775131225586, 11.24605941772461, -4.815764904022217, 8.046643257141113, -8.239855766296387, 7.238898277282715, -6.2918243408203125, 13.108973503112793, 17.304006576538086, -8.93503475189209, -4.756650924682617, 11.051224708557129, -0.5718613862991333, 5.463639736175537, -0.5459917187690735, -6.62429666519165, -11.535012245178223, -7.637876987457275, -8.337063789367676, -1.5279332399368286, 0.8773877620697021, -0.828794002532959, -8.90304946899414, -6.277780532836914, -2.016465187072754, 12.108854293823242, 14.046673774719238, -9.308425903320312, 17.42742156982422, -4.096569061279297, -6.322515964508057, -2.3838322162628174, -10.616177558898926, -1.407213568687439, 14.065116882324219, 0.27243632078170776, -0.8940923810005188, -1.7661120891571045, -1.0031888484954834, 7.00119686126709, -1.6209912300109863, 13.877924919128418, -4.212281703948975, -7.373013019561768, 1.3531943559646606, 15.80358600616455, -0.6106125712394714, 13.133559226989746, -3.369288921356201, 9.01705265045166, -0.550376832485199, -14.48370361328125, -14.495466232299805, -4.084657192230225, 11.419800758361816, -15.003579139709473, -4.391767978668213, 15.25123405456543, -0.6941654682159424, -4.205549716949463, 14.739852905273438, 16.167686462402344, -8.748964309692383, -2.1269218921661377, 1.3044289350509644, 8.857294082641602, -2.554136276245117, 12.611495971679688, -5.525212287902832, -11.01832103729248, -15.327759742736816, -4.228403091430664, -8.020340919494629, -7.16117000579834, -1.1939013004302979, 7.889798164367676, -12.245420455932617, -4.6400532722473145, 6.462385177612305, 10.343172073364258, -6.19255256652832, 12.440747261047363, -13.717901229858398, -2.064120054244995, 7.682929515838623, -9.8904447555542, -14.73528003692627, -9.162322044372559, -14.662117004394531, 8.55905818939209, 17.185543060302734, 15.068894386291504, 19.301904678344727, 18.244998931884766, -5.95807409286499, 8.420417785644531, 8.339996337890625, 2.1600182056427, -6.944465637207031, 1.3246595859527588, 11.812153816223145, -8.000909805297852, -8.308721542358398, 9.688701629638672, 14.992905616760254, -6.5917158126831055, -0.9048315286636353, 10.300621032714844, 15.021345138549805, -0.47539952397346497, 8.229732513427734, 11.037121772766113, -14.191011428833008, -2.843728542327881, 5.273594856262207, -2.930842161178589, 5.760925769805908, 4.319995403289795, 16.90798568725586, -2.8036575317382812, -11.719794273376465, 11.912999153137207, -11.63315486907959, -6.399153709411621, 10.125616073608398, 1.666042685508728, 7.483358860015869, 7.364478588104248, 8.227178573608398, 13.496068000793457, 5.402217388153076, -0.10104431211948395, 17.346141815185547, -1.2419812679290771, -5.559505939483643, -3.7145495414733887, 7.412600517272949, -3.0956265926361084, -3.6620025634765625, -4.46410608291626, 11.37804889678955, -3.887942314147949, -2.1603732109069824, -1.2648422718048096, 10.506125450134277, 2.456693649291992, -4.899943828582764, -5.237154006958008, 6.99312162399292, 13.414555549621582, 16.23866844177246, -7.5109758377075195, 16.471654891967773, -1.9041378498077393, -12.872954368591309, -14.03342342376709, 13.890198707580566, -6.248354911804199, -7.121403694152832, 14.872690200805664, -12.904496192932129, 16.722610473632812, -6.977852821350098, -13.518206596374512, -14.81184196472168, 1.5999341011047363, -10.819347381591797, -10.559762954711914, 17.120695114135742, -8.123306274414062, 17.40913200378418, -6.003941535949707, -0.892604410648346, -0.8146505951881409, -7.721987724304199, 0.7644270658493042, -14.32620906829834, -4.00934362411499, -7.512972354888916, -1.2804116010665894, 1.0166022777557373, -3.3981029987335205, -10.462456703186035, -6.45585298538208, -1.2022483348846436, -2.6212050914764404, 16.71967124938965, -8.325117111206055, 7.781728744506836, -6.315495014190674, -7.779506206512451, 14.230810165405273, -4.135422229766846, 11.327588081359863, -0.6905065774917603, -12.373493194580078, -3.8083832263946533, -13.368573188781738, 12.304642677307129, -3.1029763221740723, -16.912580490112305, -6.9345855712890625, -3.0536787509918213, 0.9037898778915405, -7.051746368408203, 13.077618598937988, -13.762032508850098, -11.335121154785156, -10.812063217163086, 9.900568962097168, -11.6408109664917, 15.380813598632812, 9.615743637084961, -1.2523188591003418, 6.165001392364502, -6.573235511779785, 11.720247268676758, -6.5158915519714355, 14.133682250976562, 6.900740146636963, 10.651001930236816, 7.667116165161133, 11.602958679199219, -5.165411472320557, -4.633005619049072, -8.802833557128906, -10.613588333129883, 9.744179725646973, -5.481169700622559, 0.6699930429458618, 15.966556549072266, -11.400589942932129, 2.15140700340271, 17.802860260009766, 9.602849960327148, 13.403791427612305, 7.279450416564941, 18.03668212890625, 16.247966766357422, 6.7567243576049805, -10.517979621887207, -3.203126907348633, -9.128827095031738, 11.144107818603516, -7.452409267425537, -9.573456764221191, 7.271666049957275, -8.419533729553223, -3.421405076980591, -1.8700019121170044, -0.6933788657188416, 8.044585227966309, 5.5582356452941895, -9.45047664642334, -3.627654790878296, 0.7516405582427979, -9.456488609313965, -5.916281223297119, 9.062247276306152, -6.148921012878418, 11.322466850280762, 3.9151225090026855, -6.142496585845947, 0.1427408754825592, -5.552523136138916, -9.06209945678711, 12.839601516723633, -9.139118194580078, -7.409883975982666, 7.462071895599365, 0.49587035179138184, 7.967194557189941, -11.628462791442871, -13.393556594848633, -2.4987833499908447, -2.6918153762817383, -12.279753684997559, -7.617390155792236, -8.692071914672852, -0.20591431856155396, 13.379752159118652, -0.15169407427310944, 0.09522651135921478, -7.968001365661621, 14.016401290893555, 12.036394119262695, 7.08873176574707, 1.0174156427383423, -5.060291290283203, 1.1168627738952637, 8.890646934509277, 15.47455883026123, 18.247949600219727, 12.764932632446289, -7.280885219573975, 17.377073287963867, -2.0605764389038086, -2.2497987747192383, -13.9801607131958, 1.215785026550293, -2.6887612342834473, -8.635174751281738, -7.319862365722656, -13.642411231994629, 14.50110912322998, -4.974980354309082, 14.884319305419922, 9.493717193603516, -3.4500467777252197, 12.464680671691895, -3.264704942703247, -9.557123184204102, -11.525639533996582, -14.374272346496582, -2.235790252685547, 10.657854080200195, 17.648271560668945, -0.3158741295337677, -9.850286483764648, 8.551002502441406, 7.603275299072266, 5.175914287567139, 12.004501342773438, -7.56922721862793, -5.293395042419434, -9.119898796081543, -0.5135510563850403, -4.107413291931152, -0.05699200928211212, -5.458200454711914, -9.646007537841797, 18.33013916015625, -10.83194351196289, -13.019221305847168, 15.314263343811035, 11.919656753540039, 15.324990272521973, -11.24788761138916, 13.898306846618652, -6.354441165924072, 7.684971809387207, 14.196846961975098, -6.425024509429932, -4.211761951446533, 7.616486549377441, -1.2977694272994995, 12.649410247802734, -2.3661952018737793, -0.3359174132347107, -7.94681978225708, -4.707693099975586, -0.5556836128234863, -3.155696392059326, 13.789204597473145, 12.818561553955078, -4.127501964569092, -16.070865631103516, 8.156785011291504, 12.725800514221191, 9.48237419128418, -7.812437534332275, -12.696078300476074, -10.504165649414062, 12.79193115234375, -2.642695665359497, -0.6542924642562866, -13.540767669677734, -10.51932144165039, 1.0324962139129639, 11.192538261413574, -9.042884826660156, 16.932086944580078, -2.9408156871795654, -1.9623788595199585, 17.259151458740234, -6.1360015869140625, -11.683074951171875, -10.530778884887695, 16.536161422729492, -1.243746042251587, 7.274382591247559, 11.258450508117676, 4.317098617553711, -5.833980083465576, -9.39714527130127, 16.48853302001953, -9.202620506286621, -8.368380546569824, 8.122246742248535, 6.995750427246094, 17.420516967773438, 9.070402145385742, -0.8240420818328857, -0.48224225640296936, 13.987895011901855, 12.793852806091309, -0.6313936710357666, -9.475639343261719, -6.326441287994385, 10.098231315612793, 17.693511962890625]}],\n",
       "                        {\"coloraxis\": {\"colorbar\": {\"title\": {\"text\": \"Label\"}}, \"colorscale\": [[0.0, \"#0d0887\"], [0.1111111111111111, \"#46039f\"], [0.2222222222222222, \"#7201a8\"], [0.3333333333333333, \"#9c179e\"], [0.4444444444444444, \"#bd3786\"], [0.5555555555555556, \"#d8576b\"], [0.6666666666666666, \"#ed7953\"], [0.7777777777777778, \"#fb9f3a\"], [0.8888888888888888, \"#fdca26\"], [1.0, \"#f0f921\"]]}, \"height\": 800, \"legend\": {\"tracegroupgap\": 0}, \"scene\": {\"domain\": {\"x\": [0.0, 1.0], \"y\": [0.0, 1.0]}, \"xaxis\": {\"title\": {\"text\": \"0\"}}, \"yaxis\": {\"title\": {\"text\": \"1\"}}, \"zaxis\": {\"title\": {\"text\": \"2\"}}}, \"template\": {\"data\": {\"bar\": [{\"error_x\": {\"color\": \"#2a3f5f\"}, \"error_y\": {\"color\": \"#2a3f5f\"}, \"marker\": {\"line\": {\"color\": \"#E5ECF6\", \"width\": 0.5}}, \"type\": \"bar\"}], \"barpolar\": [{\"marker\": {\"line\": {\"color\": \"#E5ECF6\", \"width\": 0.5}}, \"type\": \"barpolar\"}], \"carpet\": [{\"aaxis\": {\"endlinecolor\": \"#2a3f5f\", \"gridcolor\": \"white\", \"linecolor\": \"white\", \"minorgridcolor\": \"white\", \"startlinecolor\": \"#2a3f5f\"}, \"baxis\": {\"endlinecolor\": \"#2a3f5f\", \"gridcolor\": \"white\", \"linecolor\": \"white\", \"minorgridcolor\": \"white\", \"startlinecolor\": \"#2a3f5f\"}, \"type\": \"carpet\"}], \"choropleth\": [{\"colorbar\": {\"outlinewidth\": 0, \"ticks\": \"\"}, \"type\": \"choropleth\"}], \"contour\": [{\"colorbar\": {\"outlinewidth\": 0, \"ticks\": \"\"}, \"colorscale\": [[0.0, \"#0d0887\"], [0.1111111111111111, \"#46039f\"], [0.2222222222222222, \"#7201a8\"], [0.3333333333333333, \"#9c179e\"], [0.4444444444444444, \"#bd3786\"], [0.5555555555555556, \"#d8576b\"], [0.6666666666666666, \"#ed7953\"], [0.7777777777777778, \"#fb9f3a\"], [0.8888888888888888, \"#fdca26\"], [1.0, \"#f0f921\"]], \"type\": \"contour\"}], \"contourcarpet\": [{\"colorbar\": {\"outlinewidth\": 0, \"ticks\": \"\"}, \"type\": \"contourcarpet\"}], \"heatmap\": [{\"colorbar\": {\"outlinewidth\": 0, \"ticks\": \"\"}, \"colorscale\": [[0.0, \"#0d0887\"], [0.1111111111111111, \"#46039f\"], [0.2222222222222222, \"#7201a8\"], [0.3333333333333333, \"#9c179e\"], [0.4444444444444444, \"#bd3786\"], [0.5555555555555556, \"#d8576b\"], [0.6666666666666666, \"#ed7953\"], [0.7777777777777778, \"#fb9f3a\"], [0.8888888888888888, \"#fdca26\"], [1.0, \"#f0f921\"]], \"type\": \"heatmap\"}], \"heatmapgl\": [{\"colorbar\": {\"outlinewidth\": 0, \"ticks\": \"\"}, \"colorscale\": [[0.0, \"#0d0887\"], [0.1111111111111111, \"#46039f\"], [0.2222222222222222, \"#7201a8\"], [0.3333333333333333, \"#9c179e\"], [0.4444444444444444, \"#bd3786\"], [0.5555555555555556, \"#d8576b\"], [0.6666666666666666, \"#ed7953\"], [0.7777777777777778, \"#fb9f3a\"], [0.8888888888888888, \"#fdca26\"], [1.0, \"#f0f921\"]], \"type\": \"heatmapgl\"}], \"histogram\": [{\"marker\": {\"colorbar\": {\"outlinewidth\": 0, \"ticks\": \"\"}}, \"type\": \"histogram\"}], \"histogram2d\": [{\"colorbar\": {\"outlinewidth\": 0, \"ticks\": \"\"}, \"colorscale\": [[0.0, \"#0d0887\"], [0.1111111111111111, \"#46039f\"], [0.2222222222222222, \"#7201a8\"], [0.3333333333333333, \"#9c179e\"], [0.4444444444444444, \"#bd3786\"], [0.5555555555555556, \"#d8576b\"], [0.6666666666666666, \"#ed7953\"], [0.7777777777777778, \"#fb9f3a\"], [0.8888888888888888, \"#fdca26\"], [1.0, \"#f0f921\"]], \"type\": \"histogram2d\"}], \"histogram2dcontour\": [{\"colorbar\": {\"outlinewidth\": 0, \"ticks\": \"\"}, \"colorscale\": [[0.0, \"#0d0887\"], [0.1111111111111111, \"#46039f\"], [0.2222222222222222, \"#7201a8\"], [0.3333333333333333, \"#9c179e\"], [0.4444444444444444, \"#bd3786\"], [0.5555555555555556, \"#d8576b\"], [0.6666666666666666, \"#ed7953\"], [0.7777777777777778, \"#fb9f3a\"], [0.8888888888888888, \"#fdca26\"], [1.0, \"#f0f921\"]], \"type\": \"histogram2dcontour\"}], \"mesh3d\": [{\"colorbar\": {\"outlinewidth\": 0, \"ticks\": \"\"}, \"type\": \"mesh3d\"}], \"parcoords\": [{\"line\": {\"colorbar\": {\"outlinewidth\": 0, \"ticks\": \"\"}}, \"type\": \"parcoords\"}], \"pie\": [{\"automargin\": true, \"type\": \"pie\"}], \"scatter\": [{\"marker\": {\"colorbar\": {\"outlinewidth\": 0, \"ticks\": \"\"}}, \"type\": \"scatter\"}], \"scatter3d\": [{\"line\": {\"colorbar\": {\"outlinewidth\": 0, \"ticks\": \"\"}}, \"marker\": {\"colorbar\": {\"outlinewidth\": 0, \"ticks\": \"\"}}, \"type\": \"scatter3d\"}], \"scattercarpet\": [{\"marker\": {\"colorbar\": {\"outlinewidth\": 0, \"ticks\": \"\"}}, \"type\": \"scattercarpet\"}], \"scattergeo\": [{\"marker\": {\"colorbar\": {\"outlinewidth\": 0, \"ticks\": \"\"}}, \"type\": \"scattergeo\"}], \"scattergl\": [{\"marker\": {\"colorbar\": {\"outlinewidth\": 0, \"ticks\": \"\"}}, \"type\": \"scattergl\"}], \"scattermapbox\": [{\"marker\": {\"colorbar\": {\"outlinewidth\": 0, \"ticks\": \"\"}}, \"type\": \"scattermapbox\"}], \"scatterpolar\": [{\"marker\": {\"colorbar\": {\"outlinewidth\": 0, \"ticks\": \"\"}}, \"type\": \"scatterpolar\"}], \"scatterpolargl\": [{\"marker\": {\"colorbar\": {\"outlinewidth\": 0, \"ticks\": \"\"}}, \"type\": \"scatterpolargl\"}], \"scatterternary\": [{\"marker\": {\"colorbar\": {\"outlinewidth\": 0, \"ticks\": \"\"}}, \"type\": \"scatterternary\"}], \"surface\": [{\"colorbar\": {\"outlinewidth\": 0, \"ticks\": \"\"}, \"colorscale\": [[0.0, \"#0d0887\"], [0.1111111111111111, \"#46039f\"], [0.2222222222222222, \"#7201a8\"], [0.3333333333333333, \"#9c179e\"], [0.4444444444444444, \"#bd3786\"], [0.5555555555555556, \"#d8576b\"], [0.6666666666666666, \"#ed7953\"], [0.7777777777777778, \"#fb9f3a\"], [0.8888888888888888, \"#fdca26\"], [1.0, \"#f0f921\"]], \"type\": \"surface\"}], \"table\": [{\"cells\": {\"fill\": {\"color\": \"#EBF0F8\"}, \"line\": {\"color\": \"white\"}}, \"header\": {\"fill\": {\"color\": \"#C8D4E3\"}, \"line\": {\"color\": \"white\"}}, \"type\": \"table\"}]}, \"layout\": {\"annotationdefaults\": {\"arrowcolor\": \"#2a3f5f\", \"arrowhead\": 0, \"arrowwidth\": 1}, \"coloraxis\": {\"colorbar\": {\"outlinewidth\": 0, \"ticks\": \"\"}}, \"colorscale\": {\"diverging\": [[0, \"#8e0152\"], [0.1, \"#c51b7d\"], [0.2, \"#de77ae\"], [0.3, \"#f1b6da\"], [0.4, \"#fde0ef\"], [0.5, \"#f7f7f7\"], [0.6, \"#e6f5d0\"], [0.7, \"#b8e186\"], [0.8, \"#7fbc41\"], [0.9, \"#4d9221\"], [1, \"#276419\"]], \"sequential\": [[0.0, \"#0d0887\"], [0.1111111111111111, \"#46039f\"], [0.2222222222222222, \"#7201a8\"], [0.3333333333333333, \"#9c179e\"], [0.4444444444444444, \"#bd3786\"], [0.5555555555555556, \"#d8576b\"], [0.6666666666666666, \"#ed7953\"], [0.7777777777777778, \"#fb9f3a\"], [0.8888888888888888, \"#fdca26\"], [1.0, \"#f0f921\"]], \"sequentialminus\": [[0.0, \"#0d0887\"], [0.1111111111111111, \"#46039f\"], [0.2222222222222222, \"#7201a8\"], [0.3333333333333333, \"#9c179e\"], [0.4444444444444444, \"#bd3786\"], [0.5555555555555556, \"#d8576b\"], [0.6666666666666666, \"#ed7953\"], [0.7777777777777778, \"#fb9f3a\"], [0.8888888888888888, \"#fdca26\"], [1.0, \"#f0f921\"]]}, \"colorway\": [\"#636efa\", \"#EF553B\", \"#00cc96\", \"#ab63fa\", \"#FFA15A\", \"#19d3f3\", \"#FF6692\", \"#B6E880\", \"#FF97FF\", \"#FECB52\"], \"font\": {\"color\": \"#2a3f5f\"}, \"geo\": {\"bgcolor\": \"white\", \"lakecolor\": \"white\", \"landcolor\": \"#E5ECF6\", \"showlakes\": true, \"showland\": true, \"subunitcolor\": \"white\"}, \"hoverlabel\": {\"align\": \"left\"}, \"hovermode\": \"closest\", \"mapbox\": {\"style\": \"light\"}, \"paper_bgcolor\": \"white\", \"plot_bgcolor\": \"#E5ECF6\", \"polar\": {\"angularaxis\": {\"gridcolor\": \"white\", \"linecolor\": \"white\", \"ticks\": \"\"}, \"bgcolor\": \"#E5ECF6\", \"radialaxis\": {\"gridcolor\": \"white\", \"linecolor\": \"white\", \"ticks\": \"\"}}, \"scene\": {\"xaxis\": {\"backgroundcolor\": \"#E5ECF6\", \"gridcolor\": \"white\", \"gridwidth\": 2, \"linecolor\": \"white\", \"showbackground\": true, \"ticks\": \"\", \"zerolinecolor\": \"white\"}, \"yaxis\": {\"backgroundcolor\": \"#E5ECF6\", \"gridcolor\": \"white\", \"gridwidth\": 2, \"linecolor\": \"white\", \"showbackground\": true, \"ticks\": \"\", \"zerolinecolor\": \"white\"}, \"zaxis\": {\"backgroundcolor\": \"#E5ECF6\", \"gridcolor\": \"white\", \"gridwidth\": 2, \"linecolor\": \"white\", \"showbackground\": true, \"ticks\": \"\", \"zerolinecolor\": \"white\"}}, \"shapedefaults\": {\"line\": {\"color\": \"#2a3f5f\"}}, \"ternary\": {\"aaxis\": {\"gridcolor\": \"white\", \"linecolor\": \"white\", \"ticks\": \"\"}, \"baxis\": {\"gridcolor\": \"white\", \"linecolor\": \"white\", \"ticks\": \"\"}, \"bgcolor\": \"#E5ECF6\", \"caxis\": {\"gridcolor\": \"white\", \"linecolor\": \"white\", \"ticks\": \"\"}}, \"title\": {\"x\": 0.05}, \"xaxis\": {\"automargin\": true, \"gridcolor\": \"white\", \"linecolor\": \"white\", \"ticks\": \"\", \"title\": {\"standoff\": 15}, \"zerolinecolor\": \"white\", \"zerolinewidth\": 2}, \"yaxis\": {\"automargin\": true, \"gridcolor\": \"white\", \"linecolor\": \"white\", \"ticks\": \"\", \"title\": {\"standoff\": 15}, \"zerolinecolor\": \"white\", \"zerolinewidth\": 2}}}, \"title\": {\"text\": \"3d TSNE Plot for Outliers\"}, \"width\": 900},\n",
       "                        {\"responsive\": true}\n",
       "                    ).then(function(){\n",
       "                            \n",
       "var gd = document.getElementById('31078bcf-e73e-46e3-bb11-c66d8ef6fd51');\n",
       "var x = new MutationObserver(function (mutations, observer) {{\n",
       "        var display = window.getComputedStyle(gd).display;\n",
       "        if (!display || display === 'none') {{\n",
       "            console.log([gd, 'removed!']);\n",
       "            Plotly.purge(gd);\n",
       "            observer.disconnect();\n",
       "        }}\n",
       "}});\n",
       "\n",
       "// Listen for the removal of the full notebook cells\n",
       "var notebookContainer = gd.closest('#notebook-container');\n",
       "if (notebookContainer) {{\n",
       "    x.observe(notebookContainer, {childList: true});\n",
       "}}\n",
       "\n",
       "// Listen for the clearing of the current output cell\n",
       "var outputEl = gd.closest('.output');\n",
       "if (outputEl) {{\n",
       "    x.observe(outputEl, {childList: true});\n",
       "}}\n",
       "\n",
       "                        })\n",
       "                };\n",
       "                });\n",
       "            </script>\n",
       "        </div>"
      ]
     },
     "metadata": {},
     "output_type": "display_data"
    },
    {
     "data": {
      "application/javascript": [
       "\n",
       "            setTimeout(function() {\n",
       "                var nbb_cell_id = 11;\n",
       "                var nbb_unformatted_code = \"# instantiating Cluster model\\ncluster = create_model(\\\"cluster\\\")\\n\\n# plotting the data using Cluster \\nplot_model(cluster)\";\n",
       "                var nbb_formatted_code = \"# instantiating Cluster model\\ncluster = create_model(\\\"cluster\\\")\\n\\n# plotting the data using Cluster\\nplot_model(cluster)\";\n",
       "                var nbb_cells = Jupyter.notebook.get_cells();\n",
       "                for (var i = 0; i < nbb_cells.length; ++i) {\n",
       "                    if (nbb_cells[i].input_prompt_number == nbb_cell_id) {\n",
       "                        if (nbb_cells[i].get_text() == nbb_unformatted_code) {\n",
       "                             nbb_cells[i].set_text(nbb_formatted_code);\n",
       "                        }\n",
       "                        break;\n",
       "                    }\n",
       "                }\n",
       "            }, 500);\n",
       "            "
      ],
      "text/plain": [
       "<IPython.core.display.Javascript object>"
      ]
     },
     "metadata": {},
     "output_type": "display_data"
    }
   ],
   "source": [
    "# instantiating Cluster model\n",
    "cluster = create_model(\"cluster\")\n",
    "\n",
    "# plotting the data using Cluster\n",
    "plot_model(cluster)"
   ]
  },
  {
   "cell_type": "code",
   "execution_count": 12,
   "metadata": {},
   "outputs": [
    {
     "data": {
      "text/html": [
       "<div>\n",
       "<style scoped>\n",
       "    .dataframe tbody tr th:only-of-type {\n",
       "        vertical-align: middle;\n",
       "    }\n",
       "\n",
       "    .dataframe tbody tr th {\n",
       "        vertical-align: top;\n",
       "    }\n",
       "\n",
       "    .dataframe thead th {\n",
       "        text-align: right;\n",
       "    }\n",
       "</style>\n",
       "<table border=\"1\" class=\"dataframe\">\n",
       "  <thead>\n",
       "    <tr style=\"text-align: right;\">\n",
       "      <th></th>\n",
       "      <th>Col1</th>\n",
       "      <th>Col2</th>\n",
       "      <th>Col3</th>\n",
       "      <th>Col4</th>\n",
       "      <th>Col5</th>\n",
       "      <th>Col6</th>\n",
       "      <th>Col7</th>\n",
       "      <th>Col8</th>\n",
       "      <th>Col9</th>\n",
       "      <th>Col10</th>\n",
       "      <th>Label</th>\n",
       "      <th>Score</th>\n",
       "    </tr>\n",
       "  </thead>\n",
       "  <tbody>\n",
       "    <tr>\n",
       "      <th>0</th>\n",
       "      <td>0.263995</td>\n",
       "      <td>0.764929</td>\n",
       "      <td>0.138424</td>\n",
       "      <td>0.935242</td>\n",
       "      <td>0.605867</td>\n",
       "      <td>0.518790</td>\n",
       "      <td>0.912225</td>\n",
       "      <td>0.608234</td>\n",
       "      <td>0.723782</td>\n",
       "      <td>0.733591</td>\n",
       "      <td>0</td>\n",
       "      <td>0.691382</td>\n",
       "    </tr>\n",
       "    <tr>\n",
       "      <th>1</th>\n",
       "      <td>0.546092</td>\n",
       "      <td>0.653975</td>\n",
       "      <td>0.065575</td>\n",
       "      <td>0.227772</td>\n",
       "      <td>0.845269</td>\n",
       "      <td>0.837066</td>\n",
       "      <td>0.272379</td>\n",
       "      <td>0.331679</td>\n",
       "      <td>0.429297</td>\n",
       "      <td>0.367422</td>\n",
       "      <td>0</td>\n",
       "      <td>0.593955</td>\n",
       "    </tr>\n",
       "    <tr>\n",
       "      <th>2</th>\n",
       "      <td>0.336714</td>\n",
       "      <td>0.538842</td>\n",
       "      <td>0.192801</td>\n",
       "      <td>0.553563</td>\n",
       "      <td>0.074515</td>\n",
       "      <td>0.332993</td>\n",
       "      <td>0.365792</td>\n",
       "      <td>0.861309</td>\n",
       "      <td>0.899017</td>\n",
       "      <td>0.088600</td>\n",
       "      <td>0</td>\n",
       "      <td>0.710948</td>\n",
       "    </tr>\n",
       "    <tr>\n",
       "      <th>3</th>\n",
       "      <td>0.092108</td>\n",
       "      <td>0.995017</td>\n",
       "      <td>0.014465</td>\n",
       "      <td>0.176371</td>\n",
       "      <td>0.241530</td>\n",
       "      <td>0.514724</td>\n",
       "      <td>0.562208</td>\n",
       "      <td>0.158963</td>\n",
       "      <td>0.073715</td>\n",
       "      <td>0.208463</td>\n",
       "      <td>1</td>\n",
       "      <td>1.020374</td>\n",
       "    </tr>\n",
       "    <tr>\n",
       "      <th>4</th>\n",
       "      <td>0.325261</td>\n",
       "      <td>0.805968</td>\n",
       "      <td>0.957033</td>\n",
       "      <td>0.331665</td>\n",
       "      <td>0.307923</td>\n",
       "      <td>0.355315</td>\n",
       "      <td>0.501899</td>\n",
       "      <td>0.558449</td>\n",
       "      <td>0.885169</td>\n",
       "      <td>0.182754</td>\n",
       "      <td>0</td>\n",
       "      <td>0.757549</td>\n",
       "    </tr>\n",
       "    <tr>\n",
       "      <th>...</th>\n",
       "      <td>...</td>\n",
       "      <td>...</td>\n",
       "      <td>...</td>\n",
       "      <td>...</td>\n",
       "      <td>...</td>\n",
       "      <td>...</td>\n",
       "      <td>...</td>\n",
       "      <td>...</td>\n",
       "      <td>...</td>\n",
       "      <td>...</td>\n",
       "      <td>...</td>\n",
       "      <td>...</td>\n",
       "    </tr>\n",
       "    <tr>\n",
       "      <th>995</th>\n",
       "      <td>0.305055</td>\n",
       "      <td>0.656837</td>\n",
       "      <td>0.331665</td>\n",
       "      <td>0.822525</td>\n",
       "      <td>0.907127</td>\n",
       "      <td>0.882276</td>\n",
       "      <td>0.855732</td>\n",
       "      <td>0.584786</td>\n",
       "      <td>0.808640</td>\n",
       "      <td>0.242762</td>\n",
       "      <td>0</td>\n",
       "      <td>0.349637</td>\n",
       "    </tr>\n",
       "    <tr>\n",
       "      <th>996</th>\n",
       "      <td>0.812627</td>\n",
       "      <td>0.864258</td>\n",
       "      <td>0.616604</td>\n",
       "      <td>0.167966</td>\n",
       "      <td>0.811223</td>\n",
       "      <td>0.938071</td>\n",
       "      <td>0.418462</td>\n",
       "      <td>0.472306</td>\n",
       "      <td>0.348347</td>\n",
       "      <td>0.671129</td>\n",
       "      <td>0</td>\n",
       "      <td>0.612007</td>\n",
       "    </tr>\n",
       "    <tr>\n",
       "      <th>997</th>\n",
       "      <td>0.250967</td>\n",
       "      <td>0.138627</td>\n",
       "      <td>0.919703</td>\n",
       "      <td>0.461234</td>\n",
       "      <td>0.886555</td>\n",
       "      <td>0.869888</td>\n",
       "      <td>0.800908</td>\n",
       "      <td>0.530324</td>\n",
       "      <td>0.779433</td>\n",
       "      <td>0.234952</td>\n",
       "      <td>0</td>\n",
       "      <td>0.454210</td>\n",
       "    </tr>\n",
       "    <tr>\n",
       "      <th>998</th>\n",
       "      <td>0.502436</td>\n",
       "      <td>0.936820</td>\n",
       "      <td>0.580062</td>\n",
       "      <td>0.540773</td>\n",
       "      <td>0.151995</td>\n",
       "      <td>0.059452</td>\n",
       "      <td>0.225220</td>\n",
       "      <td>0.242755</td>\n",
       "      <td>0.279385</td>\n",
       "      <td>0.538755</td>\n",
       "      <td>0</td>\n",
       "      <td>0.445654</td>\n",
       "    </tr>\n",
       "    <tr>\n",
       "      <th>999</th>\n",
       "      <td>0.457991</td>\n",
       "      <td>0.017755</td>\n",
       "      <td>0.714113</td>\n",
       "      <td>0.125992</td>\n",
       "      <td>0.063316</td>\n",
       "      <td>0.154739</td>\n",
       "      <td>0.922974</td>\n",
       "      <td>0.692299</td>\n",
       "      <td>0.816777</td>\n",
       "      <td>0.307592</td>\n",
       "      <td>0</td>\n",
       "      <td>0.672869</td>\n",
       "    </tr>\n",
       "  </tbody>\n",
       "</table>\n",
       "<p>1000 rows × 12 columns</p>\n",
       "</div>"
      ],
      "text/plain": [
       "         Col1      Col2      Col3      Col4      Col5      Col6      Col7  \\\n",
       "0    0.263995  0.764929  0.138424  0.935242  0.605867  0.518790  0.912225   \n",
       "1    0.546092  0.653975  0.065575  0.227772  0.845269  0.837066  0.272379   \n",
       "2    0.336714  0.538842  0.192801  0.553563  0.074515  0.332993  0.365792   \n",
       "3    0.092108  0.995017  0.014465  0.176371  0.241530  0.514724  0.562208   \n",
       "4    0.325261  0.805968  0.957033  0.331665  0.307923  0.355315  0.501899   \n",
       "..        ...       ...       ...       ...       ...       ...       ...   \n",
       "995  0.305055  0.656837  0.331665  0.822525  0.907127  0.882276  0.855732   \n",
       "996  0.812627  0.864258  0.616604  0.167966  0.811223  0.938071  0.418462   \n",
       "997  0.250967  0.138627  0.919703  0.461234  0.886555  0.869888  0.800908   \n",
       "998  0.502436  0.936820  0.580062  0.540773  0.151995  0.059452  0.225220   \n",
       "999  0.457991  0.017755  0.714113  0.125992  0.063316  0.154739  0.922974   \n",
       "\n",
       "         Col8      Col9     Col10  Label     Score  \n",
       "0    0.608234  0.723782  0.733591      0  0.691382  \n",
       "1    0.331679  0.429297  0.367422      0  0.593955  \n",
       "2    0.861309  0.899017  0.088600      0  0.710948  \n",
       "3    0.158963  0.073715  0.208463      1  1.020374  \n",
       "4    0.558449  0.885169  0.182754      0  0.757549  \n",
       "..        ...       ...       ...    ...       ...  \n",
       "995  0.584786  0.808640  0.242762      0  0.349637  \n",
       "996  0.472306  0.348347  0.671129      0  0.612007  \n",
       "997  0.530324  0.779433  0.234952      0  0.454210  \n",
       "998  0.242755  0.279385  0.538755      0  0.445654  \n",
       "999  0.692299  0.816777  0.307592      0  0.672869  \n",
       "\n",
       "[1000 rows x 12 columns]"
      ]
     },
     "execution_count": 12,
     "metadata": {},
     "output_type": "execute_result"
    },
    {
     "data": {
      "application/javascript": [
       "\n",
       "            setTimeout(function() {\n",
       "                var nbb_cell_id = 12;\n",
       "                var nbb_unformatted_code = \"# generating the predictions using Cluster trained model\\ncluster_predictions = predict_model(cluster, data = anomaly)\\n\\n# predictions with Label = 1 are considered anomalies\\ncluster_predictions\";\n",
       "                var nbb_formatted_code = \"# generating the predictions using Cluster trained model\\ncluster_predictions = predict_model(cluster, data=anomaly)\\n\\n# predictions with Label = 1 are considered anomalies\\ncluster_predictions\";\n",
       "                var nbb_cells = Jupyter.notebook.get_cells();\n",
       "                for (var i = 0; i < nbb_cells.length; ++i) {\n",
       "                    if (nbb_cells[i].input_prompt_number == nbb_cell_id) {\n",
       "                        if (nbb_cells[i].get_text() == nbb_unformatted_code) {\n",
       "                             nbb_cells[i].set_text(nbb_formatted_code);\n",
       "                        }\n",
       "                        break;\n",
       "                    }\n",
       "                }\n",
       "            }, 500);\n",
       "            "
      ],
      "text/plain": [
       "<IPython.core.display.Javascript object>"
      ]
     },
     "metadata": {},
     "output_type": "display_data"
    }
   ],
   "source": [
    "# generating the predictions using Cluster trained model\n",
    "cluster_predictions = predict_model(cluster, data=anomaly)\n",
    "\n",
    "# predictions with Label = 1 are considered anomalies\n",
    "cluster_predictions"
   ]
  },
  {
   "cell_type": "code",
   "execution_count": 13,
   "metadata": {},
   "outputs": [
    {
     "data": {
      "text/html": [
       "<div>\n",
       "<style scoped>\n",
       "    .dataframe tbody tr th:only-of-type {\n",
       "        vertical-align: middle;\n",
       "    }\n",
       "\n",
       "    .dataframe tbody tr th {\n",
       "        vertical-align: top;\n",
       "    }\n",
       "\n",
       "    .dataframe thead th {\n",
       "        text-align: right;\n",
       "    }\n",
       "</style>\n",
       "<table border=\"1\" class=\"dataframe\">\n",
       "  <thead>\n",
       "    <tr style=\"text-align: right;\">\n",
       "      <th></th>\n",
       "      <th>Col1</th>\n",
       "      <th>Col2</th>\n",
       "      <th>Col3</th>\n",
       "      <th>Col4</th>\n",
       "      <th>Col5</th>\n",
       "      <th>Col6</th>\n",
       "      <th>Col7</th>\n",
       "      <th>Col8</th>\n",
       "      <th>Col9</th>\n",
       "      <th>Col10</th>\n",
       "      <th>Label</th>\n",
       "      <th>Score</th>\n",
       "    </tr>\n",
       "  </thead>\n",
       "  <tbody>\n",
       "    <tr>\n",
       "      <th>3</th>\n",
       "      <td>0.092108</td>\n",
       "      <td>0.995017</td>\n",
       "      <td>0.014465</td>\n",
       "      <td>0.176371</td>\n",
       "      <td>0.241530</td>\n",
       "      <td>0.514724</td>\n",
       "      <td>0.562208</td>\n",
       "      <td>0.158963</td>\n",
       "      <td>0.073715</td>\n",
       "      <td>0.208463</td>\n",
       "      <td>1</td>\n",
       "      <td>1.020374</td>\n",
       "    </tr>\n",
       "    <tr>\n",
       "      <th>8</th>\n",
       "      <td>0.197078</td>\n",
       "      <td>0.843918</td>\n",
       "      <td>0.243396</td>\n",
       "      <td>0.281278</td>\n",
       "      <td>0.329148</td>\n",
       "      <td>0.734582</td>\n",
       "      <td>0.191947</td>\n",
       "      <td>0.927804</td>\n",
       "      <td>0.713269</td>\n",
       "      <td>0.891548</td>\n",
       "      <td>1</td>\n",
       "      <td>0.921918</td>\n",
       "    </tr>\n",
       "    <tr>\n",
       "      <th>9</th>\n",
       "      <td>0.292985</td>\n",
       "      <td>0.703432</td>\n",
       "      <td>0.439621</td>\n",
       "      <td>0.107868</td>\n",
       "      <td>0.922947</td>\n",
       "      <td>0.253458</td>\n",
       "      <td>0.295652</td>\n",
       "      <td>0.355287</td>\n",
       "      <td>0.980911</td>\n",
       "      <td>0.308864</td>\n",
       "      <td>1</td>\n",
       "      <td>0.879215</td>\n",
       "    </tr>\n",
       "    <tr>\n",
       "      <th>11</th>\n",
       "      <td>0.796623</td>\n",
       "      <td>0.230543</td>\n",
       "      <td>0.993018</td>\n",
       "      <td>0.077075</td>\n",
       "      <td>0.094068</td>\n",
       "      <td>0.718628</td>\n",
       "      <td>0.977611</td>\n",
       "      <td>0.333386</td>\n",
       "      <td>0.634843</td>\n",
       "      <td>0.028729</td>\n",
       "      <td>1</td>\n",
       "      <td>0.936644</td>\n",
       "    </tr>\n",
       "    <tr>\n",
       "      <th>14</th>\n",
       "      <td>0.950745</td>\n",
       "      <td>0.005154</td>\n",
       "      <td>0.084187</td>\n",
       "      <td>0.478148</td>\n",
       "      <td>0.212836</td>\n",
       "      <td>0.714347</td>\n",
       "      <td>0.664819</td>\n",
       "      <td>0.803558</td>\n",
       "      <td>0.465466</td>\n",
       "      <td>0.305692</td>\n",
       "      <td>1</td>\n",
       "      <td>1.045482</td>\n",
       "    </tr>\n",
       "  </tbody>\n",
       "</table>\n",
       "</div>"
      ],
      "text/plain": [
       "        Col1      Col2      Col3      Col4      Col5      Col6      Col7  \\\n",
       "3   0.092108  0.995017  0.014465  0.176371  0.241530  0.514724  0.562208   \n",
       "8   0.197078  0.843918  0.243396  0.281278  0.329148  0.734582  0.191947   \n",
       "9   0.292985  0.703432  0.439621  0.107868  0.922947  0.253458  0.295652   \n",
       "11  0.796623  0.230543  0.993018  0.077075  0.094068  0.718628  0.977611   \n",
       "14  0.950745  0.005154  0.084187  0.478148  0.212836  0.714347  0.664819   \n",
       "\n",
       "        Col8      Col9     Col10  Label     Score  \n",
       "3   0.158963  0.073715  0.208463      1  1.020374  \n",
       "8   0.927804  0.713269  0.891548      1  0.921918  \n",
       "9   0.355287  0.980911  0.308864      1  0.879215  \n",
       "11  0.333386  0.634843  0.028729      1  0.936644  \n",
       "14  0.803558  0.465466  0.305692      1  1.045482  "
      ]
     },
     "execution_count": 13,
     "metadata": {},
     "output_type": "execute_result"
    },
    {
     "data": {
      "application/javascript": [
       "\n",
       "            setTimeout(function() {\n",
       "                var nbb_cell_id = 13;\n",
       "                var nbb_unformatted_code = \"# checking cluster anomaly rows\\ncluster_anomaly_rows = cluster_predictions[cluster_predictions[\\\"Label\\\"] == 1]\\ncluster_anomaly_rows.head()\";\n",
       "                var nbb_formatted_code = \"# checking cluster anomaly rows\\ncluster_anomaly_rows = cluster_predictions[cluster_predictions[\\\"Label\\\"] == 1]\\ncluster_anomaly_rows.head()\";\n",
       "                var nbb_cells = Jupyter.notebook.get_cells();\n",
       "                for (var i = 0; i < nbb_cells.length; ++i) {\n",
       "                    if (nbb_cells[i].input_prompt_number == nbb_cell_id) {\n",
       "                        if (nbb_cells[i].get_text() == nbb_unformatted_code) {\n",
       "                             nbb_cells[i].set_text(nbb_formatted_code);\n",
       "                        }\n",
       "                        break;\n",
       "                    }\n",
       "                }\n",
       "            }, 500);\n",
       "            "
      ],
      "text/plain": [
       "<IPython.core.display.Javascript object>"
      ]
     },
     "metadata": {},
     "output_type": "display_data"
    }
   ],
   "source": [
    "# checking cluster anomaly rows\n",
    "cluster_anomaly_rows = cluster_predictions[cluster_predictions[\"Label\"] == 1]\n",
    "cluster_anomaly_rows.head()"
   ]
  },
  {
   "cell_type": "code",
   "execution_count": 14,
   "metadata": {},
   "outputs": [
    {
     "data": {
      "text/plain": [
       "(50, 12)"
      ]
     },
     "execution_count": 14,
     "metadata": {},
     "output_type": "execute_result"
    },
    {
     "data": {
      "application/javascript": [
       "\n",
       "            setTimeout(function() {\n",
       "                var nbb_cell_id = 14;\n",
       "                var nbb_unformatted_code = \"# checking the number of anomaly rows returned by clustering\\ncluster_anomaly_rows.shape   # returned 50 rows  \";\n",
       "                var nbb_formatted_code = \"# checking the number of anomaly rows returned by clustering\\ncluster_anomaly_rows.shape  # returned 50 rows\";\n",
       "                var nbb_cells = Jupyter.notebook.get_cells();\n",
       "                for (var i = 0; i < nbb_cells.length; ++i) {\n",
       "                    if (nbb_cells[i].input_prompt_number == nbb_cell_id) {\n",
       "                        if (nbb_cells[i].get_text() == nbb_unformatted_code) {\n",
       "                             nbb_cells[i].set_text(nbb_formatted_code);\n",
       "                        }\n",
       "                        break;\n",
       "                    }\n",
       "                }\n",
       "            }, 500);\n",
       "            "
      ],
      "text/plain": [
       "<IPython.core.display.Javascript object>"
      ]
     },
     "metadata": {},
     "output_type": "display_data"
    }
   ],
   "source": [
    "# checking the number of anomaly rows returned by clustering\n",
    "cluster_anomaly_rows.shape  # returned 50 rows"
   ]
  },
  {
   "cell_type": "code",
   "execution_count": null,
   "metadata": {},
   "outputs": [],
   "source": []
  }
 ],
 "metadata": {
  "kernelspec": {
   "display_name": "pycaret1",
   "language": "python",
   "name": "pycaret1"
  },
  "language_info": {
   "codemirror_mode": {
    "name": "ipython",
    "version": 3
   },
   "file_extension": ".py",
   "mimetype": "text/x-python",
   "name": "python",
   "nbconvert_exporter": "python",
   "pygments_lexer": "ipython3",
   "version": "3.7.5"
  }
 },
 "nbformat": 4,
 "nbformat_minor": 2
}
