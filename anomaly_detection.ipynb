{
 "cells": [
  {
   "cell_type": "markdown",
   "metadata": {},
   "source": [
    "## Anomaly Detection using Pycaret\n",
    "\n",
    "PyCaret’s Anomaly Detection Module is an unsupervised machine learning module that is used for identifying rare items, events or observations which raise suspicions by differing significantly from the majority of the data. Typically, the anomalous items will translate to some kind of problem such as bank fraud, a structural defect, medical problems or errors . This module provide several pre-processing features that prepares the data for modeling through setup function. This module has over 12 ready-to-use algorithms and several plots to analyze the results of trained models."
   ]
  },
  {
   "cell_type": "code",
   "execution_count": 1,
   "metadata": {},
   "outputs": [
    {
     "name": "stdout",
     "output_type": "stream",
     "text": [
      "\n",
      "Setup Succesfully Completed!\n"
     ]
    },
    {
     "data": {
      "text/html": [
       "<style  type=\"text/css\" >\n",
       "</style><table id=\"T_7b5843d2_b4c3_11ea_880c_380025f3998f\" ><thead>    <tr>        <th class=\"blank level0\" ></th>        <th class=\"col_heading level0 col0\" >Description</th>        <th class=\"col_heading level0 col1\" >Value</th>    </tr></thead><tbody>\n",
       "                <tr>\n",
       "                        <th id=\"T_7b5843d2_b4c3_11ea_880c_380025f3998flevel0_row0\" class=\"row_heading level0 row0\" >0</th>\n",
       "                        <td id=\"T_7b5843d2_b4c3_11ea_880c_380025f3998frow0_col0\" class=\"data row0 col0\" >session_id </td>\n",
       "                        <td id=\"T_7b5843d2_b4c3_11ea_880c_380025f3998frow0_col1\" class=\"data row0 col1\" >4456</td>\n",
       "            </tr>\n",
       "            <tr>\n",
       "                        <th id=\"T_7b5843d2_b4c3_11ea_880c_380025f3998flevel0_row1\" class=\"row_heading level0 row1\" >1</th>\n",
       "                        <td id=\"T_7b5843d2_b4c3_11ea_880c_380025f3998frow1_col0\" class=\"data row1 col0\" >Original Data </td>\n",
       "                        <td id=\"T_7b5843d2_b4c3_11ea_880c_380025f3998frow1_col1\" class=\"data row1 col1\" >(1000, 10)</td>\n",
       "            </tr>\n",
       "            <tr>\n",
       "                        <th id=\"T_7b5843d2_b4c3_11ea_880c_380025f3998flevel0_row2\" class=\"row_heading level0 row2\" >2</th>\n",
       "                        <td id=\"T_7b5843d2_b4c3_11ea_880c_380025f3998frow2_col0\" class=\"data row2 col0\" >Missing Values </td>\n",
       "                        <td id=\"T_7b5843d2_b4c3_11ea_880c_380025f3998frow2_col1\" class=\"data row2 col1\" >False</td>\n",
       "            </tr>\n",
       "            <tr>\n",
       "                        <th id=\"T_7b5843d2_b4c3_11ea_880c_380025f3998flevel0_row3\" class=\"row_heading level0 row3\" >3</th>\n",
       "                        <td id=\"T_7b5843d2_b4c3_11ea_880c_380025f3998frow3_col0\" class=\"data row3 col0\" >Numeric Features </td>\n",
       "                        <td id=\"T_7b5843d2_b4c3_11ea_880c_380025f3998frow3_col1\" class=\"data row3 col1\" >10</td>\n",
       "            </tr>\n",
       "            <tr>\n",
       "                        <th id=\"T_7b5843d2_b4c3_11ea_880c_380025f3998flevel0_row4\" class=\"row_heading level0 row4\" >4</th>\n",
       "                        <td id=\"T_7b5843d2_b4c3_11ea_880c_380025f3998frow4_col0\" class=\"data row4 col0\" >Categorical Features </td>\n",
       "                        <td id=\"T_7b5843d2_b4c3_11ea_880c_380025f3998frow4_col1\" class=\"data row4 col1\" >0</td>\n",
       "            </tr>\n",
       "            <tr>\n",
       "                        <th id=\"T_7b5843d2_b4c3_11ea_880c_380025f3998flevel0_row5\" class=\"row_heading level0 row5\" >5</th>\n",
       "                        <td id=\"T_7b5843d2_b4c3_11ea_880c_380025f3998frow5_col0\" class=\"data row5 col0\" >Ordinal Features </td>\n",
       "                        <td id=\"T_7b5843d2_b4c3_11ea_880c_380025f3998frow5_col1\" class=\"data row5 col1\" >False</td>\n",
       "            </tr>\n",
       "            <tr>\n",
       "                        <th id=\"T_7b5843d2_b4c3_11ea_880c_380025f3998flevel0_row6\" class=\"row_heading level0 row6\" >6</th>\n",
       "                        <td id=\"T_7b5843d2_b4c3_11ea_880c_380025f3998frow6_col0\" class=\"data row6 col0\" >High Cardinality Features </td>\n",
       "                        <td id=\"T_7b5843d2_b4c3_11ea_880c_380025f3998frow6_col1\" class=\"data row6 col1\" >False</td>\n",
       "            </tr>\n",
       "            <tr>\n",
       "                        <th id=\"T_7b5843d2_b4c3_11ea_880c_380025f3998flevel0_row7\" class=\"row_heading level0 row7\" >7</th>\n",
       "                        <td id=\"T_7b5843d2_b4c3_11ea_880c_380025f3998frow7_col0\" class=\"data row7 col0\" >Transformed Data </td>\n",
       "                        <td id=\"T_7b5843d2_b4c3_11ea_880c_380025f3998frow7_col1\" class=\"data row7 col1\" >(1000, 10)</td>\n",
       "            </tr>\n",
       "            <tr>\n",
       "                        <th id=\"T_7b5843d2_b4c3_11ea_880c_380025f3998flevel0_row8\" class=\"row_heading level0 row8\" >8</th>\n",
       "                        <td id=\"T_7b5843d2_b4c3_11ea_880c_380025f3998frow8_col0\" class=\"data row8 col0\" >Numeric Imputer </td>\n",
       "                        <td id=\"T_7b5843d2_b4c3_11ea_880c_380025f3998frow8_col1\" class=\"data row8 col1\" >mean</td>\n",
       "            </tr>\n",
       "            <tr>\n",
       "                        <th id=\"T_7b5843d2_b4c3_11ea_880c_380025f3998flevel0_row9\" class=\"row_heading level0 row9\" >9</th>\n",
       "                        <td id=\"T_7b5843d2_b4c3_11ea_880c_380025f3998frow9_col0\" class=\"data row9 col0\" >Categorical Imputer </td>\n",
       "                        <td id=\"T_7b5843d2_b4c3_11ea_880c_380025f3998frow9_col1\" class=\"data row9 col1\" >constant</td>\n",
       "            </tr>\n",
       "            <tr>\n",
       "                        <th id=\"T_7b5843d2_b4c3_11ea_880c_380025f3998flevel0_row10\" class=\"row_heading level0 row10\" >10</th>\n",
       "                        <td id=\"T_7b5843d2_b4c3_11ea_880c_380025f3998frow10_col0\" class=\"data row10 col0\" >Normalize </td>\n",
       "                        <td id=\"T_7b5843d2_b4c3_11ea_880c_380025f3998frow10_col1\" class=\"data row10 col1\" >False</td>\n",
       "            </tr>\n",
       "            <tr>\n",
       "                        <th id=\"T_7b5843d2_b4c3_11ea_880c_380025f3998flevel0_row11\" class=\"row_heading level0 row11\" >11</th>\n",
       "                        <td id=\"T_7b5843d2_b4c3_11ea_880c_380025f3998frow11_col0\" class=\"data row11 col0\" >Normalize Method </td>\n",
       "                        <td id=\"T_7b5843d2_b4c3_11ea_880c_380025f3998frow11_col1\" class=\"data row11 col1\" >None</td>\n",
       "            </tr>\n",
       "            <tr>\n",
       "                        <th id=\"T_7b5843d2_b4c3_11ea_880c_380025f3998flevel0_row12\" class=\"row_heading level0 row12\" >12</th>\n",
       "                        <td id=\"T_7b5843d2_b4c3_11ea_880c_380025f3998frow12_col0\" class=\"data row12 col0\" >Transformation </td>\n",
       "                        <td id=\"T_7b5843d2_b4c3_11ea_880c_380025f3998frow12_col1\" class=\"data row12 col1\" >False</td>\n",
       "            </tr>\n",
       "            <tr>\n",
       "                        <th id=\"T_7b5843d2_b4c3_11ea_880c_380025f3998flevel0_row13\" class=\"row_heading level0 row13\" >13</th>\n",
       "                        <td id=\"T_7b5843d2_b4c3_11ea_880c_380025f3998frow13_col0\" class=\"data row13 col0\" >Transformation Method </td>\n",
       "                        <td id=\"T_7b5843d2_b4c3_11ea_880c_380025f3998frow13_col1\" class=\"data row13 col1\" >None</td>\n",
       "            </tr>\n",
       "            <tr>\n",
       "                        <th id=\"T_7b5843d2_b4c3_11ea_880c_380025f3998flevel0_row14\" class=\"row_heading level0 row14\" >14</th>\n",
       "                        <td id=\"T_7b5843d2_b4c3_11ea_880c_380025f3998frow14_col0\" class=\"data row14 col0\" >PCA </td>\n",
       "                        <td id=\"T_7b5843d2_b4c3_11ea_880c_380025f3998frow14_col1\" class=\"data row14 col1\" >False</td>\n",
       "            </tr>\n",
       "            <tr>\n",
       "                        <th id=\"T_7b5843d2_b4c3_11ea_880c_380025f3998flevel0_row15\" class=\"row_heading level0 row15\" >15</th>\n",
       "                        <td id=\"T_7b5843d2_b4c3_11ea_880c_380025f3998frow15_col0\" class=\"data row15 col0\" >PCA Method </td>\n",
       "                        <td id=\"T_7b5843d2_b4c3_11ea_880c_380025f3998frow15_col1\" class=\"data row15 col1\" >None</td>\n",
       "            </tr>\n",
       "            <tr>\n",
       "                        <th id=\"T_7b5843d2_b4c3_11ea_880c_380025f3998flevel0_row16\" class=\"row_heading level0 row16\" >16</th>\n",
       "                        <td id=\"T_7b5843d2_b4c3_11ea_880c_380025f3998frow16_col0\" class=\"data row16 col0\" >PCA components </td>\n",
       "                        <td id=\"T_7b5843d2_b4c3_11ea_880c_380025f3998frow16_col1\" class=\"data row16 col1\" >None</td>\n",
       "            </tr>\n",
       "            <tr>\n",
       "                        <th id=\"T_7b5843d2_b4c3_11ea_880c_380025f3998flevel0_row17\" class=\"row_heading level0 row17\" >17</th>\n",
       "                        <td id=\"T_7b5843d2_b4c3_11ea_880c_380025f3998frow17_col0\" class=\"data row17 col0\" >Ignore Low Variance </td>\n",
       "                        <td id=\"T_7b5843d2_b4c3_11ea_880c_380025f3998frow17_col1\" class=\"data row17 col1\" >False</td>\n",
       "            </tr>\n",
       "            <tr>\n",
       "                        <th id=\"T_7b5843d2_b4c3_11ea_880c_380025f3998flevel0_row18\" class=\"row_heading level0 row18\" >18</th>\n",
       "                        <td id=\"T_7b5843d2_b4c3_11ea_880c_380025f3998frow18_col0\" class=\"data row18 col0\" >Combine Rare Levels </td>\n",
       "                        <td id=\"T_7b5843d2_b4c3_11ea_880c_380025f3998frow18_col1\" class=\"data row18 col1\" >False</td>\n",
       "            </tr>\n",
       "            <tr>\n",
       "                        <th id=\"T_7b5843d2_b4c3_11ea_880c_380025f3998flevel0_row19\" class=\"row_heading level0 row19\" >19</th>\n",
       "                        <td id=\"T_7b5843d2_b4c3_11ea_880c_380025f3998frow19_col0\" class=\"data row19 col0\" >Rare Level Threshold </td>\n",
       "                        <td id=\"T_7b5843d2_b4c3_11ea_880c_380025f3998frow19_col1\" class=\"data row19 col1\" >None</td>\n",
       "            </tr>\n",
       "            <tr>\n",
       "                        <th id=\"T_7b5843d2_b4c3_11ea_880c_380025f3998flevel0_row20\" class=\"row_heading level0 row20\" >20</th>\n",
       "                        <td id=\"T_7b5843d2_b4c3_11ea_880c_380025f3998frow20_col0\" class=\"data row20 col0\" >Numeric Binning </td>\n",
       "                        <td id=\"T_7b5843d2_b4c3_11ea_880c_380025f3998frow20_col1\" class=\"data row20 col1\" >False</td>\n",
       "            </tr>\n",
       "            <tr>\n",
       "                        <th id=\"T_7b5843d2_b4c3_11ea_880c_380025f3998flevel0_row21\" class=\"row_heading level0 row21\" >21</th>\n",
       "                        <td id=\"T_7b5843d2_b4c3_11ea_880c_380025f3998frow21_col0\" class=\"data row21 col0\" >Remove Multicollinearity </td>\n",
       "                        <td id=\"T_7b5843d2_b4c3_11ea_880c_380025f3998frow21_col1\" class=\"data row21 col1\" >False</td>\n",
       "            </tr>\n",
       "            <tr>\n",
       "                        <th id=\"T_7b5843d2_b4c3_11ea_880c_380025f3998flevel0_row22\" class=\"row_heading level0 row22\" >22</th>\n",
       "                        <td id=\"T_7b5843d2_b4c3_11ea_880c_380025f3998frow22_col0\" class=\"data row22 col0\" >Multicollinearity Threshold </td>\n",
       "                        <td id=\"T_7b5843d2_b4c3_11ea_880c_380025f3998frow22_col1\" class=\"data row22 col1\" >None</td>\n",
       "            </tr>\n",
       "            <tr>\n",
       "                        <th id=\"T_7b5843d2_b4c3_11ea_880c_380025f3998flevel0_row23\" class=\"row_heading level0 row23\" >23</th>\n",
       "                        <td id=\"T_7b5843d2_b4c3_11ea_880c_380025f3998frow23_col0\" class=\"data row23 col0\" >Group Features </td>\n",
       "                        <td id=\"T_7b5843d2_b4c3_11ea_880c_380025f3998frow23_col1\" class=\"data row23 col1\" >False</td>\n",
       "            </tr>\n",
       "    </tbody></table>"
      ],
      "text/plain": [
       "<pandas.io.formats.style.Styler at 0x177c7afb0c8>"
      ]
     },
     "metadata": {},
     "output_type": "display_data"
    }
   ],
   "source": [
    "# importing dependencies here\n",
    "from pycaret.datasets import get_data\n",
    "anomaly = get_data(\"anomaly\")\n",
    "\n",
    "# importing anomaly detection module\n",
    "from pycaret.anomaly import *\n",
    "\n",
    "# initializing the setup function used for pre-processing \n",
    "setup_anomaly_data = setup(anomaly)"
   ]
  },
  {
   "cell_type": "code",
   "execution_count": 2,
   "metadata": {},
   "outputs": [
    {
     "data": {
      "text/html": [
       "<div>\n",
       "<style scoped>\n",
       "    .dataframe tbody tr th:only-of-type {\n",
       "        vertical-align: middle;\n",
       "    }\n",
       "\n",
       "    .dataframe tbody tr th {\n",
       "        vertical-align: top;\n",
       "    }\n",
       "\n",
       "    .dataframe thead th {\n",
       "        text-align: right;\n",
       "    }\n",
       "</style>\n",
       "<table border=\"1\" class=\"dataframe\">\n",
       "  <thead>\n",
       "    <tr style=\"text-align: right;\">\n",
       "      <th></th>\n",
       "      <th>Col1</th>\n",
       "      <th>Col2</th>\n",
       "      <th>Col3</th>\n",
       "      <th>Col4</th>\n",
       "      <th>Col5</th>\n",
       "      <th>Col6</th>\n",
       "      <th>Col7</th>\n",
       "      <th>Col8</th>\n",
       "      <th>Col9</th>\n",
       "      <th>Col10</th>\n",
       "    </tr>\n",
       "  </thead>\n",
       "  <tbody>\n",
       "    <tr>\n",
       "      <th>0</th>\n",
       "      <td>0.263995</td>\n",
       "      <td>0.764929</td>\n",
       "      <td>0.138424</td>\n",
       "      <td>0.935242</td>\n",
       "      <td>0.605867</td>\n",
       "      <td>0.518790</td>\n",
       "      <td>0.912225</td>\n",
       "      <td>0.608234</td>\n",
       "      <td>0.723782</td>\n",
       "      <td>0.733591</td>\n",
       "    </tr>\n",
       "    <tr>\n",
       "      <th>1</th>\n",
       "      <td>0.546092</td>\n",
       "      <td>0.653975</td>\n",
       "      <td>0.065575</td>\n",
       "      <td>0.227772</td>\n",
       "      <td>0.845269</td>\n",
       "      <td>0.837066</td>\n",
       "      <td>0.272379</td>\n",
       "      <td>0.331679</td>\n",
       "      <td>0.429297</td>\n",
       "      <td>0.367422</td>\n",
       "    </tr>\n",
       "    <tr>\n",
       "      <th>2</th>\n",
       "      <td>0.336714</td>\n",
       "      <td>0.538842</td>\n",
       "      <td>0.192801</td>\n",
       "      <td>0.553563</td>\n",
       "      <td>0.074515</td>\n",
       "      <td>0.332993</td>\n",
       "      <td>0.365792</td>\n",
       "      <td>0.861309</td>\n",
       "      <td>0.899017</td>\n",
       "      <td>0.088600</td>\n",
       "    </tr>\n",
       "    <tr>\n",
       "      <th>3</th>\n",
       "      <td>0.092108</td>\n",
       "      <td>0.995017</td>\n",
       "      <td>0.014465</td>\n",
       "      <td>0.176371</td>\n",
       "      <td>0.241530</td>\n",
       "      <td>0.514724</td>\n",
       "      <td>0.562208</td>\n",
       "      <td>0.158963</td>\n",
       "      <td>0.073715</td>\n",
       "      <td>0.208463</td>\n",
       "    </tr>\n",
       "    <tr>\n",
       "      <th>4</th>\n",
       "      <td>0.325261</td>\n",
       "      <td>0.805968</td>\n",
       "      <td>0.957033</td>\n",
       "      <td>0.331665</td>\n",
       "      <td>0.307923</td>\n",
       "      <td>0.355315</td>\n",
       "      <td>0.501899</td>\n",
       "      <td>0.558449</td>\n",
       "      <td>0.885169</td>\n",
       "      <td>0.182754</td>\n",
       "    </tr>\n",
       "    <tr>\n",
       "      <th>...</th>\n",
       "      <td>...</td>\n",
       "      <td>...</td>\n",
       "      <td>...</td>\n",
       "      <td>...</td>\n",
       "      <td>...</td>\n",
       "      <td>...</td>\n",
       "      <td>...</td>\n",
       "      <td>...</td>\n",
       "      <td>...</td>\n",
       "      <td>...</td>\n",
       "    </tr>\n",
       "    <tr>\n",
       "      <th>995</th>\n",
       "      <td>0.305055</td>\n",
       "      <td>0.656837</td>\n",
       "      <td>0.331665</td>\n",
       "      <td>0.822525</td>\n",
       "      <td>0.907127</td>\n",
       "      <td>0.882276</td>\n",
       "      <td>0.855732</td>\n",
       "      <td>0.584786</td>\n",
       "      <td>0.808640</td>\n",
       "      <td>0.242762</td>\n",
       "    </tr>\n",
       "    <tr>\n",
       "      <th>996</th>\n",
       "      <td>0.812627</td>\n",
       "      <td>0.864258</td>\n",
       "      <td>0.616604</td>\n",
       "      <td>0.167966</td>\n",
       "      <td>0.811223</td>\n",
       "      <td>0.938071</td>\n",
       "      <td>0.418462</td>\n",
       "      <td>0.472306</td>\n",
       "      <td>0.348347</td>\n",
       "      <td>0.671129</td>\n",
       "    </tr>\n",
       "    <tr>\n",
       "      <th>997</th>\n",
       "      <td>0.250967</td>\n",
       "      <td>0.138627</td>\n",
       "      <td>0.919703</td>\n",
       "      <td>0.461234</td>\n",
       "      <td>0.886555</td>\n",
       "      <td>0.869888</td>\n",
       "      <td>0.800908</td>\n",
       "      <td>0.530324</td>\n",
       "      <td>0.779433</td>\n",
       "      <td>0.234952</td>\n",
       "    </tr>\n",
       "    <tr>\n",
       "      <th>998</th>\n",
       "      <td>0.502436</td>\n",
       "      <td>0.936820</td>\n",
       "      <td>0.580062</td>\n",
       "      <td>0.540773</td>\n",
       "      <td>0.151995</td>\n",
       "      <td>0.059452</td>\n",
       "      <td>0.225220</td>\n",
       "      <td>0.242755</td>\n",
       "      <td>0.279385</td>\n",
       "      <td>0.538755</td>\n",
       "    </tr>\n",
       "    <tr>\n",
       "      <th>999</th>\n",
       "      <td>0.457991</td>\n",
       "      <td>0.017755</td>\n",
       "      <td>0.714113</td>\n",
       "      <td>0.125992</td>\n",
       "      <td>0.063316</td>\n",
       "      <td>0.154739</td>\n",
       "      <td>0.922974</td>\n",
       "      <td>0.692299</td>\n",
       "      <td>0.816777</td>\n",
       "      <td>0.307592</td>\n",
       "    </tr>\n",
       "  </tbody>\n",
       "</table>\n",
       "<p>1000 rows × 10 columns</p>\n",
       "</div>"
      ],
      "text/plain": [
       "         Col1      Col2      Col3      Col4      Col5      Col6      Col7  \\\n",
       "0    0.263995  0.764929  0.138424  0.935242  0.605867  0.518790  0.912225   \n",
       "1    0.546092  0.653975  0.065575  0.227772  0.845269  0.837066  0.272379   \n",
       "2    0.336714  0.538842  0.192801  0.553563  0.074515  0.332993  0.365792   \n",
       "3    0.092108  0.995017  0.014465  0.176371  0.241530  0.514724  0.562208   \n",
       "4    0.325261  0.805968  0.957033  0.331665  0.307923  0.355315  0.501899   \n",
       "..        ...       ...       ...       ...       ...       ...       ...   \n",
       "995  0.305055  0.656837  0.331665  0.822525  0.907127  0.882276  0.855732   \n",
       "996  0.812627  0.864258  0.616604  0.167966  0.811223  0.938071  0.418462   \n",
       "997  0.250967  0.138627  0.919703  0.461234  0.886555  0.869888  0.800908   \n",
       "998  0.502436  0.936820  0.580062  0.540773  0.151995  0.059452  0.225220   \n",
       "999  0.457991  0.017755  0.714113  0.125992  0.063316  0.154739  0.922974   \n",
       "\n",
       "         Col8      Col9     Col10  \n",
       "0    0.608234  0.723782  0.733591  \n",
       "1    0.331679  0.429297  0.367422  \n",
       "2    0.861309  0.899017  0.088600  \n",
       "3    0.158963  0.073715  0.208463  \n",
       "4    0.558449  0.885169  0.182754  \n",
       "..        ...       ...       ...  \n",
       "995  0.584786  0.808640  0.242762  \n",
       "996  0.472306  0.348347  0.671129  \n",
       "997  0.530324  0.779433  0.234952  \n",
       "998  0.242755  0.279385  0.538755  \n",
       "999  0.692299  0.816777  0.307592  \n",
       "\n",
       "[1000 rows x 10 columns]"
      ]
     },
     "execution_count": 2,
     "metadata": {},
     "output_type": "execute_result"
    }
   ],
   "source": [
    "# checking the dataset\n",
    "anomaly"
   ]
  },
  {
   "cell_type": "markdown",
   "metadata": {},
   "source": [
    "## Creating Anomaly Detection Models"
   ]
  },
  {
   "cell_type": "markdown",
   "metadata": {},
   "source": [
    "### Isolation Forest"
   ]
  },
  {
   "cell_type": "code",
   "execution_count": 3,
   "metadata": {},
   "outputs": [
    {
     "data": {
      "text/html": [
       "        <script type=\"text/javascript\">\n",
       "        window.PlotlyConfig = {MathJaxConfig: 'local'};\n",
       "        if (window.MathJax) {MathJax.Hub.Config({SVG: {font: \"STIX-Web\"}});}\n",
       "        if (typeof require !== 'undefined') {\n",
       "        require.undef(\"plotly\");\n",
       "        requirejs.config({\n",
       "            paths: {\n",
       "                'plotly': ['https://cdn.plot.ly/plotly-latest.min']\n",
       "            }\n",
       "        });\n",
       "        require(['plotly'], function(Plotly) {\n",
       "            window._Plotly = Plotly;\n",
       "        });\n",
       "        }\n",
       "        </script>\n",
       "        "
      ]
     },
     "metadata": {},
     "output_type": "display_data"
    },
    {
     "data": {
      "application/vnd.plotly.v1+json": {
       "config": {
        "plotlyServerURL": "https://plot.ly"
       },
       "data": [
        {
         "customdata": [
          [
           0.263995357
          ],
          [
           0.546092303
          ],
          [
           0.33671410399999996
          ],
          [
           0.092107835
          ],
          [
           0.325261175
          ],
          [
           0.212464853
          ],
          [
           0.258565714
          ],
          [
           0.869236755
          ],
          [
           0.197077957
          ],
          [
           0.292984504
          ],
          [
           0.82178316
          ],
          [
           0.796622959
          ],
          [
           0.045577010999999994
          ],
          [
           0.613660351
          ],
          [
           0.9507445659999999
          ],
          [
           0.33634633700000005
          ],
          [
           0.034440667
          ],
          [
           0.741544275
          ],
          [
           0.18443265
          ],
          [
           0.664514943
          ],
          [
           0.16282485800000002
          ],
          [
           0.729838445
          ],
          [
           0.62837389
          ],
          [
           0.057883660999999996
          ],
          [
           0.445534827
          ],
          [
           0.80183695
          ],
          [
           0.27709612
          ],
          [
           0.228634015
          ],
          [
           0.834860657
          ],
          [
           0.6697665110000001
          ],
          [
           0.532527349
          ],
          [
           0.17045907100000002
          ],
          [
           0.5102884679999999
          ],
          [
           0.977561989
          ],
          [
           0.249775993
          ],
          [
           0.9755006820000001
          ],
          [
           0.613701727
          ],
          [
           0.16742036300000002
          ],
          [
           0.537472516
          ],
          [
           0.379899131
          ],
          [
           0.633897303
          ],
          [
           0.633960424
          ],
          [
           0.5499746529999999
          ],
          [
           0.178172988
          ],
          [
           0.85563814
          ],
          [
           0.321796672
          ],
          [
           0.8174905370000001
          ],
          [
           0.254879417
          ],
          [
           0.344140513
          ],
          [
           0.8061457259999999
          ],
          [
           0.27708167100000003
          ],
          [
           0.544328519
          ],
          [
           0.07708393
          ],
          [
           0.273081458
          ],
          [
           0.390877336
          ],
          [
           0.349621385
          ],
          [
           0.214549744
          ],
          [
           0.206075222
          ],
          [
           0.86461997
          ],
          [
           0.9817088540000001
          ],
          [
           0.33482964600000004
          ],
          [
           0.648387061
          ],
          [
           0.093643561
          ],
          [
           0.837802698
          ],
          [
           0.7603439670000001
          ],
          [
           0.29140417399999996
          ],
          [
           0.3413454
          ],
          [
           0.7611124840000001
          ],
          [
           0.541899775
          ],
          [
           0.684176639
          ],
          [
           0.983535597
          ],
          [
           0.52081245
          ],
          [
           0.328227724
          ],
          [
           0.09715793800000001
          ],
          [
           0.876088593
          ],
          [
           0.870214512
          ],
          [
           0.656086992
          ],
          [
           0.306791514
          ],
          [
           0.48126734
          ],
          [
           0.259559174
          ],
          [
           0.326123655
          ],
          [
           0.930568042
          ],
          [
           0.6583894
          ],
          [
           0.689992335
          ],
          [
           0.315781109
          ],
          [
           0.5669050929999999
          ],
          [
           0.637526619
          ],
          [
           0.687540723
          ],
          [
           0.324300602
          ],
          [
           0.592704906
          ],
          [
           0.7402531259999999
          ],
          [
           0.5940328770000001
          ],
          [
           0.596452977
          ],
          [
           0.27768081699999997
          ],
          [
           0.258329663
          ],
          [
           0.142460864
          ],
          [
           0.435533461
          ],
          [
           0.7024990440000001
          ],
          [
           0.58897535
          ],
          [
           0.653304374
          ],
          [
           0.336968524
          ],
          [
           0.631244736
          ],
          [
           0.73530076
          ],
          [
           0.050390366
          ],
          [
           0.064264924
          ],
          [
           0.665359476
          ],
          [
           0.917835245
          ],
          [
           0.44651012
          ],
          [
           0.661938199
          ],
          [
           0.43935985299999997
          ],
          [
           0.6875724040000001
          ],
          [
           0.363462248
          ],
          [
           0.6542621820000001
          ],
          [
           0.578553536
          ],
          [
           0.065927945
          ],
          [
           0.550148559
          ],
          [
           0.13918281400000002
          ],
          [
           0.080004635
          ],
          [
           0.278228358
          ],
          [
           0.560124266
          ],
          [
           0.53639864
          ],
          [
           0.42653190399999996
          ],
          [
           0.789109796
          ],
          [
           0.742900474
          ],
          [
           0.901692589
          ],
          [
           0.650337401
          ],
          [
           0.114057311
          ],
          [
           0.260812592
          ],
          [
           0.43991232
          ],
          [
           0.964409284
          ],
          [
           0.184401415
          ],
          [
           0.345145446
          ],
          [
           0.17589458100000002
          ],
          [
           0.312514453
          ],
          [
           0.674131879
          ],
          [
           0.32825045
          ],
          [
           0.598231057
          ],
          [
           0.09259881699999999
          ],
          [
           0.497916521
          ],
          [
           0.419776521
          ],
          [
           0.31217670000000003
          ],
          [
           0.937857107
          ],
          [
           0.049030963
          ],
          [
           0.47610452600000003
          ],
          [
           0.447397526
          ],
          [
           0.295806058
          ],
          [
           0.737363977
          ],
          [
           0.625896253
          ],
          [
           0.408813429
          ],
          [
           0.437511156
          ],
          [
           0.691351375
          ],
          [
           0.935555275
          ],
          [
           0.437846654
          ],
          [
           0.072217715
          ],
          [
           0.67636067
          ],
          [
           0.468883999
          ],
          [
           0.543820644
          ],
          [
           0.6555226470000001
          ],
          [
           0.6935289240000001
          ],
          [
           0.10887831199999999
          ],
          [
           0.285463743
          ],
          [
           0
          ],
          [
           0.706495497
          ],
          [
           0.273530633
          ],
          [
           0.292320271
          ],
          [
           0.673984307
          ],
          [
           0.12612182800000002
          ],
          [
           0.9467074590000001
          ],
          [
           0.9363388979999999
          ],
          [
           0.8537553640000001
          ],
          [
           0.7060713609999999
          ],
          [
           0.693682186
          ],
          [
           0.508527882
          ],
          [
           0.34717038899999997
          ],
          [
           0.704154263
          ],
          [
           0.658730088
          ],
          [
           0.155841557
          ],
          [
           0.311085435
          ],
          [
           0.281135347
          ],
          [
           0.094587802
          ],
          [
           0.6832609540000001
          ],
          [
           0.9077292509999999
          ],
          [
           0.29151267399999997
          ],
          [
           0.752734459
          ],
          [
           0.93482964
          ],
          [
           0.071413953
          ],
          [
           0.5948963270000001
          ],
          [
           0.404672015
          ],
          [
           0.13837621
          ],
          [
           0.7473384679999999
          ],
          [
           0.530882486
          ],
          [
           0.282649594
          ],
          [
           0.699335734
          ],
          [
           0.056111250999999994
          ],
          [
           0.855234998
          ],
          [
           0.07789512700000001
          ],
          [
           0.891649583
          ],
          [
           0.38674227899999997
          ],
          [
           0.27113158
          ],
          [
           0.958888961
          ],
          [
           0.085120869
          ],
          [
           0.5269022489999999
          ],
          [
           0.066577785
          ],
          [
           0.841506738
          ],
          [
           0.255342095
          ],
          [
           0.060545771
          ],
          [
           0.073385869
          ],
          [
           0.187493723
          ],
          [
           0.858365688
          ],
          [
           0.090640352
          ],
          [
           0.7097252270000001
          ],
          [
           0.631300647
          ],
          [
           0.24750447399999997
          ],
          [
           0.822843584
          ],
          [
           0.373476759
          ],
          [
           0.625538582
          ],
          [
           0.292951715
          ],
          [
           0.299730324
          ],
          [
           0.25121407
          ],
          [
           0.344480551
          ],
          [
           0.293064767
          ],
          [
           0.7628032240000001
          ],
          [
           0.7384708040000001
          ],
          [
           0.674883265
          ],
          [
           0.719151612
          ],
          [
           0.13098021599999998
          ],
          [
           0.511328036
          ],
          [
           0.04492903
          ],
          [
           0.560914449
          ],
          [
           0.7440406409999999
          ],
          [
           0.266961634
          ],
          [
           0.644231853
          ],
          [
           0.038113352
          ],
          [
           0.05715529900000001
          ],
          [
           0.34139246100000004
          ],
          [
           0.7204636320000001
          ],
          [
           0.402878236
          ],
          [
           0.635148967
          ],
          [
           0.320729467
          ],
          [
           0.09120969400000001
          ],
          [
           0.23414609
          ],
          [
           0.8902211309999999
          ],
          [
           0.602170884
          ],
          [
           0.633652055
          ],
          [
           0.806240837
          ],
          [
           0.739731184
          ],
          [
           0.465231269
          ],
          [
           0.7321109
          ],
          [
           0.373874305
          ],
          [
           0.501587947
          ],
          [
           0.11538315800000001
          ],
          [
           0.7319466040000001
          ],
          [
           0.41829872799999995
          ],
          [
           0.062259590999999996
          ],
          [
           0.391496379
          ],
          [
           0.35984929
          ],
          [
           0.24523562699999998
          ],
          [
           0.610028339
          ],
          [
           0.43540360200000006
          ],
          [
           0.434309675
          ],
          [
           0.523763344
          ],
          [
           0.17118786600000002
          ],
          [
           0.18773430300000002
          ],
          [
           0.945014638
          ],
          [
           0.027851097000000002
          ],
          [
           0.68445706
          ],
          [
           0.178014532
          ],
          [
           0.643427879
          ],
          [
           0.59588355
          ],
          [
           0.372361682
          ],
          [
           0.586103584
          ],
          [
           0.271658852
          ],
          [
           0.59951107
          ],
          [
           0.468363088
          ],
          [
           0.314515565
          ],
          [
           0.21893726
          ],
          [
           0.254716562
          ],
          [
           0.25612815
          ],
          [
           0.602259755
          ],
          [
           0.134381075
          ],
          [
           0.513887424
          ],
          [
           0.624241636
          ],
          [
           0.160251854
          ],
          [
           0.580708108
          ],
          [
           0.270540486
          ],
          [
           0.832919932
          ],
          [
           0.93032134
          ],
          [
           0.719157884
          ],
          [
           0.886720033
          ],
          [
           0.098792281
          ],
          [
           0.787174286
          ],
          [
           0.365592376
          ],
          [
           0.719576193
          ],
          [
           0.8058956
          ],
          [
           0.7555783340000001
          ],
          [
           0.526005909
          ],
          [
           0.68880424
          ],
          [
           0.22111531199999998
          ],
          [
           0.739369477
          ],
          [
           0.408440236
          ],
          [
           0.348926542
          ],
          [
           0.433713763
          ],
          [
           0.5964966070000001
          ],
          [
           0.6942953000000001
          ],
          [
           0.7090309659999999
          ],
          [
           0.867652984
          ],
          [
           0.89332545
          ],
          [
           0.746020922
          ],
          [
           0.538284443
          ],
          [
           0.8922193140000001
          ],
          [
           0.935175765
          ],
          [
           0.260527707
          ],
          [
           0.956780449
          ],
          [
           0.204932484
          ],
          [
           0.687733351
          ],
          [
           0.329063619
          ],
          [
           0.632149831
          ],
          [
           0.463744506
          ],
          [
           0.698859621
          ],
          [
           0.385446564
          ],
          [
           0.47997537700000004
          ],
          [
           0.732279108
          ],
          [
           0.3813543
          ],
          [
           0.459326013
          ],
          [
           0.257401434
          ],
          [
           0.665014804
          ],
          [
           0.103399542
          ],
          [
           0.425284413
          ],
          [
           0.943529051
          ],
          [
           0.594750236
          ],
          [
           0.543776817
          ],
          [
           0.18203988
          ],
          [
           0.23584208399999998
          ],
          [
           0.585984497
          ],
          [
           0.762013168
          ],
          [
           0.6849829070000001
          ],
          [
           0.676936933
          ],
          [
           0.290184964
          ],
          [
           0.48106822200000005
          ],
          [
           0.492766033
          ],
          [
           0.22185623399999999
          ],
          [
           0.053875998
          ],
          [
           0.082751144
          ],
          [
           0.385366225
          ],
          [
           0.702513961
          ],
          [
           0.91553156
          ],
          [
           0.082087436
          ],
          [
           0.251280378
          ],
          [
           0.41672181700000005
          ],
          [
           0.277032672
          ],
          [
           0.579539754
          ],
          [
           0.569363476
          ],
          [
           0.133399703
          ],
          [
           0.265045463
          ],
          [
           0.936571901
          ],
          [
           0.252618554
          ],
          [
           0.054033081
          ],
          [
           0.802481439
          ],
          [
           0.528197693
          ],
          [
           0.9515026
          ],
          [
           0.572121173
          ],
          [
           0.752938227
          ],
          [
           0.143857535
          ],
          [
           0.513484576
          ],
          [
           0.313322389
          ],
          [
           0.6877973959999999
          ],
          [
           0.37705984
          ],
          [
           0.348226142
          ],
          [
           0.67763282
          ],
          [
           0.24138752100000002
          ],
          [
           0.8506501790000001
          ],
          [
           0.22034810300000002
          ],
          [
           0.476445464
          ],
          [
           0.690324025
          ],
          [
           0.364695946
          ],
          [
           0.6492491970000001
          ],
          [
           0.9437019209999999
          ],
          [
           0.529645971
          ],
          [
           0.299097002
          ],
          [
           0.96696247
          ],
          [
           0.272005242
          ],
          [
           0.314161447
          ],
          [
           0.752020991
          ],
          [
           0.221882453
          ],
          [
           0.7203326729999999
          ],
          [
           0.379204782
          ],
          [
           0.60168653
          ],
          [
           0.582932673
          ],
          [
           0.950809853
          ],
          [
           0.58830141
          ],
          [
           0.880887227
          ],
          [
           0.467857701
          ],
          [
           0.8799021709999999
          ],
          [
           0.619844009
          ],
          [
           0.359002573
          ],
          [
           0.291511278
          ],
          [
           0.694157143
          ],
          [
           0.727960353
          ],
          [
           0.617703921
          ],
          [
           0.39581257
          ],
          [
           0.58317282
          ],
          [
           0.710332374
          ],
          [
           0.253753693
          ],
          [
           0.049412227999999996
          ],
          [
           0.728378695
          ],
          [
           0.432432881
          ],
          [
           0.58612345
          ],
          [
           0.052342373
          ],
          [
           0.053483902
          ],
          [
           0.518729378
          ],
          [
           0.933040208
          ],
          [
           0.7035542840000001
          ],
          [
           0.268989899
          ],
          [
           0.733006927
          ],
          [
           0.44435246700000003
          ],
          [
           0.5833946210000001
          ],
          [
           0.871172692
          ],
          [
           0.42876707799999997
          ],
          [
           0.30046084100000003
          ],
          [
           0.9533294590000001
          ],
          [
           0.606443965
          ],
          [
           0.90986815
          ],
          [
           0.714896449
          ],
          [
           0.49734950899999997
          ],
          [
           0.8530974859999999
          ],
          [
           0.721804145
          ],
          [
           0.303467328
          ],
          [
           0.664485096
          ],
          [
           0.27978062
          ],
          [
           0.569481665
          ],
          [
           0.628628926
          ],
          [
           0.088368123
          ],
          [
           0.733567326
          ],
          [
           0.537436778
          ],
          [
           0.638593691
          ],
          [
           0.954726948
          ],
          [
           0.632202332
          ],
          [
           0.642134651
          ],
          [
           0.744653087
          ],
          [
           0.115714007
          ],
          [
           0.48625007299999995
          ],
          [
           0.440356144
          ],
          [
           0.08272289
          ],
          [
           0.511591027
          ],
          [
           0.394627555
          ],
          [
           0.224394
          ],
          [
           0.626927584
          ],
          [
           0.290254057
          ],
          [
           0.779008053
          ],
          [
           0.86610579
          ],
          [
           0.873326081
          ],
          [
           0.49548916
          ],
          [
           0.594297695
          ],
          [
           0.9182015840000001
          ],
          [
           0.5770427539999999
          ],
          [
           0.019467671000000002
          ],
          [
           0.6702982820000001
          ],
          [
           0.546595316
          ],
          [
           0.591665146
          ],
          [
           0.42155819
          ],
          [
           0.6856085590000001
          ],
          [
           0.340303024
          ],
          [
           0.675626741
          ],
          [
           0.319067345
          ],
          [
           0.38849966399999997
          ],
          [
           0.706949589
          ],
          [
           0.559409515
          ],
          [
           0.687663508
          ],
          [
           0.7088045540000001
          ],
          [
           0.6818880940000001
          ],
          [
           0.42253510899999996
          ],
          [
           0.320004605
          ],
          [
           0.6582813679999999
          ],
          [
           0.634154867
          ],
          [
           0.7773320090000001
          ],
          [
           0.812677205
          ],
          [
           0.074280797
          ],
          [
           0.39600217
          ],
          [
           0.054933913
          ],
          [
           0.825058925
          ],
          [
           0.382642009
          ],
          [
           0.8687298179999999
          ],
          [
           0.588043346
          ],
          [
           0.891551577
          ],
          [
           0.10920046
          ],
          [
           0.647682781
          ],
          [
           0.724342512
          ],
          [
           0.07016304400000001
          ],
          [
           0.280882054
          ],
          [
           0.039113261
          ],
          [
           0.579641592
          ],
          [
           0.639000922
          ],
          [
           0.281745925
          ],
          [
           0.647857744
          ],
          [
           0.6479057970000001
          ],
          [
           0.875226264
          ],
          [
           0.567603305
          ],
          [
           0.262940591
          ],
          [
           0.268026042
          ],
          [
           0.40519133
          ],
          [
           0.479965451
          ],
          [
           0.33552403
          ],
          [
           0.777165379
          ],
          [
           0.42548796299999997
          ],
          [
           0.237986115
          ],
          [
           0.142522971
          ],
          [
           0.724176488
          ],
          [
           0.234698933
          ],
          [
           0.07818228099999999
          ],
          [
           0.855990155
          ],
          [
           0.270251765
          ],
          [
           0.435517841
          ],
          [
           0.762697513
          ],
          [
           0.46448725799999996
          ],
          [
           0.396112685
          ],
          [
           0.37638092100000003
          ],
          [
           0.29459467699999997
          ],
          [
           0.6944921209999999
          ],
          [
           0.622767949
          ],
          [
           0.8475597220000001
          ],
          [
           0.301463054
          ],
          [
           0.912937812
          ],
          [
           0.500017182
          ],
          [
           0.902587935
          ],
          [
           0.304517943
          ],
          [
           0.299165673
          ],
          [
           0.092014087
          ],
          [
           0.488548917
          ],
          [
           0.664664437
          ],
          [
           0.26534954899999996
          ],
          [
           0.723657021
          ],
          [
           0.149262385
          ],
          [
           0.04577339
          ],
          [
           0.69661064
          ],
          [
           0.42181486
          ],
          [
           0.733845785
          ],
          [
           0.418795386
          ],
          [
           0.677443529
          ],
          [
           0.26128360300000003
          ],
          [
           0.268527767
          ],
          [
           0.5443222360000001
          ],
          [
           0.431632036
          ],
          [
           0.981018141
          ],
          [
           0.21498072399999998
          ],
          [
           0.39472999299999995
          ],
          [
           0.122224944
          ],
          [
           0.297496875
          ],
          [
           0.37490443100000004
          ],
          [
           0.68698771
          ],
          [
           0.388549207
          ],
          [
           0.039296071
          ],
          [
           0.73553424
          ],
          [
           0.37929489299999997
          ],
          [
           0.7321233859999999
          ],
          [
           0.33922143899999996
          ],
          [
           0.659450594
          ],
          [
           0.054838642
          ],
          [
           0.640112102
          ],
          [
           0.30714170399999996
          ],
          [
           0.39661190700000004
          ],
          [
           0.420439161
          ],
          [
           0.24171497399999997
          ],
          [
           0.065893153
          ],
          [
           0.9105219370000001
          ],
          [
           0.697163103
          ],
          [
           0.072559853
          ],
          [
           0.81825094
          ],
          [
           0.311888815
          ],
          [
           0.961644609
          ],
          [
           0.816325524
          ],
          [
           0.14647302
          ],
          [
           0.548753945
          ],
          [
           0.946158087
          ],
          [
           0.293992717
          ],
          [
           0.331479643
          ],
          [
           0.9062200309999999
          ],
          [
           0.525540416
          ],
          [
           0.83301411
          ],
          [
           0.514849806
          ],
          [
           0.574609024
          ],
          [
           0.46871185299999996
          ],
          [
           0.71002775
          ],
          [
           0.645973276
          ],
          [
           0.229794416
          ],
          [
           0.551783393
          ],
          [
           0.055822990999999995
          ],
          [
           0.331750941
          ],
          [
           0.715520198
          ],
          [
           0.583924357
          ],
          [
           0.30695769100000003
          ],
          [
           0.7914782370000001
          ],
          [
           0.16423663900000002
          ],
          [
           0.065711219
          ],
          [
           0.948993132
          ],
          [
           0.080423835
          ],
          [
           0.052495426
          ],
          [
           0.566346135
          ],
          [
           0.3630266
          ],
          [
           0.605442195
          ],
          [
           0.6308505839999999
          ],
          [
           0.065791238
          ],
          [
           0.28681707100000003
          ],
          [
           0.685462839
          ],
          [
           0.260853706
          ],
          [
           0.659122429
          ],
          [
           0.44317392200000005
          ],
          [
           0.602063986
          ],
          [
           0.060366910999999995
          ],
          [
           0.781903153
          ],
          [
           0.5145798070000001
          ],
          [
           0.48388621299999995
          ],
          [
           0.600213807
          ],
          [
           0.49736405200000006
          ],
          [
           0.411145245
          ],
          [
           0.116999171
          ],
          [
           0.34189014100000004
          ],
          [
           0.746950848
          ],
          [
           0.39629274600000003
          ],
          [
           0.6221438429999999
          ],
          [
           0.335271141
          ],
          [
           0.140257137
          ],
          [
           0.081620681
          ],
          [
           0.069837569
          ],
          [
           0.46894000799999996
          ],
          [
           0.9908574170000001
          ],
          [
           0.896616832
          ],
          [
           0.255310561
          ],
          [
           0.22464526699999998
          ],
          [
           0.01991825
          ],
          [
           0.296480415
          ],
          [
           0.155458996
          ],
          [
           0.577916714
          ],
          [
           0.9563030309999999
          ],
          [
           0.813464394
          ],
          [
           0.529675785
          ],
          [
           0.287671353
          ],
          [
           0.48039136
          ],
          [
           0.28104482199999997
          ],
          [
           0.633196521
          ],
          [
           0.09332537699999999
          ],
          [
           0.28447398100000004
          ],
          [
           0.052223775
          ],
          [
           0.051129385
          ],
          [
           0.967405608
          ],
          [
           0.040045727999999996
          ],
          [
           0.9085829209999999
          ],
          [
           0.6621174160000001
          ],
          [
           0.42470320899999997
          ],
          [
           0.72207806
          ],
          [
           0.666193327
          ],
          [
           0.509681253
          ],
          [
           0.7513536209999999
          ],
          [
           0.279073124
          ],
          [
           0.074927
          ],
          [
           0.916359535
          ],
          [
           0.31040327
          ],
          [
           0.716604052
          ],
          [
           0.485587085
          ],
          [
           0.30607518100000003
          ],
          [
           0.477558204
          ],
          [
           0.7119239409999999
          ],
          [
           0.066348638
          ],
          [
           0.27453935100000004
          ],
          [
           0.31082252
          ],
          [
           0.47607312700000004
          ],
          [
           0.186795565
          ],
          [
           0.26654207
          ],
          [
           0.070231142
          ],
          [
           0.26951927
          ],
          [
           0.800004713
          ],
          [
           0.27363366699999997
          ],
          [
           0.14647919199999998
          ],
          [
           0.378318951
          ],
          [
           0.373849065
          ],
          [
           0.242170835
          ],
          [
           0.249796488
          ],
          [
           0.066591188
          ],
          [
           0.372956798
          ],
          [
           0.501812291
          ],
          [
           0.313097752
          ],
          [
           0.8802021959999999
          ],
          [
           0.51981893
          ],
          [
           0.364138746
          ],
          [
           0.49268289600000004
          ],
          [
           0.285732652
          ],
          [
           0.890114985
          ],
          [
           0.316419561
          ],
          [
           0.26866354
          ],
          [
           0.771975959
          ],
          [
           0.968888992
          ],
          [
           0.080334377
          ],
          [
           0.7368282209999999
          ],
          [
           0.30055807100000004
          ],
          [
           0.9179503929999999
          ],
          [
           0.465815039
          ],
          [
           0.054036682
          ],
          [
           0.963150123
          ],
          [
           0.08965350300000001
          ],
          [
           0.7076932340000001
          ],
          [
           0.636416037
          ],
          [
           0.539521117
          ],
          [
           0.114757161
          ],
          [
           0.357312419
          ],
          [
           0.67639834
          ],
          [
           0.43482839
          ],
          [
           0.032326387000000005
          ],
          [
           0.711365605
          ],
          [
           0.187486519
          ],
          [
           0.052789653
          ],
          [
           0.5058636129999999
          ],
          [
           0.927431873
          ],
          [
           0.6809842559999999
          ],
          [
           0.882822186
          ],
          [
           0.495705441
          ],
          [
           0.596240398
          ],
          [
           0.320610701
          ],
          [
           0.3413685
          ],
          [
           0.159681797
          ],
          [
           0.318133669
          ],
          [
           0.8393010479999999
          ],
          [
           0.06435925099999999
          ],
          [
           0.470216633
          ],
          [
           0.7762522909999999
          ],
          [
           0.635843383
          ],
          [
           0.62510543
          ],
          [
           0.52959065
          ],
          [
           0.986900166
          ],
          [
           0.078585688
          ],
          [
           0.233284267
          ],
          [
           0.363330957
          ],
          [
           0.7167169809999999
          ],
          [
           0.37588979200000006
          ],
          [
           0.223316889
          ],
          [
           0.299343986
          ],
          [
           0.538595767
          ],
          [
           0.730297124
          ],
          [
           0.66033077
          ],
          [
           0.435296009
          ],
          [
           0.326494313
          ],
          [
           0.854402708
          ],
          [
           0.5734938470000001
          ],
          [
           0.757786135
          ],
          [
           0.704743233
          ],
          [
           0.281575597
          ],
          [
           0.671968208
          ],
          [
           0.313726015
          ],
          [
           0.364338275
          ],
          [
           0.368216396
          ],
          [
           0.38629520700000003
          ],
          [
           0.655971865
          ],
          [
           0.5660252729999999
          ],
          [
           0.424999093
          ],
          [
           0.090110371
          ],
          [
           0.772350538
          ],
          [
           0.331047258
          ],
          [
           0.273716188
          ],
          [
           0.23877568
          ],
          [
           0.37307977200000003
          ],
          [
           0.331185868
          ],
          [
           0.256134531
          ],
          [
           0.678373225
          ],
          [
           0.43463833799999996
          ],
          [
           0.654668307
          ],
          [
           0.986681065
          ],
          [
           0.371520495
          ],
          [
           0.408359618
          ],
          [
           0.40932365
          ],
          [
           0.283412082
          ],
          [
           0.395246531
          ],
          [
           0.010984428000000001
          ],
          [
           0.306013869
          ],
          [
           0.266194806
          ],
          [
           0.299318521
          ],
          [
           0.318293946
          ],
          [
           0.74282591
          ],
          [
           0.09766432900000001
          ],
          [
           0.079666942
          ],
          [
           0.613258767
          ],
          [
           0.99443072
          ],
          [
           0.568835082
          ],
          [
           0.7080345159999999
          ],
          [
           0.37059271899999996
          ],
          [
           0.669867361
          ],
          [
           0.651295625
          ],
          [
           0.462531569
          ],
          [
           0.7196256190000001
          ],
          [
           0.45377248
          ],
          [
           0.394863946
          ],
          [
           0.323974831
          ],
          [
           0.146454724
          ],
          [
           0.7790670409999999
          ],
          [
           0.401828915
          ],
          [
           0.601479585
          ],
          [
           0.856423023
          ],
          [
           0.565242962
          ],
          [
           0.301225108
          ],
          [
           0.282108144
          ],
          [
           0.594378011
          ],
          [
           0.705312368
          ],
          [
           0.5408696279999999
          ],
          [
           0.319249574
          ],
          [
           0.36176613799999996
          ],
          [
           0.625000704
          ],
          [
           0.316287401
          ],
          [
           0.047239021
          ],
          [
           0.801182233
          ],
          [
           0.508474436
          ],
          [
           0.8178934109999999
          ],
          [
           0.399235601
          ],
          [
           0.9740519990000001
          ],
          [
           0.72241535
          ],
          [
           0.039564764
          ],
          [
           0.908684108
          ],
          [
           0.47301013399999997
          ],
          [
           0.7180496279999999
          ],
          [
           0.7634790690000001
          ],
          [
           0.6475965370000001
          ],
          [
           0.8949973859999999
          ],
          [
           0.22282590100000002
          ],
          [
           0.359012234
          ],
          [
           0.944910252
          ],
          [
           0.297877816
          ],
          [
           0.172517997
          ],
          [
           0.556586265
          ],
          [
           0.876481735
          ],
          [
           0.48667784299999994
          ],
          [
           0.459496733
          ],
          [
           0.47412637700000004
          ],
          [
           0.70101144
          ],
          [
           0.337597387
          ],
          [
           0.537578886
          ],
          [
           0.966992448
          ],
          [
           0.056849545
          ],
          [
           0.233249065
          ],
          [
           0.380054711
          ],
          [
           0.602929443
          ],
          [
           0.303847999
          ],
          [
           0.170194553
          ],
          [
           0.972168554
          ],
          [
           0.332168927
          ],
          [
           0.6887286890000001
          ],
          [
           0.110773401
          ],
          [
           0.273352065
          ],
          [
           0.572939678
          ],
          [
           0.491457065
          ],
          [
           0.281389999
          ],
          [
           0.821697261
          ],
          [
           0.6749776829999999
          ],
          [
           0.585134549
          ],
          [
           0.7105961159999999
          ],
          [
           0.040488789
          ],
          [
           0.568054311
          ],
          [
           0.321752928
          ],
          [
           0.611850232
          ],
          [
           0.926096887
          ],
          [
           0.618347428
          ],
          [
           0.667629785
          ],
          [
           0.39773346600000004
          ],
          [
           0.290875487
          ],
          [
           0.594375103
          ],
          [
           0.508255233
          ],
          [
           0.338571357
          ],
          [
           0.43230234700000003
          ],
          [
           0.302221978
          ],
          [
           0.87619819
          ],
          [
           0.080204492
          ],
          [
           0.092333532
          ],
          [
           0.09365644699999999
          ],
          [
           0.6084523510000001
          ],
          [
           0.732654598
          ],
          [
           0.944158855
          ],
          [
           0.26742308
          ],
          [
           0.731124201
          ],
          [
           0.661308553
          ],
          [
           0.38776626200000003
          ],
          [
           0.962585273
          ],
          [
           0.322067067
          ],
          [
           0.6340810929999999
          ],
          [
           0.475345002
          ],
          [
           0.35355897299999994
          ],
          [
           0.8859363159999999
          ],
          [
           0.876798106
          ],
          [
           0.221581064
          ],
          [
           0.394362449
          ],
          [
           0.8050356759999999
          ],
          [
           0.452898486
          ],
          [
           0.592520516
          ],
          [
           0.761026394
          ],
          [
           0.245049023
          ],
          [
           0.37213936299999995
          ],
          [
           0.681054822
          ],
          [
           0.7471431479999999
          ],
          [
           0.9207395290000001
          ],
          [
           0.097207945
          ],
          [
           0.699302998
          ],
          [
           0.721647006
          ],
          [
           0.5353561139999999
          ],
          [
           0.738293805
          ],
          [
           0.7064675509999999
          ],
          [
           0.67395061
          ],
          [
           0.7112122909999999
          ],
          [
           0.302558708
          ],
          [
           0.080097855
          ],
          [
           0.707010837
          ],
          [
           0.512248622
          ],
          [
           0.659627472
          ],
          [
           0.657559694
          ],
          [
           0.100645606
          ],
          [
           0.92665363
          ],
          [
           0.892879338
          ],
          [
           0.839157508
          ],
          [
           0.890959718
          ],
          [
           0.556754471
          ],
          [
           0.960361937
          ],
          [
           0.631037864
          ],
          [
           0.029838065
          ],
          [
           0.278843351
          ],
          [
           0.926157705
          ],
          [
           0.551504258
          ],
          [
           0.485942349
          ],
          [
           0.43723469600000003
          ],
          [
           0.25231801800000003
          ],
          [
           0.515466972
          ],
          [
           0.43725229600000004
          ],
          [
           0.493724207
          ],
          [
           0.83324725
          ],
          [
           0.317521477
          ],
          [
           0.28623456199999997
          ],
          [
           0.726833965
          ],
          [
           0.495667033
          ],
          [
           0.028645255
          ],
          [
           0.31967191699999997
          ],
          [
           0.674344598
          ],
          [
           0.7660371890000001
          ],
          [
           0.65456992
          ],
          [
           0.7565143809999999
          ],
          [
           0.528253719
          ],
          [
           0.38971949100000003
          ],
          [
           0.355087459
          ],
          [
           0.87015202
          ],
          [
           0.7390833059999999
          ],
          [
           0.305761846
          ],
          [
           0.411587673
          ],
          [
           0.063633094
          ],
          [
           0.735409395
          ],
          [
           0.605916669
          ],
          [
           0.539395562
          ],
          [
           0.566183532
          ],
          [
           0.674795186
          ],
          [
           0.070993366
          ],
          [
           0.12526410000000002
          ],
          [
           0.279601492
          ],
          [
           0.952174402
          ],
          [
           0.233806762
          ],
          [
           0.43724742899999997
          ],
          [
           0.925423095
          ],
          [
           0.433498634
          ],
          [
           0.52517902
          ],
          [
           0.088435529
          ],
          [
           0.447677638
          ],
          [
           0.647000631
          ],
          [
           0.9036033370000001
          ],
          [
           0.265790738
          ],
          [
           0.66419695
          ],
          [
           0.498120658
          ],
          [
           0.49018894399999996
          ],
          [
           0.747084187
          ],
          [
           0.906783648
          ],
          [
           0.678770917
          ],
          [
           0.348599859
          ],
          [
           0.294839683
          ],
          [
           0.705691827
          ],
          [
           0.211917931
          ],
          [
           0.063201124
          ],
          [
           0.276699543
          ],
          [
           0.672459395
          ],
          [
           0.8082059490000001
          ],
          [
           0.296538373
          ],
          [
           0.16012686199999998
          ],
          [
           0.439385032
          ],
          [
           0.555951416
          ],
          [
           0.386240112
          ],
          [
           0.158689619
          ],
          [
           0.214499855
          ],
          [
           0.299579429
          ],
          [
           0.569161656
          ],
          [
           0.488614799
          ],
          [
           0.8782950209999999
          ],
          [
           0.649380949
          ],
          [
           0.465713341
          ],
          [
           0.16813774
          ],
          [
           0.87529545
          ],
          [
           0.8411323409999999
          ],
          [
           0.33292081
          ],
          [
           0.5130478589999999
          ],
          [
           0.30505507800000004
          ],
          [
           0.8126269909999999
          ],
          [
           0.25096706
          ],
          [
           0.5024355779999999
          ],
          [
           0.45799074100000003
          ]
         ],
         "hoverlabel": {
          "namelength": 0
         },
         "hovertemplate": "0=%{x}<br>1=%{y}<br>2=%{z}<br>Feature=%{customdata[0]}<br>Label=%{marker.color}",
         "legendgroup": "",
         "marker": {
          "color": [
           0,
           0,
           1,
           1,
           0,
           0,
           0,
           1,
           1,
           0,
           0,
           1,
           0,
           0,
           1,
           1,
           0,
           1,
           1,
           0,
           1,
           0,
           0,
           1,
           1,
           1,
           0,
           0,
           1,
           1,
           0,
           0,
           0,
           1,
           1,
           0,
           0,
           0,
           0,
           0,
           0,
           0,
           0,
           1,
           0,
           0,
           0,
           0,
           1,
           0,
           0,
           1,
           0,
           1,
           0,
           1,
           0,
           0,
           0,
           1,
           0,
           0,
           0,
           1,
           0,
           0,
           1,
           0,
           0,
           0,
           0,
           0,
           0,
           0,
           0,
           0,
           0,
           0,
           0,
           0,
           0,
           0,
           0,
           0,
           0,
           0,
           0,
           0,
           0,
           0,
           0,
           0,
           0,
           0,
           0,
           0,
           0,
           0,
           0,
           0,
           0,
           0,
           0,
           0,
           0,
           0,
           0,
           0,
           0,
           0,
           0,
           0,
           0,
           0,
           0,
           0,
           0,
           0,
           0,
           0,
           0,
           0,
           0,
           0,
           0,
           0,
           0,
           0,
           0,
           0,
           1,
           0,
           0,
           0,
           0,
           0,
           0,
           0,
           0,
           0,
           0,
           0,
           0,
           0,
           0,
           0,
           0,
           0,
           0,
           0,
           0,
           0,
           0,
           0,
           0,
           0,
           0,
           0,
           0,
           0,
           0,
           0,
           0,
           0,
           0,
           0,
           0,
           0,
           0,
           0,
           0,
           0,
           0,
           0,
           0,
           0,
           0,
           0,
           0,
           0,
           0,
           0,
           0,
           0,
           0,
           0,
           0,
           0,
           0,
           0,
           0,
           0,
           0,
           0,
           0,
           0,
           0,
           0,
           1,
           0,
           0,
           0,
           0,
           0,
           0,
           0,
           0,
           0,
           0,
           0,
           0,
           0,
           0,
           0,
           0,
           0,
           0,
           0,
           0,
           0,
           0,
           0,
           0,
           0,
           0,
           0,
           0,
           0,
           0,
           0,
           0,
           0,
           0,
           0,
           0,
           0,
           0,
           0,
           0,
           0,
           0,
           0,
           0,
           0,
           0,
           0,
           0,
           0,
           0,
           0,
           0,
           0,
           0,
           0,
           0,
           0,
           1,
           0,
           0,
           0,
           0,
           0,
           0,
           0,
           0,
           0,
           0,
           0,
           0,
           0,
           0,
           0,
           0,
           0,
           0,
           0,
           0,
           0,
           0,
           0,
           0,
           0,
           0,
           0,
           0,
           0,
           0,
           0,
           0,
           0,
           0,
           0,
           0,
           0,
           0,
           0,
           0,
           0,
           0,
           0,
           0,
           0,
           0,
           0,
           0,
           0,
           0,
           0,
           0,
           0,
           0,
           0,
           0,
           0,
           0,
           0,
           0,
           0,
           0,
           0,
           0,
           0,
           0,
           0,
           0,
           0,
           0,
           0,
           0,
           0,
           0,
           0,
           0,
           0,
           0,
           0,
           0,
           0,
           0,
           0,
           0,
           0,
           0,
           0,
           0,
           0,
           0,
           0,
           0,
           0,
           0,
           0,
           0,
           0,
           0,
           0,
           0,
           0,
           0,
           0,
           0,
           0,
           0,
           0,
           0,
           0,
           0,
           0,
           0,
           0,
           0,
           0,
           0,
           0,
           0,
           0,
           0,
           0,
           0,
           0,
           0,
           0,
           0,
           0,
           0,
           0,
           0,
           0,
           0,
           0,
           0,
           0,
           0,
           0,
           0,
           0,
           0,
           0,
           0,
           0,
           0,
           0,
           0,
           0,
           0,
           0,
           0,
           0,
           0,
           0,
           0,
           0,
           0,
           0,
           0,
           0,
           0,
           0,
           0,
           0,
           0,
           0,
           0,
           0,
           0,
           0,
           0,
           0,
           0,
           0,
           0,
           0,
           0,
           0,
           0,
           0,
           0,
           0,
           0,
           0,
           0,
           0,
           0,
           0,
           0,
           0,
           0,
           0,
           0,
           0,
           0,
           0,
           0,
           0,
           0,
           0,
           0,
           0,
           0,
           0,
           0,
           0,
           0,
           0,
           0,
           0,
           0,
           0,
           0,
           0,
           0,
           0,
           0,
           0,
           0,
           0,
           0,
           0,
           0,
           0,
           0,
           0,
           0,
           0,
           0,
           0,
           0,
           0,
           0,
           0,
           0,
           0,
           0,
           0,
           0,
           0,
           0,
           0,
           0,
           0,
           0,
           0,
           0,
           0,
           0,
           0,
           0,
           0,
           0,
           0,
           0,
           0,
           0,
           0,
           0,
           0,
           0,
           0,
           0,
           0,
           0,
           0,
           0,
           1,
           0,
           0,
           0,
           0,
           0,
           0,
           0,
           0,
           0,
           0,
           0,
           0,
           0,
           0,
           0,
           0,
           0,
           0,
           0,
           0,
           0,
           0,
           0,
           0,
           0,
           0,
           0,
           0,
           0,
           0,
           0,
           0,
           0,
           0,
           0,
           0,
           0,
           0,
           0,
           0,
           0,
           0,
           0,
           0,
           0,
           0,
           0,
           0,
           0,
           0,
           0,
           0,
           0,
           1,
           0,
           0,
           0,
           0,
           0,
           0,
           0,
           0,
           0,
           0,
           0,
           0,
           0,
           0,
           0,
           0,
           0,
           0,
           0,
           0,
           0,
           0,
           0,
           0,
           1,
           0,
           0,
           0,
           0,
           0,
           0,
           0,
           0,
           0,
           0,
           0,
           0,
           0,
           0,
           0,
           0,
           0,
           0,
           0,
           0,
           0,
           0,
           0,
           0,
           0,
           0,
           0,
           0,
           0,
           0,
           0,
           0,
           0,
           0,
           0,
           0,
           0,
           0,
           0,
           0,
           0,
           0,
           0,
           0,
           0,
           0,
           0,
           0,
           0,
           0,
           0,
           0,
           0,
           0,
           0,
           0,
           0,
           0,
           0,
           0,
           0,
           0,
           0,
           0,
           0,
           0,
           0,
           0,
           0,
           0,
           0,
           0,
           0,
           0,
           0,
           0,
           0,
           0,
           0,
           0,
           0,
           0,
           0,
           0,
           0,
           0,
           0,
           0,
           0,
           0,
           0,
           0,
           0,
           0,
           0,
           0,
           0,
           1,
           1,
           1,
           1,
           0,
           0,
           0,
           1,
           1,
           0,
           1,
           0,
           1,
           1,
           0,
           0,
           1,
           1,
           1,
           0,
           1,
           0,
           1,
           0,
           1,
           0,
           0,
           0,
           1,
           0,
           0,
           0,
           0,
           0,
           0,
           0,
           0,
           0,
           0,
           0,
           0,
           0,
           0,
           0,
           0,
           0,
           0,
           0,
           0,
           0,
           0,
           0,
           0,
           0,
           0,
           0,
           0,
           0,
           0,
           0,
           1,
           0,
           0,
           0,
           0,
           0,
           0,
           0,
           0,
           0,
           0,
           0,
           0,
           0,
           0,
           0,
           0,
           0,
           0,
           0,
           0,
           0,
           0,
           0,
           0,
           0,
           0,
           0,
           0,
           0,
           0,
           0,
           0,
           0,
           0,
           0,
           0,
           0,
           0,
           1,
           0,
           0,
           0,
           0,
           0,
           0,
           0,
           0,
           0,
           0,
           0,
           0,
           0,
           0,
           0,
           0,
           0,
           0,
           0,
           0,
           0,
           0,
           0,
           0,
           0,
           0,
           0,
           0,
           0,
           0,
           0,
           0,
           0,
           0,
           0,
           0,
           0,
           0,
           0,
           0,
           0,
           0,
           0,
           0,
           0,
           0,
           0,
           0,
           0,
           0,
           0,
           0,
           0,
           0,
           0,
           0,
           0,
           0,
           0,
           0,
           0,
           0,
           0,
           1,
           0,
           0,
           0,
           0,
           0,
           0,
           0,
           0,
           0,
           0,
           0,
           0,
           0,
           0,
           0,
           0,
           0,
           0,
           0,
           0,
           0,
           0,
           0,
           0,
           0,
           0,
           0,
           0,
           0,
           0,
           0,
           0,
           0,
           0,
           0,
           0,
           0,
           0,
           0,
           0,
           0,
           0,
           0,
           0,
           0,
           0,
           0,
           0,
           0,
           0,
           0,
           0,
           0,
           0,
           0,
           0,
           0,
           0,
           0,
           0,
           0,
           0,
           0,
           0,
           0,
           0,
           0,
           0,
           0,
           0,
           0,
           0,
           0,
           0,
           0,
           0,
           0,
           0,
           0,
           0,
           0,
           0,
           0,
           0,
           0,
           0,
           0,
           0,
           0,
           0,
           0,
           0,
           0,
           0,
           0,
           0,
           0,
           0,
           0,
           0,
           0,
           0,
           0,
           0,
           0,
           0,
           0,
           0,
           0,
           0,
           0,
           0,
           0,
           0,
           0,
           0,
           0,
           0,
           0,
           0,
           0,
           0,
           0,
           0,
           0,
           0,
           0,
           0,
           0,
           0,
           0,
           0,
           0,
           0,
           0,
           0
          ],
          "coloraxis": "coloraxis",
          "opacity": 0.7,
          "symbol": "circle"
         },
         "mode": "markers",
         "name": "",
         "scene": "scene",
         "showlegend": false,
         "type": "scatter3d",
         "x": [
          0.8693561553955078,
          -4.067624092102051,
          -0.49896350502967834,
          -7.013753890991211,
          -6.277666091918945,
          -3.6091980934143066,
          3.883178949356079,
          -14.105805397033691,
          -2.709589958190918,
          4.673925876617432,
          -13.973725318908691,
          -8.799607276916504,
          -6.583375930786133,
          -6.9559736251831055,
          -4.48945426940918,
          -7.722034454345703,
          -6.6219305992126465,
          -1.1912893056869507,
          1.000150442123413,
          -10.53281021118164,
          -2.9595744609832764,
          3.8603603839874268,
          -6.863173007965088,
          -2.2597129344940186,
          -5.652699947357178,
          2.6327619552612305,
          -9.699989318847656,
          0.17805735766887665,
          -12.979866981506348,
          -10.511896133422852,
          -1.41157865524292,
          -2.779684543609619,
          -0.9656120538711548,
          -10.193769454956055,
          9.220340728759766,
          3.971695899963379,
          -3.1003265380859375,
          0.2585586905479431,
          1.9191336631774902,
          -5.216343879699707,
          7.191269397735596,
          -8.415396690368652,
          6.51664400100708,
          -3.191340923309326,
          -7.51865816116333,
          -7.979631423950195,
          -8.047331809997559,
          -2.2572848796844482,
          -9.044889450073242,
          2.8395562171936035,
          -12.847784042358398,
          2.5682547092437744,
          10.05666732788086,
          -7.848084449768066,
          -4.2429914474487305,
          1.0585715770721436,
          -5.5490264892578125,
          8.206216812133789,
          -9.966094970703125,
          -2.8815715312957764,
          6.2488861083984375,
          3.1549081802368164,
          -10.373427391052246,
          -8.597125053405762,
          3.802340507507324,
          -7.8698883056640625,
          5.9860992431640625,
          -1.3347562551498413,
          -8.598435401916504,
          -7.519207000732422,
          -13.522509574890137,
          -10.994379043579102,
          2.4909603595733643,
          -9.172994613647461,
          12.591747283935547,
          6.058534622192383,
          -5.959264755249023,
          -9.341465950012207,
          11.277801513671875,
          7.5963006019592285,
          7.334468841552734,
          8.116169929504395,
          -8.29008960723877,
          3.2442691326141357,
          1.123307228088379,
          -3.347698450088501,
          1.7797884941101074,
          -0.06814265251159668,
          4.980742931365967,
          5.75591516494751,
          5.981374740600586,
          -12.010746955871582,
          6.521672248840332,
          3.269268035888672,
          0.6645698547363281,
          -10.817127227783203,
          9.56435775756836,
          -1.1705689430236816,
          5.003344535827637,
          -6.824598789215088,
          3.2327349185943604,
          3.4430642127990723,
          -1.3280352354049683,
          10.00493049621582,
          -11.658554077148438,
          8.449965476989746,
          1.6314448118209839,
          1.2360074520111084,
          11.976064682006836,
          -9.576763153076172,
          7.712673187255859,
          2.294855833053589,
          -11.590529441833496,
          6.668501377105713,
          -4.374763011932373,
          7.961440086364746,
          0.37598875164985657,
          3.385477304458618,
          -7.7950897216796875,
          5.766446590423584,
          8.058802604675293,
          4.5109758377075195,
          -0.17512434720993042,
          5.0267839431762695,
          3.181966543197632,
          -2.0110621452331543,
          0.8976368308067322,
          -8.650941848754883,
          0.42884084582328796,
          -1.323405146598816,
          7.16290283203125,
          9.694878578186035,
          -12.787686347961426,
          3.1239020824432373,
          2.6340110301971436,
          4.788471698760986,
          -6.536040782928467,
          -10.708261489868164,
          -1.7798254489898682,
          -2.645081043243408,
          -10.245094299316406,
          6.732059001922607,
          10.0435791015625,
          -7.5377326011657715,
          6.961109161376953,
          7.402703285217285,
          -11.280377388000488,
          4.387353420257568,
          -2.741955280303955,
          -0.19957707822322845,
          7.0031843185424805,
          9.528585433959961,
          0.7634810209274292,
          10.042390823364258,
          3.1625471115112305,
          8.524662971496582,
          4.192885875701904,
          5.225057601928711,
          13.542552947998047,
          -7.0024518966674805,
          1.859645128250122,
          8.218324661254883,
          10.38028621673584,
          9.959515571594238,
          -7.477536678314209,
          3.5065619945526123,
          -10.03187370300293,
          -11.649992942810059,
          -4.409768104553223,
          3.0993616580963135,
          2.1555016040802,
          -1.7157727479934692,
          -6.03045654296875,
          -4.027470588684082,
          2.5848758220672607,
          1.2661733627319336,
          -5.141561031341553,
          -3.272320508956909,
          -2.996490716934204,
          -10.245477676391602,
          2.018974781036377,
          -8.86123275756836,
          -1.9449788331985474,
          -14.086382865905762,
          -12.514662742614746,
          1.3641045093536377,
          -7.088309288024902,
          6.862685203552246,
          6.690853118896484,
          8.810206413269043,
          4.197967529296875,
          -6.827690124511719,
          -12.865608215332031,
          -3.5441086292266846,
          -1.99742591381073,
          2.9872078895568848,
          2.2162599563598633,
          1.1598718166351318,
          4.5848388671875,
          3.006819248199463,
          6.223847389221191,
          -1.290643334388733,
          1.538074016571045,
          -8.590518951416016,
          -2.3241097927093506,
          -2.63266921043396,
          6.944284915924072,
          6.3369903564453125,
          -9.061443328857422,
          -0.49302902817726135,
          3.224817991256714,
          -6.300913333892822,
          -9.415757179260254,
          7.875367641448975,
          4.489551067352295,
          3.695866584777832,
          -0.8110714554786682,
          -9.396280288696289,
          -11.282832145690918,
          -2.5942165851593018,
          -1.8896751403808594,
          1.0006403923034668,
          -7.707183837890625,
          11.68946361541748,
          -0.7152779698371887,
          6.568156719207764,
          6.42833948135376,
          5.4518022537231445,
          3.185670852661133,
          -2.987205743789673,
          2.3381149768829346,
          6.396914958953857,
          -10.207585334777832,
          -10.56102180480957,
          8.28268051147461,
          1.494729995727539,
          -4.409759044647217,
          8.164029121398926,
          -8.835701942443848,
          -2.4279470443725586,
          6.037956237792969,
          0.17874091863632202,
          -3.646043539047241,
          -0.10191264003515244,
          -12.085411071777344,
          0.0588994175195694,
          7.346686840057373,
          11.316987037658691,
          7.097629547119141,
          -6.857744216918945,
          9.866165161132812,
          -0.5976299047470093,
          -10.49135971069336,
          7.911910057067871,
          7.852745532989502,
          0.10775240510702133,
          3.405223846435547,
          1.2938132286071777,
          -3.568286180496216,
          7.004735946655273,
          -4.161379814147949,
          7.572592735290527,
          -5.743292331695557,
          1.0422275066375732,
          11.073333740234375,
          -0.22549501061439514,
          -12.064900398254395,
          -1.1893383264541626,
          11.950039863586426,
          2.023466110229492,
          1.9382070302963257,
          -0.7801719903945923,
          6.549502849578857,
          -3.610600709915161,
          -6.670022964477539,
          7.242857933044434,
          -9.299647331237793,
          -6.767313480377197,
          1.5607244968414307,
          6.778570175170898,
          6.332855701446533,
          -3.8945136070251465,
          6.296872615814209,
          3.561870813369751,
          -4.405768394470215,
          0.8823084235191345,
          5.031246662139893,
          0.558281421661377,
          0.10127665847539902,
          4.541318893432617,
          6.338082313537598,
          1.9795715808868408,
          1.36398446559906,
          1.6038823127746582,
          3.038926601409912,
          -10.502614974975586,
          -10.133090019226074,
          9.157144546508789,
          0.8897866010665894,
          2.387927293777466,
          -4.276869773864746,
          1.4382028579711914,
          -11.314680099487305,
          -12.233110427856445,
          -8.356159210205078,
          11.716889381408691,
          0.49204766750335693,
          10.470352172851562,
          6.549564361572266,
          -12.89625072479248,
          -12.008352279663086,
          5.098215103149414,
          -8.292773246765137,
          -2.964078664779663,
          3.1668946743011475,
          3.3411364555358887,
          3.149928569793701,
          0.6834447383880615,
          12.032927513122559,
          0.9183295369148254,
          -3.493738889694214,
          8.612257957458496,
          -11.134659767150879,
          -1.7233927249908447,
          6.545013904571533,
          4.5752692222595215,
          -11.5084867477417,
          -12.994129180908203,
          -6.213067531585693,
          -8.829629898071289,
          -1.213444471359253,
          -8.133527755737305,
          6.908347129821777,
          9.74198055267334,
          0.07000205665826797,
          -6.111149311065674,
          -1.1293925046920776,
          4.905671119689941,
          -7.472840309143066,
          -6.443249225616455,
          5.369740962982178,
          5.149560451507568,
          -7.772146701812744,
          9.564911842346191,
          -13.5596923828125,
          -7.220099449157715,
          3.1421399116516113,
          5.233684062957764,
          -8.55220890045166,
          -8.41963005065918,
          -0.3635052442550659,
          6.7079315185546875,
          7.402324199676514,
          -0.657357931137085,
          5.099963188171387,
          4.617142200469971,
          9.589603424072266,
          0.3227657377719879,
          -11.955946922302246,
          3.9756743907928467,
          -3.0647337436676025,
          0.07274531573057175,
          -1.318835735321045,
          6.156480312347412,
          -10.2388277053833,
          10.19607925415039,
          -11.05457592010498,
          0.8130890727043152,
          1.2402384281158447,
          1.5744893550872803,
          5.919409275054932,
          5.852230072021484,
          -6.459230422973633,
          -5.26462984085083,
          -11.028260231018066,
          4.777230262756348,
          11.139402389526367,
          -8.948269844055176,
          0.6356923580169678,
          6.1568284034729,
          -8.912692070007324,
          -2.3491640090942383,
          11.31605339050293,
          3.0589420795440674,
          -2.0745747089385986,
          9.986760139465332,
          1.155143141746521,
          0.5931363701820374,
          2.8055036067962646,
          3.395181179046631,
          4.504307746887207,
          9.777207374572754,
          7.621375560760498,
          8.758886337280273,
          7.32785701751709,
          -0.6544673442840576,
          8.439772605895996,
          -12.001761436462402,
          3.1723837852478027,
          7.348682880401611,
          5.347042560577393,
          4.524728298187256,
          4.893326759338379,
          -2.652068853378296,
          -14.058921813964844,
          -0.45872974395751953,
          -3.4171459674835205,
          -2.722363233566284,
          -6.760819911956787,
          -0.9847058653831482,
          -0.0543224923312664,
          7.087876319885254,
          -12.629640579223633,
          10.925312042236328,
          2.6496012210845947,
          6.365137100219727,
          0.4738091826438904,
          -0.996355414390564,
          -12.81898307800293,
          -7.322668552398682,
          3.2763261795043945,
          1.5736631155014038,
          1.3647511005401611,
          -3.747637987136841,
          -4.891662120819092,
          1.6439827680587769,
          2.3491437435150146,
          -8.738831520080566,
          2.2781240940093994,
          -6.046038627624512,
          8.018431663513184,
          2.586158037185669,
          3.8013150691986084,
          -9.704288482666016,
          -12.85511589050293,
          1.1340385675430298,
          6.644265651702881,
          -7.038853168487549,
          11.74448013305664,
          -2.346177339553833,
          8.087950706481934,
          10.862607955932617,
          -3.259371757507324,
          -7.8050665855407715,
          4.8571062088012695,
          -5.74405574798584,
          -12.278332710266113,
          7.82472562789917,
          -6.158598899841309,
          -10.557050704956055,
          4.545015335083008,
          -6.538443088531494,
          5.375616550445557,
          11.497861862182617,
          -11.615557670593262,
          0.8256108164787292,
          1.5143295526504517,
          -5.796687126159668,
          11.597651481628418,
          3.605288028717041,
          -2.248896598815918,
          -3.804715633392334,
          5.5501017570495605,
          3.706242799758911,
          -0.925459623336792,
          6.177175045013428,
          11.994688987731934,
          -13.559310913085938,
          3.3174264430999756,
          -4.6993632316589355,
          7.7582550048828125,
          8.180099487304688,
          2.543478012084961,
          7.288540363311768,
          4.61067533493042,
          -1.368856430053711,
          2.562656879425049,
          -7.1723952293396,
          2.7679104804992676,
          -0.9063835740089417,
          6.295091152191162,
          3.938908815383911,
          -8.781233787536621,
          -8.043919563293457,
          1.0155396461486816,
          -7.766136646270752,
          -0.5278076529502869,
          2.375413656234741,
          4.373908042907715,
          -2.722846269607544,
          10.215118408203125,
          -10.810234069824219,
          -4.798048973083496,
          -11.23621940612793,
          -3.9525985717773438,
          -11.154219627380371,
          -0.35243064165115356,
          -8.175187110900879,
          8.567878723144531,
          5.289702415466309,
          -1.467164158821106,
          -0.08880805969238281,
          5.027825832366943,
          4.638309478759766,
          2.0116007328033447,
          -3.152947425842285,
          12.623124122619629,
          5.4112324714660645,
          2.4521920680999756,
          -8.302371978759766,
          -6.006726264953613,
          5.396575450897217,
          1.6040937900543213,
          -6.799642086029053,
          10.047445297241211,
          6.915282726287842,
          10.412123680114746,
          12.280961036682129,
          -0.08028840273618698,
          0.7429322600364685,
          2.5515940189361572,
          -9.190091133117676,
          -5.039702415466309,
          -6.515872001647949,
          -11.110193252563477,
          -0.7584643363952637,
          2.8480093479156494,
          1.3154065608978271,
          2.076188325881958,
          4.386597633361816,
          -1.1551506519317627,
          -9.97632122039795,
          -8.128047943115234,
          6.45153284072876,
          -9.52476978302002,
          -11.663894653320312,
          -1.51900053024292,
          -8.6240816116333,
          0.6464927196502686,
          1.7490407228469849,
          -3.0871636867523193,
          -8.461172103881836,
          0.1644117385149002,
          -2.7064826488494873,
          4.611329078674316,
          -10.72892951965332,
          7.872965335845947,
          -9.52454662322998,
          -10.777119636535645,
          6.958698749542236,
          9.579792976379395,
          4.332891464233398,
          -5.358442783355713,
          13.595656394958496,
          7.346260070800781,
          -2.068342447280884,
          -7.260746955871582,
          12.912585258483887,
          -12.195712089538574,
          0.3381488025188446,
          -7.829310894012451,
          -11.783590316772461,
          7.571811199188232,
          -11.49332046508789,
          5.541478157043457,
          8.185312271118164,
          3.6290717124938965,
          -0.37750232219696045,
          -12.123198509216309,
          -10.787284851074219,
          2.022430181503296,
          -10.434212684631348,
          -13.522489547729492,
          -8.545454025268555,
          -3.2358477115631104,
          -12.864076614379883,
          -0.8890740275382996,
          -0.2901994287967682,
          3.683505058288574,
          8.552462577819824,
          3.034111499786377,
          9.831913948059082,
          -4.939260482788086,
          -0.4200979471206665,
          6.600921630859375,
          6.823064804077148,
          4.1707024574279785,
          3.5202150344848633,
          -0.720797061920166,
          -10.834993362426758,
          3.8253653049468994,
          8.128615379333496,
          -0.5948758721351624,
          -13.693767547607422,
          -2.615741491317749,
          10.402337074279785,
          -12.170193672180176,
          -9.855643272399902,
          -7.612739086151123,
          -7.486764430999756,
          -9.252140045166016,
          5.606433868408203,
          -8.059234619140625,
          2.898541212081909,
          -8.598377227783203,
          -1.7608038187026978,
          -13.487005233764648,
          -9.287652969360352,
          5.569595813751221,
          -3.5330915451049805,
          -4.507809638977051,
          6.3344950675964355,
          3.480548620223999,
          5.210995674133301,
          4.0007147789001465,
          7.994770050048828,
          2.6101608276367188,
          4.791668891906738,
          3.300722599029541,
          4.510013103485107,
          -1.1242079734802246,
          9.208903312683105,
          10.527715682983398,
          -0.28406164050102234,
          -5.880335807800293,
          -14.2801513671875,
          1.4989049434661865,
          -4.570646286010742,
          -3.3114819526672363,
          3.702151298522949,
          7.776299476623535,
          0.5152385830879211,
          13.061450004577637,
          -8.698206901550293,
          5.390639781951904,
          0.8145623803138733,
          7.773644924163818,
          -1.4115419387817383,
          -11.463955879211426,
          -3.146944761276245,
          -2.128190517425537,
          -0.35139229893684387,
          2.5742690563201904,
          6.780789375305176,
          -7.975615501403809,
          11.202767372131348,
          -3.5310606956481934,
          5.458061695098877,
          -7.12898063659668,
          7.452839374542236,
          6.42613410949707,
          3.575002670288086,
          -2.7264249324798584,
          -10.554136276245117,
          1.5218839645385742,
          -1.9970998764038086,
          -7.488938331604004,
          3.7093143463134766,
          -0.18481704592704773,
          -9.641197204589844,
          -12.688621520996094,
          9.706477165222168,
          -0.9765324592590332,
          2.2143359184265137,
          -9.073720932006836,
          -4.515573978424072,
          -10.070137023925781,
          3.0864768028259277,
          1.350990891456604,
          2.5731050968170166,
          -3.132841110229492,
          5.280896186828613,
          10.33190631866455,
          -2.563342809677124,
          -6.484618663787842,
          8.846715927124023,
          -2.1197633743286133,
          -10.286164283752441,
          -9.94346809387207,
          3.1266062259674072,
          -4.396538734436035,
          6.415506839752197,
          6.326123237609863,
          -5.933482646942139,
          6.630456924438477,
          2.371427059173584,
          8.247162818908691,
          6.14469575881958,
          -12.59472370147705,
          -12.113442420959473,
          -7.886709690093994,
          -11.535046577453613,
          -12.316353797912598,
          -0.048280127346515656,
          -12.660757064819336,
          -7.013342380523682,
          4.979612827301025,
          6.363366603851318,
          12.741847038269043,
          -6.312678813934326,
          3.8323545455932617,
          6.727107524871826,
          -6.946309566497803,
          -13.016341209411621,
          7.524679660797119,
          0.8057328462600708,
          -12.963031768798828,
          -4.966737747192383,
          -0.6427624821662903,
          -3.750187873840332,
          -9.45960807800293,
          5.196776866912842,
          2.756619930267334,
          2.5229127407073975,
          0.31937846541404724,
          -6.504432201385498,
          -3.513024091720581,
          -7.835480690002441,
          0.23897458612918854,
          1.4148401021957397,
          0.8937695026397705,
          -1.6209580898284912,
          -0.9198997020721436,
          2.6595828533172607,
          -6.969470977783203,
          -1.0693528652191162,
          -9.58834171295166,
          -6.4989094734191895,
          -11.627701759338379,
          -4.963221073150635,
          3.1094601154327393,
          -5.917522430419922,
          -2.29190731048584,
          -1.3885341882705688,
          0.7674562931060791,
          -11.952829360961914,
          7.858663558959961,
          9.239269256591797,
          9.876017570495605,
          -4.271262168884277,
          -0.569585919380188,
          5.503678321838379,
          4.481630802154541,
          -3.8851587772369385,
          3.1958818435668945,
          9.338522911071777,
          7.1439900398254395,
          -10.840418815612793,
          -5.130734443664551,
          -12.902560234069824,
          -3.439986228942871,
          -5.982276916503906,
          0.6536997556686401,
          -1.8994264602661133,
          6.83408260345459,
          -3.2525711059570312,
          7.442673206329346,
          7.160027980804443,
          -7.209050178527832,
          5.360007286071777,
          -13.556252479553223,
          10.401955604553223,
          2.8432536125183105,
          0.22688809037208557,
          2.8863847255706787,
          0.8016369938850403,
          -0.44675666093826294,
          -6.766103267669678,
          0.73968106508255,
          -7.176558971405029,
          7.402743816375732,
          2.6890406608581543,
          -0.8248949646949768,
          2.1199121475219727,
          4.302332401275635,
          8.19294548034668,
          -3.104733467102051,
          2.9976961612701416,
          13.164155960083008,
          2.8911099433898926,
          8.894734382629395,
          0.4788680076599121,
          -2.1029553413391113,
          6.944389343261719,
          10.940483093261719,
          -13.30699348449707,
          5.832761764526367,
          -7.138728141784668,
          9.012194633483887,
          5.530829429626465,
          -14.663148880004883,
          7.714928150177002,
          -3.4345529079437256,
          12.34456729888916,
          -1.413314700126648,
          -2.9486560821533203,
          8.222823143005371,
          -5.858403205871582,
          9.568763732910156,
          5.068284034729004,
          4.99462890625,
          -1.7053135633468628,
          1.0953911542892456,
          -3.850754976272583,
          -2.6412272453308105,
          2.9774632453918457,
          6.781864643096924,
          -1.7851245403289795,
          -10.92152214050293,
          5.701281547546387,
          -6.721334934234619,
          -4.45391321182251,
          12.342863082885742,
          2.562720537185669,
          -2.6576313972473145,
          -6.103342533111572,
          -0.8698588609695435,
          -13.889240264892578,
          -4.900848388671875,
          -10.00511360168457,
          -11.622941970825195,
          -3.1857898235321045,
          9.654637336730957,
          -3.0450944900512695,
          1.7849026918411255,
          7.806659698486328,
          -10.938077926635742,
          8.438499450683594,
          6.691214561462402,
          -9.81230354309082,
          -2.202078104019165,
          5.065452575683594,
          -9.81443977355957,
          -4.606511116027832,
          -5.7052459716796875,
          -7.676044940948486,
          -6.692084789276123,
          -6.9175238609313965,
          -10.6427583694458,
          7.792441368103027,
          8.922584533691406,
          9.96037769317627,
          -9.932422637939453,
          1.8538237810134888,
          1.0856937170028687,
          -8.226202011108398,
          -0.5722127556800842,
          9.216136932373047,
          7.28159761428833,
          3.197049617767334,
          -7.302882671356201,
          3.745525598526001,
          9.104613304138184,
          8.433712005615234,
          2.6130127906799316,
          1.5274574756622314,
          3.136141538619995,
          -10.762701988220215,
          7.804493427276611,
          -3.4362871646881104,
          2.975271224975586,
          7.349631309509277,
          1.1744569540023804,
          6.736163139343262,
          0.789760410785675,
          -10.773576736450195,
          2.993201971054077,
          5.966302871704102,
          -8.630392074584961,
          6.302762508392334,
          -11.591714859008789,
          9.103790283203125,
          1.5784348249435425,
          7.426562309265137,
          1.373857021331787,
          3.228309154510498,
          7.708738327026367,
          3.8649048805236816,
          2.3968875408172607,
          -2.6880671977996826,
          6.983008861541748,
          11.640917778015137,
          5.250851631164551,
          -10.466548919677734,
          -12.327436447143555,
          -11.638498306274414,
          3.2046358585357666,
          1.1354902982711792,
          2.6355409622192383,
          -4.1688103675842285,
          -7.386732578277588,
          -12.170310020446777,
          -5.2285332679748535,
          5.344547748565674,
          -13.751213073730469,
          7.897466659545898,
          5.4901885986328125,
          1.491359829902649,
          2.0880894660949707,
          0.21101732552051544,
          0.6566482186317444,
          7.417750358581543,
          8.262995719909668,
          -13.858407020568848,
          6.644702911376953,
          -8.639640808105469,
          -10.620346069335938,
          -3.01493763923645,
          -5.260324478149414,
          11.899795532226562,
          2.9123549461364746,
          2.8890912532806396,
          6.555512428283691,
          12.854191780090332,
          -3.793931007385254,
          -5.106834888458252,
          1.6202279329299927,
          -0.7588311433792114,
          -10.731075286865234,
          -12.340498924255371,
          3.504321575164795,
          -12.940315246582031,
          5.617429256439209,
          7.353071212768555,
          1.500882863998413,
          6.681763648986816,
          -1.0853991508483887,
          2.245941638946533,
          0.9805803298950195,
          1.621262550354004,
          -6.228024959564209,
          8.098762512207031,
          2.1107091903686523,
          -12.965282440185547,
          -12.06431770324707,
          -5.835229396820068,
          9.182135581970215,
          -2.1834447383880615,
          -3.2174441814422607,
          -11.852432250976562,
          -3.318995714187622,
          6.938407897949219,
          10.433213233947754,
          -8.254596710205078,
          11.261099815368652,
          -5.302183628082275,
          10.073169708251953,
          9.161141395568848,
          1.1252013444900513,
          -1.051033854484558,
          2.698976993560791,
          -2.153815746307373,
          -13.87803840637207,
          -10.927123069763184,
          0.1368834525346756,
          0.4049150347709656,
          -12.445561408996582,
          -8.208847045898438,
          -4.475112438201904,
          4.582972049713135,
          -0.5020009279251099,
          1.7098102569580078,
          -2.9277961254119873,
          11.766905784606934,
          3.7992870807647705,
          5.065634250640869,
          1.8473905324935913,
          14.16480541229248,
          -5.184591770172119,
          7.146602630615234,
          -10.225894927978516,
          9.292341232299805,
          5.736969947814941,
          -5.126078128814697,
          6.9601216316223145,
          1.0886378288269043,
          -0.7317709922790527,
          -8.971543312072754,
          -2.3593673706054688,
          -7.072754859924316,
          -4.791402816772461,
          3.37164568901062,
          8.435604095458984,
          2.1403956413269043,
          -9.134844779968262,
          4.831974029541016,
          4.367924213409424,
          -9.849541664123535,
          -10.518209457397461,
          -7.619220733642578,
          -7.452634811401367,
          12.575169563293457,
          11.313286781311035,
          -2.302856683731079,
          -6.3063740730285645,
          3.2943167686462402,
          5.750997543334961,
          8.567756652832031,
          -9.033553123474121,
          -6.401919841766357
         ],
         "y": [
          -5.429752826690674,
          10.494144439697266,
          -12.474437713623047,
          -3.029266595840454,
          -15.633793830871582,
          2.1948294639587402,
          14.04781436920166,
          -1.0536009073257446,
          0.04366396740078926,
          -1.2981047630310059,
          2.042389392852783,
          -14.461180686950684,
          -1.173110008239746,
          -10.220781326293945,
          -6.596944808959961,
          -6.854416370391846,
          -1.1051641702651978,
          9.502619743347168,
          -11.906684875488281,
          -13.81797981262207,
          2.6727044582366943,
          -9.311762809753418,
          -10.703990936279297,
          0.39615345001220703,
          -1.7119885683059692,
          -9.336567878723145,
          -13.990880012512207,
          1.6185787916183472,
          -9.8844575881958,
          -5.098428249359131,
          -2.018097400665283,
          12.231749534606934,
          -8.841792106628418,
          -6.058266639709473,
          5.023092746734619,
          -8.750248908996582,
          -2.949843168258667,
          1.6115039587020874,
          -8.66602611541748,
          2.555119276046753,
          13.710939407348633,
          -4.9744439125061035,
          8.718645095825195,
          -2.1530017852783203,
          -6.155182361602783,
          -6.809678554534912,
          -5.653666973114014,
          0.31523600220680237,
          -14.308061599731445,
          11.936830520629883,
          -0.6681004166603088,
          -10.986371994018555,
          4.7967753410339355,
          -6.746074676513672,
          0.4081119894981384,
          16.2700138092041,
          3.7110164165496826,
          7.600803852081299,
          -5.9925336837768555,
          -9.546540260314941,
          4.884825229644775,
          4.856478691101074,
          -8.704523086547852,
          -4.4837646484375,
          9.468832015991211,
          -5.320324420928955,
          8.106828689575195,
          8.915349006652832,
          -13.624829292297363,
          1.0888947248458862,
          -8.073305130004883,
          -3.061375856399536,
          -7.828036308288574,
          -0.6763688325881958,
          -7.258544445037842,
          -5.548398971557617,
          -11.169154167175293,
          -6.048285961151123,
          -6.206619739532471,
          -6.127293586730957,
          -5.7456254959106445,
          -7.4734392166137695,
          -11.280152320861816,
          4.677438735961914,
          11.954553604125977,
          6.527571201324463,
          9.547903060913086,
          12.102583885192871,
          4.971949577331543,
          -9.809860229492188,
          -7.347616195678711,
          1.3514788150787354,
          8.20047664642334,
          15.433538436889648,
          13.623251914978027,
          -9.011322975158691,
          5.734118938446045,
          6.722475528717041,
          3.459441661834717,
          -10.840439796447754,
          -8.349823951721191,
          12.45417308807373,
          6.555174350738525,
          6.453927516937256,
          -7.1738739013671875,
          -1.115896463394165,
          5.804136276245117,
          9.810153007507324,
          -8.059189796447754,
          -5.655641555786133,
          -10.426046371459961,
          -10.157099723815918,
          3.725752115249634,
          -4.921098709106445,
          -13.908709526062012,
          -8.285906791687012,
          16.37554931640625,
          15.752889633178711,
          -1.7720379829406738,
          2.927696466445923,
          -7.967374324798584,
          3.102222442626953,
          8.774104118347168,
          10.254362106323242,
          1.4163142442703247,
          9.156938552856445,
          11.9449462890625,
          -2.5254316329956055,
          11.2984037399292,
          8.223401069641113,
          4.396793365478516,
          5.8712263107299805,
          -1.867564082145691,
          12.115700721740723,
          12.810639381408691,
          -3.465322494506836,
          -12.309971809387207,
          -3.6677358150482178,
          9.807427406311035,
          4.1951799392700195,
          -0.5372574925422668,
          -9.9971342086792,
          6.65283203125,
          -12.895413398742676,
          3.2892353534698486,
          -3.3008370399475098,
          0.7595266699790955,
          13.944143295288086,
          10.464692115783691,
          3.9194376468658447,
          -11.004721641540527,
          -6.116434574127197,
          4.145442485809326,
          7.737249851226807,
          -8.7184419631958,
          5.657559394836426,
          11.160101890563965,
          11.344902992248535,
          -4.715373992919922,
          0.14877881109714508,
          15.95952033996582,
          7.1082868576049805,
          -3.3235623836517334,
          -6.56557035446167,
          -1.38112211227417,
          11.584097862243652,
          -1.294113278388977,
          -6.533432960510254,
          -9.354058265686035,
          1.661187767982483,
          6.070644855499268,
          5.650699138641357,
          -0.7228601574897766,
          -12.93350601196289,
          3.088207483291626,
          12.289348602294922,
          -0.2439720183610916,
          -12.234339714050293,
          10.832237243652344,
          -3.377192497253418,
          4.268728256225586,
          0.6274417638778687,
          12.110600471496582,
          -4.93908166885376,
          -6.023304462432861,
          16.70284080505371,
          -5.229281902313232,
          4.87648344039917,
          -4.238434314727783,
          -6.202280521392822,
          13.281132698059082,
          -13.830305099487305,
          1.266963243484497,
          -13.69294261932373,
          15.020517349243164,
          14.542516708374023,
          5.183502674102783,
          9.77791690826416,
          -8.642374992370605,
          1.5761197805404663,
          2.6708614826202393,
          4.290148735046387,
          13.060469627380371,
          -11.613228797912598,
          -12.794007301330566,
          12.776546478271484,
          -7.489123344421387,
          3.269688844680786,
          1.2246440649032593,
          11.249678611755371,
          3.66304087638855,
          -5.961020469665527,
          -7.38993501663208,
          -9.199503898620605,
          3.0705161094665527,
          4.851195812225342,
          10.778986930847168,
          -5.8563618659973145,
          -7.7906107902526855,
          3.0633347034454346,
          -13.354395866394043,
          8.335230827331543,
          -11.55574893951416,
          -8.117635726928711,
          14.740937232971191,
          -6.402097702026367,
          10.381638526916504,
          -4.787502765655518,
          12.896652221679688,
          -4.9359450340271,
          13.873373985290527,
          8.436173439025879,
          -2.6025338172912598,
          -3.508761405944824,
          4.528287887573242,
          8.099596977233887,
          1.0486645698547363,
          -6.109609603881836,
          -2.6290738582611084,
          -12.348017692565918,
          3.6362643241882324,
          6.237062931060791,
          -10.244561195373535,
          11.83041763305664,
          -1.7334892749786377,
          14.328190803527832,
          -3.364711284637451,
          -4.196816921234131,
          10.582358360290527,
          -11.344301223754883,
          7.414714813232422,
          4.005199909210205,
          -3.0879697799682617,
          6.812030792236328,
          -1.5238817930221558,
          -0.08750598132610321,
          -4.73371696472168,
          14.051065444946289,
          -5.1522955894470215,
          2.9204301834106445,
          -11.280158042907715,
          5.667306900024414,
          -14.108979225158691,
          4.143709182739258,
          6.685537338256836,
          11.49960708618164,
          -4.197701930999756,
          14.999751091003418,
          -7.8773603439331055,
          8.496904373168945,
          8.505012512207031,
          14.072612762451172,
          -4.964879035949707,
          -10.841863632202148,
          -0.8720309138298035,
          9.291214942932129,
          -8.547758102416992,
          -13.92864990234375,
          9.031283378601074,
          -3.95165753364563,
          10.034409523010254,
          -10.598586082458496,
          -2.8455607891082764,
          -4.32084846496582,
          -13.176276206970215,
          9.070308685302734,
          5.809615612030029,
          8.5794677734375,
          13.20155143737793,
          -7.653647422790527,
          -10.873299598693848,
          10.395599365234375,
          5.521185874938965,
          8.799654960632324,
          4.943370342254639,
          1.4792871475219727,
          0.32383692264556885,
          -5.282627582550049,
          5.2807440757751465,
          -5.564701557159424,
          7.190731048583984,
          15.455488204956055,
          -6.919083595275879,
          -2.016482353210449,
          -0.9693335890769958,
          -4.579067230224609,
          6.976409912109375,
          -4.417288780212402,
          13.263005256652832,
          -5.763022422790527,
          -5.378559589385986,
          14.687272071838379,
          0.21371594071388245,
          -11.931708335876465,
          5.792082786560059,
          -6.181503772735596,
          1.7291663885116577,
          12.897997856140137,
          -5.101379871368408,
          13.341167449951172,
          6.6146721839904785,
          -3.7386746406555176,
          -2.904860019683838,
          8.206783294677734,
          -8.795342445373535,
          -7.415112495422363,
          -5.600160598754883,
          -3.8148982524871826,
          -8.098926544189453,
          -0.3575809597969055,
          15.236024856567383,
          -7.142217636108398,
          8.093608856201172,
          4.720768928527832,
          11.946266174316406,
          -10.541701316833496,
          8.95618724822998,
          -2.9412953853607178,
          -5.053884983062744,
          -7.163695335388184,
          -3.6351523399353027,
          -3.7421810626983643,
          -1.70698082447052,
          8.36034107208252,
          -1.652610182762146,
          -9.569798469543457,
          12.530200958251953,
          13.52507495880127,
          -2.0094408988952637,
          -6.884475231170654,
          3.2241506576538086,
          -4.104541301727295,
          2.5646121501922607,
          13.922914505004883,
          5.801623821258545,
          -3.723358154296875,
          5.294172763824463,
          7.079432010650635,
          -9.078001976013184,
          -9.555676460266113,
          9.164604187011719,
          7.363093376159668,
          -0.39695078134536743,
          12.241193771362305,
          -2.251925468444824,
          -3.2314953804016113,
          -6.436047077178955,
          16.85405158996582,
          14.072318077087402,
          10.472329139709473,
          7.647915363311768,
          3.732797384262085,
          -12.403764724731445,
          -7.394551753997803,
          -2.9420769214630127,
          8.899333953857422,
          -6.352156162261963,
          -1.1688001155853271,
          13.735077857971191,
          -9.32755184173584,
          -0.12134435027837753,
          3.313358783721924,
          -6.452313423156738,
          -6.628409385681152,
          8.917807579040527,
          6.169477462768555,
          5.167878150939941,
          4.615271091461182,
          1.9774212837219238,
          -10.264958381652832,
          7.20702600479126,
          5.161618709564209,
          -5.880186080932617,
          -5.794593334197998,
          3.897606372833252,
          13.911524772644043,
          -1.1059041023254395,
          -2.1414029598236084,
          -7.739004135131836,
          -2.914644241333008,
          2.6390204429626465,
          6.9625115394592285,
          14.951205253601074,
          12.51230239868164,
          -3.232560634613037,
          15.160003662109375,
          -10.609696388244629,
          2.616957187652588,
          1.228118658065796,
          10.567570686340332,
          9.686450004577637,
          -8.615830421447754,
          -7.398543834686279,
          -4.463548183441162,
          10.708617210388184,
          8.609944343566895,
          11.775384902954102,
          11.781150817871094,
          -3.624391555786133,
          -9.453643798828125,
          -10.481290817260742,
          7.178475856781006,
          8.359363555908203,
          8.776233673095703,
          -9.398348808288574,
          13.201582908630371,
          13.87758731842041,
          -0.6574929356575012,
          -7.192474842071533,
          -10.805816650390625,
          -8.263245582580566,
          15.991181373596191,
          4.543453693389893,
          -2.0133938789367676,
          -8.431681632995605,
          4.4311113357543945,
          4.152007102966309,
          -11.78024959564209,
          -7.837852478027344,
          -12.665432929992676,
          -1.6779760122299194,
          -5.460721015930176,
          -13.266407012939453,
          -11.097768783569336,
          5.474579334259033,
          -0.5908802151679993,
          -6.6201348304748535,
          8.370037078857422,
          -10.34774112701416,
          1.102331519126892,
          6.947423934936523,
          -12.513571739196777,
          9.640167236328125,
          -4.612078666687012,
          2.829965114593506,
          12.49084186553955,
          1.5787782669067383,
          -11.953139305114746,
          -6.142289161682129,
          -7.8749189376831055,
          8.978063583374023,
          -12.141870498657227,
          8.536725997924805,
          -5.069624900817871,
          1.1109495162963867,
          -7.252819538116455,
          -8.342174530029297,
          -5.890848159790039,
          12.011899948120117,
          -10.09660816192627,
          -7.578352928161621,
          4.344676494598389,
          9.78405475616455,
          -3.65120267868042,
          8.287545204162598,
          15.116525650024414,
          13.902504920959473,
          -1.4957375526428223,
          -3.1143128871917725,
          10.771692276000977,
          11.956648826599121,
          5.779477596282959,
          -1.7349905967712402,
          -10.077547073364258,
          16.39594078063965,
          -11.233195304870605,
          4.6221466064453125,
          -6.894680023193359,
          -3.867922306060791,
          -13.409283638000488,
          -4.091031551361084,
          1.9111268520355225,
          -2.515286684036255,
          -7.548434734344482,
          -10.279121398925781,
          0.40535953640937805,
          10.014046669006348,
          1.1653499603271484,
          7.101919651031494,
          -9.745122909545898,
          9.942480087280273,
          1.8888685703277588,
          -8.270723342895508,
          4.543770790100098,
          -6.752885818481445,
          -12.896565437316895,
          -6.482664585113525,
          12.956891059875488,
          -7.4849371910095215,
          -0.083086758852005,
          -14.521373748779297,
          11.649116516113281,
          6.67363166809082,
          -6.631879806518555,
          -6.110245704650879,
          8.550782203674316,
          8.096670150756836,
          -6.388575077056885,
          3.0761663913726807,
          7.245169162750244,
          -9.20466136932373,
          -9.955988883972168,
          -4.70783805847168,
          -7.782939434051514,
          -8.235274314880371,
          16.664480209350586,
          -5.8458099365234375,
          15.464213371276855,
          2.6465044021606445,
          -6.366627216339111,
          6.550271511077881,
          -6.278201103210449,
          0.13349410891532898,
          7.2034525871276855,
          2.251328706741333,
          -4.651289463043213,
          11.443737030029297,
          -11.694350242614746,
          -2.242673873901367,
          8.829740524291992,
          4.465882778167725,
          0.7773532867431641,
          9.507986068725586,
          11.272703170776367,
          13.576443672180176,
          -0.4970029890537262,
          -2.441333293914795,
          -0.6139357686042786,
          -0.179146870970726,
          -2.6540701389312744,
          8.04194164276123,
          -5.024023056030273,
          -12.483896255493164,
          -4.829913139343262,
          8.633459091186523,
          6.34529972076416,
          0.6605554223060608,
          -6.049598217010498,
          -4.706925868988037,
          -0.11511847376823425,
          -11.677042007446289,
          -7.722097396850586,
          9.500324249267578,
          2.0482780933380127,
          4.897686958312988,
          -7.853877067565918,
          11.200769424438477,
          2.098073959350586,
          0.7396319508552551,
          2.907456398010254,
          -6.0243353843688965,
          2.49698805809021,
          -2.0875251293182373,
          -7.221848487854004,
          10.824467658996582,
          -6.928144454956055,
          11.90294075012207,
          12.622282028198242,
          -4.531454563140869,
          -8.54706859588623,
          -9.634840965270996,
          -6.446672439575195,
          -7.930285930633545,
          12.508769989013672,
          13.076584815979004,
          -7.780036926269531,
          -6.141729831695557,
          7.4628682136535645,
          15.64769458770752,
          -6.340059280395508,
          7.3053388595581055,
          10.677739143371582,
          -0.560716986656189,
          -2.84468412399292,
          1.1159138679504395,
          6.45316743850708,
          -2.0547220706939697,
          -7.2224602699279785,
          -0.7529850602149963,
          -11.106250762939453,
          -1.9969903230667114,
          2.431727170944214,
          -0.6487716436386108,
          14.957419395446777,
          1.2387596368789673,
          10.102276802062988,
          -3.7329835891723633,
          -8.688543319702148,
          3.5342512130737305,
          7.848566055297852,
          -4.400979042053223,
          -9.457789421081543,
          -9.451026916503906,
          -4.9047160148620605,
          -4.459957599639893,
          9.82948112487793,
          3.969715118408203,
          4.584237098693848,
          1.546116590499878,
          -6.0500969886779785,
          -0.5145105123519897,
          5.857011318206787,
          7.304651737213135,
          2.5036725997924805,
          -7.889054298400879,
          -4.460686683654785,
          15.965836524963379,
          -14.656946182250977,
          3.043247938156128,
          -5.461766719818115,
          3.6386594772338867,
          9.206485748291016,
          -6.602902412414551,
          -10.574262619018555,
          -9.823186874389648,
          -2.435991048812866,
          2.410628080368042,
          -0.14676690101623535,
          2.9099035263061523,
          0.7686209082603455,
          -12.702067375183105,
          11.382508277893066,
          14.499730110168457,
          -9.449766159057617,
          -8.04808235168457,
          -3.3327367305755615,
          -10.188201904296875,
          -3.327302932739258,
          -1.9532039165496826,
          -4.94150447845459,
          10.350969314575195,
          11.425379753112793,
          3.357912540435791,
          -1.8470311164855957,
          12.665545463562012,
          8.80580997467041,
          -11.158635139465332,
          -4.804768085479736,
          3.7284932136535645,
          -5.616790771484375,
          -6.470348358154297,
          5.57309103012085,
          0.8353775143623352,
          -5.506836414337158,
          0.13673189282417297,
          1.0322786569595337,
          -4.470150470733643,
          12.527237892150879,
          9.953898429870605,
          12.877763748168945,
          4.007437705993652,
          -3.2786507606506348,
          8.301135063171387,
          0.5206009149551392,
          0.13620711863040924,
          8.479491233825684,
          11.416088104248047,
          3.1376404762268066,
          -1.047863245010376,
          11.968169212341309,
          -8.945911407470703,
          8.896093368530273,
          -3.5600688457489014,
          -0.5132907629013062,
          10.980386734008789,
          13.07805061340332,
          -3.203136682510376,
          13.525391578674316,
          1.768857717514038,
          -6.588263034820557,
          -8.09805965423584,
          -4.4045090675354,
          -7.768041610717773,
          3.7090554237365723,
          2.331519842147827,
          0.21573702991008759,
          -8.755439758300781,
          -6.589896202087402,
          -5.334767818450928,
          -5.392796516418457,
          3.3142199516296387,
          -5.537679195404053,
          -10.23526668548584,
          -9.926826477050781,
          -2.0890488624572754,
          15.597464561462402,
          0.1920827478170395,
          -7.799477577209473,
          -1.6854268312454224,
          -2.5048184394836426,
          -5.954648017883301,
          10.94133472442627,
          1.9610117673873901,
          -9.351693153381348,
          4.118010520935059,
          2.3848278522491455,
          2.3995468616485596,
          -6.377269744873047,
          4.047671318054199,
          7.48499059677124,
          -11.96055793762207,
          16.7000675201416,
          4.159581184387207,
          -10.929337501525879,
          0.5658954381942749,
          -8.856752395629883,
          0.8859951496124268,
          0.08852703124284744,
          -2.3519105911254883,
          2.1418449878692627,
          3.971297025680542,
          -11.93847370147705,
          0.2945907711982727,
          -0.25011229515075684,
          1.793662428855896,
          2.6702592372894287,
          -8.738116264343262,
          -4.030638217926025,
          -5.486598491668701,
          -5.331748962402344,
          4.394285678863525,
          -4.519292831420898,
          -4.950615882873535,
          -3.502781629562378,
          -7.971369743347168,
          -5.183112144470215,
          -8.364080429077148,
          2.8426854610443115,
          -12.157923698425293,
          -6.944836139678955,
          10.093770980834961,
          -12.50097370147705,
          14.357429504394531,
          15.081050872802734,
          10.455296516418457,
          -12.691368103027344,
          -5.975505352020264,
          5.7358832359313965,
          -6.913775444030762,
          12.748455047607422,
          -5.438838958740234,
          8.393728256225586,
          6.845998287200928,
          13.476318359375,
          -6.248679161071777,
          16.38470458984375,
          15.24312686920166,
          -13.47066879272461,
          13.020699501037598,
          -14.490994453430176,
          -5.6778388023376465,
          -3.085582971572876,
          -0.29270946979522705,
          13.648536682128906,
          -6.659976482391357,
          11.455718040466309,
          3.0033557415008545,
          3.5890495777130127,
          -6.4908318519592285,
          -6.326511859893799,
          -7.287469863891602,
          15.760127067565918,
          5.839966773986816,
          -10.556355476379395,
          -4.222306728363037,
          -6.479166507720947,
          6.884068965911865,
          0.475458025932312,
          -7.180973052978516,
          -6.5875468254089355,
          -3.2264392375946045,
          -5.220529556274414,
          -4.840885162353516,
          -4.878052711486816,
          15.73698902130127,
          12.043655395507812,
          9.442667961120605,
          -10.83122730255127,
          -6.810255527496338,
          14.368825912475586,
          5.681614398956299,
          3.056487560272217,
          2.7807464599609375,
          10.923700332641602,
          -12.862269401550293,
          12.257745742797852,
          8.415725708007812,
          6.348333835601807,
          -0.22062832117080688,
          6.7796502113342285,
          -11.510104179382324,
          -2.385728597640991,
          -5.573889255523682,
          -10.261678695678711,
          5.811644554138184,
          -10.18528938293457,
          7.3276801109313965,
          -4.192204475402832,
          0.10270719975233078,
          -1.1320611238479614,
          2.1430768966674805,
          -11.605156898498535,
          -5.60732889175415,
          7.81443452835083,
          6.149034023284912,
          4.572590351104736,
          -0.05838565528392792,
          -6.751739501953125,
          -6.66227388381958,
          -7.050649166107178,
          6.233521461486816,
          -8.707168579101562,
          -8.808430671691895,
          -2.7478761672973633,
          -12.380233764648438,
          0.8862488865852356,
          -12.249592781066895,
          -14.039485931396484,
          2.6225502490997314,
          7.987259387969971,
          -7.249135971069336,
          6.217856407165527,
          -1.6393845081329346,
          9.442801475524902,
          13.465214729309082,
          1.5309797525405884,
          6.634698867797852,
          -7.0395941734313965,
          -10.328638076782227,
          1.2844781875610352,
          0.5391960144042969,
          -9.643853187561035,
          8.143074989318848,
          -7.4982194900512695,
          2.6092333793640137,
          7.681286334991455,
          4.513872146606445,
          0.6801154613494873,
          -6.335091590881348,
          -4.766372203826904,
          -8.811176300048828,
          -5.58671760559082,
          0.09743767976760864,
          -8.487834930419922,
          6.872291088104248,
          -3.4623403549194336,
          16.242475509643555,
          -6.538164138793945,
          1.1428961753845215,
          -9.759438514709473,
          1.2125091552734375,
          7.9501471519470215,
          9.500088691711426,
          -10.132026672363281,
          14.45907211303711,
          7.07471227645874,
          4.382813453674316,
          5.556269645690918,
          -3.697519540786743,
          -11.408020973205566,
          -10.732271194458008,
          -2.5180459022521973,
          -3.2171969413757324,
          -4.353439807891846,
          -2.072906494140625,
          3.1642684936523438,
          -6.493918418884277,
          5.519028663635254,
          -5.128793239593506,
          -2.8266937732696533,
          -11.830636024475098,
          -5.240222454071045,
          -8.7418794631958,
          -3.397263288497925,
          -5.389688491821289,
          -7.254549503326416,
          -3.6880338191986084,
          13.019683837890625,
          2.325838804244995,
          4.618277549743652,
          8.016897201538086,
          6.008110046386719,
          10.366562843322754,
          -4.608692646026611,
          -8.959807395935059,
          -11.81626033782959,
          -0.01761673204600811,
          12.790853500366211,
          -8.283052444458008,
          -7.801987648010254,
          7.9790568351745605,
          7.234260559082031,
          8.250998497009277,
          -7.218099117279053,
          -4.530679225921631,
          -14.861531257629395,
          -3.2130446434020996,
          8.10263442993164,
          1.1189162731170654,
          2.7759037017822266,
          -9.387970924377441,
          -2.0815558433532715,
          3.0804800987243652,
          -4.210775375366211,
          8.044135093688965,
          -11.367879867553711,
          14.02851676940918,
          -3.6056277751922607,
          5.291079998016357,
          8.088560104370117,
          -15.142248153686523,
          7.352272033691406,
          9.12584114074707,
          -5.833222389221191,
          -1.9843257665634155,
          -10.410778999328613,
          5.735997200012207,
          -11.52412223815918,
          10.557597160339355,
          2.2691521644592285,
          -9.965609550476074,
          4.608108997344971,
          -5.865650653839111,
          1.2970818281173706,
          -4.71295166015625,
          -5.959514617919922,
          -4.110017776489258,
          -3.8585853576660156,
          8.52046012878418,
          14.58629035949707,
          -2.598884105682373,
          2.869109630584717,
          -3.8910067081451416,
          -2.925516366958618,
          4.089487552642822,
          11.736217498779297,
          2.446331739425659,
          -4.678577899932861,
          -2.665635824203491,
          4.47444486618042,
          15.931197166442871,
          7.150100231170654,
          -11.925812721252441,
          -5.806179046630859,
          -4.5197834968566895,
          11.897340774536133,
          8.390763282775879,
          -5.18199348449707,
          -4.85480260848999,
          7.739616394042969,
          -7.765316486358643,
          -7.9965715408325195,
          -3.198071241378784,
          -14.65649700164795,
          -4.712411880493164,
          12.489593505859375,
          11.045217514038086,
          -7.632387161254883,
          0.36631909012794495,
          0.9276485443115234,
          -4.678757667541504,
          -8.549703598022461,
          -5.242379665374756,
          16.236326217651367,
          -6.94800329208374,
          7.116992473602295,
          5.350544452667236,
          0.9902804493904114,
          2.503340482711792,
          -11.814590454101562,
          -0.5798557996749878,
          -5.182210445404053,
          -3.0383806228637695,
          -11.470757484436035,
          -5.214533805847168,
          -3.7331008911132812,
          3.889543294906616,
          -7.113683700561523,
          -1.3378688097000122,
          -12.069960594177246
         ],
         "z": [
          5.483142375946045,
          1.1757292747497559,
          -4.099752426147461,
          -11.729506492614746,
          -4.3767242431640625,
          -8.5206880569458,
          1.5999219417572021,
          -9.819886207580566,
          -0.6814135909080505,
          9.982383728027344,
          -10.503100395202637,
          -8.417625427246094,
          -15.079407691955566,
          1.1398383378982544,
          -3.5796890258789062,
          -13.253168106079102,
          -15.084918022155762,
          6.850008964538574,
          -4.280704498291016,
          -7.417510509490967,
          -8.228553771972656,
          3.3846561908721924,
          -0.2871212363243103,
          -1.2664475440979004,
          -6.332201957702637,
          0.3519783616065979,
          -7.441273212432861,
          4.2866291999816895,
          -5.530114650726318,
          -6.731865406036377,
          0.8613041043281555,
          -2.7069451808929443,
          3.571251153945923,
          -3.2268669605255127,
          0.4814985990524292,
          1.6145586967468262,
          -0.6156283020973206,
          4.744685649871826,
          4.887181282043457,
          -8.429370880126953,
          5.212716102600098,
          -5.190616130828857,
          7.873423099517822,
          -6.3126373291015625,
          -4.227649688720703,
          -13.978229522705078,
          -3.5708248615264893,
          -0.8006799817085266,
          -8.127676010131836,
          7.644952297210693,
          -13.83214282989502,
          -4.196828842163086,
          3.1028780937194824,
          -13.879841804504395,
          -9.845358848571777,
          -4.095595359802246,
          -8.917656898498535,
          -1.362286925315857,
          -3.709764003753662,
          -6.604610919952393,
          1.3158379793167114,
          4.868643760681152,
          -12.30074405670166,
          -5.536818504333496,
          8.276448249816895,
          -2.8631856441497803,
          -0.47325560450553894,
          7.022284030914307,
          -7.2813191413879395,
          -6.992753505706787,
          -7.911019325256348,
          -9.483868598937988,
          7.979113578796387,
          -13.129373550415039,
          8.255474090576172,
          2.7032153606414795,
          -7.099155902862549,
          -9.426787376403809,
          12.584012031555176,
          11.02807331085205,
          10.403627395629883,
          5.153550148010254,
          -3.845555067062378,
          3.627423048019409,
          0.3933505117893219,
          -0.6423641443252563,
          5.186870098114014,
          5.429347515106201,
          -2.8394885063171387,
          5.576453685760498,
          3.7532708644866943,
          -10.776498794555664,
          9.268746376037598,
          2.7174723148345947,
          -2.0414066314697266,
          -11.019220352172852,
          6.599747180938721,
          -1.3536925315856934,
          4.018505573272705,
          -6.410621643066406,
          6.552773475646973,
          6.239980220794678,
          -0.6196640133857727,
          3.9136955738067627,
          -12.183327674865723,
          9.784049034118652,
          6.783553600311279,
          -2.2968926429748535,
          8.342584609985352,
          -8.22155475616455,
          6.479483604431152,
          6.542635917663574,
          -12.258330345153809,
          6.625711441040039,
          -5.4368062019348145,
          7.818789005279541,
          -0.06088675558567047,
          2.8198695182800293,
          -12.094400405883789,
          5.4448161125183105,
          8.601251602172852,
          -1.8417779207229614,
          -3.748845100402832,
          6.68696928024292,
          3.1082446575164795,
          0.6339230537414551,
          -2.7613322734832764,
          -10.489506721496582,
          0.47654083371162415,
          1.0203092098236084,
          -1.5304734706878662,
          5.842686176300049,
          -13.448837280273438,
          -0.5389612913131714,
          5.068875312805176,
          5.173187732696533,
          -2.969658851623535,
          -12.93466567993164,
          -0.6342583298683167,
          2.405223846435547,
          -12.860569953918457,
          4.008679389953613,
          3.0747735500335693,
          -4.574587821960449,
          6.0295281410217285,
          10.8341646194458,
          -8.713024139404297,
          6.685666561126709,
          -0.11635842174291611,
          5.167342662811279,
          6.1708550453186035,
          6.452568054199219,
          -2.929072618484497,
          3.0071725845336914,
          4.32316255569458,
          7.055478096008301,
          8.409956932067871,
          5.398457050323486,
          10.105148315429688,
          -11.445180892944336,
          -0.5276778936386108,
          -0.5272841453552246,
          9.03472900390625,
          13.445230484008789,
          -10.165860176086426,
          5.091126441955566,
          -13.325994491577148,
          -5.61256217956543,
          -4.835769176483154,
          4.875570297241211,
          7.3519768714904785,
          -1.4932552576065063,
          -7.6352458000183105,
          -3.5388286113739014,
          0.5821172595024109,
          6.258951187133789,
          -9.374356269836426,
          -3.3534014225006104,
          -0.8970908522605896,
          -11.615937232971191,
          -1.138541340827942,
          -5.5164594650268555,
          -4.024750709533691,
          -6.591492176055908,
          -5.826449394226074,
          0.7818442583084106,
          -7.079919815063477,
          -0.7194377779960632,
          9.137150764465332,
          6.504330158233643,
          6.425262451171875,
          -5.081240177154541,
          -11.213109016418457,
          -4.396360874176025,
          3.3502957820892334,
          -0.03268050029873848,
          -1.9138888120651245,
          -3.970914602279663,
          7.099171161651611,
          2.2157135009765625,
          -2.3243470191955566,
          3.624180793762207,
          -3.621990442276001,
          -4.523868083953857,
          -4.261099815368652,
          -2.860273838043213,
          12.903396606445312,
          -2.423766851425171,
          -6.325814247131348,
          -1.729091763496399,
          1.4434292316436768,
          -9.288859367370605,
          -8.270048141479492,
          6.875998020172119,
          -1.9861587285995483,
          -1.0056577920913696,
          -1.2010775804519653,
          -11.026591300964355,
          -10.49755573272705,
          1.1806716918945312,
          -4.377161979675293,
          0.260908842086792,
          -5.200237274169922,
          9.808076858520508,
          4.798789024353027,
          12.678513526916504,
          7.646358966827393,
          9.140396118164062,
          4.481296539306641,
          -9.275567054748535,
          0.8964492678642273,
          9.240715026855469,
          -12.085165023803711,
          -12.582563400268555,
          4.39634370803833,
          0.036258354783058167,
          2.4508376121520996,
          6.593808650970459,
          -10.197967529296875,
          -2.229384422302246,
          -2.564758777618408,
          -3.7369799613952637,
          -2.805044651031494,
          3.3804874420166016,
          -7.742020130157471,
          5.404915809631348,
          7.098474502563477,
          11.522299766540527,
          7.383999824523926,
          -1.3402734994888306,
          0.11071708798408508,
          1.114824891090393,
          -9.286437034606934,
          -0.23930278420448303,
          10.437555313110352,
          0.08999564498662949,
          5.798036575317383,
          4.0029215812683105,
          -9.738222122192383,
          5.571832656860352,
          -2.2951977252960205,
          0.3341608941555023,
          -3.953585147857666,
          -0.0988645851612091,
          1.1292507648468018,
          3.239964723587036,
          -12.6550874710083,
          1.6426565647125244,
          8.094073295593262,
          -4.9575629234313965,
          -2.1987249851226807,
          -3.334822654724121,
          4.6042609214782715,
          -1.773934245109558,
          -10.672255516052246,
          2.1982946395874023,
          -10.572824478149414,
          -5.238167762756348,
          -1.3413118124008179,
          9.026202201843262,
          7.161924362182617,
          -1.8924015760421753,
          9.916414260864258,
          2.905578374862671,
          -5.578969478607178,
          1.9003257751464844,
          5.664264678955078,
          0.1669754534959793,
          4.205387592315674,
          7.131295680999756,
          5.348716735839844,
          -1.2433186769485474,
          6.91765832901001,
          2.2037696838378906,
          3.6315438747406006,
          -12.930675506591797,
          -8.422347068786621,
          13.268061637878418,
          4.671507835388184,
          4.626372814178467,
          -0.63828045129776,
          3.436863422393799,
          -7.720376014709473,
          -8.508554458618164,
          -7.1343231201171875,
          8.154205322265625,
          -2.123521327972412,
          8.152007102966309,
          5.748618125915527,
          -5.73970890045166,
          -5.612258434295654,
          5.61415958404541,
          -5.010720729827881,
          -2.030303955078125,
          -3.4549062252044678,
          5.655401706695557,
          4.64412784576416,
          1.521944284439087,
          9.074617385864258,
          -3.5033249855041504,
          -0.4488680958747864,
          6.047134876251221,
          -10.51158332824707,
          -1.5367261171340942,
          10.64451789855957,
          3.3723561763763428,
          -12.10423469543457,
          -11.871249198913574,
          -4.162898063659668,
          -8.082063674926758,
          1.7077150344848633,
          -11.210563659667969,
          1.28460693359375,
          6.707015037536621,
          5.958433151245117,
          -6.113737106323242,
          0.2601151764392853,
          4.7284464836120605,
          -7.199972629547119,
          -10.25605297088623,
          4.439572811126709,
          11.171077728271484,
          -12.346508026123047,
          2.7840940952301025,
          -9.971556663513184,
          -4.035688877105713,
          -1.257322907447815,
          3.8515846729278564,
          -10.855122566223145,
          -11.67114543914795,
          1.5742371082305908,
          4.419893264770508,
          4.946126461029053,
          -2.8544185161590576,
          5.728155136108398,
          10.740330696105957,
          1.723576307296753,
          1.0131267309188843,
          -10.182662963867188,
          2.37341570854187,
          0.9528758525848389,
          -1.1236273050308228,
          3.564488172531128,
          6.320493221282959,
          -10.909650802612305,
          9.4412260055542,
          -9.033289909362793,
          2.429304838180542,
          4.3209381103515625,
          -2.437070846557617,
          6.827393054962158,
          -2.5488440990448,
          -6.791977405548096,
          -5.643407344818115,
          -10.517841339111328,
          6.524250507354736,
          8.460553169250488,
          -8.038317680358887,
          -3.1350255012512207,
          3.2444729804992676,
          -11.002943992614746,
          3.738154888153076,
          6.926802635192871,
          9.122668266296387,
          1.1541029214859009,
          6.993425369262695,
          7.209421634674072,
          6.0252461433410645,
          1.3995112180709839,
          6.644144535064697,
          4.804921627044678,
          6.709310531616211,
          3.729717969894409,
          6.992444038391113,
          4.255257606506348,
          -3.1513102054595947,
          9.366877555847168,
          -7.834228038787842,
          3.6970956325531006,
          7.920187950134277,
          5.197144031524658,
          2.6338677406311035,
          5.757474422454834,
          -3.4986412525177,
          -8.090093612670898,
          1.1046397686004639,
          -5.696503162384033,
          5.0224928855896,
          -12.299857139587402,
          -4.957162857055664,
          2.744964838027954,
          4.511289596557617,
          -11.188417434692383,
          9.03296947479248,
          -0.8100034594535828,
          8.568914413452148,
          7.070257663726807,
          0.9440584778785706,
          -12.266968727111816,
          -4.477969646453857,
          6.649581432342529,
          5.011521816253662,
          0.2667529582977295,
          -0.02238130383193493,
          -5.460380554199219,
          4.912317276000977,
          1.3222789764404297,
          -7.611815452575684,
          6.849780559539795,
          -7.088662147521973,
          7.189183235168457,
          0.6697568297386169,
          3.8413846492767334,
          -8.326419830322266,
          -8.27924633026123,
          -0.08340199291706085,
          7.173341751098633,
          -6.082431316375732,
          9.07503890991211,
          -5.0371809005737305,
          9.775029182434082,
          12.544679641723633,
          -4.9796977043151855,
          -8.747923851013184,
          -1.2682195901870728,
          -9.49390697479248,
          -8.01113224029541,
          3.2831320762634277,
          -2.0464982986450195,
          -5.974059104919434,
          3.7279512882232666,
          -3.68479061126709,
          6.495336532592773,
          8.523872375488281,
          -11.484396934509277,
          -2.5804195404052734,
          -0.8015449047088623,
          -2.873697280883789,
          11.885228157043457,
          9.492432594299316,
          1.6754558086395264,
          -5.828013896942139,
          8.354226112365723,
          10.57524299621582,
          0.1301969736814499,
          3.9380197525024414,
          8.075518608093262,
          -8.848600387573242,
          5.215728759765625,
          -4.5312886238098145,
          9.443140029907227,
          7.592156887054443,
          5.0400285720825195,
          5.899832248687744,
          6.303711414337158,
          3.6578807830810547,
          -0.15070296823978424,
          -7.856508731842041,
          4.849098205566406,
          2.550794839859009,
          5.554340839385986,
          3.4613866806030273,
          -6.699733257293701,
          -7.072226524353027,
          0.1582690328359604,
          -7.493753910064697,
          -1.8696937561035156,
          7.71608829498291,
          4.8406524658203125,
          -1.9759750366210938,
          10.472590446472168,
          -12.268985748291016,
          -8.883323669433594,
          -7.56513786315918,
          -3.4304869174957275,
          -8.100083351135254,
          -4.8503923416137695,
          -11.829874038696289,
          2.821638822555542,
          6.451234817504883,
          -0.4372427761554718,
          3.622652292251587,
          3.256225347518921,
          -2.6079702377319336,
          6.894917011260986,
          -2.025028944015503,
          10.702272415161133,
          2.970731258392334,
          8.391280174255371,
          -4.795175552368164,
          -5.684041976928711,
          4.791807651519775,
          -2.7164409160614014,
          -9.861786842346191,
          12.804008483886719,
          4.639422416687012,
          1.2088297605514526,
          11.484297752380371,
          1.4661469459533691,
          -2.964186429977417,
          8.257142066955566,
          -4.561514377593994,
          -8.900457382202148,
          -4.353981971740723,
          -11.118999481201172,
          0.16202843189239502,
          8.741227149963379,
          3.537004232406616,
          0.6074500679969788,
          6.27437162399292,
          -0.8395980000495911,
          -9.144181251525879,
          -12.957385063171387,
          7.128079414367676,
          -11.680195808410645,
          -5.636772632598877,
          -4.559290885925293,
          -5.600351333618164,
          3.8971762657165527,
          -4.780979633331299,
          0.8258744478225708,
          -9.228586196899414,
          2.6641414165496826,
          -0.34678661823272705,
          3.907689332962036,
          -14.430764198303223,
          10.854751586914062,
          -9.904455184936523,
          -7.7841339111328125,
          10.17603588104248,
          5.260439872741699,
          2.1820855140686035,
          -6.080168724060059,
          10.060351371765137,
          2.3881165981292725,
          1.7725170850753784,
          -12.627996444702148,
          7.191954612731934,
          -12.245314598083496,
          0.14281851053237915,
          -8.715558052062988,
          -10.604190826416016,
          2.4269490242004395,
          -8.809988021850586,
          5.9080376625061035,
          13.005443572998047,
          6.79101037979126,
          3.367626905441284,
          -6.898019313812256,
          -9.985369682312012,
          6.187134265899658,
          -11.0704927444458,
          -9.00301742553711,
          -11.76569652557373,
          -2.3661789894104004,
          -6.406508922576904,
          1.4570847749710083,
          4.7134175300598145,
          3.5874106884002686,
          9.14874267578125,
          6.522933006286621,
          9.52141284942627,
          -5.5009260177612305,
          0.797317385673523,
          5.657958030700684,
          13.024910926818848,
          5.7304253578186035,
          6.392849922180176,
          3.8152740001678467,
          -9.167226791381836,
          2.3355729579925537,
          5.349453926086426,
          -0.43783074617385864,
          -8.477310180664062,
          1.2944667339324951,
          2.595330238342285,
          -9.677796363830566,
          -8.241177558898926,
          -7.183496952056885,
          -8.055830001831055,
          -12.739449501037598,
          -1.6677912473678589,
          -4.402595520019531,
          1.3635083436965942,
          -8.018338203430176,
          -0.6111375689506531,
          -11.06287956237793,
          -11.176371574401855,
          5.77452278137207,
          -1.203494668006897,
          -8.661968231201172,
          5.7036356925964355,
          8.481212615966797,
          4.911373138427734,
          9.689990043640137,
          3.3095080852508545,
          -2.3304362297058105,
          -3.761427640914917,
          4.139391899108887,
          5.996680736541748,
          2.3703107833862305,
          3.1492724418640137,
          0.6045613288879395,
          1.8416035175323486,
          -4.562832832336426,
          -9.874616622924805,
          0.07384216040372849,
          -6.077448844909668,
          4.1296916007995605,
          10.521519660949707,
          0.7224066257476807,
          -3.810140371322632,
          10.010481834411621,
          -4.204599380493164,
          5.590301036834717,
          3.8545522689819336,
          0.8803837299346924,
          2.359196424484253,
          -11.09591007232666,
          2.164729356765747,
          -4.0912766456604,
          -1.8836256265640259,
          0.05157256871461868,
          3.77693772315979,
          -10.029550552368164,
          9.70439338684082,
          -4.555670261383057,
          6.584924221038818,
          -6.083317279815674,
          4.188665866851807,
          7.676563739776611,
          6.946248531341553,
          3.066499948501587,
          -13.51185131072998,
          6.598031997680664,
          -1.890947699546814,
          -5.471356391906738,
          3.2642335891723633,
          5.810871124267578,
          -8.629100799560547,
          -7.769562721252441,
          2.306199789047241,
          0.21505169570446014,
          5.257817268371582,
          -9.357840538024902,
          2.3874971866607666,
          -11.69919490814209,
          -0.9456155300140381,
          -3.9093692302703857,
          6.8587236404418945,
          1.8185988664627075,
          10.77122974395752,
          1.2943662405014038,
          3.2587974071502686,
          -10.393932342529297,
          5.716296195983887,
          -1.8533564805984497,
          -12.721381187438965,
          -9.0322265625,
          -0.3856349587440491,
          -4.482292175292969,
          7.118797302246094,
          4.355669975280762,
          -7.7621049880981445,
          1.9527734518051147,
          6.467966556549072,
          11.4403715133667,
          4.460174560546875,
          -10.686527252197266,
          -6.115769863128662,
          -8.921600341796875,
          -5.5780487060546875,
          -10.658968925476074,
          -1.4360218048095703,
          -12.534467697143555,
          -13.061744689941406,
          2.7552576065063477,
          12.282325744628906,
          11.154943466186523,
          -6.780303001403809,
          -3.6842002868652344,
          14.409499168395996,
          1.097922921180725,
          -5.50338077545166,
          7.958287715911865,
          -3.39375638961792,
          -10.588106155395508,
          -11.163298606872559,
          2.7121083736419678,
          -6.751468658447266,
          -3.1615946292877197,
          6.055841445922852,
          5.855390548706055,
          0.1612251102924347,
          8.85720157623291,
          -10.350534439086914,
          -8.383790969848633,
          -14.535895347595215,
          8.9749174118042,
          6.455238342285156,
          -4.283297061920166,
          0.29963505268096924,
          -2.7200446128845215,
          -4.198000431060791,
          -2.7253024578094482,
          3.5481882095336914,
          -5.562453269958496,
          -13.582916259765625,
          -11.158432960510254,
          -8.255990982055664,
          1.6011918783187866,
          -7.779061794281006,
          3.064659357070923,
          5.052530765533447,
          -1.3731664419174194,
          -10.634635925292969,
          7.106757164001465,
          11.657413482666016,
          12.694093704223633,
          -7.7688703536987305,
          4.370270252227783,
          2.223597288131714,
          2.5367772579193115,
          -9.722883224487305,
          3.639753580093384,
          13.062088012695312,
          9.85662841796875,
          -12.454764366149902,
          -2.9061498641967773,
          -8.17265796661377,
          0.7709786295890808,
          -6.252429008483887,
          -1.661474347114563,
          3.2853057384490967,
          6.178920269012451,
          -3.6658549308776855,
          11.044296264648438,
          0.6013134121894836,
          -9.926749229431152,
          3.04490327835083,
          -6.6736626625061035,
          1.1443356275558472,
          7.518877983093262,
          6.688512802124023,
          5.5285725593566895,
          1.99893057346344,
          1.1226227283477783,
          -5.970585346221924,
          1.2726248502731323,
          -5.3191819190979,
          10.775535583496094,
          4.017382621765137,
          1.218962550163269,
          0.9196392297744751,
          2.7860124111175537,
          5.151634693145752,
          4.033486843109131,
          -2.6109702587127686,
          9.870217323303223,
          3.155207872390747,
          6.9995951652526855,
          1.2646340131759644,
          -1.20729398727417,
          6.358427047729492,
          12.136322975158691,
          -7.3710808753967285,
          1.4968187808990479,
          -10.3766508102417,
          13.129117012023926,
          12.671537399291992,
          -7.912495136260986,
          7.3433918952941895,
          -8.998112678527832,
          7.982784748077393,
          2.657109498977661,
          -4.056413650512695,
          6.359767436981201,
          -2.3739192485809326,
          8.320087432861328,
          6.872454643249512,
          -1.227121114730835,
          4.551408767700195,
          1.1417406797409058,
          0.27929508686065674,
          -2.6378164291381836,
          5.706639766693115,
          4.149704456329346,
          0.8005744218826294,
          -12.929627418518066,
          7.090885639190674,
          -5.487083911895752,
          -9.876537322998047,
          8.464489936828613,
          6.4181809425354,
          -0.992983877658844,
          -2.1440885066986084,
          -0.9330416917800903,
          -8.977019309997559,
          -8.598357200622559,
          -10.505783081054688,
          -8.866327285766602,
          -1.728991150856018,
          13.763631820678711,
          -1.7105928659439087,
          -2.1410152912139893,
          7.519468307495117,
          -12.76070499420166,
          11.49211311340332,
          3.901362180709839,
          -9.3895902633667,
          2.0574707984924316,
          2.8538224697113037,
          -11.29380989074707,
          -8.871138572692871,
          -2.537454605102539,
          -8.120160102844238,
          -8.266552925109863,
          -4.3794474601745605,
          -8.357869148254395,
          3.4710824489593506,
          7.946124076843262,
          3.7625017166137695,
          -10.852408409118652,
          -1.0112831592559814,
          2.3704822063446045,
          -11.876325607299805,
          -4.3589348793029785,
          8.595291137695312,
          6.890339374542236,
          3.3706140518188477,
          -12.515900611877441,
          8.579912185668945,
          3.068424940109253,
          8.129860877990723,
          1.2852309942245483,
          -3.6796464920043945,
          -0.10489235073328018,
          -14.121196746826172,
          12.655349731445312,
          -9.216638565063477,
          5.235498905181885,
          11.739513397216797,
          -0.5356589555740356,
          9.549872398376465,
          -2.633127212524414,
          -12.822465896606445,
          2.6860175132751465,
          12.526525497436523,
          -8.476960182189941,
          4.587202548980713,
          -6.372874736785889,
          5.422435283660889,
          5.298877239227295,
          7.613551139831543,
          -2.676952362060547,
          7.024428844451904,
          3.914522171020508,
          -2.7979819774627686,
          3.1166083812713623,
          -4.202571868896484,
          4.840294361114502,
          9.935897827148438,
          10.65383243560791,
          -10.300291061401367,
          -7.903457164764404,
          -12.302194595336914,
          3.2373719215393066,
          5.855057716369629,
          5.181303024291992,
          -7.37421989440918,
          -5.13668155670166,
          -6.154664993286133,
          -4.783914566040039,
          9.762511253356934,
          -5.611124515533447,
          5.237226963043213,
          5.667390823364258,
          5.593567848205566,
          0.3471929430961609,
          1.9428309202194214,
          0.2554028034210205,
          0.7874650955200195,
          5.503586769104004,
          -9.595431327819824,
          10.576180458068848,
          -4.054267406463623,
          -8.617253303527832,
          -2.134202480316162,
          -4.789353847503662,
          9.944427490234375,
          2.257164239883423,
          6.3075032234191895,
          9.593547821044922,
          8.643829345703125,
          -7.951838970184326,
          -6.003528118133545,
          4.012439250946045,
          -3.459463119506836,
          -13.511247634887695,
          -11.421653747558594,
          7.724167823791504,
          -13.281571388244629,
          4.540987491607666,
          8.081113815307617,
          -4.588897228240967,
          5.793823719024658,
          -2.2699193954467773,
          4.118776321411133,
          4.381894588470459,
          -3.8206863403320312,
          -6.279782772064209,
          4.744227409362793,
          4.831789970397949,
          -8.290023803710938,
          -8.523275375366211,
          -6.561557292938232,
          6.877086639404297,
          -4.897072792053223,
          -0.34394147992134094,
          -9.333636283874512,
          -6.06594181060791,
          -1.0871694087982178,
          12.607337951660156,
          -12.715109825134277,
          9.45069694519043,
          -8.452292442321777,
          10.744670867919922,
          6.996033191680908,
          -0.9005047082901001,
          -1.4206609725952148,
          4.744950294494629,
          4.585300922393799,
          -8.873679161071777,
          -11.433616638183594,
          5.76141881942749,
          7.086692810058594,
          -12.330378532409668,
          -7.738224029541016,
          -8.9924955368042,
          -2.9094667434692383,
          3.8640658855438232,
          5.331206321716309,
          -3.0310440063476562,
          11.292192459106445,
          3.5585994720458984,
          4.617267608642578,
          1.794461965560913,
          9.938703536987305,
          -7.534103870391846,
          1.7841527462005615,
          -10.166196823120117,
          9.759696960449219,
          4.200366497039795,
          -5.755447864532471,
          9.315961837768555,
          3.370922565460205,
          3.1991424560546875,
          -10.694194793701172,
          2.900240182876587,
          -10.159863471984863,
          -8.32303524017334,
          6.59344482421875,
          13.475052833557129,
          1.3398939371109009,
          -10.771390914916992,
          2.452334403991699,
          -2.7614240646362305,
          -7.9903564453125,
          -10.548237800598145,
          -7.75759220123291,
          -10.83318042755127,
          8.099064826965332,
          10.049884796142578,
          -4.99465799331665,
          -9.254034042358398,
          4.156583786010742,
          6.168563365936279,
          12.70254135131836,
          -8.483393669128418,
          -8.045815467834473
         ]
        }
       ],
       "layout": {
        "coloraxis": {
         "colorbar": {
          "title": {
           "text": "Label"
          }
         },
         "colorscale": [
          [
           0,
           "#0d0887"
          ],
          [
           0.1111111111111111,
           "#46039f"
          ],
          [
           0.2222222222222222,
           "#7201a8"
          ],
          [
           0.3333333333333333,
           "#9c179e"
          ],
          [
           0.4444444444444444,
           "#bd3786"
          ],
          [
           0.5555555555555556,
           "#d8576b"
          ],
          [
           0.6666666666666666,
           "#ed7953"
          ],
          [
           0.7777777777777778,
           "#fb9f3a"
          ],
          [
           0.8888888888888888,
           "#fdca26"
          ],
          [
           1,
           "#f0f921"
          ]
         ]
        },
        "height": 800,
        "legend": {
         "tracegroupgap": 0
        },
        "scene": {
         "domain": {
          "x": [
           0,
           1
          ],
          "y": [
           0,
           1
          ]
         },
         "xaxis": {
          "title": {
           "text": "0"
          }
         },
         "yaxis": {
          "title": {
           "text": "1"
          }
         },
         "zaxis": {
          "title": {
           "text": "2"
          }
         }
        },
        "template": {
         "data": {
          "bar": [
           {
            "error_x": {
             "color": "#2a3f5f"
            },
            "error_y": {
             "color": "#2a3f5f"
            },
            "marker": {
             "line": {
              "color": "#E5ECF6",
              "width": 0.5
             }
            },
            "type": "bar"
           }
          ],
          "barpolar": [
           {
            "marker": {
             "line": {
              "color": "#E5ECF6",
              "width": 0.5
             }
            },
            "type": "barpolar"
           }
          ],
          "carpet": [
           {
            "aaxis": {
             "endlinecolor": "#2a3f5f",
             "gridcolor": "white",
             "linecolor": "white",
             "minorgridcolor": "white",
             "startlinecolor": "#2a3f5f"
            },
            "baxis": {
             "endlinecolor": "#2a3f5f",
             "gridcolor": "white",
             "linecolor": "white",
             "minorgridcolor": "white",
             "startlinecolor": "#2a3f5f"
            },
            "type": "carpet"
           }
          ],
          "choropleth": [
           {
            "colorbar": {
             "outlinewidth": 0,
             "ticks": ""
            },
            "type": "choropleth"
           }
          ],
          "contour": [
           {
            "colorbar": {
             "outlinewidth": 0,
             "ticks": ""
            },
            "colorscale": [
             [
              0,
              "#0d0887"
             ],
             [
              0.1111111111111111,
              "#46039f"
             ],
             [
              0.2222222222222222,
              "#7201a8"
             ],
             [
              0.3333333333333333,
              "#9c179e"
             ],
             [
              0.4444444444444444,
              "#bd3786"
             ],
             [
              0.5555555555555556,
              "#d8576b"
             ],
             [
              0.6666666666666666,
              "#ed7953"
             ],
             [
              0.7777777777777778,
              "#fb9f3a"
             ],
             [
              0.8888888888888888,
              "#fdca26"
             ],
             [
              1,
              "#f0f921"
             ]
            ],
            "type": "contour"
           }
          ],
          "contourcarpet": [
           {
            "colorbar": {
             "outlinewidth": 0,
             "ticks": ""
            },
            "type": "contourcarpet"
           }
          ],
          "heatmap": [
           {
            "colorbar": {
             "outlinewidth": 0,
             "ticks": ""
            },
            "colorscale": [
             [
              0,
              "#0d0887"
             ],
             [
              0.1111111111111111,
              "#46039f"
             ],
             [
              0.2222222222222222,
              "#7201a8"
             ],
             [
              0.3333333333333333,
              "#9c179e"
             ],
             [
              0.4444444444444444,
              "#bd3786"
             ],
             [
              0.5555555555555556,
              "#d8576b"
             ],
             [
              0.6666666666666666,
              "#ed7953"
             ],
             [
              0.7777777777777778,
              "#fb9f3a"
             ],
             [
              0.8888888888888888,
              "#fdca26"
             ],
             [
              1,
              "#f0f921"
             ]
            ],
            "type": "heatmap"
           }
          ],
          "heatmapgl": [
           {
            "colorbar": {
             "outlinewidth": 0,
             "ticks": ""
            },
            "colorscale": [
             [
              0,
              "#0d0887"
             ],
             [
              0.1111111111111111,
              "#46039f"
             ],
             [
              0.2222222222222222,
              "#7201a8"
             ],
             [
              0.3333333333333333,
              "#9c179e"
             ],
             [
              0.4444444444444444,
              "#bd3786"
             ],
             [
              0.5555555555555556,
              "#d8576b"
             ],
             [
              0.6666666666666666,
              "#ed7953"
             ],
             [
              0.7777777777777778,
              "#fb9f3a"
             ],
             [
              0.8888888888888888,
              "#fdca26"
             ],
             [
              1,
              "#f0f921"
             ]
            ],
            "type": "heatmapgl"
           }
          ],
          "histogram": [
           {
            "marker": {
             "colorbar": {
              "outlinewidth": 0,
              "ticks": ""
             }
            },
            "type": "histogram"
           }
          ],
          "histogram2d": [
           {
            "colorbar": {
             "outlinewidth": 0,
             "ticks": ""
            },
            "colorscale": [
             [
              0,
              "#0d0887"
             ],
             [
              0.1111111111111111,
              "#46039f"
             ],
             [
              0.2222222222222222,
              "#7201a8"
             ],
             [
              0.3333333333333333,
              "#9c179e"
             ],
             [
              0.4444444444444444,
              "#bd3786"
             ],
             [
              0.5555555555555556,
              "#d8576b"
             ],
             [
              0.6666666666666666,
              "#ed7953"
             ],
             [
              0.7777777777777778,
              "#fb9f3a"
             ],
             [
              0.8888888888888888,
              "#fdca26"
             ],
             [
              1,
              "#f0f921"
             ]
            ],
            "type": "histogram2d"
           }
          ],
          "histogram2dcontour": [
           {
            "colorbar": {
             "outlinewidth": 0,
             "ticks": ""
            },
            "colorscale": [
             [
              0,
              "#0d0887"
             ],
             [
              0.1111111111111111,
              "#46039f"
             ],
             [
              0.2222222222222222,
              "#7201a8"
             ],
             [
              0.3333333333333333,
              "#9c179e"
             ],
             [
              0.4444444444444444,
              "#bd3786"
             ],
             [
              0.5555555555555556,
              "#d8576b"
             ],
             [
              0.6666666666666666,
              "#ed7953"
             ],
             [
              0.7777777777777778,
              "#fb9f3a"
             ],
             [
              0.8888888888888888,
              "#fdca26"
             ],
             [
              1,
              "#f0f921"
             ]
            ],
            "type": "histogram2dcontour"
           }
          ],
          "mesh3d": [
           {
            "colorbar": {
             "outlinewidth": 0,
             "ticks": ""
            },
            "type": "mesh3d"
           }
          ],
          "parcoords": [
           {
            "line": {
             "colorbar": {
              "outlinewidth": 0,
              "ticks": ""
             }
            },
            "type": "parcoords"
           }
          ],
          "pie": [
           {
            "automargin": true,
            "type": "pie"
           }
          ],
          "scatter": [
           {
            "marker": {
             "colorbar": {
              "outlinewidth": 0,
              "ticks": ""
             }
            },
            "type": "scatter"
           }
          ],
          "scatter3d": [
           {
            "line": {
             "colorbar": {
              "outlinewidth": 0,
              "ticks": ""
             }
            },
            "marker": {
             "colorbar": {
              "outlinewidth": 0,
              "ticks": ""
             }
            },
            "type": "scatter3d"
           }
          ],
          "scattercarpet": [
           {
            "marker": {
             "colorbar": {
              "outlinewidth": 0,
              "ticks": ""
             }
            },
            "type": "scattercarpet"
           }
          ],
          "scattergeo": [
           {
            "marker": {
             "colorbar": {
              "outlinewidth": 0,
              "ticks": ""
             }
            },
            "type": "scattergeo"
           }
          ],
          "scattergl": [
           {
            "marker": {
             "colorbar": {
              "outlinewidth": 0,
              "ticks": ""
             }
            },
            "type": "scattergl"
           }
          ],
          "scattermapbox": [
           {
            "marker": {
             "colorbar": {
              "outlinewidth": 0,
              "ticks": ""
             }
            },
            "type": "scattermapbox"
           }
          ],
          "scatterpolar": [
           {
            "marker": {
             "colorbar": {
              "outlinewidth": 0,
              "ticks": ""
             }
            },
            "type": "scatterpolar"
           }
          ],
          "scatterpolargl": [
           {
            "marker": {
             "colorbar": {
              "outlinewidth": 0,
              "ticks": ""
             }
            },
            "type": "scatterpolargl"
           }
          ],
          "scatterternary": [
           {
            "marker": {
             "colorbar": {
              "outlinewidth": 0,
              "ticks": ""
             }
            },
            "type": "scatterternary"
           }
          ],
          "surface": [
           {
            "colorbar": {
             "outlinewidth": 0,
             "ticks": ""
            },
            "colorscale": [
             [
              0,
              "#0d0887"
             ],
             [
              0.1111111111111111,
              "#46039f"
             ],
             [
              0.2222222222222222,
              "#7201a8"
             ],
             [
              0.3333333333333333,
              "#9c179e"
             ],
             [
              0.4444444444444444,
              "#bd3786"
             ],
             [
              0.5555555555555556,
              "#d8576b"
             ],
             [
              0.6666666666666666,
              "#ed7953"
             ],
             [
              0.7777777777777778,
              "#fb9f3a"
             ],
             [
              0.8888888888888888,
              "#fdca26"
             ],
             [
              1,
              "#f0f921"
             ]
            ],
            "type": "surface"
           }
          ],
          "table": [
           {
            "cells": {
             "fill": {
              "color": "#EBF0F8"
             },
             "line": {
              "color": "white"
             }
            },
            "header": {
             "fill": {
              "color": "#C8D4E3"
             },
             "line": {
              "color": "white"
             }
            },
            "type": "table"
           }
          ]
         },
         "layout": {
          "annotationdefaults": {
           "arrowcolor": "#2a3f5f",
           "arrowhead": 0,
           "arrowwidth": 1
          },
          "coloraxis": {
           "colorbar": {
            "outlinewidth": 0,
            "ticks": ""
           }
          },
          "colorscale": {
           "diverging": [
            [
             0,
             "#8e0152"
            ],
            [
             0.1,
             "#c51b7d"
            ],
            [
             0.2,
             "#de77ae"
            ],
            [
             0.3,
             "#f1b6da"
            ],
            [
             0.4,
             "#fde0ef"
            ],
            [
             0.5,
             "#f7f7f7"
            ],
            [
             0.6,
             "#e6f5d0"
            ],
            [
             0.7,
             "#b8e186"
            ],
            [
             0.8,
             "#7fbc41"
            ],
            [
             0.9,
             "#4d9221"
            ],
            [
             1,
             "#276419"
            ]
           ],
           "sequential": [
            [
             0,
             "#0d0887"
            ],
            [
             0.1111111111111111,
             "#46039f"
            ],
            [
             0.2222222222222222,
             "#7201a8"
            ],
            [
             0.3333333333333333,
             "#9c179e"
            ],
            [
             0.4444444444444444,
             "#bd3786"
            ],
            [
             0.5555555555555556,
             "#d8576b"
            ],
            [
             0.6666666666666666,
             "#ed7953"
            ],
            [
             0.7777777777777778,
             "#fb9f3a"
            ],
            [
             0.8888888888888888,
             "#fdca26"
            ],
            [
             1,
             "#f0f921"
            ]
           ],
           "sequentialminus": [
            [
             0,
             "#0d0887"
            ],
            [
             0.1111111111111111,
             "#46039f"
            ],
            [
             0.2222222222222222,
             "#7201a8"
            ],
            [
             0.3333333333333333,
             "#9c179e"
            ],
            [
             0.4444444444444444,
             "#bd3786"
            ],
            [
             0.5555555555555556,
             "#d8576b"
            ],
            [
             0.6666666666666666,
             "#ed7953"
            ],
            [
             0.7777777777777778,
             "#fb9f3a"
            ],
            [
             0.8888888888888888,
             "#fdca26"
            ],
            [
             1,
             "#f0f921"
            ]
           ]
          },
          "colorway": [
           "#636efa",
           "#EF553B",
           "#00cc96",
           "#ab63fa",
           "#FFA15A",
           "#19d3f3",
           "#FF6692",
           "#B6E880",
           "#FF97FF",
           "#FECB52"
          ],
          "font": {
           "color": "#2a3f5f"
          },
          "geo": {
           "bgcolor": "white",
           "lakecolor": "white",
           "landcolor": "#E5ECF6",
           "showlakes": true,
           "showland": true,
           "subunitcolor": "white"
          },
          "hoverlabel": {
           "align": "left"
          },
          "hovermode": "closest",
          "mapbox": {
           "style": "light"
          },
          "paper_bgcolor": "white",
          "plot_bgcolor": "#E5ECF6",
          "polar": {
           "angularaxis": {
            "gridcolor": "white",
            "linecolor": "white",
            "ticks": ""
           },
           "bgcolor": "#E5ECF6",
           "radialaxis": {
            "gridcolor": "white",
            "linecolor": "white",
            "ticks": ""
           }
          },
          "scene": {
           "xaxis": {
            "backgroundcolor": "#E5ECF6",
            "gridcolor": "white",
            "gridwidth": 2,
            "linecolor": "white",
            "showbackground": true,
            "ticks": "",
            "zerolinecolor": "white"
           },
           "yaxis": {
            "backgroundcolor": "#E5ECF6",
            "gridcolor": "white",
            "gridwidth": 2,
            "linecolor": "white",
            "showbackground": true,
            "ticks": "",
            "zerolinecolor": "white"
           },
           "zaxis": {
            "backgroundcolor": "#E5ECF6",
            "gridcolor": "white",
            "gridwidth": 2,
            "linecolor": "white",
            "showbackground": true,
            "ticks": "",
            "zerolinecolor": "white"
           }
          },
          "shapedefaults": {
           "line": {
            "color": "#2a3f5f"
           }
          },
          "ternary": {
           "aaxis": {
            "gridcolor": "white",
            "linecolor": "white",
            "ticks": ""
           },
           "baxis": {
            "gridcolor": "white",
            "linecolor": "white",
            "ticks": ""
           },
           "bgcolor": "#E5ECF6",
           "caxis": {
            "gridcolor": "white",
            "linecolor": "white",
            "ticks": ""
           }
          },
          "title": {
           "x": 0.05
          },
          "xaxis": {
           "automargin": true,
           "gridcolor": "white",
           "linecolor": "white",
           "ticks": "",
           "title": {
            "standoff": 15
           },
           "zerolinecolor": "white",
           "zerolinewidth": 2
          },
          "yaxis": {
           "automargin": true,
           "gridcolor": "white",
           "linecolor": "white",
           "ticks": "",
           "title": {
            "standoff": 15
           },
           "zerolinecolor": "white",
           "zerolinewidth": 2
          }
         }
        },
        "title": {
         "text": "3d TSNE Plot for Outliers"
        },
        "width": 900
       }
      },
      "text/html": [
       "<div>\n",
       "        \n",
       "        \n",
       "            <div id=\"c4b1caa3-5286-4060-8488-a635eae803bf\" class=\"plotly-graph-div\" style=\"height:800px; width:900px;\"></div>\n",
       "            <script type=\"text/javascript\">\n",
       "                require([\"plotly\"], function(Plotly) {\n",
       "                    window.PLOTLYENV=window.PLOTLYENV || {};\n",
       "                    \n",
       "                if (document.getElementById(\"c4b1caa3-5286-4060-8488-a635eae803bf\")) {\n",
       "                    Plotly.newPlot(\n",
       "                        'c4b1caa3-5286-4060-8488-a635eae803bf',\n",
       "                        [{\"customdata\": [[0.263995357], [0.546092303], [0.33671410399999996], [0.092107835], [0.325261175], [0.212464853], [0.258565714], [0.869236755], [0.197077957], [0.292984504], [0.82178316], [0.796622959], [0.045577010999999994], [0.613660351], [0.9507445659999999], [0.33634633700000005], [0.034440667], [0.741544275], [0.18443265], [0.664514943], [0.16282485800000002], [0.729838445], [0.62837389], [0.057883660999999996], [0.445534827], [0.80183695], [0.27709612], [0.228634015], [0.834860657], [0.6697665110000001], [0.532527349], [0.17045907100000002], [0.5102884679999999], [0.977561989], [0.249775993], [0.9755006820000001], [0.613701727], [0.16742036300000002], [0.537472516], [0.379899131], [0.633897303], [0.633960424], [0.5499746529999999], [0.178172988], [0.85563814], [0.321796672], [0.8174905370000001], [0.254879417], [0.344140513], [0.8061457259999999], [0.27708167100000003], [0.544328519], [0.07708393], [0.273081458], [0.390877336], [0.349621385], [0.214549744], [0.206075222], [0.86461997], [0.9817088540000001], [0.33482964600000004], [0.648387061], [0.093643561], [0.837802698], [0.7603439670000001], [0.29140417399999996], [0.3413454], [0.7611124840000001], [0.541899775], [0.684176639], [0.983535597], [0.52081245], [0.328227724], [0.09715793800000001], [0.876088593], [0.870214512], [0.656086992], [0.306791514], [0.48126734], [0.259559174], [0.326123655], [0.930568042], [0.6583894], [0.689992335], [0.315781109], [0.5669050929999999], [0.637526619], [0.687540723], [0.324300602], [0.592704906], [0.7402531259999999], [0.5940328770000001], [0.596452977], [0.27768081699999997], [0.258329663], [0.142460864], [0.435533461], [0.7024990440000001], [0.58897535], [0.653304374], [0.336968524], [0.631244736], [0.73530076], [0.050390366], [0.064264924], [0.665359476], [0.917835245], [0.44651012], [0.661938199], [0.43935985299999997], [0.6875724040000001], [0.363462248], [0.6542621820000001], [0.578553536], [0.065927945], [0.550148559], [0.13918281400000002], [0.080004635], [0.278228358], [0.560124266], [0.53639864], [0.42653190399999996], [0.789109796], [0.742900474], [0.901692589], [0.650337401], [0.114057311], [0.260812592], [0.43991232], [0.964409284], [0.184401415], [0.345145446], [0.17589458100000002], [0.312514453], [0.674131879], [0.32825045], [0.598231057], [0.09259881699999999], [0.497916521], [0.419776521], [0.31217670000000003], [0.937857107], [0.049030963], [0.47610452600000003], [0.447397526], [0.295806058], [0.737363977], [0.625896253], [0.408813429], [0.437511156], [0.691351375], [0.935555275], [0.437846654], [0.072217715], [0.67636067], [0.468883999], [0.543820644], [0.6555226470000001], [0.6935289240000001], [0.10887831199999999], [0.285463743], [0.0], [0.706495497], [0.273530633], [0.292320271], [0.673984307], [0.12612182800000002], [0.9467074590000001], [0.9363388979999999], [0.8537553640000001], [0.7060713609999999], [0.693682186], [0.508527882], [0.34717038899999997], [0.704154263], [0.658730088], [0.155841557], [0.311085435], [0.281135347], [0.094587802], [0.6832609540000001], [0.9077292509999999], [0.29151267399999997], [0.752734459], [0.93482964], [0.071413953], [0.5948963270000001], [0.404672015], [0.13837621], [0.7473384679999999], [0.530882486], [0.282649594], [0.699335734], [0.056111250999999994], [0.855234998], [0.07789512700000001], [0.891649583], [0.38674227899999997], [0.27113158], [0.958888961], [0.085120869], [0.5269022489999999], [0.066577785], [0.841506738], [0.255342095], [0.060545771], [0.073385869], [0.187493723], [0.858365688], [0.090640352], [0.7097252270000001], [0.631300647], [0.24750447399999997], [0.822843584], [0.373476759], [0.625538582], [0.292951715], [0.299730324], [0.25121407], [0.344480551], [0.293064767], [0.7628032240000001], [0.7384708040000001], [0.674883265], [0.719151612], [0.13098021599999998], [0.511328036], [0.04492903], [0.560914449], [0.7440406409999999], [0.266961634], [0.644231853], [0.038113352], [0.05715529900000001], [0.34139246100000004], [0.7204636320000001], [0.402878236], [0.635148967], [0.320729467], [0.09120969400000001], [0.23414609], [0.8902211309999999], [0.602170884], [0.633652055], [0.806240837], [0.739731184], [0.465231269], [0.7321109], [0.373874305], [0.501587947], [0.11538315800000001], [0.7319466040000001], [0.41829872799999995], [0.062259590999999996], [0.391496379], [0.35984929], [0.24523562699999998], [0.610028339], [0.43540360200000006], [0.434309675], [0.523763344], [0.17118786600000002], [0.18773430300000002], [0.945014638], [0.027851097000000002], [0.68445706], [0.178014532], [0.643427879], [0.59588355], [0.372361682], [0.586103584], [0.271658852], [0.59951107], [0.468363088], [0.314515565], [0.21893726], [0.254716562], [0.25612815], [0.602259755], [0.134381075], [0.513887424], [0.624241636], [0.160251854], [0.580708108], [0.270540486], [0.832919932], [0.93032134], [0.719157884], [0.886720033], [0.098792281], [0.787174286], [0.365592376], [0.719576193], [0.8058956], [0.7555783340000001], [0.526005909], [0.68880424], [0.22111531199999998], [0.739369477], [0.408440236], [0.348926542], [0.433713763], [0.5964966070000001], [0.6942953000000001], [0.7090309659999999], [0.867652984], [0.89332545], [0.746020922], [0.538284443], [0.8922193140000001], [0.935175765], [0.260527707], [0.956780449], [0.204932484], [0.687733351], [0.329063619], [0.632149831], [0.463744506], [0.698859621], [0.385446564], [0.47997537700000004], [0.732279108], [0.3813543], [0.459326013], [0.257401434], [0.665014804], [0.103399542], [0.425284413], [0.943529051], [0.594750236], [0.543776817], [0.18203988], [0.23584208399999998], [0.585984497], [0.762013168], [0.6849829070000001], [0.676936933], [0.290184964], [0.48106822200000005], [0.492766033], [0.22185623399999999], [0.053875998], [0.082751144], [0.385366225], [0.702513961], [0.91553156], [0.082087436], [0.251280378], [0.41672181700000005], [0.277032672], [0.579539754], [0.569363476], [0.133399703], [0.265045463], [0.936571901], [0.252618554], [0.054033081], [0.802481439], [0.528197693], [0.9515026], [0.572121173], [0.752938227], [0.143857535], [0.513484576], [0.313322389], [0.6877973959999999], [0.37705984], [0.348226142], [0.67763282], [0.24138752100000002], [0.8506501790000001], [0.22034810300000002], [0.476445464], [0.690324025], [0.364695946], [0.6492491970000001], [0.9437019209999999], [0.529645971], [0.299097002], [0.96696247], [0.272005242], [0.314161447], [0.752020991], [0.221882453], [0.7203326729999999], [0.379204782], [0.60168653], [0.582932673], [0.950809853], [0.58830141], [0.880887227], [0.467857701], [0.8799021709999999], [0.619844009], [0.359002573], [0.291511278], [0.694157143], [0.727960353], [0.617703921], [0.39581257], [0.58317282], [0.710332374], [0.253753693], [0.049412227999999996], [0.728378695], [0.432432881], [0.58612345], [0.052342373], [0.053483902], [0.518729378], [0.933040208], [0.7035542840000001], [0.268989899], [0.733006927], [0.44435246700000003], [0.5833946210000001], [0.871172692], [0.42876707799999997], [0.30046084100000003], [0.9533294590000001], [0.606443965], [0.90986815], [0.714896449], [0.49734950899999997], [0.8530974859999999], [0.721804145], [0.303467328], [0.664485096], [0.27978062], [0.569481665], [0.628628926], [0.088368123], [0.733567326], [0.537436778], [0.638593691], [0.954726948], [0.632202332], [0.642134651], [0.744653087], [0.115714007], [0.48625007299999995], [0.440356144], [0.08272289], [0.511591027], [0.394627555], [0.224394], [0.626927584], [0.290254057], [0.779008053], [0.86610579], [0.873326081], [0.49548916], [0.594297695], [0.9182015840000001], [0.5770427539999999], [0.019467671000000002], [0.6702982820000001], [0.546595316], [0.591665146], [0.42155819], [0.6856085590000001], [0.340303024], [0.675626741], [0.319067345], [0.38849966399999997], [0.706949589], [0.559409515], [0.687663508], [0.7088045540000001], [0.6818880940000001], [0.42253510899999996], [0.320004605], [0.6582813679999999], [0.634154867], [0.7773320090000001], [0.812677205], [0.074280797], [0.39600217], [0.054933913], [0.825058925], [0.382642009], [0.8687298179999999], [0.588043346], [0.891551577], [0.10920046], [0.647682781], [0.724342512], [0.07016304400000001], [0.280882054], [0.039113261], [0.579641592], [0.639000922], [0.281745925], [0.647857744], [0.6479057970000001], [0.875226264], [0.567603305], [0.262940591], [0.268026042], [0.40519133], [0.479965451], [0.33552403], [0.777165379], [0.42548796299999997], [0.237986115], [0.142522971], [0.724176488], [0.234698933], [0.07818228099999999], [0.855990155], [0.270251765], [0.435517841], [0.762697513], [0.46448725799999996], [0.396112685], [0.37638092100000003], [0.29459467699999997], [0.6944921209999999], [0.622767949], [0.8475597220000001], [0.301463054], [0.912937812], [0.500017182], [0.902587935], [0.304517943], [0.299165673], [0.092014087], [0.488548917], [0.664664437], [0.26534954899999996], [0.723657021], [0.149262385], [0.04577339], [0.69661064], [0.42181486], [0.733845785], [0.418795386], [0.677443529], [0.26128360300000003], [0.268527767], [0.5443222360000001], [0.431632036], [0.981018141], [0.21498072399999998], [0.39472999299999995], [0.122224944], [0.297496875], [0.37490443100000004], [0.68698771], [0.388549207], [0.039296071], [0.73553424], [0.37929489299999997], [0.7321233859999999], [0.33922143899999996], [0.659450594], [0.054838642], [0.640112102], [0.30714170399999996], [0.39661190700000004], [0.420439161], [0.24171497399999997], [0.065893153], [0.9105219370000001], [0.697163103], [0.072559853], [0.81825094], [0.311888815], [0.961644609], [0.816325524], [0.14647302], [0.548753945], [0.946158087], [0.293992717], [0.331479643], [0.9062200309999999], [0.525540416], [0.83301411], [0.514849806], [0.574609024], [0.46871185299999996], [0.71002775], [0.645973276], [0.229794416], [0.551783393], [0.055822990999999995], [0.331750941], [0.715520198], [0.583924357], [0.30695769100000003], [0.7914782370000001], [0.16423663900000002], [0.065711219], [0.948993132], [0.080423835], [0.052495426], [0.566346135], [0.3630266], [0.605442195], [0.6308505839999999], [0.065791238], [0.28681707100000003], [0.685462839], [0.260853706], [0.659122429], [0.44317392200000005], [0.602063986], [0.060366910999999995], [0.781903153], [0.5145798070000001], [0.48388621299999995], [0.600213807], [0.49736405200000006], [0.411145245], [0.116999171], [0.34189014100000004], [0.746950848], [0.39629274600000003], [0.6221438429999999], [0.335271141], [0.140257137], [0.081620681], [0.069837569], [0.46894000799999996], [0.9908574170000001], [0.896616832], [0.255310561], [0.22464526699999998], [0.01991825], [0.296480415], [0.155458996], [0.577916714], [0.9563030309999999], [0.813464394], [0.529675785], [0.287671353], [0.48039136], [0.28104482199999997], [0.633196521], [0.09332537699999999], [0.28447398100000004], [0.052223775], [0.051129385], [0.967405608], [0.040045727999999996], [0.9085829209999999], [0.6621174160000001], [0.42470320899999997], [0.72207806], [0.666193327], [0.509681253], [0.7513536209999999], [0.279073124], [0.074927], [0.916359535], [0.31040327], [0.716604052], [0.485587085], [0.30607518100000003], [0.477558204], [0.7119239409999999], [0.066348638], [0.27453935100000004], [0.31082252], [0.47607312700000004], [0.186795565], [0.26654207], [0.070231142], [0.26951927], [0.800004713], [0.27363366699999997], [0.14647919199999998], [0.378318951], [0.373849065], [0.242170835], [0.249796488], [0.066591188], [0.372956798], [0.501812291], [0.313097752], [0.8802021959999999], [0.51981893], [0.364138746], [0.49268289600000004], [0.285732652], [0.890114985], [0.316419561], [0.26866354], [0.771975959], [0.968888992], [0.080334377], [0.7368282209999999], [0.30055807100000004], [0.9179503929999999], [0.465815039], [0.054036682], [0.963150123], [0.08965350300000001], [0.7076932340000001], [0.636416037], [0.539521117], [0.114757161], [0.357312419], [0.67639834], [0.43482839], [0.032326387000000005], [0.711365605], [0.187486519], [0.052789653], [0.5058636129999999], [0.927431873], [0.6809842559999999], [0.882822186], [0.495705441], [0.596240398], [0.320610701], [0.3413685], [0.159681797], [0.318133669], [0.8393010479999999], [0.06435925099999999], [0.470216633], [0.7762522909999999], [0.635843383], [0.62510543], [0.52959065], [0.986900166], [0.078585688], [0.233284267], [0.363330957], [0.7167169809999999], [0.37588979200000006], [0.223316889], [0.299343986], [0.538595767], [0.730297124], [0.66033077], [0.435296009], [0.326494313], [0.854402708], [0.5734938470000001], [0.757786135], [0.704743233], [0.281575597], [0.671968208], [0.313726015], [0.364338275], [0.368216396], [0.38629520700000003], [0.655971865], [0.5660252729999999], [0.424999093], [0.090110371], [0.772350538], [0.331047258], [0.273716188], [0.23877568], [0.37307977200000003], [0.331185868], [0.256134531], [0.678373225], [0.43463833799999996], [0.654668307], [0.986681065], [0.371520495], [0.408359618], [0.40932365], [0.283412082], [0.395246531], [0.010984428000000001], [0.306013869], [0.266194806], [0.299318521], [0.318293946], [0.74282591], [0.09766432900000001], [0.079666942], [0.613258767], [0.99443072], [0.568835082], [0.7080345159999999], [0.37059271899999996], [0.669867361], [0.651295625], [0.462531569], [0.7196256190000001], [0.45377248], [0.394863946], [0.323974831], [0.146454724], [0.7790670409999999], [0.401828915], [0.601479585], [0.856423023], [0.565242962], [0.301225108], [0.282108144], [0.594378011], [0.705312368], [0.5408696279999999], [0.319249574], [0.36176613799999996], [0.625000704], [0.316287401], [0.047239021], [0.801182233], [0.508474436], [0.8178934109999999], [0.399235601], [0.9740519990000001], [0.72241535], [0.039564764], [0.908684108], [0.47301013399999997], [0.7180496279999999], [0.7634790690000001], [0.6475965370000001], [0.8949973859999999], [0.22282590100000002], [0.359012234], [0.944910252], [0.297877816], [0.172517997], [0.556586265], [0.876481735], [0.48667784299999994], [0.459496733], [0.47412637700000004], [0.70101144], [0.337597387], [0.537578886], [0.966992448], [0.056849545], [0.233249065], [0.380054711], [0.602929443], [0.303847999], [0.170194553], [0.972168554], [0.332168927], [0.6887286890000001], [0.110773401], [0.273352065], [0.572939678], [0.491457065], [0.281389999], [0.821697261], [0.6749776829999999], [0.585134549], [0.7105961159999999], [0.040488789], [0.568054311], [0.321752928], [0.611850232], [0.926096887], [0.618347428], [0.667629785], [0.39773346600000004], [0.290875487], [0.594375103], [0.508255233], [0.338571357], [0.43230234700000003], [0.302221978], [0.87619819], [0.080204492], [0.092333532], [0.09365644699999999], [0.6084523510000001], [0.732654598], [0.944158855], [0.26742308], [0.731124201], [0.661308553], [0.38776626200000003], [0.962585273], [0.322067067], [0.6340810929999999], [0.475345002], [0.35355897299999994], [0.8859363159999999], [0.876798106], [0.221581064], [0.394362449], [0.8050356759999999], [0.452898486], [0.592520516], [0.761026394], [0.245049023], [0.37213936299999995], [0.681054822], [0.7471431479999999], [0.9207395290000001], [0.097207945], [0.699302998], [0.721647006], [0.5353561139999999], [0.738293805], [0.7064675509999999], [0.67395061], [0.7112122909999999], [0.302558708], [0.080097855], [0.707010837], [0.512248622], [0.659627472], [0.657559694], [0.100645606], [0.92665363], [0.892879338], [0.839157508], [0.890959718], [0.556754471], [0.960361937], [0.631037864], [0.029838065], [0.278843351], [0.926157705], [0.551504258], [0.485942349], [0.43723469600000003], [0.25231801800000003], [0.515466972], [0.43725229600000004], [0.493724207], [0.83324725], [0.317521477], [0.28623456199999997], [0.726833965], [0.495667033], [0.028645255], [0.31967191699999997], [0.674344598], [0.7660371890000001], [0.65456992], [0.7565143809999999], [0.528253719], [0.38971949100000003], [0.355087459], [0.87015202], [0.7390833059999999], [0.305761846], [0.411587673], [0.063633094], [0.735409395], [0.605916669], [0.539395562], [0.566183532], [0.674795186], [0.070993366], [0.12526410000000002], [0.279601492], [0.952174402], [0.233806762], [0.43724742899999997], [0.925423095], [0.433498634], [0.52517902], [0.088435529], [0.447677638], [0.647000631], [0.9036033370000001], [0.265790738], [0.66419695], [0.498120658], [0.49018894399999996], [0.747084187], [0.906783648], [0.678770917], [0.348599859], [0.294839683], [0.705691827], [0.211917931], [0.063201124], [0.276699543], [0.672459395], [0.8082059490000001], [0.296538373], [0.16012686199999998], [0.439385032], [0.555951416], [0.386240112], [0.158689619], [0.214499855], [0.299579429], [0.569161656], [0.488614799], [0.8782950209999999], [0.649380949], [0.465713341], [0.16813774], [0.87529545], [0.8411323409999999], [0.33292081], [0.5130478589999999], [0.30505507800000004], [0.8126269909999999], [0.25096706], [0.5024355779999999], [0.45799074100000003]], \"hoverlabel\": {\"namelength\": 0}, \"hovertemplate\": \"0=%{x}<br>1=%{y}<br>2=%{z}<br>Feature=%{customdata[0]}<br>Label=%{marker.color}\", \"legendgroup\": \"\", \"marker\": {\"color\": [0, 0, 1, 1, 0, 0, 0, 1, 1, 0, 0, 1, 0, 0, 1, 1, 0, 1, 1, 0, 1, 0, 0, 1, 1, 1, 0, 0, 1, 1, 0, 0, 0, 1, 1, 0, 0, 0, 0, 0, 0, 0, 0, 1, 0, 0, 0, 0, 1, 0, 0, 1, 0, 1, 0, 1, 0, 0, 0, 1, 0, 0, 0, 1, 0, 0, 1, 0, 0, 0, 0, 0, 0, 0, 0, 0, 0, 0, 0, 0, 0, 0, 0, 0, 0, 0, 0, 0, 0, 0, 0, 0, 0, 0, 0, 0, 0, 0, 0, 0, 0, 0, 0, 0, 0, 0, 0, 0, 0, 0, 0, 0, 0, 0, 0, 0, 0, 0, 0, 0, 0, 0, 0, 0, 0, 0, 0, 0, 0, 0, 1, 0, 0, 0, 0, 0, 0, 0, 0, 0, 0, 0, 0, 0, 0, 0, 0, 0, 0, 0, 0, 0, 0, 0, 0, 0, 0, 0, 0, 0, 0, 0, 0, 0, 0, 0, 0, 0, 0, 0, 0, 0, 0, 0, 0, 0, 0, 0, 0, 0, 0, 0, 0, 0, 0, 0, 0, 0, 0, 0, 0, 0, 0, 0, 0, 0, 0, 0, 1, 0, 0, 0, 0, 0, 0, 0, 0, 0, 0, 0, 0, 0, 0, 0, 0, 0, 0, 0, 0, 0, 0, 0, 0, 0, 0, 0, 0, 0, 0, 0, 0, 0, 0, 0, 0, 0, 0, 0, 0, 0, 0, 0, 0, 0, 0, 0, 0, 0, 0, 0, 0, 0, 0, 0, 0, 0, 1, 0, 0, 0, 0, 0, 0, 0, 0, 0, 0, 0, 0, 0, 0, 0, 0, 0, 0, 0, 0, 0, 0, 0, 0, 0, 0, 0, 0, 0, 0, 0, 0, 0, 0, 0, 0, 0, 0, 0, 0, 0, 0, 0, 0, 0, 0, 0, 0, 0, 0, 0, 0, 0, 0, 0, 0, 0, 0, 0, 0, 0, 0, 0, 0, 0, 0, 0, 0, 0, 0, 0, 0, 0, 0, 0, 0, 0, 0, 0, 0, 0, 0, 0, 0, 0, 0, 0, 0, 0, 0, 0, 0, 0, 0, 0, 0, 0, 0, 0, 0, 0, 0, 0, 0, 0, 0, 0, 0, 0, 0, 0, 0, 0, 0, 0, 0, 0, 0, 0, 0, 0, 0, 0, 0, 0, 0, 0, 0, 0, 0, 0, 0, 0, 0, 0, 0, 0, 0, 0, 0, 0, 0, 0, 0, 0, 0, 0, 0, 0, 0, 0, 0, 0, 0, 0, 0, 0, 0, 0, 0, 0, 0, 0, 0, 0, 0, 0, 0, 0, 0, 0, 0, 0, 0, 0, 0, 0, 0, 0, 0, 0, 0, 0, 0, 0, 0, 0, 0, 0, 0, 0, 0, 0, 0, 0, 0, 0, 0, 0, 0, 0, 0, 0, 0, 0, 0, 0, 0, 0, 0, 0, 0, 0, 0, 0, 0, 0, 0, 0, 0, 0, 0, 0, 0, 0, 0, 0, 0, 0, 0, 0, 0, 0, 0, 0, 0, 0, 0, 0, 0, 0, 0, 0, 0, 0, 0, 0, 0, 0, 0, 0, 0, 0, 0, 0, 0, 0, 0, 0, 0, 0, 0, 0, 0, 0, 0, 1, 0, 0, 0, 0, 0, 0, 0, 0, 0, 0, 0, 0, 0, 0, 0, 0, 0, 0, 0, 0, 0, 0, 0, 0, 0, 0, 0, 0, 0, 0, 0, 0, 0, 0, 0, 0, 0, 0, 0, 0, 0, 0, 0, 0, 0, 0, 0, 0, 0, 0, 0, 0, 0, 1, 0, 0, 0, 0, 0, 0, 0, 0, 0, 0, 0, 0, 0, 0, 0, 0, 0, 0, 0, 0, 0, 0, 0, 0, 1, 0, 0, 0, 0, 0, 0, 0, 0, 0, 0, 0, 0, 0, 0, 0, 0, 0, 0, 0, 0, 0, 0, 0, 0, 0, 0, 0, 0, 0, 0, 0, 0, 0, 0, 0, 0, 0, 0, 0, 0, 0, 0, 0, 0, 0, 0, 0, 0, 0, 0, 0, 0, 0, 0, 0, 0, 0, 0, 0, 0, 0, 0, 0, 0, 0, 0, 0, 0, 0, 0, 0, 0, 0, 0, 0, 0, 0, 0, 0, 0, 0, 0, 0, 0, 0, 0, 0, 0, 0, 0, 0, 0, 0, 0, 0, 0, 0, 1, 1, 1, 1, 0, 0, 0, 1, 1, 0, 1, 0, 1, 1, 0, 0, 1, 1, 1, 0, 1, 0, 1, 0, 1, 0, 0, 0, 1, 0, 0, 0, 0, 0, 0, 0, 0, 0, 0, 0, 0, 0, 0, 0, 0, 0, 0, 0, 0, 0, 0, 0, 0, 0, 0, 0, 0, 0, 0, 0, 1, 0, 0, 0, 0, 0, 0, 0, 0, 0, 0, 0, 0, 0, 0, 0, 0, 0, 0, 0, 0, 0, 0, 0, 0, 0, 0, 0, 0, 0, 0, 0, 0, 0, 0, 0, 0, 0, 0, 1, 0, 0, 0, 0, 0, 0, 0, 0, 0, 0, 0, 0, 0, 0, 0, 0, 0, 0, 0, 0, 0, 0, 0, 0, 0, 0, 0, 0, 0, 0, 0, 0, 0, 0, 0, 0, 0, 0, 0, 0, 0, 0, 0, 0, 0, 0, 0, 0, 0, 0, 0, 0, 0, 0, 0, 0, 0, 0, 0, 0, 0, 0, 0, 1, 0, 0, 0, 0, 0, 0, 0, 0, 0, 0, 0, 0, 0, 0, 0, 0, 0, 0, 0, 0, 0, 0, 0, 0, 0, 0, 0, 0, 0, 0, 0, 0, 0, 0, 0, 0, 0, 0, 0, 0, 0, 0, 0, 0, 0, 0, 0, 0, 0, 0, 0, 0, 0, 0, 0, 0, 0, 0, 0, 0, 0, 0, 0, 0, 0, 0, 0, 0, 0, 0, 0, 0, 0, 0, 0, 0, 0, 0, 0, 0, 0, 0, 0, 0, 0, 0, 0, 0, 0, 0, 0, 0, 0, 0, 0, 0, 0, 0, 0, 0, 0, 0, 0, 0, 0, 0, 0, 0, 0, 0, 0, 0, 0, 0, 0, 0, 0, 0, 0, 0, 0, 0, 0, 0, 0, 0, 0, 0, 0, 0, 0, 0, 0, 0, 0, 0], \"coloraxis\": \"coloraxis\", \"opacity\": 0.7, \"symbol\": \"circle\"}, \"mode\": \"markers\", \"name\": \"\", \"scene\": \"scene\", \"showlegend\": false, \"type\": \"scatter3d\", \"x\": [0.8693561553955078, -4.067624092102051, -0.49896350502967834, -7.013753890991211, -6.277666091918945, -3.6091980934143066, 3.883178949356079, -14.105805397033691, -2.709589958190918, 4.673925876617432, -13.973725318908691, -8.799607276916504, -6.583375930786133, -6.9559736251831055, -4.48945426940918, -7.722034454345703, -6.6219305992126465, -1.1912893056869507, 1.000150442123413, -10.53281021118164, -2.9595744609832764, 3.8603603839874268, -6.863173007965088, -2.2597129344940186, -5.652699947357178, 2.6327619552612305, -9.699989318847656, 0.17805735766887665, -12.979866981506348, -10.511896133422852, -1.41157865524292, -2.779684543609619, -0.9656120538711548, -10.193769454956055, 9.220340728759766, 3.971695899963379, -3.1003265380859375, 0.2585586905479431, 1.9191336631774902, -5.216343879699707, 7.191269397735596, -8.415396690368652, 6.51664400100708, -3.191340923309326, -7.51865816116333, -7.979631423950195, -8.047331809997559, -2.2572848796844482, -9.044889450073242, 2.8395562171936035, -12.847784042358398, 2.5682547092437744, 10.05666732788086, -7.848084449768066, -4.2429914474487305, 1.0585715770721436, -5.5490264892578125, 8.206216812133789, -9.966094970703125, -2.8815715312957764, 6.2488861083984375, 3.1549081802368164, -10.373427391052246, -8.597125053405762, 3.802340507507324, -7.8698883056640625, 5.9860992431640625, -1.3347562551498413, -8.598435401916504, -7.519207000732422, -13.522509574890137, -10.994379043579102, 2.4909603595733643, -9.172994613647461, 12.591747283935547, 6.058534622192383, -5.959264755249023, -9.341465950012207, 11.277801513671875, 7.5963006019592285, 7.334468841552734, 8.116169929504395, -8.29008960723877, 3.2442691326141357, 1.123307228088379, -3.347698450088501, 1.7797884941101074, -0.06814265251159668, 4.980742931365967, 5.75591516494751, 5.981374740600586, -12.010746955871582, 6.521672248840332, 3.269268035888672, 0.6645698547363281, -10.817127227783203, 9.56435775756836, -1.1705689430236816, 5.003344535827637, -6.824598789215088, 3.2327349185943604, 3.4430642127990723, -1.3280352354049683, 10.00493049621582, -11.658554077148438, 8.449965476989746, 1.6314448118209839, 1.2360074520111084, 11.976064682006836, -9.576763153076172, 7.712673187255859, 2.294855833053589, -11.590529441833496, 6.668501377105713, -4.374763011932373, 7.961440086364746, 0.37598875164985657, 3.385477304458618, -7.7950897216796875, 5.766446590423584, 8.058802604675293, 4.5109758377075195, -0.17512434720993042, 5.0267839431762695, 3.181966543197632, -2.0110621452331543, 0.8976368308067322, -8.650941848754883, 0.42884084582328796, -1.323405146598816, 7.16290283203125, 9.694878578186035, -12.787686347961426, 3.1239020824432373, 2.6340110301971436, 4.788471698760986, -6.536040782928467, -10.708261489868164, -1.7798254489898682, -2.645081043243408, -10.245094299316406, 6.732059001922607, 10.0435791015625, -7.5377326011657715, 6.961109161376953, 7.402703285217285, -11.280377388000488, 4.387353420257568, -2.741955280303955, -0.19957707822322845, 7.0031843185424805, 9.528585433959961, 0.7634810209274292, 10.042390823364258, 3.1625471115112305, 8.524662971496582, 4.192885875701904, 5.225057601928711, 13.542552947998047, -7.0024518966674805, 1.859645128250122, 8.218324661254883, 10.38028621673584, 9.959515571594238, -7.477536678314209, 3.5065619945526123, -10.03187370300293, -11.649992942810059, -4.409768104553223, 3.0993616580963135, 2.1555016040802, -1.7157727479934692, -6.03045654296875, -4.027470588684082, 2.5848758220672607, 1.2661733627319336, -5.141561031341553, -3.272320508956909, -2.996490716934204, -10.245477676391602, 2.018974781036377, -8.86123275756836, -1.9449788331985474, -14.086382865905762, -12.514662742614746, 1.3641045093536377, -7.088309288024902, 6.862685203552246, 6.690853118896484, 8.810206413269043, 4.197967529296875, -6.827690124511719, -12.865608215332031, -3.5441086292266846, -1.99742591381073, 2.9872078895568848, 2.2162599563598633, 1.1598718166351318, 4.5848388671875, 3.006819248199463, 6.223847389221191, -1.290643334388733, 1.538074016571045, -8.590518951416016, -2.3241097927093506, -2.63266921043396, 6.944284915924072, 6.3369903564453125, -9.061443328857422, -0.49302902817726135, 3.224817991256714, -6.300913333892822, -9.415757179260254, 7.875367641448975, 4.489551067352295, 3.695866584777832, -0.8110714554786682, -9.396280288696289, -11.282832145690918, -2.5942165851593018, -1.8896751403808594, 1.0006403923034668, -7.707183837890625, 11.68946361541748, -0.7152779698371887, 6.568156719207764, 6.42833948135376, 5.4518022537231445, 3.185670852661133, -2.987205743789673, 2.3381149768829346, 6.396914958953857, -10.207585334777832, -10.56102180480957, 8.28268051147461, 1.494729995727539, -4.409759044647217, 8.164029121398926, -8.835701942443848, -2.4279470443725586, 6.037956237792969, 0.17874091863632202, -3.646043539047241, -0.10191264003515244, -12.085411071777344, 0.0588994175195694, 7.346686840057373, 11.316987037658691, 7.097629547119141, -6.857744216918945, 9.866165161132812, -0.5976299047470093, -10.49135971069336, 7.911910057067871, 7.852745532989502, 0.10775240510702133, 3.405223846435547, 1.2938132286071777, -3.568286180496216, 7.004735946655273, -4.161379814147949, 7.572592735290527, -5.743292331695557, 1.0422275066375732, 11.073333740234375, -0.22549501061439514, -12.064900398254395, -1.1893383264541626, 11.950039863586426, 2.023466110229492, 1.9382070302963257, -0.7801719903945923, 6.549502849578857, -3.610600709915161, -6.670022964477539, 7.242857933044434, -9.299647331237793, -6.767313480377197, 1.5607244968414307, 6.778570175170898, 6.332855701446533, -3.8945136070251465, 6.296872615814209, 3.561870813369751, -4.405768394470215, 0.8823084235191345, 5.031246662139893, 0.558281421661377, 0.10127665847539902, 4.541318893432617, 6.338082313537598, 1.9795715808868408, 1.36398446559906, 1.6038823127746582, 3.038926601409912, -10.502614974975586, -10.133090019226074, 9.157144546508789, 0.8897866010665894, 2.387927293777466, -4.276869773864746, 1.4382028579711914, -11.314680099487305, -12.233110427856445, -8.356159210205078, 11.716889381408691, 0.49204766750335693, 10.470352172851562, 6.549564361572266, -12.89625072479248, -12.008352279663086, 5.098215103149414, -8.292773246765137, -2.964078664779663, 3.1668946743011475, 3.3411364555358887, 3.149928569793701, 0.6834447383880615, 12.032927513122559, 0.9183295369148254, -3.493738889694214, 8.612257957458496, -11.134659767150879, -1.7233927249908447, 6.545013904571533, 4.5752692222595215, -11.5084867477417, -12.994129180908203, -6.213067531585693, -8.829629898071289, -1.213444471359253, -8.133527755737305, 6.908347129821777, 9.74198055267334, 0.07000205665826797, -6.111149311065674, -1.1293925046920776, 4.905671119689941, -7.472840309143066, -6.443249225616455, 5.369740962982178, 5.149560451507568, -7.772146701812744, 9.564911842346191, -13.5596923828125, -7.220099449157715, 3.1421399116516113, 5.233684062957764, -8.55220890045166, -8.41963005065918, -0.3635052442550659, 6.7079315185546875, 7.402324199676514, -0.657357931137085, 5.099963188171387, 4.617142200469971, 9.589603424072266, 0.3227657377719879, -11.955946922302246, 3.9756743907928467, -3.0647337436676025, 0.07274531573057175, -1.318835735321045, 6.156480312347412, -10.2388277053833, 10.19607925415039, -11.05457592010498, 0.8130890727043152, 1.2402384281158447, 1.5744893550872803, 5.919409275054932, 5.852230072021484, -6.459230422973633, -5.26462984085083, -11.028260231018066, 4.777230262756348, 11.139402389526367, -8.948269844055176, 0.6356923580169678, 6.1568284034729, -8.912692070007324, -2.3491640090942383, 11.31605339050293, 3.0589420795440674, -2.0745747089385986, 9.986760139465332, 1.155143141746521, 0.5931363701820374, 2.8055036067962646, 3.395181179046631, 4.504307746887207, 9.777207374572754, 7.621375560760498, 8.758886337280273, 7.32785701751709, -0.6544673442840576, 8.439772605895996, -12.001761436462402, 3.1723837852478027, 7.348682880401611, 5.347042560577393, 4.524728298187256, 4.893326759338379, -2.652068853378296, -14.058921813964844, -0.45872974395751953, -3.4171459674835205, -2.722363233566284, -6.760819911956787, -0.9847058653831482, -0.0543224923312664, 7.087876319885254, -12.629640579223633, 10.925312042236328, 2.6496012210845947, 6.365137100219727, 0.4738091826438904, -0.996355414390564, -12.81898307800293, -7.322668552398682, 3.2763261795043945, 1.5736631155014038, 1.3647511005401611, -3.747637987136841, -4.891662120819092, 1.6439827680587769, 2.3491437435150146, -8.738831520080566, 2.2781240940093994, -6.046038627624512, 8.018431663513184, 2.586158037185669, 3.8013150691986084, -9.704288482666016, -12.85511589050293, 1.1340385675430298, 6.644265651702881, -7.038853168487549, 11.74448013305664, -2.346177339553833, 8.087950706481934, 10.862607955932617, -3.259371757507324, -7.8050665855407715, 4.8571062088012695, -5.74405574798584, -12.278332710266113, 7.82472562789917, -6.158598899841309, -10.557050704956055, 4.545015335083008, -6.538443088531494, 5.375616550445557, 11.497861862182617, -11.615557670593262, 0.8256108164787292, 1.5143295526504517, -5.796687126159668, 11.597651481628418, 3.605288028717041, -2.248896598815918, -3.804715633392334, 5.5501017570495605, 3.706242799758911, -0.925459623336792, 6.177175045013428, 11.994688987731934, -13.559310913085938, 3.3174264430999756, -4.6993632316589355, 7.7582550048828125, 8.180099487304688, 2.543478012084961, 7.288540363311768, 4.61067533493042, -1.368856430053711, 2.562656879425049, -7.1723952293396, 2.7679104804992676, -0.9063835740089417, 6.295091152191162, 3.938908815383911, -8.781233787536621, -8.043919563293457, 1.0155396461486816, -7.766136646270752, -0.5278076529502869, 2.375413656234741, 4.373908042907715, -2.722846269607544, 10.215118408203125, -10.810234069824219, -4.798048973083496, -11.23621940612793, -3.9525985717773438, -11.154219627380371, -0.35243064165115356, -8.175187110900879, 8.567878723144531, 5.289702415466309, -1.467164158821106, -0.08880805969238281, 5.027825832366943, 4.638309478759766, 2.0116007328033447, -3.152947425842285, 12.623124122619629, 5.4112324714660645, 2.4521920680999756, -8.302371978759766, -6.006726264953613, 5.396575450897217, 1.6040937900543213, -6.799642086029053, 10.047445297241211, 6.915282726287842, 10.412123680114746, 12.280961036682129, -0.08028840273618698, 0.7429322600364685, 2.5515940189361572, -9.190091133117676, -5.039702415466309, -6.515872001647949, -11.110193252563477, -0.7584643363952637, 2.8480093479156494, 1.3154065608978271, 2.076188325881958, 4.386597633361816, -1.1551506519317627, -9.97632122039795, -8.128047943115234, 6.45153284072876, -9.52476978302002, -11.663894653320312, -1.51900053024292, -8.6240816116333, 0.6464927196502686, 1.7490407228469849, -3.0871636867523193, -8.461172103881836, 0.1644117385149002, -2.7064826488494873, 4.611329078674316, -10.72892951965332, 7.872965335845947, -9.52454662322998, -10.777119636535645, 6.958698749542236, 9.579792976379395, 4.332891464233398, -5.358442783355713, 13.595656394958496, 7.346260070800781, -2.068342447280884, -7.260746955871582, 12.912585258483887, -12.195712089538574, 0.3381488025188446, -7.829310894012451, -11.783590316772461, 7.571811199188232, -11.49332046508789, 5.541478157043457, 8.185312271118164, 3.6290717124938965, -0.37750232219696045, -12.123198509216309, -10.787284851074219, 2.022430181503296, -10.434212684631348, -13.522489547729492, -8.545454025268555, -3.2358477115631104, -12.864076614379883, -0.8890740275382996, -0.2901994287967682, 3.683505058288574, 8.552462577819824, 3.034111499786377, 9.831913948059082, -4.939260482788086, -0.4200979471206665, 6.600921630859375, 6.823064804077148, 4.1707024574279785, 3.5202150344848633, -0.720797061920166, -10.834993362426758, 3.8253653049468994, 8.128615379333496, -0.5948758721351624, -13.693767547607422, -2.615741491317749, 10.402337074279785, -12.170193672180176, -9.855643272399902, -7.612739086151123, -7.486764430999756, -9.252140045166016, 5.606433868408203, -8.059234619140625, 2.898541212081909, -8.598377227783203, -1.7608038187026978, -13.487005233764648, -9.287652969360352, 5.569595813751221, -3.5330915451049805, -4.507809638977051, 6.3344950675964355, 3.480548620223999, 5.210995674133301, 4.0007147789001465, 7.994770050048828, 2.6101608276367188, 4.791668891906738, 3.300722599029541, 4.510013103485107, -1.1242079734802246, 9.208903312683105, 10.527715682983398, -0.28406164050102234, -5.880335807800293, -14.2801513671875, 1.4989049434661865, -4.570646286010742, -3.3114819526672363, 3.702151298522949, 7.776299476623535, 0.5152385830879211, 13.061450004577637, -8.698206901550293, 5.390639781951904, 0.8145623803138733, 7.773644924163818, -1.4115419387817383, -11.463955879211426, -3.146944761276245, -2.128190517425537, -0.35139229893684387, 2.5742690563201904, 6.780789375305176, -7.975615501403809, 11.202767372131348, -3.5310606956481934, 5.458061695098877, -7.12898063659668, 7.452839374542236, 6.42613410949707, 3.575002670288086, -2.7264249324798584, -10.554136276245117, 1.5218839645385742, -1.9970998764038086, -7.488938331604004, 3.7093143463134766, -0.18481704592704773, -9.641197204589844, -12.688621520996094, 9.706477165222168, -0.9765324592590332, 2.2143359184265137, -9.073720932006836, -4.515573978424072, -10.070137023925781, 3.0864768028259277, 1.350990891456604, 2.5731050968170166, -3.132841110229492, 5.280896186828613, 10.33190631866455, -2.563342809677124, -6.484618663787842, 8.846715927124023, -2.1197633743286133, -10.286164283752441, -9.94346809387207, 3.1266062259674072, -4.396538734436035, 6.415506839752197, 6.326123237609863, -5.933482646942139, 6.630456924438477, 2.371427059173584, 8.247162818908691, 6.14469575881958, -12.59472370147705, -12.113442420959473, -7.886709690093994, -11.535046577453613, -12.316353797912598, -0.048280127346515656, -12.660757064819336, -7.013342380523682, 4.979612827301025, 6.363366603851318, 12.741847038269043, -6.312678813934326, 3.8323545455932617, 6.727107524871826, -6.946309566497803, -13.016341209411621, 7.524679660797119, 0.8057328462600708, -12.963031768798828, -4.966737747192383, -0.6427624821662903, -3.750187873840332, -9.45960807800293, 5.196776866912842, 2.756619930267334, 2.5229127407073975, 0.31937846541404724, -6.504432201385498, -3.513024091720581, -7.835480690002441, 0.23897458612918854, 1.4148401021957397, 0.8937695026397705, -1.6209580898284912, -0.9198997020721436, 2.6595828533172607, -6.969470977783203, -1.0693528652191162, -9.58834171295166, -6.4989094734191895, -11.627701759338379, -4.963221073150635, 3.1094601154327393, -5.917522430419922, -2.29190731048584, -1.3885341882705688, 0.7674562931060791, -11.952829360961914, 7.858663558959961, 9.239269256591797, 9.876017570495605, -4.271262168884277, -0.569585919380188, 5.503678321838379, 4.481630802154541, -3.8851587772369385, 3.1958818435668945, 9.338522911071777, 7.1439900398254395, -10.840418815612793, -5.130734443664551, -12.902560234069824, -3.439986228942871, -5.982276916503906, 0.6536997556686401, -1.8994264602661133, 6.83408260345459, -3.2525711059570312, 7.442673206329346, 7.160027980804443, -7.209050178527832, 5.360007286071777, -13.556252479553223, 10.401955604553223, 2.8432536125183105, 0.22688809037208557, 2.8863847255706787, 0.8016369938850403, -0.44675666093826294, -6.766103267669678, 0.73968106508255, -7.176558971405029, 7.402743816375732, 2.6890406608581543, -0.8248949646949768, 2.1199121475219727, 4.302332401275635, 8.19294548034668, -3.104733467102051, 2.9976961612701416, 13.164155960083008, 2.8911099433898926, 8.894734382629395, 0.4788680076599121, -2.1029553413391113, 6.944389343261719, 10.940483093261719, -13.30699348449707, 5.832761764526367, -7.138728141784668, 9.012194633483887, 5.530829429626465, -14.663148880004883, 7.714928150177002, -3.4345529079437256, 12.34456729888916, -1.413314700126648, -2.9486560821533203, 8.222823143005371, -5.858403205871582, 9.568763732910156, 5.068284034729004, 4.99462890625, -1.7053135633468628, 1.0953911542892456, -3.850754976272583, -2.6412272453308105, 2.9774632453918457, 6.781864643096924, -1.7851245403289795, -10.92152214050293, 5.701281547546387, -6.721334934234619, -4.45391321182251, 12.342863082885742, 2.562720537185669, -2.6576313972473145, -6.103342533111572, -0.8698588609695435, -13.889240264892578, -4.900848388671875, -10.00511360168457, -11.622941970825195, -3.1857898235321045, 9.654637336730957, -3.0450944900512695, 1.7849026918411255, 7.806659698486328, -10.938077926635742, 8.438499450683594, 6.691214561462402, -9.81230354309082, -2.202078104019165, 5.065452575683594, -9.81443977355957, -4.606511116027832, -5.7052459716796875, -7.676044940948486, -6.692084789276123, -6.9175238609313965, -10.6427583694458, 7.792441368103027, 8.922584533691406, 9.96037769317627, -9.932422637939453, 1.8538237810134888, 1.0856937170028687, -8.226202011108398, -0.5722127556800842, 9.216136932373047, 7.28159761428833, 3.197049617767334, -7.302882671356201, 3.745525598526001, 9.104613304138184, 8.433712005615234, 2.6130127906799316, 1.5274574756622314, 3.136141538619995, -10.762701988220215, 7.804493427276611, -3.4362871646881104, 2.975271224975586, 7.349631309509277, 1.1744569540023804, 6.736163139343262, 0.789760410785675, -10.773576736450195, 2.993201971054077, 5.966302871704102, -8.630392074584961, 6.302762508392334, -11.591714859008789, 9.103790283203125, 1.5784348249435425, 7.426562309265137, 1.373857021331787, 3.228309154510498, 7.708738327026367, 3.8649048805236816, 2.3968875408172607, -2.6880671977996826, 6.983008861541748, 11.640917778015137, 5.250851631164551, -10.466548919677734, -12.327436447143555, -11.638498306274414, 3.2046358585357666, 1.1354902982711792, 2.6355409622192383, -4.1688103675842285, -7.386732578277588, -12.170310020446777, -5.2285332679748535, 5.344547748565674, -13.751213073730469, 7.897466659545898, 5.4901885986328125, 1.491359829902649, 2.0880894660949707, 0.21101732552051544, 0.6566482186317444, 7.417750358581543, 8.262995719909668, -13.858407020568848, 6.644702911376953, -8.639640808105469, -10.620346069335938, -3.01493763923645, -5.260324478149414, 11.899795532226562, 2.9123549461364746, 2.8890912532806396, 6.555512428283691, 12.854191780090332, -3.793931007385254, -5.106834888458252, 1.6202279329299927, -0.7588311433792114, -10.731075286865234, -12.340498924255371, 3.504321575164795, -12.940315246582031, 5.617429256439209, 7.353071212768555, 1.500882863998413, 6.681763648986816, -1.0853991508483887, 2.245941638946533, 0.9805803298950195, 1.621262550354004, -6.228024959564209, 8.098762512207031, 2.1107091903686523, -12.965282440185547, -12.06431770324707, -5.835229396820068, 9.182135581970215, -2.1834447383880615, -3.2174441814422607, -11.852432250976562, -3.318995714187622, 6.938407897949219, 10.433213233947754, -8.254596710205078, 11.261099815368652, -5.302183628082275, 10.073169708251953, 9.161141395568848, 1.1252013444900513, -1.051033854484558, 2.698976993560791, -2.153815746307373, -13.87803840637207, -10.927123069763184, 0.1368834525346756, 0.4049150347709656, -12.445561408996582, -8.208847045898438, -4.475112438201904, 4.582972049713135, -0.5020009279251099, 1.7098102569580078, -2.9277961254119873, 11.766905784606934, 3.7992870807647705, 5.065634250640869, 1.8473905324935913, 14.16480541229248, -5.184591770172119, 7.146602630615234, -10.225894927978516, 9.292341232299805, 5.736969947814941, -5.126078128814697, 6.9601216316223145, 1.0886378288269043, -0.7317709922790527, -8.971543312072754, -2.3593673706054688, -7.072754859924316, -4.791402816772461, 3.37164568901062, 8.435604095458984, 2.1403956413269043, -9.134844779968262, 4.831974029541016, 4.367924213409424, -9.849541664123535, -10.518209457397461, -7.619220733642578, -7.452634811401367, 12.575169563293457, 11.313286781311035, -2.302856683731079, -6.3063740730285645, 3.2943167686462402, 5.750997543334961, 8.567756652832031, -9.033553123474121, -6.401919841766357], \"y\": [-5.429752826690674, 10.494144439697266, -12.474437713623047, -3.029266595840454, -15.633793830871582, 2.1948294639587402, 14.04781436920166, -1.0536009073257446, 0.04366396740078926, -1.2981047630310059, 2.042389392852783, -14.461180686950684, -1.173110008239746, -10.220781326293945, -6.596944808959961, -6.854416370391846, -1.1051641702651978, 9.502619743347168, -11.906684875488281, -13.81797981262207, 2.6727044582366943, -9.311762809753418, -10.703990936279297, 0.39615345001220703, -1.7119885683059692, -9.336567878723145, -13.990880012512207, 1.6185787916183472, -9.8844575881958, -5.098428249359131, -2.018097400665283, 12.231749534606934, -8.841792106628418, -6.058266639709473, 5.023092746734619, -8.750248908996582, -2.949843168258667, 1.6115039587020874, -8.66602611541748, 2.555119276046753, 13.710939407348633, -4.9744439125061035, 8.718645095825195, -2.1530017852783203, -6.155182361602783, -6.809678554534912, -5.653666973114014, 0.31523600220680237, -14.308061599731445, 11.936830520629883, -0.6681004166603088, -10.986371994018555, 4.7967753410339355, -6.746074676513672, 0.4081119894981384, 16.2700138092041, 3.7110164165496826, 7.600803852081299, -5.9925336837768555, -9.546540260314941, 4.884825229644775, 4.856478691101074, -8.704523086547852, -4.4837646484375, 9.468832015991211, -5.320324420928955, 8.106828689575195, 8.915349006652832, -13.624829292297363, 1.0888947248458862, -8.073305130004883, -3.061375856399536, -7.828036308288574, -0.6763688325881958, -7.258544445037842, -5.548398971557617, -11.169154167175293, -6.048285961151123, -6.206619739532471, -6.127293586730957, -5.7456254959106445, -7.4734392166137695, -11.280152320861816, 4.677438735961914, 11.954553604125977, 6.527571201324463, 9.547903060913086, 12.102583885192871, 4.971949577331543, -9.809860229492188, -7.347616195678711, 1.3514788150787354, 8.20047664642334, 15.433538436889648, 13.623251914978027, -9.011322975158691, 5.734118938446045, 6.722475528717041, 3.459441661834717, -10.840439796447754, -8.349823951721191, 12.45417308807373, 6.555174350738525, 6.453927516937256, -7.1738739013671875, -1.115896463394165, 5.804136276245117, 9.810153007507324, -8.059189796447754, -5.655641555786133, -10.426046371459961, -10.157099723815918, 3.725752115249634, -4.921098709106445, -13.908709526062012, -8.285906791687012, 16.37554931640625, 15.752889633178711, -1.7720379829406738, 2.927696466445923, -7.967374324798584, 3.102222442626953, 8.774104118347168, 10.254362106323242, 1.4163142442703247, 9.156938552856445, 11.9449462890625, -2.5254316329956055, 11.2984037399292, 8.223401069641113, 4.396793365478516, 5.8712263107299805, -1.867564082145691, 12.115700721740723, 12.810639381408691, -3.465322494506836, -12.309971809387207, -3.6677358150482178, 9.807427406311035, 4.1951799392700195, -0.5372574925422668, -9.9971342086792, 6.65283203125, -12.895413398742676, 3.2892353534698486, -3.3008370399475098, 0.7595266699790955, 13.944143295288086, 10.464692115783691, 3.9194376468658447, -11.004721641540527, -6.116434574127197, 4.145442485809326, 7.737249851226807, -8.7184419631958, 5.657559394836426, 11.160101890563965, 11.344902992248535, -4.715373992919922, 0.14877881109714508, 15.95952033996582, 7.1082868576049805, -3.3235623836517334, -6.56557035446167, -1.38112211227417, 11.584097862243652, -1.294113278388977, -6.533432960510254, -9.354058265686035, 1.661187767982483, 6.070644855499268, 5.650699138641357, -0.7228601574897766, -12.93350601196289, 3.088207483291626, 12.289348602294922, -0.2439720183610916, -12.234339714050293, 10.832237243652344, -3.377192497253418, 4.268728256225586, 0.6274417638778687, 12.110600471496582, -4.93908166885376, -6.023304462432861, 16.70284080505371, -5.229281902313232, 4.87648344039917, -4.238434314727783, -6.202280521392822, 13.281132698059082, -13.830305099487305, 1.266963243484497, -13.69294261932373, 15.020517349243164, 14.542516708374023, 5.183502674102783, 9.77791690826416, -8.642374992370605, 1.5761197805404663, 2.6708614826202393, 4.290148735046387, 13.060469627380371, -11.613228797912598, -12.794007301330566, 12.776546478271484, -7.489123344421387, 3.269688844680786, 1.2246440649032593, 11.249678611755371, 3.66304087638855, -5.961020469665527, -7.38993501663208, -9.199503898620605, 3.0705161094665527, 4.851195812225342, 10.778986930847168, -5.8563618659973145, -7.7906107902526855, 3.0633347034454346, -13.354395866394043, 8.335230827331543, -11.55574893951416, -8.117635726928711, 14.740937232971191, -6.402097702026367, 10.381638526916504, -4.787502765655518, 12.896652221679688, -4.9359450340271, 13.873373985290527, 8.436173439025879, -2.6025338172912598, -3.508761405944824, 4.528287887573242, 8.099596977233887, 1.0486645698547363, -6.109609603881836, -2.6290738582611084, -12.348017692565918, 3.6362643241882324, 6.237062931060791, -10.244561195373535, 11.83041763305664, -1.7334892749786377, 14.328190803527832, -3.364711284637451, -4.196816921234131, 10.582358360290527, -11.344301223754883, 7.414714813232422, 4.005199909210205, -3.0879697799682617, 6.812030792236328, -1.5238817930221558, -0.08750598132610321, -4.73371696472168, 14.051065444946289, -5.1522955894470215, 2.9204301834106445, -11.280158042907715, 5.667306900024414, -14.108979225158691, 4.143709182739258, 6.685537338256836, 11.49960708618164, -4.197701930999756, 14.999751091003418, -7.8773603439331055, 8.496904373168945, 8.505012512207031, 14.072612762451172, -4.964879035949707, -10.841863632202148, -0.8720309138298035, 9.291214942932129, -8.547758102416992, -13.92864990234375, 9.031283378601074, -3.95165753364563, 10.034409523010254, -10.598586082458496, -2.8455607891082764, -4.32084846496582, -13.176276206970215, 9.070308685302734, 5.809615612030029, 8.5794677734375, 13.20155143737793, -7.653647422790527, -10.873299598693848, 10.395599365234375, 5.521185874938965, 8.799654960632324, 4.943370342254639, 1.4792871475219727, 0.32383692264556885, -5.282627582550049, 5.2807440757751465, -5.564701557159424, 7.190731048583984, 15.455488204956055, -6.919083595275879, -2.016482353210449, -0.9693335890769958, -4.579067230224609, 6.976409912109375, -4.417288780212402, 13.263005256652832, -5.763022422790527, -5.378559589385986, 14.687272071838379, 0.21371594071388245, -11.931708335876465, 5.792082786560059, -6.181503772735596, 1.7291663885116577, 12.897997856140137, -5.101379871368408, 13.341167449951172, 6.6146721839904785, -3.7386746406555176, -2.904860019683838, 8.206783294677734, -8.795342445373535, -7.415112495422363, -5.600160598754883, -3.8148982524871826, -8.098926544189453, -0.3575809597969055, 15.236024856567383, -7.142217636108398, 8.093608856201172, 4.720768928527832, 11.946266174316406, -10.541701316833496, 8.95618724822998, -2.9412953853607178, -5.053884983062744, -7.163695335388184, -3.6351523399353027, -3.7421810626983643, -1.70698082447052, 8.36034107208252, -1.652610182762146, -9.569798469543457, 12.530200958251953, 13.52507495880127, -2.0094408988952637, -6.884475231170654, 3.2241506576538086, -4.104541301727295, 2.5646121501922607, 13.922914505004883, 5.801623821258545, -3.723358154296875, 5.294172763824463, 7.079432010650635, -9.078001976013184, -9.555676460266113, 9.164604187011719, 7.363093376159668, -0.39695078134536743, 12.241193771362305, -2.251925468444824, -3.2314953804016113, -6.436047077178955, 16.85405158996582, 14.072318077087402, 10.472329139709473, 7.647915363311768, 3.732797384262085, -12.403764724731445, -7.394551753997803, -2.9420769214630127, 8.899333953857422, -6.352156162261963, -1.1688001155853271, 13.735077857971191, -9.32755184173584, -0.12134435027837753, 3.313358783721924, -6.452313423156738, -6.628409385681152, 8.917807579040527, 6.169477462768555, 5.167878150939941, 4.615271091461182, 1.9774212837219238, -10.264958381652832, 7.20702600479126, 5.161618709564209, -5.880186080932617, -5.794593334197998, 3.897606372833252, 13.911524772644043, -1.1059041023254395, -2.1414029598236084, -7.739004135131836, -2.914644241333008, 2.6390204429626465, 6.9625115394592285, 14.951205253601074, 12.51230239868164, -3.232560634613037, 15.160003662109375, -10.609696388244629, 2.616957187652588, 1.228118658065796, 10.567570686340332, 9.686450004577637, -8.615830421447754, -7.398543834686279, -4.463548183441162, 10.708617210388184, 8.609944343566895, 11.775384902954102, 11.781150817871094, -3.624391555786133, -9.453643798828125, -10.481290817260742, 7.178475856781006, 8.359363555908203, 8.776233673095703, -9.398348808288574, 13.201582908630371, 13.87758731842041, -0.6574929356575012, -7.192474842071533, -10.805816650390625, -8.263245582580566, 15.991181373596191, 4.543453693389893, -2.0133938789367676, -8.431681632995605, 4.4311113357543945, 4.152007102966309, -11.78024959564209, -7.837852478027344, -12.665432929992676, -1.6779760122299194, -5.460721015930176, -13.266407012939453, -11.097768783569336, 5.474579334259033, -0.5908802151679993, -6.6201348304748535, 8.370037078857422, -10.34774112701416, 1.102331519126892, 6.947423934936523, -12.513571739196777, 9.640167236328125, -4.612078666687012, 2.829965114593506, 12.49084186553955, 1.5787782669067383, -11.953139305114746, -6.142289161682129, -7.8749189376831055, 8.978063583374023, -12.141870498657227, 8.536725997924805, -5.069624900817871, 1.1109495162963867, -7.252819538116455, -8.342174530029297, -5.890848159790039, 12.011899948120117, -10.09660816192627, -7.578352928161621, 4.344676494598389, 9.78405475616455, -3.65120267868042, 8.287545204162598, 15.116525650024414, 13.902504920959473, -1.4957375526428223, -3.1143128871917725, 10.771692276000977, 11.956648826599121, 5.779477596282959, -1.7349905967712402, -10.077547073364258, 16.39594078063965, -11.233195304870605, 4.6221466064453125, -6.894680023193359, -3.867922306060791, -13.409283638000488, -4.091031551361084, 1.9111268520355225, -2.515286684036255, -7.548434734344482, -10.279121398925781, 0.40535953640937805, 10.014046669006348, 1.1653499603271484, 7.101919651031494, -9.745122909545898, 9.942480087280273, 1.8888685703277588, -8.270723342895508, 4.543770790100098, -6.752885818481445, -12.896565437316895, -6.482664585113525, 12.956891059875488, -7.4849371910095215, -0.083086758852005, -14.521373748779297, 11.649116516113281, 6.67363166809082, -6.631879806518555, -6.110245704650879, 8.550782203674316, 8.096670150756836, -6.388575077056885, 3.0761663913726807, 7.245169162750244, -9.20466136932373, -9.955988883972168, -4.70783805847168, -7.782939434051514, -8.235274314880371, 16.664480209350586, -5.8458099365234375, 15.464213371276855, 2.6465044021606445, -6.366627216339111, 6.550271511077881, -6.278201103210449, 0.13349410891532898, 7.2034525871276855, 2.251328706741333, -4.651289463043213, 11.443737030029297, -11.694350242614746, -2.242673873901367, 8.829740524291992, 4.465882778167725, 0.7773532867431641, 9.507986068725586, 11.272703170776367, 13.576443672180176, -0.4970029890537262, -2.441333293914795, -0.6139357686042786, -0.179146870970726, -2.6540701389312744, 8.04194164276123, -5.024023056030273, -12.483896255493164, -4.829913139343262, 8.633459091186523, 6.34529972076416, 0.6605554223060608, -6.049598217010498, -4.706925868988037, -0.11511847376823425, -11.677042007446289, -7.722097396850586, 9.500324249267578, 2.0482780933380127, 4.897686958312988, -7.853877067565918, 11.200769424438477, 2.098073959350586, 0.7396319508552551, 2.907456398010254, -6.0243353843688965, 2.49698805809021, -2.0875251293182373, -7.221848487854004, 10.824467658996582, -6.928144454956055, 11.90294075012207, 12.622282028198242, -4.531454563140869, -8.54706859588623, -9.634840965270996, -6.446672439575195, -7.930285930633545, 12.508769989013672, 13.076584815979004, -7.780036926269531, -6.141729831695557, 7.4628682136535645, 15.64769458770752, -6.340059280395508, 7.3053388595581055, 10.677739143371582, -0.560716986656189, -2.84468412399292, 1.1159138679504395, 6.45316743850708, -2.0547220706939697, -7.2224602699279785, -0.7529850602149963, -11.106250762939453, -1.9969903230667114, 2.431727170944214, -0.6487716436386108, 14.957419395446777, 1.2387596368789673, 10.102276802062988, -3.7329835891723633, -8.688543319702148, 3.5342512130737305, 7.848566055297852, -4.400979042053223, -9.457789421081543, -9.451026916503906, -4.9047160148620605, -4.459957599639893, 9.82948112487793, 3.969715118408203, 4.584237098693848, 1.546116590499878, -6.0500969886779785, -0.5145105123519897, 5.857011318206787, 7.304651737213135, 2.5036725997924805, -7.889054298400879, -4.460686683654785, 15.965836524963379, -14.656946182250977, 3.043247938156128, -5.461766719818115, 3.6386594772338867, 9.206485748291016, -6.602902412414551, -10.574262619018555, -9.823186874389648, -2.435991048812866, 2.410628080368042, -0.14676690101623535, 2.9099035263061523, 0.7686209082603455, -12.702067375183105, 11.382508277893066, 14.499730110168457, -9.449766159057617, -8.04808235168457, -3.3327367305755615, -10.188201904296875, -3.327302932739258, -1.9532039165496826, -4.94150447845459, 10.350969314575195, 11.425379753112793, 3.357912540435791, -1.8470311164855957, 12.665545463562012, 8.80580997467041, -11.158635139465332, -4.804768085479736, 3.7284932136535645, -5.616790771484375, -6.470348358154297, 5.57309103012085, 0.8353775143623352, -5.506836414337158, 0.13673189282417297, 1.0322786569595337, -4.470150470733643, 12.527237892150879, 9.953898429870605, 12.877763748168945, 4.007437705993652, -3.2786507606506348, 8.301135063171387, 0.5206009149551392, 0.13620711863040924, 8.479491233825684, 11.416088104248047, 3.1376404762268066, -1.047863245010376, 11.968169212341309, -8.945911407470703, 8.896093368530273, -3.5600688457489014, -0.5132907629013062, 10.980386734008789, 13.07805061340332, -3.203136682510376, 13.525391578674316, 1.768857717514038, -6.588263034820557, -8.09805965423584, -4.4045090675354, -7.768041610717773, 3.7090554237365723, 2.331519842147827, 0.21573702991008759, -8.755439758300781, -6.589896202087402, -5.334767818450928, -5.392796516418457, 3.3142199516296387, -5.537679195404053, -10.23526668548584, -9.926826477050781, -2.0890488624572754, 15.597464561462402, 0.1920827478170395, -7.799477577209473, -1.6854268312454224, -2.5048184394836426, -5.954648017883301, 10.94133472442627, 1.9610117673873901, -9.351693153381348, 4.118010520935059, 2.3848278522491455, 2.3995468616485596, -6.377269744873047, 4.047671318054199, 7.48499059677124, -11.96055793762207, 16.7000675201416, 4.159581184387207, -10.929337501525879, 0.5658954381942749, -8.856752395629883, 0.8859951496124268, 0.08852703124284744, -2.3519105911254883, 2.1418449878692627, 3.971297025680542, -11.93847370147705, 0.2945907711982727, -0.25011229515075684, 1.793662428855896, 2.6702592372894287, -8.738116264343262, -4.030638217926025, -5.486598491668701, -5.331748962402344, 4.394285678863525, -4.519292831420898, -4.950615882873535, -3.502781629562378, -7.971369743347168, -5.183112144470215, -8.364080429077148, 2.8426854610443115, -12.157923698425293, -6.944836139678955, 10.093770980834961, -12.50097370147705, 14.357429504394531, 15.081050872802734, 10.455296516418457, -12.691368103027344, -5.975505352020264, 5.7358832359313965, -6.913775444030762, 12.748455047607422, -5.438838958740234, 8.393728256225586, 6.845998287200928, 13.476318359375, -6.248679161071777, 16.38470458984375, 15.24312686920166, -13.47066879272461, 13.020699501037598, -14.490994453430176, -5.6778388023376465, -3.085582971572876, -0.29270946979522705, 13.648536682128906, -6.659976482391357, 11.455718040466309, 3.0033557415008545, 3.5890495777130127, -6.4908318519592285, -6.326511859893799, -7.287469863891602, 15.760127067565918, 5.839966773986816, -10.556355476379395, -4.222306728363037, -6.479166507720947, 6.884068965911865, 0.475458025932312, -7.180973052978516, -6.5875468254089355, -3.2264392375946045, -5.220529556274414, -4.840885162353516, -4.878052711486816, 15.73698902130127, 12.043655395507812, 9.442667961120605, -10.83122730255127, -6.810255527496338, 14.368825912475586, 5.681614398956299, 3.056487560272217, 2.7807464599609375, 10.923700332641602, -12.862269401550293, 12.257745742797852, 8.415725708007812, 6.348333835601807, -0.22062832117080688, 6.7796502113342285, -11.510104179382324, -2.385728597640991, -5.573889255523682, -10.261678695678711, 5.811644554138184, -10.18528938293457, 7.3276801109313965, -4.192204475402832, 0.10270719975233078, -1.1320611238479614, 2.1430768966674805, -11.605156898498535, -5.60732889175415, 7.81443452835083, 6.149034023284912, 4.572590351104736, -0.05838565528392792, -6.751739501953125, -6.66227388381958, -7.050649166107178, 6.233521461486816, -8.707168579101562, -8.808430671691895, -2.7478761672973633, -12.380233764648438, 0.8862488865852356, -12.249592781066895, -14.039485931396484, 2.6225502490997314, 7.987259387969971, -7.249135971069336, 6.217856407165527, -1.6393845081329346, 9.442801475524902, 13.465214729309082, 1.5309797525405884, 6.634698867797852, -7.0395941734313965, -10.328638076782227, 1.2844781875610352, 0.5391960144042969, -9.643853187561035, 8.143074989318848, -7.4982194900512695, 2.6092333793640137, 7.681286334991455, 4.513872146606445, 0.6801154613494873, -6.335091590881348, -4.766372203826904, -8.811176300048828, -5.58671760559082, 0.09743767976760864, -8.487834930419922, 6.872291088104248, -3.4623403549194336, 16.242475509643555, -6.538164138793945, 1.1428961753845215, -9.759438514709473, 1.2125091552734375, 7.9501471519470215, 9.500088691711426, -10.132026672363281, 14.45907211303711, 7.07471227645874, 4.382813453674316, 5.556269645690918, -3.697519540786743, -11.408020973205566, -10.732271194458008, -2.5180459022521973, -3.2171969413757324, -4.353439807891846, -2.072906494140625, 3.1642684936523438, -6.493918418884277, 5.519028663635254, -5.128793239593506, -2.8266937732696533, -11.830636024475098, -5.240222454071045, -8.7418794631958, -3.397263288497925, -5.389688491821289, -7.254549503326416, -3.6880338191986084, 13.019683837890625, 2.325838804244995, 4.618277549743652, 8.016897201538086, 6.008110046386719, 10.366562843322754, -4.608692646026611, -8.959807395935059, -11.81626033782959, -0.01761673204600811, 12.790853500366211, -8.283052444458008, -7.801987648010254, 7.9790568351745605, 7.234260559082031, 8.250998497009277, -7.218099117279053, -4.530679225921631, -14.861531257629395, -3.2130446434020996, 8.10263442993164, 1.1189162731170654, 2.7759037017822266, -9.387970924377441, -2.0815558433532715, 3.0804800987243652, -4.210775375366211, 8.044135093688965, -11.367879867553711, 14.02851676940918, -3.6056277751922607, 5.291079998016357, 8.088560104370117, -15.142248153686523, 7.352272033691406, 9.12584114074707, -5.833222389221191, -1.9843257665634155, -10.410778999328613, 5.735997200012207, -11.52412223815918, 10.557597160339355, 2.2691521644592285, -9.965609550476074, 4.608108997344971, -5.865650653839111, 1.2970818281173706, -4.71295166015625, -5.959514617919922, -4.110017776489258, -3.8585853576660156, 8.52046012878418, 14.58629035949707, -2.598884105682373, 2.869109630584717, -3.8910067081451416, -2.925516366958618, 4.089487552642822, 11.736217498779297, 2.446331739425659, -4.678577899932861, -2.665635824203491, 4.47444486618042, 15.931197166442871, 7.150100231170654, -11.925812721252441, -5.806179046630859, -4.5197834968566895, 11.897340774536133, 8.390763282775879, -5.18199348449707, -4.85480260848999, 7.739616394042969, -7.765316486358643, -7.9965715408325195, -3.198071241378784, -14.65649700164795, -4.712411880493164, 12.489593505859375, 11.045217514038086, -7.632387161254883, 0.36631909012794495, 0.9276485443115234, -4.678757667541504, -8.549703598022461, -5.242379665374756, 16.236326217651367, -6.94800329208374, 7.116992473602295, 5.350544452667236, 0.9902804493904114, 2.503340482711792, -11.814590454101562, -0.5798557996749878, -5.182210445404053, -3.0383806228637695, -11.470757484436035, -5.214533805847168, -3.7331008911132812, 3.889543294906616, -7.113683700561523, -1.3378688097000122, -12.069960594177246], \"z\": [5.483142375946045, 1.1757292747497559, -4.099752426147461, -11.729506492614746, -4.3767242431640625, -8.5206880569458, 1.5999219417572021, -9.819886207580566, -0.6814135909080505, 9.982383728027344, -10.503100395202637, -8.417625427246094, -15.079407691955566, 1.1398383378982544, -3.5796890258789062, -13.253168106079102, -15.084918022155762, 6.850008964538574, -4.280704498291016, -7.417510509490967, -8.228553771972656, 3.3846561908721924, -0.2871212363243103, -1.2664475440979004, -6.332201957702637, 0.3519783616065979, -7.441273212432861, 4.2866291999816895, -5.530114650726318, -6.731865406036377, 0.8613041043281555, -2.7069451808929443, 3.571251153945923, -3.2268669605255127, 0.4814985990524292, 1.6145586967468262, -0.6156283020973206, 4.744685649871826, 4.887181282043457, -8.429370880126953, 5.212716102600098, -5.190616130828857, 7.873423099517822, -6.3126373291015625, -4.227649688720703, -13.978229522705078, -3.5708248615264893, -0.8006799817085266, -8.127676010131836, 7.644952297210693, -13.83214282989502, -4.196828842163086, 3.1028780937194824, -13.879841804504395, -9.845358848571777, -4.095595359802246, -8.917656898498535, -1.362286925315857, -3.709764003753662, -6.604610919952393, 1.3158379793167114, 4.868643760681152, -12.30074405670166, -5.536818504333496, 8.276448249816895, -2.8631856441497803, -0.47325560450553894, 7.022284030914307, -7.2813191413879395, -6.992753505706787, -7.911019325256348, -9.483868598937988, 7.979113578796387, -13.129373550415039, 8.255474090576172, 2.7032153606414795, -7.099155902862549, -9.426787376403809, 12.584012031555176, 11.02807331085205, 10.403627395629883, 5.153550148010254, -3.845555067062378, 3.627423048019409, 0.3933505117893219, -0.6423641443252563, 5.186870098114014, 5.429347515106201, -2.8394885063171387, 5.576453685760498, 3.7532708644866943, -10.776498794555664, 9.268746376037598, 2.7174723148345947, -2.0414066314697266, -11.019220352172852, 6.599747180938721, -1.3536925315856934, 4.018505573272705, -6.410621643066406, 6.552773475646973, 6.239980220794678, -0.6196640133857727, 3.9136955738067627, -12.183327674865723, 9.784049034118652, 6.783553600311279, -2.2968926429748535, 8.342584609985352, -8.22155475616455, 6.479483604431152, 6.542635917663574, -12.258330345153809, 6.625711441040039, -5.4368062019348145, 7.818789005279541, -0.06088675558567047, 2.8198695182800293, -12.094400405883789, 5.4448161125183105, 8.601251602172852, -1.8417779207229614, -3.748845100402832, 6.68696928024292, 3.1082446575164795, 0.6339230537414551, -2.7613322734832764, -10.489506721496582, 0.47654083371162415, 1.0203092098236084, -1.5304734706878662, 5.842686176300049, -13.448837280273438, -0.5389612913131714, 5.068875312805176, 5.173187732696533, -2.969658851623535, -12.93466567993164, -0.6342583298683167, 2.405223846435547, -12.860569953918457, 4.008679389953613, 3.0747735500335693, -4.574587821960449, 6.0295281410217285, 10.8341646194458, -8.713024139404297, 6.685666561126709, -0.11635842174291611, 5.167342662811279, 6.1708550453186035, 6.452568054199219, -2.929072618484497, 3.0071725845336914, 4.32316255569458, 7.055478096008301, 8.409956932067871, 5.398457050323486, 10.105148315429688, -11.445180892944336, -0.5276778936386108, -0.5272841453552246, 9.03472900390625, 13.445230484008789, -10.165860176086426, 5.091126441955566, -13.325994491577148, -5.61256217956543, -4.835769176483154, 4.875570297241211, 7.3519768714904785, -1.4932552576065063, -7.6352458000183105, -3.5388286113739014, 0.5821172595024109, 6.258951187133789, -9.374356269836426, -3.3534014225006104, -0.8970908522605896, -11.615937232971191, -1.138541340827942, -5.5164594650268555, -4.024750709533691, -6.591492176055908, -5.826449394226074, 0.7818442583084106, -7.079919815063477, -0.7194377779960632, 9.137150764465332, 6.504330158233643, 6.425262451171875, -5.081240177154541, -11.213109016418457, -4.396360874176025, 3.3502957820892334, -0.03268050029873848, -1.9138888120651245, -3.970914602279663, 7.099171161651611, 2.2157135009765625, -2.3243470191955566, 3.624180793762207, -3.621990442276001, -4.523868083953857, -4.261099815368652, -2.860273838043213, 12.903396606445312, -2.423766851425171, -6.325814247131348, -1.729091763496399, 1.4434292316436768, -9.288859367370605, -8.270048141479492, 6.875998020172119, -1.9861587285995483, -1.0056577920913696, -1.2010775804519653, -11.026591300964355, -10.49755573272705, 1.1806716918945312, -4.377161979675293, 0.260908842086792, -5.200237274169922, 9.808076858520508, 4.798789024353027, 12.678513526916504, 7.646358966827393, 9.140396118164062, 4.481296539306641, -9.275567054748535, 0.8964492678642273, 9.240715026855469, -12.085165023803711, -12.582563400268555, 4.39634370803833, 0.036258354783058167, 2.4508376121520996, 6.593808650970459, -10.197967529296875, -2.229384422302246, -2.564758777618408, -3.7369799613952637, -2.805044651031494, 3.3804874420166016, -7.742020130157471, 5.404915809631348, 7.098474502563477, 11.522299766540527, 7.383999824523926, -1.3402734994888306, 0.11071708798408508, 1.114824891090393, -9.286437034606934, -0.23930278420448303, 10.437555313110352, 0.08999564498662949, 5.798036575317383, 4.0029215812683105, -9.738222122192383, 5.571832656860352, -2.2951977252960205, 0.3341608941555023, -3.953585147857666, -0.0988645851612091, 1.1292507648468018, 3.239964723587036, -12.6550874710083, 1.6426565647125244, 8.094073295593262, -4.9575629234313965, -2.1987249851226807, -3.334822654724121, 4.6042609214782715, -1.773934245109558, -10.672255516052246, 2.1982946395874023, -10.572824478149414, -5.238167762756348, -1.3413118124008179, 9.026202201843262, 7.161924362182617, -1.8924015760421753, 9.916414260864258, 2.905578374862671, -5.578969478607178, 1.9003257751464844, 5.664264678955078, 0.1669754534959793, 4.205387592315674, 7.131295680999756, 5.348716735839844, -1.2433186769485474, 6.91765832901001, 2.2037696838378906, 3.6315438747406006, -12.930675506591797, -8.422347068786621, 13.268061637878418, 4.671507835388184, 4.626372814178467, -0.63828045129776, 3.436863422393799, -7.720376014709473, -8.508554458618164, -7.1343231201171875, 8.154205322265625, -2.123521327972412, 8.152007102966309, 5.748618125915527, -5.73970890045166, -5.612258434295654, 5.61415958404541, -5.010720729827881, -2.030303955078125, -3.4549062252044678, 5.655401706695557, 4.64412784576416, 1.521944284439087, 9.074617385864258, -3.5033249855041504, -0.4488680958747864, 6.047134876251221, -10.51158332824707, -1.5367261171340942, 10.64451789855957, 3.3723561763763428, -12.10423469543457, -11.871249198913574, -4.162898063659668, -8.082063674926758, 1.7077150344848633, -11.210563659667969, 1.28460693359375, 6.707015037536621, 5.958433151245117, -6.113737106323242, 0.2601151764392853, 4.7284464836120605, -7.199972629547119, -10.25605297088623, 4.439572811126709, 11.171077728271484, -12.346508026123047, 2.7840940952301025, -9.971556663513184, -4.035688877105713, -1.257322907447815, 3.8515846729278564, -10.855122566223145, -11.67114543914795, 1.5742371082305908, 4.419893264770508, 4.946126461029053, -2.8544185161590576, 5.728155136108398, 10.740330696105957, 1.723576307296753, 1.0131267309188843, -10.182662963867188, 2.37341570854187, 0.9528758525848389, -1.1236273050308228, 3.564488172531128, 6.320493221282959, -10.909650802612305, 9.4412260055542, -9.033289909362793, 2.429304838180542, 4.3209381103515625, -2.437070846557617, 6.827393054962158, -2.5488440990448, -6.791977405548096, -5.643407344818115, -10.517841339111328, 6.524250507354736, 8.460553169250488, -8.038317680358887, -3.1350255012512207, 3.2444729804992676, -11.002943992614746, 3.738154888153076, 6.926802635192871, 9.122668266296387, 1.1541029214859009, 6.993425369262695, 7.209421634674072, 6.0252461433410645, 1.3995112180709839, 6.644144535064697, 4.804921627044678, 6.709310531616211, 3.729717969894409, 6.992444038391113, 4.255257606506348, -3.1513102054595947, 9.366877555847168, -7.834228038787842, 3.6970956325531006, 7.920187950134277, 5.197144031524658, 2.6338677406311035, 5.757474422454834, -3.4986412525177, -8.090093612670898, 1.1046397686004639, -5.696503162384033, 5.0224928855896, -12.299857139587402, -4.957162857055664, 2.744964838027954, 4.511289596557617, -11.188417434692383, 9.03296947479248, -0.8100034594535828, 8.568914413452148, 7.070257663726807, 0.9440584778785706, -12.266968727111816, -4.477969646453857, 6.649581432342529, 5.011521816253662, 0.2667529582977295, -0.02238130383193493, -5.460380554199219, 4.912317276000977, 1.3222789764404297, -7.611815452575684, 6.849780559539795, -7.088662147521973, 7.189183235168457, 0.6697568297386169, 3.8413846492767334, -8.326419830322266, -8.27924633026123, -0.08340199291706085, 7.173341751098633, -6.082431316375732, 9.07503890991211, -5.0371809005737305, 9.775029182434082, 12.544679641723633, -4.9796977043151855, -8.747923851013184, -1.2682195901870728, -9.49390697479248, -8.01113224029541, 3.2831320762634277, -2.0464982986450195, -5.974059104919434, 3.7279512882232666, -3.68479061126709, 6.495336532592773, 8.523872375488281, -11.484396934509277, -2.5804195404052734, -0.8015449047088623, -2.873697280883789, 11.885228157043457, 9.492432594299316, 1.6754558086395264, -5.828013896942139, 8.354226112365723, 10.57524299621582, 0.1301969736814499, 3.9380197525024414, 8.075518608093262, -8.848600387573242, 5.215728759765625, -4.5312886238098145, 9.443140029907227, 7.592156887054443, 5.0400285720825195, 5.899832248687744, 6.303711414337158, 3.6578807830810547, -0.15070296823978424, -7.856508731842041, 4.849098205566406, 2.550794839859009, 5.554340839385986, 3.4613866806030273, -6.699733257293701, -7.072226524353027, 0.1582690328359604, -7.493753910064697, -1.8696937561035156, 7.71608829498291, 4.8406524658203125, -1.9759750366210938, 10.472590446472168, -12.268985748291016, -8.883323669433594, -7.56513786315918, -3.4304869174957275, -8.100083351135254, -4.8503923416137695, -11.829874038696289, 2.821638822555542, 6.451234817504883, -0.4372427761554718, 3.622652292251587, 3.256225347518921, -2.6079702377319336, 6.894917011260986, -2.025028944015503, 10.702272415161133, 2.970731258392334, 8.391280174255371, -4.795175552368164, -5.684041976928711, 4.791807651519775, -2.7164409160614014, -9.861786842346191, 12.804008483886719, 4.639422416687012, 1.2088297605514526, 11.484297752380371, 1.4661469459533691, -2.964186429977417, 8.257142066955566, -4.561514377593994, -8.900457382202148, -4.353981971740723, -11.118999481201172, 0.16202843189239502, 8.741227149963379, 3.537004232406616, 0.6074500679969788, 6.27437162399292, -0.8395980000495911, -9.144181251525879, -12.957385063171387, 7.128079414367676, -11.680195808410645, -5.636772632598877, -4.559290885925293, -5.600351333618164, 3.8971762657165527, -4.780979633331299, 0.8258744478225708, -9.228586196899414, 2.6641414165496826, -0.34678661823272705, 3.907689332962036, -14.430764198303223, 10.854751586914062, -9.904455184936523, -7.7841339111328125, 10.17603588104248, 5.260439872741699, 2.1820855140686035, -6.080168724060059, 10.060351371765137, 2.3881165981292725, 1.7725170850753784, -12.627996444702148, 7.191954612731934, -12.245314598083496, 0.14281851053237915, -8.715558052062988, -10.604190826416016, 2.4269490242004395, -8.809988021850586, 5.9080376625061035, 13.005443572998047, 6.79101037979126, 3.367626905441284, -6.898019313812256, -9.985369682312012, 6.187134265899658, -11.0704927444458, -9.00301742553711, -11.76569652557373, -2.3661789894104004, -6.406508922576904, 1.4570847749710083, 4.7134175300598145, 3.5874106884002686, 9.14874267578125, 6.522933006286621, 9.52141284942627, -5.5009260177612305, 0.797317385673523, 5.657958030700684, 13.024910926818848, 5.7304253578186035, 6.392849922180176, 3.8152740001678467, -9.167226791381836, 2.3355729579925537, 5.349453926086426, -0.43783074617385864, -8.477310180664062, 1.2944667339324951, 2.595330238342285, -9.677796363830566, -8.241177558898926, -7.183496952056885, -8.055830001831055, -12.739449501037598, -1.6677912473678589, -4.402595520019531, 1.3635083436965942, -8.018338203430176, -0.6111375689506531, -11.06287956237793, -11.176371574401855, 5.77452278137207, -1.203494668006897, -8.661968231201172, 5.7036356925964355, 8.481212615966797, 4.911373138427734, 9.689990043640137, 3.3095080852508545, -2.3304362297058105, -3.761427640914917, 4.139391899108887, 5.996680736541748, 2.3703107833862305, 3.1492724418640137, 0.6045613288879395, 1.8416035175323486, -4.562832832336426, -9.874616622924805, 0.07384216040372849, -6.077448844909668, 4.1296916007995605, 10.521519660949707, 0.7224066257476807, -3.810140371322632, 10.010481834411621, -4.204599380493164, 5.590301036834717, 3.8545522689819336, 0.8803837299346924, 2.359196424484253, -11.09591007232666, 2.164729356765747, -4.0912766456604, -1.8836256265640259, 0.05157256871461868, 3.77693772315979, -10.029550552368164, 9.70439338684082, -4.555670261383057, 6.584924221038818, -6.083317279815674, 4.188665866851807, 7.676563739776611, 6.946248531341553, 3.066499948501587, -13.51185131072998, 6.598031997680664, -1.890947699546814, -5.471356391906738, 3.2642335891723633, 5.810871124267578, -8.629100799560547, -7.769562721252441, 2.306199789047241, 0.21505169570446014, 5.257817268371582, -9.357840538024902, 2.3874971866607666, -11.69919490814209, -0.9456155300140381, -3.9093692302703857, 6.8587236404418945, 1.8185988664627075, 10.77122974395752, 1.2943662405014038, 3.2587974071502686, -10.393932342529297, 5.716296195983887, -1.8533564805984497, -12.721381187438965, -9.0322265625, -0.3856349587440491, -4.482292175292969, 7.118797302246094, 4.355669975280762, -7.7621049880981445, 1.9527734518051147, 6.467966556549072, 11.4403715133667, 4.460174560546875, -10.686527252197266, -6.115769863128662, -8.921600341796875, -5.5780487060546875, -10.658968925476074, -1.4360218048095703, -12.534467697143555, -13.061744689941406, 2.7552576065063477, 12.282325744628906, 11.154943466186523, -6.780303001403809, -3.6842002868652344, 14.409499168395996, 1.097922921180725, -5.50338077545166, 7.958287715911865, -3.39375638961792, -10.588106155395508, -11.163298606872559, 2.7121083736419678, -6.751468658447266, -3.1615946292877197, 6.055841445922852, 5.855390548706055, 0.1612251102924347, 8.85720157623291, -10.350534439086914, -8.383790969848633, -14.535895347595215, 8.9749174118042, 6.455238342285156, -4.283297061920166, 0.29963505268096924, -2.7200446128845215, -4.198000431060791, -2.7253024578094482, 3.5481882095336914, -5.562453269958496, -13.582916259765625, -11.158432960510254, -8.255990982055664, 1.6011918783187866, -7.779061794281006, 3.064659357070923, 5.052530765533447, -1.3731664419174194, -10.634635925292969, 7.106757164001465, 11.657413482666016, 12.694093704223633, -7.7688703536987305, 4.370270252227783, 2.223597288131714, 2.5367772579193115, -9.722883224487305, 3.639753580093384, 13.062088012695312, 9.85662841796875, -12.454764366149902, -2.9061498641967773, -8.17265796661377, 0.7709786295890808, -6.252429008483887, -1.661474347114563, 3.2853057384490967, 6.178920269012451, -3.6658549308776855, 11.044296264648438, 0.6013134121894836, -9.926749229431152, 3.04490327835083, -6.6736626625061035, 1.1443356275558472, 7.518877983093262, 6.688512802124023, 5.5285725593566895, 1.99893057346344, 1.1226227283477783, -5.970585346221924, 1.2726248502731323, -5.3191819190979, 10.775535583496094, 4.017382621765137, 1.218962550163269, 0.9196392297744751, 2.7860124111175537, 5.151634693145752, 4.033486843109131, -2.6109702587127686, 9.870217323303223, 3.155207872390747, 6.9995951652526855, 1.2646340131759644, -1.20729398727417, 6.358427047729492, 12.136322975158691, -7.3710808753967285, 1.4968187808990479, -10.3766508102417, 13.129117012023926, 12.671537399291992, -7.912495136260986, 7.3433918952941895, -8.998112678527832, 7.982784748077393, 2.657109498977661, -4.056413650512695, 6.359767436981201, -2.3739192485809326, 8.320087432861328, 6.872454643249512, -1.227121114730835, 4.551408767700195, 1.1417406797409058, 0.27929508686065674, -2.6378164291381836, 5.706639766693115, 4.149704456329346, 0.8005744218826294, -12.929627418518066, 7.090885639190674, -5.487083911895752, -9.876537322998047, 8.464489936828613, 6.4181809425354, -0.992983877658844, -2.1440885066986084, -0.9330416917800903, -8.977019309997559, -8.598357200622559, -10.505783081054688, -8.866327285766602, -1.728991150856018, 13.763631820678711, -1.7105928659439087, -2.1410152912139893, 7.519468307495117, -12.76070499420166, 11.49211311340332, 3.901362180709839, -9.3895902633667, 2.0574707984924316, 2.8538224697113037, -11.29380989074707, -8.871138572692871, -2.537454605102539, -8.120160102844238, -8.266552925109863, -4.3794474601745605, -8.357869148254395, 3.4710824489593506, 7.946124076843262, 3.7625017166137695, -10.852408409118652, -1.0112831592559814, 2.3704822063446045, -11.876325607299805, -4.3589348793029785, 8.595291137695312, 6.890339374542236, 3.3706140518188477, -12.515900611877441, 8.579912185668945, 3.068424940109253, 8.129860877990723, 1.2852309942245483, -3.6796464920043945, -0.10489235073328018, -14.121196746826172, 12.655349731445312, -9.216638565063477, 5.235498905181885, 11.739513397216797, -0.5356589555740356, 9.549872398376465, -2.633127212524414, -12.822465896606445, 2.6860175132751465, 12.526525497436523, -8.476960182189941, 4.587202548980713, -6.372874736785889, 5.422435283660889, 5.298877239227295, 7.613551139831543, -2.676952362060547, 7.024428844451904, 3.914522171020508, -2.7979819774627686, 3.1166083812713623, -4.202571868896484, 4.840294361114502, 9.935897827148438, 10.65383243560791, -10.300291061401367, -7.903457164764404, -12.302194595336914, 3.2373719215393066, 5.855057716369629, 5.181303024291992, -7.37421989440918, -5.13668155670166, -6.154664993286133, -4.783914566040039, 9.762511253356934, -5.611124515533447, 5.237226963043213, 5.667390823364258, 5.593567848205566, 0.3471929430961609, 1.9428309202194214, 0.2554028034210205, 0.7874650955200195, 5.503586769104004, -9.595431327819824, 10.576180458068848, -4.054267406463623, -8.617253303527832, -2.134202480316162, -4.789353847503662, 9.944427490234375, 2.257164239883423, 6.3075032234191895, 9.593547821044922, 8.643829345703125, -7.951838970184326, -6.003528118133545, 4.012439250946045, -3.459463119506836, -13.511247634887695, -11.421653747558594, 7.724167823791504, -13.281571388244629, 4.540987491607666, 8.081113815307617, -4.588897228240967, 5.793823719024658, -2.2699193954467773, 4.118776321411133, 4.381894588470459, -3.8206863403320312, -6.279782772064209, 4.744227409362793, 4.831789970397949, -8.290023803710938, -8.523275375366211, -6.561557292938232, 6.877086639404297, -4.897072792053223, -0.34394147992134094, -9.333636283874512, -6.06594181060791, -1.0871694087982178, 12.607337951660156, -12.715109825134277, 9.45069694519043, -8.452292442321777, 10.744670867919922, 6.996033191680908, -0.9005047082901001, -1.4206609725952148, 4.744950294494629, 4.585300922393799, -8.873679161071777, -11.433616638183594, 5.76141881942749, 7.086692810058594, -12.330378532409668, -7.738224029541016, -8.9924955368042, -2.9094667434692383, 3.8640658855438232, 5.331206321716309, -3.0310440063476562, 11.292192459106445, 3.5585994720458984, 4.617267608642578, 1.794461965560913, 9.938703536987305, -7.534103870391846, 1.7841527462005615, -10.166196823120117, 9.759696960449219, 4.200366497039795, -5.755447864532471, 9.315961837768555, 3.370922565460205, 3.1991424560546875, -10.694194793701172, 2.900240182876587, -10.159863471984863, -8.32303524017334, 6.59344482421875, 13.475052833557129, 1.3398939371109009, -10.771390914916992, 2.452334403991699, -2.7614240646362305, -7.9903564453125, -10.548237800598145, -7.75759220123291, -10.83318042755127, 8.099064826965332, 10.049884796142578, -4.99465799331665, -9.254034042358398, 4.156583786010742, 6.168563365936279, 12.70254135131836, -8.483393669128418, -8.045815467834473]}],\n",
       "                        {\"coloraxis\": {\"colorbar\": {\"title\": {\"text\": \"Label\"}}, \"colorscale\": [[0.0, \"#0d0887\"], [0.1111111111111111, \"#46039f\"], [0.2222222222222222, \"#7201a8\"], [0.3333333333333333, \"#9c179e\"], [0.4444444444444444, \"#bd3786\"], [0.5555555555555556, \"#d8576b\"], [0.6666666666666666, \"#ed7953\"], [0.7777777777777778, \"#fb9f3a\"], [0.8888888888888888, \"#fdca26\"], [1.0, \"#f0f921\"]]}, \"height\": 800, \"legend\": {\"tracegroupgap\": 0}, \"scene\": {\"domain\": {\"x\": [0.0, 1.0], \"y\": [0.0, 1.0]}, \"xaxis\": {\"title\": {\"text\": \"0\"}}, \"yaxis\": {\"title\": {\"text\": \"1\"}}, \"zaxis\": {\"title\": {\"text\": \"2\"}}}, \"template\": {\"data\": {\"bar\": [{\"error_x\": {\"color\": \"#2a3f5f\"}, \"error_y\": {\"color\": \"#2a3f5f\"}, \"marker\": {\"line\": {\"color\": \"#E5ECF6\", \"width\": 0.5}}, \"type\": \"bar\"}], \"barpolar\": [{\"marker\": {\"line\": {\"color\": \"#E5ECF6\", \"width\": 0.5}}, \"type\": \"barpolar\"}], \"carpet\": [{\"aaxis\": {\"endlinecolor\": \"#2a3f5f\", \"gridcolor\": \"white\", \"linecolor\": \"white\", \"minorgridcolor\": \"white\", \"startlinecolor\": \"#2a3f5f\"}, \"baxis\": {\"endlinecolor\": \"#2a3f5f\", \"gridcolor\": \"white\", \"linecolor\": \"white\", \"minorgridcolor\": \"white\", \"startlinecolor\": \"#2a3f5f\"}, \"type\": \"carpet\"}], \"choropleth\": [{\"colorbar\": {\"outlinewidth\": 0, \"ticks\": \"\"}, \"type\": \"choropleth\"}], \"contour\": [{\"colorbar\": {\"outlinewidth\": 0, \"ticks\": \"\"}, \"colorscale\": [[0.0, \"#0d0887\"], [0.1111111111111111, \"#46039f\"], [0.2222222222222222, \"#7201a8\"], [0.3333333333333333, \"#9c179e\"], [0.4444444444444444, \"#bd3786\"], [0.5555555555555556, \"#d8576b\"], [0.6666666666666666, \"#ed7953\"], [0.7777777777777778, \"#fb9f3a\"], [0.8888888888888888, \"#fdca26\"], [1.0, \"#f0f921\"]], \"type\": \"contour\"}], \"contourcarpet\": [{\"colorbar\": {\"outlinewidth\": 0, \"ticks\": \"\"}, \"type\": \"contourcarpet\"}], \"heatmap\": [{\"colorbar\": {\"outlinewidth\": 0, \"ticks\": \"\"}, \"colorscale\": [[0.0, \"#0d0887\"], [0.1111111111111111, \"#46039f\"], [0.2222222222222222, \"#7201a8\"], [0.3333333333333333, \"#9c179e\"], [0.4444444444444444, \"#bd3786\"], [0.5555555555555556, \"#d8576b\"], [0.6666666666666666, \"#ed7953\"], [0.7777777777777778, \"#fb9f3a\"], [0.8888888888888888, \"#fdca26\"], [1.0, \"#f0f921\"]], \"type\": \"heatmap\"}], \"heatmapgl\": [{\"colorbar\": {\"outlinewidth\": 0, \"ticks\": \"\"}, \"colorscale\": [[0.0, \"#0d0887\"], [0.1111111111111111, \"#46039f\"], [0.2222222222222222, \"#7201a8\"], [0.3333333333333333, \"#9c179e\"], [0.4444444444444444, \"#bd3786\"], [0.5555555555555556, \"#d8576b\"], [0.6666666666666666, \"#ed7953\"], [0.7777777777777778, \"#fb9f3a\"], [0.8888888888888888, \"#fdca26\"], [1.0, \"#f0f921\"]], \"type\": \"heatmapgl\"}], \"histogram\": [{\"marker\": {\"colorbar\": {\"outlinewidth\": 0, \"ticks\": \"\"}}, \"type\": \"histogram\"}], \"histogram2d\": [{\"colorbar\": {\"outlinewidth\": 0, \"ticks\": \"\"}, \"colorscale\": [[0.0, \"#0d0887\"], [0.1111111111111111, \"#46039f\"], [0.2222222222222222, \"#7201a8\"], [0.3333333333333333, \"#9c179e\"], [0.4444444444444444, \"#bd3786\"], [0.5555555555555556, \"#d8576b\"], [0.6666666666666666, \"#ed7953\"], [0.7777777777777778, \"#fb9f3a\"], [0.8888888888888888, \"#fdca26\"], [1.0, \"#f0f921\"]], \"type\": \"histogram2d\"}], \"histogram2dcontour\": [{\"colorbar\": {\"outlinewidth\": 0, \"ticks\": \"\"}, \"colorscale\": [[0.0, \"#0d0887\"], [0.1111111111111111, \"#46039f\"], [0.2222222222222222, \"#7201a8\"], [0.3333333333333333, \"#9c179e\"], [0.4444444444444444, \"#bd3786\"], [0.5555555555555556, \"#d8576b\"], [0.6666666666666666, \"#ed7953\"], [0.7777777777777778, \"#fb9f3a\"], [0.8888888888888888, \"#fdca26\"], [1.0, \"#f0f921\"]], \"type\": \"histogram2dcontour\"}], \"mesh3d\": [{\"colorbar\": {\"outlinewidth\": 0, \"ticks\": \"\"}, \"type\": \"mesh3d\"}], \"parcoords\": [{\"line\": {\"colorbar\": {\"outlinewidth\": 0, \"ticks\": \"\"}}, \"type\": \"parcoords\"}], \"pie\": [{\"automargin\": true, \"type\": \"pie\"}], \"scatter\": [{\"marker\": {\"colorbar\": {\"outlinewidth\": 0, \"ticks\": \"\"}}, \"type\": \"scatter\"}], \"scatter3d\": [{\"line\": {\"colorbar\": {\"outlinewidth\": 0, \"ticks\": \"\"}}, \"marker\": {\"colorbar\": {\"outlinewidth\": 0, \"ticks\": \"\"}}, \"type\": \"scatter3d\"}], \"scattercarpet\": [{\"marker\": {\"colorbar\": {\"outlinewidth\": 0, \"ticks\": \"\"}}, \"type\": \"scattercarpet\"}], \"scattergeo\": [{\"marker\": {\"colorbar\": {\"outlinewidth\": 0, \"ticks\": \"\"}}, \"type\": \"scattergeo\"}], \"scattergl\": [{\"marker\": {\"colorbar\": {\"outlinewidth\": 0, \"ticks\": \"\"}}, \"type\": \"scattergl\"}], \"scattermapbox\": [{\"marker\": {\"colorbar\": {\"outlinewidth\": 0, \"ticks\": \"\"}}, \"type\": \"scattermapbox\"}], \"scatterpolar\": [{\"marker\": {\"colorbar\": {\"outlinewidth\": 0, \"ticks\": \"\"}}, \"type\": \"scatterpolar\"}], \"scatterpolargl\": [{\"marker\": {\"colorbar\": {\"outlinewidth\": 0, \"ticks\": \"\"}}, \"type\": \"scatterpolargl\"}], \"scatterternary\": [{\"marker\": {\"colorbar\": {\"outlinewidth\": 0, \"ticks\": \"\"}}, \"type\": \"scatterternary\"}], \"surface\": [{\"colorbar\": {\"outlinewidth\": 0, \"ticks\": \"\"}, \"colorscale\": [[0.0, \"#0d0887\"], [0.1111111111111111, \"#46039f\"], [0.2222222222222222, \"#7201a8\"], [0.3333333333333333, \"#9c179e\"], [0.4444444444444444, \"#bd3786\"], [0.5555555555555556, \"#d8576b\"], [0.6666666666666666, \"#ed7953\"], [0.7777777777777778, \"#fb9f3a\"], [0.8888888888888888, \"#fdca26\"], [1.0, \"#f0f921\"]], \"type\": \"surface\"}], \"table\": [{\"cells\": {\"fill\": {\"color\": \"#EBF0F8\"}, \"line\": {\"color\": \"white\"}}, \"header\": {\"fill\": {\"color\": \"#C8D4E3\"}, \"line\": {\"color\": \"white\"}}, \"type\": \"table\"}]}, \"layout\": {\"annotationdefaults\": {\"arrowcolor\": \"#2a3f5f\", \"arrowhead\": 0, \"arrowwidth\": 1}, \"coloraxis\": {\"colorbar\": {\"outlinewidth\": 0, \"ticks\": \"\"}}, \"colorscale\": {\"diverging\": [[0, \"#8e0152\"], [0.1, \"#c51b7d\"], [0.2, \"#de77ae\"], [0.3, \"#f1b6da\"], [0.4, \"#fde0ef\"], [0.5, \"#f7f7f7\"], [0.6, \"#e6f5d0\"], [0.7, \"#b8e186\"], [0.8, \"#7fbc41\"], [0.9, \"#4d9221\"], [1, \"#276419\"]], \"sequential\": [[0.0, \"#0d0887\"], [0.1111111111111111, \"#46039f\"], [0.2222222222222222, \"#7201a8\"], [0.3333333333333333, \"#9c179e\"], [0.4444444444444444, \"#bd3786\"], [0.5555555555555556, \"#d8576b\"], [0.6666666666666666, \"#ed7953\"], [0.7777777777777778, \"#fb9f3a\"], [0.8888888888888888, \"#fdca26\"], [1.0, \"#f0f921\"]], \"sequentialminus\": [[0.0, \"#0d0887\"], [0.1111111111111111, \"#46039f\"], [0.2222222222222222, \"#7201a8\"], [0.3333333333333333, \"#9c179e\"], [0.4444444444444444, \"#bd3786\"], [0.5555555555555556, \"#d8576b\"], [0.6666666666666666, \"#ed7953\"], [0.7777777777777778, \"#fb9f3a\"], [0.8888888888888888, \"#fdca26\"], [1.0, \"#f0f921\"]]}, \"colorway\": [\"#636efa\", \"#EF553B\", \"#00cc96\", \"#ab63fa\", \"#FFA15A\", \"#19d3f3\", \"#FF6692\", \"#B6E880\", \"#FF97FF\", \"#FECB52\"], \"font\": {\"color\": \"#2a3f5f\"}, \"geo\": {\"bgcolor\": \"white\", \"lakecolor\": \"white\", \"landcolor\": \"#E5ECF6\", \"showlakes\": true, \"showland\": true, \"subunitcolor\": \"white\"}, \"hoverlabel\": {\"align\": \"left\"}, \"hovermode\": \"closest\", \"mapbox\": {\"style\": \"light\"}, \"paper_bgcolor\": \"white\", \"plot_bgcolor\": \"#E5ECF6\", \"polar\": {\"angularaxis\": {\"gridcolor\": \"white\", \"linecolor\": \"white\", \"ticks\": \"\"}, \"bgcolor\": \"#E5ECF6\", \"radialaxis\": {\"gridcolor\": \"white\", \"linecolor\": \"white\", \"ticks\": \"\"}}, \"scene\": {\"xaxis\": {\"backgroundcolor\": \"#E5ECF6\", \"gridcolor\": \"white\", \"gridwidth\": 2, \"linecolor\": \"white\", \"showbackground\": true, \"ticks\": \"\", \"zerolinecolor\": \"white\"}, \"yaxis\": {\"backgroundcolor\": \"#E5ECF6\", \"gridcolor\": \"white\", \"gridwidth\": 2, \"linecolor\": \"white\", \"showbackground\": true, \"ticks\": \"\", \"zerolinecolor\": \"white\"}, \"zaxis\": {\"backgroundcolor\": \"#E5ECF6\", \"gridcolor\": \"white\", \"gridwidth\": 2, \"linecolor\": \"white\", \"showbackground\": true, \"ticks\": \"\", \"zerolinecolor\": \"white\"}}, \"shapedefaults\": {\"line\": {\"color\": \"#2a3f5f\"}}, \"ternary\": {\"aaxis\": {\"gridcolor\": \"white\", \"linecolor\": \"white\", \"ticks\": \"\"}, \"baxis\": {\"gridcolor\": \"white\", \"linecolor\": \"white\", \"ticks\": \"\"}, \"bgcolor\": \"#E5ECF6\", \"caxis\": {\"gridcolor\": \"white\", \"linecolor\": \"white\", \"ticks\": \"\"}}, \"title\": {\"x\": 0.05}, \"xaxis\": {\"automargin\": true, \"gridcolor\": \"white\", \"linecolor\": \"white\", \"ticks\": \"\", \"title\": {\"standoff\": 15}, \"zerolinecolor\": \"white\", \"zerolinewidth\": 2}, \"yaxis\": {\"automargin\": true, \"gridcolor\": \"white\", \"linecolor\": \"white\", \"ticks\": \"\", \"title\": {\"standoff\": 15}, \"zerolinecolor\": \"white\", \"zerolinewidth\": 2}}}, \"title\": {\"text\": \"3d TSNE Plot for Outliers\"}, \"width\": 900},\n",
       "                        {\"responsive\": true}\n",
       "                    ).then(function(){\n",
       "                            \n",
       "var gd = document.getElementById('c4b1caa3-5286-4060-8488-a635eae803bf');\n",
       "var x = new MutationObserver(function (mutations, observer) {{\n",
       "        var display = window.getComputedStyle(gd).display;\n",
       "        if (!display || display === 'none') {{\n",
       "            console.log([gd, 'removed!']);\n",
       "            Plotly.purge(gd);\n",
       "            observer.disconnect();\n",
       "        }}\n",
       "}});\n",
       "\n",
       "// Listen for the removal of the full notebook cells\n",
       "var notebookContainer = gd.closest('#notebook-container');\n",
       "if (notebookContainer) {{\n",
       "    x.observe(notebookContainer, {childList: true});\n",
       "}}\n",
       "\n",
       "// Listen for the clearing of the current output cell\n",
       "var outputEl = gd.closest('.output');\n",
       "if (outputEl) {{\n",
       "    x.observe(outputEl, {childList: true});\n",
       "}}\n",
       "\n",
       "                        })\n",
       "                };\n",
       "                });\n",
       "            </script>\n",
       "        </div>"
      ]
     },
     "metadata": {},
     "output_type": "display_data"
    }
   ],
   "source": [
    "# instantiating isolation forest model\n",
    "iforest = create_model(\"iforest\")\n",
    "\n",
    "# plotting the data using iforest\n",
    "plot_model(iforest)"
   ]
  },
  {
   "cell_type": "markdown",
   "metadata": {},
   "source": [
    "The Yellow Points are the Anomaly Points based on the Isolation Forest Anomaly Detection Technique. "
   ]
  },
  {
   "cell_type": "code",
   "execution_count": 4,
   "metadata": {},
   "outputs": [
    {
     "data": {
      "text/html": [
       "<div>\n",
       "<style scoped>\n",
       "    .dataframe tbody tr th:only-of-type {\n",
       "        vertical-align: middle;\n",
       "    }\n",
       "\n",
       "    .dataframe tbody tr th {\n",
       "        vertical-align: top;\n",
       "    }\n",
       "\n",
       "    .dataframe thead th {\n",
       "        text-align: right;\n",
       "    }\n",
       "</style>\n",
       "<table border=\"1\" class=\"dataframe\">\n",
       "  <thead>\n",
       "    <tr style=\"text-align: right;\">\n",
       "      <th></th>\n",
       "      <th>Col1</th>\n",
       "      <th>Col2</th>\n",
       "      <th>Col3</th>\n",
       "      <th>Col4</th>\n",
       "      <th>Col5</th>\n",
       "      <th>Col6</th>\n",
       "      <th>Col7</th>\n",
       "      <th>Col8</th>\n",
       "      <th>Col9</th>\n",
       "      <th>Col10</th>\n",
       "      <th>Label</th>\n",
       "      <th>Score</th>\n",
       "    </tr>\n",
       "  </thead>\n",
       "  <tbody>\n",
       "    <tr>\n",
       "      <th>0</th>\n",
       "      <td>0.263995</td>\n",
       "      <td>0.764929</td>\n",
       "      <td>0.138424</td>\n",
       "      <td>0.935242</td>\n",
       "      <td>0.605867</td>\n",
       "      <td>0.518790</td>\n",
       "      <td>0.912225</td>\n",
       "      <td>0.608234</td>\n",
       "      <td>0.723782</td>\n",
       "      <td>0.733591</td>\n",
       "      <td>0</td>\n",
       "      <td>-0.029775</td>\n",
       "    </tr>\n",
       "    <tr>\n",
       "      <th>1</th>\n",
       "      <td>0.546092</td>\n",
       "      <td>0.653975</td>\n",
       "      <td>0.065575</td>\n",
       "      <td>0.227772</td>\n",
       "      <td>0.845269</td>\n",
       "      <td>0.837066</td>\n",
       "      <td>0.272379</td>\n",
       "      <td>0.331679</td>\n",
       "      <td>0.429297</td>\n",
       "      <td>0.367422</td>\n",
       "      <td>0</td>\n",
       "      <td>-0.085167</td>\n",
       "    </tr>\n",
       "    <tr>\n",
       "      <th>2</th>\n",
       "      <td>0.336714</td>\n",
       "      <td>0.538842</td>\n",
       "      <td>0.192801</td>\n",
       "      <td>0.553563</td>\n",
       "      <td>0.074515</td>\n",
       "      <td>0.332993</td>\n",
       "      <td>0.365792</td>\n",
       "      <td>0.861309</td>\n",
       "      <td>0.899017</td>\n",
       "      <td>0.088600</td>\n",
       "      <td>1</td>\n",
       "      <td>0.016764</td>\n",
       "    </tr>\n",
       "    <tr>\n",
       "      <th>3</th>\n",
       "      <td>0.092108</td>\n",
       "      <td>0.995017</td>\n",
       "      <td>0.014465</td>\n",
       "      <td>0.176371</td>\n",
       "      <td>0.241530</td>\n",
       "      <td>0.514724</td>\n",
       "      <td>0.562208</td>\n",
       "      <td>0.158963</td>\n",
       "      <td>0.073715</td>\n",
       "      <td>0.208463</td>\n",
       "      <td>1</td>\n",
       "      <td>0.051090</td>\n",
       "    </tr>\n",
       "    <tr>\n",
       "      <th>4</th>\n",
       "      <td>0.325261</td>\n",
       "      <td>0.805968</td>\n",
       "      <td>0.957033</td>\n",
       "      <td>0.331665</td>\n",
       "      <td>0.307923</td>\n",
       "      <td>0.355315</td>\n",
       "      <td>0.501899</td>\n",
       "      <td>0.558449</td>\n",
       "      <td>0.885169</td>\n",
       "      <td>0.182754</td>\n",
       "      <td>0</td>\n",
       "      <td>-0.014326</td>\n",
       "    </tr>\n",
       "    <tr>\n",
       "      <th>...</th>\n",
       "      <td>...</td>\n",
       "      <td>...</td>\n",
       "      <td>...</td>\n",
       "      <td>...</td>\n",
       "      <td>...</td>\n",
       "      <td>...</td>\n",
       "      <td>...</td>\n",
       "      <td>...</td>\n",
       "      <td>...</td>\n",
       "      <td>...</td>\n",
       "      <td>...</td>\n",
       "      <td>...</td>\n",
       "    </tr>\n",
       "    <tr>\n",
       "      <th>995</th>\n",
       "      <td>0.305055</td>\n",
       "      <td>0.656837</td>\n",
       "      <td>0.331665</td>\n",
       "      <td>0.822525</td>\n",
       "      <td>0.907127</td>\n",
       "      <td>0.882276</td>\n",
       "      <td>0.855732</td>\n",
       "      <td>0.584786</td>\n",
       "      <td>0.808640</td>\n",
       "      <td>0.242762</td>\n",
       "      <td>0</td>\n",
       "      <td>-0.087898</td>\n",
       "    </tr>\n",
       "    <tr>\n",
       "      <th>996</th>\n",
       "      <td>0.812627</td>\n",
       "      <td>0.864258</td>\n",
       "      <td>0.616604</td>\n",
       "      <td>0.167966</td>\n",
       "      <td>0.811223</td>\n",
       "      <td>0.938071</td>\n",
       "      <td>0.418462</td>\n",
       "      <td>0.472306</td>\n",
       "      <td>0.348347</td>\n",
       "      <td>0.671129</td>\n",
       "      <td>0</td>\n",
       "      <td>-0.077894</td>\n",
       "    </tr>\n",
       "    <tr>\n",
       "      <th>997</th>\n",
       "      <td>0.250967</td>\n",
       "      <td>0.138627</td>\n",
       "      <td>0.919703</td>\n",
       "      <td>0.461234</td>\n",
       "      <td>0.886555</td>\n",
       "      <td>0.869888</td>\n",
       "      <td>0.800908</td>\n",
       "      <td>0.530324</td>\n",
       "      <td>0.779433</td>\n",
       "      <td>0.234952</td>\n",
       "      <td>0</td>\n",
       "      <td>-0.066641</td>\n",
       "    </tr>\n",
       "    <tr>\n",
       "      <th>998</th>\n",
       "      <td>0.502436</td>\n",
       "      <td>0.936820</td>\n",
       "      <td>0.580062</td>\n",
       "      <td>0.540773</td>\n",
       "      <td>0.151995</td>\n",
       "      <td>0.059452</td>\n",
       "      <td>0.225220</td>\n",
       "      <td>0.242755</td>\n",
       "      <td>0.279385</td>\n",
       "      <td>0.538755</td>\n",
       "      <td>0</td>\n",
       "      <td>-0.087503</td>\n",
       "    </tr>\n",
       "    <tr>\n",
       "      <th>999</th>\n",
       "      <td>0.457991</td>\n",
       "      <td>0.017755</td>\n",
       "      <td>0.714113</td>\n",
       "      <td>0.125992</td>\n",
       "      <td>0.063316</td>\n",
       "      <td>0.154739</td>\n",
       "      <td>0.922974</td>\n",
       "      <td>0.692299</td>\n",
       "      <td>0.816777</td>\n",
       "      <td>0.307592</td>\n",
       "      <td>0</td>\n",
       "      <td>-0.018379</td>\n",
       "    </tr>\n",
       "  </tbody>\n",
       "</table>\n",
       "<p>1000 rows × 12 columns</p>\n",
       "</div>"
      ],
      "text/plain": [
       "         Col1      Col2      Col3      Col4      Col5      Col6      Col7  \\\n",
       "0    0.263995  0.764929  0.138424  0.935242  0.605867  0.518790  0.912225   \n",
       "1    0.546092  0.653975  0.065575  0.227772  0.845269  0.837066  0.272379   \n",
       "2    0.336714  0.538842  0.192801  0.553563  0.074515  0.332993  0.365792   \n",
       "3    0.092108  0.995017  0.014465  0.176371  0.241530  0.514724  0.562208   \n",
       "4    0.325261  0.805968  0.957033  0.331665  0.307923  0.355315  0.501899   \n",
       "..        ...       ...       ...       ...       ...       ...       ...   \n",
       "995  0.305055  0.656837  0.331665  0.822525  0.907127  0.882276  0.855732   \n",
       "996  0.812627  0.864258  0.616604  0.167966  0.811223  0.938071  0.418462   \n",
       "997  0.250967  0.138627  0.919703  0.461234  0.886555  0.869888  0.800908   \n",
       "998  0.502436  0.936820  0.580062  0.540773  0.151995  0.059452  0.225220   \n",
       "999  0.457991  0.017755  0.714113  0.125992  0.063316  0.154739  0.922974   \n",
       "\n",
       "         Col8      Col9     Col10  Label     Score  \n",
       "0    0.608234  0.723782  0.733591      0 -0.029775  \n",
       "1    0.331679  0.429297  0.367422      0 -0.085167  \n",
       "2    0.861309  0.899017  0.088600      1  0.016764  \n",
       "3    0.158963  0.073715  0.208463      1  0.051090  \n",
       "4    0.558449  0.885169  0.182754      0 -0.014326  \n",
       "..        ...       ...       ...    ...       ...  \n",
       "995  0.584786  0.808640  0.242762      0 -0.087898  \n",
       "996  0.472306  0.348347  0.671129      0 -0.077894  \n",
       "997  0.530324  0.779433  0.234952      0 -0.066641  \n",
       "998  0.242755  0.279385  0.538755      0 -0.087503  \n",
       "999  0.692299  0.816777  0.307592      0 -0.018379  \n",
       "\n",
       "[1000 rows x 12 columns]"
      ]
     },
     "execution_count": 4,
     "metadata": {},
     "output_type": "execute_result"
    }
   ],
   "source": [
    "# generating the predictions using KNN trained model\n",
    "iforest_predictions = predict_model(iforest, data = anomaly)\n",
    "iforest_predictions"
   ]
  },
  {
   "cell_type": "code",
   "execution_count": 5,
   "metadata": {},
   "outputs": [
    {
     "name": "stdout",
     "output_type": "stream",
     "text": [
      "         Col1      Col2      Col3      Col4      Col5      Col6      Col7  \\\n",
      "2    0.336714  0.538842  0.192801  0.553563  0.074515  0.332993  0.365792   \n",
      "3    0.092108  0.995017  0.014465  0.176371  0.241530  0.514724  0.562208   \n",
      "7    0.869237  0.277979  0.423076  0.112472  0.183727  0.034960  0.111114   \n",
      "8    0.197078  0.843918  0.243396  0.281278  0.329148  0.734582  0.191947   \n",
      "11   0.796623  0.230543  0.993018  0.077075  0.094068  0.718628  0.977611   \n",
      "14   0.950745  0.005154  0.084187  0.478148  0.212836  0.714347  0.664819   \n",
      "15   0.336346  0.252265  0.212287  0.020201  0.203514  0.534468  0.476263   \n",
      "17   0.741544  0.398253  0.766472  0.635670  0.261735  0.837371  0.001797   \n",
      "18   0.184433  0.174112  0.301976  0.895893  0.285614  0.615993  0.197073   \n",
      "20   0.162825  0.674069  0.705447  0.774799  0.894267  0.443057  0.399779   \n",
      "23   0.057884  0.227162  0.022494  0.167069  0.631315  0.610103  0.277753   \n",
      "24   0.445535  0.640881  0.689264  0.937542  0.037016  0.316847  0.972312   \n",
      "25   0.801837  0.272857  0.109206  0.922978  0.656014  0.376589  0.735547   \n",
      "28   0.834861  0.973891  0.808398  0.222828  0.018934  0.708188  0.986392   \n",
      "29   0.669767  0.694779  0.191048  0.080716  0.441480  0.115675  0.054466   \n",
      "33   0.977562  0.125559  0.377839  0.195111  0.088484  0.644188  0.277623   \n",
      "34   0.249776  0.276445  0.905772  0.843307  0.622943  0.757426  0.656207   \n",
      "43   0.178173  0.304310  0.028749  0.800844  0.161153  0.874650  0.984053   \n",
      "48   0.344141  0.365421  0.819994  0.142905  0.104520  0.560444  0.785413   \n",
      "51   0.544329  0.042685  0.653127  0.959081  0.211368  0.973765  0.303781   \n",
      "53   0.273081  0.097663  0.491502  0.065955  0.087729  0.727528  0.004372   \n",
      "55   0.349621  0.217426  0.703498  0.925354  0.634280  0.226301  0.067452   \n",
      "59   0.981709  0.253236  0.695971  0.918359  0.108317  0.656997  0.806218   \n",
      "63   0.837803  0.793079  0.003605  0.165423  0.170273  0.374682  0.514763   \n",
      "66   0.341345  0.217400  0.886342  0.572454  0.409470  0.972481  0.084923   \n",
      "130  0.184401  0.182524  0.155665  0.824050  0.803282  0.856811  0.082615   \n",
      "198  0.271132  0.099214  0.326103  0.925654  0.910054  0.897757  0.965498   \n",
      "256  0.245236  0.918462  0.157465  0.756813  0.821578  0.555554  0.856243   \n",
      "523  0.902588  0.751362  0.002002  0.377471  0.052491  0.122550  0.854821   \n",
      "577  0.833014  0.807367  0.868710  0.318724  0.931202  0.982108  0.235711   \n",
      "602  0.685463  0.881432  0.224920  0.859908  0.049718  0.073216  0.440065   \n",
      "700  0.539521  0.006844  0.379683  0.915896  0.708540  0.606755  0.504256   \n",
      "701  0.114757  0.269462  0.911566  0.441826  0.452097  0.940763  0.913952   \n",
      "702  0.357312  0.955679  0.739988  0.682353  0.637739  0.462499  0.887642   \n",
      "703  0.676398  0.514887  0.895753  0.176415  0.214757  0.741506  0.894564   \n",
      "707  0.187487  0.057446  0.369339  0.559828  0.014315  0.325849  0.369230   \n",
      "708  0.052790  0.566393  0.285096  0.795340  0.523658  0.964553  0.789691   \n",
      "710  0.927432  0.088497  0.251848  0.243690  0.120432  0.756917  0.521119   \n",
      "712  0.882822  0.517934  0.615919  0.543449  0.662865  0.755802  0.872439   \n",
      "713  0.495705  0.063449  0.054014  0.832054  0.790832  0.229366  0.425390   \n",
      "716  0.341369  0.538199  0.414272  0.460352  0.442762  0.269584  0.260125   \n",
      "717  0.159682  0.825127  0.716445  0.069445  0.032148  0.654702  0.028203   \n",
      "718  0.318134  0.984550  0.858386  0.872008  0.950152  0.298551  0.275030   \n",
      "720  0.064359  0.129525  0.183766  0.860040  0.254505  0.440920  0.089274   \n",
      "722  0.776252  0.416737  0.155131  0.556724  0.937436  0.091686  0.689603   \n",
      "724  0.625105  0.873683  0.184258  0.907081  0.086882  0.856332  0.040426   \n",
      "728  0.233284  0.722052  0.665397  0.065061  0.192642  0.290856  0.399261   \n",
      "760  0.678373  0.302201  0.696521  0.005237  0.110927  0.075004  0.219961   \n",
      "799  0.540870  0.266801  0.981880  0.503813  0.823495  0.615380  0.062834   \n",
      "863  0.302222  0.117567  0.407364  0.412629  0.663122  0.938641  0.886281   \n",
      "\n",
      "         Col8      Col9     Col10  Label     Score  \n",
      "2    0.861309  0.899017  0.088600      1  0.016764  \n",
      "3    0.158963  0.073715  0.208463      1  0.051090  \n",
      "7    0.249330  0.550683  0.049843      1  0.017144  \n",
      "8    0.927804  0.713269  0.891548      1  0.052123  \n",
      "11   0.333386  0.634843  0.028729      1  0.042005  \n",
      "14   0.803558  0.465466  0.305692      1  0.007964  \n",
      "15   0.845669  0.155377  0.442781      1  0.012860  \n",
      "17   0.568841  0.037360  0.292769      1  0.011226  \n",
      "18   0.738881  0.831371  0.265761      1  0.005306  \n",
      "20   0.009136  0.941851  0.982711      1  0.041844  \n",
      "23   0.728503  0.716414  0.973370      1  0.030927  \n",
      "24   0.224585  0.393000  0.857239      1  0.015260  \n",
      "25   0.302567  0.988732  0.847391      1  0.025694  \n",
      "28   0.545479  0.235898  0.844788      1  0.037849  \n",
      "29   0.949300  0.318667  0.410017      1  0.007249  \n",
      "33   0.741173  0.772889  0.780929      1  0.022723  \n",
      "34   0.887785  0.040510  0.808190      1  0.031123  \n",
      "43   0.205747  0.029727  0.842088      1  0.062750  \n",
      "48   0.085636  0.442044  0.160792      1  0.003386  \n",
      "51   0.487732  0.971283  0.301297      1  0.026562  \n",
      "53   0.903040  0.254568  0.402991      1  0.019864  \n",
      "55   0.355699  0.962699  0.168724      1  0.026087  \n",
      "59   0.924069  0.916568  0.406505      1  0.039776  \n",
      "63   0.185381  0.079298  0.954650      1  0.060569  \n",
      "66   0.683125  0.078588  0.905688      1  0.043873  \n",
      "130  0.699480  0.124231  0.956393      1  0.023808  \n",
      "198  0.596357  0.933402  0.126133      1  0.004240  \n",
      "256  0.427849  0.915980  0.029184      1  0.008963  \n",
      "523  0.757885  0.689827  0.478754      1  0.004718  \n",
      "577  0.047448  0.424876  0.261077      1  0.002016  \n",
      "602  0.926105  0.235349  0.907032      1  0.007869  \n",
      "700  0.941473  0.019866  0.092027      1  0.021873  \n",
      "701  0.952670  0.523607  0.636719      1  0.020380  \n",
      "702  0.664132  0.572974  0.953634      1  0.002724  \n",
      "703  0.148374  0.122150  0.967965      1  0.028888  \n",
      "707  0.617411  0.944126  0.770444      1  0.004489  \n",
      "708  0.944700  0.062553  0.179371      1  0.040438  \n",
      "710  0.130158  0.747129  0.508585      1  0.014435  \n",
      "712  0.006749  0.263889  0.135646      1  0.005769  \n",
      "713  0.050938  0.725988  0.942197      1  0.030573  \n",
      "716  0.004269  0.957254  0.874111      1  0.013493  \n",
      "717  0.886761  0.165482  0.116204      1  0.065049  \n",
      "718  0.207604  0.855490  0.191021      1  0.033873  \n",
      "720  0.941902  0.904978  0.215016      1  0.054110  \n",
      "722  0.064191  0.119276  0.985357      1  0.034107  \n",
      "724  0.755437  0.161329  0.748238      1  0.026919  \n",
      "728  0.033709  0.035812  0.353122      1  0.014461  \n",
      "760  0.656743  0.202239  0.866963      1  0.003266  \n",
      "799  0.365062  0.000000  0.900493      1  0.003355  \n",
      "863  0.459656  0.930646  0.036132      1  0.010825  \n"
     ]
    }
   ],
   "source": [
    "# checking anomaly rows. Label = 1 is the anomaly data.\n",
    "iforest_anomaly_rows = iforest_predictions[iforest_predictions[\"Label\"] == 1]\n",
    "print(iforest_anomaly_rows)"
   ]
  },
  {
   "cell_type": "code",
   "execution_count": 6,
   "metadata": {},
   "outputs": [
    {
     "data": {
      "text/plain": [
       "(50, 12)"
      ]
     },
     "execution_count": 6,
     "metadata": {},
     "output_type": "execute_result"
    }
   ],
   "source": [
    "# checking the number of anomaly rows returned by iforest\n",
    "iforest_anomaly_rows.shape       # returned 50 rows"
   ]
  },
  {
   "cell_type": "markdown",
   "metadata": {},
   "source": [
    "### K Nearest Neighbor"
   ]
  },
  {
   "cell_type": "code",
   "execution_count": 7,
   "metadata": {},
   "outputs": [
    {
     "data": {
      "text/html": [
       "        <script type=\"text/javascript\">\n",
       "        window.PlotlyConfig = {MathJaxConfig: 'local'};\n",
       "        if (window.MathJax) {MathJax.Hub.Config({SVG: {font: \"STIX-Web\"}});}\n",
       "        if (typeof require !== 'undefined') {\n",
       "        require.undef(\"plotly\");\n",
       "        requirejs.config({\n",
       "            paths: {\n",
       "                'plotly': ['https://cdn.plot.ly/plotly-latest.min']\n",
       "            }\n",
       "        });\n",
       "        require(['plotly'], function(Plotly) {\n",
       "            window._Plotly = Plotly;\n",
       "        });\n",
       "        }\n",
       "        </script>\n",
       "        "
      ]
     },
     "metadata": {},
     "output_type": "display_data"
    },
    {
     "data": {
      "application/vnd.plotly.v1+json": {
       "config": {
        "plotlyServerURL": "https://plot.ly"
       },
       "data": [
        {
         "customdata": [
          [
           0.263995357
          ],
          [
           0.546092303
          ],
          [
           0.33671410399999996
          ],
          [
           0.092107835
          ],
          [
           0.325261175
          ],
          [
           0.212464853
          ],
          [
           0.258565714
          ],
          [
           0.869236755
          ],
          [
           0.197077957
          ],
          [
           0.292984504
          ],
          [
           0.82178316
          ],
          [
           0.796622959
          ],
          [
           0.045577010999999994
          ],
          [
           0.613660351
          ],
          [
           0.9507445659999999
          ],
          [
           0.33634633700000005
          ],
          [
           0.034440667
          ],
          [
           0.741544275
          ],
          [
           0.18443265
          ],
          [
           0.664514943
          ],
          [
           0.16282485800000002
          ],
          [
           0.729838445
          ],
          [
           0.62837389
          ],
          [
           0.057883660999999996
          ],
          [
           0.445534827
          ],
          [
           0.80183695
          ],
          [
           0.27709612
          ],
          [
           0.228634015
          ],
          [
           0.834860657
          ],
          [
           0.6697665110000001
          ],
          [
           0.532527349
          ],
          [
           0.17045907100000002
          ],
          [
           0.5102884679999999
          ],
          [
           0.977561989
          ],
          [
           0.249775993
          ],
          [
           0.9755006820000001
          ],
          [
           0.613701727
          ],
          [
           0.16742036300000002
          ],
          [
           0.537472516
          ],
          [
           0.379899131
          ],
          [
           0.633897303
          ],
          [
           0.633960424
          ],
          [
           0.5499746529999999
          ],
          [
           0.178172988
          ],
          [
           0.85563814
          ],
          [
           0.321796672
          ],
          [
           0.8174905370000001
          ],
          [
           0.254879417
          ],
          [
           0.344140513
          ],
          [
           0.8061457259999999
          ],
          [
           0.27708167100000003
          ],
          [
           0.544328519
          ],
          [
           0.07708393
          ],
          [
           0.273081458
          ],
          [
           0.390877336
          ],
          [
           0.349621385
          ],
          [
           0.214549744
          ],
          [
           0.206075222
          ],
          [
           0.86461997
          ],
          [
           0.9817088540000001
          ],
          [
           0.33482964600000004
          ],
          [
           0.648387061
          ],
          [
           0.093643561
          ],
          [
           0.837802698
          ],
          [
           0.7603439670000001
          ],
          [
           0.29140417399999996
          ],
          [
           0.3413454
          ],
          [
           0.7611124840000001
          ],
          [
           0.541899775
          ],
          [
           0.684176639
          ],
          [
           0.983535597
          ],
          [
           0.52081245
          ],
          [
           0.328227724
          ],
          [
           0.09715793800000001
          ],
          [
           0.876088593
          ],
          [
           0.870214512
          ],
          [
           0.656086992
          ],
          [
           0.306791514
          ],
          [
           0.48126734
          ],
          [
           0.259559174
          ],
          [
           0.326123655
          ],
          [
           0.930568042
          ],
          [
           0.6583894
          ],
          [
           0.689992335
          ],
          [
           0.315781109
          ],
          [
           0.5669050929999999
          ],
          [
           0.637526619
          ],
          [
           0.687540723
          ],
          [
           0.324300602
          ],
          [
           0.592704906
          ],
          [
           0.7402531259999999
          ],
          [
           0.5940328770000001
          ],
          [
           0.596452977
          ],
          [
           0.27768081699999997
          ],
          [
           0.258329663
          ],
          [
           0.142460864
          ],
          [
           0.435533461
          ],
          [
           0.7024990440000001
          ],
          [
           0.58897535
          ],
          [
           0.653304374
          ],
          [
           0.336968524
          ],
          [
           0.631244736
          ],
          [
           0.73530076
          ],
          [
           0.050390366
          ],
          [
           0.064264924
          ],
          [
           0.665359476
          ],
          [
           0.917835245
          ],
          [
           0.44651012
          ],
          [
           0.661938199
          ],
          [
           0.43935985299999997
          ],
          [
           0.6875724040000001
          ],
          [
           0.363462248
          ],
          [
           0.6542621820000001
          ],
          [
           0.578553536
          ],
          [
           0.065927945
          ],
          [
           0.550148559
          ],
          [
           0.13918281400000002
          ],
          [
           0.080004635
          ],
          [
           0.278228358
          ],
          [
           0.560124266
          ],
          [
           0.53639864
          ],
          [
           0.42653190399999996
          ],
          [
           0.789109796
          ],
          [
           0.742900474
          ],
          [
           0.901692589
          ],
          [
           0.650337401
          ],
          [
           0.114057311
          ],
          [
           0.260812592
          ],
          [
           0.43991232
          ],
          [
           0.964409284
          ],
          [
           0.184401415
          ],
          [
           0.345145446
          ],
          [
           0.17589458100000002
          ],
          [
           0.312514453
          ],
          [
           0.674131879
          ],
          [
           0.32825045
          ],
          [
           0.598231057
          ],
          [
           0.09259881699999999
          ],
          [
           0.497916521
          ],
          [
           0.419776521
          ],
          [
           0.31217670000000003
          ],
          [
           0.937857107
          ],
          [
           0.049030963
          ],
          [
           0.47610452600000003
          ],
          [
           0.447397526
          ],
          [
           0.295806058
          ],
          [
           0.737363977
          ],
          [
           0.625896253
          ],
          [
           0.408813429
          ],
          [
           0.437511156
          ],
          [
           0.691351375
          ],
          [
           0.935555275
          ],
          [
           0.437846654
          ],
          [
           0.072217715
          ],
          [
           0.67636067
          ],
          [
           0.468883999
          ],
          [
           0.543820644
          ],
          [
           0.6555226470000001
          ],
          [
           0.6935289240000001
          ],
          [
           0.10887831199999999
          ],
          [
           0.285463743
          ],
          [
           0
          ],
          [
           0.706495497
          ],
          [
           0.273530633
          ],
          [
           0.292320271
          ],
          [
           0.673984307
          ],
          [
           0.12612182800000002
          ],
          [
           0.9467074590000001
          ],
          [
           0.9363388979999999
          ],
          [
           0.8537553640000001
          ],
          [
           0.7060713609999999
          ],
          [
           0.693682186
          ],
          [
           0.508527882
          ],
          [
           0.34717038899999997
          ],
          [
           0.704154263
          ],
          [
           0.658730088
          ],
          [
           0.155841557
          ],
          [
           0.311085435
          ],
          [
           0.281135347
          ],
          [
           0.094587802
          ],
          [
           0.6832609540000001
          ],
          [
           0.9077292509999999
          ],
          [
           0.29151267399999997
          ],
          [
           0.752734459
          ],
          [
           0.93482964
          ],
          [
           0.071413953
          ],
          [
           0.5948963270000001
          ],
          [
           0.404672015
          ],
          [
           0.13837621
          ],
          [
           0.7473384679999999
          ],
          [
           0.530882486
          ],
          [
           0.282649594
          ],
          [
           0.699335734
          ],
          [
           0.056111250999999994
          ],
          [
           0.855234998
          ],
          [
           0.07789512700000001
          ],
          [
           0.891649583
          ],
          [
           0.38674227899999997
          ],
          [
           0.27113158
          ],
          [
           0.958888961
          ],
          [
           0.085120869
          ],
          [
           0.5269022489999999
          ],
          [
           0.066577785
          ],
          [
           0.841506738
          ],
          [
           0.255342095
          ],
          [
           0.060545771
          ],
          [
           0.073385869
          ],
          [
           0.187493723
          ],
          [
           0.858365688
          ],
          [
           0.090640352
          ],
          [
           0.7097252270000001
          ],
          [
           0.631300647
          ],
          [
           0.24750447399999997
          ],
          [
           0.822843584
          ],
          [
           0.373476759
          ],
          [
           0.625538582
          ],
          [
           0.292951715
          ],
          [
           0.299730324
          ],
          [
           0.25121407
          ],
          [
           0.344480551
          ],
          [
           0.293064767
          ],
          [
           0.7628032240000001
          ],
          [
           0.7384708040000001
          ],
          [
           0.674883265
          ],
          [
           0.719151612
          ],
          [
           0.13098021599999998
          ],
          [
           0.511328036
          ],
          [
           0.04492903
          ],
          [
           0.560914449
          ],
          [
           0.7440406409999999
          ],
          [
           0.266961634
          ],
          [
           0.644231853
          ],
          [
           0.038113352
          ],
          [
           0.05715529900000001
          ],
          [
           0.34139246100000004
          ],
          [
           0.7204636320000001
          ],
          [
           0.402878236
          ],
          [
           0.635148967
          ],
          [
           0.320729467
          ],
          [
           0.09120969400000001
          ],
          [
           0.23414609
          ],
          [
           0.8902211309999999
          ],
          [
           0.602170884
          ],
          [
           0.633652055
          ],
          [
           0.806240837
          ],
          [
           0.739731184
          ],
          [
           0.465231269
          ],
          [
           0.7321109
          ],
          [
           0.373874305
          ],
          [
           0.501587947
          ],
          [
           0.11538315800000001
          ],
          [
           0.7319466040000001
          ],
          [
           0.41829872799999995
          ],
          [
           0.062259590999999996
          ],
          [
           0.391496379
          ],
          [
           0.35984929
          ],
          [
           0.24523562699999998
          ],
          [
           0.610028339
          ],
          [
           0.43540360200000006
          ],
          [
           0.434309675
          ],
          [
           0.523763344
          ],
          [
           0.17118786600000002
          ],
          [
           0.18773430300000002
          ],
          [
           0.945014638
          ],
          [
           0.027851097000000002
          ],
          [
           0.68445706
          ],
          [
           0.178014532
          ],
          [
           0.643427879
          ],
          [
           0.59588355
          ],
          [
           0.372361682
          ],
          [
           0.586103584
          ],
          [
           0.271658852
          ],
          [
           0.59951107
          ],
          [
           0.468363088
          ],
          [
           0.314515565
          ],
          [
           0.21893726
          ],
          [
           0.254716562
          ],
          [
           0.25612815
          ],
          [
           0.602259755
          ],
          [
           0.134381075
          ],
          [
           0.513887424
          ],
          [
           0.624241636
          ],
          [
           0.160251854
          ],
          [
           0.580708108
          ],
          [
           0.270540486
          ],
          [
           0.832919932
          ],
          [
           0.93032134
          ],
          [
           0.719157884
          ],
          [
           0.886720033
          ],
          [
           0.098792281
          ],
          [
           0.787174286
          ],
          [
           0.365592376
          ],
          [
           0.719576193
          ],
          [
           0.8058956
          ],
          [
           0.7555783340000001
          ],
          [
           0.526005909
          ],
          [
           0.68880424
          ],
          [
           0.22111531199999998
          ],
          [
           0.739369477
          ],
          [
           0.408440236
          ],
          [
           0.348926542
          ],
          [
           0.433713763
          ],
          [
           0.5964966070000001
          ],
          [
           0.6942953000000001
          ],
          [
           0.7090309659999999
          ],
          [
           0.867652984
          ],
          [
           0.89332545
          ],
          [
           0.746020922
          ],
          [
           0.538284443
          ],
          [
           0.8922193140000001
          ],
          [
           0.935175765
          ],
          [
           0.260527707
          ],
          [
           0.956780449
          ],
          [
           0.204932484
          ],
          [
           0.687733351
          ],
          [
           0.329063619
          ],
          [
           0.632149831
          ],
          [
           0.463744506
          ],
          [
           0.698859621
          ],
          [
           0.385446564
          ],
          [
           0.47997537700000004
          ],
          [
           0.732279108
          ],
          [
           0.3813543
          ],
          [
           0.459326013
          ],
          [
           0.257401434
          ],
          [
           0.665014804
          ],
          [
           0.103399542
          ],
          [
           0.425284413
          ],
          [
           0.943529051
          ],
          [
           0.594750236
          ],
          [
           0.543776817
          ],
          [
           0.18203988
          ],
          [
           0.23584208399999998
          ],
          [
           0.585984497
          ],
          [
           0.762013168
          ],
          [
           0.6849829070000001
          ],
          [
           0.676936933
          ],
          [
           0.290184964
          ],
          [
           0.48106822200000005
          ],
          [
           0.492766033
          ],
          [
           0.22185623399999999
          ],
          [
           0.053875998
          ],
          [
           0.082751144
          ],
          [
           0.385366225
          ],
          [
           0.702513961
          ],
          [
           0.91553156
          ],
          [
           0.082087436
          ],
          [
           0.251280378
          ],
          [
           0.41672181700000005
          ],
          [
           0.277032672
          ],
          [
           0.579539754
          ],
          [
           0.569363476
          ],
          [
           0.133399703
          ],
          [
           0.265045463
          ],
          [
           0.936571901
          ],
          [
           0.252618554
          ],
          [
           0.054033081
          ],
          [
           0.802481439
          ],
          [
           0.528197693
          ],
          [
           0.9515026
          ],
          [
           0.572121173
          ],
          [
           0.752938227
          ],
          [
           0.143857535
          ],
          [
           0.513484576
          ],
          [
           0.313322389
          ],
          [
           0.6877973959999999
          ],
          [
           0.37705984
          ],
          [
           0.348226142
          ],
          [
           0.67763282
          ],
          [
           0.24138752100000002
          ],
          [
           0.8506501790000001
          ],
          [
           0.22034810300000002
          ],
          [
           0.476445464
          ],
          [
           0.690324025
          ],
          [
           0.364695946
          ],
          [
           0.6492491970000001
          ],
          [
           0.9437019209999999
          ],
          [
           0.529645971
          ],
          [
           0.299097002
          ],
          [
           0.96696247
          ],
          [
           0.272005242
          ],
          [
           0.314161447
          ],
          [
           0.752020991
          ],
          [
           0.221882453
          ],
          [
           0.7203326729999999
          ],
          [
           0.379204782
          ],
          [
           0.60168653
          ],
          [
           0.582932673
          ],
          [
           0.950809853
          ],
          [
           0.58830141
          ],
          [
           0.880887227
          ],
          [
           0.467857701
          ],
          [
           0.8799021709999999
          ],
          [
           0.619844009
          ],
          [
           0.359002573
          ],
          [
           0.291511278
          ],
          [
           0.694157143
          ],
          [
           0.727960353
          ],
          [
           0.617703921
          ],
          [
           0.39581257
          ],
          [
           0.58317282
          ],
          [
           0.710332374
          ],
          [
           0.253753693
          ],
          [
           0.049412227999999996
          ],
          [
           0.728378695
          ],
          [
           0.432432881
          ],
          [
           0.58612345
          ],
          [
           0.052342373
          ],
          [
           0.053483902
          ],
          [
           0.518729378
          ],
          [
           0.933040208
          ],
          [
           0.7035542840000001
          ],
          [
           0.268989899
          ],
          [
           0.733006927
          ],
          [
           0.44435246700000003
          ],
          [
           0.5833946210000001
          ],
          [
           0.871172692
          ],
          [
           0.42876707799999997
          ],
          [
           0.30046084100000003
          ],
          [
           0.9533294590000001
          ],
          [
           0.606443965
          ],
          [
           0.90986815
          ],
          [
           0.714896449
          ],
          [
           0.49734950899999997
          ],
          [
           0.8530974859999999
          ],
          [
           0.721804145
          ],
          [
           0.303467328
          ],
          [
           0.664485096
          ],
          [
           0.27978062
          ],
          [
           0.569481665
          ],
          [
           0.628628926
          ],
          [
           0.088368123
          ],
          [
           0.733567326
          ],
          [
           0.537436778
          ],
          [
           0.638593691
          ],
          [
           0.954726948
          ],
          [
           0.632202332
          ],
          [
           0.642134651
          ],
          [
           0.744653087
          ],
          [
           0.115714007
          ],
          [
           0.48625007299999995
          ],
          [
           0.440356144
          ],
          [
           0.08272289
          ],
          [
           0.511591027
          ],
          [
           0.394627555
          ],
          [
           0.224394
          ],
          [
           0.626927584
          ],
          [
           0.290254057
          ],
          [
           0.779008053
          ],
          [
           0.86610579
          ],
          [
           0.873326081
          ],
          [
           0.49548916
          ],
          [
           0.594297695
          ],
          [
           0.9182015840000001
          ],
          [
           0.5770427539999999
          ],
          [
           0.019467671000000002
          ],
          [
           0.6702982820000001
          ],
          [
           0.546595316
          ],
          [
           0.591665146
          ],
          [
           0.42155819
          ],
          [
           0.6856085590000001
          ],
          [
           0.340303024
          ],
          [
           0.675626741
          ],
          [
           0.319067345
          ],
          [
           0.38849966399999997
          ],
          [
           0.706949589
          ],
          [
           0.559409515
          ],
          [
           0.687663508
          ],
          [
           0.7088045540000001
          ],
          [
           0.6818880940000001
          ],
          [
           0.42253510899999996
          ],
          [
           0.320004605
          ],
          [
           0.6582813679999999
          ],
          [
           0.634154867
          ],
          [
           0.7773320090000001
          ],
          [
           0.812677205
          ],
          [
           0.074280797
          ],
          [
           0.39600217
          ],
          [
           0.054933913
          ],
          [
           0.825058925
          ],
          [
           0.382642009
          ],
          [
           0.8687298179999999
          ],
          [
           0.588043346
          ],
          [
           0.891551577
          ],
          [
           0.10920046
          ],
          [
           0.647682781
          ],
          [
           0.724342512
          ],
          [
           0.07016304400000001
          ],
          [
           0.280882054
          ],
          [
           0.039113261
          ],
          [
           0.579641592
          ],
          [
           0.639000922
          ],
          [
           0.281745925
          ],
          [
           0.647857744
          ],
          [
           0.6479057970000001
          ],
          [
           0.875226264
          ],
          [
           0.567603305
          ],
          [
           0.262940591
          ],
          [
           0.268026042
          ],
          [
           0.40519133
          ],
          [
           0.479965451
          ],
          [
           0.33552403
          ],
          [
           0.777165379
          ],
          [
           0.42548796299999997
          ],
          [
           0.237986115
          ],
          [
           0.142522971
          ],
          [
           0.724176488
          ],
          [
           0.234698933
          ],
          [
           0.07818228099999999
          ],
          [
           0.855990155
          ],
          [
           0.270251765
          ],
          [
           0.435517841
          ],
          [
           0.762697513
          ],
          [
           0.46448725799999996
          ],
          [
           0.396112685
          ],
          [
           0.37638092100000003
          ],
          [
           0.29459467699999997
          ],
          [
           0.6944921209999999
          ],
          [
           0.622767949
          ],
          [
           0.8475597220000001
          ],
          [
           0.301463054
          ],
          [
           0.912937812
          ],
          [
           0.500017182
          ],
          [
           0.902587935
          ],
          [
           0.304517943
          ],
          [
           0.299165673
          ],
          [
           0.092014087
          ],
          [
           0.488548917
          ],
          [
           0.664664437
          ],
          [
           0.26534954899999996
          ],
          [
           0.723657021
          ],
          [
           0.149262385
          ],
          [
           0.04577339
          ],
          [
           0.69661064
          ],
          [
           0.42181486
          ],
          [
           0.733845785
          ],
          [
           0.418795386
          ],
          [
           0.677443529
          ],
          [
           0.26128360300000003
          ],
          [
           0.268527767
          ],
          [
           0.5443222360000001
          ],
          [
           0.431632036
          ],
          [
           0.981018141
          ],
          [
           0.21498072399999998
          ],
          [
           0.39472999299999995
          ],
          [
           0.122224944
          ],
          [
           0.297496875
          ],
          [
           0.37490443100000004
          ],
          [
           0.68698771
          ],
          [
           0.388549207
          ],
          [
           0.039296071
          ],
          [
           0.73553424
          ],
          [
           0.37929489299999997
          ],
          [
           0.7321233859999999
          ],
          [
           0.33922143899999996
          ],
          [
           0.659450594
          ],
          [
           0.054838642
          ],
          [
           0.640112102
          ],
          [
           0.30714170399999996
          ],
          [
           0.39661190700000004
          ],
          [
           0.420439161
          ],
          [
           0.24171497399999997
          ],
          [
           0.065893153
          ],
          [
           0.9105219370000001
          ],
          [
           0.697163103
          ],
          [
           0.072559853
          ],
          [
           0.81825094
          ],
          [
           0.311888815
          ],
          [
           0.961644609
          ],
          [
           0.816325524
          ],
          [
           0.14647302
          ],
          [
           0.548753945
          ],
          [
           0.946158087
          ],
          [
           0.293992717
          ],
          [
           0.331479643
          ],
          [
           0.9062200309999999
          ],
          [
           0.525540416
          ],
          [
           0.83301411
          ],
          [
           0.514849806
          ],
          [
           0.574609024
          ],
          [
           0.46871185299999996
          ],
          [
           0.71002775
          ],
          [
           0.645973276
          ],
          [
           0.229794416
          ],
          [
           0.551783393
          ],
          [
           0.055822990999999995
          ],
          [
           0.331750941
          ],
          [
           0.715520198
          ],
          [
           0.583924357
          ],
          [
           0.30695769100000003
          ],
          [
           0.7914782370000001
          ],
          [
           0.16423663900000002
          ],
          [
           0.065711219
          ],
          [
           0.948993132
          ],
          [
           0.080423835
          ],
          [
           0.052495426
          ],
          [
           0.566346135
          ],
          [
           0.3630266
          ],
          [
           0.605442195
          ],
          [
           0.6308505839999999
          ],
          [
           0.065791238
          ],
          [
           0.28681707100000003
          ],
          [
           0.685462839
          ],
          [
           0.260853706
          ],
          [
           0.659122429
          ],
          [
           0.44317392200000005
          ],
          [
           0.602063986
          ],
          [
           0.060366910999999995
          ],
          [
           0.781903153
          ],
          [
           0.5145798070000001
          ],
          [
           0.48388621299999995
          ],
          [
           0.600213807
          ],
          [
           0.49736405200000006
          ],
          [
           0.411145245
          ],
          [
           0.116999171
          ],
          [
           0.34189014100000004
          ],
          [
           0.746950848
          ],
          [
           0.39629274600000003
          ],
          [
           0.6221438429999999
          ],
          [
           0.335271141
          ],
          [
           0.140257137
          ],
          [
           0.081620681
          ],
          [
           0.069837569
          ],
          [
           0.46894000799999996
          ],
          [
           0.9908574170000001
          ],
          [
           0.896616832
          ],
          [
           0.255310561
          ],
          [
           0.22464526699999998
          ],
          [
           0.01991825
          ],
          [
           0.296480415
          ],
          [
           0.155458996
          ],
          [
           0.577916714
          ],
          [
           0.9563030309999999
          ],
          [
           0.813464394
          ],
          [
           0.529675785
          ],
          [
           0.287671353
          ],
          [
           0.48039136
          ],
          [
           0.28104482199999997
          ],
          [
           0.633196521
          ],
          [
           0.09332537699999999
          ],
          [
           0.28447398100000004
          ],
          [
           0.052223775
          ],
          [
           0.051129385
          ],
          [
           0.967405608
          ],
          [
           0.040045727999999996
          ],
          [
           0.9085829209999999
          ],
          [
           0.6621174160000001
          ],
          [
           0.42470320899999997
          ],
          [
           0.72207806
          ],
          [
           0.666193327
          ],
          [
           0.509681253
          ],
          [
           0.7513536209999999
          ],
          [
           0.279073124
          ],
          [
           0.074927
          ],
          [
           0.916359535
          ],
          [
           0.31040327
          ],
          [
           0.716604052
          ],
          [
           0.485587085
          ],
          [
           0.30607518100000003
          ],
          [
           0.477558204
          ],
          [
           0.7119239409999999
          ],
          [
           0.066348638
          ],
          [
           0.27453935100000004
          ],
          [
           0.31082252
          ],
          [
           0.47607312700000004
          ],
          [
           0.186795565
          ],
          [
           0.26654207
          ],
          [
           0.070231142
          ],
          [
           0.26951927
          ],
          [
           0.800004713
          ],
          [
           0.27363366699999997
          ],
          [
           0.14647919199999998
          ],
          [
           0.378318951
          ],
          [
           0.373849065
          ],
          [
           0.242170835
          ],
          [
           0.249796488
          ],
          [
           0.066591188
          ],
          [
           0.372956798
          ],
          [
           0.501812291
          ],
          [
           0.313097752
          ],
          [
           0.8802021959999999
          ],
          [
           0.51981893
          ],
          [
           0.364138746
          ],
          [
           0.49268289600000004
          ],
          [
           0.285732652
          ],
          [
           0.890114985
          ],
          [
           0.316419561
          ],
          [
           0.26866354
          ],
          [
           0.771975959
          ],
          [
           0.968888992
          ],
          [
           0.080334377
          ],
          [
           0.7368282209999999
          ],
          [
           0.30055807100000004
          ],
          [
           0.9179503929999999
          ],
          [
           0.465815039
          ],
          [
           0.054036682
          ],
          [
           0.963150123
          ],
          [
           0.08965350300000001
          ],
          [
           0.7076932340000001
          ],
          [
           0.636416037
          ],
          [
           0.539521117
          ],
          [
           0.114757161
          ],
          [
           0.357312419
          ],
          [
           0.67639834
          ],
          [
           0.43482839
          ],
          [
           0.032326387000000005
          ],
          [
           0.711365605
          ],
          [
           0.187486519
          ],
          [
           0.052789653
          ],
          [
           0.5058636129999999
          ],
          [
           0.927431873
          ],
          [
           0.6809842559999999
          ],
          [
           0.882822186
          ],
          [
           0.495705441
          ],
          [
           0.596240398
          ],
          [
           0.320610701
          ],
          [
           0.3413685
          ],
          [
           0.159681797
          ],
          [
           0.318133669
          ],
          [
           0.8393010479999999
          ],
          [
           0.06435925099999999
          ],
          [
           0.470216633
          ],
          [
           0.7762522909999999
          ],
          [
           0.635843383
          ],
          [
           0.62510543
          ],
          [
           0.52959065
          ],
          [
           0.986900166
          ],
          [
           0.078585688
          ],
          [
           0.233284267
          ],
          [
           0.363330957
          ],
          [
           0.7167169809999999
          ],
          [
           0.37588979200000006
          ],
          [
           0.223316889
          ],
          [
           0.299343986
          ],
          [
           0.538595767
          ],
          [
           0.730297124
          ],
          [
           0.66033077
          ],
          [
           0.435296009
          ],
          [
           0.326494313
          ],
          [
           0.854402708
          ],
          [
           0.5734938470000001
          ],
          [
           0.757786135
          ],
          [
           0.704743233
          ],
          [
           0.281575597
          ],
          [
           0.671968208
          ],
          [
           0.313726015
          ],
          [
           0.364338275
          ],
          [
           0.368216396
          ],
          [
           0.38629520700000003
          ],
          [
           0.655971865
          ],
          [
           0.5660252729999999
          ],
          [
           0.424999093
          ],
          [
           0.090110371
          ],
          [
           0.772350538
          ],
          [
           0.331047258
          ],
          [
           0.273716188
          ],
          [
           0.23877568
          ],
          [
           0.37307977200000003
          ],
          [
           0.331185868
          ],
          [
           0.256134531
          ],
          [
           0.678373225
          ],
          [
           0.43463833799999996
          ],
          [
           0.654668307
          ],
          [
           0.986681065
          ],
          [
           0.371520495
          ],
          [
           0.408359618
          ],
          [
           0.40932365
          ],
          [
           0.283412082
          ],
          [
           0.395246531
          ],
          [
           0.010984428000000001
          ],
          [
           0.306013869
          ],
          [
           0.266194806
          ],
          [
           0.299318521
          ],
          [
           0.318293946
          ],
          [
           0.74282591
          ],
          [
           0.09766432900000001
          ],
          [
           0.079666942
          ],
          [
           0.613258767
          ],
          [
           0.99443072
          ],
          [
           0.568835082
          ],
          [
           0.7080345159999999
          ],
          [
           0.37059271899999996
          ],
          [
           0.669867361
          ],
          [
           0.651295625
          ],
          [
           0.462531569
          ],
          [
           0.7196256190000001
          ],
          [
           0.45377248
          ],
          [
           0.394863946
          ],
          [
           0.323974831
          ],
          [
           0.146454724
          ],
          [
           0.7790670409999999
          ],
          [
           0.401828915
          ],
          [
           0.601479585
          ],
          [
           0.856423023
          ],
          [
           0.565242962
          ],
          [
           0.301225108
          ],
          [
           0.282108144
          ],
          [
           0.594378011
          ],
          [
           0.705312368
          ],
          [
           0.5408696279999999
          ],
          [
           0.319249574
          ],
          [
           0.36176613799999996
          ],
          [
           0.625000704
          ],
          [
           0.316287401
          ],
          [
           0.047239021
          ],
          [
           0.801182233
          ],
          [
           0.508474436
          ],
          [
           0.8178934109999999
          ],
          [
           0.399235601
          ],
          [
           0.9740519990000001
          ],
          [
           0.72241535
          ],
          [
           0.039564764
          ],
          [
           0.908684108
          ],
          [
           0.47301013399999997
          ],
          [
           0.7180496279999999
          ],
          [
           0.7634790690000001
          ],
          [
           0.6475965370000001
          ],
          [
           0.8949973859999999
          ],
          [
           0.22282590100000002
          ],
          [
           0.359012234
          ],
          [
           0.944910252
          ],
          [
           0.297877816
          ],
          [
           0.172517997
          ],
          [
           0.556586265
          ],
          [
           0.876481735
          ],
          [
           0.48667784299999994
          ],
          [
           0.459496733
          ],
          [
           0.47412637700000004
          ],
          [
           0.70101144
          ],
          [
           0.337597387
          ],
          [
           0.537578886
          ],
          [
           0.966992448
          ],
          [
           0.056849545
          ],
          [
           0.233249065
          ],
          [
           0.380054711
          ],
          [
           0.602929443
          ],
          [
           0.303847999
          ],
          [
           0.170194553
          ],
          [
           0.972168554
          ],
          [
           0.332168927
          ],
          [
           0.6887286890000001
          ],
          [
           0.110773401
          ],
          [
           0.273352065
          ],
          [
           0.572939678
          ],
          [
           0.491457065
          ],
          [
           0.281389999
          ],
          [
           0.821697261
          ],
          [
           0.6749776829999999
          ],
          [
           0.585134549
          ],
          [
           0.7105961159999999
          ],
          [
           0.040488789
          ],
          [
           0.568054311
          ],
          [
           0.321752928
          ],
          [
           0.611850232
          ],
          [
           0.926096887
          ],
          [
           0.618347428
          ],
          [
           0.667629785
          ],
          [
           0.39773346600000004
          ],
          [
           0.290875487
          ],
          [
           0.594375103
          ],
          [
           0.508255233
          ],
          [
           0.338571357
          ],
          [
           0.43230234700000003
          ],
          [
           0.302221978
          ],
          [
           0.87619819
          ],
          [
           0.080204492
          ],
          [
           0.092333532
          ],
          [
           0.09365644699999999
          ],
          [
           0.6084523510000001
          ],
          [
           0.732654598
          ],
          [
           0.944158855
          ],
          [
           0.26742308
          ],
          [
           0.731124201
          ],
          [
           0.661308553
          ],
          [
           0.38776626200000003
          ],
          [
           0.962585273
          ],
          [
           0.322067067
          ],
          [
           0.6340810929999999
          ],
          [
           0.475345002
          ],
          [
           0.35355897299999994
          ],
          [
           0.8859363159999999
          ],
          [
           0.876798106
          ],
          [
           0.221581064
          ],
          [
           0.394362449
          ],
          [
           0.8050356759999999
          ],
          [
           0.452898486
          ],
          [
           0.592520516
          ],
          [
           0.761026394
          ],
          [
           0.245049023
          ],
          [
           0.37213936299999995
          ],
          [
           0.681054822
          ],
          [
           0.7471431479999999
          ],
          [
           0.9207395290000001
          ],
          [
           0.097207945
          ],
          [
           0.699302998
          ],
          [
           0.721647006
          ],
          [
           0.5353561139999999
          ],
          [
           0.738293805
          ],
          [
           0.7064675509999999
          ],
          [
           0.67395061
          ],
          [
           0.7112122909999999
          ],
          [
           0.302558708
          ],
          [
           0.080097855
          ],
          [
           0.707010837
          ],
          [
           0.512248622
          ],
          [
           0.659627472
          ],
          [
           0.657559694
          ],
          [
           0.100645606
          ],
          [
           0.92665363
          ],
          [
           0.892879338
          ],
          [
           0.839157508
          ],
          [
           0.890959718
          ],
          [
           0.556754471
          ],
          [
           0.960361937
          ],
          [
           0.631037864
          ],
          [
           0.029838065
          ],
          [
           0.278843351
          ],
          [
           0.926157705
          ],
          [
           0.551504258
          ],
          [
           0.485942349
          ],
          [
           0.43723469600000003
          ],
          [
           0.25231801800000003
          ],
          [
           0.515466972
          ],
          [
           0.43725229600000004
          ],
          [
           0.493724207
          ],
          [
           0.83324725
          ],
          [
           0.317521477
          ],
          [
           0.28623456199999997
          ],
          [
           0.726833965
          ],
          [
           0.495667033
          ],
          [
           0.028645255
          ],
          [
           0.31967191699999997
          ],
          [
           0.674344598
          ],
          [
           0.7660371890000001
          ],
          [
           0.65456992
          ],
          [
           0.7565143809999999
          ],
          [
           0.528253719
          ],
          [
           0.38971949100000003
          ],
          [
           0.355087459
          ],
          [
           0.87015202
          ],
          [
           0.7390833059999999
          ],
          [
           0.305761846
          ],
          [
           0.411587673
          ],
          [
           0.063633094
          ],
          [
           0.735409395
          ],
          [
           0.605916669
          ],
          [
           0.539395562
          ],
          [
           0.566183532
          ],
          [
           0.674795186
          ],
          [
           0.070993366
          ],
          [
           0.12526410000000002
          ],
          [
           0.279601492
          ],
          [
           0.952174402
          ],
          [
           0.233806762
          ],
          [
           0.43724742899999997
          ],
          [
           0.925423095
          ],
          [
           0.433498634
          ],
          [
           0.52517902
          ],
          [
           0.088435529
          ],
          [
           0.447677638
          ],
          [
           0.647000631
          ],
          [
           0.9036033370000001
          ],
          [
           0.265790738
          ],
          [
           0.66419695
          ],
          [
           0.498120658
          ],
          [
           0.49018894399999996
          ],
          [
           0.747084187
          ],
          [
           0.906783648
          ],
          [
           0.678770917
          ],
          [
           0.348599859
          ],
          [
           0.294839683
          ],
          [
           0.705691827
          ],
          [
           0.211917931
          ],
          [
           0.063201124
          ],
          [
           0.276699543
          ],
          [
           0.672459395
          ],
          [
           0.8082059490000001
          ],
          [
           0.296538373
          ],
          [
           0.16012686199999998
          ],
          [
           0.439385032
          ],
          [
           0.555951416
          ],
          [
           0.386240112
          ],
          [
           0.158689619
          ],
          [
           0.214499855
          ],
          [
           0.299579429
          ],
          [
           0.569161656
          ],
          [
           0.488614799
          ],
          [
           0.8782950209999999
          ],
          [
           0.649380949
          ],
          [
           0.465713341
          ],
          [
           0.16813774
          ],
          [
           0.87529545
          ],
          [
           0.8411323409999999
          ],
          [
           0.33292081
          ],
          [
           0.5130478589999999
          ],
          [
           0.30505507800000004
          ],
          [
           0.8126269909999999
          ],
          [
           0.25096706
          ],
          [
           0.5024355779999999
          ],
          [
           0.45799074100000003
          ]
         ],
         "hoverlabel": {
          "namelength": 0
         },
         "hovertemplate": "0=%{x}<br>1=%{y}<br>2=%{z}<br>Feature=%{customdata[0]}<br>Label=%{marker.color}",
         "legendgroup": "",
         "marker": {
          "color": [
           0,
           0,
           1,
           1,
           0,
           0,
           0,
           0,
           1,
           1,
           0,
           1,
           0,
           1,
           1,
           1,
           0,
           1,
           1,
           0,
           1,
           0,
           0,
           1,
           1,
           1,
           0,
           0,
           1,
           1,
           0,
           0,
           1,
           1,
           0,
           0,
           1,
           0,
           0,
           0,
           0,
           0,
           0,
           1,
           0,
           1,
           1,
           0,
           1,
           0,
           0,
           1,
           0,
           1,
           1,
           1,
           1,
           0,
           0,
           1,
           0,
           1,
           0,
           1,
           0,
           1,
           0,
           0,
           0,
           0,
           0,
           0,
           0,
           0,
           0,
           0,
           0,
           0,
           0,
           0,
           0,
           0,
           0,
           0,
           0,
           0,
           0,
           0,
           0,
           0,
           0,
           0,
           0,
           0,
           0,
           0,
           0,
           0,
           0,
           0,
           0,
           0,
           0,
           0,
           0,
           0,
           0,
           0,
           0,
           0,
           0,
           0,
           0,
           0,
           0,
           0,
           0,
           0,
           0,
           0,
           0,
           0,
           0,
           0,
           0,
           0,
           0,
           0,
           0,
           0,
           0,
           0,
           0,
           0,
           0,
           0,
           0,
           0,
           0,
           0,
           0,
           0,
           0,
           0,
           0,
           0,
           0,
           0,
           0,
           0,
           0,
           0,
           0,
           0,
           0,
           0,
           0,
           0,
           0,
           0,
           0,
           0,
           0,
           0,
           0,
           0,
           0,
           0,
           0,
           0,
           0,
           0,
           0,
           0,
           0,
           0,
           0,
           0,
           0,
           0,
           0,
           0,
           0,
           0,
           0,
           0,
           0,
           0,
           0,
           0,
           0,
           0,
           0,
           0,
           0,
           0,
           0,
           0,
           0,
           0,
           0,
           0,
           0,
           0,
           0,
           0,
           0,
           0,
           0,
           0,
           0,
           0,
           0,
           0,
           0,
           0,
           0,
           0,
           0,
           0,
           0,
           0,
           0,
           0,
           0,
           0,
           0,
           0,
           0,
           0,
           0,
           0,
           0,
           0,
           0,
           0,
           0,
           0,
           0,
           0,
           0,
           0,
           0,
           0,
           0,
           0,
           0,
           0,
           0,
           0,
           0,
           0,
           0,
           0,
           0,
           0,
           0,
           0,
           0,
           0,
           0,
           0,
           0,
           0,
           0,
           0,
           0,
           0,
           0,
           0,
           0,
           0,
           0,
           0,
           0,
           0,
           0,
           0,
           0,
           0,
           0,
           0,
           0,
           0,
           0,
           0,
           0,
           0,
           0,
           0,
           0,
           0,
           0,
           0,
           0,
           0,
           0,
           0,
           0,
           0,
           0,
           0,
           0,
           0,
           0,
           0,
           0,
           0,
           0,
           0,
           0,
           0,
           0,
           0,
           0,
           0,
           0,
           0,
           0,
           0,
           0,
           0,
           0,
           0,
           0,
           0,
           0,
           0,
           0,
           0,
           0,
           0,
           0,
           0,
           0,
           0,
           0,
           0,
           0,
           0,
           0,
           0,
           0,
           0,
           0,
           0,
           0,
           0,
           0,
           0,
           0,
           0,
           0,
           0,
           0,
           0,
           0,
           0,
           0,
           0,
           0,
           0,
           0,
           0,
           0,
           0,
           0,
           0,
           0,
           0,
           0,
           0,
           0,
           0,
           0,
           0,
           0,
           0,
           0,
           0,
           0,
           0,
           0,
           0,
           0,
           0,
           0,
           0,
           0,
           0,
           0,
           0,
           0,
           0,
           0,
           0,
           0,
           0,
           0,
           0,
           0,
           0,
           0,
           0,
           0,
           0,
           0,
           0,
           0,
           0,
           0,
           0,
           0,
           0,
           0,
           0,
           0,
           0,
           0,
           0,
           0,
           0,
           0,
           0,
           0,
           0,
           0,
           0,
           0,
           0,
           0,
           0,
           0,
           0,
           0,
           0,
           0,
           0,
           0,
           0,
           0,
           0,
           0,
           0,
           0,
           0,
           0,
           0,
           0,
           0,
           0,
           0,
           0,
           0,
           0,
           0,
           0,
           0,
           0,
           0,
           0,
           0,
           0,
           0,
           0,
           0,
           0,
           0,
           0,
           0,
           0,
           0,
           0,
           0,
           0,
           0,
           0,
           0,
           0,
           0,
           0,
           0,
           0,
           0,
           0,
           0,
           0,
           0,
           0,
           0,
           0,
           0,
           0,
           0,
           0,
           0,
           0,
           0,
           0,
           0,
           0,
           0,
           0,
           0,
           0,
           0,
           0,
           0,
           0,
           0,
           0,
           0,
           0,
           0,
           0,
           0,
           0,
           0,
           0,
           0,
           0,
           0,
           0,
           0,
           0,
           0,
           0,
           0,
           0,
           0,
           0,
           0,
           0,
           0,
           0,
           0,
           0,
           0,
           0,
           0,
           0,
           0,
           0,
           0,
           0,
           0,
           0,
           0,
           0,
           0,
           0,
           0,
           0,
           0,
           0,
           0,
           0,
           0,
           0,
           0,
           0,
           0,
           0,
           0,
           0,
           0,
           0,
           0,
           0,
           0,
           0,
           0,
           0,
           0,
           0,
           0,
           0,
           0,
           0,
           0,
           0,
           0,
           0,
           0,
           0,
           0,
           0,
           0,
           0,
           0,
           0,
           0,
           0,
           0,
           0,
           0,
           0,
           0,
           0,
           0,
           0,
           0,
           0,
           0,
           0,
           0,
           0,
           0,
           0,
           0,
           0,
           0,
           0,
           0,
           0,
           0,
           0,
           0,
           0,
           0,
           0,
           0,
           0,
           0,
           0,
           0,
           0,
           0,
           0,
           0,
           0,
           0,
           0,
           0,
           0,
           0,
           0,
           0,
           0,
           0,
           0,
           0,
           0,
           0,
           0,
           0,
           0,
           0,
           0,
           0,
           0,
           0,
           0,
           0,
           0,
           0,
           0,
           0,
           0,
           0,
           0,
           0,
           0,
           0,
           0,
           0,
           0,
           0,
           0,
           0,
           0,
           0,
           0,
           0,
           0,
           0,
           0,
           0,
           0,
           0,
           0,
           0,
           0,
           0,
           0,
           0,
           0,
           0,
           0,
           0,
           0,
           0,
           0,
           0,
           0,
           0,
           0,
           0,
           0,
           0,
           1,
           1,
           0,
           1,
           0,
           0,
           0,
           1,
           1,
           1,
           1,
           0,
           1,
           1,
           1,
           0,
           1,
           1,
           1,
           0,
           1,
           0,
           1,
           1,
           1,
           1,
           0,
           0,
           0,
           0,
           0,
           0,
           0,
           0,
           0,
           0,
           0,
           0,
           0,
           0,
           0,
           0,
           0,
           0,
           0,
           0,
           0,
           0,
           0,
           0,
           0,
           0,
           0,
           0,
           0,
           0,
           0,
           0,
           0,
           0,
           0,
           0,
           0,
           0,
           0,
           0,
           0,
           0,
           0,
           0,
           0,
           0,
           0,
           0,
           0,
           0,
           0,
           0,
           0,
           0,
           0,
           0,
           0,
           0,
           0,
           0,
           0,
           0,
           0,
           0,
           0,
           0,
           0,
           0,
           0,
           0,
           0,
           0,
           0,
           0,
           0,
           0,
           0,
           0,
           0,
           0,
           0,
           0,
           0,
           0,
           0,
           0,
           0,
           0,
           0,
           0,
           0,
           0,
           0,
           0,
           0,
           0,
           0,
           0,
           0,
           0,
           0,
           0,
           0,
           0,
           0,
           0,
           0,
           0,
           0,
           0,
           0,
           0,
           0,
           0,
           0,
           0,
           0,
           0,
           0,
           0,
           0,
           0,
           0,
           0,
           0,
           0,
           0,
           0,
           0,
           0,
           0,
           0,
           0,
           0,
           0,
           0,
           0,
           0,
           0,
           0,
           0,
           0,
           0,
           0,
           0,
           0,
           0,
           0,
           0,
           0,
           0,
           0,
           0,
           0,
           0,
           0,
           0,
           0,
           0,
           0,
           0,
           0,
           0,
           0,
           0,
           0,
           0,
           0,
           0,
           0,
           0,
           0,
           0,
           0,
           0,
           0,
           0,
           0,
           0,
           0,
           0,
           0,
           0,
           0,
           0,
           0,
           0,
           0,
           0,
           0,
           0,
           0,
           0,
           0,
           0,
           0,
           0,
           0,
           0,
           0,
           0,
           0,
           0,
           0,
           0,
           0,
           0,
           0,
           0,
           0,
           0,
           0,
           0,
           0,
           0,
           0,
           0,
           0,
           0,
           0,
           0,
           0,
           0,
           0,
           0,
           0,
           0,
           0,
           0,
           0,
           0,
           0,
           0,
           0,
           0,
           0,
           0,
           0,
           0,
           0,
           0,
           0,
           0,
           0,
           0,
           0,
           0,
           0,
           0,
           0,
           0,
           0,
           0,
           0,
           0,
           0,
           0,
           0,
           0,
           0,
           0,
           0,
           0,
           0,
           0,
           0,
           0,
           0,
           0,
           0,
           0,
           0,
           0,
           0
          ],
          "coloraxis": "coloraxis",
          "opacity": 0.7,
          "symbol": "circle"
         },
         "mode": "markers",
         "name": "",
         "scene": "scene",
         "showlegend": false,
         "type": "scatter3d",
         "x": [
          -7.4098334312438965,
          -2.5537078380584717,
          1.409962773323059,
          7.511463642120361,
          4.997813701629639,
          1.2822418212890625,
          1.2849198579788208,
          5.6251301765441895,
          -4.921491622924805,
          4.162228107452393,
          4.522529125213623,
          8.384394645690918,
          8.61569595336914,
          -3.638603448867798,
          0.9759164452552795,
          10.076456069946289,
          8.66157341003418,
          -6.902553081512451,
          0.8898755311965942,
          6.993649959564209,
          0.8128849864006042,
          -2.683929920196533,
          1.8857725858688354,
          -4.64729642868042,
          1.642140507698059,
          -1.0061875581741333,
          6.880456924438477,
          -5.291598320007324,
          10.186186790466309,
          3.752837657928467,
          -4.684483528137207,
          1.8232625722885132,
          -2.55503249168396,
          0.6367653608322144,
          1.4359337091445923,
          -3.0005738735198975,
          -2.3228256702423096,
          -5.234410285949707,
          -3.471092700958252,
          1.2817965745925903,
          -1.2139904499053955,
          1.831848382949829,
          -2.532412528991699,
          2.041226387023926,
          1.5018742084503174,
          10.706758499145508,
          0.6869584918022156,
          -4.851815223693848,
          7.995379447937012,
          -5.320127487182617,
          11.004109382629395,
          0.6529822945594788,
          -1.1199450492858887,
          10.645207405090332,
          2.9175968170166016,
          6.422762870788574,
          4.6302361488342285,
          3.264467716217041,
          1.0433298349380493,
          3.4223811626434326,
          4.074254035949707,
          -6.076322078704834,
          10.144182205200195,
          1.9930871725082397,
          -5.410326957702637,
          -0.07401049882173538,
          0.9230527877807617,
          -7.452945709228516,
          7.083136558532715,
          1.4564926624298096,
          5.413321018218994,
          5.865146160125732,
          -4.356118679046631,
          7.89884614944458,
          -6.623105049133301,
          -4.873861312866211,
          6.159278869628906,
          6.402421474456787,
          -3.858262300491333,
          -3.246857166290283,
          -4.037006378173828,
          -3.0277273654937744,
          4.436665058135986,
          -5.353545665740967,
          0.0981471911072731,
          -1.9425994157791138,
          -2.9932262897491455,
          -4.223959922790527,
          1.2958674430847168,
          -1.5964769124984741,
          -4.143455982208252,
          4.680695056915283,
          -2.115767478942871,
          0.4119720458984375,
          4.2811126708984375,
          9.08919620513916,
          -3.913088083267212,
          -1.00010347366333,
          -7.553537368774414,
          5.635721683502197,
          -4.652450084686279,
          -3.474280595779419,
          -1.7102652788162231,
          -0.5494123101234436,
          9.599308967590332,
          -4.243544578552246,
          -4.75999116897583,
          1.7354642152786255,
          -6.275301456451416,
          5.211948394775391,
          -0.5192670822143555,
          -3.265669345855713,
          4.833415508270264,
          -6.4232401847839355,
          4.793218612670898,
          -1.503954529762268,
          1.7453097105026245,
          0.4578864276409149,
          6.465095520019531,
          -7.901650905609131,
          -1.477455973625183,
          0.43410372734069824,
          2.197030544281006,
          -3.834656238555908,
          -6.2956953048706055,
          -2.0707764625549316,
          3.618790864944458,
          6.3182878494262695,
          -0.4480472505092621,
          -2.745786666870117,
          3.366544485092163,
          -3.0822436809539795,
          10.453746795654297,
          1.6329514980316162,
          -3.32153582572937,
          -7.843011379241943,
          3.4535274505615234,
          8.91806697845459,
          -0.5674543380737305,
          -2.046173334121704,
          7.909142971038818,
          -1.2724519968032837,
          0.20405460894107819,
          5.354411602020264,
          -8.245804786682129,
          -3.77408504486084,
          3.273247241973877,
          -1.5340602397918701,
          -1.035711646080017,
          -3.7467997074127197,
          -0.1608843207359314,
          -4.474426746368408,
          2.19659161567688,
          0.8989692330360413,
          -3.507005453109741,
          -4.868129730224609,
          -5.587709426879883,
          -3.151965618133545,
          -5.284117698669434,
          5.532660007476807,
          2.8168532848358154,
          3.0375235080718994,
          -3.103278160095215,
          -2.6981732845306396,
          5.06612491607666,
          -3.844329595565796,
          8.422727584838867,
          3.0890369415283203,
          2.724830389022827,
          -7.452811241149902,
          -4.660557270050049,
          -1.5869266986846924,
          2.536752700805664,
          2.797849655151367,
          -4.073819160461426,
          -4.246501445770264,
          3.386878728866577,
          2.0391736030578613,
          -0.3197014331817627,
          8.097508430480957,
          -1.1790002584457397,
          0.36446428298950195,
          3.2079215049743652,
          3.8781487941741943,
          3.24181866645813,
          1.5192323923110962,
          3.6780855655670166,
          2.977611780166626,
          -4.808692932128906,
          -4.000163555145264,
          -2.1186695098876953,
          5.8697052001953125,
          5.337570667266846,
          3.5094337463378906,
          -2.572589874267578,
          2.1389191150665283,
          -0.25963276624679565,
          3.0852556228637695,
          -5.065863132476807,
          -5.594180583953857,
          1.840950846672058,
          -3.128520965576172,
          3.674299955368042,
          5.15841007232666,
          2.476426124572754,
          2.184812307357788,
          -1.2535899877548218,
          2.23435640335083,
          0.899514377117157,
          1.4291300773620605,
          -4.008030891418457,
          6.005255699157715,
          5.824917316436768,
          -1.0714777708053589,
          0.5798765420913696,
          -0.7803875803947449,
          0.6335143446922302,
          7.768453121185303,
          8.184599876403809,
          -2.8921778202056885,
          2.520916223526001,
          -1.3444936275482178,
          5.250204563140869,
          -5.4406046867370605,
          -3.3551652431488037,
          -1.047440528869629,
          -3.0234122276306152,
          -6.039219379425049,
          -2.8900625705718994,
          5.467935562133789,
          0.8970848917961121,
          -2.2473316192626953,
          7.722817420959473,
          8.622450828552246,
          -6.937591075897217,
          -1.0968776941299438,
          -8.91788387298584,
          -4.1481852531433105,
          6.162188529968262,
          0.7868699431419373,
          2.1210319995880127,
          0.6768932342529297,
          1.0621873140335083,
          -2.8545050621032715,
          3.889904499053955,
          -3.744450092315674,
          -5.8028364181518555,
          -2.6794795989990234,
          -2.575237989425659,
          2.516188383102417,
          2.7848970890045166,
          -3.395548105239868,
          5.672543048858643,
          2.910189151763916,
          -3.8273234367370605,
          -5.90200662612915,
          -7.943459987640381,
          -2.257800340652466,
          6.001119136810303,
          -8.472064018249512,
          1.306037187576294,
          2.0957162380218506,
          4.595012664794922,
          -2.372429847717285,
          1.3898992538452148,
          -2.8932743072509766,
          9.10920238494873,
          -0.7081954479217529,
          -6.249216556549072,
          3.3771679401397705,
          1.0633234977722168,
          3.0705668926239014,
          -7.140376567840576,
          0.49732908606529236,
          4.722164154052734,
          1.493898630142212,
          8.370864868164062,
          5.992483615875244,
          0.5356598496437073,
          -4.823376178741455,
          -2.8094565868377686,
          0.6347336769104004,
          -5.050415515899658,
          -6.169492721557617,
          4.681979179382324,
          -2.530686378479004,
          -7.230432033538818,
          -1.314012050628662,
          -3.2361392974853516,
          -5.7918009757995605,
          -0.4124580919742584,
          1.283007025718689,
          -4.6887431144714355,
          -2.500094413757324,
          -5.156265735626221,
          6.673815727233887,
          3.236086368560791,
          -1.7840211391448975,
          -3.7539193630218506,
          -6.5571393966674805,
          -1.7093944549560547,
          -1.1089049577713013,
          5.420450210571289,
          4.684500217437744,
          2.5784080028533936,
          -4.997807502746582,
          -0.012968046590685844,
          -4.089389324188232,
          -1.2099920511245728,
          3.1650898456573486,
          2.882678985595703,
          -0.05713605508208275,
          -0.05014558508992195,
          0.7290967702865601,
          0.5573740601539612,
          -6.8447041511535645,
          -7.182728290557861,
          -0.6560379266738892,
          -4.959785461425781,
          3.1541056632995605,
          -2.0194458961486816,
          -5.778321743011475,
          6.870227813720703,
          0.06754910945892334,
          -0.07960627973079681,
          -4.203567981719971,
          9.103141784667969,
          8.422407150268555,
          2.300210952758789,
          3.1479287147521973,
          -0.7171823382377625,
          8.33680248260498,
          1.7286183834075928,
          -4.1564621925354,
          -4.548711776733398,
          5.071286678314209,
          -1.6373814344406128,
          -8.359373092651367,
          3.74504017829895,
          7.414486408233643,
          -8.385581016540527,
          -4.753604412078857,
          6.5265727043151855,
          1.3844281435012817,
          5.943111896514893,
          3.3171896934509277,
          2.4104580879211426,
          -1.1244264841079712,
          6.074820518493652,
          8.658869743347168,
          -4.384239196777344,
          -7.56401252746582,
          -8.759034156799316,
          2.843722343444824,
          -7.2794718742370605,
          -5.3378214836120605,
          -0.036994535475969315,
          -2.9672727584838867,
          8.490915298461914,
          -2.2477078437805176,
          -2.5658044815063477,
          -0.6981114745140076,
          -7.3283915519714355,
          -1.714349389076233,
          6.767946720123291,
          -2.897876739501953,
          6.4159321784973145,
          -0.04017317295074463,
          -2.504289150238037,
          2.261855363845825,
          -4.695852756500244,
          1.9322375059127808,
          6.495960712432861,
          3.0265796184539795,
          6.875010013580322,
          -4.538046836853027,
          -4.9041619300842285,
          3.469024896621704,
          3.407357931137085,
          -2.21657395362854,
          6.455875873565674,
          -2.1215739250183105,
          -5.996003150939941,
          -5.322272777557373,
          -2.6400222778320312,
          -3.9300596714019775,
          -4.7213544845581055,
          -4.034842014312744,
          -4.625147819519043,
          -2.6567182540893555,
          -5.255593299865723,
          -4.160041332244873,
          -5.97666597366333,
          -4.381290912628174,
          -7.524973392486572,
          2.9974148273468018,
          -4.510264873504639,
          4.112103462219238,
          -4.399920463562012,
          -5.884494304656982,
          -7.716978073120117,
          -0.47146841883659363,
          0.02034670114517212,
          2.629581928253174,
          4.843657970428467,
          0.052127350121736526,
          3.332998037338257,
          -2.0885229110717773,
          6.319212913513184,
          3.7025272846221924,
          -3.323442220687866,
          -2.6053316593170166,
          8.796889305114746,
          -3.901232957839966,
          1.280659556388855,
          -2.436534881591797,
          -5.240909099578857,
          -1.1178240776062012,
          8.695914268493652,
          3.64247989654541,
          -2.557915210723877,
          -3.4770238399505615,
          -1.2128492593765259,
          -1.8193830251693726,
          3.444307327270508,
          -3.4001665115356445,
          0.6024442315101624,
          2.8784096240997314,
          -5.305753231048584,
          6.014664173126221,
          -1.8097409009933472,
          2.0417943000793457,
          -5.804843425750732,
          4.2434892654418945,
          5.414701461791992,
          -2.2274012565612793,
          -7.709695339202881,
          5.689858913421631,
          -5.730175018310547,
          3.0693840980529785,
          -4.326231956481934,
          -3.1624457836151123,
          3.7019460201263428,
          8.064931869506836,
          -0.12667019665241241,
          4.037259101867676,
          5.582700252532959,
          0.716437816619873,
          1.8832765817642212,
          0.6122882962226868,
          -1.0381731986999512,
          4.030285835266113,
          -3.783385753631592,
          -4.6125640869140625,
          4.632251262664795,
          3.8785409927368164,
          -4.274752616882324,
          2.852597951889038,
          -4.2552714347839355,
          -4.679455757141113,
          -3.119596242904663,
          4.101675987243652,
          -2.5763585567474365,
          -5.196938514709473,
          -4.582959175109863,
          -4.162008762359619,
          -6.411676406860352,
          6.204499244689941,
          -3.710456609725952,
          2.8935115337371826,
          -1.4876736402511597,
          -6.2353596687316895,
          -2.6024973392486572,
          -6.366453170776367,
          -4.971991539001465,
          -2.560800075531006,
          1.7901042699813843,
          3.3415865898132324,
          -8.185575485229492,
          -2.93060302734375,
          -1.8654221296310425,
          -5.107514381408691,
          2.5772595405578613,
          6.262172698974609,
          1.8259518146514893,
          7.007850170135498,
          -1.6660271883010864,
          -5.495645046234131,
          -8.012533187866211,
          1.113112211227417,
          -2.5078513622283936,
          5.91451358795166,
          4.5101494789123535,
          5.405596733093262,
          1.7114683389663696,
          2.93691349029541,
          3.571413993835449,
          5.7718281745910645,
          0.6181502938270569,
          -1.3915363550186157,
          -0.6421306133270264,
          -5.000226020812988,
          -3.2154605388641357,
          0.9786523580551147,
          -5.646129608154297,
          1.1612765789031982,
          -5.571268558502197,
          -0.26073822379112244,
          -4.93278694152832,
          0.2202797830104828,
          6.0525078773498535,
          -2.783921957015991,
          0.6078056693077087,
          6.833536624908447,
          -3.10402774810791,
          0.38758584856987,
          2.4194302558898926,
          -4.9819841384887695,
          -4.361789226531982,
          0.8769912123680115,
          -3.3036601543426514,
          4.49533748626709,
          5.050482749938965,
          2.4114861488342285,
          8.92718505859375,
          1.406721591949463,
          -6.078131198883057,
          -1.2404605150222778,
          -4.380874156951904,
          -6.939234733581543,
          -1.4809465408325195,
          6.334173202514648,
          7.276904582977295,
          -4.698704719543457,
          5.146144866943359,
          2.6909146308898926,
          3.559220314025879,
          6.027741432189941,
          -6.856750965118408,
          3.3524630069732666,
          -2.069809913635254,
          3.6508989334106445,
          -3.260631561279297,
          -0.5924574136734009,
          -1.4951865673065186,
          9.152087211608887,
          -3.5423176288604736,
          5.004311561584473,
          2.9109373092651367,
          -4.480690956115723,
          -1.4376972913742065,
          -6.071059226989746,
          5.6151018142700195,
          -5.411966323852539,
          1.2051751613616943,
          -4.096601963043213,
          6.693233966827393,
          -7.029141426086426,
          8.915976524353027,
          -5.988646984100342,
          8.223236083984375,
          8.294869422912598,
          1.2545193433761597,
          2.7768197059631348,
          -7.537511348724365,
          -2.498328924179077,
          -4.493305206298828,
          -4.820151329040527,
          1.5540103912353516,
          3.290224075317383,
          -6.481782913208008,
          4.463014602661133,
          5.280892848968506,
          8.865249633789062,
          0.7289084196090698,
          4.079272747039795,
          -1.511074185371399,
          -3.8210842609405518,
          -6.4099507331848145,
          -0.9555505514144897,
          -3.3900296688079834,
          -2.405839204788208,
          2.9937832355499268,
          -0.5411602854728699,
          -1.3728187084197998,
          -1.1886742115020752,
          -7.159794330596924,
          -5.008418083190918,
          -2.2093069553375244,
          6.4795451164245605,
          -0.8488348722457886,
          -0.502558171749115,
          -6.271793842315674,
          5.089691638946533,
          -7.232087135314941,
          0.3754095435142517,
          5.810519218444824,
          5.781826019287109,
          2.4376533031463623,
          7.401779651641846,
          7.7363739013671875,
          0.9208844304084778,
          0.26348623633384705,
          1.3011761903762817,
          2.369321584701538,
          -0.4841981828212738,
          7.718540191650391,
          8.945493698120117,
          -8.006725311279297,
          -0.7879787087440491,
          4.775395393371582,
          -1.5713584423065186,
          -2.70404314994812,
          -7.645337104797363,
          -5.883015155792236,
          0.5721225142478943,
          0.22141896188259125,
          1.856292724609375,
          -6.904190540313721,
          -7.130398273468018,
          -6.81475305557251,
          -0.41163966059684753,
          2.2546236515045166,
          -4.68311071395874,
          2.45595121383667,
          6.8407087326049805,
          2.09181809425354,
          5.368042945861816,
          -1.2638157606124878,
          -4.921909332275391,
          0.8824585676193237,
          2.59403395652771,
          -6.228384971618652,
          4.468323230743408,
          -1.7881475687026978,
          -6.862456798553467,
          0.42346644401550293,
          -6.908650875091553,
          4.31229305267334,
          -7.98042631149292,
          2.2139718532562256,
          1.6709047555923462,
          1.8363771438598633,
          -1.8851805925369263,
          7.560870170593262,
          -2.812901496887207,
          2.3611557483673096,
          -7.139684677124023,
          4.72283935546875,
          -6.691747665405273,
          -3.030813217163086,
          -4.490176677703857,
          -1.6558854579925537,
          8.916864395141602,
          -4.606827259063721,
          0.6423452496528625,
          5.262924671173096,
          -6.550327301025391,
          -3.075690269470215,
          5.5540080070495605,
          5.304703235626221,
          -0.22033679485321045,
          -4.858144283294678,
          -6.918970584869385,
          4.095564365386963,
          -9.01484489440918,
          7.761568069458008,
          2.1110215187072754,
          3.15462064743042,
          -4.218575477600098,
          -1.8625884056091309,
          -5.132775783538818,
          2.4949686527252197,
          -7.6530046463012695,
          4.602181911468506,
          -1.5536119937896729,
          0.9773505330085754,
          5.697440147399902,
          4.409104347229004,
          1.4562809467315674,
          2.271709442138672,
          -2.7528295516967773,
          -8.258461952209473,
          2.5184054374694824,
          2.7754909992218018,
          -4.087259292602539,
          -2.8608829975128174,
          -1.1868369579315186,
          4.524970531463623,
          3.4319584369659424,
          6.49913215637207,
          2.5487561225891113,
          8.397407531738281,
          -2.3906474113464355,
          5.5440449714660645,
          7.0427470207214355,
          -2.9056310653686523,
          -0.9854111671447754,
          -4.698057174682617,
          3.4776768684387207,
          1.5741732120513916,
          1.2108114957809448,
          -3.6344685554504395,
          10.194148063659668,
          -5.829759120941162,
          5.47282600402832,
          4.974738597869873,
          11.291297912597656,
          -7.044519901275635,
          2.474707841873169,
          0.4778344929218292,
          -3.5262749195098877,
          -8.105695724487305,
          -0.8777345418930054,
          -9.588759422302246,
          3.9822964668273926,
          1.0929583311080933,
          11.309649467468262,
          -9.61888599395752,
          -3.461210012435913,
          0.9141305088996887,
          1.134633183479309,
          -1.3420337438583374,
          0.6467226147651672,
          -7.088223457336426,
          -2.605592727661133,
          0.331393837928772,
          7.369642734527588,
          7.685092449188232,
          1.3177993297576904,
          -3.8583381175994873,
          7.090477466583252,
          -7.605087757110596,
          -8.0918550491333,
          -3.7960169315338135,
          4.014425754547119,
          -1.4555399417877197,
          -2.1163628101348877,
          -2.7810325622558594,
          4.190359115600586,
          -3.5317587852478027,
          -4.78190803527832,
          -5.7097697257995605,
          5.531078815460205,
          -4.20535135269165,
          -1.9622764587402344,
          -0.47357702255249023,
          5.516615390777588,
          2.5991735458374023,
          5.730581283569336,
          -2.17681884765625,
          5.932846546173096,
          4.5905070304870605,
          -2.46138334274292,
          -2.030438184738159,
          2.423870325088501,
          -3.170011520385742,
          2.2561497688293457,
          7.009962558746338,
          -0.448132187128067,
          4.045595169067383,
          2.664461612701416,
          -4.5132598876953125,
          -5.203181743621826,
          -6.684056758880615,
          0.1811322420835495,
          0.08698651194572449,
          6.4662394523620605,
          -0.3783351182937622,
          6.637634754180908,
          -3.4867959022521973,
          -7.591769218444824,
          -5.7169718742370605,
          0.7025613188743591,
          -4.871803283691406,
          -0.12409106642007828,
          -1.374746561050415,
          0.6475443243980408,
          -6.273961544036865,
          -5.4874043464660645,
          -2.9644055366516113,
          0.4527614116668701,
          -1.7164627313613892,
          -0.3671838343143463,
          -2.272022247314453,
          4.8899946212768555,
          0.8301569819450378,
          4.45054292678833,
          -2.268948793411255,
          -0.4413175582885742,
          4.646879196166992,
          -4.6491780281066895,
          5.210553169250488,
          -5.658387184143066,
          -1.5083221197128296,
          3.047410726547241,
          -1.705265998840332,
          2.1118075847625732,
          -3.169340133666992,
          -0.8867224454879761,
          -0.264405757188797,
          -2.8986618518829346,
          -4.40656852722168,
          -1.5532903671264648,
          1.3935526609420776,
          -4.007727146148682,
          0.7345231771469116,
          -3.181004524230957,
          8.01307487487793,
          -5.473565101623535,
          5.092790603637695,
          5.356528282165527,
          -5.696314811706543,
          -3.090437412261963,
          -1.9730331897735596,
          1.8347984552383423,
          -0.9322617650032043,
          5.919103622436523,
          2.5937750339508057,
          5.8434648513793945,
          2.7951526641845703,
          0.48204633593559265,
          -1.9661166667938232,
          -0.2850610911846161,
          -0.013564115390181541,
          -6.440932273864746,
          7.832136154174805,
          -2.729304790496826,
          -4.8897199630737305,
          6.7581071853637695,
          -4.394725799560547,
          -2.8677303791046143,
          9.171841621398926,
          4.60668420791626,
          2.748229503631592,
          2.4940805435180664,
          7.809577465057373,
          5.571585655212402,
          2.056253671646118,
          0.6168009638786316,
          -2.6432816982269287,
          -0.5259158611297607,
          6.405544281005859,
          0.5451299548149109,
          -1.0206310749053955,
          5.69123649597168,
          1.1359875202178955,
          -2.6845200061798096,
          -0.28703585267066956,
          -6.54095458984375,
          6.624772071838379,
          -2.452428102493286,
          0.9983342885971069,
          -2.1686413288116455,
          -4.538017272949219,
          1.8440940380096436,
          -1.959179401397705,
          8.00537395477295,
          -1.7391777038574219,
          5.385045051574707,
          -3.611421823501587,
          -2.2860629558563232,
          -5.680281639099121,
          -0.06142839044332504,
          0.4098786413669586,
          8.766502380371094,
          0.3934227526187897,
          -0.766037106513977,
          2.815605401992798,
          -1.5358812808990479,
          0.9231781363487244,
          -1.457863688468933,
          -3.1668784618377686,
          -0.04441734403371811,
          3.7151007652282715,
          -5.23631477355957,
          -7.150424003601074,
          0.5861762166023254,
          -6.342723846435547,
          2.0824832916259766,
          -0.36245280504226685,
          -1.9630953073501587,
          -5.210683345794678,
          6.752991199493408,
          4.179102897644043,
          5.133617401123047,
          -5.278731346130371,
          -4.0873703956604,
          -7.150200366973877,
          3.1368398666381836,
          5.183783531188965,
          3.4006590843200684,
          2.7855236530303955,
          -5.579928874969482,
          3.0176844596862793,
          -3.2033748626708984,
          -7.016685485839844,
          -3.7146189212799072,
          -4.374197006225586,
          -5.9888458251953125,
          -1.6050763130187988,
          2.1351115703582764,
          -0.6388814449310303,
          6.582368850708008,
          -0.12945029139518738,
          4.949650764465332,
          3.5536110401153564,
          1.494133710861206,
          2.6045889854431152,
          -5.507944107055664,
          -1.5776174068450928,
          -4.859134197235107,
          -2.115723133087158,
          -6.7026262283325195,
          4.1505608558654785,
          5.743886947631836,
          -7.124919414520264,
          1.4803897142410278,
          7.315018653869629,
          4.540499687194824,
          -3.0862302780151367,
          10.52122688293457,
          -7.649685382843018,
          -5.0761003494262695,
          2.7517688274383545,
          0.16672199964523315,
          2.312899351119995,
          -7.193151950836182,
          -3.671246290206909,
          2.1835834980010986,
          6.364053726196289,
          -0.7272225022315979,
          -2.528409481048584,
          5.682012557983398,
          4.680421352386475,
          5.322096347808838,
          -4.313149929046631,
          2.4860336780548096,
          -0.9611063003540039,
          3.1094911098480225,
          3.357023239135742,
          3.0854411125183105,
          -3.2592413425445557,
          6.572439670562744,
          -3.9878957271575928,
          5.167827606201172,
          -2.418201208114624,
          -5.115275859832764,
          -0.20943878591060638,
          2.0204668045043945,
          -8.410088539123535,
          -2.4959542751312256,
          5.771726608276367,
          7.562241554260254,
          -3.7121899127960205,
          -5.2725725173950195,
          5.377079486846924,
          4.198099136352539,
          4.70482873916626,
          1.2119812965393066,
          -2.062730550765991,
          -3.60795259475708,
          1.496056318283081,
          -4.334469795227051,
          -6.55341911315918,
          -2.8454999923706055,
          -2.1257874965667725,
          -6.061454772949219,
          3.905148506164551,
          1.4416900873184204,
          7.776113033294678,
          -1.331264853477478,
          -8.691418647766113,
          5.80292272567749,
          -4.356655597686768,
          -2.1574971675872803,
          -3.2344202995300293,
          8.110492706298828,
          -7.557027339935303,
          4.147256851196289,
          4.5479888916015625,
          -4.528456687927246,
          -1.1695784330368042,
          1.3474476337432861,
          7.927278995513916,
          -0.2201543152332306,
          0.7931749820709229,
          2.5613372325897217,
          3.995640754699707,
          7.397161483764648,
          5.427245140075684,
          -5.900196075439453,
          -2.3903255462646484,
          2.593740224838257,
          5.6609416007995605,
          -7.438162803649902,
          -8.012907028198242,
          -2.268796920776367,
          3.883512258529663,
          7.492812156677246
         ],
         "y": [
          5.708261966705322,
          -11.81031322479248,
          13.076433181762695,
          5.749504566192627,
          17.2089786529541,
          0.8748147487640381,
          -13.26812744140625,
          8.234245300292969,
          1.626078724861145,
          -16.072359085083008,
          3.610183000564575,
          12.614386558532715,
          3.674583911895752,
          -2.865751028060913,
          9.33364486694336,
          7.4509806632995605,
          3.606382131576538,
          -10.427836418151855,
          11.847594261169434,
          11.330023765563965,
          0.22628895938396454,
          4.8479838371276855,
          15.929366111755371,
          1.638136386871338,
          5.079912185668945,
          3.2879068851470947,
          12.168808937072754,
          -2.596431255340576,
          7.301158905029297,
          9.828373908996582,
          -0.5166409015655518,
          -10.924836158752441,
          -1.8727010488510132,
          11.759596824645996,
          -4.9222846031188965,
          3.41705584526062,
          0.9602732062339783,
          -2.689636468887329,
          6.631007194519043,
          1.862690806388855,
          -14.49970531463623,
          9.387164115905762,
          -9.658979415893555,
          3.6194229125976562,
          10.32188892364502,
          7.286866188049316,
          10.337510108947754,
          1.3594123125076294,
          12.489871978759766,
          -13.365554809570312,
          4.134594917297363,
          10.186942100524902,
          -4.71598482131958,
          7.2584428787231445,
          2.1016690731048584,
          -12.77523136138916,
          -14.90831470489502,
          -8.005962371826172,
          11.475461959838867,
          10.264725685119629,
          -6.892878532409668,
          -8.52635669708252,
          10.531055450439453,
          8.960615158081055,
          -11.86660099029541,
          10.188826560974121,
          -10.6505765914917,
          -10.124164581298828,
          12.519447326660156,
          4.302443027496338,
          13.55025863647461,
          7.977371692657471,
          7.616029262542725,
          3.704987049102783,
          1.3870490789413452,
          2.1924054622650146,
          11.984172821044922,
          9.037819862365723,
          -0.09690861403942108,
          -1.4704198837280273,
          -1.270691990852356,
          2.4825997352600098,
          14.623537063598633,
          -7.01874303817749,
          -11.644881248474121,
          -7.8636579513549805,
          -10.509810447692871,
          -13.105324745178223,
          -4.6303887367248535,
          4.77389669418335,
          4.627399921417236,
          3.687424421310425,
          -8.371838569641113,
          -14.51881217956543,
          -11.58377742767334,
          11.482820510864258,
          -5.881477355957031,
          -6.862106800079346,
          -4.251856327056885,
          12.439478874206543,
          7.249362945556641,
          -13.279377937316895,
          -6.975144863128662,
          -5.7275872230529785,
          10.451580047607422,
          -4.493344306945801,
          -7.213393688201904,
          -8.562026977539062,
          0.5066501498222351,
          9.282205581665039,
          4.321159362792969,
          7.436527252197266,
          0.8054839372634888,
          0.8401312232017517,
          14.813127517700195,
          2.1672041416168213,
          -15.7540864944458,
          -14.760956764221191,
          3.989689350128174,
          -5.994940280914307,
          1.5595107078552246,
          -2.99709153175354,
          -7.152240753173828,
          -11.790499687194824,
          -5.842106819152832,
          -9.798410415649414,
          -10.072044372558594,
          5.918947696685791,
          -11.191206932067871,
          -8.839558601379395,
          -4.259992599487305,
          -5.676362991333008,
          5.0865397453308105,
          -11.218389511108398,
          -14.319718360900879,
          2.5467536449432373,
          15.322589874267578,
          7.0596394538879395,
          -9.929191589355469,
          -2.1901187896728516,
          4.007513523101807,
          3.326341152191162,
          -5.518050193786621,
          15.190546989440918,
          -6.036214351654053,
          -3.3773391246795654,
          5.245400428771973,
          -12.367620468139648,
          -10.898948669433594,
          -4.357868671417236,
          4.762333869934082,
          2.1312732696533203,
          -4.357363700866699,
          -6.1079630851745605,
          5.656637191772461,
          -6.591552257537842,
          -12.956039428710938,
          -13.413925170898438,
          3.138270139694214,
          2.93097186088562,
          -15.266836166381836,
          -7.6177473068237305,
          4.079167366027832,
          -1.4239368438720703,
          4.853156089782715,
          -14.256220817565918,
          4.300341606140137,
          12.007033348083496,
          11.428328514099121,
          -6.542628288269043,
          -7.4921064376831055,
          -6.1003546714782715,
          4.67683744430542,
          14.884438514709473,
          -4.231306076049805,
          -12.97809886932373,
          3.0302062034606934,
          14.2396821975708,
          -11.212888717651367,
          6.867286682128906,
          -3.991013526916504,
          5.6658525466918945,
          -10.475927352905273,
          11.960622787475586,
          11.912919044494629,
          -16.203086853027344,
          8.215705871582031,
          -5.03034782409668,
          -1.665427327156067,
          2.3396615982055664,
          -12.75726318359375,
          15.426403999328613,
          3.5838258266448975,
          14.875081062316895,
          -16.006446838378906,
          -13.67209243774414,
          -4.6455583572387695,
          -7.73207426071167,
          8.307441711425781,
          -5.419347286224365,
          -2.5647294521331787,
          -3.525782585144043,
          -10.98189926147461,
          14.563827514648438,
          13.92847728729248,
          -10.654685974121094,
          -2.5056607723236084,
          -2.9877965450286865,
          4.95018196105957,
          -10.399312973022461,
          -5.427617073059082,
          7.430758476257324,
          10.360913276672363,
          3.015052080154419,
          -2.8683767318725586,
          -4.413149833679199,
          -10.326828956604004,
          8.379219055175781,
          11.168573379516602,
          -1.223541021347046,
          14.164449691772461,
          -8.2825927734375,
          13.861834526062012,
          0.22396491467952728,
          -16.002607345581055,
          -1.6552737951278687,
          -10.907530784606934,
          -2.189863920211792,
          -14.819331169128418,
          5.163337707519531,
          -13.407815933227539,
          -8.664055824279785,
          6.32187557220459,
          6.934625625610352,
          -4.553042888641357,
          -7.928333759307861,
          -2.5198915004730225,
          1.6300970315933228,
          6.155625343322754,
          14.718378067016602,
          -3.2895724773406982,
          -5.089573383331299,
          13.074204444885254,
          -12.58994197845459,
          8.083553314208984,
          -15.418240547180176,
          -0.3827776610851288,
          2.0961554050445557,
          -10.80174732208252,
          15.829407691955566,
          -4.31672477722168,
          -3.0770175457000732,
          7.846911907196045,
          -7.36561393737793,
          -4.360618591308594,
          -0.41759994626045227,
          4.868103981018066,
          -14.213727951049805,
          5.445228576660156,
          -5.603775501251221,
          14.311775207519531,
          -6.224417209625244,
          16.153850555419922,
          -4.031494617462158,
          -4.057454586029053,
          -12.289373397827148,
          8.457740783691406,
          -15.418867111206055,
          0.516816258430481,
          -6.001135349273682,
          -7.41006326675415,
          -12.690696716308594,
          3.84767746925354,
          14.092785835266113,
          3.877392530441284,
          -9.036026954650879,
          10.374427795410156,
          15.393922805786133,
          -8.26925277709961,
          -1.7476929426193237,
          -10.910837173461914,
          13.931839942932129,
          -3.403027296066284,
          2.2830028533935547,
          14.130105972290039,
          -9.487051010131836,
          -9.108687400817871,
          -8.543020248413086,
          -14.340924263000488,
          7.8870134353637695,
          4.592000961303711,
          -9.445384979248047,
          -6.815361976623535,
          -9.278022766113281,
          -7.092305660247803,
          2.447439670562744,
          5.428558826446533,
          -0.5959782600402832,
          -5.986915588378906,
          4.631861686706543,
          -8.662336349487305,
          -15.341728210449219,
          11.234000205993652,
          8.06495475769043,
          6.206699371337891,
          3.702425956726074,
          -6.2510504722595215,
          3.5673487186431885,
          -13.689661026000977,
          11.865168571472168,
          11.185964584350586,
          -12.694086074829102,
          6.05723237991333,
          14.631109237670898,
          -6.004272937774658,
          5.903435707092285,
          -6.353331089019775,
          -12.956669807434082,
          2.9410271644592285,
          -11.388132095336914,
          -8.18887996673584,
          3.5211026668548584,
          7.585499286651611,
          -8.330581665039062,
          0.6955525279045105,
          4.015089511871338,
          9.30306625366211,
          9.28678035736084,
          11.330288887023926,
          5.641883850097656,
          -15.577768325805664,
          8.499822616577148,
          -8.082070350646973,
          -5.236512660980225,
          -12.823923110961914,
          12.040687561035156,
          -9.279853820800781,
          2.5423176288604736,
          8.262227058410645,
          7.908413410186768,
          3.583414316177368,
          -3.835618019104004,
          3.86725115776062,
          -6.801914215087891,
          8.502747535705566,
          12.838227272033691,
          -11.243192672729492,
          -15.016282081604004,
          5.2769999504089355,
          8.326862335205078,
          -2.781909704208374,
          3.400951623916626,
          -4.899550914764404,
          -12.63255786895752,
          -9.112020492553711,
          -3.7097198963165283,
          -4.437558650970459,
          -7.357481956481934,
          12.493866920471191,
          4.026918888092041,
          -10.252355575561523,
          -7.1458587646484375,
          -0.9329234957695007,
          -12.364922523498535,
          6.51666259765625,
          3.8362045288085938,
          10.360368728637695,
          -16.802446365356445,
          -14.432650566101074,
          -8.986275672912598,
          -9.452125549316406,
          -3.389735221862793,
          13.254759788513184,
          9.755311012268066,
          7.532766342163086,
          -10.697522163391113,
          2.0722107887268066,
          6.33015251159668,
          -11.908998489379883,
          3.1322779655456543,
          4.352841854095459,
          -2.495816469192505,
          1.8892855644226074,
          -2.512085437774658,
          -9.762452125549316,
          -5.712475299835205,
          -6.437698841094971,
          -5.554460525512695,
          -5.098042964935303,
          7.118869781494141,
          -10.928353309631348,
          -5.649713516235352,
          4.830472469329834,
          1.499113917350769,
          -4.639195442199707,
          -12.550376892089844,
          -4.222386837005615,
          8.282801628112793,
          4.9558305740356445,
          -1.1563218832015991,
          -5.825706481933594,
          -7.7880682945251465,
          -12.541898727416992,
          -11.22082233428955,
          10.360359191894531,
          -15.253717422485352,
          11.792383193969727,
          -1.6263636350631714,
          1.8938101530075073,
          -8.568766593933105,
          -10.526808738708496,
          3.0550267696380615,
          11.641983032226562,
          3.2531816959381104,
          -9.854704856872559,
          -9.205229759216309,
          -12.359182357788086,
          -12.094443321228027,
          9.068382263183594,
          12.55003547668457,
          7.224684238433838,
          -8.126880645751953,
          -8.264338493347168,
          -9.953405380249023,
          11.208868026733398,
          -14.549220085144043,
          -13.431721687316895,
          5.9952263832092285,
          6.909730911254883,
          11.771358489990234,
          2.520252227783203,
          -15.1739501953125,
          -7.238032341003418,
          7.151249885559082,
          13.461445808410645,
          -4.204408645629883,
          -6.942319869995117,
          13.233418464660645,
          0.6170632243156433,
          13.461191177368164,
          -4.002024173736572,
          0.2187417447566986,
          14.175323486328125,
          12.360811233520508,
          -4.637067794799805,
          3.4776461124420166,
          11.720669746398926,
          -8.331014633178711,
          14.463569641113281,
          5.5512495040893555,
          -8.01699161529541,
          14.940301895141602,
          -11.242546081542969,
          3.486046314239502,
          1.9698058366775513,
          -10.602519035339355,
          -2.3244218826293945,
          14.991434097290039,
          0.3993851840496063,
          -1.3748180866241455,
          -10.030707359313965,
          13.128496170043945,
          -9.883417129516602,
          -2.5589077472686768,
          -0.48816201090812683,
          4.580126762390137,
          0.22837789356708527,
          11.762066841125488,
          -14.220438003540039,
          12.252276420593262,
          0.7016400694847107,
          -6.275214672088623,
          -10.550493240356445,
          2.079547882080078,
          -10.244850158691406,
          -16.019176483154297,
          -13.101066589355469,
          5.7110700607299805,
          2.9781529903411865,
          -11.68867015838623,
          -12.922588348388672,
          -7.916145324707031,
          7.076102256774902,
          12.128392219543457,
          -15.779501914978027,
          12.854695320129395,
          -5.019344806671143,
          7.644241809844971,
          3.331838607788086,
          15.766414642333984,
          2.4137425422668457,
          2.3709895610809326,
          4.436180114746094,
          11.660359382629395,
          12.834567070007324,
          5.8331146240234375,
          -7.959666728973389,
          2.302886724472046,
          -6.855113506317139,
          5.671400547027588,
          -10.032498359680176,
          -2.3612582683563232,
          4.018894195556641,
          -4.261602401733398,
          6.791606903076172,
          15.442607879638672,
          1.232385516166687,
          -14.087712287902832,
          8.27916431427002,
          6.277933597564697,
          15.332077980041504,
          -13.836573600769043,
          -5.586838722229004,
          7.9283061027526855,
          -0.8503027558326721,
          -8.936875343322754,
          -5.471276760101318,
          0.785418689250946,
          -2.834495782852173,
          -6.068850994110107,
          8.506614685058594,
          13.585845947265625,
          6.109588146209717,
          11.084805488586426,
          11.121230125427246,
          -16.108646392822266,
          -3.1071763038635254,
          -15.40893268585205,
          -3.8060929775238037,
          6.465049743652344,
          -6.843682289123535,
          9.630064010620117,
          2.7604401111602783,
          -8.816947937011719,
          1.9047490358352661,
          10.426447868347168,
          -9.625990867614746,
          14.195478439331055,
          1.4213035106658936,
          -6.415466785430908,
          -1.3501858711242676,
          4.139467716217041,
          -10.279740333557129,
          -11.574831008911133,
          -15.197464942932129,
          3.2463419437408447,
          -3.92470645904541,
          5.537166118621826,
          6.336985111236572,
          -3.6137912273406982,
          -7.379922866821289,
          1.7440601587295532,
          13.189702987670898,
          3.104094982147217,
          -8.509071350097656,
          -7.253597259521484,
          2.4779675006866455,
          2.8570873737335205,
          9.012070655822754,
          -0.5345419049263,
          12.78993034362793,
          11.440905570983887,
          -9.3475923538208,
          4.104585647583008,
          -8.005172729492188,
          -2.683713674545288,
          -12.596663475036621,
          -2.430170774459839,
          6.015432357788086,
          2.627748966217041,
          6.108788967132568,
          2.2518398761749268,
          9.031542778015137,
          8.585728645324707,
          -11.863264083862305,
          12.062207221984863,
          -12.350728988647461,
          -13.764102935791016,
          2.904695749282837,
          2.2059412002563477,
          7.1399149894714355,
          2.3779256343841553,
          10.108261108398438,
          -12.605857849121094,
          -13.695891380310059,
          -2.819298505783081,
          6.042658805847168,
          -9.307497024536133,
          -16.4276123046875,
          10.133604049682617,
          -8.002982139587402,
          -11.234556198120117,
          0.35246869921684265,
          9.787960052490234,
          -1.1412705183029175,
          -4.941483020782471,
          7.786594867706299,
          10.513571739196777,
          5.679075241088867,
          12.402765274047852,
          5.124818801879883,
          -2.868584156036377,
          6.68725061416626,
          -14.339546203613281,
          4.157199382781982,
          -10.195917129516602,
          9.820490837097168,
          10.230317115783691,
          -6.6810078620910645,
          -8.590899467468262,
          5.693060398101807,
          4.135647296905518,
          8.052892684936523,
          4.436969757080078,
          -3.1945791244506836,
          -10.134198188781738,
          -3.6945157051086426,
          -4.311936855316162,
          -6.0628557205200195,
          6.054220199584961,
          -0.414667010307312,
          -5.587169170379639,
          -4.435573577880859,
          -2.3330929279327393,
          10.838346481323242,
          11.054366111755371,
          -15.403027534484863,
          15.548283576965332,
          -2.4184155464172363,
          -2.4314486980438232,
          0.9437382817268372,
          -7.396211624145508,
          1.6335387229919434,
          14.042065620422363,
          5.067827224731445,
          1.6048756837844849,
          2.139808177947998,
          -0.8028441667556763,
          2.144254684448242,
          -1.7218363285064697,
          13.886491775512695,
          -10.365668296813965,
          -13.735498428344727,
          3.011171817779541,
          9.498361587524414,
          3.813140869140625,
          12.043699264526367,
          1.049573302268982,
          13.64549446105957,
          4.1625518798828125,
          -10.863897323608398,
          -12.167084693908691,
          -2.4017815589904785,
          4.690578460693359,
          -13.339244842529297,
          -8.970178604125977,
          13.384589195251465,
          2.555145740509033,
          -4.584686756134033,
          9.189696311950684,
          11.941956520080566,
          -4.796769618988037,
          -0.40973445773124695,
          5.13722562789917,
          4.845982074737549,
          -2.4729344844818115,
          7.415015697479248,
          -11.414107322692871,
          -7.876283645629883,
          -12.84410285949707,
          -1.602332353591919,
          -3.9162111282348633,
          -5.6949381828308105,
          -2.4835128784179688,
          3.0712881088256836,
          -8.354317665100098,
          -11.416962623596191,
          0.9370688796043396,
          6.275657653808594,
          -11.152713775634766,
          11.304800987243652,
          -10.194769859313965,
          3.3868865966796875,
          4.44325590133667,
          -9.743943214416504,
          -13.33314037322998,
          -3.6652145385742188,
          -14.822244644165039,
          3.466785430908203,
          12.522006034851074,
          9.857656478881836,
          10.175167083740234,
          11.823145866394043,
          -4.20947265625,
          1.7429734468460083,
          3.0918030738830566,
          3.667517900466919,
          -1.512022614479065,
          1.8704025745391846,
          8.024642944335938,
          -2.837826728820801,
          -5.564034938812256,
          -2.8619651794433594,
          7.29243803024292,
          -1.7572749853134155,
          -12.587960243225098,
          4.874114990234375,
          3.979849100112915,
          0.604339063167572,
          4.204372406005859,
          11.36662769317627,
          -12.740829467773438,
          -7.302286148071289,
          3.209592580795288,
          -3.007709264755249,
          1.2883272171020508,
          0.7296625375747681,
          6.961174488067627,
          -3.0208961963653564,
          -8.310308456420898,
          11.944982528686523,
          -16.281940460205078,
          -4.096932888031006,
          10.105944633483887,
          -3.336352825164795,
          -1.9626731872558594,
          5.653523921966553,
          3.1887993812561035,
          7.186398029327393,
          1.9172152280807495,
          -5.772055625915527,
          12.288637161254883,
          -1.8288819789886475,
          -2.66757869720459,
          -1.6674132347106934,
          2.6454107761383057,
          2.8355798721313477,
          0.8620882034301758,
          -0.41911035776138306,
          6.539896011352539,
          -4.291924953460693,
          1.7819193601608276,
          2.1148810386657715,
          4.395567417144775,
          4.977552890777588,
          -0.42204251885414124,
          0.6909803152084351,
          1.3740350008010864,
          14.964899063110352,
          12.304924964904785,
          -11.139677047729492,
          13.343477249145508,
          -12.080926895141602,
          -16.012392044067383,
          -11.570699691772461,
          14.421127319335938,
          -1.5022540092468262,
          -6.2795000076293945,
          8.3281888961792,
          -14.394143104553223,
          12.072615623474121,
          -5.624316692352295,
          -8.332157135009766,
          -14.25760555267334,
          5.834744453430176,
          -16.325881958007812,
          -15.331831932067871,
          14.616842269897461,
          -12.98253345489502,
          15.776076316833496,
          -1.3470667600631714,
          2.2761878967285156,
          -0.35934484004974365,
          -13.25561237335205,
          3.610520362854004,
          -11.854225158691406,
          -2.524139165878296,
          -3.4156394004821777,
          1.814558506011963,
          4.335929870605469,
          1.6769224405288696,
          -15.740290641784668,
          -6.537453651428223,
          4.349769592285156,
          1.5362354516983032,
          12.363475799560547,
          -7.1976494789123535,
          3.114262580871582,
          -2.0590922832489014,
          -1.9278770685195923,
          10.855326652526855,
          0.6125513911247253,
          5.363717079162598,
          3.636096477508545,
          -16.277299880981445,
          -11.664159774780273,
          -9.895448684692383,
          14.54023265838623,
          1.8728864192962646,
          -11.94966983795166,
          -4.631744384765625,
          -2.5128395557403564,
          -3.3900396823883057,
          -11.902073860168457,
          14.963275909423828,
          -14.030882835388184,
          -8.904926300048828,
          -7.214394569396973,
          3.826292037963867,
          -9.073673248291016,
          13.31350040435791,
          3.8089001178741455,
          2.860006809234619,
          7.203090667724609,
          -6.83329439163208,
          14.280508041381836,
          -7.4062018394470215,
          10.754483222961426,
          3.0962743759155273,
          5.862846851348877,
          4.032563209533691,
          14.577150344848633,
          -0.8210465312004089,
          -8.165876388549805,
          -5.328957557678223,
          -6.382015228271484,
          3.794987440109253,
          -0.8525660634040833,
          4.448479175567627,
          10.047698020935059,
          -7.23512601852417,
          3.730660915374756,
          10.609732627868652,
          4.495001316070557,
          15.482784271240234,
          4.084718227386475,
          12.837736129760742,
          15.975279808044434,
          3.603426218032837,
          -8.134679794311523,
          1.9570322036743164,
          -5.526957988739014,
          6.032681465148926,
          -8.711859703063965,
          -13.654315948486328,
          2.021937370300293,
          -5.214963912963867,
          1.7318377494812012,
          3.9020941257476807,
          -5.890167236328125,
          2.6053450107574463,
          8.061781883239746,
          -7.097049236297607,
          1.8342347145080566,
          -4.709436893463135,
          -6.019188404083252,
          -4.055418014526367,
          2.6604299545288086,
          -1.244055151939392,
          5.263449668884277,
          6.4090447425842285,
          -1.1548688411712646,
          -0.916555643081665,
          0.6060362458229065,
          -5.892838954925537,
          6.990906238555908,
          -15.39999008178711,
          -1.7782536745071411,
          4.088501453399658,
          3.839259386062622,
          5.622659206390381,
          -7.728550910949707,
          -10.459528923034668,
          3.2849233150482178,
          -12.718751907348633,
          -8.758795738220215,
          -4.346439838409424,
          -5.392942905426025,
          2.392651081085205,
          12.970300674438477,
          3.859527826309204,
          4.367632865905762,
          -3.878173351287842,
          8.068575859069824,
          8.43591022491455,
          1.2440087795257568,
          4.201450347900391,
          -6.619093894958496,
          4.695075511932373,
          4.609866142272949,
          13.97900390625,
          11.003148078918457,
          11.16897964477539,
          -3.1640288829803467,
          12.172658920288086,
          2.562441110610962,
          2.0555639266967773,
          -13.844207763671875,
          -3.641705274581909,
          -3.702960729598999,
          -8.0409517288208,
          -6.395883083343506,
          -10.972281455993652,
          10.861001014709473,
          0.9867212772369385,
          15.058121681213379,
          5.794444561004639,
          -10.043429374694824,
          10.82994556427002,
          0.5472190380096436,
          -8.611944198608398,
          -8.999369621276855,
          -8.258665084838867,
          1.4061110019683838,
          5.61490535736084,
          15.726239204406738,
          2.43996524810791,
          -6.800662040710449,
          2.62503981590271,
          2.1633152961730957,
          7.672645568847656,
          5.33516788482666,
          -4.833750247955322,
          -0.5712387561798096,
          -5.80174446105957,
          4.751308441162109,
          -13.096043586730957,
          2.848041534423828,
          -5.986092567443848,
          -6.2875142097473145,
          16.31952476501465,
          -7.7676873207092285,
          -10.223624229431152,
          11.656594276428223,
          7.9540696144104,
          11.63830280303955,
          -6.165509223937988,
          12.581547737121582,
          -11.171309471130371,
          3.731395721435547,
          11.037906646728516,
          -4.670999050140381,
          -0.3680800497531891,
          1.9212864637374878,
          2.9626402854919434,
          7.324986934661865,
          2.1547470092773438,
          3.8395023345947266,
          -8.05228328704834,
          -13.963272094726562,
          2.7422735691070557,
          -2.1496200561523438,
          10.531192779541016,
          7.200981140136719,
          -4.885371208190918,
          -12.296164512634277,
          1.8015943765640259,
          8.308913230895996,
          4.313194274902344,
          -4.220361709594727,
          -16.593759536743164,
          -8.157194137573242,
          14.082982063293457,
          1.0725977420806885,
          2.7980594635009766,
          -14.251237869262695,
          -8.814705848693848,
          3.1845014095306396,
          6.73979377746582,
          -7.739763259887695,
          10.55640697479248,
          2.5884416103363037,
          3.3979806900024414,
          15.344841957092285,
          -1.3493238687515259,
          -13.250751495361328,
          -12.039834976196289,
          9.49999713897705,
          -1.7138389348983765,
          2.787435531616211,
          6.149899482727051,
          7.324812889099121,
          -0.92167729139328,
          -15.626633644104004,
          9.108174324035645,
          -7.838205814361572,
          -5.084635257720947,
          5.004334449768066,
          2.5483624935150146,
          13.170514106750488,
          3.9686191082000732,
          3.3641085624694824,
          3.8857836723327637,
          12.531997680664062,
          6.942174434661865,
          2.837470054626465,
          -7.079330921173096,
          -1.8639761209487915,
          6.329891681671143,
          12.535110473632812
         ],
         "z": [
          -4.508887767791748,
          6.453742980957031,
          -2.3417789936065674,
          14.54712200164795,
          2.666445732116699,
          7.976927757263184,
          -0.8751466274261475,
          15.391337394714355,
          0.361958771944046,
          3.1645865440368652,
          16.55526351928711,
          -0.4990556538105011,
          7.6489386558532715,
          -5.305787563323975,
          2.932145118713379,
          6.917806625366211,
          7.736698150634766,
          -0.003425070084631443,
          -3.380110502243042,
          -1.1068907976150513,
          7.771784782409668,
          -5.185987949371338,
          4.662460803985596,
          1.0912294387817383,
          6.7777276039123535,
          -2.662837028503418,
          -0.652706503868103,
          -2.7836780548095703,
          1.3100857734680176,
          9.383520126342773,
          -1.296559453010559,
          6.637781620025635,
          -6.919327259063721,
          8.194504737854004,
          -3.984880208969116,
          -4.174006938934326,
          2.929659128189087,
          -3.1796927452087402,
          -5.026403427124023,
          9.116243362426758,
          -6.118915557861328,
          7.330475807189941,
          -4.849833965301514,
          4.923041820526123,
          6.006065845489502,
          7.272514820098877,
          6.5465922355651855,
          0.8145982027053833,
          -0.5300695300102234,
          -2.893601655960083,
          10.283169746398926,
          -4.239840030670166,
          -5.293564796447754,
          7.12250280380249,
          7.020936965942383,
          3.5908162593841553,
          4.112006187438965,
          -0.8039577007293701,
          8.079236030578613,
          0.29935091733932495,
          -3.059419870376587,
          -0.17610128223896027,
          7.8317742347717285,
          7.764676570892334,
          -5.854467391967773,
          6.402678489685059,
          -2.9613590240478516,
          -0.4504045844078064,
          0.24179485440254211,
          10.097310066223145,
          9.336079597473145,
          11.959582328796387,
          -5.494024276733398,
          10.992714881896973,
          -13.51954174041748,
          -8.578082084655762,
          2.2405667304992676,
          8.336610794067383,
          -16.534168243408203,
          -13.11600112915039,
          -12.894402503967285,
          -9.102076530456543,
          4.586898326873779,
          -0.027751600369811058,
          2.095888614654541,
          7.114660739898682,
          -1.4649851322174072,
          0.7474313974380493,
          -0.7375995516777039,
          -8.011899948120117,
          -9.35547161102295,
          14.573761940002441,
          -4.147161960601807,
          -1.0587921142578125,
          3.5112781524658203,
          7.706034183502197,
          -6.509787559509277,
          5.306143283843994,
          -1.3044509887695312,
          3.150864362716675,
          -6.963175296783447,
          -2.7690999507904053,
          5.257089614868164,
          -6.624312400817871,
          9.539787292480469,
          -8.808765411376953,
          -2.769280195236206,
          3.020555019378662,
          -13.128003120422363,
          8.604530334472656,
          -9.683197021484375,
          -8.302149772644043,
          14.507976531982422,
          -10.650989532470703,
          -0.1216864362359047,
          -10.866927146911621,
          2.413996696472168,
          -1.234105110168457,
          11.939430236816406,
          -2.185997247695923,
          -11.518044471740723,
          -1.1770082712173462,
          4.870266437530518,
          -4.940004825592041,
          2.219125270843506,
          5.106090068817139,
          3.3987293243408203,
          12.978494644165039,
          2.718156576156616,
          4.5688252449035645,
          -2.2310802936553955,
          -6.546526908874512,
          11.269587516784668,
          0.6213598847389221,
          -2.058685779571533,
          -7.7017717361450195,
          2.842881441116333,
          11.164336204528809,
          5.193397521972656,
          -0.5926253199577332,
          12.239431381225586,
          -7.08189582824707,
          -6.263204097747803,
          3.0815439224243164,
          -3.5166773796081543,
          -11.351771354675293,
          13.487241744995117,
          -2.7949981689453125,
          5.791415691375732,
          -2.4965476989746094,
          -8.888460159301758,
          -11.127005577087402,
          2.135925054550171,
          -7.044381141662598,
          -5.659017086029053,
          -6.4288330078125,
          -4.725306510925293,
          -5.187946796417236,
          -16.340391159057617,
          9.657806396484375,
          1.494139552116394,
          -1.6848143339157104,
          -13.775503158569336,
          -16.271202087402344,
          9.619684219360352,
          -3.550326108932495,
          11.44607925415039,
          9.357324600219727,
          2.0917928218841553,
          1.191705346107483,
          -3.576176166534424,
          6.043848037719727,
          8.158243179321289,
          0.4368421137332916,
          2.148623466491699,
          -0.7515177726745605,
          7.872169017791748,
          0.2481752187013626,
          6.152078628540039,
          12.244858741760254,
          1.6639715433120728,
          10.801435470581055,
          6.321709156036377,
          12.19144058227539,
          10.337849617004395,
          1.073489785194397,
          6.606334686279297,
          -2.531912088394165,
          -11.077710151672363,
          -10.724350929260254,
          -3.002986192703247,
          2.05243182182312,
          15.275330543518066,
          -0.5967090725898743,
          2.9558889865875244,
          0.9353034496307373,
          1.8858925104141235,
          3.557356834411621,
          -7.750290870666504,
          2.7587482929229736,
          -2.1540729999542236,
          -1.440566062927246,
          2.154714584350586,
          4.511507987976074,
          -1.0617856979370117,
          6.669973373413086,
          -13.704907417297363,
          -1.8534473180770874,
          11.309441566467285,
          4.183650970458984,
          1.7287335395812988,
          5.930886268615723,
          7.399489879608154,
          -9.987273216247559,
          -1.0231001377105713,
          0.09524106979370117,
          4.360534191131592,
          8.76753044128418,
          8.75390911102295,
          0.34492579102516174,
          -1.716814637184143,
          2.639953851699829,
          3.6161255836486816,
          -14.274775505065918,
          0.9269502758979797,
          -12.878528594970703,
          -6.236990928649902,
          -11.98630428314209,
          -2.489132881164551,
          3.7252838611602783,
          0.8839640617370605,
          -4.237133979797363,
          11.294156074523926,
          11.43901538848877,
          -4.468412399291992,
          2.3108744621276855,
          0.414641410112381,
          -10.211503028869629,
          12.959623336791992,
          -0.16116635501384735,
          -1.4814687967300415,
          4.811987400054932,
          1.7196143865585327,
          1.7542283535003662,
          13.253655433654785,
          -0.003721234854310751,
          -9.959107398986816,
          -16.077083587646484,
          -6.634737968444824,
          4.144838333129883,
          -6.596678256988525,
          0.6312949061393738,
          11.546738624572754,
          -2.0693488121032715,
          -9.655599594116211,
          1.7596946954727173,
          -6.633474826812744,
          -0.028477095067501068,
          4.168614387512207,
          -3.2763776779174805,
          1.731675386428833,
          -2.7911555767059326,
          1.4022964239120483,
          2.292093515396118,
          -6.337549686431885,
          1.9864344596862793,
          11.46408462524414,
          3.111067533493042,
          -13.059734344482422,
          2.881246566772461,
          2.6622371673583984,
          4.438903331756592,
          -9.072761535644531,
          1.665380597114563,
          9.4085111618042,
          -4.739312171936035,
          6.890371322631836,
          1.9287755489349365,
          2.593195676803589,
          -10.822209358215332,
          -5.646903038024902,
          1.980393409729004,
          -11.142111778259277,
          -6.3518757820129395,
          0.13235227763652802,
          2.1568198204040527,
          -3.03704833984375,
          3.055969476699829,
          1.2036552429199219,
          -7.940110683441162,
          -7.828556537628174,
          2.035223960876465,
          -3.0430965423583984,
          1.3758429288864136,
          -0.061062633991241455,
          13.378254890441895,
          12.302071571350098,
          -15.704558372497559,
          -1.2867776155471802,
          -5.783886432647705,
          7.895537376403809,
          0.06867377460002899,
          9.08006763458252,
          13.411883354187012,
          10.121918678283691,
          -13.898626327514648,
          3.8922176361083984,
          -13.049958229064941,
          -5.572369575500488,
          10.751571655273438,
          10.214051246643066,
          -3.3969738483428955,
          10.115835189819336,
          0.5264397859573364,
          0.3858076333999634,
          -6.657020092010498,
          1.0254113674163818,
          2.000532627105713,
          -14.657090187072754,
          2.8016834259033203,
          7.152096748352051,
          -10.774863243103027,
          12.490822792053223,
          5.688978672027588,
          -13.320773124694824,
          -6.330134391784668,
          10.272388458251953,
          12.2173433303833,
          4.252941608428955,
          10.880463600158691,
          3.0710415840148926,
          7.042837142944336,
          -3.7079010009765625,
          -7.621848106384277,
          0.4206323027610779,
          2.6771771907806396,
          4.478854656219482,
          -7.741296291351318,
          7.0127434730529785,
          5.519721508026123,
          -8.054627418518066,
          -12.990007400512695,
          11.62351131439209,
          -6.744723796844482,
          14.694847106933594,
          4.4504780769348145,
          0.5289233922958374,
          -3.8597984313964844,
          12.519432067871094,
          7.491580486297607,
          0.27231642603874207,
          -9.281631469726562,
          -3.338771343231201,
          4.122439861297607,
          -3.057363748550415,
          -13.142923355102539,
          -4.016643524169922,
          2.974224090576172,
          8.19214916229248,
          -4.551680088043213,
          5.9314751625061035,
          3.9730513095855713,
          -2.0666391849517822,
          -4.586001873016357,
          12.054912567138672,
          -13.943171501159668,
          9.45310115814209,
          0.7122118473052979,
          -0.17586788535118103,
          2.700117826461792,
          -5.988000392913818,
          -1.4039769172668457,
          1.9675230979919434,
          3.611999273300171,
          12.460906028747559,
          -4.95792293548584,
          -13.342081069946289,
          10.665817260742188,
          3.1740238666534424,
          -6.553422451019287,
          10.08813762664795,
          -2.006417751312256,
          -12.252521514892578,
          -15.51513671875,
          5.020953178405762,
          -5.884797096252441,
          -3.257969856262207,
          -2.829660654067993,
          3.1101319789886475,
          -7.5407562255859375,
          -2.975659132003784,
          -7.006888389587402,
          -10.040926933288574,
          -10.87686538696289,
          -3.343045949935913,
          4.2499165534973145,
          -8.663695335388184,
          13.09644603729248,
          -5.715417861938477,
          -10.040787696838379,
          -1.7105424404144287,
          -1.3735569715499878,
          -3.0041890144348145,
          6.620144844055176,
          13.456833839416504,
          2.682565212249756,
          0.517800509929657,
          -3.0642762184143066,
          9.337809562683105,
          5.8376665115356445,
          2.507704734802246,
          -8.027680397033691,
          10.047846794128418,
          -14.076610565185547,
          1.3543864488601685,
          -4.477173805236816,
          -0.33221545815467834,
          3.8080389499664307,
          12.0899019241333,
          4.514092445373535,
          -7.686014652252197,
          -1.2303019762039185,
          2.3257460594177246,
          6.948972702026367,
          2.2990550994873047,
          -0.9053013920783997,
          0.5803539156913757,
          10.665534973144531,
          -5.645421981811523,
          2.5506272315979004,
          -10.482085227966309,
          0.2814302146434784,
          -0.1846434623003006,
          11.000321388244629,
          8.421174049377441,
          2.428226947784424,
          -4.4977312088012695,
          2.610750198364258,
          -13.759392738342285,
          -1.2014003992080688,
          -9.405579566955566,
          -16.316484451293945,
          -0.7627658843994141,
          4.036779403686523,
          -1.7558610439300537,
          8.148628234863281,
          9.949254989624023,
          -5.706384181976318,
          3.9425318241119385,
          12.529109954833984,
          -1.7193139791488647,
          2.5168914794921875,
          -5.0745625495910645,
          -14.022082328796387,
          14.420644760131836,
          3.35856556892395,
          3.353487253189087,
          2.514054775238037,
          -16.174470901489258,
          -16.247894287109375,
          4.976387977600098,
          0.18488404154777527,
          -3.565196990966797,
          -14.4011812210083,
          0.9327250719070435,
          -9.41481876373291,
          -12.8231201171875,
          11.457643508911133,
          -3.1303820610046387,
          2.095449686050415,
          -12.0355863571167,
          -6.291348934173584,
          -2.3095200061798096,
          -9.611255645751953,
          -4.779349327087402,
          2.2556886672973633,
          1.3121029138565063,
          8.82962703704834,
          -5.3911452293396,
          3.0755484104156494,
          -5.161988258361816,
          -0.13147149980068207,
          9.770474433898926,
          4.549740791320801,
          1.7601803541183472,
          3.808124542236328,
          5.151534080505371,
          -5.629450798034668,
          -7.159270763397217,
          -0.3279453217983246,
          -14.70779800415039,
          13.746282577514648,
          6.473243236541748,
          8.556575775146484,
          1.7505720853805542,
          13.20906925201416,
          5.234112739562988,
          10.792011260986328,
          -5.424742698669434,
          -8.09568977355957,
          4.830467700958252,
          -2.0117828845977783,
          -6.165104389190674,
          -0.6078485250473022,
          -5.332307815551758,
          0.24658802151679993,
          -15.844000816345215,
          -3.4525439739227295,
          -5.631560325622559,
          9.874592781066895,
          0.9402537941932678,
          -4.91403865814209,
          2.985637664794922,
          6.041578769683838,
          -15.89539909362793,
          -7.2106146812438965,
          -6.249702453613281,
          -16.279327392578125,
          0.5119481682777405,
          3.89620041847229,
          -6.879693984985352,
          5.844101428985596,
          5.499340057373047,
          4.597830295562744,
          8.436531066894531,
          3.393303155899048,
          -15.171406745910645,
          0.12952858209609985,
          2.3293979167938232,
          -7.814017295837402,
          5.155986309051514,
          8.6717529296875,
          10.427803039550781,
          -6.2715325355529785,
          12.401285171508789,
          10.306835174560547,
          6.154307842254639,
          4.285470962524414,
          -3.4787020683288574,
          3.118079900741577,
          0.7180187106132507,
          11.030729293823242,
          2.3892486095428467,
          5.606260776519775,
          -3.4586493968963623,
          12.575971603393555,
          -10.437745094299316,
          11.268549919128418,
          12.652336120605469,
          -10.931596755981445,
          -7.336132049560547,
          -7.687169551849365,
          0.8274708390235901,
          -16.30259895324707,
          -4.824252605438232,
          5.5367279052734375,
          9.646485328674316,
          -13.519660949707031,
          11.168354988098145,
          1.9719502925872803,
          3.708246946334839,
          9.160089492797852,
          -4.842047691345215,
          13.996404647827148,
          -2.9493510723114014,
          -14.381407737731934,
          -3.5024335384368896,
          -1.6874206066131592,
          13.987695693969727,
          13.596587181091309,
          -5.365819931030273,
          13.251648902893066,
          14.228377342224121,
          7.433377742767334,
          6.73423433303833,
          9.75741195678711,
          3.4914181232452393,
          1.2301675081253052,
          -6.440711498260498,
          -12.046613693237305,
          -7.543903350830078,
          -13.33314037322998,
          3.0830070972442627,
          3.3087034225463867,
          -5.625869274139404,
          -13.734088897705078,
          -7.4401164054870605,
          -3.659132719039917,
          1.574005365371704,
          9.327972412109375,
          -0.5705640912055969,
          -5.85255765914917,
          1.0887575149536133,
          13.645244598388672,
          0.5284467935562134,
          -6.09320592880249,
          13.584478378295898,
          7.83449125289917,
          9.499598503112793,
          3.67989444732666,
          10.928892135620117,
          -2.4411351680755615,
          9.244010925292969,
          -0.08112558722496033,
          11.207565307617188,
          5.108829021453857,
          12.621421813964844,
          6.858036041259766,
          -2.3585760593414307,
          7.2950358390808105,
          5.180069923400879,
          -8.450153350830078,
          -6.0608320236206055,
          -8.122804641723633,
          -14.006123542785645,
          -4.863494873046875,
          1.3480247259140015,
          0.05806035175919533,
          1.2504470348358154,
          -7.8553009033203125,
          -1.1903120279312134,
          -5.42426872253418,
          -6.5394158363342285,
          -0.051796525716781616,
          3.99790096282959,
          12.902868270874023,
          1.4463657140731812,
          -0.2996012270450592,
          -2.7661337852478027,
          -14.847464561462402,
          -7.245105743408203,
          4.196676731109619,
          -15.495316505432129,
          5.187951564788818,
          -7.90695858001709,
          -3.627412796020508,
          -7.969239711761475,
          -0.9834520816802979,
          14.277183532714844,
          0.014589644968509674,
          -1.1217197179794312,
          4.149775505065918,
          1.1688576936721802,
          -7.172106742858887,
          6.137247085571289,
          -14.782649993896484,
          1.1000391244888306,
          -8.779281616210938,
          7.830806732177734,
          -9.885406494140625,
          -6.222390651702881,
          -3.1369845867156982,
          -1.5263925790786743,
          11.038222312927246,
          -1.1335690021514893,
          6.065793037414551,
          3.587027072906494,
          -6.954176902770996,
          -3.1053075790405273,
          8.715314865112305,
          10.311861038208008,
          -4.737137794494629,
          0.7804871201515198,
          -5.563941478729248,
          11.32848072052002,
          0.5091291069984436,
          10.292438507080078,
          0.6258205771446228,
          3.3339037895202637,
          -1.9448009729385376,
          -0.14671339094638824,
          -12.457661628723145,
          -6.16940975189209,
          -1.0704832077026367,
          9.116325378417969,
          -7.030726909637451,
          5.587301254272461,
          13.308259963989258,
          11.63561725616455,
          0.6321817636489868,
          2.3400964736938477,
          -5.075916290283203,
          -8.963287353515625,
          8.20748519897461,
          -5.509636878967285,
          -1.818540334701538,
          -10.917180061340332,
          -4.89727258682251,
          15.153360366821289,
          10.01975154876709,
          5.8498005867004395,
          10.335654258728027,
          9.506134033203125,
          4.355576992034912,
          15.543547630310059,
          9.366193771362305,
          -5.664886474609375,
          -12.686474800109863,
          -16.458650588989258,
          5.887303352355957,
          0.5569422245025635,
          -8.777960777282715,
          -5.343512058258057,
          1.3002402782440186,
          -9.375802993774414,
          3.528550624847412,
          15.13194465637207,
          9.827383995056152,
          -1.9009634256362915,
          5.2236104011535645,
          7.604713439941406,
          -5.308159828186035,
          1.2177809476852417,
          -2.4936881065368652,
          -7.8719658851623535,
          9.93224048614502,
          8.022591590881348,
          7.171977519989014,
          -7.8625569343566895,
          -2.5573909282684326,
          -3.3190383911132812,
          4.141039848327637,
          5.520430088043213,
          -4.276623725891113,
          4.217423439025879,
          -7.014066219329834,
          11.517143249511719,
          8.7188081741333,
          13.394991874694824,
          8.817832946777344,
          1.7420685291290283,
          2.0123982429504395,
          -1.1201283931732178,
          -2.7850148677825928,
          3.2476158142089844,
          14.673396110534668,
          -10.307732582092285,
          -14.98236083984375,
          -15.786516189575195,
          4.390629768371582,
          -1.5830740928649902,
          -6.917691230773926,
          -7.198370933532715,
          5.314564228057861,
          -5.577063083648682,
          -15.638381004333496,
          -12.328412055969238,
          13.759159088134766,
          1.8719850778579712,
          10.139239311218262,
          6.117735385894775,
          1.3853328227996826,
          3.404736280441284,
          2.8974339962005615,
          -5.859728813171387,
          -0.09387397021055222,
          -12.904206275939941,
          -3.0170652866363525,
          6.201193332672119,
          -3.503720998764038,
          11.496068954467773,
          -6.226548194885254,
          -4.073987007141113,
          -0.25573235750198364,
          -6.1842546463012695,
          1.008114218711853,
          2.660830497741699,
          1.868920087814331,
          2.056687593460083,
          1.862839698791504,
          -12.679510116577148,
          -5.314173221588135,
          -0.3574402630329132,
          1.0684535503387451,
          -6.3021016120910645,
          -5.376126289367676,
          -2.700535535812378,
          0.962146520614624,
          -15.4651460647583,
          -7.3717145919799805,
          -10.75064468383789,
          1.7037092447280884,
          6.2836222648620605,
          -8.97737979888916,
          -16.213422775268555,
          10.651556968688965,
          -2.3507251739501953,
          9.985021591186523,
          -15.234869956970215,
          -12.11337947845459,
          13.765789031982422,
          -10.443424224853516,
          4.11393928527832,
          -14.100903511047363,
          2.734950065612793,
          6.683484077453613,
          -6.664820671081543,
          3.3515117168426514,
          -12.283348083496094,
          -2.960266590118408,
          -2.0289788246154785,
          -2.6161282062530518,
          1.4651521444320679,
          6.437872409820557,
          -0.3526122570037842,
          -2.688737630844116,
          -6.942749977111816,
          5.476932525634766,
          12.843998908996582,
          -6.109683990478516,
          2.723081111907959,
          6.499614238739014,
          -14.248007774353027,
          -8.244416236877441,
          6.7256598472595215,
          3.9781124591827393,
          4.76083517074585,
          12.8469820022583,
          7.839122772216797,
          11.446348190307617,
          14.1503324508667,
          0.949209988117218,
          -16.38591766357422,
          7.0028815269470215,
          2.608487367630005,
          -5.833727836608887,
          12.925397872924805,
          -13.75538444519043,
          -9.964780807495117,
          8.091907501220703,
          5.546531677246094,
          -5.7513275146484375,
          7.191860198974609,
          6.200283527374268,
          2.332334280014038,
          10.306737899780273,
          2.4934420585632324,
          2.141247510910034,
          13.315934181213379,
          -5.9321064949035645,
          -11.661449432373047,
          -6.442358493804932,
          11.569360733032227,
          2.1714272499084473,
          1.230195164680481,
          10.88523006439209,
          5.6650190353393555,
          -12.289843559265137,
          -9.472870826721191,
          2.092221975326538,
          9.71655559539795,
          -5.947062015533447,
          -6.433401584625244,
          -11.474205017089844,
          2.4440226554870605,
          3.3049774169921875,
          0.5337939262390137,
          13.46207046508789,
          -13.866500854492188,
          4.177986145019531,
          -5.964758396148682,
          -12.544777870178223,
          2.8792407512664795,
          -12.007418632507324,
          3.765357255935669,
          11.173819541931152,
          -0.9251216650009155,
          -12.399248123168945,
          11.253731727600098,
          -7.474821090698242,
          13.565338134765625,
          -7.10025691986084,
          -1.3808835744857788,
          -9.874664306640625,
          2.5735056400299072,
          -3.6953117847442627,
          -3.6117851734161377,
          -0.05881144106388092,
          -5.135086536407471,
          -0.08494392037391663,
          -7.659585952758789,
          -14.679211616516113,
          -12.410401344299316,
          10.59665584564209,
          13.27634334564209,
          14.520024299621582,
          -7.4825053215026855,
          -2.230386734008789,
          -5.996685028076172,
          5.534076690673828,
          3.2169907093048096,
          10.42807388305664,
          3.038454532623291,
          -11.966976165771484,
          11.637051582336426,
          -9.154314994812012,
          -8.306318283081055,
          -0.855505645275116,
          2.7174243927001953,
          0.36836472153663635,
          2.9515116214752197,
          -3.2227602005004883,
          -6.1311211585998535,
          12.532419204711914,
          -13.414219856262207,
          4.555402755737305,
          12.637356758117676,
          6.768568515777588,
          3.254798412322998,
          -14.538684844970703,
          0.24111947417259216,
          -3.0924370288848877,
          -4.232662200927734,
          -13.987239837646484,
          4.413046836853027,
          0.0312962532043457,
          -4.367679595947266,
          5.388006210327148,
          13.55035400390625,
          15.12863826751709,
          -6.325092792510986,
          11.553427696228027,
          -1.7336468696594238,
          -10.646071434020996,
          3.210644483566284,
          -8.272001266479492,
          4.28738260269165,
          -5.012013912200928,
          -1.020607352256775,
          3.241499185562134,
          0.7401049733161926,
          -5.946568012237549,
          -1.5588375329971313,
          10.977518081665039,
          13.272024154663086,
          2.4601643085479736,
          -6.380460262298584,
          -0.7288558483123779,
          6.219269752502441,
          14.450517654418945,
          0.599617063999176,
          -2.3684451580047607,
          -16.02556037902832,
          10.827829360961914,
          -14.59419059753418,
          4.993285655975342,
          -14.82520580291748,
          -11.176094055175781,
          2.869070529937744,
          3.88594126701355,
          -5.0607008934021,
          -2.708714008331299,
          13.086763381958008,
          12.035974502563477,
          -2.9191460609436035,
          -0.302420437335968,
          15.302465438842773,
          7.795863151550293,
          6.191206932067871,
          -0.3591390550136566,
          1.3671191930770874,
          -1.5558760166168213,
          0.2259148210287094,
          -15.894447326660156,
          -6.669934272766113,
          -4.768049716949463,
          1.3014172315597534,
          -16.42317008972168,
          5.357004165649414,
          -4.155580520629883,
          8.005385398864746,
          -12.906319618225098,
          -8.402181625366211,
          0.0875583067536354,
          -11.276643753051758,
          1.1108404397964478,
          2.506701946258545,
          7.242043495178223,
          -0.9640926718711853,
          9.997922897338867,
          5.221299171447754,
          -7.169066429138184,
          -15.420475959777832,
          0.20886637270450592,
          7.84264612197876,
          -1.558188557624817,
          -0.4553588628768921,
          12.1756591796875,
          13.290483474731445,
          3.4102225303649902,
          9.800647735595703,
          -14.223861694335938,
          -14.913735389709473,
          -0.6258286237716675,
          6.377734661102295,
          -6.031157493591309,
          -2.7807092666625977,
          -14.623416900634766,
          10.811990737915039,
          2.331080198287964
         ]
        }
       ],
       "layout": {
        "coloraxis": {
         "colorbar": {
          "title": {
           "text": "Label"
          }
         },
         "colorscale": [
          [
           0,
           "#0d0887"
          ],
          [
           0.1111111111111111,
           "#46039f"
          ],
          [
           0.2222222222222222,
           "#7201a8"
          ],
          [
           0.3333333333333333,
           "#9c179e"
          ],
          [
           0.4444444444444444,
           "#bd3786"
          ],
          [
           0.5555555555555556,
           "#d8576b"
          ],
          [
           0.6666666666666666,
           "#ed7953"
          ],
          [
           0.7777777777777778,
           "#fb9f3a"
          ],
          [
           0.8888888888888888,
           "#fdca26"
          ],
          [
           1,
           "#f0f921"
          ]
         ]
        },
        "height": 800,
        "legend": {
         "tracegroupgap": 0
        },
        "scene": {
         "domain": {
          "x": [
           0,
           1
          ],
          "y": [
           0,
           1
          ]
         },
         "xaxis": {
          "title": {
           "text": "0"
          }
         },
         "yaxis": {
          "title": {
           "text": "1"
          }
         },
         "zaxis": {
          "title": {
           "text": "2"
          }
         }
        },
        "template": {
         "data": {
          "bar": [
           {
            "error_x": {
             "color": "#2a3f5f"
            },
            "error_y": {
             "color": "#2a3f5f"
            },
            "marker": {
             "line": {
              "color": "#E5ECF6",
              "width": 0.5
             }
            },
            "type": "bar"
           }
          ],
          "barpolar": [
           {
            "marker": {
             "line": {
              "color": "#E5ECF6",
              "width": 0.5
             }
            },
            "type": "barpolar"
           }
          ],
          "carpet": [
           {
            "aaxis": {
             "endlinecolor": "#2a3f5f",
             "gridcolor": "white",
             "linecolor": "white",
             "minorgridcolor": "white",
             "startlinecolor": "#2a3f5f"
            },
            "baxis": {
             "endlinecolor": "#2a3f5f",
             "gridcolor": "white",
             "linecolor": "white",
             "minorgridcolor": "white",
             "startlinecolor": "#2a3f5f"
            },
            "type": "carpet"
           }
          ],
          "choropleth": [
           {
            "colorbar": {
             "outlinewidth": 0,
             "ticks": ""
            },
            "type": "choropleth"
           }
          ],
          "contour": [
           {
            "colorbar": {
             "outlinewidth": 0,
             "ticks": ""
            },
            "colorscale": [
             [
              0,
              "#0d0887"
             ],
             [
              0.1111111111111111,
              "#46039f"
             ],
             [
              0.2222222222222222,
              "#7201a8"
             ],
             [
              0.3333333333333333,
              "#9c179e"
             ],
             [
              0.4444444444444444,
              "#bd3786"
             ],
             [
              0.5555555555555556,
              "#d8576b"
             ],
             [
              0.6666666666666666,
              "#ed7953"
             ],
             [
              0.7777777777777778,
              "#fb9f3a"
             ],
             [
              0.8888888888888888,
              "#fdca26"
             ],
             [
              1,
              "#f0f921"
             ]
            ],
            "type": "contour"
           }
          ],
          "contourcarpet": [
           {
            "colorbar": {
             "outlinewidth": 0,
             "ticks": ""
            },
            "type": "contourcarpet"
           }
          ],
          "heatmap": [
           {
            "colorbar": {
             "outlinewidth": 0,
             "ticks": ""
            },
            "colorscale": [
             [
              0,
              "#0d0887"
             ],
             [
              0.1111111111111111,
              "#46039f"
             ],
             [
              0.2222222222222222,
              "#7201a8"
             ],
             [
              0.3333333333333333,
              "#9c179e"
             ],
             [
              0.4444444444444444,
              "#bd3786"
             ],
             [
              0.5555555555555556,
              "#d8576b"
             ],
             [
              0.6666666666666666,
              "#ed7953"
             ],
             [
              0.7777777777777778,
              "#fb9f3a"
             ],
             [
              0.8888888888888888,
              "#fdca26"
             ],
             [
              1,
              "#f0f921"
             ]
            ],
            "type": "heatmap"
           }
          ],
          "heatmapgl": [
           {
            "colorbar": {
             "outlinewidth": 0,
             "ticks": ""
            },
            "colorscale": [
             [
              0,
              "#0d0887"
             ],
             [
              0.1111111111111111,
              "#46039f"
             ],
             [
              0.2222222222222222,
              "#7201a8"
             ],
             [
              0.3333333333333333,
              "#9c179e"
             ],
             [
              0.4444444444444444,
              "#bd3786"
             ],
             [
              0.5555555555555556,
              "#d8576b"
             ],
             [
              0.6666666666666666,
              "#ed7953"
             ],
             [
              0.7777777777777778,
              "#fb9f3a"
             ],
             [
              0.8888888888888888,
              "#fdca26"
             ],
             [
              1,
              "#f0f921"
             ]
            ],
            "type": "heatmapgl"
           }
          ],
          "histogram": [
           {
            "marker": {
             "colorbar": {
              "outlinewidth": 0,
              "ticks": ""
             }
            },
            "type": "histogram"
           }
          ],
          "histogram2d": [
           {
            "colorbar": {
             "outlinewidth": 0,
             "ticks": ""
            },
            "colorscale": [
             [
              0,
              "#0d0887"
             ],
             [
              0.1111111111111111,
              "#46039f"
             ],
             [
              0.2222222222222222,
              "#7201a8"
             ],
             [
              0.3333333333333333,
              "#9c179e"
             ],
             [
              0.4444444444444444,
              "#bd3786"
             ],
             [
              0.5555555555555556,
              "#d8576b"
             ],
             [
              0.6666666666666666,
              "#ed7953"
             ],
             [
              0.7777777777777778,
              "#fb9f3a"
             ],
             [
              0.8888888888888888,
              "#fdca26"
             ],
             [
              1,
              "#f0f921"
             ]
            ],
            "type": "histogram2d"
           }
          ],
          "histogram2dcontour": [
           {
            "colorbar": {
             "outlinewidth": 0,
             "ticks": ""
            },
            "colorscale": [
             [
              0,
              "#0d0887"
             ],
             [
              0.1111111111111111,
              "#46039f"
             ],
             [
              0.2222222222222222,
              "#7201a8"
             ],
             [
              0.3333333333333333,
              "#9c179e"
             ],
             [
              0.4444444444444444,
              "#bd3786"
             ],
             [
              0.5555555555555556,
              "#d8576b"
             ],
             [
              0.6666666666666666,
              "#ed7953"
             ],
             [
              0.7777777777777778,
              "#fb9f3a"
             ],
             [
              0.8888888888888888,
              "#fdca26"
             ],
             [
              1,
              "#f0f921"
             ]
            ],
            "type": "histogram2dcontour"
           }
          ],
          "mesh3d": [
           {
            "colorbar": {
             "outlinewidth": 0,
             "ticks": ""
            },
            "type": "mesh3d"
           }
          ],
          "parcoords": [
           {
            "line": {
             "colorbar": {
              "outlinewidth": 0,
              "ticks": ""
             }
            },
            "type": "parcoords"
           }
          ],
          "pie": [
           {
            "automargin": true,
            "type": "pie"
           }
          ],
          "scatter": [
           {
            "marker": {
             "colorbar": {
              "outlinewidth": 0,
              "ticks": ""
             }
            },
            "type": "scatter"
           }
          ],
          "scatter3d": [
           {
            "line": {
             "colorbar": {
              "outlinewidth": 0,
              "ticks": ""
             }
            },
            "marker": {
             "colorbar": {
              "outlinewidth": 0,
              "ticks": ""
             }
            },
            "type": "scatter3d"
           }
          ],
          "scattercarpet": [
           {
            "marker": {
             "colorbar": {
              "outlinewidth": 0,
              "ticks": ""
             }
            },
            "type": "scattercarpet"
           }
          ],
          "scattergeo": [
           {
            "marker": {
             "colorbar": {
              "outlinewidth": 0,
              "ticks": ""
             }
            },
            "type": "scattergeo"
           }
          ],
          "scattergl": [
           {
            "marker": {
             "colorbar": {
              "outlinewidth": 0,
              "ticks": ""
             }
            },
            "type": "scattergl"
           }
          ],
          "scattermapbox": [
           {
            "marker": {
             "colorbar": {
              "outlinewidth": 0,
              "ticks": ""
             }
            },
            "type": "scattermapbox"
           }
          ],
          "scatterpolar": [
           {
            "marker": {
             "colorbar": {
              "outlinewidth": 0,
              "ticks": ""
             }
            },
            "type": "scatterpolar"
           }
          ],
          "scatterpolargl": [
           {
            "marker": {
             "colorbar": {
              "outlinewidth": 0,
              "ticks": ""
             }
            },
            "type": "scatterpolargl"
           }
          ],
          "scatterternary": [
           {
            "marker": {
             "colorbar": {
              "outlinewidth": 0,
              "ticks": ""
             }
            },
            "type": "scatterternary"
           }
          ],
          "surface": [
           {
            "colorbar": {
             "outlinewidth": 0,
             "ticks": ""
            },
            "colorscale": [
             [
              0,
              "#0d0887"
             ],
             [
              0.1111111111111111,
              "#46039f"
             ],
             [
              0.2222222222222222,
              "#7201a8"
             ],
             [
              0.3333333333333333,
              "#9c179e"
             ],
             [
              0.4444444444444444,
              "#bd3786"
             ],
             [
              0.5555555555555556,
              "#d8576b"
             ],
             [
              0.6666666666666666,
              "#ed7953"
             ],
             [
              0.7777777777777778,
              "#fb9f3a"
             ],
             [
              0.8888888888888888,
              "#fdca26"
             ],
             [
              1,
              "#f0f921"
             ]
            ],
            "type": "surface"
           }
          ],
          "table": [
           {
            "cells": {
             "fill": {
              "color": "#EBF0F8"
             },
             "line": {
              "color": "white"
             }
            },
            "header": {
             "fill": {
              "color": "#C8D4E3"
             },
             "line": {
              "color": "white"
             }
            },
            "type": "table"
           }
          ]
         },
         "layout": {
          "annotationdefaults": {
           "arrowcolor": "#2a3f5f",
           "arrowhead": 0,
           "arrowwidth": 1
          },
          "coloraxis": {
           "colorbar": {
            "outlinewidth": 0,
            "ticks": ""
           }
          },
          "colorscale": {
           "diverging": [
            [
             0,
             "#8e0152"
            ],
            [
             0.1,
             "#c51b7d"
            ],
            [
             0.2,
             "#de77ae"
            ],
            [
             0.3,
             "#f1b6da"
            ],
            [
             0.4,
             "#fde0ef"
            ],
            [
             0.5,
             "#f7f7f7"
            ],
            [
             0.6,
             "#e6f5d0"
            ],
            [
             0.7,
             "#b8e186"
            ],
            [
             0.8,
             "#7fbc41"
            ],
            [
             0.9,
             "#4d9221"
            ],
            [
             1,
             "#276419"
            ]
           ],
           "sequential": [
            [
             0,
             "#0d0887"
            ],
            [
             0.1111111111111111,
             "#46039f"
            ],
            [
             0.2222222222222222,
             "#7201a8"
            ],
            [
             0.3333333333333333,
             "#9c179e"
            ],
            [
             0.4444444444444444,
             "#bd3786"
            ],
            [
             0.5555555555555556,
             "#d8576b"
            ],
            [
             0.6666666666666666,
             "#ed7953"
            ],
            [
             0.7777777777777778,
             "#fb9f3a"
            ],
            [
             0.8888888888888888,
             "#fdca26"
            ],
            [
             1,
             "#f0f921"
            ]
           ],
           "sequentialminus": [
            [
             0,
             "#0d0887"
            ],
            [
             0.1111111111111111,
             "#46039f"
            ],
            [
             0.2222222222222222,
             "#7201a8"
            ],
            [
             0.3333333333333333,
             "#9c179e"
            ],
            [
             0.4444444444444444,
             "#bd3786"
            ],
            [
             0.5555555555555556,
             "#d8576b"
            ],
            [
             0.6666666666666666,
             "#ed7953"
            ],
            [
             0.7777777777777778,
             "#fb9f3a"
            ],
            [
             0.8888888888888888,
             "#fdca26"
            ],
            [
             1,
             "#f0f921"
            ]
           ]
          },
          "colorway": [
           "#636efa",
           "#EF553B",
           "#00cc96",
           "#ab63fa",
           "#FFA15A",
           "#19d3f3",
           "#FF6692",
           "#B6E880",
           "#FF97FF",
           "#FECB52"
          ],
          "font": {
           "color": "#2a3f5f"
          },
          "geo": {
           "bgcolor": "white",
           "lakecolor": "white",
           "landcolor": "#E5ECF6",
           "showlakes": true,
           "showland": true,
           "subunitcolor": "white"
          },
          "hoverlabel": {
           "align": "left"
          },
          "hovermode": "closest",
          "mapbox": {
           "style": "light"
          },
          "paper_bgcolor": "white",
          "plot_bgcolor": "#E5ECF6",
          "polar": {
           "angularaxis": {
            "gridcolor": "white",
            "linecolor": "white",
            "ticks": ""
           },
           "bgcolor": "#E5ECF6",
           "radialaxis": {
            "gridcolor": "white",
            "linecolor": "white",
            "ticks": ""
           }
          },
          "scene": {
           "xaxis": {
            "backgroundcolor": "#E5ECF6",
            "gridcolor": "white",
            "gridwidth": 2,
            "linecolor": "white",
            "showbackground": true,
            "ticks": "",
            "zerolinecolor": "white"
           },
           "yaxis": {
            "backgroundcolor": "#E5ECF6",
            "gridcolor": "white",
            "gridwidth": 2,
            "linecolor": "white",
            "showbackground": true,
            "ticks": "",
            "zerolinecolor": "white"
           },
           "zaxis": {
            "backgroundcolor": "#E5ECF6",
            "gridcolor": "white",
            "gridwidth": 2,
            "linecolor": "white",
            "showbackground": true,
            "ticks": "",
            "zerolinecolor": "white"
           }
          },
          "shapedefaults": {
           "line": {
            "color": "#2a3f5f"
           }
          },
          "ternary": {
           "aaxis": {
            "gridcolor": "white",
            "linecolor": "white",
            "ticks": ""
           },
           "baxis": {
            "gridcolor": "white",
            "linecolor": "white",
            "ticks": ""
           },
           "bgcolor": "#E5ECF6",
           "caxis": {
            "gridcolor": "white",
            "linecolor": "white",
            "ticks": ""
           }
          },
          "title": {
           "x": 0.05
          },
          "xaxis": {
           "automargin": true,
           "gridcolor": "white",
           "linecolor": "white",
           "ticks": "",
           "title": {
            "standoff": 15
           },
           "zerolinecolor": "white",
           "zerolinewidth": 2
          },
          "yaxis": {
           "automargin": true,
           "gridcolor": "white",
           "linecolor": "white",
           "ticks": "",
           "title": {
            "standoff": 15
           },
           "zerolinecolor": "white",
           "zerolinewidth": 2
          }
         }
        },
        "title": {
         "text": "3d TSNE Plot for Outliers"
        },
        "width": 900
       }
      },
      "text/html": [
       "<div>\n",
       "        \n",
       "        \n",
       "            <div id=\"bce64be1-1596-408d-8459-a99f819524b1\" class=\"plotly-graph-div\" style=\"height:800px; width:900px;\"></div>\n",
       "            <script type=\"text/javascript\">\n",
       "                require([\"plotly\"], function(Plotly) {\n",
       "                    window.PLOTLYENV=window.PLOTLYENV || {};\n",
       "                    \n",
       "                if (document.getElementById(\"bce64be1-1596-408d-8459-a99f819524b1\")) {\n",
       "                    Plotly.newPlot(\n",
       "                        'bce64be1-1596-408d-8459-a99f819524b1',\n",
       "                        [{\"customdata\": [[0.263995357], [0.546092303], [0.33671410399999996], [0.092107835], [0.325261175], [0.212464853], [0.258565714], [0.869236755], [0.197077957], [0.292984504], [0.82178316], [0.796622959], [0.045577010999999994], [0.613660351], [0.9507445659999999], [0.33634633700000005], [0.034440667], [0.741544275], [0.18443265], [0.664514943], [0.16282485800000002], [0.729838445], [0.62837389], [0.057883660999999996], [0.445534827], [0.80183695], [0.27709612], [0.228634015], [0.834860657], [0.6697665110000001], [0.532527349], [0.17045907100000002], [0.5102884679999999], [0.977561989], [0.249775993], [0.9755006820000001], [0.613701727], [0.16742036300000002], [0.537472516], [0.379899131], [0.633897303], [0.633960424], [0.5499746529999999], [0.178172988], [0.85563814], [0.321796672], [0.8174905370000001], [0.254879417], [0.344140513], [0.8061457259999999], [0.27708167100000003], [0.544328519], [0.07708393], [0.273081458], [0.390877336], [0.349621385], [0.214549744], [0.206075222], [0.86461997], [0.9817088540000001], [0.33482964600000004], [0.648387061], [0.093643561], [0.837802698], [0.7603439670000001], [0.29140417399999996], [0.3413454], [0.7611124840000001], [0.541899775], [0.684176639], [0.983535597], [0.52081245], [0.328227724], [0.09715793800000001], [0.876088593], [0.870214512], [0.656086992], [0.306791514], [0.48126734], [0.259559174], [0.326123655], [0.930568042], [0.6583894], [0.689992335], [0.315781109], [0.5669050929999999], [0.637526619], [0.687540723], [0.324300602], [0.592704906], [0.7402531259999999], [0.5940328770000001], [0.596452977], [0.27768081699999997], [0.258329663], [0.142460864], [0.435533461], [0.7024990440000001], [0.58897535], [0.653304374], [0.336968524], [0.631244736], [0.73530076], [0.050390366], [0.064264924], [0.665359476], [0.917835245], [0.44651012], [0.661938199], [0.43935985299999997], [0.6875724040000001], [0.363462248], [0.6542621820000001], [0.578553536], [0.065927945], [0.550148559], [0.13918281400000002], [0.080004635], [0.278228358], [0.560124266], [0.53639864], [0.42653190399999996], [0.789109796], [0.742900474], [0.901692589], [0.650337401], [0.114057311], [0.260812592], [0.43991232], [0.964409284], [0.184401415], [0.345145446], [0.17589458100000002], [0.312514453], [0.674131879], [0.32825045], [0.598231057], [0.09259881699999999], [0.497916521], [0.419776521], [0.31217670000000003], [0.937857107], [0.049030963], [0.47610452600000003], [0.447397526], [0.295806058], [0.737363977], [0.625896253], [0.408813429], [0.437511156], [0.691351375], [0.935555275], [0.437846654], [0.072217715], [0.67636067], [0.468883999], [0.543820644], [0.6555226470000001], [0.6935289240000001], [0.10887831199999999], [0.285463743], [0.0], [0.706495497], [0.273530633], [0.292320271], [0.673984307], [0.12612182800000002], [0.9467074590000001], [0.9363388979999999], [0.8537553640000001], [0.7060713609999999], [0.693682186], [0.508527882], [0.34717038899999997], [0.704154263], [0.658730088], [0.155841557], [0.311085435], [0.281135347], [0.094587802], [0.6832609540000001], [0.9077292509999999], [0.29151267399999997], [0.752734459], [0.93482964], [0.071413953], [0.5948963270000001], [0.404672015], [0.13837621], [0.7473384679999999], [0.530882486], [0.282649594], [0.699335734], [0.056111250999999994], [0.855234998], [0.07789512700000001], [0.891649583], [0.38674227899999997], [0.27113158], [0.958888961], [0.085120869], [0.5269022489999999], [0.066577785], [0.841506738], [0.255342095], [0.060545771], [0.073385869], [0.187493723], [0.858365688], [0.090640352], [0.7097252270000001], [0.631300647], [0.24750447399999997], [0.822843584], [0.373476759], [0.625538582], [0.292951715], [0.299730324], [0.25121407], [0.344480551], [0.293064767], [0.7628032240000001], [0.7384708040000001], [0.674883265], [0.719151612], [0.13098021599999998], [0.511328036], [0.04492903], [0.560914449], [0.7440406409999999], [0.266961634], [0.644231853], [0.038113352], [0.05715529900000001], [0.34139246100000004], [0.7204636320000001], [0.402878236], [0.635148967], [0.320729467], [0.09120969400000001], [0.23414609], [0.8902211309999999], [0.602170884], [0.633652055], [0.806240837], [0.739731184], [0.465231269], [0.7321109], [0.373874305], [0.501587947], [0.11538315800000001], [0.7319466040000001], [0.41829872799999995], [0.062259590999999996], [0.391496379], [0.35984929], [0.24523562699999998], [0.610028339], [0.43540360200000006], [0.434309675], [0.523763344], [0.17118786600000002], [0.18773430300000002], [0.945014638], [0.027851097000000002], [0.68445706], [0.178014532], [0.643427879], [0.59588355], [0.372361682], [0.586103584], [0.271658852], [0.59951107], [0.468363088], [0.314515565], [0.21893726], [0.254716562], [0.25612815], [0.602259755], [0.134381075], [0.513887424], [0.624241636], [0.160251854], [0.580708108], [0.270540486], [0.832919932], [0.93032134], [0.719157884], [0.886720033], [0.098792281], [0.787174286], [0.365592376], [0.719576193], [0.8058956], [0.7555783340000001], [0.526005909], [0.68880424], [0.22111531199999998], [0.739369477], [0.408440236], [0.348926542], [0.433713763], [0.5964966070000001], [0.6942953000000001], [0.7090309659999999], [0.867652984], [0.89332545], [0.746020922], [0.538284443], [0.8922193140000001], [0.935175765], [0.260527707], [0.956780449], [0.204932484], [0.687733351], [0.329063619], [0.632149831], [0.463744506], [0.698859621], [0.385446564], [0.47997537700000004], [0.732279108], [0.3813543], [0.459326013], [0.257401434], [0.665014804], [0.103399542], [0.425284413], [0.943529051], [0.594750236], [0.543776817], [0.18203988], [0.23584208399999998], [0.585984497], [0.762013168], [0.6849829070000001], [0.676936933], [0.290184964], [0.48106822200000005], [0.492766033], [0.22185623399999999], [0.053875998], [0.082751144], [0.385366225], [0.702513961], [0.91553156], [0.082087436], [0.251280378], [0.41672181700000005], [0.277032672], [0.579539754], [0.569363476], [0.133399703], [0.265045463], [0.936571901], [0.252618554], [0.054033081], [0.802481439], [0.528197693], [0.9515026], [0.572121173], [0.752938227], [0.143857535], [0.513484576], [0.313322389], [0.6877973959999999], [0.37705984], [0.348226142], [0.67763282], [0.24138752100000002], [0.8506501790000001], [0.22034810300000002], [0.476445464], [0.690324025], [0.364695946], [0.6492491970000001], [0.9437019209999999], [0.529645971], [0.299097002], [0.96696247], [0.272005242], [0.314161447], [0.752020991], [0.221882453], [0.7203326729999999], [0.379204782], [0.60168653], [0.582932673], [0.950809853], [0.58830141], [0.880887227], [0.467857701], [0.8799021709999999], [0.619844009], [0.359002573], [0.291511278], [0.694157143], [0.727960353], [0.617703921], [0.39581257], [0.58317282], [0.710332374], [0.253753693], [0.049412227999999996], [0.728378695], [0.432432881], [0.58612345], [0.052342373], [0.053483902], [0.518729378], [0.933040208], [0.7035542840000001], [0.268989899], [0.733006927], [0.44435246700000003], [0.5833946210000001], [0.871172692], [0.42876707799999997], [0.30046084100000003], [0.9533294590000001], [0.606443965], [0.90986815], [0.714896449], [0.49734950899999997], [0.8530974859999999], [0.721804145], [0.303467328], [0.664485096], [0.27978062], [0.569481665], [0.628628926], [0.088368123], [0.733567326], [0.537436778], [0.638593691], [0.954726948], [0.632202332], [0.642134651], [0.744653087], [0.115714007], [0.48625007299999995], [0.440356144], [0.08272289], [0.511591027], [0.394627555], [0.224394], [0.626927584], [0.290254057], [0.779008053], [0.86610579], [0.873326081], [0.49548916], [0.594297695], [0.9182015840000001], [0.5770427539999999], [0.019467671000000002], [0.6702982820000001], [0.546595316], [0.591665146], [0.42155819], [0.6856085590000001], [0.340303024], [0.675626741], [0.319067345], [0.38849966399999997], [0.706949589], [0.559409515], [0.687663508], [0.7088045540000001], [0.6818880940000001], [0.42253510899999996], [0.320004605], [0.6582813679999999], [0.634154867], [0.7773320090000001], [0.812677205], [0.074280797], [0.39600217], [0.054933913], [0.825058925], [0.382642009], [0.8687298179999999], [0.588043346], [0.891551577], [0.10920046], [0.647682781], [0.724342512], [0.07016304400000001], [0.280882054], [0.039113261], [0.579641592], [0.639000922], [0.281745925], [0.647857744], [0.6479057970000001], [0.875226264], [0.567603305], [0.262940591], [0.268026042], [0.40519133], [0.479965451], [0.33552403], [0.777165379], [0.42548796299999997], [0.237986115], [0.142522971], [0.724176488], [0.234698933], [0.07818228099999999], [0.855990155], [0.270251765], [0.435517841], [0.762697513], [0.46448725799999996], [0.396112685], [0.37638092100000003], [0.29459467699999997], [0.6944921209999999], [0.622767949], [0.8475597220000001], [0.301463054], [0.912937812], [0.500017182], [0.902587935], [0.304517943], [0.299165673], [0.092014087], [0.488548917], [0.664664437], [0.26534954899999996], [0.723657021], [0.149262385], [0.04577339], [0.69661064], [0.42181486], [0.733845785], [0.418795386], [0.677443529], [0.26128360300000003], [0.268527767], [0.5443222360000001], [0.431632036], [0.981018141], [0.21498072399999998], [0.39472999299999995], [0.122224944], [0.297496875], [0.37490443100000004], [0.68698771], [0.388549207], [0.039296071], [0.73553424], [0.37929489299999997], [0.7321233859999999], [0.33922143899999996], [0.659450594], [0.054838642], [0.640112102], [0.30714170399999996], [0.39661190700000004], [0.420439161], [0.24171497399999997], [0.065893153], [0.9105219370000001], [0.697163103], [0.072559853], [0.81825094], [0.311888815], [0.961644609], [0.816325524], [0.14647302], [0.548753945], [0.946158087], [0.293992717], [0.331479643], [0.9062200309999999], [0.525540416], [0.83301411], [0.514849806], [0.574609024], [0.46871185299999996], [0.71002775], [0.645973276], [0.229794416], [0.551783393], [0.055822990999999995], [0.331750941], [0.715520198], [0.583924357], [0.30695769100000003], [0.7914782370000001], [0.16423663900000002], [0.065711219], [0.948993132], [0.080423835], [0.052495426], [0.566346135], [0.3630266], [0.605442195], [0.6308505839999999], [0.065791238], [0.28681707100000003], [0.685462839], [0.260853706], [0.659122429], [0.44317392200000005], [0.602063986], [0.060366910999999995], [0.781903153], [0.5145798070000001], [0.48388621299999995], [0.600213807], [0.49736405200000006], [0.411145245], [0.116999171], [0.34189014100000004], [0.746950848], [0.39629274600000003], [0.6221438429999999], [0.335271141], [0.140257137], [0.081620681], [0.069837569], [0.46894000799999996], [0.9908574170000001], [0.896616832], [0.255310561], [0.22464526699999998], [0.01991825], [0.296480415], [0.155458996], [0.577916714], [0.9563030309999999], [0.813464394], [0.529675785], [0.287671353], [0.48039136], [0.28104482199999997], [0.633196521], [0.09332537699999999], [0.28447398100000004], [0.052223775], [0.051129385], [0.967405608], [0.040045727999999996], [0.9085829209999999], [0.6621174160000001], [0.42470320899999997], [0.72207806], [0.666193327], [0.509681253], [0.7513536209999999], [0.279073124], [0.074927], [0.916359535], [0.31040327], [0.716604052], [0.485587085], [0.30607518100000003], [0.477558204], [0.7119239409999999], [0.066348638], [0.27453935100000004], [0.31082252], [0.47607312700000004], [0.186795565], [0.26654207], [0.070231142], [0.26951927], [0.800004713], [0.27363366699999997], [0.14647919199999998], [0.378318951], [0.373849065], [0.242170835], [0.249796488], [0.066591188], [0.372956798], [0.501812291], [0.313097752], [0.8802021959999999], [0.51981893], [0.364138746], [0.49268289600000004], [0.285732652], [0.890114985], [0.316419561], [0.26866354], [0.771975959], [0.968888992], [0.080334377], [0.7368282209999999], [0.30055807100000004], [0.9179503929999999], [0.465815039], [0.054036682], [0.963150123], [0.08965350300000001], [0.7076932340000001], [0.636416037], [0.539521117], [0.114757161], [0.357312419], [0.67639834], [0.43482839], [0.032326387000000005], [0.711365605], [0.187486519], [0.052789653], [0.5058636129999999], [0.927431873], [0.6809842559999999], [0.882822186], [0.495705441], [0.596240398], [0.320610701], [0.3413685], [0.159681797], [0.318133669], [0.8393010479999999], [0.06435925099999999], [0.470216633], [0.7762522909999999], [0.635843383], [0.62510543], [0.52959065], [0.986900166], [0.078585688], [0.233284267], [0.363330957], [0.7167169809999999], [0.37588979200000006], [0.223316889], [0.299343986], [0.538595767], [0.730297124], [0.66033077], [0.435296009], [0.326494313], [0.854402708], [0.5734938470000001], [0.757786135], [0.704743233], [0.281575597], [0.671968208], [0.313726015], [0.364338275], [0.368216396], [0.38629520700000003], [0.655971865], [0.5660252729999999], [0.424999093], [0.090110371], [0.772350538], [0.331047258], [0.273716188], [0.23877568], [0.37307977200000003], [0.331185868], [0.256134531], [0.678373225], [0.43463833799999996], [0.654668307], [0.986681065], [0.371520495], [0.408359618], [0.40932365], [0.283412082], [0.395246531], [0.010984428000000001], [0.306013869], [0.266194806], [0.299318521], [0.318293946], [0.74282591], [0.09766432900000001], [0.079666942], [0.613258767], [0.99443072], [0.568835082], [0.7080345159999999], [0.37059271899999996], [0.669867361], [0.651295625], [0.462531569], [0.7196256190000001], [0.45377248], [0.394863946], [0.323974831], [0.146454724], [0.7790670409999999], [0.401828915], [0.601479585], [0.856423023], [0.565242962], [0.301225108], [0.282108144], [0.594378011], [0.705312368], [0.5408696279999999], [0.319249574], [0.36176613799999996], [0.625000704], [0.316287401], [0.047239021], [0.801182233], [0.508474436], [0.8178934109999999], [0.399235601], [0.9740519990000001], [0.72241535], [0.039564764], [0.908684108], [0.47301013399999997], [0.7180496279999999], [0.7634790690000001], [0.6475965370000001], [0.8949973859999999], [0.22282590100000002], [0.359012234], [0.944910252], [0.297877816], [0.172517997], [0.556586265], [0.876481735], [0.48667784299999994], [0.459496733], [0.47412637700000004], [0.70101144], [0.337597387], [0.537578886], [0.966992448], [0.056849545], [0.233249065], [0.380054711], [0.602929443], [0.303847999], [0.170194553], [0.972168554], [0.332168927], [0.6887286890000001], [0.110773401], [0.273352065], [0.572939678], [0.491457065], [0.281389999], [0.821697261], [0.6749776829999999], [0.585134549], [0.7105961159999999], [0.040488789], [0.568054311], [0.321752928], [0.611850232], [0.926096887], [0.618347428], [0.667629785], [0.39773346600000004], [0.290875487], [0.594375103], [0.508255233], [0.338571357], [0.43230234700000003], [0.302221978], [0.87619819], [0.080204492], [0.092333532], [0.09365644699999999], [0.6084523510000001], [0.732654598], [0.944158855], [0.26742308], [0.731124201], [0.661308553], [0.38776626200000003], [0.962585273], [0.322067067], [0.6340810929999999], [0.475345002], [0.35355897299999994], [0.8859363159999999], [0.876798106], [0.221581064], [0.394362449], [0.8050356759999999], [0.452898486], [0.592520516], [0.761026394], [0.245049023], [0.37213936299999995], [0.681054822], [0.7471431479999999], [0.9207395290000001], [0.097207945], [0.699302998], [0.721647006], [0.5353561139999999], [0.738293805], [0.7064675509999999], [0.67395061], [0.7112122909999999], [0.302558708], [0.080097855], [0.707010837], [0.512248622], [0.659627472], [0.657559694], [0.100645606], [0.92665363], [0.892879338], [0.839157508], [0.890959718], [0.556754471], [0.960361937], [0.631037864], [0.029838065], [0.278843351], [0.926157705], [0.551504258], [0.485942349], [0.43723469600000003], [0.25231801800000003], [0.515466972], [0.43725229600000004], [0.493724207], [0.83324725], [0.317521477], [0.28623456199999997], [0.726833965], [0.495667033], [0.028645255], [0.31967191699999997], [0.674344598], [0.7660371890000001], [0.65456992], [0.7565143809999999], [0.528253719], [0.38971949100000003], [0.355087459], [0.87015202], [0.7390833059999999], [0.305761846], [0.411587673], [0.063633094], [0.735409395], [0.605916669], [0.539395562], [0.566183532], [0.674795186], [0.070993366], [0.12526410000000002], [0.279601492], [0.952174402], [0.233806762], [0.43724742899999997], [0.925423095], [0.433498634], [0.52517902], [0.088435529], [0.447677638], [0.647000631], [0.9036033370000001], [0.265790738], [0.66419695], [0.498120658], [0.49018894399999996], [0.747084187], [0.906783648], [0.678770917], [0.348599859], [0.294839683], [0.705691827], [0.211917931], [0.063201124], [0.276699543], [0.672459395], [0.8082059490000001], [0.296538373], [0.16012686199999998], [0.439385032], [0.555951416], [0.386240112], [0.158689619], [0.214499855], [0.299579429], [0.569161656], [0.488614799], [0.8782950209999999], [0.649380949], [0.465713341], [0.16813774], [0.87529545], [0.8411323409999999], [0.33292081], [0.5130478589999999], [0.30505507800000004], [0.8126269909999999], [0.25096706], [0.5024355779999999], [0.45799074100000003]], \"hoverlabel\": {\"namelength\": 0}, \"hovertemplate\": \"0=%{x}<br>1=%{y}<br>2=%{z}<br>Feature=%{customdata[0]}<br>Label=%{marker.color}\", \"legendgroup\": \"\", \"marker\": {\"color\": [0, 0, 1, 1, 0, 0, 0, 0, 1, 1, 0, 1, 0, 1, 1, 1, 0, 1, 1, 0, 1, 0, 0, 1, 1, 1, 0, 0, 1, 1, 0, 0, 1, 1, 0, 0, 1, 0, 0, 0, 0, 0, 0, 1, 0, 1, 1, 0, 1, 0, 0, 1, 0, 1, 1, 1, 1, 0, 0, 1, 0, 1, 0, 1, 0, 1, 0, 0, 0, 0, 0, 0, 0, 0, 0, 0, 0, 0, 0, 0, 0, 0, 0, 0, 0, 0, 0, 0, 0, 0, 0, 0, 0, 0, 0, 0, 0, 0, 0, 0, 0, 0, 0, 0, 0, 0, 0, 0, 0, 0, 0, 0, 0, 0, 0, 0, 0, 0, 0, 0, 0, 0, 0, 0, 0, 0, 0, 0, 0, 0, 0, 0, 0, 0, 0, 0, 0, 0, 0, 0, 0, 0, 0, 0, 0, 0, 0, 0, 0, 0, 0, 0, 0, 0, 0, 0, 0, 0, 0, 0, 0, 0, 0, 0, 0, 0, 0, 0, 0, 0, 0, 0, 0, 0, 0, 0, 0, 0, 0, 0, 0, 0, 0, 0, 0, 0, 0, 0, 0, 0, 0, 0, 0, 0, 0, 0, 0, 0, 0, 0, 0, 0, 0, 0, 0, 0, 0, 0, 0, 0, 0, 0, 0, 0, 0, 0, 0, 0, 0, 0, 0, 0, 0, 0, 0, 0, 0, 0, 0, 0, 0, 0, 0, 0, 0, 0, 0, 0, 0, 0, 0, 0, 0, 0, 0, 0, 0, 0, 0, 0, 0, 0, 0, 0, 0, 0, 0, 0, 0, 0, 0, 0, 0, 0, 0, 0, 0, 0, 0, 0, 0, 0, 0, 0, 0, 0, 0, 0, 0, 0, 0, 0, 0, 0, 0, 0, 0, 0, 0, 0, 0, 0, 0, 0, 0, 0, 0, 0, 0, 0, 0, 0, 0, 0, 0, 0, 0, 0, 0, 0, 0, 0, 0, 0, 0, 0, 0, 0, 0, 0, 0, 0, 0, 0, 0, 0, 0, 0, 0, 0, 0, 0, 0, 0, 0, 0, 0, 0, 0, 0, 0, 0, 0, 0, 0, 0, 0, 0, 0, 0, 0, 0, 0, 0, 0, 0, 0, 0, 0, 0, 0, 0, 0, 0, 0, 0, 0, 0, 0, 0, 0, 0, 0, 0, 0, 0, 0, 0, 0, 0, 0, 0, 0, 0, 0, 0, 0, 0, 0, 0, 0, 0, 0, 0, 0, 0, 0, 0, 0, 0, 0, 0, 0, 0, 0, 0, 0, 0, 0, 0, 0, 0, 0, 0, 0, 0, 0, 0, 0, 0, 0, 0, 0, 0, 0, 0, 0, 0, 0, 0, 0, 0, 0, 0, 0, 0, 0, 0, 0, 0, 0, 0, 0, 0, 0, 0, 0, 0, 0, 0, 0, 0, 0, 0, 0, 0, 0, 0, 0, 0, 0, 0, 0, 0, 0, 0, 0, 0, 0, 0, 0, 0, 0, 0, 0, 0, 0, 0, 0, 0, 0, 0, 0, 0, 0, 0, 0, 0, 0, 0, 0, 0, 0, 0, 0, 0, 0, 0, 0, 0, 0, 0, 0, 0, 0, 0, 0, 0, 0, 0, 0, 0, 0, 0, 0, 0, 0, 0, 0, 0, 0, 0, 0, 0, 0, 0, 0, 0, 0, 0, 0, 0, 0, 0, 0, 0, 0, 0, 0, 0, 0, 0, 0, 0, 0, 0, 0, 0, 0, 0, 0, 0, 0, 0, 0, 0, 0, 0, 0, 0, 0, 0, 0, 0, 0, 0, 0, 0, 0, 0, 0, 0, 0, 0, 0, 0, 0, 0, 0, 0, 0, 0, 0, 0, 0, 0, 0, 0, 0, 0, 0, 0, 0, 0, 0, 0, 0, 0, 0, 0, 0, 0, 0, 0, 0, 0, 0, 0, 0, 0, 0, 0, 0, 0, 0, 0, 0, 0, 0, 0, 0, 0, 0, 0, 0, 0, 0, 0, 0, 0, 0, 0, 0, 0, 0, 0, 0, 0, 0, 0, 0, 0, 0, 0, 0, 0, 0, 0, 0, 0, 0, 0, 0, 0, 0, 0, 0, 0, 0, 0, 0, 0, 0, 0, 0, 0, 0, 0, 0, 0, 0, 0, 0, 0, 0, 0, 0, 0, 0, 0, 0, 0, 0, 0, 0, 0, 0, 0, 0, 0, 0, 0, 0, 0, 0, 0, 0, 0, 0, 0, 1, 1, 0, 1, 0, 0, 0, 1, 1, 1, 1, 0, 1, 1, 1, 0, 1, 1, 1, 0, 1, 0, 1, 1, 1, 1, 0, 0, 0, 0, 0, 0, 0, 0, 0, 0, 0, 0, 0, 0, 0, 0, 0, 0, 0, 0, 0, 0, 0, 0, 0, 0, 0, 0, 0, 0, 0, 0, 0, 0, 0, 0, 0, 0, 0, 0, 0, 0, 0, 0, 0, 0, 0, 0, 0, 0, 0, 0, 0, 0, 0, 0, 0, 0, 0, 0, 0, 0, 0, 0, 0, 0, 0, 0, 0, 0, 0, 0, 0, 0, 0, 0, 0, 0, 0, 0, 0, 0, 0, 0, 0, 0, 0, 0, 0, 0, 0, 0, 0, 0, 0, 0, 0, 0, 0, 0, 0, 0, 0, 0, 0, 0, 0, 0, 0, 0, 0, 0, 0, 0, 0, 0, 0, 0, 0, 0, 0, 0, 0, 0, 0, 0, 0, 0, 0, 0, 0, 0, 0, 0, 0, 0, 0, 0, 0, 0, 0, 0, 0, 0, 0, 0, 0, 0, 0, 0, 0, 0, 0, 0, 0, 0, 0, 0, 0, 0, 0, 0, 0, 0, 0, 0, 0, 0, 0, 0, 0, 0, 0, 0, 0, 0, 0, 0, 0, 0, 0, 0, 0, 0, 0, 0, 0, 0, 0, 0, 0, 0, 0, 0, 0, 0, 0, 0, 0, 0, 0, 0, 0, 0, 0, 0, 0, 0, 0, 0, 0, 0, 0, 0, 0, 0, 0, 0, 0, 0, 0, 0, 0, 0, 0, 0, 0, 0, 0, 0, 0, 0, 0, 0, 0, 0, 0, 0, 0, 0, 0, 0, 0, 0, 0, 0, 0, 0, 0, 0, 0, 0, 0, 0, 0, 0, 0, 0, 0, 0, 0, 0, 0, 0, 0, 0, 0, 0, 0, 0, 0, 0, 0, 0], \"coloraxis\": \"coloraxis\", \"opacity\": 0.7, \"symbol\": \"circle\"}, \"mode\": \"markers\", \"name\": \"\", \"scene\": \"scene\", \"showlegend\": false, \"type\": \"scatter3d\", \"x\": [-7.4098334312438965, -2.5537078380584717, 1.409962773323059, 7.511463642120361, 4.997813701629639, 1.2822418212890625, 1.2849198579788208, 5.6251301765441895, -4.921491622924805, 4.162228107452393, 4.522529125213623, 8.384394645690918, 8.61569595336914, -3.638603448867798, 0.9759164452552795, 10.076456069946289, 8.66157341003418, -6.902553081512451, 0.8898755311965942, 6.993649959564209, 0.8128849864006042, -2.683929920196533, 1.8857725858688354, -4.64729642868042, 1.642140507698059, -1.0061875581741333, 6.880456924438477, -5.291598320007324, 10.186186790466309, 3.752837657928467, -4.684483528137207, 1.8232625722885132, -2.55503249168396, 0.6367653608322144, 1.4359337091445923, -3.0005738735198975, -2.3228256702423096, -5.234410285949707, -3.471092700958252, 1.2817965745925903, -1.2139904499053955, 1.831848382949829, -2.532412528991699, 2.041226387023926, 1.5018742084503174, 10.706758499145508, 0.6869584918022156, -4.851815223693848, 7.995379447937012, -5.320127487182617, 11.004109382629395, 0.6529822945594788, -1.1199450492858887, 10.645207405090332, 2.9175968170166016, 6.422762870788574, 4.6302361488342285, 3.264467716217041, 1.0433298349380493, 3.4223811626434326, 4.074254035949707, -6.076322078704834, 10.144182205200195, 1.9930871725082397, -5.410326957702637, -0.07401049882173538, 0.9230527877807617, -7.452945709228516, 7.083136558532715, 1.4564926624298096, 5.413321018218994, 5.865146160125732, -4.356118679046631, 7.89884614944458, -6.623105049133301, -4.873861312866211, 6.159278869628906, 6.402421474456787, -3.858262300491333, -3.246857166290283, -4.037006378173828, -3.0277273654937744, 4.436665058135986, -5.353545665740967, 0.0981471911072731, -1.9425994157791138, -2.9932262897491455, -4.223959922790527, 1.2958674430847168, -1.5964769124984741, -4.143455982208252, 4.680695056915283, -2.115767478942871, 0.4119720458984375, 4.2811126708984375, 9.08919620513916, -3.913088083267212, -1.00010347366333, -7.553537368774414, 5.635721683502197, -4.652450084686279, -3.474280595779419, -1.7102652788162231, -0.5494123101234436, 9.599308967590332, -4.243544578552246, -4.75999116897583, 1.7354642152786255, -6.275301456451416, 5.211948394775391, -0.5192670822143555, -3.265669345855713, 4.833415508270264, -6.4232401847839355, 4.793218612670898, -1.503954529762268, 1.7453097105026245, 0.4578864276409149, 6.465095520019531, -7.901650905609131, -1.477455973625183, 0.43410372734069824, 2.197030544281006, -3.834656238555908, -6.2956953048706055, -2.0707764625549316, 3.618790864944458, 6.3182878494262695, -0.4480472505092621, -2.745786666870117, 3.366544485092163, -3.0822436809539795, 10.453746795654297, 1.6329514980316162, -3.32153582572937, -7.843011379241943, 3.4535274505615234, 8.91806697845459, -0.5674543380737305, -2.046173334121704, 7.909142971038818, -1.2724519968032837, 0.20405460894107819, 5.354411602020264, -8.245804786682129, -3.77408504486084, 3.273247241973877, -1.5340602397918701, -1.035711646080017, -3.7467997074127197, -0.1608843207359314, -4.474426746368408, 2.19659161567688, 0.8989692330360413, -3.507005453109741, -4.868129730224609, -5.587709426879883, -3.151965618133545, -5.284117698669434, 5.532660007476807, 2.8168532848358154, 3.0375235080718994, -3.103278160095215, -2.6981732845306396, 5.06612491607666, -3.844329595565796, 8.422727584838867, 3.0890369415283203, 2.724830389022827, -7.452811241149902, -4.660557270050049, -1.5869266986846924, 2.536752700805664, 2.797849655151367, -4.073819160461426, -4.246501445770264, 3.386878728866577, 2.0391736030578613, -0.3197014331817627, 8.097508430480957, -1.1790002584457397, 0.36446428298950195, 3.2079215049743652, 3.8781487941741943, 3.24181866645813, 1.5192323923110962, 3.6780855655670166, 2.977611780166626, -4.808692932128906, -4.000163555145264, -2.1186695098876953, 5.8697052001953125, 5.337570667266846, 3.5094337463378906, -2.572589874267578, 2.1389191150665283, -0.25963276624679565, 3.0852556228637695, -5.065863132476807, -5.594180583953857, 1.840950846672058, -3.128520965576172, 3.674299955368042, 5.15841007232666, 2.476426124572754, 2.184812307357788, -1.2535899877548218, 2.23435640335083, 0.899514377117157, 1.4291300773620605, -4.008030891418457, 6.005255699157715, 5.824917316436768, -1.0714777708053589, 0.5798765420913696, -0.7803875803947449, 0.6335143446922302, 7.768453121185303, 8.184599876403809, -2.8921778202056885, 2.520916223526001, -1.3444936275482178, 5.250204563140869, -5.4406046867370605, -3.3551652431488037, -1.047440528869629, -3.0234122276306152, -6.039219379425049, -2.8900625705718994, 5.467935562133789, 0.8970848917961121, -2.2473316192626953, 7.722817420959473, 8.622450828552246, -6.937591075897217, -1.0968776941299438, -8.91788387298584, -4.1481852531433105, 6.162188529968262, 0.7868699431419373, 2.1210319995880127, 0.6768932342529297, 1.0621873140335083, -2.8545050621032715, 3.889904499053955, -3.744450092315674, -5.8028364181518555, -2.6794795989990234, -2.575237989425659, 2.516188383102417, 2.7848970890045166, -3.395548105239868, 5.672543048858643, 2.910189151763916, -3.8273234367370605, -5.90200662612915, -7.943459987640381, -2.257800340652466, 6.001119136810303, -8.472064018249512, 1.306037187576294, 2.0957162380218506, 4.595012664794922, -2.372429847717285, 1.3898992538452148, -2.8932743072509766, 9.10920238494873, -0.7081954479217529, -6.249216556549072, 3.3771679401397705, 1.0633234977722168, 3.0705668926239014, -7.140376567840576, 0.49732908606529236, 4.722164154052734, 1.493898630142212, 8.370864868164062, 5.992483615875244, 0.5356598496437073, -4.823376178741455, -2.8094565868377686, 0.6347336769104004, -5.050415515899658, -6.169492721557617, 4.681979179382324, -2.530686378479004, -7.230432033538818, -1.314012050628662, -3.2361392974853516, -5.7918009757995605, -0.4124580919742584, 1.283007025718689, -4.6887431144714355, -2.500094413757324, -5.156265735626221, 6.673815727233887, 3.236086368560791, -1.7840211391448975, -3.7539193630218506, -6.5571393966674805, -1.7093944549560547, -1.1089049577713013, 5.420450210571289, 4.684500217437744, 2.5784080028533936, -4.997807502746582, -0.012968046590685844, -4.089389324188232, -1.2099920511245728, 3.1650898456573486, 2.882678985595703, -0.05713605508208275, -0.05014558508992195, 0.7290967702865601, 0.5573740601539612, -6.8447041511535645, -7.182728290557861, -0.6560379266738892, -4.959785461425781, 3.1541056632995605, -2.0194458961486816, -5.778321743011475, 6.870227813720703, 0.06754910945892334, -0.07960627973079681, -4.203567981719971, 9.103141784667969, 8.422407150268555, 2.300210952758789, 3.1479287147521973, -0.7171823382377625, 8.33680248260498, 1.7286183834075928, -4.1564621925354, -4.548711776733398, 5.071286678314209, -1.6373814344406128, -8.359373092651367, 3.74504017829895, 7.414486408233643, -8.385581016540527, -4.753604412078857, 6.5265727043151855, 1.3844281435012817, 5.943111896514893, 3.3171896934509277, 2.4104580879211426, -1.1244264841079712, 6.074820518493652, 8.658869743347168, -4.384239196777344, -7.56401252746582, -8.759034156799316, 2.843722343444824, -7.2794718742370605, -5.3378214836120605, -0.036994535475969315, -2.9672727584838867, 8.490915298461914, -2.2477078437805176, -2.5658044815063477, -0.6981114745140076, -7.3283915519714355, -1.714349389076233, 6.767946720123291, -2.897876739501953, 6.4159321784973145, -0.04017317295074463, -2.504289150238037, 2.261855363845825, -4.695852756500244, 1.9322375059127808, 6.495960712432861, 3.0265796184539795, 6.875010013580322, -4.538046836853027, -4.9041619300842285, 3.469024896621704, 3.407357931137085, -2.21657395362854, 6.455875873565674, -2.1215739250183105, -5.996003150939941, -5.322272777557373, -2.6400222778320312, -3.9300596714019775, -4.7213544845581055, -4.034842014312744, -4.625147819519043, -2.6567182540893555, -5.255593299865723, -4.160041332244873, -5.97666597366333, -4.381290912628174, -7.524973392486572, 2.9974148273468018, -4.510264873504639, 4.112103462219238, -4.399920463562012, -5.884494304656982, -7.716978073120117, -0.47146841883659363, 0.02034670114517212, 2.629581928253174, 4.843657970428467, 0.052127350121736526, 3.332998037338257, -2.0885229110717773, 6.319212913513184, 3.7025272846221924, -3.323442220687866, -2.6053316593170166, 8.796889305114746, -3.901232957839966, 1.280659556388855, -2.436534881591797, -5.240909099578857, -1.1178240776062012, 8.695914268493652, 3.64247989654541, -2.557915210723877, -3.4770238399505615, -1.2128492593765259, -1.8193830251693726, 3.444307327270508, -3.4001665115356445, 0.6024442315101624, 2.8784096240997314, -5.305753231048584, 6.014664173126221, -1.8097409009933472, 2.0417943000793457, -5.804843425750732, 4.2434892654418945, 5.414701461791992, -2.2274012565612793, -7.709695339202881, 5.689858913421631, -5.730175018310547, 3.0693840980529785, -4.326231956481934, -3.1624457836151123, 3.7019460201263428, 8.064931869506836, -0.12667019665241241, 4.037259101867676, 5.582700252532959, 0.716437816619873, 1.8832765817642212, 0.6122882962226868, -1.0381731986999512, 4.030285835266113, -3.783385753631592, -4.6125640869140625, 4.632251262664795, 3.8785409927368164, -4.274752616882324, 2.852597951889038, -4.2552714347839355, -4.679455757141113, -3.119596242904663, 4.101675987243652, -2.5763585567474365, -5.196938514709473, -4.582959175109863, -4.162008762359619, -6.411676406860352, 6.204499244689941, -3.710456609725952, 2.8935115337371826, -1.4876736402511597, -6.2353596687316895, -2.6024973392486572, -6.366453170776367, -4.971991539001465, -2.560800075531006, 1.7901042699813843, 3.3415865898132324, -8.185575485229492, -2.93060302734375, -1.8654221296310425, -5.107514381408691, 2.5772595405578613, 6.262172698974609, 1.8259518146514893, 7.007850170135498, -1.6660271883010864, -5.495645046234131, -8.012533187866211, 1.113112211227417, -2.5078513622283936, 5.91451358795166, 4.5101494789123535, 5.405596733093262, 1.7114683389663696, 2.93691349029541, 3.571413993835449, 5.7718281745910645, 0.6181502938270569, -1.3915363550186157, -0.6421306133270264, -5.000226020812988, -3.2154605388641357, 0.9786523580551147, -5.646129608154297, 1.1612765789031982, -5.571268558502197, -0.26073822379112244, -4.93278694152832, 0.2202797830104828, 6.0525078773498535, -2.783921957015991, 0.6078056693077087, 6.833536624908447, -3.10402774810791, 0.38758584856987, 2.4194302558898926, -4.9819841384887695, -4.361789226531982, 0.8769912123680115, -3.3036601543426514, 4.49533748626709, 5.050482749938965, 2.4114861488342285, 8.92718505859375, 1.406721591949463, -6.078131198883057, -1.2404605150222778, -4.380874156951904, -6.939234733581543, -1.4809465408325195, 6.334173202514648, 7.276904582977295, -4.698704719543457, 5.146144866943359, 2.6909146308898926, 3.559220314025879, 6.027741432189941, -6.856750965118408, 3.3524630069732666, -2.069809913635254, 3.6508989334106445, -3.260631561279297, -0.5924574136734009, -1.4951865673065186, 9.152087211608887, -3.5423176288604736, 5.004311561584473, 2.9109373092651367, -4.480690956115723, -1.4376972913742065, -6.071059226989746, 5.6151018142700195, -5.411966323852539, 1.2051751613616943, -4.096601963043213, 6.693233966827393, -7.029141426086426, 8.915976524353027, -5.988646984100342, 8.223236083984375, 8.294869422912598, 1.2545193433761597, 2.7768197059631348, -7.537511348724365, -2.498328924179077, -4.493305206298828, -4.820151329040527, 1.5540103912353516, 3.290224075317383, -6.481782913208008, 4.463014602661133, 5.280892848968506, 8.865249633789062, 0.7289084196090698, 4.079272747039795, -1.511074185371399, -3.8210842609405518, -6.4099507331848145, -0.9555505514144897, -3.3900296688079834, -2.405839204788208, 2.9937832355499268, -0.5411602854728699, -1.3728187084197998, -1.1886742115020752, -7.159794330596924, -5.008418083190918, -2.2093069553375244, 6.4795451164245605, -0.8488348722457886, -0.502558171749115, -6.271793842315674, 5.089691638946533, -7.232087135314941, 0.3754095435142517, 5.810519218444824, 5.781826019287109, 2.4376533031463623, 7.401779651641846, 7.7363739013671875, 0.9208844304084778, 0.26348623633384705, 1.3011761903762817, 2.369321584701538, -0.4841981828212738, 7.718540191650391, 8.945493698120117, -8.006725311279297, -0.7879787087440491, 4.775395393371582, -1.5713584423065186, -2.70404314994812, -7.645337104797363, -5.883015155792236, 0.5721225142478943, 0.22141896188259125, 1.856292724609375, -6.904190540313721, -7.130398273468018, -6.81475305557251, -0.41163966059684753, 2.2546236515045166, -4.68311071395874, 2.45595121383667, 6.8407087326049805, 2.09181809425354, 5.368042945861816, -1.2638157606124878, -4.921909332275391, 0.8824585676193237, 2.59403395652771, -6.228384971618652, 4.468323230743408, -1.7881475687026978, -6.862456798553467, 0.42346644401550293, -6.908650875091553, 4.31229305267334, -7.98042631149292, 2.2139718532562256, 1.6709047555923462, 1.8363771438598633, -1.8851805925369263, 7.560870170593262, -2.812901496887207, 2.3611557483673096, -7.139684677124023, 4.72283935546875, -6.691747665405273, -3.030813217163086, -4.490176677703857, -1.6558854579925537, 8.916864395141602, -4.606827259063721, 0.6423452496528625, 5.262924671173096, -6.550327301025391, -3.075690269470215, 5.5540080070495605, 5.304703235626221, -0.22033679485321045, -4.858144283294678, -6.918970584869385, 4.095564365386963, -9.01484489440918, 7.761568069458008, 2.1110215187072754, 3.15462064743042, -4.218575477600098, -1.8625884056091309, -5.132775783538818, 2.4949686527252197, -7.6530046463012695, 4.602181911468506, -1.5536119937896729, 0.9773505330085754, 5.697440147399902, 4.409104347229004, 1.4562809467315674, 2.271709442138672, -2.7528295516967773, -8.258461952209473, 2.5184054374694824, 2.7754909992218018, -4.087259292602539, -2.8608829975128174, -1.1868369579315186, 4.524970531463623, 3.4319584369659424, 6.49913215637207, 2.5487561225891113, 8.397407531738281, -2.3906474113464355, 5.5440449714660645, 7.0427470207214355, -2.9056310653686523, -0.9854111671447754, -4.698057174682617, 3.4776768684387207, 1.5741732120513916, 1.2108114957809448, -3.6344685554504395, 10.194148063659668, -5.829759120941162, 5.47282600402832, 4.974738597869873, 11.291297912597656, -7.044519901275635, 2.474707841873169, 0.4778344929218292, -3.5262749195098877, -8.105695724487305, -0.8777345418930054, -9.588759422302246, 3.9822964668273926, 1.0929583311080933, 11.309649467468262, -9.61888599395752, -3.461210012435913, 0.9141305088996887, 1.134633183479309, -1.3420337438583374, 0.6467226147651672, -7.088223457336426, -2.605592727661133, 0.331393837928772, 7.369642734527588, 7.685092449188232, 1.3177993297576904, -3.8583381175994873, 7.090477466583252, -7.605087757110596, -8.0918550491333, -3.7960169315338135, 4.014425754547119, -1.4555399417877197, -2.1163628101348877, -2.7810325622558594, 4.190359115600586, -3.5317587852478027, -4.78190803527832, -5.7097697257995605, 5.531078815460205, -4.20535135269165, -1.9622764587402344, -0.47357702255249023, 5.516615390777588, 2.5991735458374023, 5.730581283569336, -2.17681884765625, 5.932846546173096, 4.5905070304870605, -2.46138334274292, -2.030438184738159, 2.423870325088501, -3.170011520385742, 2.2561497688293457, 7.009962558746338, -0.448132187128067, 4.045595169067383, 2.664461612701416, -4.5132598876953125, -5.203181743621826, -6.684056758880615, 0.1811322420835495, 0.08698651194572449, 6.4662394523620605, -0.3783351182937622, 6.637634754180908, -3.4867959022521973, -7.591769218444824, -5.7169718742370605, 0.7025613188743591, -4.871803283691406, -0.12409106642007828, -1.374746561050415, 0.6475443243980408, -6.273961544036865, -5.4874043464660645, -2.9644055366516113, 0.4527614116668701, -1.7164627313613892, -0.3671838343143463, -2.272022247314453, 4.8899946212768555, 0.8301569819450378, 4.45054292678833, -2.268948793411255, -0.4413175582885742, 4.646879196166992, -4.6491780281066895, 5.210553169250488, -5.658387184143066, -1.5083221197128296, 3.047410726547241, -1.705265998840332, 2.1118075847625732, -3.169340133666992, -0.8867224454879761, -0.264405757188797, -2.8986618518829346, -4.40656852722168, -1.5532903671264648, 1.3935526609420776, -4.007727146148682, 0.7345231771469116, -3.181004524230957, 8.01307487487793, -5.473565101623535, 5.092790603637695, 5.356528282165527, -5.696314811706543, -3.090437412261963, -1.9730331897735596, 1.8347984552383423, -0.9322617650032043, 5.919103622436523, 2.5937750339508057, 5.8434648513793945, 2.7951526641845703, 0.48204633593559265, -1.9661166667938232, -0.2850610911846161, -0.013564115390181541, -6.440932273864746, 7.832136154174805, -2.729304790496826, -4.8897199630737305, 6.7581071853637695, -4.394725799560547, -2.8677303791046143, 9.171841621398926, 4.60668420791626, 2.748229503631592, 2.4940805435180664, 7.809577465057373, 5.571585655212402, 2.056253671646118, 0.6168009638786316, -2.6432816982269287, -0.5259158611297607, 6.405544281005859, 0.5451299548149109, -1.0206310749053955, 5.69123649597168, 1.1359875202178955, -2.6845200061798096, -0.28703585267066956, -6.54095458984375, 6.624772071838379, -2.452428102493286, 0.9983342885971069, -2.1686413288116455, -4.538017272949219, 1.8440940380096436, -1.959179401397705, 8.00537395477295, -1.7391777038574219, 5.385045051574707, -3.611421823501587, -2.2860629558563232, -5.680281639099121, -0.06142839044332504, 0.4098786413669586, 8.766502380371094, 0.3934227526187897, -0.766037106513977, 2.815605401992798, -1.5358812808990479, 0.9231781363487244, -1.457863688468933, -3.1668784618377686, -0.04441734403371811, 3.7151007652282715, -5.23631477355957, -7.150424003601074, 0.5861762166023254, -6.342723846435547, 2.0824832916259766, -0.36245280504226685, -1.9630953073501587, -5.210683345794678, 6.752991199493408, 4.179102897644043, 5.133617401123047, -5.278731346130371, -4.0873703956604, -7.150200366973877, 3.1368398666381836, 5.183783531188965, 3.4006590843200684, 2.7855236530303955, -5.579928874969482, 3.0176844596862793, -3.2033748626708984, -7.016685485839844, -3.7146189212799072, -4.374197006225586, -5.9888458251953125, -1.6050763130187988, 2.1351115703582764, -0.6388814449310303, 6.582368850708008, -0.12945029139518738, 4.949650764465332, 3.5536110401153564, 1.494133710861206, 2.6045889854431152, -5.507944107055664, -1.5776174068450928, -4.859134197235107, -2.115723133087158, -6.7026262283325195, 4.1505608558654785, 5.743886947631836, -7.124919414520264, 1.4803897142410278, 7.315018653869629, 4.540499687194824, -3.0862302780151367, 10.52122688293457, -7.649685382843018, -5.0761003494262695, 2.7517688274383545, 0.16672199964523315, 2.312899351119995, -7.193151950836182, -3.671246290206909, 2.1835834980010986, 6.364053726196289, -0.7272225022315979, -2.528409481048584, 5.682012557983398, 4.680421352386475, 5.322096347808838, -4.313149929046631, 2.4860336780548096, -0.9611063003540039, 3.1094911098480225, 3.357023239135742, 3.0854411125183105, -3.2592413425445557, 6.572439670562744, -3.9878957271575928, 5.167827606201172, -2.418201208114624, -5.115275859832764, -0.20943878591060638, 2.0204668045043945, -8.410088539123535, -2.4959542751312256, 5.771726608276367, 7.562241554260254, -3.7121899127960205, -5.2725725173950195, 5.377079486846924, 4.198099136352539, 4.70482873916626, 1.2119812965393066, -2.062730550765991, -3.60795259475708, 1.496056318283081, -4.334469795227051, -6.55341911315918, -2.8454999923706055, -2.1257874965667725, -6.061454772949219, 3.905148506164551, 1.4416900873184204, 7.776113033294678, -1.331264853477478, -8.691418647766113, 5.80292272567749, -4.356655597686768, -2.1574971675872803, -3.2344202995300293, 8.110492706298828, -7.557027339935303, 4.147256851196289, 4.5479888916015625, -4.528456687927246, -1.1695784330368042, 1.3474476337432861, 7.927278995513916, -0.2201543152332306, 0.7931749820709229, 2.5613372325897217, 3.995640754699707, 7.397161483764648, 5.427245140075684, -5.900196075439453, -2.3903255462646484, 2.593740224838257, 5.6609416007995605, -7.438162803649902, -8.012907028198242, -2.268796920776367, 3.883512258529663, 7.492812156677246], \"y\": [5.708261966705322, -11.81031322479248, 13.076433181762695, 5.749504566192627, 17.2089786529541, 0.8748147487640381, -13.26812744140625, 8.234245300292969, 1.626078724861145, -16.072359085083008, 3.610183000564575, 12.614386558532715, 3.674583911895752, -2.865751028060913, 9.33364486694336, 7.4509806632995605, 3.606382131576538, -10.427836418151855, 11.847594261169434, 11.330023765563965, 0.22628895938396454, 4.8479838371276855, 15.929366111755371, 1.638136386871338, 5.079912185668945, 3.2879068851470947, 12.168808937072754, -2.596431255340576, 7.301158905029297, 9.828373908996582, -0.5166409015655518, -10.924836158752441, -1.8727010488510132, 11.759596824645996, -4.9222846031188965, 3.41705584526062, 0.9602732062339783, -2.689636468887329, 6.631007194519043, 1.862690806388855, -14.49970531463623, 9.387164115905762, -9.658979415893555, 3.6194229125976562, 10.32188892364502, 7.286866188049316, 10.337510108947754, 1.3594123125076294, 12.489871978759766, -13.365554809570312, 4.134594917297363, 10.186942100524902, -4.71598482131958, 7.2584428787231445, 2.1016690731048584, -12.77523136138916, -14.90831470489502, -8.005962371826172, 11.475461959838867, 10.264725685119629, -6.892878532409668, -8.52635669708252, 10.531055450439453, 8.960615158081055, -11.86660099029541, 10.188826560974121, -10.6505765914917, -10.124164581298828, 12.519447326660156, 4.302443027496338, 13.55025863647461, 7.977371692657471, 7.616029262542725, 3.704987049102783, 1.3870490789413452, 2.1924054622650146, 11.984172821044922, 9.037819862365723, -0.09690861403942108, -1.4704198837280273, -1.270691990852356, 2.4825997352600098, 14.623537063598633, -7.01874303817749, -11.644881248474121, -7.8636579513549805, -10.509810447692871, -13.105324745178223, -4.6303887367248535, 4.77389669418335, 4.627399921417236, 3.687424421310425, -8.371838569641113, -14.51881217956543, -11.58377742767334, 11.482820510864258, -5.881477355957031, -6.862106800079346, -4.251856327056885, 12.439478874206543, 7.249362945556641, -13.279377937316895, -6.975144863128662, -5.7275872230529785, 10.451580047607422, -4.493344306945801, -7.213393688201904, -8.562026977539062, 0.5066501498222351, 9.282205581665039, 4.321159362792969, 7.436527252197266, 0.8054839372634888, 0.8401312232017517, 14.813127517700195, 2.1672041416168213, -15.7540864944458, -14.760956764221191, 3.989689350128174, -5.994940280914307, 1.5595107078552246, -2.99709153175354, -7.152240753173828, -11.790499687194824, -5.842106819152832, -9.798410415649414, -10.072044372558594, 5.918947696685791, -11.191206932067871, -8.839558601379395, -4.259992599487305, -5.676362991333008, 5.0865397453308105, -11.218389511108398, -14.319718360900879, 2.5467536449432373, 15.322589874267578, 7.0596394538879395, -9.929191589355469, -2.1901187896728516, 4.007513523101807, 3.326341152191162, -5.518050193786621, 15.190546989440918, -6.036214351654053, -3.3773391246795654, 5.245400428771973, -12.367620468139648, -10.898948669433594, -4.357868671417236, 4.762333869934082, 2.1312732696533203, -4.357363700866699, -6.1079630851745605, 5.656637191772461, -6.591552257537842, -12.956039428710938, -13.413925170898438, 3.138270139694214, 2.93097186088562, -15.266836166381836, -7.6177473068237305, 4.079167366027832, -1.4239368438720703, 4.853156089782715, -14.256220817565918, 4.300341606140137, 12.007033348083496, 11.428328514099121, -6.542628288269043, -7.4921064376831055, -6.1003546714782715, 4.67683744430542, 14.884438514709473, -4.231306076049805, -12.97809886932373, 3.0302062034606934, 14.2396821975708, -11.212888717651367, 6.867286682128906, -3.991013526916504, 5.6658525466918945, -10.475927352905273, 11.960622787475586, 11.912919044494629, -16.203086853027344, 8.215705871582031, -5.03034782409668, -1.665427327156067, 2.3396615982055664, -12.75726318359375, 15.426403999328613, 3.5838258266448975, 14.875081062316895, -16.006446838378906, -13.67209243774414, -4.6455583572387695, -7.73207426071167, 8.307441711425781, -5.419347286224365, -2.5647294521331787, -3.525782585144043, -10.98189926147461, 14.563827514648438, 13.92847728729248, -10.654685974121094, -2.5056607723236084, -2.9877965450286865, 4.95018196105957, -10.399312973022461, -5.427617073059082, 7.430758476257324, 10.360913276672363, 3.015052080154419, -2.8683767318725586, -4.413149833679199, -10.326828956604004, 8.379219055175781, 11.168573379516602, -1.223541021347046, 14.164449691772461, -8.2825927734375, 13.861834526062012, 0.22396491467952728, -16.002607345581055, -1.6552737951278687, -10.907530784606934, -2.189863920211792, -14.819331169128418, 5.163337707519531, -13.407815933227539, -8.664055824279785, 6.32187557220459, 6.934625625610352, -4.553042888641357, -7.928333759307861, -2.5198915004730225, 1.6300970315933228, 6.155625343322754, 14.718378067016602, -3.2895724773406982, -5.089573383331299, 13.074204444885254, -12.58994197845459, 8.083553314208984, -15.418240547180176, -0.3827776610851288, 2.0961554050445557, -10.80174732208252, 15.829407691955566, -4.31672477722168, -3.0770175457000732, 7.846911907196045, -7.36561393737793, -4.360618591308594, -0.41759994626045227, 4.868103981018066, -14.213727951049805, 5.445228576660156, -5.603775501251221, 14.311775207519531, -6.224417209625244, 16.153850555419922, -4.031494617462158, -4.057454586029053, -12.289373397827148, 8.457740783691406, -15.418867111206055, 0.516816258430481, -6.001135349273682, -7.41006326675415, -12.690696716308594, 3.84767746925354, 14.092785835266113, 3.877392530441284, -9.036026954650879, 10.374427795410156, 15.393922805786133, -8.26925277709961, -1.7476929426193237, -10.910837173461914, 13.931839942932129, -3.403027296066284, 2.2830028533935547, 14.130105972290039, -9.487051010131836, -9.108687400817871, -8.543020248413086, -14.340924263000488, 7.8870134353637695, 4.592000961303711, -9.445384979248047, -6.815361976623535, -9.278022766113281, -7.092305660247803, 2.447439670562744, 5.428558826446533, -0.5959782600402832, -5.986915588378906, 4.631861686706543, -8.662336349487305, -15.341728210449219, 11.234000205993652, 8.06495475769043, 6.206699371337891, 3.702425956726074, -6.2510504722595215, 3.5673487186431885, -13.689661026000977, 11.865168571472168, 11.185964584350586, -12.694086074829102, 6.05723237991333, 14.631109237670898, -6.004272937774658, 5.903435707092285, -6.353331089019775, -12.956669807434082, 2.9410271644592285, -11.388132095336914, -8.18887996673584, 3.5211026668548584, 7.585499286651611, -8.330581665039062, 0.6955525279045105, 4.015089511871338, 9.30306625366211, 9.28678035736084, 11.330288887023926, 5.641883850097656, -15.577768325805664, 8.499822616577148, -8.082070350646973, -5.236512660980225, -12.823923110961914, 12.040687561035156, -9.279853820800781, 2.5423176288604736, 8.262227058410645, 7.908413410186768, 3.583414316177368, -3.835618019104004, 3.86725115776062, -6.801914215087891, 8.502747535705566, 12.838227272033691, -11.243192672729492, -15.016282081604004, 5.2769999504089355, 8.326862335205078, -2.781909704208374, 3.400951623916626, -4.899550914764404, -12.63255786895752, -9.112020492553711, -3.7097198963165283, -4.437558650970459, -7.357481956481934, 12.493866920471191, 4.026918888092041, -10.252355575561523, -7.1458587646484375, -0.9329234957695007, -12.364922523498535, 6.51666259765625, 3.8362045288085938, 10.360368728637695, -16.802446365356445, -14.432650566101074, -8.986275672912598, -9.452125549316406, -3.389735221862793, 13.254759788513184, 9.755311012268066, 7.532766342163086, -10.697522163391113, 2.0722107887268066, 6.33015251159668, -11.908998489379883, 3.1322779655456543, 4.352841854095459, -2.495816469192505, 1.8892855644226074, -2.512085437774658, -9.762452125549316, -5.712475299835205, -6.437698841094971, -5.554460525512695, -5.098042964935303, 7.118869781494141, -10.928353309631348, -5.649713516235352, 4.830472469329834, 1.499113917350769, -4.639195442199707, -12.550376892089844, -4.222386837005615, 8.282801628112793, 4.9558305740356445, -1.1563218832015991, -5.825706481933594, -7.7880682945251465, -12.541898727416992, -11.22082233428955, 10.360359191894531, -15.253717422485352, 11.792383193969727, -1.6263636350631714, 1.8938101530075073, -8.568766593933105, -10.526808738708496, 3.0550267696380615, 11.641983032226562, 3.2531816959381104, -9.854704856872559, -9.205229759216309, -12.359182357788086, -12.094443321228027, 9.068382263183594, 12.55003547668457, 7.224684238433838, -8.126880645751953, -8.264338493347168, -9.953405380249023, 11.208868026733398, -14.549220085144043, -13.431721687316895, 5.9952263832092285, 6.909730911254883, 11.771358489990234, 2.520252227783203, -15.1739501953125, -7.238032341003418, 7.151249885559082, 13.461445808410645, -4.204408645629883, -6.942319869995117, 13.233418464660645, 0.6170632243156433, 13.461191177368164, -4.002024173736572, 0.2187417447566986, 14.175323486328125, 12.360811233520508, -4.637067794799805, 3.4776461124420166, 11.720669746398926, -8.331014633178711, 14.463569641113281, 5.5512495040893555, -8.01699161529541, 14.940301895141602, -11.242546081542969, 3.486046314239502, 1.9698058366775513, -10.602519035339355, -2.3244218826293945, 14.991434097290039, 0.3993851840496063, -1.3748180866241455, -10.030707359313965, 13.128496170043945, -9.883417129516602, -2.5589077472686768, -0.48816201090812683, 4.580126762390137, 0.22837789356708527, 11.762066841125488, -14.220438003540039, 12.252276420593262, 0.7016400694847107, -6.275214672088623, -10.550493240356445, 2.079547882080078, -10.244850158691406, -16.019176483154297, -13.101066589355469, 5.7110700607299805, 2.9781529903411865, -11.68867015838623, -12.922588348388672, -7.916145324707031, 7.076102256774902, 12.128392219543457, -15.779501914978027, 12.854695320129395, -5.019344806671143, 7.644241809844971, 3.331838607788086, 15.766414642333984, 2.4137425422668457, 2.3709895610809326, 4.436180114746094, 11.660359382629395, 12.834567070007324, 5.8331146240234375, -7.959666728973389, 2.302886724472046, -6.855113506317139, 5.671400547027588, -10.032498359680176, -2.3612582683563232, 4.018894195556641, -4.261602401733398, 6.791606903076172, 15.442607879638672, 1.232385516166687, -14.087712287902832, 8.27916431427002, 6.277933597564697, 15.332077980041504, -13.836573600769043, -5.586838722229004, 7.9283061027526855, -0.8503027558326721, -8.936875343322754, -5.471276760101318, 0.785418689250946, -2.834495782852173, -6.068850994110107, 8.506614685058594, 13.585845947265625, 6.109588146209717, 11.084805488586426, 11.121230125427246, -16.108646392822266, -3.1071763038635254, -15.40893268585205, -3.8060929775238037, 6.465049743652344, -6.843682289123535, 9.630064010620117, 2.7604401111602783, -8.816947937011719, 1.9047490358352661, 10.426447868347168, -9.625990867614746, 14.195478439331055, 1.4213035106658936, -6.415466785430908, -1.3501858711242676, 4.139467716217041, -10.279740333557129, -11.574831008911133, -15.197464942932129, 3.2463419437408447, -3.92470645904541, 5.537166118621826, 6.336985111236572, -3.6137912273406982, -7.379922866821289, 1.7440601587295532, 13.189702987670898, 3.104094982147217, -8.509071350097656, -7.253597259521484, 2.4779675006866455, 2.8570873737335205, 9.012070655822754, -0.5345419049263, 12.78993034362793, 11.440905570983887, -9.3475923538208, 4.104585647583008, -8.005172729492188, -2.683713674545288, -12.596663475036621, -2.430170774459839, 6.015432357788086, 2.627748966217041, 6.108788967132568, 2.2518398761749268, 9.031542778015137, 8.585728645324707, -11.863264083862305, 12.062207221984863, -12.350728988647461, -13.764102935791016, 2.904695749282837, 2.2059412002563477, 7.1399149894714355, 2.3779256343841553, 10.108261108398438, -12.605857849121094, -13.695891380310059, -2.819298505783081, 6.042658805847168, -9.307497024536133, -16.4276123046875, 10.133604049682617, -8.002982139587402, -11.234556198120117, 0.35246869921684265, 9.787960052490234, -1.1412705183029175, -4.941483020782471, 7.786594867706299, 10.513571739196777, 5.679075241088867, 12.402765274047852, 5.124818801879883, -2.868584156036377, 6.68725061416626, -14.339546203613281, 4.157199382781982, -10.195917129516602, 9.820490837097168, 10.230317115783691, -6.6810078620910645, -8.590899467468262, 5.693060398101807, 4.135647296905518, 8.052892684936523, 4.436969757080078, -3.1945791244506836, -10.134198188781738, -3.6945157051086426, -4.311936855316162, -6.0628557205200195, 6.054220199584961, -0.414667010307312, -5.587169170379639, -4.435573577880859, -2.3330929279327393, 10.838346481323242, 11.054366111755371, -15.403027534484863, 15.548283576965332, -2.4184155464172363, -2.4314486980438232, 0.9437382817268372, -7.396211624145508, 1.6335387229919434, 14.042065620422363, 5.067827224731445, 1.6048756837844849, 2.139808177947998, -0.8028441667556763, 2.144254684448242, -1.7218363285064697, 13.886491775512695, -10.365668296813965, -13.735498428344727, 3.011171817779541, 9.498361587524414, 3.813140869140625, 12.043699264526367, 1.049573302268982, 13.64549446105957, 4.1625518798828125, -10.863897323608398, -12.167084693908691, -2.4017815589904785, 4.690578460693359, -13.339244842529297, -8.970178604125977, 13.384589195251465, 2.555145740509033, -4.584686756134033, 9.189696311950684, 11.941956520080566, -4.796769618988037, -0.40973445773124695, 5.13722562789917, 4.845982074737549, -2.4729344844818115, 7.415015697479248, -11.414107322692871, -7.876283645629883, -12.84410285949707, -1.602332353591919, -3.9162111282348633, -5.6949381828308105, -2.4835128784179688, 3.0712881088256836, -8.354317665100098, -11.416962623596191, 0.9370688796043396, 6.275657653808594, -11.152713775634766, 11.304800987243652, -10.194769859313965, 3.3868865966796875, 4.44325590133667, -9.743943214416504, -13.33314037322998, -3.6652145385742188, -14.822244644165039, 3.466785430908203, 12.522006034851074, 9.857656478881836, 10.175167083740234, 11.823145866394043, -4.20947265625, 1.7429734468460083, 3.0918030738830566, 3.667517900466919, -1.512022614479065, 1.8704025745391846, 8.024642944335938, -2.837826728820801, -5.564034938812256, -2.8619651794433594, 7.29243803024292, -1.7572749853134155, -12.587960243225098, 4.874114990234375, 3.979849100112915, 0.604339063167572, 4.204372406005859, 11.36662769317627, -12.740829467773438, -7.302286148071289, 3.209592580795288, -3.007709264755249, 1.2883272171020508, 0.7296625375747681, 6.961174488067627, -3.0208961963653564, -8.310308456420898, 11.944982528686523, -16.281940460205078, -4.096932888031006, 10.105944633483887, -3.336352825164795, -1.9626731872558594, 5.653523921966553, 3.1887993812561035, 7.186398029327393, 1.9172152280807495, -5.772055625915527, 12.288637161254883, -1.8288819789886475, -2.66757869720459, -1.6674132347106934, 2.6454107761383057, 2.8355798721313477, 0.8620882034301758, -0.41911035776138306, 6.539896011352539, -4.291924953460693, 1.7819193601608276, 2.1148810386657715, 4.395567417144775, 4.977552890777588, -0.42204251885414124, 0.6909803152084351, 1.3740350008010864, 14.964899063110352, 12.304924964904785, -11.139677047729492, 13.343477249145508, -12.080926895141602, -16.012392044067383, -11.570699691772461, 14.421127319335938, -1.5022540092468262, -6.2795000076293945, 8.3281888961792, -14.394143104553223, 12.072615623474121, -5.624316692352295, -8.332157135009766, -14.25760555267334, 5.834744453430176, -16.325881958007812, -15.331831932067871, 14.616842269897461, -12.98253345489502, 15.776076316833496, -1.3470667600631714, 2.2761878967285156, -0.35934484004974365, -13.25561237335205, 3.610520362854004, -11.854225158691406, -2.524139165878296, -3.4156394004821777, 1.814558506011963, 4.335929870605469, 1.6769224405288696, -15.740290641784668, -6.537453651428223, 4.349769592285156, 1.5362354516983032, 12.363475799560547, -7.1976494789123535, 3.114262580871582, -2.0590922832489014, -1.9278770685195923, 10.855326652526855, 0.6125513911247253, 5.363717079162598, 3.636096477508545, -16.277299880981445, -11.664159774780273, -9.895448684692383, 14.54023265838623, 1.8728864192962646, -11.94966983795166, -4.631744384765625, -2.5128395557403564, -3.3900396823883057, -11.902073860168457, 14.963275909423828, -14.030882835388184, -8.904926300048828, -7.214394569396973, 3.826292037963867, -9.073673248291016, 13.31350040435791, 3.8089001178741455, 2.860006809234619, 7.203090667724609, -6.83329439163208, 14.280508041381836, -7.4062018394470215, 10.754483222961426, 3.0962743759155273, 5.862846851348877, 4.032563209533691, 14.577150344848633, -0.8210465312004089, -8.165876388549805, -5.328957557678223, -6.382015228271484, 3.794987440109253, -0.8525660634040833, 4.448479175567627, 10.047698020935059, -7.23512601852417, 3.730660915374756, 10.609732627868652, 4.495001316070557, 15.482784271240234, 4.084718227386475, 12.837736129760742, 15.975279808044434, 3.603426218032837, -8.134679794311523, 1.9570322036743164, -5.526957988739014, 6.032681465148926, -8.711859703063965, -13.654315948486328, 2.021937370300293, -5.214963912963867, 1.7318377494812012, 3.9020941257476807, -5.890167236328125, 2.6053450107574463, 8.061781883239746, -7.097049236297607, 1.8342347145080566, -4.709436893463135, -6.019188404083252, -4.055418014526367, 2.6604299545288086, -1.244055151939392, 5.263449668884277, 6.4090447425842285, -1.1548688411712646, -0.916555643081665, 0.6060362458229065, -5.892838954925537, 6.990906238555908, -15.39999008178711, -1.7782536745071411, 4.088501453399658, 3.839259386062622, 5.622659206390381, -7.728550910949707, -10.459528923034668, 3.2849233150482178, -12.718751907348633, -8.758795738220215, -4.346439838409424, -5.392942905426025, 2.392651081085205, 12.970300674438477, 3.859527826309204, 4.367632865905762, -3.878173351287842, 8.068575859069824, 8.43591022491455, 1.2440087795257568, 4.201450347900391, -6.619093894958496, 4.695075511932373, 4.609866142272949, 13.97900390625, 11.003148078918457, 11.16897964477539, -3.1640288829803467, 12.172658920288086, 2.562441110610962, 2.0555639266967773, -13.844207763671875, -3.641705274581909, -3.702960729598999, -8.0409517288208, -6.395883083343506, -10.972281455993652, 10.861001014709473, 0.9867212772369385, 15.058121681213379, 5.794444561004639, -10.043429374694824, 10.82994556427002, 0.5472190380096436, -8.611944198608398, -8.999369621276855, -8.258665084838867, 1.4061110019683838, 5.61490535736084, 15.726239204406738, 2.43996524810791, -6.800662040710449, 2.62503981590271, 2.1633152961730957, 7.672645568847656, 5.33516788482666, -4.833750247955322, -0.5712387561798096, -5.80174446105957, 4.751308441162109, -13.096043586730957, 2.848041534423828, -5.986092567443848, -6.2875142097473145, 16.31952476501465, -7.7676873207092285, -10.223624229431152, 11.656594276428223, 7.9540696144104, 11.63830280303955, -6.165509223937988, 12.581547737121582, -11.171309471130371, 3.731395721435547, 11.037906646728516, -4.670999050140381, -0.3680800497531891, 1.9212864637374878, 2.9626402854919434, 7.324986934661865, 2.1547470092773438, 3.8395023345947266, -8.05228328704834, -13.963272094726562, 2.7422735691070557, -2.1496200561523438, 10.531192779541016, 7.200981140136719, -4.885371208190918, -12.296164512634277, 1.8015943765640259, 8.308913230895996, 4.313194274902344, -4.220361709594727, -16.593759536743164, -8.157194137573242, 14.082982063293457, 1.0725977420806885, 2.7980594635009766, -14.251237869262695, -8.814705848693848, 3.1845014095306396, 6.73979377746582, -7.739763259887695, 10.55640697479248, 2.5884416103363037, 3.3979806900024414, 15.344841957092285, -1.3493238687515259, -13.250751495361328, -12.039834976196289, 9.49999713897705, -1.7138389348983765, 2.787435531616211, 6.149899482727051, 7.324812889099121, -0.92167729139328, -15.626633644104004, 9.108174324035645, -7.838205814361572, -5.084635257720947, 5.004334449768066, 2.5483624935150146, 13.170514106750488, 3.9686191082000732, 3.3641085624694824, 3.8857836723327637, 12.531997680664062, 6.942174434661865, 2.837470054626465, -7.079330921173096, -1.8639761209487915, 6.329891681671143, 12.535110473632812], \"z\": [-4.508887767791748, 6.453742980957031, -2.3417789936065674, 14.54712200164795, 2.666445732116699, 7.976927757263184, -0.8751466274261475, 15.391337394714355, 0.361958771944046, 3.1645865440368652, 16.55526351928711, -0.4990556538105011, 7.6489386558532715, -5.305787563323975, 2.932145118713379, 6.917806625366211, 7.736698150634766, -0.003425070084631443, -3.380110502243042, -1.1068907976150513, 7.771784782409668, -5.185987949371338, 4.662460803985596, 1.0912294387817383, 6.7777276039123535, -2.662837028503418, -0.652706503868103, -2.7836780548095703, 1.3100857734680176, 9.383520126342773, -1.296559453010559, 6.637781620025635, -6.919327259063721, 8.194504737854004, -3.984880208969116, -4.174006938934326, 2.929659128189087, -3.1796927452087402, -5.026403427124023, 9.116243362426758, -6.118915557861328, 7.330475807189941, -4.849833965301514, 4.923041820526123, 6.006065845489502, 7.272514820098877, 6.5465922355651855, 0.8145982027053833, -0.5300695300102234, -2.893601655960083, 10.283169746398926, -4.239840030670166, -5.293564796447754, 7.12250280380249, 7.020936965942383, 3.5908162593841553, 4.112006187438965, -0.8039577007293701, 8.079236030578613, 0.29935091733932495, -3.059419870376587, -0.17610128223896027, 7.8317742347717285, 7.764676570892334, -5.854467391967773, 6.402678489685059, -2.9613590240478516, -0.4504045844078064, 0.24179485440254211, 10.097310066223145, 9.336079597473145, 11.959582328796387, -5.494024276733398, 10.992714881896973, -13.51954174041748, -8.578082084655762, 2.2405667304992676, 8.336610794067383, -16.534168243408203, -13.11600112915039, -12.894402503967285, -9.102076530456543, 4.586898326873779, -0.027751600369811058, 2.095888614654541, 7.114660739898682, -1.4649851322174072, 0.7474313974380493, -0.7375995516777039, -8.011899948120117, -9.35547161102295, 14.573761940002441, -4.147161960601807, -1.0587921142578125, 3.5112781524658203, 7.706034183502197, -6.509787559509277, 5.306143283843994, -1.3044509887695312, 3.150864362716675, -6.963175296783447, -2.7690999507904053, 5.257089614868164, -6.624312400817871, 9.539787292480469, -8.808765411376953, -2.769280195236206, 3.020555019378662, -13.128003120422363, 8.604530334472656, -9.683197021484375, -8.302149772644043, 14.507976531982422, -10.650989532470703, -0.1216864362359047, -10.866927146911621, 2.413996696472168, -1.234105110168457, 11.939430236816406, -2.185997247695923, -11.518044471740723, -1.1770082712173462, 4.870266437530518, -4.940004825592041, 2.219125270843506, 5.106090068817139, 3.3987293243408203, 12.978494644165039, 2.718156576156616, 4.5688252449035645, -2.2310802936553955, -6.546526908874512, 11.269587516784668, 0.6213598847389221, -2.058685779571533, -7.7017717361450195, 2.842881441116333, 11.164336204528809, 5.193397521972656, -0.5926253199577332, 12.239431381225586, -7.08189582824707, -6.263204097747803, 3.0815439224243164, -3.5166773796081543, -11.351771354675293, 13.487241744995117, -2.7949981689453125, 5.791415691375732, -2.4965476989746094, -8.888460159301758, -11.127005577087402, 2.135925054550171, -7.044381141662598, -5.659017086029053, -6.4288330078125, -4.725306510925293, -5.187946796417236, -16.340391159057617, 9.657806396484375, 1.494139552116394, -1.6848143339157104, -13.775503158569336, -16.271202087402344, 9.619684219360352, -3.550326108932495, 11.44607925415039, 9.357324600219727, 2.0917928218841553, 1.191705346107483, -3.576176166534424, 6.043848037719727, 8.158243179321289, 0.4368421137332916, 2.148623466491699, -0.7515177726745605, 7.872169017791748, 0.2481752187013626, 6.152078628540039, 12.244858741760254, 1.6639715433120728, 10.801435470581055, 6.321709156036377, 12.19144058227539, 10.337849617004395, 1.073489785194397, 6.606334686279297, -2.531912088394165, -11.077710151672363, -10.724350929260254, -3.002986192703247, 2.05243182182312, 15.275330543518066, -0.5967090725898743, 2.9558889865875244, 0.9353034496307373, 1.8858925104141235, 3.557356834411621, -7.750290870666504, 2.7587482929229736, -2.1540729999542236, -1.440566062927246, 2.154714584350586, 4.511507987976074, -1.0617856979370117, 6.669973373413086, -13.704907417297363, -1.8534473180770874, 11.309441566467285, 4.183650970458984, 1.7287335395812988, 5.930886268615723, 7.399489879608154, -9.987273216247559, -1.0231001377105713, 0.09524106979370117, 4.360534191131592, 8.76753044128418, 8.75390911102295, 0.34492579102516174, -1.716814637184143, 2.639953851699829, 3.6161255836486816, -14.274775505065918, 0.9269502758979797, -12.878528594970703, -6.236990928649902, -11.98630428314209, -2.489132881164551, 3.7252838611602783, 0.8839640617370605, -4.237133979797363, 11.294156074523926, 11.43901538848877, -4.468412399291992, 2.3108744621276855, 0.414641410112381, -10.211503028869629, 12.959623336791992, -0.16116635501384735, -1.4814687967300415, 4.811987400054932, 1.7196143865585327, 1.7542283535003662, 13.253655433654785, -0.003721234854310751, -9.959107398986816, -16.077083587646484, -6.634737968444824, 4.144838333129883, -6.596678256988525, 0.6312949061393738, 11.546738624572754, -2.0693488121032715, -9.655599594116211, 1.7596946954727173, -6.633474826812744, -0.028477095067501068, 4.168614387512207, -3.2763776779174805, 1.731675386428833, -2.7911555767059326, 1.4022964239120483, 2.292093515396118, -6.337549686431885, 1.9864344596862793, 11.46408462524414, 3.111067533493042, -13.059734344482422, 2.881246566772461, 2.6622371673583984, 4.438903331756592, -9.072761535644531, 1.665380597114563, 9.4085111618042, -4.739312171936035, 6.890371322631836, 1.9287755489349365, 2.593195676803589, -10.822209358215332, -5.646903038024902, 1.980393409729004, -11.142111778259277, -6.3518757820129395, 0.13235227763652802, 2.1568198204040527, -3.03704833984375, 3.055969476699829, 1.2036552429199219, -7.940110683441162, -7.828556537628174, 2.035223960876465, -3.0430965423583984, 1.3758429288864136, -0.061062633991241455, 13.378254890441895, 12.302071571350098, -15.704558372497559, -1.2867776155471802, -5.783886432647705, 7.895537376403809, 0.06867377460002899, 9.08006763458252, 13.411883354187012, 10.121918678283691, -13.898626327514648, 3.8922176361083984, -13.049958229064941, -5.572369575500488, 10.751571655273438, 10.214051246643066, -3.3969738483428955, 10.115835189819336, 0.5264397859573364, 0.3858076333999634, -6.657020092010498, 1.0254113674163818, 2.000532627105713, -14.657090187072754, 2.8016834259033203, 7.152096748352051, -10.774863243103027, 12.490822792053223, 5.688978672027588, -13.320773124694824, -6.330134391784668, 10.272388458251953, 12.2173433303833, 4.252941608428955, 10.880463600158691, 3.0710415840148926, 7.042837142944336, -3.7079010009765625, -7.621848106384277, 0.4206323027610779, 2.6771771907806396, 4.478854656219482, -7.741296291351318, 7.0127434730529785, 5.519721508026123, -8.054627418518066, -12.990007400512695, 11.62351131439209, -6.744723796844482, 14.694847106933594, 4.4504780769348145, 0.5289233922958374, -3.8597984313964844, 12.519432067871094, 7.491580486297607, 0.27231642603874207, -9.281631469726562, -3.338771343231201, 4.122439861297607, -3.057363748550415, -13.142923355102539, -4.016643524169922, 2.974224090576172, 8.19214916229248, -4.551680088043213, 5.9314751625061035, 3.9730513095855713, -2.0666391849517822, -4.586001873016357, 12.054912567138672, -13.943171501159668, 9.45310115814209, 0.7122118473052979, -0.17586788535118103, 2.700117826461792, -5.988000392913818, -1.4039769172668457, 1.9675230979919434, 3.611999273300171, 12.460906028747559, -4.95792293548584, -13.342081069946289, 10.665817260742188, 3.1740238666534424, -6.553422451019287, 10.08813762664795, -2.006417751312256, -12.252521514892578, -15.51513671875, 5.020953178405762, -5.884797096252441, -3.257969856262207, -2.829660654067993, 3.1101319789886475, -7.5407562255859375, -2.975659132003784, -7.006888389587402, -10.040926933288574, -10.87686538696289, -3.343045949935913, 4.2499165534973145, -8.663695335388184, 13.09644603729248, -5.715417861938477, -10.040787696838379, -1.7105424404144287, -1.3735569715499878, -3.0041890144348145, 6.620144844055176, 13.456833839416504, 2.682565212249756, 0.517800509929657, -3.0642762184143066, 9.337809562683105, 5.8376665115356445, 2.507704734802246, -8.027680397033691, 10.047846794128418, -14.076610565185547, 1.3543864488601685, -4.477173805236816, -0.33221545815467834, 3.8080389499664307, 12.0899019241333, 4.514092445373535, -7.686014652252197, -1.2303019762039185, 2.3257460594177246, 6.948972702026367, 2.2990550994873047, -0.9053013920783997, 0.5803539156913757, 10.665534973144531, -5.645421981811523, 2.5506272315979004, -10.482085227966309, 0.2814302146434784, -0.1846434623003006, 11.000321388244629, 8.421174049377441, 2.428226947784424, -4.4977312088012695, 2.610750198364258, -13.759392738342285, -1.2014003992080688, -9.405579566955566, -16.316484451293945, -0.7627658843994141, 4.036779403686523, -1.7558610439300537, 8.148628234863281, 9.949254989624023, -5.706384181976318, 3.9425318241119385, 12.529109954833984, -1.7193139791488647, 2.5168914794921875, -5.0745625495910645, -14.022082328796387, 14.420644760131836, 3.35856556892395, 3.353487253189087, 2.514054775238037, -16.174470901489258, -16.247894287109375, 4.976387977600098, 0.18488404154777527, -3.565196990966797, -14.4011812210083, 0.9327250719070435, -9.41481876373291, -12.8231201171875, 11.457643508911133, -3.1303820610046387, 2.095449686050415, -12.0355863571167, -6.291348934173584, -2.3095200061798096, -9.611255645751953, -4.779349327087402, 2.2556886672973633, 1.3121029138565063, 8.82962703704834, -5.3911452293396, 3.0755484104156494, -5.161988258361816, -0.13147149980068207, 9.770474433898926, 4.549740791320801, 1.7601803541183472, 3.808124542236328, 5.151534080505371, -5.629450798034668, -7.159270763397217, -0.3279453217983246, -14.70779800415039, 13.746282577514648, 6.473243236541748, 8.556575775146484, 1.7505720853805542, 13.20906925201416, 5.234112739562988, 10.792011260986328, -5.424742698669434, -8.09568977355957, 4.830467700958252, -2.0117828845977783, -6.165104389190674, -0.6078485250473022, -5.332307815551758, 0.24658802151679993, -15.844000816345215, -3.4525439739227295, -5.631560325622559, 9.874592781066895, 0.9402537941932678, -4.91403865814209, 2.985637664794922, 6.041578769683838, -15.89539909362793, -7.2106146812438965, -6.249702453613281, -16.279327392578125, 0.5119481682777405, 3.89620041847229, -6.879693984985352, 5.844101428985596, 5.499340057373047, 4.597830295562744, 8.436531066894531, 3.393303155899048, -15.171406745910645, 0.12952858209609985, 2.3293979167938232, -7.814017295837402, 5.155986309051514, 8.6717529296875, 10.427803039550781, -6.2715325355529785, 12.401285171508789, 10.306835174560547, 6.154307842254639, 4.285470962524414, -3.4787020683288574, 3.118079900741577, 0.7180187106132507, 11.030729293823242, 2.3892486095428467, 5.606260776519775, -3.4586493968963623, 12.575971603393555, -10.437745094299316, 11.268549919128418, 12.652336120605469, -10.931596755981445, -7.336132049560547, -7.687169551849365, 0.8274708390235901, -16.30259895324707, -4.824252605438232, 5.5367279052734375, 9.646485328674316, -13.519660949707031, 11.168354988098145, 1.9719502925872803, 3.708246946334839, 9.160089492797852, -4.842047691345215, 13.996404647827148, -2.9493510723114014, -14.381407737731934, -3.5024335384368896, -1.6874206066131592, 13.987695693969727, 13.596587181091309, -5.365819931030273, 13.251648902893066, 14.228377342224121, 7.433377742767334, 6.73423433303833, 9.75741195678711, 3.4914181232452393, 1.2301675081253052, -6.440711498260498, -12.046613693237305, -7.543903350830078, -13.33314037322998, 3.0830070972442627, 3.3087034225463867, -5.625869274139404, -13.734088897705078, -7.4401164054870605, -3.659132719039917, 1.574005365371704, 9.327972412109375, -0.5705640912055969, -5.85255765914917, 1.0887575149536133, 13.645244598388672, 0.5284467935562134, -6.09320592880249, 13.584478378295898, 7.83449125289917, 9.499598503112793, 3.67989444732666, 10.928892135620117, -2.4411351680755615, 9.244010925292969, -0.08112558722496033, 11.207565307617188, 5.108829021453857, 12.621421813964844, 6.858036041259766, -2.3585760593414307, 7.2950358390808105, 5.180069923400879, -8.450153350830078, -6.0608320236206055, -8.122804641723633, -14.006123542785645, -4.863494873046875, 1.3480247259140015, 0.05806035175919533, 1.2504470348358154, -7.8553009033203125, -1.1903120279312134, -5.42426872253418, -6.5394158363342285, -0.051796525716781616, 3.99790096282959, 12.902868270874023, 1.4463657140731812, -0.2996012270450592, -2.7661337852478027, -14.847464561462402, -7.245105743408203, 4.196676731109619, -15.495316505432129, 5.187951564788818, -7.90695858001709, -3.627412796020508, -7.969239711761475, -0.9834520816802979, 14.277183532714844, 0.014589644968509674, -1.1217197179794312, 4.149775505065918, 1.1688576936721802, -7.172106742858887, 6.137247085571289, -14.782649993896484, 1.1000391244888306, -8.779281616210938, 7.830806732177734, -9.885406494140625, -6.222390651702881, -3.1369845867156982, -1.5263925790786743, 11.038222312927246, -1.1335690021514893, 6.065793037414551, 3.587027072906494, -6.954176902770996, -3.1053075790405273, 8.715314865112305, 10.311861038208008, -4.737137794494629, 0.7804871201515198, -5.563941478729248, 11.32848072052002, 0.5091291069984436, 10.292438507080078, 0.6258205771446228, 3.3339037895202637, -1.9448009729385376, -0.14671339094638824, -12.457661628723145, -6.16940975189209, -1.0704832077026367, 9.116325378417969, -7.030726909637451, 5.587301254272461, 13.308259963989258, 11.63561725616455, 0.6321817636489868, 2.3400964736938477, -5.075916290283203, -8.963287353515625, 8.20748519897461, -5.509636878967285, -1.818540334701538, -10.917180061340332, -4.89727258682251, 15.153360366821289, 10.01975154876709, 5.8498005867004395, 10.335654258728027, 9.506134033203125, 4.355576992034912, 15.543547630310059, 9.366193771362305, -5.664886474609375, -12.686474800109863, -16.458650588989258, 5.887303352355957, 0.5569422245025635, -8.777960777282715, -5.343512058258057, 1.3002402782440186, -9.375802993774414, 3.528550624847412, 15.13194465637207, 9.827383995056152, -1.9009634256362915, 5.2236104011535645, 7.604713439941406, -5.308159828186035, 1.2177809476852417, -2.4936881065368652, -7.8719658851623535, 9.93224048614502, 8.022591590881348, 7.171977519989014, -7.8625569343566895, -2.5573909282684326, -3.3190383911132812, 4.141039848327637, 5.520430088043213, -4.276623725891113, 4.217423439025879, -7.014066219329834, 11.517143249511719, 8.7188081741333, 13.394991874694824, 8.817832946777344, 1.7420685291290283, 2.0123982429504395, -1.1201283931732178, -2.7850148677825928, 3.2476158142089844, 14.673396110534668, -10.307732582092285, -14.98236083984375, -15.786516189575195, 4.390629768371582, -1.5830740928649902, -6.917691230773926, -7.198370933532715, 5.314564228057861, -5.577063083648682, -15.638381004333496, -12.328412055969238, 13.759159088134766, 1.8719850778579712, 10.139239311218262, 6.117735385894775, 1.3853328227996826, 3.404736280441284, 2.8974339962005615, -5.859728813171387, -0.09387397021055222, -12.904206275939941, -3.0170652866363525, 6.201193332672119, -3.503720998764038, 11.496068954467773, -6.226548194885254, -4.073987007141113, -0.25573235750198364, -6.1842546463012695, 1.008114218711853, 2.660830497741699, 1.868920087814331, 2.056687593460083, 1.862839698791504, -12.679510116577148, -5.314173221588135, -0.3574402630329132, 1.0684535503387451, -6.3021016120910645, -5.376126289367676, -2.700535535812378, 0.962146520614624, -15.4651460647583, -7.3717145919799805, -10.75064468383789, 1.7037092447280884, 6.2836222648620605, -8.97737979888916, -16.213422775268555, 10.651556968688965, -2.3507251739501953, 9.985021591186523, -15.234869956970215, -12.11337947845459, 13.765789031982422, -10.443424224853516, 4.11393928527832, -14.100903511047363, 2.734950065612793, 6.683484077453613, -6.664820671081543, 3.3515117168426514, -12.283348083496094, -2.960266590118408, -2.0289788246154785, -2.6161282062530518, 1.4651521444320679, 6.437872409820557, -0.3526122570037842, -2.688737630844116, -6.942749977111816, 5.476932525634766, 12.843998908996582, -6.109683990478516, 2.723081111907959, 6.499614238739014, -14.248007774353027, -8.244416236877441, 6.7256598472595215, 3.9781124591827393, 4.76083517074585, 12.8469820022583, 7.839122772216797, 11.446348190307617, 14.1503324508667, 0.949209988117218, -16.38591766357422, 7.0028815269470215, 2.608487367630005, -5.833727836608887, 12.925397872924805, -13.75538444519043, -9.964780807495117, 8.091907501220703, 5.546531677246094, -5.7513275146484375, 7.191860198974609, 6.200283527374268, 2.332334280014038, 10.306737899780273, 2.4934420585632324, 2.141247510910034, 13.315934181213379, -5.9321064949035645, -11.661449432373047, -6.442358493804932, 11.569360733032227, 2.1714272499084473, 1.230195164680481, 10.88523006439209, 5.6650190353393555, -12.289843559265137, -9.472870826721191, 2.092221975326538, 9.71655559539795, -5.947062015533447, -6.433401584625244, -11.474205017089844, 2.4440226554870605, 3.3049774169921875, 0.5337939262390137, 13.46207046508789, -13.866500854492188, 4.177986145019531, -5.964758396148682, -12.544777870178223, 2.8792407512664795, -12.007418632507324, 3.765357255935669, 11.173819541931152, -0.9251216650009155, -12.399248123168945, 11.253731727600098, -7.474821090698242, 13.565338134765625, -7.10025691986084, -1.3808835744857788, -9.874664306640625, 2.5735056400299072, -3.6953117847442627, -3.6117851734161377, -0.05881144106388092, -5.135086536407471, -0.08494392037391663, -7.659585952758789, -14.679211616516113, -12.410401344299316, 10.59665584564209, 13.27634334564209, 14.520024299621582, -7.4825053215026855, -2.230386734008789, -5.996685028076172, 5.534076690673828, 3.2169907093048096, 10.42807388305664, 3.038454532623291, -11.966976165771484, 11.637051582336426, -9.154314994812012, -8.306318283081055, -0.855505645275116, 2.7174243927001953, 0.36836472153663635, 2.9515116214752197, -3.2227602005004883, -6.1311211585998535, 12.532419204711914, -13.414219856262207, 4.555402755737305, 12.637356758117676, 6.768568515777588, 3.254798412322998, -14.538684844970703, 0.24111947417259216, -3.0924370288848877, -4.232662200927734, -13.987239837646484, 4.413046836853027, 0.0312962532043457, -4.367679595947266, 5.388006210327148, 13.55035400390625, 15.12863826751709, -6.325092792510986, 11.553427696228027, -1.7336468696594238, -10.646071434020996, 3.210644483566284, -8.272001266479492, 4.28738260269165, -5.012013912200928, -1.020607352256775, 3.241499185562134, 0.7401049733161926, -5.946568012237549, -1.5588375329971313, 10.977518081665039, 13.272024154663086, 2.4601643085479736, -6.380460262298584, -0.7288558483123779, 6.219269752502441, 14.450517654418945, 0.599617063999176, -2.3684451580047607, -16.02556037902832, 10.827829360961914, -14.59419059753418, 4.993285655975342, -14.82520580291748, -11.176094055175781, 2.869070529937744, 3.88594126701355, -5.0607008934021, -2.708714008331299, 13.086763381958008, 12.035974502563477, -2.9191460609436035, -0.302420437335968, 15.302465438842773, 7.795863151550293, 6.191206932067871, -0.3591390550136566, 1.3671191930770874, -1.5558760166168213, 0.2259148210287094, -15.894447326660156, -6.669934272766113, -4.768049716949463, 1.3014172315597534, -16.42317008972168, 5.357004165649414, -4.155580520629883, 8.005385398864746, -12.906319618225098, -8.402181625366211, 0.0875583067536354, -11.276643753051758, 1.1108404397964478, 2.506701946258545, 7.242043495178223, -0.9640926718711853, 9.997922897338867, 5.221299171447754, -7.169066429138184, -15.420475959777832, 0.20886637270450592, 7.84264612197876, -1.558188557624817, -0.4553588628768921, 12.1756591796875, 13.290483474731445, 3.4102225303649902, 9.800647735595703, -14.223861694335938, -14.913735389709473, -0.6258286237716675, 6.377734661102295, -6.031157493591309, -2.7807092666625977, -14.623416900634766, 10.811990737915039, 2.331080198287964]}],\n",
       "                        {\"coloraxis\": {\"colorbar\": {\"title\": {\"text\": \"Label\"}}, \"colorscale\": [[0.0, \"#0d0887\"], [0.1111111111111111, \"#46039f\"], [0.2222222222222222, \"#7201a8\"], [0.3333333333333333, \"#9c179e\"], [0.4444444444444444, \"#bd3786\"], [0.5555555555555556, \"#d8576b\"], [0.6666666666666666, \"#ed7953\"], [0.7777777777777778, \"#fb9f3a\"], [0.8888888888888888, \"#fdca26\"], [1.0, \"#f0f921\"]]}, \"height\": 800, \"legend\": {\"tracegroupgap\": 0}, \"scene\": {\"domain\": {\"x\": [0.0, 1.0], \"y\": [0.0, 1.0]}, \"xaxis\": {\"title\": {\"text\": \"0\"}}, \"yaxis\": {\"title\": {\"text\": \"1\"}}, \"zaxis\": {\"title\": {\"text\": \"2\"}}}, \"template\": {\"data\": {\"bar\": [{\"error_x\": {\"color\": \"#2a3f5f\"}, \"error_y\": {\"color\": \"#2a3f5f\"}, \"marker\": {\"line\": {\"color\": \"#E5ECF6\", \"width\": 0.5}}, \"type\": \"bar\"}], \"barpolar\": [{\"marker\": {\"line\": {\"color\": \"#E5ECF6\", \"width\": 0.5}}, \"type\": \"barpolar\"}], \"carpet\": [{\"aaxis\": {\"endlinecolor\": \"#2a3f5f\", \"gridcolor\": \"white\", \"linecolor\": \"white\", \"minorgridcolor\": \"white\", \"startlinecolor\": \"#2a3f5f\"}, \"baxis\": {\"endlinecolor\": \"#2a3f5f\", \"gridcolor\": \"white\", \"linecolor\": \"white\", \"minorgridcolor\": \"white\", \"startlinecolor\": \"#2a3f5f\"}, \"type\": \"carpet\"}], \"choropleth\": [{\"colorbar\": {\"outlinewidth\": 0, \"ticks\": \"\"}, \"type\": \"choropleth\"}], \"contour\": [{\"colorbar\": {\"outlinewidth\": 0, \"ticks\": \"\"}, \"colorscale\": [[0.0, \"#0d0887\"], [0.1111111111111111, \"#46039f\"], [0.2222222222222222, \"#7201a8\"], [0.3333333333333333, \"#9c179e\"], [0.4444444444444444, \"#bd3786\"], [0.5555555555555556, \"#d8576b\"], [0.6666666666666666, \"#ed7953\"], [0.7777777777777778, \"#fb9f3a\"], [0.8888888888888888, \"#fdca26\"], [1.0, \"#f0f921\"]], \"type\": \"contour\"}], \"contourcarpet\": [{\"colorbar\": {\"outlinewidth\": 0, \"ticks\": \"\"}, \"type\": \"contourcarpet\"}], \"heatmap\": [{\"colorbar\": {\"outlinewidth\": 0, \"ticks\": \"\"}, \"colorscale\": [[0.0, \"#0d0887\"], [0.1111111111111111, \"#46039f\"], [0.2222222222222222, \"#7201a8\"], [0.3333333333333333, \"#9c179e\"], [0.4444444444444444, \"#bd3786\"], [0.5555555555555556, \"#d8576b\"], [0.6666666666666666, \"#ed7953\"], [0.7777777777777778, \"#fb9f3a\"], [0.8888888888888888, \"#fdca26\"], [1.0, \"#f0f921\"]], \"type\": \"heatmap\"}], \"heatmapgl\": [{\"colorbar\": {\"outlinewidth\": 0, \"ticks\": \"\"}, \"colorscale\": [[0.0, \"#0d0887\"], [0.1111111111111111, \"#46039f\"], [0.2222222222222222, \"#7201a8\"], [0.3333333333333333, \"#9c179e\"], [0.4444444444444444, \"#bd3786\"], [0.5555555555555556, \"#d8576b\"], [0.6666666666666666, \"#ed7953\"], [0.7777777777777778, \"#fb9f3a\"], [0.8888888888888888, \"#fdca26\"], [1.0, \"#f0f921\"]], \"type\": \"heatmapgl\"}], \"histogram\": [{\"marker\": {\"colorbar\": {\"outlinewidth\": 0, \"ticks\": \"\"}}, \"type\": \"histogram\"}], \"histogram2d\": [{\"colorbar\": {\"outlinewidth\": 0, \"ticks\": \"\"}, \"colorscale\": [[0.0, \"#0d0887\"], [0.1111111111111111, \"#46039f\"], [0.2222222222222222, \"#7201a8\"], [0.3333333333333333, \"#9c179e\"], [0.4444444444444444, \"#bd3786\"], [0.5555555555555556, \"#d8576b\"], [0.6666666666666666, \"#ed7953\"], [0.7777777777777778, \"#fb9f3a\"], [0.8888888888888888, \"#fdca26\"], [1.0, \"#f0f921\"]], \"type\": \"histogram2d\"}], \"histogram2dcontour\": [{\"colorbar\": {\"outlinewidth\": 0, \"ticks\": \"\"}, \"colorscale\": [[0.0, \"#0d0887\"], [0.1111111111111111, \"#46039f\"], [0.2222222222222222, \"#7201a8\"], [0.3333333333333333, \"#9c179e\"], [0.4444444444444444, \"#bd3786\"], [0.5555555555555556, \"#d8576b\"], [0.6666666666666666, \"#ed7953\"], [0.7777777777777778, \"#fb9f3a\"], [0.8888888888888888, \"#fdca26\"], [1.0, \"#f0f921\"]], \"type\": \"histogram2dcontour\"}], \"mesh3d\": [{\"colorbar\": {\"outlinewidth\": 0, \"ticks\": \"\"}, \"type\": \"mesh3d\"}], \"parcoords\": [{\"line\": {\"colorbar\": {\"outlinewidth\": 0, \"ticks\": \"\"}}, \"type\": \"parcoords\"}], \"pie\": [{\"automargin\": true, \"type\": \"pie\"}], \"scatter\": [{\"marker\": {\"colorbar\": {\"outlinewidth\": 0, \"ticks\": \"\"}}, \"type\": \"scatter\"}], \"scatter3d\": [{\"line\": {\"colorbar\": {\"outlinewidth\": 0, \"ticks\": \"\"}}, \"marker\": {\"colorbar\": {\"outlinewidth\": 0, \"ticks\": \"\"}}, \"type\": \"scatter3d\"}], \"scattercarpet\": [{\"marker\": {\"colorbar\": {\"outlinewidth\": 0, \"ticks\": \"\"}}, \"type\": \"scattercarpet\"}], \"scattergeo\": [{\"marker\": {\"colorbar\": {\"outlinewidth\": 0, \"ticks\": \"\"}}, \"type\": \"scattergeo\"}], \"scattergl\": [{\"marker\": {\"colorbar\": {\"outlinewidth\": 0, \"ticks\": \"\"}}, \"type\": \"scattergl\"}], \"scattermapbox\": [{\"marker\": {\"colorbar\": {\"outlinewidth\": 0, \"ticks\": \"\"}}, \"type\": \"scattermapbox\"}], \"scatterpolar\": [{\"marker\": {\"colorbar\": {\"outlinewidth\": 0, \"ticks\": \"\"}}, \"type\": \"scatterpolar\"}], \"scatterpolargl\": [{\"marker\": {\"colorbar\": {\"outlinewidth\": 0, \"ticks\": \"\"}}, \"type\": \"scatterpolargl\"}], \"scatterternary\": [{\"marker\": {\"colorbar\": {\"outlinewidth\": 0, \"ticks\": \"\"}}, \"type\": \"scatterternary\"}], \"surface\": [{\"colorbar\": {\"outlinewidth\": 0, \"ticks\": \"\"}, \"colorscale\": [[0.0, \"#0d0887\"], [0.1111111111111111, \"#46039f\"], [0.2222222222222222, \"#7201a8\"], [0.3333333333333333, \"#9c179e\"], [0.4444444444444444, \"#bd3786\"], [0.5555555555555556, \"#d8576b\"], [0.6666666666666666, \"#ed7953\"], [0.7777777777777778, \"#fb9f3a\"], [0.8888888888888888, \"#fdca26\"], [1.0, \"#f0f921\"]], \"type\": \"surface\"}], \"table\": [{\"cells\": {\"fill\": {\"color\": \"#EBF0F8\"}, \"line\": {\"color\": \"white\"}}, \"header\": {\"fill\": {\"color\": \"#C8D4E3\"}, \"line\": {\"color\": \"white\"}}, \"type\": \"table\"}]}, \"layout\": {\"annotationdefaults\": {\"arrowcolor\": \"#2a3f5f\", \"arrowhead\": 0, \"arrowwidth\": 1}, \"coloraxis\": {\"colorbar\": {\"outlinewidth\": 0, \"ticks\": \"\"}}, \"colorscale\": {\"diverging\": [[0, \"#8e0152\"], [0.1, \"#c51b7d\"], [0.2, \"#de77ae\"], [0.3, \"#f1b6da\"], [0.4, \"#fde0ef\"], [0.5, \"#f7f7f7\"], [0.6, \"#e6f5d0\"], [0.7, \"#b8e186\"], [0.8, \"#7fbc41\"], [0.9, \"#4d9221\"], [1, \"#276419\"]], \"sequential\": [[0.0, \"#0d0887\"], [0.1111111111111111, \"#46039f\"], [0.2222222222222222, \"#7201a8\"], [0.3333333333333333, \"#9c179e\"], [0.4444444444444444, \"#bd3786\"], [0.5555555555555556, \"#d8576b\"], [0.6666666666666666, \"#ed7953\"], [0.7777777777777778, \"#fb9f3a\"], [0.8888888888888888, \"#fdca26\"], [1.0, \"#f0f921\"]], \"sequentialminus\": [[0.0, \"#0d0887\"], [0.1111111111111111, \"#46039f\"], [0.2222222222222222, \"#7201a8\"], [0.3333333333333333, \"#9c179e\"], [0.4444444444444444, \"#bd3786\"], [0.5555555555555556, \"#d8576b\"], [0.6666666666666666, \"#ed7953\"], [0.7777777777777778, \"#fb9f3a\"], [0.8888888888888888, \"#fdca26\"], [1.0, \"#f0f921\"]]}, \"colorway\": [\"#636efa\", \"#EF553B\", \"#00cc96\", \"#ab63fa\", \"#FFA15A\", \"#19d3f3\", \"#FF6692\", \"#B6E880\", \"#FF97FF\", \"#FECB52\"], \"font\": {\"color\": \"#2a3f5f\"}, \"geo\": {\"bgcolor\": \"white\", \"lakecolor\": \"white\", \"landcolor\": \"#E5ECF6\", \"showlakes\": true, \"showland\": true, \"subunitcolor\": \"white\"}, \"hoverlabel\": {\"align\": \"left\"}, \"hovermode\": \"closest\", \"mapbox\": {\"style\": \"light\"}, \"paper_bgcolor\": \"white\", \"plot_bgcolor\": \"#E5ECF6\", \"polar\": {\"angularaxis\": {\"gridcolor\": \"white\", \"linecolor\": \"white\", \"ticks\": \"\"}, \"bgcolor\": \"#E5ECF6\", \"radialaxis\": {\"gridcolor\": \"white\", \"linecolor\": \"white\", \"ticks\": \"\"}}, \"scene\": {\"xaxis\": {\"backgroundcolor\": \"#E5ECF6\", \"gridcolor\": \"white\", \"gridwidth\": 2, \"linecolor\": \"white\", \"showbackground\": true, \"ticks\": \"\", \"zerolinecolor\": \"white\"}, \"yaxis\": {\"backgroundcolor\": \"#E5ECF6\", \"gridcolor\": \"white\", \"gridwidth\": 2, \"linecolor\": \"white\", \"showbackground\": true, \"ticks\": \"\", \"zerolinecolor\": \"white\"}, \"zaxis\": {\"backgroundcolor\": \"#E5ECF6\", \"gridcolor\": \"white\", \"gridwidth\": 2, \"linecolor\": \"white\", \"showbackground\": true, \"ticks\": \"\", \"zerolinecolor\": \"white\"}}, \"shapedefaults\": {\"line\": {\"color\": \"#2a3f5f\"}}, \"ternary\": {\"aaxis\": {\"gridcolor\": \"white\", \"linecolor\": \"white\", \"ticks\": \"\"}, \"baxis\": {\"gridcolor\": \"white\", \"linecolor\": \"white\", \"ticks\": \"\"}, \"bgcolor\": \"#E5ECF6\", \"caxis\": {\"gridcolor\": \"white\", \"linecolor\": \"white\", \"ticks\": \"\"}}, \"title\": {\"x\": 0.05}, \"xaxis\": {\"automargin\": true, \"gridcolor\": \"white\", \"linecolor\": \"white\", \"ticks\": \"\", \"title\": {\"standoff\": 15}, \"zerolinecolor\": \"white\", \"zerolinewidth\": 2}, \"yaxis\": {\"automargin\": true, \"gridcolor\": \"white\", \"linecolor\": \"white\", \"ticks\": \"\", \"title\": {\"standoff\": 15}, \"zerolinecolor\": \"white\", \"zerolinewidth\": 2}}}, \"title\": {\"text\": \"3d TSNE Plot for Outliers\"}, \"width\": 900},\n",
       "                        {\"responsive\": true}\n",
       "                    ).then(function(){\n",
       "                            \n",
       "var gd = document.getElementById('bce64be1-1596-408d-8459-a99f819524b1');\n",
       "var x = new MutationObserver(function (mutations, observer) {{\n",
       "        var display = window.getComputedStyle(gd).display;\n",
       "        if (!display || display === 'none') {{\n",
       "            console.log([gd, 'removed!']);\n",
       "            Plotly.purge(gd);\n",
       "            observer.disconnect();\n",
       "        }}\n",
       "}});\n",
       "\n",
       "// Listen for the removal of the full notebook cells\n",
       "var notebookContainer = gd.closest('#notebook-container');\n",
       "if (notebookContainer) {{\n",
       "    x.observe(notebookContainer, {childList: true});\n",
       "}}\n",
       "\n",
       "// Listen for the clearing of the current output cell\n",
       "var outputEl = gd.closest('.output');\n",
       "if (outputEl) {{\n",
       "    x.observe(outputEl, {childList: true});\n",
       "}}\n",
       "\n",
       "                        })\n",
       "                };\n",
       "                });\n",
       "            </script>\n",
       "        </div>"
      ]
     },
     "metadata": {},
     "output_type": "display_data"
    }
   ],
   "source": [
    "# instantiating KNN model\n",
    "knn = create_model(\"knn\")\n",
    "\n",
    "# plotting the data using KNN \n",
    "plot_model(knn)"
   ]
  },
  {
   "cell_type": "code",
   "execution_count": 8,
   "metadata": {},
   "outputs": [
    {
     "data": {
      "text/html": [
       "<div>\n",
       "<style scoped>\n",
       "    .dataframe tbody tr th:only-of-type {\n",
       "        vertical-align: middle;\n",
       "    }\n",
       "\n",
       "    .dataframe tbody tr th {\n",
       "        vertical-align: top;\n",
       "    }\n",
       "\n",
       "    .dataframe thead th {\n",
       "        text-align: right;\n",
       "    }\n",
       "</style>\n",
       "<table border=\"1\" class=\"dataframe\">\n",
       "  <thead>\n",
       "    <tr style=\"text-align: right;\">\n",
       "      <th></th>\n",
       "      <th>Col1</th>\n",
       "      <th>Col2</th>\n",
       "      <th>Col3</th>\n",
       "      <th>Col4</th>\n",
       "      <th>Col5</th>\n",
       "      <th>Col6</th>\n",
       "      <th>Col7</th>\n",
       "      <th>Col8</th>\n",
       "      <th>Col9</th>\n",
       "      <th>Col10</th>\n",
       "      <th>Label</th>\n",
       "      <th>Score</th>\n",
       "    </tr>\n",
       "  </thead>\n",
       "  <tbody>\n",
       "    <tr>\n",
       "      <th>0</th>\n",
       "      <td>0.263995</td>\n",
       "      <td>0.764929</td>\n",
       "      <td>0.138424</td>\n",
       "      <td>0.935242</td>\n",
       "      <td>0.605867</td>\n",
       "      <td>0.518790</td>\n",
       "      <td>0.912225</td>\n",
       "      <td>0.608234</td>\n",
       "      <td>0.723782</td>\n",
       "      <td>0.733591</td>\n",
       "      <td>0</td>\n",
       "      <td>0.558927</td>\n",
       "    </tr>\n",
       "    <tr>\n",
       "      <th>1</th>\n",
       "      <td>0.546092</td>\n",
       "      <td>0.653975</td>\n",
       "      <td>0.065575</td>\n",
       "      <td>0.227772</td>\n",
       "      <td>0.845269</td>\n",
       "      <td>0.837066</td>\n",
       "      <td>0.272379</td>\n",
       "      <td>0.331679</td>\n",
       "      <td>0.429297</td>\n",
       "      <td>0.367422</td>\n",
       "      <td>0</td>\n",
       "      <td>0.477482</td>\n",
       "    </tr>\n",
       "    <tr>\n",
       "      <th>2</th>\n",
       "      <td>0.336714</td>\n",
       "      <td>0.538842</td>\n",
       "      <td>0.192801</td>\n",
       "      <td>0.553563</td>\n",
       "      <td>0.074515</td>\n",
       "      <td>0.332993</td>\n",
       "      <td>0.365792</td>\n",
       "      <td>0.861309</td>\n",
       "      <td>0.899017</td>\n",
       "      <td>0.088600</td>\n",
       "      <td>0</td>\n",
       "      <td>0.676207</td>\n",
       "    </tr>\n",
       "    <tr>\n",
       "      <th>3</th>\n",
       "      <td>0.092108</td>\n",
       "      <td>0.995017</td>\n",
       "      <td>0.014465</td>\n",
       "      <td>0.176371</td>\n",
       "      <td>0.241530</td>\n",
       "      <td>0.514724</td>\n",
       "      <td>0.562208</td>\n",
       "      <td>0.158963</td>\n",
       "      <td>0.073715</td>\n",
       "      <td>0.208463</td>\n",
       "      <td>1</td>\n",
       "      <td>0.804769</td>\n",
       "    </tr>\n",
       "    <tr>\n",
       "      <th>4</th>\n",
       "      <td>0.325261</td>\n",
       "      <td>0.805968</td>\n",
       "      <td>0.957033</td>\n",
       "      <td>0.331665</td>\n",
       "      <td>0.307923</td>\n",
       "      <td>0.355315</td>\n",
       "      <td>0.501899</td>\n",
       "      <td>0.558449</td>\n",
       "      <td>0.885169</td>\n",
       "      <td>0.182754</td>\n",
       "      <td>0</td>\n",
       "      <td>0.630836</td>\n",
       "    </tr>\n",
       "    <tr>\n",
       "      <th>...</th>\n",
       "      <td>...</td>\n",
       "      <td>...</td>\n",
       "      <td>...</td>\n",
       "      <td>...</td>\n",
       "      <td>...</td>\n",
       "      <td>...</td>\n",
       "      <td>...</td>\n",
       "      <td>...</td>\n",
       "      <td>...</td>\n",
       "      <td>...</td>\n",
       "      <td>...</td>\n",
       "      <td>...</td>\n",
       "    </tr>\n",
       "    <tr>\n",
       "      <th>995</th>\n",
       "      <td>0.305055</td>\n",
       "      <td>0.656837</td>\n",
       "      <td>0.331665</td>\n",
       "      <td>0.822525</td>\n",
       "      <td>0.907127</td>\n",
       "      <td>0.882276</td>\n",
       "      <td>0.855732</td>\n",
       "      <td>0.584786</td>\n",
       "      <td>0.808640</td>\n",
       "      <td>0.242762</td>\n",
       "      <td>0</td>\n",
       "      <td>0.266822</td>\n",
       "    </tr>\n",
       "    <tr>\n",
       "      <th>996</th>\n",
       "      <td>0.812627</td>\n",
       "      <td>0.864258</td>\n",
       "      <td>0.616604</td>\n",
       "      <td>0.167966</td>\n",
       "      <td>0.811223</td>\n",
       "      <td>0.938071</td>\n",
       "      <td>0.418462</td>\n",
       "      <td>0.472306</td>\n",
       "      <td>0.348347</td>\n",
       "      <td>0.671129</td>\n",
       "      <td>0</td>\n",
       "      <td>0.403480</td>\n",
       "    </tr>\n",
       "    <tr>\n",
       "      <th>997</th>\n",
       "      <td>0.250967</td>\n",
       "      <td>0.138627</td>\n",
       "      <td>0.919703</td>\n",
       "      <td>0.461234</td>\n",
       "      <td>0.886555</td>\n",
       "      <td>0.869888</td>\n",
       "      <td>0.800908</td>\n",
       "      <td>0.530324</td>\n",
       "      <td>0.779433</td>\n",
       "      <td>0.234952</td>\n",
       "      <td>0</td>\n",
       "      <td>0.337727</td>\n",
       "    </tr>\n",
       "    <tr>\n",
       "      <th>998</th>\n",
       "      <td>0.502436</td>\n",
       "      <td>0.936820</td>\n",
       "      <td>0.580062</td>\n",
       "      <td>0.540773</td>\n",
       "      <td>0.151995</td>\n",
       "      <td>0.059452</td>\n",
       "      <td>0.225220</td>\n",
       "      <td>0.242755</td>\n",
       "      <td>0.279385</td>\n",
       "      <td>0.538755</td>\n",
       "      <td>0</td>\n",
       "      <td>0.300265</td>\n",
       "    </tr>\n",
       "    <tr>\n",
       "      <th>999</th>\n",
       "      <td>0.457991</td>\n",
       "      <td>0.017755</td>\n",
       "      <td>0.714113</td>\n",
       "      <td>0.125992</td>\n",
       "      <td>0.063316</td>\n",
       "      <td>0.154739</td>\n",
       "      <td>0.922974</td>\n",
       "      <td>0.692299</td>\n",
       "      <td>0.816777</td>\n",
       "      <td>0.307592</td>\n",
       "      <td>0</td>\n",
       "      <td>0.367867</td>\n",
       "    </tr>\n",
       "  </tbody>\n",
       "</table>\n",
       "<p>1000 rows × 12 columns</p>\n",
       "</div>"
      ],
      "text/plain": [
       "         Col1      Col2      Col3      Col4      Col5      Col6      Col7  \\\n",
       "0    0.263995  0.764929  0.138424  0.935242  0.605867  0.518790  0.912225   \n",
       "1    0.546092  0.653975  0.065575  0.227772  0.845269  0.837066  0.272379   \n",
       "2    0.336714  0.538842  0.192801  0.553563  0.074515  0.332993  0.365792   \n",
       "3    0.092108  0.995017  0.014465  0.176371  0.241530  0.514724  0.562208   \n",
       "4    0.325261  0.805968  0.957033  0.331665  0.307923  0.355315  0.501899   \n",
       "..        ...       ...       ...       ...       ...       ...       ...   \n",
       "995  0.305055  0.656837  0.331665  0.822525  0.907127  0.882276  0.855732   \n",
       "996  0.812627  0.864258  0.616604  0.167966  0.811223  0.938071  0.418462   \n",
       "997  0.250967  0.138627  0.919703  0.461234  0.886555  0.869888  0.800908   \n",
       "998  0.502436  0.936820  0.580062  0.540773  0.151995  0.059452  0.225220   \n",
       "999  0.457991  0.017755  0.714113  0.125992  0.063316  0.154739  0.922974   \n",
       "\n",
       "         Col8      Col9     Col10  Label     Score  \n",
       "0    0.608234  0.723782  0.733591      0  0.558927  \n",
       "1    0.331679  0.429297  0.367422      0  0.477482  \n",
       "2    0.861309  0.899017  0.088600      0  0.676207  \n",
       "3    0.158963  0.073715  0.208463      1  0.804769  \n",
       "4    0.558449  0.885169  0.182754      0  0.630836  \n",
       "..        ...       ...       ...    ...       ...  \n",
       "995  0.584786  0.808640  0.242762      0  0.266822  \n",
       "996  0.472306  0.348347  0.671129      0  0.403480  \n",
       "997  0.530324  0.779433  0.234952      0  0.337727  \n",
       "998  0.242755  0.279385  0.538755      0  0.300265  \n",
       "999  0.692299  0.816777  0.307592      0  0.367867  \n",
       "\n",
       "[1000 rows x 12 columns]"
      ]
     },
     "execution_count": 8,
     "metadata": {},
     "output_type": "execute_result"
    }
   ],
   "source": [
    "# generating the predictions using KNN trained model\n",
    "knn_predictions = predict_model(knn, data = anomaly)\n",
    "\n",
    "# predictions with Label = 1 are considered anomalies\n",
    "knn_predictions"
   ]
  },
  {
   "cell_type": "code",
   "execution_count": 9,
   "metadata": {},
   "outputs": [
    {
     "data": {
      "text/html": [
       "<div>\n",
       "<style scoped>\n",
       "    .dataframe tbody tr th:only-of-type {\n",
       "        vertical-align: middle;\n",
       "    }\n",
       "\n",
       "    .dataframe tbody tr th {\n",
       "        vertical-align: top;\n",
       "    }\n",
       "\n",
       "    .dataframe thead th {\n",
       "        text-align: right;\n",
       "    }\n",
       "</style>\n",
       "<table border=\"1\" class=\"dataframe\">\n",
       "  <thead>\n",
       "    <tr style=\"text-align: right;\">\n",
       "      <th></th>\n",
       "      <th>Col1</th>\n",
       "      <th>Col2</th>\n",
       "      <th>Col3</th>\n",
       "      <th>Col4</th>\n",
       "      <th>Col5</th>\n",
       "      <th>Col6</th>\n",
       "      <th>Col7</th>\n",
       "      <th>Col8</th>\n",
       "      <th>Col9</th>\n",
       "      <th>Col10</th>\n",
       "      <th>Label</th>\n",
       "      <th>Score</th>\n",
       "    </tr>\n",
       "  </thead>\n",
       "  <tbody>\n",
       "    <tr>\n",
       "      <th>3</th>\n",
       "      <td>0.092108</td>\n",
       "      <td>0.995017</td>\n",
       "      <td>0.014465</td>\n",
       "      <td>0.176371</td>\n",
       "      <td>0.241530</td>\n",
       "      <td>0.514724</td>\n",
       "      <td>0.562208</td>\n",
       "      <td>0.158963</td>\n",
       "      <td>0.073715</td>\n",
       "      <td>0.208463</td>\n",
       "      <td>1</td>\n",
       "      <td>0.804769</td>\n",
       "    </tr>\n",
       "    <tr>\n",
       "      <th>8</th>\n",
       "      <td>0.197078</td>\n",
       "      <td>0.843918</td>\n",
       "      <td>0.243396</td>\n",
       "      <td>0.281278</td>\n",
       "      <td>0.329148</td>\n",
       "      <td>0.734582</td>\n",
       "      <td>0.191947</td>\n",
       "      <td>0.927804</td>\n",
       "      <td>0.713269</td>\n",
       "      <td>0.891548</td>\n",
       "      <td>1</td>\n",
       "      <td>0.844047</td>\n",
       "    </tr>\n",
       "    <tr>\n",
       "      <th>9</th>\n",
       "      <td>0.292985</td>\n",
       "      <td>0.703432</td>\n",
       "      <td>0.439621</td>\n",
       "      <td>0.107868</td>\n",
       "      <td>0.922947</td>\n",
       "      <td>0.253458</td>\n",
       "      <td>0.295652</td>\n",
       "      <td>0.355287</td>\n",
       "      <td>0.980911</td>\n",
       "      <td>0.308864</td>\n",
       "      <td>1</td>\n",
       "      <td>0.732952</td>\n",
       "    </tr>\n",
       "    <tr>\n",
       "      <th>11</th>\n",
       "      <td>0.796623</td>\n",
       "      <td>0.230543</td>\n",
       "      <td>0.993018</td>\n",
       "      <td>0.077075</td>\n",
       "      <td>0.094068</td>\n",
       "      <td>0.718628</td>\n",
       "      <td>0.977611</td>\n",
       "      <td>0.333386</td>\n",
       "      <td>0.634843</td>\n",
       "      <td>0.028729</td>\n",
       "      <td>1</td>\n",
       "      <td>0.830877</td>\n",
       "    </tr>\n",
       "    <tr>\n",
       "      <th>13</th>\n",
       "      <td>0.613660</td>\n",
       "      <td>0.709061</td>\n",
       "      <td>0.726767</td>\n",
       "      <td>0.862584</td>\n",
       "      <td>0.593116</td>\n",
       "      <td>0.474138</td>\n",
       "      <td>0.941633</td>\n",
       "      <td>0.788438</td>\n",
       "      <td>0.323293</td>\n",
       "      <td>0.931074</td>\n",
       "      <td>1</td>\n",
       "      <td>0.681433</td>\n",
       "    </tr>\n",
       "    <tr>\n",
       "      <th>14</th>\n",
       "      <td>0.950745</td>\n",
       "      <td>0.005154</td>\n",
       "      <td>0.084187</td>\n",
       "      <td>0.478148</td>\n",
       "      <td>0.212836</td>\n",
       "      <td>0.714347</td>\n",
       "      <td>0.664819</td>\n",
       "      <td>0.803558</td>\n",
       "      <td>0.465466</td>\n",
       "      <td>0.305692</td>\n",
       "      <td>1</td>\n",
       "      <td>0.821167</td>\n",
       "    </tr>\n",
       "    <tr>\n",
       "      <th>15</th>\n",
       "      <td>0.336346</td>\n",
       "      <td>0.252265</td>\n",
       "      <td>0.212287</td>\n",
       "      <td>0.020201</td>\n",
       "      <td>0.203514</td>\n",
       "      <td>0.534468</td>\n",
       "      <td>0.476263</td>\n",
       "      <td>0.845669</td>\n",
       "      <td>0.155377</td>\n",
       "      <td>0.442781</td>\n",
       "      <td>1</td>\n",
       "      <td>0.718586</td>\n",
       "    </tr>\n",
       "    <tr>\n",
       "      <th>17</th>\n",
       "      <td>0.741544</td>\n",
       "      <td>0.398253</td>\n",
       "      <td>0.766472</td>\n",
       "      <td>0.635670</td>\n",
       "      <td>0.261735</td>\n",
       "      <td>0.837371</td>\n",
       "      <td>0.001797</td>\n",
       "      <td>0.568841</td>\n",
       "      <td>0.037360</td>\n",
       "      <td>0.292769</td>\n",
       "      <td>1</td>\n",
       "      <td>0.791093</td>\n",
       "    </tr>\n",
       "    <tr>\n",
       "      <th>18</th>\n",
       "      <td>0.184433</td>\n",
       "      <td>0.174112</td>\n",
       "      <td>0.301976</td>\n",
       "      <td>0.895893</td>\n",
       "      <td>0.285614</td>\n",
       "      <td>0.615993</td>\n",
       "      <td>0.197073</td>\n",
       "      <td>0.738881</td>\n",
       "      <td>0.831371</td>\n",
       "      <td>0.265761</td>\n",
       "      <td>1</td>\n",
       "      <td>0.775046</td>\n",
       "    </tr>\n",
       "    <tr>\n",
       "      <th>20</th>\n",
       "      <td>0.162825</td>\n",
       "      <td>0.674069</td>\n",
       "      <td>0.705447</td>\n",
       "      <td>0.774799</td>\n",
       "      <td>0.894267</td>\n",
       "      <td>0.443057</td>\n",
       "      <td>0.399779</td>\n",
       "      <td>0.009136</td>\n",
       "      <td>0.941851</td>\n",
       "      <td>0.982711</td>\n",
       "      <td>1</td>\n",
       "      <td>0.856567</td>\n",
       "    </tr>\n",
       "    <tr>\n",
       "      <th>23</th>\n",
       "      <td>0.057884</td>\n",
       "      <td>0.227162</td>\n",
       "      <td>0.022494</td>\n",
       "      <td>0.167069</td>\n",
       "      <td>0.631315</td>\n",
       "      <td>0.610103</td>\n",
       "      <td>0.277753</td>\n",
       "      <td>0.728503</td>\n",
       "      <td>0.716414</td>\n",
       "      <td>0.973370</td>\n",
       "      <td>1</td>\n",
       "      <td>0.771412</td>\n",
       "    </tr>\n",
       "    <tr>\n",
       "      <th>24</th>\n",
       "      <td>0.445535</td>\n",
       "      <td>0.640881</td>\n",
       "      <td>0.689264</td>\n",
       "      <td>0.937542</td>\n",
       "      <td>0.037016</td>\n",
       "      <td>0.316847</td>\n",
       "      <td>0.972312</td>\n",
       "      <td>0.224585</td>\n",
       "      <td>0.393000</td>\n",
       "      <td>0.857239</td>\n",
       "      <td>1</td>\n",
       "      <td>0.736651</td>\n",
       "    </tr>\n",
       "    <tr>\n",
       "      <th>25</th>\n",
       "      <td>0.801837</td>\n",
       "      <td>0.272857</td>\n",
       "      <td>0.109206</td>\n",
       "      <td>0.922978</td>\n",
       "      <td>0.656014</td>\n",
       "      <td>0.376589</td>\n",
       "      <td>0.735547</td>\n",
       "      <td>0.302567</td>\n",
       "      <td>0.988732</td>\n",
       "      <td>0.847391</td>\n",
       "      <td>1</td>\n",
       "      <td>0.762585</td>\n",
       "    </tr>\n",
       "    <tr>\n",
       "      <th>28</th>\n",
       "      <td>0.834861</td>\n",
       "      <td>0.973891</td>\n",
       "      <td>0.808398</td>\n",
       "      <td>0.222828</td>\n",
       "      <td>0.018934</td>\n",
       "      <td>0.708188</td>\n",
       "      <td>0.986392</td>\n",
       "      <td>0.545479</td>\n",
       "      <td>0.235898</td>\n",
       "      <td>0.844788</td>\n",
       "      <td>1</td>\n",
       "      <td>0.883633</td>\n",
       "    </tr>\n",
       "    <tr>\n",
       "      <th>29</th>\n",
       "      <td>0.669767</td>\n",
       "      <td>0.694779</td>\n",
       "      <td>0.191048</td>\n",
       "      <td>0.080716</td>\n",
       "      <td>0.441480</td>\n",
       "      <td>0.115675</td>\n",
       "      <td>0.054466</td>\n",
       "      <td>0.949300</td>\n",
       "      <td>0.318667</td>\n",
       "      <td>0.410017</td>\n",
       "      <td>1</td>\n",
       "      <td>0.811543</td>\n",
       "    </tr>\n",
       "    <tr>\n",
       "      <th>32</th>\n",
       "      <td>0.510288</td>\n",
       "      <td>0.488385</td>\n",
       "      <td>0.598078</td>\n",
       "      <td>0.735532</td>\n",
       "      <td>0.959889</td>\n",
       "      <td>0.210081</td>\n",
       "      <td>0.719419</td>\n",
       "      <td>0.578130</td>\n",
       "      <td>0.890495</td>\n",
       "      <td>0.959144</td>\n",
       "      <td>1</td>\n",
       "      <td>0.747046</td>\n",
       "    </tr>\n",
       "    <tr>\n",
       "      <th>33</th>\n",
       "      <td>0.977562</td>\n",
       "      <td>0.125559</td>\n",
       "      <td>0.377839</td>\n",
       "      <td>0.195111</td>\n",
       "      <td>0.088484</td>\n",
       "      <td>0.644188</td>\n",
       "      <td>0.277623</td>\n",
       "      <td>0.741173</td>\n",
       "      <td>0.772889</td>\n",
       "      <td>0.780929</td>\n",
       "      <td>1</td>\n",
       "      <td>0.805365</td>\n",
       "    </tr>\n",
       "    <tr>\n",
       "      <th>43</th>\n",
       "      <td>0.178173</td>\n",
       "      <td>0.304310</td>\n",
       "      <td>0.028749</td>\n",
       "      <td>0.800844</td>\n",
       "      <td>0.161153</td>\n",
       "      <td>0.874650</td>\n",
       "      <td>0.984053</td>\n",
       "      <td>0.205747</td>\n",
       "      <td>0.029727</td>\n",
       "      <td>0.842088</td>\n",
       "      <td>1</td>\n",
       "      <td>1.003388</td>\n",
       "    </tr>\n",
       "    <tr>\n",
       "      <th>45</th>\n",
       "      <td>0.321797</td>\n",
       "      <td>0.094090</td>\n",
       "      <td>0.722048</td>\n",
       "      <td>0.330314</td>\n",
       "      <td>0.216936</td>\n",
       "      <td>0.341164</td>\n",
       "      <td>0.188359</td>\n",
       "      <td>0.774158</td>\n",
       "      <td>0.210362</td>\n",
       "      <td>0.160779</td>\n",
       "      <td>1</td>\n",
       "      <td>0.756854</td>\n",
       "    </tr>\n",
       "    <tr>\n",
       "      <th>46</th>\n",
       "      <td>0.817491</td>\n",
       "      <td>0.647528</td>\n",
       "      <td>0.046214</td>\n",
       "      <td>0.487270</td>\n",
       "      <td>0.053872</td>\n",
       "      <td>0.817499</td>\n",
       "      <td>0.390589</td>\n",
       "      <td>0.394750</td>\n",
       "      <td>0.736854</td>\n",
       "      <td>0.442689</td>\n",
       "      <td>1</td>\n",
       "      <td>0.725131</td>\n",
       "    </tr>\n",
       "    <tr>\n",
       "      <th>48</th>\n",
       "      <td>0.344141</td>\n",
       "      <td>0.365421</td>\n",
       "      <td>0.819994</td>\n",
       "      <td>0.142905</td>\n",
       "      <td>0.104520</td>\n",
       "      <td>0.560444</td>\n",
       "      <td>0.785413</td>\n",
       "      <td>0.085636</td>\n",
       "      <td>0.442044</td>\n",
       "      <td>0.160792</td>\n",
       "      <td>1</td>\n",
       "      <td>0.686254</td>\n",
       "    </tr>\n",
       "    <tr>\n",
       "      <th>51</th>\n",
       "      <td>0.544329</td>\n",
       "      <td>0.042685</td>\n",
       "      <td>0.653127</td>\n",
       "      <td>0.959081</td>\n",
       "      <td>0.211368</td>\n",
       "      <td>0.973765</td>\n",
       "      <td>0.303781</td>\n",
       "      <td>0.487732</td>\n",
       "      <td>0.971283</td>\n",
       "      <td>0.301297</td>\n",
       "      <td>1</td>\n",
       "      <td>0.898323</td>\n",
       "    </tr>\n",
       "    <tr>\n",
       "      <th>53</th>\n",
       "      <td>0.273081</td>\n",
       "      <td>0.097663</td>\n",
       "      <td>0.491502</td>\n",
       "      <td>0.065955</td>\n",
       "      <td>0.087729</td>\n",
       "      <td>0.727528</td>\n",
       "      <td>0.004372</td>\n",
       "      <td>0.903040</td>\n",
       "      <td>0.254568</td>\n",
       "      <td>0.402991</td>\n",
       "      <td>1</td>\n",
       "      <td>0.831916</td>\n",
       "    </tr>\n",
       "    <tr>\n",
       "      <th>54</th>\n",
       "      <td>0.390877</td>\n",
       "      <td>0.657193</td>\n",
       "      <td>0.215504</td>\n",
       "      <td>0.601380</td>\n",
       "      <td>0.422741</td>\n",
       "      <td>0.310370</td>\n",
       "      <td>0.684436</td>\n",
       "      <td>0.058938</td>\n",
       "      <td>0.072061</td>\n",
       "      <td>0.641133</td>\n",
       "      <td>1</td>\n",
       "      <td>0.684209</td>\n",
       "    </tr>\n",
       "    <tr>\n",
       "      <th>55</th>\n",
       "      <td>0.349621</td>\n",
       "      <td>0.217426</td>\n",
       "      <td>0.703498</td>\n",
       "      <td>0.925354</td>\n",
       "      <td>0.634280</td>\n",
       "      <td>0.226301</td>\n",
       "      <td>0.067452</td>\n",
       "      <td>0.355699</td>\n",
       "      <td>0.962699</td>\n",
       "      <td>0.168724</td>\n",
       "      <td>1</td>\n",
       "      <td>0.809304</td>\n",
       "    </tr>\n",
       "    <tr>\n",
       "      <th>56</th>\n",
       "      <td>0.214550</td>\n",
       "      <td>0.567478</td>\n",
       "      <td>0.559684</td>\n",
       "      <td>0.535956</td>\n",
       "      <td>0.904327</td>\n",
       "      <td>0.005931</td>\n",
       "      <td>0.156257</td>\n",
       "      <td>0.515366</td>\n",
       "      <td>0.566043</td>\n",
       "      <td>0.498918</td>\n",
       "      <td>1</td>\n",
       "      <td>0.688223</td>\n",
       "    </tr>\n",
       "    <tr>\n",
       "      <th>59</th>\n",
       "      <td>0.981709</td>\n",
       "      <td>0.253236</td>\n",
       "      <td>0.695971</td>\n",
       "      <td>0.918359</td>\n",
       "      <td>0.108317</td>\n",
       "      <td>0.656997</td>\n",
       "      <td>0.806218</td>\n",
       "      <td>0.924069</td>\n",
       "      <td>0.916568</td>\n",
       "      <td>0.406505</td>\n",
       "      <td>1</td>\n",
       "      <td>0.797255</td>\n",
       "    </tr>\n",
       "    <tr>\n",
       "      <th>61</th>\n",
       "      <td>0.648387</td>\n",
       "      <td>0.325067</td>\n",
       "      <td>0.759723</td>\n",
       "      <td>0.589656</td>\n",
       "      <td>0.403953</td>\n",
       "      <td>0.776492</td>\n",
       "      <td>0.729066</td>\n",
       "      <td>0.553150</td>\n",
       "      <td>0.014761</td>\n",
       "      <td>0.422957</td>\n",
       "      <td>1</td>\n",
       "      <td>0.704791</td>\n",
       "    </tr>\n",
       "    <tr>\n",
       "      <th>63</th>\n",
       "      <td>0.837803</td>\n",
       "      <td>0.793079</td>\n",
       "      <td>0.003605</td>\n",
       "      <td>0.165423</td>\n",
       "      <td>0.170273</td>\n",
       "      <td>0.374682</td>\n",
       "      <td>0.514763</td>\n",
       "      <td>0.185381</td>\n",
       "      <td>0.079298</td>\n",
       "      <td>0.954650</td>\n",
       "      <td>1</td>\n",
       "      <td>0.758680</td>\n",
       "    </tr>\n",
       "    <tr>\n",
       "      <th>65</th>\n",
       "      <td>0.291404</td>\n",
       "      <td>0.436354</td>\n",
       "      <td>0.345926</td>\n",
       "      <td>0.328096</td>\n",
       "      <td>0.117581</td>\n",
       "      <td>0.997211</td>\n",
       "      <td>0.528922</td>\n",
       "      <td>0.414090</td>\n",
       "      <td>0.646658</td>\n",
       "      <td>0.277670</td>\n",
       "      <td>1</td>\n",
       "      <td>0.805728</td>\n",
       "    </tr>\n",
       "    <tr>\n",
       "      <th>700</th>\n",
       "      <td>0.539521</td>\n",
       "      <td>0.006844</td>\n",
       "      <td>0.379683</td>\n",
       "      <td>0.915896</td>\n",
       "      <td>0.708540</td>\n",
       "      <td>0.606755</td>\n",
       "      <td>0.504256</td>\n",
       "      <td>0.941473</td>\n",
       "      <td>0.019866</td>\n",
       "      <td>0.092027</td>\n",
       "      <td>1</td>\n",
       "      <td>0.847338</td>\n",
       "    </tr>\n",
       "    <tr>\n",
       "      <th>703</th>\n",
       "      <td>0.676398</td>\n",
       "      <td>0.514887</td>\n",
       "      <td>0.895753</td>\n",
       "      <td>0.176415</td>\n",
       "      <td>0.214757</td>\n",
       "      <td>0.741506</td>\n",
       "      <td>0.894564</td>\n",
       "      <td>0.148374</td>\n",
       "      <td>0.122150</td>\n",
       "      <td>0.967965</td>\n",
       "      <td>1</td>\n",
       "      <td>0.914955</td>\n",
       "    </tr>\n",
       "    <tr>\n",
       "      <th>707</th>\n",
       "      <td>0.187487</td>\n",
       "      <td>0.057446</td>\n",
       "      <td>0.369339</td>\n",
       "      <td>0.559828</td>\n",
       "      <td>0.014315</td>\n",
       "      <td>0.325849</td>\n",
       "      <td>0.369230</td>\n",
       "      <td>0.617411</td>\n",
       "      <td>0.944126</td>\n",
       "      <td>0.770444</td>\n",
       "      <td>1</td>\n",
       "      <td>0.761566</td>\n",
       "    </tr>\n",
       "    <tr>\n",
       "      <th>708</th>\n",
       "      <td>0.052790</td>\n",
       "      <td>0.566393</td>\n",
       "      <td>0.285096</td>\n",
       "      <td>0.795340</td>\n",
       "      <td>0.523658</td>\n",
       "      <td>0.964553</td>\n",
       "      <td>0.789691</td>\n",
       "      <td>0.944700</td>\n",
       "      <td>0.062553</td>\n",
       "      <td>0.179371</td>\n",
       "      <td>1</td>\n",
       "      <td>0.827384</td>\n",
       "    </tr>\n",
       "    <tr>\n",
       "      <th>709</th>\n",
       "      <td>0.505864</td>\n",
       "      <td>0.231274</td>\n",
       "      <td>0.268309</td>\n",
       "      <td>0.795418</td>\n",
       "      <td>0.254847</td>\n",
       "      <td>0.515858</td>\n",
       "      <td>0.781295</td>\n",
       "      <td>0.111659</td>\n",
       "      <td>0.519996</td>\n",
       "      <td>0.723326</td>\n",
       "      <td>1</td>\n",
       "      <td>0.724600</td>\n",
       "    </tr>\n",
       "    <tr>\n",
       "      <th>710</th>\n",
       "      <td>0.927432</td>\n",
       "      <td>0.088497</td>\n",
       "      <td>0.251848</td>\n",
       "      <td>0.243690</td>\n",
       "      <td>0.120432</td>\n",
       "      <td>0.756917</td>\n",
       "      <td>0.521119</td>\n",
       "      <td>0.130158</td>\n",
       "      <td>0.747129</td>\n",
       "      <td>0.508585</td>\n",
       "      <td>1</td>\n",
       "      <td>0.833990</td>\n",
       "    </tr>\n",
       "    <tr>\n",
       "      <th>712</th>\n",
       "      <td>0.882822</td>\n",
       "      <td>0.517934</td>\n",
       "      <td>0.615919</td>\n",
       "      <td>0.543449</td>\n",
       "      <td>0.662865</td>\n",
       "      <td>0.755802</td>\n",
       "      <td>0.872439</td>\n",
       "      <td>0.006749</td>\n",
       "      <td>0.263889</td>\n",
       "      <td>0.135646</td>\n",
       "      <td>1</td>\n",
       "      <td>0.719406</td>\n",
       "    </tr>\n",
       "    <tr>\n",
       "      <th>713</th>\n",
       "      <td>0.495705</td>\n",
       "      <td>0.063449</td>\n",
       "      <td>0.054014</td>\n",
       "      <td>0.832054</td>\n",
       "      <td>0.790832</td>\n",
       "      <td>0.229366</td>\n",
       "      <td>0.425390</td>\n",
       "      <td>0.050938</td>\n",
       "      <td>0.725988</td>\n",
       "      <td>0.942197</td>\n",
       "      <td>1</td>\n",
       "      <td>0.779267</td>\n",
       "    </tr>\n",
       "    <tr>\n",
       "      <th>716</th>\n",
       "      <td>0.341369</td>\n",
       "      <td>0.538199</td>\n",
       "      <td>0.414272</td>\n",
       "      <td>0.460352</td>\n",
       "      <td>0.442762</td>\n",
       "      <td>0.269584</td>\n",
       "      <td>0.260125</td>\n",
       "      <td>0.004269</td>\n",
       "      <td>0.957254</td>\n",
       "      <td>0.874111</td>\n",
       "      <td>1</td>\n",
       "      <td>0.706757</td>\n",
       "    </tr>\n",
       "    <tr>\n",
       "      <th>717</th>\n",
       "      <td>0.159682</td>\n",
       "      <td>0.825127</td>\n",
       "      <td>0.716445</td>\n",
       "      <td>0.069445</td>\n",
       "      <td>0.032148</td>\n",
       "      <td>0.654702</td>\n",
       "      <td>0.028203</td>\n",
       "      <td>0.886761</td>\n",
       "      <td>0.165482</td>\n",
       "      <td>0.116204</td>\n",
       "      <td>1</td>\n",
       "      <td>0.971632</td>\n",
       "    </tr>\n",
       "    <tr>\n",
       "      <th>718</th>\n",
       "      <td>0.318134</td>\n",
       "      <td>0.984550</td>\n",
       "      <td>0.858386</td>\n",
       "      <td>0.872008</td>\n",
       "      <td>0.950152</td>\n",
       "      <td>0.298551</td>\n",
       "      <td>0.275030</td>\n",
       "      <td>0.207604</td>\n",
       "      <td>0.855490</td>\n",
       "      <td>0.191021</td>\n",
       "      <td>1</td>\n",
       "      <td>0.815154</td>\n",
       "    </tr>\n",
       "    <tr>\n",
       "      <th>720</th>\n",
       "      <td>0.064359</td>\n",
       "      <td>0.129525</td>\n",
       "      <td>0.183766</td>\n",
       "      <td>0.860040</td>\n",
       "      <td>0.254505</td>\n",
       "      <td>0.440920</td>\n",
       "      <td>0.089274</td>\n",
       "      <td>0.941902</td>\n",
       "      <td>0.904978</td>\n",
       "      <td>0.215016</td>\n",
       "      <td>1</td>\n",
       "      <td>0.925821</td>\n",
       "    </tr>\n",
       "    <tr>\n",
       "      <th>722</th>\n",
       "      <td>0.776252</td>\n",
       "      <td>0.416737</td>\n",
       "      <td>0.155131</td>\n",
       "      <td>0.556724</td>\n",
       "      <td>0.937436</td>\n",
       "      <td>0.091686</td>\n",
       "      <td>0.689603</td>\n",
       "      <td>0.064191</td>\n",
       "      <td>0.119276</td>\n",
       "      <td>0.985357</td>\n",
       "      <td>1</td>\n",
       "      <td>0.823334</td>\n",
       "    </tr>\n",
       "    <tr>\n",
       "      <th>723</th>\n",
       "      <td>0.635843</td>\n",
       "      <td>0.236965</td>\n",
       "      <td>0.504282</td>\n",
       "      <td>0.855775</td>\n",
       "      <td>0.239229</td>\n",
       "      <td>0.782783</td>\n",
       "      <td>0.386076</td>\n",
       "      <td>0.063988</td>\n",
       "      <td>0.767963</td>\n",
       "      <td>0.093871</td>\n",
       "      <td>1</td>\n",
       "      <td>0.835272</td>\n",
       "    </tr>\n",
       "    <tr>\n",
       "      <th>724</th>\n",
       "      <td>0.625105</td>\n",
       "      <td>0.873683</td>\n",
       "      <td>0.184258</td>\n",
       "      <td>0.907081</td>\n",
       "      <td>0.086882</td>\n",
       "      <td>0.856332</td>\n",
       "      <td>0.040426</td>\n",
       "      <td>0.755437</td>\n",
       "      <td>0.161329</td>\n",
       "      <td>0.748238</td>\n",
       "      <td>1</td>\n",
       "      <td>0.891704</td>\n",
       "    </tr>\n",
       "    <tr>\n",
       "      <th>725</th>\n",
       "      <td>0.529591</td>\n",
       "      <td>0.596996</td>\n",
       "      <td>0.940384</td>\n",
       "      <td>0.377583</td>\n",
       "      <td>0.677983</td>\n",
       "      <td>0.109523</td>\n",
       "      <td>0.786714</td>\n",
       "      <td>0.571454</td>\n",
       "      <td>0.816607</td>\n",
       "      <td>0.812012</td>\n",
       "      <td>1</td>\n",
       "      <td>0.695102</td>\n",
       "    </tr>\n",
       "  </tbody>\n",
       "</table>\n",
       "</div>"
      ],
      "text/plain": [
       "         Col1      Col2      Col3      Col4      Col5      Col6      Col7  \\\n",
       "3    0.092108  0.995017  0.014465  0.176371  0.241530  0.514724  0.562208   \n",
       "8    0.197078  0.843918  0.243396  0.281278  0.329148  0.734582  0.191947   \n",
       "9    0.292985  0.703432  0.439621  0.107868  0.922947  0.253458  0.295652   \n",
       "11   0.796623  0.230543  0.993018  0.077075  0.094068  0.718628  0.977611   \n",
       "13   0.613660  0.709061  0.726767  0.862584  0.593116  0.474138  0.941633   \n",
       "14   0.950745  0.005154  0.084187  0.478148  0.212836  0.714347  0.664819   \n",
       "15   0.336346  0.252265  0.212287  0.020201  0.203514  0.534468  0.476263   \n",
       "17   0.741544  0.398253  0.766472  0.635670  0.261735  0.837371  0.001797   \n",
       "18   0.184433  0.174112  0.301976  0.895893  0.285614  0.615993  0.197073   \n",
       "20   0.162825  0.674069  0.705447  0.774799  0.894267  0.443057  0.399779   \n",
       "23   0.057884  0.227162  0.022494  0.167069  0.631315  0.610103  0.277753   \n",
       "24   0.445535  0.640881  0.689264  0.937542  0.037016  0.316847  0.972312   \n",
       "25   0.801837  0.272857  0.109206  0.922978  0.656014  0.376589  0.735547   \n",
       "28   0.834861  0.973891  0.808398  0.222828  0.018934  0.708188  0.986392   \n",
       "29   0.669767  0.694779  0.191048  0.080716  0.441480  0.115675  0.054466   \n",
       "32   0.510288  0.488385  0.598078  0.735532  0.959889  0.210081  0.719419   \n",
       "33   0.977562  0.125559  0.377839  0.195111  0.088484  0.644188  0.277623   \n",
       "43   0.178173  0.304310  0.028749  0.800844  0.161153  0.874650  0.984053   \n",
       "45   0.321797  0.094090  0.722048  0.330314  0.216936  0.341164  0.188359   \n",
       "46   0.817491  0.647528  0.046214  0.487270  0.053872  0.817499  0.390589   \n",
       "48   0.344141  0.365421  0.819994  0.142905  0.104520  0.560444  0.785413   \n",
       "51   0.544329  0.042685  0.653127  0.959081  0.211368  0.973765  0.303781   \n",
       "53   0.273081  0.097663  0.491502  0.065955  0.087729  0.727528  0.004372   \n",
       "54   0.390877  0.657193  0.215504  0.601380  0.422741  0.310370  0.684436   \n",
       "55   0.349621  0.217426  0.703498  0.925354  0.634280  0.226301  0.067452   \n",
       "56   0.214550  0.567478  0.559684  0.535956  0.904327  0.005931  0.156257   \n",
       "59   0.981709  0.253236  0.695971  0.918359  0.108317  0.656997  0.806218   \n",
       "61   0.648387  0.325067  0.759723  0.589656  0.403953  0.776492  0.729066   \n",
       "63   0.837803  0.793079  0.003605  0.165423  0.170273  0.374682  0.514763   \n",
       "65   0.291404  0.436354  0.345926  0.328096  0.117581  0.997211  0.528922   \n",
       "700  0.539521  0.006844  0.379683  0.915896  0.708540  0.606755  0.504256   \n",
       "703  0.676398  0.514887  0.895753  0.176415  0.214757  0.741506  0.894564   \n",
       "707  0.187487  0.057446  0.369339  0.559828  0.014315  0.325849  0.369230   \n",
       "708  0.052790  0.566393  0.285096  0.795340  0.523658  0.964553  0.789691   \n",
       "709  0.505864  0.231274  0.268309  0.795418  0.254847  0.515858  0.781295   \n",
       "710  0.927432  0.088497  0.251848  0.243690  0.120432  0.756917  0.521119   \n",
       "712  0.882822  0.517934  0.615919  0.543449  0.662865  0.755802  0.872439   \n",
       "713  0.495705  0.063449  0.054014  0.832054  0.790832  0.229366  0.425390   \n",
       "716  0.341369  0.538199  0.414272  0.460352  0.442762  0.269584  0.260125   \n",
       "717  0.159682  0.825127  0.716445  0.069445  0.032148  0.654702  0.028203   \n",
       "718  0.318134  0.984550  0.858386  0.872008  0.950152  0.298551  0.275030   \n",
       "720  0.064359  0.129525  0.183766  0.860040  0.254505  0.440920  0.089274   \n",
       "722  0.776252  0.416737  0.155131  0.556724  0.937436  0.091686  0.689603   \n",
       "723  0.635843  0.236965  0.504282  0.855775  0.239229  0.782783  0.386076   \n",
       "724  0.625105  0.873683  0.184258  0.907081  0.086882  0.856332  0.040426   \n",
       "725  0.529591  0.596996  0.940384  0.377583  0.677983  0.109523  0.786714   \n",
       "\n",
       "         Col8      Col9     Col10  Label     Score  \n",
       "3    0.158963  0.073715  0.208463      1  0.804769  \n",
       "8    0.927804  0.713269  0.891548      1  0.844047  \n",
       "9    0.355287  0.980911  0.308864      1  0.732952  \n",
       "11   0.333386  0.634843  0.028729      1  0.830877  \n",
       "13   0.788438  0.323293  0.931074      1  0.681433  \n",
       "14   0.803558  0.465466  0.305692      1  0.821167  \n",
       "15   0.845669  0.155377  0.442781      1  0.718586  \n",
       "17   0.568841  0.037360  0.292769      1  0.791093  \n",
       "18   0.738881  0.831371  0.265761      1  0.775046  \n",
       "20   0.009136  0.941851  0.982711      1  0.856567  \n",
       "23   0.728503  0.716414  0.973370      1  0.771412  \n",
       "24   0.224585  0.393000  0.857239      1  0.736651  \n",
       "25   0.302567  0.988732  0.847391      1  0.762585  \n",
       "28   0.545479  0.235898  0.844788      1  0.883633  \n",
       "29   0.949300  0.318667  0.410017      1  0.811543  \n",
       "32   0.578130  0.890495  0.959144      1  0.747046  \n",
       "33   0.741173  0.772889  0.780929      1  0.805365  \n",
       "43   0.205747  0.029727  0.842088      1  1.003388  \n",
       "45   0.774158  0.210362  0.160779      1  0.756854  \n",
       "46   0.394750  0.736854  0.442689      1  0.725131  \n",
       "48   0.085636  0.442044  0.160792      1  0.686254  \n",
       "51   0.487732  0.971283  0.301297      1  0.898323  \n",
       "53   0.903040  0.254568  0.402991      1  0.831916  \n",
       "54   0.058938  0.072061  0.641133      1  0.684209  \n",
       "55   0.355699  0.962699  0.168724      1  0.809304  \n",
       "56   0.515366  0.566043  0.498918      1  0.688223  \n",
       "59   0.924069  0.916568  0.406505      1  0.797255  \n",
       "61   0.553150  0.014761  0.422957      1  0.704791  \n",
       "63   0.185381  0.079298  0.954650      1  0.758680  \n",
       "65   0.414090  0.646658  0.277670      1  0.805728  \n",
       "700  0.941473  0.019866  0.092027      1  0.847338  \n",
       "703  0.148374  0.122150  0.967965      1  0.914955  \n",
       "707  0.617411  0.944126  0.770444      1  0.761566  \n",
       "708  0.944700  0.062553  0.179371      1  0.827384  \n",
       "709  0.111659  0.519996  0.723326      1  0.724600  \n",
       "710  0.130158  0.747129  0.508585      1  0.833990  \n",
       "712  0.006749  0.263889  0.135646      1  0.719406  \n",
       "713  0.050938  0.725988  0.942197      1  0.779267  \n",
       "716  0.004269  0.957254  0.874111      1  0.706757  \n",
       "717  0.886761  0.165482  0.116204      1  0.971632  \n",
       "718  0.207604  0.855490  0.191021      1  0.815154  \n",
       "720  0.941902  0.904978  0.215016      1  0.925821  \n",
       "722  0.064191  0.119276  0.985357      1  0.823334  \n",
       "723  0.063988  0.767963  0.093871      1  0.835272  \n",
       "724  0.755437  0.161329  0.748238      1  0.891704  \n",
       "725  0.571454  0.816607  0.812012      1  0.695102  "
      ]
     },
     "execution_count": 9,
     "metadata": {},
     "output_type": "execute_result"
    }
   ],
   "source": [
    "# checking KNN anomaly rows\n",
    "knn_anomaly_rows = knn_predictions[knn_predictions[\"Label\"] == 1]\n",
    "knn_anomaly_rows"
   ]
  },
  {
   "cell_type": "code",
   "execution_count": 10,
   "metadata": {},
   "outputs": [
    {
     "data": {
      "text/plain": [
       "(46, 12)"
      ]
     },
     "execution_count": 10,
     "metadata": {},
     "output_type": "execute_result"
    }
   ],
   "source": [
    "# checking the number of anomaly rows returned by KNN\n",
    "knn_anomaly_rows.shape   # returned 46 rows  "
   ]
  },
  {
   "cell_type": "markdown",
   "metadata": {},
   "source": [
    "## Clustering"
   ]
  },
  {
   "cell_type": "code",
   "execution_count": 11,
   "metadata": {},
   "outputs": [
    {
     "data": {
      "text/html": [
       "        <script type=\"text/javascript\">\n",
       "        window.PlotlyConfig = {MathJaxConfig: 'local'};\n",
       "        if (window.MathJax) {MathJax.Hub.Config({SVG: {font: \"STIX-Web\"}});}\n",
       "        if (typeof require !== 'undefined') {\n",
       "        require.undef(\"plotly\");\n",
       "        requirejs.config({\n",
       "            paths: {\n",
       "                'plotly': ['https://cdn.plot.ly/plotly-latest.min']\n",
       "            }\n",
       "        });\n",
       "        require(['plotly'], function(Plotly) {\n",
       "            window._Plotly = Plotly;\n",
       "        });\n",
       "        }\n",
       "        </script>\n",
       "        "
      ]
     },
     "metadata": {},
     "output_type": "display_data"
    },
    {
     "data": {
      "application/vnd.plotly.v1+json": {
       "config": {
        "plotlyServerURL": "https://plot.ly"
       },
       "data": [
        {
         "customdata": [
          [
           0.263995357
          ],
          [
           0.546092303
          ],
          [
           0.33671410399999996
          ],
          [
           0.092107835
          ],
          [
           0.325261175
          ],
          [
           0.212464853
          ],
          [
           0.258565714
          ],
          [
           0.869236755
          ],
          [
           0.197077957
          ],
          [
           0.292984504
          ],
          [
           0.82178316
          ],
          [
           0.796622959
          ],
          [
           0.045577010999999994
          ],
          [
           0.613660351
          ],
          [
           0.9507445659999999
          ],
          [
           0.33634633700000005
          ],
          [
           0.034440667
          ],
          [
           0.741544275
          ],
          [
           0.18443265
          ],
          [
           0.664514943
          ],
          [
           0.16282485800000002
          ],
          [
           0.729838445
          ],
          [
           0.62837389
          ],
          [
           0.057883660999999996
          ],
          [
           0.445534827
          ],
          [
           0.80183695
          ],
          [
           0.27709612
          ],
          [
           0.228634015
          ],
          [
           0.834860657
          ],
          [
           0.6697665110000001
          ],
          [
           0.532527349
          ],
          [
           0.17045907100000002
          ],
          [
           0.5102884679999999
          ],
          [
           0.977561989
          ],
          [
           0.249775993
          ],
          [
           0.9755006820000001
          ],
          [
           0.613701727
          ],
          [
           0.16742036300000002
          ],
          [
           0.537472516
          ],
          [
           0.379899131
          ],
          [
           0.633897303
          ],
          [
           0.633960424
          ],
          [
           0.5499746529999999
          ],
          [
           0.178172988
          ],
          [
           0.85563814
          ],
          [
           0.321796672
          ],
          [
           0.8174905370000001
          ],
          [
           0.254879417
          ],
          [
           0.344140513
          ],
          [
           0.8061457259999999
          ],
          [
           0.27708167100000003
          ],
          [
           0.544328519
          ],
          [
           0.07708393
          ],
          [
           0.273081458
          ],
          [
           0.390877336
          ],
          [
           0.349621385
          ],
          [
           0.214549744
          ],
          [
           0.206075222
          ],
          [
           0.86461997
          ],
          [
           0.9817088540000001
          ],
          [
           0.33482964600000004
          ],
          [
           0.648387061
          ],
          [
           0.093643561
          ],
          [
           0.837802698
          ],
          [
           0.7603439670000001
          ],
          [
           0.29140417399999996
          ],
          [
           0.3413454
          ],
          [
           0.7611124840000001
          ],
          [
           0.541899775
          ],
          [
           0.684176639
          ],
          [
           0.983535597
          ],
          [
           0.52081245
          ],
          [
           0.328227724
          ],
          [
           0.09715793800000001
          ],
          [
           0.876088593
          ],
          [
           0.870214512
          ],
          [
           0.656086992
          ],
          [
           0.306791514
          ],
          [
           0.48126734
          ],
          [
           0.259559174
          ],
          [
           0.326123655
          ],
          [
           0.930568042
          ],
          [
           0.6583894
          ],
          [
           0.689992335
          ],
          [
           0.315781109
          ],
          [
           0.5669050929999999
          ],
          [
           0.637526619
          ],
          [
           0.687540723
          ],
          [
           0.324300602
          ],
          [
           0.592704906
          ],
          [
           0.7402531259999999
          ],
          [
           0.5940328770000001
          ],
          [
           0.596452977
          ],
          [
           0.27768081699999997
          ],
          [
           0.258329663
          ],
          [
           0.142460864
          ],
          [
           0.435533461
          ],
          [
           0.7024990440000001
          ],
          [
           0.58897535
          ],
          [
           0.653304374
          ],
          [
           0.336968524
          ],
          [
           0.631244736
          ],
          [
           0.73530076
          ],
          [
           0.050390366
          ],
          [
           0.064264924
          ],
          [
           0.665359476
          ],
          [
           0.917835245
          ],
          [
           0.44651012
          ],
          [
           0.661938199
          ],
          [
           0.43935985299999997
          ],
          [
           0.6875724040000001
          ],
          [
           0.363462248
          ],
          [
           0.6542621820000001
          ],
          [
           0.578553536
          ],
          [
           0.065927945
          ],
          [
           0.550148559
          ],
          [
           0.13918281400000002
          ],
          [
           0.080004635
          ],
          [
           0.278228358
          ],
          [
           0.560124266
          ],
          [
           0.53639864
          ],
          [
           0.42653190399999996
          ],
          [
           0.789109796
          ],
          [
           0.742900474
          ],
          [
           0.901692589
          ],
          [
           0.650337401
          ],
          [
           0.114057311
          ],
          [
           0.260812592
          ],
          [
           0.43991232
          ],
          [
           0.964409284
          ],
          [
           0.184401415
          ],
          [
           0.345145446
          ],
          [
           0.17589458100000002
          ],
          [
           0.312514453
          ],
          [
           0.674131879
          ],
          [
           0.32825045
          ],
          [
           0.598231057
          ],
          [
           0.09259881699999999
          ],
          [
           0.497916521
          ],
          [
           0.419776521
          ],
          [
           0.31217670000000003
          ],
          [
           0.937857107
          ],
          [
           0.049030963
          ],
          [
           0.47610452600000003
          ],
          [
           0.447397526
          ],
          [
           0.295806058
          ],
          [
           0.737363977
          ],
          [
           0.625896253
          ],
          [
           0.408813429
          ],
          [
           0.437511156
          ],
          [
           0.691351375
          ],
          [
           0.935555275
          ],
          [
           0.437846654
          ],
          [
           0.072217715
          ],
          [
           0.67636067
          ],
          [
           0.468883999
          ],
          [
           0.543820644
          ],
          [
           0.6555226470000001
          ],
          [
           0.6935289240000001
          ],
          [
           0.10887831199999999
          ],
          [
           0.285463743
          ],
          [
           0
          ],
          [
           0.706495497
          ],
          [
           0.273530633
          ],
          [
           0.292320271
          ],
          [
           0.673984307
          ],
          [
           0.12612182800000002
          ],
          [
           0.9467074590000001
          ],
          [
           0.9363388979999999
          ],
          [
           0.8537553640000001
          ],
          [
           0.7060713609999999
          ],
          [
           0.693682186
          ],
          [
           0.508527882
          ],
          [
           0.34717038899999997
          ],
          [
           0.704154263
          ],
          [
           0.658730088
          ],
          [
           0.155841557
          ],
          [
           0.311085435
          ],
          [
           0.281135347
          ],
          [
           0.094587802
          ],
          [
           0.6832609540000001
          ],
          [
           0.9077292509999999
          ],
          [
           0.29151267399999997
          ],
          [
           0.752734459
          ],
          [
           0.93482964
          ],
          [
           0.071413953
          ],
          [
           0.5948963270000001
          ],
          [
           0.404672015
          ],
          [
           0.13837621
          ],
          [
           0.7473384679999999
          ],
          [
           0.530882486
          ],
          [
           0.282649594
          ],
          [
           0.699335734
          ],
          [
           0.056111250999999994
          ],
          [
           0.855234998
          ],
          [
           0.07789512700000001
          ],
          [
           0.891649583
          ],
          [
           0.38674227899999997
          ],
          [
           0.27113158
          ],
          [
           0.958888961
          ],
          [
           0.085120869
          ],
          [
           0.5269022489999999
          ],
          [
           0.066577785
          ],
          [
           0.841506738
          ],
          [
           0.255342095
          ],
          [
           0.060545771
          ],
          [
           0.073385869
          ],
          [
           0.187493723
          ],
          [
           0.858365688
          ],
          [
           0.090640352
          ],
          [
           0.7097252270000001
          ],
          [
           0.631300647
          ],
          [
           0.24750447399999997
          ],
          [
           0.822843584
          ],
          [
           0.373476759
          ],
          [
           0.625538582
          ],
          [
           0.292951715
          ],
          [
           0.299730324
          ],
          [
           0.25121407
          ],
          [
           0.344480551
          ],
          [
           0.293064767
          ],
          [
           0.7628032240000001
          ],
          [
           0.7384708040000001
          ],
          [
           0.674883265
          ],
          [
           0.719151612
          ],
          [
           0.13098021599999998
          ],
          [
           0.511328036
          ],
          [
           0.04492903
          ],
          [
           0.560914449
          ],
          [
           0.7440406409999999
          ],
          [
           0.266961634
          ],
          [
           0.644231853
          ],
          [
           0.038113352
          ],
          [
           0.05715529900000001
          ],
          [
           0.34139246100000004
          ],
          [
           0.7204636320000001
          ],
          [
           0.402878236
          ],
          [
           0.635148967
          ],
          [
           0.320729467
          ],
          [
           0.09120969400000001
          ],
          [
           0.23414609
          ],
          [
           0.8902211309999999
          ],
          [
           0.602170884
          ],
          [
           0.633652055
          ],
          [
           0.806240837
          ],
          [
           0.739731184
          ],
          [
           0.465231269
          ],
          [
           0.7321109
          ],
          [
           0.373874305
          ],
          [
           0.501587947
          ],
          [
           0.11538315800000001
          ],
          [
           0.7319466040000001
          ],
          [
           0.41829872799999995
          ],
          [
           0.062259590999999996
          ],
          [
           0.391496379
          ],
          [
           0.35984929
          ],
          [
           0.24523562699999998
          ],
          [
           0.610028339
          ],
          [
           0.43540360200000006
          ],
          [
           0.434309675
          ],
          [
           0.523763344
          ],
          [
           0.17118786600000002
          ],
          [
           0.18773430300000002
          ],
          [
           0.945014638
          ],
          [
           0.027851097000000002
          ],
          [
           0.68445706
          ],
          [
           0.178014532
          ],
          [
           0.643427879
          ],
          [
           0.59588355
          ],
          [
           0.372361682
          ],
          [
           0.586103584
          ],
          [
           0.271658852
          ],
          [
           0.59951107
          ],
          [
           0.468363088
          ],
          [
           0.314515565
          ],
          [
           0.21893726
          ],
          [
           0.254716562
          ],
          [
           0.25612815
          ],
          [
           0.602259755
          ],
          [
           0.134381075
          ],
          [
           0.513887424
          ],
          [
           0.624241636
          ],
          [
           0.160251854
          ],
          [
           0.580708108
          ],
          [
           0.270540486
          ],
          [
           0.832919932
          ],
          [
           0.93032134
          ],
          [
           0.719157884
          ],
          [
           0.886720033
          ],
          [
           0.098792281
          ],
          [
           0.787174286
          ],
          [
           0.365592376
          ],
          [
           0.719576193
          ],
          [
           0.8058956
          ],
          [
           0.7555783340000001
          ],
          [
           0.526005909
          ],
          [
           0.68880424
          ],
          [
           0.22111531199999998
          ],
          [
           0.739369477
          ],
          [
           0.408440236
          ],
          [
           0.348926542
          ],
          [
           0.433713763
          ],
          [
           0.5964966070000001
          ],
          [
           0.6942953000000001
          ],
          [
           0.7090309659999999
          ],
          [
           0.867652984
          ],
          [
           0.89332545
          ],
          [
           0.746020922
          ],
          [
           0.538284443
          ],
          [
           0.8922193140000001
          ],
          [
           0.935175765
          ],
          [
           0.260527707
          ],
          [
           0.956780449
          ],
          [
           0.204932484
          ],
          [
           0.687733351
          ],
          [
           0.329063619
          ],
          [
           0.632149831
          ],
          [
           0.463744506
          ],
          [
           0.698859621
          ],
          [
           0.385446564
          ],
          [
           0.47997537700000004
          ],
          [
           0.732279108
          ],
          [
           0.3813543
          ],
          [
           0.459326013
          ],
          [
           0.257401434
          ],
          [
           0.665014804
          ],
          [
           0.103399542
          ],
          [
           0.425284413
          ],
          [
           0.943529051
          ],
          [
           0.594750236
          ],
          [
           0.543776817
          ],
          [
           0.18203988
          ],
          [
           0.23584208399999998
          ],
          [
           0.585984497
          ],
          [
           0.762013168
          ],
          [
           0.6849829070000001
          ],
          [
           0.676936933
          ],
          [
           0.290184964
          ],
          [
           0.48106822200000005
          ],
          [
           0.492766033
          ],
          [
           0.22185623399999999
          ],
          [
           0.053875998
          ],
          [
           0.082751144
          ],
          [
           0.385366225
          ],
          [
           0.702513961
          ],
          [
           0.91553156
          ],
          [
           0.082087436
          ],
          [
           0.251280378
          ],
          [
           0.41672181700000005
          ],
          [
           0.277032672
          ],
          [
           0.579539754
          ],
          [
           0.569363476
          ],
          [
           0.133399703
          ],
          [
           0.265045463
          ],
          [
           0.936571901
          ],
          [
           0.252618554
          ],
          [
           0.054033081
          ],
          [
           0.802481439
          ],
          [
           0.528197693
          ],
          [
           0.9515026
          ],
          [
           0.572121173
          ],
          [
           0.752938227
          ],
          [
           0.143857535
          ],
          [
           0.513484576
          ],
          [
           0.313322389
          ],
          [
           0.6877973959999999
          ],
          [
           0.37705984
          ],
          [
           0.348226142
          ],
          [
           0.67763282
          ],
          [
           0.24138752100000002
          ],
          [
           0.8506501790000001
          ],
          [
           0.22034810300000002
          ],
          [
           0.476445464
          ],
          [
           0.690324025
          ],
          [
           0.364695946
          ],
          [
           0.6492491970000001
          ],
          [
           0.9437019209999999
          ],
          [
           0.529645971
          ],
          [
           0.299097002
          ],
          [
           0.96696247
          ],
          [
           0.272005242
          ],
          [
           0.314161447
          ],
          [
           0.752020991
          ],
          [
           0.221882453
          ],
          [
           0.7203326729999999
          ],
          [
           0.379204782
          ],
          [
           0.60168653
          ],
          [
           0.582932673
          ],
          [
           0.950809853
          ],
          [
           0.58830141
          ],
          [
           0.880887227
          ],
          [
           0.467857701
          ],
          [
           0.8799021709999999
          ],
          [
           0.619844009
          ],
          [
           0.359002573
          ],
          [
           0.291511278
          ],
          [
           0.694157143
          ],
          [
           0.727960353
          ],
          [
           0.617703921
          ],
          [
           0.39581257
          ],
          [
           0.58317282
          ],
          [
           0.710332374
          ],
          [
           0.253753693
          ],
          [
           0.049412227999999996
          ],
          [
           0.728378695
          ],
          [
           0.432432881
          ],
          [
           0.58612345
          ],
          [
           0.052342373
          ],
          [
           0.053483902
          ],
          [
           0.518729378
          ],
          [
           0.933040208
          ],
          [
           0.7035542840000001
          ],
          [
           0.268989899
          ],
          [
           0.733006927
          ],
          [
           0.44435246700000003
          ],
          [
           0.5833946210000001
          ],
          [
           0.871172692
          ],
          [
           0.42876707799999997
          ],
          [
           0.30046084100000003
          ],
          [
           0.9533294590000001
          ],
          [
           0.606443965
          ],
          [
           0.90986815
          ],
          [
           0.714896449
          ],
          [
           0.49734950899999997
          ],
          [
           0.8530974859999999
          ],
          [
           0.721804145
          ],
          [
           0.303467328
          ],
          [
           0.664485096
          ],
          [
           0.27978062
          ],
          [
           0.569481665
          ],
          [
           0.628628926
          ],
          [
           0.088368123
          ],
          [
           0.733567326
          ],
          [
           0.537436778
          ],
          [
           0.638593691
          ],
          [
           0.954726948
          ],
          [
           0.632202332
          ],
          [
           0.642134651
          ],
          [
           0.744653087
          ],
          [
           0.115714007
          ],
          [
           0.48625007299999995
          ],
          [
           0.440356144
          ],
          [
           0.08272289
          ],
          [
           0.511591027
          ],
          [
           0.394627555
          ],
          [
           0.224394
          ],
          [
           0.626927584
          ],
          [
           0.290254057
          ],
          [
           0.779008053
          ],
          [
           0.86610579
          ],
          [
           0.873326081
          ],
          [
           0.49548916
          ],
          [
           0.594297695
          ],
          [
           0.9182015840000001
          ],
          [
           0.5770427539999999
          ],
          [
           0.019467671000000002
          ],
          [
           0.6702982820000001
          ],
          [
           0.546595316
          ],
          [
           0.591665146
          ],
          [
           0.42155819
          ],
          [
           0.6856085590000001
          ],
          [
           0.340303024
          ],
          [
           0.675626741
          ],
          [
           0.319067345
          ],
          [
           0.38849966399999997
          ],
          [
           0.706949589
          ],
          [
           0.559409515
          ],
          [
           0.687663508
          ],
          [
           0.7088045540000001
          ],
          [
           0.6818880940000001
          ],
          [
           0.42253510899999996
          ],
          [
           0.320004605
          ],
          [
           0.6582813679999999
          ],
          [
           0.634154867
          ],
          [
           0.7773320090000001
          ],
          [
           0.812677205
          ],
          [
           0.074280797
          ],
          [
           0.39600217
          ],
          [
           0.054933913
          ],
          [
           0.825058925
          ],
          [
           0.382642009
          ],
          [
           0.8687298179999999
          ],
          [
           0.588043346
          ],
          [
           0.891551577
          ],
          [
           0.10920046
          ],
          [
           0.647682781
          ],
          [
           0.724342512
          ],
          [
           0.07016304400000001
          ],
          [
           0.280882054
          ],
          [
           0.039113261
          ],
          [
           0.579641592
          ],
          [
           0.639000922
          ],
          [
           0.281745925
          ],
          [
           0.647857744
          ],
          [
           0.6479057970000001
          ],
          [
           0.875226264
          ],
          [
           0.567603305
          ],
          [
           0.262940591
          ],
          [
           0.268026042
          ],
          [
           0.40519133
          ],
          [
           0.479965451
          ],
          [
           0.33552403
          ],
          [
           0.777165379
          ],
          [
           0.42548796299999997
          ],
          [
           0.237986115
          ],
          [
           0.142522971
          ],
          [
           0.724176488
          ],
          [
           0.234698933
          ],
          [
           0.07818228099999999
          ],
          [
           0.855990155
          ],
          [
           0.270251765
          ],
          [
           0.435517841
          ],
          [
           0.762697513
          ],
          [
           0.46448725799999996
          ],
          [
           0.396112685
          ],
          [
           0.37638092100000003
          ],
          [
           0.29459467699999997
          ],
          [
           0.6944921209999999
          ],
          [
           0.622767949
          ],
          [
           0.8475597220000001
          ],
          [
           0.301463054
          ],
          [
           0.912937812
          ],
          [
           0.500017182
          ],
          [
           0.902587935
          ],
          [
           0.304517943
          ],
          [
           0.299165673
          ],
          [
           0.092014087
          ],
          [
           0.488548917
          ],
          [
           0.664664437
          ],
          [
           0.26534954899999996
          ],
          [
           0.723657021
          ],
          [
           0.149262385
          ],
          [
           0.04577339
          ],
          [
           0.69661064
          ],
          [
           0.42181486
          ],
          [
           0.733845785
          ],
          [
           0.418795386
          ],
          [
           0.677443529
          ],
          [
           0.26128360300000003
          ],
          [
           0.268527767
          ],
          [
           0.5443222360000001
          ],
          [
           0.431632036
          ],
          [
           0.981018141
          ],
          [
           0.21498072399999998
          ],
          [
           0.39472999299999995
          ],
          [
           0.122224944
          ],
          [
           0.297496875
          ],
          [
           0.37490443100000004
          ],
          [
           0.68698771
          ],
          [
           0.388549207
          ],
          [
           0.039296071
          ],
          [
           0.73553424
          ],
          [
           0.37929489299999997
          ],
          [
           0.7321233859999999
          ],
          [
           0.33922143899999996
          ],
          [
           0.659450594
          ],
          [
           0.054838642
          ],
          [
           0.640112102
          ],
          [
           0.30714170399999996
          ],
          [
           0.39661190700000004
          ],
          [
           0.420439161
          ],
          [
           0.24171497399999997
          ],
          [
           0.065893153
          ],
          [
           0.9105219370000001
          ],
          [
           0.697163103
          ],
          [
           0.072559853
          ],
          [
           0.81825094
          ],
          [
           0.311888815
          ],
          [
           0.961644609
          ],
          [
           0.816325524
          ],
          [
           0.14647302
          ],
          [
           0.548753945
          ],
          [
           0.946158087
          ],
          [
           0.293992717
          ],
          [
           0.331479643
          ],
          [
           0.9062200309999999
          ],
          [
           0.525540416
          ],
          [
           0.83301411
          ],
          [
           0.514849806
          ],
          [
           0.574609024
          ],
          [
           0.46871185299999996
          ],
          [
           0.71002775
          ],
          [
           0.645973276
          ],
          [
           0.229794416
          ],
          [
           0.551783393
          ],
          [
           0.055822990999999995
          ],
          [
           0.331750941
          ],
          [
           0.715520198
          ],
          [
           0.583924357
          ],
          [
           0.30695769100000003
          ],
          [
           0.7914782370000001
          ],
          [
           0.16423663900000002
          ],
          [
           0.065711219
          ],
          [
           0.948993132
          ],
          [
           0.080423835
          ],
          [
           0.052495426
          ],
          [
           0.566346135
          ],
          [
           0.3630266
          ],
          [
           0.605442195
          ],
          [
           0.6308505839999999
          ],
          [
           0.065791238
          ],
          [
           0.28681707100000003
          ],
          [
           0.685462839
          ],
          [
           0.260853706
          ],
          [
           0.659122429
          ],
          [
           0.44317392200000005
          ],
          [
           0.602063986
          ],
          [
           0.060366910999999995
          ],
          [
           0.781903153
          ],
          [
           0.5145798070000001
          ],
          [
           0.48388621299999995
          ],
          [
           0.600213807
          ],
          [
           0.49736405200000006
          ],
          [
           0.411145245
          ],
          [
           0.116999171
          ],
          [
           0.34189014100000004
          ],
          [
           0.746950848
          ],
          [
           0.39629274600000003
          ],
          [
           0.6221438429999999
          ],
          [
           0.335271141
          ],
          [
           0.140257137
          ],
          [
           0.081620681
          ],
          [
           0.069837569
          ],
          [
           0.46894000799999996
          ],
          [
           0.9908574170000001
          ],
          [
           0.896616832
          ],
          [
           0.255310561
          ],
          [
           0.22464526699999998
          ],
          [
           0.01991825
          ],
          [
           0.296480415
          ],
          [
           0.155458996
          ],
          [
           0.577916714
          ],
          [
           0.9563030309999999
          ],
          [
           0.813464394
          ],
          [
           0.529675785
          ],
          [
           0.287671353
          ],
          [
           0.48039136
          ],
          [
           0.28104482199999997
          ],
          [
           0.633196521
          ],
          [
           0.09332537699999999
          ],
          [
           0.28447398100000004
          ],
          [
           0.052223775
          ],
          [
           0.051129385
          ],
          [
           0.967405608
          ],
          [
           0.040045727999999996
          ],
          [
           0.9085829209999999
          ],
          [
           0.6621174160000001
          ],
          [
           0.42470320899999997
          ],
          [
           0.72207806
          ],
          [
           0.666193327
          ],
          [
           0.509681253
          ],
          [
           0.7513536209999999
          ],
          [
           0.279073124
          ],
          [
           0.074927
          ],
          [
           0.916359535
          ],
          [
           0.31040327
          ],
          [
           0.716604052
          ],
          [
           0.485587085
          ],
          [
           0.30607518100000003
          ],
          [
           0.477558204
          ],
          [
           0.7119239409999999
          ],
          [
           0.066348638
          ],
          [
           0.27453935100000004
          ],
          [
           0.31082252
          ],
          [
           0.47607312700000004
          ],
          [
           0.186795565
          ],
          [
           0.26654207
          ],
          [
           0.070231142
          ],
          [
           0.26951927
          ],
          [
           0.800004713
          ],
          [
           0.27363366699999997
          ],
          [
           0.14647919199999998
          ],
          [
           0.378318951
          ],
          [
           0.373849065
          ],
          [
           0.242170835
          ],
          [
           0.249796488
          ],
          [
           0.066591188
          ],
          [
           0.372956798
          ],
          [
           0.501812291
          ],
          [
           0.313097752
          ],
          [
           0.8802021959999999
          ],
          [
           0.51981893
          ],
          [
           0.364138746
          ],
          [
           0.49268289600000004
          ],
          [
           0.285732652
          ],
          [
           0.890114985
          ],
          [
           0.316419561
          ],
          [
           0.26866354
          ],
          [
           0.771975959
          ],
          [
           0.968888992
          ],
          [
           0.080334377
          ],
          [
           0.7368282209999999
          ],
          [
           0.30055807100000004
          ],
          [
           0.9179503929999999
          ],
          [
           0.465815039
          ],
          [
           0.054036682
          ],
          [
           0.963150123
          ],
          [
           0.08965350300000001
          ],
          [
           0.7076932340000001
          ],
          [
           0.636416037
          ],
          [
           0.539521117
          ],
          [
           0.114757161
          ],
          [
           0.357312419
          ],
          [
           0.67639834
          ],
          [
           0.43482839
          ],
          [
           0.032326387000000005
          ],
          [
           0.711365605
          ],
          [
           0.187486519
          ],
          [
           0.052789653
          ],
          [
           0.5058636129999999
          ],
          [
           0.927431873
          ],
          [
           0.6809842559999999
          ],
          [
           0.882822186
          ],
          [
           0.495705441
          ],
          [
           0.596240398
          ],
          [
           0.320610701
          ],
          [
           0.3413685
          ],
          [
           0.159681797
          ],
          [
           0.318133669
          ],
          [
           0.8393010479999999
          ],
          [
           0.06435925099999999
          ],
          [
           0.470216633
          ],
          [
           0.7762522909999999
          ],
          [
           0.635843383
          ],
          [
           0.62510543
          ],
          [
           0.52959065
          ],
          [
           0.986900166
          ],
          [
           0.078585688
          ],
          [
           0.233284267
          ],
          [
           0.363330957
          ],
          [
           0.7167169809999999
          ],
          [
           0.37588979200000006
          ],
          [
           0.223316889
          ],
          [
           0.299343986
          ],
          [
           0.538595767
          ],
          [
           0.730297124
          ],
          [
           0.66033077
          ],
          [
           0.435296009
          ],
          [
           0.326494313
          ],
          [
           0.854402708
          ],
          [
           0.5734938470000001
          ],
          [
           0.757786135
          ],
          [
           0.704743233
          ],
          [
           0.281575597
          ],
          [
           0.671968208
          ],
          [
           0.313726015
          ],
          [
           0.364338275
          ],
          [
           0.368216396
          ],
          [
           0.38629520700000003
          ],
          [
           0.655971865
          ],
          [
           0.5660252729999999
          ],
          [
           0.424999093
          ],
          [
           0.090110371
          ],
          [
           0.772350538
          ],
          [
           0.331047258
          ],
          [
           0.273716188
          ],
          [
           0.23877568
          ],
          [
           0.37307977200000003
          ],
          [
           0.331185868
          ],
          [
           0.256134531
          ],
          [
           0.678373225
          ],
          [
           0.43463833799999996
          ],
          [
           0.654668307
          ],
          [
           0.986681065
          ],
          [
           0.371520495
          ],
          [
           0.408359618
          ],
          [
           0.40932365
          ],
          [
           0.283412082
          ],
          [
           0.395246531
          ],
          [
           0.010984428000000001
          ],
          [
           0.306013869
          ],
          [
           0.266194806
          ],
          [
           0.299318521
          ],
          [
           0.318293946
          ],
          [
           0.74282591
          ],
          [
           0.09766432900000001
          ],
          [
           0.079666942
          ],
          [
           0.613258767
          ],
          [
           0.99443072
          ],
          [
           0.568835082
          ],
          [
           0.7080345159999999
          ],
          [
           0.37059271899999996
          ],
          [
           0.669867361
          ],
          [
           0.651295625
          ],
          [
           0.462531569
          ],
          [
           0.7196256190000001
          ],
          [
           0.45377248
          ],
          [
           0.394863946
          ],
          [
           0.323974831
          ],
          [
           0.146454724
          ],
          [
           0.7790670409999999
          ],
          [
           0.401828915
          ],
          [
           0.601479585
          ],
          [
           0.856423023
          ],
          [
           0.565242962
          ],
          [
           0.301225108
          ],
          [
           0.282108144
          ],
          [
           0.594378011
          ],
          [
           0.705312368
          ],
          [
           0.5408696279999999
          ],
          [
           0.319249574
          ],
          [
           0.36176613799999996
          ],
          [
           0.625000704
          ],
          [
           0.316287401
          ],
          [
           0.047239021
          ],
          [
           0.801182233
          ],
          [
           0.508474436
          ],
          [
           0.8178934109999999
          ],
          [
           0.399235601
          ],
          [
           0.9740519990000001
          ],
          [
           0.72241535
          ],
          [
           0.039564764
          ],
          [
           0.908684108
          ],
          [
           0.47301013399999997
          ],
          [
           0.7180496279999999
          ],
          [
           0.7634790690000001
          ],
          [
           0.6475965370000001
          ],
          [
           0.8949973859999999
          ],
          [
           0.22282590100000002
          ],
          [
           0.359012234
          ],
          [
           0.944910252
          ],
          [
           0.297877816
          ],
          [
           0.172517997
          ],
          [
           0.556586265
          ],
          [
           0.876481735
          ],
          [
           0.48667784299999994
          ],
          [
           0.459496733
          ],
          [
           0.47412637700000004
          ],
          [
           0.70101144
          ],
          [
           0.337597387
          ],
          [
           0.537578886
          ],
          [
           0.966992448
          ],
          [
           0.056849545
          ],
          [
           0.233249065
          ],
          [
           0.380054711
          ],
          [
           0.602929443
          ],
          [
           0.303847999
          ],
          [
           0.170194553
          ],
          [
           0.972168554
          ],
          [
           0.332168927
          ],
          [
           0.6887286890000001
          ],
          [
           0.110773401
          ],
          [
           0.273352065
          ],
          [
           0.572939678
          ],
          [
           0.491457065
          ],
          [
           0.281389999
          ],
          [
           0.821697261
          ],
          [
           0.6749776829999999
          ],
          [
           0.585134549
          ],
          [
           0.7105961159999999
          ],
          [
           0.040488789
          ],
          [
           0.568054311
          ],
          [
           0.321752928
          ],
          [
           0.611850232
          ],
          [
           0.926096887
          ],
          [
           0.618347428
          ],
          [
           0.667629785
          ],
          [
           0.39773346600000004
          ],
          [
           0.290875487
          ],
          [
           0.594375103
          ],
          [
           0.508255233
          ],
          [
           0.338571357
          ],
          [
           0.43230234700000003
          ],
          [
           0.302221978
          ],
          [
           0.87619819
          ],
          [
           0.080204492
          ],
          [
           0.092333532
          ],
          [
           0.09365644699999999
          ],
          [
           0.6084523510000001
          ],
          [
           0.732654598
          ],
          [
           0.944158855
          ],
          [
           0.26742308
          ],
          [
           0.731124201
          ],
          [
           0.661308553
          ],
          [
           0.38776626200000003
          ],
          [
           0.962585273
          ],
          [
           0.322067067
          ],
          [
           0.6340810929999999
          ],
          [
           0.475345002
          ],
          [
           0.35355897299999994
          ],
          [
           0.8859363159999999
          ],
          [
           0.876798106
          ],
          [
           0.221581064
          ],
          [
           0.394362449
          ],
          [
           0.8050356759999999
          ],
          [
           0.452898486
          ],
          [
           0.592520516
          ],
          [
           0.761026394
          ],
          [
           0.245049023
          ],
          [
           0.37213936299999995
          ],
          [
           0.681054822
          ],
          [
           0.7471431479999999
          ],
          [
           0.9207395290000001
          ],
          [
           0.097207945
          ],
          [
           0.699302998
          ],
          [
           0.721647006
          ],
          [
           0.5353561139999999
          ],
          [
           0.738293805
          ],
          [
           0.7064675509999999
          ],
          [
           0.67395061
          ],
          [
           0.7112122909999999
          ],
          [
           0.302558708
          ],
          [
           0.080097855
          ],
          [
           0.707010837
          ],
          [
           0.512248622
          ],
          [
           0.659627472
          ],
          [
           0.657559694
          ],
          [
           0.100645606
          ],
          [
           0.92665363
          ],
          [
           0.892879338
          ],
          [
           0.839157508
          ],
          [
           0.890959718
          ],
          [
           0.556754471
          ],
          [
           0.960361937
          ],
          [
           0.631037864
          ],
          [
           0.029838065
          ],
          [
           0.278843351
          ],
          [
           0.926157705
          ],
          [
           0.551504258
          ],
          [
           0.485942349
          ],
          [
           0.43723469600000003
          ],
          [
           0.25231801800000003
          ],
          [
           0.515466972
          ],
          [
           0.43725229600000004
          ],
          [
           0.493724207
          ],
          [
           0.83324725
          ],
          [
           0.317521477
          ],
          [
           0.28623456199999997
          ],
          [
           0.726833965
          ],
          [
           0.495667033
          ],
          [
           0.028645255
          ],
          [
           0.31967191699999997
          ],
          [
           0.674344598
          ],
          [
           0.7660371890000001
          ],
          [
           0.65456992
          ],
          [
           0.7565143809999999
          ],
          [
           0.528253719
          ],
          [
           0.38971949100000003
          ],
          [
           0.355087459
          ],
          [
           0.87015202
          ],
          [
           0.7390833059999999
          ],
          [
           0.305761846
          ],
          [
           0.411587673
          ],
          [
           0.063633094
          ],
          [
           0.735409395
          ],
          [
           0.605916669
          ],
          [
           0.539395562
          ],
          [
           0.566183532
          ],
          [
           0.674795186
          ],
          [
           0.070993366
          ],
          [
           0.12526410000000002
          ],
          [
           0.279601492
          ],
          [
           0.952174402
          ],
          [
           0.233806762
          ],
          [
           0.43724742899999997
          ],
          [
           0.925423095
          ],
          [
           0.433498634
          ],
          [
           0.52517902
          ],
          [
           0.088435529
          ],
          [
           0.447677638
          ],
          [
           0.647000631
          ],
          [
           0.9036033370000001
          ],
          [
           0.265790738
          ],
          [
           0.66419695
          ],
          [
           0.498120658
          ],
          [
           0.49018894399999996
          ],
          [
           0.747084187
          ],
          [
           0.906783648
          ],
          [
           0.678770917
          ],
          [
           0.348599859
          ],
          [
           0.294839683
          ],
          [
           0.705691827
          ],
          [
           0.211917931
          ],
          [
           0.063201124
          ],
          [
           0.276699543
          ],
          [
           0.672459395
          ],
          [
           0.8082059490000001
          ],
          [
           0.296538373
          ],
          [
           0.16012686199999998
          ],
          [
           0.439385032
          ],
          [
           0.555951416
          ],
          [
           0.386240112
          ],
          [
           0.158689619
          ],
          [
           0.214499855
          ],
          [
           0.299579429
          ],
          [
           0.569161656
          ],
          [
           0.488614799
          ],
          [
           0.8782950209999999
          ],
          [
           0.649380949
          ],
          [
           0.465713341
          ],
          [
           0.16813774
          ],
          [
           0.87529545
          ],
          [
           0.8411323409999999
          ],
          [
           0.33292081
          ],
          [
           0.5130478589999999
          ],
          [
           0.30505507800000004
          ],
          [
           0.8126269909999999
          ],
          [
           0.25096706
          ],
          [
           0.5024355779999999
          ],
          [
           0.45799074100000003
          ]
         ],
         "hoverlabel": {
          "namelength": 0
         },
         "hovertemplate": "0=%{x}<br>1=%{y}<br>2=%{z}<br>Feature=%{customdata[0]}<br>Label=%{marker.color}",
         "legendgroup": "",
         "marker": {
          "color": [
           0,
           0,
           1,
           1,
           0,
           0,
           0,
           0,
           1,
           1,
           0,
           1,
           0,
           0,
           1,
           1,
           0,
           1,
           1,
           0,
           1,
           0,
           0,
           1,
           1,
           1,
           0,
           0,
           1,
           1,
           0,
           0,
           1,
           1,
           0,
           0,
           1,
           0,
           0,
           0,
           0,
           0,
           0,
           1,
           0,
           0,
           1,
           0,
           0,
           0,
           0,
           1,
           0,
           1,
           0,
           1,
           1,
           0,
           0,
           1,
           0,
           0,
           0,
           1,
           0,
           1,
           0,
           0,
           0,
           0,
           0,
           0,
           0,
           0,
           0,
           0,
           0,
           0,
           0,
           0,
           0,
           0,
           0,
           0,
           0,
           0,
           0,
           0,
           0,
           0,
           0,
           0,
           0,
           0,
           0,
           0,
           0,
           0,
           0,
           0,
           0,
           0,
           0,
           0,
           0,
           0,
           0,
           0,
           0,
           0,
           0,
           0,
           0,
           0,
           0,
           0,
           0,
           0,
           0,
           0,
           0,
           0,
           0,
           0,
           0,
           0,
           0,
           0,
           0,
           0,
           0,
           0,
           0,
           0,
           0,
           0,
           0,
           0,
           0,
           0,
           0,
           0,
           0,
           0,
           0,
           0,
           0,
           0,
           0,
           0,
           0,
           0,
           0,
           0,
           0,
           0,
           0,
           0,
           0,
           0,
           0,
           0,
           0,
           0,
           0,
           0,
           0,
           0,
           0,
           0,
           0,
           0,
           0,
           0,
           0,
           0,
           0,
           0,
           0,
           0,
           0,
           0,
           0,
           0,
           0,
           0,
           0,
           0,
           0,
           0,
           0,
           0,
           0,
           0,
           0,
           0,
           0,
           0,
           0,
           0,
           0,
           0,
           0,
           0,
           0,
           0,
           0,
           0,
           0,
           0,
           0,
           0,
           0,
           0,
           0,
           0,
           0,
           0,
           0,
           0,
           0,
           0,
           0,
           0,
           0,
           0,
           0,
           0,
           0,
           0,
           0,
           0,
           0,
           0,
           0,
           0,
           0,
           0,
           0,
           1,
           0,
           0,
           0,
           0,
           0,
           0,
           0,
           0,
           0,
           0,
           0,
           0,
           0,
           0,
           0,
           0,
           0,
           0,
           0,
           0,
           0,
           0,
           0,
           0,
           0,
           0,
           0,
           0,
           0,
           0,
           0,
           0,
           0,
           1,
           0,
           0,
           0,
           0,
           0,
           0,
           0,
           1,
           0,
           0,
           0,
           0,
           0,
           0,
           0,
           0,
           0,
           0,
           0,
           0,
           0,
           0,
           0,
           0,
           0,
           0,
           0,
           0,
           0,
           0,
           0,
           0,
           0,
           0,
           0,
           0,
           0,
           0,
           0,
           1,
           0,
           0,
           0,
           0,
           0,
           0,
           0,
           0,
           0,
           0,
           0,
           0,
           0,
           0,
           0,
           0,
           0,
           0,
           0,
           0,
           0,
           0,
           0,
           0,
           0,
           0,
           0,
           0,
           0,
           0,
           0,
           0,
           0,
           0,
           0,
           0,
           0,
           0,
           0,
           0,
           0,
           0,
           0,
           0,
           0,
           0,
           0,
           0,
           0,
           0,
           0,
           0,
           0,
           0,
           0,
           0,
           0,
           0,
           0,
           0,
           0,
           0,
           0,
           0,
           0,
           0,
           0,
           0,
           0,
           0,
           0,
           0,
           0,
           0,
           0,
           0,
           0,
           0,
           0,
           0,
           0,
           0,
           0,
           0,
           0,
           0,
           0,
           0,
           0,
           0,
           0,
           0,
           0,
           0,
           0,
           0,
           0,
           0,
           0,
           0,
           0,
           0,
           0,
           0,
           0,
           0,
           0,
           0,
           0,
           0,
           0,
           0,
           0,
           0,
           0,
           0,
           0,
           0,
           0,
           0,
           0,
           0,
           0,
           0,
           0,
           0,
           0,
           0,
           0,
           0,
           0,
           0,
           0,
           0,
           0,
           0,
           0,
           0,
           0,
           0,
           0,
           0,
           0,
           0,
           0,
           0,
           0,
           0,
           0,
           0,
           0,
           0,
           0,
           0,
           0,
           0,
           0,
           0,
           0,
           0,
           0,
           0,
           0,
           0,
           0,
           0,
           0,
           0,
           0,
           0,
           0,
           0,
           0,
           0,
           0,
           0,
           0,
           0,
           0,
           0,
           0,
           0,
           0,
           0,
           0,
           0,
           0,
           0,
           0,
           0,
           0,
           0,
           0,
           0,
           0,
           0,
           0,
           0,
           0,
           0,
           0,
           0,
           0,
           0,
           0,
           0,
           0,
           0,
           0,
           1,
           0,
           0,
           0,
           0,
           0,
           0,
           0,
           0,
           0,
           0,
           0,
           0,
           0,
           0,
           0,
           0,
           0,
           0,
           0,
           0,
           0,
           0,
           0,
           0,
           0,
           0,
           0,
           0,
           0,
           0,
           0,
           0,
           0,
           0,
           0,
           0,
           0,
           0,
           0,
           0,
           0,
           0,
           0,
           0,
           0,
           0,
           0,
           0,
           0,
           0,
           0,
           0,
           0,
           0,
           0,
           0,
           0,
           0,
           0,
           0,
           0,
           0,
           0,
           0,
           0,
           0,
           0,
           0,
           0,
           0,
           0,
           0,
           0,
           0,
           0,
           0,
           0,
           0,
           1,
           0,
           0,
           0,
           0,
           0,
           0,
           0,
           0,
           0,
           0,
           0,
           0,
           0,
           0,
           0,
           0,
           0,
           0,
           0,
           0,
           0,
           0,
           0,
           0,
           0,
           0,
           0,
           0,
           0,
           0,
           0,
           0,
           0,
           0,
           0,
           0,
           0,
           0,
           0,
           0,
           0,
           0,
           0,
           0,
           0,
           0,
           0,
           0,
           0,
           0,
           0,
           0,
           0,
           0,
           0,
           0,
           0,
           0,
           0,
           0,
           0,
           0,
           0,
           0,
           0,
           0,
           0,
           0,
           0,
           0,
           0,
           0,
           0,
           0,
           0,
           0,
           0,
           1,
           0,
           0,
           0,
           0,
           0,
           0,
           0,
           0,
           0,
           0,
           0,
           0,
           0,
           0,
           0,
           0,
           0,
           0,
           0,
           1,
           0,
           0,
           1,
           0,
           0,
           0,
           1,
           1,
           0,
           1,
           0,
           1,
           1,
           1,
           0,
           0,
           1,
           1,
           0,
           1,
           0,
           1,
           1,
           1,
           0,
           0,
           0,
           0,
           0,
           0,
           0,
           0,
           0,
           0,
           0,
           0,
           0,
           0,
           0,
           0,
           0,
           0,
           1,
           0,
           0,
           0,
           0,
           0,
           0,
           0,
           0,
           0,
           0,
           0,
           0,
           0,
           0,
           0,
           0,
           0,
           0,
           0,
           0,
           0,
           0,
           0,
           0,
           0,
           0,
           0,
           0,
           0,
           0,
           0,
           0,
           0,
           0,
           0,
           0,
           0,
           0,
           0,
           0,
           0,
           0,
           0,
           0,
           0,
           0,
           0,
           0,
           0,
           0,
           0,
           0,
           0,
           0,
           0,
           0,
           0,
           0,
           0,
           0,
           0,
           0,
           0,
           0,
           0,
           0,
           0,
           0,
           0,
           0,
           0,
           0,
           0,
           0,
           0,
           0,
           0,
           1,
           0,
           0,
           0,
           0,
           0,
           0,
           0,
           0,
           0,
           0,
           0,
           0,
           0,
           0,
           0,
           0,
           0,
           0,
           0,
           0,
           0,
           0,
           0,
           0,
           0,
           0,
           0,
           0,
           0,
           0,
           0,
           0,
           0,
           0,
           0,
           0,
           0,
           0,
           0,
           0,
           0,
           0,
           0,
           0,
           0,
           0,
           0,
           0,
           0,
           0,
           0,
           0,
           0,
           0,
           0,
           0,
           0,
           0,
           0,
           0,
           0,
           0,
           0,
           0,
           0,
           0,
           0,
           0,
           0,
           0,
           0,
           0,
           0,
           0,
           0,
           0,
           0,
           0,
           0,
           0,
           0,
           0,
           0,
           0,
           0,
           0,
           0,
           0,
           0,
           0,
           0,
           0,
           0,
           0,
           0,
           0,
           0,
           0,
           0,
           0,
           0,
           0,
           0,
           0,
           0,
           0,
           0,
           0,
           0,
           0,
           0,
           0,
           0,
           0,
           0,
           0,
           0,
           0,
           0,
           0,
           0,
           0,
           0,
           0,
           0,
           0,
           0,
           0,
           0,
           0,
           0,
           0,
           0,
           0,
           0,
           0,
           0,
           0,
           0,
           0,
           0,
           0,
           0,
           0,
           0,
           0,
           0,
           0,
           0,
           0,
           0,
           0,
           0,
           0,
           0,
           0,
           0,
           0,
           0,
           0,
           0,
           0,
           0,
           0,
           0,
           0,
           0,
           0,
           0,
           0,
           0,
           0,
           0,
           0,
           0,
           0,
           0,
           0
          ],
          "coloraxis": "coloraxis",
          "opacity": 0.7,
          "symbol": "circle"
         },
         "mode": "markers",
         "name": "",
         "scene": "scene",
         "showlegend": false,
         "type": "scatter3d",
         "x": [
          1.8713560104370117,
          -11.439574241638184,
          13.271452903747559,
          3.2051026821136475,
          17.955739974975586,
          0.3332439661026001,
          -14.003661155700684,
          5.016419887542725,
          -2.9533772468566895,
          -1.878661870956421,
          9.680658340454102,
          17.30192756652832,
          9.184420585632324,
          10.010374069213867,
          8.650851249694824,
          3.8741252422332764,
          9.189680099487305,
          -11.623967170715332,
          12.349785804748535,
          2.2860069274902344,
          -0.5591947436332703,
          5.83563232421875,
          11.038824081420898,
          -2.220764636993408,
          4.518170356750488,
          5.583648204803467,
          16.20589256286621,
          -6.06482458114624,
          8.64001178741455,
          7.641500473022461,
          -4.560690402984619,
          -9.528372764587402,
          5.765650749206543,
          7.598107814788818,
          -5.497290134429932,
          4.778469085693359,
          1.1712478399276733,
          -6.519089698791504,
          5.421244144439697,
          1.166884183883667,
          -15.466819763183594,
          7.035709857940674,
          -13.266530990600586,
          5.61476993560791,
          7.9229021072387695,
          3.4838144779205322,
          7.136571884155273,
          -2.527407646179199,
          17.0286865234375,
          -15.570621490478516,
          11.008308410644531,
          10.942060470581055,
          -6.2239813804626465,
          3.485992908477783,
          2.2809391021728516,
          -11.613775253295898,
          -0.06677018105983734,
          -5.041030406951904,
          7.40152645111084,
          12.258630752563477,
          -6.089344024658203,
          -7.780776500701904,
          12.538226127624512,
          6.59896993637085,
          -15.541668891906738,
          6.517185211181641,
          -10.915810585021973,
          -11.251687049865723,
          16.148582458496094,
          2.7796154022216797,
          10.306217193603516,
          5.660558700561523,
          4.400539398193359,
          6.9698872566223145,
          1.900038480758667,
          2.6944355964660645,
          14.247672080993652,
          9.42965030670166,
          3.3212575912475586,
          -0.1423947960138321,
          -0.05096578598022461,
          3.6806366443634033,
          13.300154685974121,
          -8.239903450012207,
          -11.897387504577637,
          -7.354671955108643,
          -12.1891450881958,
          -14.461090087890625,
          -4.170692443847656,
          6.361565113067627,
          4.559991836547852,
          9.41323184967041,
          -13.24079704284668,
          -15.743345260620117,
          -11.394815444946289,
          12.699065208435059,
          -8.87324333190918,
          -6.692358493804932,
          -5.921970367431641,
          13.71992301940918,
          5.368685722351074,
          -14.883018493652344,
          -7.082186698913574,
          -7.479924201965332,
          11.356163024902344,
          -3.497854471206665,
          -9.429957389831543,
          -8.472461700439453,
          1.0705243349075317,
          8.731708526611328,
          6.673709392547607,
          5.650968074798584,
          9.219757080078125,
          0.6786837577819824,
          15.915081024169922,
          5.589134216308594,
          -15.858603477478027,
          -16.032194137573242,
          4.664984226226807,
          -7.690738201141357,
          5.7881999015808105,
          -4.257259368896484,
          -7.3564348220825195,
          -14.281352996826172,
          0.44508183002471924,
          -9.749308586120605,
          -9.880733489990234,
          3.911621570587158,
          -11.478059768676758,
          -8.721007347106934,
          -3.5111379623413086,
          -8.428735733032227,
          10.046496391296387,
          -11.43879508972168,
          -15.831334114074707,
          0.06319019943475723,
          13.641556739807129,
          7.925920486450195,
          -10.420003890991211,
          -6.3398237228393555,
          7.418773651123047,
          5.4885125160217285,
          -6.9812774658203125,
          15.041011810302734,
          -7.961916923522949,
          -1.2258409261703491,
          5.150580406188965,
          -13.143681526184082,
          -10.98830509185791,
          -6.659332275390625,
          7.308524131774902,
          2.6397314071655273,
          -4.279012680053711,
          -7.603296756744385,
          5.23834753036499,
          -9.648860931396484,
          -15.838025093078613,
          -15.493481636047363,
          5.501004695892334,
          4.861358642578125,
          -15.076250076293945,
          -5.419862270355225,
          4.215892791748047,
          2.1361143589019775,
          3.4128756523132324,
          -16.20313835144043,
          7.627652168273926,
          8.243988037109375,
          11.523947715759277,
          0.8111326098442078,
          -9.817951202392578,
          -5.986565589904785,
          4.57427453994751,
          14.214310646057129,
          -1.8205387592315674,
          -14.549030303955078,
          3.551363706588745,
          13.363454818725586,
          -10.490635871887207,
          6.49542236328125,
          -3.721359968185425,
          5.031826019287109,
          -7.862856388092041,
          6.830195426940918,
          7.7104573249816895,
          -16.610652923583984,
          8.36729621887207,
          -4.463042259216309,
          -0.26910853385925293,
          3.1669068336486816,
          -13.836483001708984,
          15.992767333984375,
          8.839404106140137,
          15.233006477355957,
          -16.55335807800293,
          -13.9136962890625,
          -4.593555450439453,
          -7.192640781402588,
          6.384410858154297,
          0.11296211928129196,
          -2.8926596641540527,
          -6.2166852951049805,
          -10.689793586730957,
          13.91647720336914,
          14.156452178955078,
          -9.402196884155273,
          -0.7608729004859924,
          -2.989037036895752,
          4.2551774978637695,
          -10.192328453063965,
          -1.8134806156158447,
          9.738412857055664,
          11.207964897155762,
          6.036236763000488,
          -4.208428859710693,
          -3.0171847343444824,
          -10.35115909576416,
          9.269725799560547,
          11.371830940246582,
          -5.295250415802002,
          14.65870475769043,
          -8.91842269897461,
          13.994860649108887,
          1.417145848274231,
          -17.049428939819336,
          -1.005440354347229,
          -12.432036399841309,
          0.7684140205383301,
          -16.213382720947266,
          9.482759475708008,
          -13.76813793182373,
          -13.365452766418457,
          6.519932270050049,
          7.4416069984436035,
          -17.80887794494629,
          -8.54861068725586,
          -5.041591644287109,
          2.617025136947632,
          3.894355297088623,
          12.917333602905273,
          -3.2529706954956055,
          -5.911289691925049,
          11.243326187133789,
          -13.461709022521973,
          4.175283908843994,
          -16.722124099731445,
          -0.0913786068558693,
          4.846302032470703,
          -11.928471565246582,
          12.066539764404297,
          -5.222586154937744,
          -4.5125579833984375,
          5.6131110191345215,
          -5.606558322906494,
          -2.981027364730835,
          -1.446439266204834,
          0.9570376873016357,
          -15.520817756652832,
          9.7188138961792,
          -7.357863903045654,
          12.118673324584961,
          -5.380966663360596,
          15.67825984954834,
          -3.5493626594543457,
          -5.224557876586914,
          -13.100329399108887,
          8.835189819335938,
          -15.553401947021484,
          1.1233997344970703,
          -5.16866397857666,
          -7.427371978759766,
          -12.886905670166016,
          2.0217089653015137,
          11.384064674377441,
          3.513511896133423,
          -9.24878978729248,
          12.050680160522461,
          16.151357650756836,
          -8.462946891784668,
          -0.5008930563926697,
          -12.990987777709961,
          11.235367774963379,
          -0.8749173879623413,
          1.2576175928115845,
          15.30714225769043,
          -10.460068702697754,
          -10.758625030517578,
          -9.162412643432617,
          -15.295768737792969,
          5.6734418869018555,
          7.025306701660156,
          -9.585744857788086,
          -9.061511039733887,
          -10.374262809753418,
          -8.530816078186035,
          6.863100051879883,
          4.55479621887207,
          1.7971919775009155,
          -8.104915618896484,
          1.7619543075561523,
          -7.78785514831543,
          -16.645767211914062,
          9.487563133239746,
          4.358670711517334,
          3.047145128250122,
          4.5124382972717285,
          -6.562716960906982,
          3.901996612548828,
          -14.628576278686523,
          7.354846477508545,
          7.0944390296936035,
          -13.224365234375,
          5.73808479309082,
          12.468994140625,
          -5.213377952575684,
          2.604696273803711,
          0.6170419454574585,
          -13.410547256469727,
          4.0223541259765625,
          -11.188326835632324,
          -7.658796310424805,
          2.0181713104248047,
          5.711272239685059,
          -6.998416423797607,
          7.456675052642822,
          3.8776745796203613,
          10.198164939880371,
          8.51130485534668,
          10.049298286437988,
          3.105762243270874,
          -15.822525978088379,
          10.757028579711914,
          -7.884997844696045,
          -8.989760398864746,
          -14.357857704162598,
          13.242463111877441,
          -9.518878936767578,
          -0.437703937292099,
          8.219390869140625,
          11.120071411132812,
          0.33252808451652527,
          0.11181367188692093,
          4.772519588470459,
          -8.056716918945312,
          5.49094820022583,
          11.597765922546387,
          -11.369604110717773,
          -15.839972496032715,
          4.274549961090088,
          10.30433464050293,
          -4.087711811065674,
          1.1620782613754272,
          -6.567281246185303,
          -12.728795051574707,
          -10.822129249572754,
          0.4039539396762848,
          -5.802523612976074,
          -9.070728302001953,
          12.779132843017578,
          5.733383655548096,
          -9.866317749023438,
          -7.200528144836426,
          -3.2069830894470215,
          -13.666918754577637,
          5.40975284576416,
          4.101113796234131,
          9.958595275878906,
          -17.512012481689453,
          -15.753064155578613,
          -8.830282211303711,
          -13.165708541870117,
          -3.423963785171509,
          15.28995132446289,
          9.844076156616211,
          5.677893161773682,
          -13.77151107788086,
          3.209561824798584,
          3.0005929470062256,
          -11.702179908752441,
          4.972652435302734,
          5.778842926025391,
          -4.4934587478637695,
          1.7972444295883179,
          3.306532621383667,
          -9.685858726501465,
          -8.585118293762207,
          -8.660189628601074,
          -7.824021816253662,
          -0.4091295599937439,
          6.682835578918457,
          -11.064205169677734,
          -8.60086441040039,
          3.104877471923828,
          2.330341100692749,
          -6.510017395019531,
          -12.675797462463379,
          -3.3174221515655518,
          4.069084644317627,
          4.144203186035156,
          -0.9161693453788757,
          -7.441130638122559,
          -8.863788604736328,
          -12.91645336151123,
          -8.823769569396973,
          5.969611167907715,
          -15.33404541015625,
          12.895462036132812,
          -3.5265612602233887,
          5.845943450927734,
          -6.507192134857178,
          -11.402828216552734,
          4.309059143066406,
          11.246814727783203,
          4.11332368850708,
          -10.069464683532715,
          -13.22378921508789,
          -14.356435775756836,
          -12.3419771194458,
          8.703897476196289,
          11.67449951171875,
          6.78900146484375,
          -10.123613357543945,
          -8.892624855041504,
          -9.308439254760742,
          11.897564888000488,
          -15.885720252990723,
          -13.98122787475586,
          3.2109339237213135,
          3.8993489742279053,
          13.865743637084961,
          5.20433235168457,
          -15.596392631530762,
          -8.051371574401855,
          2.8245468139648438,
          10.930624961853027,
          -3.586827039718628,
          -9.450024604797363,
          14.418173789978027,
          1.5182373523712158,
          14.408013343811035,
          -2.779953956604004,
          3.4589972496032715,
          15.054181098937988,
          15.196477890014648,
          -2.831136703491211,
          4.477622032165527,
          9.254101753234863,
          -9.301373481750488,
          11.349302291870117,
          4.174198627471924,
          -9.69539737701416,
          14.122648239135742,
          -13.90827465057373,
          4.2190423011779785,
          8.887014389038086,
          -10.42755126953125,
          -0.8612598776817322,
          13.168888092041016,
          3.3746447563171387,
          4.474456310272217,
          -9.982486724853516,
          14.277509689331055,
          -12.969563484191895,
          1.926207423210144,
          -2.8705761432647705,
          4.532472133636475,
          0.6727942228317261,
          8.781403541564941,
          -16.021936416625977,
          12.088286399841309,
          6.153010845184326,
          -9.124809265136719,
          -12.644845008850098,
          0.6393264532089233,
          -13.491409301757812,
          -16.70635414123535,
          -13.284217834472656,
          5.65325403213501,
          -0.49994608759880066,
          -12.1910982131958,
          -14.356735229492188,
          -8.633868217468262,
          2.572864532470703,
          13.489026069641113,
          -15.97445011138916,
          14.738641738891602,
          -4.815129280090332,
          3.641483783721924,
          0.3867979943752289,
          13.846752166748047,
          4.011260509490967,
          7.3651251792907715,
          6.622781276702881,
          10.14116382598877,
          11.626712799072266,
          4.724877834320068,
          -6.665614128112793,
          5.749556541442871,
          -7.853810787200928,
          7.2790751457214355,
          -10.215139389038086,
          -5.330626487731934,
          4.897027492523193,
          -4.241337776184082,
          3.4153950214385986,
          13.387869834899902,
          3.451575994491577,
          -14.665940284729004,
          4.144099712371826,
          5.470266819000244,
          17.010324478149414,
          -15.717337608337402,
          -5.402752876281738,
          10.445329666137695,
          2.278656244277954,
          -10.564613342285156,
          -6.34514856338501,
          3.51900577545166,
          -3.801565647125244,
          -6.172749042510986,
          5.478125095367432,
          12.314237594604492,
          8.62879753112793,
          9.8565092086792,
          11.896479606628418,
          -16.32756233215332,
          2.5047783851623535,
          -16.66152572631836,
          -1.7555831670761108,
          2.609619379043579,
          -6.884984016418457,
          9.932205200195312,
          6.310445785522461,
          -12.592873573303223,
          6.969644069671631,
          6.495116710662842,
          -7.106186866760254,
          14.56004524230957,
          -1.5538314580917358,
          -5.641528606414795,
          -6.009243965148926,
          4.411035060882568,
          -11.223219871520996,
          -11.320878028869629,
          -16.146921157836914,
          7.092999458312988,
          -2.332914352416992,
          4.778066635131836,
          4.167285442352295,
          -1.3507802486419678,
          -9.54466724395752,
          1.1549664735794067,
          15.15778636932373,
          5.414280891418457,
          -8.92320728302002,
          -8.507794380187988,
          6.292609691619873,
          3.461162567138672,
          9.20388126373291,
          -1.2697008848190308,
          15.781661987304688,
          11.372669219970703,
          -9.728148460388184,
          8.100895881652832,
          -9.740260124206543,
          -0.1587802618741989,
          -14.702203750610352,
          -5.066007614135742,
          5.738998889923096,
          7.335294246673584,
          2.563089609146118,
          7.534558296203613,
          5.261593341827393,
          10.64545726776123,
          -9.289448738098145,
          8.780661582946777,
          -12.683906555175781,
          -14.885323524475098,
          1.348211407661438,
          6.078516483306885,
          5.9071149826049805,
          4.808262348175049,
          10.357478141784668,
          -12.861783981323242,
          -14.760912895202637,
          -0.9094112515449524,
          2.632770538330078,
          -10.23031234741211,
          -17.204227447509766,
          9.874838829040527,
          -9.068097114562988,
          -12.219423294067383,
          -1.4633526802062988,
          5.780454635620117,
          -3.5153093338012695,
          -6.359920501708984,
          4.7327423095703125,
          10.988985061645508,
          2.911297082901001,
          14.829573631286621,
          6.592135429382324,
          -3.6092231273651123,
          5.674569129943848,
          -14.970603942871094,
          4.130615234375,
          -10.482529640197754,
          8.169583320617676,
          12.320083618164062,
          -8.356402397155762,
          -7.847275257110596,
          8.307137489318848,
          6.001008987426758,
          6.301594257354736,
          1.4862570762634277,
          1.4131983518600464,
          -10.711578369140625,
          -4.527756690979004,
          -5.182190418243408,
          0.4856182634830475,
          2.3141400814056396,
          -2.671035051345825,
          -7.024121284484863,
          -5.372997760772705,
          -3.959005832672119,
          10.101783752441406,
          8.165095329284668,
          -15.434173583984375,
          16.96875,
          -4.403365612030029,
          2.1741864681243896,
          -3.729597568511963,
          -7.20466423034668,
          3.3976945877075195,
          12.77596378326416,
          6.401378631591797,
          -1.3025035858154297,
          -2.488090991973877,
          -3.0556445121765137,
          8.520865440368652,
          -4.096610069274902,
          13.946499824523926,
          -10.131670951843262,
          -13.93056869506836,
          4.86944580078125,
          11.895402908325195,
          5.1476054191589355,
          12.014683723449707,
          0.010113323107361794,
          6.149589538574219,
          2.204435348510742,
          -12.376306533813477,
          -14.099228858947754,
          -4.491103172302246,
          8.200386047363281,
          -15.031407356262207,
          -10.68356990814209,
          13.715011596679688,
          0.9455547332763672,
          -6.52827262878418,
          8.859362602233887,
          8.928065299987793,
          -6.319674968719482,
          -2.7995028495788574,
          1.8988137245178223,
          4.54439640045166,
          -5.013025760650635,
          7.709393501281738,
          -11.597098350524902,
          -7.329056262969971,
          -14.257523536682129,
          -6.238428115844727,
          -0.29781970381736755,
          -6.569861888885498,
          -4.69838285446167,
          4.3111395835876465,
          -10.407410621643066,
          -10.347633361816406,
          8.066498756408691,
          4.215394496917725,
          -11.384005546569824,
          10.944442749023438,
          -13.226340293884277,
          0.4829181432723999,
          4.331170558929443,
          -9.424797058105469,
          -14.717879295349121,
          -2.0994532108306885,
          -15.709029197692871,
          9.35354995727539,
          8.42453384399414,
          12.168863296508789,
          6.255814075469971,
          11.464982032775879,
          -3.900564432144165,
          9.95366096496582,
          6.453433990478516,
          4.966201305389404,
          -1.2193557024002075,
          4.7016801834106445,
          8.410573959350586,
          -5.573192596435547,
          -7.483329772949219,
          10.040776252746582,
          8.629627227783203,
          -1.7317039966583252,
          -11.802041053771973,
          9.913872718811035,
          11.531522750854492,
          -1.6201759576797485,
          5.976363182067871,
          7.35207462310791,
          -15.055439949035645,
          1.1380480527877808,
          5.5953826904296875,
          -2.837581157684326,
          2.612170696258545,
          0.054702650755643845,
          2.8200366497039795,
          -2.839500904083252,
          -10.864083290100098,
          12.426433563232422,
          -16.509780883789062,
          -3.99068284034729,
          10.873388290405273,
          -0.07409969717264175,
          5.797286510467529,
          4.613099098205566,
          7.110186576843262,
          5.262989521026611,
          0.9265961050987244,
          -1.9038188457489014,
          15.200157165527344,
          -4.069673538208008,
          -4.394414901733398,
          -1.2859101295471191,
          8.831576347351074,
          5.62431526184082,
          2.6981325149536133,
          2.6049535274505615,
          8.64694595336914,
          -6.540297508239746,
          2.6118102073669434,
          1.7186915874481201,
          8.123455047607422,
          4.386177062988281,
          1.864145040512085,
          7.134634971618652,
          8.332035064697266,
          13.303800582885742,
          9.527579307556152,
          -10.79422378540039,
          15.201155662536621,
          -11.925101280212402,
          -16.562511444091797,
          -13.14721965789795,
          13.934775352478027,
          -0.26430749893188477,
          -5.767678737640381,
          10.711830139160156,
          -15.046500205993652,
          7.362391948699951,
          -6.458583831787109,
          -11.077104568481445,
          -16.009803771972656,
          2.7123703956604004,
          -16.877103805541992,
          -15.428666114807129,
          15.938817977905273,
          -13.379013061523438,
          16.597225189208984,
          -0.2645207345485687,
          -0.508751392364502,
          -2.8666326999664307,
          -13.59920597076416,
          3.12532639503479,
          -12.58778190612793,
          -4.455942153930664,
          -4.700981616973877,
          3.5357296466827393,
          2.594273328781128,
          3.888652801513672,
          -16.00285530090332,
          -6.349677085876465,
          7.060439586639404,
          4.518207550048828,
          8.659865379333496,
          -7.4794158935546875,
          3.842313289642334,
          0.9966557621955872,
          -1.9960253238677979,
          5.975255489349365,
          1.46068274974823,
          9.105144500732422,
          4.5153350830078125,
          -16.776981353759766,
          -8.349632263183594,
          -11.485330581665039,
          11.933075904846191,
          4.143474578857422,
          -12.601399421691895,
          -2.67673659324646,
          -4.272829532623291,
          -2.743143320083618,
          -11.275733947753906,
          13.622115135192871,
          -15.737444877624512,
          -10.299357414245605,
          -8.071976661682129,
          7.868528842926025,
          -12.763201713562012,
          13.927913665771484,
          6.926505088806152,
          3.709756851196289,
          5.92539644241333,
          -6.504510879516602,
          11.231419563293457,
          -7.070037364959717,
          7.301365852355957,
          3.2468583583831787,
          5.17351770401001,
          8.290262222290039,
          12.034502029418945,
          2.2970826625823975,
          -7.527389049530029,
          -5.151820182800293,
          -9.50212287902832,
          7.923152923583984,
          0.5021904110908508,
          3.6460258960723877,
          10.26319694519043,
          -8.432830810546875,
          5.082218170166016,
          12.471319198608398,
          6.911044120788574,
          13.428675651550293,
          3.3837409019470215,
          15.938786506652832,
          15.821779251098633,
          7.266340732574463,
          -9.247528076171875,
          4.548935413360596,
          -7.24073600769043,
          5.361588954925537,
          -8.9855318069458,
          -14.330365180969238,
          6.255629062652588,
          -5.903472423553467,
          4.648274898529053,
          7.006267070770264,
          0.5287660360336304,
          6.045745372772217,
          6.678891181945801,
          -8.34537124633789,
          5.001999855041504,
          -1.1869431734085083,
          -5.689245223999023,
          -2.2414052486419678,
          6.698071002960205,
          0.14677967131137848,
          9.146588325500488,
          5.430554389953613,
          -0.6603881120681763,
          -0.4775536060333252,
          7.603775501251221,
          -6.1855597496032715,
          7.842170715332031,
          -16.47679901123047,
          -1.599976658821106,
          4.153550148010254,
          5.619462013244629,
          6.031991004943848,
          -9.785815238952637,
          -12.135442733764648,
          7.184854030609131,
          -12.317092895507812,
          -10.797733306884766,
          -6.273238658905029,
          -4.627346992492676,
          0.5676403045654297,
          12.886579513549805,
          6.47085428237915,
          5.695971965789795,
          -0.2944164276123047,
          7.130321502685547,
          4.423521518707275,
          9.142062187194824,
          2.8600778579711914,
          -8.834976196289062,
          1.3561698198318481,
          6.427406311035156,
          14.190696716308594,
          7.227906227111816,
          11.01237678527832,
          -0.032020099461078644,
          6.8256754875183105,
          3.48922061920166,
          0.5483145713806152,
          -15.284624099731445,
          -1.392903447151184,
          -3.559319019317627,
          -8.807047843933105,
          -5.990726470947266,
          -12.020013809204102,
          7.988809585571289,
          7.318617343902588,
          13.995153427124023,
          4.654411792755127,
          -10.1266450881958,
          10.53645133972168,
          1.8506457805633545,
          -9.646778106689453,
          -10.32746696472168,
          -13.44887924194336,
          2.073563814163208,
          8.197893142700195,
          17.109085083007812,
          -0.4922810196876526,
          -7.582129001617432,
          6.809958457946777,
          9.593626022338867,
          6.340089321136475,
          10.05489730834961,
          -6.611089706420898,
          0.04746944084763527,
          -5.309062957763672,
          7.600822448730469,
          -13.303733825683594,
          0.03463394194841385,
          -8.085404396057129,
          -5.86885929107666,
          17.34491539001465,
          -9.206859588623047,
          -11.781494140625,
          8.557683944702148,
          4.42558479309082,
          13.317347526550293,
          -9.267163276672363,
          13.238764762878418,
          -10.522875785827637,
          8.648432731628418,
          12.456310272216797,
          -4.073691368103027,
          2.8147315979003906,
          6.072877883911133,
          4.3074493408203125,
          9.538125038146973,
          3.8313825130462646,
          2.5905914306640625,
          -8.37195873260498,
          -14.225576400756836,
          -0.9238783717155457,
          -3.9956395626068115,
          6.924090385437012,
          6.348633289337158,
          -7.091167449951172,
          -14.312084197998047,
          9.709681510925293,
          7.957313060760498,
          6.910080432891846,
          -4.547340393066406,
          -17.413955688476562,
          -10.18366527557373,
          12.877084732055664,
          3.689754009246826,
          1.2024621963500977,
          -16.081981658935547,
          -9.733696937561035,
          5.420286178588867,
          8.119433403015137,
          -7.872314453125,
          11.15913200378418,
          5.613925457000732,
          -0.02338401786983013,
          16.878700256347656,
          -0.17276480793952942,
          -13.955072402954102,
          -12.732111930847168,
          11.146186828613281,
          -3.9703445434570312,
          3.6511316299438477,
          8.37268352508545,
          5.687257766723633,
          1.21321702003479,
          -16.218582153320312,
          10.380179405212402,
          -9.032872200012207,
          -4.3421101570129395,
          4.644542217254639,
          7.365978240966797,
          15.424272537231445,
          4.328152656555176,
          4.237756729125977,
          5.363653659820557,
          13.23974609375,
          9.040657997131348,
          0.26546549797058105,
          -8.858174324035645,
          0.5724627375602722,
          3.1573903560638428,
          15.528197288513184
         ],
         "y": [
          -8.324737548828125,
          -0.0702325850725174,
          -0.5151734948158264,
          8.690438270568848,
          -1.547755241394043,
          7.075807571411133,
          4.890262603759766,
          4.922050952911377,
          -7.583033561706543,
          -9.25861644744873,
          13.333876609802246,
          2.6589691638946533,
          7.558564186096191,
          -6.506689071655273,
          -2.9689218997955322,
          -1.739302635192871,
          7.725864887237549,
          -5.804253101348877,
          0.021586604416370392,
          6.073151111602783,
          7.063941955566406,
          -5.1957106590271,
          -5.341568470001221,
          -7.351661682128906,
          5.096775054931641,
          -3.6333611011505127,
          1.7962473630905151,
          -5.263546943664551,
          -4.563555717468262,
          0.7236289978027344,
          -5.560493469238281,
          3.723909378051758,
          -7.751112937927246,
          -2.505058765411377,
          0.4163154363632202,
          -4.063047885894775,
          6.126082420349121,
          -5.362508773803711,
          -7.527187347412109,
          6.535043239593506,
          2.30776309967041,
          0.2193884700536728,
          -3.068620443344116,
          5.713608741760254,
          -0.44461244344711304,
          -1.5821986198425293,
          -1.0878461599349976,
          -7.203324794769287,
          2.4363014698028564,
          -1.2625491619110107,
          8.619194984436035,
          0.21305027604103088,
          -2.025310754776001,
          -1.564863681793213,
          7.59559440612793,
          8.976811408996582,
          7.129286766052246,
          3.894047737121582,
          -1.8665179014205933,
          2.2040979862213135,
          4.2891387939453125,
          -0.43082499504089355,
          5.362869739532471,
          0.639213502407074,
          -2.5015387535095215,
          -1.495829463005066,
          3.3421669006347656,
          -6.126316547393799,
          1.6243535280227661,
          4.0348663330078125,
          0.2361268550157547,
          5.099170684814453,
          -8.798558235168457,
          8.563140869140625,
          -4.5395660400390625,
          -2.7333481311798096,
          1.0024056434631348,
          2.890871524810791,
          -9.45089054107666,
          -7.701306343078613,
          -6.828802108764648,
          -2.7327260971069336,
          -2.9261176586151123,
          -0.4197346866130829,
          3.7800540924072266,
          0.12408719956874847,
          -1.4667359590530396,
          -0.27250513434410095,
          2.831982374191284,
          -3.923050880432129,
          -5.686758041381836,
          11.35297679901123,
          -4.268337249755859,
          4.741515159606934,
          6.470818042755127,
          3.8441500663757324,
          -3.5831210613250732,
          0.4049256443977356,
          -6.490517616271973,
          0.056094128638505936,
          -8.286600112915039,
          0.4783664643764496,
          -0.20573556423187256,
          -1.4262721538543701,
          5.042197227478027,
          -6.586485385894775,
          -2.6254124641418457,
          4.449365615844727,
          -5.236805438995361,
          2.0260062217712402,
          -2.013242483139038,
          -6.652071952819824,
          11.202455520629883,
          -2.762997627258301,
          -1.0451505184173584,
          -2.9132680892944336,
          5.880673885345459,
          4.937282562255859,
          9.137243270874023,
          -6.421710014343262,
          -3.1288585662841797,
          0.5249893069267273,
          3.3527302742004395,
          -1.3048744201660156,
          -1.598382592201233,
          0.9166331887245178,
          6.325082302093506,
          7.311026573181152,
          3.089017629623413,
          0.9002025723457336,
          3.080360174179077,
          -2.871452808380127,
          8.336760520935059,
          5.620716571807861,
          0.931858479976654,
          -4.370095729827881,
          -3.348599672317505,
          7.3641252517700195,
          2.250699281692505,
          -2.353954553604126,
          9.322943687438965,
          -2.386897087097168,
          -0.660060465335846,
          -2.4539318084716797,
          -6.638559341430664,
          -8.240957260131836,
          3.4345829486846924,
          1.6181741952896118,
          1.6198304891586304,
          -3.296738624572754,
          -2.262485980987549,
          -3.072942018508911,
          1.990195631980896,
          -0.002541367895901203,
          -6.341429233551025,
          -4.527962684631348,
          -2.0590035915374756,
          0.07407787442207336,
          -6.752069473266602,
          8.384957313537598,
          6.816992282867432,
          3.1040806770324707,
          -6.1948747634887695,
          -10.324384689331055,
          7.508854866027832,
          0.20253053307533264,
          8.49631118774414,
          -0.7866905331611633,
          0.18751324713230133,
          -1.1124945878982544,
          -2.2383596897125244,
          0.21558085083961487,
          5.447627067565918,
          -2.1883738040924072,
          -1.0170247554779053,
          -0.4090639352798462,
          7.241109848022461,
          -1.8247445821762085,
          2.1347906589508057,
          7.4771504402160645,
          0.546949028968811,
          2.965346097946167,
          3.67450213432312,
          0.5494009256362915,
          -0.46205201745033264,
          5.927703857421875,
          2.3470544815063477,
          2.9419453144073486,
          -6.485179424285889,
          -3.7309954166412354,
          1.265815258026123,
          -2.084702253341675,
          12.01779556274414,
          -1.5375490188598633,
          1.398528814315796,
          6.524574279785156,
          1.4659663438796997,
          5.0702223777771,
          -9.307733535766602,
          -1.5266284942626953,
          0.8120876550674438,
          -2.3563599586486816,
          7.216076374053955,
          -2.5059385299682617,
          -0.881562352180481,
          4.331971168518066,
          -10.329240798950195,
          1.5203269720077515,
          3.2730512619018555,
          4.4681830406188965,
          -0.5461371541023254,
          4.484105587005615,
          1.5381180047988892,
          -2.9600179195404053,
          0.5749038457870483,
          1.6337289810180664,
          3.711794137954712,
          4.329457759857178,
          3.147040605545044,
          -3.7394933700561523,
          -0.8076735734939575,
          1.7215211391448975,
          -1.5498733520507812,
          -6.46996545791626,
          0.7628006339073181,
          -9.755779266357422,
          -1.4604558944702148,
          -7.421269416809082,
          1.4962135553359985,
          6.1486406326293945,
          5.10101842880249,
          -4.013832092285156,
          7.204299449920654,
          7.377665042877197,
          4.067262649536133,
          2.0457608699798584,
          -8.271103858947754,
          -3.274384021759033,
          6.9947123527526855,
          -2.6087584495544434,
          1.7710717916488647,
          3.540442705154419,
          -1.6486694812774658,
          1.0024946928024292,
          3.6708009243011475,
          0.38934797048568726,
          -4.7032904624938965,
          -8.471809387207031,
          -1.1553946733474731,
          -4.613948345184326,
          1.8059217929840088,
          -2.1008431911468506,
          5.0974249839782715,
          2.97943377494812,
          -7.42988920211792,
          -5.488781452178955,
          -6.9575276374816895,
          2.098562717437744,
          6.25171422958374,
          -6.647915363311768,
          -2.639934778213501,
          2.016420841217041,
          -2.8774869441986084,
          -0.5032246708869934,
          0.11198634654283524,
          0.9063344597816467,
          6.437977313995361,
          3.1298413276672363,
          -5.32285213470459,
          4.899569511413574,
          4.026096820831299,
          6.134524345397949,
          -4.115997791290283,
          -2.752387285232544,
          8.382644653320312,
          2.4782373905181885,
          3.7236275672912598,
          -1.9667736291885376,
          3.579695224761963,
          -6.326190948486328,
          -1.5292812585830688,
          -2.669485092163086,
          -7.686697483062744,
          -3.6808533668518066,
          -0.5835034251213074,
          1.4773590564727783,
          -6.009894847869873,
          1.7747005224227905,
          1.1192353963851929,
          -9.812679290771484,
          -2.8662946224212646,
          4.588206768035889,
          -2.903097629547119,
          1.400339961051941,
          -0.3665425181388855,
          11.272597312927246,
          4.077470302581787,
          -10.141303062438965,
          -2.2393999099731445,
          -6.660568714141846,
          -0.3456384241580963,
          3.385906934738159,
          0.8835574984550476,
          4.409417152404785,
          3.6123087406158447,
          -5.196340084075928,
          2.0155282020568848,
          -5.2386579513549805,
          1.9527523517608643,
          -0.46173080801963806,
          -0.25348854064941406,
          2.99438214302063,
          3.1221818923950195,
          -2.790938377380371,
          3.558882236480713,
          -7.016670227050781,
          -1.4068020582199097,
          3.2813425064086914,
          -5.938191890716553,
          6.758420467376709,
          0.22434182465076447,
          -5.337151050567627,
          6.24075174331665,
          -1.0294115543365479,
          -5.04573392868042,
          -5.046788692474365,
          5.5161895751953125,
          5.533462047576904,
          -0.7637027502059937,
          4.838677883148193,
          3.1970160007476807,
          4.794585227966309,
          2.656463384628296,
          -3.805129051208496,
          -0.7214980125427246,
          0.2969720661640167,
          1.4346719980239868,
          -4.740614414215088,
          2.3097727298736572,
          4.982421875,
          -5.4785542488098145,
          -9.643741607666016,
          9.217370986938477,
          0.7617995142936707,
          4.928015232086182,
          -1.7452565431594849,
          6.41417121887207,
          2.943108558654785,
          7.692745685577393,
          4.944807529449463,
          -3.010831117630005,
          -4.582510471343994,
          -6.463454246520996,
          5.945487022399902,
          -6.0346269607543945,
          -9.573124885559082,
          -0.7322442531585693,
          0.2923301160335541,
          2.854152202606201,
          -4.265017986297607,
          0.19570554792881012,
          1.1020547151565552,
          -5.2818121910095215,
          0.9187940359115601,
          6.806973934173584,
          -6.573225021362305,
          0.7342680096626282,
          4.427649974822998,
          1.8168585300445557,
          5.175753116607666,
          -3.9678680896759033,
          1.7822295427322388,
          0.11163699626922607,
          1.176283836364746,
          6.292819499969482,
          -2.1572811603546143,
          -4.1566925048828125,
          4.580325126647949,
          6.8136210441589355,
          -2.9923031330108643,
          6.783133029937744,
          -2.3171346187591553,
          -3.8981516361236572,
          -9.408599853515625,
          0.40023273229599,
          -3.5259063243865967,
          -3.017638683319092,
          -3.2552618980407715,
          -1.3322689533233643,
          -6.925111293792725,
          0.6686655879020691,
          -4.022799491882324,
          -5.084750175476074,
          -3.4154727458953857,
          -5.309436798095703,
          6.103415012359619,
          -6.126646041870117,
          3.809366226196289,
          -5.9691314697265625,
          -4.798524379730225,
          -6.289410591125488,
          1.8125280141830444,
          3.01684308052063,
          3.7653932571411133,
          2.635525703430176,
          4.035552024841309,
          0.753138542175293,
          -2.7537078857421875,
          8.254197120666504,
          3.9462790489196777,
          0.45795848965644836,
          -2.9788146018981934,
          3.580137252807617,
          -5.895570278167725,
          4.8645405769348145,
          -3.4698095321655273,
          -1.6283851861953735,
          2.3083341121673584,
          5.888943672180176,
          -1.3345874547958374,
          -6.848012447357178,
          -2.0714967250823975,
          1.9787849187850952,
          -0.1610460728406906,
          0.5194038152694702,
          0.8983122706413269,
          4.656323432922363,
          4.168842792510986,
          -8.56859302520752,
          1.0454092025756836,
          -2.855607032775879,
          6.2129645347595215,
          -0.2589612901210785,
          4.967837333679199,
          0.6434594392776489,
          -0.2668101489543915,
          -7.0039896965026855,
          -0.4562762379646301,
          -5.740617275238037,
          -0.11642736941576004,
          -6.726737976074219,
          -9.496208190917969,
          -0.70582515001297,
          1.0750775337219238,
          2.476544141769409,
          7.209360122680664,
          1.3590645790100098,
          1.1090742349624634,
          -3.3532369136810303,
          2.002661943435669,
          1.2881518602371216,
          -2.720963716506958,
          -1.569838285446167,
          -5.319453716278076,
          11.51838493347168,
          6.432944297790527,
          -3.083143949508667,
          -3.023773431777954,
          -8.647443771362305,
          -9.140968322753906,
          -0.06831188499927521,
          0.07093855738639832,
          -2.7424211502075195,
          -9.984533309936523,
          -5.190940856933594,
          -5.547101974487305,
          -5.350883960723877,
          2.1845459938049316,
          0.39895766973495483,
          -0.48989763855934143,
          -3.65350341796875,
          -5.854979038238525,
          -1.798338770866394,
          -4.3195366859436035,
          -2.6839096546173096,
          1.5385855436325073,
          6.145979881286621,
          5.78086519241333,
          -5.691009044647217,
          0.5995465517044067,
          0.8717679381370544,
          0.6250641345977783,
          2.8427748680114746,
          0.15258640050888062,
          6.07191801071167,
          0.08825957775115967,
          0.609978437423706,
          -9.19835376739502,
          -5.2296295166015625,
          -3.39286732673645,
          -7.476260662078857,
          11.740568161010742,
          6.450398921966553,
          0.600090742111206,
          -1.2311712503433228,
          3.0730857849121094,
          4.3889546394348145,
          9.443451881408691,
          0.41826438903808594,
          -4.443273067474365,
          2.321550130844116,
          -4.826839447021484,
          -4.641086578369141,
          2.242469072341919,
          -8.761780738830566,
          -3.2724661827087402,
          -7.272002220153809,
          3.4420268535614014,
          -9.424263954162598,
          2.734609365463257,
          -1.2716516256332397,
          0.6453433036804199,
          2.6234285831451416,
          4.500855922698975,
          -9.55248737335205,
          0.49456778168678284,
          1.3552039861679077,
          -8.126545906066895,
          -2.8791911602020264,
          2.7227590084075928,
          -8.167713165283203,
          -2.2453713417053223,
          5.266499042510986,
          -0.5734224319458008,
          3.919718027114868,
          5.209976673126221,
          -9.46937370300293,
          3.2203829288482666,
          -1.6480354070663452,
          -7.086611747741699,
          -0.11457578092813492,
          2.0387961864471436,
          8.597497940063477,
          -4.359807014465332,
          10.595378875732422,
          0.2867332994937897,
          3.7286064624786377,
          -1.676864743232727,
          -4.258358001708984,
          4.921438694000244,
          -2.9009850025177,
          5.738673686981201,
          0.5776274800300598,
          2.237738847732544,
          2.718660354614258,
          10.048117637634277,
          -7.880692005157471,
          5.9143853187561035,
          3.0567798614501953,
          -7.843205451965332,
          -1.41549551486969,
          -2.7540674209594727,
          0.2577463388442993,
          -6.706891059875488,
          1.9374984502792358,
          -2.0848658084869385,
          8.217884063720703,
          -4.088003158569336,
          5.750406742095947,
          -5.395624160766602,
          0.7950968742370605,
          3.1051015853881836,
          2.3164660930633545,
          13.733534812927246,
          -6.212147235870361,
          -9.554141998291016,
          -0.7690933346748352,
          -4.45259428024292,
          13.615043640136719,
          12.66332721710205,
          -8.193377494812012,
          11.480793952941895,
          4.053493022918701,
          5.087745189666748,
          2.193723678588867,
          -0.4740799069404602,
          1.9996947050094604,
          0.3836730420589447,
          -4.400932312011719,
          -2.3835997581481934,
          -7.131978511810303,
          -3.053175449371338,
          1.0051472187042236,
          3.093456983566284,
          1.7901779413223267,
          -10.5498628616333,
          -6.656029224395752,
          -3.3353395462036133,
          2.022887706756592,
          1.0848339796066284,
          1.971029281616211,
          0.7203075885772705,
          -6.391246318817139,
          3.2832753658294678,
          -7.056886196136475,
          -0.6094075441360474,
          5.452141761779785,
          1.5561068058013916,
          3.784911870956421,
          0.7509605288505554,
          7.963066101074219,
          0.21245145797729492,
          2.4477083683013916,
          5.333528995513916,
          4.605035781860352,
          2.3998775482177734,
          4.758009910583496,
          4.4252190589904785,
          -6.873300075531006,
          -1.347948670387268,
          5.355464935302734,
          -3.691126823425293,
          -8.637540817260742,
          -5.551003456115723,
          -9.2296781539917,
          1.9224424362182617,
          0.9449252486228943,
          2.8129332065582275,
          -1.7779462337493896,
          -6.794846534729004,
          -5.682140827178955,
          -1.1180603504180908,
          1.0933747291564941,
          -3.699017286300659,
          -0.18819519877433777,
          3.2789602279663086,
          6.143346309661865,
          -1.0725500583648682,
          -1.9123560190200806,
          -9.958403587341309,
          1.3473981618881226,
          4.183281421661377,
          -6.457189559936523,
          -2.548520565032959,
          -4.296861171722412,
          -4.332420349121094,
          0.8229075074195862,
          -5.7787957191467285,
          11.887499809265137,
          -7.287273406982422,
          -0.9309884905815125,
          4.729636192321777,
          6.238262176513672,
          -2.5783495903015137,
          3.9053006172180176,
          -6.6497483253479,
          -0.07595846801996231,
          -2.7513427734375,
          3.087275266647339,
          -4.913359642028809,
          -1.5153758525848389,
          -0.37725314497947693,
          -1.7198272943496704,
          7.981446743011475,
          -0.531724214553833,
          5.226179122924805,
          -1.0921759605407715,
          -3.8332455158233643,
          -3.0853285789489746,
          2.3287391662597656,
          1.1018176078796387,
          -0.930256724357605,
          -5.389673233032227,
          -7.298429489135742,
          5.569342613220215,
          -8.398004531860352,
          6.013631343841553,
          6.132850170135498,
          5.313024044036865,
          0.05858694016933441,
          -2.984123468399048,
          -9.236712455749512,
          1.5016899108886719,
          -6.439406394958496,
          7.762351989746094,
          -1.262209177017212,
          3.486687421798706,
          10.280030250549316,
          5.066554546356201,
          5.436283588409424,
          -0.00180448975879699,
          -2.6877920627593994,
          -5.06784200668335,
          5.534558296203613,
          3.5784223079681396,
          0.22962169349193573,
          -8.282607078552246,
          2.636845350265503,
          12.189781188964844,
          -0.3969716429710388,
          3.034754991531372,
          0.42426955699920654,
          3.004284143447876,
          -0.06704081594944,
          10.27833366394043,
          7.517825603485107,
          -4.042191028594971,
          -9.644027709960938,
          -7.810309886932373,
          2.3683385848999023,
          1.4200596809387207,
          -0.1068296954035759,
          -6.4723334312438965,
          -4.602964878082275,
          -4.836380958557129,
          8.072965621948242,
          11.371590614318848,
          8.216137886047363,
          -5.818069934844971,
          5.614893913269043,
          -2.208793878555298,
          -0.6094417572021484,
          -0.21211250126361847,
          -3.5392656326293945,
          -10.619405746459961,
          9.171730041503906,
          7.020301818847656,
          -1.1544826030731201,
          -10.635461807250977,
          -3.4262912273406982,
          0.004610853735357523,
          4.646018028259277,
          0.7830420732498169,
          0.23299545049667358,
          0.7795599102973938,
          -7.79504919052124,
          2.3225347995758057,
          7.166111946105957,
          7.37691593170166,
          6.579204082489014,
          -0.2797214984893799,
          1.272379755973816,
          -6.254358768463135,
          -5.53753137588501,
          -3.730476140975952,
          12.390314102172852,
          -2.820093870162964,
          -8.572120666503906,
          -9.692802429199219,
          4.182669639587402,
          -2.561009645462036,
          -2.6024324893951416,
          -3.1227569580078125,
          6.900079727172852,
          -5.965271949768066,
          -9.766779899597168,
          -3.90088152885437,
          10.4881010055542,
          -2.819889545440674,
          1.2133039236068726,
          0.40367501974105835,
          0.028992321342229843,
          6.845821857452393,
          1.5327434539794922,
          -0.5070579648017883,
          -1.6949294805526733,
          -7.749957084655762,
          2.2563412189483643,
          4.285595417022705,
          3.4097423553466797,
          0.523963451385498,
          1.6328450441360474,
          -2.148625373840332,
          -1.077774167060852,
          -7.1304521560668945,
          4.521040916442871,
          4.069107532501221,
          -1.1300312280654907,
          3.590596914291382,
          -2.657452344894409,
          -7.337744235992432,
          -4.7797441482543945,
          -5.45823860168457,
          4.8651556968688965,
          -4.597873687744141,
          1.4818801879882812,
          -1.9652029275894165,
          0.8336778879165649,
          -6.314931392669678,
          -5.497986793518066,
          -2.547065496444702,
          4.601641654968262,
          0.2424062043428421,
          -2.6506617069244385,
          -9.117111206054688,
          0.6087470650672913,
          2.266789674758911,
          7.871029853820801,
          -9.921923637390137,
          -10.16197681427002,
          2.1099443435668945,
          -4.087892055511475,
          5.822107315063477,
          -4.9429402351379395,
          2.600245237350464,
          3.0149641036987305,
          -1.037680983543396,
          -3.1119184494018555,
          -3.4523704051971436,
          1.9974719285964966,
          2.61661958694458,
          -3.2854926586151123,
          -2.1878583431243896,
          0.923711359500885,
          -2.5133249759674072,
          0.19402405619621277,
          0.946536660194397,
          -1.3496860265731812,
          9.862861633300781,
          -4.9896368980407715,
          -0.8271427154541016,
          7.483582019805908,
          -5.153286457061768,
          -6.44532585144043,
          0.4276782274246216,
          -3.1805434226989746,
          -0.12594632804393768,
          2.9315388202667236,
          6.689836025238037,
          6.327889442443848,
          13.794788360595703,
          -3.03391695022583,
          -10.720053672790527,
          -1.7445019483566284,
          2.005249500274658,
          -6.0151262283325195,
          9.973040580749512,
          -8.262184143066406,
          -5.501744747161865,
          2.527142286300659,
          -2.2919256687164307,
          -4.130146503448486,
          4.40264892578125,
          6.396129131317139,
          -3.4870526790618896,
          5.140310764312744,
          0.9122989773750305,
          -2.8894412517547607,
          13.88429069519043,
          0.8278659582138062,
          -3.405564069747925,
          -1.4348636865615845,
          6.69228982925415,
          3.794943332672119,
          3.055494785308838,
          9.477526664733887,
          2.854490280151367,
          -3.3752238750457764,
          -2.5885374546051025,
          -1.7304661273956299,
          8.181559562683105,
          -8.786568641662598,
          0.5937848091125488,
          -3.2699897289276123,
          -1.2988390922546387,
          3.699758768081665,
          1.0937774181365967,
          10.989021301269531,
          -9.33374309539795,
          6.010861873626709,
          -7.029870510101318,
          -8.400745391845703,
          -4.70920991897583,
          -3.704892873764038,
          2.5228285789489746,
          7.259286403656006,
          5.290198802947998,
          -9.913679122924805,
          5.002537250518799,
          -3.139557361602783,
          13.244637489318848,
          -1.3245916366577148,
          -1.611297369003296,
          -2.8516969680786133,
          7.690435886383057,
          -3.340664863586426,
          -4.792585372924805,
          3.0574538707733154,
          -4.2477707862854,
          -0.5476173162460327,
          -2.1428871154785156,
          -6.5606255531311035,
          -9.143010139465332,
          5.027585506439209,
          3.6712567806243896,
          10.81215763092041,
          -5.412393093109131,
          -2.7235395908355713,
          -6.879292011260986,
          5.670469760894775,
          -1.5496618747711182,
          0.274349182844162,
          0.023143844678997993,
          -8.179464340209961,
          -0.4952715039253235,
          -3.0311617851257324,
          -3.5190117359161377,
          0.4253229796886444,
          -1.9205918312072754,
          -3.154508113861084,
          1.3368587493896484,
          2.110943555831909,
          0.35770145058631897,
          3.276299476623535,
          -5.142077922821045,
          -3.0455143451690674,
          4.0065717697143555,
          4.717713356018066,
          0.13087297976016998,
          -6.382289886474609,
          1.7394744157791138,
          -3.142700672149658,
          -4.4628143310546875,
          -4.683711528778076,
          5.021674633026123,
          -1.4460779428482056,
          -4.929991245269775,
          2.3444406986236572,
          11.303627014160156,
          11.673064231872559,
          -8.428349494934082,
          8.332712173461914,
          -6.486940860748291,
          -5.209267616271973,
          3.997727155685425,
          -2.417522430419922,
          5.4245195388793945,
          -5.162324905395508,
          -2.1133155822753906,
          4.0925374031066895,
          -2.3689215183258057,
          -0.39506852626800537,
          -1.1815942525863647,
          1.8542698621749878,
          4.434769153594971,
          0.8613595962524414,
          -3.8934524059295654,
          0.2390299141407013,
          1.4967681169509888,
          13.273810386657715,
          1.3870298862457275,
          2.9256362915039062,
          -9.4639253616333,
          9.46937370300293,
          -6.296180725097656,
          4.107889175415039,
          -7.753907203674316,
          -5.6604509353637695,
          2.717632293701172,
          5.449203968048096,
          -5.876351356506348,
          -2.961247682571411,
          3.0705220699310303,
          6.763622760772705,
          -3.303802728652954,
          -1.675362467765808,
          10.54550552368164,
          2.535776376724243,
          6.653167247772217,
          2.285773992538452,
          2.2509725093841553,
          -2.28143310546875,
          -1.8648983240127563,
          -8.015976905822754,
          -4.2785115242004395,
          0.8555394411087036,
          1.4511421918869019,
          -6.553600311279297,
          3.8798234462738037,
          2.0507047176361084,
          3.1134729385375977,
          -2.3197059631347656,
          -5.4637980461120605,
          -1.1385830640792847,
          -6.549886703491211,
          1.901964545249939,
          0.36846646666526794,
          3.9166042804718018,
          -6.321884632110596,
          7.761684417724609,
          4.806382656097412,
          -8.252785682678223,
          -10.534991264343262,
          5.585611343383789,
          3.8925156593322754,
          2.23038387298584,
          3.0105926990509033,
          3.8402156829833984,
          12.063163757324219,
          0.1200462207198143,
          7.754433631896973,
          -4.956557750701904,
          -6.9398274421691895,
          0.2977733910083771,
          4.825299263000488,
          -4.950844764709473,
          -6.893070697784424,
          -9.489920616149902,
          5.113868713378906,
          1.1277207136154175
         ],
         "z": [
          -4.559534549713135,
          6.684345245361328,
          -1.198509931564331,
          12.66943359375,
          5.284891605377197,
          8.018974304199219,
          -0.27448201179504395,
          16.192541122436523,
          2.0099129676818848,
          -9.008944511413574,
          10.567998886108398,
          4.326870918273926,
          8.359416961669922,
          3.9029383659362793,
          6.9634222984313965,
          13.892572402954102,
          8.443857192993164,
          0.06827302277088165,
          -2.555168867111206,
          14.614154815673828,
          7.826185703277588,
          -5.021677017211914,
          4.173347473144531,
          2.3961260318756104,
          4.533046245574951,
          -1.7675559520721436,
          3.5072760581970215,
          -0.06184880807995796,
          11.550867080688477,
          10.261096954345703,
          1.4003875255584717,
          7.873634338378906,
          -1.7100036144256592,
          8.453298568725586,
          -4.990849018096924,
          -3.6703975200653076,
          15.049003601074219,
          -0.023311592638492584,
          -4.774449348449707,
          9.87643814086914,
          -5.924530506134033,
          7.745368957519531,
          -3.9623100757598877,
          2.7832443714141846,
          6.424190998077393,
          14.615669250488281,
          6.681759357452393,
          2.0442428588867188,
          4.143517017364502,
          -1.9770147800445557,
          10.129661560058594,
          -3.968823194503784,
          -6.3341546058654785,
          14.337451934814453,
          6.689241886138916,
          6.947481155395508,
          10.570412635803223,
          -7.06411600112915,
          8.576565742492676,
          2.6545588970184326,
          -4.836174488067627,
          -2.963466167449951,
          11.856375694274902,
          8.099344253540039,
          -5.474554061889648,
          6.223349094390869,
          -4.0592942237854,
          -0.623638391494751,
          4.493640422821045,
          7.322408676147461,
          13.983185768127441,
          12.984118461608887,
          -7.974637031555176,
          10.27748966217041,
          -15.807404518127441,
          -7.7568559646606445,
          5.674056529998779,
          10.368080139160156,
          -15.654291152954102,
          -14.54741382598877,
          -14.376849174499512,
          -9.52846908569336,
          6.472557067871094,
          -1.5305874347686768,
          2.615661144256592,
          6.286405086517334,
          -0.8262971043586731,
          1.4319266080856323,
          -1.705317497253418,
          -7.845195293426514,
          -9.87682056427002,
          9.907955169677734,
          -3.048905849456787,
          -0.1469961255788803,
          6.095052719116211,
          12.050787925720215,
          -6.33401346206665,
          3.8305013179779053,
          -2.672382354736328,
          6.272889137268066,
          -6.525211334228516,
          -2.2686595916748047,
          3.9519307613372803,
          -7.783203125,
          13.029397010803223,
          -10.871442794799805,
          -2.392033576965332,
          3.4113118648529053,
          -15.567822456359863,
          10.088325500488281,
          -9.19894790649414,
          -7.895853519439697,
          7.347745418548584,
          -10.238629341125488,
          2.64206862449646,
          -11.40988826751709,
          3.999138832092285,
          -0.28713542222976685,
          10.980725288391113,
          -3.598593235015869,
          -12.179990768432617,
          -2.109297275543213,
          4.448125839233398,
          -4.713063716888428,
          -1.1391228437423706,
          4.9680376052856445,
          5.442374229431152,
          12.168428421020508,
          3.104663848876953,
          4.3746490478515625,
          -4.126607894897461,
          -6.604979515075684,
          11.480172157287598,
          1.7295411825180054,
          -1.3444457054138184,
          -7.410446643829346,
          4.356606960296631,
          12.80073356628418,
          5.097480297088623,
          2.1047768592834473,
          10.917037963867188,
          -6.965939521789551,
          -7.621143817901611,
          5.687205791473389,
          -4.948500633239746,
          -11.671738624572754,
          10.802278518676758,
          -2.813375473022461,
          5.9986395835876465,
          -1.0890799760818481,
          -8.421343803405762,
          -12.464337348937988,
          4.167439937591553,
          -8.49453067779541,
          -5.23462438583374,
          -6.264322757720947,
          -3.528167963027954,
          -4.719715118408203,
          -16.224782943725586,
          8.523889541625977,
          2.8885622024536133,
          -6.652087211608887,
          -12.661672592163086,
          -15.433287620544434,
          10.120969772338867,
          -2.7995805740356445,
          11.111303329467773,
          11.451227188110352,
          3.673736095428467,
          -2.7573935985565186,
          -3.055229425430298,
          4.833881855010986,
          6.181500434875488,
          1.9577749967575073,
          1.2329752445220947,
          -0.12149348109960556,
          6.2425994873046875,
          1.414364218711853,
          6.745106220245361,
          13.45350456237793,
          1.2356395721435547,
          6.509873390197754,
          7.706000804901123,
          13.939428329467773,
          12.268278121948242,
          2.72455096244812,
          7.129560947418213,
          -4.293726444244385,
          -12.014726638793945,
          -11.711743354797363,
          -2.797980308532715,
          4.961971282958984,
          10.542015075683594,
          1.5009245872497559,
          4.149693965911865,
          1.1701598167419434,
          1.1245099306106567,
          4.303915500640869,
          -6.3506317138671875,
          -0.22030982375144958,
          -3.3463077545166016,
          0.673457145690918,
          4.114949703216553,
          6.94793701171875,
          0.5281857848167419,
          8.058943748474121,
          -15.051433563232422,
          -3.294743299484253,
          7.096621990203857,
          5.341452598571777,
          0.200739786028862,
          7.340572357177734,
          10.464673042297363,
          -10.188902854919434,
          -2.0334177017211914,
          0.08967248350381851,
          5.078464031219482,
          10.908196449279785,
          12.408817291259766,
          3.0089902877807617,
          -0.04840711131691933,
          1.9128466844558716,
          6.289556503295898,
          -16.39176368713379,
          2.1115000247955322,
          -14.032609939575195,
          -4.450911998748779,
          -11.082040786743164,
          -1.8413165807724,
          4.220759868621826,
          1.4271340370178223,
          -2.9508512020111084,
          12.18569564819336,
          12.961470603942871,
          -0.49460744857788086,
          1.5580073595046997,
          -1.0697767734527588,
          -11.246758460998535,
          12.277617454528809,
          0.19908259809017181,
          -2.9467568397521973,
          1.276764988899231,
          2.0640060901641846,
          2.1661829948425293,
          13.33837604522705,
          1.0556329488754272,
          -11.073502540588379,
          -14.039703369140625,
          -4.828072547912598,
          4.366645336151123,
          -7.833130359649658,
          2.104783058166504,
          12.588747024536133,
          -6.199949264526367,
          -11.000049591064453,
          0.9610684514045715,
          -6.552652359008789,
          0.6502695679664612,
          5.056849002838135,
          -4.837907791137695,
          2.1387887001037598,
          -5.246548652648926,
          3.3948187828063965,
          2.1175270080566406,
          -8.148823738098145,
          2.293642044067383,
          13.285771369934082,
          4.255345344543457,
          -15.268580436706543,
          4.10978889465332,
          2.1522226333618164,
          4.427553653717041,
          -8.678210258483887,
          1.558958888053894,
          9.36856460571289,
          -6.2442522048950195,
          10.577836036682129,
          4.935680389404297,
          2.3592164516448975,
          -11.874353408813477,
          -4.632922649383545,
          1.9432122707366943,
          -10.57214069366455,
          -5.516607761383057,
          2.8510403633117676,
          1.3683480024337769,
          -3.519819736480713,
          2.4883460998535156,
          1.8198155164718628,
          -6.130195140838623,
          -7.501534461975098,
          2.5077192783355713,
          -2.523590326309204,
          0.5054052472114563,
          -1.3042055368423462,
          10.062541961669922,
          10.157720565795898,
          -13.967686653137207,
          -0.4797534644603729,
          -5.170241355895996,
          7.194408416748047,
          0.938742458820343,
          11.576770782470703,
          13.893101692199707,
          9.348907470703125,
          -14.825833320617676,
          2.4475884437561035,
          -13.194683074951172,
          -5.351295471191406,
          12.602519035339355,
          11.632195472717285,
          -3.6643576622009277,
          5.970654010772705,
          0.76115483045578,
          0.21311481297016144,
          -6.58994722366333,
          -2.669260025024414,
          2.443498373031616,
          -15.249387741088867,
          4.342194557189941,
          6.448854923248291,
          -10.654159545898438,
          13.555366516113281,
          2.475534439086914,
          -12.783720016479492,
          -5.995240211486816,
          12.987666130065918,
          14.091532707214355,
          5.219180107116699,
          9.637850761413574,
          4.292229652404785,
          9.781984329223633,
          -5.530198097229004,
          -7.271902084350586,
          1.113502860069275,
          5.5094804763793945,
          4.174271106719971,
          -7.573186874389648,
          7.554850101470947,
          7.905002593994141,
          -7.846567153930664,
          -11.082865715026855,
          10.798425674438477,
          -8.34173583984375,
          15.502427101135254,
          5.924446105957031,
          2.098066568374634,
          -3.577810525894165,
          11.611311912536621,
          10.267580032348633,
          1.7882893085479736,
          -8.879462242126465,
          -5.107076644897461,
          4.863300800323486,
          -3.538203239440918,
          -10.457483291625977,
          -5.449407577514648,
          2.567673444747925,
          12.891645431518555,
          -4.138373374938965,
          5.853114604949951,
          2.6823911666870117,
          -2.567063331604004,
          -4.561106204986572,
          12.473590850830078,
          -12.735130310058594,
          10.061543464660645,
          2.2892072200775146,
          0.5624275803565979,
          3.4871819019317627,
          -5.614826679229736,
          -2.7693581581115723,
          5.5330119132995605,
          4.949526786804199,
          13.504124641418457,
          -5.97177791595459,
          -14.735458374023438,
          10.303361892700195,
          4.754834175109863,
          -6.228260040283203,
          9.524632453918457,
          -1.6405218839645386,
          -14.21552848815918,
          -9.086960792541504,
          4.806663513183594,
          -5.656990051269531,
          -2.6460132598876953,
          -1.6898659467697144,
          0.7268011569976807,
          -7.574459075927734,
          -2.790280818939209,
          -6.87770938873291,
          -9.283319473266602,
          -12.02614688873291,
          -4.50460958480835,
          4.7117533683776855,
          -10.934028625488281,
          13.516739845275879,
          -4.850156784057617,
          -11.946944236755371,
          -3.249391794204712,
          -2.6362884044647217,
          -3.4358255863189697,
          8.275997161865234,
          14.558197021484375,
          3.892284631729126,
          2.599424123764038,
          -2.644444227218628,
          7.6024346351623535,
          6.6033501625061035,
          1.9252746105194092,
          -7.980833530426025,
          13.9523286819458,
          -13.952011108398438,
          1.90608811378479,
          -3.404912233352661,
          0.38550469279289246,
          4.188655376434326,
          13.951981544494629,
          6.22607421875,
          -7.642888069152832,
          -0.6057131886482239,
          1.5951262712478638,
          6.695108890533447,
          4.3696393966674805,
          -0.14516335725784302,
          1.275557279586792,
          9.630199432373047,
          -6.577046871185303,
          5.970330238342285,
          -10.908760070800781,
          1.746166467666626,
          -2.021266460418701,
          11.464972496032715,
          13.450556755065918,
          2.333627462387085,
          -5.2106852531433105,
          5.721475124359131,
          -16.040084838867188,
          0.7863130569458008,
          -11.057453155517578,
          -14.755035400390625,
          1.5207258462905884,
          8.221735000610352,
          -1.0034592151641846,
          6.630502700805664,
          12.558174133300781,
          -6.783427715301514,
          4.163043022155762,
          7.4856486320495605,
          -2.8399200439453125,
          4.4841437339782715,
          -5.396989822387695,
          -14.49310302734375,
          8.418903350830078,
          5.615344524383545,
          2.1650211811065674,
          3.7010388374328613,
          -15.714374542236328,
          -9.854394912719727,
          4.731817722320557,
          2.6230227947235107,
          -2.5689315795898438,
          -10.724456787109375,
          1.7852458953857422,
          -9.885751724243164,
          -15.26523494720459,
          14.017852783203125,
          -2.4066035747528076,
          3.6720147132873535,
          -12.740633964538574,
          -6.689129829406738,
          -1.6093926429748535,
          -10.078991889953613,
          -6.426478862762451,
          3.4093668460845947,
          1.4826345443725586,
          7.582221031188965,
          -5.611001014709473,
          3.1543877124786377,
          -4.990830898284912,
          -2.2623965740203857,
          9.960741996765137,
          7.981091022491455,
          3.3234646320343018,
          7.510791778564453,
          4.3986496925354,
          -7.288113117218018,
          -6.9536542892456055,
          0.23770688474178314,
          -13.346896171569824,
          9.598265647888184,
          5.7976579666137695,
          11.791396141052246,
          2.5669517517089844,
          10.785511016845703,
          5.879377841949463,
          8.19128704071045,
          -6.75372314453125,
          -7.847610950469971,
          4.906473159790039,
          0.21355417370796204,
          -5.937597274780273,
          -1.5227558612823486,
          -6.437441349029541,
          0.8041917085647583,
          -16.55438804626465,
          -3.101814031600952,
          -7.985445976257324,
          5.672903537750244,
          4.507813453674316,
          -4.466659069061279,
          2.2954583168029785,
          8.035819053649902,
          -14.913066864013672,
          -8.038565635681152,
          -8.599066734313965,
          -16.378143310546875,
          1.6589041948318481,
          2.9911694526672363,
          -8.710970878601074,
          7.764191627502441,
          6.040073394775391,
          5.72735595703125,
          12.39809799194336,
          4.892435550689697,
          -8.627632141113281,
          1.0533617734909058,
          1.4465434551239014,
          -7.7903828620910645,
          3.815729856491089,
          10.221595764160156,
          9.384208679199219,
          -5.468323707580566,
          8.093542098999023,
          11.26127815246582,
          7.240960597991943,
          7.291229248046875,
          -3.4839131832122803,
          4.2852582931518555,
          3.6341354846954346,
          8.85293197631836,
          1.7120046615600586,
          6.531094074249268,
          -3.1162586212158203,
          12.33512020111084,
          -11.54497241973877,
          10.489625930786133,
          10.770782470703125,
          -10.827670097351074,
          -7.4228339195251465,
          -6.812549114227295,
          4.030638217926025,
          -16.34627342224121,
          -6.199373722076416,
          3.3685741424560547,
          8.323326110839844,
          -16.70818519592285,
          13.233309745788574,
          1.0325745344161987,
          7.9394330978393555,
          12.923022270202637,
          -6.18791389465332,
          8.187260627746582,
          -3.746443271636963,
          -16.118083953857422,
          -2.873131275177002,
          0.10921104997396469,
          10.353999137878418,
          8.845587730407715,
          -5.901540279388428,
          8.271020889282227,
          15.044336318969727,
          10.446385383605957,
          7.40878963470459,
          12.906683921813965,
          3.8837928771972656,
          1.9233344793319702,
          -5.8275580406188965,
          -12.787819862365723,
          -7.383601665496826,
          -14.27444076538086,
          4.560676574707031,
          3.783825159072876,
          -5.395102500915527,
          -15.265798568725586,
          -7.382803440093994,
          -4.472227096557617,
          2.836498737335205,
          10.057929039001465,
          -1.7908183336257935,
          -6.069634437561035,
          0.26364612579345703,
          14.644673347473145,
          -0.09634185582399368,
          -7.515700817108154,
          14.265646934509277,
          11.09199333190918,
          8.595477104187012,
          7.608394622802734,
          11.288870811462402,
          -3.268313407897949,
          5.025764465332031,
          1.0279806852340698,
          8.027172088623047,
          5.242914199829102,
          14.453754425048828,
          10.58666706085205,
          -3.4986732006073,
          6.162517070770264,
          5.4113616943359375,
          -8.429559707641602,
          -8.611027717590332,
          -7.681764602661133,
          -9.743111610412598,
          -5.838845729827881,
          0.17956063151359558,
          -2.0015950202941895,
          -2.305882692337036,
          -7.761166572570801,
          -1.4250128269195557,
          -6.603033065795898,
          -8.242805480957031,
          1.308659553527832,
          5.27073335647583,
          14.96259593963623,
          2.876893997192383,
          2.760603666305542,
          -2.8078792095184326,
          -10.957266807556152,
          -6.1662211418151855,
          4.275618076324463,
          -16.964242935180664,
          7.105138301849365,
          -7.715240955352783,
          -3.6293134689331055,
          -6.516584873199463,
          -1.366283893585205,
          8.60464859008789,
          -1.0253864526748657,
          0.2981002926826477,
          5.424590587615967,
          1.4719783067703247,
          -7.008454322814941,
          9.177817344665527,
          -13.262205123901367,
          2.5029191970825195,
          -8.30454158782959,
          8.144695281982422,
          -9.260933876037598,
          -4.402960300445557,
          -2.6559903621673584,
          -1.527012586593628,
          11.174896240234375,
          -0.480787068605423,
          7.049923419952393,
          6.320032119750977,
          -6.1417460441589355,
          -1.9722232818603516,
          10.42651081085205,
          12.916473388671875,
          -6.017622947692871,
          1.4729466438293457,
          -5.435480117797852,
          9.656291007995605,
          -0.9957161545753479,
          11.92577838897705,
          2.001046895980835,
          4.251428127288818,
          -1.3996471166610718,
          2.743100881576538,
          -10.647293090820312,
          -8.634376525878906,
          -2.078678846359253,
          7.762805461883545,
          -6.82754373550415,
          6.778205394744873,
          7.448307514190674,
          11.08682632446289,
          1.602559208869934,
          3.5993833541870117,
          -4.612027168273926,
          -8.727922439575195,
          6.258294582366943,
          -7.50003719329834,
          -1.1648545265197754,
          -12.289822578430176,
          -4.647019863128662,
          9.873278617858887,
          12.048192024230957,
          8.617090225219727,
          11.107368469238281,
          13.47447681427002,
          3.9072561264038086,
          8.918846130371094,
          8.774515151977539,
          -5.318437576293945,
          -13.941773414611816,
          -15.847070693969727,
          6.293001651763916,
          -1.4005210399627686,
          -10.218022346496582,
          3.9063377380371094,
          11.560086250305176,
          -11.551411628723145,
          6.441930770874023,
          11.054706573486328,
          9.754883766174316,
          -2.275449275970459,
          3.512401819229126,
          7.821784973144531,
          -4.922015190124512,
          -3.18463397026062,
          -1.5483325719833374,
          -5.259725093841553,
          8.089734077453613,
          8.118427276611328,
          14.425411224365234,
          -5.251397132873535,
          -1.5422385931015015,
          -2.4676260948181152,
          5.603597640991211,
          5.185807228088379,
          -4.031768321990967,
          2.8722314834594727,
          -1.6049176454544067,
          6.8812479972839355,
          8.433086395263672,
          14.03042221069336,
          9.268118858337402,
          0.17792394757270813,
          5.935694694519043,
          -1.9638521671295166,
          -3.822817325592041,
          2.6742026805877686,
          9.022124290466309,
          -10.566792488098145,
          -13.296127319335938,
          -14.214205741882324,
          4.805548191070557,
          -0.23425260186195374,
          -6.3583269119262695,
          -6.364363193511963,
          5.198287010192871,
          -4.735179901123047,
          -14.03238582611084,
          -12.694522857666016,
          8.207501411437988,
          3.018857002258301,
          13.289834976196289,
          6.287983417510986,
          4.6905670166015625,
          6.196999549865723,
          4.101205825805664,
          -5.581707000732422,
          1.28973388671875,
          -14.279516220092773,
          -4.982790946960449,
          8.426017761230469,
          -3.0745840072631836,
          13.348482131958008,
          -8.746601104736328,
          -3.8768198490142822,
          0.6516045928001404,
          -6.146345615386963,
          2.5005056858062744,
          3.8882148265838623,
          5.182016849517822,
          2.5178415775299072,
          4.812253475189209,
          -14.088601112365723,
          -5.278857231140137,
          0.19106993079185486,
          1.5949208736419678,
          -5.691202163696289,
          -5.819991111755371,
          -2.657181978225708,
          -0.4897943139076233,
          -16.958642959594727,
          -4.460611343383789,
          -11.763449668884277,
          3.0890302658081055,
          5.1376142501831055,
          -8.722512245178223,
          -13.893047332763672,
          13.468423843383789,
          -3.882460832595825,
          8.479726791381836,
          -15.738770484924316,
          -13.68491268157959,
          15.003615379333496,
          -11.557849884033203,
          4.595443248748779,
          -15.571300506591797,
          4.074922561645508,
          8.393881797790527,
          -6.165486812591553,
          3.8588380813598633,
          -13.19337272644043,
          -3.300384283065796,
          -1.1096277236938477,
          -1.7960196733474731,
          1.2466216087341309,
          7.079046726226807,
          0.4260837435722351,
          -1.9318435192108154,
          -7.9996843338012695,
          3.8865907192230225,
          11.054429054260254,
          -5.602228164672852,
          5.405772686004639,
          5.841027736663818,
          -15.708785057067871,
          -7.771662712097168,
          5.768959045410156,
          4.1793904304504395,
          2.8923988342285156,
          14.493331909179688,
          5.855271339416504,
          11.176048278808594,
          8.14037799835205,
          0.9605474472045898,
          -14.356369972229004,
          5.6697282791137695,
          1.8187226057052612,
          -6.299058437347412,
          10.875402450561523,
          -15.182718276977539,
          -10.10141658782959,
          10.941228866577148,
          3.0500802993774414,
          -5.46077299118042,
          11.15394401550293,
          5.611196517944336,
          3.398885726928711,
          7.8406476974487305,
          6.687114238739014,
          4.598437786102295,
          8.854866981506348,
          -6.9547576904296875,
          -12.355825424194336,
          -7.61250114440918,
          11.63196086883545,
          2.1213793754577637,
          1.7463761568069458,
          7.902059555053711,
          6.105172634124756,
          -13.087093353271484,
          -9.395011901855469,
          -1.4282805919647217,
          8.520153999328613,
          -8.595647811889648,
          -7.8197407722473145,
          -12.13770866394043,
          0.705861508846283,
          3.2357311248779297,
          1.0818301439285278,
          11.538596153259277,
          -14.513604164123535,
          4.64650297164917,
          -5.846484184265137,
          -13.74228286743164,
          1.2572790384292603,
          -12.591646194458008,
          2.369403123855591,
          12.60993480682373,
          0.1010603979229927,
          -13.8333158493042,
          8.420281410217285,
          -7.411332607269287,
          10.19633674621582,
          -7.091012954711914,
          -0.6681051850318909,
          -10.118876457214355,
          4.63350772857666,
          -3.657146692276001,
          -4.533441543579102,
          -0.47142937779426575,
          -4.4676995277404785,
          1.2562916278839111,
          -7.42967414855957,
          -12.251993179321289,
          -10.518782615661621,
          12.231889724731445,
          13.67785358428955,
          7.979665756225586,
          -4.667165756225586,
          -1.425815224647522,
          -5.637134075164795,
          4.268948554992676,
          5.852670669555664,
          11.859734535217285,
          4.598748683929443,
          -10.467843055725098,
          13.401558876037598,
          -9.441160202026367,
          -7.791175365447998,
          -0.14721550047397614,
          1.552167296409607,
          3.5075764656066895,
          2.247633934020996,
          -5.297120571136475,
          -6.21182107925415,
          14.431638717651367,
          -12.802395820617676,
          6.809047698974609,
          10.769883155822754,
          7.852932929992676,
          4.670657634735107,
          -16.621917724609375,
          -0.7578744888305664,
          -3.5091304779052734,
          -2.8624961376190186,
          -16.18669319152832,
          4.4630537033081055,
          3.213932752609253,
          -4.255939483642578,
          4.477844715118408,
          10.798660278320312,
          8.761503219604492,
          -7.770194053649902,
          11.917478561401367,
          -3.103774309158325,
          -12.017849922180176,
          4.205188751220703,
          -7.835415363311768,
          5.12907600402832,
          -4.806112289428711,
          -0.2754169702529907,
          3.414851427078247,
          3.7606709003448486,
          -6.104057788848877,
          -1.151932954788208,
          13.24548053741455,
          13.658937454223633,
          5.466148853302002,
          -6.085765361785889,
          0.8728094696998596,
          6.657929420471191,
          7.9537811279296875,
          2.782250165939331,
          -4.168538570404053,
          -14.870058059692383,
          8.75042724609375,
          -14.399023056030273,
          6.038188934326172,
          -13.361930847167969,
          -11.138846397399902,
          2.377593994140625,
          5.111236572265625,
          -5.3104047775268555,
          -2.0425360202789307,
          14.51933479309082,
          13.14145278930664,
          -1.613663911819458,
          0.44042903184890747,
          8.830351829528809,
          8.5034761428833,
          5.498115539550781,
          -1.5923198461532593,
          2.6505043506622314,
          -0.8774875402450562,
          1.0199613571166992,
          -15.540650367736816,
          -6.025331020355225,
          -4.295032024383545,
          0.42963048815727234,
          -17.054296493530273,
          5.597095966339111,
          -5.738542556762695,
          11.413931846618652,
          -13.866329193115234,
          -8.234724998474121,
          3.4603641033172607,
          -12.533112525939941,
          1.257272481918335,
          2.7308177947998047,
          10.3208646774292,
          -1.771816611289978,
          8.122766494750977,
          5.542028427124023,
          -6.6027445793151855,
          -13.615565299987793,
          1.7503345012664795,
          10.523507118225098,
          -2.9765710830688477,
          -0.9598978161811829,
          9.36780071258545,
          8.389948844909668,
          7.283897399902344,
          9.483159065246582,
          -15.902451515197754,
          -12.934497833251953,
          1.0558955669403076,
          7.3280205726623535,
          -5.79292106628418,
          -3.8064982891082764,
          -15.516297340393066,
          10.589698791503906,
          6.4301557540893555
         ]
        }
       ],
       "layout": {
        "coloraxis": {
         "colorbar": {
          "title": {
           "text": "Label"
          }
         },
         "colorscale": [
          [
           0,
           "#0d0887"
          ],
          [
           0.1111111111111111,
           "#46039f"
          ],
          [
           0.2222222222222222,
           "#7201a8"
          ],
          [
           0.3333333333333333,
           "#9c179e"
          ],
          [
           0.4444444444444444,
           "#bd3786"
          ],
          [
           0.5555555555555556,
           "#d8576b"
          ],
          [
           0.6666666666666666,
           "#ed7953"
          ],
          [
           0.7777777777777778,
           "#fb9f3a"
          ],
          [
           0.8888888888888888,
           "#fdca26"
          ],
          [
           1,
           "#f0f921"
          ]
         ]
        },
        "height": 800,
        "legend": {
         "tracegroupgap": 0
        },
        "scene": {
         "domain": {
          "x": [
           0,
           1
          ],
          "y": [
           0,
           1
          ]
         },
         "xaxis": {
          "title": {
           "text": "0"
          }
         },
         "yaxis": {
          "title": {
           "text": "1"
          }
         },
         "zaxis": {
          "title": {
           "text": "2"
          }
         }
        },
        "template": {
         "data": {
          "bar": [
           {
            "error_x": {
             "color": "#2a3f5f"
            },
            "error_y": {
             "color": "#2a3f5f"
            },
            "marker": {
             "line": {
              "color": "#E5ECF6",
              "width": 0.5
             }
            },
            "type": "bar"
           }
          ],
          "barpolar": [
           {
            "marker": {
             "line": {
              "color": "#E5ECF6",
              "width": 0.5
             }
            },
            "type": "barpolar"
           }
          ],
          "carpet": [
           {
            "aaxis": {
             "endlinecolor": "#2a3f5f",
             "gridcolor": "white",
             "linecolor": "white",
             "minorgridcolor": "white",
             "startlinecolor": "#2a3f5f"
            },
            "baxis": {
             "endlinecolor": "#2a3f5f",
             "gridcolor": "white",
             "linecolor": "white",
             "minorgridcolor": "white",
             "startlinecolor": "#2a3f5f"
            },
            "type": "carpet"
           }
          ],
          "choropleth": [
           {
            "colorbar": {
             "outlinewidth": 0,
             "ticks": ""
            },
            "type": "choropleth"
           }
          ],
          "contour": [
           {
            "colorbar": {
             "outlinewidth": 0,
             "ticks": ""
            },
            "colorscale": [
             [
              0,
              "#0d0887"
             ],
             [
              0.1111111111111111,
              "#46039f"
             ],
             [
              0.2222222222222222,
              "#7201a8"
             ],
             [
              0.3333333333333333,
              "#9c179e"
             ],
             [
              0.4444444444444444,
              "#bd3786"
             ],
             [
              0.5555555555555556,
              "#d8576b"
             ],
             [
              0.6666666666666666,
              "#ed7953"
             ],
             [
              0.7777777777777778,
              "#fb9f3a"
             ],
             [
              0.8888888888888888,
              "#fdca26"
             ],
             [
              1,
              "#f0f921"
             ]
            ],
            "type": "contour"
           }
          ],
          "contourcarpet": [
           {
            "colorbar": {
             "outlinewidth": 0,
             "ticks": ""
            },
            "type": "contourcarpet"
           }
          ],
          "heatmap": [
           {
            "colorbar": {
             "outlinewidth": 0,
             "ticks": ""
            },
            "colorscale": [
             [
              0,
              "#0d0887"
             ],
             [
              0.1111111111111111,
              "#46039f"
             ],
             [
              0.2222222222222222,
              "#7201a8"
             ],
             [
              0.3333333333333333,
              "#9c179e"
             ],
             [
              0.4444444444444444,
              "#bd3786"
             ],
             [
              0.5555555555555556,
              "#d8576b"
             ],
             [
              0.6666666666666666,
              "#ed7953"
             ],
             [
              0.7777777777777778,
              "#fb9f3a"
             ],
             [
              0.8888888888888888,
              "#fdca26"
             ],
             [
              1,
              "#f0f921"
             ]
            ],
            "type": "heatmap"
           }
          ],
          "heatmapgl": [
           {
            "colorbar": {
             "outlinewidth": 0,
             "ticks": ""
            },
            "colorscale": [
             [
              0,
              "#0d0887"
             ],
             [
              0.1111111111111111,
              "#46039f"
             ],
             [
              0.2222222222222222,
              "#7201a8"
             ],
             [
              0.3333333333333333,
              "#9c179e"
             ],
             [
              0.4444444444444444,
              "#bd3786"
             ],
             [
              0.5555555555555556,
              "#d8576b"
             ],
             [
              0.6666666666666666,
              "#ed7953"
             ],
             [
              0.7777777777777778,
              "#fb9f3a"
             ],
             [
              0.8888888888888888,
              "#fdca26"
             ],
             [
              1,
              "#f0f921"
             ]
            ],
            "type": "heatmapgl"
           }
          ],
          "histogram": [
           {
            "marker": {
             "colorbar": {
              "outlinewidth": 0,
              "ticks": ""
             }
            },
            "type": "histogram"
           }
          ],
          "histogram2d": [
           {
            "colorbar": {
             "outlinewidth": 0,
             "ticks": ""
            },
            "colorscale": [
             [
              0,
              "#0d0887"
             ],
             [
              0.1111111111111111,
              "#46039f"
             ],
             [
              0.2222222222222222,
              "#7201a8"
             ],
             [
              0.3333333333333333,
              "#9c179e"
             ],
             [
              0.4444444444444444,
              "#bd3786"
             ],
             [
              0.5555555555555556,
              "#d8576b"
             ],
             [
              0.6666666666666666,
              "#ed7953"
             ],
             [
              0.7777777777777778,
              "#fb9f3a"
             ],
             [
              0.8888888888888888,
              "#fdca26"
             ],
             [
              1,
              "#f0f921"
             ]
            ],
            "type": "histogram2d"
           }
          ],
          "histogram2dcontour": [
           {
            "colorbar": {
             "outlinewidth": 0,
             "ticks": ""
            },
            "colorscale": [
             [
              0,
              "#0d0887"
             ],
             [
              0.1111111111111111,
              "#46039f"
             ],
             [
              0.2222222222222222,
              "#7201a8"
             ],
             [
              0.3333333333333333,
              "#9c179e"
             ],
             [
              0.4444444444444444,
              "#bd3786"
             ],
             [
              0.5555555555555556,
              "#d8576b"
             ],
             [
              0.6666666666666666,
              "#ed7953"
             ],
             [
              0.7777777777777778,
              "#fb9f3a"
             ],
             [
              0.8888888888888888,
              "#fdca26"
             ],
             [
              1,
              "#f0f921"
             ]
            ],
            "type": "histogram2dcontour"
           }
          ],
          "mesh3d": [
           {
            "colorbar": {
             "outlinewidth": 0,
             "ticks": ""
            },
            "type": "mesh3d"
           }
          ],
          "parcoords": [
           {
            "line": {
             "colorbar": {
              "outlinewidth": 0,
              "ticks": ""
             }
            },
            "type": "parcoords"
           }
          ],
          "pie": [
           {
            "automargin": true,
            "type": "pie"
           }
          ],
          "scatter": [
           {
            "marker": {
             "colorbar": {
              "outlinewidth": 0,
              "ticks": ""
             }
            },
            "type": "scatter"
           }
          ],
          "scatter3d": [
           {
            "line": {
             "colorbar": {
              "outlinewidth": 0,
              "ticks": ""
             }
            },
            "marker": {
             "colorbar": {
              "outlinewidth": 0,
              "ticks": ""
             }
            },
            "type": "scatter3d"
           }
          ],
          "scattercarpet": [
           {
            "marker": {
             "colorbar": {
              "outlinewidth": 0,
              "ticks": ""
             }
            },
            "type": "scattercarpet"
           }
          ],
          "scattergeo": [
           {
            "marker": {
             "colorbar": {
              "outlinewidth": 0,
              "ticks": ""
             }
            },
            "type": "scattergeo"
           }
          ],
          "scattergl": [
           {
            "marker": {
             "colorbar": {
              "outlinewidth": 0,
              "ticks": ""
             }
            },
            "type": "scattergl"
           }
          ],
          "scattermapbox": [
           {
            "marker": {
             "colorbar": {
              "outlinewidth": 0,
              "ticks": ""
             }
            },
            "type": "scattermapbox"
           }
          ],
          "scatterpolar": [
           {
            "marker": {
             "colorbar": {
              "outlinewidth": 0,
              "ticks": ""
             }
            },
            "type": "scatterpolar"
           }
          ],
          "scatterpolargl": [
           {
            "marker": {
             "colorbar": {
              "outlinewidth": 0,
              "ticks": ""
             }
            },
            "type": "scatterpolargl"
           }
          ],
          "scatterternary": [
           {
            "marker": {
             "colorbar": {
              "outlinewidth": 0,
              "ticks": ""
             }
            },
            "type": "scatterternary"
           }
          ],
          "surface": [
           {
            "colorbar": {
             "outlinewidth": 0,
             "ticks": ""
            },
            "colorscale": [
             [
              0,
              "#0d0887"
             ],
             [
              0.1111111111111111,
              "#46039f"
             ],
             [
              0.2222222222222222,
              "#7201a8"
             ],
             [
              0.3333333333333333,
              "#9c179e"
             ],
             [
              0.4444444444444444,
              "#bd3786"
             ],
             [
              0.5555555555555556,
              "#d8576b"
             ],
             [
              0.6666666666666666,
              "#ed7953"
             ],
             [
              0.7777777777777778,
              "#fb9f3a"
             ],
             [
              0.8888888888888888,
              "#fdca26"
             ],
             [
              1,
              "#f0f921"
             ]
            ],
            "type": "surface"
           }
          ],
          "table": [
           {
            "cells": {
             "fill": {
              "color": "#EBF0F8"
             },
             "line": {
              "color": "white"
             }
            },
            "header": {
             "fill": {
              "color": "#C8D4E3"
             },
             "line": {
              "color": "white"
             }
            },
            "type": "table"
           }
          ]
         },
         "layout": {
          "annotationdefaults": {
           "arrowcolor": "#2a3f5f",
           "arrowhead": 0,
           "arrowwidth": 1
          },
          "coloraxis": {
           "colorbar": {
            "outlinewidth": 0,
            "ticks": ""
           }
          },
          "colorscale": {
           "diverging": [
            [
             0,
             "#8e0152"
            ],
            [
             0.1,
             "#c51b7d"
            ],
            [
             0.2,
             "#de77ae"
            ],
            [
             0.3,
             "#f1b6da"
            ],
            [
             0.4,
             "#fde0ef"
            ],
            [
             0.5,
             "#f7f7f7"
            ],
            [
             0.6,
             "#e6f5d0"
            ],
            [
             0.7,
             "#b8e186"
            ],
            [
             0.8,
             "#7fbc41"
            ],
            [
             0.9,
             "#4d9221"
            ],
            [
             1,
             "#276419"
            ]
           ],
           "sequential": [
            [
             0,
             "#0d0887"
            ],
            [
             0.1111111111111111,
             "#46039f"
            ],
            [
             0.2222222222222222,
             "#7201a8"
            ],
            [
             0.3333333333333333,
             "#9c179e"
            ],
            [
             0.4444444444444444,
             "#bd3786"
            ],
            [
             0.5555555555555556,
             "#d8576b"
            ],
            [
             0.6666666666666666,
             "#ed7953"
            ],
            [
             0.7777777777777778,
             "#fb9f3a"
            ],
            [
             0.8888888888888888,
             "#fdca26"
            ],
            [
             1,
             "#f0f921"
            ]
           ],
           "sequentialminus": [
            [
             0,
             "#0d0887"
            ],
            [
             0.1111111111111111,
             "#46039f"
            ],
            [
             0.2222222222222222,
             "#7201a8"
            ],
            [
             0.3333333333333333,
             "#9c179e"
            ],
            [
             0.4444444444444444,
             "#bd3786"
            ],
            [
             0.5555555555555556,
             "#d8576b"
            ],
            [
             0.6666666666666666,
             "#ed7953"
            ],
            [
             0.7777777777777778,
             "#fb9f3a"
            ],
            [
             0.8888888888888888,
             "#fdca26"
            ],
            [
             1,
             "#f0f921"
            ]
           ]
          },
          "colorway": [
           "#636efa",
           "#EF553B",
           "#00cc96",
           "#ab63fa",
           "#FFA15A",
           "#19d3f3",
           "#FF6692",
           "#B6E880",
           "#FF97FF",
           "#FECB52"
          ],
          "font": {
           "color": "#2a3f5f"
          },
          "geo": {
           "bgcolor": "white",
           "lakecolor": "white",
           "landcolor": "#E5ECF6",
           "showlakes": true,
           "showland": true,
           "subunitcolor": "white"
          },
          "hoverlabel": {
           "align": "left"
          },
          "hovermode": "closest",
          "mapbox": {
           "style": "light"
          },
          "paper_bgcolor": "white",
          "plot_bgcolor": "#E5ECF6",
          "polar": {
           "angularaxis": {
            "gridcolor": "white",
            "linecolor": "white",
            "ticks": ""
           },
           "bgcolor": "#E5ECF6",
           "radialaxis": {
            "gridcolor": "white",
            "linecolor": "white",
            "ticks": ""
           }
          },
          "scene": {
           "xaxis": {
            "backgroundcolor": "#E5ECF6",
            "gridcolor": "white",
            "gridwidth": 2,
            "linecolor": "white",
            "showbackground": true,
            "ticks": "",
            "zerolinecolor": "white"
           },
           "yaxis": {
            "backgroundcolor": "#E5ECF6",
            "gridcolor": "white",
            "gridwidth": 2,
            "linecolor": "white",
            "showbackground": true,
            "ticks": "",
            "zerolinecolor": "white"
           },
           "zaxis": {
            "backgroundcolor": "#E5ECF6",
            "gridcolor": "white",
            "gridwidth": 2,
            "linecolor": "white",
            "showbackground": true,
            "ticks": "",
            "zerolinecolor": "white"
           }
          },
          "shapedefaults": {
           "line": {
            "color": "#2a3f5f"
           }
          },
          "ternary": {
           "aaxis": {
            "gridcolor": "white",
            "linecolor": "white",
            "ticks": ""
           },
           "baxis": {
            "gridcolor": "white",
            "linecolor": "white",
            "ticks": ""
           },
           "bgcolor": "#E5ECF6",
           "caxis": {
            "gridcolor": "white",
            "linecolor": "white",
            "ticks": ""
           }
          },
          "title": {
           "x": 0.05
          },
          "xaxis": {
           "automargin": true,
           "gridcolor": "white",
           "linecolor": "white",
           "ticks": "",
           "title": {
            "standoff": 15
           },
           "zerolinecolor": "white",
           "zerolinewidth": 2
          },
          "yaxis": {
           "automargin": true,
           "gridcolor": "white",
           "linecolor": "white",
           "ticks": "",
           "title": {
            "standoff": 15
           },
           "zerolinecolor": "white",
           "zerolinewidth": 2
          }
         }
        },
        "title": {
         "text": "3d TSNE Plot for Outliers"
        },
        "width": 900
       }
      },
      "text/html": [
       "<div>\n",
       "        \n",
       "        \n",
       "            <div id=\"3bf603de-5ff7-4e1f-bb53-9a6a8e953735\" class=\"plotly-graph-div\" style=\"height:800px; width:900px;\"></div>\n",
       "            <script type=\"text/javascript\">\n",
       "                require([\"plotly\"], function(Plotly) {\n",
       "                    window.PLOTLYENV=window.PLOTLYENV || {};\n",
       "                    \n",
       "                if (document.getElementById(\"3bf603de-5ff7-4e1f-bb53-9a6a8e953735\")) {\n",
       "                    Plotly.newPlot(\n",
       "                        '3bf603de-5ff7-4e1f-bb53-9a6a8e953735',\n",
       "                        [{\"customdata\": [[0.263995357], [0.546092303], [0.33671410399999996], [0.092107835], [0.325261175], [0.212464853], [0.258565714], [0.869236755], [0.197077957], [0.292984504], [0.82178316], [0.796622959], [0.045577010999999994], [0.613660351], [0.9507445659999999], [0.33634633700000005], [0.034440667], [0.741544275], [0.18443265], [0.664514943], [0.16282485800000002], [0.729838445], [0.62837389], [0.057883660999999996], [0.445534827], [0.80183695], [0.27709612], [0.228634015], [0.834860657], [0.6697665110000001], [0.532527349], [0.17045907100000002], [0.5102884679999999], [0.977561989], [0.249775993], [0.9755006820000001], [0.613701727], [0.16742036300000002], [0.537472516], [0.379899131], [0.633897303], [0.633960424], [0.5499746529999999], [0.178172988], [0.85563814], [0.321796672], [0.8174905370000001], [0.254879417], [0.344140513], [0.8061457259999999], [0.27708167100000003], [0.544328519], [0.07708393], [0.273081458], [0.390877336], [0.349621385], [0.214549744], [0.206075222], [0.86461997], [0.9817088540000001], [0.33482964600000004], [0.648387061], [0.093643561], [0.837802698], [0.7603439670000001], [0.29140417399999996], [0.3413454], [0.7611124840000001], [0.541899775], [0.684176639], [0.983535597], [0.52081245], [0.328227724], [0.09715793800000001], [0.876088593], [0.870214512], [0.656086992], [0.306791514], [0.48126734], [0.259559174], [0.326123655], [0.930568042], [0.6583894], [0.689992335], [0.315781109], [0.5669050929999999], [0.637526619], [0.687540723], [0.324300602], [0.592704906], [0.7402531259999999], [0.5940328770000001], [0.596452977], [0.27768081699999997], [0.258329663], [0.142460864], [0.435533461], [0.7024990440000001], [0.58897535], [0.653304374], [0.336968524], [0.631244736], [0.73530076], [0.050390366], [0.064264924], [0.665359476], [0.917835245], [0.44651012], [0.661938199], [0.43935985299999997], [0.6875724040000001], [0.363462248], [0.6542621820000001], [0.578553536], [0.065927945], [0.550148559], [0.13918281400000002], [0.080004635], [0.278228358], [0.560124266], [0.53639864], [0.42653190399999996], [0.789109796], [0.742900474], [0.901692589], [0.650337401], [0.114057311], [0.260812592], [0.43991232], [0.964409284], [0.184401415], [0.345145446], [0.17589458100000002], [0.312514453], [0.674131879], [0.32825045], [0.598231057], [0.09259881699999999], [0.497916521], [0.419776521], [0.31217670000000003], [0.937857107], [0.049030963], [0.47610452600000003], [0.447397526], [0.295806058], [0.737363977], [0.625896253], [0.408813429], [0.437511156], [0.691351375], [0.935555275], [0.437846654], [0.072217715], [0.67636067], [0.468883999], [0.543820644], [0.6555226470000001], [0.6935289240000001], [0.10887831199999999], [0.285463743], [0.0], [0.706495497], [0.273530633], [0.292320271], [0.673984307], [0.12612182800000002], [0.9467074590000001], [0.9363388979999999], [0.8537553640000001], [0.7060713609999999], [0.693682186], [0.508527882], [0.34717038899999997], [0.704154263], [0.658730088], [0.155841557], [0.311085435], [0.281135347], [0.094587802], [0.6832609540000001], [0.9077292509999999], [0.29151267399999997], [0.752734459], [0.93482964], [0.071413953], [0.5948963270000001], [0.404672015], [0.13837621], [0.7473384679999999], [0.530882486], [0.282649594], [0.699335734], [0.056111250999999994], [0.855234998], [0.07789512700000001], [0.891649583], [0.38674227899999997], [0.27113158], [0.958888961], [0.085120869], [0.5269022489999999], [0.066577785], [0.841506738], [0.255342095], [0.060545771], [0.073385869], [0.187493723], [0.858365688], [0.090640352], [0.7097252270000001], [0.631300647], [0.24750447399999997], [0.822843584], [0.373476759], [0.625538582], [0.292951715], [0.299730324], [0.25121407], [0.344480551], [0.293064767], [0.7628032240000001], [0.7384708040000001], [0.674883265], [0.719151612], [0.13098021599999998], [0.511328036], [0.04492903], [0.560914449], [0.7440406409999999], [0.266961634], [0.644231853], [0.038113352], [0.05715529900000001], [0.34139246100000004], [0.7204636320000001], [0.402878236], [0.635148967], [0.320729467], [0.09120969400000001], [0.23414609], [0.8902211309999999], [0.602170884], [0.633652055], [0.806240837], [0.739731184], [0.465231269], [0.7321109], [0.373874305], [0.501587947], [0.11538315800000001], [0.7319466040000001], [0.41829872799999995], [0.062259590999999996], [0.391496379], [0.35984929], [0.24523562699999998], [0.610028339], [0.43540360200000006], [0.434309675], [0.523763344], [0.17118786600000002], [0.18773430300000002], [0.945014638], [0.027851097000000002], [0.68445706], [0.178014532], [0.643427879], [0.59588355], [0.372361682], [0.586103584], [0.271658852], [0.59951107], [0.468363088], [0.314515565], [0.21893726], [0.254716562], [0.25612815], [0.602259755], [0.134381075], [0.513887424], [0.624241636], [0.160251854], [0.580708108], [0.270540486], [0.832919932], [0.93032134], [0.719157884], [0.886720033], [0.098792281], [0.787174286], [0.365592376], [0.719576193], [0.8058956], [0.7555783340000001], [0.526005909], [0.68880424], [0.22111531199999998], [0.739369477], [0.408440236], [0.348926542], [0.433713763], [0.5964966070000001], [0.6942953000000001], [0.7090309659999999], [0.867652984], [0.89332545], [0.746020922], [0.538284443], [0.8922193140000001], [0.935175765], [0.260527707], [0.956780449], [0.204932484], [0.687733351], [0.329063619], [0.632149831], [0.463744506], [0.698859621], [0.385446564], [0.47997537700000004], [0.732279108], [0.3813543], [0.459326013], [0.257401434], [0.665014804], [0.103399542], [0.425284413], [0.943529051], [0.594750236], [0.543776817], [0.18203988], [0.23584208399999998], [0.585984497], [0.762013168], [0.6849829070000001], [0.676936933], [0.290184964], [0.48106822200000005], [0.492766033], [0.22185623399999999], [0.053875998], [0.082751144], [0.385366225], [0.702513961], [0.91553156], [0.082087436], [0.251280378], [0.41672181700000005], [0.277032672], [0.579539754], [0.569363476], [0.133399703], [0.265045463], [0.936571901], [0.252618554], [0.054033081], [0.802481439], [0.528197693], [0.9515026], [0.572121173], [0.752938227], [0.143857535], [0.513484576], [0.313322389], [0.6877973959999999], [0.37705984], [0.348226142], [0.67763282], [0.24138752100000002], [0.8506501790000001], [0.22034810300000002], [0.476445464], [0.690324025], [0.364695946], [0.6492491970000001], [0.9437019209999999], [0.529645971], [0.299097002], [0.96696247], [0.272005242], [0.314161447], [0.752020991], [0.221882453], [0.7203326729999999], [0.379204782], [0.60168653], [0.582932673], [0.950809853], [0.58830141], [0.880887227], [0.467857701], [0.8799021709999999], [0.619844009], [0.359002573], [0.291511278], [0.694157143], [0.727960353], [0.617703921], [0.39581257], [0.58317282], [0.710332374], [0.253753693], [0.049412227999999996], [0.728378695], [0.432432881], [0.58612345], [0.052342373], [0.053483902], [0.518729378], [0.933040208], [0.7035542840000001], [0.268989899], [0.733006927], [0.44435246700000003], [0.5833946210000001], [0.871172692], [0.42876707799999997], [0.30046084100000003], [0.9533294590000001], [0.606443965], [0.90986815], [0.714896449], [0.49734950899999997], [0.8530974859999999], [0.721804145], [0.303467328], [0.664485096], [0.27978062], [0.569481665], [0.628628926], [0.088368123], [0.733567326], [0.537436778], [0.638593691], [0.954726948], [0.632202332], [0.642134651], [0.744653087], [0.115714007], [0.48625007299999995], [0.440356144], [0.08272289], [0.511591027], [0.394627555], [0.224394], [0.626927584], [0.290254057], [0.779008053], [0.86610579], [0.873326081], [0.49548916], [0.594297695], [0.9182015840000001], [0.5770427539999999], [0.019467671000000002], [0.6702982820000001], [0.546595316], [0.591665146], [0.42155819], [0.6856085590000001], [0.340303024], [0.675626741], [0.319067345], [0.38849966399999997], [0.706949589], [0.559409515], [0.687663508], [0.7088045540000001], [0.6818880940000001], [0.42253510899999996], [0.320004605], [0.6582813679999999], [0.634154867], [0.7773320090000001], [0.812677205], [0.074280797], [0.39600217], [0.054933913], [0.825058925], [0.382642009], [0.8687298179999999], [0.588043346], [0.891551577], [0.10920046], [0.647682781], [0.724342512], [0.07016304400000001], [0.280882054], [0.039113261], [0.579641592], [0.639000922], [0.281745925], [0.647857744], [0.6479057970000001], [0.875226264], [0.567603305], [0.262940591], [0.268026042], [0.40519133], [0.479965451], [0.33552403], [0.777165379], [0.42548796299999997], [0.237986115], [0.142522971], [0.724176488], [0.234698933], [0.07818228099999999], [0.855990155], [0.270251765], [0.435517841], [0.762697513], [0.46448725799999996], [0.396112685], [0.37638092100000003], [0.29459467699999997], [0.6944921209999999], [0.622767949], [0.8475597220000001], [0.301463054], [0.912937812], [0.500017182], [0.902587935], [0.304517943], [0.299165673], [0.092014087], [0.488548917], [0.664664437], [0.26534954899999996], [0.723657021], [0.149262385], [0.04577339], [0.69661064], [0.42181486], [0.733845785], [0.418795386], [0.677443529], [0.26128360300000003], [0.268527767], [0.5443222360000001], [0.431632036], [0.981018141], [0.21498072399999998], [0.39472999299999995], [0.122224944], [0.297496875], [0.37490443100000004], [0.68698771], [0.388549207], [0.039296071], [0.73553424], [0.37929489299999997], [0.7321233859999999], [0.33922143899999996], [0.659450594], [0.054838642], [0.640112102], [0.30714170399999996], [0.39661190700000004], [0.420439161], [0.24171497399999997], [0.065893153], [0.9105219370000001], [0.697163103], [0.072559853], [0.81825094], [0.311888815], [0.961644609], [0.816325524], [0.14647302], [0.548753945], [0.946158087], [0.293992717], [0.331479643], [0.9062200309999999], [0.525540416], [0.83301411], [0.514849806], [0.574609024], [0.46871185299999996], [0.71002775], [0.645973276], [0.229794416], [0.551783393], [0.055822990999999995], [0.331750941], [0.715520198], [0.583924357], [0.30695769100000003], [0.7914782370000001], [0.16423663900000002], [0.065711219], [0.948993132], [0.080423835], [0.052495426], [0.566346135], [0.3630266], [0.605442195], [0.6308505839999999], [0.065791238], [0.28681707100000003], [0.685462839], [0.260853706], [0.659122429], [0.44317392200000005], [0.602063986], [0.060366910999999995], [0.781903153], [0.5145798070000001], [0.48388621299999995], [0.600213807], [0.49736405200000006], [0.411145245], [0.116999171], [0.34189014100000004], [0.746950848], [0.39629274600000003], [0.6221438429999999], [0.335271141], [0.140257137], [0.081620681], [0.069837569], [0.46894000799999996], [0.9908574170000001], [0.896616832], [0.255310561], [0.22464526699999998], [0.01991825], [0.296480415], [0.155458996], [0.577916714], [0.9563030309999999], [0.813464394], [0.529675785], [0.287671353], [0.48039136], [0.28104482199999997], [0.633196521], [0.09332537699999999], [0.28447398100000004], [0.052223775], [0.051129385], [0.967405608], [0.040045727999999996], [0.9085829209999999], [0.6621174160000001], [0.42470320899999997], [0.72207806], [0.666193327], [0.509681253], [0.7513536209999999], [0.279073124], [0.074927], [0.916359535], [0.31040327], [0.716604052], [0.485587085], [0.30607518100000003], [0.477558204], [0.7119239409999999], [0.066348638], [0.27453935100000004], [0.31082252], [0.47607312700000004], [0.186795565], [0.26654207], [0.070231142], [0.26951927], [0.800004713], [0.27363366699999997], [0.14647919199999998], [0.378318951], [0.373849065], [0.242170835], [0.249796488], [0.066591188], [0.372956798], [0.501812291], [0.313097752], [0.8802021959999999], [0.51981893], [0.364138746], [0.49268289600000004], [0.285732652], [0.890114985], [0.316419561], [0.26866354], [0.771975959], [0.968888992], [0.080334377], [0.7368282209999999], [0.30055807100000004], [0.9179503929999999], [0.465815039], [0.054036682], [0.963150123], [0.08965350300000001], [0.7076932340000001], [0.636416037], [0.539521117], [0.114757161], [0.357312419], [0.67639834], [0.43482839], [0.032326387000000005], [0.711365605], [0.187486519], [0.052789653], [0.5058636129999999], [0.927431873], [0.6809842559999999], [0.882822186], [0.495705441], [0.596240398], [0.320610701], [0.3413685], [0.159681797], [0.318133669], [0.8393010479999999], [0.06435925099999999], [0.470216633], [0.7762522909999999], [0.635843383], [0.62510543], [0.52959065], [0.986900166], [0.078585688], [0.233284267], [0.363330957], [0.7167169809999999], [0.37588979200000006], [0.223316889], [0.299343986], [0.538595767], [0.730297124], [0.66033077], [0.435296009], [0.326494313], [0.854402708], [0.5734938470000001], [0.757786135], [0.704743233], [0.281575597], [0.671968208], [0.313726015], [0.364338275], [0.368216396], [0.38629520700000003], [0.655971865], [0.5660252729999999], [0.424999093], [0.090110371], [0.772350538], [0.331047258], [0.273716188], [0.23877568], [0.37307977200000003], [0.331185868], [0.256134531], [0.678373225], [0.43463833799999996], [0.654668307], [0.986681065], [0.371520495], [0.408359618], [0.40932365], [0.283412082], [0.395246531], [0.010984428000000001], [0.306013869], [0.266194806], [0.299318521], [0.318293946], [0.74282591], [0.09766432900000001], [0.079666942], [0.613258767], [0.99443072], [0.568835082], [0.7080345159999999], [0.37059271899999996], [0.669867361], [0.651295625], [0.462531569], [0.7196256190000001], [0.45377248], [0.394863946], [0.323974831], [0.146454724], [0.7790670409999999], [0.401828915], [0.601479585], [0.856423023], [0.565242962], [0.301225108], [0.282108144], [0.594378011], [0.705312368], [0.5408696279999999], [0.319249574], [0.36176613799999996], [0.625000704], [0.316287401], [0.047239021], [0.801182233], [0.508474436], [0.8178934109999999], [0.399235601], [0.9740519990000001], [0.72241535], [0.039564764], [0.908684108], [0.47301013399999997], [0.7180496279999999], [0.7634790690000001], [0.6475965370000001], [0.8949973859999999], [0.22282590100000002], [0.359012234], [0.944910252], [0.297877816], [0.172517997], [0.556586265], [0.876481735], [0.48667784299999994], [0.459496733], [0.47412637700000004], [0.70101144], [0.337597387], [0.537578886], [0.966992448], [0.056849545], [0.233249065], [0.380054711], [0.602929443], [0.303847999], [0.170194553], [0.972168554], [0.332168927], [0.6887286890000001], [0.110773401], [0.273352065], [0.572939678], [0.491457065], [0.281389999], [0.821697261], [0.6749776829999999], [0.585134549], [0.7105961159999999], [0.040488789], [0.568054311], [0.321752928], [0.611850232], [0.926096887], [0.618347428], [0.667629785], [0.39773346600000004], [0.290875487], [0.594375103], [0.508255233], [0.338571357], [0.43230234700000003], [0.302221978], [0.87619819], [0.080204492], [0.092333532], [0.09365644699999999], [0.6084523510000001], [0.732654598], [0.944158855], [0.26742308], [0.731124201], [0.661308553], [0.38776626200000003], [0.962585273], [0.322067067], [0.6340810929999999], [0.475345002], [0.35355897299999994], [0.8859363159999999], [0.876798106], [0.221581064], [0.394362449], [0.8050356759999999], [0.452898486], [0.592520516], [0.761026394], [0.245049023], [0.37213936299999995], [0.681054822], [0.7471431479999999], [0.9207395290000001], [0.097207945], [0.699302998], [0.721647006], [0.5353561139999999], [0.738293805], [0.7064675509999999], [0.67395061], [0.7112122909999999], [0.302558708], [0.080097855], [0.707010837], [0.512248622], [0.659627472], [0.657559694], [0.100645606], [0.92665363], [0.892879338], [0.839157508], [0.890959718], [0.556754471], [0.960361937], [0.631037864], [0.029838065], [0.278843351], [0.926157705], [0.551504258], [0.485942349], [0.43723469600000003], [0.25231801800000003], [0.515466972], [0.43725229600000004], [0.493724207], [0.83324725], [0.317521477], [0.28623456199999997], [0.726833965], [0.495667033], [0.028645255], [0.31967191699999997], [0.674344598], [0.7660371890000001], [0.65456992], [0.7565143809999999], [0.528253719], [0.38971949100000003], [0.355087459], [0.87015202], [0.7390833059999999], [0.305761846], [0.411587673], [0.063633094], [0.735409395], [0.605916669], [0.539395562], [0.566183532], [0.674795186], [0.070993366], [0.12526410000000002], [0.279601492], [0.952174402], [0.233806762], [0.43724742899999997], [0.925423095], [0.433498634], [0.52517902], [0.088435529], [0.447677638], [0.647000631], [0.9036033370000001], [0.265790738], [0.66419695], [0.498120658], [0.49018894399999996], [0.747084187], [0.906783648], [0.678770917], [0.348599859], [0.294839683], [0.705691827], [0.211917931], [0.063201124], [0.276699543], [0.672459395], [0.8082059490000001], [0.296538373], [0.16012686199999998], [0.439385032], [0.555951416], [0.386240112], [0.158689619], [0.214499855], [0.299579429], [0.569161656], [0.488614799], [0.8782950209999999], [0.649380949], [0.465713341], [0.16813774], [0.87529545], [0.8411323409999999], [0.33292081], [0.5130478589999999], [0.30505507800000004], [0.8126269909999999], [0.25096706], [0.5024355779999999], [0.45799074100000003]], \"hoverlabel\": {\"namelength\": 0}, \"hovertemplate\": \"0=%{x}<br>1=%{y}<br>2=%{z}<br>Feature=%{customdata[0]}<br>Label=%{marker.color}\", \"legendgroup\": \"\", \"marker\": {\"color\": [0, 0, 1, 1, 0, 0, 0, 0, 1, 1, 0, 1, 0, 0, 1, 1, 0, 1, 1, 0, 1, 0, 0, 1, 1, 1, 0, 0, 1, 1, 0, 0, 1, 1, 0, 0, 1, 0, 0, 0, 0, 0, 0, 1, 0, 0, 1, 0, 0, 0, 0, 1, 0, 1, 0, 1, 1, 0, 0, 1, 0, 0, 0, 1, 0, 1, 0, 0, 0, 0, 0, 0, 0, 0, 0, 0, 0, 0, 0, 0, 0, 0, 0, 0, 0, 0, 0, 0, 0, 0, 0, 0, 0, 0, 0, 0, 0, 0, 0, 0, 0, 0, 0, 0, 0, 0, 0, 0, 0, 0, 0, 0, 0, 0, 0, 0, 0, 0, 0, 0, 0, 0, 0, 0, 0, 0, 0, 0, 0, 0, 0, 0, 0, 0, 0, 0, 0, 0, 0, 0, 0, 0, 0, 0, 0, 0, 0, 0, 0, 0, 0, 0, 0, 0, 0, 0, 0, 0, 0, 0, 0, 0, 0, 0, 0, 0, 0, 0, 0, 0, 0, 0, 0, 0, 0, 0, 0, 0, 0, 0, 0, 0, 0, 0, 0, 0, 0, 0, 0, 0, 0, 0, 0, 0, 0, 0, 0, 0, 0, 0, 0, 0, 0, 0, 0, 0, 0, 0, 0, 0, 0, 0, 0, 0, 0, 0, 0, 0, 0, 0, 0, 0, 0, 0, 0, 0, 0, 0, 0, 0, 0, 0, 0, 0, 0, 0, 0, 0, 0, 1, 0, 0, 0, 0, 0, 0, 0, 0, 0, 0, 0, 0, 0, 0, 0, 0, 0, 0, 0, 0, 0, 0, 0, 0, 0, 0, 0, 0, 0, 0, 0, 0, 0, 1, 0, 0, 0, 0, 0, 0, 0, 1, 0, 0, 0, 0, 0, 0, 0, 0, 0, 0, 0, 0, 0, 0, 0, 0, 0, 0, 0, 0, 0, 0, 0, 0, 0, 0, 0, 0, 0, 0, 0, 1, 0, 0, 0, 0, 0, 0, 0, 0, 0, 0, 0, 0, 0, 0, 0, 0, 0, 0, 0, 0, 0, 0, 0, 0, 0, 0, 0, 0, 0, 0, 0, 0, 0, 0, 0, 0, 0, 0, 0, 0, 0, 0, 0, 0, 0, 0, 0, 0, 0, 0, 0, 0, 0, 0, 0, 0, 0, 0, 0, 0, 0, 0, 0, 0, 0, 0, 0, 0, 0, 0, 0, 0, 0, 0, 0, 0, 0, 0, 0, 0, 0, 0, 0, 0, 0, 0, 0, 0, 0, 0, 0, 0, 0, 0, 0, 0, 0, 0, 0, 0, 0, 0, 0, 0, 0, 0, 0, 0, 0, 0, 0, 0, 0, 0, 0, 0, 0, 0, 0, 0, 0, 0, 0, 0, 0, 0, 0, 0, 0, 0, 0, 0, 0, 0, 0, 0, 0, 0, 0, 0, 0, 0, 0, 0, 0, 0, 0, 0, 0, 0, 0, 0, 0, 0, 0, 0, 0, 0, 0, 0, 0, 0, 0, 0, 0, 0, 0, 0, 0, 0, 0, 0, 0, 0, 0, 0, 0, 0, 0, 0, 0, 0, 0, 0, 0, 0, 0, 0, 0, 0, 0, 0, 0, 0, 0, 0, 0, 0, 0, 0, 0, 0, 0, 0, 0, 0, 0, 0, 0, 1, 0, 0, 0, 0, 0, 0, 0, 0, 0, 0, 0, 0, 0, 0, 0, 0, 0, 0, 0, 0, 0, 0, 0, 0, 0, 0, 0, 0, 0, 0, 0, 0, 0, 0, 0, 0, 0, 0, 0, 0, 0, 0, 0, 0, 0, 0, 0, 0, 0, 0, 0, 0, 0, 0, 0, 0, 0, 0, 0, 0, 0, 0, 0, 0, 0, 0, 0, 0, 0, 0, 0, 0, 0, 0, 0, 0, 0, 0, 1, 0, 0, 0, 0, 0, 0, 0, 0, 0, 0, 0, 0, 0, 0, 0, 0, 0, 0, 0, 0, 0, 0, 0, 0, 0, 0, 0, 0, 0, 0, 0, 0, 0, 0, 0, 0, 0, 0, 0, 0, 0, 0, 0, 0, 0, 0, 0, 0, 0, 0, 0, 0, 0, 0, 0, 0, 0, 0, 0, 0, 0, 0, 0, 0, 0, 0, 0, 0, 0, 0, 0, 0, 0, 0, 0, 0, 0, 1, 0, 0, 0, 0, 0, 0, 0, 0, 0, 0, 0, 0, 0, 0, 0, 0, 0, 0, 0, 1, 0, 0, 1, 0, 0, 0, 1, 1, 0, 1, 0, 1, 1, 1, 0, 0, 1, 1, 0, 1, 0, 1, 1, 1, 0, 0, 0, 0, 0, 0, 0, 0, 0, 0, 0, 0, 0, 0, 0, 0, 0, 0, 1, 0, 0, 0, 0, 0, 0, 0, 0, 0, 0, 0, 0, 0, 0, 0, 0, 0, 0, 0, 0, 0, 0, 0, 0, 0, 0, 0, 0, 0, 0, 0, 0, 0, 0, 0, 0, 0, 0, 0, 0, 0, 0, 0, 0, 0, 0, 0, 0, 0, 0, 0, 0, 0, 0, 0, 0, 0, 0, 0, 0, 0, 0, 0, 0, 0, 0, 0, 0, 0, 0, 0, 0, 0, 0, 0, 0, 0, 1, 0, 0, 0, 0, 0, 0, 0, 0, 0, 0, 0, 0, 0, 0, 0, 0, 0, 0, 0, 0, 0, 0, 0, 0, 0, 0, 0, 0, 0, 0, 0, 0, 0, 0, 0, 0, 0, 0, 0, 0, 0, 0, 0, 0, 0, 0, 0, 0, 0, 0, 0, 0, 0, 0, 0, 0, 0, 0, 0, 0, 0, 0, 0, 0, 0, 0, 0, 0, 0, 0, 0, 0, 0, 0, 0, 0, 0, 0, 0, 0, 0, 0, 0, 0, 0, 0, 0, 0, 0, 0, 0, 0, 0, 0, 0, 0, 0, 0, 0, 0, 0, 0, 0, 0, 0, 0, 0, 0, 0, 0, 0, 0, 0, 0, 0, 0, 0, 0, 0, 0, 0, 0, 0, 0, 0, 0, 0, 0, 0, 0, 0, 0, 0, 0, 0, 0, 0, 0, 0, 0, 0, 0, 0, 0, 0, 0, 0, 0, 0, 0, 0, 0, 0, 0, 0, 0, 0, 0, 0, 0, 0, 0, 0, 0, 0, 0, 0, 0, 0, 0, 0, 0, 0, 0, 0, 0, 0, 0], \"coloraxis\": \"coloraxis\", \"opacity\": 0.7, \"symbol\": \"circle\"}, \"mode\": \"markers\", \"name\": \"\", \"scene\": \"scene\", \"showlegend\": false, \"type\": \"scatter3d\", \"x\": [1.8713560104370117, -11.439574241638184, 13.271452903747559, 3.2051026821136475, 17.955739974975586, 0.3332439661026001, -14.003661155700684, 5.016419887542725, -2.9533772468566895, -1.878661870956421, 9.680658340454102, 17.30192756652832, 9.184420585632324, 10.010374069213867, 8.650851249694824, 3.8741252422332764, 9.189680099487305, -11.623967170715332, 12.349785804748535, 2.2860069274902344, -0.5591947436332703, 5.83563232421875, 11.038824081420898, -2.220764636993408, 4.518170356750488, 5.583648204803467, 16.20589256286621, -6.06482458114624, 8.64001178741455, 7.641500473022461, -4.560690402984619, -9.528372764587402, 5.765650749206543, 7.598107814788818, -5.497290134429932, 4.778469085693359, 1.1712478399276733, -6.519089698791504, 5.421244144439697, 1.166884183883667, -15.466819763183594, 7.035709857940674, -13.266530990600586, 5.61476993560791, 7.9229021072387695, 3.4838144779205322, 7.136571884155273, -2.527407646179199, 17.0286865234375, -15.570621490478516, 11.008308410644531, 10.942060470581055, -6.2239813804626465, 3.485992908477783, 2.2809391021728516, -11.613775253295898, -0.06677018105983734, -5.041030406951904, 7.40152645111084, 12.258630752563477, -6.089344024658203, -7.780776500701904, 12.538226127624512, 6.59896993637085, -15.541668891906738, 6.517185211181641, -10.915810585021973, -11.251687049865723, 16.148582458496094, 2.7796154022216797, 10.306217193603516, 5.660558700561523, 4.400539398193359, 6.9698872566223145, 1.900038480758667, 2.6944355964660645, 14.247672080993652, 9.42965030670166, 3.3212575912475586, -0.1423947960138321, -0.05096578598022461, 3.6806366443634033, 13.300154685974121, -8.239903450012207, -11.897387504577637, -7.354671955108643, -12.1891450881958, -14.461090087890625, -4.170692443847656, 6.361565113067627, 4.559991836547852, 9.41323184967041, -13.24079704284668, -15.743345260620117, -11.394815444946289, 12.699065208435059, -8.87324333190918, -6.692358493804932, -5.921970367431641, 13.71992301940918, 5.368685722351074, -14.883018493652344, -7.082186698913574, -7.479924201965332, 11.356163024902344, -3.497854471206665, -9.429957389831543, -8.472461700439453, 1.0705243349075317, 8.731708526611328, 6.673709392547607, 5.650968074798584, 9.219757080078125, 0.6786837577819824, 15.915081024169922, 5.589134216308594, -15.858603477478027, -16.032194137573242, 4.664984226226807, -7.690738201141357, 5.7881999015808105, -4.257259368896484, -7.3564348220825195, -14.281352996826172, 0.44508183002471924, -9.749308586120605, -9.880733489990234, 3.911621570587158, -11.478059768676758, -8.721007347106934, -3.5111379623413086, -8.428735733032227, 10.046496391296387, -11.43879508972168, -15.831334114074707, 0.06319019943475723, 13.641556739807129, 7.925920486450195, -10.420003890991211, -6.3398237228393555, 7.418773651123047, 5.4885125160217285, -6.9812774658203125, 15.041011810302734, -7.961916923522949, -1.2258409261703491, 5.150580406188965, -13.143681526184082, -10.98830509185791, -6.659332275390625, 7.308524131774902, 2.6397314071655273, -4.279012680053711, -7.603296756744385, 5.23834753036499, -9.648860931396484, -15.838025093078613, -15.493481636047363, 5.501004695892334, 4.861358642578125, -15.076250076293945, -5.419862270355225, 4.215892791748047, 2.1361143589019775, 3.4128756523132324, -16.20313835144043, 7.627652168273926, 8.243988037109375, 11.523947715759277, 0.8111326098442078, -9.817951202392578, -5.986565589904785, 4.57427453994751, 14.214310646057129, -1.8205387592315674, -14.549030303955078, 3.551363706588745, 13.363454818725586, -10.490635871887207, 6.49542236328125, -3.721359968185425, 5.031826019287109, -7.862856388092041, 6.830195426940918, 7.7104573249816895, -16.610652923583984, 8.36729621887207, -4.463042259216309, -0.26910853385925293, 3.1669068336486816, -13.836483001708984, 15.992767333984375, 8.839404106140137, 15.233006477355957, -16.55335807800293, -13.9136962890625, -4.593555450439453, -7.192640781402588, 6.384410858154297, 0.11296211928129196, -2.8926596641540527, -6.2166852951049805, -10.689793586730957, 13.91647720336914, 14.156452178955078, -9.402196884155273, -0.7608729004859924, -2.989037036895752, 4.2551774978637695, -10.192328453063965, -1.8134806156158447, 9.738412857055664, 11.207964897155762, 6.036236763000488, -4.208428859710693, -3.0171847343444824, -10.35115909576416, 9.269725799560547, 11.371830940246582, -5.295250415802002, 14.65870475769043, -8.91842269897461, 13.994860649108887, 1.417145848274231, -17.049428939819336, -1.005440354347229, -12.432036399841309, 0.7684140205383301, -16.213382720947266, 9.482759475708008, -13.76813793182373, -13.365452766418457, 6.519932270050049, 7.4416069984436035, -17.80887794494629, -8.54861068725586, -5.041591644287109, 2.617025136947632, 3.894355297088623, 12.917333602905273, -3.2529706954956055, -5.911289691925049, 11.243326187133789, -13.461709022521973, 4.175283908843994, -16.722124099731445, -0.0913786068558693, 4.846302032470703, -11.928471565246582, 12.066539764404297, -5.222586154937744, -4.5125579833984375, 5.6131110191345215, -5.606558322906494, -2.981027364730835, -1.446439266204834, 0.9570376873016357, -15.520817756652832, 9.7188138961792, -7.357863903045654, 12.118673324584961, -5.380966663360596, 15.67825984954834, -3.5493626594543457, -5.224557876586914, -13.100329399108887, 8.835189819335938, -15.553401947021484, 1.1233997344970703, -5.16866397857666, -7.427371978759766, -12.886905670166016, 2.0217089653015137, 11.384064674377441, 3.513511896133423, -9.24878978729248, 12.050680160522461, 16.151357650756836, -8.462946891784668, -0.5008930563926697, -12.990987777709961, 11.235367774963379, -0.8749173879623413, 1.2576175928115845, 15.30714225769043, -10.460068702697754, -10.758625030517578, -9.162412643432617, -15.295768737792969, 5.6734418869018555, 7.025306701660156, -9.585744857788086, -9.061511039733887, -10.374262809753418, -8.530816078186035, 6.863100051879883, 4.55479621887207, 1.7971919775009155, -8.104915618896484, 1.7619543075561523, -7.78785514831543, -16.645767211914062, 9.487563133239746, 4.358670711517334, 3.047145128250122, 4.5124382972717285, -6.562716960906982, 3.901996612548828, -14.628576278686523, 7.354846477508545, 7.0944390296936035, -13.224365234375, 5.73808479309082, 12.468994140625, -5.213377952575684, 2.604696273803711, 0.6170419454574585, -13.410547256469727, 4.0223541259765625, -11.188326835632324, -7.658796310424805, 2.0181713104248047, 5.711272239685059, -6.998416423797607, 7.456675052642822, 3.8776745796203613, 10.198164939880371, 8.51130485534668, 10.049298286437988, 3.105762243270874, -15.822525978088379, 10.757028579711914, -7.884997844696045, -8.989760398864746, -14.357857704162598, 13.242463111877441, -9.518878936767578, -0.437703937292099, 8.219390869140625, 11.120071411132812, 0.33252808451652527, 0.11181367188692093, 4.772519588470459, -8.056716918945312, 5.49094820022583, 11.597765922546387, -11.369604110717773, -15.839972496032715, 4.274549961090088, 10.30433464050293, -4.087711811065674, 1.1620782613754272, -6.567281246185303, -12.728795051574707, -10.822129249572754, 0.4039539396762848, -5.802523612976074, -9.070728302001953, 12.779132843017578, 5.733383655548096, -9.866317749023438, -7.200528144836426, -3.2069830894470215, -13.666918754577637, 5.40975284576416, 4.101113796234131, 9.958595275878906, -17.512012481689453, -15.753064155578613, -8.830282211303711, -13.165708541870117, -3.423963785171509, 15.28995132446289, 9.844076156616211, 5.677893161773682, -13.77151107788086, 3.209561824798584, 3.0005929470062256, -11.702179908752441, 4.972652435302734, 5.778842926025391, -4.4934587478637695, 1.7972444295883179, 3.306532621383667, -9.685858726501465, -8.585118293762207, -8.660189628601074, -7.824021816253662, -0.4091295599937439, 6.682835578918457, -11.064205169677734, -8.60086441040039, 3.104877471923828, 2.330341100692749, -6.510017395019531, -12.675797462463379, -3.3174221515655518, 4.069084644317627, 4.144203186035156, -0.9161693453788757, -7.441130638122559, -8.863788604736328, -12.91645336151123, -8.823769569396973, 5.969611167907715, -15.33404541015625, 12.895462036132812, -3.5265612602233887, 5.845943450927734, -6.507192134857178, -11.402828216552734, 4.309059143066406, 11.246814727783203, 4.11332368850708, -10.069464683532715, -13.22378921508789, -14.356435775756836, -12.3419771194458, 8.703897476196289, 11.67449951171875, 6.78900146484375, -10.123613357543945, -8.892624855041504, -9.308439254760742, 11.897564888000488, -15.885720252990723, -13.98122787475586, 3.2109339237213135, 3.8993489742279053, 13.865743637084961, 5.20433235168457, -15.596392631530762, -8.051371574401855, 2.8245468139648438, 10.930624961853027, -3.586827039718628, -9.450024604797363, 14.418173789978027, 1.5182373523712158, 14.408013343811035, -2.779953956604004, 3.4589972496032715, 15.054181098937988, 15.196477890014648, -2.831136703491211, 4.477622032165527, 9.254101753234863, -9.301373481750488, 11.349302291870117, 4.174198627471924, -9.69539737701416, 14.122648239135742, -13.90827465057373, 4.2190423011779785, 8.887014389038086, -10.42755126953125, -0.8612598776817322, 13.168888092041016, 3.3746447563171387, 4.474456310272217, -9.982486724853516, 14.277509689331055, -12.969563484191895, 1.926207423210144, -2.8705761432647705, 4.532472133636475, 0.6727942228317261, 8.781403541564941, -16.021936416625977, 12.088286399841309, 6.153010845184326, -9.124809265136719, -12.644845008850098, 0.6393264532089233, -13.491409301757812, -16.70635414123535, -13.284217834472656, 5.65325403213501, -0.49994608759880066, -12.1910982131958, -14.356735229492188, -8.633868217468262, 2.572864532470703, 13.489026069641113, -15.97445011138916, 14.738641738891602, -4.815129280090332, 3.641483783721924, 0.3867979943752289, 13.846752166748047, 4.011260509490967, 7.3651251792907715, 6.622781276702881, 10.14116382598877, 11.626712799072266, 4.724877834320068, -6.665614128112793, 5.749556541442871, -7.853810787200928, 7.2790751457214355, -10.215139389038086, -5.330626487731934, 4.897027492523193, -4.241337776184082, 3.4153950214385986, 13.387869834899902, 3.451575994491577, -14.665940284729004, 4.144099712371826, 5.470266819000244, 17.010324478149414, -15.717337608337402, -5.402752876281738, 10.445329666137695, 2.278656244277954, -10.564613342285156, -6.34514856338501, 3.51900577545166, -3.801565647125244, -6.172749042510986, 5.478125095367432, 12.314237594604492, 8.62879753112793, 9.8565092086792, 11.896479606628418, -16.32756233215332, 2.5047783851623535, -16.66152572631836, -1.7555831670761108, 2.609619379043579, -6.884984016418457, 9.932205200195312, 6.310445785522461, -12.592873573303223, 6.969644069671631, 6.495116710662842, -7.106186866760254, 14.56004524230957, -1.5538314580917358, -5.641528606414795, -6.009243965148926, 4.411035060882568, -11.223219871520996, -11.320878028869629, -16.146921157836914, 7.092999458312988, -2.332914352416992, 4.778066635131836, 4.167285442352295, -1.3507802486419678, -9.54466724395752, 1.1549664735794067, 15.15778636932373, 5.414280891418457, -8.92320728302002, -8.507794380187988, 6.292609691619873, 3.461162567138672, 9.20388126373291, -1.2697008848190308, 15.781661987304688, 11.372669219970703, -9.728148460388184, 8.100895881652832, -9.740260124206543, -0.1587802618741989, -14.702203750610352, -5.066007614135742, 5.738998889923096, 7.335294246673584, 2.563089609146118, 7.534558296203613, 5.261593341827393, 10.64545726776123, -9.289448738098145, 8.780661582946777, -12.683906555175781, -14.885323524475098, 1.348211407661438, 6.078516483306885, 5.9071149826049805, 4.808262348175049, 10.357478141784668, -12.861783981323242, -14.760912895202637, -0.9094112515449524, 2.632770538330078, -10.23031234741211, -17.204227447509766, 9.874838829040527, -9.068097114562988, -12.219423294067383, -1.4633526802062988, 5.780454635620117, -3.5153093338012695, -6.359920501708984, 4.7327423095703125, 10.988985061645508, 2.911297082901001, 14.829573631286621, 6.592135429382324, -3.6092231273651123, 5.674569129943848, -14.970603942871094, 4.130615234375, -10.482529640197754, 8.169583320617676, 12.320083618164062, -8.356402397155762, -7.847275257110596, 8.307137489318848, 6.001008987426758, 6.301594257354736, 1.4862570762634277, 1.4131983518600464, -10.711578369140625, -4.527756690979004, -5.182190418243408, 0.4856182634830475, 2.3141400814056396, -2.671035051345825, -7.024121284484863, -5.372997760772705, -3.959005832672119, 10.101783752441406, 8.165095329284668, -15.434173583984375, 16.96875, -4.403365612030029, 2.1741864681243896, -3.729597568511963, -7.20466423034668, 3.3976945877075195, 12.77596378326416, 6.401378631591797, -1.3025035858154297, -2.488090991973877, -3.0556445121765137, 8.520865440368652, -4.096610069274902, 13.946499824523926, -10.131670951843262, -13.93056869506836, 4.86944580078125, 11.895402908325195, 5.1476054191589355, 12.014683723449707, 0.010113323107361794, 6.149589538574219, 2.204435348510742, -12.376306533813477, -14.099228858947754, -4.491103172302246, 8.200386047363281, -15.031407356262207, -10.68356990814209, 13.715011596679688, 0.9455547332763672, -6.52827262878418, 8.859362602233887, 8.928065299987793, -6.319674968719482, -2.7995028495788574, 1.8988137245178223, 4.54439640045166, -5.013025760650635, 7.709393501281738, -11.597098350524902, -7.329056262969971, -14.257523536682129, -6.238428115844727, -0.29781970381736755, -6.569861888885498, -4.69838285446167, 4.3111395835876465, -10.407410621643066, -10.347633361816406, 8.066498756408691, 4.215394496917725, -11.384005546569824, 10.944442749023438, -13.226340293884277, 0.4829181432723999, 4.331170558929443, -9.424797058105469, -14.717879295349121, -2.0994532108306885, -15.709029197692871, 9.35354995727539, 8.42453384399414, 12.168863296508789, 6.255814075469971, 11.464982032775879, -3.900564432144165, 9.95366096496582, 6.453433990478516, 4.966201305389404, -1.2193557024002075, 4.7016801834106445, 8.410573959350586, -5.573192596435547, -7.483329772949219, 10.040776252746582, 8.629627227783203, -1.7317039966583252, -11.802041053771973, 9.913872718811035, 11.531522750854492, -1.6201759576797485, 5.976363182067871, 7.35207462310791, -15.055439949035645, 1.1380480527877808, 5.5953826904296875, -2.837581157684326, 2.612170696258545, 0.054702650755643845, 2.8200366497039795, -2.839500904083252, -10.864083290100098, 12.426433563232422, -16.509780883789062, -3.99068284034729, 10.873388290405273, -0.07409969717264175, 5.797286510467529, 4.613099098205566, 7.110186576843262, 5.262989521026611, 0.9265961050987244, -1.9038188457489014, 15.200157165527344, -4.069673538208008, -4.394414901733398, -1.2859101295471191, 8.831576347351074, 5.62431526184082, 2.6981325149536133, 2.6049535274505615, 8.64694595336914, -6.540297508239746, 2.6118102073669434, 1.7186915874481201, 8.123455047607422, 4.386177062988281, 1.864145040512085, 7.134634971618652, 8.332035064697266, 13.303800582885742, 9.527579307556152, -10.79422378540039, 15.201155662536621, -11.925101280212402, -16.562511444091797, -13.14721965789795, 13.934775352478027, -0.26430749893188477, -5.767678737640381, 10.711830139160156, -15.046500205993652, 7.362391948699951, -6.458583831787109, -11.077104568481445, -16.009803771972656, 2.7123703956604004, -16.877103805541992, -15.428666114807129, 15.938817977905273, -13.379013061523438, 16.597225189208984, -0.2645207345485687, -0.508751392364502, -2.8666326999664307, -13.59920597076416, 3.12532639503479, -12.58778190612793, -4.455942153930664, -4.700981616973877, 3.5357296466827393, 2.594273328781128, 3.888652801513672, -16.00285530090332, -6.349677085876465, 7.060439586639404, 4.518207550048828, 8.659865379333496, -7.4794158935546875, 3.842313289642334, 0.9966557621955872, -1.9960253238677979, 5.975255489349365, 1.46068274974823, 9.105144500732422, 4.5153350830078125, -16.776981353759766, -8.349632263183594, -11.485330581665039, 11.933075904846191, 4.143474578857422, -12.601399421691895, -2.67673659324646, -4.272829532623291, -2.743143320083618, -11.275733947753906, 13.622115135192871, -15.737444877624512, -10.299357414245605, -8.071976661682129, 7.868528842926025, -12.763201713562012, 13.927913665771484, 6.926505088806152, 3.709756851196289, 5.92539644241333, -6.504510879516602, 11.231419563293457, -7.070037364959717, 7.301365852355957, 3.2468583583831787, 5.17351770401001, 8.290262222290039, 12.034502029418945, 2.2970826625823975, -7.527389049530029, -5.151820182800293, -9.50212287902832, 7.923152923583984, 0.5021904110908508, 3.6460258960723877, 10.26319694519043, -8.432830810546875, 5.082218170166016, 12.471319198608398, 6.911044120788574, 13.428675651550293, 3.3837409019470215, 15.938786506652832, 15.821779251098633, 7.266340732574463, -9.247528076171875, 4.548935413360596, -7.24073600769043, 5.361588954925537, -8.9855318069458, -14.330365180969238, 6.255629062652588, -5.903472423553467, 4.648274898529053, 7.006267070770264, 0.5287660360336304, 6.045745372772217, 6.678891181945801, -8.34537124633789, 5.001999855041504, -1.1869431734085083, -5.689245223999023, -2.2414052486419678, 6.698071002960205, 0.14677967131137848, 9.146588325500488, 5.430554389953613, -0.6603881120681763, -0.4775536060333252, 7.603775501251221, -6.1855597496032715, 7.842170715332031, -16.47679901123047, -1.599976658821106, 4.153550148010254, 5.619462013244629, 6.031991004943848, -9.785815238952637, -12.135442733764648, 7.184854030609131, -12.317092895507812, -10.797733306884766, -6.273238658905029, -4.627346992492676, 0.5676403045654297, 12.886579513549805, 6.47085428237915, 5.695971965789795, -0.2944164276123047, 7.130321502685547, 4.423521518707275, 9.142062187194824, 2.8600778579711914, -8.834976196289062, 1.3561698198318481, 6.427406311035156, 14.190696716308594, 7.227906227111816, 11.01237678527832, -0.032020099461078644, 6.8256754875183105, 3.48922061920166, 0.5483145713806152, -15.284624099731445, -1.392903447151184, -3.559319019317627, -8.807047843933105, -5.990726470947266, -12.020013809204102, 7.988809585571289, 7.318617343902588, 13.995153427124023, 4.654411792755127, -10.1266450881958, 10.53645133972168, 1.8506457805633545, -9.646778106689453, -10.32746696472168, -13.44887924194336, 2.073563814163208, 8.197893142700195, 17.109085083007812, -0.4922810196876526, -7.582129001617432, 6.809958457946777, 9.593626022338867, 6.340089321136475, 10.05489730834961, -6.611089706420898, 0.04746944084763527, -5.309062957763672, 7.600822448730469, -13.303733825683594, 0.03463394194841385, -8.085404396057129, -5.86885929107666, 17.34491539001465, -9.206859588623047, -11.781494140625, 8.557683944702148, 4.42558479309082, 13.317347526550293, -9.267163276672363, 13.238764762878418, -10.522875785827637, 8.648432731628418, 12.456310272216797, -4.073691368103027, 2.8147315979003906, 6.072877883911133, 4.3074493408203125, 9.538125038146973, 3.8313825130462646, 2.5905914306640625, -8.37195873260498, -14.225576400756836, -0.9238783717155457, -3.9956395626068115, 6.924090385437012, 6.348633289337158, -7.091167449951172, -14.312084197998047, 9.709681510925293, 7.957313060760498, 6.910080432891846, -4.547340393066406, -17.413955688476562, -10.18366527557373, 12.877084732055664, 3.689754009246826, 1.2024621963500977, -16.081981658935547, -9.733696937561035, 5.420286178588867, 8.119433403015137, -7.872314453125, 11.15913200378418, 5.613925457000732, -0.02338401786983013, 16.878700256347656, -0.17276480793952942, -13.955072402954102, -12.732111930847168, 11.146186828613281, -3.9703445434570312, 3.6511316299438477, 8.37268352508545, 5.687257766723633, 1.21321702003479, -16.218582153320312, 10.380179405212402, -9.032872200012207, -4.3421101570129395, 4.644542217254639, 7.365978240966797, 15.424272537231445, 4.328152656555176, 4.237756729125977, 5.363653659820557, 13.23974609375, 9.040657997131348, 0.26546549797058105, -8.858174324035645, 0.5724627375602722, 3.1573903560638428, 15.528197288513184], \"y\": [-8.324737548828125, -0.0702325850725174, -0.5151734948158264, 8.690438270568848, -1.547755241394043, 7.075807571411133, 4.890262603759766, 4.922050952911377, -7.583033561706543, -9.25861644744873, 13.333876609802246, 2.6589691638946533, 7.558564186096191, -6.506689071655273, -2.9689218997955322, -1.739302635192871, 7.725864887237549, -5.804253101348877, 0.021586604416370392, 6.073151111602783, 7.063941955566406, -5.1957106590271, -5.341568470001221, -7.351661682128906, 5.096775054931641, -3.6333611011505127, 1.7962473630905151, -5.263546943664551, -4.563555717468262, 0.7236289978027344, -5.560493469238281, 3.723909378051758, -7.751112937927246, -2.505058765411377, 0.4163154363632202, -4.063047885894775, 6.126082420349121, -5.362508773803711, -7.527187347412109, 6.535043239593506, 2.30776309967041, 0.2193884700536728, -3.068620443344116, 5.713608741760254, -0.44461244344711304, -1.5821986198425293, -1.0878461599349976, -7.203324794769287, 2.4363014698028564, -1.2625491619110107, 8.619194984436035, 0.21305027604103088, -2.025310754776001, -1.564863681793213, 7.59559440612793, 8.976811408996582, 7.129286766052246, 3.894047737121582, -1.8665179014205933, 2.2040979862213135, 4.2891387939453125, -0.43082499504089355, 5.362869739532471, 0.639213502407074, -2.5015387535095215, -1.495829463005066, 3.3421669006347656, -6.126316547393799, 1.6243535280227661, 4.0348663330078125, 0.2361268550157547, 5.099170684814453, -8.798558235168457, 8.563140869140625, -4.5395660400390625, -2.7333481311798096, 1.0024056434631348, 2.890871524810791, -9.45089054107666, -7.701306343078613, -6.828802108764648, -2.7327260971069336, -2.9261176586151123, -0.4197346866130829, 3.7800540924072266, 0.12408719956874847, -1.4667359590530396, -0.27250513434410095, 2.831982374191284, -3.923050880432129, -5.686758041381836, 11.35297679901123, -4.268337249755859, 4.741515159606934, 6.470818042755127, 3.8441500663757324, -3.5831210613250732, 0.4049256443977356, -6.490517616271973, 0.056094128638505936, -8.286600112915039, 0.4783664643764496, -0.20573556423187256, -1.4262721538543701, 5.042197227478027, -6.586485385894775, -2.6254124641418457, 4.449365615844727, -5.236805438995361, 2.0260062217712402, -2.013242483139038, -6.652071952819824, 11.202455520629883, -2.762997627258301, -1.0451505184173584, -2.9132680892944336, 5.880673885345459, 4.937282562255859, 9.137243270874023, -6.421710014343262, -3.1288585662841797, 0.5249893069267273, 3.3527302742004395, -1.3048744201660156, -1.598382592201233, 0.9166331887245178, 6.325082302093506, 7.311026573181152, 3.089017629623413, 0.9002025723457336, 3.080360174179077, -2.871452808380127, 8.336760520935059, 5.620716571807861, 0.931858479976654, -4.370095729827881, -3.348599672317505, 7.3641252517700195, 2.250699281692505, -2.353954553604126, 9.322943687438965, -2.386897087097168, -0.660060465335846, -2.4539318084716797, -6.638559341430664, -8.240957260131836, 3.4345829486846924, 1.6181741952896118, 1.6198304891586304, -3.296738624572754, -2.262485980987549, -3.072942018508911, 1.990195631980896, -0.002541367895901203, -6.341429233551025, -4.527962684631348, -2.0590035915374756, 0.07407787442207336, -6.752069473266602, 8.384957313537598, 6.816992282867432, 3.1040806770324707, -6.1948747634887695, -10.324384689331055, 7.508854866027832, 0.20253053307533264, 8.49631118774414, -0.7866905331611633, 0.18751324713230133, -1.1124945878982544, -2.2383596897125244, 0.21558085083961487, 5.447627067565918, -2.1883738040924072, -1.0170247554779053, -0.4090639352798462, 7.241109848022461, -1.8247445821762085, 2.1347906589508057, 7.4771504402160645, 0.546949028968811, 2.965346097946167, 3.67450213432312, 0.5494009256362915, -0.46205201745033264, 5.927703857421875, 2.3470544815063477, 2.9419453144073486, -6.485179424285889, -3.7309954166412354, 1.265815258026123, -2.084702253341675, 12.01779556274414, -1.5375490188598633, 1.398528814315796, 6.524574279785156, 1.4659663438796997, 5.0702223777771, -9.307733535766602, -1.5266284942626953, 0.8120876550674438, -2.3563599586486816, 7.216076374053955, -2.5059385299682617, -0.881562352180481, 4.331971168518066, -10.329240798950195, 1.5203269720077515, 3.2730512619018555, 4.4681830406188965, -0.5461371541023254, 4.484105587005615, 1.5381180047988892, -2.9600179195404053, 0.5749038457870483, 1.6337289810180664, 3.711794137954712, 4.329457759857178, 3.147040605545044, -3.7394933700561523, -0.8076735734939575, 1.7215211391448975, -1.5498733520507812, -6.46996545791626, 0.7628006339073181, -9.755779266357422, -1.4604558944702148, -7.421269416809082, 1.4962135553359985, 6.1486406326293945, 5.10101842880249, -4.013832092285156, 7.204299449920654, 7.377665042877197, 4.067262649536133, 2.0457608699798584, -8.271103858947754, -3.274384021759033, 6.9947123527526855, -2.6087584495544434, 1.7710717916488647, 3.540442705154419, -1.6486694812774658, 1.0024946928024292, 3.6708009243011475, 0.38934797048568726, -4.7032904624938965, -8.471809387207031, -1.1553946733474731, -4.613948345184326, 1.8059217929840088, -2.1008431911468506, 5.0974249839782715, 2.97943377494812, -7.42988920211792, -5.488781452178955, -6.9575276374816895, 2.098562717437744, 6.25171422958374, -6.647915363311768, -2.639934778213501, 2.016420841217041, -2.8774869441986084, -0.5032246708869934, 0.11198634654283524, 0.9063344597816467, 6.437977313995361, 3.1298413276672363, -5.32285213470459, 4.899569511413574, 4.026096820831299, 6.134524345397949, -4.115997791290283, -2.752387285232544, 8.382644653320312, 2.4782373905181885, 3.7236275672912598, -1.9667736291885376, 3.579695224761963, -6.326190948486328, -1.5292812585830688, -2.669485092163086, -7.686697483062744, -3.6808533668518066, -0.5835034251213074, 1.4773590564727783, -6.009894847869873, 1.7747005224227905, 1.1192353963851929, -9.812679290771484, -2.8662946224212646, 4.588206768035889, -2.903097629547119, 1.400339961051941, -0.3665425181388855, 11.272597312927246, 4.077470302581787, -10.141303062438965, -2.2393999099731445, -6.660568714141846, -0.3456384241580963, 3.385906934738159, 0.8835574984550476, 4.409417152404785, 3.6123087406158447, -5.196340084075928, 2.0155282020568848, -5.2386579513549805, 1.9527523517608643, -0.46173080801963806, -0.25348854064941406, 2.99438214302063, 3.1221818923950195, -2.790938377380371, 3.558882236480713, -7.016670227050781, -1.4068020582199097, 3.2813425064086914, -5.938191890716553, 6.758420467376709, 0.22434182465076447, -5.337151050567627, 6.24075174331665, -1.0294115543365479, -5.04573392868042, -5.046788692474365, 5.5161895751953125, 5.533462047576904, -0.7637027502059937, 4.838677883148193, 3.1970160007476807, 4.794585227966309, 2.656463384628296, -3.805129051208496, -0.7214980125427246, 0.2969720661640167, 1.4346719980239868, -4.740614414215088, 2.3097727298736572, 4.982421875, -5.4785542488098145, -9.643741607666016, 9.217370986938477, 0.7617995142936707, 4.928015232086182, -1.7452565431594849, 6.41417121887207, 2.943108558654785, 7.692745685577393, 4.944807529449463, -3.010831117630005, -4.582510471343994, -6.463454246520996, 5.945487022399902, -6.0346269607543945, -9.573124885559082, -0.7322442531585693, 0.2923301160335541, 2.854152202606201, -4.265017986297607, 0.19570554792881012, 1.1020547151565552, -5.2818121910095215, 0.9187940359115601, 6.806973934173584, -6.573225021362305, 0.7342680096626282, 4.427649974822998, 1.8168585300445557, 5.175753116607666, -3.9678680896759033, 1.7822295427322388, 0.11163699626922607, 1.176283836364746, 6.292819499969482, -2.1572811603546143, -4.1566925048828125, 4.580325126647949, 6.8136210441589355, -2.9923031330108643, 6.783133029937744, -2.3171346187591553, -3.8981516361236572, -9.408599853515625, 0.40023273229599, -3.5259063243865967, -3.017638683319092, -3.2552618980407715, -1.3322689533233643, -6.925111293792725, 0.6686655879020691, -4.022799491882324, -5.084750175476074, -3.4154727458953857, -5.309436798095703, 6.103415012359619, -6.126646041870117, 3.809366226196289, -5.9691314697265625, -4.798524379730225, -6.289410591125488, 1.8125280141830444, 3.01684308052063, 3.7653932571411133, 2.635525703430176, 4.035552024841309, 0.753138542175293, -2.7537078857421875, 8.254197120666504, 3.9462790489196777, 0.45795848965644836, -2.9788146018981934, 3.580137252807617, -5.895570278167725, 4.8645405769348145, -3.4698095321655273, -1.6283851861953735, 2.3083341121673584, 5.888943672180176, -1.3345874547958374, -6.848012447357178, -2.0714967250823975, 1.9787849187850952, -0.1610460728406906, 0.5194038152694702, 0.8983122706413269, 4.656323432922363, 4.168842792510986, -8.56859302520752, 1.0454092025756836, -2.855607032775879, 6.2129645347595215, -0.2589612901210785, 4.967837333679199, 0.6434594392776489, -0.2668101489543915, -7.0039896965026855, -0.4562762379646301, -5.740617275238037, -0.11642736941576004, -6.726737976074219, -9.496208190917969, -0.70582515001297, 1.0750775337219238, 2.476544141769409, 7.209360122680664, 1.3590645790100098, 1.1090742349624634, -3.3532369136810303, 2.002661943435669, 1.2881518602371216, -2.720963716506958, -1.569838285446167, -5.319453716278076, 11.51838493347168, 6.432944297790527, -3.083143949508667, -3.023773431777954, -8.647443771362305, -9.140968322753906, -0.06831188499927521, 0.07093855738639832, -2.7424211502075195, -9.984533309936523, -5.190940856933594, -5.547101974487305, -5.350883960723877, 2.1845459938049316, 0.39895766973495483, -0.48989763855934143, -3.65350341796875, -5.854979038238525, -1.798338770866394, -4.3195366859436035, -2.6839096546173096, 1.5385855436325073, 6.145979881286621, 5.78086519241333, -5.691009044647217, 0.5995465517044067, 0.8717679381370544, 0.6250641345977783, 2.8427748680114746, 0.15258640050888062, 6.07191801071167, 0.08825957775115967, 0.609978437423706, -9.19835376739502, -5.2296295166015625, -3.39286732673645, -7.476260662078857, 11.740568161010742, 6.450398921966553, 0.600090742111206, -1.2311712503433228, 3.0730857849121094, 4.3889546394348145, 9.443451881408691, 0.41826438903808594, -4.443273067474365, 2.321550130844116, -4.826839447021484, -4.641086578369141, 2.242469072341919, -8.761780738830566, -3.2724661827087402, -7.272002220153809, 3.4420268535614014, -9.424263954162598, 2.734609365463257, -1.2716516256332397, 0.6453433036804199, 2.6234285831451416, 4.500855922698975, -9.55248737335205, 0.49456778168678284, 1.3552039861679077, -8.126545906066895, -2.8791911602020264, 2.7227590084075928, -8.167713165283203, -2.2453713417053223, 5.266499042510986, -0.5734224319458008, 3.919718027114868, 5.209976673126221, -9.46937370300293, 3.2203829288482666, -1.6480354070663452, -7.086611747741699, -0.11457578092813492, 2.0387961864471436, 8.597497940063477, -4.359807014465332, 10.595378875732422, 0.2867332994937897, 3.7286064624786377, -1.676864743232727, -4.258358001708984, 4.921438694000244, -2.9009850025177, 5.738673686981201, 0.5776274800300598, 2.237738847732544, 2.718660354614258, 10.048117637634277, -7.880692005157471, 5.9143853187561035, 3.0567798614501953, -7.843205451965332, -1.41549551486969, -2.7540674209594727, 0.2577463388442993, -6.706891059875488, 1.9374984502792358, -2.0848658084869385, 8.217884063720703, -4.088003158569336, 5.750406742095947, -5.395624160766602, 0.7950968742370605, 3.1051015853881836, 2.3164660930633545, 13.733534812927246, -6.212147235870361, -9.554141998291016, -0.7690933346748352, -4.45259428024292, 13.615043640136719, 12.66332721710205, -8.193377494812012, 11.480793952941895, 4.053493022918701, 5.087745189666748, 2.193723678588867, -0.4740799069404602, 1.9996947050094604, 0.3836730420589447, -4.400932312011719, -2.3835997581481934, -7.131978511810303, -3.053175449371338, 1.0051472187042236, 3.093456983566284, 1.7901779413223267, -10.5498628616333, -6.656029224395752, -3.3353395462036133, 2.022887706756592, 1.0848339796066284, 1.971029281616211, 0.7203075885772705, -6.391246318817139, 3.2832753658294678, -7.056886196136475, -0.6094075441360474, 5.452141761779785, 1.5561068058013916, 3.784911870956421, 0.7509605288505554, 7.963066101074219, 0.21245145797729492, 2.4477083683013916, 5.333528995513916, 4.605035781860352, 2.3998775482177734, 4.758009910583496, 4.4252190589904785, -6.873300075531006, -1.347948670387268, 5.355464935302734, -3.691126823425293, -8.637540817260742, -5.551003456115723, -9.2296781539917, 1.9224424362182617, 0.9449252486228943, 2.8129332065582275, -1.7779462337493896, -6.794846534729004, -5.682140827178955, -1.1180603504180908, 1.0933747291564941, -3.699017286300659, -0.18819519877433777, 3.2789602279663086, 6.143346309661865, -1.0725500583648682, -1.9123560190200806, -9.958403587341309, 1.3473981618881226, 4.183281421661377, -6.457189559936523, -2.548520565032959, -4.296861171722412, -4.332420349121094, 0.8229075074195862, -5.7787957191467285, 11.887499809265137, -7.287273406982422, -0.9309884905815125, 4.729636192321777, 6.238262176513672, -2.5783495903015137, 3.9053006172180176, -6.6497483253479, -0.07595846801996231, -2.7513427734375, 3.087275266647339, -4.913359642028809, -1.5153758525848389, -0.37725314497947693, -1.7198272943496704, 7.981446743011475, -0.531724214553833, 5.226179122924805, -1.0921759605407715, -3.8332455158233643, -3.0853285789489746, 2.3287391662597656, 1.1018176078796387, -0.930256724357605, -5.389673233032227, -7.298429489135742, 5.569342613220215, -8.398004531860352, 6.013631343841553, 6.132850170135498, 5.313024044036865, 0.05858694016933441, -2.984123468399048, -9.236712455749512, 1.5016899108886719, -6.439406394958496, 7.762351989746094, -1.262209177017212, 3.486687421798706, 10.280030250549316, 5.066554546356201, 5.436283588409424, -0.00180448975879699, -2.6877920627593994, -5.06784200668335, 5.534558296203613, 3.5784223079681396, 0.22962169349193573, -8.282607078552246, 2.636845350265503, 12.189781188964844, -0.3969716429710388, 3.034754991531372, 0.42426955699920654, 3.004284143447876, -0.06704081594944, 10.27833366394043, 7.517825603485107, -4.042191028594971, -9.644027709960938, -7.810309886932373, 2.3683385848999023, 1.4200596809387207, -0.1068296954035759, -6.4723334312438965, -4.602964878082275, -4.836380958557129, 8.072965621948242, 11.371590614318848, 8.216137886047363, -5.818069934844971, 5.614893913269043, -2.208793878555298, -0.6094417572021484, -0.21211250126361847, -3.5392656326293945, -10.619405746459961, 9.171730041503906, 7.020301818847656, -1.1544826030731201, -10.635461807250977, -3.4262912273406982, 0.004610853735357523, 4.646018028259277, 0.7830420732498169, 0.23299545049667358, 0.7795599102973938, -7.79504919052124, 2.3225347995758057, 7.166111946105957, 7.37691593170166, 6.579204082489014, -0.2797214984893799, 1.272379755973816, -6.254358768463135, -5.53753137588501, -3.730476140975952, 12.390314102172852, -2.820093870162964, -8.572120666503906, -9.692802429199219, 4.182669639587402, -2.561009645462036, -2.6024324893951416, -3.1227569580078125, 6.900079727172852, -5.965271949768066, -9.766779899597168, -3.90088152885437, 10.4881010055542, -2.819889545440674, 1.2133039236068726, 0.40367501974105835, 0.028992321342229843, 6.845821857452393, 1.5327434539794922, -0.5070579648017883, -1.6949294805526733, -7.749957084655762, 2.2563412189483643, 4.285595417022705, 3.4097423553466797, 0.523963451385498, 1.6328450441360474, -2.148625373840332, -1.077774167060852, -7.1304521560668945, 4.521040916442871, 4.069107532501221, -1.1300312280654907, 3.590596914291382, -2.657452344894409, -7.337744235992432, -4.7797441482543945, -5.45823860168457, 4.8651556968688965, -4.597873687744141, 1.4818801879882812, -1.9652029275894165, 0.8336778879165649, -6.314931392669678, -5.497986793518066, -2.547065496444702, 4.601641654968262, 0.2424062043428421, -2.6506617069244385, -9.117111206054688, 0.6087470650672913, 2.266789674758911, 7.871029853820801, -9.921923637390137, -10.16197681427002, 2.1099443435668945, -4.087892055511475, 5.822107315063477, -4.9429402351379395, 2.600245237350464, 3.0149641036987305, -1.037680983543396, -3.1119184494018555, -3.4523704051971436, 1.9974719285964966, 2.61661958694458, -3.2854926586151123, -2.1878583431243896, 0.923711359500885, -2.5133249759674072, 0.19402405619621277, 0.946536660194397, -1.3496860265731812, 9.862861633300781, -4.9896368980407715, -0.8271427154541016, 7.483582019805908, -5.153286457061768, -6.44532585144043, 0.4276782274246216, -3.1805434226989746, -0.12594632804393768, 2.9315388202667236, 6.689836025238037, 6.327889442443848, 13.794788360595703, -3.03391695022583, -10.720053672790527, -1.7445019483566284, 2.005249500274658, -6.0151262283325195, 9.973040580749512, -8.262184143066406, -5.501744747161865, 2.527142286300659, -2.2919256687164307, -4.130146503448486, 4.40264892578125, 6.396129131317139, -3.4870526790618896, 5.140310764312744, 0.9122989773750305, -2.8894412517547607, 13.88429069519043, 0.8278659582138062, -3.405564069747925, -1.4348636865615845, 6.69228982925415, 3.794943332672119, 3.055494785308838, 9.477526664733887, 2.854490280151367, -3.3752238750457764, -2.5885374546051025, -1.7304661273956299, 8.181559562683105, -8.786568641662598, 0.5937848091125488, -3.2699897289276123, -1.2988390922546387, 3.699758768081665, 1.0937774181365967, 10.989021301269531, -9.33374309539795, 6.010861873626709, -7.029870510101318, -8.400745391845703, -4.70920991897583, -3.704892873764038, 2.5228285789489746, 7.259286403656006, 5.290198802947998, -9.913679122924805, 5.002537250518799, -3.139557361602783, 13.244637489318848, -1.3245916366577148, -1.611297369003296, -2.8516969680786133, 7.690435886383057, -3.340664863586426, -4.792585372924805, 3.0574538707733154, -4.2477707862854, -0.5476173162460327, -2.1428871154785156, -6.5606255531311035, -9.143010139465332, 5.027585506439209, 3.6712567806243896, 10.81215763092041, -5.412393093109131, -2.7235395908355713, -6.879292011260986, 5.670469760894775, -1.5496618747711182, 0.274349182844162, 0.023143844678997993, -8.179464340209961, -0.4952715039253235, -3.0311617851257324, -3.5190117359161377, 0.4253229796886444, -1.9205918312072754, -3.154508113861084, 1.3368587493896484, 2.110943555831909, 0.35770145058631897, 3.276299476623535, -5.142077922821045, -3.0455143451690674, 4.0065717697143555, 4.717713356018066, 0.13087297976016998, -6.382289886474609, 1.7394744157791138, -3.142700672149658, -4.4628143310546875, -4.683711528778076, 5.021674633026123, -1.4460779428482056, -4.929991245269775, 2.3444406986236572, 11.303627014160156, 11.673064231872559, -8.428349494934082, 8.332712173461914, -6.486940860748291, -5.209267616271973, 3.997727155685425, -2.417522430419922, 5.4245195388793945, -5.162324905395508, -2.1133155822753906, 4.0925374031066895, -2.3689215183258057, -0.39506852626800537, -1.1815942525863647, 1.8542698621749878, 4.434769153594971, 0.8613595962524414, -3.8934524059295654, 0.2390299141407013, 1.4967681169509888, 13.273810386657715, 1.3870298862457275, 2.9256362915039062, -9.4639253616333, 9.46937370300293, -6.296180725097656, 4.107889175415039, -7.753907203674316, -5.6604509353637695, 2.717632293701172, 5.449203968048096, -5.876351356506348, -2.961247682571411, 3.0705220699310303, 6.763622760772705, -3.303802728652954, -1.675362467765808, 10.54550552368164, 2.535776376724243, 6.653167247772217, 2.285773992538452, 2.2509725093841553, -2.28143310546875, -1.8648983240127563, -8.015976905822754, -4.2785115242004395, 0.8555394411087036, 1.4511421918869019, -6.553600311279297, 3.8798234462738037, 2.0507047176361084, 3.1134729385375977, -2.3197059631347656, -5.4637980461120605, -1.1385830640792847, -6.549886703491211, 1.901964545249939, 0.36846646666526794, 3.9166042804718018, -6.321884632110596, 7.761684417724609, 4.806382656097412, -8.252785682678223, -10.534991264343262, 5.585611343383789, 3.8925156593322754, 2.23038387298584, 3.0105926990509033, 3.8402156829833984, 12.063163757324219, 0.1200462207198143, 7.754433631896973, -4.956557750701904, -6.9398274421691895, 0.2977733910083771, 4.825299263000488, -4.950844764709473, -6.893070697784424, -9.489920616149902, 5.113868713378906, 1.1277207136154175], \"z\": [-4.559534549713135, 6.684345245361328, -1.198509931564331, 12.66943359375, 5.284891605377197, 8.018974304199219, -0.27448201179504395, 16.192541122436523, 2.0099129676818848, -9.008944511413574, 10.567998886108398, 4.326870918273926, 8.359416961669922, 3.9029383659362793, 6.9634222984313965, 13.892572402954102, 8.443857192993164, 0.06827302277088165, -2.555168867111206, 14.614154815673828, 7.826185703277588, -5.021677017211914, 4.173347473144531, 2.3961260318756104, 4.533046245574951, -1.7675559520721436, 3.5072760581970215, -0.06184880807995796, 11.550867080688477, 10.261096954345703, 1.4003875255584717, 7.873634338378906, -1.7100036144256592, 8.453298568725586, -4.990849018096924, -3.6703975200653076, 15.049003601074219, -0.023311592638492584, -4.774449348449707, 9.87643814086914, -5.924530506134033, 7.745368957519531, -3.9623100757598877, 2.7832443714141846, 6.424190998077393, 14.615669250488281, 6.681759357452393, 2.0442428588867188, 4.143517017364502, -1.9770147800445557, 10.129661560058594, -3.968823194503784, -6.3341546058654785, 14.337451934814453, 6.689241886138916, 6.947481155395508, 10.570412635803223, -7.06411600112915, 8.576565742492676, 2.6545588970184326, -4.836174488067627, -2.963466167449951, 11.856375694274902, 8.099344253540039, -5.474554061889648, 6.223349094390869, -4.0592942237854, -0.623638391494751, 4.493640422821045, 7.322408676147461, 13.983185768127441, 12.984118461608887, -7.974637031555176, 10.27748966217041, -15.807404518127441, -7.7568559646606445, 5.674056529998779, 10.368080139160156, -15.654291152954102, -14.54741382598877, -14.376849174499512, -9.52846908569336, 6.472557067871094, -1.5305874347686768, 2.615661144256592, 6.286405086517334, -0.8262971043586731, 1.4319266080856323, -1.705317497253418, -7.845195293426514, -9.87682056427002, 9.907955169677734, -3.048905849456787, -0.1469961255788803, 6.095052719116211, 12.050787925720215, -6.33401346206665, 3.8305013179779053, -2.672382354736328, 6.272889137268066, -6.525211334228516, -2.2686595916748047, 3.9519307613372803, -7.783203125, 13.029397010803223, -10.871442794799805, -2.392033576965332, 3.4113118648529053, -15.567822456359863, 10.088325500488281, -9.19894790649414, -7.895853519439697, 7.347745418548584, -10.238629341125488, 2.64206862449646, -11.40988826751709, 3.999138832092285, -0.28713542222976685, 10.980725288391113, -3.598593235015869, -12.179990768432617, -2.109297275543213, 4.448125839233398, -4.713063716888428, -1.1391228437423706, 4.9680376052856445, 5.442374229431152, 12.168428421020508, 3.104663848876953, 4.3746490478515625, -4.126607894897461, -6.604979515075684, 11.480172157287598, 1.7295411825180054, -1.3444457054138184, -7.410446643829346, 4.356606960296631, 12.80073356628418, 5.097480297088623, 2.1047768592834473, 10.917037963867188, -6.965939521789551, -7.621143817901611, 5.687205791473389, -4.948500633239746, -11.671738624572754, 10.802278518676758, -2.813375473022461, 5.9986395835876465, -1.0890799760818481, -8.421343803405762, -12.464337348937988, 4.167439937591553, -8.49453067779541, -5.23462438583374, -6.264322757720947, -3.528167963027954, -4.719715118408203, -16.224782943725586, 8.523889541625977, 2.8885622024536133, -6.652087211608887, -12.661672592163086, -15.433287620544434, 10.120969772338867, -2.7995805740356445, 11.111303329467773, 11.451227188110352, 3.673736095428467, -2.7573935985565186, -3.055229425430298, 4.833881855010986, 6.181500434875488, 1.9577749967575073, 1.2329752445220947, -0.12149348109960556, 6.2425994873046875, 1.414364218711853, 6.745106220245361, 13.45350456237793, 1.2356395721435547, 6.509873390197754, 7.706000804901123, 13.939428329467773, 12.268278121948242, 2.72455096244812, 7.129560947418213, -4.293726444244385, -12.014726638793945, -11.711743354797363, -2.797980308532715, 4.961971282958984, 10.542015075683594, 1.5009245872497559, 4.149693965911865, 1.1701598167419434, 1.1245099306106567, 4.303915500640869, -6.3506317138671875, -0.22030982375144958, -3.3463077545166016, 0.673457145690918, 4.114949703216553, 6.94793701171875, 0.5281857848167419, 8.058943748474121, -15.051433563232422, -3.294743299484253, 7.096621990203857, 5.341452598571777, 0.200739786028862, 7.340572357177734, 10.464673042297363, -10.188902854919434, -2.0334177017211914, 0.08967248350381851, 5.078464031219482, 10.908196449279785, 12.408817291259766, 3.0089902877807617, -0.04840711131691933, 1.9128466844558716, 6.289556503295898, -16.39176368713379, 2.1115000247955322, -14.032609939575195, -4.450911998748779, -11.082040786743164, -1.8413165807724, 4.220759868621826, 1.4271340370178223, -2.9508512020111084, 12.18569564819336, 12.961470603942871, -0.49460744857788086, 1.5580073595046997, -1.0697767734527588, -11.246758460998535, 12.277617454528809, 0.19908259809017181, -2.9467568397521973, 1.276764988899231, 2.0640060901641846, 2.1661829948425293, 13.33837604522705, 1.0556329488754272, -11.073502540588379, -14.039703369140625, -4.828072547912598, 4.366645336151123, -7.833130359649658, 2.104783058166504, 12.588747024536133, -6.199949264526367, -11.000049591064453, 0.9610684514045715, -6.552652359008789, 0.6502695679664612, 5.056849002838135, -4.837907791137695, 2.1387887001037598, -5.246548652648926, 3.3948187828063965, 2.1175270080566406, -8.148823738098145, 2.293642044067383, 13.285771369934082, 4.255345344543457, -15.268580436706543, 4.10978889465332, 2.1522226333618164, 4.427553653717041, -8.678210258483887, 1.558958888053894, 9.36856460571289, -6.2442522048950195, 10.577836036682129, 4.935680389404297, 2.3592164516448975, -11.874353408813477, -4.632922649383545, 1.9432122707366943, -10.57214069366455, -5.516607761383057, 2.8510403633117676, 1.3683480024337769, -3.519819736480713, 2.4883460998535156, 1.8198155164718628, -6.130195140838623, -7.501534461975098, 2.5077192783355713, -2.523590326309204, 0.5054052472114563, -1.3042055368423462, 10.062541961669922, 10.157720565795898, -13.967686653137207, -0.4797534644603729, -5.170241355895996, 7.194408416748047, 0.938742458820343, 11.576770782470703, 13.893101692199707, 9.348907470703125, -14.825833320617676, 2.4475884437561035, -13.194683074951172, -5.351295471191406, 12.602519035339355, 11.632195472717285, -3.6643576622009277, 5.970654010772705, 0.76115483045578, 0.21311481297016144, -6.58994722366333, -2.669260025024414, 2.443498373031616, -15.249387741088867, 4.342194557189941, 6.448854923248291, -10.654159545898438, 13.555366516113281, 2.475534439086914, -12.783720016479492, -5.995240211486816, 12.987666130065918, 14.091532707214355, 5.219180107116699, 9.637850761413574, 4.292229652404785, 9.781984329223633, -5.530198097229004, -7.271902084350586, 1.113502860069275, 5.5094804763793945, 4.174271106719971, -7.573186874389648, 7.554850101470947, 7.905002593994141, -7.846567153930664, -11.082865715026855, 10.798425674438477, -8.34173583984375, 15.502427101135254, 5.924446105957031, 2.098066568374634, -3.577810525894165, 11.611311912536621, 10.267580032348633, 1.7882893085479736, -8.879462242126465, -5.107076644897461, 4.863300800323486, -3.538203239440918, -10.457483291625977, -5.449407577514648, 2.567673444747925, 12.891645431518555, -4.138373374938965, 5.853114604949951, 2.6823911666870117, -2.567063331604004, -4.561106204986572, 12.473590850830078, -12.735130310058594, 10.061543464660645, 2.2892072200775146, 0.5624275803565979, 3.4871819019317627, -5.614826679229736, -2.7693581581115723, 5.5330119132995605, 4.949526786804199, 13.504124641418457, -5.97177791595459, -14.735458374023438, 10.303361892700195, 4.754834175109863, -6.228260040283203, 9.524632453918457, -1.6405218839645386, -14.21552848815918, -9.086960792541504, 4.806663513183594, -5.656990051269531, -2.6460132598876953, -1.6898659467697144, 0.7268011569976807, -7.574459075927734, -2.790280818939209, -6.87770938873291, -9.283319473266602, -12.02614688873291, -4.50460958480835, 4.7117533683776855, -10.934028625488281, 13.516739845275879, -4.850156784057617, -11.946944236755371, -3.249391794204712, -2.6362884044647217, -3.4358255863189697, 8.275997161865234, 14.558197021484375, 3.892284631729126, 2.599424123764038, -2.644444227218628, 7.6024346351623535, 6.6033501625061035, 1.9252746105194092, -7.980833530426025, 13.9523286819458, -13.952011108398438, 1.90608811378479, -3.404912233352661, 0.38550469279289246, 4.188655376434326, 13.951981544494629, 6.22607421875, -7.642888069152832, -0.6057131886482239, 1.5951262712478638, 6.695108890533447, 4.3696393966674805, -0.14516335725784302, 1.275557279586792, 9.630199432373047, -6.577046871185303, 5.970330238342285, -10.908760070800781, 1.746166467666626, -2.021266460418701, 11.464972496032715, 13.450556755065918, 2.333627462387085, -5.2106852531433105, 5.721475124359131, -16.040084838867188, 0.7863130569458008, -11.057453155517578, -14.755035400390625, 1.5207258462905884, 8.221735000610352, -1.0034592151641846, 6.630502700805664, 12.558174133300781, -6.783427715301514, 4.163043022155762, 7.4856486320495605, -2.8399200439453125, 4.4841437339782715, -5.396989822387695, -14.49310302734375, 8.418903350830078, 5.615344524383545, 2.1650211811065674, 3.7010388374328613, -15.714374542236328, -9.854394912719727, 4.731817722320557, 2.6230227947235107, -2.5689315795898438, -10.724456787109375, 1.7852458953857422, -9.885751724243164, -15.26523494720459, 14.017852783203125, -2.4066035747528076, 3.6720147132873535, -12.740633964538574, -6.689129829406738, -1.6093926429748535, -10.078991889953613, -6.426478862762451, 3.4093668460845947, 1.4826345443725586, 7.582221031188965, -5.611001014709473, 3.1543877124786377, -4.990830898284912, -2.2623965740203857, 9.960741996765137, 7.981091022491455, 3.3234646320343018, 7.510791778564453, 4.3986496925354, -7.288113117218018, -6.9536542892456055, 0.23770688474178314, -13.346896171569824, 9.598265647888184, 5.7976579666137695, 11.791396141052246, 2.5669517517089844, 10.785511016845703, 5.879377841949463, 8.19128704071045, -6.75372314453125, -7.847610950469971, 4.906473159790039, 0.21355417370796204, -5.937597274780273, -1.5227558612823486, -6.437441349029541, 0.8041917085647583, -16.55438804626465, -3.101814031600952, -7.985445976257324, 5.672903537750244, 4.507813453674316, -4.466659069061279, 2.2954583168029785, 8.035819053649902, -14.913066864013672, -8.038565635681152, -8.599066734313965, -16.378143310546875, 1.6589041948318481, 2.9911694526672363, -8.710970878601074, 7.764191627502441, 6.040073394775391, 5.72735595703125, 12.39809799194336, 4.892435550689697, -8.627632141113281, 1.0533617734909058, 1.4465434551239014, -7.7903828620910645, 3.815729856491089, 10.221595764160156, 9.384208679199219, -5.468323707580566, 8.093542098999023, 11.26127815246582, 7.240960597991943, 7.291229248046875, -3.4839131832122803, 4.2852582931518555, 3.6341354846954346, 8.85293197631836, 1.7120046615600586, 6.531094074249268, -3.1162586212158203, 12.33512020111084, -11.54497241973877, 10.489625930786133, 10.770782470703125, -10.827670097351074, -7.4228339195251465, -6.812549114227295, 4.030638217926025, -16.34627342224121, -6.199373722076416, 3.3685741424560547, 8.323326110839844, -16.70818519592285, 13.233309745788574, 1.0325745344161987, 7.9394330978393555, 12.923022270202637, -6.18791389465332, 8.187260627746582, -3.746443271636963, -16.118083953857422, -2.873131275177002, 0.10921104997396469, 10.353999137878418, 8.845587730407715, -5.901540279388428, 8.271020889282227, 15.044336318969727, 10.446385383605957, 7.40878963470459, 12.906683921813965, 3.8837928771972656, 1.9233344793319702, -5.8275580406188965, -12.787819862365723, -7.383601665496826, -14.27444076538086, 4.560676574707031, 3.783825159072876, -5.395102500915527, -15.265798568725586, -7.382803440093994, -4.472227096557617, 2.836498737335205, 10.057929039001465, -1.7908183336257935, -6.069634437561035, 0.26364612579345703, 14.644673347473145, -0.09634185582399368, -7.515700817108154, 14.265646934509277, 11.09199333190918, 8.595477104187012, 7.608394622802734, 11.288870811462402, -3.268313407897949, 5.025764465332031, 1.0279806852340698, 8.027172088623047, 5.242914199829102, 14.453754425048828, 10.58666706085205, -3.4986732006073, 6.162517070770264, 5.4113616943359375, -8.429559707641602, -8.611027717590332, -7.681764602661133, -9.743111610412598, -5.838845729827881, 0.17956063151359558, -2.0015950202941895, -2.305882692337036, -7.761166572570801, -1.4250128269195557, -6.603033065795898, -8.242805480957031, 1.308659553527832, 5.27073335647583, 14.96259593963623, 2.876893997192383, 2.760603666305542, -2.8078792095184326, -10.957266807556152, -6.1662211418151855, 4.275618076324463, -16.964242935180664, 7.105138301849365, -7.715240955352783, -3.6293134689331055, -6.516584873199463, -1.366283893585205, 8.60464859008789, -1.0253864526748657, 0.2981002926826477, 5.424590587615967, 1.4719783067703247, -7.008454322814941, 9.177817344665527, -13.262205123901367, 2.5029191970825195, -8.30454158782959, 8.144695281982422, -9.260933876037598, -4.402960300445557, -2.6559903621673584, -1.527012586593628, 11.174896240234375, -0.480787068605423, 7.049923419952393, 6.320032119750977, -6.1417460441589355, -1.9722232818603516, 10.42651081085205, 12.916473388671875, -6.017622947692871, 1.4729466438293457, -5.435480117797852, 9.656291007995605, -0.9957161545753479, 11.92577838897705, 2.001046895980835, 4.251428127288818, -1.3996471166610718, 2.743100881576538, -10.647293090820312, -8.634376525878906, -2.078678846359253, 7.762805461883545, -6.82754373550415, 6.778205394744873, 7.448307514190674, 11.08682632446289, 1.602559208869934, 3.5993833541870117, -4.612027168273926, -8.727922439575195, 6.258294582366943, -7.50003719329834, -1.1648545265197754, -12.289822578430176, -4.647019863128662, 9.873278617858887, 12.048192024230957, 8.617090225219727, 11.107368469238281, 13.47447681427002, 3.9072561264038086, 8.918846130371094, 8.774515151977539, -5.318437576293945, -13.941773414611816, -15.847070693969727, 6.293001651763916, -1.4005210399627686, -10.218022346496582, 3.9063377380371094, 11.560086250305176, -11.551411628723145, 6.441930770874023, 11.054706573486328, 9.754883766174316, -2.275449275970459, 3.512401819229126, 7.821784973144531, -4.922015190124512, -3.18463397026062, -1.5483325719833374, -5.259725093841553, 8.089734077453613, 8.118427276611328, 14.425411224365234, -5.251397132873535, -1.5422385931015015, -2.4676260948181152, 5.603597640991211, 5.185807228088379, -4.031768321990967, 2.8722314834594727, -1.6049176454544067, 6.8812479972839355, 8.433086395263672, 14.03042221069336, 9.268118858337402, 0.17792394757270813, 5.935694694519043, -1.9638521671295166, -3.822817325592041, 2.6742026805877686, 9.022124290466309, -10.566792488098145, -13.296127319335938, -14.214205741882324, 4.805548191070557, -0.23425260186195374, -6.3583269119262695, -6.364363193511963, 5.198287010192871, -4.735179901123047, -14.03238582611084, -12.694522857666016, 8.207501411437988, 3.018857002258301, 13.289834976196289, 6.287983417510986, 4.6905670166015625, 6.196999549865723, 4.101205825805664, -5.581707000732422, 1.28973388671875, -14.279516220092773, -4.982790946960449, 8.426017761230469, -3.0745840072631836, 13.348482131958008, -8.746601104736328, -3.8768198490142822, 0.6516045928001404, -6.146345615386963, 2.5005056858062744, 3.8882148265838623, 5.182016849517822, 2.5178415775299072, 4.812253475189209, -14.088601112365723, -5.278857231140137, 0.19106993079185486, 1.5949208736419678, -5.691202163696289, -5.819991111755371, -2.657181978225708, -0.4897943139076233, -16.958642959594727, -4.460611343383789, -11.763449668884277, 3.0890302658081055, 5.1376142501831055, -8.722512245178223, -13.893047332763672, 13.468423843383789, -3.882460832595825, 8.479726791381836, -15.738770484924316, -13.68491268157959, 15.003615379333496, -11.557849884033203, 4.595443248748779, -15.571300506591797, 4.074922561645508, 8.393881797790527, -6.165486812591553, 3.8588380813598633, -13.19337272644043, -3.300384283065796, -1.1096277236938477, -1.7960196733474731, 1.2466216087341309, 7.079046726226807, 0.4260837435722351, -1.9318435192108154, -7.9996843338012695, 3.8865907192230225, 11.054429054260254, -5.602228164672852, 5.405772686004639, 5.841027736663818, -15.708785057067871, -7.771662712097168, 5.768959045410156, 4.1793904304504395, 2.8923988342285156, 14.493331909179688, 5.855271339416504, 11.176048278808594, 8.14037799835205, 0.9605474472045898, -14.356369972229004, 5.6697282791137695, 1.8187226057052612, -6.299058437347412, 10.875402450561523, -15.182718276977539, -10.10141658782959, 10.941228866577148, 3.0500802993774414, -5.46077299118042, 11.15394401550293, 5.611196517944336, 3.398885726928711, 7.8406476974487305, 6.687114238739014, 4.598437786102295, 8.854866981506348, -6.9547576904296875, -12.355825424194336, -7.61250114440918, 11.63196086883545, 2.1213793754577637, 1.7463761568069458, 7.902059555053711, 6.105172634124756, -13.087093353271484, -9.395011901855469, -1.4282805919647217, 8.520153999328613, -8.595647811889648, -7.8197407722473145, -12.13770866394043, 0.705861508846283, 3.2357311248779297, 1.0818301439285278, 11.538596153259277, -14.513604164123535, 4.64650297164917, -5.846484184265137, -13.74228286743164, 1.2572790384292603, -12.591646194458008, 2.369403123855591, 12.60993480682373, 0.1010603979229927, -13.8333158493042, 8.420281410217285, -7.411332607269287, 10.19633674621582, -7.091012954711914, -0.6681051850318909, -10.118876457214355, 4.63350772857666, -3.657146692276001, -4.533441543579102, -0.47142937779426575, -4.4676995277404785, 1.2562916278839111, -7.42967414855957, -12.251993179321289, -10.518782615661621, 12.231889724731445, 13.67785358428955, 7.979665756225586, -4.667165756225586, -1.425815224647522, -5.637134075164795, 4.268948554992676, 5.852670669555664, 11.859734535217285, 4.598748683929443, -10.467843055725098, 13.401558876037598, -9.441160202026367, -7.791175365447998, -0.14721550047397614, 1.552167296409607, 3.5075764656066895, 2.247633934020996, -5.297120571136475, -6.21182107925415, 14.431638717651367, -12.802395820617676, 6.809047698974609, 10.769883155822754, 7.852932929992676, 4.670657634735107, -16.621917724609375, -0.7578744888305664, -3.5091304779052734, -2.8624961376190186, -16.18669319152832, 4.4630537033081055, 3.213932752609253, -4.255939483642578, 4.477844715118408, 10.798660278320312, 8.761503219604492, -7.770194053649902, 11.917478561401367, -3.103774309158325, -12.017849922180176, 4.205188751220703, -7.835415363311768, 5.12907600402832, -4.806112289428711, -0.2754169702529907, 3.414851427078247, 3.7606709003448486, -6.104057788848877, -1.151932954788208, 13.24548053741455, 13.658937454223633, 5.466148853302002, -6.085765361785889, 0.8728094696998596, 6.657929420471191, 7.9537811279296875, 2.782250165939331, -4.168538570404053, -14.870058059692383, 8.75042724609375, -14.399023056030273, 6.038188934326172, -13.361930847167969, -11.138846397399902, 2.377593994140625, 5.111236572265625, -5.3104047775268555, -2.0425360202789307, 14.51933479309082, 13.14145278930664, -1.613663911819458, 0.44042903184890747, 8.830351829528809, 8.5034761428833, 5.498115539550781, -1.5923198461532593, 2.6505043506622314, -0.8774875402450562, 1.0199613571166992, -15.540650367736816, -6.025331020355225, -4.295032024383545, 0.42963048815727234, -17.054296493530273, 5.597095966339111, -5.738542556762695, 11.413931846618652, -13.866329193115234, -8.234724998474121, 3.4603641033172607, -12.533112525939941, 1.257272481918335, 2.7308177947998047, 10.3208646774292, -1.771816611289978, 8.122766494750977, 5.542028427124023, -6.6027445793151855, -13.615565299987793, 1.7503345012664795, 10.523507118225098, -2.9765710830688477, -0.9598978161811829, 9.36780071258545, 8.389948844909668, 7.283897399902344, 9.483159065246582, -15.902451515197754, -12.934497833251953, 1.0558955669403076, 7.3280205726623535, -5.79292106628418, -3.8064982891082764, -15.516297340393066, 10.589698791503906, 6.4301557540893555]}],\n",
       "                        {\"coloraxis\": {\"colorbar\": {\"title\": {\"text\": \"Label\"}}, \"colorscale\": [[0.0, \"#0d0887\"], [0.1111111111111111, \"#46039f\"], [0.2222222222222222, \"#7201a8\"], [0.3333333333333333, \"#9c179e\"], [0.4444444444444444, \"#bd3786\"], [0.5555555555555556, \"#d8576b\"], [0.6666666666666666, \"#ed7953\"], [0.7777777777777778, \"#fb9f3a\"], [0.8888888888888888, \"#fdca26\"], [1.0, \"#f0f921\"]]}, \"height\": 800, \"legend\": {\"tracegroupgap\": 0}, \"scene\": {\"domain\": {\"x\": [0.0, 1.0], \"y\": [0.0, 1.0]}, \"xaxis\": {\"title\": {\"text\": \"0\"}}, \"yaxis\": {\"title\": {\"text\": \"1\"}}, \"zaxis\": {\"title\": {\"text\": \"2\"}}}, \"template\": {\"data\": {\"bar\": [{\"error_x\": {\"color\": \"#2a3f5f\"}, \"error_y\": {\"color\": \"#2a3f5f\"}, \"marker\": {\"line\": {\"color\": \"#E5ECF6\", \"width\": 0.5}}, \"type\": \"bar\"}], \"barpolar\": [{\"marker\": {\"line\": {\"color\": \"#E5ECF6\", \"width\": 0.5}}, \"type\": \"barpolar\"}], \"carpet\": [{\"aaxis\": {\"endlinecolor\": \"#2a3f5f\", \"gridcolor\": \"white\", \"linecolor\": \"white\", \"minorgridcolor\": \"white\", \"startlinecolor\": \"#2a3f5f\"}, \"baxis\": {\"endlinecolor\": \"#2a3f5f\", \"gridcolor\": \"white\", \"linecolor\": \"white\", \"minorgridcolor\": \"white\", \"startlinecolor\": \"#2a3f5f\"}, \"type\": \"carpet\"}], \"choropleth\": [{\"colorbar\": {\"outlinewidth\": 0, \"ticks\": \"\"}, \"type\": \"choropleth\"}], \"contour\": [{\"colorbar\": {\"outlinewidth\": 0, \"ticks\": \"\"}, \"colorscale\": [[0.0, \"#0d0887\"], [0.1111111111111111, \"#46039f\"], [0.2222222222222222, \"#7201a8\"], [0.3333333333333333, \"#9c179e\"], [0.4444444444444444, \"#bd3786\"], [0.5555555555555556, \"#d8576b\"], [0.6666666666666666, \"#ed7953\"], [0.7777777777777778, \"#fb9f3a\"], [0.8888888888888888, \"#fdca26\"], [1.0, \"#f0f921\"]], \"type\": \"contour\"}], \"contourcarpet\": [{\"colorbar\": {\"outlinewidth\": 0, \"ticks\": \"\"}, \"type\": \"contourcarpet\"}], \"heatmap\": [{\"colorbar\": {\"outlinewidth\": 0, \"ticks\": \"\"}, \"colorscale\": [[0.0, \"#0d0887\"], [0.1111111111111111, \"#46039f\"], [0.2222222222222222, \"#7201a8\"], [0.3333333333333333, \"#9c179e\"], [0.4444444444444444, \"#bd3786\"], [0.5555555555555556, \"#d8576b\"], [0.6666666666666666, \"#ed7953\"], [0.7777777777777778, \"#fb9f3a\"], [0.8888888888888888, \"#fdca26\"], [1.0, \"#f0f921\"]], \"type\": \"heatmap\"}], \"heatmapgl\": [{\"colorbar\": {\"outlinewidth\": 0, \"ticks\": \"\"}, \"colorscale\": [[0.0, \"#0d0887\"], [0.1111111111111111, \"#46039f\"], [0.2222222222222222, \"#7201a8\"], [0.3333333333333333, \"#9c179e\"], [0.4444444444444444, \"#bd3786\"], [0.5555555555555556, \"#d8576b\"], [0.6666666666666666, \"#ed7953\"], [0.7777777777777778, \"#fb9f3a\"], [0.8888888888888888, \"#fdca26\"], [1.0, \"#f0f921\"]], \"type\": \"heatmapgl\"}], \"histogram\": [{\"marker\": {\"colorbar\": {\"outlinewidth\": 0, \"ticks\": \"\"}}, \"type\": \"histogram\"}], \"histogram2d\": [{\"colorbar\": {\"outlinewidth\": 0, \"ticks\": \"\"}, \"colorscale\": [[0.0, \"#0d0887\"], [0.1111111111111111, \"#46039f\"], [0.2222222222222222, \"#7201a8\"], [0.3333333333333333, \"#9c179e\"], [0.4444444444444444, \"#bd3786\"], [0.5555555555555556, \"#d8576b\"], [0.6666666666666666, \"#ed7953\"], [0.7777777777777778, \"#fb9f3a\"], [0.8888888888888888, \"#fdca26\"], [1.0, \"#f0f921\"]], \"type\": \"histogram2d\"}], \"histogram2dcontour\": [{\"colorbar\": {\"outlinewidth\": 0, \"ticks\": \"\"}, \"colorscale\": [[0.0, \"#0d0887\"], [0.1111111111111111, \"#46039f\"], [0.2222222222222222, \"#7201a8\"], [0.3333333333333333, \"#9c179e\"], [0.4444444444444444, \"#bd3786\"], [0.5555555555555556, \"#d8576b\"], [0.6666666666666666, \"#ed7953\"], [0.7777777777777778, \"#fb9f3a\"], [0.8888888888888888, \"#fdca26\"], [1.0, \"#f0f921\"]], \"type\": \"histogram2dcontour\"}], \"mesh3d\": [{\"colorbar\": {\"outlinewidth\": 0, \"ticks\": \"\"}, \"type\": \"mesh3d\"}], \"parcoords\": [{\"line\": {\"colorbar\": {\"outlinewidth\": 0, \"ticks\": \"\"}}, \"type\": \"parcoords\"}], \"pie\": [{\"automargin\": true, \"type\": \"pie\"}], \"scatter\": [{\"marker\": {\"colorbar\": {\"outlinewidth\": 0, \"ticks\": \"\"}}, \"type\": \"scatter\"}], \"scatter3d\": [{\"line\": {\"colorbar\": {\"outlinewidth\": 0, \"ticks\": \"\"}}, \"marker\": {\"colorbar\": {\"outlinewidth\": 0, \"ticks\": \"\"}}, \"type\": \"scatter3d\"}], \"scattercarpet\": [{\"marker\": {\"colorbar\": {\"outlinewidth\": 0, \"ticks\": \"\"}}, \"type\": \"scattercarpet\"}], \"scattergeo\": [{\"marker\": {\"colorbar\": {\"outlinewidth\": 0, \"ticks\": \"\"}}, \"type\": \"scattergeo\"}], \"scattergl\": [{\"marker\": {\"colorbar\": {\"outlinewidth\": 0, \"ticks\": \"\"}}, \"type\": \"scattergl\"}], \"scattermapbox\": [{\"marker\": {\"colorbar\": {\"outlinewidth\": 0, \"ticks\": \"\"}}, \"type\": \"scattermapbox\"}], \"scatterpolar\": [{\"marker\": {\"colorbar\": {\"outlinewidth\": 0, \"ticks\": \"\"}}, \"type\": \"scatterpolar\"}], \"scatterpolargl\": [{\"marker\": {\"colorbar\": {\"outlinewidth\": 0, \"ticks\": \"\"}}, \"type\": \"scatterpolargl\"}], \"scatterternary\": [{\"marker\": {\"colorbar\": {\"outlinewidth\": 0, \"ticks\": \"\"}}, \"type\": \"scatterternary\"}], \"surface\": [{\"colorbar\": {\"outlinewidth\": 0, \"ticks\": \"\"}, \"colorscale\": [[0.0, \"#0d0887\"], [0.1111111111111111, \"#46039f\"], [0.2222222222222222, \"#7201a8\"], [0.3333333333333333, \"#9c179e\"], [0.4444444444444444, \"#bd3786\"], [0.5555555555555556, \"#d8576b\"], [0.6666666666666666, \"#ed7953\"], [0.7777777777777778, \"#fb9f3a\"], [0.8888888888888888, \"#fdca26\"], [1.0, \"#f0f921\"]], \"type\": \"surface\"}], \"table\": [{\"cells\": {\"fill\": {\"color\": \"#EBF0F8\"}, \"line\": {\"color\": \"white\"}}, \"header\": {\"fill\": {\"color\": \"#C8D4E3\"}, \"line\": {\"color\": \"white\"}}, \"type\": \"table\"}]}, \"layout\": {\"annotationdefaults\": {\"arrowcolor\": \"#2a3f5f\", \"arrowhead\": 0, \"arrowwidth\": 1}, \"coloraxis\": {\"colorbar\": {\"outlinewidth\": 0, \"ticks\": \"\"}}, \"colorscale\": {\"diverging\": [[0, \"#8e0152\"], [0.1, \"#c51b7d\"], [0.2, \"#de77ae\"], [0.3, \"#f1b6da\"], [0.4, \"#fde0ef\"], [0.5, \"#f7f7f7\"], [0.6, \"#e6f5d0\"], [0.7, \"#b8e186\"], [0.8, \"#7fbc41\"], [0.9, \"#4d9221\"], [1, \"#276419\"]], \"sequential\": [[0.0, \"#0d0887\"], [0.1111111111111111, \"#46039f\"], [0.2222222222222222, \"#7201a8\"], [0.3333333333333333, \"#9c179e\"], [0.4444444444444444, \"#bd3786\"], [0.5555555555555556, \"#d8576b\"], [0.6666666666666666, \"#ed7953\"], [0.7777777777777778, \"#fb9f3a\"], [0.8888888888888888, \"#fdca26\"], [1.0, \"#f0f921\"]], \"sequentialminus\": [[0.0, \"#0d0887\"], [0.1111111111111111, \"#46039f\"], [0.2222222222222222, \"#7201a8\"], [0.3333333333333333, \"#9c179e\"], [0.4444444444444444, \"#bd3786\"], [0.5555555555555556, \"#d8576b\"], [0.6666666666666666, \"#ed7953\"], [0.7777777777777778, \"#fb9f3a\"], [0.8888888888888888, \"#fdca26\"], [1.0, \"#f0f921\"]]}, \"colorway\": [\"#636efa\", \"#EF553B\", \"#00cc96\", \"#ab63fa\", \"#FFA15A\", \"#19d3f3\", \"#FF6692\", \"#B6E880\", \"#FF97FF\", \"#FECB52\"], \"font\": {\"color\": \"#2a3f5f\"}, \"geo\": {\"bgcolor\": \"white\", \"lakecolor\": \"white\", \"landcolor\": \"#E5ECF6\", \"showlakes\": true, \"showland\": true, \"subunitcolor\": \"white\"}, \"hoverlabel\": {\"align\": \"left\"}, \"hovermode\": \"closest\", \"mapbox\": {\"style\": \"light\"}, \"paper_bgcolor\": \"white\", \"plot_bgcolor\": \"#E5ECF6\", \"polar\": {\"angularaxis\": {\"gridcolor\": \"white\", \"linecolor\": \"white\", \"ticks\": \"\"}, \"bgcolor\": \"#E5ECF6\", \"radialaxis\": {\"gridcolor\": \"white\", \"linecolor\": \"white\", \"ticks\": \"\"}}, \"scene\": {\"xaxis\": {\"backgroundcolor\": \"#E5ECF6\", \"gridcolor\": \"white\", \"gridwidth\": 2, \"linecolor\": \"white\", \"showbackground\": true, \"ticks\": \"\", \"zerolinecolor\": \"white\"}, \"yaxis\": {\"backgroundcolor\": \"#E5ECF6\", \"gridcolor\": \"white\", \"gridwidth\": 2, \"linecolor\": \"white\", \"showbackground\": true, \"ticks\": \"\", \"zerolinecolor\": \"white\"}, \"zaxis\": {\"backgroundcolor\": \"#E5ECF6\", \"gridcolor\": \"white\", \"gridwidth\": 2, \"linecolor\": \"white\", \"showbackground\": true, \"ticks\": \"\", \"zerolinecolor\": \"white\"}}, \"shapedefaults\": {\"line\": {\"color\": \"#2a3f5f\"}}, \"ternary\": {\"aaxis\": {\"gridcolor\": \"white\", \"linecolor\": \"white\", \"ticks\": \"\"}, \"baxis\": {\"gridcolor\": \"white\", \"linecolor\": \"white\", \"ticks\": \"\"}, \"bgcolor\": \"#E5ECF6\", \"caxis\": {\"gridcolor\": \"white\", \"linecolor\": \"white\", \"ticks\": \"\"}}, \"title\": {\"x\": 0.05}, \"xaxis\": {\"automargin\": true, \"gridcolor\": \"white\", \"linecolor\": \"white\", \"ticks\": \"\", \"title\": {\"standoff\": 15}, \"zerolinecolor\": \"white\", \"zerolinewidth\": 2}, \"yaxis\": {\"automargin\": true, \"gridcolor\": \"white\", \"linecolor\": \"white\", \"ticks\": \"\", \"title\": {\"standoff\": 15}, \"zerolinecolor\": \"white\", \"zerolinewidth\": 2}}}, \"title\": {\"text\": \"3d TSNE Plot for Outliers\"}, \"width\": 900},\n",
       "                        {\"responsive\": true}\n",
       "                    ).then(function(){\n",
       "                            \n",
       "var gd = document.getElementById('3bf603de-5ff7-4e1f-bb53-9a6a8e953735');\n",
       "var x = new MutationObserver(function (mutations, observer) {{\n",
       "        var display = window.getComputedStyle(gd).display;\n",
       "        if (!display || display === 'none') {{\n",
       "            console.log([gd, 'removed!']);\n",
       "            Plotly.purge(gd);\n",
       "            observer.disconnect();\n",
       "        }}\n",
       "}});\n",
       "\n",
       "// Listen for the removal of the full notebook cells\n",
       "var notebookContainer = gd.closest('#notebook-container');\n",
       "if (notebookContainer) {{\n",
       "    x.observe(notebookContainer, {childList: true});\n",
       "}}\n",
       "\n",
       "// Listen for the clearing of the current output cell\n",
       "var outputEl = gd.closest('.output');\n",
       "if (outputEl) {{\n",
       "    x.observe(outputEl, {childList: true});\n",
       "}}\n",
       "\n",
       "                        })\n",
       "                };\n",
       "                });\n",
       "            </script>\n",
       "        </div>"
      ]
     },
     "metadata": {},
     "output_type": "display_data"
    }
   ],
   "source": [
    "# instantiating Cluster model\n",
    "cluster = create_model(\"cluster\")\n",
    "\n",
    "# plotting the data using Cluster \n",
    "plot_model(cluster)"
   ]
  },
  {
   "cell_type": "code",
   "execution_count": 12,
   "metadata": {},
   "outputs": [
    {
     "data": {
      "text/html": [
       "<div>\n",
       "<style scoped>\n",
       "    .dataframe tbody tr th:only-of-type {\n",
       "        vertical-align: middle;\n",
       "    }\n",
       "\n",
       "    .dataframe tbody tr th {\n",
       "        vertical-align: top;\n",
       "    }\n",
       "\n",
       "    .dataframe thead th {\n",
       "        text-align: right;\n",
       "    }\n",
       "</style>\n",
       "<table border=\"1\" class=\"dataframe\">\n",
       "  <thead>\n",
       "    <tr style=\"text-align: right;\">\n",
       "      <th></th>\n",
       "      <th>Col1</th>\n",
       "      <th>Col2</th>\n",
       "      <th>Col3</th>\n",
       "      <th>Col4</th>\n",
       "      <th>Col5</th>\n",
       "      <th>Col6</th>\n",
       "      <th>Col7</th>\n",
       "      <th>Col8</th>\n",
       "      <th>Col9</th>\n",
       "      <th>Col10</th>\n",
       "      <th>Label</th>\n",
       "      <th>Score</th>\n",
       "    </tr>\n",
       "  </thead>\n",
       "  <tbody>\n",
       "    <tr>\n",
       "      <th>0</th>\n",
       "      <td>0.263995</td>\n",
       "      <td>0.764929</td>\n",
       "      <td>0.138424</td>\n",
       "      <td>0.935242</td>\n",
       "      <td>0.605867</td>\n",
       "      <td>0.518790</td>\n",
       "      <td>0.912225</td>\n",
       "      <td>0.608234</td>\n",
       "      <td>0.723782</td>\n",
       "      <td>0.733591</td>\n",
       "      <td>0</td>\n",
       "      <td>0.694721</td>\n",
       "    </tr>\n",
       "    <tr>\n",
       "      <th>1</th>\n",
       "      <td>0.546092</td>\n",
       "      <td>0.653975</td>\n",
       "      <td>0.065575</td>\n",
       "      <td>0.227772</td>\n",
       "      <td>0.845269</td>\n",
       "      <td>0.837066</td>\n",
       "      <td>0.272379</td>\n",
       "      <td>0.331679</td>\n",
       "      <td>0.429297</td>\n",
       "      <td>0.367422</td>\n",
       "      <td>0</td>\n",
       "      <td>0.585941</td>\n",
       "    </tr>\n",
       "    <tr>\n",
       "      <th>2</th>\n",
       "      <td>0.336714</td>\n",
       "      <td>0.538842</td>\n",
       "      <td>0.192801</td>\n",
       "      <td>0.553563</td>\n",
       "      <td>0.074515</td>\n",
       "      <td>0.332993</td>\n",
       "      <td>0.365792</td>\n",
       "      <td>0.861309</td>\n",
       "      <td>0.899017</td>\n",
       "      <td>0.088600</td>\n",
       "      <td>1</td>\n",
       "      <td>0.875902</td>\n",
       "    </tr>\n",
       "    <tr>\n",
       "      <th>3</th>\n",
       "      <td>0.092108</td>\n",
       "      <td>0.995017</td>\n",
       "      <td>0.014465</td>\n",
       "      <td>0.176371</td>\n",
       "      <td>0.241530</td>\n",
       "      <td>0.514724</td>\n",
       "      <td>0.562208</td>\n",
       "      <td>0.158963</td>\n",
       "      <td>0.073715</td>\n",
       "      <td>0.208463</td>\n",
       "      <td>1</td>\n",
       "      <td>1.011624</td>\n",
       "    </tr>\n",
       "    <tr>\n",
       "      <th>4</th>\n",
       "      <td>0.325261</td>\n",
       "      <td>0.805968</td>\n",
       "      <td>0.957033</td>\n",
       "      <td>0.331665</td>\n",
       "      <td>0.307923</td>\n",
       "      <td>0.355315</td>\n",
       "      <td>0.501899</td>\n",
       "      <td>0.558449</td>\n",
       "      <td>0.885169</td>\n",
       "      <td>0.182754</td>\n",
       "      <td>0</td>\n",
       "      <td>0.655363</td>\n",
       "    </tr>\n",
       "    <tr>\n",
       "      <th>...</th>\n",
       "      <td>...</td>\n",
       "      <td>...</td>\n",
       "      <td>...</td>\n",
       "      <td>...</td>\n",
       "      <td>...</td>\n",
       "      <td>...</td>\n",
       "      <td>...</td>\n",
       "      <td>...</td>\n",
       "      <td>...</td>\n",
       "      <td>...</td>\n",
       "      <td>...</td>\n",
       "      <td>...</td>\n",
       "    </tr>\n",
       "    <tr>\n",
       "      <th>995</th>\n",
       "      <td>0.305055</td>\n",
       "      <td>0.656837</td>\n",
       "      <td>0.331665</td>\n",
       "      <td>0.822525</td>\n",
       "      <td>0.907127</td>\n",
       "      <td>0.882276</td>\n",
       "      <td>0.855732</td>\n",
       "      <td>0.584786</td>\n",
       "      <td>0.808640</td>\n",
       "      <td>0.242762</td>\n",
       "      <td>0</td>\n",
       "      <td>0.348868</td>\n",
       "    </tr>\n",
       "    <tr>\n",
       "      <th>996</th>\n",
       "      <td>0.812627</td>\n",
       "      <td>0.864258</td>\n",
       "      <td>0.616604</td>\n",
       "      <td>0.167966</td>\n",
       "      <td>0.811223</td>\n",
       "      <td>0.938071</td>\n",
       "      <td>0.418462</td>\n",
       "      <td>0.472306</td>\n",
       "      <td>0.348347</td>\n",
       "      <td>0.671129</td>\n",
       "      <td>0</td>\n",
       "      <td>0.613922</td>\n",
       "    </tr>\n",
       "    <tr>\n",
       "      <th>997</th>\n",
       "      <td>0.250967</td>\n",
       "      <td>0.138627</td>\n",
       "      <td>0.919703</td>\n",
       "      <td>0.461234</td>\n",
       "      <td>0.886555</td>\n",
       "      <td>0.869888</td>\n",
       "      <td>0.800908</td>\n",
       "      <td>0.530324</td>\n",
       "      <td>0.779433</td>\n",
       "      <td>0.234952</td>\n",
       "      <td>0</td>\n",
       "      <td>0.532668</td>\n",
       "    </tr>\n",
       "    <tr>\n",
       "      <th>998</th>\n",
       "      <td>0.502436</td>\n",
       "      <td>0.936820</td>\n",
       "      <td>0.580062</td>\n",
       "      <td>0.540773</td>\n",
       "      <td>0.151995</td>\n",
       "      <td>0.059452</td>\n",
       "      <td>0.225220</td>\n",
       "      <td>0.242755</td>\n",
       "      <td>0.279385</td>\n",
       "      <td>0.538755</td>\n",
       "      <td>0</td>\n",
       "      <td>0.476143</td>\n",
       "    </tr>\n",
       "    <tr>\n",
       "      <th>999</th>\n",
       "      <td>0.457991</td>\n",
       "      <td>0.017755</td>\n",
       "      <td>0.714113</td>\n",
       "      <td>0.125992</td>\n",
       "      <td>0.063316</td>\n",
       "      <td>0.154739</td>\n",
       "      <td>0.922974</td>\n",
       "      <td>0.692299</td>\n",
       "      <td>0.816777</td>\n",
       "      <td>0.307592</td>\n",
       "      <td>0</td>\n",
       "      <td>0.531878</td>\n",
       "    </tr>\n",
       "  </tbody>\n",
       "</table>\n",
       "<p>1000 rows × 12 columns</p>\n",
       "</div>"
      ],
      "text/plain": [
       "         Col1      Col2      Col3      Col4      Col5      Col6      Col7  \\\n",
       "0    0.263995  0.764929  0.138424  0.935242  0.605867  0.518790  0.912225   \n",
       "1    0.546092  0.653975  0.065575  0.227772  0.845269  0.837066  0.272379   \n",
       "2    0.336714  0.538842  0.192801  0.553563  0.074515  0.332993  0.365792   \n",
       "3    0.092108  0.995017  0.014465  0.176371  0.241530  0.514724  0.562208   \n",
       "4    0.325261  0.805968  0.957033  0.331665  0.307923  0.355315  0.501899   \n",
       "..        ...       ...       ...       ...       ...       ...       ...   \n",
       "995  0.305055  0.656837  0.331665  0.822525  0.907127  0.882276  0.855732   \n",
       "996  0.812627  0.864258  0.616604  0.167966  0.811223  0.938071  0.418462   \n",
       "997  0.250967  0.138627  0.919703  0.461234  0.886555  0.869888  0.800908   \n",
       "998  0.502436  0.936820  0.580062  0.540773  0.151995  0.059452  0.225220   \n",
       "999  0.457991  0.017755  0.714113  0.125992  0.063316  0.154739  0.922974   \n",
       "\n",
       "         Col8      Col9     Col10  Label     Score  \n",
       "0    0.608234  0.723782  0.733591      0  0.694721  \n",
       "1    0.331679  0.429297  0.367422      0  0.585941  \n",
       "2    0.861309  0.899017  0.088600      1  0.875902  \n",
       "3    0.158963  0.073715  0.208463      1  1.011624  \n",
       "4    0.558449  0.885169  0.182754      0  0.655363  \n",
       "..        ...       ...       ...    ...       ...  \n",
       "995  0.584786  0.808640  0.242762      0  0.348868  \n",
       "996  0.472306  0.348347  0.671129      0  0.613922  \n",
       "997  0.530324  0.779433  0.234952      0  0.532668  \n",
       "998  0.242755  0.279385  0.538755      0  0.476143  \n",
       "999  0.692299  0.816777  0.307592      0  0.531878  \n",
       "\n",
       "[1000 rows x 12 columns]"
      ]
     },
     "execution_count": 12,
     "metadata": {},
     "output_type": "execute_result"
    }
   ],
   "source": [
    "# generating the predictions using Cluster trained model\n",
    "cluster_predictions = predict_model(cluster, data = anomaly)\n",
    "\n",
    "# predictions with Label = 1 are considered anomalies\n",
    "cluster_predictions"
   ]
  },
  {
   "cell_type": "code",
   "execution_count": 13,
   "metadata": {},
   "outputs": [
    {
     "data": {
      "text/html": [
       "<div>\n",
       "<style scoped>\n",
       "    .dataframe tbody tr th:only-of-type {\n",
       "        vertical-align: middle;\n",
       "    }\n",
       "\n",
       "    .dataframe tbody tr th {\n",
       "        vertical-align: top;\n",
       "    }\n",
       "\n",
       "    .dataframe thead th {\n",
       "        text-align: right;\n",
       "    }\n",
       "</style>\n",
       "<table border=\"1\" class=\"dataframe\">\n",
       "  <thead>\n",
       "    <tr style=\"text-align: right;\">\n",
       "      <th></th>\n",
       "      <th>Col1</th>\n",
       "      <th>Col2</th>\n",
       "      <th>Col3</th>\n",
       "      <th>Col4</th>\n",
       "      <th>Col5</th>\n",
       "      <th>Col6</th>\n",
       "      <th>Col7</th>\n",
       "      <th>Col8</th>\n",
       "      <th>Col9</th>\n",
       "      <th>Col10</th>\n",
       "      <th>Label</th>\n",
       "      <th>Score</th>\n",
       "    </tr>\n",
       "  </thead>\n",
       "  <tbody>\n",
       "    <tr>\n",
       "      <th>2</th>\n",
       "      <td>0.336714</td>\n",
       "      <td>0.538842</td>\n",
       "      <td>0.192801</td>\n",
       "      <td>0.553563</td>\n",
       "      <td>0.074515</td>\n",
       "      <td>0.332993</td>\n",
       "      <td>0.365792</td>\n",
       "      <td>0.861309</td>\n",
       "      <td>0.899017</td>\n",
       "      <td>0.088600</td>\n",
       "      <td>1</td>\n",
       "      <td>0.875902</td>\n",
       "    </tr>\n",
       "    <tr>\n",
       "      <th>3</th>\n",
       "      <td>0.092108</td>\n",
       "      <td>0.995017</td>\n",
       "      <td>0.014465</td>\n",
       "      <td>0.176371</td>\n",
       "      <td>0.241530</td>\n",
       "      <td>0.514724</td>\n",
       "      <td>0.562208</td>\n",
       "      <td>0.158963</td>\n",
       "      <td>0.073715</td>\n",
       "      <td>0.208463</td>\n",
       "      <td>1</td>\n",
       "      <td>1.011624</td>\n",
       "    </tr>\n",
       "    <tr>\n",
       "      <th>8</th>\n",
       "      <td>0.197078</td>\n",
       "      <td>0.843918</td>\n",
       "      <td>0.243396</td>\n",
       "      <td>0.281278</td>\n",
       "      <td>0.329148</td>\n",
       "      <td>0.734582</td>\n",
       "      <td>0.191947</td>\n",
       "      <td>0.927804</td>\n",
       "      <td>0.713269</td>\n",
       "      <td>0.891548</td>\n",
       "      <td>1</td>\n",
       "      <td>0.944945</td>\n",
       "    </tr>\n",
       "    <tr>\n",
       "      <th>9</th>\n",
       "      <td>0.292985</td>\n",
       "      <td>0.703432</td>\n",
       "      <td>0.439621</td>\n",
       "      <td>0.107868</td>\n",
       "      <td>0.922947</td>\n",
       "      <td>0.253458</td>\n",
       "      <td>0.295652</td>\n",
       "      <td>0.355287</td>\n",
       "      <td>0.980911</td>\n",
       "      <td>0.308864</td>\n",
       "      <td>1</td>\n",
       "      <td>0.883354</td>\n",
       "    </tr>\n",
       "    <tr>\n",
       "      <th>11</th>\n",
       "      <td>0.796623</td>\n",
       "      <td>0.230543</td>\n",
       "      <td>0.993018</td>\n",
       "      <td>0.077075</td>\n",
       "      <td>0.094068</td>\n",
       "      <td>0.718628</td>\n",
       "      <td>0.977611</td>\n",
       "      <td>0.333386</td>\n",
       "      <td>0.634843</td>\n",
       "      <td>0.028729</td>\n",
       "      <td>1</td>\n",
       "      <td>0.875890</td>\n",
       "    </tr>\n",
       "    <tr>\n",
       "      <th>14</th>\n",
       "      <td>0.950745</td>\n",
       "      <td>0.005154</td>\n",
       "      <td>0.084187</td>\n",
       "      <td>0.478148</td>\n",
       "      <td>0.212836</td>\n",
       "      <td>0.714347</td>\n",
       "      <td>0.664819</td>\n",
       "      <td>0.803558</td>\n",
       "      <td>0.465466</td>\n",
       "      <td>0.305692</td>\n",
       "      <td>1</td>\n",
       "      <td>1.015701</td>\n",
       "    </tr>\n",
       "    <tr>\n",
       "      <th>15</th>\n",
       "      <td>0.336346</td>\n",
       "      <td>0.252265</td>\n",
       "      <td>0.212287</td>\n",
       "      <td>0.020201</td>\n",
       "      <td>0.203514</td>\n",
       "      <td>0.534468</td>\n",
       "      <td>0.476263</td>\n",
       "      <td>0.845669</td>\n",
       "      <td>0.155377</td>\n",
       "      <td>0.442781</td>\n",
       "      <td>1</td>\n",
       "      <td>0.840946</td>\n",
       "    </tr>\n",
       "    <tr>\n",
       "      <th>17</th>\n",
       "      <td>0.741544</td>\n",
       "      <td>0.398253</td>\n",
       "      <td>0.766472</td>\n",
       "      <td>0.635670</td>\n",
       "      <td>0.261735</td>\n",
       "      <td>0.837371</td>\n",
       "      <td>0.001797</td>\n",
       "      <td>0.568841</td>\n",
       "      <td>0.037360</td>\n",
       "      <td>0.292769</td>\n",
       "      <td>1</td>\n",
       "      <td>0.874732</td>\n",
       "    </tr>\n",
       "    <tr>\n",
       "      <th>18</th>\n",
       "      <td>0.184433</td>\n",
       "      <td>0.174112</td>\n",
       "      <td>0.301976</td>\n",
       "      <td>0.895893</td>\n",
       "      <td>0.285614</td>\n",
       "      <td>0.615993</td>\n",
       "      <td>0.197073</td>\n",
       "      <td>0.738881</td>\n",
       "      <td>0.831371</td>\n",
       "      <td>0.265761</td>\n",
       "      <td>1</td>\n",
       "      <td>1.006507</td>\n",
       "    </tr>\n",
       "    <tr>\n",
       "      <th>20</th>\n",
       "      <td>0.162825</td>\n",
       "      <td>0.674069</td>\n",
       "      <td>0.705447</td>\n",
       "      <td>0.774799</td>\n",
       "      <td>0.894267</td>\n",
       "      <td>0.443057</td>\n",
       "      <td>0.399779</td>\n",
       "      <td>0.009136</td>\n",
       "      <td>0.941851</td>\n",
       "      <td>0.982711</td>\n",
       "      <td>1</td>\n",
       "      <td>1.029388</td>\n",
       "    </tr>\n",
       "    <tr>\n",
       "      <th>23</th>\n",
       "      <td>0.057884</td>\n",
       "      <td>0.227162</td>\n",
       "      <td>0.022494</td>\n",
       "      <td>0.167069</td>\n",
       "      <td>0.631315</td>\n",
       "      <td>0.610103</td>\n",
       "      <td>0.277753</td>\n",
       "      <td>0.728503</td>\n",
       "      <td>0.716414</td>\n",
       "      <td>0.973370</td>\n",
       "      <td>1</td>\n",
       "      <td>0.950323</td>\n",
       "    </tr>\n",
       "    <tr>\n",
       "      <th>24</th>\n",
       "      <td>0.445535</td>\n",
       "      <td>0.640881</td>\n",
       "      <td>0.689264</td>\n",
       "      <td>0.937542</td>\n",
       "      <td>0.037016</td>\n",
       "      <td>0.316847</td>\n",
       "      <td>0.972312</td>\n",
       "      <td>0.224585</td>\n",
       "      <td>0.393000</td>\n",
       "      <td>0.857239</td>\n",
       "      <td>1</td>\n",
       "      <td>0.876206</td>\n",
       "    </tr>\n",
       "    <tr>\n",
       "      <th>25</th>\n",
       "      <td>0.801837</td>\n",
       "      <td>0.272857</td>\n",
       "      <td>0.109206</td>\n",
       "      <td>0.922978</td>\n",
       "      <td>0.656014</td>\n",
       "      <td>0.376589</td>\n",
       "      <td>0.735547</td>\n",
       "      <td>0.302567</td>\n",
       "      <td>0.988732</td>\n",
       "      <td>0.847391</td>\n",
       "      <td>1</td>\n",
       "      <td>0.888021</td>\n",
       "    </tr>\n",
       "    <tr>\n",
       "      <th>28</th>\n",
       "      <td>0.834861</td>\n",
       "      <td>0.973891</td>\n",
       "      <td>0.808398</td>\n",
       "      <td>0.222828</td>\n",
       "      <td>0.018934</td>\n",
       "      <td>0.708188</td>\n",
       "      <td>0.986392</td>\n",
       "      <td>0.545479</td>\n",
       "      <td>0.235898</td>\n",
       "      <td>0.844788</td>\n",
       "      <td>1</td>\n",
       "      <td>1.112372</td>\n",
       "    </tr>\n",
       "    <tr>\n",
       "      <th>29</th>\n",
       "      <td>0.669767</td>\n",
       "      <td>0.694779</td>\n",
       "      <td>0.191048</td>\n",
       "      <td>0.080716</td>\n",
       "      <td>0.441480</td>\n",
       "      <td>0.115675</td>\n",
       "      <td>0.054466</td>\n",
       "      <td>0.949300</td>\n",
       "      <td>0.318667</td>\n",
       "      <td>0.410017</td>\n",
       "      <td>1</td>\n",
       "      <td>0.910229</td>\n",
       "    </tr>\n",
       "    <tr>\n",
       "      <th>32</th>\n",
       "      <td>0.510288</td>\n",
       "      <td>0.488385</td>\n",
       "      <td>0.598078</td>\n",
       "      <td>0.735532</td>\n",
       "      <td>0.959889</td>\n",
       "      <td>0.210081</td>\n",
       "      <td>0.719419</td>\n",
       "      <td>0.578130</td>\n",
       "      <td>0.890495</td>\n",
       "      <td>0.959144</td>\n",
       "      <td>1</td>\n",
       "      <td>0.885732</td>\n",
       "    </tr>\n",
       "    <tr>\n",
       "      <th>33</th>\n",
       "      <td>0.977562</td>\n",
       "      <td>0.125559</td>\n",
       "      <td>0.377839</td>\n",
       "      <td>0.195111</td>\n",
       "      <td>0.088484</td>\n",
       "      <td>0.644188</td>\n",
       "      <td>0.277623</td>\n",
       "      <td>0.741173</td>\n",
       "      <td>0.772889</td>\n",
       "      <td>0.780929</td>\n",
       "      <td>1</td>\n",
       "      <td>0.922385</td>\n",
       "    </tr>\n",
       "    <tr>\n",
       "      <th>36</th>\n",
       "      <td>0.613702</td>\n",
       "      <td>0.533526</td>\n",
       "      <td>0.200634</td>\n",
       "      <td>0.090364</td>\n",
       "      <td>0.612606</td>\n",
       "      <td>0.306219</td>\n",
       "      <td>0.600071</td>\n",
       "      <td>0.410896</td>\n",
       "      <td>0.116348</td>\n",
       "      <td>0.288307</td>\n",
       "      <td>1</td>\n",
       "      <td>0.855318</td>\n",
       "    </tr>\n",
       "    <tr>\n",
       "      <th>43</th>\n",
       "      <td>0.178173</td>\n",
       "      <td>0.304310</td>\n",
       "      <td>0.028749</td>\n",
       "      <td>0.800844</td>\n",
       "      <td>0.161153</td>\n",
       "      <td>0.874650</td>\n",
       "      <td>0.984053</td>\n",
       "      <td>0.205747</td>\n",
       "      <td>0.029727</td>\n",
       "      <td>0.842088</td>\n",
       "      <td>1</td>\n",
       "      <td>1.076218</td>\n",
       "    </tr>\n",
       "    <tr>\n",
       "      <th>46</th>\n",
       "      <td>0.817491</td>\n",
       "      <td>0.647528</td>\n",
       "      <td>0.046214</td>\n",
       "      <td>0.487270</td>\n",
       "      <td>0.053872</td>\n",
       "      <td>0.817499</td>\n",
       "      <td>0.390589</td>\n",
       "      <td>0.394750</td>\n",
       "      <td>0.736854</td>\n",
       "      <td>0.442689</td>\n",
       "      <td>1</td>\n",
       "      <td>0.915566</td>\n",
       "    </tr>\n",
       "    <tr>\n",
       "      <th>51</th>\n",
       "      <td>0.544329</td>\n",
       "      <td>0.042685</td>\n",
       "      <td>0.653127</td>\n",
       "      <td>0.959081</td>\n",
       "      <td>0.211368</td>\n",
       "      <td>0.973765</td>\n",
       "      <td>0.303781</td>\n",
       "      <td>0.487732</td>\n",
       "      <td>0.971283</td>\n",
       "      <td>0.301297</td>\n",
       "      <td>1</td>\n",
       "      <td>1.083284</td>\n",
       "    </tr>\n",
       "    <tr>\n",
       "      <th>53</th>\n",
       "      <td>0.273081</td>\n",
       "      <td>0.097663</td>\n",
       "      <td>0.491502</td>\n",
       "      <td>0.065955</td>\n",
       "      <td>0.087729</td>\n",
       "      <td>0.727528</td>\n",
       "      <td>0.004372</td>\n",
       "      <td>0.903040</td>\n",
       "      <td>0.254568</td>\n",
       "      <td>0.402991</td>\n",
       "      <td>1</td>\n",
       "      <td>0.966522</td>\n",
       "    </tr>\n",
       "    <tr>\n",
       "      <th>55</th>\n",
       "      <td>0.349621</td>\n",
       "      <td>0.217426</td>\n",
       "      <td>0.703498</td>\n",
       "      <td>0.925354</td>\n",
       "      <td>0.634280</td>\n",
       "      <td>0.226301</td>\n",
       "      <td>0.067452</td>\n",
       "      <td>0.355699</td>\n",
       "      <td>0.962699</td>\n",
       "      <td>0.168724</td>\n",
       "      <td>1</td>\n",
       "      <td>1.032064</td>\n",
       "    </tr>\n",
       "    <tr>\n",
       "      <th>56</th>\n",
       "      <td>0.214550</td>\n",
       "      <td>0.567478</td>\n",
       "      <td>0.559684</td>\n",
       "      <td>0.535956</td>\n",
       "      <td>0.904327</td>\n",
       "      <td>0.005931</td>\n",
       "      <td>0.156257</td>\n",
       "      <td>0.515366</td>\n",
       "      <td>0.566043</td>\n",
       "      <td>0.498918</td>\n",
       "      <td>1</td>\n",
       "      <td>0.849692</td>\n",
       "    </tr>\n",
       "    <tr>\n",
       "      <th>59</th>\n",
       "      <td>0.981709</td>\n",
       "      <td>0.253236</td>\n",
       "      <td>0.695971</td>\n",
       "      <td>0.918359</td>\n",
       "      <td>0.108317</td>\n",
       "      <td>0.656997</td>\n",
       "      <td>0.806218</td>\n",
       "      <td>0.924069</td>\n",
       "      <td>0.916568</td>\n",
       "      <td>0.406505</td>\n",
       "      <td>1</td>\n",
       "      <td>1.046301</td>\n",
       "    </tr>\n",
       "    <tr>\n",
       "      <th>63</th>\n",
       "      <td>0.837803</td>\n",
       "      <td>0.793079</td>\n",
       "      <td>0.003605</td>\n",
       "      <td>0.165423</td>\n",
       "      <td>0.170273</td>\n",
       "      <td>0.374682</td>\n",
       "      <td>0.514763</td>\n",
       "      <td>0.185381</td>\n",
       "      <td>0.079298</td>\n",
       "      <td>0.954650</td>\n",
       "      <td>1</td>\n",
       "      <td>0.874445</td>\n",
       "    </tr>\n",
       "    <tr>\n",
       "      <th>65</th>\n",
       "      <td>0.291404</td>\n",
       "      <td>0.436354</td>\n",
       "      <td>0.345926</td>\n",
       "      <td>0.328096</td>\n",
       "      <td>0.117581</td>\n",
       "      <td>0.997211</td>\n",
       "      <td>0.528922</td>\n",
       "      <td>0.414090</td>\n",
       "      <td>0.646658</td>\n",
       "      <td>0.277670</td>\n",
       "      <td>1</td>\n",
       "      <td>0.962786</td>\n",
       "    </tr>\n",
       "    <tr>\n",
       "      <th>239</th>\n",
       "      <td>0.091210</td>\n",
       "      <td>0.665928</td>\n",
       "      <td>0.291810</td>\n",
       "      <td>0.945471</td>\n",
       "      <td>0.085347</td>\n",
       "      <td>0.058494</td>\n",
       "      <td>0.819760</td>\n",
       "      <td>0.492585</td>\n",
       "      <td>0.827875</td>\n",
       "      <td>0.161014</td>\n",
       "      <td>1</td>\n",
       "      <td>0.903570</td>\n",
       "    </tr>\n",
       "    <tr>\n",
       "      <th>273</th>\n",
       "      <td>0.468363</td>\n",
       "      <td>0.955323</td>\n",
       "      <td>0.212785</td>\n",
       "      <td>0.879816</td>\n",
       "      <td>0.135284</td>\n",
       "      <td>0.078491</td>\n",
       "      <td>0.857584</td>\n",
       "      <td>0.614380</td>\n",
       "      <td>0.790753</td>\n",
       "      <td>0.280689</td>\n",
       "      <td>1</td>\n",
       "      <td>0.900975</td>\n",
       "    </tr>\n",
       "    <tr>\n",
       "      <th>281</th>\n",
       "      <td>0.624242</td>\n",
       "      <td>0.918960</td>\n",
       "      <td>0.268433</td>\n",
       "      <td>0.897360</td>\n",
       "      <td>0.203061</td>\n",
       "      <td>0.116696</td>\n",
       "      <td>0.855820</td>\n",
       "      <td>0.599879</td>\n",
       "      <td>0.798483</td>\n",
       "      <td>0.263137</td>\n",
       "      <td>1</td>\n",
       "      <td>0.872339</td>\n",
       "    </tr>\n",
       "    <tr>\n",
       "      <th>313</th>\n",
       "      <td>0.204932</td>\n",
       "      <td>0.818071</td>\n",
       "      <td>0.270969</td>\n",
       "      <td>0.871795</td>\n",
       "      <td>0.132823</td>\n",
       "      <td>0.146509</td>\n",
       "      <td>0.879894</td>\n",
       "      <td>0.548798</td>\n",
       "      <td>0.862308</td>\n",
       "      <td>0.164798</td>\n",
       "      <td>1</td>\n",
       "      <td>0.871417</td>\n",
       "    </tr>\n",
       "    <tr>\n",
       "      <th>523</th>\n",
       "      <td>0.902588</td>\n",
       "      <td>0.751362</td>\n",
       "      <td>0.002002</td>\n",
       "      <td>0.377471</td>\n",
       "      <td>0.052491</td>\n",
       "      <td>0.122550</td>\n",
       "      <td>0.854821</td>\n",
       "      <td>0.757885</td>\n",
       "      <td>0.689827</td>\n",
       "      <td>0.478754</td>\n",
       "      <td>1</td>\n",
       "      <td>0.878003</td>\n",
       "    </tr>\n",
       "    <tr>\n",
       "      <th>602</th>\n",
       "      <td>0.685463</td>\n",
       "      <td>0.881432</td>\n",
       "      <td>0.224920</td>\n",
       "      <td>0.859908</td>\n",
       "      <td>0.049718</td>\n",
       "      <td>0.073216</td>\n",
       "      <td>0.440065</td>\n",
       "      <td>0.926105</td>\n",
       "      <td>0.235349</td>\n",
       "      <td>0.907032</td>\n",
       "      <td>1</td>\n",
       "      <td>0.870902</td>\n",
       "    </tr>\n",
       "    <tr>\n",
       "      <th>680</th>\n",
       "      <td>0.880202</td>\n",
       "      <td>0.322195</td>\n",
       "      <td>0.134339</td>\n",
       "      <td>0.701062</td>\n",
       "      <td>0.189960</td>\n",
       "      <td>0.000000</td>\n",
       "      <td>0.893726</td>\n",
       "      <td>0.514424</td>\n",
       "      <td>0.902397</td>\n",
       "      <td>0.101477</td>\n",
       "      <td>1</td>\n",
       "      <td>0.863072</td>\n",
       "    </tr>\n",
       "    <tr>\n",
       "      <th>700</th>\n",
       "      <td>0.539521</td>\n",
       "      <td>0.006844</td>\n",
       "      <td>0.379683</td>\n",
       "      <td>0.915896</td>\n",
       "      <td>0.708540</td>\n",
       "      <td>0.606755</td>\n",
       "      <td>0.504256</td>\n",
       "      <td>0.941473</td>\n",
       "      <td>0.019866</td>\n",
       "      <td>0.092027</td>\n",
       "      <td>1</td>\n",
       "      <td>0.993982</td>\n",
       "    </tr>\n",
       "    <tr>\n",
       "      <th>703</th>\n",
       "      <td>0.676398</td>\n",
       "      <td>0.514887</td>\n",
       "      <td>0.895753</td>\n",
       "      <td>0.176415</td>\n",
       "      <td>0.214757</td>\n",
       "      <td>0.741506</td>\n",
       "      <td>0.894564</td>\n",
       "      <td>0.148374</td>\n",
       "      <td>0.122150</td>\n",
       "      <td>0.967965</td>\n",
       "      <td>1</td>\n",
       "      <td>0.970626</td>\n",
       "    </tr>\n",
       "    <tr>\n",
       "      <th>707</th>\n",
       "      <td>0.187487</td>\n",
       "      <td>0.057446</td>\n",
       "      <td>0.369339</td>\n",
       "      <td>0.559828</td>\n",
       "      <td>0.014315</td>\n",
       "      <td>0.325849</td>\n",
       "      <td>0.369230</td>\n",
       "      <td>0.617411</td>\n",
       "      <td>0.944126</td>\n",
       "      <td>0.770444</td>\n",
       "      <td>1</td>\n",
       "      <td>0.939512</td>\n",
       "    </tr>\n",
       "    <tr>\n",
       "      <th>708</th>\n",
       "      <td>0.052790</td>\n",
       "      <td>0.566393</td>\n",
       "      <td>0.285096</td>\n",
       "      <td>0.795340</td>\n",
       "      <td>0.523658</td>\n",
       "      <td>0.964553</td>\n",
       "      <td>0.789691</td>\n",
       "      <td>0.944700</td>\n",
       "      <td>0.062553</td>\n",
       "      <td>0.179371</td>\n",
       "      <td>1</td>\n",
       "      <td>0.911233</td>\n",
       "    </tr>\n",
       "    <tr>\n",
       "      <th>710</th>\n",
       "      <td>0.927432</td>\n",
       "      <td>0.088497</td>\n",
       "      <td>0.251848</td>\n",
       "      <td>0.243690</td>\n",
       "      <td>0.120432</td>\n",
       "      <td>0.756917</td>\n",
       "      <td>0.521119</td>\n",
       "      <td>0.130158</td>\n",
       "      <td>0.747129</td>\n",
       "      <td>0.508585</td>\n",
       "      <td>1</td>\n",
       "      <td>0.958862</td>\n",
       "    </tr>\n",
       "    <tr>\n",
       "      <th>712</th>\n",
       "      <td>0.882822</td>\n",
       "      <td>0.517934</td>\n",
       "      <td>0.615919</td>\n",
       "      <td>0.543449</td>\n",
       "      <td>0.662865</td>\n",
       "      <td>0.755802</td>\n",
       "      <td>0.872439</td>\n",
       "      <td>0.006749</td>\n",
       "      <td>0.263889</td>\n",
       "      <td>0.135646</td>\n",
       "      <td>1</td>\n",
       "      <td>0.892042</td>\n",
       "    </tr>\n",
       "    <tr>\n",
       "      <th>713</th>\n",
       "      <td>0.495705</td>\n",
       "      <td>0.063449</td>\n",
       "      <td>0.054014</td>\n",
       "      <td>0.832054</td>\n",
       "      <td>0.790832</td>\n",
       "      <td>0.229366</td>\n",
       "      <td>0.425390</td>\n",
       "      <td>0.050938</td>\n",
       "      <td>0.725988</td>\n",
       "      <td>0.942197</td>\n",
       "      <td>1</td>\n",
       "      <td>0.945329</td>\n",
       "    </tr>\n",
       "    <tr>\n",
       "      <th>714</th>\n",
       "      <td>0.596240</td>\n",
       "      <td>0.831280</td>\n",
       "      <td>0.971486</td>\n",
       "      <td>0.855184</td>\n",
       "      <td>0.740933</td>\n",
       "      <td>0.587899</td>\n",
       "      <td>0.423772</td>\n",
       "      <td>0.498499</td>\n",
       "      <td>0.842255</td>\n",
       "      <td>0.292482</td>\n",
       "      <td>1</td>\n",
       "      <td>0.843193</td>\n",
       "    </tr>\n",
       "    <tr>\n",
       "      <th>717</th>\n",
       "      <td>0.159682</td>\n",
       "      <td>0.825127</td>\n",
       "      <td>0.716445</td>\n",
       "      <td>0.069445</td>\n",
       "      <td>0.032148</td>\n",
       "      <td>0.654702</td>\n",
       "      <td>0.028203</td>\n",
       "      <td>0.886761</td>\n",
       "      <td>0.165482</td>\n",
       "      <td>0.116204</td>\n",
       "      <td>1</td>\n",
       "      <td>1.011520</td>\n",
       "    </tr>\n",
       "    <tr>\n",
       "      <th>718</th>\n",
       "      <td>0.318134</td>\n",
       "      <td>0.984550</td>\n",
       "      <td>0.858386</td>\n",
       "      <td>0.872008</td>\n",
       "      <td>0.950152</td>\n",
       "      <td>0.298551</td>\n",
       "      <td>0.275030</td>\n",
       "      <td>0.207604</td>\n",
       "      <td>0.855490</td>\n",
       "      <td>0.191021</td>\n",
       "      <td>1</td>\n",
       "      <td>1.029274</td>\n",
       "    </tr>\n",
       "    <tr>\n",
       "      <th>720</th>\n",
       "      <td>0.064359</td>\n",
       "      <td>0.129525</td>\n",
       "      <td>0.183766</td>\n",
       "      <td>0.860040</td>\n",
       "      <td>0.254505</td>\n",
       "      <td>0.440920</td>\n",
       "      <td>0.089274</td>\n",
       "      <td>0.941902</td>\n",
       "      <td>0.904978</td>\n",
       "      <td>0.215016</td>\n",
       "      <td>1</td>\n",
       "      <td>1.169854</td>\n",
       "    </tr>\n",
       "    <tr>\n",
       "      <th>722</th>\n",
       "      <td>0.776252</td>\n",
       "      <td>0.416737</td>\n",
       "      <td>0.155131</td>\n",
       "      <td>0.556724</td>\n",
       "      <td>0.937436</td>\n",
       "      <td>0.091686</td>\n",
       "      <td>0.689603</td>\n",
       "      <td>0.064191</td>\n",
       "      <td>0.119276</td>\n",
       "      <td>0.985357</td>\n",
       "      <td>1</td>\n",
       "      <td>0.988065</td>\n",
       "    </tr>\n",
       "    <tr>\n",
       "      <th>723</th>\n",
       "      <td>0.635843</td>\n",
       "      <td>0.236965</td>\n",
       "      <td>0.504282</td>\n",
       "      <td>0.855775</td>\n",
       "      <td>0.239229</td>\n",
       "      <td>0.782783</td>\n",
       "      <td>0.386076</td>\n",
       "      <td>0.063988</td>\n",
       "      <td>0.767963</td>\n",
       "      <td>0.093871</td>\n",
       "      <td>1</td>\n",
       "      <td>0.960289</td>\n",
       "    </tr>\n",
       "    <tr>\n",
       "      <th>724</th>\n",
       "      <td>0.625105</td>\n",
       "      <td>0.873683</td>\n",
       "      <td>0.184258</td>\n",
       "      <td>0.907081</td>\n",
       "      <td>0.086882</td>\n",
       "      <td>0.856332</td>\n",
       "      <td>0.040426</td>\n",
       "      <td>0.755437</td>\n",
       "      <td>0.161329</td>\n",
       "      <td>0.748238</td>\n",
       "      <td>1</td>\n",
       "      <td>0.970329</td>\n",
       "    </tr>\n",
       "    <tr>\n",
       "      <th>743</th>\n",
       "      <td>0.281576</td>\n",
       "      <td>0.400546</td>\n",
       "      <td>0.310430</td>\n",
       "      <td>0.922162</td>\n",
       "      <td>0.125541</td>\n",
       "      <td>0.042865</td>\n",
       "      <td>0.406634</td>\n",
       "      <td>0.895068</td>\n",
       "      <td>0.227634</td>\n",
       "      <td>0.906307</td>\n",
       "      <td>1</td>\n",
       "      <td>0.833115</td>\n",
       "    </tr>\n",
       "    <tr>\n",
       "      <th>821</th>\n",
       "      <td>0.297878</td>\n",
       "      <td>0.900762</td>\n",
       "      <td>0.314656</td>\n",
       "      <td>0.820577</td>\n",
       "      <td>0.229522</td>\n",
       "      <td>0.134788</td>\n",
       "      <td>0.875230</td>\n",
       "      <td>0.484171</td>\n",
       "      <td>0.900622</td>\n",
       "      <td>0.082721</td>\n",
       "      <td>1</td>\n",
       "      <td>0.857582</td>\n",
       "    </tr>\n",
       "  </tbody>\n",
       "</table>\n",
       "</div>"
      ],
      "text/plain": [
       "         Col1      Col2      Col3      Col4      Col5      Col6      Col7  \\\n",
       "2    0.336714  0.538842  0.192801  0.553563  0.074515  0.332993  0.365792   \n",
       "3    0.092108  0.995017  0.014465  0.176371  0.241530  0.514724  0.562208   \n",
       "8    0.197078  0.843918  0.243396  0.281278  0.329148  0.734582  0.191947   \n",
       "9    0.292985  0.703432  0.439621  0.107868  0.922947  0.253458  0.295652   \n",
       "11   0.796623  0.230543  0.993018  0.077075  0.094068  0.718628  0.977611   \n",
       "14   0.950745  0.005154  0.084187  0.478148  0.212836  0.714347  0.664819   \n",
       "15   0.336346  0.252265  0.212287  0.020201  0.203514  0.534468  0.476263   \n",
       "17   0.741544  0.398253  0.766472  0.635670  0.261735  0.837371  0.001797   \n",
       "18   0.184433  0.174112  0.301976  0.895893  0.285614  0.615993  0.197073   \n",
       "20   0.162825  0.674069  0.705447  0.774799  0.894267  0.443057  0.399779   \n",
       "23   0.057884  0.227162  0.022494  0.167069  0.631315  0.610103  0.277753   \n",
       "24   0.445535  0.640881  0.689264  0.937542  0.037016  0.316847  0.972312   \n",
       "25   0.801837  0.272857  0.109206  0.922978  0.656014  0.376589  0.735547   \n",
       "28   0.834861  0.973891  0.808398  0.222828  0.018934  0.708188  0.986392   \n",
       "29   0.669767  0.694779  0.191048  0.080716  0.441480  0.115675  0.054466   \n",
       "32   0.510288  0.488385  0.598078  0.735532  0.959889  0.210081  0.719419   \n",
       "33   0.977562  0.125559  0.377839  0.195111  0.088484  0.644188  0.277623   \n",
       "36   0.613702  0.533526  0.200634  0.090364  0.612606  0.306219  0.600071   \n",
       "43   0.178173  0.304310  0.028749  0.800844  0.161153  0.874650  0.984053   \n",
       "46   0.817491  0.647528  0.046214  0.487270  0.053872  0.817499  0.390589   \n",
       "51   0.544329  0.042685  0.653127  0.959081  0.211368  0.973765  0.303781   \n",
       "53   0.273081  0.097663  0.491502  0.065955  0.087729  0.727528  0.004372   \n",
       "55   0.349621  0.217426  0.703498  0.925354  0.634280  0.226301  0.067452   \n",
       "56   0.214550  0.567478  0.559684  0.535956  0.904327  0.005931  0.156257   \n",
       "59   0.981709  0.253236  0.695971  0.918359  0.108317  0.656997  0.806218   \n",
       "63   0.837803  0.793079  0.003605  0.165423  0.170273  0.374682  0.514763   \n",
       "65   0.291404  0.436354  0.345926  0.328096  0.117581  0.997211  0.528922   \n",
       "239  0.091210  0.665928  0.291810  0.945471  0.085347  0.058494  0.819760   \n",
       "273  0.468363  0.955323  0.212785  0.879816  0.135284  0.078491  0.857584   \n",
       "281  0.624242  0.918960  0.268433  0.897360  0.203061  0.116696  0.855820   \n",
       "313  0.204932  0.818071  0.270969  0.871795  0.132823  0.146509  0.879894   \n",
       "523  0.902588  0.751362  0.002002  0.377471  0.052491  0.122550  0.854821   \n",
       "602  0.685463  0.881432  0.224920  0.859908  0.049718  0.073216  0.440065   \n",
       "680  0.880202  0.322195  0.134339  0.701062  0.189960  0.000000  0.893726   \n",
       "700  0.539521  0.006844  0.379683  0.915896  0.708540  0.606755  0.504256   \n",
       "703  0.676398  0.514887  0.895753  0.176415  0.214757  0.741506  0.894564   \n",
       "707  0.187487  0.057446  0.369339  0.559828  0.014315  0.325849  0.369230   \n",
       "708  0.052790  0.566393  0.285096  0.795340  0.523658  0.964553  0.789691   \n",
       "710  0.927432  0.088497  0.251848  0.243690  0.120432  0.756917  0.521119   \n",
       "712  0.882822  0.517934  0.615919  0.543449  0.662865  0.755802  0.872439   \n",
       "713  0.495705  0.063449  0.054014  0.832054  0.790832  0.229366  0.425390   \n",
       "714  0.596240  0.831280  0.971486  0.855184  0.740933  0.587899  0.423772   \n",
       "717  0.159682  0.825127  0.716445  0.069445  0.032148  0.654702  0.028203   \n",
       "718  0.318134  0.984550  0.858386  0.872008  0.950152  0.298551  0.275030   \n",
       "720  0.064359  0.129525  0.183766  0.860040  0.254505  0.440920  0.089274   \n",
       "722  0.776252  0.416737  0.155131  0.556724  0.937436  0.091686  0.689603   \n",
       "723  0.635843  0.236965  0.504282  0.855775  0.239229  0.782783  0.386076   \n",
       "724  0.625105  0.873683  0.184258  0.907081  0.086882  0.856332  0.040426   \n",
       "743  0.281576  0.400546  0.310430  0.922162  0.125541  0.042865  0.406634   \n",
       "821  0.297878  0.900762  0.314656  0.820577  0.229522  0.134788  0.875230   \n",
       "\n",
       "         Col8      Col9     Col10  Label     Score  \n",
       "2    0.861309  0.899017  0.088600      1  0.875902  \n",
       "3    0.158963  0.073715  0.208463      1  1.011624  \n",
       "8    0.927804  0.713269  0.891548      1  0.944945  \n",
       "9    0.355287  0.980911  0.308864      1  0.883354  \n",
       "11   0.333386  0.634843  0.028729      1  0.875890  \n",
       "14   0.803558  0.465466  0.305692      1  1.015701  \n",
       "15   0.845669  0.155377  0.442781      1  0.840946  \n",
       "17   0.568841  0.037360  0.292769      1  0.874732  \n",
       "18   0.738881  0.831371  0.265761      1  1.006507  \n",
       "20   0.009136  0.941851  0.982711      1  1.029388  \n",
       "23   0.728503  0.716414  0.973370      1  0.950323  \n",
       "24   0.224585  0.393000  0.857239      1  0.876206  \n",
       "25   0.302567  0.988732  0.847391      1  0.888021  \n",
       "28   0.545479  0.235898  0.844788      1  1.112372  \n",
       "29   0.949300  0.318667  0.410017      1  0.910229  \n",
       "32   0.578130  0.890495  0.959144      1  0.885732  \n",
       "33   0.741173  0.772889  0.780929      1  0.922385  \n",
       "36   0.410896  0.116348  0.288307      1  0.855318  \n",
       "43   0.205747  0.029727  0.842088      1  1.076218  \n",
       "46   0.394750  0.736854  0.442689      1  0.915566  \n",
       "51   0.487732  0.971283  0.301297      1  1.083284  \n",
       "53   0.903040  0.254568  0.402991      1  0.966522  \n",
       "55   0.355699  0.962699  0.168724      1  1.032064  \n",
       "56   0.515366  0.566043  0.498918      1  0.849692  \n",
       "59   0.924069  0.916568  0.406505      1  1.046301  \n",
       "63   0.185381  0.079298  0.954650      1  0.874445  \n",
       "65   0.414090  0.646658  0.277670      1  0.962786  \n",
       "239  0.492585  0.827875  0.161014      1  0.903570  \n",
       "273  0.614380  0.790753  0.280689      1  0.900975  \n",
       "281  0.599879  0.798483  0.263137      1  0.872339  \n",
       "313  0.548798  0.862308  0.164798      1  0.871417  \n",
       "523  0.757885  0.689827  0.478754      1  0.878003  \n",
       "602  0.926105  0.235349  0.907032      1  0.870902  \n",
       "680  0.514424  0.902397  0.101477      1  0.863072  \n",
       "700  0.941473  0.019866  0.092027      1  0.993982  \n",
       "703  0.148374  0.122150  0.967965      1  0.970626  \n",
       "707  0.617411  0.944126  0.770444      1  0.939512  \n",
       "708  0.944700  0.062553  0.179371      1  0.911233  \n",
       "710  0.130158  0.747129  0.508585      1  0.958862  \n",
       "712  0.006749  0.263889  0.135646      1  0.892042  \n",
       "713  0.050938  0.725988  0.942197      1  0.945329  \n",
       "714  0.498499  0.842255  0.292482      1  0.843193  \n",
       "717  0.886761  0.165482  0.116204      1  1.011520  \n",
       "718  0.207604  0.855490  0.191021      1  1.029274  \n",
       "720  0.941902  0.904978  0.215016      1  1.169854  \n",
       "722  0.064191  0.119276  0.985357      1  0.988065  \n",
       "723  0.063988  0.767963  0.093871      1  0.960289  \n",
       "724  0.755437  0.161329  0.748238      1  0.970329  \n",
       "743  0.895068  0.227634  0.906307      1  0.833115  \n",
       "821  0.484171  0.900622  0.082721      1  0.857582  "
      ]
     },
     "execution_count": 13,
     "metadata": {},
     "output_type": "execute_result"
    }
   ],
   "source": [
    "# checking cluster anomaly rows\n",
    "cluster_anomaly_rows = cluster_predictions[cluster_predictions[\"Label\"] == 1]\n",
    "cluster_anomaly_rows"
   ]
  },
  {
   "cell_type": "code",
   "execution_count": 14,
   "metadata": {},
   "outputs": [
    {
     "data": {
      "text/plain": [
       "(50, 12)"
      ]
     },
     "execution_count": 14,
     "metadata": {},
     "output_type": "execute_result"
    }
   ],
   "source": [
    "# checking the number of anomaly rows returned by clustering\n",
    "cluster_anomaly_rows.shape   # returned 50 rows  "
   ]
  },
  {
   "cell_type": "code",
   "execution_count": null,
   "metadata": {},
   "outputs": [],
   "source": []
  }
 ],
 "metadata": {
  "kernelspec": {
   "display_name": "pycaret1",
   "language": "python",
   "name": "pycaret1"
  },
  "language_info": {
   "codemirror_mode": {
    "name": "ipython",
    "version": 3
   },
   "file_extension": ".py",
   "mimetype": "text/x-python",
   "name": "python",
   "nbconvert_exporter": "python",
   "pygments_lexer": "ipython3",
   "version": "3.7.5"
  }
 },
 "nbformat": 4,
 "nbformat_minor": 2
}
